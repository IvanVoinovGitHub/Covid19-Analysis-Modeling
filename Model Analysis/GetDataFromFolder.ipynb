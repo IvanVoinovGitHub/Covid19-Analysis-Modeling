{
  "nbformat": 4,
  "nbformat_minor": 0,
  "metadata": {
    "colab": {
      "name": "GetDataFromFolder.ipynb",
      "provenance": []
    },
    "kernelspec": {
      "name": "python3",
      "display_name": "Python 3"
    },
    "language_info": {
      "name": "python"
    }
  },
  "cells": [
    {
      "cell_type": "code",
      "execution_count": null,
      "metadata": {
        "id": "ULFEkb5wsQWH"
      },
      "outputs": [],
      "source": [
        "import requests\n",
        "#Insert link to Github folder which houses CSV Data\n",
        "url = 'https://github.com/reichlab/covid19-forecast-hub/tree/master/data-processed/AIpert-pwllnod'\n",
        "download = requests.get(url).content\n",
        "\n",
        "csvStringList = []\n",
        "hrefStringList = []\n",
        "urlExtension = []\n",
        "rawUrls = []\n",
        "tempList = []\n",
        "urlExtensionwoutblob = []\n",
        "urlBeginning = 'https://raw.githubusercontent.com'\n",
        "\n",
        "urlStringList = str(requests.get(url).text).split(\" \")\n",
        "for i in urlStringList:\n",
        "  if \"csv\" in i:\n",
        "    csvStringList.append(i)\n",
        "\n",
        "for i in csvStringList:\n",
        "  if \"href\" in i and \"/reichlab/covid19-forecast-hub/blob/master/data-processed/\" in i:\n",
        "    hrefStringList.append(i)\n",
        "\n",
        "for i in hrefStringList:\n",
        "  tempList1 = i.split(\"\\\"\")\n",
        "  for x in tempList1:\n",
        "    if \"/reichlab/covid19-forecast-hub/blob/master/data-processed/\" in x:\n",
        "      urlExtension.append(x)\n",
        "\n",
        "for i in urlExtension:\n",
        "  newString = \"\"\n",
        "  tempList = []\n",
        "  temp = i.split(\"/\")\n",
        "  for x in temp:\n",
        "    if \"blob\" not in x:\n",
        "      tempList.append(x)\n",
        "  for j in range(1, len(tempList)):\n",
        "    newString += \"/\" + tempList[j]\n",
        "  urlExtensionwoutblob.append(newString)\n",
        "\n",
        "\n",
        "for i in urlExtensionwoutblob:\n",
        "  finalUrl = urlBeginning + i\n",
        "  rawUrls.append(finalUrl)"
      ]
    },
    {
      "cell_type": "code",
      "source": [
        "print(rawUrls)"
      ],
      "metadata": {
        "colab": {
          "base_uri": "https://localhost:8080/"
        },
        "id": "J3XwIIKZsYew",
        "outputId": "4b940e0f-03d6-46f5-fd59-cfcd849b1c28"
      },
      "execution_count": null,
      "outputs": [
        {
          "output_type": "stream",
          "name": "stdout",
          "text": [
            "['https://raw.githubusercontent.com/reichlab/covid19-forecast-hub/master/data-processed/AIpert-pwllnod/2020-12-21-AIpert-pwllnod.csv', 'https://raw.githubusercontent.com/reichlab/covid19-forecast-hub/master/data-processed/AIpert-pwllnod/2020-12-28-AIpert-pwllnod.csv', 'https://raw.githubusercontent.com/reichlab/covid19-forecast-hub/master/data-processed/AIpert-pwllnod/2021-01-04-AIpert-pwllnod.csv', 'https://raw.githubusercontent.com/reichlab/covid19-forecast-hub/master/data-processed/AIpert-pwllnod/2021-01-11-AIpert-pwllnod.csv', 'https://raw.githubusercontent.com/reichlab/covid19-forecast-hub/master/data-processed/AIpert-pwllnod/2021-01-18-AIpert-pwllnod.csv', 'https://raw.githubusercontent.com/reichlab/covid19-forecast-hub/master/data-processed/AIpert-pwllnod/2021-01-25-AIpert-pwllnod.csv', 'https://raw.githubusercontent.com/reichlab/covid19-forecast-hub/master/data-processed/AIpert-pwllnod/2021-02-01-AIpert-pwllnod.csv', 'https://raw.githubusercontent.com/reichlab/covid19-forecast-hub/master/data-processed/AIpert-pwllnod/2021-02-08-AIpert-pwllnod.csv', 'https://raw.githubusercontent.com/reichlab/covid19-forecast-hub/master/data-processed/AIpert-pwllnod/2021-02-15-AIpert-pwllnod.csv', 'https://raw.githubusercontent.com/reichlab/covid19-forecast-hub/master/data-processed/AIpert-pwllnod/2021-02-22-AIpert-pwllnod.csv', 'https://raw.githubusercontent.com/reichlab/covid19-forecast-hub/master/data-processed/AIpert-pwllnod/2021-03-01-AIpert-pwllnod.csv', 'https://raw.githubusercontent.com/reichlab/covid19-forecast-hub/master/data-processed/AIpert-pwllnod/2021-03-08-AIpert-pwllnod.csv', 'https://raw.githubusercontent.com/reichlab/covid19-forecast-hub/master/data-processed/AIpert-pwllnod/2021-03-15-AIpert-pwllnod.csv', 'https://raw.githubusercontent.com/reichlab/covid19-forecast-hub/master/data-processed/AIpert-pwllnod/2021-03-22-AIpert-pwllnod.csv', 'https://raw.githubusercontent.com/reichlab/covid19-forecast-hub/master/data-processed/AIpert-pwllnod/2021-03-29-AIpert-pwllnod.csv', 'https://raw.githubusercontent.com/reichlab/covid19-forecast-hub/master/data-processed/AIpert-pwllnod/2021-04-05-AIpert-pwllnod.csv', 'https://raw.githubusercontent.com/reichlab/covid19-forecast-hub/master/data-processed/AIpert-pwllnod/2021-04-12-AIpert-pwllnod.csv', 'https://raw.githubusercontent.com/reichlab/covid19-forecast-hub/master/data-processed/AIpert-pwllnod/2021-04-19-AIpert-pwllnod.csv', 'https://raw.githubusercontent.com/reichlab/covid19-forecast-hub/master/data-processed/AIpert-pwllnod/2021-04-26-AIpert-pwllnod.csv', 'https://raw.githubusercontent.com/reichlab/covid19-forecast-hub/master/data-processed/AIpert-pwllnod/2021-05-03-AIpert-pwllnod.csv', 'https://raw.githubusercontent.com/reichlab/covid19-forecast-hub/master/data-processed/AIpert-pwllnod/2021-05-10-AIpert-pwllnod.csv', 'https://raw.githubusercontent.com/reichlab/covid19-forecast-hub/master/data-processed/AIpert-pwllnod/2021-05-17-AIpert-pwllnod.csv', 'https://raw.githubusercontent.com/reichlab/covid19-forecast-hub/master/data-processed/AIpert-pwllnod/2021-05-24-AIpert-pwllnod.csv', 'https://raw.githubusercontent.com/reichlab/covid19-forecast-hub/master/data-processed/AIpert-pwllnod/2021-05-31-AIpert-pwllnod.csv', 'https://raw.githubusercontent.com/reichlab/covid19-forecast-hub/master/data-processed/AIpert-pwllnod/2021-06-07-AIpert-pwllnod.csv', 'https://raw.githubusercontent.com/reichlab/covid19-forecast-hub/master/data-processed/AIpert-pwllnod/2021-06-14-AIpert-pwllnod.csv', 'https://raw.githubusercontent.com/reichlab/covid19-forecast-hub/master/data-processed/AIpert-pwllnod/2021-06-21-AIpert-pwllnod.csv', 'https://raw.githubusercontent.com/reichlab/covid19-forecast-hub/master/data-processed/AIpert-pwllnod/2021-06-28-AIpert-pwllnod.csv', 'https://raw.githubusercontent.com/reichlab/covid19-forecast-hub/master/data-processed/AIpert-pwllnod/2021-07-05-AIpert-pwllnod.csv', 'https://raw.githubusercontent.com/reichlab/covid19-forecast-hub/master/data-processed/AIpert-pwllnod/2021-07-12-AIpert-pwllnod.csv', 'https://raw.githubusercontent.com/reichlab/covid19-forecast-hub/master/data-processed/AIpert-pwllnod/2021-07-19-AIpert-pwllnod.csv', 'https://raw.githubusercontent.com/reichlab/covid19-forecast-hub/master/data-processed/AIpert-pwllnod/2021-07-26-AIpert-pwllnod.csv', 'https://raw.githubusercontent.com/reichlab/covid19-forecast-hub/master/data-processed/AIpert-pwllnod/2021-08-02-AIpert-pwllnod.csv', 'https://raw.githubusercontent.com/reichlab/covid19-forecast-hub/master/data-processed/AIpert-pwllnod/2021-08-09-AIpert-pwllnod.csv', 'https://raw.githubusercontent.com/reichlab/covid19-forecast-hub/master/data-processed/AIpert-pwllnod/2021-08-15-AIpert-pwllnod.csv', 'https://raw.githubusercontent.com/reichlab/covid19-forecast-hub/master/data-processed/AIpert-pwllnod/2021-08-23-AIpert-pwllnod.csv', 'https://raw.githubusercontent.com/reichlab/covid19-forecast-hub/master/data-processed/AIpert-pwllnod/2021-08-30-AIpert-pwllnod.csv', 'https://raw.githubusercontent.com/reichlab/covid19-forecast-hub/master/data-processed/AIpert-pwllnod/2021-09-13-AIpert-pwllnod.csv', 'https://raw.githubusercontent.com/reichlab/covid19-forecast-hub/master/data-processed/AIpert-pwllnod/2021-09-20-AIpert-pwllnod.csv', 'https://raw.githubusercontent.com/reichlab/covid19-forecast-hub/master/data-processed/AIpert-pwllnod/2021-09-27-AIpert-pwllnod.csv', 'https://raw.githubusercontent.com/reichlab/covid19-forecast-hub/master/data-processed/AIpert-pwllnod/2021-10-04-AIpert-pwllnod.csv', 'https://raw.githubusercontent.com/reichlab/covid19-forecast-hub/master/data-processed/AIpert-pwllnod/2021-10-18-AIpert-pwllnod.csv', 'https://raw.githubusercontent.com/reichlab/covid19-forecast-hub/master/data-processed/AIpert-pwllnod/2021-10-25-AIpert-pwllnod.csv', 'https://raw.githubusercontent.com/reichlab/covid19-forecast-hub/master/data-processed/AIpert-pwllnod/2021-11-01-AIpert-pwllnod.csv', 'https://raw.githubusercontent.com/reichlab/covid19-forecast-hub/master/data-processed/AIpert-pwllnod/2021-11-08-AIpert-pwllnod.csv', 'https://raw.githubusercontent.com/reichlab/covid19-forecast-hub/master/data-processed/AIpert-pwllnod/2021-11-15-AIpert-pwllnod.csv', 'https://raw.githubusercontent.com/reichlab/covid19-forecast-hub/master/data-processed/AIpert-pwllnod/2021-11-22-AIpert-pwllnod.csv', 'https://raw.githubusercontent.com/reichlab/covid19-forecast-hub/master/data-processed/AIpert-pwllnod/2021-11-29-AIpert-pwllnod.csv', 'https://raw.githubusercontent.com/reichlab/covid19-forecast-hub/master/data-processed/AIpert-pwllnod/2021-12-06-AIpert-pwllnod.csv', 'https://raw.githubusercontent.com/reichlab/covid19-forecast-hub/master/data-processed/AIpert-pwllnod/2021-12-13-AIpert-pwllnod.csv', 'https://raw.githubusercontent.com/reichlab/covid19-forecast-hub/master/data-processed/AIpert-pwllnod/2021-12-19-AIpert-pwllnod.csv', 'https://raw.githubusercontent.com/reichlab/covid19-forecast-hub/master/data-processed/AIpert-pwllnod/2022-01-03-AIpert-pwllnod.csv', 'https://raw.githubusercontent.com/reichlab/covid19-forecast-hub/master/data-processed/AIpert-pwllnod/2022-01-10-AIpert-pwllnod.csv', 'https://raw.githubusercontent.com/reichlab/covid19-forecast-hub/master/data-processed/AIpert-pwllnod/2022-01-17-AIpert-pwllnod.csv', 'https://raw.githubusercontent.com/reichlab/covid19-forecast-hub/master/data-processed/AIpert-pwllnod/2022-01-24-AIpert-pwllnod.csv', 'https://raw.githubusercontent.com/reichlab/covid19-forecast-hub/master/data-processed/AIpert-pwllnod/2022-01-31-AIpert-pwllnod.csv', 'https://raw.githubusercontent.com/reichlab/covid19-forecast-hub/master/data-processed/AIpert-pwllnod/2022-02-07-AIpert-pwllnod.csv', 'https://raw.githubusercontent.com/reichlab/covid19-forecast-hub/master/data-processed/AIpert-pwllnod/2022-02-14-AIpert-pwllnod.csv', 'https://raw.githubusercontent.com/reichlab/covid19-forecast-hub/master/data-processed/AIpert-pwllnod/2022-02-28-AIpert-pwllnod.csv', 'https://raw.githubusercontent.com/reichlab/covid19-forecast-hub/master/data-processed/AIpert-pwllnod/2022-03-07-AIpert-pwllnod.csv', 'https://raw.githubusercontent.com/reichlab/covid19-forecast-hub/master/data-processed/AIpert-pwllnod/2022-03-14-AIpert-pwllnod.csv']\n"
          ]
        }
      ]
    },
    {
      "cell_type": "code",
      "source": [
        "len(rawUrls)"
      ],
      "metadata": {
        "colab": {
          "base_uri": "https://localhost:8080/"
        },
        "id": "_5VqBwXotRI9",
        "outputId": "91fb47b5-8263-4701-ed2e-0cee1d3834c7"
      },
      "execution_count": null,
      "outputs": [
        {
          "output_type": "execute_result",
          "data": {
            "text/plain": [
              "61"
            ]
          },
          "metadata": {},
          "execution_count": 4
        }
      ]
    }
  ]
}