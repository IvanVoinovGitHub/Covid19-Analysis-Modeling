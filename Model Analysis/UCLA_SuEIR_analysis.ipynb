{
  "cells": [
    {
      "cell_type": "code",
      "execution_count": 1,
      "id": "19d98421",
      "metadata": {
        "id": "19d98421"
      },
      "outputs": [],
      "source": [
        "#import libraries\n",
        "import csv\n",
        "import pandas as pd\n",
        "import matplotlib.pyplot as plt\n",
        "import math\n",
        "import numpy as np\n",
        "import statistics\n",
        "import glob\n",
        "import requests\n",
        "from itertools import repeat"
      ]
    },
    {
      "cell_type": "code",
      "execution_count": 2,
      "id": "bb3a7895",
      "metadata": {
        "id": "bb3a7895"
      },
      "outputs": [],
      "source": [
        "#actual COVID-19 cases data for PA\n",
        "url2 = 'https://raw.githubusercontent.com/IvanVoinovGitHub/Covid19-Analysis-Modeling/main/Data/COVID-19_Aggregate_Cases_Current_Daily_County_Health.csv'\n",
        "df1 = pd.read_csv(url2)"
      ]
    },
    {
      "cell_type": "code",
      "execution_count": 3,
      "id": "16ac3fab",
      "metadata": {
        "id": "16ac3fab"
      },
      "outputs": [],
      "source": [
        "url = 'https://github.com/reichlab/covid19-forecast-hub/tree/master/data-processed/UCLA-SuEIR'\n",
        "download = requests.get(url).content\n",
        "\n",
        "csvStringList = []\n",
        "hrefStringList = []\n",
        "urlExtension = []\n",
        "rawUrls = []\n",
        "tempList = []\n",
        "urlExtensionwoutblob = []\n",
        "urlBeginning = 'https://raw.githubusercontent.com'\n",
        "\n",
        "urlStringList = str(requests.get(url).text).split(\" \")\n",
        "for i in urlStringList:\n",
        "  if \"csv\" in i:\n",
        "    csvStringList.append(i)\n",
        "\n",
        "for i in csvStringList:\n",
        "  if \"href\" in i and \"/reichlab/covid19-forecast-hub/blob/master/data-processed/\" in i:\n",
        "    hrefStringList.append(i)\n",
        "\n",
        "for i in hrefStringList:\n",
        "  tempList1 = i.split(\"\\\"\")\n",
        "  for x in tempList1:\n",
        "    if \"/reichlab/covid19-forecast-hub/blob/master/data-processed/\" in x:\n",
        "      urlExtension.append(x)\n",
        "\n",
        "for i in urlExtension:\n",
        "  newString = \"\"\n",
        "  tempList = []\n",
        "  temp = i.split(\"/\")\n",
        "  for x in temp:\n",
        "    if \"blob\" not in x:\n",
        "      tempList.append(x)\n",
        "  for j in range(1, len(tempList)):\n",
        "    newString += \"/\" + tempList[j]\n",
        "  urlExtensionwoutblob.append(newString)\n",
        "\n",
        "\n",
        "for i in urlExtensionwoutblob:\n",
        "  finalUrl = urlBeginning + i\n",
        "  rawUrls.append(finalUrl)"
      ]
    },
    {
      "cell_type": "code",
      "execution_count": 4,
      "id": "922310e5",
      "metadata": {
        "id": "922310e5",
        "colab": {
          "base_uri": "https://localhost:8080/"
        },
        "outputId": "9296df08-d7ac-448d-a193-4497346d91cf"
      },
      "outputs": [
        {
          "output_type": "stream",
          "name": "stderr",
          "text": [
            "/usr/local/lib/python3.7/dist-packages/IPython/core/interactiveshell.py:2882: DtypeWarning: Columns (3) have mixed types.Specify dtype option on import or set low_memory=False.\n",
            "  exec(code_obj, self.user_global_ns, self.user_ns)\n"
          ]
        }
      ],
      "source": [
        "#reading all the raw data, filtering PA cases data, and ensemble back into one dataframe\n",
        "all_data = []\n",
        "for url in rawUrls:\n",
        "    df3=pd.read_csv(url)\n",
        "    df2_case = df3[df3['target'].str.contains('case')]\n",
        "    df2_casesPA = df2_case[(df2_case[\"type\"]==\"point\") & (df2_case[\"location\"]==\"42\")]\n",
        "    all_data.append(df2_casesPA)"
      ]
    },
    {
      "cell_type": "code",
      "execution_count": 5,
      "id": "e6b3b86d",
      "metadata": {
        "id": "e6b3b86d",
        "outputId": "9c67eb6f-019c-4714-c05f-5802fd553a2d",
        "colab": {
          "base_uri": "https://localhost:8080/"
        }
      },
      "outputs": [
        {
          "output_type": "execute_result",
          "data": {
            "text/plain": [
              "65"
            ]
          },
          "metadata": {},
          "execution_count": 5
        }
      ],
      "source": [
        "len(all_data)"
      ]
    },
    {
      "cell_type": "code",
      "execution_count": 6,
      "id": "9ca79685",
      "metadata": {
        "id": "9ca79685",
        "colab": {
          "base_uri": "https://localhost:8080/",
          "height": 206
        },
        "outputId": "0b2d7c49-5a50-41b9-efb7-1bde763b22fe"
      },
      "outputs": [
        {
          "output_type": "execute_result",
          "data": {
            "text/plain": [
              "      location               target   type  quantile forecast_date  \\\n",
              "32376       42  1 wk ahead inc case  point       NaN    2020-07-05   \n",
              "32377       42  2 wk ahead inc case  point       NaN    2020-07-05   \n",
              "32378       42  3 wk ahead inc case  point       NaN    2020-07-05   \n",
              "32379       42  4 wk ahead inc case  point       NaN    2020-07-05   \n",
              "32380       42  5 wk ahead inc case  point       NaN    2020-07-05   \n",
              "\n",
              "      target_end_date        value  \n",
              "32376      2020-07-11  4606.081808  \n",
              "32377      2020-07-18  5527.067721  \n",
              "32378      2020-07-25  5988.104715  \n",
              "32379      2020-08-01  6208.918747  \n",
              "32380      2020-08-08  6233.005493  "
            ],
            "text/html": [
              "\n",
              "  <div id=\"df-d1ffb69f-c9bf-44a7-a8d2-86d367c46602\">\n",
              "    <div class=\"colab-df-container\">\n",
              "      <div>\n",
              "<style scoped>\n",
              "    .dataframe tbody tr th:only-of-type {\n",
              "        vertical-align: middle;\n",
              "    }\n",
              "\n",
              "    .dataframe tbody tr th {\n",
              "        vertical-align: top;\n",
              "    }\n",
              "\n",
              "    .dataframe thead th {\n",
              "        text-align: right;\n",
              "    }\n",
              "</style>\n",
              "<table border=\"1\" class=\"dataframe\">\n",
              "  <thead>\n",
              "    <tr style=\"text-align: right;\">\n",
              "      <th></th>\n",
              "      <th>location</th>\n",
              "      <th>target</th>\n",
              "      <th>type</th>\n",
              "      <th>quantile</th>\n",
              "      <th>forecast_date</th>\n",
              "      <th>target_end_date</th>\n",
              "      <th>value</th>\n",
              "    </tr>\n",
              "  </thead>\n",
              "  <tbody>\n",
              "    <tr>\n",
              "      <th>32376</th>\n",
              "      <td>42</td>\n",
              "      <td>1 wk ahead inc case</td>\n",
              "      <td>point</td>\n",
              "      <td>NaN</td>\n",
              "      <td>2020-07-05</td>\n",
              "      <td>2020-07-11</td>\n",
              "      <td>4606.081808</td>\n",
              "    </tr>\n",
              "    <tr>\n",
              "      <th>32377</th>\n",
              "      <td>42</td>\n",
              "      <td>2 wk ahead inc case</td>\n",
              "      <td>point</td>\n",
              "      <td>NaN</td>\n",
              "      <td>2020-07-05</td>\n",
              "      <td>2020-07-18</td>\n",
              "      <td>5527.067721</td>\n",
              "    </tr>\n",
              "    <tr>\n",
              "      <th>32378</th>\n",
              "      <td>42</td>\n",
              "      <td>3 wk ahead inc case</td>\n",
              "      <td>point</td>\n",
              "      <td>NaN</td>\n",
              "      <td>2020-07-05</td>\n",
              "      <td>2020-07-25</td>\n",
              "      <td>5988.104715</td>\n",
              "    </tr>\n",
              "    <tr>\n",
              "      <th>32379</th>\n",
              "      <td>42</td>\n",
              "      <td>4 wk ahead inc case</td>\n",
              "      <td>point</td>\n",
              "      <td>NaN</td>\n",
              "      <td>2020-07-05</td>\n",
              "      <td>2020-08-01</td>\n",
              "      <td>6208.918747</td>\n",
              "    </tr>\n",
              "    <tr>\n",
              "      <th>32380</th>\n",
              "      <td>42</td>\n",
              "      <td>5 wk ahead inc case</td>\n",
              "      <td>point</td>\n",
              "      <td>NaN</td>\n",
              "      <td>2020-07-05</td>\n",
              "      <td>2020-08-08</td>\n",
              "      <td>6233.005493</td>\n",
              "    </tr>\n",
              "  </tbody>\n",
              "</table>\n",
              "</div>\n",
              "      <button class=\"colab-df-convert\" onclick=\"convertToInteractive('df-d1ffb69f-c9bf-44a7-a8d2-86d367c46602')\"\n",
              "              title=\"Convert this dataframe to an interactive table.\"\n",
              "              style=\"display:none;\">\n",
              "        \n",
              "  <svg xmlns=\"http://www.w3.org/2000/svg\" height=\"24px\"viewBox=\"0 0 24 24\"\n",
              "       width=\"24px\">\n",
              "    <path d=\"M0 0h24v24H0V0z\" fill=\"none\"/>\n",
              "    <path d=\"M18.56 5.44l.94 2.06.94-2.06 2.06-.94-2.06-.94-.94-2.06-.94 2.06-2.06.94zm-11 1L8.5 8.5l.94-2.06 2.06-.94-2.06-.94L8.5 2.5l-.94 2.06-2.06.94zm10 10l.94 2.06.94-2.06 2.06-.94-2.06-.94-.94-2.06-.94 2.06-2.06.94z\"/><path d=\"M17.41 7.96l-1.37-1.37c-.4-.4-.92-.59-1.43-.59-.52 0-1.04.2-1.43.59L10.3 9.45l-7.72 7.72c-.78.78-.78 2.05 0 2.83L4 21.41c.39.39.9.59 1.41.59.51 0 1.02-.2 1.41-.59l7.78-7.78 2.81-2.81c.8-.78.8-2.07 0-2.86zM5.41 20L4 18.59l7.72-7.72 1.47 1.35L5.41 20z\"/>\n",
              "  </svg>\n",
              "      </button>\n",
              "      \n",
              "  <style>\n",
              "    .colab-df-container {\n",
              "      display:flex;\n",
              "      flex-wrap:wrap;\n",
              "      gap: 12px;\n",
              "    }\n",
              "\n",
              "    .colab-df-convert {\n",
              "      background-color: #E8F0FE;\n",
              "      border: none;\n",
              "      border-radius: 50%;\n",
              "      cursor: pointer;\n",
              "      display: none;\n",
              "      fill: #1967D2;\n",
              "      height: 32px;\n",
              "      padding: 0 0 0 0;\n",
              "      width: 32px;\n",
              "    }\n",
              "\n",
              "    .colab-df-convert:hover {\n",
              "      background-color: #E2EBFA;\n",
              "      box-shadow: 0px 1px 2px rgba(60, 64, 67, 0.3), 0px 1px 3px 1px rgba(60, 64, 67, 0.15);\n",
              "      fill: #174EA6;\n",
              "    }\n",
              "\n",
              "    [theme=dark] .colab-df-convert {\n",
              "      background-color: #3B4455;\n",
              "      fill: #D2E3FC;\n",
              "    }\n",
              "\n",
              "    [theme=dark] .colab-df-convert:hover {\n",
              "      background-color: #434B5C;\n",
              "      box-shadow: 0px 1px 3px 1px rgba(0, 0, 0, 0.15);\n",
              "      filter: drop-shadow(0px 1px 2px rgba(0, 0, 0, 0.3));\n",
              "      fill: #FFFFFF;\n",
              "    }\n",
              "  </style>\n",
              "\n",
              "      <script>\n",
              "        const buttonEl =\n",
              "          document.querySelector('#df-d1ffb69f-c9bf-44a7-a8d2-86d367c46602 button.colab-df-convert');\n",
              "        buttonEl.style.display =\n",
              "          google.colab.kernel.accessAllowed ? 'block' : 'none';\n",
              "\n",
              "        async function convertToInteractive(key) {\n",
              "          const element = document.querySelector('#df-d1ffb69f-c9bf-44a7-a8d2-86d367c46602');\n",
              "          const dataTable =\n",
              "            await google.colab.kernel.invokeFunction('convertToInteractive',\n",
              "                                                     [key], {});\n",
              "          if (!dataTable) return;\n",
              "\n",
              "          const docLinkHtml = 'Like what you see? Visit the ' +\n",
              "            '<a target=\"_blank\" href=https://colab.research.google.com/notebooks/data_table.ipynb>data table notebook</a>'\n",
              "            + ' to learn more about interactive tables.';\n",
              "          element.innerHTML = '';\n",
              "          dataTable['output_type'] = 'display_data';\n",
              "          await google.colab.output.renderOutput(dataTable, element);\n",
              "          const docLink = document.createElement('div');\n",
              "          docLink.innerHTML = docLinkHtml;\n",
              "          element.appendChild(docLink);\n",
              "        }\n",
              "      </script>\n",
              "    </div>\n",
              "  </div>\n",
              "  "
            ]
          },
          "metadata": {},
          "execution_count": 6
        }
      ],
      "source": [
        "df2 = pd.concat(all_data)\n",
        "df2.head(5)"
      ]
    },
    {
      "cell_type": "code",
      "execution_count": 7,
      "id": "eae19ec4",
      "metadata": {
        "id": "eae19ec4"
      },
      "outputs": [],
      "source": [
        "#convert date to datetime object\n",
        "df1['Date'] = pd.to_datetime(df1['Date'])\n",
        "df2['forecast_date'] = pd.to_datetime(df2['forecast_date'])\n",
        "df2['target_end_date'] = pd.to_datetime(df2['target_end_date'])"
      ]
    },
    {
      "cell_type": "code",
      "execution_count": 8,
      "id": "8171aacd",
      "metadata": {
        "id": "8171aacd",
        "colab": {
          "base_uri": "https://localhost:8080/",
          "height": 424
        },
        "outputId": "e5f51d4e-40a5-4bdf-a8b1-9156deba52fb"
      },
      "outputs": [
        {
          "output_type": "execute_result",
          "data": {
            "text/plain": [
              "      location               target   type  quantile forecast_date  \\\n",
              "32376       42  1 wk ahead inc case  point       NaN    2020-07-05   \n",
              "32377       42  2 wk ahead inc case  point       NaN    2020-07-05   \n",
              "31640       42  1 wk ahead inc case  point       NaN    2020-07-12   \n",
              "32378       42  3 wk ahead inc case  point       NaN    2020-07-05   \n",
              "31640       42  1 wk ahead inc case  point       NaN    2020-07-19   \n",
              "...        ...                  ...    ...       ...           ...   \n",
              "30174       42  7 wk ahead inc case  point       NaN    2022-03-06   \n",
              "30175       42  8 wk ahead inc case  point       NaN    2022-02-27   \n",
              "30174       42  7 wk ahead inc case  point       NaN    2022-03-13   \n",
              "30175       42  8 wk ahead inc case  point       NaN    2022-03-06   \n",
              "30175       42  8 wk ahead inc case  point       NaN    2022-03-13   \n",
              "\n",
              "      target_end_date        value  \n",
              "32376      2020-07-11  4606.081808  \n",
              "32377      2020-07-18  5527.067721  \n",
              "31640      2020-07-18  5893.812597  \n",
              "32378      2020-07-25  5988.104715  \n",
              "31640      2020-07-25  5628.681386  \n",
              "...               ...          ...  \n",
              "30174      2022-04-23  6470.621979  \n",
              "30175      2022-04-23  5305.099736  \n",
              "30174      2022-04-30  6611.861705  \n",
              "30175      2022-04-30  5592.610815  \n",
              "30175      2022-05-07  5744.925064  \n",
              "\n",
              "[448 rows x 7 columns]"
            ],
            "text/html": [
              "\n",
              "  <div id=\"df-048f7073-4430-477b-a587-80600d5ee1a3\">\n",
              "    <div class=\"colab-df-container\">\n",
              "      <div>\n",
              "<style scoped>\n",
              "    .dataframe tbody tr th:only-of-type {\n",
              "        vertical-align: middle;\n",
              "    }\n",
              "\n",
              "    .dataframe tbody tr th {\n",
              "        vertical-align: top;\n",
              "    }\n",
              "\n",
              "    .dataframe thead th {\n",
              "        text-align: right;\n",
              "    }\n",
              "</style>\n",
              "<table border=\"1\" class=\"dataframe\">\n",
              "  <thead>\n",
              "    <tr style=\"text-align: right;\">\n",
              "      <th></th>\n",
              "      <th>location</th>\n",
              "      <th>target</th>\n",
              "      <th>type</th>\n",
              "      <th>quantile</th>\n",
              "      <th>forecast_date</th>\n",
              "      <th>target_end_date</th>\n",
              "      <th>value</th>\n",
              "    </tr>\n",
              "  </thead>\n",
              "  <tbody>\n",
              "    <tr>\n",
              "      <th>32376</th>\n",
              "      <td>42</td>\n",
              "      <td>1 wk ahead inc case</td>\n",
              "      <td>point</td>\n",
              "      <td>NaN</td>\n",
              "      <td>2020-07-05</td>\n",
              "      <td>2020-07-11</td>\n",
              "      <td>4606.081808</td>\n",
              "    </tr>\n",
              "    <tr>\n",
              "      <th>32377</th>\n",
              "      <td>42</td>\n",
              "      <td>2 wk ahead inc case</td>\n",
              "      <td>point</td>\n",
              "      <td>NaN</td>\n",
              "      <td>2020-07-05</td>\n",
              "      <td>2020-07-18</td>\n",
              "      <td>5527.067721</td>\n",
              "    </tr>\n",
              "    <tr>\n",
              "      <th>31640</th>\n",
              "      <td>42</td>\n",
              "      <td>1 wk ahead inc case</td>\n",
              "      <td>point</td>\n",
              "      <td>NaN</td>\n",
              "      <td>2020-07-12</td>\n",
              "      <td>2020-07-18</td>\n",
              "      <td>5893.812597</td>\n",
              "    </tr>\n",
              "    <tr>\n",
              "      <th>32378</th>\n",
              "      <td>42</td>\n",
              "      <td>3 wk ahead inc case</td>\n",
              "      <td>point</td>\n",
              "      <td>NaN</td>\n",
              "      <td>2020-07-05</td>\n",
              "      <td>2020-07-25</td>\n",
              "      <td>5988.104715</td>\n",
              "    </tr>\n",
              "    <tr>\n",
              "      <th>31640</th>\n",
              "      <td>42</td>\n",
              "      <td>1 wk ahead inc case</td>\n",
              "      <td>point</td>\n",
              "      <td>NaN</td>\n",
              "      <td>2020-07-19</td>\n",
              "      <td>2020-07-25</td>\n",
              "      <td>5628.681386</td>\n",
              "    </tr>\n",
              "    <tr>\n",
              "      <th>...</th>\n",
              "      <td>...</td>\n",
              "      <td>...</td>\n",
              "      <td>...</td>\n",
              "      <td>...</td>\n",
              "      <td>...</td>\n",
              "      <td>...</td>\n",
              "      <td>...</td>\n",
              "    </tr>\n",
              "    <tr>\n",
              "      <th>30174</th>\n",
              "      <td>42</td>\n",
              "      <td>7 wk ahead inc case</td>\n",
              "      <td>point</td>\n",
              "      <td>NaN</td>\n",
              "      <td>2022-03-06</td>\n",
              "      <td>2022-04-23</td>\n",
              "      <td>6470.621979</td>\n",
              "    </tr>\n",
              "    <tr>\n",
              "      <th>30175</th>\n",
              "      <td>42</td>\n",
              "      <td>8 wk ahead inc case</td>\n",
              "      <td>point</td>\n",
              "      <td>NaN</td>\n",
              "      <td>2022-02-27</td>\n",
              "      <td>2022-04-23</td>\n",
              "      <td>5305.099736</td>\n",
              "    </tr>\n",
              "    <tr>\n",
              "      <th>30174</th>\n",
              "      <td>42</td>\n",
              "      <td>7 wk ahead inc case</td>\n",
              "      <td>point</td>\n",
              "      <td>NaN</td>\n",
              "      <td>2022-03-13</td>\n",
              "      <td>2022-04-30</td>\n",
              "      <td>6611.861705</td>\n",
              "    </tr>\n",
              "    <tr>\n",
              "      <th>30175</th>\n",
              "      <td>42</td>\n",
              "      <td>8 wk ahead inc case</td>\n",
              "      <td>point</td>\n",
              "      <td>NaN</td>\n",
              "      <td>2022-03-06</td>\n",
              "      <td>2022-04-30</td>\n",
              "      <td>5592.610815</td>\n",
              "    </tr>\n",
              "    <tr>\n",
              "      <th>30175</th>\n",
              "      <td>42</td>\n",
              "      <td>8 wk ahead inc case</td>\n",
              "      <td>point</td>\n",
              "      <td>NaN</td>\n",
              "      <td>2022-03-13</td>\n",
              "      <td>2022-05-07</td>\n",
              "      <td>5744.925064</td>\n",
              "    </tr>\n",
              "  </tbody>\n",
              "</table>\n",
              "<p>448 rows × 7 columns</p>\n",
              "</div>\n",
              "      <button class=\"colab-df-convert\" onclick=\"convertToInteractive('df-048f7073-4430-477b-a587-80600d5ee1a3')\"\n",
              "              title=\"Convert this dataframe to an interactive table.\"\n",
              "              style=\"display:none;\">\n",
              "        \n",
              "  <svg xmlns=\"http://www.w3.org/2000/svg\" height=\"24px\"viewBox=\"0 0 24 24\"\n",
              "       width=\"24px\">\n",
              "    <path d=\"M0 0h24v24H0V0z\" fill=\"none\"/>\n",
              "    <path d=\"M18.56 5.44l.94 2.06.94-2.06 2.06-.94-2.06-.94-.94-2.06-.94 2.06-2.06.94zm-11 1L8.5 8.5l.94-2.06 2.06-.94-2.06-.94L8.5 2.5l-.94 2.06-2.06.94zm10 10l.94 2.06.94-2.06 2.06-.94-2.06-.94-.94-2.06-.94 2.06-2.06.94z\"/><path d=\"M17.41 7.96l-1.37-1.37c-.4-.4-.92-.59-1.43-.59-.52 0-1.04.2-1.43.59L10.3 9.45l-7.72 7.72c-.78.78-.78 2.05 0 2.83L4 21.41c.39.39.9.59 1.41.59.51 0 1.02-.2 1.41-.59l7.78-7.78 2.81-2.81c.8-.78.8-2.07 0-2.86zM5.41 20L4 18.59l7.72-7.72 1.47 1.35L5.41 20z\"/>\n",
              "  </svg>\n",
              "      </button>\n",
              "      \n",
              "  <style>\n",
              "    .colab-df-container {\n",
              "      display:flex;\n",
              "      flex-wrap:wrap;\n",
              "      gap: 12px;\n",
              "    }\n",
              "\n",
              "    .colab-df-convert {\n",
              "      background-color: #E8F0FE;\n",
              "      border: none;\n",
              "      border-radius: 50%;\n",
              "      cursor: pointer;\n",
              "      display: none;\n",
              "      fill: #1967D2;\n",
              "      height: 32px;\n",
              "      padding: 0 0 0 0;\n",
              "      width: 32px;\n",
              "    }\n",
              "\n",
              "    .colab-df-convert:hover {\n",
              "      background-color: #E2EBFA;\n",
              "      box-shadow: 0px 1px 2px rgba(60, 64, 67, 0.3), 0px 1px 3px 1px rgba(60, 64, 67, 0.15);\n",
              "      fill: #174EA6;\n",
              "    }\n",
              "\n",
              "    [theme=dark] .colab-df-convert {\n",
              "      background-color: #3B4455;\n",
              "      fill: #D2E3FC;\n",
              "    }\n",
              "\n",
              "    [theme=dark] .colab-df-convert:hover {\n",
              "      background-color: #434B5C;\n",
              "      box-shadow: 0px 1px 3px 1px rgba(0, 0, 0, 0.15);\n",
              "      filter: drop-shadow(0px 1px 2px rgba(0, 0, 0, 0.3));\n",
              "      fill: #FFFFFF;\n",
              "    }\n",
              "  </style>\n",
              "\n",
              "      <script>\n",
              "        const buttonEl =\n",
              "          document.querySelector('#df-048f7073-4430-477b-a587-80600d5ee1a3 button.colab-df-convert');\n",
              "        buttonEl.style.display =\n",
              "          google.colab.kernel.accessAllowed ? 'block' : 'none';\n",
              "\n",
              "        async function convertToInteractive(key) {\n",
              "          const element = document.querySelector('#df-048f7073-4430-477b-a587-80600d5ee1a3');\n",
              "          const dataTable =\n",
              "            await google.colab.kernel.invokeFunction('convertToInteractive',\n",
              "                                                     [key], {});\n",
              "          if (!dataTable) return;\n",
              "\n",
              "          const docLinkHtml = 'Like what you see? Visit the ' +\n",
              "            '<a target=\"_blank\" href=https://colab.research.google.com/notebooks/data_table.ipynb>data table notebook</a>'\n",
              "            + ' to learn more about interactive tables.';\n",
              "          element.innerHTML = '';\n",
              "          dataTable['output_type'] = 'display_data';\n",
              "          await google.colab.output.renderOutput(dataTable, element);\n",
              "          const docLink = document.createElement('div');\n",
              "          docLink.innerHTML = docLinkHtml;\n",
              "          element.appendChild(docLink);\n",
              "        }\n",
              "      </script>\n",
              "    </div>\n",
              "  </div>\n",
              "  "
            ]
          },
          "metadata": {},
          "execution_count": 8
        }
      ],
      "source": [
        "#sort datasets by date\n",
        "df1.sort_values(by='Date')\n",
        "df2.sort_values(by='target_end_date')"
      ]
    },
    {
      "cell_type": "code",
      "execution_count": 9,
      "id": "62636568",
      "metadata": {
        "id": "62636568",
        "outputId": "6d976b2c-a495-4733-f7ae-dcbf24b9b730",
        "colab": {
          "base_uri": "https://localhost:8080/"
        }
      },
      "outputs": [
        {
          "output_type": "execute_result",
          "data": {
            "text/plain": [
              "(56, 7)"
            ]
          },
          "metadata": {},
          "execution_count": 9
        }
      ],
      "source": [
        "#filterinng out data for PA (FIPS code = 42)\n",
        "df2_2 = df2[df2['target'].str.contains('1')]\n",
        "df2_2.shape"
      ]
    },
    {
      "cell_type": "code",
      "execution_count": 10,
      "id": "e4c01c47",
      "metadata": {
        "id": "e4c01c47"
      },
      "outputs": [],
      "source": [
        "#finding weekly increase in cases in PA\n",
        "df_weekly=df2_2.groupby('target_end_date').agg('last').reset_index()\n",
        "df_weekly.rename(\n",
        "    columns={\"target_end_date\":\"Date\"},inplace=True)\n",
        "#df_weekly"
      ]
    },
    {
      "cell_type": "code",
      "execution_count": 11,
      "id": "c6e2730d",
      "metadata": {
        "id": "c6e2730d",
        "colab": {
          "base_uri": "https://localhost:8080/",
          "height": 206
        },
        "outputId": "920acf55-8dfa-4c77-b6d9-d854e70e3f18"
      },
      "outputs": [
        {
          "output_type": "execute_result",
          "data": {
            "text/plain": [
              "        Date location               target   type  quantile forecast_date  \\\n",
              "0 2020-07-11       42  1 wk ahead inc case  point       NaN    2020-07-05   \n",
              "1 2020-07-18       42  1 wk ahead inc case  point       NaN    2020-07-12   \n",
              "2 2020-07-25       42  1 wk ahead inc case  point       NaN    2020-07-19   \n",
              "3 2020-08-01       42  1 wk ahead inc case  point       NaN    2020-07-26   \n",
              "4 2020-08-08       42  1 wk ahead inc case  point       NaN    2020-08-02   \n",
              "\n",
              "         value      dayRate  \n",
              "0  4606.081808   658.011687  \n",
              "1  5893.812597   841.973228  \n",
              "2  5628.681386   804.097341  \n",
              "3  7523.673555  1074.810508  \n",
              "4  7176.734730  1025.247819  "
            ],
            "text/html": [
              "\n",
              "  <div id=\"df-cb074e54-5be5-4b55-8a0f-d44241f15d47\">\n",
              "    <div class=\"colab-df-container\">\n",
              "      <div>\n",
              "<style scoped>\n",
              "    .dataframe tbody tr th:only-of-type {\n",
              "        vertical-align: middle;\n",
              "    }\n",
              "\n",
              "    .dataframe tbody tr th {\n",
              "        vertical-align: top;\n",
              "    }\n",
              "\n",
              "    .dataframe thead th {\n",
              "        text-align: right;\n",
              "    }\n",
              "</style>\n",
              "<table border=\"1\" class=\"dataframe\">\n",
              "  <thead>\n",
              "    <tr style=\"text-align: right;\">\n",
              "      <th></th>\n",
              "      <th>Date</th>\n",
              "      <th>location</th>\n",
              "      <th>target</th>\n",
              "      <th>type</th>\n",
              "      <th>quantile</th>\n",
              "      <th>forecast_date</th>\n",
              "      <th>value</th>\n",
              "      <th>dayRate</th>\n",
              "    </tr>\n",
              "  </thead>\n",
              "  <tbody>\n",
              "    <tr>\n",
              "      <th>0</th>\n",
              "      <td>2020-07-11</td>\n",
              "      <td>42</td>\n",
              "      <td>1 wk ahead inc case</td>\n",
              "      <td>point</td>\n",
              "      <td>NaN</td>\n",
              "      <td>2020-07-05</td>\n",
              "      <td>4606.081808</td>\n",
              "      <td>658.011687</td>\n",
              "    </tr>\n",
              "    <tr>\n",
              "      <th>1</th>\n",
              "      <td>2020-07-18</td>\n",
              "      <td>42</td>\n",
              "      <td>1 wk ahead inc case</td>\n",
              "      <td>point</td>\n",
              "      <td>NaN</td>\n",
              "      <td>2020-07-12</td>\n",
              "      <td>5893.812597</td>\n",
              "      <td>841.973228</td>\n",
              "    </tr>\n",
              "    <tr>\n",
              "      <th>2</th>\n",
              "      <td>2020-07-25</td>\n",
              "      <td>42</td>\n",
              "      <td>1 wk ahead inc case</td>\n",
              "      <td>point</td>\n",
              "      <td>NaN</td>\n",
              "      <td>2020-07-19</td>\n",
              "      <td>5628.681386</td>\n",
              "      <td>804.097341</td>\n",
              "    </tr>\n",
              "    <tr>\n",
              "      <th>3</th>\n",
              "      <td>2020-08-01</td>\n",
              "      <td>42</td>\n",
              "      <td>1 wk ahead inc case</td>\n",
              "      <td>point</td>\n",
              "      <td>NaN</td>\n",
              "      <td>2020-07-26</td>\n",
              "      <td>7523.673555</td>\n",
              "      <td>1074.810508</td>\n",
              "    </tr>\n",
              "    <tr>\n",
              "      <th>4</th>\n",
              "      <td>2020-08-08</td>\n",
              "      <td>42</td>\n",
              "      <td>1 wk ahead inc case</td>\n",
              "      <td>point</td>\n",
              "      <td>NaN</td>\n",
              "      <td>2020-08-02</td>\n",
              "      <td>7176.734730</td>\n",
              "      <td>1025.247819</td>\n",
              "    </tr>\n",
              "  </tbody>\n",
              "</table>\n",
              "</div>\n",
              "      <button class=\"colab-df-convert\" onclick=\"convertToInteractive('df-cb074e54-5be5-4b55-8a0f-d44241f15d47')\"\n",
              "              title=\"Convert this dataframe to an interactive table.\"\n",
              "              style=\"display:none;\">\n",
              "        \n",
              "  <svg xmlns=\"http://www.w3.org/2000/svg\" height=\"24px\"viewBox=\"0 0 24 24\"\n",
              "       width=\"24px\">\n",
              "    <path d=\"M0 0h24v24H0V0z\" fill=\"none\"/>\n",
              "    <path d=\"M18.56 5.44l.94 2.06.94-2.06 2.06-.94-2.06-.94-.94-2.06-.94 2.06-2.06.94zm-11 1L8.5 8.5l.94-2.06 2.06-.94-2.06-.94L8.5 2.5l-.94 2.06-2.06.94zm10 10l.94 2.06.94-2.06 2.06-.94-2.06-.94-.94-2.06-.94 2.06-2.06.94z\"/><path d=\"M17.41 7.96l-1.37-1.37c-.4-.4-.92-.59-1.43-.59-.52 0-1.04.2-1.43.59L10.3 9.45l-7.72 7.72c-.78.78-.78 2.05 0 2.83L4 21.41c.39.39.9.59 1.41.59.51 0 1.02-.2 1.41-.59l7.78-7.78 2.81-2.81c.8-.78.8-2.07 0-2.86zM5.41 20L4 18.59l7.72-7.72 1.47 1.35L5.41 20z\"/>\n",
              "  </svg>\n",
              "      </button>\n",
              "      \n",
              "  <style>\n",
              "    .colab-df-container {\n",
              "      display:flex;\n",
              "      flex-wrap:wrap;\n",
              "      gap: 12px;\n",
              "    }\n",
              "\n",
              "    .colab-df-convert {\n",
              "      background-color: #E8F0FE;\n",
              "      border: none;\n",
              "      border-radius: 50%;\n",
              "      cursor: pointer;\n",
              "      display: none;\n",
              "      fill: #1967D2;\n",
              "      height: 32px;\n",
              "      padding: 0 0 0 0;\n",
              "      width: 32px;\n",
              "    }\n",
              "\n",
              "    .colab-df-convert:hover {\n",
              "      background-color: #E2EBFA;\n",
              "      box-shadow: 0px 1px 2px rgba(60, 64, 67, 0.3), 0px 1px 3px 1px rgba(60, 64, 67, 0.15);\n",
              "      fill: #174EA6;\n",
              "    }\n",
              "\n",
              "    [theme=dark] .colab-df-convert {\n",
              "      background-color: #3B4455;\n",
              "      fill: #D2E3FC;\n",
              "    }\n",
              "\n",
              "    [theme=dark] .colab-df-convert:hover {\n",
              "      background-color: #434B5C;\n",
              "      box-shadow: 0px 1px 3px 1px rgba(0, 0, 0, 0.15);\n",
              "      filter: drop-shadow(0px 1px 2px rgba(0, 0, 0, 0.3));\n",
              "      fill: #FFFFFF;\n",
              "    }\n",
              "  </style>\n",
              "\n",
              "      <script>\n",
              "        const buttonEl =\n",
              "          document.querySelector('#df-cb074e54-5be5-4b55-8a0f-d44241f15d47 button.colab-df-convert');\n",
              "        buttonEl.style.display =\n",
              "          google.colab.kernel.accessAllowed ? 'block' : 'none';\n",
              "\n",
              "        async function convertToInteractive(key) {\n",
              "          const element = document.querySelector('#df-cb074e54-5be5-4b55-8a0f-d44241f15d47');\n",
              "          const dataTable =\n",
              "            await google.colab.kernel.invokeFunction('convertToInteractive',\n",
              "                                                     [key], {});\n",
              "          if (!dataTable) return;\n",
              "\n",
              "          const docLinkHtml = 'Like what you see? Visit the ' +\n",
              "            '<a target=\"_blank\" href=https://colab.research.google.com/notebooks/data_table.ipynb>data table notebook</a>'\n",
              "            + ' to learn more about interactive tables.';\n",
              "          element.innerHTML = '';\n",
              "          dataTable['output_type'] = 'display_data';\n",
              "          await google.colab.output.renderOutput(dataTable, element);\n",
              "          const docLink = document.createElement('div');\n",
              "          docLink.innerHTML = docLinkHtml;\n",
              "          element.appendChild(docLink);\n",
              "        }\n",
              "      </script>\n",
              "    </div>\n",
              "  </div>\n",
              "  "
            ]
          },
          "metadata": {},
          "execution_count": 11
        }
      ],
      "source": [
        "#creating a column for daily additions\n",
        "df_weekly[\"dayRate\"] = df_weekly[\"value\"] / 7\n",
        "mask = (df_weekly['Date'] <= '2021-03-01')\n",
        "df_weekly = df_weekly.loc[mask]\n",
        "df_weekly.head(5)"
      ]
    },
    {
      "cell_type": "code",
      "source": [
        "df_weekly.tail(5)"
      ],
      "metadata": {
        "colab": {
          "base_uri": "https://localhost:8080/",
          "height": 206
        },
        "id": "P7u8AGHodIVG",
        "outputId": "631acf9a-4420-4a08-b453-977ced49a1ca"
      },
      "id": "P7u8AGHodIVG",
      "execution_count": 12,
      "outputs": [
        {
          "output_type": "execute_result",
          "data": {
            "text/plain": [
              "         Date location               target   type  quantile forecast_date  \\\n",
              "28 2021-01-23       42  1 wk ahead inc case  point       NaN    2021-01-17   \n",
              "29 2021-01-30       42  1 wk ahead inc case  point       NaN    2021-01-24   \n",
              "30 2021-02-06       42  1 wk ahead inc case  point       NaN    2021-01-31   \n",
              "31 2021-02-13       42  1 wk ahead inc case  point       NaN    2021-02-07   \n",
              "32 2021-02-27       42  1 wk ahead inc case  point       NaN    2021-02-21   \n",
              "\n",
              "           value      dayRate  \n",
              "28  38587.259032  5512.465576  \n",
              "29  37639.195456  5377.027922  \n",
              "30  39885.466805  5697.923829  \n",
              "31  26699.971402  3814.281629  \n",
              "32  19551.421724  2793.060246  "
            ],
            "text/html": [
              "\n",
              "  <div id=\"df-27f945ae-88a8-4577-982d-3ae8c0063509\">\n",
              "    <div class=\"colab-df-container\">\n",
              "      <div>\n",
              "<style scoped>\n",
              "    .dataframe tbody tr th:only-of-type {\n",
              "        vertical-align: middle;\n",
              "    }\n",
              "\n",
              "    .dataframe tbody tr th {\n",
              "        vertical-align: top;\n",
              "    }\n",
              "\n",
              "    .dataframe thead th {\n",
              "        text-align: right;\n",
              "    }\n",
              "</style>\n",
              "<table border=\"1\" class=\"dataframe\">\n",
              "  <thead>\n",
              "    <tr style=\"text-align: right;\">\n",
              "      <th></th>\n",
              "      <th>Date</th>\n",
              "      <th>location</th>\n",
              "      <th>target</th>\n",
              "      <th>type</th>\n",
              "      <th>quantile</th>\n",
              "      <th>forecast_date</th>\n",
              "      <th>value</th>\n",
              "      <th>dayRate</th>\n",
              "    </tr>\n",
              "  </thead>\n",
              "  <tbody>\n",
              "    <tr>\n",
              "      <th>28</th>\n",
              "      <td>2021-01-23</td>\n",
              "      <td>42</td>\n",
              "      <td>1 wk ahead inc case</td>\n",
              "      <td>point</td>\n",
              "      <td>NaN</td>\n",
              "      <td>2021-01-17</td>\n",
              "      <td>38587.259032</td>\n",
              "      <td>5512.465576</td>\n",
              "    </tr>\n",
              "    <tr>\n",
              "      <th>29</th>\n",
              "      <td>2021-01-30</td>\n",
              "      <td>42</td>\n",
              "      <td>1 wk ahead inc case</td>\n",
              "      <td>point</td>\n",
              "      <td>NaN</td>\n",
              "      <td>2021-01-24</td>\n",
              "      <td>37639.195456</td>\n",
              "      <td>5377.027922</td>\n",
              "    </tr>\n",
              "    <tr>\n",
              "      <th>30</th>\n",
              "      <td>2021-02-06</td>\n",
              "      <td>42</td>\n",
              "      <td>1 wk ahead inc case</td>\n",
              "      <td>point</td>\n",
              "      <td>NaN</td>\n",
              "      <td>2021-01-31</td>\n",
              "      <td>39885.466805</td>\n",
              "      <td>5697.923829</td>\n",
              "    </tr>\n",
              "    <tr>\n",
              "      <th>31</th>\n",
              "      <td>2021-02-13</td>\n",
              "      <td>42</td>\n",
              "      <td>1 wk ahead inc case</td>\n",
              "      <td>point</td>\n",
              "      <td>NaN</td>\n",
              "      <td>2021-02-07</td>\n",
              "      <td>26699.971402</td>\n",
              "      <td>3814.281629</td>\n",
              "    </tr>\n",
              "    <tr>\n",
              "      <th>32</th>\n",
              "      <td>2021-02-27</td>\n",
              "      <td>42</td>\n",
              "      <td>1 wk ahead inc case</td>\n",
              "      <td>point</td>\n",
              "      <td>NaN</td>\n",
              "      <td>2021-02-21</td>\n",
              "      <td>19551.421724</td>\n",
              "      <td>2793.060246</td>\n",
              "    </tr>\n",
              "  </tbody>\n",
              "</table>\n",
              "</div>\n",
              "      <button class=\"colab-df-convert\" onclick=\"convertToInteractive('df-27f945ae-88a8-4577-982d-3ae8c0063509')\"\n",
              "              title=\"Convert this dataframe to an interactive table.\"\n",
              "              style=\"display:none;\">\n",
              "        \n",
              "  <svg xmlns=\"http://www.w3.org/2000/svg\" height=\"24px\"viewBox=\"0 0 24 24\"\n",
              "       width=\"24px\">\n",
              "    <path d=\"M0 0h24v24H0V0z\" fill=\"none\"/>\n",
              "    <path d=\"M18.56 5.44l.94 2.06.94-2.06 2.06-.94-2.06-.94-.94-2.06-.94 2.06-2.06.94zm-11 1L8.5 8.5l.94-2.06 2.06-.94-2.06-.94L8.5 2.5l-.94 2.06-2.06.94zm10 10l.94 2.06.94-2.06 2.06-.94-2.06-.94-.94-2.06-.94 2.06-2.06.94z\"/><path d=\"M17.41 7.96l-1.37-1.37c-.4-.4-.92-.59-1.43-.59-.52 0-1.04.2-1.43.59L10.3 9.45l-7.72 7.72c-.78.78-.78 2.05 0 2.83L4 21.41c.39.39.9.59 1.41.59.51 0 1.02-.2 1.41-.59l7.78-7.78 2.81-2.81c.8-.78.8-2.07 0-2.86zM5.41 20L4 18.59l7.72-7.72 1.47 1.35L5.41 20z\"/>\n",
              "  </svg>\n",
              "      </button>\n",
              "      \n",
              "  <style>\n",
              "    .colab-df-container {\n",
              "      display:flex;\n",
              "      flex-wrap:wrap;\n",
              "      gap: 12px;\n",
              "    }\n",
              "\n",
              "    .colab-df-convert {\n",
              "      background-color: #E8F0FE;\n",
              "      border: none;\n",
              "      border-radius: 50%;\n",
              "      cursor: pointer;\n",
              "      display: none;\n",
              "      fill: #1967D2;\n",
              "      height: 32px;\n",
              "      padding: 0 0 0 0;\n",
              "      width: 32px;\n",
              "    }\n",
              "\n",
              "    .colab-df-convert:hover {\n",
              "      background-color: #E2EBFA;\n",
              "      box-shadow: 0px 1px 2px rgba(60, 64, 67, 0.3), 0px 1px 3px 1px rgba(60, 64, 67, 0.15);\n",
              "      fill: #174EA6;\n",
              "    }\n",
              "\n",
              "    [theme=dark] .colab-df-convert {\n",
              "      background-color: #3B4455;\n",
              "      fill: #D2E3FC;\n",
              "    }\n",
              "\n",
              "    [theme=dark] .colab-df-convert:hover {\n",
              "      background-color: #434B5C;\n",
              "      box-shadow: 0px 1px 3px 1px rgba(0, 0, 0, 0.15);\n",
              "      filter: drop-shadow(0px 1px 2px rgba(0, 0, 0, 0.3));\n",
              "      fill: #FFFFFF;\n",
              "    }\n",
              "  </style>\n",
              "\n",
              "      <script>\n",
              "        const buttonEl =\n",
              "          document.querySelector('#df-27f945ae-88a8-4577-982d-3ae8c0063509 button.colab-df-convert');\n",
              "        buttonEl.style.display =\n",
              "          google.colab.kernel.accessAllowed ? 'block' : 'none';\n",
              "\n",
              "        async function convertToInteractive(key) {\n",
              "          const element = document.querySelector('#df-27f945ae-88a8-4577-982d-3ae8c0063509');\n",
              "          const dataTable =\n",
              "            await google.colab.kernel.invokeFunction('convertToInteractive',\n",
              "                                                     [key], {});\n",
              "          if (!dataTable) return;\n",
              "\n",
              "          const docLinkHtml = 'Like what you see? Visit the ' +\n",
              "            '<a target=\"_blank\" href=https://colab.research.google.com/notebooks/data_table.ipynb>data table notebook</a>'\n",
              "            + ' to learn more about interactive tables.';\n",
              "          element.innerHTML = '';\n",
              "          dataTable['output_type'] = 'display_data';\n",
              "          await google.colab.output.renderOutput(dataTable, element);\n",
              "          const docLink = document.createElement('div');\n",
              "          docLink.innerHTML = docLinkHtml;\n",
              "          element.appendChild(docLink);\n",
              "        }\n",
              "      </script>\n",
              "    </div>\n",
              "  </div>\n",
              "  "
            ]
          },
          "metadata": {},
          "execution_count": 12
        }
      ]
    },
    {
      "cell_type": "code",
      "source": [
        "# creating a list of predictions from the model data\n",
        "predictions = []\n",
        "for i in df_weekly[\"dayRate\"]:\n",
        "    predictions.extend(repeat(i,7))\n",
        "#del predictions[-2:]\n",
        "#preds = pd.DataFrame(predictions)\n",
        "#preds.drop(preds.tail(2).index,inplace=True) \n",
        "print(predictions)"
      ],
      "metadata": {
        "id": "7M7bH5ao6y_t",
        "colab": {
          "base_uri": "https://localhost:8080/"
        },
        "outputId": "30ca5472-8362-4911-a6cf-df23b630554c"
      },
      "id": "7M7bH5ao6y_t",
      "execution_count": 13,
      "outputs": [
        {
          "output_type": "stream",
          "name": "stdout",
          "text": [
            "[658.0116869152449, 658.0116869152449, 658.0116869152449, 658.0116869152449, 658.0116869152449, 658.0116869152449, 658.0116869152449, 841.9732281002216, 841.9732281002216, 841.9732281002216, 841.9732281002216, 841.9732281002216, 841.9732281002216, 841.9732281002216, 804.0973408033294, 804.0973408033294, 804.0973408033294, 804.0973408033294, 804.0973408033294, 804.0973408033294, 804.0973408033294, 1074.810507873703, 1074.810507873703, 1074.810507873703, 1074.810507873703, 1074.810507873703, 1074.810507873703, 1074.810507873703, 1025.247818521357, 1025.247818521357, 1025.247818521357, 1025.247818521357, 1025.247818521357, 1025.247818521357, 1025.247818521357, 786.6020863939588, 786.6020863939588, 786.6020863939588, 786.6020863939588, 786.6020863939588, 786.6020863939588, 786.6020863939588, 901.1451125264783, 901.1451125264783, 901.1451125264783, 901.1451125264783, 901.1451125264783, 901.1451125264783, 901.1451125264783, 638.2385300756889, 638.2385300756889, 638.2385300756889, 638.2385300756889, 638.2385300756889, 638.2385300756889, 638.2385300756889, 616.7684881126582, 616.7684881126582, 616.7684881126582, 616.7684881126582, 616.7684881126582, 616.7684881126582, 616.7684881126582, 868.0613555536048, 868.0613555536048, 868.0613555536048, 868.0613555536048, 868.0613555536048, 868.0613555536048, 868.0613555536048, 684.360869567833, 684.360869567833, 684.360869567833, 684.360869567833, 684.360869567833, 684.360869567833, 684.360869567833, 761.6449755141387, 761.6449755141387, 761.6449755141387, 761.6449755141387, 761.6449755141387, 761.6449755141387, 761.6449755141387, 810.5086371042707, 810.5086371042707, 810.5086371042707, 810.5086371042707, 810.5086371042707, 810.5086371042707, 810.5086371042707, 924.8817961019273, 924.8817961019273, 924.8817961019273, 924.8817961019273, 924.8817961019273, 924.8817961019273, 924.8817961019273, 1424.2383754574362, 1424.2383754574362, 1424.2383754574362, 1424.2383754574362, 1424.2383754574362, 1424.2383754574362, 1424.2383754574362, 1188.137511909823, 1188.137511909823, 1188.137511909823, 1188.137511909823, 1188.137511909823, 1188.137511909823, 1188.137511909823, 1456.1615910380747, 1456.1615910380747, 1456.1615910380747, 1456.1615910380747, 1456.1615910380747, 1456.1615910380747, 1456.1615910380747, 2101.9083402418682, 2101.9083402418682, 2101.9083402418682, 2101.9083402418682, 2101.9083402418682, 2101.9083402418682, 2101.9083402418682, 2669.7138033742003, 2669.7138033742003, 2669.7138033742003, 2669.7138033742003, 2669.7138033742003, 2669.7138033742003, 2669.7138033742003, 4294.122372836756, 4294.122372836756, 4294.122372836756, 4294.122372836756, 4294.122372836756, 4294.122372836756, 4294.122372836756, 5860.477130897751, 5860.477130897751, 5860.477130897751, 5860.477130897751, 5860.477130897751, 5860.477130897751, 5860.477130897751, 6083.6084905964, 6083.6084905964, 6083.6084905964, 6083.6084905964, 6083.6084905964, 6083.6084905964, 6083.6084905964, 8230.666393786078, 8230.666393786078, 8230.666393786078, 8230.666393786078, 8230.666393786078, 8230.666393786078, 8230.666393786078, 9127.020633240996, 9127.020633240996, 9127.020633240996, 9127.020633240996, 9127.020633240996, 9127.020633240996, 9127.020633240996, 8520.507151677855, 8520.507151677855, 8520.507151677855, 8520.507151677855, 8520.507151677855, 8520.507151677855, 8520.507151677855, 7476.802996210405, 7476.802996210405, 7476.802996210405, 7476.802996210405, 7476.802996210405, 7476.802996210405, 7476.802996210405, 7799.169500159732, 7799.169500159732, 7799.169500159732, 7799.169500159732, 7799.169500159732, 7799.169500159732, 7799.169500159732, 8571.394742834964, 8571.394742834964, 8571.394742834964, 8571.394742834964, 8571.394742834964, 8571.394742834964, 8571.394742834964, 5512.465575974235, 5512.465575974235, 5512.465575974235, 5512.465575974235, 5512.465575974235, 5512.465575974235, 5512.465575974235, 5377.027922309338, 5377.027922309338, 5377.027922309338, 5377.027922309338, 5377.027922309338, 5377.027922309338, 5377.027922309338, 5697.923829278576, 5697.923829278576, 5697.923829278576, 5697.923829278576, 5697.923829278576, 5697.923829278576, 5697.923829278576, 3814.281628889115, 3814.281628889115, 3814.281628889115, 3814.281628889115, 3814.281628889115, 3814.281628889115, 3814.281628889115, 2793.060246220008, 2793.060246220008, 2793.060246220008, 2793.060246220008, 2793.060246220008, 2793.060246220008, 2793.060246220008]\n"
          ]
        }
      ]
    },
    {
      "cell_type": "code",
      "source": [
        "len(predictions)"
      ],
      "metadata": {
        "colab": {
          "base_uri": "https://localhost:8080/"
        },
        "id": "bAUxPUYG5gaj",
        "outputId": "a3138cec-1e0c-4f16-96ec-44668ee09b74"
      },
      "id": "bAUxPUYG5gaj",
      "execution_count": 14,
      "outputs": [
        {
          "output_type": "execute_result",
          "data": {
            "text/plain": [
              "231"
            ]
          },
          "metadata": {},
          "execution_count": 14
        }
      ]
    },
    {
      "cell_type": "code",
      "execution_count": 15,
      "id": "65a9fbb1",
      "metadata": {
        "id": "65a9fbb1",
        "outputId": "4290cf2a-2ee3-4fbf-dbe1-1138540ec6f1",
        "colab": {
          "base_uri": "https://localhost:8080/",
          "height": 206
        }
      },
      "outputs": [
        {
          "output_type": "execute_result",
          "data": {
            "text/plain": [
              "        Date  New Cases  7-day Average New Cases  \\\n",
              "0 2020-07-11       1320                   1533.8   \n",
              "1 2020-07-12        806                   1501.4   \n",
              "2 2020-07-13       1828                   1533.2   \n",
              "3 2020-07-14       1976                   1558.5   \n",
              "4 2020-07-15       1660                   1582.0   \n",
              "\n",
              "   Cumulative cases                            Population (2019)  \\\n",
              "0                                      198586           25603978   \n",
              "1                                      199392           25603978   \n",
              "2                                      201220           25603978   \n",
              "3                                      203196           25603978   \n",
              "4                                      204856           25603978   \n",
              "\n",
              "   New Case Rate  7-Day Average New Case Rate  Cumulative Case Rate  \\\n",
              "0          225.5                        252.8               28684.6   \n",
              "1          178.6                        259.3               28863.7   \n",
              "2          303.9                        265.9               29167.7   \n",
              "3          358.0                        272.8               29525.8   \n",
              "4          261.2                        277.8               29787.0   \n",
              "\n",
              "   County FIPS Code    Longitude     Latitude  \n",
              "0           2860489 -5275.682283  2774.207671  \n",
              "1           2860489 -5275.682283  2774.207671  \n",
              "2           2860489 -5275.682283  2774.207671  \n",
              "3           2860489 -5275.682283  2774.207671  \n",
              "4           2860489 -5275.682283  2774.207671  "
            ],
            "text/html": [
              "\n",
              "  <div id=\"df-030830d0-f748-441e-9805-2ca8825ab049\">\n",
              "    <div class=\"colab-df-container\">\n",
              "      <div>\n",
              "<style scoped>\n",
              "    .dataframe tbody tr th:only-of-type {\n",
              "        vertical-align: middle;\n",
              "    }\n",
              "\n",
              "    .dataframe tbody tr th {\n",
              "        vertical-align: top;\n",
              "    }\n",
              "\n",
              "    .dataframe thead th {\n",
              "        text-align: right;\n",
              "    }\n",
              "</style>\n",
              "<table border=\"1\" class=\"dataframe\">\n",
              "  <thead>\n",
              "    <tr style=\"text-align: right;\">\n",
              "      <th></th>\n",
              "      <th>Date</th>\n",
              "      <th>New Cases</th>\n",
              "      <th>7-day Average New Cases</th>\n",
              "      <th>Cumulative cases</th>\n",
              "      <th>Population (2019)</th>\n",
              "      <th>New Case Rate</th>\n",
              "      <th>7-Day Average New Case Rate</th>\n",
              "      <th>Cumulative Case Rate</th>\n",
              "      <th>County FIPS Code</th>\n",
              "      <th>Longitude</th>\n",
              "      <th>Latitude</th>\n",
              "    </tr>\n",
              "  </thead>\n",
              "  <tbody>\n",
              "    <tr>\n",
              "      <th>0</th>\n",
              "      <td>2020-07-11</td>\n",
              "      <td>1320</td>\n",
              "      <td>1533.8</td>\n",
              "      <td>198586</td>\n",
              "      <td>25603978</td>\n",
              "      <td>225.5</td>\n",
              "      <td>252.8</td>\n",
              "      <td>28684.6</td>\n",
              "      <td>2860489</td>\n",
              "      <td>-5275.682283</td>\n",
              "      <td>2774.207671</td>\n",
              "    </tr>\n",
              "    <tr>\n",
              "      <th>1</th>\n",
              "      <td>2020-07-12</td>\n",
              "      <td>806</td>\n",
              "      <td>1501.4</td>\n",
              "      <td>199392</td>\n",
              "      <td>25603978</td>\n",
              "      <td>178.6</td>\n",
              "      <td>259.3</td>\n",
              "      <td>28863.7</td>\n",
              "      <td>2860489</td>\n",
              "      <td>-5275.682283</td>\n",
              "      <td>2774.207671</td>\n",
              "    </tr>\n",
              "    <tr>\n",
              "      <th>2</th>\n",
              "      <td>2020-07-13</td>\n",
              "      <td>1828</td>\n",
              "      <td>1533.2</td>\n",
              "      <td>201220</td>\n",
              "      <td>25603978</td>\n",
              "      <td>303.9</td>\n",
              "      <td>265.9</td>\n",
              "      <td>29167.7</td>\n",
              "      <td>2860489</td>\n",
              "      <td>-5275.682283</td>\n",
              "      <td>2774.207671</td>\n",
              "    </tr>\n",
              "    <tr>\n",
              "      <th>3</th>\n",
              "      <td>2020-07-14</td>\n",
              "      <td>1976</td>\n",
              "      <td>1558.5</td>\n",
              "      <td>203196</td>\n",
              "      <td>25603978</td>\n",
              "      <td>358.0</td>\n",
              "      <td>272.8</td>\n",
              "      <td>29525.8</td>\n",
              "      <td>2860489</td>\n",
              "      <td>-5275.682283</td>\n",
              "      <td>2774.207671</td>\n",
              "    </tr>\n",
              "    <tr>\n",
              "      <th>4</th>\n",
              "      <td>2020-07-15</td>\n",
              "      <td>1660</td>\n",
              "      <td>1582.0</td>\n",
              "      <td>204856</td>\n",
              "      <td>25603978</td>\n",
              "      <td>261.2</td>\n",
              "      <td>277.8</td>\n",
              "      <td>29787.0</td>\n",
              "      <td>2860489</td>\n",
              "      <td>-5275.682283</td>\n",
              "      <td>2774.207671</td>\n",
              "    </tr>\n",
              "  </tbody>\n",
              "</table>\n",
              "</div>\n",
              "      <button class=\"colab-df-convert\" onclick=\"convertToInteractive('df-030830d0-f748-441e-9805-2ca8825ab049')\"\n",
              "              title=\"Convert this dataframe to an interactive table.\"\n",
              "              style=\"display:none;\">\n",
              "        \n",
              "  <svg xmlns=\"http://www.w3.org/2000/svg\" height=\"24px\"viewBox=\"0 0 24 24\"\n",
              "       width=\"24px\">\n",
              "    <path d=\"M0 0h24v24H0V0z\" fill=\"none\"/>\n",
              "    <path d=\"M18.56 5.44l.94 2.06.94-2.06 2.06-.94-2.06-.94-.94-2.06-.94 2.06-2.06.94zm-11 1L8.5 8.5l.94-2.06 2.06-.94-2.06-.94L8.5 2.5l-.94 2.06-2.06.94zm10 10l.94 2.06.94-2.06 2.06-.94-2.06-.94-.94-2.06-.94 2.06-2.06.94z\"/><path d=\"M17.41 7.96l-1.37-1.37c-.4-.4-.92-.59-1.43-.59-.52 0-1.04.2-1.43.59L10.3 9.45l-7.72 7.72c-.78.78-.78 2.05 0 2.83L4 21.41c.39.39.9.59 1.41.59.51 0 1.02-.2 1.41-.59l7.78-7.78 2.81-2.81c.8-.78.8-2.07 0-2.86zM5.41 20L4 18.59l7.72-7.72 1.47 1.35L5.41 20z\"/>\n",
              "  </svg>\n",
              "      </button>\n",
              "      \n",
              "  <style>\n",
              "    .colab-df-container {\n",
              "      display:flex;\n",
              "      flex-wrap:wrap;\n",
              "      gap: 12px;\n",
              "    }\n",
              "\n",
              "    .colab-df-convert {\n",
              "      background-color: #E8F0FE;\n",
              "      border: none;\n",
              "      border-radius: 50%;\n",
              "      cursor: pointer;\n",
              "      display: none;\n",
              "      fill: #1967D2;\n",
              "      height: 32px;\n",
              "      padding: 0 0 0 0;\n",
              "      width: 32px;\n",
              "    }\n",
              "\n",
              "    .colab-df-convert:hover {\n",
              "      background-color: #E2EBFA;\n",
              "      box-shadow: 0px 1px 2px rgba(60, 64, 67, 0.3), 0px 1px 3px 1px rgba(60, 64, 67, 0.15);\n",
              "      fill: #174EA6;\n",
              "    }\n",
              "\n",
              "    [theme=dark] .colab-df-convert {\n",
              "      background-color: #3B4455;\n",
              "      fill: #D2E3FC;\n",
              "    }\n",
              "\n",
              "    [theme=dark] .colab-df-convert:hover {\n",
              "      background-color: #434B5C;\n",
              "      box-shadow: 0px 1px 3px 1px rgba(0, 0, 0, 0.15);\n",
              "      filter: drop-shadow(0px 1px 2px rgba(0, 0, 0, 0.3));\n",
              "      fill: #FFFFFF;\n",
              "    }\n",
              "  </style>\n",
              "\n",
              "      <script>\n",
              "        const buttonEl =\n",
              "          document.querySelector('#df-030830d0-f748-441e-9805-2ca8825ab049 button.colab-df-convert');\n",
              "        buttonEl.style.display =\n",
              "          google.colab.kernel.accessAllowed ? 'block' : 'none';\n",
              "\n",
              "        async function convertToInteractive(key) {\n",
              "          const element = document.querySelector('#df-030830d0-f748-441e-9805-2ca8825ab049');\n",
              "          const dataTable =\n",
              "            await google.colab.kernel.invokeFunction('convertToInteractive',\n",
              "                                                     [key], {});\n",
              "          if (!dataTable) return;\n",
              "\n",
              "          const docLinkHtml = 'Like what you see? Visit the ' +\n",
              "            '<a target=\"_blank\" href=https://colab.research.google.com/notebooks/data_table.ipynb>data table notebook</a>'\n",
              "            + ' to learn more about interactive tables.';\n",
              "          element.innerHTML = '';\n",
              "          dataTable['output_type'] = 'display_data';\n",
              "          await google.colab.output.renderOutput(dataTable, element);\n",
              "          const docLink = document.createElement('div');\n",
              "          docLink.innerHTML = docLinkHtml;\n",
              "          element.appendChild(docLink);\n",
              "        }\n",
              "      </script>\n",
              "    </div>\n",
              "  </div>\n",
              "  "
            ]
          },
          "metadata": {},
          "execution_count": 15
        }
      ],
      "source": [
        "#select all the dates to be merged with prediction list\n",
        "mask = (df1['Date'] >= '2020-07-11') & (df1['Date'] <= '2021-02-26')\n",
        "df1_copy = df1.loc[mask]\n",
        "df1_copy = df1_copy.groupby([\"Date\"]).sum().reset_index()\n",
        "df1_copy.head(5)"
      ]
    },
    {
      "cell_type": "code",
      "source": [
        "df1_copy.tail(5)"
      ],
      "metadata": {
        "colab": {
          "base_uri": "https://localhost:8080/",
          "height": 354
        },
        "id": "TllZYRDQwk6h",
        "outputId": "1ccae0ac-e99a-4ebd-b07a-4a1b207e0ae9"
      },
      "id": "TllZYRDQwk6h",
      "execution_count": 51,
      "outputs": [
        {
          "output_type": "execute_result",
          "data": {
            "text/plain": [
              "          Date  New Cases  7-day Average New Cases  \\\n",
              "226 2021-02-22       5812                   5363.5   \n",
              "227 2021-02-23       5536                   5151.1   \n",
              "228 2021-02-24       4918                   4911.6   \n",
              "229 2021-02-25       6836                   5089.5   \n",
              "230 2021-02-26       6994                   5277.5   \n",
              "\n",
              "     Cumulative cases                            Population (2019)  \\\n",
              "226                                     1851728           25603978   \n",
              "227                                     1857264           25603978   \n",
              "228                                     1862182           25603978   \n",
              "229                                     1869018           25603978   \n",
              "230                                     1876012           25603978   \n",
              "\n",
              "     New Case Rate  7-Day Average New Case Rate  Cumulative Case Rate  \\\n",
              "226         1500.7                       1335.4              504867.8   \n",
              "227         1377.7                       1287.6              506245.3   \n",
              "228         1242.2                       1262.9              507487.2   \n",
              "229         1946.2                       1316.2              509433.7   \n",
              "230         1670.7                       1334.7              511103.9   \n",
              "\n",
              "     County FIPS Code    Longitude     Latitude   Prediction     Error  \\\n",
              "226           2860489 -5275.682283  2774.207671  2793.060246  0.519432   \n",
              "227           2860489 -5275.682283  2774.207671  2793.060246  0.495473   \n",
              "228           2860489 -5275.682283  2774.207671  2793.060246  0.432074   \n",
              "229           2860489 -5275.682283  2774.207671  2793.060246  0.591419   \n",
              "230           2860489 -5275.682283  2774.207671  2793.060246  0.600649   \n",
              "\n",
              "     Accuracy  RawError  \n",
              "226  0.480568 -0.519432  \n",
              "227  0.504527 -0.495473  \n",
              "228  0.567926 -0.432074  \n",
              "229  0.408581 -0.591419  \n",
              "230  0.399351 -0.600649  "
            ],
            "text/html": [
              "\n",
              "  <div id=\"df-62ce5ad1-f58f-400e-b10b-cd2aeef1b573\">\n",
              "    <div class=\"colab-df-container\">\n",
              "      <div>\n",
              "<style scoped>\n",
              "    .dataframe tbody tr th:only-of-type {\n",
              "        vertical-align: middle;\n",
              "    }\n",
              "\n",
              "    .dataframe tbody tr th {\n",
              "        vertical-align: top;\n",
              "    }\n",
              "\n",
              "    .dataframe thead th {\n",
              "        text-align: right;\n",
              "    }\n",
              "</style>\n",
              "<table border=\"1\" class=\"dataframe\">\n",
              "  <thead>\n",
              "    <tr style=\"text-align: right;\">\n",
              "      <th></th>\n",
              "      <th>Date</th>\n",
              "      <th>New Cases</th>\n",
              "      <th>7-day Average New Cases</th>\n",
              "      <th>Cumulative cases</th>\n",
              "      <th>Population (2019)</th>\n",
              "      <th>New Case Rate</th>\n",
              "      <th>7-Day Average New Case Rate</th>\n",
              "      <th>Cumulative Case Rate</th>\n",
              "      <th>County FIPS Code</th>\n",
              "      <th>Longitude</th>\n",
              "      <th>Latitude</th>\n",
              "      <th>Prediction</th>\n",
              "      <th>Error</th>\n",
              "      <th>Accuracy</th>\n",
              "      <th>RawError</th>\n",
              "    </tr>\n",
              "  </thead>\n",
              "  <tbody>\n",
              "    <tr>\n",
              "      <th>226</th>\n",
              "      <td>2021-02-22</td>\n",
              "      <td>5812</td>\n",
              "      <td>5363.5</td>\n",
              "      <td>1851728</td>\n",
              "      <td>25603978</td>\n",
              "      <td>1500.7</td>\n",
              "      <td>1335.4</td>\n",
              "      <td>504867.8</td>\n",
              "      <td>2860489</td>\n",
              "      <td>-5275.682283</td>\n",
              "      <td>2774.207671</td>\n",
              "      <td>2793.060246</td>\n",
              "      <td>0.519432</td>\n",
              "      <td>0.480568</td>\n",
              "      <td>-0.519432</td>\n",
              "    </tr>\n",
              "    <tr>\n",
              "      <th>227</th>\n",
              "      <td>2021-02-23</td>\n",
              "      <td>5536</td>\n",
              "      <td>5151.1</td>\n",
              "      <td>1857264</td>\n",
              "      <td>25603978</td>\n",
              "      <td>1377.7</td>\n",
              "      <td>1287.6</td>\n",
              "      <td>506245.3</td>\n",
              "      <td>2860489</td>\n",
              "      <td>-5275.682283</td>\n",
              "      <td>2774.207671</td>\n",
              "      <td>2793.060246</td>\n",
              "      <td>0.495473</td>\n",
              "      <td>0.504527</td>\n",
              "      <td>-0.495473</td>\n",
              "    </tr>\n",
              "    <tr>\n",
              "      <th>228</th>\n",
              "      <td>2021-02-24</td>\n",
              "      <td>4918</td>\n",
              "      <td>4911.6</td>\n",
              "      <td>1862182</td>\n",
              "      <td>25603978</td>\n",
              "      <td>1242.2</td>\n",
              "      <td>1262.9</td>\n",
              "      <td>507487.2</td>\n",
              "      <td>2860489</td>\n",
              "      <td>-5275.682283</td>\n",
              "      <td>2774.207671</td>\n",
              "      <td>2793.060246</td>\n",
              "      <td>0.432074</td>\n",
              "      <td>0.567926</td>\n",
              "      <td>-0.432074</td>\n",
              "    </tr>\n",
              "    <tr>\n",
              "      <th>229</th>\n",
              "      <td>2021-02-25</td>\n",
              "      <td>6836</td>\n",
              "      <td>5089.5</td>\n",
              "      <td>1869018</td>\n",
              "      <td>25603978</td>\n",
              "      <td>1946.2</td>\n",
              "      <td>1316.2</td>\n",
              "      <td>509433.7</td>\n",
              "      <td>2860489</td>\n",
              "      <td>-5275.682283</td>\n",
              "      <td>2774.207671</td>\n",
              "      <td>2793.060246</td>\n",
              "      <td>0.591419</td>\n",
              "      <td>0.408581</td>\n",
              "      <td>-0.591419</td>\n",
              "    </tr>\n",
              "    <tr>\n",
              "      <th>230</th>\n",
              "      <td>2021-02-26</td>\n",
              "      <td>6994</td>\n",
              "      <td>5277.5</td>\n",
              "      <td>1876012</td>\n",
              "      <td>25603978</td>\n",
              "      <td>1670.7</td>\n",
              "      <td>1334.7</td>\n",
              "      <td>511103.9</td>\n",
              "      <td>2860489</td>\n",
              "      <td>-5275.682283</td>\n",
              "      <td>2774.207671</td>\n",
              "      <td>2793.060246</td>\n",
              "      <td>0.600649</td>\n",
              "      <td>0.399351</td>\n",
              "      <td>-0.600649</td>\n",
              "    </tr>\n",
              "  </tbody>\n",
              "</table>\n",
              "</div>\n",
              "      <button class=\"colab-df-convert\" onclick=\"convertToInteractive('df-62ce5ad1-f58f-400e-b10b-cd2aeef1b573')\"\n",
              "              title=\"Convert this dataframe to an interactive table.\"\n",
              "              style=\"display:none;\">\n",
              "        \n",
              "  <svg xmlns=\"http://www.w3.org/2000/svg\" height=\"24px\"viewBox=\"0 0 24 24\"\n",
              "       width=\"24px\">\n",
              "    <path d=\"M0 0h24v24H0V0z\" fill=\"none\"/>\n",
              "    <path d=\"M18.56 5.44l.94 2.06.94-2.06 2.06-.94-2.06-.94-.94-2.06-.94 2.06-2.06.94zm-11 1L8.5 8.5l.94-2.06 2.06-.94-2.06-.94L8.5 2.5l-.94 2.06-2.06.94zm10 10l.94 2.06.94-2.06 2.06-.94-2.06-.94-.94-2.06-.94 2.06-2.06.94z\"/><path d=\"M17.41 7.96l-1.37-1.37c-.4-.4-.92-.59-1.43-.59-.52 0-1.04.2-1.43.59L10.3 9.45l-7.72 7.72c-.78.78-.78 2.05 0 2.83L4 21.41c.39.39.9.59 1.41.59.51 0 1.02-.2 1.41-.59l7.78-7.78 2.81-2.81c.8-.78.8-2.07 0-2.86zM5.41 20L4 18.59l7.72-7.72 1.47 1.35L5.41 20z\"/>\n",
              "  </svg>\n",
              "      </button>\n",
              "      \n",
              "  <style>\n",
              "    .colab-df-container {\n",
              "      display:flex;\n",
              "      flex-wrap:wrap;\n",
              "      gap: 12px;\n",
              "    }\n",
              "\n",
              "    .colab-df-convert {\n",
              "      background-color: #E8F0FE;\n",
              "      border: none;\n",
              "      border-radius: 50%;\n",
              "      cursor: pointer;\n",
              "      display: none;\n",
              "      fill: #1967D2;\n",
              "      height: 32px;\n",
              "      padding: 0 0 0 0;\n",
              "      width: 32px;\n",
              "    }\n",
              "\n",
              "    .colab-df-convert:hover {\n",
              "      background-color: #E2EBFA;\n",
              "      box-shadow: 0px 1px 2px rgba(60, 64, 67, 0.3), 0px 1px 3px 1px rgba(60, 64, 67, 0.15);\n",
              "      fill: #174EA6;\n",
              "    }\n",
              "\n",
              "    [theme=dark] .colab-df-convert {\n",
              "      background-color: #3B4455;\n",
              "      fill: #D2E3FC;\n",
              "    }\n",
              "\n",
              "    [theme=dark] .colab-df-convert:hover {\n",
              "      background-color: #434B5C;\n",
              "      box-shadow: 0px 1px 3px 1px rgba(0, 0, 0, 0.15);\n",
              "      filter: drop-shadow(0px 1px 2px rgba(0, 0, 0, 0.3));\n",
              "      fill: #FFFFFF;\n",
              "    }\n",
              "  </style>\n",
              "\n",
              "      <script>\n",
              "        const buttonEl =\n",
              "          document.querySelector('#df-62ce5ad1-f58f-400e-b10b-cd2aeef1b573 button.colab-df-convert');\n",
              "        buttonEl.style.display =\n",
              "          google.colab.kernel.accessAllowed ? 'block' : 'none';\n",
              "\n",
              "        async function convertToInteractive(key) {\n",
              "          const element = document.querySelector('#df-62ce5ad1-f58f-400e-b10b-cd2aeef1b573');\n",
              "          const dataTable =\n",
              "            await google.colab.kernel.invokeFunction('convertToInteractive',\n",
              "                                                     [key], {});\n",
              "          if (!dataTable) return;\n",
              "\n",
              "          const docLinkHtml = 'Like what you see? Visit the ' +\n",
              "            '<a target=\"_blank\" href=https://colab.research.google.com/notebooks/data_table.ipynb>data table notebook</a>'\n",
              "            + ' to learn more about interactive tables.';\n",
              "          element.innerHTML = '';\n",
              "          dataTable['output_type'] = 'display_data';\n",
              "          await google.colab.output.renderOutput(dataTable, element);\n",
              "          const docLink = document.createElement('div');\n",
              "          docLink.innerHTML = docLinkHtml;\n",
              "          element.appendChild(docLink);\n",
              "        }\n",
              "      </script>\n",
              "    </div>\n",
              "  </div>\n",
              "  "
            ]
          },
          "metadata": {},
          "execution_count": 51
        }
      ]
    },
    {
      "cell_type": "code",
      "source": [
        "len(df1_copy)"
      ],
      "metadata": {
        "colab": {
          "base_uri": "https://localhost:8080/"
        },
        "id": "E4GmTswG-Max",
        "outputId": "c096f6f8-a360-4d29-be9f-6d50fa5feebd"
      },
      "id": "E4GmTswG-Max",
      "execution_count": 16,
      "outputs": [
        {
          "output_type": "execute_result",
          "data": {
            "text/plain": [
              "231"
            ]
          },
          "metadata": {},
          "execution_count": 16
        }
      ]
    },
    {
      "cell_type": "code",
      "source": [
        "# assigning predictions list to the actual dataframe\n",
        "df1_copy['Prediction'] = predictions"
      ],
      "metadata": {
        "id": "7HHOfOpl4JA2"
      },
      "id": "7HHOfOpl4JA2",
      "execution_count": 17,
      "outputs": []
    },
    {
      "cell_type": "code",
      "source": [
        "df1_copy.head(20)"
      ],
      "metadata": {
        "id": "a8HZNoDm5m-p"
      },
      "id": "a8HZNoDm5m-p",
      "execution_count": null,
      "outputs": []
    },
    {
      "cell_type": "code",
      "source": [
        "# renaming the dataframe for graphing\n",
        "merged_df_new = df1_copy"
      ],
      "metadata": {
        "id": "tB3yrsBFBVzZ"
      },
      "id": "tB3yrsBFBVzZ",
      "execution_count": 19,
      "outputs": []
    },
    {
      "cell_type": "code",
      "source": [
        "merged_df_new.shape"
      ],
      "metadata": {
        "colab": {
          "base_uri": "https://localhost:8080/"
        },
        "id": "D_rU8Xdc6NUr",
        "outputId": "3fecfb78-7f78-438c-a5a9-ea9b67ef7561"
      },
      "id": "D_rU8Xdc6NUr",
      "execution_count": 20,
      "outputs": [
        {
          "output_type": "execute_result",
          "data": {
            "text/plain": [
              "(231, 12)"
            ]
          },
          "metadata": {},
          "execution_count": 20
        }
      ]
    },
    {
      "cell_type": "code",
      "execution_count": 21,
      "id": "d516c1b3",
      "metadata": {
        "id": "d516c1b3",
        "colab": {
          "base_uri": "https://localhost:8080/",
          "height": 295
        },
        "outputId": "376af49f-d2d2-4df2-8eb8-529c1920b9fb"
      },
      "outputs": [
        {
          "output_type": "display_data",
          "data": {
            "text/plain": [
              "<Figure size 432x288 with 1 Axes>"
            ],
            "image/png": "[encoded data removed]"
          },
          "metadata": {
            "needs_background": "light"
          }
        }
      ],
      "source": [
        "#Create plot of Actual vs. Predicted Cases\n",
        "\n",
        "#Actual Cases Line\n",
        "plt.plot(merged_df_new['Date'], merged_df_new['New Cases'], color='g', label='Actual Cases')\n",
        "\n",
        "#Predicted Cases Line\n",
        "plt.plot(merged_df_new['Date'], merged_df_new['Prediction'], color='r', label='Predicted Cases')\n",
        "\n",
        "#Create XY Labels and Title\n",
        "plt.xlabel('Date (Year/Month/Day)') \n",
        "plt.ylabel('Number of Cases') \n",
        "plt.title(\"Predicted Daily Cases vs Actual Cases in PA\")\n",
        "\n",
        "#Display Plot\n",
        "plt.legend()\n",
        "plt.show()"
      ]
    },
    {
      "cell_type": "code",
      "execution_count": 22,
      "id": "4eee31c3",
      "metadata": {
        "id": "4eee31c3",
        "colab": {
          "base_uri": "https://localhost:8080/"
        },
        "outputId": "8927d2b7-6b9a-448d-f967-a4ef6a1b6e80"
      },
      "outputs": [
        {
          "output_type": "stream",
          "name": "stdout",
          "text": [
            "225\n",
            "0.974025974025974\n",
            "6\n",
            "0.025974025974025983\n",
            "231\n",
            "[0.5015062977914811, 0.18360832888927428, 0.6400373703964743, 0.666998134152204, 0.6036074175209368, 0.682426792029322, 0.5840634090295544, 0.45468055174856115, 0.43109917020255295, 0.5908779260931868, 0.45888610019265963, 0.5327562552163032, 0.646526772418043, 0.6183258258838524, 0.5084979579441752, 0.47649912708116576, 0.6311480088058122, 0.48783608866029976, 0.5596400105129631, 0.6007461068503827, 0.5497775247461761, 0.18574961524719466, 0.06862174361030932, 0.3579387647110496, 0.2567008935866507, 0.3365367235347512, 0.2984265614401416, 0.3446277391014006, 0.3411003737009274, 0.17185151977273266, 0.3733204043267989, 0.42207000083350793, 0.5023068842129335, 0.39262569992810603, 0.39477696663438194, 0.4249984748582173, 0.1081608997800921, 0.3967775411089273, 0.3562994383028161, 0.4931687587667791, 0.4670717571856648, 0.5083736960037758, 0.24904573956126805, 0.06267112326235652, 0.24146034299117985, 0.11304614908811188, 0.2948786286960263, 0.47053753670594695, 0.4584464467989914, 0.5375083115393559, 0.3933093820573299, 0.6164431910602831, 0.6462092405345405, 0.7056095340979295, 0.6512357759149241, 0.6699904187819602, 0.5291843602193449, 0.48430728418674057, 0.36935737411793634, 0.690997751446564, 0.4825767717175686, 0.698843511663741, 0.678431445196737, 0.33430877641594725, 0.3727880378947942, 0.6021716977297871, 0.4326396368930687, 0.5407082774848652, 0.4661369277038101, 0.5230432112342831, 0.4960523788160287, 0.40386683835554615, 0.6002565014206582, 0.5668602091342829, 0.6296748541299605, 0.6615425966529015, 0.6292736351203504, 0.5815137497175062, 0.4349814721705203, 0.7293372510610737, 0.568717454408755, 0.6324107261032149, 0.6674039408235203, 0.6834393285477396, 0.5860527900386768, 0.48636968497828215, 0.5809159063576677, 0.7037614630466846, 0.6865782532466084, 0.7154112931515904, 0.7670952192229107, 0.6050889000418757, 0.5792166532748284, 0.6477982497707817, 0.6409620356747177, 0.7060134150979253, 0.7199025450932989, 0.7562251459931663, 0.44409118834604366, 0.4224499694008775, 0.5375849430333, 0.5299543315321993, 0.6559810687300879, 0.6722875344092416, 0.6704677520922174, 0.6605321394543363, 0.6438436714898612, 0.7490203819370885, 0.739214769115491, 0.7530886301101781, 0.7636017684222398, 0.7740324245131566, 0.6506330155858746, 0.630040246179351, 0.753527151144537, 0.7365843720987564, 0.7521005122509236, 0.7966822687743542, 0.8178431835078716, 0.6689908125603357, 0.6794894266175864, 0.7668690838241051, 0.7807771860406896, 0.8077991642061202, 0.8208702624644734, 0.8118255738368962, 0.7565018420855344, 0.7067537562198813, 0.7802342934331411, 0.7906435223200908, 0.8080447365994966, 0.8143969825240405, 0.8077129211052866, 0.6893719348353042, 0.5817141659032967, 0.6539788579503018, 0.7037719113661179, 0.746240256894176, 0.7088730594686946, 0.727530306292084, 0.4622428765922416, 0.3369000757074281, 0.5020835062958581, 0.6744541089380207, 0.7294581695643176, 0.7643934577913585, 0.765374444275052, 0.631430480395226, 0.5723598699144946, 0.7048511308656898, 0.6273212147392551, 0.7511409436882761, 0.7622475968971236, 0.7316449717425495, 0.5786923426604178, 0.49099156501013747, 0.5875593107944439, 0.5977584598872995, 0.5769599920956991, 0.5601396754069005, 0.5990126476767964, 0.2940113990376705, 0.4129023135699861, 0.4547125921113038, 0.5384799437074739, 0.4802380049407178, 0.3515898953366726, 0.37323028201888503, 0.16186236949853872, 0.15642062319189132, 0.5297733360001183, 0.5515050451796055, 0.49270617101227343, 0.4986757383103168, 0.46045420772050055, 0.22951329387774067, 0.02957904106450078, 0.5720204352484027, 0.6234866050855874, 0.6051540454050273, 0.6463196312104823, 0.6138812747257589, 0.46697857434665585, 0.2552359148052204, 0.48723408940435686, 0.523918355502397, 0.40318568257118675, 0.4229676309440861, 0.4351702273928352, 0.2591707223133134, 0.07734976657050828, 0.2387748896238931, 0.24321077672302985, 0.2636258811997454, 0.2053222007384606, 0.27126383754166267, 0.2790392916591374, 0.27237782788090875, 0.4604086162906974, 0.507199573040029, 0.606027331619909, 0.6728118722712348, 0.49859327124120106, 0.3209108458816194, 0.19865455703288562, 0.2838268617062683, 0.14460262133163576, 0.2007984657685289, 0.46835792739674337, 0.35044359479230036, 0.3489575149361774, 0.20565464013511972, 0.36407100119658753, 0.07651153496295368, 0.3010397657901649, 0.1853125780270838, 0.26173570493928794, 0.2278782127754828, 0.011209339578238315, 0.20931143679744715, 0.4569644605795679, 0.4213771800835687, 0.3181477245461003, 0.327761433047389, 0.2730191967152504, 0.0708382414437764, 0.5194321668582229, 0.4954732214197962, 0.4320739637616901, 0.5914189224370965, 0.6006490926193869]\n",
            "[-0.5015062977914811, -0.18360832888927428, -0.6400373703964743, -0.666998134152204, -0.6036074175209368, -0.682426792029322, -0.5840634090295544, -0.45468055174856115, -0.43109917020255295, -0.5908779260931868, -0.45888610019265963, -0.5327562552163032, -0.646526772418043, -0.6183258258838524, -0.5084979579441752, -0.47649912708116576, -0.6311480088058122, -0.48783608866029976, -0.5596400105129631, -0.6007461068503827, -0.5497775247461761, -0.18574961524719466, -0.06862174361030932, -0.3579387647110496, -0.2567008935866507, -0.3365367235347512, -0.2984265614401416, -0.3446277391014006, -0.3411003737009274, -0.17185151977273266, -0.3733204043267989, -0.42207000083350793, -0.5023068842129335, -0.39262569992810603, -0.39477696663438194, -0.4249984748582173, -0.1081608997800921, -0.3967775411089273, -0.3562994383028161, -0.4931687587667791, -0.4670717571856648, -0.5083736960037758, -0.24904573956126805, 0.06267112326235652, -0.24146034299117985, -0.11304614908811188, -0.2948786286960263, -0.47053753670594695, -0.4584464467989914, -0.5375083115393559, -0.3933093820573299, -0.6164431910602831, -0.6462092405345405, -0.7056095340979295, -0.6512357759149241, -0.6699904187819602, -0.5291843602193449, -0.48430728418674057, -0.36935737411793634, -0.690997751446564, -0.4825767717175686, -0.698843511663741, -0.678431445196737, -0.33430877641594725, -0.3727880378947942, -0.6021716977297871, -0.4326396368930687, -0.5407082774848652, -0.4661369277038101, -0.5230432112342831, -0.4960523788160287, -0.40386683835554615, -0.6002565014206582, -0.5668602091342829, -0.6296748541299605, -0.6615425966529015, -0.6292736351203504, -0.5815137497175062, -0.4349814721705203, -0.7293372510610737, -0.568717454408755, -0.6324107261032149, -0.6674039408235203, -0.6834393285477396, -0.5860527900386768, -0.48636968497828215, -0.5809159063576677, -0.7037614630466846, -0.6865782532466084, -0.7154112931515904, -0.7670952192229107, -0.6050889000418757, -0.5792166532748284, -0.6477982497707817, -0.6409620356747177, -0.7060134150979253, -0.7199025450932989, -0.7562251459931663, -0.44409118834604366, -0.4224499694008775, -0.5375849430333, -0.5299543315321993, -0.6559810687300879, -0.6722875344092416, -0.6704677520922174, -0.6605321394543363, -0.6438436714898612, -0.7490203819370885, -0.739214769115491, -0.7530886301101781, -0.7636017684222398, -0.7740324245131566, -0.6506330155858746, -0.630040246179351, -0.753527151144537, -0.7365843720987564, -0.7521005122509236, -0.7966822687743542, -0.8178431835078716, -0.6689908125603357, -0.6794894266175864, -0.7668690838241051, -0.7807771860406896, -0.8077991642061202, -0.8208702624644734, -0.8118255738368962, -0.7565018420855344, -0.7067537562198813, -0.7802342934331411, -0.7906435223200908, -0.8080447365994966, -0.8143969825240405, -0.8077129211052866, -0.6893719348353042, -0.5817141659032967, -0.6539788579503018, -0.7037719113661179, -0.746240256894176, -0.7088730594686946, -0.727530306292084, -0.4622428765922416, -0.3369000757074281, -0.5020835062958581, -0.6744541089380207, -0.7294581695643176, -0.7643934577913585, -0.765374444275052, -0.631430480395226, -0.5723598699144946, -0.7048511308656898, -0.6273212147392551, -0.7511409436882761, -0.7622475968971236, -0.7316449717425495, -0.5786923426604178, -0.49099156501013747, -0.5875593107944439, -0.5977584598872995, -0.5769599920956991, -0.5601396754069005, -0.5990126476767964, -0.2940113990376705, -0.4129023135699861, -0.4547125921113038, -0.5384799437074739, -0.4802380049407178, -0.3515898953366726, -0.37323028201888503, -0.16186236949853872, 0.15642062319189132, -0.5297733360001183, -0.5515050451796055, -0.49270617101227343, -0.4986757383103168, -0.46045420772050055, -0.22951329387774067, 0.02957904106450078, -0.5720204352484027, -0.6234866050855874, -0.6051540454050273, -0.6463196312104823, -0.6138812747257589, -0.46697857434665585, -0.2552359148052204, -0.48723408940435686, -0.523918355502397, -0.40318568257118675, -0.4229676309440861, -0.4351702273928352, -0.2591707223133134, 0.07734976657050828, -0.2387748896238931, -0.24321077672302985, -0.2636258811997454, -0.2053222007384606, -0.27126383754166267, -0.2790392916591374, -0.27237782788090875, -0.4604086162906974, -0.507199573040029, -0.606027331619909, -0.6728118722712348, -0.49859327124120106, -0.3209108458816194, -0.19865455703288562, -0.2838268617062683, -0.14460262133163576, -0.2007984657685289, -0.46835792739674337, -0.35044359479230036, -0.3489575149361774, 0.20565464013511972, -0.36407100119658753, -0.07651153496295368, -0.3010397657901649, -0.1853125780270838, -0.26173570493928794, -0.2278782127754828, 0.011209339578238315, -0.20931143679744715, -0.4569644605795679, -0.4213771800835687, -0.3181477245461003, -0.327761433047389, -0.2730191967152504, -0.0708382414437764, -0.5194321668582229, -0.4954732214197962, -0.4320739637616901, -0.5914189224370965, -0.6006490926193869]\n"
          ]
        }
      ],
      "source": [
        "#error calculations\n",
        "#confirmed = merged_df_new['Actual']\n",
        "#projected = merged_df_new['Prediction']\n",
        "error = []\n",
        "rawerror = []\n",
        "\n",
        "for index, row in merged_df_new.iterrows():\n",
        "  rawerror.append(-1*(row['New Cases'] - row[\"Prediction\"]) / row['New Cases'])\n",
        "  error.append((abs(row['New Cases'] - row[\"Prediction\"])) / row['New Cases'])\n",
        "\n",
        "underpredictCount = 0\n",
        "overpredictCount = 0\n",
        "for x in rawerror:\n",
        "  if x < 0:\n",
        "    underpredictCount += 1\n",
        "  elif x > 0:\n",
        "    overpredictCount += 1\n",
        "\n",
        "underpredictPerecentage = underpredictCount / len(rawerror)\n",
        "overpredictPercentage = 1 - underpredictPerecentage\n",
        "\n",
        "print(underpredictCount)\n",
        "print(underpredictPerecentage)\n",
        "print(overpredictCount)\n",
        "print(overpredictPercentage)\n",
        "print(len(error))\n",
        "\n",
        "print(error)\n",
        "print(rawerror)"
      ]
    },
    {
      "cell_type": "code",
      "execution_count": 23,
      "id": "a0526cb0",
      "metadata": {
        "id": "a0526cb0",
        "colab": {
          "base_uri": "https://localhost:8080/"
        },
        "outputId": "9e4c80f2-6154-4555-b13a-cecb910c8dcf"
      },
      "outputs": [
        {
          "output_type": "stream",
          "name": "stdout",
          "text": [
            "[0.49849370220851885, 0.8163916711107257, 0.35996262960352565, 0.333001865847796, 0.39639258247906317, 0.317573207970678, 0.41593659097044555, 0.5453194482514389, 0.568900829797447, 0.4091220739068132, 0.5411138998073404, 0.4672437447836968, 0.353473227581957, 0.38167417411614757, 0.4915020420558248, 0.5235008729188342, 0.36885199119418777, 0.5121639113397003, 0.4403599894870369, 0.39925389314961734, 0.45022247525382386, 0.8142503847528053, 0.9313782563896906, 0.6420612352889504, 0.7432991064133493, 0.6634632764652488, 0.7015734385598584, 0.6553722608985995, 0.6588996262990726, 0.8281484802272674, 0.6266795956732011, 0.5779299991664921, 0.49769311578706654, 0.607374300071894, 0.6052230333656181, 0.5750015251417827, 0.8918391002199079, 0.6032224588910726, 0.6437005616971839, 0.5068312412332209, 0.5329282428143352, 0.4916263039962242, 0.7509542604387319, 0.9373288767376435, 0.7585396570088201, 0.8869538509118882, 0.7051213713039737, 0.529462463294053, 0.5415535532010086, 0.46249168846064415, 0.6066906179426701, 0.3835568089397169, 0.35379075946545946, 0.2943904659020705, 0.3487642240850759, 0.3300095812180398, 0.4708156397806551, 0.5156927158132594, 0.6306426258820637, 0.30900224855343605, 0.5174232282824314, 0.30115648833625897, 0.32156855480326296, 0.6656912235840527, 0.6272119621052058, 0.39782830227021293, 0.5673603631069313, 0.45929172251513484, 0.5338630722961899, 0.4769567887657169, 0.5039476211839713, 0.5961331616444538, 0.39974349857934177, 0.4331397908657171, 0.3703251458700395, 0.3384574033470985, 0.3707263648796496, 0.41848625028249375, 0.5650185278294797, 0.2706627489389263, 0.431282545591245, 0.3675892738967851, 0.3325960591764797, 0.3165606714522604, 0.41394720996132317, 0.5136303150217179, 0.41908409364233234, 0.29623853695331537, 0.31342174675339163, 0.28458870684840964, 0.23290478077708932, 0.39491109995812435, 0.4207833467251716, 0.3522017502292183, 0.35903796432528234, 0.29398658490207474, 0.2800974549067011, 0.24377485400683374, 0.5559088116539563, 0.5775500305991226, 0.46241505696670004, 0.4700456684678007, 0.3440189312699121, 0.3277124655907584, 0.32953224790778257, 0.3394678605456637, 0.3561563285101388, 0.25097961806291147, 0.260785230884509, 0.24691136988982187, 0.2363982315777602, 0.22596757548684343, 0.3493669844141254, 0.36995975382064905, 0.24647284885546294, 0.2634156279012436, 0.24789948774907644, 0.20331773122564578, 0.18215681649212845, 0.33100918743966434, 0.3205105733824136, 0.23313091617589488, 0.21922281395931043, 0.1922008357938798, 0.17912973753552663, 0.18817442616310376, 0.2434981579144656, 0.29324624378011865, 0.2197657065668589, 0.20935647767990917, 0.1919552634005034, 0.18560301747595953, 0.19228707889471341, 0.31062806516469577, 0.4182858340967033, 0.34602114204969825, 0.29622808863388206, 0.25375974310582405, 0.2911269405313054, 0.27246969370791596, 0.5377571234077584, 0.6630999242925719, 0.4979164937041419, 0.3255458910619793, 0.27054183043568236, 0.23560654220864152, 0.23462555572494803, 0.368569519604774, 0.4276401300855054, 0.29514886913431015, 0.37267878526074494, 0.2488590563117239, 0.23775240310287638, 0.2683550282574505, 0.4213076573395822, 0.5090084349898625, 0.4124406892055561, 0.4022415401127005, 0.42304000790430085, 0.43986032459309954, 0.4009873523232036, 0.7059886009623295, 0.5870976864300139, 0.5452874078886962, 0.4615200562925261, 0.5197619950592822, 0.6484101046633274, 0.6267697179811149, 0.8381376305014613, 0.8435793768081087, 0.47022666399988167, 0.4484949548203945, 0.5072938289877266, 0.5013242616896831, 0.5395457922794995, 0.7704867061222593, 0.9704209589354992, 0.42797956475159726, 0.3765133949144126, 0.39484595459497274, 0.3536803687895177, 0.38611872527424107, 0.5330214256533441, 0.7447640851947797, 0.5127659105956431, 0.47608164449760304, 0.5968143174288132, 0.5770323690559138, 0.5648297726071648, 0.7408292776866866, 0.9226502334294917, 0.761225110376107, 0.7567892232769702, 0.7363741188002546, 0.7946777992615394, 0.7287361624583373, 0.7209607083408627, 0.7276221721190912, 0.5395913837093026, 0.49280042695997095, 0.39397266838009104, 0.32718812772876515, 0.5014067287587989, 0.6790891541183806, 0.8013454429671144, 0.7161731382937317, 0.8553973786683642, 0.7992015342314711, 0.5316420726032567, 0.6495564052076996, 0.6510424850638226, 0.7943453598648803, 0.6359289988034125, 0.9234884650370463, 0.6989602342098351, 0.8146874219729162, 0.7382642950607121, 0.7721217872245172, 0.9887906604217617, 0.7906885632025529, 0.543035539420432, 0.5786228199164313, 0.6818522754538997, 0.672238566952611, 0.7269808032847496, 0.9291617585562236, 0.4805678331417771, 0.5045267785802038, 0.5679260362383098, 0.4085810775629035, 0.3993509073806131]\n"
          ]
        }
      ],
      "source": [
        "#accuracy calculations\n",
        "accuracy = []\n",
        "\n",
        "for i in error:\n",
        "  accuracy.append(1 - i)\n",
        "\n",
        "print(accuracy)"
      ]
    },
    {
      "cell_type": "code",
      "execution_count": null,
      "id": "a8012f5e",
      "metadata": {
        "id": "a8012f5e"
      },
      "outputs": [],
      "source": [
        "#Create Error and Accuracy Column and insert list data\n",
        "merged_df_new['Error'] = error\n",
        "merged_df_new['Accuracy'] = accuracy\n",
        "merged_df_new['RawError'] = rawerror\n",
        "\n",
        "print(merged_df_new)"
      ]
    },
    {
      "cell_type": "code",
      "execution_count": 25,
      "id": "6a1f3c40",
      "metadata": {
        "id": "6a1f3c40",
        "colab": {
          "base_uri": "https://localhost:8080/",
          "height": 313
        },
        "outputId": "0bf17c34-3a7e-47ad-dcbb-450794ed12f9"
      },
      "outputs": [
        {
          "output_type": "execute_result",
          "data": {
            "text/plain": [
              "<matplotlib.legend.Legend at 0x7f3809848950>"
            ]
          },
          "metadata": {},
          "execution_count": 25
        },
        {
          "output_type": "display_data",
          "data": {
            "text/plain": [
              "<Figure size 432x288 with 1 Axes>"
            ],
            "image/png": "[encoded data removed]"
          },
          "metadata": {
            "needs_background": "light"
          }
        }
      ],
      "source": [
        "from IPython.core.pylabtools import figsize\n",
        "#Create plot of Error\n",
        "\n",
        "#Error Line\n",
        "plt.plot(merged_df_new['Date'], merged_df_new['Error'], color='g', label='Error')\n",
        "\n",
        "\n",
        "#Create XY Labels and Title\n",
        "plt.xlabel('Date (Year/Month/Day)') \n",
        "plt.ylabel('Percentage') \n",
        "plt.title(\"Predicted Daily COVID-19 Case Error in PA\")\n",
        "#Display Plot\n",
        "plt.legend()"
      ]
    },
    {
      "cell_type": "code",
      "execution_count": 26,
      "id": "0480ef44",
      "metadata": {
        "id": "0480ef44",
        "colab": {
          "base_uri": "https://localhost:8080/",
          "height": 295
        },
        "outputId": "ddd48dbe-5032-42fd-aafe-99df2a88b94b"
      },
      "outputs": [
        {
          "output_type": "display_data",
          "data": {
            "text/plain": [
              "<Figure size 432x288 with 1 Axes>"
            ],
            "image/png": "[encoded data removed]"
          },
          "metadata": {
            "needs_background": "light"
          }
        }
      ],
      "source": [
        "#Create plot of Raw Error\n",
        "\n",
        "#Raw Error Line\n",
        "plt.plot(merged_df_new['Date'], merged_df_new['RawError'], color='g', label='Raw Error')\n",
        "plt.axhline(y=0.0, color='r', linestyle='-')\n",
        "\n",
        "#Create XY Labels and Title\n",
        "plt.xlabel('Date (Year/Month/Day)') \n",
        "plt.ylabel('Percentage') \n",
        "plt.title(\"Predicted Daily COVID-19 Case Raw Error in PA\")\n",
        "#Display Plot\n",
        "plt.legend()\n",
        "plt.show()"
      ]
    },
    {
      "cell_type": "code",
      "execution_count": 27,
      "id": "cb557ed1",
      "metadata": {
        "id": "cb557ed1",
        "colab": {
          "base_uri": "https://localhost:8080/",
          "height": 295
        },
        "outputId": "59d03439-052e-4289-9260-31d794cf83e4"
      },
      "outputs": [
        {
          "output_type": "display_data",
          "data": {
            "text/plain": [
              "<Figure size 432x288 with 1 Axes>"
            ],
            "image/png": "[encoded data removed]"
          },
          "metadata": {
            "needs_background": "light"
          }
        }
      ],
      "source": [
        "#Create plot of Accuracy\n",
        "\n",
        "#Accuracy Line\n",
        "plt.plot(merged_df_new['Date'], merged_df_new['Accuracy'], color='r', label='Daily Accuracy')\n",
        "\n",
        "#Create XY Labels and Title\n",
        "plt.xlabel('Date (Year/Month/Day)') \n",
        "plt.ylabel('Percentage') \n",
        "plt.title(\"Predicted Daily COVID-19 Case Accuracy in PA\")\n",
        "\n",
        "#Display Plot\n",
        "plt.legend()\n",
        "plt.show()"
      ]
    },
    {
      "cell_type": "code",
      "execution_count": 28,
      "id": "4d6b0409",
      "metadata": {
        "id": "4d6b0409"
      },
      "outputs": [],
      "source": [
        "#Calculate Weekly Accuracy Averages\n",
        "weeklyAccuracy = 0\n",
        "averageWeeklyAccuracy = []\n",
        "length = len(accuracy) #   =245\n",
        "amountOfWeeks = int(length / 7) #   =35\n",
        "remainderDays = length % 7 #  \n",
        "\n",
        "i = 0\n",
        "while i < length:\n",
        "  weeklyAccuracy += accuracy[i]\n",
        "  if (i + 1) % 7 == 0 and amountOfWeeks > 0:\n",
        "    averageWeeklyAccuracy.append(weeklyAccuracy / 7)\n",
        "    amountOfWeeks -= 1\n",
        "    weeklyAccuracy = 0\n",
        "  if remainderDays > 0:\n",
        "    if (i + 1) % remainderDays == 0 and amountOfWeeks == 0:\n",
        "      averageWeeklyAccuracy.append(weeklyAccuracy / remainderDays)\n",
        "      weeklyAccuracy = 0\n",
        "  i += 1\n",
        "\n",
        "weeklyDateList = []\n",
        "i = 0\n",
        "weeklyDateList.append(merged_df_new['Date'][i])\n",
        "while i < length:\n",
        "  if (i + 1) % 7 == 0:\n",
        "    weeklyDateList.append(merged_df_new['Date'][i])\n",
        "  i += 1"
      ]
    },
    {
      "cell_type": "code",
      "source": [
        "len(weeklyDateList)"
      ],
      "metadata": {
        "colab": {
          "base_uri": "https://localhost:8080/"
        },
        "id": "WJ-5HSFnNqoZ",
        "outputId": "59752607-8094-4ca1-e67b-cd5975763b2e"
      },
      "id": "WJ-5HSFnNqoZ",
      "execution_count": 29,
      "outputs": [
        {
          "output_type": "execute_result",
          "data": {
            "text/plain": [
              "34"
            ]
          },
          "metadata": {},
          "execution_count": 29
        }
      ]
    },
    {
      "cell_type": "code",
      "source": [
        "#del averageWeeklyAccuracy[-1:]\n",
        "#len(averageWeeklyAccuracy)"
      ],
      "metadata": {
        "id": "P90LPnPNNFv2"
      },
      "id": "P90LPnPNNFv2",
      "execution_count": 30,
      "outputs": []
    },
    {
      "cell_type": "code",
      "execution_count": 31,
      "id": "04c4449c",
      "metadata": {
        "id": "04c4449c"
      },
      "outputs": [],
      "source": [
        "#Create Dataframe for Weekly Accuracy\n",
        "i = 0\n",
        "data = []\n",
        "while i < len(averageWeeklyAccuracy):\n",
        "  data.append([weeklyDateList[i], averageWeeklyAccuracy[i]])\n",
        "  i += 1\n",
        "\n",
        "df = pd.DataFrame(data, columns = ['Week Of', 'Average Weekly Accuracy'])"
      ]
    },
    {
      "cell_type": "code",
      "execution_count": 32,
      "id": "6132cdfa",
      "metadata": {
        "id": "6132cdfa",
        "colab": {
          "base_uri": "https://localhost:8080/",
          "height": 295
        },
        "outputId": "73a08e44-bb3c-4f16-c526-66f69a15bf5b"
      },
      "outputs": [
        {
          "output_type": "display_data",
          "data": {
            "text/plain": [
              "<Figure size 432x288 with 1 Axes>"
            ],
            "image/png": "[encoded data removed]"
          },
          "metadata": {
            "needs_background": "light"
          }
        }
      ],
      "source": [
        "#Create plot of Weekly Accuracy\n",
        "\n",
        "#Accuracy Line\n",
        "plt.plot(df['Week Of'], df['Average Weekly Accuracy'], color='r', label='Weekly Accuracy')\n",
        "\n",
        "#Create XY Labels and Title\n",
        "plt.xlabel('Week Of (Year/Month/Day)') \n",
        "plt.ylabel('Average Weekly Accuracy Percentage') \n",
        "plt.title(\"Predicted Daily COVID-19 Case Weekly Accuracy in PA\")\n",
        "\n",
        "#Display Plot\n",
        "plt.legend()\n",
        "plt.show()"
      ]
    },
    {
      "cell_type": "code",
      "execution_count": 33,
      "id": "5917fad0",
      "metadata": {
        "id": "5917fad0"
      },
      "outputs": [],
      "source": [
        "#Create Running Weekly Average\n",
        "runningweeklyAccuracy = 0\n",
        "runningAverageWeeklyAccuracy = []\n",
        "length = len(accuracy)\n",
        "\n",
        "i = 1\n",
        "j = 8\n",
        "#Add first week average\n",
        "runningAverageWeeklyAccuracy.append(averageWeeklyAccuracy[0])\n",
        "\n",
        "while j < length:\n",
        "  temp_i = i\n",
        "  temp_j = j\n",
        "  while temp_i < temp_j:\n",
        "    runningweeklyAccuracy += accuracy[temp_i]\n",
        "    temp_i += 1\n",
        "  runningAverageWeeklyAccuracy.append(runningweeklyAccuracy / 7)\n",
        "  runningweeklyAccuracy = 0\n",
        "\n",
        "  i += 1\n",
        "  j += 1"
      ]
    },
    {
      "cell_type": "code",
      "execution_count": 34,
      "id": "5b231780",
      "metadata": {
        "id": "5b231780"
      },
      "outputs": [],
      "source": [
        "#Create Dataframe for Running Weekly Accuracy\n",
        "i = 0\n",
        "data = []\n",
        "while i < len(runningAverageWeeklyAccuracy):\n",
        "  data.append([merged_df_new['Date'][i], runningAverageWeeklyAccuracy[i]])\n",
        "  i += 1\n",
        "\n",
        "df = pd.DataFrame(data, columns = ['Date', 'Running Weekly Average Accuracy'])"
      ]
    },
    {
      "cell_type": "code",
      "execution_count": 35,
      "id": "85337528",
      "metadata": {
        "id": "85337528",
        "colab": {
          "base_uri": "https://localhost:8080/",
          "height": 295
        },
        "outputId": "f18ba0f5-d67a-4ec1-9091-aed40ae7f723"
      },
      "outputs": [
        {
          "output_type": "display_data",
          "data": {
            "text/plain": [
              "<Figure size 432x288 with 1 Axes>"
            ],
            "image/png": "[encoded data removed]"
          },
          "metadata": {
            "needs_background": "light"
          }
        }
      ],
      "source": [
        "#Create plot of Running Weekly Accuracy\n",
        "\n",
        "#Accuracy Line\n",
        "plt.plot(df['Date'], df['Running Weekly Average Accuracy'], color='r', label='Running Weekly Accuracy')\n",
        "\n",
        "#Create XY Labels and Title\n",
        "plt.xlabel('Date') \n",
        "plt.ylabel('Accuracy Percentage') \n",
        "plt.title(\"Predicted Daily COVID-19 Case Running Weekly Accuracy in PA\")\n",
        "\n",
        "#Display Plot\n",
        "plt.legend()\n",
        "plt.show()"
      ]
    },
    {
      "cell_type": "code",
      "execution_count": 36,
      "id": "b8764ff7",
      "metadata": {
        "id": "b8764ff7",
        "colab": {
          "base_uri": "https://localhost:8080/",
          "height": 295
        },
        "outputId": "7d20276d-41d2-4203-bd69-67c4dc6fdd7d"
      },
      "outputs": [
        {
          "output_type": "display_data",
          "data": {
            "text/plain": [
              "<Figure size 432x288 with 1 Axes>"
            ],
            "image/png": "[encoded data removed]"
          },
          "metadata": {
            "needs_background": "light"
          }
        }
      ],
      "source": [
        "#Plot with combined daily accuracy and running weekly accuracy\n",
        "\n",
        "#Daily Accuracy\n",
        "plt.plot(merged_df_new['Date'], merged_df_new['Accuracy'], color='r', label='Daily Accuracy')\n",
        "\n",
        "#Running Accuracy Line\n",
        "plt.plot(df['Date'], df['Running Weekly Average Accuracy'], color='b', label='Running Weekly Accuracy')\n",
        "\n",
        "#Create XY Labels and Title\n",
        "plt.xlabel('Date') \n",
        "plt.ylabel('Accuracy Percentage') \n",
        "plt.title(\"Predicted Daily COVID-19 Case Accuracy in PA\")\n",
        "\n",
        "#Display Plot\n",
        "plt.legend()\n",
        "plt.show()"
      ]
    },
    {
      "cell_type": "code",
      "execution_count": 37,
      "id": "4243a737",
      "metadata": {
        "id": "4243a737"
      },
      "outputs": [],
      "source": [
        "#merged_df_new.to_csv('DDS_everyday_predictions.csv')"
      ]
    },
    {
      "cell_type": "code",
      "execution_count": 38,
      "id": "b8d57b22",
      "metadata": {
        "id": "b8d57b22"
      },
      "outputs": [],
      "source": [
        "#Calculate Monthly Accuracy Averages\n",
        "#We are going to use an average of 30 days per month for these calculations\n",
        "\n",
        "monthlyAccuracy = 0\n",
        "averageMonthlyAccuracy = []\n",
        "amountOfMonths = int(length / 30)\n",
        "remainderDays = length % 30\n",
        "\n",
        "i = 0\n",
        "while i < length:\n",
        "  monthlyAccuracy += accuracy[i]\n",
        "  if (i + 1) % 30 == 0 and amountOfMonths > 0:\n",
        "    averageMonthlyAccuracy.append(monthlyAccuracy / 30)\n",
        "    amountOfMonths -= 1\n",
        "    monthlyAccuracy = 0\n",
        "  if (i + 1) % remainderDays == 0 and remainderDays > 0 and amountOfMonths == 0:\n",
        "    averageMonthlyAccuracy.append(monthlyAccuracy / remainderDays)\n",
        "    monthlyAccuracy = 0\n",
        "  i += 1\n",
        "\n",
        "weeklyDateListForMonths = []\n",
        "i = 0\n",
        "weeklyDateListForMonths.append(merged_df_new['Date'][i])\n",
        "while i < length:\n",
        "  if (i + 1) % 30 == 0:\n",
        "    weeklyDateListForMonths.append(merged_df_new['Date'][i])\n",
        "  i += 1\n"
      ]
    },
    {
      "cell_type": "code",
      "execution_count": 39,
      "id": "c9d81c9a",
      "metadata": {
        "id": "c9d81c9a",
        "colab": {
          "base_uri": "https://localhost:8080/"
        },
        "outputId": "206ab475-9d30-4777-d665-59b36b801508"
      },
      "outputs": [
        {
          "output_type": "execute_result",
          "data": {
            "text/plain": [
              "8"
            ]
          },
          "metadata": {},
          "execution_count": 39
        }
      ],
      "source": [
        "del averageMonthlyAccuracy[-1:]\n",
        "len(averageMonthlyAccuracy)"
      ]
    },
    {
      "cell_type": "code",
      "execution_count": 40,
      "id": "d2d88cd5",
      "metadata": {
        "id": "d2d88cd5"
      },
      "outputs": [],
      "source": [
        "#Create Dataframe for Monthly Accuracy\n",
        "i = 0\n",
        "data = []\n",
        "while i < len(averageMonthlyAccuracy):\n",
        "  data.append([weeklyDateListForMonths[i], averageMonthlyAccuracy[i]])\n",
        "  i += 1\n",
        "\n",
        "df = pd.DataFrame(data, columns = ['Month Of', 'Average Monthly Accuracy'])"
      ]
    },
    {
      "cell_type": "code",
      "execution_count": 41,
      "id": "bbf2b69a",
      "metadata": {
        "id": "bbf2b69a",
        "colab": {
          "base_uri": "https://localhost:8080/",
          "height": 295
        },
        "outputId": "308dd27a-0036-4a7a-af7f-a96ca527644a"
      },
      "outputs": [
        {
          "output_type": "display_data",
          "data": {
            "text/plain": [
              "<Figure size 432x288 with 1 Axes>"
            ],
            "image/png": "[encoded data removed]"
          },
          "metadata": {
            "needs_background": "light"
          }
        }
      ],
      "source": [
        "#Create plot of Monthly Accuracy\n",
        "\n",
        "#Accuracy Line\n",
        "plt.plot(df['Month Of'], df['Average Monthly Accuracy'], color='r', label='Monthly Accuracy')\n",
        "\n",
        "#Create XY Labels and Title\n",
        "plt.xlabel('Month Of (Year/Month/Day)') \n",
        "plt.ylabel('Average Monthly Accuracy Percentage') \n",
        "plt.title(\"Predicted Daily COVID-19 Case Monthly Accuracy in PA\")\n",
        "\n",
        "#Display Plot\n",
        "plt.legend()\n",
        "plt.show()"
      ]
    },
    {
      "cell_type": "code",
      "source": [
        "#Calculate Running Monthly Accuracy\n",
        "\n",
        "runningmonthlyAccuracy = 0\n",
        "runningAveragemonthlyAccuracy = []\n",
        "length = len(accuracy)\n",
        "\n",
        "i = 1\n",
        "j = 31\n",
        "#Add first week average\n",
        "runningAveragemonthlyAccuracy.append(averageMonthlyAccuracy[0])\n",
        "\n",
        "while j < length:\n",
        "  temp_i = i\n",
        "  temp_j = j\n",
        "  while temp_i < temp_j:\n",
        "    runningmonthlyAccuracy += accuracy[temp_i]\n",
        "    temp_i += 1\n",
        "  runningAveragemonthlyAccuracy.append(runningmonthlyAccuracy / 30)\n",
        "  runningmonthlyAccuracy = 0\n",
        "\n",
        "  i += 1\n",
        "  j += 1"
      ],
      "metadata": {
        "id": "X02LeClcSWTa"
      },
      "id": "X02LeClcSWTa",
      "execution_count": 42,
      "outputs": []
    },
    {
      "cell_type": "code",
      "source": [
        "#Create Dataframe for Running Monthly Accuracy\n",
        "i = 0\n",
        "data = []\n",
        "while i < len(runningAveragemonthlyAccuracy):\n",
        "  data.append([merged_df_new['Date'][i], runningAveragemonthlyAccuracy[i]])\n",
        "  i += 1\n",
        "\n",
        "df = pd.DataFrame(data, columns = ['Date', 'Running Monthly Average Accuracy'])"
      ],
      "metadata": {
        "id": "0IAKKnIZSc7e"
      },
      "id": "0IAKKnIZSc7e",
      "execution_count": 43,
      "outputs": []
    },
    {
      "cell_type": "code",
      "source": [
        "#Create plot of Running Monthly Accuracy\n",
        "\n",
        "#Accuracy Line\n",
        "plt.plot(df['Date'], df['Running Monthly Average Accuracy'], color='r', label='Running Monthly Accuracy')\n",
        "\n",
        "#Create XY Labels and Title\n",
        "plt.xlabel('Date') \n",
        "plt.ylabel('Accuracy Percentage') \n",
        "plt.title(\"Predicted Daily COVID-19 Case Running Monthly Accuracy in PA\")\n",
        "\n",
        "#Display Plot\n",
        "plt.legend()\n",
        "plt.show()"
      ],
      "metadata": {
        "colab": {
          "base_uri": "https://localhost:8080/",
          "height": 295
        },
        "id": "qhK2tbJaSkPW",
        "outputId": "30b717fa-ae3e-4526-fee1-5d3f370d4ac8"
      },
      "id": "qhK2tbJaSkPW",
      "execution_count": 44,
      "outputs": [
        {
          "output_type": "display_data",
          "data": {
            "text/plain": [
              "<Figure size 432x288 with 1 Axes>"
            ],
            "image/png": "[encoded data removed]"
          },
          "metadata": {
            "needs_background": "light"
          }
        }
      ]
    },
    {
      "cell_type": "code",
      "source": [
        "#Calculate Overall Accuracy\n",
        "overallAccuracy = merged_df_new['Accuracy'].mean()\n",
        "print(overallAccuracy)"
      ],
      "metadata": {
        "colab": {
          "base_uri": "https://localhost:8080/"
        },
        "id": "wvfzf5lyTIzD",
        "outputId": "3caaf562-10fa-490a-f768-acb4ef606b13"
      },
      "id": "wvfzf5lyTIzD",
      "execution_count": 47,
      "outputs": [
        {
          "output_type": "stream",
          "name": "stdout",
          "text": [
            "0.49021886572568163\n"
          ]
        }
      ]
    },
    {
      "cell_type": "code",
      "source": [
        "#cleans accuracy list of all nan values\n",
        "newlist = [x for x in accuracy if math.isnan(x) == False]\n",
        "print(newlist)"
      ],
      "metadata": {
        "colab": {
          "base_uri": "https://localhost:8080/"
        },
        "id": "8zA1N2KGNCJ2",
        "outputId": "dd3b3dee-a7af-4199-d888-965f5d80d29a"
      },
      "id": "8zA1N2KGNCJ2",
      "execution_count": 48,
      "outputs": [
        {
          "output_type": "stream",
          "name": "stdout",
          "text": [
            "[0.49849370220851885, 0.8163916711107257, 0.35996262960352565, 0.333001865847796, 0.39639258247906317, 0.317573207970678, 0.41593659097044555, 0.5453194482514389, 0.568900829797447, 0.4091220739068132, 0.5411138998073404, 0.4672437447836968, 0.353473227581957, 0.38167417411614757, 0.4915020420558248, 0.5235008729188342, 0.36885199119418777, 0.5121639113397003, 0.4403599894870369, 0.39925389314961734, 0.45022247525382386, 0.8142503847528053, 0.9313782563896906, 0.6420612352889504, 0.7432991064133493, 0.6634632764652488, 0.7015734385598584, 0.6553722608985995, 0.6588996262990726, 0.8281484802272674, 0.6266795956732011, 0.5779299991664921, 0.49769311578706654, 0.607374300071894, 0.6052230333656181, 0.5750015251417827, 0.8918391002199079, 0.6032224588910726, 0.6437005616971839, 0.5068312412332209, 0.5329282428143352, 0.4916263039962242, 0.7509542604387319, 0.9373288767376435, 0.7585396570088201, 0.8869538509118882, 0.7051213713039737, 0.529462463294053, 0.5415535532010086, 0.46249168846064415, 0.6066906179426701, 0.3835568089397169, 0.35379075946545946, 0.2943904659020705, 0.3487642240850759, 0.3300095812180398, 0.4708156397806551, 0.5156927158132594, 0.6306426258820637, 0.30900224855343605, 0.5174232282824314, 0.30115648833625897, 0.32156855480326296, 0.6656912235840527, 0.6272119621052058, 0.39782830227021293, 0.5673603631069313, 0.45929172251513484, 0.5338630722961899, 0.4769567887657169, 0.5039476211839713, 0.5961331616444538, 0.39974349857934177, 0.4331397908657171, 0.3703251458700395, 0.3384574033470985, 0.3707263648796496, 0.41848625028249375, 0.5650185278294797, 0.2706627489389263, 0.431282545591245, 0.3675892738967851, 0.3325960591764797, 0.3165606714522604, 0.41394720996132317, 0.5136303150217179, 0.41908409364233234, 0.29623853695331537, 0.31342174675339163, 0.28458870684840964, 0.23290478077708932, 0.39491109995812435, 0.4207833467251716, 0.3522017502292183, 0.35903796432528234, 0.29398658490207474, 0.2800974549067011, 0.24377485400683374, 0.5559088116539563, 0.5775500305991226, 0.46241505696670004, 0.4700456684678007, 0.3440189312699121, 0.3277124655907584, 0.32953224790778257, 0.3394678605456637, 0.3561563285101388, 0.25097961806291147, 0.260785230884509, 0.24691136988982187, 0.2363982315777602, 0.22596757548684343, 0.3493669844141254, 0.36995975382064905, 0.24647284885546294, 0.2634156279012436, 0.24789948774907644, 0.20331773122564578, 0.18215681649212845, 0.33100918743966434, 0.3205105733824136, 0.23313091617589488, 0.21922281395931043, 0.1922008357938798, 0.17912973753552663, 0.18817442616310376, 0.2434981579144656, 0.29324624378011865, 0.2197657065668589, 0.20935647767990917, 0.1919552634005034, 0.18560301747595953, 0.19228707889471341, 0.31062806516469577, 0.4182858340967033, 0.34602114204969825, 0.29622808863388206, 0.25375974310582405, 0.2911269405313054, 0.27246969370791596, 0.5377571234077584, 0.6630999242925719, 0.4979164937041419, 0.3255458910619793, 0.27054183043568236, 0.23560654220864152, 0.23462555572494803, 0.368569519604774, 0.4276401300855054, 0.29514886913431015, 0.37267878526074494, 0.2488590563117239, 0.23775240310287638, 0.2683550282574505, 0.4213076573395822, 0.5090084349898625, 0.4124406892055561, 0.4022415401127005, 0.42304000790430085, 0.43986032459309954, 0.4009873523232036, 0.7059886009623295, 0.5870976864300139, 0.5452874078886962, 0.4615200562925261, 0.5197619950592822, 0.6484101046633274, 0.6267697179811149, 0.8381376305014613, 0.8435793768081087, 0.47022666399988167, 0.4484949548203945, 0.5072938289877266, 0.5013242616896831, 0.5395457922794995, 0.7704867061222593, 0.9704209589354992, 0.42797956475159726, 0.3765133949144126, 0.39484595459497274, 0.3536803687895177, 0.38611872527424107, 0.5330214256533441, 0.7447640851947797, 0.5127659105956431, 0.47608164449760304, 0.5968143174288132, 0.5770323690559138, 0.5648297726071648, 0.7408292776866866, 0.9226502334294917, 0.761225110376107, 0.7567892232769702, 0.7363741188002546, 0.7946777992615394, 0.7287361624583373, 0.7209607083408627, 0.7276221721190912, 0.5395913837093026, 0.49280042695997095, 0.39397266838009104, 0.32718812772876515, 0.5014067287587989, 0.6790891541183806, 0.8013454429671144, 0.7161731382937317, 0.8553973786683642, 0.7992015342314711, 0.5316420726032567, 0.6495564052076996, 0.6510424850638226, 0.7943453598648803, 0.6359289988034125, 0.9234884650370463, 0.6989602342098351, 0.8146874219729162, 0.7382642950607121, 0.7721217872245172, 0.9887906604217617, 0.7906885632025529, 0.543035539420432, 0.5786228199164313, 0.6818522754538997, 0.672238566952611, 0.7269808032847496, 0.9291617585562236, 0.4805678331417771, 0.5045267785802038, 0.5679260362383098, 0.4085810775629035, 0.3993509073806131]\n"
          ]
        }
      ]
    },
    {
      "cell_type": "code",
      "source": [
        "#calculate variance and st deviation of accuracy\n",
        "var = sum((l-overallAccuracy)**2 for l in newlist) / len(newlist)\n",
        "st_dev = math.sqrt(var)\n",
        "print(var)\n",
        "print(st_dev)"
      ],
      "metadata": {
        "colab": {
          "base_uri": "https://localhost:8080/"
        },
        "id": "kuUPnP9-NEJ3",
        "outputId": "f20b4b01-d1a8-46b0-8657-f30eecf4201a"
      },
      "id": "kuUPnP9-NEJ3",
      "execution_count": 49,
      "outputs": [
        {
          "output_type": "stream",
          "name": "stdout",
          "text": [
            "0.036708461580496295\n",
            "0.1915945238791973\n"
          ]
        }
      ]
    },
    {
      "cell_type": "code",
      "source": [
        "#calculate median of accuracy\n",
        "accMedian = statistics.median(newlist)\n",
        "print(accMedian)"
      ],
      "metadata": {
        "colab": {
          "base_uri": "https://localhost:8080/"
        },
        "id": "A6QquiwwNGDl",
        "outputId": "d8492235-9a3b-4264-c81f-7a4f981d898f"
      },
      "id": "A6QquiwwNGDl",
      "execution_count": 50,
      "outputs": [
        {
          "output_type": "stream",
          "name": "stdout",
          "text": [
            "0.4700456684678007\n"
          ]
        }
      ]
    },
    {
      "cell_type": "code",
      "source": [
        "#Seperate Running Weekly Average plot into 3 plots for the 3 variants: Original, Delta, Omicron\n",
        "\n",
        "# Start Date - May 20th 2021"
      ],
      "metadata": {
        "id": "ecJmLXVZwvKG"
      },
      "id": "ecJmLXVZwvKG",
      "execution_count": 53,
      "outputs": []
    },
    {
      "cell_type": "code",
      "source": [
        "type(merged_df_new['Date'][1])"
      ],
      "metadata": {
        "colab": {
          "base_uri": "https://localhost:8080/"
        },
        "id": "4pTo7zbdxABy",
        "outputId": "fc8f0120-87e9-41dc-896b-8385dea7aef6"
      },
      "id": "4pTo7zbdxABy",
      "execution_count": 52,
      "outputs": [
        {
          "output_type": "execute_result",
          "data": {
            "text/plain": [
              "pandas._libs.tslibs.timestamps.Timestamp"
            ]
          },
          "metadata": {},
          "execution_count": 52
        }
      ]
    },
    {
      "cell_type": "code",
      "source": [
        "merged_df_new.index[merged_df_new['Date']=='2021-02-26'].tolist()"
      ],
      "metadata": {
        "colab": {
          "base_uri": "https://localhost:8080/"
        },
        "id": "5BjQzX3MxC4f",
        "outputId": "b75bb799-2312-4914-d42e-8949b0b46224"
      },
      "id": "5BjQzX3MxC4f",
      "execution_count": 54,
      "outputs": [
        {
          "output_type": "execute_result",
          "data": {
            "text/plain": [
              "[230]"
            ]
          },
          "metadata": {},
          "execution_count": 54
        }
      ]
    },
    {
      "cell_type": "code",
      "source": [
        "#print(merged_inner)\n",
        "standardVariantDF = merged_df_new[:230]"
      ],
      "metadata": {
        "id": "BFkoCKm0xJqp"
      },
      "id": "BFkoCKm0xJqp",
      "execution_count": 55,
      "outputs": []
    },
    {
      "cell_type": "code",
      "source": [
        "#Create plot of Accuracy\n",
        "\n",
        "#Accuracy Line\n",
        "plt.plot(standardVariantDF['Date'], standardVariantDF['Accuracy'], color='r', label='Daily Accuracy')\n",
        "\n",
        "#Create XY Labels and Title\n",
        "plt.xlabel('Date (Year/Month/Day)') \n",
        "plt.ylabel('Percentage') \n",
        "plt.title(\"(Standard covid) Predicted Daily COVID-19 Case Accuracy in PA\")\n",
        "\n",
        "#Display Plot\n",
        "plt.legend()\n",
        "plt.show()"
      ],
      "metadata": {
        "colab": {
          "base_uri": "https://localhost:8080/",
          "height": 295
        },
        "id": "MjhBqyK2xPYV",
        "outputId": "778a5741-7eb3-46e5-9eca-da0c77a7f5ec"
      },
      "id": "MjhBqyK2xPYV",
      "execution_count": 56,
      "outputs": [
        {
          "output_type": "display_data",
          "data": {
            "text/plain": [
              "<Figure size 432x288 with 1 Axes>"
            ],
            "image/png": "[encoded data removed]"
          },
          "metadata": {
            "needs_background": "light"
          }
        }
      ]
    }
  ],
  "metadata": {
    "kernelspec": {
      "display_name": "Python 3 (ipykernel)",
      "language": "python",
      "name": "python3"
    },
    "language_info": {
      "codemirror_mode": {
        "name": "ipython",
        "version": 3
      },
      "file_extension": ".py",
      "mimetype": "text/x-python",
      "name": "python",
      "nbconvert_exporter": "python",
      "pygments_lexer": "ipython3",
      "version": "3.9.7"
    },
    "colab": {
      "name": "UCLA-SuEIR-analysis.ipynb",
      "provenance": [],
      "collapsed_sections": []
    }
  },
  "nbformat": 4,
  "nbformat_minor": 5
}