{
  "cells": [
    {
      "cell_type": "code",
      "execution_count": 1,
      "id": "19d98421",
      "metadata": {
        "id": "19d98421"
      },
      "outputs": [],
      "source": [
        "#import libraries\n",
        "import csv\n",
        "import pandas as pd\n",
        "import matplotlib.pyplot as plt\n",
        "import math\n",
        "import numpy as np\n",
        "import statistics\n",
        "import glob\n",
        "import requests\n",
        "from itertools import repeat"
      ]
    },
    {
      "cell_type": "code",
      "execution_count": 2,
      "id": "bb3a7895",
      "metadata": {
        "id": "bb3a7895"
      },
      "outputs": [],
      "source": [
        "#actual COVID-19 cases data for PA\n",
        "url2 = 'https://raw.githubusercontent.com/IvanVoinovGitHub/Covid19-Analysis-Modeling/main/Data/COVID-19_Aggregate_Cases_Current_Daily_County_Health.csv'\n",
        "df1 = pd.read_csv(url2)"
      ]
    },
    {
      "cell_type": "code",
      "execution_count": 3,
      "id": "16ac3fab",
      "metadata": {
        "id": "16ac3fab"
      },
      "outputs": [],
      "source": [
        "url = 'https://github.com/reichlab/covid19-forecast-hub/tree/master/data-processed/MIT_ISOLAT-Mixtures'\n",
        "download = requests.get(url).content\n",
        "\n",
        "csvStringList = []\n",
        "hrefStringList = []\n",
        "urlExtension = []\n",
        "rawUrls = []\n",
        "tempList = []\n",
        "urlExtensionwoutblob = []\n",
        "urlBeginning = 'https://raw.githubusercontent.com'\n",
        "\n",
        "urlStringList = str(requests.get(url).text).split(\" \")\n",
        "for i in urlStringList:\n",
        "  if \"csv\" in i:\n",
        "    csvStringList.append(i)\n",
        "\n",
        "for i in csvStringList:\n",
        "  if \"href\" in i and \"/reichlab/covid19-forecast-hub/blob/master/data-processed/\" in i:\n",
        "    hrefStringList.append(i)\n",
        "\n",
        "for i in hrefStringList:\n",
        "  tempList1 = i.split(\"\\\"\")\n",
        "  for x in tempList1:\n",
        "    if \"/reichlab/covid19-forecast-hub/blob/master/data-processed/\" in x:\n",
        "      urlExtension.append(x)\n",
        "\n",
        "for i in urlExtension:\n",
        "  newString = \"\"\n",
        "  tempList = []\n",
        "  temp = i.split(\"/\")\n",
        "  for x in temp:\n",
        "    if \"blob\" not in x:\n",
        "      tempList.append(x)\n",
        "  for j in range(1, len(tempList)):\n",
        "    newString += \"/\" + tempList[j]\n",
        "  urlExtensionwoutblob.append(newString)\n",
        "\n",
        "\n",
        "for i in urlExtensionwoutblob:\n",
        "  finalUrl = urlBeginning + i\n",
        "  rawUrls.append(finalUrl)"
      ]
    },
    {
      "cell_type": "code",
      "execution_count": 4,
      "id": "922310e5",
      "metadata": {
        "id": "922310e5"
      },
      "outputs": [],
      "source": [
        "#reading all the raw data, filtering PA cases data, and ensemble back into one dataframe\n",
        "all_data = []\n",
        "for url in rawUrls:\n",
        "    df3=pd.read_csv(url)\n",
        "    df2_case = df3[df3['target'].str.contains('case')]\n",
        "    df2_casesPA = df2_case[(df2_case[\"type\"]==\"point\") & (df2_case[\"location\"]==\"42\")]\n",
        "    all_data.append(df2_casesPA)"
      ]
    },
    {
      "cell_type": "code",
      "execution_count": 5,
      "id": "e6b3b86d",
      "metadata": {
        "id": "e6b3b86d",
        "outputId": "646cc980-26cc-4caf-96f1-06b8e9b12922",
        "colab": {
          "base_uri": "https://localhost:8080/"
        }
      },
      "outputs": [
        {
          "output_type": "execute_result",
          "data": {
            "text/plain": [
              "60"
            ]
          },
          "metadata": {},
          "execution_count": 5
        }
      ],
      "source": [
        "len(all_data)"
      ]
    },
    {
      "cell_type": "code",
      "execution_count": 6,
      "id": "9ca79685",
      "metadata": {
        "id": "9ca79685",
        "colab": {
          "base_uri": "https://localhost:8080/",
          "height": 206
        },
        "outputId": "586b5829-0113-4124-8757-cd59ba27ed46"
      },
      "outputs": [
        {
          "output_type": "execute_result",
          "data": {
            "text/plain": [
              "     forecast_date location  quantile               target target_end_date  \\\n",
              "4288    2021-01-17       42       NaN  1 wk ahead inc case      2021-01-23   \n",
              "4296    2021-01-17       42       NaN  2 wk ahead inc case      2021-01-30   \n",
              "4304    2021-01-17       42       NaN  3 wk ahead inc case      2021-02-06   \n",
              "4312    2021-01-17       42       NaN  4 wk ahead inc case      2021-02-13   \n",
              "4288    2021-01-25       42       NaN  1 wk ahead inc case      2021-01-30   \n",
              "\n",
              "       type         value  \n",
              "4288  point  54373.656710  \n",
              "4296  point  58991.270263  \n",
              "4304  point  65215.848427  \n",
              "4312  point  72436.206406  \n",
              "4288  point  41377.911327  "
            ],
            "text/html": [
              "\n",
              "  <div id=\"df-27bc8757-481b-4b40-a1f9-ed0fb971cab3\">\n",
              "    <div class=\"colab-df-container\">\n",
              "      <div>\n",
              "<style scoped>\n",
              "    .dataframe tbody tr th:only-of-type {\n",
              "        vertical-align: middle;\n",
              "    }\n",
              "\n",
              "    .dataframe tbody tr th {\n",
              "        vertical-align: top;\n",
              "    }\n",
              "\n",
              "    .dataframe thead th {\n",
              "        text-align: right;\n",
              "    }\n",
              "</style>\n",
              "<table border=\"1\" class=\"dataframe\">\n",
              "  <thead>\n",
              "    <tr style=\"text-align: right;\">\n",
              "      <th></th>\n",
              "      <th>forecast_date</th>\n",
              "      <th>location</th>\n",
              "      <th>quantile</th>\n",
              "      <th>target</th>\n",
              "      <th>target_end_date</th>\n",
              "      <th>type</th>\n",
              "      <th>value</th>\n",
              "    </tr>\n",
              "  </thead>\n",
              "  <tbody>\n",
              "    <tr>\n",
              "      <th>4288</th>\n",
              "      <td>2021-01-17</td>\n",
              "      <td>42</td>\n",
              "      <td>NaN</td>\n",
              "      <td>1 wk ahead inc case</td>\n",
              "      <td>2021-01-23</td>\n",
              "      <td>point</td>\n",
              "      <td>54373.656710</td>\n",
              "    </tr>\n",
              "    <tr>\n",
              "      <th>4296</th>\n",
              "      <td>2021-01-17</td>\n",
              "      <td>42</td>\n",
              "      <td>NaN</td>\n",
              "      <td>2 wk ahead inc case</td>\n",
              "      <td>2021-01-30</td>\n",
              "      <td>point</td>\n",
              "      <td>58991.270263</td>\n",
              "    </tr>\n",
              "    <tr>\n",
              "      <th>4304</th>\n",
              "      <td>2021-01-17</td>\n",
              "      <td>42</td>\n",
              "      <td>NaN</td>\n",
              "      <td>3 wk ahead inc case</td>\n",
              "      <td>2021-02-06</td>\n",
              "      <td>point</td>\n",
              "      <td>65215.848427</td>\n",
              "    </tr>\n",
              "    <tr>\n",
              "      <th>4312</th>\n",
              "      <td>2021-01-17</td>\n",
              "      <td>42</td>\n",
              "      <td>NaN</td>\n",
              "      <td>4 wk ahead inc case</td>\n",
              "      <td>2021-02-13</td>\n",
              "      <td>point</td>\n",
              "      <td>72436.206406</td>\n",
              "    </tr>\n",
              "    <tr>\n",
              "      <th>4288</th>\n",
              "      <td>2021-01-25</td>\n",
              "      <td>42</td>\n",
              "      <td>NaN</td>\n",
              "      <td>1 wk ahead inc case</td>\n",
              "      <td>2021-01-30</td>\n",
              "      <td>point</td>\n",
              "      <td>41377.911327</td>\n",
              "    </tr>\n",
              "  </tbody>\n",
              "</table>\n",
              "</div>\n",
              "      <button class=\"colab-df-convert\" onclick=\"convertToInteractive('df-27bc8757-481b-4b40-a1f9-ed0fb971cab3')\"\n",
              "              title=\"Convert this dataframe to an interactive table.\"\n",
              "              style=\"display:none;\">\n",
              "        \n",
              "  <svg xmlns=\"http://www.w3.org/2000/svg\" height=\"24px\"viewBox=\"0 0 24 24\"\n",
              "       width=\"24px\">\n",
              "    <path d=\"M0 0h24v24H0V0z\" fill=\"none\"/>\n",
              "    <path d=\"M18.56 5.44l.94 2.06.94-2.06 2.06-.94-2.06-.94-.94-2.06-.94 2.06-2.06.94zm-11 1L8.5 8.5l.94-2.06 2.06-.94-2.06-.94L8.5 2.5l-.94 2.06-2.06.94zm10 10l.94 2.06.94-2.06 2.06-.94-2.06-.94-.94-2.06-.94 2.06-2.06.94z\"/><path d=\"M17.41 7.96l-1.37-1.37c-.4-.4-.92-.59-1.43-.59-.52 0-1.04.2-1.43.59L10.3 9.45l-7.72 7.72c-.78.78-.78 2.05 0 2.83L4 21.41c.39.39.9.59 1.41.59.51 0 1.02-.2 1.41-.59l7.78-7.78 2.81-2.81c.8-.78.8-2.07 0-2.86zM5.41 20L4 18.59l7.72-7.72 1.47 1.35L5.41 20z\"/>\n",
              "  </svg>\n",
              "      </button>\n",
              "      \n",
              "  <style>\n",
              "    .colab-df-container {\n",
              "      display:flex;\n",
              "      flex-wrap:wrap;\n",
              "      gap: 12px;\n",
              "    }\n",
              "\n",
              "    .colab-df-convert {\n",
              "      background-color: #E8F0FE;\n",
              "      border: none;\n",
              "      border-radius: 50%;\n",
              "      cursor: pointer;\n",
              "      display: none;\n",
              "      fill: #1967D2;\n",
              "      height: 32px;\n",
              "      padding: 0 0 0 0;\n",
              "      width: 32px;\n",
              "    }\n",
              "\n",
              "    .colab-df-convert:hover {\n",
              "      background-color: #E2EBFA;\n",
              "      box-shadow: 0px 1px 2px rgba(60, 64, 67, 0.3), 0px 1px 3px 1px rgba(60, 64, 67, 0.15);\n",
              "      fill: #174EA6;\n",
              "    }\n",
              "\n",
              "    [theme=dark] .colab-df-convert {\n",
              "      background-color: #3B4455;\n",
              "      fill: #D2E3FC;\n",
              "    }\n",
              "\n",
              "    [theme=dark] .colab-df-convert:hover {\n",
              "      background-color: #434B5C;\n",
              "      box-shadow: 0px 1px 3px 1px rgba(0, 0, 0, 0.15);\n",
              "      filter: drop-shadow(0px 1px 2px rgba(0, 0, 0, 0.3));\n",
              "      fill: #FFFFFF;\n",
              "    }\n",
              "  </style>\n",
              "\n",
              "      <script>\n",
              "        const buttonEl =\n",
              "          document.querySelector('#df-27bc8757-481b-4b40-a1f9-ed0fb971cab3 button.colab-df-convert');\n",
              "        buttonEl.style.display =\n",
              "          google.colab.kernel.accessAllowed ? 'block' : 'none';\n",
              "\n",
              "        async function convertToInteractive(key) {\n",
              "          const element = document.querySelector('#df-27bc8757-481b-4b40-a1f9-ed0fb971cab3');\n",
              "          const dataTable =\n",
              "            await google.colab.kernel.invokeFunction('convertToInteractive',\n",
              "                                                     [key], {});\n",
              "          if (!dataTable) return;\n",
              "\n",
              "          const docLinkHtml = 'Like what you see? Visit the ' +\n",
              "            '<a target=\"_blank\" href=https://colab.research.google.com/notebooks/data_table.ipynb>data table notebook</a>'\n",
              "            + ' to learn more about interactive tables.';\n",
              "          element.innerHTML = '';\n",
              "          dataTable['output_type'] = 'display_data';\n",
              "          await google.colab.output.renderOutput(dataTable, element);\n",
              "          const docLink = document.createElement('div');\n",
              "          docLink.innerHTML = docLinkHtml;\n",
              "          element.appendChild(docLink);\n",
              "        }\n",
              "      </script>\n",
              "    </div>\n",
              "  </div>\n",
              "  "
            ]
          },
          "metadata": {},
          "execution_count": 6
        }
      ],
      "source": [
        "df2 = pd.concat(all_data)\n",
        "df2.head(5)"
      ]
    },
    {
      "cell_type": "code",
      "execution_count": 7,
      "id": "eae19ec4",
      "metadata": {
        "id": "eae19ec4"
      },
      "outputs": [],
      "source": [
        "#convert date to datetime object\n",
        "df1['Date'] = pd.to_datetime(df1['Date'])\n",
        "df2['forecast_date'] = pd.to_datetime(df2['forecast_date'])\n",
        "df2['target_end_date'] = pd.to_datetime(df2['target_end_date'])"
      ]
    },
    {
      "cell_type": "code",
      "execution_count": 8,
      "id": "8171aacd",
      "metadata": {
        "id": "8171aacd",
        "colab": {
          "base_uri": "https://localhost:8080/",
          "height": 424
        },
        "outputId": "2f3cbea4-3520-4f79-e862-f363bd4b6c43"
      },
      "outputs": [
        {
          "output_type": "execute_result",
          "data": {
            "text/plain": [
              "     forecast_date location  quantile               target target_end_date  \\\n",
              "4288    2021-01-17       42       NaN  1 wk ahead inc case      2021-01-23   \n",
              "4296    2021-01-17       42       NaN  2 wk ahead inc case      2021-01-30   \n",
              "4288    2021-01-25       42       NaN  1 wk ahead inc case      2021-01-30   \n",
              "4304    2021-01-17       42       NaN  3 wk ahead inc case      2021-02-06   \n",
              "4296    2021-01-25       42       NaN  2 wk ahead inc case      2021-02-06   \n",
              "...            ...      ...       ...                  ...             ...   \n",
              "4400    2022-02-28       42       NaN  3 wk ahead inc case      2022-03-19   \n",
              "4408    2022-02-28       42       NaN  4 wk ahead inc case      2022-03-26   \n",
              "4072    2022-03-14       42       NaN  2 wk ahead inc case      2022-03-26   \n",
              "4080    2022-03-14       42       NaN  3 wk ahead inc case      2022-04-02   \n",
              "4088    2022-03-14       42       NaN  4 wk ahead inc case      2022-04-09   \n",
              "\n",
              "       type         value  \n",
              "4288  point  54373.656710  \n",
              "4296  point  58991.270263  \n",
              "4288  point  41377.911327  \n",
              "4304  point  65215.848427  \n",
              "4296  point  39356.542868  \n",
              "...     ...           ...  \n",
              "4400  point   1172.275544  \n",
              "4408  point    373.204848  \n",
              "4072  point     59.550261  \n",
              "4080  point     16.965215  \n",
              "4088  point      5.877974  \n",
              "\n",
              "[180 rows x 7 columns]"
            ],
            "text/html": [
              "\n",
              "  <div id=\"df-05590c5c-d2a8-4bc8-a1d9-beca73a81b55\">\n",
              "    <div class=\"colab-df-container\">\n",
              "      <div>\n",
              "<style scoped>\n",
              "    .dataframe tbody tr th:only-of-type {\n",
              "        vertical-align: middle;\n",
              "    }\n",
              "\n",
              "    .dataframe tbody tr th {\n",
              "        vertical-align: top;\n",
              "    }\n",
              "\n",
              "    .dataframe thead th {\n",
              "        text-align: right;\n",
              "    }\n",
              "</style>\n",
              "<table border=\"1\" class=\"dataframe\">\n",
              "  <thead>\n",
              "    <tr style=\"text-align: right;\">\n",
              "      <th></th>\n",
              "      <th>forecast_date</th>\n",
              "      <th>location</th>\n",
              "      <th>quantile</th>\n",
              "      <th>target</th>\n",
              "      <th>target_end_date</th>\n",
              "      <th>type</th>\n",
              "      <th>value</th>\n",
              "    </tr>\n",
              "  </thead>\n",
              "  <tbody>\n",
              "    <tr>\n",
              "      <th>4288</th>\n",
              "      <td>2021-01-17</td>\n",
              "      <td>42</td>\n",
              "      <td>NaN</td>\n",
              "      <td>1 wk ahead inc case</td>\n",
              "      <td>2021-01-23</td>\n",
              "      <td>point</td>\n",
              "      <td>54373.656710</td>\n",
              "    </tr>\n",
              "    <tr>\n",
              "      <th>4296</th>\n",
              "      <td>2021-01-17</td>\n",
              "      <td>42</td>\n",
              "      <td>NaN</td>\n",
              "      <td>2 wk ahead inc case</td>\n",
              "      <td>2021-01-30</td>\n",
              "      <td>point</td>\n",
              "      <td>58991.270263</td>\n",
              "    </tr>\n",
              "    <tr>\n",
              "      <th>4288</th>\n",
              "      <td>2021-01-25</td>\n",
              "      <td>42</td>\n",
              "      <td>NaN</td>\n",
              "      <td>1 wk ahead inc case</td>\n",
              "      <td>2021-01-30</td>\n",
              "      <td>point</td>\n",
              "      <td>41377.911327</td>\n",
              "    </tr>\n",
              "    <tr>\n",
              "      <th>4304</th>\n",
              "      <td>2021-01-17</td>\n",
              "      <td>42</td>\n",
              "      <td>NaN</td>\n",
              "      <td>3 wk ahead inc case</td>\n",
              "      <td>2021-02-06</td>\n",
              "      <td>point</td>\n",
              "      <td>65215.848427</td>\n",
              "    </tr>\n",
              "    <tr>\n",
              "      <th>4296</th>\n",
              "      <td>2021-01-25</td>\n",
              "      <td>42</td>\n",
              "      <td>NaN</td>\n",
              "      <td>2 wk ahead inc case</td>\n",
              "      <td>2021-02-06</td>\n",
              "      <td>point</td>\n",
              "      <td>39356.542868</td>\n",
              "    </tr>\n",
              "    <tr>\n",
              "      <th>...</th>\n",
              "      <td>...</td>\n",
              "      <td>...</td>\n",
              "      <td>...</td>\n",
              "      <td>...</td>\n",
              "      <td>...</td>\n",
              "      <td>...</td>\n",
              "      <td>...</td>\n",
              "    </tr>\n",
              "    <tr>\n",
              "      <th>4400</th>\n",
              "      <td>2022-02-28</td>\n",
              "      <td>42</td>\n",
              "      <td>NaN</td>\n",
              "      <td>3 wk ahead inc case</td>\n",
              "      <td>2022-03-19</td>\n",
              "      <td>point</td>\n",
              "      <td>1172.275544</td>\n",
              "    </tr>\n",
              "    <tr>\n",
              "      <th>4408</th>\n",
              "      <td>2022-02-28</td>\n",
              "      <td>42</td>\n",
              "      <td>NaN</td>\n",
              "      <td>4 wk ahead inc case</td>\n",
              "      <td>2022-03-26</td>\n",
              "      <td>point</td>\n",
              "      <td>373.204848</td>\n",
              "    </tr>\n",
              "    <tr>\n",
              "      <th>4072</th>\n",
              "      <td>2022-03-14</td>\n",
              "      <td>42</td>\n",
              "      <td>NaN</td>\n",
              "      <td>2 wk ahead inc case</td>\n",
              "      <td>2022-03-26</td>\n",
              "      <td>point</td>\n",
              "      <td>59.550261</td>\n",
              "    </tr>\n",
              "    <tr>\n",
              "      <th>4080</th>\n",
              "      <td>2022-03-14</td>\n",
              "      <td>42</td>\n",
              "      <td>NaN</td>\n",
              "      <td>3 wk ahead inc case</td>\n",
              "      <td>2022-04-02</td>\n",
              "      <td>point</td>\n",
              "      <td>16.965215</td>\n",
              "    </tr>\n",
              "    <tr>\n",
              "      <th>4088</th>\n",
              "      <td>2022-03-14</td>\n",
              "      <td>42</td>\n",
              "      <td>NaN</td>\n",
              "      <td>4 wk ahead inc case</td>\n",
              "      <td>2022-04-09</td>\n",
              "      <td>point</td>\n",
              "      <td>5.877974</td>\n",
              "    </tr>\n",
              "  </tbody>\n",
              "</table>\n",
              "<p>180 rows × 7 columns</p>\n",
              "</div>\n",
              "      <button class=\"colab-df-convert\" onclick=\"convertToInteractive('df-05590c5c-d2a8-4bc8-a1d9-beca73a81b55')\"\n",
              "              title=\"Convert this dataframe to an interactive table.\"\n",
              "              style=\"display:none;\">\n",
              "        \n",
              "  <svg xmlns=\"http://www.w3.org/2000/svg\" height=\"24px\"viewBox=\"0 0 24 24\"\n",
              "       width=\"24px\">\n",
              "    <path d=\"M0 0h24v24H0V0z\" fill=\"none\"/>\n",
              "    <path d=\"M18.56 5.44l.94 2.06.94-2.06 2.06-.94-2.06-.94-.94-2.06-.94 2.06-2.06.94zm-11 1L8.5 8.5l.94-2.06 2.06-.94-2.06-.94L8.5 2.5l-.94 2.06-2.06.94zm10 10l.94 2.06.94-2.06 2.06-.94-2.06-.94-.94-2.06-.94 2.06-2.06.94z\"/><path d=\"M17.41 7.96l-1.37-1.37c-.4-.4-.92-.59-1.43-.59-.52 0-1.04.2-1.43.59L10.3 9.45l-7.72 7.72c-.78.78-.78 2.05 0 2.83L4 21.41c.39.39.9.59 1.41.59.51 0 1.02-.2 1.41-.59l7.78-7.78 2.81-2.81c.8-.78.8-2.07 0-2.86zM5.41 20L4 18.59l7.72-7.72 1.47 1.35L5.41 20z\"/>\n",
              "  </svg>\n",
              "      </button>\n",
              "      \n",
              "  <style>\n",
              "    .colab-df-container {\n",
              "      display:flex;\n",
              "      flex-wrap:wrap;\n",
              "      gap: 12px;\n",
              "    }\n",
              "\n",
              "    .colab-df-convert {\n",
              "      background-color: #E8F0FE;\n",
              "      border: none;\n",
              "      border-radius: 50%;\n",
              "      cursor: pointer;\n",
              "      display: none;\n",
              "      fill: #1967D2;\n",
              "      height: 32px;\n",
              "      padding: 0 0 0 0;\n",
              "      width: 32px;\n",
              "    }\n",
              "\n",
              "    .colab-df-convert:hover {\n",
              "      background-color: #E2EBFA;\n",
              "      box-shadow: 0px 1px 2px rgba(60, 64, 67, 0.3), 0px 1px 3px 1px rgba(60, 64, 67, 0.15);\n",
              "      fill: #174EA6;\n",
              "    }\n",
              "\n",
              "    [theme=dark] .colab-df-convert {\n",
              "      background-color: #3B4455;\n",
              "      fill: #D2E3FC;\n",
              "    }\n",
              "\n",
              "    [theme=dark] .colab-df-convert:hover {\n",
              "      background-color: #434B5C;\n",
              "      box-shadow: 0px 1px 3px 1px rgba(0, 0, 0, 0.15);\n",
              "      filter: drop-shadow(0px 1px 2px rgba(0, 0, 0, 0.3));\n",
              "      fill: #FFFFFF;\n",
              "    }\n",
              "  </style>\n",
              "\n",
              "      <script>\n",
              "        const buttonEl =\n",
              "          document.querySelector('#df-05590c5c-d2a8-4bc8-a1d9-beca73a81b55 button.colab-df-convert');\n",
              "        buttonEl.style.display =\n",
              "          google.colab.kernel.accessAllowed ? 'block' : 'none';\n",
              "\n",
              "        async function convertToInteractive(key) {\n",
              "          const element = document.querySelector('#df-05590c5c-d2a8-4bc8-a1d9-beca73a81b55');\n",
              "          const dataTable =\n",
              "            await google.colab.kernel.invokeFunction('convertToInteractive',\n",
              "                                                     [key], {});\n",
              "          if (!dataTable) return;\n",
              "\n",
              "          const docLinkHtml = 'Like what you see? Visit the ' +\n",
              "            '<a target=\"_blank\" href=https://colab.research.google.com/notebooks/data_table.ipynb>data table notebook</a>'\n",
              "            + ' to learn more about interactive tables.';\n",
              "          element.innerHTML = '';\n",
              "          dataTable['output_type'] = 'display_data';\n",
              "          await google.colab.output.renderOutput(dataTable, element);\n",
              "          const docLink = document.createElement('div');\n",
              "          docLink.innerHTML = docLinkHtml;\n",
              "          element.appendChild(docLink);\n",
              "        }\n",
              "      </script>\n",
              "    </div>\n",
              "  </div>\n",
              "  "
            ]
          },
          "metadata": {},
          "execution_count": 8
        }
      ],
      "source": [
        "#sort datasets by date\n",
        "df1.sort_values(by='Date')\n",
        "df2.sort_values(by='target_end_date')"
      ]
    },
    {
      "cell_type": "code",
      "execution_count": 9,
      "id": "62636568",
      "metadata": {
        "id": "62636568",
        "outputId": "d7f8ef60-bf1e-4401-afbc-91c23ddcd6e8",
        "colab": {
          "base_uri": "https://localhost:8080/"
        }
      },
      "outputs": [
        {
          "output_type": "execute_result",
          "data": {
            "text/plain": [
              "(45, 7)"
            ]
          },
          "metadata": {},
          "execution_count": 9
        }
      ],
      "source": [
        "#filterinng out data for PA (FIPS code = 42)\n",
        "df2_2 = df2[df2['target'].str.contains('1')]\n",
        "df2_2.shape"
      ]
    },
    {
      "cell_type": "code",
      "execution_count": 10,
      "id": "e4c01c47",
      "metadata": {
        "id": "e4c01c47"
      },
      "outputs": [],
      "source": [
        "#finding weekly increase in cases in PA\n",
        "df_weekly=df2_2.groupby('target_end_date').agg('last').reset_index()\n",
        "df_weekly.rename(\n",
        "    columns={\"target_end_date\":\"Date\"},inplace=True)\n",
        "#df_weekly"
      ]
    },
    {
      "cell_type": "code",
      "execution_count": 54,
      "id": "c6e2730d",
      "metadata": {
        "id": "c6e2730d",
        "colab": {
          "base_uri": "https://localhost:8080/",
          "height": 206
        },
        "outputId": "a6cb5457-0eca-4856-981f-9fd518b0248a"
      },
      "outputs": [
        {
          "output_type": "execute_result",
          "data": {
            "text/plain": [
              "        Date forecast_date location  quantile               target   type  \\\n",
              "0 2021-01-23    2021-01-17       42       NaN  1 wk ahead inc case  point   \n",
              "1 2021-01-30    2021-01-25       42       NaN  1 wk ahead inc case  point   \n",
              "2 2021-02-06    2021-02-01       42       NaN  1 wk ahead inc case  point   \n",
              "3 2021-02-13    2021-02-08       42       NaN  1 wk ahead inc case  point   \n",
              "4 2021-02-20    2021-02-15       42       NaN  1 wk ahead inc case  point   \n",
              "\n",
              "          value      dayRate  \n",
              "0  54373.656710  7767.665244  \n",
              "1  41377.911327  5911.130190  \n",
              "2  35676.428355  5096.632622  \n",
              "3  25131.962532  3590.280362  \n",
              "4  15834.412924  2262.058989  "
            ],
            "text/html": [
              "\n",
              "  <div id=\"df-8617af7b-0082-41b1-9df8-e81ee32e17f5\">\n",
              "    <div class=\"colab-df-container\">\n",
              "      <div>\n",
              "<style scoped>\n",
              "    .dataframe tbody tr th:only-of-type {\n",
              "        vertical-align: middle;\n",
              "    }\n",
              "\n",
              "    .dataframe tbody tr th {\n",
              "        vertical-align: top;\n",
              "    }\n",
              "\n",
              "    .dataframe thead th {\n",
              "        text-align: right;\n",
              "    }\n",
              "</style>\n",
              "<table border=\"1\" class=\"dataframe\">\n",
              "  <thead>\n",
              "    <tr style=\"text-align: right;\">\n",
              "      <th></th>\n",
              "      <th>Date</th>\n",
              "      <th>forecast_date</th>\n",
              "      <th>location</th>\n",
              "      <th>quantile</th>\n",
              "      <th>target</th>\n",
              "      <th>type</th>\n",
              "      <th>value</th>\n",
              "      <th>dayRate</th>\n",
              "    </tr>\n",
              "  </thead>\n",
              "  <tbody>\n",
              "    <tr>\n",
              "      <th>0</th>\n",
              "      <td>2021-01-23</td>\n",
              "      <td>2021-01-17</td>\n",
              "      <td>42</td>\n",
              "      <td>NaN</td>\n",
              "      <td>1 wk ahead inc case</td>\n",
              "      <td>point</td>\n",
              "      <td>54373.656710</td>\n",
              "      <td>7767.665244</td>\n",
              "    </tr>\n",
              "    <tr>\n",
              "      <th>1</th>\n",
              "      <td>2021-01-30</td>\n",
              "      <td>2021-01-25</td>\n",
              "      <td>42</td>\n",
              "      <td>NaN</td>\n",
              "      <td>1 wk ahead inc case</td>\n",
              "      <td>point</td>\n",
              "      <td>41377.911327</td>\n",
              "      <td>5911.130190</td>\n",
              "    </tr>\n",
              "    <tr>\n",
              "      <th>2</th>\n",
              "      <td>2021-02-06</td>\n",
              "      <td>2021-02-01</td>\n",
              "      <td>42</td>\n",
              "      <td>NaN</td>\n",
              "      <td>1 wk ahead inc case</td>\n",
              "      <td>point</td>\n",
              "      <td>35676.428355</td>\n",
              "      <td>5096.632622</td>\n",
              "    </tr>\n",
              "    <tr>\n",
              "      <th>3</th>\n",
              "      <td>2021-02-13</td>\n",
              "      <td>2021-02-08</td>\n",
              "      <td>42</td>\n",
              "      <td>NaN</td>\n",
              "      <td>1 wk ahead inc case</td>\n",
              "      <td>point</td>\n",
              "      <td>25131.962532</td>\n",
              "      <td>3590.280362</td>\n",
              "    </tr>\n",
              "    <tr>\n",
              "      <th>4</th>\n",
              "      <td>2021-02-20</td>\n",
              "      <td>2021-02-15</td>\n",
              "      <td>42</td>\n",
              "      <td>NaN</td>\n",
              "      <td>1 wk ahead inc case</td>\n",
              "      <td>point</td>\n",
              "      <td>15834.412924</td>\n",
              "      <td>2262.058989</td>\n",
              "    </tr>\n",
              "  </tbody>\n",
              "</table>\n",
              "</div>\n",
              "      <button class=\"colab-df-convert\" onclick=\"convertToInteractive('df-8617af7b-0082-41b1-9df8-e81ee32e17f5')\"\n",
              "              title=\"Convert this dataframe to an interactive table.\"\n",
              "              style=\"display:none;\">\n",
              "        \n",
              "  <svg xmlns=\"http://www.w3.org/2000/svg\" height=\"24px\"viewBox=\"0 0 24 24\"\n",
              "       width=\"24px\">\n",
              "    <path d=\"M0 0h24v24H0V0z\" fill=\"none\"/>\n",
              "    <path d=\"M18.56 5.44l.94 2.06.94-2.06 2.06-.94-2.06-.94-.94-2.06-.94 2.06-2.06.94zm-11 1L8.5 8.5l.94-2.06 2.06-.94-2.06-.94L8.5 2.5l-.94 2.06-2.06.94zm10 10l.94 2.06.94-2.06 2.06-.94-2.06-.94-.94-2.06-.94 2.06-2.06.94z\"/><path d=\"M17.41 7.96l-1.37-1.37c-.4-.4-.92-.59-1.43-.59-.52 0-1.04.2-1.43.59L10.3 9.45l-7.72 7.72c-.78.78-.78 2.05 0 2.83L4 21.41c.39.39.9.59 1.41.59.51 0 1.02-.2 1.41-.59l7.78-7.78 2.81-2.81c.8-.78.8-2.07 0-2.86zM5.41 20L4 18.59l7.72-7.72 1.47 1.35L5.41 20z\"/>\n",
              "  </svg>\n",
              "      </button>\n",
              "      \n",
              "  <style>\n",
              "    .colab-df-container {\n",
              "      display:flex;\n",
              "      flex-wrap:wrap;\n",
              "      gap: 12px;\n",
              "    }\n",
              "\n",
              "    .colab-df-convert {\n",
              "      background-color: #E8F0FE;\n",
              "      border: none;\n",
              "      border-radius: 50%;\n",
              "      cursor: pointer;\n",
              "      display: none;\n",
              "      fill: #1967D2;\n",
              "      height: 32px;\n",
              "      padding: 0 0 0 0;\n",
              "      width: 32px;\n",
              "    }\n",
              "\n",
              "    .colab-df-convert:hover {\n",
              "      background-color: #E2EBFA;\n",
              "      box-shadow: 0px 1px 2px rgba(60, 64, 67, 0.3), 0px 1px 3px 1px rgba(60, 64, 67, 0.15);\n",
              "      fill: #174EA6;\n",
              "    }\n",
              "\n",
              "    [theme=dark] .colab-df-convert {\n",
              "      background-color: #3B4455;\n",
              "      fill: #D2E3FC;\n",
              "    }\n",
              "\n",
              "    [theme=dark] .colab-df-convert:hover {\n",
              "      background-color: #434B5C;\n",
              "      box-shadow: 0px 1px 3px 1px rgba(0, 0, 0, 0.15);\n",
              "      filter: drop-shadow(0px 1px 2px rgba(0, 0, 0, 0.3));\n",
              "      fill: #FFFFFF;\n",
              "    }\n",
              "  </style>\n",
              "\n",
              "      <script>\n",
              "        const buttonEl =\n",
              "          document.querySelector('#df-8617af7b-0082-41b1-9df8-e81ee32e17f5 button.colab-df-convert');\n",
              "        buttonEl.style.display =\n",
              "          google.colab.kernel.accessAllowed ? 'block' : 'none';\n",
              "\n",
              "        async function convertToInteractive(key) {\n",
              "          const element = document.querySelector('#df-8617af7b-0082-41b1-9df8-e81ee32e17f5');\n",
              "          const dataTable =\n",
              "            await google.colab.kernel.invokeFunction('convertToInteractive',\n",
              "                                                     [key], {});\n",
              "          if (!dataTable) return;\n",
              "\n",
              "          const docLinkHtml = 'Like what you see? Visit the ' +\n",
              "            '<a target=\"_blank\" href=https://colab.research.google.com/notebooks/data_table.ipynb>data table notebook</a>'\n",
              "            + ' to learn more about interactive tables.';\n",
              "          element.innerHTML = '';\n",
              "          dataTable['output_type'] = 'display_data';\n",
              "          await google.colab.output.renderOutput(dataTable, element);\n",
              "          const docLink = document.createElement('div');\n",
              "          docLink.innerHTML = docLinkHtml;\n",
              "          element.appendChild(docLink);\n",
              "        }\n",
              "      </script>\n",
              "    </div>\n",
              "  </div>\n",
              "  "
            ]
          },
          "metadata": {},
          "execution_count": 54
        }
      ],
      "source": [
        "#creating a column for daily additions\n",
        "df_weekly[\"dayRate\"] = df_weekly[\"value\"] / 7\n",
        "mask = (df_weekly['Date'] <= '2021-05-01')\n",
        "df_weekly = df_weekly.loc[mask]\n",
        "df_weekly.head(5)"
      ]
    },
    {
      "cell_type": "code",
      "source": [
        "df_weekly.tail(5)"
      ],
      "metadata": {
        "colab": {
          "base_uri": "https://localhost:8080/",
          "height": 206
        },
        "id": "sl4rloOp1xBH",
        "outputId": "74ca4cd0-7394-4d3c-eadf-4a5ede0700a4"
      },
      "id": "sl4rloOp1xBH",
      "execution_count": 55,
      "outputs": [
        {
          "output_type": "execute_result",
          "data": {
            "text/plain": [
              "         Date forecast_date location  quantile               target   type  \\\n",
              "10 2021-04-03    2021-03-29       42       NaN  1 wk ahead inc case  point   \n",
              "11 2021-04-10    2021-04-05       42       NaN  1 wk ahead inc case  point   \n",
              "12 2021-04-17    2021-04-12       42       NaN  1 wk ahead inc case  point   \n",
              "13 2021-04-24    2021-04-19       42       NaN  1 wk ahead inc case  point   \n",
              "14 2021-05-01    2021-04-26       42       NaN  1 wk ahead inc case  point   \n",
              "\n",
              "           value      dayRate  \n",
              "10  29672.841309  4238.977330  \n",
              "11  29925.599247  4275.085607  \n",
              "12  34149.150004  4878.450001  \n",
              "13  35878.133105  5125.447586  \n",
              "14  29224.678761  4174.954109  "
            ],
            "text/html": [
              "\n",
              "  <div id=\"df-5688a7a5-e7fc-4bf0-a932-2b48fd243633\">\n",
              "    <div class=\"colab-df-container\">\n",
              "      <div>\n",
              "<style scoped>\n",
              "    .dataframe tbody tr th:only-of-type {\n",
              "        vertical-align: middle;\n",
              "    }\n",
              "\n",
              "    .dataframe tbody tr th {\n",
              "        vertical-align: top;\n",
              "    }\n",
              "\n",
              "    .dataframe thead th {\n",
              "        text-align: right;\n",
              "    }\n",
              "</style>\n",
              "<table border=\"1\" class=\"dataframe\">\n",
              "  <thead>\n",
              "    <tr style=\"text-align: right;\">\n",
              "      <th></th>\n",
              "      <th>Date</th>\n",
              "      <th>forecast_date</th>\n",
              "      <th>location</th>\n",
              "      <th>quantile</th>\n",
              "      <th>target</th>\n",
              "      <th>type</th>\n",
              "      <th>value</th>\n",
              "      <th>dayRate</th>\n",
              "    </tr>\n",
              "  </thead>\n",
              "  <tbody>\n",
              "    <tr>\n",
              "      <th>10</th>\n",
              "      <td>2021-04-03</td>\n",
              "      <td>2021-03-29</td>\n",
              "      <td>42</td>\n",
              "      <td>NaN</td>\n",
              "      <td>1 wk ahead inc case</td>\n",
              "      <td>point</td>\n",
              "      <td>29672.841309</td>\n",
              "      <td>4238.977330</td>\n",
              "    </tr>\n",
              "    <tr>\n",
              "      <th>11</th>\n",
              "      <td>2021-04-10</td>\n",
              "      <td>2021-04-05</td>\n",
              "      <td>42</td>\n",
              "      <td>NaN</td>\n",
              "      <td>1 wk ahead inc case</td>\n",
              "      <td>point</td>\n",
              "      <td>29925.599247</td>\n",
              "      <td>4275.085607</td>\n",
              "    </tr>\n",
              "    <tr>\n",
              "      <th>12</th>\n",
              "      <td>2021-04-17</td>\n",
              "      <td>2021-04-12</td>\n",
              "      <td>42</td>\n",
              "      <td>NaN</td>\n",
              "      <td>1 wk ahead inc case</td>\n",
              "      <td>point</td>\n",
              "      <td>34149.150004</td>\n",
              "      <td>4878.450001</td>\n",
              "    </tr>\n",
              "    <tr>\n",
              "      <th>13</th>\n",
              "      <td>2021-04-24</td>\n",
              "      <td>2021-04-19</td>\n",
              "      <td>42</td>\n",
              "      <td>NaN</td>\n",
              "      <td>1 wk ahead inc case</td>\n",
              "      <td>point</td>\n",
              "      <td>35878.133105</td>\n",
              "      <td>5125.447586</td>\n",
              "    </tr>\n",
              "    <tr>\n",
              "      <th>14</th>\n",
              "      <td>2021-05-01</td>\n",
              "      <td>2021-04-26</td>\n",
              "      <td>42</td>\n",
              "      <td>NaN</td>\n",
              "      <td>1 wk ahead inc case</td>\n",
              "      <td>point</td>\n",
              "      <td>29224.678761</td>\n",
              "      <td>4174.954109</td>\n",
              "    </tr>\n",
              "  </tbody>\n",
              "</table>\n",
              "</div>\n",
              "      <button class=\"colab-df-convert\" onclick=\"convertToInteractive('df-5688a7a5-e7fc-4bf0-a932-2b48fd243633')\"\n",
              "              title=\"Convert this dataframe to an interactive table.\"\n",
              "              style=\"display:none;\">\n",
              "        \n",
              "  <svg xmlns=\"http://www.w3.org/2000/svg\" height=\"24px\"viewBox=\"0 0 24 24\"\n",
              "       width=\"24px\">\n",
              "    <path d=\"M0 0h24v24H0V0z\" fill=\"none\"/>\n",
              "    <path d=\"M18.56 5.44l.94 2.06.94-2.06 2.06-.94-2.06-.94-.94-2.06-.94 2.06-2.06.94zm-11 1L8.5 8.5l.94-2.06 2.06-.94-2.06-.94L8.5 2.5l-.94 2.06-2.06.94zm10 10l.94 2.06.94-2.06 2.06-.94-2.06-.94-.94-2.06-.94 2.06-2.06.94z\"/><path d=\"M17.41 7.96l-1.37-1.37c-.4-.4-.92-.59-1.43-.59-.52 0-1.04.2-1.43.59L10.3 9.45l-7.72 7.72c-.78.78-.78 2.05 0 2.83L4 21.41c.39.39.9.59 1.41.59.51 0 1.02-.2 1.41-.59l7.78-7.78 2.81-2.81c.8-.78.8-2.07 0-2.86zM5.41 20L4 18.59l7.72-7.72 1.47 1.35L5.41 20z\"/>\n",
              "  </svg>\n",
              "      </button>\n",
              "      \n",
              "  <style>\n",
              "    .colab-df-container {\n",
              "      display:flex;\n",
              "      flex-wrap:wrap;\n",
              "      gap: 12px;\n",
              "    }\n",
              "\n",
              "    .colab-df-convert {\n",
              "      background-color: #E8F0FE;\n",
              "      border: none;\n",
              "      border-radius: 50%;\n",
              "      cursor: pointer;\n",
              "      display: none;\n",
              "      fill: #1967D2;\n",
              "      height: 32px;\n",
              "      padding: 0 0 0 0;\n",
              "      width: 32px;\n",
              "    }\n",
              "\n",
              "    .colab-df-convert:hover {\n",
              "      background-color: #E2EBFA;\n",
              "      box-shadow: 0px 1px 2px rgba(60, 64, 67, 0.3), 0px 1px 3px 1px rgba(60, 64, 67, 0.15);\n",
              "      fill: #174EA6;\n",
              "    }\n",
              "\n",
              "    [theme=dark] .colab-df-convert {\n",
              "      background-color: #3B4455;\n",
              "      fill: #D2E3FC;\n",
              "    }\n",
              "\n",
              "    [theme=dark] .colab-df-convert:hover {\n",
              "      background-color: #434B5C;\n",
              "      box-shadow: 0px 1px 3px 1px rgba(0, 0, 0, 0.15);\n",
              "      filter: drop-shadow(0px 1px 2px rgba(0, 0, 0, 0.3));\n",
              "      fill: #FFFFFF;\n",
              "    }\n",
              "  </style>\n",
              "\n",
              "      <script>\n",
              "        const buttonEl =\n",
              "          document.querySelector('#df-5688a7a5-e7fc-4bf0-a932-2b48fd243633 button.colab-df-convert');\n",
              "        buttonEl.style.display =\n",
              "          google.colab.kernel.accessAllowed ? 'block' : 'none';\n",
              "\n",
              "        async function convertToInteractive(key) {\n",
              "          const element = document.querySelector('#df-5688a7a5-e7fc-4bf0-a932-2b48fd243633');\n",
              "          const dataTable =\n",
              "            await google.colab.kernel.invokeFunction('convertToInteractive',\n",
              "                                                     [key], {});\n",
              "          if (!dataTable) return;\n",
              "\n",
              "          const docLinkHtml = 'Like what you see? Visit the ' +\n",
              "            '<a target=\"_blank\" href=https://colab.research.google.com/notebooks/data_table.ipynb>data table notebook</a>'\n",
              "            + ' to learn more about interactive tables.';\n",
              "          element.innerHTML = '';\n",
              "          dataTable['output_type'] = 'display_data';\n",
              "          await google.colab.output.renderOutput(dataTable, element);\n",
              "          const docLink = document.createElement('div');\n",
              "          docLink.innerHTML = docLinkHtml;\n",
              "          element.appendChild(docLink);\n",
              "        }\n",
              "      </script>\n",
              "    </div>\n",
              "  </div>\n",
              "  "
            ]
          },
          "metadata": {},
          "execution_count": 55
        }
      ]
    },
    {
      "cell_type": "code",
      "source": [
        "len(df_weekly)"
      ],
      "metadata": {
        "colab": {
          "base_uri": "https://localhost:8080/"
        },
        "id": "dGaTb6JS3FRt",
        "outputId": "83124993-7ce8-4476-f55d-10fca809ef68"
      },
      "id": "dGaTb6JS3FRt",
      "execution_count": 56,
      "outputs": [
        {
          "output_type": "execute_result",
          "data": {
            "text/plain": [
              "15"
            ]
          },
          "metadata": {},
          "execution_count": 56
        }
      ]
    },
    {
      "cell_type": "code",
      "source": [
        "# creating a list of predictions from the model data\n",
        "predictions = []\n",
        "for i in df_weekly[\"dayRate\"]:\n",
        "    predictions.extend(repeat(i,7))\n",
        "#del predictions[-2:]\n",
        "#preds = pd.DataFrame(predictions)\n",
        "#preds.drop(preds.tail(2).index,inplace=True) \n",
        "print(predictions)"
      ],
      "metadata": {
        "colab": {
          "base_uri": "https://localhost:8080/"
        },
        "id": "7M7bH5ao6y_t",
        "outputId": "c22613b6-5404-4b74-b1b1-d6fa84987cc5"
      },
      "id": "7M7bH5ao6y_t",
      "execution_count": 57,
      "outputs": [
        {
          "output_type": "stream",
          "name": "stdout",
          "text": [
            "[7767.665244272966, 7767.665244272966, 7767.665244272966, 7767.665244272966, 7767.665244272966, 7767.665244272966, 7767.665244272966, 5911.130189524615, 5911.130189524615, 5911.130189524615, 5911.130189524615, 5911.130189524615, 5911.130189524615, 5911.130189524615, 5096.63262219511, 5096.63262219511, 5096.63262219511, 5096.63262219511, 5096.63262219511, 5096.63262219511, 5096.63262219511, 3590.2803616605897, 3590.2803616605897, 3590.2803616605897, 3590.2803616605897, 3590.2803616605897, 3590.2803616605897, 3590.2803616605897, 2262.0589891989553, 2262.0589891989553, 2262.0589891989553, 2262.0589891989553, 2262.0589891989553, 2262.0589891989553, 2262.0589891989553, 2306.7833252218898, 2306.7833252218898, 2306.7833252218898, 2306.7833252218898, 2306.7833252218898, 2306.7833252218898, 2306.7833252218898, 2227.7210715065617, 2227.7210715065617, 2227.7210715065617, 2227.7210715065617, 2227.7210715065617, 2227.7210715065617, 2227.7210715065617, 1881.8615159681083, 1881.8615159681083, 1881.8615159681083, 1881.8615159681083, 1881.8615159681083, 1881.8615159681083, 1881.8615159681083, 2395.533705910689, 2395.533705910689, 2395.533705910689, 2395.533705910689, 2395.533705910689, 2395.533705910689, 2395.533705910689, 2652.660253499345, 2652.660253499345, 2652.660253499345, 2652.660253499345, 2652.660253499345, 2652.660253499345, 2652.660253499345, 4238.9773298156315, 4238.9773298156315, 4238.9773298156315, 4238.9773298156315, 4238.9773298156315, 4238.9773298156315, 4238.9773298156315, 4275.085606656852, 4275.085606656852, 4275.085606656852, 4275.085606656852, 4275.085606656852, 4275.085606656852, 4275.085606656852, 4878.450000581065, 4878.450000581065, 4878.450000581065, 4878.450000581065, 4878.450000581065, 4878.450000581065, 4878.450000581065, 5125.447586420633, 5125.447586420633, 5125.447586420633, 5125.447586420633, 5125.447586420633, 5125.447586420633, 5125.447586420633, 4174.954108674239, 4174.954108674239, 4174.954108674239, 4174.954108674239, 4174.954108674239, 4174.954108674239, 4174.954108674239]\n"
          ]
        }
      ]
    },
    {
      "cell_type": "code",
      "source": [
        "len(predictions)"
      ],
      "metadata": {
        "colab": {
          "base_uri": "https://localhost:8080/"
        },
        "id": "bAUxPUYG5gaj",
        "outputId": "40eae2b6-a167-4a44-d1f9-0708a03e7f32"
      },
      "id": "bAUxPUYG5gaj",
      "execution_count": 58,
      "outputs": [
        {
          "output_type": "execute_result",
          "data": {
            "text/plain": [
              "105"
            ]
          },
          "metadata": {},
          "execution_count": 58
        }
      ]
    },
    {
      "cell_type": "code",
      "execution_count": 65,
      "id": "65a9fbb1",
      "metadata": {
        "id": "65a9fbb1",
        "outputId": "259b2d02-86c7-4c45-8187-23a1ebf42fde",
        "colab": {
          "base_uri": "https://localhost:8080/",
          "height": 206
        }
      },
      "outputs": [
        {
          "output_type": "execute_result",
          "data": {
            "text/plain": [
              "        Date  New Cases  7-day Average New Cases  \\\n",
              "0 2021-01-23       7646                  10339.2   \n",
              "1 2021-01-24       7576                  10285.1   \n",
              "2 2021-01-25      10216                  10136.1   \n",
              "3 2021-01-26      11186                  10116.1   \n",
              "4 2021-01-27      13992                  10452.1   \n",
              "\n",
              "   Cumulative cases                            Population (2019)  \\\n",
              "0                                     1624822           25603978   \n",
              "1                                     1632398           25603978   \n",
              "2                                     1642614           25603978   \n",
              "3                                     1653800           25603978   \n",
              "4                                     1667792           25603978   \n",
              "\n",
              "   New Case Rate  7-Day Average New Case Rate  Cumulative Case Rate  \\\n",
              "0         2319.3                       4170.2              442920.2   \n",
              "1         2098.0                       3877.1              445018.1   \n",
              "2         2756.5                       3838.7              447774.3   \n",
              "3         3065.4                       3791.8              450839.5   \n",
              "4         3358.8                       2861.4              454198.1   \n",
              "\n",
              "   County FIPS Code    Longitude     Latitude  \n",
              "0           2860489 -5275.682283  2774.207671  \n",
              "1           2860489 -5275.682283  2774.207671  \n",
              "2           2860489 -5275.682283  2774.207671  \n",
              "3           2860489 -5275.682283  2774.207671  \n",
              "4           2860489 -5275.682283  2774.207671  "
            ],
            "text/html": [
              "\n",
              "  <div id=\"df-8df68490-f5fa-4962-8767-39dc7a207da1\">\n",
              "    <div class=\"colab-df-container\">\n",
              "      <div>\n",
              "<style scoped>\n",
              "    .dataframe tbody tr th:only-of-type {\n",
              "        vertical-align: middle;\n",
              "    }\n",
              "\n",
              "    .dataframe tbody tr th {\n",
              "        vertical-align: top;\n",
              "    }\n",
              "\n",
              "    .dataframe thead th {\n",
              "        text-align: right;\n",
              "    }\n",
              "</style>\n",
              "<table border=\"1\" class=\"dataframe\">\n",
              "  <thead>\n",
              "    <tr style=\"text-align: right;\">\n",
              "      <th></th>\n",
              "      <th>Date</th>\n",
              "      <th>New Cases</th>\n",
              "      <th>7-day Average New Cases</th>\n",
              "      <th>Cumulative cases</th>\n",
              "      <th>Population (2019)</th>\n",
              "      <th>New Case Rate</th>\n",
              "      <th>7-Day Average New Case Rate</th>\n",
              "      <th>Cumulative Case Rate</th>\n",
              "      <th>County FIPS Code</th>\n",
              "      <th>Longitude</th>\n",
              "      <th>Latitude</th>\n",
              "    </tr>\n",
              "  </thead>\n",
              "  <tbody>\n",
              "    <tr>\n",
              "      <th>0</th>\n",
              "      <td>2021-01-23</td>\n",
              "      <td>7646</td>\n",
              "      <td>10339.2</td>\n",
              "      <td>1624822</td>\n",
              "      <td>25603978</td>\n",
              "      <td>2319.3</td>\n",
              "      <td>4170.2</td>\n",
              "      <td>442920.2</td>\n",
              "      <td>2860489</td>\n",
              "      <td>-5275.682283</td>\n",
              "      <td>2774.207671</td>\n",
              "    </tr>\n",
              "    <tr>\n",
              "      <th>1</th>\n",
              "      <td>2021-01-24</td>\n",
              "      <td>7576</td>\n",
              "      <td>10285.1</td>\n",
              "      <td>1632398</td>\n",
              "      <td>25603978</td>\n",
              "      <td>2098.0</td>\n",
              "      <td>3877.1</td>\n",
              "      <td>445018.1</td>\n",
              "      <td>2860489</td>\n",
              "      <td>-5275.682283</td>\n",
              "      <td>2774.207671</td>\n",
              "    </tr>\n",
              "    <tr>\n",
              "      <th>2</th>\n",
              "      <td>2021-01-25</td>\n",
              "      <td>10216</td>\n",
              "      <td>10136.1</td>\n",
              "      <td>1642614</td>\n",
              "      <td>25603978</td>\n",
              "      <td>2756.5</td>\n",
              "      <td>3838.7</td>\n",
              "      <td>447774.3</td>\n",
              "      <td>2860489</td>\n",
              "      <td>-5275.682283</td>\n",
              "      <td>2774.207671</td>\n",
              "    </tr>\n",
              "    <tr>\n",
              "      <th>3</th>\n",
              "      <td>2021-01-26</td>\n",
              "      <td>11186</td>\n",
              "      <td>10116.1</td>\n",
              "      <td>1653800</td>\n",
              "      <td>25603978</td>\n",
              "      <td>3065.4</td>\n",
              "      <td>3791.8</td>\n",
              "      <td>450839.5</td>\n",
              "      <td>2860489</td>\n",
              "      <td>-5275.682283</td>\n",
              "      <td>2774.207671</td>\n",
              "    </tr>\n",
              "    <tr>\n",
              "      <th>4</th>\n",
              "      <td>2021-01-27</td>\n",
              "      <td>13992</td>\n",
              "      <td>10452.1</td>\n",
              "      <td>1667792</td>\n",
              "      <td>25603978</td>\n",
              "      <td>3358.8</td>\n",
              "      <td>2861.4</td>\n",
              "      <td>454198.1</td>\n",
              "      <td>2860489</td>\n",
              "      <td>-5275.682283</td>\n",
              "      <td>2774.207671</td>\n",
              "    </tr>\n",
              "  </tbody>\n",
              "</table>\n",
              "</div>\n",
              "      <button class=\"colab-df-convert\" onclick=\"convertToInteractive('df-8df68490-f5fa-4962-8767-39dc7a207da1')\"\n",
              "              title=\"Convert this dataframe to an interactive table.\"\n",
              "              style=\"display:none;\">\n",
              "        \n",
              "  <svg xmlns=\"http://www.w3.org/2000/svg\" height=\"24px\"viewBox=\"0 0 24 24\"\n",
              "       width=\"24px\">\n",
              "    <path d=\"M0 0h24v24H0V0z\" fill=\"none\"/>\n",
              "    <path d=\"M18.56 5.44l.94 2.06.94-2.06 2.06-.94-2.06-.94-.94-2.06-.94 2.06-2.06.94zm-11 1L8.5 8.5l.94-2.06 2.06-.94-2.06-.94L8.5 2.5l-.94 2.06-2.06.94zm10 10l.94 2.06.94-2.06 2.06-.94-2.06-.94-.94-2.06-.94 2.06-2.06.94z\"/><path d=\"M17.41 7.96l-1.37-1.37c-.4-.4-.92-.59-1.43-.59-.52 0-1.04.2-1.43.59L10.3 9.45l-7.72 7.72c-.78.78-.78 2.05 0 2.83L4 21.41c.39.39.9.59 1.41.59.51 0 1.02-.2 1.41-.59l7.78-7.78 2.81-2.81c.8-.78.8-2.07 0-2.86zM5.41 20L4 18.59l7.72-7.72 1.47 1.35L5.41 20z\"/>\n",
              "  </svg>\n",
              "      </button>\n",
              "      \n",
              "  <style>\n",
              "    .colab-df-container {\n",
              "      display:flex;\n",
              "      flex-wrap:wrap;\n",
              "      gap: 12px;\n",
              "    }\n",
              "\n",
              "    .colab-df-convert {\n",
              "      background-color: #E8F0FE;\n",
              "      border: none;\n",
              "      border-radius: 50%;\n",
              "      cursor: pointer;\n",
              "      display: none;\n",
              "      fill: #1967D2;\n",
              "      height: 32px;\n",
              "      padding: 0 0 0 0;\n",
              "      width: 32px;\n",
              "    }\n",
              "\n",
              "    .colab-df-convert:hover {\n",
              "      background-color: #E2EBFA;\n",
              "      box-shadow: 0px 1px 2px rgba(60, 64, 67, 0.3), 0px 1px 3px 1px rgba(60, 64, 67, 0.15);\n",
              "      fill: #174EA6;\n",
              "    }\n",
              "\n",
              "    [theme=dark] .colab-df-convert {\n",
              "      background-color: #3B4455;\n",
              "      fill: #D2E3FC;\n",
              "    }\n",
              "\n",
              "    [theme=dark] .colab-df-convert:hover {\n",
              "      background-color: #434B5C;\n",
              "      box-shadow: 0px 1px 3px 1px rgba(0, 0, 0, 0.15);\n",
              "      filter: drop-shadow(0px 1px 2px rgba(0, 0, 0, 0.3));\n",
              "      fill: #FFFFFF;\n",
              "    }\n",
              "  </style>\n",
              "\n",
              "      <script>\n",
              "        const buttonEl =\n",
              "          document.querySelector('#df-8df68490-f5fa-4962-8767-39dc7a207da1 button.colab-df-convert');\n",
              "        buttonEl.style.display =\n",
              "          google.colab.kernel.accessAllowed ? 'block' : 'none';\n",
              "\n",
              "        async function convertToInteractive(key) {\n",
              "          const element = document.querySelector('#df-8df68490-f5fa-4962-8767-39dc7a207da1');\n",
              "          const dataTable =\n",
              "            await google.colab.kernel.invokeFunction('convertToInteractive',\n",
              "                                                     [key], {});\n",
              "          if (!dataTable) return;\n",
              "\n",
              "          const docLinkHtml = 'Like what you see? Visit the ' +\n",
              "            '<a target=\"_blank\" href=https://colab.research.google.com/notebooks/data_table.ipynb>data table notebook</a>'\n",
              "            + ' to learn more about interactive tables.';\n",
              "          element.innerHTML = '';\n",
              "          dataTable['output_type'] = 'display_data';\n",
              "          await google.colab.output.renderOutput(dataTable, element);\n",
              "          const docLink = document.createElement('div');\n",
              "          docLink.innerHTML = docLinkHtml;\n",
              "          element.appendChild(docLink);\n",
              "        }\n",
              "      </script>\n",
              "    </div>\n",
              "  </div>\n",
              "  "
            ]
          },
          "metadata": {},
          "execution_count": 65
        }
      ],
      "source": [
        "#select all the dates to be merged with prediction list\n",
        "mask = (df1['Date'] >= '2021-01-23') & (df1['Date'] <= '2021-05-07')\n",
        "df1_copy = df1.loc[mask]\n",
        "df1_copy = df1_copy.groupby([\"Date\"]).sum().reset_index()\n",
        "df1_copy.head(5)"
      ]
    },
    {
      "cell_type": "code",
      "source": [
        "df1_copy.tail(5)"
      ],
      "metadata": {
        "colab": {
          "base_uri": "https://localhost:8080/",
          "height": 206
        },
        "id": "O8s9EhX6ZvLK",
        "outputId": "76201b0b-7315-4025-bfa3-332faf5f4e95"
      },
      "id": "O8s9EhX6ZvLK",
      "execution_count": 66,
      "outputs": [
        {
          "output_type": "execute_result",
          "data": {
            "text/plain": [
              "          Date  New Cases  7-day Average New Cases  \\\n",
              "100 2021-05-03       6638                   6346.7   \n",
              "101 2021-05-04       5614                   6185.1   \n",
              "102 2021-05-05       4936                   5802.9   \n",
              "103 2021-05-06       6160                   5407.0   \n",
              "104 2021-05-07       5202                   5263.0   \n",
              "\n",
              "     Cumulative cases                            Population (2019)  \\\n",
              "100                                     2347688           25603978   \n",
              "101                                     2353302           25603978   \n",
              "102                                     2358238           25603978   \n",
              "103                                     2364398           25603978   \n",
              "104                                     2369600           25603978   \n",
              "\n",
              "     New Case Rate  7-Day Average New Case Rate  Cumulative Case Rate  \\\n",
              "100         1784.7                       1658.6              622703.6   \n",
              "101         1694.9                       1659.8              624398.4   \n",
              "102         1408.7                       1574.8              625807.7   \n",
              "103         1722.3                       1485.9              627529.8   \n",
              "104         1494.4                       1464.4              629024.4   \n",
              "\n",
              "     County FIPS Code    Longitude     Latitude  \n",
              "100           2860489 -5275.682283  2774.207671  \n",
              "101           2860489 -5275.682283  2774.207671  \n",
              "102           2860489 -5275.682283  2774.207671  \n",
              "103           2860489 -5275.682283  2774.207671  \n",
              "104           2860489 -5275.682283  2774.207671  "
            ],
            "text/html": [
              "\n",
              "  <div id=\"df-28567da0-8f0f-462a-a1eb-137ad95b7c5d\">\n",
              "    <div class=\"colab-df-container\">\n",
              "      <div>\n",
              "<style scoped>\n",
              "    .dataframe tbody tr th:only-of-type {\n",
              "        vertical-align: middle;\n",
              "    }\n",
              "\n",
              "    .dataframe tbody tr th {\n",
              "        vertical-align: top;\n",
              "    }\n",
              "\n",
              "    .dataframe thead th {\n",
              "        text-align: right;\n",
              "    }\n",
              "</style>\n",
              "<table border=\"1\" class=\"dataframe\">\n",
              "  <thead>\n",
              "    <tr style=\"text-align: right;\">\n",
              "      <th></th>\n",
              "      <th>Date</th>\n",
              "      <th>New Cases</th>\n",
              "      <th>7-day Average New Cases</th>\n",
              "      <th>Cumulative cases</th>\n",
              "      <th>Population (2019)</th>\n",
              "      <th>New Case Rate</th>\n",
              "      <th>7-Day Average New Case Rate</th>\n",
              "      <th>Cumulative Case Rate</th>\n",
              "      <th>County FIPS Code</th>\n",
              "      <th>Longitude</th>\n",
              "      <th>Latitude</th>\n",
              "    </tr>\n",
              "  </thead>\n",
              "  <tbody>\n",
              "    <tr>\n",
              "      <th>100</th>\n",
              "      <td>2021-05-03</td>\n",
              "      <td>6638</td>\n",
              "      <td>6346.7</td>\n",
              "      <td>2347688</td>\n",
              "      <td>25603978</td>\n",
              "      <td>1784.7</td>\n",
              "      <td>1658.6</td>\n",
              "      <td>622703.6</td>\n",
              "      <td>2860489</td>\n",
              "      <td>-5275.682283</td>\n",
              "      <td>2774.207671</td>\n",
              "    </tr>\n",
              "    <tr>\n",
              "      <th>101</th>\n",
              "      <td>2021-05-04</td>\n",
              "      <td>5614</td>\n",
              "      <td>6185.1</td>\n",
              "      <td>2353302</td>\n",
              "      <td>25603978</td>\n",
              "      <td>1694.9</td>\n",
              "      <td>1659.8</td>\n",
              "      <td>624398.4</td>\n",
              "      <td>2860489</td>\n",
              "      <td>-5275.682283</td>\n",
              "      <td>2774.207671</td>\n",
              "    </tr>\n",
              "    <tr>\n",
              "      <th>102</th>\n",
              "      <td>2021-05-05</td>\n",
              "      <td>4936</td>\n",
              "      <td>5802.9</td>\n",
              "      <td>2358238</td>\n",
              "      <td>25603978</td>\n",
              "      <td>1408.7</td>\n",
              "      <td>1574.8</td>\n",
              "      <td>625807.7</td>\n",
              "      <td>2860489</td>\n",
              "      <td>-5275.682283</td>\n",
              "      <td>2774.207671</td>\n",
              "    </tr>\n",
              "    <tr>\n",
              "      <th>103</th>\n",
              "      <td>2021-05-06</td>\n",
              "      <td>6160</td>\n",
              "      <td>5407.0</td>\n",
              "      <td>2364398</td>\n",
              "      <td>25603978</td>\n",
              "      <td>1722.3</td>\n",
              "      <td>1485.9</td>\n",
              "      <td>627529.8</td>\n",
              "      <td>2860489</td>\n",
              "      <td>-5275.682283</td>\n",
              "      <td>2774.207671</td>\n",
              "    </tr>\n",
              "    <tr>\n",
              "      <th>104</th>\n",
              "      <td>2021-05-07</td>\n",
              "      <td>5202</td>\n",
              "      <td>5263.0</td>\n",
              "      <td>2369600</td>\n",
              "      <td>25603978</td>\n",
              "      <td>1494.4</td>\n",
              "      <td>1464.4</td>\n",
              "      <td>629024.4</td>\n",
              "      <td>2860489</td>\n",
              "      <td>-5275.682283</td>\n",
              "      <td>2774.207671</td>\n",
              "    </tr>\n",
              "  </tbody>\n",
              "</table>\n",
              "</div>\n",
              "      <button class=\"colab-df-convert\" onclick=\"convertToInteractive('df-28567da0-8f0f-462a-a1eb-137ad95b7c5d')\"\n",
              "              title=\"Convert this dataframe to an interactive table.\"\n",
              "              style=\"display:none;\">\n",
              "        \n",
              "  <svg xmlns=\"http://www.w3.org/2000/svg\" height=\"24px\"viewBox=\"0 0 24 24\"\n",
              "       width=\"24px\">\n",
              "    <path d=\"M0 0h24v24H0V0z\" fill=\"none\"/>\n",
              "    <path d=\"M18.56 5.44l.94 2.06.94-2.06 2.06-.94-2.06-.94-.94-2.06-.94 2.06-2.06.94zm-11 1L8.5 8.5l.94-2.06 2.06-.94-2.06-.94L8.5 2.5l-.94 2.06-2.06.94zm10 10l.94 2.06.94-2.06 2.06-.94-2.06-.94-.94-2.06-.94 2.06-2.06.94z\"/><path d=\"M17.41 7.96l-1.37-1.37c-.4-.4-.92-.59-1.43-.59-.52 0-1.04.2-1.43.59L10.3 9.45l-7.72 7.72c-.78.78-.78 2.05 0 2.83L4 21.41c.39.39.9.59 1.41.59.51 0 1.02-.2 1.41-.59l7.78-7.78 2.81-2.81c.8-.78.8-2.07 0-2.86zM5.41 20L4 18.59l7.72-7.72 1.47 1.35L5.41 20z\"/>\n",
              "  </svg>\n",
              "      </button>\n",
              "      \n",
              "  <style>\n",
              "    .colab-df-container {\n",
              "      display:flex;\n",
              "      flex-wrap:wrap;\n",
              "      gap: 12px;\n",
              "    }\n",
              "\n",
              "    .colab-df-convert {\n",
              "      background-color: #E8F0FE;\n",
              "      border: none;\n",
              "      border-radius: 50%;\n",
              "      cursor: pointer;\n",
              "      display: none;\n",
              "      fill: #1967D2;\n",
              "      height: 32px;\n",
              "      padding: 0 0 0 0;\n",
              "      width: 32px;\n",
              "    }\n",
              "\n",
              "    .colab-df-convert:hover {\n",
              "      background-color: #E2EBFA;\n",
              "      box-shadow: 0px 1px 2px rgba(60, 64, 67, 0.3), 0px 1px 3px 1px rgba(60, 64, 67, 0.15);\n",
              "      fill: #174EA6;\n",
              "    }\n",
              "\n",
              "    [theme=dark] .colab-df-convert {\n",
              "      background-color: #3B4455;\n",
              "      fill: #D2E3FC;\n",
              "    }\n",
              "\n",
              "    [theme=dark] .colab-df-convert:hover {\n",
              "      background-color: #434B5C;\n",
              "      box-shadow: 0px 1px 3px 1px rgba(0, 0, 0, 0.15);\n",
              "      filter: drop-shadow(0px 1px 2px rgba(0, 0, 0, 0.3));\n",
              "      fill: #FFFFFF;\n",
              "    }\n",
              "  </style>\n",
              "\n",
              "      <script>\n",
              "        const buttonEl =\n",
              "          document.querySelector('#df-28567da0-8f0f-462a-a1eb-137ad95b7c5d button.colab-df-convert');\n",
              "        buttonEl.style.display =\n",
              "          google.colab.kernel.accessAllowed ? 'block' : 'none';\n",
              "\n",
              "        async function convertToInteractive(key) {\n",
              "          const element = document.querySelector('#df-28567da0-8f0f-462a-a1eb-137ad95b7c5d');\n",
              "          const dataTable =\n",
              "            await google.colab.kernel.invokeFunction('convertToInteractive',\n",
              "                                                     [key], {});\n",
              "          if (!dataTable) return;\n",
              "\n",
              "          const docLinkHtml = 'Like what you see? Visit the ' +\n",
              "            '<a target=\"_blank\" href=https://colab.research.google.com/notebooks/data_table.ipynb>data table notebook</a>'\n",
              "            + ' to learn more about interactive tables.';\n",
              "          element.innerHTML = '';\n",
              "          dataTable['output_type'] = 'display_data';\n",
              "          await google.colab.output.renderOutput(dataTable, element);\n",
              "          const docLink = document.createElement('div');\n",
              "          docLink.innerHTML = docLinkHtml;\n",
              "          element.appendChild(docLink);\n",
              "        }\n",
              "      </script>\n",
              "    </div>\n",
              "  </div>\n",
              "  "
            ]
          },
          "metadata": {},
          "execution_count": 66
        }
      ]
    },
    {
      "cell_type": "code",
      "source": [
        "len(df1_copy)"
      ],
      "metadata": {
        "colab": {
          "base_uri": "https://localhost:8080/"
        },
        "id": "E4GmTswG-Max",
        "outputId": "8698f5fb-b9ce-4682-925a-819d95fa3f80"
      },
      "id": "E4GmTswG-Max",
      "execution_count": 67,
      "outputs": [
        {
          "output_type": "execute_result",
          "data": {
            "text/plain": [
              "105"
            ]
          },
          "metadata": {},
          "execution_count": 67
        }
      ]
    },
    {
      "cell_type": "code",
      "source": [
        "# assigning predictions list to the actual dataframe\n",
        "df1_copy['Prediction'] = predictions"
      ],
      "metadata": {
        "id": "7HHOfOpl4JA2"
      },
      "id": "7HHOfOpl4JA2",
      "execution_count": 68,
      "outputs": []
    },
    {
      "cell_type": "code",
      "source": [
        "df1_copy.head(20)"
      ],
      "metadata": {
        "id": "a8HZNoDm5m-p",
        "colab": {
          "base_uri": "https://localhost:8080/",
          "height": 677
        },
        "outputId": "b4131001-e4ea-43dd-e70d-3cb1fb2d4d2c"
      },
      "id": "a8HZNoDm5m-p",
      "execution_count": 69,
      "outputs": [
        {
          "output_type": "execute_result",
          "data": {
            "text/plain": [
              "         Date  New Cases  7-day Average New Cases  \\\n",
              "0  2021-01-23       7646                  10339.2   \n",
              "1  2021-01-24       7576                  10285.1   \n",
              "2  2021-01-25      10216                  10136.1   \n",
              "3  2021-01-26      11186                  10116.1   \n",
              "4  2021-01-27      13992                  10452.1   \n",
              "5  2021-01-28      16848                  11318.0   \n",
              "6  2021-01-29      10994                  11208.6   \n",
              "7  2021-01-30       7918                  11247.1   \n",
              "8  2021-01-31       6710                  11123.4   \n",
              "9  2021-02-01       7508                  10736.6   \n",
              "10 2021-02-02       6286                  10036.5   \n",
              "11 2021-02-03       6728                   8998.7   \n",
              "12 2021-02-04      10114                   8036.9   \n",
              "13 2021-02-05       8278                   7649.3   \n",
              "14 2021-02-06       8752                   7767.9   \n",
              "15 2021-02-07       4726                   7484.6   \n",
              "16 2021-02-08       8960                   7692.0   \n",
              "17 2021-02-09       6170                   7675.4   \n",
              "18 2021-02-10       8152                   7878.9   \n",
              "19 2021-02-11       6994                   7433.1   \n",
              "\n",
              "    Cumulative cases                            Population (2019)  \\\n",
              "0                                      1624822           25603978   \n",
              "1                                      1632398           25603978   \n",
              "2                                      1642614           25603978   \n",
              "3                                      1653800           25603978   \n",
              "4                                      1667792           25603978   \n",
              "5                                      1684640           25603978   \n",
              "6                                      1695634           25603978   \n",
              "7                                      1703552           25603978   \n",
              "8                                      1710262           25603978   \n",
              "9                                      1717770           25603978   \n",
              "10                                     1724056           25603978   \n",
              "11                                     1730784           25603978   \n",
              "12                                     1740898           25603978   \n",
              "13                                     1749176           25603978   \n",
              "14                                     1757928           25603978   \n",
              "15                                     1762654           25603978   \n",
              "16                                     1771614           25603978   \n",
              "17                                     1777784           25603978   \n",
              "18                                     1785936           25603978   \n",
              "19                                     1792930           25603978   \n",
              "\n",
              "    New Case Rate  7-Day Average New Case Rate  Cumulative Case Rate  \\\n",
              "0          2319.3                       4170.2              442920.2   \n",
              "1          2098.0                       3877.1              445018.1   \n",
              "2          2756.5                       3838.7              447774.3   \n",
              "3          3065.4                       3791.8              450839.5   \n",
              "4          3358.8                       2861.4              454198.1   \n",
              "5          4458.2                       3051.2              458655.9   \n",
              "6          3510.3                       3081.2              462166.3   \n",
              "7          2178.0                       3061.1              464344.7   \n",
              "8          1754.7                       3011.9              466099.9   \n",
              "9          2061.1                       2911.9              468160.5   \n",
              "10         1643.7                       2709.8              469803.9   \n",
              "11         1915.6                       2503.7              471720.3   \n",
              "12         4601.1                       2524.0              476321.1   \n",
              "13         2312.2                       2352.8              478633.1   \n",
              "14         2186.0                       2353.1              480819.2   \n",
              "15         1090.7                       2258.6              481909.8   \n",
              "16         2366.3                       2302.2              484275.6   \n",
              "17         1643.0                       2302.3              485918.6   \n",
              "18         2182.6                       2340.0              488100.9   \n",
              "19         1857.1                       1948.4              489957.6   \n",
              "\n",
              "    County FIPS Code    Longitude     Latitude   Prediction  \n",
              "0            2860489 -5275.682283  2774.207671  7767.665244  \n",
              "1            2860489 -5275.682283  2774.207671  7767.665244  \n",
              "2            2860489 -5275.682283  2774.207671  7767.665244  \n",
              "3            2860489 -5275.682283  2774.207671  7767.665244  \n",
              "4            2860489 -5275.682283  2774.207671  7767.665244  \n",
              "5            2860489 -5275.682283  2774.207671  7767.665244  \n",
              "6            2860489 -5275.682283  2774.207671  7767.665244  \n",
              "7            2860489 -5275.682283  2774.207671  5911.130190  \n",
              "8            2860489 -5275.682283  2774.207671  5911.130190  \n",
              "9            2860489 -5275.682283  2774.207671  5911.130190  \n",
              "10           2860489 -5275.682283  2774.207671  5911.130190  \n",
              "11           2860489 -5275.682283  2774.207671  5911.130190  \n",
              "12           2860489 -5275.682283  2774.207671  5911.130190  \n",
              "13           2860489 -5275.682283  2774.207671  5911.130190  \n",
              "14           2860489 -5275.682283  2774.207671  5096.632622  \n",
              "15           2860489 -5275.682283  2774.207671  5096.632622  \n",
              "16           2860489 -5275.682283  2774.207671  5096.632622  \n",
              "17           2860489 -5275.682283  2774.207671  5096.632622  \n",
              "18           2860489 -5275.682283  2774.207671  5096.632622  \n",
              "19           2860489 -5275.682283  2774.207671  5096.632622  "
            ],
            "text/html": [
              "\n",
              "  <div id=\"df-2bff7eb3-604e-4770-b13e-82cc6c839016\">\n",
              "    <div class=\"colab-df-container\">\n",
              "      <div>\n",
              "<style scoped>\n",
              "    .dataframe tbody tr th:only-of-type {\n",
              "        vertical-align: middle;\n",
              "    }\n",
              "\n",
              "    .dataframe tbody tr th {\n",
              "        vertical-align: top;\n",
              "    }\n",
              "\n",
              "    .dataframe thead th {\n",
              "        text-align: right;\n",
              "    }\n",
              "</style>\n",
              "<table border=\"1\" class=\"dataframe\">\n",
              "  <thead>\n",
              "    <tr style=\"text-align: right;\">\n",
              "      <th></th>\n",
              "      <th>Date</th>\n",
              "      <th>New Cases</th>\n",
              "      <th>7-day Average New Cases</th>\n",
              "      <th>Cumulative cases</th>\n",
              "      <th>Population (2019)</th>\n",
              "      <th>New Case Rate</th>\n",
              "      <th>7-Day Average New Case Rate</th>\n",
              "      <th>Cumulative Case Rate</th>\n",
              "      <th>County FIPS Code</th>\n",
              "      <th>Longitude</th>\n",
              "      <th>Latitude</th>\n",
              "      <th>Prediction</th>\n",
              "    </tr>\n",
              "  </thead>\n",
              "  <tbody>\n",
              "    <tr>\n",
              "      <th>0</th>\n",
              "      <td>2021-01-23</td>\n",
              "      <td>7646</td>\n",
              "      <td>10339.2</td>\n",
              "      <td>1624822</td>\n",
              "      <td>25603978</td>\n",
              "      <td>2319.3</td>\n",
              "      <td>4170.2</td>\n",
              "      <td>442920.2</td>\n",
              "      <td>2860489</td>\n",
              "      <td>-5275.682283</td>\n",
              "      <td>2774.207671</td>\n",
              "      <td>7767.665244</td>\n",
              "    </tr>\n",
              "    <tr>\n",
              "      <th>1</th>\n",
              "      <td>2021-01-24</td>\n",
              "      <td>7576</td>\n",
              "      <td>10285.1</td>\n",
              "      <td>1632398</td>\n",
              "      <td>25603978</td>\n",
              "      <td>2098.0</td>\n",
              "      <td>3877.1</td>\n",
              "      <td>445018.1</td>\n",
              "      <td>2860489</td>\n",
              "      <td>-5275.682283</td>\n",
              "      <td>2774.207671</td>\n",
              "      <td>7767.665244</td>\n",
              "    </tr>\n",
              "    <tr>\n",
              "      <th>2</th>\n",
              "      <td>2021-01-25</td>\n",
              "      <td>10216</td>\n",
              "      <td>10136.1</td>\n",
              "      <td>1642614</td>\n",
              "      <td>25603978</td>\n",
              "      <td>2756.5</td>\n",
              "      <td>3838.7</td>\n",
              "      <td>447774.3</td>\n",
              "      <td>2860489</td>\n",
              "      <td>-5275.682283</td>\n",
              "      <td>2774.207671</td>\n",
              "      <td>7767.665244</td>\n",
              "    </tr>\n",
              "    <tr>\n",
              "      <th>3</th>\n",
              "      <td>2021-01-26</td>\n",
              "      <td>11186</td>\n",
              "      <td>10116.1</td>\n",
              "      <td>1653800</td>\n",
              "      <td>25603978</td>\n",
              "      <td>3065.4</td>\n",
              "      <td>3791.8</td>\n",
              "      <td>450839.5</td>\n",
              "      <td>2860489</td>\n",
              "      <td>-5275.682283</td>\n",
              "      <td>2774.207671</td>\n",
              "      <td>7767.665244</td>\n",
              "    </tr>\n",
              "    <tr>\n",
              "      <th>4</th>\n",
              "      <td>2021-01-27</td>\n",
              "      <td>13992</td>\n",
              "      <td>10452.1</td>\n",
              "      <td>1667792</td>\n",
              "      <td>25603978</td>\n",
              "      <td>3358.8</td>\n",
              "      <td>2861.4</td>\n",
              "      <td>454198.1</td>\n",
              "      <td>2860489</td>\n",
              "      <td>-5275.682283</td>\n",
              "      <td>2774.207671</td>\n",
              "      <td>7767.665244</td>\n",
              "    </tr>\n",
              "    <tr>\n",
              "      <th>5</th>\n",
              "      <td>2021-01-28</td>\n",
              "      <td>16848</td>\n",
              "      <td>11318.0</td>\n",
              "      <td>1684640</td>\n",
              "      <td>25603978</td>\n",
              "      <td>4458.2</td>\n",
              "      <td>3051.2</td>\n",
              "      <td>458655.9</td>\n",
              "      <td>2860489</td>\n",
              "      <td>-5275.682283</td>\n",
              "      <td>2774.207671</td>\n",
              "      <td>7767.665244</td>\n",
              "    </tr>\n",
              "    <tr>\n",
              "      <th>6</th>\n",
              "      <td>2021-01-29</td>\n",
              "      <td>10994</td>\n",
              "      <td>11208.6</td>\n",
              "      <td>1695634</td>\n",
              "      <td>25603978</td>\n",
              "      <td>3510.3</td>\n",
              "      <td>3081.2</td>\n",
              "      <td>462166.3</td>\n",
              "      <td>2860489</td>\n",
              "      <td>-5275.682283</td>\n",
              "      <td>2774.207671</td>\n",
              "      <td>7767.665244</td>\n",
              "    </tr>\n",
              "    <tr>\n",
              "      <th>7</th>\n",
              "      <td>2021-01-30</td>\n",
              "      <td>7918</td>\n",
              "      <td>11247.1</td>\n",
              "      <td>1703552</td>\n",
              "      <td>25603978</td>\n",
              "      <td>2178.0</td>\n",
              "      <td>3061.1</td>\n",
              "      <td>464344.7</td>\n",
              "      <td>2860489</td>\n",
              "      <td>-5275.682283</td>\n",
              "      <td>2774.207671</td>\n",
              "      <td>5911.130190</td>\n",
              "    </tr>\n",
              "    <tr>\n",
              "      <th>8</th>\n",
              "      <td>2021-01-31</td>\n",
              "      <td>6710</td>\n",
              "      <td>11123.4</td>\n",
              "      <td>1710262</td>\n",
              "      <td>25603978</td>\n",
              "      <td>1754.7</td>\n",
              "      <td>3011.9</td>\n",
              "      <td>466099.9</td>\n",
              "      <td>2860489</td>\n",
              "      <td>-5275.682283</td>\n",
              "      <td>2774.207671</td>\n",
              "      <td>5911.130190</td>\n",
              "    </tr>\n",
              "    <tr>\n",
              "      <th>9</th>\n",
              "      <td>2021-02-01</td>\n",
              "      <td>7508</td>\n",
              "      <td>10736.6</td>\n",
              "      <td>1717770</td>\n",
              "      <td>25603978</td>\n",
              "      <td>2061.1</td>\n",
              "      <td>2911.9</td>\n",
              "      <td>468160.5</td>\n",
              "      <td>2860489</td>\n",
              "      <td>-5275.682283</td>\n",
              "      <td>2774.207671</td>\n",
              "      <td>5911.130190</td>\n",
              "    </tr>\n",
              "    <tr>\n",
              "      <th>10</th>\n",
              "      <td>2021-02-02</td>\n",
              "      <td>6286</td>\n",
              "      <td>10036.5</td>\n",
              "      <td>1724056</td>\n",
              "      <td>25603978</td>\n",
              "      <td>1643.7</td>\n",
              "      <td>2709.8</td>\n",
              "      <td>469803.9</td>\n",
              "      <td>2860489</td>\n",
              "      <td>-5275.682283</td>\n",
              "      <td>2774.207671</td>\n",
              "      <td>5911.130190</td>\n",
              "    </tr>\n",
              "    <tr>\n",
              "      <th>11</th>\n",
              "      <td>2021-02-03</td>\n",
              "      <td>6728</td>\n",
              "      <td>8998.7</td>\n",
              "      <td>1730784</td>\n",
              "      <td>25603978</td>\n",
              "      <td>1915.6</td>\n",
              "      <td>2503.7</td>\n",
              "      <td>471720.3</td>\n",
              "      <td>2860489</td>\n",
              "      <td>-5275.682283</td>\n",
              "      <td>2774.207671</td>\n",
              "      <td>5911.130190</td>\n",
              "    </tr>\n",
              "    <tr>\n",
              "      <th>12</th>\n",
              "      <td>2021-02-04</td>\n",
              "      <td>10114</td>\n",
              "      <td>8036.9</td>\n",
              "      <td>1740898</td>\n",
              "      <td>25603978</td>\n",
              "      <td>4601.1</td>\n",
              "      <td>2524.0</td>\n",
              "      <td>476321.1</td>\n",
              "      <td>2860489</td>\n",
              "      <td>-5275.682283</td>\n",
              "      <td>2774.207671</td>\n",
              "      <td>5911.130190</td>\n",
              "    </tr>\n",
              "    <tr>\n",
              "      <th>13</th>\n",
              "      <td>2021-02-05</td>\n",
              "      <td>8278</td>\n",
              "      <td>7649.3</td>\n",
              "      <td>1749176</td>\n",
              "      <td>25603978</td>\n",
              "      <td>2312.2</td>\n",
              "      <td>2352.8</td>\n",
              "      <td>478633.1</td>\n",
              "      <td>2860489</td>\n",
              "      <td>-5275.682283</td>\n",
              "      <td>2774.207671</td>\n",
              "      <td>5911.130190</td>\n",
              "    </tr>\n",
              "    <tr>\n",
              "      <th>14</th>\n",
              "      <td>2021-02-06</td>\n",
              "      <td>8752</td>\n",
              "      <td>7767.9</td>\n",
              "      <td>1757928</td>\n",
              "      <td>25603978</td>\n",
              "      <td>2186.0</td>\n",
              "      <td>2353.1</td>\n",
              "      <td>480819.2</td>\n",
              "      <td>2860489</td>\n",
              "      <td>-5275.682283</td>\n",
              "      <td>2774.207671</td>\n",
              "      <td>5096.632622</td>\n",
              "    </tr>\n",
              "    <tr>\n",
              "      <th>15</th>\n",
              "      <td>2021-02-07</td>\n",
              "      <td>4726</td>\n",
              "      <td>7484.6</td>\n",
              "      <td>1762654</td>\n",
              "      <td>25603978</td>\n",
              "      <td>1090.7</td>\n",
              "      <td>2258.6</td>\n",
              "      <td>481909.8</td>\n",
              "      <td>2860489</td>\n",
              "      <td>-5275.682283</td>\n",
              "      <td>2774.207671</td>\n",
              "      <td>5096.632622</td>\n",
              "    </tr>\n",
              "    <tr>\n",
              "      <th>16</th>\n",
              "      <td>2021-02-08</td>\n",
              "      <td>8960</td>\n",
              "      <td>7692.0</td>\n",
              "      <td>1771614</td>\n",
              "      <td>25603978</td>\n",
              "      <td>2366.3</td>\n",
              "      <td>2302.2</td>\n",
              "      <td>484275.6</td>\n",
              "      <td>2860489</td>\n",
              "      <td>-5275.682283</td>\n",
              "      <td>2774.207671</td>\n",
              "      <td>5096.632622</td>\n",
              "    </tr>\n",
              "    <tr>\n",
              "      <th>17</th>\n",
              "      <td>2021-02-09</td>\n",
              "      <td>6170</td>\n",
              "      <td>7675.4</td>\n",
              "      <td>1777784</td>\n",
              "      <td>25603978</td>\n",
              "      <td>1643.0</td>\n",
              "      <td>2302.3</td>\n",
              "      <td>485918.6</td>\n",
              "      <td>2860489</td>\n",
              "      <td>-5275.682283</td>\n",
              "      <td>2774.207671</td>\n",
              "      <td>5096.632622</td>\n",
              "    </tr>\n",
              "    <tr>\n",
              "      <th>18</th>\n",
              "      <td>2021-02-10</td>\n",
              "      <td>8152</td>\n",
              "      <td>7878.9</td>\n",
              "      <td>1785936</td>\n",
              "      <td>25603978</td>\n",
              "      <td>2182.6</td>\n",
              "      <td>2340.0</td>\n",
              "      <td>488100.9</td>\n",
              "      <td>2860489</td>\n",
              "      <td>-5275.682283</td>\n",
              "      <td>2774.207671</td>\n",
              "      <td>5096.632622</td>\n",
              "    </tr>\n",
              "    <tr>\n",
              "      <th>19</th>\n",
              "      <td>2021-02-11</td>\n",
              "      <td>6994</td>\n",
              "      <td>7433.1</td>\n",
              "      <td>1792930</td>\n",
              "      <td>25603978</td>\n",
              "      <td>1857.1</td>\n",
              "      <td>1948.4</td>\n",
              "      <td>489957.6</td>\n",
              "      <td>2860489</td>\n",
              "      <td>-5275.682283</td>\n",
              "      <td>2774.207671</td>\n",
              "      <td>5096.632622</td>\n",
              "    </tr>\n",
              "  </tbody>\n",
              "</table>\n",
              "</div>\n",
              "      <button class=\"colab-df-convert\" onclick=\"convertToInteractive('df-2bff7eb3-604e-4770-b13e-82cc6c839016')\"\n",
              "              title=\"Convert this dataframe to an interactive table.\"\n",
              "              style=\"display:none;\">\n",
              "        \n",
              "  <svg xmlns=\"http://www.w3.org/2000/svg\" height=\"24px\"viewBox=\"0 0 24 24\"\n",
              "       width=\"24px\">\n",
              "    <path d=\"M0 0h24v24H0V0z\" fill=\"none\"/>\n",
              "    <path d=\"M18.56 5.44l.94 2.06.94-2.06 2.06-.94-2.06-.94-.94-2.06-.94 2.06-2.06.94zm-11 1L8.5 8.5l.94-2.06 2.06-.94-2.06-.94L8.5 2.5l-.94 2.06-2.06.94zm10 10l.94 2.06.94-2.06 2.06-.94-2.06-.94-.94-2.06-.94 2.06-2.06.94z\"/><path d=\"M17.41 7.96l-1.37-1.37c-.4-.4-.92-.59-1.43-.59-.52 0-1.04.2-1.43.59L10.3 9.45l-7.72 7.72c-.78.78-.78 2.05 0 2.83L4 21.41c.39.39.9.59 1.41.59.51 0 1.02-.2 1.41-.59l7.78-7.78 2.81-2.81c.8-.78.8-2.07 0-2.86zM5.41 20L4 18.59l7.72-7.72 1.47 1.35L5.41 20z\"/>\n",
              "  </svg>\n",
              "      </button>\n",
              "      \n",
              "  <style>\n",
              "    .colab-df-container {\n",
              "      display:flex;\n",
              "      flex-wrap:wrap;\n",
              "      gap: 12px;\n",
              "    }\n",
              "\n",
              "    .colab-df-convert {\n",
              "      background-color: #E8F0FE;\n",
              "      border: none;\n",
              "      border-radius: 50%;\n",
              "      cursor: pointer;\n",
              "      display: none;\n",
              "      fill: #1967D2;\n",
              "      height: 32px;\n",
              "      padding: 0 0 0 0;\n",
              "      width: 32px;\n",
              "    }\n",
              "\n",
              "    .colab-df-convert:hover {\n",
              "      background-color: #E2EBFA;\n",
              "      box-shadow: 0px 1px 2px rgba(60, 64, 67, 0.3), 0px 1px 3px 1px rgba(60, 64, 67, 0.15);\n",
              "      fill: #174EA6;\n",
              "    }\n",
              "\n",
              "    [theme=dark] .colab-df-convert {\n",
              "      background-color: #3B4455;\n",
              "      fill: #D2E3FC;\n",
              "    }\n",
              "\n",
              "    [theme=dark] .colab-df-convert:hover {\n",
              "      background-color: #434B5C;\n",
              "      box-shadow: 0px 1px 3px 1px rgba(0, 0, 0, 0.15);\n",
              "      filter: drop-shadow(0px 1px 2px rgba(0, 0, 0, 0.3));\n",
              "      fill: #FFFFFF;\n",
              "    }\n",
              "  </style>\n",
              "\n",
              "      <script>\n",
              "        const buttonEl =\n",
              "          document.querySelector('#df-2bff7eb3-604e-4770-b13e-82cc6c839016 button.colab-df-convert');\n",
              "        buttonEl.style.display =\n",
              "          google.colab.kernel.accessAllowed ? 'block' : 'none';\n",
              "\n",
              "        async function convertToInteractive(key) {\n",
              "          const element = document.querySelector('#df-2bff7eb3-604e-4770-b13e-82cc6c839016');\n",
              "          const dataTable =\n",
              "            await google.colab.kernel.invokeFunction('convertToInteractive',\n",
              "                                                     [key], {});\n",
              "          if (!dataTable) return;\n",
              "\n",
              "          const docLinkHtml = 'Like what you see? Visit the ' +\n",
              "            '<a target=\"_blank\" href=https://colab.research.google.com/notebooks/data_table.ipynb>data table notebook</a>'\n",
              "            + ' to learn more about interactive tables.';\n",
              "          element.innerHTML = '';\n",
              "          dataTable['output_type'] = 'display_data';\n",
              "          await google.colab.output.renderOutput(dataTable, element);\n",
              "          const docLink = document.createElement('div');\n",
              "          docLink.innerHTML = docLinkHtml;\n",
              "          element.appendChild(docLink);\n",
              "        }\n",
              "      </script>\n",
              "    </div>\n",
              "  </div>\n",
              "  "
            ]
          },
          "metadata": {},
          "execution_count": 69
        }
      ]
    },
    {
      "cell_type": "code",
      "source": [
        "# renaming the dataframe for graphing\n",
        "merged_df_new = df1_copy"
      ],
      "metadata": {
        "id": "tB3yrsBFBVzZ"
      },
      "id": "tB3yrsBFBVzZ",
      "execution_count": 70,
      "outputs": []
    },
    {
      "cell_type": "code",
      "source": [
        "merged_df_new.shape"
      ],
      "metadata": {
        "colab": {
          "base_uri": "https://localhost:8080/"
        },
        "id": "D_rU8Xdc6NUr",
        "outputId": "52b98149-b8c5-42de-c88e-f344133c49fc"
      },
      "id": "D_rU8Xdc6NUr",
      "execution_count": 71,
      "outputs": [
        {
          "output_type": "execute_result",
          "data": {
            "text/plain": [
              "(105, 12)"
            ]
          },
          "metadata": {},
          "execution_count": 71
        }
      ]
    },
    {
      "cell_type": "code",
      "execution_count": 72,
      "id": "d516c1b3",
      "metadata": {
        "id": "d516c1b3",
        "colab": {
          "base_uri": "https://localhost:8080/",
          "height": 295
        },
        "outputId": "c5216c3d-5ff6-49bb-c676-a1eed6680a84"
      },
      "outputs": [
        {
          "output_type": "display_data",
          "data": {
            "text/plain": [
              "<Figure size 432x288 with 1 Axes>"
            ],
            "image/png": "[encoded data removed]"
          },
          "metadata": {
            "needs_background": "light"
          }
        }
      ],
      "source": [
        "#Create plot of Actual vs. Predicted Cases\n",
        "\n",
        "#Actual Cases Line\n",
        "plt.plot(merged_df_new['Date'], merged_df_new['New Cases'], color='g', label='Actual Cases')\n",
        "\n",
        "#Predicted Cases Line\n",
        "plt.plot(merged_df_new['Date'], merged_df_new['Prediction'], color='r', label='Predicted Cases')\n",
        "\n",
        "#Create XY Labels and Title\n",
        "plt.xlabel('Date (Year/Month/Day)') \n",
        "plt.ylabel('Number of Cases') \n",
        "plt.title(\"Predicted Daily Cases vs Actual Cases in PA\")\n",
        "\n",
        "#Display Plot\n",
        "plt.legend()\n",
        "plt.show()"
      ]
    },
    {
      "cell_type": "code",
      "execution_count": 73,
      "id": "4eee31c3",
      "metadata": {
        "id": "4eee31c3",
        "colab": {
          "base_uri": "https://localhost:8080/"
        },
        "outputId": "e324b33b-22b6-40a1-de5f-493a8a62fbe9"
      },
      "outputs": [
        {
          "output_type": "stream",
          "name": "stdout",
          "text": [
            "99\n",
            "0.9428571428571428\n",
            "6\n",
            "0.05714285714285716\n",
            "105\n",
            "[0.015912273642815385, 0.02529900267594594, 0.2396568868174465, 0.30559044839326244, 0.44484953943160616, 0.5389562414367898, 0.29346323046452916, 0.2534566570441254, 0.11905660364759833, 0.2126891063499447, 0.05963566822707363, 0.12141346766875517, 0.4155497143044676, 0.28592290534856063, 0.4176608064219481, 0.07842416889443724, 0.43117939484429574, 0.17396553935249426, 0.3747997274049178, 0.27128501255431653, 0.3396433503245517, 0.27322259885413164, 0.04817593805392637, 0.25574619368561574, 0.48885530158590695, 0.45535795484517755, 0.3581908541900984, 0.3672399785582323, 0.41122878990136513, 0.24748536620127903, 0.6107950810049974, 0.5913910785406511, 0.5400449391624735, 0.6690961104156006, 0.6765714913927717, 0.36487243248295986, 0.3329140181544564, 0.5539862093538496, 0.5587637097892331, 0.6471729389382243, 0.5693085651191393, 0.5982613505360693, 0.2832300284727923, 0.2280938768168532, 0.6385916496582477, 0.5772825291258896, 0.6071038674591602, 0.6447015834917764, 0.6127049597519886, 0.5104418532861321, 0.3355008771299053, 0.7042958020163249, 0.715042168993321, 0.7050373799423028, 0.7364339613490044, 0.7708958466072426, 0.49631335031314355, 0.26018106673542646, 0.663454101445534, 0.757094533977825, 0.6827107674290477, 0.764543571268853, 0.7090680464038511, 0.5681113231033303, 0.5493271740571959, 0.7588490678636959, 0.7063042234832434, 0.6631970221559998, 0.7339357819960536, 0.7585857068165867, 0.34965060911082674, 0.21091263406261512, 0.5841693810265223, 0.5396419059713693, 0.5358106296741534, 0.5980488024070139, 0.5580715878007056, 0.4183556997745779, 0.15645508945208125, 0.7022920886729211, 0.6427306028199188, 0.5746183475963331, 0.623936874854253, 0.5875857990877048, 0.18338634071291177, 0.11839752420473752, 0.5299238773770414, 0.4628440871414815, 0.46590212386894403, 0.40910247085985163, 0.4011232506038467, 0.11751935495512511, 0.3530748644193858, 0.34120210971457154, 0.24044937960571527, 0.32666216678656945, 0.42604170364830535, 0.17411414978720055, 0.15725593284734776, 0.24998626008210756, 0.3710524090578127, 0.2563316514652228, 0.15418271704330647, 0.3222477096308053, 0.19743288952821236]\n",
            "[0.015912273642815385, 0.02529900267594594, -0.2396568868174465, -0.30559044839326244, -0.44484953943160616, -0.5389562414367898, -0.29346323046452916, -0.2534566570441254, -0.11905660364759833, -0.2126891063499447, -0.05963566822707363, -0.12141346766875517, -0.4155497143044676, -0.28592290534856063, -0.4176608064219481, 0.07842416889443724, -0.43117939484429574, -0.17396553935249426, -0.3747997274049178, -0.27128501255431653, -0.3396433503245517, -0.27322259885413164, -0.04817593805392637, -0.25574619368561574, -0.48885530158590695, -0.45535795484517755, -0.3581908541900984, -0.3672399785582323, -0.41122878990136513, -0.24748536620127903, -0.6107950810049974, -0.5913910785406511, -0.5400449391624735, -0.6690961104156006, -0.6765714913927717, -0.36487243248295986, -0.3329140181544564, -0.5539862093538496, -0.5587637097892331, -0.6471729389382243, -0.5693085651191393, -0.5982613505360693, -0.2832300284727923, -0.2280938768168532, -0.6385916496582477, -0.5772825291258896, -0.6071038674591602, -0.6447015834917764, -0.6127049597519886, -0.5104418532861321, -0.3355008771299053, -0.7042958020163249, -0.715042168993321, -0.7050373799423028, -0.7364339613490044, -0.7708958466072426, -0.49631335031314355, -0.26018106673542646, -0.663454101445534, -0.757094533977825, -0.6827107674290477, -0.764543571268853, -0.7090680464038511, -0.5681113231033303, -0.5493271740571959, -0.7588490678636959, -0.7063042234832434, -0.6631970221559998, -0.7339357819960536, -0.7585857068165867, -0.34965060911082674, -0.21091263406261512, -0.5841693810265223, -0.5396419059713693, -0.5358106296741534, -0.5980488024070139, -0.5580715878007056, -0.4183556997745779, -0.15645508945208125, -0.7022920886729211, -0.6427306028199188, -0.5746183475963331, -0.623936874854253, -0.5875857990877048, -0.18338634071291177, 0.11839752420473752, -0.5299238773770414, -0.4628440871414815, -0.46590212386894403, -0.40910247085985163, -0.4011232506038467, -0.11751935495512511, 0.3530748644193858, -0.34120210971457154, -0.24044937960571527, -0.32666216678656945, -0.42604170364830535, -0.17411414978720055, -0.15725593284734776, 0.24998626008210756, -0.3710524090578127, -0.2563316514652228, -0.15418271704330647, -0.3222477096308053, -0.19743288952821236]\n"
          ]
        }
      ],
      "source": [
        "#error calculations\n",
        "#confirmed = merged_df_new['Actual']\n",
        "#projected = merged_df_new['Prediction']\n",
        "error = []\n",
        "rawerror = []\n",
        "\n",
        "for index, row in merged_df_new.iterrows():\n",
        "  rawerror.append(-1*(row['New Cases'] - row[\"Prediction\"]) / row['New Cases'])\n",
        "  error.append((abs(row['New Cases'] - row[\"Prediction\"])) / row['New Cases'])\n",
        "\n",
        "underpredictCount = 0\n",
        "overpredictCount = 0\n",
        "for x in rawerror:\n",
        "  if x < 0:\n",
        "    underpredictCount += 1\n",
        "  elif x > 0:\n",
        "    overpredictCount += 1\n",
        "\n",
        "underpredictPerecentage = underpredictCount / len(rawerror)\n",
        "overpredictPercentage = 1 - underpredictPerecentage\n",
        "\n",
        "print(underpredictCount)\n",
        "print(underpredictPerecentage)\n",
        "print(overpredictCount)\n",
        "print(overpredictPercentage)\n",
        "print(len(error))\n",
        "\n",
        "print(error)\n",
        "print(rawerror)"
      ]
    },
    {
      "cell_type": "code",
      "execution_count": 74,
      "id": "a0526cb0",
      "metadata": {
        "id": "a0526cb0",
        "colab": {
          "base_uri": "https://localhost:8080/"
        },
        "outputId": "ecf5c379-c728-4239-c159-386e39f89661"
      },
      "outputs": [
        {
          "output_type": "stream",
          "name": "stdout",
          "text": [
            "[0.9840877263571847, 0.974700997324054, 0.7603431131825535, 0.6944095516067376, 0.5551504605683939, 0.4610437585632102, 0.7065367695354708, 0.7465433429558745, 0.8809433963524017, 0.7873108936500552, 0.9403643317729263, 0.8785865323312448, 0.5844502856955325, 0.7140770946514394, 0.582339193578052, 0.9215758311055627, 0.5688206051557043, 0.8260344606475057, 0.6252002725950823, 0.7287149874456835, 0.6603566496754483, 0.7267774011458683, 0.9518240619460736, 0.7442538063143842, 0.511144698414093, 0.5446420451548224, 0.6418091458099016, 0.6327600214417677, 0.5887712100986349, 0.752514633798721, 0.38920491899500265, 0.4086089214593489, 0.45995506083752646, 0.3309038895843994, 0.32342850860722827, 0.6351275675170401, 0.6670859818455436, 0.44601379064615043, 0.44123629021076693, 0.35282706106177575, 0.4306914348808607, 0.4017386494639307, 0.7167699715272078, 0.7719061231831468, 0.36140835034175234, 0.4227174708741104, 0.39289613254083977, 0.3552984165082236, 0.3872950402480114, 0.4895581467138679, 0.6644991228700947, 0.2957041979836751, 0.28495783100667904, 0.29496262005769724, 0.2635660386509956, 0.22910415339275736, 0.5036866496868564, 0.7398189332645735, 0.33654589855446604, 0.242905466022175, 0.3172892325709523, 0.23545642873114703, 0.2909319535961489, 0.43188867689666965, 0.4506728259428041, 0.24115093213630412, 0.2936957765167566, 0.33680297784400015, 0.2660642180039464, 0.24141429318341334, 0.6503493908891733, 0.7890873659373849, 0.41583061897347773, 0.4603580940286307, 0.4641893703258466, 0.40195119759298614, 0.44192841219929435, 0.5816443002254221, 0.8435449105479187, 0.29770791132707886, 0.3572693971800812, 0.4253816524036669, 0.376063125145747, 0.4124142009122952, 0.8166136592870883, 0.8816024757952625, 0.4700761226229586, 0.5371559128585185, 0.534097876131056, 0.5908975291401484, 0.5988767493961533, 0.8824806450448749, 0.6469251355806143, 0.6587978902854285, 0.7595506203942848, 0.6733378332134305, 0.5739582963516947, 0.8258858502127995, 0.8427440671526523, 0.7500137399178924, 0.6289475909421873, 0.7436683485347773, 0.8458172829566936, 0.6777522903691947, 0.8025671104717876]\n"
          ]
        }
      ],
      "source": [
        "#accuracy calculations\n",
        "accuracy = []\n",
        "\n",
        "for i in error:\n",
        "  accuracy.append(1 - i)\n",
        "\n",
        "print(accuracy)"
      ]
    },
    {
      "cell_type": "code",
      "execution_count": null,
      "id": "a8012f5e",
      "metadata": {
        "id": "a8012f5e"
      },
      "outputs": [],
      "source": [
        "#Create Error and Accuracy Column and insert list data\n",
        "merged_df_new['Error'] = error\n",
        "merged_df_new['Accuracy'] = accuracy\n",
        "merged_df_new['RawError'] = rawerror\n",
        "\n",
        "print(merged_df_new)"
      ]
    },
    {
      "cell_type": "code",
      "execution_count": 76,
      "id": "6a1f3c40",
      "metadata": {
        "id": "6a1f3c40",
        "colab": {
          "base_uri": "https://localhost:8080/",
          "height": 313
        },
        "outputId": "9931161b-b144-40af-e5ca-139c723e2df3"
      },
      "outputs": [
        {
          "output_type": "execute_result",
          "data": {
            "text/plain": [
              "<matplotlib.legend.Legend at 0x7f1c27d36a10>"
            ]
          },
          "metadata": {},
          "execution_count": 76
        },
        {
          "output_type": "display_data",
          "data": {
            "text/plain": [
              "<Figure size 432x288 with 1 Axes>"
            ],
            "image/png": "[encoded data removed]"
          },
          "metadata": {
            "needs_background": "light"
          }
        }
      ],
      "source": [
        "from IPython.core.pylabtools import figsize\n",
        "#Create plot of Error\n",
        "\n",
        "#Error Line\n",
        "plt.plot(merged_df_new['Date'], merged_df_new['Error'], color='g', label='Error')\n",
        "\n",
        "\n",
        "#Create XY Labels and Title\n",
        "plt.xlabel('Date (Year/Month/Day)') \n",
        "plt.ylabel('Percentage') \n",
        "plt.title(\"Predicted Daily COVID-19 Case Error in PA\")\n",
        "#Display Plot\n",
        "plt.legend()"
      ]
    },
    {
      "cell_type": "code",
      "execution_count": 77,
      "id": "0480ef44",
      "metadata": {
        "id": "0480ef44",
        "colab": {
          "base_uri": "https://localhost:8080/",
          "height": 295
        },
        "outputId": "63675f77-648e-4640-e33e-73a77b755a52"
      },
      "outputs": [
        {
          "output_type": "display_data",
          "data": {
            "text/plain": [
              "<Figure size 432x288 with 1 Axes>"
            ],
            "image/png": "[encoded data removed]"
          },
          "metadata": {
            "needs_background": "light"
          }
        }
      ],
      "source": [
        "#Create plot of Raw Error\n",
        "\n",
        "#Raw Error Line\n",
        "plt.plot(merged_df_new['Date'], merged_df_new['RawError'], color='g', label='Raw Error')\n",
        "plt.axhline(y=0.0, color='r', linestyle='-')\n",
        "\n",
        "#Create XY Labels and Title\n",
        "plt.xlabel('Date (Year/Month/Day)') \n",
        "plt.ylabel('Percentage') \n",
        "plt.title(\"Predicted Daily COVID-19 Case Raw Error in PA\")\n",
        "#Display Plot\n",
        "plt.legend()\n",
        "plt.show()"
      ]
    },
    {
      "cell_type": "code",
      "execution_count": 78,
      "id": "cb557ed1",
      "metadata": {
        "id": "cb557ed1",
        "colab": {
          "base_uri": "https://localhost:8080/",
          "height": 295
        },
        "outputId": "e7a06efa-8831-4fb7-e95f-d6e792170459"
      },
      "outputs": [
        {
          "output_type": "display_data",
          "data": {
            "text/plain": [
              "<Figure size 432x288 with 1 Axes>"
            ],
            "image/png": "[encoded data removed]"
          },
          "metadata": {
            "needs_background": "light"
          }
        }
      ],
      "source": [
        "#Create plot of Accuracy\n",
        "\n",
        "#Accuracy Line\n",
        "plt.plot(merged_df_new['Date'], merged_df_new['Accuracy'], color='r', label='Daily Accuracy')\n",
        "\n",
        "#Create XY Labels and Title\n",
        "plt.xlabel('Date (Year/Month/Day)') \n",
        "plt.ylabel('Percentage') \n",
        "plt.title(\"Predicted Daily COVID-19 Case Accuracy in PA\")\n",
        "\n",
        "#Display Plot\n",
        "plt.legend()\n",
        "plt.show()"
      ]
    },
    {
      "cell_type": "code",
      "execution_count": 79,
      "id": "4d6b0409",
      "metadata": {
        "id": "4d6b0409"
      },
      "outputs": [],
      "source": [
        "#Calculate Weekly Accuracy Averages\n",
        "weeklyAccuracy = 0\n",
        "averageWeeklyAccuracy = []\n",
        "length = len(accuracy) #   =245\n",
        "amountOfWeeks = int(length / 7) #   =35\n",
        "remainderDays = length % 7 #  \n",
        "\n",
        "i = 0\n",
        "while i < length:\n",
        "  weeklyAccuracy += accuracy[i]\n",
        "  if (i + 1) % 7 == 0 and amountOfWeeks > 0:\n",
        "    averageWeeklyAccuracy.append(weeklyAccuracy / 7)\n",
        "    amountOfWeeks -= 1\n",
        "    weeklyAccuracy = 0\n",
        "  if remainderDays > 0:\n",
        "    if (i + 1) % remainderDays == 0 and amountOfWeeks == 0:\n",
        "      averageWeeklyAccuracy.append(weeklyAccuracy / remainderDays)\n",
        "      weeklyAccuracy = 0\n",
        "  i += 1\n",
        "\n",
        "weeklyDateList = []\n",
        "i = 0\n",
        "weeklyDateList.append(merged_df_new['Date'][i])\n",
        "while i < length:\n",
        "  if (i + 1) % 7 == 0:\n",
        "    weeklyDateList.append(merged_df_new['Date'][i])\n",
        "  i += 1"
      ]
    },
    {
      "cell_type": "code",
      "source": [
        "len(weeklyDateList)"
      ],
      "metadata": {
        "id": "WJ-5HSFnNqoZ",
        "colab": {
          "base_uri": "https://localhost:8080/"
        },
        "outputId": "ca70297a-a308-4fbc-92df-d18d447e44a7"
      },
      "id": "WJ-5HSFnNqoZ",
      "execution_count": 80,
      "outputs": [
        {
          "output_type": "execute_result",
          "data": {
            "text/plain": [
              "16"
            ]
          },
          "metadata": {},
          "execution_count": 80
        }
      ]
    },
    {
      "cell_type": "code",
      "source": [
        "del weeklyDateList[-1:]\n",
        "len(averageWeeklyAccuracy)"
      ],
      "metadata": {
        "id": "P90LPnPNNFv2",
        "colab": {
          "base_uri": "https://localhost:8080/"
        },
        "outputId": "4431908a-d231-455d-e57f-e927fd289ab6"
      },
      "id": "P90LPnPNNFv2",
      "execution_count": 82,
      "outputs": [
        {
          "output_type": "execute_result",
          "data": {
            "text/plain": [
              "15"
            ]
          },
          "metadata": {},
          "execution_count": 82
        }
      ]
    },
    {
      "cell_type": "code",
      "execution_count": 83,
      "id": "04c4449c",
      "metadata": {
        "id": "04c4449c"
      },
      "outputs": [],
      "source": [
        "#Create Dataframe for Weekly Accuracy\n",
        "i = 0\n",
        "data = []\n",
        "while i < len(averageWeeklyAccuracy):\n",
        "  data.append([weeklyDateList[i], averageWeeklyAccuracy[i]])\n",
        "  i += 1\n",
        "\n",
        "df = pd.DataFrame(data, columns = ['Week Of', 'Average Weekly Accuracy'])"
      ]
    },
    {
      "cell_type": "code",
      "execution_count": 84,
      "id": "6132cdfa",
      "metadata": {
        "id": "6132cdfa",
        "colab": {
          "base_uri": "https://localhost:8080/",
          "height": 295
        },
        "outputId": "f1c4b6e5-d73a-4a32-949d-f7a4a0013e1c"
      },
      "outputs": [
        {
          "output_type": "display_data",
          "data": {
            "text/plain": [
              "<Figure size 432x288 with 1 Axes>"
            ],
            "image/png": "[encoded data removed]"
          },
          "metadata": {
            "needs_background": "light"
          }
        }
      ],
      "source": [
        "#Create plot of Weekly Accuracy\n",
        "\n",
        "#Accuracy Line\n",
        "plt.plot(df['Week Of'], df['Average Weekly Accuracy'], color='r', label='Weekly Accuracy')\n",
        "\n",
        "#Create XY Labels and Title\n",
        "plt.xlabel('Week Of (Year/Month/Day)') \n",
        "plt.ylabel('Average Weekly Accuracy Percentage') \n",
        "plt.title(\"Predicted Daily COVID-19 Case Weekly Accuracy in PA\")\n",
        "\n",
        "#Display Plot\n",
        "plt.legend()\n",
        "plt.show()"
      ]
    },
    {
      "cell_type": "code",
      "execution_count": 85,
      "id": "5917fad0",
      "metadata": {
        "id": "5917fad0"
      },
      "outputs": [],
      "source": [
        "#Create Running Weekly Average\n",
        "runningweeklyAccuracy = 0\n",
        "runningAverageWeeklyAccuracy = []\n",
        "length = len(accuracy)\n",
        "\n",
        "i = 1\n",
        "j = 8\n",
        "#Add first week average\n",
        "runningAverageWeeklyAccuracy.append(averageWeeklyAccuracy[0])\n",
        "\n",
        "while j < length:\n",
        "  temp_i = i\n",
        "  temp_j = j\n",
        "  while temp_i < temp_j:\n",
        "    runningweeklyAccuracy += accuracy[temp_i]\n",
        "    temp_i += 1\n",
        "  runningAverageWeeklyAccuracy.append(runningweeklyAccuracy / 7)\n",
        "  runningweeklyAccuracy = 0\n",
        "\n",
        "  i += 1\n",
        "  j += 1"
      ]
    },
    {
      "cell_type": "code",
      "execution_count": 86,
      "id": "5b231780",
      "metadata": {
        "id": "5b231780"
      },
      "outputs": [],
      "source": [
        "#Create Dataframe for Running Weekly Accuracy\n",
        "i = 0\n",
        "data = []\n",
        "while i < len(runningAverageWeeklyAccuracy):\n",
        "  data.append([merged_df_new['Date'][i], runningAverageWeeklyAccuracy[i]])\n",
        "  i += 1\n",
        "\n",
        "df = pd.DataFrame(data, columns = ['Date', 'Running Weekly Average Accuracy'])"
      ]
    },
    {
      "cell_type": "code",
      "execution_count": 87,
      "id": "85337528",
      "metadata": {
        "id": "85337528",
        "colab": {
          "base_uri": "https://localhost:8080/",
          "height": 295
        },
        "outputId": "e31d0183-a253-4415-adaa-3a7109db9585"
      },
      "outputs": [
        {
          "output_type": "display_data",
          "data": {
            "text/plain": [
              "<Figure size 432x288 with 1 Axes>"
            ],
            "image/png": "[encoded data removed]"
          },
          "metadata": {
            "needs_background": "light"
          }
        }
      ],
      "source": [
        "#Create plot of Running Weekly Accuracy\n",
        "\n",
        "#Accuracy Line\n",
        "plt.plot(df['Date'], df['Running Weekly Average Accuracy'], color='r', label='Running Weekly Accuracy')\n",
        "\n",
        "#Create XY Labels and Title\n",
        "plt.xlabel('Date') \n",
        "plt.ylabel('Accuracy Percentage') \n",
        "plt.title(\"Predicted Daily COVID-19 Case Running Weekly Accuracy in PA\")\n",
        "\n",
        "#Display Plot\n",
        "plt.legend()\n",
        "plt.show()"
      ]
    },
    {
      "cell_type": "code",
      "execution_count": 88,
      "id": "b8764ff7",
      "metadata": {
        "id": "b8764ff7",
        "colab": {
          "base_uri": "https://localhost:8080/",
          "height": 295
        },
        "outputId": "2e6f9773-859e-45c9-9783-69c07ee9a1ff"
      },
      "outputs": [
        {
          "output_type": "display_data",
          "data": {
            "text/plain": [
              "<Figure size 432x288 with 1 Axes>"
            ],
            "image/png": "[encoded data removed]"
          },
          "metadata": {
            "needs_background": "light"
          }
        }
      ],
      "source": [
        "#Plot with combined daily accuracy and running weekly accuracy\n",
        "\n",
        "#Daily Accuracy\n",
        "plt.plot(merged_df_new['Date'], merged_df_new['Accuracy'], color='r', label='Daily Accuracy')\n",
        "\n",
        "#Running Accuracy Line\n",
        "plt.plot(df['Date'], df['Running Weekly Average Accuracy'], color='b', label='Running Weekly Accuracy')\n",
        "\n",
        "#Create XY Labels and Title\n",
        "plt.xlabel('Date') \n",
        "plt.ylabel('Accuracy Percentage') \n",
        "plt.title(\"Predicted Daily COVID-19 Case Accuracy in PA\")\n",
        "\n",
        "#Display Plot\n",
        "plt.legend()\n",
        "plt.show()"
      ]
    },
    {
      "cell_type": "code",
      "execution_count": 89,
      "id": "4243a737",
      "metadata": {
        "id": "4243a737"
      },
      "outputs": [],
      "source": [
        "#merged_df_new.to_csv('DDS_everyday_predictions.csv')"
      ]
    },
    {
      "cell_type": "code",
      "execution_count": 90,
      "id": "b8d57b22",
      "metadata": {
        "id": "b8d57b22"
      },
      "outputs": [],
      "source": [
        "#Calculate Monthly Accuracy Averages\n",
        "#We are going to use an average of 30 days per month for these calculations\n",
        "\n",
        "monthlyAccuracy = 0\n",
        "averageMonthlyAccuracy = []\n",
        "amountOfMonths = int(length / 30)\n",
        "remainderDays = length % 30\n",
        "\n",
        "i = 0\n",
        "while i < length:\n",
        "  monthlyAccuracy += accuracy[i]\n",
        "  if (i + 1) % 30 == 0 and amountOfMonths > 0:\n",
        "    averageMonthlyAccuracy.append(monthlyAccuracy / 30)\n",
        "    amountOfMonths -= 1\n",
        "    monthlyAccuracy = 0\n",
        "  if (i + 1) % remainderDays == 0 and remainderDays > 0 and amountOfMonths == 0:\n",
        "    averageMonthlyAccuracy.append(monthlyAccuracy / remainderDays)\n",
        "    monthlyAccuracy = 0\n",
        "  i += 1\n",
        "\n",
        "weeklyDateListForMonths = []\n",
        "i = 0\n",
        "weeklyDateListForMonths.append(merged_df_new['Date'][i])\n",
        "while i < length:\n",
        "  if (i + 1) % 30 == 0:\n",
        "    weeklyDateListForMonths.append(merged_df_new['Date'][i])\n",
        "  i += 1\n"
      ]
    },
    {
      "cell_type": "code",
      "execution_count": 91,
      "id": "c9d81c9a",
      "metadata": {
        "id": "c9d81c9a",
        "colab": {
          "base_uri": "https://localhost:8080/"
        },
        "outputId": "a8848d4c-eae7-436a-8beb-3b068d26bc1c"
      },
      "outputs": [
        {
          "output_type": "execute_result",
          "data": {
            "text/plain": [
              "4"
            ]
          },
          "metadata": {},
          "execution_count": 91
        }
      ],
      "source": [
        "del averageMonthlyAccuracy[-1:]\n",
        "len(averageMonthlyAccuracy)"
      ]
    },
    {
      "cell_type": "code",
      "execution_count": 92,
      "id": "d2d88cd5",
      "metadata": {
        "id": "d2d88cd5"
      },
      "outputs": [],
      "source": [
        "#Create Dataframe for Monthly Accuracy\n",
        "i = 0\n",
        "data = []\n",
        "while i < len(averageMonthlyAccuracy):\n",
        "  data.append([weeklyDateListForMonths[i], averageMonthlyAccuracy[i]])\n",
        "  i += 1\n",
        "\n",
        "df = pd.DataFrame(data, columns = ['Month Of', 'Average Monthly Accuracy'])"
      ]
    },
    {
      "cell_type": "code",
      "execution_count": 93,
      "id": "bbf2b69a",
      "metadata": {
        "id": "bbf2b69a",
        "colab": {
          "base_uri": "https://localhost:8080/",
          "height": 295
        },
        "outputId": "df2ef670-d9b8-46de-958d-0dd90a7633e9"
      },
      "outputs": [
        {
          "output_type": "display_data",
          "data": {
            "text/plain": [
              "<Figure size 432x288 with 1 Axes>"
            ],
            "image/png": "[encoded data removed]"
          },
          "metadata": {
            "needs_background": "light"
          }
        }
      ],
      "source": [
        "#Create plot of Monthly Accuracy\n",
        "\n",
        "#Accuracy Line\n",
        "plt.plot(df['Month Of'], df['Average Monthly Accuracy'], color='r', label='Monthly Accuracy')\n",
        "\n",
        "#Create XY Labels and Title\n",
        "plt.xlabel('Month Of (Year/Month/Day)') \n",
        "plt.ylabel('Average Monthly Accuracy Percentage') \n",
        "plt.title(\"Predicted Daily COVID-19 Case Monthly Accuracy in PA\")\n",
        "\n",
        "#Display Plot\n",
        "plt.legend()\n",
        "plt.show()"
      ]
    },
    {
      "cell_type": "code",
      "source": [
        "#Calculate Running Monthly Accuracy\n",
        "\n",
        "runningmonthlyAccuracy = 0\n",
        "runningAveragemonthlyAccuracy = []\n",
        "length = len(accuracy)\n",
        "\n",
        "i = 1\n",
        "j = 31\n",
        "#Add first week average\n",
        "runningAveragemonthlyAccuracy.append(averageMonthlyAccuracy[0])\n",
        "\n",
        "while j < length:\n",
        "  temp_i = i\n",
        "  temp_j = j\n",
        "  while temp_i < temp_j:\n",
        "    runningmonthlyAccuracy += accuracy[temp_i]\n",
        "    temp_i += 1\n",
        "  runningAveragemonthlyAccuracy.append(runningmonthlyAccuracy / 30)\n",
        "  runningmonthlyAccuracy = 0\n",
        "\n",
        "  i += 1\n",
        "  j += 1"
      ],
      "metadata": {
        "id": "X02LeClcSWTa"
      },
      "id": "X02LeClcSWTa",
      "execution_count": 94,
      "outputs": []
    },
    {
      "cell_type": "code",
      "source": [
        "#Create Dataframe for Running Monthly Accuracy\n",
        "i = 0\n",
        "data = []\n",
        "while i < len(runningAveragemonthlyAccuracy):\n",
        "  data.append([merged_df_new['Date'][i], runningAveragemonthlyAccuracy[i]])\n",
        "  i += 1\n",
        "\n",
        "df = pd.DataFrame(data, columns = ['Date', 'Running Monthly Average Accuracy'])"
      ],
      "metadata": {
        "id": "0IAKKnIZSc7e"
      },
      "id": "0IAKKnIZSc7e",
      "execution_count": 95,
      "outputs": []
    },
    {
      "cell_type": "code",
      "source": [
        "#Create plot of Running Monthly Accuracy\n",
        "\n",
        "#Accuracy Line\n",
        "plt.plot(df['Date'], df['Running Monthly Average Accuracy'], color='r', label='Running Monthly Accuracy')\n",
        "\n",
        "#Create XY Labels and Title\n",
        "plt.xlabel('Date') \n",
        "plt.ylabel('Accuracy Percentage') \n",
        "plt.title(\"Predicted Daily COVID-19 Case Running Monthly Accuracy in PA\")\n",
        "\n",
        "#Display Plot\n",
        "plt.legend()\n",
        "plt.show()"
      ],
      "metadata": {
        "id": "qhK2tbJaSkPW",
        "colab": {
          "base_uri": "https://localhost:8080/",
          "height": 295
        },
        "outputId": "a5f22b97-a8ad-48ab-f511-5f7c9329f5d0"
      },
      "id": "qhK2tbJaSkPW",
      "execution_count": 96,
      "outputs": [
        {
          "output_type": "display_data",
          "data": {
            "text/plain": [
              "<Figure size 432x288 with 1 Axes>"
            ],
            "image/png": "[encoded data removed]"
          },
          "metadata": {
            "needs_background": "light"
          }
        }
      ]
    },
    {
      "cell_type": "code",
      "source": [
        "#Seperate Running Weekly Average plot into 3 plots for the 3 variants: Original, Delta, Omicron\n",
        "\n",
        "# Start Date - May 20th 2021"
      ],
      "metadata": {
        "id": "QA5c4LGoTo2Y"
      },
      "id": "QA5c4LGoTo2Y",
      "execution_count": 97,
      "outputs": []
    },
    {
      "cell_type": "code",
      "source": [
        "type(merged_df_new['Date'][1])"
      ],
      "metadata": {
        "id": "PWR2ZpCgTr1O",
        "colab": {
          "base_uri": "https://localhost:8080/"
        },
        "outputId": "d4a6963a-3831-4e9b-e8a7-c24663936143"
      },
      "id": "PWR2ZpCgTr1O",
      "execution_count": 98,
      "outputs": [
        {
          "output_type": "execute_result",
          "data": {
            "text/plain": [
              "pandas._libs.tslibs.timestamps.Timestamp"
            ]
          },
          "metadata": {},
          "execution_count": 98
        }
      ]
    },
    {
      "cell_type": "code",
      "source": [
        "merged_df_new.index[merged_df_new['Date']=='2021-05-07'].tolist()"
      ],
      "metadata": {
        "id": "2g6bUui0kDv6",
        "colab": {
          "base_uri": "https://localhost:8080/"
        },
        "outputId": "8fb63fe1-2e9f-4d26-d601-a7f9867d7015"
      },
      "id": "2g6bUui0kDv6",
      "execution_count": 100,
      "outputs": [
        {
          "output_type": "execute_result",
          "data": {
            "text/plain": [
              "[104]"
            ]
          },
          "metadata": {},
          "execution_count": 100
        }
      ]
    },
    {
      "cell_type": "code",
      "source": [
        "#print(merged_inner)\n",
        "standardVariantDF = merged_df_new[:104]"
      ],
      "metadata": {
        "id": "_tncXpS9T0gn"
      },
      "id": "_tncXpS9T0gn",
      "execution_count": 101,
      "outputs": []
    },
    {
      "cell_type": "code",
      "source": [
        "#Create plot of Accuracy\n",
        "\n",
        "#Accuracy Line\n",
        "plt.plot(standardVariantDF['Date'], standardVariantDF['Accuracy'], color='r', label='Daily Accuracy')\n",
        "\n",
        "#Create XY Labels and Title\n",
        "plt.xlabel('Date (Year/Month/Day)') \n",
        "plt.ylabel('Percentage') \n",
        "plt.title(\"(Standard covid) Predicted Daily COVID-19 Case Accuracy in PA\")\n",
        "\n",
        "#Display Plot\n",
        "plt.legend()\n",
        "plt.show()"
      ],
      "metadata": {
        "id": "iGb97-d2T64q",
        "colab": {
          "base_uri": "https://localhost:8080/",
          "height": 295
        },
        "outputId": "108fa26d-d2f6-409e-d938-e2d384692e7f"
      },
      "id": "iGb97-d2T64q",
      "execution_count": 102,
      "outputs": [
        {
          "output_type": "display_data",
          "data": {
            "text/plain": [
              "<Figure size 432x288 with 1 Axes>"
            ],
            "image/png": "[encoded data removed]"
          },
          "metadata": {
            "needs_background": "light"
          }
        }
      ]
    }
  ],
  "metadata": {
    "kernelspec": {
      "display_name": "Python 3 (ipykernel)",
      "language": "python",
      "name": "python3"
    },
    "language_info": {
      "codemirror_mode": {
        "name": "ipython",
        "version": 3
      },
      "file_extension": ".py",
      "mimetype": "text/x-python",
      "name": "python",
      "nbconvert_exporter": "python",
      "pygments_lexer": "ipython3",
      "version": "3.9.7"
    },
    "colab": {
      "name": "MIT_ISOLAT-Mixtures-analysis.ipynb",
      "provenance": [],
      "collapsed_sections": []
    }
  },
  "nbformat": 4,
  "nbformat_minor": 5
}