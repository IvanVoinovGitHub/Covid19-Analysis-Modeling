{
  "cells": [
    {
      "cell_type": "code",
      "execution_count": 1,
      "id": "19d98421",
      "metadata": {
        "id": "19d98421"
      },
      "outputs": [],
      "source": [
        "#import libraries\n",
        "import csv\n",
        "import pandas as pd\n",
        "import matplotlib.pyplot as plt\n",
        "import math\n",
        "import numpy as np\n",
        "import statistics\n",
        "import glob\n",
        "import requests\n",
        "from itertools import repeat"
      ]
    },
    {
      "cell_type": "code",
      "execution_count": 2,
      "id": "bb3a7895",
      "metadata": {
        "id": "bb3a7895"
      },
      "outputs": [],
      "source": [
        "#actual COVID-19 cases data for PA\n",
        "url2 = 'https://raw.githubusercontent.com/IvanVoinovGitHub/Covid19-Analysis-Modeling/main/Data/COVID-19_Aggregate_Cases_Current_Daily_County_Health.csv'\n",
        "df1 = pd.read_csv(url2)"
      ]
    },
    {
      "cell_type": "code",
      "execution_count": 3,
      "id": "16ac3fab",
      "metadata": {
        "id": "16ac3fab"
      },
      "outputs": [],
      "source": [
        "url = 'https://github.com/reichlab/covid19-forecast-hub/tree/master/data-processed/TTU-squider'\n",
        "download = requests.get(url).content\n",
        "\n",
        "csvStringList = []\n",
        "hrefStringList = []\n",
        "urlExtension = []\n",
        "rawUrls = []\n",
        "tempList = []\n",
        "urlExtensionwoutblob = []\n",
        "urlBeginning = 'https://raw.githubusercontent.com'\n",
        "\n",
        "urlStringList = str(requests.get(url).text).split(\" \")\n",
        "for i in urlStringList:\n",
        "  if \"csv\" in i:\n",
        "    csvStringList.append(i)\n",
        "\n",
        "for i in csvStringList:\n",
        "  if \"href\" in i and \"/reichlab/covid19-forecast-hub/blob/master/data-processed/\" in i:\n",
        "    hrefStringList.append(i)\n",
        "\n",
        "for i in hrefStringList:\n",
        "  tempList1 = i.split(\"\\\"\")\n",
        "  for x in tempList1:\n",
        "    if \"/reichlab/covid19-forecast-hub/blob/master/data-processed/\" in x:\n",
        "      urlExtension.append(x)\n",
        "\n",
        "for i in urlExtension:\n",
        "  newString = \"\"\n",
        "  tempList = []\n",
        "  temp = i.split(\"/\")\n",
        "  for x in temp:\n",
        "    if \"blob\" not in x:\n",
        "      tempList.append(x)\n",
        "  for j in range(1, len(tempList)):\n",
        "    newString += \"/\" + tempList[j]\n",
        "  urlExtensionwoutblob.append(newString)\n",
        "\n",
        "\n",
        "for i in urlExtensionwoutblob:\n",
        "  finalUrl = urlBeginning + i\n",
        "  rawUrls.append(finalUrl)"
      ]
    },
    {
      "cell_type": "code",
      "execution_count": 4,
      "id": "922310e5",
      "metadata": {
        "id": "922310e5"
      },
      "outputs": [],
      "source": [
        "#reading all the raw data, filtering PA cases data, and ensemble back into one dataframe\n",
        "all_data = []\n",
        "for url in rawUrls:\n",
        "    df3=pd.read_csv(url)\n",
        "    df2_case = df3[df3['target'].str.contains('case')]\n",
        "    df2_casesPA = df2_case[(df2_case[\"type\"]==\"point\") & (df2_case[\"location\"]==\"42\")]\n",
        "    all_data.append(df2_casesPA)"
      ]
    },
    {
      "cell_type": "code",
      "execution_count": 5,
      "id": "e6b3b86d",
      "metadata": {
        "id": "e6b3b86d",
        "outputId": "6440cf1f-efc1-4662-ddfd-07f4bfe5c38f",
        "colab": {
          "base_uri": "https://localhost:8080/"
        }
      },
      "outputs": [
        {
          "output_type": "execute_result",
          "data": {
            "text/plain": [
              "80"
            ]
          },
          "metadata": {},
          "execution_count": 5
        }
      ],
      "source": [
        "len(all_data)"
      ]
    },
    {
      "cell_type": "code",
      "execution_count": 6,
      "id": "9ca79685",
      "metadata": {
        "id": "9ca79685",
        "colab": {
          "base_uri": "https://localhost:8080/",
          "height": 206
        },
        "outputId": "6b3af42b-e6c0-4654-aab2-31cfd753328f"
      },
      "outputs": [
        {
          "output_type": "execute_result",
          "data": {
            "text/plain": [
              "    forecast_date               target target_end_date location   type  \\\n",
              "91     2020-08-17  1 wk ahead inc case      2020-08-22       42  point   \n",
              "250    2020-08-17  2 wk ahead inc case      2020-08-29       42  point   \n",
              "409    2020-08-17  3 wk ahead inc case      2020-09-05       42  point   \n",
              "568    2020-08-17  4 wk ahead inc case      2020-09-12       42  point   \n",
              "91     2020-08-23  1 wk ahead inc case      2020-08-29       42  point   \n",
              "\n",
              "     quantile     value  \n",
              "91        NaN  5148.824  \n",
              "250       NaN  4863.299  \n",
              "409       NaN  4544.705  \n",
              "568       NaN  4206.468  \n",
              "91        NaN  5202.729  "
            ],
            "text/html": [
              "\n",
              "  <div id=\"df-dafed49a-aee0-4185-ae04-7d1ead3805c5\">\n",
              "    <div class=\"colab-df-container\">\n",
              "      <div>\n",
              "<style scoped>\n",
              "    .dataframe tbody tr th:only-of-type {\n",
              "        vertical-align: middle;\n",
              "    }\n",
              "\n",
              "    .dataframe tbody tr th {\n",
              "        vertical-align: top;\n",
              "    }\n",
              "\n",
              "    .dataframe thead th {\n",
              "        text-align: right;\n",
              "    }\n",
              "</style>\n",
              "<table border=\"1\" class=\"dataframe\">\n",
              "  <thead>\n",
              "    <tr style=\"text-align: right;\">\n",
              "      <th></th>\n",
              "      <th>forecast_date</th>\n",
              "      <th>target</th>\n",
              "      <th>target_end_date</th>\n",
              "      <th>location</th>\n",
              "      <th>type</th>\n",
              "      <th>quantile</th>\n",
              "      <th>value</th>\n",
              "    </tr>\n",
              "  </thead>\n",
              "  <tbody>\n",
              "    <tr>\n",
              "      <th>91</th>\n",
              "      <td>2020-08-17</td>\n",
              "      <td>1 wk ahead inc case</td>\n",
              "      <td>2020-08-22</td>\n",
              "      <td>42</td>\n",
              "      <td>point</td>\n",
              "      <td>NaN</td>\n",
              "      <td>5148.824</td>\n",
              "    </tr>\n",
              "    <tr>\n",
              "      <th>250</th>\n",
              "      <td>2020-08-17</td>\n",
              "      <td>2 wk ahead inc case</td>\n",
              "      <td>2020-08-29</td>\n",
              "      <td>42</td>\n",
              "      <td>point</td>\n",
              "      <td>NaN</td>\n",
              "      <td>4863.299</td>\n",
              "    </tr>\n",
              "    <tr>\n",
              "      <th>409</th>\n",
              "      <td>2020-08-17</td>\n",
              "      <td>3 wk ahead inc case</td>\n",
              "      <td>2020-09-05</td>\n",
              "      <td>42</td>\n",
              "      <td>point</td>\n",
              "      <td>NaN</td>\n",
              "      <td>4544.705</td>\n",
              "    </tr>\n",
              "    <tr>\n",
              "      <th>568</th>\n",
              "      <td>2020-08-17</td>\n",
              "      <td>4 wk ahead inc case</td>\n",
              "      <td>2020-09-12</td>\n",
              "      <td>42</td>\n",
              "      <td>point</td>\n",
              "      <td>NaN</td>\n",
              "      <td>4206.468</td>\n",
              "    </tr>\n",
              "    <tr>\n",
              "      <th>91</th>\n",
              "      <td>2020-08-23</td>\n",
              "      <td>1 wk ahead inc case</td>\n",
              "      <td>2020-08-29</td>\n",
              "      <td>42</td>\n",
              "      <td>point</td>\n",
              "      <td>NaN</td>\n",
              "      <td>5202.729</td>\n",
              "    </tr>\n",
              "  </tbody>\n",
              "</table>\n",
              "</div>\n",
              "      <button class=\"colab-df-convert\" onclick=\"convertToInteractive('df-dafed49a-aee0-4185-ae04-7d1ead3805c5')\"\n",
              "              title=\"Convert this dataframe to an interactive table.\"\n",
              "              style=\"display:none;\">\n",
              "        \n",
              "  <svg xmlns=\"http://www.w3.org/2000/svg\" height=\"24px\"viewBox=\"0 0 24 24\"\n",
              "       width=\"24px\">\n",
              "    <path d=\"M0 0h24v24H0V0z\" fill=\"none\"/>\n",
              "    <path d=\"M18.56 5.44l.94 2.06.94-2.06 2.06-.94-2.06-.94-.94-2.06-.94 2.06-2.06.94zm-11 1L8.5 8.5l.94-2.06 2.06-.94-2.06-.94L8.5 2.5l-.94 2.06-2.06.94zm10 10l.94 2.06.94-2.06 2.06-.94-2.06-.94-.94-2.06-.94 2.06-2.06.94z\"/><path d=\"M17.41 7.96l-1.37-1.37c-.4-.4-.92-.59-1.43-.59-.52 0-1.04.2-1.43.59L10.3 9.45l-7.72 7.72c-.78.78-.78 2.05 0 2.83L4 21.41c.39.39.9.59 1.41.59.51 0 1.02-.2 1.41-.59l7.78-7.78 2.81-2.81c.8-.78.8-2.07 0-2.86zM5.41 20L4 18.59l7.72-7.72 1.47 1.35L5.41 20z\"/>\n",
              "  </svg>\n",
              "      </button>\n",
              "      \n",
              "  <style>\n",
              "    .colab-df-container {\n",
              "      display:flex;\n",
              "      flex-wrap:wrap;\n",
              "      gap: 12px;\n",
              "    }\n",
              "\n",
              "    .colab-df-convert {\n",
              "      background-color: #E8F0FE;\n",
              "      border: none;\n",
              "      border-radius: 50%;\n",
              "      cursor: pointer;\n",
              "      display: none;\n",
              "      fill: #1967D2;\n",
              "      height: 32px;\n",
              "      padding: 0 0 0 0;\n",
              "      width: 32px;\n",
              "    }\n",
              "\n",
              "    .colab-df-convert:hover {\n",
              "      background-color: #E2EBFA;\n",
              "      box-shadow: 0px 1px 2px rgba(60, 64, 67, 0.3), 0px 1px 3px 1px rgba(60, 64, 67, 0.15);\n",
              "      fill: #174EA6;\n",
              "    }\n",
              "\n",
              "    [theme=dark] .colab-df-convert {\n",
              "      background-color: #3B4455;\n",
              "      fill: #D2E3FC;\n",
              "    }\n",
              "\n",
              "    [theme=dark] .colab-df-convert:hover {\n",
              "      background-color: #434B5C;\n",
              "      box-shadow: 0px 1px 3px 1px rgba(0, 0, 0, 0.15);\n",
              "      filter: drop-shadow(0px 1px 2px rgba(0, 0, 0, 0.3));\n",
              "      fill: #FFFFFF;\n",
              "    }\n",
              "  </style>\n",
              "\n",
              "      <script>\n",
              "        const buttonEl =\n",
              "          document.querySelector('#df-dafed49a-aee0-4185-ae04-7d1ead3805c5 button.colab-df-convert');\n",
              "        buttonEl.style.display =\n",
              "          google.colab.kernel.accessAllowed ? 'block' : 'none';\n",
              "\n",
              "        async function convertToInteractive(key) {\n",
              "          const element = document.querySelector('#df-dafed49a-aee0-4185-ae04-7d1ead3805c5');\n",
              "          const dataTable =\n",
              "            await google.colab.kernel.invokeFunction('convertToInteractive',\n",
              "                                                     [key], {});\n",
              "          if (!dataTable) return;\n",
              "\n",
              "          const docLinkHtml = 'Like what you see? Visit the ' +\n",
              "            '<a target=\"_blank\" href=https://colab.research.google.com/notebooks/data_table.ipynb>data table notebook</a>'\n",
              "            + ' to learn more about interactive tables.';\n",
              "          element.innerHTML = '';\n",
              "          dataTable['output_type'] = 'display_data';\n",
              "          await google.colab.output.renderOutput(dataTable, element);\n",
              "          const docLink = document.createElement('div');\n",
              "          docLink.innerHTML = docLinkHtml;\n",
              "          element.appendChild(docLink);\n",
              "        }\n",
              "      </script>\n",
              "    </div>\n",
              "  </div>\n",
              "  "
            ]
          },
          "metadata": {},
          "execution_count": 6
        }
      ],
      "source": [
        "df2 = pd.concat(all_data)\n",
        "df2.head(5)"
      ]
    },
    {
      "cell_type": "code",
      "execution_count": 7,
      "id": "eae19ec4",
      "metadata": {
        "id": "eae19ec4"
      },
      "outputs": [],
      "source": [
        "#convert date to datetime object\n",
        "df1['Date'] = pd.to_datetime(df1['Date'])\n",
        "df2['forecast_date'] = pd.to_datetime(df2['forecast_date'])\n",
        "df2['target_end_date'] = pd.to_datetime(df2['target_end_date'])"
      ]
    },
    {
      "cell_type": "code",
      "execution_count": 8,
      "id": "8171aacd",
      "metadata": {
        "id": "8171aacd",
        "colab": {
          "base_uri": "https://localhost:8080/",
          "height": 424
        },
        "outputId": "a0e1ad06-2d26-437f-c446-420da9518b70"
      },
      "outputs": [
        {
          "output_type": "execute_result",
          "data": {
            "text/plain": [
              "    forecast_date               target target_end_date location   type  \\\n",
              "91     2020-08-17  1 wk ahead inc case      2020-08-22       42  point   \n",
              "250    2020-08-17  2 wk ahead inc case      2020-08-29       42  point   \n",
              "91     2020-08-23  1 wk ahead inc case      2020-08-29       42  point   \n",
              "409    2020-08-17  3 wk ahead inc case      2020-09-05       42  point   \n",
              "250    2020-08-23  2 wk ahead inc case      2020-09-05       42  point   \n",
              "..            ...                  ...             ...      ...    ...   \n",
              "250    2022-03-13  2 wk ahead inc case      2022-03-26       42  point   \n",
              "568    2022-02-27  4 wk ahead inc case      2022-03-26       42  point   \n",
              "568    2022-03-06  4 wk ahead inc case      2022-04-02       42  point   \n",
              "409    2022-03-13  3 wk ahead inc case      2022-04-02       42  point   \n",
              "568    2022-03-13  4 wk ahead inc case      2022-04-09       42  point   \n",
              "\n",
              "     quantile      value  \n",
              "91        NaN   5148.824  \n",
              "250       NaN   4863.299  \n",
              "91        NaN   5202.729  \n",
              "409       NaN   4544.705  \n",
              "250       NaN   4858.131  \n",
              "..        ...        ...  \n",
              "250       NaN  10716.857  \n",
              "568       NaN  18208.668  \n",
              "568       NaN  12051.876  \n",
              "409       NaN   7844.311  \n",
              "568       NaN   5743.254  \n",
              "\n",
              "[319 rows x 7 columns]"
            ],
            "text/html": [
              "\n",
              "  <div id=\"df-77a1bda0-23f9-4ac1-becb-46e3cdb7eb6a\">\n",
              "    <div class=\"colab-df-container\">\n",
              "      <div>\n",
              "<style scoped>\n",
              "    .dataframe tbody tr th:only-of-type {\n",
              "        vertical-align: middle;\n",
              "    }\n",
              "\n",
              "    .dataframe tbody tr th {\n",
              "        vertical-align: top;\n",
              "    }\n",
              "\n",
              "    .dataframe thead th {\n",
              "        text-align: right;\n",
              "    }\n",
              "</style>\n",
              "<table border=\"1\" class=\"dataframe\">\n",
              "  <thead>\n",
              "    <tr style=\"text-align: right;\">\n",
              "      <th></th>\n",
              "      <th>forecast_date</th>\n",
              "      <th>target</th>\n",
              "      <th>target_end_date</th>\n",
              "      <th>location</th>\n",
              "      <th>type</th>\n",
              "      <th>quantile</th>\n",
              "      <th>value</th>\n",
              "    </tr>\n",
              "  </thead>\n",
              "  <tbody>\n",
              "    <tr>\n",
              "      <th>91</th>\n",
              "      <td>2020-08-17</td>\n",
              "      <td>1 wk ahead inc case</td>\n",
              "      <td>2020-08-22</td>\n",
              "      <td>42</td>\n",
              "      <td>point</td>\n",
              "      <td>NaN</td>\n",
              "      <td>5148.824</td>\n",
              "    </tr>\n",
              "    <tr>\n",
              "      <th>250</th>\n",
              "      <td>2020-08-17</td>\n",
              "      <td>2 wk ahead inc case</td>\n",
              "      <td>2020-08-29</td>\n",
              "      <td>42</td>\n",
              "      <td>point</td>\n",
              "      <td>NaN</td>\n",
              "      <td>4863.299</td>\n",
              "    </tr>\n",
              "    <tr>\n",
              "      <th>91</th>\n",
              "      <td>2020-08-23</td>\n",
              "      <td>1 wk ahead inc case</td>\n",
              "      <td>2020-08-29</td>\n",
              "      <td>42</td>\n",
              "      <td>point</td>\n",
              "      <td>NaN</td>\n",
              "      <td>5202.729</td>\n",
              "    </tr>\n",
              "    <tr>\n",
              "      <th>409</th>\n",
              "      <td>2020-08-17</td>\n",
              "      <td>3 wk ahead inc case</td>\n",
              "      <td>2020-09-05</td>\n",
              "      <td>42</td>\n",
              "      <td>point</td>\n",
              "      <td>NaN</td>\n",
              "      <td>4544.705</td>\n",
              "    </tr>\n",
              "    <tr>\n",
              "      <th>250</th>\n",
              "      <td>2020-08-23</td>\n",
              "      <td>2 wk ahead inc case</td>\n",
              "      <td>2020-09-05</td>\n",
              "      <td>42</td>\n",
              "      <td>point</td>\n",
              "      <td>NaN</td>\n",
              "      <td>4858.131</td>\n",
              "    </tr>\n",
              "    <tr>\n",
              "      <th>...</th>\n",
              "      <td>...</td>\n",
              "      <td>...</td>\n",
              "      <td>...</td>\n",
              "      <td>...</td>\n",
              "      <td>...</td>\n",
              "      <td>...</td>\n",
              "      <td>...</td>\n",
              "    </tr>\n",
              "    <tr>\n",
              "      <th>250</th>\n",
              "      <td>2022-03-13</td>\n",
              "      <td>2 wk ahead inc case</td>\n",
              "      <td>2022-03-26</td>\n",
              "      <td>42</td>\n",
              "      <td>point</td>\n",
              "      <td>NaN</td>\n",
              "      <td>10716.857</td>\n",
              "    </tr>\n",
              "    <tr>\n",
              "      <th>568</th>\n",
              "      <td>2022-02-27</td>\n",
              "      <td>4 wk ahead inc case</td>\n",
              "      <td>2022-03-26</td>\n",
              "      <td>42</td>\n",
              "      <td>point</td>\n",
              "      <td>NaN</td>\n",
              "      <td>18208.668</td>\n",
              "    </tr>\n",
              "    <tr>\n",
              "      <th>568</th>\n",
              "      <td>2022-03-06</td>\n",
              "      <td>4 wk ahead inc case</td>\n",
              "      <td>2022-04-02</td>\n",
              "      <td>42</td>\n",
              "      <td>point</td>\n",
              "      <td>NaN</td>\n",
              "      <td>12051.876</td>\n",
              "    </tr>\n",
              "    <tr>\n",
              "      <th>409</th>\n",
              "      <td>2022-03-13</td>\n",
              "      <td>3 wk ahead inc case</td>\n",
              "      <td>2022-04-02</td>\n",
              "      <td>42</td>\n",
              "      <td>point</td>\n",
              "      <td>NaN</td>\n",
              "      <td>7844.311</td>\n",
              "    </tr>\n",
              "    <tr>\n",
              "      <th>568</th>\n",
              "      <td>2022-03-13</td>\n",
              "      <td>4 wk ahead inc case</td>\n",
              "      <td>2022-04-09</td>\n",
              "      <td>42</td>\n",
              "      <td>point</td>\n",
              "      <td>NaN</td>\n",
              "      <td>5743.254</td>\n",
              "    </tr>\n",
              "  </tbody>\n",
              "</table>\n",
              "<p>319 rows × 7 columns</p>\n",
              "</div>\n",
              "      <button class=\"colab-df-convert\" onclick=\"convertToInteractive('df-77a1bda0-23f9-4ac1-becb-46e3cdb7eb6a')\"\n",
              "              title=\"Convert this dataframe to an interactive table.\"\n",
              "              style=\"display:none;\">\n",
              "        \n",
              "  <svg xmlns=\"http://www.w3.org/2000/svg\" height=\"24px\"viewBox=\"0 0 24 24\"\n",
              "       width=\"24px\">\n",
              "    <path d=\"M0 0h24v24H0V0z\" fill=\"none\"/>\n",
              "    <path d=\"M18.56 5.44l.94 2.06.94-2.06 2.06-.94-2.06-.94-.94-2.06-.94 2.06-2.06.94zm-11 1L8.5 8.5l.94-2.06 2.06-.94-2.06-.94L8.5 2.5l-.94 2.06-2.06.94zm10 10l.94 2.06.94-2.06 2.06-.94-2.06-.94-.94-2.06-.94 2.06-2.06.94z\"/><path d=\"M17.41 7.96l-1.37-1.37c-.4-.4-.92-.59-1.43-.59-.52 0-1.04.2-1.43.59L10.3 9.45l-7.72 7.72c-.78.78-.78 2.05 0 2.83L4 21.41c.39.39.9.59 1.41.59.51 0 1.02-.2 1.41-.59l7.78-7.78 2.81-2.81c.8-.78.8-2.07 0-2.86zM5.41 20L4 18.59l7.72-7.72 1.47 1.35L5.41 20z\"/>\n",
              "  </svg>\n",
              "      </button>\n",
              "      \n",
              "  <style>\n",
              "    .colab-df-container {\n",
              "      display:flex;\n",
              "      flex-wrap:wrap;\n",
              "      gap: 12px;\n",
              "    }\n",
              "\n",
              "    .colab-df-convert {\n",
              "      background-color: #E8F0FE;\n",
              "      border: none;\n",
              "      border-radius: 50%;\n",
              "      cursor: pointer;\n",
              "      display: none;\n",
              "      fill: #1967D2;\n",
              "      height: 32px;\n",
              "      padding: 0 0 0 0;\n",
              "      width: 32px;\n",
              "    }\n",
              "\n",
              "    .colab-df-convert:hover {\n",
              "      background-color: #E2EBFA;\n",
              "      box-shadow: 0px 1px 2px rgba(60, 64, 67, 0.3), 0px 1px 3px 1px rgba(60, 64, 67, 0.15);\n",
              "      fill: #174EA6;\n",
              "    }\n",
              "\n",
              "    [theme=dark] .colab-df-convert {\n",
              "      background-color: #3B4455;\n",
              "      fill: #D2E3FC;\n",
              "    }\n",
              "\n",
              "    [theme=dark] .colab-df-convert:hover {\n",
              "      background-color: #434B5C;\n",
              "      box-shadow: 0px 1px 3px 1px rgba(0, 0, 0, 0.15);\n",
              "      filter: drop-shadow(0px 1px 2px rgba(0, 0, 0, 0.3));\n",
              "      fill: #FFFFFF;\n",
              "    }\n",
              "  </style>\n",
              "\n",
              "      <script>\n",
              "        const buttonEl =\n",
              "          document.querySelector('#df-77a1bda0-23f9-4ac1-becb-46e3cdb7eb6a button.colab-df-convert');\n",
              "        buttonEl.style.display =\n",
              "          google.colab.kernel.accessAllowed ? 'block' : 'none';\n",
              "\n",
              "        async function convertToInteractive(key) {\n",
              "          const element = document.querySelector('#df-77a1bda0-23f9-4ac1-becb-46e3cdb7eb6a');\n",
              "          const dataTable =\n",
              "            await google.colab.kernel.invokeFunction('convertToInteractive',\n",
              "                                                     [key], {});\n",
              "          if (!dataTable) return;\n",
              "\n",
              "          const docLinkHtml = 'Like what you see? Visit the ' +\n",
              "            '<a target=\"_blank\" href=https://colab.research.google.com/notebooks/data_table.ipynb>data table notebook</a>'\n",
              "            + ' to learn more about interactive tables.';\n",
              "          element.innerHTML = '';\n",
              "          dataTable['output_type'] = 'display_data';\n",
              "          await google.colab.output.renderOutput(dataTable, element);\n",
              "          const docLink = document.createElement('div');\n",
              "          docLink.innerHTML = docLinkHtml;\n",
              "          element.appendChild(docLink);\n",
              "        }\n",
              "      </script>\n",
              "    </div>\n",
              "  </div>\n",
              "  "
            ]
          },
          "metadata": {},
          "execution_count": 8
        }
      ],
      "source": [
        "#sort datasets by date\n",
        "df1.sort_values(by='Date')\n",
        "df2.sort_values(by='target_end_date')"
      ]
    },
    {
      "cell_type": "code",
      "execution_count": 9,
      "id": "62636568",
      "metadata": {
        "id": "62636568",
        "outputId": "4912a4a2-289a-4b22-f72a-0f5dcd4ec0f6",
        "colab": {
          "base_uri": "https://localhost:8080/"
        }
      },
      "outputs": [
        {
          "output_type": "execute_result",
          "data": {
            "text/plain": [
              "(80, 7)"
            ]
          },
          "metadata": {},
          "execution_count": 9
        }
      ],
      "source": [
        "#filterinng out data for PA (FIPS code = 42)\n",
        "df2_2 = df2[df2['target'].str.contains('1')]\n",
        "df2_2.shape"
      ]
    },
    {
      "cell_type": "code",
      "execution_count": 10,
      "id": "e4c01c47",
      "metadata": {
        "id": "e4c01c47"
      },
      "outputs": [],
      "source": [
        "#finding weekly increase in cases in PA\n",
        "df_weekly=df2_2.groupby('target_end_date').agg('last').reset_index()\n",
        "df_weekly.rename(\n",
        "    columns={\"target_end_date\":\"Date\"},inplace=True)\n",
        "#df_weekly"
      ]
    },
    {
      "cell_type": "code",
      "execution_count": 11,
      "id": "c6e2730d",
      "metadata": {
        "id": "c6e2730d",
        "colab": {
          "base_uri": "https://localhost:8080/",
          "height": 206
        },
        "outputId": "5a27a542-e279-4ef0-a74c-775cfecf5937"
      },
      "outputs": [
        {
          "output_type": "execute_result",
          "data": {
            "text/plain": [
              "        Date forecast_date               target location   type  quantile  \\\n",
              "0 2020-08-22    2020-08-17  1 wk ahead inc case       42  point       NaN   \n",
              "1 2020-08-29    2020-08-23  1 wk ahead inc case       42  point       NaN   \n",
              "2 2020-09-19    2020-09-13  1 wk ahead inc case       42  point       NaN   \n",
              "3 2020-10-03    2020-09-27  1 wk ahead inc case       42  point       NaN   \n",
              "4 2020-10-10    2020-10-04  1 wk ahead inc case       42  point       NaN   \n",
              "\n",
              "       value      dayRate  \n",
              "0   5148.824   735.546286  \n",
              "1   5202.729   743.247000  \n",
              "2  12147.381  1735.340143  \n",
              "3  14134.019  2019.145571  \n",
              "4   6614.980   944.997143  "
            ],
            "text/html": [
              "\n",
              "  <div id=\"df-08aed20a-86f6-496f-aa06-4ec2277dfe25\">\n",
              "    <div class=\"colab-df-container\">\n",
              "      <div>\n",
              "<style scoped>\n",
              "    .dataframe tbody tr th:only-of-type {\n",
              "        vertical-align: middle;\n",
              "    }\n",
              "\n",
              "    .dataframe tbody tr th {\n",
              "        vertical-align: top;\n",
              "    }\n",
              "\n",
              "    .dataframe thead th {\n",
              "        text-align: right;\n",
              "    }\n",
              "</style>\n",
              "<table border=\"1\" class=\"dataframe\">\n",
              "  <thead>\n",
              "    <tr style=\"text-align: right;\">\n",
              "      <th></th>\n",
              "      <th>Date</th>\n",
              "      <th>forecast_date</th>\n",
              "      <th>target</th>\n",
              "      <th>location</th>\n",
              "      <th>type</th>\n",
              "      <th>quantile</th>\n",
              "      <th>value</th>\n",
              "      <th>dayRate</th>\n",
              "    </tr>\n",
              "  </thead>\n",
              "  <tbody>\n",
              "    <tr>\n",
              "      <th>0</th>\n",
              "      <td>2020-08-22</td>\n",
              "      <td>2020-08-17</td>\n",
              "      <td>1 wk ahead inc case</td>\n",
              "      <td>42</td>\n",
              "      <td>point</td>\n",
              "      <td>NaN</td>\n",
              "      <td>5148.824</td>\n",
              "      <td>735.546286</td>\n",
              "    </tr>\n",
              "    <tr>\n",
              "      <th>1</th>\n",
              "      <td>2020-08-29</td>\n",
              "      <td>2020-08-23</td>\n",
              "      <td>1 wk ahead inc case</td>\n",
              "      <td>42</td>\n",
              "      <td>point</td>\n",
              "      <td>NaN</td>\n",
              "      <td>5202.729</td>\n",
              "      <td>743.247000</td>\n",
              "    </tr>\n",
              "    <tr>\n",
              "      <th>2</th>\n",
              "      <td>2020-09-19</td>\n",
              "      <td>2020-09-13</td>\n",
              "      <td>1 wk ahead inc case</td>\n",
              "      <td>42</td>\n",
              "      <td>point</td>\n",
              "      <td>NaN</td>\n",
              "      <td>12147.381</td>\n",
              "      <td>1735.340143</td>\n",
              "    </tr>\n",
              "    <tr>\n",
              "      <th>3</th>\n",
              "      <td>2020-10-03</td>\n",
              "      <td>2020-09-27</td>\n",
              "      <td>1 wk ahead inc case</td>\n",
              "      <td>42</td>\n",
              "      <td>point</td>\n",
              "      <td>NaN</td>\n",
              "      <td>14134.019</td>\n",
              "      <td>2019.145571</td>\n",
              "    </tr>\n",
              "    <tr>\n",
              "      <th>4</th>\n",
              "      <td>2020-10-10</td>\n",
              "      <td>2020-10-04</td>\n",
              "      <td>1 wk ahead inc case</td>\n",
              "      <td>42</td>\n",
              "      <td>point</td>\n",
              "      <td>NaN</td>\n",
              "      <td>6614.980</td>\n",
              "      <td>944.997143</td>\n",
              "    </tr>\n",
              "  </tbody>\n",
              "</table>\n",
              "</div>\n",
              "      <button class=\"colab-df-convert\" onclick=\"convertToInteractive('df-08aed20a-86f6-496f-aa06-4ec2277dfe25')\"\n",
              "              title=\"Convert this dataframe to an interactive table.\"\n",
              "              style=\"display:none;\">\n",
              "        \n",
              "  <svg xmlns=\"http://www.w3.org/2000/svg\" height=\"24px\"viewBox=\"0 0 24 24\"\n",
              "       width=\"24px\">\n",
              "    <path d=\"M0 0h24v24H0V0z\" fill=\"none\"/>\n",
              "    <path d=\"M18.56 5.44l.94 2.06.94-2.06 2.06-.94-2.06-.94-.94-2.06-.94 2.06-2.06.94zm-11 1L8.5 8.5l.94-2.06 2.06-.94-2.06-.94L8.5 2.5l-.94 2.06-2.06.94zm10 10l.94 2.06.94-2.06 2.06-.94-2.06-.94-.94-2.06-.94 2.06-2.06.94z\"/><path d=\"M17.41 7.96l-1.37-1.37c-.4-.4-.92-.59-1.43-.59-.52 0-1.04.2-1.43.59L10.3 9.45l-7.72 7.72c-.78.78-.78 2.05 0 2.83L4 21.41c.39.39.9.59 1.41.59.51 0 1.02-.2 1.41-.59l7.78-7.78 2.81-2.81c.8-.78.8-2.07 0-2.86zM5.41 20L4 18.59l7.72-7.72 1.47 1.35L5.41 20z\"/>\n",
              "  </svg>\n",
              "      </button>\n",
              "      \n",
              "  <style>\n",
              "    .colab-df-container {\n",
              "      display:flex;\n",
              "      flex-wrap:wrap;\n",
              "      gap: 12px;\n",
              "    }\n",
              "\n",
              "    .colab-df-convert {\n",
              "      background-color: #E8F0FE;\n",
              "      border: none;\n",
              "      border-radius: 50%;\n",
              "      cursor: pointer;\n",
              "      display: none;\n",
              "      fill: #1967D2;\n",
              "      height: 32px;\n",
              "      padding: 0 0 0 0;\n",
              "      width: 32px;\n",
              "    }\n",
              "\n",
              "    .colab-df-convert:hover {\n",
              "      background-color: #E2EBFA;\n",
              "      box-shadow: 0px 1px 2px rgba(60, 64, 67, 0.3), 0px 1px 3px 1px rgba(60, 64, 67, 0.15);\n",
              "      fill: #174EA6;\n",
              "    }\n",
              "\n",
              "    [theme=dark] .colab-df-convert {\n",
              "      background-color: #3B4455;\n",
              "      fill: #D2E3FC;\n",
              "    }\n",
              "\n",
              "    [theme=dark] .colab-df-convert:hover {\n",
              "      background-color: #434B5C;\n",
              "      box-shadow: 0px 1px 3px 1px rgba(0, 0, 0, 0.15);\n",
              "      filter: drop-shadow(0px 1px 2px rgba(0, 0, 0, 0.3));\n",
              "      fill: #FFFFFF;\n",
              "    }\n",
              "  </style>\n",
              "\n",
              "      <script>\n",
              "        const buttonEl =\n",
              "          document.querySelector('#df-08aed20a-86f6-496f-aa06-4ec2277dfe25 button.colab-df-convert');\n",
              "        buttonEl.style.display =\n",
              "          google.colab.kernel.accessAllowed ? 'block' : 'none';\n",
              "\n",
              "        async function convertToInteractive(key) {\n",
              "          const element = document.querySelector('#df-08aed20a-86f6-496f-aa06-4ec2277dfe25');\n",
              "          const dataTable =\n",
              "            await google.colab.kernel.invokeFunction('convertToInteractive',\n",
              "                                                     [key], {});\n",
              "          if (!dataTable) return;\n",
              "\n",
              "          const docLinkHtml = 'Like what you see? Visit the ' +\n",
              "            '<a target=\"_blank\" href=https://colab.research.google.com/notebooks/data_table.ipynb>data table notebook</a>'\n",
              "            + ' to learn more about interactive tables.';\n",
              "          element.innerHTML = '';\n",
              "          dataTable['output_type'] = 'display_data';\n",
              "          await google.colab.output.renderOutput(dataTable, element);\n",
              "          const docLink = document.createElement('div');\n",
              "          docLink.innerHTML = docLinkHtml;\n",
              "          element.appendChild(docLink);\n",
              "        }\n",
              "      </script>\n",
              "    </div>\n",
              "  </div>\n",
              "  "
            ]
          },
          "metadata": {},
          "execution_count": 11
        }
      ],
      "source": [
        "#creating a column for daily additions\n",
        "df_weekly[\"dayRate\"] = df_weekly[\"value\"] / 7\n",
        "mask = (df_weekly['Date'] <= '2022-03-02')\n",
        "df_weekly = df_weekly.loc[mask]\n",
        "df_weekly.head(5)"
      ]
    },
    {
      "cell_type": "code",
      "source": [
        "df_weekly.tail(5)"
      ],
      "metadata": {
        "colab": {
          "base_uri": "https://localhost:8080/",
          "height": 206
        },
        "id": "P7u8AGHodIVG",
        "outputId": "9eecb957-e44d-4a7c-c744-2d783833089d"
      },
      "id": "P7u8AGHodIVG",
      "execution_count": 12,
      "outputs": [
        {
          "output_type": "execute_result",
          "data": {
            "text/plain": [
              "         Date forecast_date               target location   type  quantile  \\\n",
              "72 2022-01-29    2022-01-23  1 wk ahead inc case       42  point       NaN   \n",
              "73 2022-02-05    2022-01-30  1 wk ahead inc case       42  point       NaN   \n",
              "74 2022-02-12    2022-02-06  1 wk ahead inc case       42  point       NaN   \n",
              "75 2022-02-19    2022-02-13  1 wk ahead inc case       42  point       NaN   \n",
              "76 2022-02-26    2022-02-20  1 wk ahead inc case       42  point       NaN   \n",
              "\n",
              "         value       dayRate  \n",
              "72   19132.687   2733.241000  \n",
              "73   29183.890   4169.127143  \n",
              "74  128344.117  18334.873857  \n",
              "75   75902.689  10843.241286  \n",
              "76   59548.651   8506.950143  "
            ],
            "text/html": [
              "\n",
              "  <div id=\"df-f68313c4-00f6-4e58-bbb4-44b152fab5be\">\n",
              "    <div class=\"colab-df-container\">\n",
              "      <div>\n",
              "<style scoped>\n",
              "    .dataframe tbody tr th:only-of-type {\n",
              "        vertical-align: middle;\n",
              "    }\n",
              "\n",
              "    .dataframe tbody tr th {\n",
              "        vertical-align: top;\n",
              "    }\n",
              "\n",
              "    .dataframe thead th {\n",
              "        text-align: right;\n",
              "    }\n",
              "</style>\n",
              "<table border=\"1\" class=\"dataframe\">\n",
              "  <thead>\n",
              "    <tr style=\"text-align: right;\">\n",
              "      <th></th>\n",
              "      <th>Date</th>\n",
              "      <th>forecast_date</th>\n",
              "      <th>target</th>\n",
              "      <th>location</th>\n",
              "      <th>type</th>\n",
              "      <th>quantile</th>\n",
              "      <th>value</th>\n",
              "      <th>dayRate</th>\n",
              "    </tr>\n",
              "  </thead>\n",
              "  <tbody>\n",
              "    <tr>\n",
              "      <th>72</th>\n",
              "      <td>2022-01-29</td>\n",
              "      <td>2022-01-23</td>\n",
              "      <td>1 wk ahead inc case</td>\n",
              "      <td>42</td>\n",
              "      <td>point</td>\n",
              "      <td>NaN</td>\n",
              "      <td>19132.687</td>\n",
              "      <td>2733.241000</td>\n",
              "    </tr>\n",
              "    <tr>\n",
              "      <th>73</th>\n",
              "      <td>2022-02-05</td>\n",
              "      <td>2022-01-30</td>\n",
              "      <td>1 wk ahead inc case</td>\n",
              "      <td>42</td>\n",
              "      <td>point</td>\n",
              "      <td>NaN</td>\n",
              "      <td>29183.890</td>\n",
              "      <td>4169.127143</td>\n",
              "    </tr>\n",
              "    <tr>\n",
              "      <th>74</th>\n",
              "      <td>2022-02-12</td>\n",
              "      <td>2022-02-06</td>\n",
              "      <td>1 wk ahead inc case</td>\n",
              "      <td>42</td>\n",
              "      <td>point</td>\n",
              "      <td>NaN</td>\n",
              "      <td>128344.117</td>\n",
              "      <td>18334.873857</td>\n",
              "    </tr>\n",
              "    <tr>\n",
              "      <th>75</th>\n",
              "      <td>2022-02-19</td>\n",
              "      <td>2022-02-13</td>\n",
              "      <td>1 wk ahead inc case</td>\n",
              "      <td>42</td>\n",
              "      <td>point</td>\n",
              "      <td>NaN</td>\n",
              "      <td>75902.689</td>\n",
              "      <td>10843.241286</td>\n",
              "    </tr>\n",
              "    <tr>\n",
              "      <th>76</th>\n",
              "      <td>2022-02-26</td>\n",
              "      <td>2022-02-20</td>\n",
              "      <td>1 wk ahead inc case</td>\n",
              "      <td>42</td>\n",
              "      <td>point</td>\n",
              "      <td>NaN</td>\n",
              "      <td>59548.651</td>\n",
              "      <td>8506.950143</td>\n",
              "    </tr>\n",
              "  </tbody>\n",
              "</table>\n",
              "</div>\n",
              "      <button class=\"colab-df-convert\" onclick=\"convertToInteractive('df-f68313c4-00f6-4e58-bbb4-44b152fab5be')\"\n",
              "              title=\"Convert this dataframe to an interactive table.\"\n",
              "              style=\"display:none;\">\n",
              "        \n",
              "  <svg xmlns=\"http://www.w3.org/2000/svg\" height=\"24px\"viewBox=\"0 0 24 24\"\n",
              "       width=\"24px\">\n",
              "    <path d=\"M0 0h24v24H0V0z\" fill=\"none\"/>\n",
              "    <path d=\"M18.56 5.44l.94 2.06.94-2.06 2.06-.94-2.06-.94-.94-2.06-.94 2.06-2.06.94zm-11 1L8.5 8.5l.94-2.06 2.06-.94-2.06-.94L8.5 2.5l-.94 2.06-2.06.94zm10 10l.94 2.06.94-2.06 2.06-.94-2.06-.94-.94-2.06-.94 2.06-2.06.94z\"/><path d=\"M17.41 7.96l-1.37-1.37c-.4-.4-.92-.59-1.43-.59-.52 0-1.04.2-1.43.59L10.3 9.45l-7.72 7.72c-.78.78-.78 2.05 0 2.83L4 21.41c.39.39.9.59 1.41.59.51 0 1.02-.2 1.41-.59l7.78-7.78 2.81-2.81c.8-.78.8-2.07 0-2.86zM5.41 20L4 18.59l7.72-7.72 1.47 1.35L5.41 20z\"/>\n",
              "  </svg>\n",
              "      </button>\n",
              "      \n",
              "  <style>\n",
              "    .colab-df-container {\n",
              "      display:flex;\n",
              "      flex-wrap:wrap;\n",
              "      gap: 12px;\n",
              "    }\n",
              "\n",
              "    .colab-df-convert {\n",
              "      background-color: #E8F0FE;\n",
              "      border: none;\n",
              "      border-radius: 50%;\n",
              "      cursor: pointer;\n",
              "      display: none;\n",
              "      fill: #1967D2;\n",
              "      height: 32px;\n",
              "      padding: 0 0 0 0;\n",
              "      width: 32px;\n",
              "    }\n",
              "\n",
              "    .colab-df-convert:hover {\n",
              "      background-color: #E2EBFA;\n",
              "      box-shadow: 0px 1px 2px rgba(60, 64, 67, 0.3), 0px 1px 3px 1px rgba(60, 64, 67, 0.15);\n",
              "      fill: #174EA6;\n",
              "    }\n",
              "\n",
              "    [theme=dark] .colab-df-convert {\n",
              "      background-color: #3B4455;\n",
              "      fill: #D2E3FC;\n",
              "    }\n",
              "\n",
              "    [theme=dark] .colab-df-convert:hover {\n",
              "      background-color: #434B5C;\n",
              "      box-shadow: 0px 1px 3px 1px rgba(0, 0, 0, 0.15);\n",
              "      filter: drop-shadow(0px 1px 2px rgba(0, 0, 0, 0.3));\n",
              "      fill: #FFFFFF;\n",
              "    }\n",
              "  </style>\n",
              "\n",
              "      <script>\n",
              "        const buttonEl =\n",
              "          document.querySelector('#df-f68313c4-00f6-4e58-bbb4-44b152fab5be button.colab-df-convert');\n",
              "        buttonEl.style.display =\n",
              "          google.colab.kernel.accessAllowed ? 'block' : 'none';\n",
              "\n",
              "        async function convertToInteractive(key) {\n",
              "          const element = document.querySelector('#df-f68313c4-00f6-4e58-bbb4-44b152fab5be');\n",
              "          const dataTable =\n",
              "            await google.colab.kernel.invokeFunction('convertToInteractive',\n",
              "                                                     [key], {});\n",
              "          if (!dataTable) return;\n",
              "\n",
              "          const docLinkHtml = 'Like what you see? Visit the ' +\n",
              "            '<a target=\"_blank\" href=https://colab.research.google.com/notebooks/data_table.ipynb>data table notebook</a>'\n",
              "            + ' to learn more about interactive tables.';\n",
              "          element.innerHTML = '';\n",
              "          dataTable['output_type'] = 'display_data';\n",
              "          await google.colab.output.renderOutput(dataTable, element);\n",
              "          const docLink = document.createElement('div');\n",
              "          docLink.innerHTML = docLinkHtml;\n",
              "          element.appendChild(docLink);\n",
              "        }\n",
              "      </script>\n",
              "    </div>\n",
              "  </div>\n",
              "  "
            ]
          },
          "metadata": {},
          "execution_count": 12
        }
      ]
    },
    {
      "cell_type": "code",
      "source": [
        "# creating a list of predictions from the model data\n",
        "predictions = []\n",
        "for i in df_weekly[\"dayRate\"]:\n",
        "    predictions.extend(repeat(i,7))\n",
        "#del predictions[-2:]\n",
        "#preds = pd.DataFrame(predictions)\n",
        "#preds.drop(preds.tail(2).index,inplace=True) \n",
        "print(predictions)"
      ],
      "metadata": {
        "colab": {
          "base_uri": "https://localhost:8080/"
        },
        "id": "7M7bH5ao6y_t",
        "outputId": "db9b5f89-9a19-49c8-c05c-f0ae2b807989"
      },
      "id": "7M7bH5ao6y_t",
      "execution_count": 17,
      "outputs": [
        {
          "output_type": "stream",
          "name": "stdout",
          "text": [
            "[735.5462857142857, 735.5462857142857, 735.5462857142857, 735.5462857142857, 735.5462857142857, 735.5462857142857, 735.5462857142857, 743.2470000000001, 743.2470000000001, 743.2470000000001, 743.2470000000001, 743.2470000000001, 743.2470000000001, 743.2470000000001, 1735.3401428571428, 1735.3401428571428, 1735.3401428571428, 1735.3401428571428, 1735.3401428571428, 1735.3401428571428, 1735.3401428571428, 2019.1455714285714, 2019.1455714285714, 2019.1455714285714, 2019.1455714285714, 2019.1455714285714, 2019.1455714285714, 2019.1455714285714, 944.9971428571428, 944.9971428571428, 944.9971428571428, 944.9971428571428, 944.9971428571428, 944.9971428571428, 944.9971428571428, 949.9685714285714, 949.9685714285714, 949.9685714285714, 949.9685714285714, 949.9685714285714, 949.9685714285714, 949.9685714285714, 951.4907142857144, 951.4907142857144, 951.4907142857144, 951.4907142857144, 951.4907142857144, 951.4907142857144, 951.4907142857144, 923.17, 923.17, 923.17, 923.17, 923.17, 923.17, 923.17, 980.827, 980.827, 980.827, 980.827, 980.827, 980.827, 980.827, 1574.57, 1574.57, 1574.57, 1574.57, 1574.57, 1574.57, 1574.57, 2455.313857142857, 2455.313857142857, 2455.313857142857, 2455.313857142857, 2455.313857142857, 2455.313857142857, 2455.313857142857, 4688.2627142857145, 4688.2627142857145, 4688.2627142857145, 4688.2627142857145, 4688.2627142857145, 4688.2627142857145, 4688.2627142857145, 6017.832714285714, 6017.832714285714, 6017.832714285714, 6017.832714285714, 6017.832714285714, 6017.832714285714, 6017.832714285714, 10163.342142857144, 10163.342142857144, 10163.342142857144, 10163.342142857144, 10163.342142857144, 10163.342142857144, 10163.342142857144, 11495.363285714286, 11495.363285714286, 11495.363285714286, 11495.363285714286, 11495.363285714286, 11495.363285714286, 11495.363285714286, 12420.513714285715, 12420.513714285715, 12420.513714285715, 12420.513714285715, 12420.513714285715, 12420.513714285715, 12420.513714285715, 12698.759714285714, 12698.759714285714, 12698.759714285714, 12698.759714285714, 12698.759714285714, 12698.759714285714, 12698.759714285714, 11563.564714285714, 11563.564714285714, 11563.564714285714, 11563.564714285714, 11563.564714285714, 11563.564714285714, 11563.564714285714, 10921.959428571428, 10921.959428571428, 10921.959428571428, 10921.959428571428, 10921.959428571428, 10921.959428571428, 10921.959428571428, 9202.705142857143, 9202.705142857143, 9202.705142857143, 9202.705142857143, 9202.705142857143, 9202.705142857143, 9202.705142857143, 8191.169285714285, 8191.169285714285, 8191.169285714285, 8191.169285714285, 8191.169285714285, 8191.169285714285, 8191.169285714285, 5434.9947142857145, 5434.9947142857145, 5434.9947142857145, 5434.9947142857145, 5434.9947142857145, 5434.9947142857145, 5434.9947142857145, 4645.34, 4645.34, 4645.34, 4645.34, 4645.34, 4645.34, 4645.34, 3786.822714285714, 3786.822714285714, 3786.822714285714, 3786.822714285714, 3786.822714285714, 3786.822714285714, 3786.822714285714, 3173.8434285714284, 3173.8434285714284, 3173.8434285714284, 3173.8434285714284, 3173.8434285714284, 3173.8434285714284, 3173.8434285714284, 2604.1141428571427, 2604.1141428571427, 2604.1141428571427, 2604.1141428571427, 2604.1141428571427, 2604.1141428571427, 2604.1141428571427, 2159.5994285714287, 2159.5994285714287, 2159.5994285714287, 2159.5994285714287, 2159.5994285714287, 2159.5994285714287, 2159.5994285714287, 1763.334, 1763.334, 1763.334, 1763.334, 1763.334, 1763.334, 1763.334, 1193.6927142857144, 1193.6927142857144, 1193.6927142857144, 1193.6927142857144, 1193.6927142857144, 1193.6927142857144, 1193.6927142857144, 1026.1954285714287, 1026.1954285714287, 1026.1954285714287, 1026.1954285714287, 1026.1954285714287, 1026.1954285714287, 1026.1954285714287, 860.7917142857143, 860.7917142857143, 860.7917142857143, 860.7917142857143, 860.7917142857143, 860.7917142857143, 860.7917142857143, 811.2631428571428, 811.2631428571428, 811.2631428571428, 811.2631428571428, 811.2631428571428, 811.2631428571428, 811.2631428571428, 686.8655714285715, 686.8655714285715, 686.8655714285715, 686.8655714285715, 686.8655714285715, 686.8655714285715, 686.8655714285715, 678.2462857142857, 678.2462857142857, 678.2462857142857, 678.2462857142857, 678.2462857142857, 678.2462857142857, 678.2462857142857, 583.4224285714286, 583.4224285714286, 583.4224285714286, 583.4224285714286, 583.4224285714286, 583.4224285714286, 583.4224285714286, 648.7512857142857, 648.7512857142857, 648.7512857142857, 648.7512857142857, 648.7512857142857, 648.7512857142857, 648.7512857142857, 586.2185714285714, 586.2185714285714, 586.2185714285714, 586.2185714285714, 586.2185714285714, 586.2185714285714, 586.2185714285714, 642.5818571428572, 642.5818571428572, 642.5818571428572, 642.5818571428572, 642.5818571428572, 642.5818571428572, 642.5818571428572, 2915.061857142857, 2915.061857142857, 2915.061857142857, 2915.061857142857, 2915.061857142857, 2915.061857142857, 2915.061857142857, 2535.6124285714286, 2535.6124285714286, 2535.6124285714286, 2535.6124285714286, 2535.6124285714286, 2535.6124285714286, 2535.6124285714286, 2354.100142857143, 2354.100142857143, 2354.100142857143, 2354.100142857143, 2354.100142857143, 2354.100142857143, 2354.100142857143, 2175.4824285714285, 2175.4824285714285, 2175.4824285714285, 2175.4824285714285, 2175.4824285714285, 2175.4824285714285, 2175.4824285714285, 1868.8671428571429, 1868.8671428571429, 1868.8671428571429, 1868.8671428571429, 1868.8671428571429, 1868.8671428571429, 1868.8671428571429, 1722.0024285714285, 1722.0024285714285, 1722.0024285714285, 1722.0024285714285, 1722.0024285714285, 1722.0024285714285, 1722.0024285714285, 1594.1944285714287, 1594.1944285714287, 1594.1944285714287, 1594.1944285714287, 1594.1944285714287, 1594.1944285714287, 1594.1944285714287, 1468.1998571428571, 1468.1998571428571, 1468.1998571428571, 1468.1998571428571, 1468.1998571428571, 1468.1998571428571, 1468.1998571428571, 1335.0692857142858, 1335.0692857142858, 1335.0692857142858, 1335.0692857142858, 1335.0692857142858, 1335.0692857142858, 1335.0692857142858, 800.0967142857143, 800.0967142857143, 800.0967142857143, 800.0967142857143, 800.0967142857143, 800.0967142857143, 800.0967142857143, 749.1005714285714, 749.1005714285714, 749.1005714285714, 749.1005714285714, 749.1005714285714, 749.1005714285714, 749.1005714285714, 702.9785714285715, 702.9785714285715, 702.9785714285715, 702.9785714285715, 702.9785714285715, 702.9785714285715, 702.9785714285715, 126.35757142857143, 126.35757142857143, 126.35757142857143, 126.35757142857143, 126.35757142857143, 126.35757142857143, 126.35757142857143, 115.55128571428573, 115.55128571428573, 115.55128571428573, 115.55128571428573, 115.55128571428573, 115.55128571428573, 115.55128571428573, 106.39442857142856, 106.39442857142856, 106.39442857142856, 106.39442857142856, 106.39442857142856, 106.39442857142856, 106.39442857142856, 98.58471428571428, 98.58471428571428, 98.58471428571428, 98.58471428571428, 98.58471428571428, 98.58471428571428, 98.58471428571428, 91.88371428571429, 91.88371428571429, 91.88371428571429, 91.88371428571429, 91.88371428571429, 91.88371428571429, 91.88371428571429, 86.10171428571428, 86.10171428571428, 86.10171428571428, 86.10171428571428, 86.10171428571428, 86.10171428571428, 86.10171428571428, 81.08671428571428, 81.08671428571428, 81.08671428571428, 81.08671428571428, 81.08671428571428, 81.08671428571428, 81.08671428571428, 76.71585714285713, 76.71585714285713, 76.71585714285713, 76.71585714285713, 76.71585714285713, 76.71585714285713, 76.71585714285713, 7530.531285714285, 7530.531285714285, 7530.531285714285, 7530.531285714285, 7530.531285714285, 7530.531285714285, 7530.531285714285, 6028.925857142857, 6028.925857142857, 6028.925857142857, 6028.925857142857, 6028.925857142857, 6028.925857142857, 6028.925857142857, 5990.872714285714, 5990.872714285714, 5990.872714285714, 5990.872714285714, 5990.872714285714, 5990.872714285714, 5990.872714285714, 5018.755571428571, 5018.755571428571, 5018.755571428571, 5018.755571428571, 5018.755571428571, 5018.755571428571, 5018.755571428571, 4782.436000000001, 4782.436000000001, 4782.436000000001, 4782.436000000001, 4782.436000000001, 4782.436000000001, 4782.436000000001, 4318.087571428571, 4318.087571428571, 4318.087571428571, 4318.087571428571, 4318.087571428571, 4318.087571428571, 4318.087571428571, 4018.1225714285715, 4018.1225714285715, 4018.1225714285715, 4018.1225714285715, 4018.1225714285715, 4018.1225714285715, 4018.1225714285715, 3633.3477142857146, 3633.3477142857146, 3633.3477142857146, 3633.3477142857146, 3633.3477142857146, 3633.3477142857146, 3633.3477142857146, 3281.2881428571427, 3281.2881428571427, 3281.2881428571427, 3281.2881428571427, 3281.2881428571427, 3281.2881428571427, 3281.2881428571427, 3178.983857142857, 3178.983857142857, 3178.983857142857, 3178.983857142857, 3178.983857142857, 3178.983857142857, 3178.983857142857, 2946.159714285714, 2946.159714285714, 2946.159714285714, 2946.159714285714, 2946.159714285714, 2946.159714285714, 2946.159714285714, 3195.7672857142857, 3195.7672857142857, 3195.7672857142857, 3195.7672857142857, 3195.7672857142857, 3195.7672857142857, 3195.7672857142857, 2777.9010000000003, 2777.9010000000003, 2777.9010000000003, 2777.9010000000003, 2777.9010000000003, 2777.9010000000003, 2777.9010000000003, 3288.7654285714284, 3288.7654285714284, 3288.7654285714284, 3288.7654285714284, 3288.7654285714284, 3288.7654285714284, 3288.7654285714284, 2733.2410000000004, 2733.2410000000004, 2733.2410000000004, 2733.2410000000004, 2733.2410000000004, 2733.2410000000004, 2733.2410000000004, 4169.127142857143, 4169.127142857143, 4169.127142857143, 4169.127142857143, 4169.127142857143, 4169.127142857143, 4169.127142857143, 18334.87385714286, 18334.87385714286, 18334.87385714286, 18334.87385714286, 18334.87385714286, 18334.87385714286, 18334.87385714286, 10843.241285714286, 10843.241285714286, 10843.241285714286, 10843.241285714286, 10843.241285714286, 10843.241285714286, 10843.241285714286, 8506.950142857142, 8506.950142857142, 8506.950142857142, 8506.950142857142, 8506.950142857142, 8506.950142857142, 8506.950142857142]\n"
          ]
        }
      ]
    },
    {
      "cell_type": "code",
      "source": [
        "len(predictions)"
      ],
      "metadata": {
        "colab": {
          "base_uri": "https://localhost:8080/"
        },
        "id": "bAUxPUYG5gaj",
        "outputId": "a48def19-782e-4d4a-ef2a-a7e27655211e"
      },
      "id": "bAUxPUYG5gaj",
      "execution_count": 18,
      "outputs": [
        {
          "output_type": "execute_result",
          "data": {
            "text/plain": [
              "539"
            ]
          },
          "metadata": {},
          "execution_count": 18
        }
      ]
    },
    {
      "cell_type": "code",
      "execution_count": 22,
      "id": "65a9fbb1",
      "metadata": {
        "id": "65a9fbb1",
        "outputId": "923b9f9d-a4bd-461b-e450-69af6dea7f72",
        "colab": {
          "base_uri": "https://localhost:8080/",
          "height": 206
        }
      },
      "outputs": [
        {
          "output_type": "execute_result",
          "data": {
            "text/plain": [
              "        Date  New Cases  7-day Average New Cases  \\\n",
              "0 2020-08-22       1200                   1319.3   \n",
              "1 2020-08-23        848                   1314.9   \n",
              "2 2020-08-24       1188                   1297.7   \n",
              "3 2020-08-25       1016                   1268.5   \n",
              "4 2020-08-26       1278                   1229.8   \n",
              "\n",
              "   Cumulative cases                            Population (2019)  \\\n",
              "0                                      266722           25603978   \n",
              "1                                      267570           25603978   \n",
              "2                                      268758           25603978   \n",
              "3                                      269774           25603978   \n",
              "4                                      271052           25603978   \n",
              "\n",
              "   New Case Rate  7-Day Average New Case Rate  Cumulative Case Rate  \\\n",
              "0          275.1                        294.3               41842.6   \n",
              "1          167.7                        292.8               42010.5   \n",
              "2          275.7                        286.9               42287.0   \n",
              "3          245.2                        283.4               42531.8   \n",
              "4          296.6                        274.4               42829.0   \n",
              "\n",
              "   County FIPS Code    Longitude     Latitude  \n",
              "0           2860489 -5275.682283  2774.207671  \n",
              "1           2860489 -5275.682283  2774.207671  \n",
              "2           2860489 -5275.682283  2774.207671  \n",
              "3           2860489 -5275.682283  2774.207671  \n",
              "4           2860489 -5275.682283  2774.207671  "
            ],
            "text/html": [
              "\n",
              "  <div id=\"df-8e739a34-58a4-4162-9a87-363f88488d6e\">\n",
              "    <div class=\"colab-df-container\">\n",
              "      <div>\n",
              "<style scoped>\n",
              "    .dataframe tbody tr th:only-of-type {\n",
              "        vertical-align: middle;\n",
              "    }\n",
              "\n",
              "    .dataframe tbody tr th {\n",
              "        vertical-align: top;\n",
              "    }\n",
              "\n",
              "    .dataframe thead th {\n",
              "        text-align: right;\n",
              "    }\n",
              "</style>\n",
              "<table border=\"1\" class=\"dataframe\">\n",
              "  <thead>\n",
              "    <tr style=\"text-align: right;\">\n",
              "      <th></th>\n",
              "      <th>Date</th>\n",
              "      <th>New Cases</th>\n",
              "      <th>7-day Average New Cases</th>\n",
              "      <th>Cumulative cases</th>\n",
              "      <th>Population (2019)</th>\n",
              "      <th>New Case Rate</th>\n",
              "      <th>7-Day Average New Case Rate</th>\n",
              "      <th>Cumulative Case Rate</th>\n",
              "      <th>County FIPS Code</th>\n",
              "      <th>Longitude</th>\n",
              "      <th>Latitude</th>\n",
              "    </tr>\n",
              "  </thead>\n",
              "  <tbody>\n",
              "    <tr>\n",
              "      <th>0</th>\n",
              "      <td>2020-08-22</td>\n",
              "      <td>1200</td>\n",
              "      <td>1319.3</td>\n",
              "      <td>266722</td>\n",
              "      <td>25603978</td>\n",
              "      <td>275.1</td>\n",
              "      <td>294.3</td>\n",
              "      <td>41842.6</td>\n",
              "      <td>2860489</td>\n",
              "      <td>-5275.682283</td>\n",
              "      <td>2774.207671</td>\n",
              "    </tr>\n",
              "    <tr>\n",
              "      <th>1</th>\n",
              "      <td>2020-08-23</td>\n",
              "      <td>848</td>\n",
              "      <td>1314.9</td>\n",
              "      <td>267570</td>\n",
              "      <td>25603978</td>\n",
              "      <td>167.7</td>\n",
              "      <td>292.8</td>\n",
              "      <td>42010.5</td>\n",
              "      <td>2860489</td>\n",
              "      <td>-5275.682283</td>\n",
              "      <td>2774.207671</td>\n",
              "    </tr>\n",
              "    <tr>\n",
              "      <th>2</th>\n",
              "      <td>2020-08-24</td>\n",
              "      <td>1188</td>\n",
              "      <td>1297.7</td>\n",
              "      <td>268758</td>\n",
              "      <td>25603978</td>\n",
              "      <td>275.7</td>\n",
              "      <td>286.9</td>\n",
              "      <td>42287.0</td>\n",
              "      <td>2860489</td>\n",
              "      <td>-5275.682283</td>\n",
              "      <td>2774.207671</td>\n",
              "    </tr>\n",
              "    <tr>\n",
              "      <th>3</th>\n",
              "      <td>2020-08-25</td>\n",
              "      <td>1016</td>\n",
              "      <td>1268.5</td>\n",
              "      <td>269774</td>\n",
              "      <td>25603978</td>\n",
              "      <td>245.2</td>\n",
              "      <td>283.4</td>\n",
              "      <td>42531.8</td>\n",
              "      <td>2860489</td>\n",
              "      <td>-5275.682283</td>\n",
              "      <td>2774.207671</td>\n",
              "    </tr>\n",
              "    <tr>\n",
              "      <th>4</th>\n",
              "      <td>2020-08-26</td>\n",
              "      <td>1278</td>\n",
              "      <td>1229.8</td>\n",
              "      <td>271052</td>\n",
              "      <td>25603978</td>\n",
              "      <td>296.6</td>\n",
              "      <td>274.4</td>\n",
              "      <td>42829.0</td>\n",
              "      <td>2860489</td>\n",
              "      <td>-5275.682283</td>\n",
              "      <td>2774.207671</td>\n",
              "    </tr>\n",
              "  </tbody>\n",
              "</table>\n",
              "</div>\n",
              "      <button class=\"colab-df-convert\" onclick=\"convertToInteractive('df-8e739a34-58a4-4162-9a87-363f88488d6e')\"\n",
              "              title=\"Convert this dataframe to an interactive table.\"\n",
              "              style=\"display:none;\">\n",
              "        \n",
              "  <svg xmlns=\"http://www.w3.org/2000/svg\" height=\"24px\"viewBox=\"0 0 24 24\"\n",
              "       width=\"24px\">\n",
              "    <path d=\"M0 0h24v24H0V0z\" fill=\"none\"/>\n",
              "    <path d=\"M18.56 5.44l.94 2.06.94-2.06 2.06-.94-2.06-.94-.94-2.06-.94 2.06-2.06.94zm-11 1L8.5 8.5l.94-2.06 2.06-.94-2.06-.94L8.5 2.5l-.94 2.06-2.06.94zm10 10l.94 2.06.94-2.06 2.06-.94-2.06-.94-.94-2.06-.94 2.06-2.06.94z\"/><path d=\"M17.41 7.96l-1.37-1.37c-.4-.4-.92-.59-1.43-.59-.52 0-1.04.2-1.43.59L10.3 9.45l-7.72 7.72c-.78.78-.78 2.05 0 2.83L4 21.41c.39.39.9.59 1.41.59.51 0 1.02-.2 1.41-.59l7.78-7.78 2.81-2.81c.8-.78.8-2.07 0-2.86zM5.41 20L4 18.59l7.72-7.72 1.47 1.35L5.41 20z\"/>\n",
              "  </svg>\n",
              "      </button>\n",
              "      \n",
              "  <style>\n",
              "    .colab-df-container {\n",
              "      display:flex;\n",
              "      flex-wrap:wrap;\n",
              "      gap: 12px;\n",
              "    }\n",
              "\n",
              "    .colab-df-convert {\n",
              "      background-color: #E8F0FE;\n",
              "      border: none;\n",
              "      border-radius: 50%;\n",
              "      cursor: pointer;\n",
              "      display: none;\n",
              "      fill: #1967D2;\n",
              "      height: 32px;\n",
              "      padding: 0 0 0 0;\n",
              "      width: 32px;\n",
              "    }\n",
              "\n",
              "    .colab-df-convert:hover {\n",
              "      background-color: #E2EBFA;\n",
              "      box-shadow: 0px 1px 2px rgba(60, 64, 67, 0.3), 0px 1px 3px 1px rgba(60, 64, 67, 0.15);\n",
              "      fill: #174EA6;\n",
              "    }\n",
              "\n",
              "    [theme=dark] .colab-df-convert {\n",
              "      background-color: #3B4455;\n",
              "      fill: #D2E3FC;\n",
              "    }\n",
              "\n",
              "    [theme=dark] .colab-df-convert:hover {\n",
              "      background-color: #434B5C;\n",
              "      box-shadow: 0px 1px 3px 1px rgba(0, 0, 0, 0.15);\n",
              "      filter: drop-shadow(0px 1px 2px rgba(0, 0, 0, 0.3));\n",
              "      fill: #FFFFFF;\n",
              "    }\n",
              "  </style>\n",
              "\n",
              "      <script>\n",
              "        const buttonEl =\n",
              "          document.querySelector('#df-8e739a34-58a4-4162-9a87-363f88488d6e button.colab-df-convert');\n",
              "        buttonEl.style.display =\n",
              "          google.colab.kernel.accessAllowed ? 'block' : 'none';\n",
              "\n",
              "        async function convertToInteractive(key) {\n",
              "          const element = document.querySelector('#df-8e739a34-58a4-4162-9a87-363f88488d6e');\n",
              "          const dataTable =\n",
              "            await google.colab.kernel.invokeFunction('convertToInteractive',\n",
              "                                                     [key], {});\n",
              "          if (!dataTable) return;\n",
              "\n",
              "          const docLinkHtml = 'Like what you see? Visit the ' +\n",
              "            '<a target=\"_blank\" href=https://colab.research.google.com/notebooks/data_table.ipynb>data table notebook</a>'\n",
              "            + ' to learn more about interactive tables.';\n",
              "          element.innerHTML = '';\n",
              "          dataTable['output_type'] = 'display_data';\n",
              "          await google.colab.output.renderOutput(dataTable, element);\n",
              "          const docLink = document.createElement('div');\n",
              "          docLink.innerHTML = docLinkHtml;\n",
              "          element.appendChild(docLink);\n",
              "        }\n",
              "      </script>\n",
              "    </div>\n",
              "  </div>\n",
              "  "
            ]
          },
          "metadata": {},
          "execution_count": 22
        }
      ],
      "source": [
        "#select all the dates to be merged with prediction list\n",
        "mask = (df1['Date'] >= '2020-08-22') & (df1['Date'] <= '2022-02-11')\n",
        "df1_copy = df1.loc[mask]\n",
        "df1_copy = df1_copy.groupby([\"Date\"]).sum().reset_index()\n",
        "df1_copy.head(5)"
      ]
    },
    {
      "cell_type": "code",
      "source": [
        "len(df1_copy)"
      ],
      "metadata": {
        "colab": {
          "base_uri": "https://localhost:8080/"
        },
        "id": "E4GmTswG-Max",
        "outputId": "9a15c744-9647-4930-888c-351f6b44ac8e"
      },
      "id": "E4GmTswG-Max",
      "execution_count": 23,
      "outputs": [
        {
          "output_type": "execute_result",
          "data": {
            "text/plain": [
              "539"
            ]
          },
          "metadata": {},
          "execution_count": 23
        }
      ]
    },
    {
      "cell_type": "code",
      "source": [
        "# assigning predictions list to the actual dataframe\n",
        "df1_copy['Prediction'] = predictions"
      ],
      "metadata": {
        "id": "7HHOfOpl4JA2"
      },
      "id": "7HHOfOpl4JA2",
      "execution_count": 24,
      "outputs": []
    },
    {
      "cell_type": "code",
      "source": [
        "df1_copy.head(20)"
      ],
      "metadata": {
        "id": "a8HZNoDm5m-p",
        "colab": {
          "base_uri": "https://localhost:8080/",
          "height": 677
        },
        "outputId": "b434c7c9-7118-49aa-cbf2-d060d38d8ae4"
      },
      "id": "a8HZNoDm5m-p",
      "execution_count": 25,
      "outputs": [
        {
          "output_type": "execute_result",
          "data": {
            "text/plain": [
              "         Date  New Cases  7-day Average New Cases  \\\n",
              "0  2020-08-22       1200                   1319.3   \n",
              "1  2020-08-23        848                   1314.9   \n",
              "2  2020-08-24       1188                   1297.7   \n",
              "3  2020-08-25       1016                   1268.5   \n",
              "4  2020-08-26       1278                   1229.8   \n",
              "5  2020-08-27       1702                   1261.4   \n",
              "6  2020-08-28       1664                   1271.1   \n",
              "7  2020-08-29       1380                   1296.2   \n",
              "8  2020-08-30       1052                   1325.3   \n",
              "9  2020-08-31       1664                   1393.5   \n",
              "10 2020-09-01       1804                   1506.8   \n",
              "11 2020-09-02       2168                   1633.3   \n",
              "12 2020-09-03       1830                   1652.1   \n",
              "13 2020-09-04       1934                   1690.1   \n",
              "14 2020-09-05       1310                   1680.1   \n",
              "15 2020-09-06       1196                   1701.0   \n",
              "16 2020-09-07        978                   1603.0   \n",
              "17 2020-09-08       1996                   1630.4   \n",
              "18 2020-09-09       1192                   1491.0   \n",
              "19 2020-09-10       2048                   1522.1   \n",
              "\n",
              "    Cumulative cases                            Population (2019)  \\\n",
              "0                                       266722           25603978   \n",
              "1                                       267570           25603978   \n",
              "2                                       268758           25603978   \n",
              "3                                       269774           25603978   \n",
              "4                                       271052           25603978   \n",
              "5                                       272754           25603978   \n",
              "6                                       274418           25603978   \n",
              "7                                       275798           25603978   \n",
              "8                                       276850           25603978   \n",
              "9                                       278514           25603978   \n",
              "10                                      280318           25603978   \n",
              "11                                      282486           25603978   \n",
              "12                                      284316           25603978   \n",
              "13                                      286250           25603978   \n",
              "14                                      287560           25603978   \n",
              "15                                      288756           25603978   \n",
              "16                                      289734           25603978   \n",
              "17                                      291730           25603978   \n",
              "18                                      292922           25603978   \n",
              "19                                      294970           25603978   \n",
              "\n",
              "    New Case Rate  7-Day Average New Case Rate  Cumulative Case Rate  \\\n",
              "0           275.1                        294.3               41842.6   \n",
              "1           167.7                        292.8               42010.5   \n",
              "2           275.7                        286.9               42287.0   \n",
              "3           245.2                        283.4               42531.8   \n",
              "4           296.6                        274.4               42829.0   \n",
              "5           405.1                        284.9               43233.7   \n",
              "6           368.6                        290.5               43602.3   \n",
              "7           288.6                        292.6               43890.6   \n",
              "8           206.1                        297.6               44095.9   \n",
              "9           290.0                        299.6               44386.7   \n",
              "10          442.1                        328.5               44828.0   \n",
              "11          464.3                        352.0               45293.0   \n",
              "12          401.7                        351.3               45694.7   \n",
              "13          427.0                        359.7               46121.7   \n",
              "14          270.1                        357.0               46391.7   \n",
              "15          271.4                        366.6               46663.1   \n",
              "16          180.0                        350.9               46842.2   \n",
              "17          504.9                        359.9               47347.2   \n",
              "18          252.0                        329.4               47599.1   \n",
              "19          498.7                        343.3               48097.8   \n",
              "\n",
              "    County FIPS Code    Longitude     Latitude   Prediction  \n",
              "0            2860489 -5275.682283  2774.207671   735.546286  \n",
              "1            2860489 -5275.682283  2774.207671   735.546286  \n",
              "2            2860489 -5275.682283  2774.207671   735.546286  \n",
              "3            2860489 -5275.682283  2774.207671   735.546286  \n",
              "4            2860489 -5275.682283  2774.207671   735.546286  \n",
              "5            2860489 -5275.682283  2774.207671   735.546286  \n",
              "6            2860489 -5275.682283  2774.207671   735.546286  \n",
              "7            2860489 -5275.682283  2774.207671   743.247000  \n",
              "8            2860489 -5275.682283  2774.207671   743.247000  \n",
              "9            2860489 -5275.682283  2774.207671   743.247000  \n",
              "10           2860489 -5275.682283  2774.207671   743.247000  \n",
              "11           2860489 -5275.682283  2774.207671   743.247000  \n",
              "12           2860489 -5275.682283  2774.207671   743.247000  \n",
              "13           2860489 -5275.682283  2774.207671   743.247000  \n",
              "14           2860489 -5275.682283  2774.207671  1735.340143  \n",
              "15           2860489 -5275.682283  2774.207671  1735.340143  \n",
              "16           2860489 -5275.682283  2774.207671  1735.340143  \n",
              "17           2860489 -5275.682283  2774.207671  1735.340143  \n",
              "18           2860489 -5275.682283  2774.207671  1735.340143  \n",
              "19           2860489 -5275.682283  2774.207671  1735.340143  "
            ],
            "text/html": [
              "\n",
              "  <div id=\"df-22582610-2f46-45b4-9b01-84b4e5d9f686\">\n",
              "    <div class=\"colab-df-container\">\n",
              "      <div>\n",
              "<style scoped>\n",
              "    .dataframe tbody tr th:only-of-type {\n",
              "        vertical-align: middle;\n",
              "    }\n",
              "\n",
              "    .dataframe tbody tr th {\n",
              "        vertical-align: top;\n",
              "    }\n",
              "\n",
              "    .dataframe thead th {\n",
              "        text-align: right;\n",
              "    }\n",
              "</style>\n",
              "<table border=\"1\" class=\"dataframe\">\n",
              "  <thead>\n",
              "    <tr style=\"text-align: right;\">\n",
              "      <th></th>\n",
              "      <th>Date</th>\n",
              "      <th>New Cases</th>\n",
              "      <th>7-day Average New Cases</th>\n",
              "      <th>Cumulative cases</th>\n",
              "      <th>Population (2019)</th>\n",
              "      <th>New Case Rate</th>\n",
              "      <th>7-Day Average New Case Rate</th>\n",
              "      <th>Cumulative Case Rate</th>\n",
              "      <th>County FIPS Code</th>\n",
              "      <th>Longitude</th>\n",
              "      <th>Latitude</th>\n",
              "      <th>Prediction</th>\n",
              "    </tr>\n",
              "  </thead>\n",
              "  <tbody>\n",
              "    <tr>\n",
              "      <th>0</th>\n",
              "      <td>2020-08-22</td>\n",
              "      <td>1200</td>\n",
              "      <td>1319.3</td>\n",
              "      <td>266722</td>\n",
              "      <td>25603978</td>\n",
              "      <td>275.1</td>\n",
              "      <td>294.3</td>\n",
              "      <td>41842.6</td>\n",
              "      <td>2860489</td>\n",
              "      <td>-5275.682283</td>\n",
              "      <td>2774.207671</td>\n",
              "      <td>735.546286</td>\n",
              "    </tr>\n",
              "    <tr>\n",
              "      <th>1</th>\n",
              "      <td>2020-08-23</td>\n",
              "      <td>848</td>\n",
              "      <td>1314.9</td>\n",
              "      <td>267570</td>\n",
              "      <td>25603978</td>\n",
              "      <td>167.7</td>\n",
              "      <td>292.8</td>\n",
              "      <td>42010.5</td>\n",
              "      <td>2860489</td>\n",
              "      <td>-5275.682283</td>\n",
              "      <td>2774.207671</td>\n",
              "      <td>735.546286</td>\n",
              "    </tr>\n",
              "    <tr>\n",
              "      <th>2</th>\n",
              "      <td>2020-08-24</td>\n",
              "      <td>1188</td>\n",
              "      <td>1297.7</td>\n",
              "      <td>268758</td>\n",
              "      <td>25603978</td>\n",
              "      <td>275.7</td>\n",
              "      <td>286.9</td>\n",
              "      <td>42287.0</td>\n",
              "      <td>2860489</td>\n",
              "      <td>-5275.682283</td>\n",
              "      <td>2774.207671</td>\n",
              "      <td>735.546286</td>\n",
              "    </tr>\n",
              "    <tr>\n",
              "      <th>3</th>\n",
              "      <td>2020-08-25</td>\n",
              "      <td>1016</td>\n",
              "      <td>1268.5</td>\n",
              "      <td>269774</td>\n",
              "      <td>25603978</td>\n",
              "      <td>245.2</td>\n",
              "      <td>283.4</td>\n",
              "      <td>42531.8</td>\n",
              "      <td>2860489</td>\n",
              "      <td>-5275.682283</td>\n",
              "      <td>2774.207671</td>\n",
              "      <td>735.546286</td>\n",
              "    </tr>\n",
              "    <tr>\n",
              "      <th>4</th>\n",
              "      <td>2020-08-26</td>\n",
              "      <td>1278</td>\n",
              "      <td>1229.8</td>\n",
              "      <td>271052</td>\n",
              "      <td>25603978</td>\n",
              "      <td>296.6</td>\n",
              "      <td>274.4</td>\n",
              "      <td>42829.0</td>\n",
              "      <td>2860489</td>\n",
              "      <td>-5275.682283</td>\n",
              "      <td>2774.207671</td>\n",
              "      <td>735.546286</td>\n",
              "    </tr>\n",
              "    <tr>\n",
              "      <th>5</th>\n",
              "      <td>2020-08-27</td>\n",
              "      <td>1702</td>\n",
              "      <td>1261.4</td>\n",
              "      <td>272754</td>\n",
              "      <td>25603978</td>\n",
              "      <td>405.1</td>\n",
              "      <td>284.9</td>\n",
              "      <td>43233.7</td>\n",
              "      <td>2860489</td>\n",
              "      <td>-5275.682283</td>\n",
              "      <td>2774.207671</td>\n",
              "      <td>735.546286</td>\n",
              "    </tr>\n",
              "    <tr>\n",
              "      <th>6</th>\n",
              "      <td>2020-08-28</td>\n",
              "      <td>1664</td>\n",
              "      <td>1271.1</td>\n",
              "      <td>274418</td>\n",
              "      <td>25603978</td>\n",
              "      <td>368.6</td>\n",
              "      <td>290.5</td>\n",
              "      <td>43602.3</td>\n",
              "      <td>2860489</td>\n",
              "      <td>-5275.682283</td>\n",
              "      <td>2774.207671</td>\n",
              "      <td>735.546286</td>\n",
              "    </tr>\n",
              "    <tr>\n",
              "      <th>7</th>\n",
              "      <td>2020-08-29</td>\n",
              "      <td>1380</td>\n",
              "      <td>1296.2</td>\n",
              "      <td>275798</td>\n",
              "      <td>25603978</td>\n",
              "      <td>288.6</td>\n",
              "      <td>292.6</td>\n",
              "      <td>43890.6</td>\n",
              "      <td>2860489</td>\n",
              "      <td>-5275.682283</td>\n",
              "      <td>2774.207671</td>\n",
              "      <td>743.247000</td>\n",
              "    </tr>\n",
              "    <tr>\n",
              "      <th>8</th>\n",
              "      <td>2020-08-30</td>\n",
              "      <td>1052</td>\n",
              "      <td>1325.3</td>\n",
              "      <td>276850</td>\n",
              "      <td>25603978</td>\n",
              "      <td>206.1</td>\n",
              "      <td>297.6</td>\n",
              "      <td>44095.9</td>\n",
              "      <td>2860489</td>\n",
              "      <td>-5275.682283</td>\n",
              "      <td>2774.207671</td>\n",
              "      <td>743.247000</td>\n",
              "    </tr>\n",
              "    <tr>\n",
              "      <th>9</th>\n",
              "      <td>2020-08-31</td>\n",
              "      <td>1664</td>\n",
              "      <td>1393.5</td>\n",
              "      <td>278514</td>\n",
              "      <td>25603978</td>\n",
              "      <td>290.0</td>\n",
              "      <td>299.6</td>\n",
              "      <td>44386.7</td>\n",
              "      <td>2860489</td>\n",
              "      <td>-5275.682283</td>\n",
              "      <td>2774.207671</td>\n",
              "      <td>743.247000</td>\n",
              "    </tr>\n",
              "    <tr>\n",
              "      <th>10</th>\n",
              "      <td>2020-09-01</td>\n",
              "      <td>1804</td>\n",
              "      <td>1506.8</td>\n",
              "      <td>280318</td>\n",
              "      <td>25603978</td>\n",
              "      <td>442.1</td>\n",
              "      <td>328.5</td>\n",
              "      <td>44828.0</td>\n",
              "      <td>2860489</td>\n",
              "      <td>-5275.682283</td>\n",
              "      <td>2774.207671</td>\n",
              "      <td>743.247000</td>\n",
              "    </tr>\n",
              "    <tr>\n",
              "      <th>11</th>\n",
              "      <td>2020-09-02</td>\n",
              "      <td>2168</td>\n",
              "      <td>1633.3</td>\n",
              "      <td>282486</td>\n",
              "      <td>25603978</td>\n",
              "      <td>464.3</td>\n",
              "      <td>352.0</td>\n",
              "      <td>45293.0</td>\n",
              "      <td>2860489</td>\n",
              "      <td>-5275.682283</td>\n",
              "      <td>2774.207671</td>\n",
              "      <td>743.247000</td>\n",
              "    </tr>\n",
              "    <tr>\n",
              "      <th>12</th>\n",
              "      <td>2020-09-03</td>\n",
              "      <td>1830</td>\n",
              "      <td>1652.1</td>\n",
              "      <td>284316</td>\n",
              "      <td>25603978</td>\n",
              "      <td>401.7</td>\n",
              "      <td>351.3</td>\n",
              "      <td>45694.7</td>\n",
              "      <td>2860489</td>\n",
              "      <td>-5275.682283</td>\n",
              "      <td>2774.207671</td>\n",
              "      <td>743.247000</td>\n",
              "    </tr>\n",
              "    <tr>\n",
              "      <th>13</th>\n",
              "      <td>2020-09-04</td>\n",
              "      <td>1934</td>\n",
              "      <td>1690.1</td>\n",
              "      <td>286250</td>\n",
              "      <td>25603978</td>\n",
              "      <td>427.0</td>\n",
              "      <td>359.7</td>\n",
              "      <td>46121.7</td>\n",
              "      <td>2860489</td>\n",
              "      <td>-5275.682283</td>\n",
              "      <td>2774.207671</td>\n",
              "      <td>743.247000</td>\n",
              "    </tr>\n",
              "    <tr>\n",
              "      <th>14</th>\n",
              "      <td>2020-09-05</td>\n",
              "      <td>1310</td>\n",
              "      <td>1680.1</td>\n",
              "      <td>287560</td>\n",
              "      <td>25603978</td>\n",
              "      <td>270.1</td>\n",
              "      <td>357.0</td>\n",
              "      <td>46391.7</td>\n",
              "      <td>2860489</td>\n",
              "      <td>-5275.682283</td>\n",
              "      <td>2774.207671</td>\n",
              "      <td>1735.340143</td>\n",
              "    </tr>\n",
              "    <tr>\n",
              "      <th>15</th>\n",
              "      <td>2020-09-06</td>\n",
              "      <td>1196</td>\n",
              "      <td>1701.0</td>\n",
              "      <td>288756</td>\n",
              "      <td>25603978</td>\n",
              "      <td>271.4</td>\n",
              "      <td>366.6</td>\n",
              "      <td>46663.1</td>\n",
              "      <td>2860489</td>\n",
              "      <td>-5275.682283</td>\n",
              "      <td>2774.207671</td>\n",
              "      <td>1735.340143</td>\n",
              "    </tr>\n",
              "    <tr>\n",
              "      <th>16</th>\n",
              "      <td>2020-09-07</td>\n",
              "      <td>978</td>\n",
              "      <td>1603.0</td>\n",
              "      <td>289734</td>\n",
              "      <td>25603978</td>\n",
              "      <td>180.0</td>\n",
              "      <td>350.9</td>\n",
              "      <td>46842.2</td>\n",
              "      <td>2860489</td>\n",
              "      <td>-5275.682283</td>\n",
              "      <td>2774.207671</td>\n",
              "      <td>1735.340143</td>\n",
              "    </tr>\n",
              "    <tr>\n",
              "      <th>17</th>\n",
              "      <td>2020-09-08</td>\n",
              "      <td>1996</td>\n",
              "      <td>1630.4</td>\n",
              "      <td>291730</td>\n",
              "      <td>25603978</td>\n",
              "      <td>504.9</td>\n",
              "      <td>359.9</td>\n",
              "      <td>47347.2</td>\n",
              "      <td>2860489</td>\n",
              "      <td>-5275.682283</td>\n",
              "      <td>2774.207671</td>\n",
              "      <td>1735.340143</td>\n",
              "    </tr>\n",
              "    <tr>\n",
              "      <th>18</th>\n",
              "      <td>2020-09-09</td>\n",
              "      <td>1192</td>\n",
              "      <td>1491.0</td>\n",
              "      <td>292922</td>\n",
              "      <td>25603978</td>\n",
              "      <td>252.0</td>\n",
              "      <td>329.4</td>\n",
              "      <td>47599.1</td>\n",
              "      <td>2860489</td>\n",
              "      <td>-5275.682283</td>\n",
              "      <td>2774.207671</td>\n",
              "      <td>1735.340143</td>\n",
              "    </tr>\n",
              "    <tr>\n",
              "      <th>19</th>\n",
              "      <td>2020-09-10</td>\n",
              "      <td>2048</td>\n",
              "      <td>1522.1</td>\n",
              "      <td>294970</td>\n",
              "      <td>25603978</td>\n",
              "      <td>498.7</td>\n",
              "      <td>343.3</td>\n",
              "      <td>48097.8</td>\n",
              "      <td>2860489</td>\n",
              "      <td>-5275.682283</td>\n",
              "      <td>2774.207671</td>\n",
              "      <td>1735.340143</td>\n",
              "    </tr>\n",
              "  </tbody>\n",
              "</table>\n",
              "</div>\n",
              "      <button class=\"colab-df-convert\" onclick=\"convertToInteractive('df-22582610-2f46-45b4-9b01-84b4e5d9f686')\"\n",
              "              title=\"Convert this dataframe to an interactive table.\"\n",
              "              style=\"display:none;\">\n",
              "        \n",
              "  <svg xmlns=\"http://www.w3.org/2000/svg\" height=\"24px\"viewBox=\"0 0 24 24\"\n",
              "       width=\"24px\">\n",
              "    <path d=\"M0 0h24v24H0V0z\" fill=\"none\"/>\n",
              "    <path d=\"M18.56 5.44l.94 2.06.94-2.06 2.06-.94-2.06-.94-.94-2.06-.94 2.06-2.06.94zm-11 1L8.5 8.5l.94-2.06 2.06-.94-2.06-.94L8.5 2.5l-.94 2.06-2.06.94zm10 10l.94 2.06.94-2.06 2.06-.94-2.06-.94-.94-2.06-.94 2.06-2.06.94z\"/><path d=\"M17.41 7.96l-1.37-1.37c-.4-.4-.92-.59-1.43-.59-.52 0-1.04.2-1.43.59L10.3 9.45l-7.72 7.72c-.78.78-.78 2.05 0 2.83L4 21.41c.39.39.9.59 1.41.59.51 0 1.02-.2 1.41-.59l7.78-7.78 2.81-2.81c.8-.78.8-2.07 0-2.86zM5.41 20L4 18.59l7.72-7.72 1.47 1.35L5.41 20z\"/>\n",
              "  </svg>\n",
              "      </button>\n",
              "      \n",
              "  <style>\n",
              "    .colab-df-container {\n",
              "      display:flex;\n",
              "      flex-wrap:wrap;\n",
              "      gap: 12px;\n",
              "    }\n",
              "\n",
              "    .colab-df-convert {\n",
              "      background-color: #E8F0FE;\n",
              "      border: none;\n",
              "      border-radius: 50%;\n",
              "      cursor: pointer;\n",
              "      display: none;\n",
              "      fill: #1967D2;\n",
              "      height: 32px;\n",
              "      padding: 0 0 0 0;\n",
              "      width: 32px;\n",
              "    }\n",
              "\n",
              "    .colab-df-convert:hover {\n",
              "      background-color: #E2EBFA;\n",
              "      box-shadow: 0px 1px 2px rgba(60, 64, 67, 0.3), 0px 1px 3px 1px rgba(60, 64, 67, 0.15);\n",
              "      fill: #174EA6;\n",
              "    }\n",
              "\n",
              "    [theme=dark] .colab-df-convert {\n",
              "      background-color: #3B4455;\n",
              "      fill: #D2E3FC;\n",
              "    }\n",
              "\n",
              "    [theme=dark] .colab-df-convert:hover {\n",
              "      background-color: #434B5C;\n",
              "      box-shadow: 0px 1px 3px 1px rgba(0, 0, 0, 0.15);\n",
              "      filter: drop-shadow(0px 1px 2px rgba(0, 0, 0, 0.3));\n",
              "      fill: #FFFFFF;\n",
              "    }\n",
              "  </style>\n",
              "\n",
              "      <script>\n",
              "        const buttonEl =\n",
              "          document.querySelector('#df-22582610-2f46-45b4-9b01-84b4e5d9f686 button.colab-df-convert');\n",
              "        buttonEl.style.display =\n",
              "          google.colab.kernel.accessAllowed ? 'block' : 'none';\n",
              "\n",
              "        async function convertToInteractive(key) {\n",
              "          const element = document.querySelector('#df-22582610-2f46-45b4-9b01-84b4e5d9f686');\n",
              "          const dataTable =\n",
              "            await google.colab.kernel.invokeFunction('convertToInteractive',\n",
              "                                                     [key], {});\n",
              "          if (!dataTable) return;\n",
              "\n",
              "          const docLinkHtml = 'Like what you see? Visit the ' +\n",
              "            '<a target=\"_blank\" href=https://colab.research.google.com/notebooks/data_table.ipynb>data table notebook</a>'\n",
              "            + ' to learn more about interactive tables.';\n",
              "          element.innerHTML = '';\n",
              "          dataTable['output_type'] = 'display_data';\n",
              "          await google.colab.output.renderOutput(dataTable, element);\n",
              "          const docLink = document.createElement('div');\n",
              "          docLink.innerHTML = docLinkHtml;\n",
              "          element.appendChild(docLink);\n",
              "        }\n",
              "      </script>\n",
              "    </div>\n",
              "  </div>\n",
              "  "
            ]
          },
          "metadata": {},
          "execution_count": 25
        }
      ]
    },
    {
      "cell_type": "code",
      "source": [
        "# renaming the dataframe for graphing\n",
        "merged_df_new = df1_copy"
      ],
      "metadata": {
        "id": "tB3yrsBFBVzZ"
      },
      "id": "tB3yrsBFBVzZ",
      "execution_count": 26,
      "outputs": []
    },
    {
      "cell_type": "code",
      "source": [
        "merged_df_new.shape"
      ],
      "metadata": {
        "colab": {
          "base_uri": "https://localhost:8080/"
        },
        "id": "D_rU8Xdc6NUr",
        "outputId": "fd7d9178-b933-4843-e9ce-80dc94c0e3ba"
      },
      "id": "D_rU8Xdc6NUr",
      "execution_count": 27,
      "outputs": [
        {
          "output_type": "execute_result",
          "data": {
            "text/plain": [
              "(539, 12)"
            ]
          },
          "metadata": {},
          "execution_count": 27
        }
      ]
    },
    {
      "cell_type": "code",
      "execution_count": 28,
      "id": "d516c1b3",
      "metadata": {
        "id": "d516c1b3",
        "colab": {
          "base_uri": "https://localhost:8080/",
          "height": 295
        },
        "outputId": "d4784599-a433-41bf-d794-39d79b264665"
      },
      "outputs": [
        {
          "output_type": "display_data",
          "data": {
            "text/plain": [
              "<Figure size 432x288 with 1 Axes>"
            ],
            "image/png": "[encoded data removed]"
          },
          "metadata": {
            "needs_background": "light"
          }
        }
      ],
      "source": [
        "#Create plot of Actual vs. Predicted Cases\n",
        "\n",
        "#Actual Cases Line\n",
        "plt.plot(merged_df_new['Date'], merged_df_new['New Cases'], color='g', label='Actual Cases')\n",
        "\n",
        "#Predicted Cases Line\n",
        "plt.plot(merged_df_new['Date'], merged_df_new['Prediction'], color='r', label='Predicted Cases')\n",
        "\n",
        "#Create XY Labels and Title\n",
        "plt.xlabel('Date (Year/Month/Day)') \n",
        "plt.ylabel('Number of Cases') \n",
        "plt.title(\"Predicted Daily Cases vs Actual Cases in PA\")\n",
        "\n",
        "#Display Plot\n",
        "plt.legend()\n",
        "plt.show()"
      ]
    },
    {
      "cell_type": "code",
      "execution_count": 29,
      "id": "4eee31c3",
      "metadata": {
        "id": "4eee31c3",
        "colab": {
          "base_uri": "https://localhost:8080/"
        },
        "outputId": "d18f1258-1b20-4d08-a0b5-c91f14f134d1"
      },
      "outputs": [
        {
          "output_type": "stream",
          "name": "stdout",
          "text": [
            "452\n",
            "0.8385899814471243\n",
            "87\n",
            "0.16141001855287573\n",
            "539\n",
            "[0.38704476190476195, 0.13261051212938013, 0.3808532948532949, 0.27603712035995503, 0.42445517549742906, 0.56783414470371, 0.5579649725274726, 0.4614152173913043, 0.2934914448669201, 0.5533371394230768, 0.588000554323725, 0.6571738929889298, 0.5938540983606557, 0.6156944157187176, 0.3246871319520174, 0.4509532967032967, 0.7743764241893076, 0.1305911107930146, 0.4558222674976031, 0.15266594587053572, 0.09523454491285567, 0.5484245179666959, 0.45892021056977705, 0.07463539347911484, 0.3197029878618114, 0.06833099017384732, 0.24178694429801442, 0.10942064364207221, 0.3041258152745635, 0.17683175709308122, 0.4480156875834446, 0.40190054249547924, 0.48863790970933835, 0.5326423625830154, 0.4880838879430429, 0.4780392464678179, 0.2952755404832556, 0.662413442989136, 0.46207895162595053, 0.5415209597352454, 0.5851665626949469, 0.6051668447927799, 0.5140496862687873, 0.39702743074416075, 0.5080192790663317, 0.6522329260651629, 0.6320608220086178, 0.6659091593097913, 0.7265831280788176, 0.6058198121263877, 0.5799954504094631, 0.6484501142421935, 0.641626552795031, 0.7065575333757151, 0.7204209569957601, 0.7566763310490248, 0.617163544106167, 0.6022599351175993, 0.6815496753246753, 0.6762947194719471, 0.7630852657004831, 0.7743150023009664, 0.7730617769551134, 0.5501228571428571, 0.5280065947242206, 0.667391212505281, 0.6543964003511853, 0.6727826267664173, 0.6867150815758059, 0.7005382274629137, 0.4109131820674527, 0.37619058507549363, 0.5844086226907824, 0.5558404744676453, 0.582003088671628, 0.6571748314517094, 0.6928554094142035, 0.26169091113610793, 0.2851078508256001, 0.4800063537837495, 0.511028085702366, 0.5713000444142543, 0.6004548564610777, 0.5802808671185573, 0.4511279903059363, 0.338990255460708, 0.5046235829531022, 0.5280871459939057, 0.5673114240519331, 0.5816300949467662, 0.5665634749145985, 0.2648045324900793, 0.009999791266594223, 0.18103608840796587, 0.29888644157994315, 0.39940065341820447, 0.3109598547215496, 0.3551178843364757, 0.054814028786409036, 0.30067473248634147, 0.023333620585022457, 0.3614396574983732, 0.4693304733766833, 0.5378562641427078, 0.5397804753897716, 0.24751522390126532, 0.1269145427888574, 0.3974134623381664, 0.2391255994679175, 0.4919204076623695, 0.5145961499810179, 0.4521167307328754, 0.3499815871065871, 0.21467163176959098, 0.36366207084156577, 0.3793979222810227, 0.34730881402725566, 0.3213574329689122, 0.38133295750337554, 0.1055410957390382, 0.25617105916083144, 0.3091429851663452, 0.41527281986823855, 0.3414826472502441, 0.17849071367677508, 0.2059082053093178, 0.07436154127202718, 0.48235062819916236, 0.3972428571428572, 0.4250995142345811, 0.3497285408090362, 0.357380593753152, 0.3083865610073817, 0.05165857967259449, 0.26724113782114334, 0.47322809714612807, 0.5365744212480037, 0.514010079063311, 0.5646780916340046, 0.5247518517425561, 0.4401879930485043, 0.21780278020299032, 0.46146158542312393, 0.49998966635854686, 0.3731887598933054, 0.3939649833002157, 0.4067809034100315, 0.5302511050747005, 0.3168684371184371, 0.5173184090332402, 0.5201311394768043, 0.5330760554737358, 0.49610655346878224, 0.5379191706949741, 0.3924483390007847, 0.38683474128827877, 0.5452877838684417, 0.5847183979974968, 0.6680002858776444, 0.7242794396961063, 0.5774658904857195, 0.521745047450655, 0.43564490100063874, 0.4956283012405815, 0.39757831462206267, 0.4371547689825039, 0.6255860476284641, 0.5425437648845477, 0.6373579263515279, 0.3284292364427786, 0.6457764030612245, 0.48560074091224825, 0.610666900322445, 0.5462048286286205, 0.588773849627957, 0.4728513880855986, 0.30961979245568855, 0.4601753435204928, 0.6292548202082655, 0.6049584127947296, 0.5344808468256806, 0.5410443879349414, 0.4378970774150368, 0.2815703830434369, 0.6284240487660997, 0.6098989471511148, 0.5608785220472898, 0.6840843433921256, 0.6912211283140651, 0.5145005506607929, 0.49007113938692887, 0.6590614849187936, 0.6627134659525632, 0.730294585500153, 0.6707740851381628, 0.6929059561128527, 0.6159289851075566, 0.5863850608850608, 0.8063444655603967, 0.7734928435890485, 0.7894721844293272, 0.8096183868762815, 0.7924734502284918, 0.7330396907982756, 0.6376428571428571, 0.8387499326569093, 0.8446100199013584, 0.8391543215405284, 0.856275150060024, 0.8750675153918397, 0.8190093115463175, 0.734159445866055, 0.8790683177457552, 0.9127163137004953, 0.8859878524124882, 0.9153929905361003, 0.8954588639439259, 0.8679154765781272, 0.8621707198679676, 0.9262488051948052, 0.9101790142983678, 0.8969955379815715, 0.9186295744375986, 0.9261682614800563, 0.8946201946258712, 0.8721396925858951, 0.9326206031559181, 0.9254055634851682, 0.9247847600275327, 0.9348695646284306, 0.9283918295007746, 0.9077215937803693, 0.8661708197090991, 0.9527683645045762, 0.9433188796829112, 0.9325128073916134, 0.9403372373579975, 0.9345701055648963, 0.9023397340858005, 0.8662488701120062, 0.9437827684937918, 0.9357605782238022, 0.9361262942225281, 0.9293335236710965, 0.9283792746659185, 0.8883003984651712, 0.8287351410469151, 0.9166129452809402, 0.9038602125497502, 0.914772558366489, 0.9273514797632378, 0.8954638598591226, 0.8816676278908818, 0.8244854576561164, 0.9116874704084706, 0.8955791643340628, 0.8812361078953461, 0.9048346474953618, 0.8873090020321854, 0.7545523845901997, 0.6818901697312588, 0.8797563890076989, 0.8513917999207083, 0.8492299725145807, 0.8280027148975222, 0.8384660992602169, 0.362178437917223, 0.7883815074496057, 0.25825398037077424, 0.14137112652421974, 0.021395184703173514, 0.2879673040686719, 0.05160961657390231, 0.32063147321428576, 0.9934059973045822, 0.019956729111596384, 0.12995206264323914, 0.24538920853213586, 0.1893116456714018, 0.5074984712077459, 1.2766925946394034, 1.7958434000678658, 1.307941316526611, 0.5090385531135533, 0.8478023099349632, 0.4250000864752682, 0.764692760762476, 1.753775226039783, 3.476301293356849, 0.6455994164685541, 1.4172026984126984, 0.8250691514860977, 1.3493330762110458, 1.9398411196911196, 3.6031210415200565, 4.162616416732439, 0.9839353958143767, 2.313594224924012, 1.7977053036783577, 2.073794642857143, 2.650131138392857, 5.473693340494092, 6.358984737484737, 2.200748008497079, 2.471779089861751, 2.7929568911264946, 3.023370160213618, 3.22059418767507, 4.693551530612245, 7.570937788018434, 2.9460258132956154, 3.151547991071429, 3.1300373797187273, 3.4530570630486834, 2.421018087063152, 3.9268451581975072, 4.968292102206736, 5.92547102425876, 2.5635918862690708, 1.8343626585769444, 1.9841460511033682, 1.6694542857142858, 2.2562665505226485, 3.8725156412930137, 0.8803792756539237, 1.0602921075837743, 0.5488042757706332, 0.5136839974084872, 0.4867141266306078, 0.16293127076411956, 0.619628976286871, 0.33876304604486424, 0.29816077694235593, 0.3196456511175899, 0.38642890008764247, 0.4029128997867804, 0.3747073694252326, 0.1389648604269295, 0.6519049389272438, 0.5492776345195118, 0.6551102341489082, 0.646317010656954, 0.6868308647873865, 0.6470991107286288, 0.6050682182985553, 0.7768321995464852, 0.7570910257675979, 0.8107219786137394, 0.7997212047212047, 0.7945708441178926, 0.9506801048288167, 0.943184545220966, 0.9704634007880851, 0.9667654993612383, 0.9732066218344844, 0.969464095836498, 0.9723506408252578, 0.9729261279957157, 0.9550033934134401, 0.9778297609911194, 0.9741380291597391, 0.9854212357160881, 0.9769450746779158, 0.9794172985902591, 0.9757422643475995, 0.9708348605889724, 0.9827673423110741, 0.9856107075234746, 0.9836215473258269, 0.9865934439804147, 0.9862183382679497, 0.9809755472239069, 0.9806164541317903, 0.9862273380433481, 0.9874637952332509, 0.9867742535168078, 0.9878799220204433, 0.9894245103748429, 0.9852324470771915, 0.9815420421282213, 0.9801718355015722, 0.9908755000709321, 0.9894216308674058, 0.9911582261079952, 0.9915001189374918, 0.9886199161663078, 0.9862501254733768, 0.9909002627049551, 0.9893279977335505, 0.9931545782886219, 0.9924959286834831, 0.9918955464716007, 0.9910441004765059, 0.9841068768550149, 0.991680000586321, 0.9911938842000744, 0.9927730201171377, 0.9920487630627853, 0.9924528374640995, 0.9908628088205268, 0.9874810938082805, 0.9928141759888669, 0.9921139127114662, 0.9923268796616466, 0.9929760247992256, 0.9905031125101688, 0.35048031001256813, 0.051092327908986226, 0.21850028168178856, 0.236254433497537, 0.40081705237792126, 0.3196122799318499, 0.3144090235147228, 0.25825223214285714, 0.09497382076695554, 0.3520071090775089, 0.3692272591396885, 0.4705895805108134, 0.4234003579626189, 0.36803712189278226, 0.18888807009400024, 0.021287540791973102, 0.22598543743078628, 0.3255040853089716, 0.31091871241250124, 0.35609708573885274, 0.3921598301252319, 0.1545223093954564, 0.0029487552814889836, 0.3313674964790073, 0.4453187918403436, 0.4354605656435803, 0.46631693200461816, 0.43773744438398265, 0.21133970976253288, 0.05148036493454966, 0.3563343203230147, 0.4169183126066812, 0.5287311785573512, 0.5543760715616847, 0.5109983640081799, 0.4476736286225926, 0.28697365068880926, 0.4653185275596123, 0.5925563718221767, 0.61780071061882, 0.6657309512750756, 0.6172586800719224, 0.5670126539408866, 0.3772283677265078, 0.6887589022905831, 0.6459179968779898, 0.7333340475558421, 0.708873889912435, 0.6936005359593891, 0.6039516334983961, 0.6836716250839531, 0.6888724341252171, 0.7416928967520464, 0.7393581266653002, 0.6805005527360434, 0.618826299382531, 0.5833813937459189, 0.6896833608041287, 0.739041820991161, 0.7745748733953599, 0.8235676877698064, 0.8496614980822349, 0.8078196003949196, 0.7315047417953668, 0.6949151768576912, 0.791432629763623, 0.7850004154509092, 0.7918150715689026, 0.8623578170617052, 0.8505414265565183, 0.8153803913845273, 0.7096235251048971, 0.8164386470850022, 0.7931067616372393, 0.8103900299726018, 0.8252159637941556, 0.838407211809691, 0.7622196960034013, 0.6588634408930096, 0.822240110929231, 0.8519929934367225, 0.8560724515531307, 0.8852177542664217, 0.8659381120180264, 0.8205722128923911, 0.7771975457170356, 0.9056419497282608, 0.911311506289509, 0.9303784210526316, 0.940157238259371, 0.9438285881829579, 0.9161157621646832, 0.9063776637277549, 0.9325630448537683, 0.9366302087060883, 0.9460893477711063, 0.9437740985336212, 0.95079644780713, 0.9512304439369067, 0.9420555225779097, 0.9518880302763597, 0.9528654031868662, 0.9462277985441668, 0.9482634677266705, 0.9456676937144675, 0.9353804032540199, 0.8306059181351721, 0.8520011663877479, 0.891609631269313, 0.8828962658598635, 0.8906372398390131, 0.8853501500699279, 0.12415812280773582, 0.09592790538809674, 0.2771870276297856, 0.2805903689420522, 0.4523306691814667, 0.3144303822486218, 0.30067610583786486, 0.18052892338918636, 0.24377624291285688, 0.11266437923778344, 0.267942122217507, 0.33049880922979213, 0.17742062769577557, 0.01924373320239813, 0.33129110216856683, 0.8381482590443263, 0.02518078366559919, 0.05499331894499644, 0.0727109065993959, 0.053622757351640085, 0.10603718549210361]\n",
            "[-0.38704476190476195, -0.13261051212938013, -0.3808532948532949, -0.27603712035995503, -0.42445517549742906, -0.56783414470371, -0.5579649725274726, -0.4614152173913043, -0.2934914448669201, -0.5533371394230768, -0.588000554323725, -0.6571738929889298, -0.5938540983606557, -0.6156944157187176, 0.3246871319520174, 0.4509532967032967, 0.7743764241893076, -0.1305911107930146, 0.4558222674976031, -0.15266594587053572, -0.09523454491285567, 0.5484245179666959, 0.45892021056977705, -0.07463539347911484, 0.3197029878618114, 0.06833099017384732, 0.24178694429801442, 0.10942064364207221, -0.3041258152745635, -0.17683175709308122, -0.4480156875834446, -0.40190054249547924, -0.48863790970933835, -0.5326423625830154, -0.4880838879430429, -0.4780392464678179, -0.2952755404832556, -0.662413442989136, -0.46207895162595053, -0.5415209597352454, -0.5851665626949469, -0.6051668447927799, -0.5140496862687873, -0.39702743074416075, -0.5080192790663317, -0.6522329260651629, -0.6320608220086178, -0.6659091593097913, -0.7265831280788176, -0.6058198121263877, -0.5799954504094631, -0.6484501142421935, -0.641626552795031, -0.7065575333757151, -0.7204209569957601, -0.7566763310490248, -0.617163544106167, -0.6022599351175993, -0.6815496753246753, -0.6762947194719471, -0.7630852657004831, -0.7743150023009664, -0.7730617769551134, -0.5501228571428571, -0.5280065947242206, -0.667391212505281, -0.6543964003511853, -0.6727826267664173, -0.6867150815758059, -0.7005382274629137, -0.4109131820674527, -0.37619058507549363, -0.5844086226907824, -0.5558404744676453, -0.582003088671628, -0.6571748314517094, -0.6928554094142035, -0.26169091113610793, -0.2851078508256001, -0.4800063537837495, -0.511028085702366, -0.5713000444142543, -0.6004548564610777, -0.5802808671185573, -0.4511279903059363, -0.338990255460708, -0.5046235829531022, -0.5280871459939057, -0.5673114240519331, -0.5816300949467662, -0.5665634749145985, -0.2648045324900793, -0.009999791266594223, -0.18103608840796587, -0.29888644157994315, -0.39940065341820447, -0.3109598547215496, -0.3551178843364757, 0.054814028786409036, 0.30067473248634147, -0.023333620585022457, -0.3614396574983732, -0.4693304733766833, -0.5378562641427078, -0.5397804753897716, -0.24751522390126532, -0.1269145427888574, -0.3974134623381664, -0.2391255994679175, -0.4919204076623695, -0.5145961499810179, -0.4521167307328754, -0.3499815871065871, -0.21467163176959098, -0.36366207084156577, -0.3793979222810227, -0.34730881402725566, -0.3213574329689122, -0.38133295750337554, -0.1055410957390382, -0.25617105916083144, -0.3091429851663452, -0.41527281986823855, -0.3414826472502441, -0.17849071367677508, -0.2059082053093178, 0.07436154127202718, 0.48235062819916236, -0.3972428571428572, -0.4250995142345811, -0.3497285408090362, -0.357380593753152, -0.3083865610073817, -0.05165857967259449, 0.26724113782114334, -0.47322809714612807, -0.5365744212480037, -0.514010079063311, -0.5646780916340046, -0.5247518517425561, -0.4401879930485043, -0.21780278020299032, -0.46146158542312393, -0.49998966635854686, -0.3731887598933054, -0.3939649833002157, -0.4067809034100315, -0.5302511050747005, -0.3168684371184371, -0.5173184090332402, -0.5201311394768043, -0.5330760554737358, -0.49610655346878224, -0.5379191706949741, -0.3924483390007847, -0.38683474128827877, -0.5452877838684417, -0.5847183979974968, -0.6680002858776444, -0.7242794396961063, -0.5774658904857195, -0.521745047450655, -0.43564490100063874, -0.4956283012405815, -0.39757831462206267, -0.4371547689825039, -0.6255860476284641, -0.5425437648845477, -0.6373579263515279, -0.3284292364427786, -0.6457764030612245, -0.48560074091224825, -0.610666900322445, -0.5462048286286205, -0.588773849627957, -0.4728513880855986, -0.30961979245568855, -0.4601753435204928, -0.6292548202082655, -0.6049584127947296, -0.5344808468256806, -0.5410443879349414, -0.4378970774150368, -0.2815703830434369, -0.6284240487660997, -0.6098989471511148, -0.5608785220472898, -0.6840843433921256, -0.6912211283140651, -0.5145005506607929, -0.49007113938692887, -0.6590614849187936, -0.6627134659525632, -0.730294585500153, -0.6707740851381628, -0.6929059561128527, -0.6159289851075566, -0.5863850608850608, -0.8063444655603967, -0.7734928435890485, -0.7894721844293272, -0.8096183868762815, -0.7924734502284918, -0.7330396907982756, -0.6376428571428571, -0.8387499326569093, -0.8446100199013584, -0.8391543215405284, -0.856275150060024, -0.8750675153918397, -0.8190093115463175, -0.734159445866055, -0.8790683177457552, -0.9127163137004953, -0.8859878524124882, -0.9153929905361003, -0.8954588639439259, -0.8679154765781272, -0.8621707198679676, -0.9262488051948052, -0.9101790142983678, -0.8969955379815715, -0.9186295744375986, -0.9261682614800563, -0.8946201946258712, -0.8721396925858951, -0.9326206031559181, -0.9254055634851682, -0.9247847600275327, -0.9348695646284306, -0.9283918295007746, -0.9077215937803693, -0.8661708197090991, -0.9527683645045762, -0.9433188796829112, -0.9325128073916134, -0.9403372373579975, -0.9345701055648963, -0.9023397340858005, -0.8662488701120062, -0.9437827684937918, -0.9357605782238022, -0.9361262942225281, -0.9293335236710965, -0.9283792746659185, -0.8883003984651712, -0.8287351410469151, -0.9166129452809402, -0.9038602125497502, -0.914772558366489, -0.9273514797632378, -0.8954638598591226, -0.8816676278908818, -0.8244854576561164, -0.9116874704084706, -0.8955791643340628, -0.8812361078953461, -0.9048346474953618, -0.8873090020321854, -0.7545523845901997, -0.6818901697312588, -0.8797563890076989, -0.8513917999207083, -0.8492299725145807, -0.8280027148975222, -0.8384660992602169, 0.362178437917223, 0.7883815074496057, -0.25825398037077424, 0.14137112652421974, 0.021395184703173514, -0.2879673040686719, 0.05160961657390231, 0.32063147321428576, 0.9934059973045822, 0.019956729111596384, 0.12995206264323914, 0.24538920853213586, 0.1893116456714018, 0.5074984712077459, 1.2766925946394034, 1.7958434000678658, 1.307941316526611, 0.5090385531135533, 0.8478023099349632, 0.4250000864752682, 0.764692760762476, 1.753775226039783, 3.476301293356849, 0.6455994164685541, 1.4172026984126984, 0.8250691514860977, 1.3493330762110458, 1.9398411196911196, 3.6031210415200565, 4.162616416732439, 0.9839353958143767, 2.313594224924012, 1.7977053036783577, 2.073794642857143, 2.650131138392857, 5.473693340494092, 6.358984737484737, 2.200748008497079, 2.471779089861751, 2.7929568911264946, 3.023370160213618, 3.22059418767507, 4.693551530612245, 7.570937788018434, 2.9460258132956154, 3.151547991071429, 3.1300373797187273, 3.4530570630486834, 2.421018087063152, 3.9268451581975072, 4.968292102206736, 5.92547102425876, 2.5635918862690708, 1.8343626585769444, 1.9841460511033682, 1.6694542857142858, 2.2562665505226485, 3.8725156412930137, 0.8803792756539237, 1.0602921075837743, 0.5488042757706332, 0.5136839974084872, 0.4867141266306078, 0.16293127076411956, 0.619628976286871, -0.33876304604486424, -0.29816077694235593, -0.3196456511175899, -0.38642890008764247, -0.4029128997867804, -0.3747073694252326, -0.1389648604269295, -0.6519049389272438, -0.5492776345195118, -0.6551102341489082, -0.646317010656954, -0.6868308647873865, -0.6470991107286288, -0.6050682182985553, -0.7768321995464852, -0.7570910257675979, -0.8107219786137394, -0.7997212047212047, -0.7945708441178926, -0.9506801048288167, -0.943184545220966, -0.9704634007880851, -0.9667654993612383, -0.9732066218344844, -0.969464095836498, -0.9723506408252578, -0.9729261279957157, -0.9550033934134401, -0.9778297609911194, -0.9741380291597391, -0.9854212357160881, -0.9769450746779158, -0.9794172985902591, -0.9757422643475995, -0.9708348605889724, -0.9827673423110741, -0.9856107075234746, -0.9836215473258269, -0.9865934439804147, -0.9862183382679497, -0.9809755472239069, -0.9806164541317903, -0.9862273380433481, -0.9874637952332509, -0.9867742535168078, -0.9878799220204433, -0.9894245103748429, -0.9852324470771915, -0.9815420421282213, -0.9801718355015722, -0.9908755000709321, -0.9894216308674058, -0.9911582261079952, -0.9915001189374918, -0.9886199161663078, -0.9862501254733768, -0.9909002627049551, -0.9893279977335505, -0.9931545782886219, -0.9924959286834831, -0.9918955464716007, -0.9910441004765059, -0.9841068768550149, -0.991680000586321, -0.9911938842000744, -0.9927730201171377, -0.9920487630627853, -0.9924528374640995, -0.9908628088205268, -0.9874810938082805, -0.9928141759888669, -0.9921139127114662, -0.9923268796616466, -0.9929760247992256, -0.9905031125101688, -0.35048031001256813, -0.051092327908986226, -0.21850028168178856, -0.236254433497537, -0.40081705237792126, -0.3196122799318499, -0.3144090235147228, -0.25825223214285714, 0.09497382076695554, -0.3520071090775089, -0.3692272591396885, -0.4705895805108134, -0.4234003579626189, -0.36803712189278226, -0.18888807009400024, 0.021287540791973102, -0.22598543743078628, -0.3255040853089716, -0.31091871241250124, -0.35609708573885274, -0.3921598301252319, -0.1545223093954564, 0.0029487552814889836, -0.3313674964790073, -0.4453187918403436, -0.4354605656435803, -0.46631693200461816, -0.43773744438398265, -0.21133970976253288, -0.05148036493454966, -0.3563343203230147, -0.4169183126066812, -0.5287311785573512, -0.5543760715616847, -0.5109983640081799, -0.4476736286225926, -0.28697365068880926, -0.4653185275596123, -0.5925563718221767, -0.61780071061882, -0.6657309512750756, -0.6172586800719224, -0.5670126539408866, -0.3772283677265078, -0.6887589022905831, -0.6459179968779898, -0.7333340475558421, -0.708873889912435, -0.6936005359593891, -0.6039516334983961, -0.6836716250839531, -0.6888724341252171, -0.7416928967520464, -0.7393581266653002, -0.6805005527360434, -0.618826299382531, -0.5833813937459189, -0.6896833608041287, -0.739041820991161, -0.7745748733953599, -0.8235676877698064, -0.8496614980822349, -0.8078196003949196, -0.7315047417953668, -0.6949151768576912, -0.791432629763623, -0.7850004154509092, -0.7918150715689026, -0.8623578170617052, -0.8505414265565183, -0.8153803913845273, -0.7096235251048971, -0.8164386470850022, -0.7931067616372393, -0.8103900299726018, -0.8252159637941556, -0.838407211809691, -0.7622196960034013, -0.6588634408930096, -0.822240110929231, -0.8519929934367225, -0.8560724515531307, -0.8852177542664217, -0.8659381120180264, -0.8205722128923911, -0.7771975457170356, -0.9056419497282608, -0.911311506289509, -0.9303784210526316, -0.940157238259371, -0.9438285881829579, -0.9161157621646832, -0.9063776637277549, -0.9325630448537683, -0.9366302087060883, -0.9460893477711063, -0.9437740985336212, -0.95079644780713, -0.9512304439369067, -0.9420555225779097, -0.9518880302763597, -0.9528654031868662, -0.9462277985441668, -0.9482634677266705, -0.9456676937144675, -0.9353804032540199, -0.8306059181351721, -0.8520011663877479, -0.891609631269313, -0.8828962658598635, -0.8906372398390131, -0.8853501500699279, -0.12415812280773582, 0.09592790538809674, -0.2771870276297856, -0.2805903689420522, -0.4523306691814667, -0.3144303822486218, -0.30067610583786486, -0.18052892338918636, 0.24377624291285688, -0.11266437923778344, -0.267942122217507, -0.33049880922979213, -0.17742062769577557, -0.01924373320239813, 0.33129110216856683, 0.8381482590443263, 0.02518078366559919, -0.05499331894499644, -0.0727109065993959, 0.053622757351640085, -0.10603718549210361]\n"
          ]
        }
      ],
      "source": [
        "#error calculations\n",
        "#confirmed = merged_df_new['Actual']\n",
        "#projected = merged_df_new['Prediction']\n",
        "error = []\n",
        "rawerror = []\n",
        "\n",
        "for index, row in merged_df_new.iterrows():\n",
        "  rawerror.append(-1*(row['New Cases'] - row[\"Prediction\"]) / row['New Cases'])\n",
        "  error.append((abs(row['New Cases'] - row[\"Prediction\"])) / row['New Cases'])\n",
        "\n",
        "underpredictCount = 0\n",
        "overpredictCount = 0\n",
        "for x in rawerror:\n",
        "  if x < 0:\n",
        "    underpredictCount += 1\n",
        "  elif x > 0:\n",
        "    overpredictCount += 1\n",
        "\n",
        "underpredictPerecentage = underpredictCount / len(rawerror)\n",
        "overpredictPercentage = 1 - underpredictPerecentage\n",
        "\n",
        "print(underpredictCount)\n",
        "print(underpredictPerecentage)\n",
        "print(overpredictCount)\n",
        "print(overpredictPercentage)\n",
        "print(len(error))\n",
        "\n",
        "print(error)\n",
        "print(rawerror)"
      ]
    },
    {
      "cell_type": "code",
      "execution_count": 30,
      "id": "a0526cb0",
      "metadata": {
        "id": "a0526cb0",
        "colab": {
          "base_uri": "https://localhost:8080/"
        },
        "outputId": "10d00801-849f-4d19-eeac-3932af1c06f6"
      },
      "outputs": [
        {
          "output_type": "stream",
          "name": "stdout",
          "text": [
            "[0.6129552380952381, 0.8673894878706199, 0.6191467051467051, 0.723962879640045, 0.5755448245025709, 0.43216585529629004, 0.44203502747252743, 0.5385847826086957, 0.7065085551330799, 0.44666286057692317, 0.411999445676275, 0.3428261070110702, 0.4061459016393443, 0.38430558428128236, 0.6753128680479825, 0.5490467032967032, 0.22562357581069237, 0.8694088892069853, 0.5441777325023969, 0.8473340541294643, 0.9047654550871443, 0.4515754820333041, 0.541079789430223, 0.9253646065208851, 0.6802970121381886, 0.9316690098261526, 0.7582130557019856, 0.8905793563579278, 0.6958741847254365, 0.8231682429069188, 0.5519843124165553, 0.5980994575045208, 0.5113620902906617, 0.46735763741698455, 0.5119161120569571, 0.5219607535321821, 0.7047244595167443, 0.33758655701086404, 0.5379210483740495, 0.4584790402647546, 0.41483343730505307, 0.39483315520722007, 0.48595031373121267, 0.6029725692558392, 0.4919807209336683, 0.3477670739348371, 0.3679391779913822, 0.33409084069020867, 0.27341687192118236, 0.3941801878736123, 0.4200045495905369, 0.35154988575780655, 0.358373447204969, 0.29344246662428486, 0.27957904300423986, 0.24332366895097524, 0.38283645589383297, 0.39774006488240066, 0.31845032467532475, 0.3237052805280529, 0.23691473429951693, 0.2256849976990336, 0.22693822304488664, 0.44987714285714286, 0.4719934052757794, 0.332608787494719, 0.3456035996488147, 0.3272173732335827, 0.31328491842419415, 0.2994617725370863, 0.5890868179325472, 0.6238094149245064, 0.4155913773092176, 0.4441595255323547, 0.417996911328372, 0.3428251685482906, 0.30714459058579646, 0.7383090888638921, 0.7148921491743999, 0.5199936462162504, 0.488971914297634, 0.4286999555857457, 0.39954514353892234, 0.4197191328814427, 0.5488720096940637, 0.661009744539292, 0.49537641704689783, 0.4719128540060943, 0.43268857594806687, 0.4183699050532338, 0.43343652508540154, 0.7351954675099207, 0.9900002087334058, 0.8189639115920342, 0.7011135584200568, 0.6005993465817956, 0.6890401452784505, 0.6448821156635243, 0.9451859712135909, 0.6993252675136585, 0.9766663794149776, 0.6385603425016269, 0.5306695266233167, 0.4621437358572922, 0.4602195246102284, 0.7524847760987347, 0.8730854572111426, 0.6025865376618336, 0.7608744005320824, 0.5080795923376304, 0.4854038500189821, 0.5478832692671246, 0.6500184128934129, 0.7853283682304091, 0.6363379291584342, 0.6206020777189774, 0.6526911859727443, 0.6786425670310878, 0.6186670424966245, 0.8944589042609619, 0.7438289408391685, 0.6908570148336548, 0.5847271801317615, 0.6585173527497559, 0.821509286323225, 0.7940917946906823, 0.9256384587279728, 0.5176493718008377, 0.6027571428571428, 0.574900485765419, 0.6502714591909637, 0.642619406246848, 0.6916134389926183, 0.9483414203274055, 0.7327588621788567, 0.526771902853872, 0.4634255787519963, 0.485989920936689, 0.4353219083659954, 0.4752481482574439, 0.5598120069514957, 0.7821972197970097, 0.5385384145768761, 0.5000103336414532, 0.6268112401066945, 0.6060350166997843, 0.5932190965899685, 0.4697488949252995, 0.6831315628815628, 0.4826815909667598, 0.47986886052319566, 0.4669239445262642, 0.5038934465312177, 0.4620808293050259, 0.6075516609992153, 0.6131652587117212, 0.4547122161315583, 0.4152816020025032, 0.3319997141223556, 0.2757205603038937, 0.4225341095142805, 0.478254952549345, 0.5643550989993613, 0.5043716987594185, 0.6024216853779374, 0.5628452310174961, 0.37441395237153585, 0.4574562351154523, 0.3626420736484721, 0.6715707635572215, 0.3542235969387755, 0.5143992590877517, 0.38933309967755503, 0.4537951713713795, 0.411226150372043, 0.5271486119144013, 0.6903802075443115, 0.5398246564795073, 0.3707451797917345, 0.3950415872052704, 0.46551915317431936, 0.45895561206505864, 0.5621029225849632, 0.7184296169565632, 0.3715759512339003, 0.3901010528488852, 0.43912147795271017, 0.31591565660787435, 0.3087788716859349, 0.4854994493392071, 0.5099288606130712, 0.34093851508120643, 0.3372865340474368, 0.269705414499847, 0.32922591486183717, 0.30709404388714734, 0.38407101489244344, 0.4136149391149392, 0.19365553443960326, 0.22650715641095154, 0.2105278155706728, 0.19038161312371848, 0.2075265497715082, 0.2669603092017244, 0.36235714285714293, 0.16125006734309066, 0.15538998009864158, 0.16084567845947162, 0.14372484993997603, 0.12493248460816031, 0.1809906884536825, 0.26584055413394503, 0.12093168225424478, 0.08728368629950467, 0.11401214758751177, 0.08460700946389965, 0.10454113605607407, 0.13208452342187282, 0.13782928013203244, 0.07375119480519476, 0.08982098570163222, 0.1030044620184285, 0.08137042556240137, 0.07383173851994373, 0.10537980537412883, 0.12786030741410492, 0.0673793968440819, 0.07459443651483177, 0.07521523997246726, 0.06513043537156937, 0.07160817049922541, 0.09227840621963068, 0.13382918029090085, 0.04723163549542375, 0.05668112031708883, 0.06748719260838665, 0.05966276264200254, 0.06542989443510372, 0.09766026591419952, 0.13375112988799376, 0.056217231506208165, 0.06423942177619779, 0.06387370577747187, 0.07066647632890355, 0.07162072533408148, 0.11169960153482883, 0.17126485895308485, 0.08338705471905983, 0.09613978745024976, 0.08522744163351104, 0.07264852023676216, 0.10453614014087742, 0.11833237210911818, 0.17551454234388364, 0.08831252959152935, 0.10442083566593718, 0.11876389210465388, 0.0951653525046382, 0.11269099796781457, 0.2454476154098003, 0.3181098302687412, 0.12024361099230108, 0.14860820007929165, 0.15077002748541934, 0.1719972851024778, 0.16153390073978313, 0.637821562082777, 0.21161849255039433, 0.7417460196292258, 0.8586288734757803, 0.9786048152968265, 0.7120326959313281, 0.9483903834260977, 0.6793685267857142, 0.006594002695417767, 0.9800432708884036, 0.8700479373567609, 0.7546107914678641, 0.8106883543285982, 0.49250152879225406, -0.27669259463940343, -0.7958434000678658, -0.30794131652661094, 0.4909614468864467, 0.1521976900650368, 0.5749999135247318, 0.23530723923752395, -0.753775226039783, -2.476301293356849, 0.3544005835314459, -0.4172026984126984, 0.17493084851390228, -0.3493330762110458, -0.9398411196911196, -2.6031210415200565, -3.1626164167324387, 0.016064604185623277, -1.313594224924012, -0.7977053036783577, -1.073794642857143, -1.6501311383928572, -4.473693340494092, -5.358984737484737, -1.200748008497079, -1.471779089861751, -1.7929568911264946, -2.023370160213618, -2.22059418767507, -3.693551530612245, -6.570937788018434, -1.9460258132956154, -2.151547991071429, -2.1300373797187273, -2.4530570630486834, -1.421018087063152, -2.9268451581975072, -3.9682921022067363, -4.92547102425876, -1.5635918862690708, -0.8343626585769444, -0.9841460511033682, -0.6694542857142858, -1.2562665505226485, -2.8725156412930137, 0.11962072434607629, -0.060292107583774346, 0.4511957242293668, 0.48631600259151275, 0.5132858733693921, 0.8370687292358805, 0.38037102371312903, 0.6612369539551357, 0.701839223057644, 0.6803543488824101, 0.6135710999123576, 0.5970871002132196, 0.6252926305747675, 0.8610351395730705, 0.34809506107275623, 0.45072236548048816, 0.34488976585109177, 0.353682989343046, 0.31316913521261347, 0.3529008892713712, 0.3949317817014447, 0.2231678004535148, 0.2429089742324021, 0.1892780213862606, 0.20027879527879533, 0.20542915588210742, 0.04931989517118329, 0.05681545477903405, 0.02953659921191487, 0.033234500638761655, 0.026793378165515636, 0.030535904163502048, 0.027649359174742205, 0.02707387200428435, 0.044996606586559906, 0.0221702390088806, 0.025861970840260873, 0.014578764283911916, 0.023054925322084197, 0.020582701409740944, 0.024257735652400525, 0.029165139411027607, 0.0172326576889259, 0.014389292476525428, 0.01637845267417315, 0.013406556019585292, 0.01378166173205031, 0.019024452776093104, 0.019383545868209673, 0.013772661956651944, 0.012536204766749104, 0.013225746483192191, 0.01212007797955672, 0.010575489625157086, 0.014767552922808513, 0.01845795787177873, 0.019828164498427836, 0.009124499929067942, 0.010578369132594245, 0.0088417738920048, 0.008499881062508208, 0.011380083833692156, 0.01374987452662324, 0.009099737295044874, 0.010672002266449487, 0.006845421711378141, 0.007504071316516869, 0.00810445352839928, 0.00895589952349407, 0.015893123144985144, 0.008319999413679002, 0.008806115799925629, 0.00722697988286225, 0.007951236937214667, 0.007547162535900487, 0.009137191179473203, 0.01251890619171947, 0.007185824011133102, 0.007886087288533794, 0.007673120338353434, 0.007023975200774357, 0.00949688748983124, 0.6495196899874318, 0.9489076720910138, 0.7814997183182114, 0.7637455665024631, 0.5991829476220787, 0.6803877200681501, 0.6855909764852772, 0.7417477678571429, 0.9050261792330445, 0.6479928909224911, 0.6307727408603114, 0.5294104194891867, 0.5765996420373811, 0.6319628781072177, 0.8111119299059998, 0.9787124592080269, 0.7740145625692137, 0.6744959146910283, 0.6890812875874988, 0.6439029142611472, 0.6078401698747681, 0.8454776906045436, 0.997051244718511, 0.6686325035209927, 0.5546812081596564, 0.5645394343564196, 0.5336830679953819, 0.5622625556160173, 0.7886602902374671, 0.9485196350654503, 0.6436656796769853, 0.5830816873933188, 0.4712688214426488, 0.44562392843831533, 0.4890016359918201, 0.5523263713774074, 0.7130263493111908, 0.5346814724403877, 0.4074436281778233, 0.38219928938118, 0.33426904872492436, 0.3827413199280776, 0.4329873460591134, 0.6227716322734922, 0.3112410977094169, 0.3540820031220102, 0.2666659524441579, 0.29112611008756495, 0.3063994640406109, 0.3960483665016039, 0.31632837491604693, 0.31112756587478285, 0.2583071032479536, 0.2606418733346998, 0.3194994472639566, 0.381173700617469, 0.4166186062540811, 0.31031663919587127, 0.260958179008839, 0.2254251266046401, 0.17643231223019362, 0.1503385019177651, 0.19218039960508038, 0.26849525820463316, 0.3050848231423088, 0.20856737023637695, 0.21499958454909085, 0.20818492843109737, 0.13764218293829478, 0.14945857344348168, 0.18461960861547266, 0.2903764748951029, 0.18356135291499776, 0.20689323836276075, 0.1896099700273982, 0.17478403620584437, 0.16159278819030898, 0.23778030399659866, 0.34113655910699037, 0.177759889070769, 0.14800700656327748, 0.14392754844686928, 0.11478224573357831, 0.1340618879819736, 0.17942778710760887, 0.2228024542829644, 0.09435805027173916, 0.08868849371049103, 0.06962157894736842, 0.05984276174062897, 0.056171411817042105, 0.08388423783531684, 0.09362233627224514, 0.06743695514623171, 0.06336979129391174, 0.053910652228893685, 0.05622590146637885, 0.04920355219286998, 0.0487695560630933, 0.0579444774220903, 0.04811196972364029, 0.04713459681313381, 0.05377220145583317, 0.05173653227332953, 0.05433230628553254, 0.06461959674598006, 0.16939408186482785, 0.14799883361225208, 0.10839036873068697, 0.11710373414013653, 0.1093627601609869, 0.1146498499300721, 0.8758418771922641, 0.9040720946119033, 0.7228129723702144, 0.7194096310579479, 0.5476693308185333, 0.6855696177513781, 0.6993238941621351, 0.8194710766108136, 0.7562237570871431, 0.8873356207622165, 0.732057877782493, 0.6695011907702079, 0.8225793723042244, 0.9807562667976019, 0.6687088978314332, 0.16185174095567367, 0.9748192163344008, 0.9450066810550035, 0.9272890934006041, 0.9463772426483599, 0.8939628145078964]\n"
          ]
        }
      ],
      "source": [
        "#accuracy calculations\n",
        "accuracy = []\n",
        "\n",
        "for i in error:\n",
        "  accuracy.append(1 - i)\n",
        "\n",
        "print(accuracy)"
      ]
    },
    {
      "cell_type": "code",
      "execution_count": null,
      "id": "a8012f5e",
      "metadata": {
        "id": "a8012f5e"
      },
      "outputs": [],
      "source": [
        "#Create Error and Accuracy Column and insert list data\n",
        "merged_df_new['Error'] = error\n",
        "merged_df_new['Accuracy'] = accuracy\n",
        "merged_df_new['RawError'] = rawerror\n",
        "\n",
        "print(merged_df_new)"
      ]
    },
    {
      "cell_type": "code",
      "execution_count": 32,
      "id": "6a1f3c40",
      "metadata": {
        "id": "6a1f3c40",
        "colab": {
          "base_uri": "https://localhost:8080/",
          "height": 313
        },
        "outputId": "9bb3442f-fb73-4434-f172-5521485916a7"
      },
      "outputs": [
        {
          "output_type": "execute_result",
          "data": {
            "text/plain": [
              "<matplotlib.legend.Legend at 0x7fd038ee2510>"
            ]
          },
          "metadata": {},
          "execution_count": 32
        },
        {
          "output_type": "display_data",
          "data": {
            "text/plain": [
              "<Figure size 432x288 with 1 Axes>"
            ],
            "image/png": "[encoded data removed]"
          },
          "metadata": {
            "needs_background": "light"
          }
        }
      ],
      "source": [
        "from IPython.core.pylabtools import figsize\n",
        "#Create plot of Error\n",
        "\n",
        "#Error Line\n",
        "plt.plot(merged_df_new['Date'], merged_df_new['Error'], color='g', label='Error')\n",
        "\n",
        "\n",
        "#Create XY Labels and Title\n",
        "plt.xlabel('Date (Year/Month/Day)') \n",
        "plt.ylabel('Percentage') \n",
        "plt.title(\"Predicted Daily COVID-19 Case Error in PA\")\n",
        "#Display Plot\n",
        "plt.legend()"
      ]
    },
    {
      "cell_type": "code",
      "execution_count": 33,
      "id": "0480ef44",
      "metadata": {
        "id": "0480ef44",
        "colab": {
          "base_uri": "https://localhost:8080/",
          "height": 295
        },
        "outputId": "cccf6e2a-b585-4933-f716-557ef6de6428"
      },
      "outputs": [
        {
          "output_type": "display_data",
          "data": {
            "text/plain": [
              "<Figure size 432x288 with 1 Axes>"
            ],
            "image/png": "[encoded data removed]"
          },
          "metadata": {
            "needs_background": "light"
          }
        }
      ],
      "source": [
        "#Create plot of Raw Error\n",
        "\n",
        "#Raw Error Line\n",
        "plt.plot(merged_df_new['Date'], merged_df_new['RawError'], color='g', label='Raw Error')\n",
        "plt.axhline(y=0.0, color='r', linestyle='-')\n",
        "\n",
        "#Create XY Labels and Title\n",
        "plt.xlabel('Date (Year/Month/Day)') \n",
        "plt.ylabel('Percentage') \n",
        "plt.title(\"Predicted Daily COVID-19 Case Raw Error in PA\")\n",
        "#Display Plot\n",
        "plt.legend()\n",
        "plt.show()"
      ]
    },
    {
      "cell_type": "code",
      "execution_count": 34,
      "id": "cb557ed1",
      "metadata": {
        "id": "cb557ed1",
        "colab": {
          "base_uri": "https://localhost:8080/",
          "height": 295
        },
        "outputId": "71a4317e-d315-4b29-e07d-31c1d5a0e610"
      },
      "outputs": [
        {
          "output_type": "display_data",
          "data": {
            "text/plain": [
              "<Figure size 432x288 with 1 Axes>"
            ],
            "image/png": "[encoded data removed]"
          },
          "metadata": {
            "needs_background": "light"
          }
        }
      ],
      "source": [
        "#Create plot of Accuracy\n",
        "\n",
        "#Accuracy Line\n",
        "plt.plot(merged_df_new['Date'], merged_df_new['Accuracy'], color='r', label='Daily Accuracy')\n",
        "\n",
        "#Create XY Labels and Title\n",
        "plt.xlabel('Date (Year/Month/Day)') \n",
        "plt.ylabel('Percentage') \n",
        "plt.title(\"Predicted Daily COVID-19 Case Accuracy in PA\")\n",
        "\n",
        "#Display Plot\n",
        "plt.legend()\n",
        "plt.show()"
      ]
    },
    {
      "cell_type": "code",
      "execution_count": 35,
      "id": "4d6b0409",
      "metadata": {
        "id": "4d6b0409"
      },
      "outputs": [],
      "source": [
        "#Calculate Weekly Accuracy Averages\n",
        "weeklyAccuracy = 0\n",
        "averageWeeklyAccuracy = []\n",
        "length = len(accuracy) #   =245\n",
        "amountOfWeeks = int(length / 7) #   =35\n",
        "remainderDays = length % 7 #  \n",
        "\n",
        "i = 0\n",
        "while i < length:\n",
        "  weeklyAccuracy += accuracy[i]\n",
        "  if (i + 1) % 7 == 0 and amountOfWeeks > 0:\n",
        "    averageWeeklyAccuracy.append(weeklyAccuracy / 7)\n",
        "    amountOfWeeks -= 1\n",
        "    weeklyAccuracy = 0\n",
        "  if remainderDays > 0:\n",
        "    if (i + 1) % remainderDays == 0 and amountOfWeeks == 0:\n",
        "      averageWeeklyAccuracy.append(weeklyAccuracy / remainderDays)\n",
        "      weeklyAccuracy = 0\n",
        "  i += 1\n",
        "\n",
        "weeklyDateList = []\n",
        "i = 0\n",
        "weeklyDateList.append(merged_df_new['Date'][i])\n",
        "while i < length:\n",
        "  if (i + 1) % 7 == 0:\n",
        "    weeklyDateList.append(merged_df_new['Date'][i])\n",
        "  i += 1"
      ]
    },
    {
      "cell_type": "code",
      "source": [
        "len(weeklyDateList)"
      ],
      "metadata": {
        "colab": {
          "base_uri": "https://localhost:8080/"
        },
        "id": "WJ-5HSFnNqoZ",
        "outputId": "64c2ce38-629b-47a0-c458-b5dbbd5543a0"
      },
      "id": "WJ-5HSFnNqoZ",
      "execution_count": 36,
      "outputs": [
        {
          "output_type": "execute_result",
          "data": {
            "text/plain": [
              "78"
            ]
          },
          "metadata": {},
          "execution_count": 36
        }
      ]
    },
    {
      "cell_type": "code",
      "source": [
        "#del averageWeeklyAccuracy[-1:]\n",
        "#len(averageWeeklyAccuracy)"
      ],
      "metadata": {
        "id": "P90LPnPNNFv2"
      },
      "id": "P90LPnPNNFv2",
      "execution_count": 37,
      "outputs": []
    },
    {
      "cell_type": "code",
      "execution_count": 38,
      "id": "04c4449c",
      "metadata": {
        "id": "04c4449c"
      },
      "outputs": [],
      "source": [
        "#Create Dataframe for Weekly Accuracy\n",
        "i = 0\n",
        "data = []\n",
        "while i < len(averageWeeklyAccuracy):\n",
        "  data.append([weeklyDateList[i], averageWeeklyAccuracy[i]])\n",
        "  i += 1\n",
        "\n",
        "df = pd.DataFrame(data, columns = ['Week Of', 'Average Weekly Accuracy'])"
      ]
    },
    {
      "cell_type": "code",
      "execution_count": 39,
      "id": "6132cdfa",
      "metadata": {
        "id": "6132cdfa",
        "colab": {
          "base_uri": "https://localhost:8080/",
          "height": 295
        },
        "outputId": "07ee634c-a25b-42c8-daa3-c48a46b652c7"
      },
      "outputs": [
        {
          "output_type": "display_data",
          "data": {
            "text/plain": [
              "<Figure size 432x288 with 1 Axes>"
            ],
            "image/png": "[encoded data removed]"
          },
          "metadata": {
            "needs_background": "light"
          }
        }
      ],
      "source": [
        "#Create plot of Weekly Accuracy\n",
        "\n",
        "#Accuracy Line\n",
        "plt.plot(df['Week Of'], df['Average Weekly Accuracy'], color='r', label='Weekly Accuracy')\n",
        "\n",
        "#Create XY Labels and Title\n",
        "plt.xlabel('Week Of (Year/Month/Day)') \n",
        "plt.ylabel('Average Weekly Accuracy Percentage') \n",
        "plt.title(\"Predicted Daily COVID-19 Case Weekly Accuracy in PA\")\n",
        "\n",
        "#Display Plot\n",
        "plt.legend()\n",
        "plt.show()"
      ]
    },
    {
      "cell_type": "code",
      "execution_count": 40,
      "id": "5917fad0",
      "metadata": {
        "id": "5917fad0"
      },
      "outputs": [],
      "source": [
        "#Create Running Weekly Average\n",
        "runningweeklyAccuracy = 0\n",
        "runningAverageWeeklyAccuracy = []\n",
        "length = len(accuracy)\n",
        "\n",
        "i = 1\n",
        "j = 8\n",
        "#Add first week average\n",
        "runningAverageWeeklyAccuracy.append(averageWeeklyAccuracy[0])\n",
        "\n",
        "while j < length:\n",
        "  temp_i = i\n",
        "  temp_j = j\n",
        "  while temp_i < temp_j:\n",
        "    runningweeklyAccuracy += accuracy[temp_i]\n",
        "    temp_i += 1\n",
        "  runningAverageWeeklyAccuracy.append(runningweeklyAccuracy / 7)\n",
        "  runningweeklyAccuracy = 0\n",
        "\n",
        "  i += 1\n",
        "  j += 1"
      ]
    },
    {
      "cell_type": "code",
      "execution_count": 41,
      "id": "5b231780",
      "metadata": {
        "id": "5b231780"
      },
      "outputs": [],
      "source": [
        "#Create Dataframe for Running Weekly Accuracy\n",
        "i = 0\n",
        "data = []\n",
        "while i < len(runningAverageWeeklyAccuracy):\n",
        "  data.append([merged_df_new['Date'][i], runningAverageWeeklyAccuracy[i]])\n",
        "  i += 1\n",
        "\n",
        "df = pd.DataFrame(data, columns = ['Date', 'Running Weekly Average Accuracy'])"
      ]
    },
    {
      "cell_type": "code",
      "execution_count": 42,
      "id": "85337528",
      "metadata": {
        "id": "85337528",
        "colab": {
          "base_uri": "https://localhost:8080/",
          "height": 295
        },
        "outputId": "bdd2a3c0-d3ba-4869-ee1f-b730624100b0"
      },
      "outputs": [
        {
          "output_type": "display_data",
          "data": {
            "text/plain": [
              "<Figure size 432x288 with 1 Axes>"
            ],
            "image/png": "[encoded data removed]"
          },
          "metadata": {
            "needs_background": "light"
          }
        }
      ],
      "source": [
        "#Create plot of Running Weekly Accuracy\n",
        "\n",
        "#Accuracy Line\n",
        "plt.plot(df['Date'], df['Running Weekly Average Accuracy'], color='r', label='Running Weekly Accuracy')\n",
        "\n",
        "#Create XY Labels and Title\n",
        "plt.xlabel('Date') \n",
        "plt.ylabel('Accuracy Percentage') \n",
        "plt.title(\"Predicted Daily COVID-19 Case Running Weekly Accuracy in PA\")\n",
        "\n",
        "#Display Plot\n",
        "plt.legend()\n",
        "plt.show()"
      ]
    },
    {
      "cell_type": "code",
      "execution_count": 43,
      "id": "b8764ff7",
      "metadata": {
        "id": "b8764ff7",
        "colab": {
          "base_uri": "https://localhost:8080/",
          "height": 295
        },
        "outputId": "ad2e85a0-5626-4150-bec8-8299c8719bc6"
      },
      "outputs": [
        {
          "output_type": "display_data",
          "data": {
            "text/plain": [
              "<Figure size 432x288 with 1 Axes>"
            ],
            "image/png": "[encoded data removed]"
          },
          "metadata": {
            "needs_background": "light"
          }
        }
      ],
      "source": [
        "#Plot with combined daily accuracy and running weekly accuracy\n",
        "\n",
        "#Daily Accuracy\n",
        "plt.plot(merged_df_new['Date'], merged_df_new['Accuracy'], color='r', label='Daily Accuracy')\n",
        "\n",
        "#Running Accuracy Line\n",
        "plt.plot(df['Date'], df['Running Weekly Average Accuracy'], color='b', label='Running Weekly Accuracy')\n",
        "\n",
        "#Create XY Labels and Title\n",
        "plt.xlabel('Date') \n",
        "plt.ylabel('Accuracy Percentage') \n",
        "plt.title(\"Predicted Daily COVID-19 Case Accuracy in PA\")\n",
        "\n",
        "#Display Plot\n",
        "plt.legend()\n",
        "plt.show()"
      ]
    },
    {
      "cell_type": "code",
      "execution_count": null,
      "id": "4243a737",
      "metadata": {
        "id": "4243a737"
      },
      "outputs": [],
      "source": [
        "#merged_df_new.to_csv('DDS_everyday_predictions.csv')"
      ]
    },
    {
      "cell_type": "code",
      "execution_count": 44,
      "id": "b8d57b22",
      "metadata": {
        "id": "b8d57b22"
      },
      "outputs": [],
      "source": [
        "#Calculate Monthly Accuracy Averages\n",
        "#We are going to use an average of 30 days per month for these calculations\n",
        "\n",
        "monthlyAccuracy = 0\n",
        "averageMonthlyAccuracy = []\n",
        "amountOfMonths = int(length / 30)\n",
        "remainderDays = length % 30\n",
        "\n",
        "i = 0\n",
        "while i < length:\n",
        "  monthlyAccuracy += accuracy[i]\n",
        "  if (i + 1) % 30 == 0 and amountOfMonths > 0:\n",
        "    averageMonthlyAccuracy.append(monthlyAccuracy / 30)\n",
        "    amountOfMonths -= 1\n",
        "    monthlyAccuracy = 0\n",
        "  if (i + 1) % remainderDays == 0 and remainderDays > 0 and amountOfMonths == 0:\n",
        "    averageMonthlyAccuracy.append(monthlyAccuracy / remainderDays)\n",
        "    monthlyAccuracy = 0\n",
        "  i += 1\n",
        "\n",
        "weeklyDateListForMonths = []\n",
        "i = 0\n",
        "weeklyDateListForMonths.append(merged_df_new['Date'][i])\n",
        "while i < length:\n",
        "  if (i + 1) % 30 == 0:\n",
        "    weeklyDateListForMonths.append(merged_df_new['Date'][i])\n",
        "  i += 1\n"
      ]
    },
    {
      "cell_type": "code",
      "execution_count": 45,
      "id": "c9d81c9a",
      "metadata": {
        "id": "c9d81c9a",
        "colab": {
          "base_uri": "https://localhost:8080/"
        },
        "outputId": "a0a5f82b-4c08-4b11-bbe3-c42dccd0046e"
      },
      "outputs": [
        {
          "output_type": "execute_result",
          "data": {
            "text/plain": [
              "18"
            ]
          },
          "metadata": {},
          "execution_count": 45
        }
      ],
      "source": [
        "#del averageMonthlyAccuracy[-1:]\n",
        "len(averageMonthlyAccuracy)"
      ]
    },
    {
      "cell_type": "code",
      "execution_count": 46,
      "id": "d2d88cd5",
      "metadata": {
        "id": "d2d88cd5"
      },
      "outputs": [],
      "source": [
        "#Create Dataframe for Monthly Accuracy\n",
        "i = 0\n",
        "data = []\n",
        "while i < len(averageMonthlyAccuracy):\n",
        "  data.append([weeklyDateListForMonths[i], averageMonthlyAccuracy[i]])\n",
        "  i += 1\n",
        "\n",
        "df = pd.DataFrame(data, columns = ['Month Of', 'Average Monthly Accuracy'])"
      ]
    },
    {
      "cell_type": "code",
      "execution_count": 47,
      "id": "bbf2b69a",
      "metadata": {
        "id": "bbf2b69a",
        "colab": {
          "base_uri": "https://localhost:8080/",
          "height": 295
        },
        "outputId": "84f8bd61-f844-48e8-c16c-9d9e883128f2"
      },
      "outputs": [
        {
          "output_type": "display_data",
          "data": {
            "text/plain": [
              "<Figure size 432x288 with 1 Axes>"
            ],
            "image/png": "[encoded data removed]"
          },
          "metadata": {
            "needs_background": "light"
          }
        }
      ],
      "source": [
        "#Create plot of Monthly Accuracy\n",
        "\n",
        "#Accuracy Line\n",
        "plt.plot(df['Month Of'], df['Average Monthly Accuracy'], color='r', label='Monthly Accuracy')\n",
        "\n",
        "#Create XY Labels and Title\n",
        "plt.xlabel('Month Of (Year/Month/Day)') \n",
        "plt.ylabel('Average Monthly Accuracy Percentage') \n",
        "plt.title(\"Predicted Daily COVID-19 Case Monthly Accuracy in PA\")\n",
        "\n",
        "#Display Plot\n",
        "plt.legend()\n",
        "plt.show()"
      ]
    },
    {
      "cell_type": "code",
      "source": [
        "#Calculate Running Monthly Accuracy\n",
        "\n",
        "runningmonthlyAccuracy = 0\n",
        "runningAveragemonthlyAccuracy = []\n",
        "length = len(accuracy)\n",
        "\n",
        "i = 1\n",
        "j = 31\n",
        "#Add first week average\n",
        "runningAveragemonthlyAccuracy.append(averageMonthlyAccuracy[0])\n",
        "\n",
        "while j < length:\n",
        "  temp_i = i\n",
        "  temp_j = j\n",
        "  while temp_i < temp_j:\n",
        "    runningmonthlyAccuracy += accuracy[temp_i]\n",
        "    temp_i += 1\n",
        "  runningAveragemonthlyAccuracy.append(runningmonthlyAccuracy / 30)\n",
        "  runningmonthlyAccuracy = 0\n",
        "\n",
        "  i += 1\n",
        "  j += 1"
      ],
      "metadata": {
        "id": "X02LeClcSWTa"
      },
      "id": "X02LeClcSWTa",
      "execution_count": 48,
      "outputs": []
    },
    {
      "cell_type": "code",
      "source": [
        "#Create Dataframe for Running Monthly Accuracy\n",
        "i = 0\n",
        "data = []\n",
        "while i < len(runningAveragemonthlyAccuracy):\n",
        "  data.append([merged_df_new['Date'][i], runningAveragemonthlyAccuracy[i]])\n",
        "  i += 1\n",
        "\n",
        "df = pd.DataFrame(data, columns = ['Date', 'Running Monthly Average Accuracy'])"
      ],
      "metadata": {
        "id": "0IAKKnIZSc7e"
      },
      "id": "0IAKKnIZSc7e",
      "execution_count": 49,
      "outputs": []
    },
    {
      "cell_type": "code",
      "source": [
        "#Create plot of Running Monthly Accuracy\n",
        "\n",
        "#Accuracy Line\n",
        "plt.plot(df['Date'], df['Running Monthly Average Accuracy'], color='r', label='Running Monthly Accuracy')\n",
        "\n",
        "#Create XY Labels and Title\n",
        "plt.xlabel('Date') \n",
        "plt.ylabel('Accuracy Percentage') \n",
        "plt.title(\"Predicted Daily COVID-19 Case Running Monthly Accuracy in PA\")\n",
        "\n",
        "#Display Plot\n",
        "plt.legend()\n",
        "plt.show()"
      ],
      "metadata": {
        "colab": {
          "base_uri": "https://localhost:8080/",
          "height": 295
        },
        "id": "qhK2tbJaSkPW",
        "outputId": "fa908c7b-e9a4-4068-e22f-d49c7eb15225"
      },
      "id": "qhK2tbJaSkPW",
      "execution_count": 50,
      "outputs": [
        {
          "output_type": "display_data",
          "data": {
            "text/plain": [
              "<Figure size 432x288 with 1 Axes>"
            ],
            "image/png": "[encoded data removed]"
          },
          "metadata": {
            "needs_background": "light"
          }
        }
      ]
    },
    {
      "cell_type": "code",
      "source": [
        "#Calculate Yearly Accuracy Averages\n",
        "#We are going to use an average of 365 days per year for these calculations\n",
        "\n",
        "yearlyAccuracy = 0\n",
        "averageYearlyAccuracy = []\n",
        "amountOfYears = int(length / 365)\n",
        "remainderDays = length % 365\n",
        "\n",
        "i = 0\n",
        "while i < length:\n",
        "  yearlyAccuracy += accuracy[i]\n",
        "  if (i + 1) % 365 == 0 and amountOfYears > 0:\n",
        "    averageYearlyAccuracy.append(yearlyAccuracy / 365)\n",
        "    amountOfYears -= 1\n",
        "    yearlyAccuracy = 0\n",
        "  if (i + 1) % remainderDays == 0 and remainderDays > 0 and amountOfYears == 0:\n",
        "    averageYearlyAccuracy.append(yearlyAccuracy / remainderDays)\n",
        "    yearlyAccuracy = 0\n",
        "  i += 1\n",
        "\n",
        "weeklyDateListForYears = []\n",
        "i = 0\n",
        "weeklyDateListForYears.append(merged_df_new['Date'][i])\n",
        "while i < length:\n",
        "  if (i + 1) % 365 == 0:\n",
        "    weeklyDateListForYears.append(merged_df_new['Date'][i])\n",
        "  i += 1"
      ],
      "metadata": {
        "id": "wuFLInYkSl0D"
      },
      "id": "wuFLInYkSl0D",
      "execution_count": 51,
      "outputs": []
    },
    {
      "cell_type": "code",
      "source": [
        "print(averageYearlyAccuracy)"
      ],
      "metadata": {
        "colab": {
          "base_uri": "https://localhost:8080/"
        },
        "id": "0X5tj6YASxgP",
        "outputId": "b5065552-230d-4375-b195-7beeb01eb1b3"
      },
      "id": "0X5tj6YASxgP",
      "execution_count": 52,
      "outputs": [
        {
          "output_type": "stream",
          "name": "stdout",
          "text": [
            "[0.1683664346372662, 0.2542438508077864]\n"
          ]
        }
      ]
    },
    {
      "cell_type": "code",
      "source": [
        "#Create Dataframe for Yearly Accuracy\n",
        "i = 0\n",
        "data = []\n",
        "while i < len(averageYearlyAccuracy):\n",
        "  data.append([weeklyDateListForYears[i], averageYearlyAccuracy[i]])\n",
        "  i += 1\n",
        "\n",
        "df = pd.DataFrame(data, columns = ['Year Of', 'Average Yearly Accuracy'])"
      ],
      "metadata": {
        "id": "KMVJGUxoSyb5"
      },
      "id": "KMVJGUxoSyb5",
      "execution_count": 53,
      "outputs": []
    },
    {
      "cell_type": "code",
      "source": [
        "#Create plot of Yearly Accuracy\n",
        "\n",
        "#Accuracy Line\n",
        "plt.plot(df['Year Of'], df['Average Yearly Accuracy'], color='r', label='Yearly Accuracy')\n",
        "\n",
        "#Create XY Labels and Title\n",
        "plt.xlabel('Year Of (Year/Month/Day)') \n",
        "plt.ylabel('Average Yearly Accuracy Percentage') \n",
        "plt.title(\"Predicted Daily COVID-19 Case Yearly Accuracy in PA\")\n",
        "\n",
        "#Display Plot\n",
        "plt.legend()\n",
        "plt.show()"
      ],
      "metadata": {
        "colab": {
          "base_uri": "https://localhost:8080/",
          "height": 295
        },
        "id": "OVaiiME4S2Bl",
        "outputId": "0ca1bfd4-e92d-4637-9406-ab7449f008e0"
      },
      "id": "OVaiiME4S2Bl",
      "execution_count": 54,
      "outputs": [
        {
          "output_type": "display_data",
          "data": {
            "text/plain": [
              "<Figure size 432x288 with 1 Axes>"
            ],
            "image/png": "[encoded data removed]"
          },
          "metadata": {
            "needs_background": "light"
          }
        }
      ]
    },
    {
      "cell_type": "code",
      "source": [
        "#Calculate Running Yearly Accuracy\n",
        "\n",
        "runningyearlyAccuracy = 0\n",
        "runningAverageyearlyAccuracy = []\n",
        "length = len(accuracy)\n",
        "\n",
        "i = 1\n",
        "j = 366\n",
        "#Add first week average\n",
        "runningAverageyearlyAccuracy.append(averageYearlyAccuracy[0])\n",
        "\n",
        "while j < length:\n",
        "  temp_i = i\n",
        "  temp_j = j\n",
        "  while temp_i < temp_j:\n",
        "    runningyearlyAccuracy += accuracy[temp_i]\n",
        "    temp_i += 1\n",
        "  runningAverageyearlyAccuracy.append(runningyearlyAccuracy / 365)\n",
        "  runningyearlyAccuracy = 0\n",
        "\n",
        "  i += 1\n",
        "  j += 1"
      ],
      "metadata": {
        "id": "7_8g8buyS4r6"
      },
      "id": "7_8g8buyS4r6",
      "execution_count": 55,
      "outputs": []
    },
    {
      "cell_type": "code",
      "source": [
        "#Create Dataframe for Running Yearly Accuracy\n",
        "i = 0\n",
        "data = []\n",
        "while i < len(runningAverageyearlyAccuracy):\n",
        "  data.append([merged_df_new['Date'][i], runningAverageyearlyAccuracy[i]])\n",
        "  i += 1\n",
        "\n",
        "df = pd.DataFrame(data, columns = ['Date', 'Running Yearly Average Accuracy'])"
      ],
      "metadata": {
        "id": "GMw16lzPS7I8"
      },
      "id": "GMw16lzPS7I8",
      "execution_count": 56,
      "outputs": []
    },
    {
      "cell_type": "code",
      "source": [
        "#Create plot of Running Yearly Accuracy\n",
        "\n",
        "#Accuracy Line\n",
        "plt.plot(df['Date'], df['Running Yearly Average Accuracy'], color='r', label='Running Yearly Accuracy')\n",
        "\n",
        "#Create XY Labels and Title\n",
        "plt.xlabel('Date') \n",
        "plt.ylabel('Accuracy Percentage') \n",
        "plt.title(\"Predicted Daily COVID-19 Case Running Yearly Accuracy in PA\")\n",
        "\n",
        "#Display Plot\n",
        "plt.legend()\n",
        "plt.show()"
      ],
      "metadata": {
        "colab": {
          "base_uri": "https://localhost:8080/",
          "height": 295
        },
        "id": "9Tg8c7xFTEo5",
        "outputId": "71f7a84c-abef-4568-8728-fbe9a15ed33b"
      },
      "id": "9Tg8c7xFTEo5",
      "execution_count": 57,
      "outputs": [
        {
          "output_type": "display_data",
          "data": {
            "text/plain": [
              "<Figure size 432x288 with 1 Axes>"
            ],
            "image/png": "[encoded data removed]"
          },
          "metadata": {
            "needs_background": "light"
          }
        }
      ]
    },
    {
      "cell_type": "code",
      "source": [
        "#Calculate Overall Accuracy\n",
        "overallAccuracy = merged_df_new['Accuracy'].mean()\n",
        "print(overallAccuracy)"
      ],
      "metadata": {
        "colab": {
          "base_uri": "https://localhost:8080/"
        },
        "id": "wvfzf5lyTIzD",
        "outputId": "c5599ba5-91c0-408f-e612-9848138f5167"
      },
      "id": "wvfzf5lyTIzD",
      "execution_count": 58,
      "outputs": [
        {
          "output_type": "stream",
          "name": "stdout",
          "text": [
            "0.2204279821423693\n"
          ]
        }
      ]
    },
    {
      "cell_type": "code",
      "source": [
        "#Create new dataframe for year 2022\n",
        "data_2022 = merged_df_new[(merged_df_new['Date'] > '2022-01-01')]"
      ],
      "metadata": {
        "id": "E8ehA55AM6nW"
      },
      "id": "E8ehA55AM6nW",
      "execution_count": 59,
      "outputs": []
    },
    {
      "cell_type": "code",
      "source": [
        "#create error and accuracy lists for 2022\n",
        "error_2022=[]\n",
        "for index, row in data_2022.iterrows():\n",
        "  error_2022.append((abs(row['New Cases'] - row[\"Prediction\"])) / row['New Cases'])\n",
        "\n",
        "accuracy_2022 = []\n",
        "for i in error_2022:\n",
        "  accuracy_2022.append(1 - i)"
      ],
      "metadata": {
        "id": "PXuy9cICM7j_"
      },
      "id": "PXuy9cICM7j_",
      "execution_count": 60,
      "outputs": []
    },
    {
      "cell_type": "code",
      "source": [
        "#check head of 2022 data\n",
        "data_2022.head(5)"
      ],
      "metadata": {
        "colab": {
          "base_uri": "https://localhost:8080/",
          "height": 354
        },
        "id": "_1FE0Wb_M-Ju",
        "outputId": "1989f420-be9c-4486-bd3b-e869ff774178"
      },
      "id": "_1FE0Wb_M-Ju",
      "execution_count": 61,
      "outputs": [
        {
          "output_type": "execute_result",
          "data": {
            "text/plain": [
              "          Date  New Cases  7-day Average New Cases  \\\n",
              "498 2022-01-02      35128                  38695.9   \n",
              "499 2022-01-03      48768                  41456.9   \n",
              "500 2022-01-04      51898                  44396.0   \n",
              "501 2022-01-05      61004                  47411.2   \n",
              "502 2022-01-06      58492                  49136.1   \n",
              "\n",
              "     Cumulative cases                            Population (2019)  \\\n",
              "498                                     4203914           25603978   \n",
              "499                                     4252682           25603978   \n",
              "500                                     4304580           25603978   \n",
              "501                                     4365584           25603978   \n",
              "502                                     4424076           25603978   \n",
              "\n",
              "     New Case Rate  7-Day Average New Case Rate  Cumulative Case Rate  \\\n",
              "498         6449.2                       7426.4             1172327.7   \n",
              "499         9816.9                       8055.2             1182144.5   \n",
              "500        10744.4                       8691.2             1192888.2   \n",
              "501        11662.5                       9215.5             1204551.4   \n",
              "502        12854.6                       9728.8             1217406.1   \n",
              "\n",
              "     County FIPS Code    Longitude     Latitude   Prediction     Error  \\\n",
              "498           2860489 -5275.682283  2774.207671  3288.765429  0.906378   \n",
              "499           2860489 -5275.682283  2774.207671  3288.765429  0.932563   \n",
              "500           2860489 -5275.682283  2774.207671  3288.765429  0.936630   \n",
              "501           2860489 -5275.682283  2774.207671  3288.765429  0.946089   \n",
              "502           2860489 -5275.682283  2774.207671  3288.765429  0.943774   \n",
              "\n",
              "     Accuracy  RawError  \n",
              "498  0.093622 -0.906378  \n",
              "499  0.067437 -0.932563  \n",
              "500  0.063370 -0.936630  \n",
              "501  0.053911 -0.946089  \n",
              "502  0.056226 -0.943774  "
            ],
            "text/html": [
              "\n",
              "  <div id=\"df-95e7c96f-0c0c-48e3-b659-b56704df690a\">\n",
              "    <div class=\"colab-df-container\">\n",
              "      <div>\n",
              "<style scoped>\n",
              "    .dataframe tbody tr th:only-of-type {\n",
              "        vertical-align: middle;\n",
              "    }\n",
              "\n",
              "    .dataframe tbody tr th {\n",
              "        vertical-align: top;\n",
              "    }\n",
              "\n",
              "    .dataframe thead th {\n",
              "        text-align: right;\n",
              "    }\n",
              "</style>\n",
              "<table border=\"1\" class=\"dataframe\">\n",
              "  <thead>\n",
              "    <tr style=\"text-align: right;\">\n",
              "      <th></th>\n",
              "      <th>Date</th>\n",
              "      <th>New Cases</th>\n",
              "      <th>7-day Average New Cases</th>\n",
              "      <th>Cumulative cases</th>\n",
              "      <th>Population (2019)</th>\n",
              "      <th>New Case Rate</th>\n",
              "      <th>7-Day Average New Case Rate</th>\n",
              "      <th>Cumulative Case Rate</th>\n",
              "      <th>County FIPS Code</th>\n",
              "      <th>Longitude</th>\n",
              "      <th>Latitude</th>\n",
              "      <th>Prediction</th>\n",
              "      <th>Error</th>\n",
              "      <th>Accuracy</th>\n",
              "      <th>RawError</th>\n",
              "    </tr>\n",
              "  </thead>\n",
              "  <tbody>\n",
              "    <tr>\n",
              "      <th>498</th>\n",
              "      <td>2022-01-02</td>\n",
              "      <td>35128</td>\n",
              "      <td>38695.9</td>\n",
              "      <td>4203914</td>\n",
              "      <td>25603978</td>\n",
              "      <td>6449.2</td>\n",
              "      <td>7426.4</td>\n",
              "      <td>1172327.7</td>\n",
              "      <td>2860489</td>\n",
              "      <td>-5275.682283</td>\n",
              "      <td>2774.207671</td>\n",
              "      <td>3288.765429</td>\n",
              "      <td>0.906378</td>\n",
              "      <td>0.093622</td>\n",
              "      <td>-0.906378</td>\n",
              "    </tr>\n",
              "    <tr>\n",
              "      <th>499</th>\n",
              "      <td>2022-01-03</td>\n",
              "      <td>48768</td>\n",
              "      <td>41456.9</td>\n",
              "      <td>4252682</td>\n",
              "      <td>25603978</td>\n",
              "      <td>9816.9</td>\n",
              "      <td>8055.2</td>\n",
              "      <td>1182144.5</td>\n",
              "      <td>2860489</td>\n",
              "      <td>-5275.682283</td>\n",
              "      <td>2774.207671</td>\n",
              "      <td>3288.765429</td>\n",
              "      <td>0.932563</td>\n",
              "      <td>0.067437</td>\n",
              "      <td>-0.932563</td>\n",
              "    </tr>\n",
              "    <tr>\n",
              "      <th>500</th>\n",
              "      <td>2022-01-04</td>\n",
              "      <td>51898</td>\n",
              "      <td>44396.0</td>\n",
              "      <td>4304580</td>\n",
              "      <td>25603978</td>\n",
              "      <td>10744.4</td>\n",
              "      <td>8691.2</td>\n",
              "      <td>1192888.2</td>\n",
              "      <td>2860489</td>\n",
              "      <td>-5275.682283</td>\n",
              "      <td>2774.207671</td>\n",
              "      <td>3288.765429</td>\n",
              "      <td>0.936630</td>\n",
              "      <td>0.063370</td>\n",
              "      <td>-0.936630</td>\n",
              "    </tr>\n",
              "    <tr>\n",
              "      <th>501</th>\n",
              "      <td>2022-01-05</td>\n",
              "      <td>61004</td>\n",
              "      <td>47411.2</td>\n",
              "      <td>4365584</td>\n",
              "      <td>25603978</td>\n",
              "      <td>11662.5</td>\n",
              "      <td>9215.5</td>\n",
              "      <td>1204551.4</td>\n",
              "      <td>2860489</td>\n",
              "      <td>-5275.682283</td>\n",
              "      <td>2774.207671</td>\n",
              "      <td>3288.765429</td>\n",
              "      <td>0.946089</td>\n",
              "      <td>0.053911</td>\n",
              "      <td>-0.946089</td>\n",
              "    </tr>\n",
              "    <tr>\n",
              "      <th>502</th>\n",
              "      <td>2022-01-06</td>\n",
              "      <td>58492</td>\n",
              "      <td>49136.1</td>\n",
              "      <td>4424076</td>\n",
              "      <td>25603978</td>\n",
              "      <td>12854.6</td>\n",
              "      <td>9728.8</td>\n",
              "      <td>1217406.1</td>\n",
              "      <td>2860489</td>\n",
              "      <td>-5275.682283</td>\n",
              "      <td>2774.207671</td>\n",
              "      <td>3288.765429</td>\n",
              "      <td>0.943774</td>\n",
              "      <td>0.056226</td>\n",
              "      <td>-0.943774</td>\n",
              "    </tr>\n",
              "  </tbody>\n",
              "</table>\n",
              "</div>\n",
              "      <button class=\"colab-df-convert\" onclick=\"convertToInteractive('df-95e7c96f-0c0c-48e3-b659-b56704df690a')\"\n",
              "              title=\"Convert this dataframe to an interactive table.\"\n",
              "              style=\"display:none;\">\n",
              "        \n",
              "  <svg xmlns=\"http://www.w3.org/2000/svg\" height=\"24px\"viewBox=\"0 0 24 24\"\n",
              "       width=\"24px\">\n",
              "    <path d=\"M0 0h24v24H0V0z\" fill=\"none\"/>\n",
              "    <path d=\"M18.56 5.44l.94 2.06.94-2.06 2.06-.94-2.06-.94-.94-2.06-.94 2.06-2.06.94zm-11 1L8.5 8.5l.94-2.06 2.06-.94-2.06-.94L8.5 2.5l-.94 2.06-2.06.94zm10 10l.94 2.06.94-2.06 2.06-.94-2.06-.94-.94-2.06-.94 2.06-2.06.94z\"/><path d=\"M17.41 7.96l-1.37-1.37c-.4-.4-.92-.59-1.43-.59-.52 0-1.04.2-1.43.59L10.3 9.45l-7.72 7.72c-.78.78-.78 2.05 0 2.83L4 21.41c.39.39.9.59 1.41.59.51 0 1.02-.2 1.41-.59l7.78-7.78 2.81-2.81c.8-.78.8-2.07 0-2.86zM5.41 20L4 18.59l7.72-7.72 1.47 1.35L5.41 20z\"/>\n",
              "  </svg>\n",
              "      </button>\n",
              "      \n",
              "  <style>\n",
              "    .colab-df-container {\n",
              "      display:flex;\n",
              "      flex-wrap:wrap;\n",
              "      gap: 12px;\n",
              "    }\n",
              "\n",
              "    .colab-df-convert {\n",
              "      background-color: #E8F0FE;\n",
              "      border: none;\n",
              "      border-radius: 50%;\n",
              "      cursor: pointer;\n",
              "      display: none;\n",
              "      fill: #1967D2;\n",
              "      height: 32px;\n",
              "      padding: 0 0 0 0;\n",
              "      width: 32px;\n",
              "    }\n",
              "\n",
              "    .colab-df-convert:hover {\n",
              "      background-color: #E2EBFA;\n",
              "      box-shadow: 0px 1px 2px rgba(60, 64, 67, 0.3), 0px 1px 3px 1px rgba(60, 64, 67, 0.15);\n",
              "      fill: #174EA6;\n",
              "    }\n",
              "\n",
              "    [theme=dark] .colab-df-convert {\n",
              "      background-color: #3B4455;\n",
              "      fill: #D2E3FC;\n",
              "    }\n",
              "\n",
              "    [theme=dark] .colab-df-convert:hover {\n",
              "      background-color: #434B5C;\n",
              "      box-shadow: 0px 1px 3px 1px rgba(0, 0, 0, 0.15);\n",
              "      filter: drop-shadow(0px 1px 2px rgba(0, 0, 0, 0.3));\n",
              "      fill: #FFFFFF;\n",
              "    }\n",
              "  </style>\n",
              "\n",
              "      <script>\n",
              "        const buttonEl =\n",
              "          document.querySelector('#df-95e7c96f-0c0c-48e3-b659-b56704df690a button.colab-df-convert');\n",
              "        buttonEl.style.display =\n",
              "          google.colab.kernel.accessAllowed ? 'block' : 'none';\n",
              "\n",
              "        async function convertToInteractive(key) {\n",
              "          const element = document.querySelector('#df-95e7c96f-0c0c-48e3-b659-b56704df690a');\n",
              "          const dataTable =\n",
              "            await google.colab.kernel.invokeFunction('convertToInteractive',\n",
              "                                                     [key], {});\n",
              "          if (!dataTable) return;\n",
              "\n",
              "          const docLinkHtml = 'Like what you see? Visit the ' +\n",
              "            '<a target=\"_blank\" href=https://colab.research.google.com/notebooks/data_table.ipynb>data table notebook</a>'\n",
              "            + ' to learn more about interactive tables.';\n",
              "          element.innerHTML = '';\n",
              "          dataTable['output_type'] = 'display_data';\n",
              "          await google.colab.output.renderOutput(dataTable, element);\n",
              "          const docLink = document.createElement('div');\n",
              "          docLink.innerHTML = docLinkHtml;\n",
              "          element.appendChild(docLink);\n",
              "        }\n",
              "      </script>\n",
              "    </div>\n",
              "  </div>\n",
              "  "
            ]
          },
          "metadata": {},
          "execution_count": 61
        }
      ]
    },
    {
      "cell_type": "code",
      "source": [
        "#create plot for 2022 accuracy\n",
        "plt.xlabel('Date (Month/Day)') \n",
        "plt.ylabel('Prediction Accuracy') \n",
        "plt.title(\"Accuracy Estimation for 2022 PA\")\n",
        "\n",
        "plt.plot(data_2022['Date'].dt.strftime('%m-%d'), accuracy_2022, label='Accuracy 2022')\n",
        "plt.xticks(np.arange(0, len(data_2022['Date']), 7))"
      ],
      "metadata": {
        "colab": {
          "base_uri": "https://localhost:8080/",
          "height": 424
        },
        "id": "XC0ZOuxvNAAV",
        "outputId": "4a1119d9-f61a-46db-8619-7812ffb0c51b"
      },
      "id": "XC0ZOuxvNAAV",
      "execution_count": 62,
      "outputs": [
        {
          "output_type": "execute_result",
          "data": {
            "text/plain": [
              "([<matplotlib.axis.XTick at 0x7fd03630b990>,\n",
              "  <matplotlib.axis.XTick at 0x7fd03630b390>,\n",
              "  <matplotlib.axis.XTick at 0x7fd0362f6950>,\n",
              "  <matplotlib.axis.XTick at 0x7fd038ef8bd0>,\n",
              "  <matplotlib.axis.XTick at 0x7fd038ef8a10>,\n",
              "  <matplotlib.axis.XTick at 0x7fd038eed710>],\n",
              " <a list of 6 Text major ticklabel objects>)"
            ]
          },
          "metadata": {},
          "execution_count": 62
        },
        {
          "output_type": "display_data",
          "data": {
            "text/plain": [
              "<Figure size 432x288 with 1 Axes>"
            ],
            "image/png": "[encoded data removed]"
          },
          "metadata": {
            "needs_background": "light"
          }
        }
      ]
    },
    {
      "cell_type": "code",
      "source": [
        "#cleans accuracy list of all nan values\n",
        "newlist = [x for x in accuracy if math.isnan(x) == False]\n",
        "print(newlist)"
      ],
      "metadata": {
        "colab": {
          "base_uri": "https://localhost:8080/"
        },
        "id": "8zA1N2KGNCJ2",
        "outputId": "f4c60feb-4bd6-403d-97e0-2b2c58527a20"
      },
      "id": "8zA1N2KGNCJ2",
      "execution_count": 63,
      "outputs": [
        {
          "output_type": "stream",
          "name": "stdout",
          "text": [
            "[0.6129552380952381, 0.8673894878706199, 0.6191467051467051, 0.723962879640045, 0.5755448245025709, 0.43216585529629004, 0.44203502747252743, 0.5385847826086957, 0.7065085551330799, 0.44666286057692317, 0.411999445676275, 0.3428261070110702, 0.4061459016393443, 0.38430558428128236, 0.6753128680479825, 0.5490467032967032, 0.22562357581069237, 0.8694088892069853, 0.5441777325023969, 0.8473340541294643, 0.9047654550871443, 0.4515754820333041, 0.541079789430223, 0.9253646065208851, 0.6802970121381886, 0.9316690098261526, 0.7582130557019856, 0.8905793563579278, 0.6958741847254365, 0.8231682429069188, 0.5519843124165553, 0.5980994575045208, 0.5113620902906617, 0.46735763741698455, 0.5119161120569571, 0.5219607535321821, 0.7047244595167443, 0.33758655701086404, 0.5379210483740495, 0.4584790402647546, 0.41483343730505307, 0.39483315520722007, 0.48595031373121267, 0.6029725692558392, 0.4919807209336683, 0.3477670739348371, 0.3679391779913822, 0.33409084069020867, 0.27341687192118236, 0.3941801878736123, 0.4200045495905369, 0.35154988575780655, 0.358373447204969, 0.29344246662428486, 0.27957904300423986, 0.24332366895097524, 0.38283645589383297, 0.39774006488240066, 0.31845032467532475, 0.3237052805280529, 0.23691473429951693, 0.2256849976990336, 0.22693822304488664, 0.44987714285714286, 0.4719934052757794, 0.332608787494719, 0.3456035996488147, 0.3272173732335827, 0.31328491842419415, 0.2994617725370863, 0.5890868179325472, 0.6238094149245064, 0.4155913773092176, 0.4441595255323547, 0.417996911328372, 0.3428251685482906, 0.30714459058579646, 0.7383090888638921, 0.7148921491743999, 0.5199936462162504, 0.488971914297634, 0.4286999555857457, 0.39954514353892234, 0.4197191328814427, 0.5488720096940637, 0.661009744539292, 0.49537641704689783, 0.4719128540060943, 0.43268857594806687, 0.4183699050532338, 0.43343652508540154, 0.7351954675099207, 0.9900002087334058, 0.8189639115920342, 0.7011135584200568, 0.6005993465817956, 0.6890401452784505, 0.6448821156635243, 0.9451859712135909, 0.6993252675136585, 0.9766663794149776, 0.6385603425016269, 0.5306695266233167, 0.4621437358572922, 0.4602195246102284, 0.7524847760987347, 0.8730854572111426, 0.6025865376618336, 0.7608744005320824, 0.5080795923376304, 0.4854038500189821, 0.5478832692671246, 0.6500184128934129, 0.7853283682304091, 0.6363379291584342, 0.6206020777189774, 0.6526911859727443, 0.6786425670310878, 0.6186670424966245, 0.8944589042609619, 0.7438289408391685, 0.6908570148336548, 0.5847271801317615, 0.6585173527497559, 0.821509286323225, 0.7940917946906823, 0.9256384587279728, 0.5176493718008377, 0.6027571428571428, 0.574900485765419, 0.6502714591909637, 0.642619406246848, 0.6916134389926183, 0.9483414203274055, 0.7327588621788567, 0.526771902853872, 0.4634255787519963, 0.485989920936689, 0.4353219083659954, 0.4752481482574439, 0.5598120069514957, 0.7821972197970097, 0.5385384145768761, 0.5000103336414532, 0.6268112401066945, 0.6060350166997843, 0.5932190965899685, 0.4697488949252995, 0.6831315628815628, 0.4826815909667598, 0.47986886052319566, 0.4669239445262642, 0.5038934465312177, 0.4620808293050259, 0.6075516609992153, 0.6131652587117212, 0.4547122161315583, 0.4152816020025032, 0.3319997141223556, 0.2757205603038937, 0.4225341095142805, 0.478254952549345, 0.5643550989993613, 0.5043716987594185, 0.6024216853779374, 0.5628452310174961, 0.37441395237153585, 0.4574562351154523, 0.3626420736484721, 0.6715707635572215, 0.3542235969387755, 0.5143992590877517, 0.38933309967755503, 0.4537951713713795, 0.411226150372043, 0.5271486119144013, 0.6903802075443115, 0.5398246564795073, 0.3707451797917345, 0.3950415872052704, 0.46551915317431936, 0.45895561206505864, 0.5621029225849632, 0.7184296169565632, 0.3715759512339003, 0.3901010528488852, 0.43912147795271017, 0.31591565660787435, 0.3087788716859349, 0.4854994493392071, 0.5099288606130712, 0.34093851508120643, 0.3372865340474368, 0.269705414499847, 0.32922591486183717, 0.30709404388714734, 0.38407101489244344, 0.4136149391149392, 0.19365553443960326, 0.22650715641095154, 0.2105278155706728, 0.19038161312371848, 0.2075265497715082, 0.2669603092017244, 0.36235714285714293, 0.16125006734309066, 0.15538998009864158, 0.16084567845947162, 0.14372484993997603, 0.12493248460816031, 0.1809906884536825, 0.26584055413394503, 0.12093168225424478, 0.08728368629950467, 0.11401214758751177, 0.08460700946389965, 0.10454113605607407, 0.13208452342187282, 0.13782928013203244, 0.07375119480519476, 0.08982098570163222, 0.1030044620184285, 0.08137042556240137, 0.07383173851994373, 0.10537980537412883, 0.12786030741410492, 0.0673793968440819, 0.07459443651483177, 0.07521523997246726, 0.06513043537156937, 0.07160817049922541, 0.09227840621963068, 0.13382918029090085, 0.04723163549542375, 0.05668112031708883, 0.06748719260838665, 0.05966276264200254, 0.06542989443510372, 0.09766026591419952, 0.13375112988799376, 0.056217231506208165, 0.06423942177619779, 0.06387370577747187, 0.07066647632890355, 0.07162072533408148, 0.11169960153482883, 0.17126485895308485, 0.08338705471905983, 0.09613978745024976, 0.08522744163351104, 0.07264852023676216, 0.10453614014087742, 0.11833237210911818, 0.17551454234388364, 0.08831252959152935, 0.10442083566593718, 0.11876389210465388, 0.0951653525046382, 0.11269099796781457, 0.2454476154098003, 0.3181098302687412, 0.12024361099230108, 0.14860820007929165, 0.15077002748541934, 0.1719972851024778, 0.16153390073978313, 0.637821562082777, 0.21161849255039433, 0.7417460196292258, 0.8586288734757803, 0.9786048152968265, 0.7120326959313281, 0.9483903834260977, 0.6793685267857142, 0.006594002695417767, 0.9800432708884036, 0.8700479373567609, 0.7546107914678641, 0.8106883543285982, 0.49250152879225406, -0.27669259463940343, -0.7958434000678658, -0.30794131652661094, 0.4909614468864467, 0.1521976900650368, 0.5749999135247318, 0.23530723923752395, -0.753775226039783, -2.476301293356849, 0.3544005835314459, -0.4172026984126984, 0.17493084851390228, -0.3493330762110458, -0.9398411196911196, -2.6031210415200565, -3.1626164167324387, 0.016064604185623277, -1.313594224924012, -0.7977053036783577, -1.073794642857143, -1.6501311383928572, -4.473693340494092, -5.358984737484737, -1.200748008497079, -1.471779089861751, -1.7929568911264946, -2.023370160213618, -2.22059418767507, -3.693551530612245, -6.570937788018434, -1.9460258132956154, -2.151547991071429, -2.1300373797187273, -2.4530570630486834, -1.421018087063152, -2.9268451581975072, -3.9682921022067363, -4.92547102425876, -1.5635918862690708, -0.8343626585769444, -0.9841460511033682, -0.6694542857142858, -1.2562665505226485, -2.8725156412930137, 0.11962072434607629, -0.060292107583774346, 0.4511957242293668, 0.48631600259151275, 0.5132858733693921, 0.8370687292358805, 0.38037102371312903, 0.6612369539551357, 0.701839223057644, 0.6803543488824101, 0.6135710999123576, 0.5970871002132196, 0.6252926305747675, 0.8610351395730705, 0.34809506107275623, 0.45072236548048816, 0.34488976585109177, 0.353682989343046, 0.31316913521261347, 0.3529008892713712, 0.3949317817014447, 0.2231678004535148, 0.2429089742324021, 0.1892780213862606, 0.20027879527879533, 0.20542915588210742, 0.04931989517118329, 0.05681545477903405, 0.02953659921191487, 0.033234500638761655, 0.026793378165515636, 0.030535904163502048, 0.027649359174742205, 0.02707387200428435, 0.044996606586559906, 0.0221702390088806, 0.025861970840260873, 0.014578764283911916, 0.023054925322084197, 0.020582701409740944, 0.024257735652400525, 0.029165139411027607, 0.0172326576889259, 0.014389292476525428, 0.01637845267417315, 0.013406556019585292, 0.01378166173205031, 0.019024452776093104, 0.019383545868209673, 0.013772661956651944, 0.012536204766749104, 0.013225746483192191, 0.01212007797955672, 0.010575489625157086, 0.014767552922808513, 0.01845795787177873, 0.019828164498427836, 0.009124499929067942, 0.010578369132594245, 0.0088417738920048, 0.008499881062508208, 0.011380083833692156, 0.01374987452662324, 0.009099737295044874, 0.010672002266449487, 0.006845421711378141, 0.007504071316516869, 0.00810445352839928, 0.00895589952349407, 0.015893123144985144, 0.008319999413679002, 0.008806115799925629, 0.00722697988286225, 0.007951236937214667, 0.007547162535900487, 0.009137191179473203, 0.01251890619171947, 0.007185824011133102, 0.007886087288533794, 0.007673120338353434, 0.007023975200774357, 0.00949688748983124, 0.6495196899874318, 0.9489076720910138, 0.7814997183182114, 0.7637455665024631, 0.5991829476220787, 0.6803877200681501, 0.6855909764852772, 0.7417477678571429, 0.9050261792330445, 0.6479928909224911, 0.6307727408603114, 0.5294104194891867, 0.5765996420373811, 0.6319628781072177, 0.8111119299059998, 0.9787124592080269, 0.7740145625692137, 0.6744959146910283, 0.6890812875874988, 0.6439029142611472, 0.6078401698747681, 0.8454776906045436, 0.997051244718511, 0.6686325035209927, 0.5546812081596564, 0.5645394343564196, 0.5336830679953819, 0.5622625556160173, 0.7886602902374671, 0.9485196350654503, 0.6436656796769853, 0.5830816873933188, 0.4712688214426488, 0.44562392843831533, 0.4890016359918201, 0.5523263713774074, 0.7130263493111908, 0.5346814724403877, 0.4074436281778233, 0.38219928938118, 0.33426904872492436, 0.3827413199280776, 0.4329873460591134, 0.6227716322734922, 0.3112410977094169, 0.3540820031220102, 0.2666659524441579, 0.29112611008756495, 0.3063994640406109, 0.3960483665016039, 0.31632837491604693, 0.31112756587478285, 0.2583071032479536, 0.2606418733346998, 0.3194994472639566, 0.381173700617469, 0.4166186062540811, 0.31031663919587127, 0.260958179008839, 0.2254251266046401, 0.17643231223019362, 0.1503385019177651, 0.19218039960508038, 0.26849525820463316, 0.3050848231423088, 0.20856737023637695, 0.21499958454909085, 0.20818492843109737, 0.13764218293829478, 0.14945857344348168, 0.18461960861547266, 0.2903764748951029, 0.18356135291499776, 0.20689323836276075, 0.1896099700273982, 0.17478403620584437, 0.16159278819030898, 0.23778030399659866, 0.34113655910699037, 0.177759889070769, 0.14800700656327748, 0.14392754844686928, 0.11478224573357831, 0.1340618879819736, 0.17942778710760887, 0.2228024542829644, 0.09435805027173916, 0.08868849371049103, 0.06962157894736842, 0.05984276174062897, 0.056171411817042105, 0.08388423783531684, 0.09362233627224514, 0.06743695514623171, 0.06336979129391174, 0.053910652228893685, 0.05622590146637885, 0.04920355219286998, 0.0487695560630933, 0.0579444774220903, 0.04811196972364029, 0.04713459681313381, 0.05377220145583317, 0.05173653227332953, 0.05433230628553254, 0.06461959674598006, 0.16939408186482785, 0.14799883361225208, 0.10839036873068697, 0.11710373414013653, 0.1093627601609869, 0.1146498499300721, 0.8758418771922641, 0.9040720946119033, 0.7228129723702144, 0.7194096310579479, 0.5476693308185333, 0.6855696177513781, 0.6993238941621351, 0.8194710766108136, 0.7562237570871431, 0.8873356207622165, 0.732057877782493, 0.6695011907702079, 0.8225793723042244, 0.9807562667976019, 0.6687088978314332, 0.16185174095567367, 0.9748192163344008, 0.9450066810550035, 0.9272890934006041, 0.9463772426483599, 0.8939628145078964]\n"
          ]
        }
      ]
    },
    {
      "cell_type": "code",
      "source": [
        "#calculate variance and st deviation of accuracy\n",
        "var = sum((l-overallAccuracy)**2 for l in newlist) / len(newlist)\n",
        "st_dev = math.sqrt(var)\n",
        "print(var)\n",
        "print(st_dev)"
      ],
      "metadata": {
        "colab": {
          "base_uri": "https://localhost:8080/"
        },
        "id": "kuUPnP9-NEJ3",
        "outputId": "6ba903c6-0328-4a7f-cc0b-7c6f41a3ac42"
      },
      "id": "kuUPnP9-NEJ3",
      "execution_count": 64,
      "outputs": [
        {
          "output_type": "stream",
          "name": "stdout",
          "text": [
            "0.6023766377313386\n",
            "0.7761292661221703\n"
          ]
        }
      ]
    },
    {
      "cell_type": "code",
      "source": [
        "#calculate median of accuracy\n",
        "accMedian = statistics.median(newlist)\n",
        "print(accMedian)"
      ],
      "metadata": {
        "colab": {
          "base_uri": "https://localhost:8080/"
        },
        "id": "A6QquiwwNGDl",
        "outputId": "ef211ba6-9db0-4912-94dd-79b3e5eddf6b"
      },
      "id": "A6QquiwwNGDl",
      "execution_count": 65,
      "outputs": [
        {
          "output_type": "stream",
          "name": "stdout",
          "text": [
            "0.3456035996488147\n"
          ]
        }
      ]
    },
    {
      "cell_type": "code",
      "source": [
        "#Seperate Running Weekly Average plot into 3 plots for the 3 variants: Original, Delta, Omicron\n",
        "\n",
        "# Start Date - May 20th 2021\n",
        "# Delta: May 20th 2021 - December 1st 2021\n",
        "# Omicron: December 1st 2021 - Present"
      ],
      "metadata": {
        "id": "5LUyIYLPNHyk"
      },
      "id": "5LUyIYLPNHyk",
      "execution_count": 66,
      "outputs": []
    },
    {
      "cell_type": "code",
      "source": [
        "type(merged_df_new['Date'][1])"
      ],
      "metadata": {
        "colab": {
          "base_uri": "https://localhost:8080/"
        },
        "id": "OgkvKQxwNJk_",
        "outputId": "78660389-6f49-4af5-98e3-996346aa25f7"
      },
      "id": "OgkvKQxwNJk_",
      "execution_count": 67,
      "outputs": [
        {
          "output_type": "execute_result",
          "data": {
            "text/plain": [
              "pandas._libs.tslibs.timestamps.Timestamp"
            ]
          },
          "metadata": {},
          "execution_count": 67
        }
      ]
    },
    {
      "cell_type": "code",
      "source": [
        "merged_df_new.index[merged_df_new['Date']=='2021-05-20'].tolist()"
      ],
      "metadata": {
        "colab": {
          "base_uri": "https://localhost:8080/"
        },
        "id": "pscaYRx-NLOg",
        "outputId": "94d2e51d-3552-427a-87eb-97a54c3afb95"
      },
      "id": "pscaYRx-NLOg",
      "execution_count": 68,
      "outputs": [
        {
          "output_type": "execute_result",
          "data": {
            "text/plain": [
              "[271]"
            ]
          },
          "metadata": {},
          "execution_count": 68
        }
      ]
    },
    {
      "cell_type": "code",
      "source": [
        "merged_df_new.index[merged_df_new['Date']=='2021-12-01'].tolist()"
      ],
      "metadata": {
        "colab": {
          "base_uri": "https://localhost:8080/"
        },
        "id": "BVsw1AImNOH9",
        "outputId": "7bf0cf6e-ce1b-4f6e-8d47-a72f5f16128e"
      },
      "id": "BVsw1AImNOH9",
      "execution_count": 69,
      "outputs": [
        {
          "output_type": "execute_result",
          "data": {
            "text/plain": [
              "[466]"
            ]
          },
          "metadata": {},
          "execution_count": 69
        }
      ]
    },
    {
      "cell_type": "code",
      "source": [
        "#print(merged_inner)\n",
        "standardVariantDF = merged_df_new[:271]\n",
        "deltaVariantDF = merged_df_new[271:466]\n",
        "omicronVariantDF = merged_df_new[466:]"
      ],
      "metadata": {
        "id": "BuUMKbRCNOxP"
      },
      "id": "BuUMKbRCNOxP",
      "execution_count": 70,
      "outputs": []
    },
    {
      "cell_type": "code",
      "source": [
        "#Create plot of Accuracy\n",
        "\n",
        "#Accuracy Line\n",
        "plt.plot(standardVariantDF['Date'], standardVariantDF['Accuracy'], color='r', label='Daily Accuracy')\n",
        "\n",
        "#Create XY Labels and Title\n",
        "plt.xlabel('Date (Year/Month/Day)') \n",
        "plt.ylabel('Percentage') \n",
        "plt.title(\"(Standard covid) Predicted Daily COVID-19 Case Accuracy in PA\")\n",
        "\n",
        "#Display Plot\n",
        "plt.legend()\n",
        "plt.show()"
      ],
      "metadata": {
        "colab": {
          "base_uri": "https://localhost:8080/",
          "height": 295
        },
        "id": "cmvt2836NW6y",
        "outputId": "b4646c69-3525-464e-d236-219ce2e29a5f"
      },
      "id": "cmvt2836NW6y",
      "execution_count": 71,
      "outputs": [
        {
          "output_type": "display_data",
          "data": {
            "text/plain": [
              "<Figure size 432x288 with 1 Axes>"
            ],
            "image/png": "[encoded data removed]"
          },
          "metadata": {
            "needs_background": "light"
          }
        }
      ]
    },
    {
      "cell_type": "code",
      "source": [
        "#Create plot of Accuracy\n",
        "\n",
        "#Accuracy Line\n",
        "plt.plot(deltaVariantDF['Date'], deltaVariantDF['Accuracy'], color='r', label='Daily Accuracy')\n",
        "\n",
        "#Create XY Labels and Title\n",
        "plt.xlabel('Date (Year/Month/Day)') \n",
        "plt.ylabel('Percentage') \n",
        "plt.title(\"(Delta covid) Predicted Daily COVID-19 Case Accuracy in PA\")\n",
        "\n",
        "#Display Plot\n",
        "plt.legend()\n",
        "plt.show()"
      ],
      "metadata": {
        "colab": {
          "base_uri": "https://localhost:8080/",
          "height": 295
        },
        "id": "urqhaYtQNYBy",
        "outputId": "56a91ec7-fac7-4caa-e803-48e6c546f81c"
      },
      "id": "urqhaYtQNYBy",
      "execution_count": 72,
      "outputs": [
        {
          "output_type": "display_data",
          "data": {
            "text/plain": [
              "<Figure size 432x288 with 1 Axes>"
            ],
            "image/png": "[encoded data removed]"
          },
          "metadata": {
            "needs_background": "light"
          }
        }
      ]
    },
    {
      "cell_type": "code",
      "source": [
        "#Create plot of Accuracy\n",
        "\n",
        "#Accuracy Line\n",
        "plt.plot(omicronVariantDF['Date'], omicronVariantDF['Accuracy'], color='r', label='Daily Accuracy')\n",
        "\n",
        "#Create XY Labels and Title\n",
        "plt.xlabel('Date (Year/Month/Day)') \n",
        "plt.ylabel('Percentage') \n",
        "plt.title(\"(Omicron covid) Predicted Daily COVID-19 Case Accuracy in PA\")\n",
        "\n",
        "#Display Plot\n",
        "plt.legend()\n",
        "plt.show()"
      ],
      "metadata": {
        "colab": {
          "base_uri": "https://localhost:8080/",
          "height": 295
        },
        "id": "fmRHCVPzNaQ4",
        "outputId": "4464e1fb-3da2-47e3-b0b5-bc2d306e702f"
      },
      "id": "fmRHCVPzNaQ4",
      "execution_count": 73,
      "outputs": [
        {
          "output_type": "display_data",
          "data": {
            "text/plain": [
              "<Figure size 432x288 with 1 Axes>"
            ],
            "image/png": "[encoded data removed]"
          },
          "metadata": {
            "needs_background": "light"
          }
        }
      ]
    }
  ],
  "metadata": {
    "kernelspec": {
      "display_name": "Python 3 (ipykernel)",
      "language": "python",
      "name": "python3"
    },
    "language_info": {
      "codemirror_mode": {
        "name": "ipython",
        "version": 3
      },
      "file_extension": ".py",
      "mimetype": "text/x-python",
      "name": "python",
      "nbconvert_exporter": "python",
      "pygments_lexer": "ipython3",
      "version": "3.9.7"
    },
    "colab": {
      "name": "TTU-squider-analysis.ipynb",
      "provenance": [],
      "collapsed_sections": []
    }
  },
  "nbformat": 4,
  "nbformat_minor": 5
}