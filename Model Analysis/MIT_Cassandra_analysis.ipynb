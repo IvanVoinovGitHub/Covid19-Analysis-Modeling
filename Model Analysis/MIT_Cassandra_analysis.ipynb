{
  "cells": [
    {
      "cell_type": "code",
      "execution_count": 1,
      "id": "19d98421",
      "metadata": {
        "id": "19d98421"
      },
      "outputs": [],
      "source": [
        "#import libraries\n",
        "import csv\n",
        "import pandas as pd\n",
        "import matplotlib.pyplot as plt\n",
        "import math\n",
        "import numpy as np\n",
        "import statistics\n",
        "import glob\n",
        "import requests\n",
        "from itertools import repeat"
      ]
    },
    {
      "cell_type": "code",
      "execution_count": 2,
      "id": "bb3a7895",
      "metadata": {
        "id": "bb3a7895"
      },
      "outputs": [],
      "source": [
        "#actual COVID-19 cases data for PA\n",
        "url2 = 'https://raw.githubusercontent.com/IvanVoinovGitHub/Covid19-Analysis-Modeling/main/Data/COVID-19_Aggregate_Cases_Current_Daily_County_Health.csv'\n",
        "df1 = pd.read_csv(url2)"
      ]
    },
    {
      "cell_type": "code",
      "execution_count": 3,
      "id": "16ac3fab",
      "metadata": {
        "id": "16ac3fab"
      },
      "outputs": [],
      "source": [
        "url = 'https://github.com/reichlab/covid19-forecast-hub/tree/master/data-processed/MIT-Cassandra'\n",
        "download = requests.get(url).content\n",
        "\n",
        "csvStringList = []\n",
        "hrefStringList = []\n",
        "urlExtension = []\n",
        "rawUrls = []\n",
        "tempList = []\n",
        "urlExtensionwoutblob = []\n",
        "urlBeginning = 'https://raw.githubusercontent.com'\n",
        "\n",
        "urlStringList = str(requests.get(url).text).split(\" \")\n",
        "for i in urlStringList:\n",
        "  if \"csv\" in i:\n",
        "    csvStringList.append(i)\n",
        "\n",
        "for i in csvStringList:\n",
        "  if \"href\" in i and \"/reichlab/covid19-forecast-hub/blob/master/data-processed/\" in i:\n",
        "    hrefStringList.append(i)\n",
        "\n",
        "for i in hrefStringList:\n",
        "  tempList1 = i.split(\"\\\"\")\n",
        "  for x in tempList1:\n",
        "    if \"/reichlab/covid19-forecast-hub/blob/master/data-processed/\" in x:\n",
        "      urlExtension.append(x)\n",
        "\n",
        "for i in urlExtension:\n",
        "  newString = \"\"\n",
        "  tempList = []\n",
        "  temp = i.split(\"/\")\n",
        "  for x in temp:\n",
        "    if \"blob\" not in x:\n",
        "      tempList.append(x)\n",
        "  for j in range(1, len(tempList)):\n",
        "    newString += \"/\" + tempList[j]\n",
        "  urlExtensionwoutblob.append(newString)\n",
        "\n",
        "\n",
        "for i in urlExtensionwoutblob:\n",
        "  finalUrl = urlBeginning + i\n",
        "  rawUrls.append(finalUrl)"
      ]
    },
    {
      "cell_type": "code",
      "execution_count": 4,
      "id": "922310e5",
      "metadata": {
        "id": "922310e5"
      },
      "outputs": [],
      "source": [
        "#reading all the raw data, filtering PA cases data, and ensemble back into one dataframe\n",
        "all_data = []\n",
        "for url in rawUrls:\n",
        "    df3=pd.read_csv(url)\n",
        "    df2_case = df3[df3['target'].str.contains('case')]\n",
        "    df2_casesPA = df2_case[(df2_case[\"type\"]==\"point\") & (df2_case[\"location\"]==\"42\")]\n",
        "    all_data.append(df2_casesPA)"
      ]
    },
    {
      "cell_type": "code",
      "execution_count": 28,
      "id": "e6b3b86d",
      "metadata": {
        "id": "e6b3b86d",
        "outputId": "a751a41c-1fca-4d5d-9e79-289a0610f55e",
        "colab": {
          "base_uri": "https://localhost:8080/"
        }
      },
      "outputs": [
        {
          "output_type": "execute_result",
          "data": {
            "text/plain": [
              "47"
            ]
          },
          "metadata": {},
          "execution_count": 28
        }
      ],
      "source": [
        "len(all_data)"
      ]
    },
    {
      "cell_type": "code",
      "execution_count": 29,
      "id": "9ca79685",
      "metadata": {
        "id": "9ca79685",
        "colab": {
          "base_uri": "https://localhost:8080/",
          "height": 206
        },
        "outputId": "df003f54-f3ab-4344-a51a-2989f5543b6e"
      },
      "outputs": [
        {
          "output_type": "execute_result",
          "data": {
            "text/plain": [
              "    forecast_date               target target_end_date location   type  \\\n",
              "351    2021-05-10  1 wk ahead inc case      2021-05-15       42  point   \n",
              "353    2021-05-10  2 wk ahead inc case      2021-05-22       42  point   \n",
              "355    2021-05-10  3 wk ahead inc case      2021-05-29       42  point   \n",
              "357    2021-05-10  4 wk ahead inc case      2021-06-05       42  point   \n",
              "359    2021-05-10  5 wk ahead inc case      2021-06-12       42  point   \n",
              "\n",
              "     quantile         value  \n",
              "351       NaN  17508.990812  \n",
              "353       NaN  23681.682677  \n",
              "355       NaN  28473.168047  \n",
              "357       NaN  30744.602252  \n",
              "359       NaN  32981.435683  "
            ],
            "text/html": [
              "\n",
              "  <div id=\"df-9c0fc231-35a8-4348-9c92-3173d7834308\">\n",
              "    <div class=\"colab-df-container\">\n",
              "      <div>\n",
              "<style scoped>\n",
              "    .dataframe tbody tr th:only-of-type {\n",
              "        vertical-align: middle;\n",
              "    }\n",
              "\n",
              "    .dataframe tbody tr th {\n",
              "        vertical-align: top;\n",
              "    }\n",
              "\n",
              "    .dataframe thead th {\n",
              "        text-align: right;\n",
              "    }\n",
              "</style>\n",
              "<table border=\"1\" class=\"dataframe\">\n",
              "  <thead>\n",
              "    <tr style=\"text-align: right;\">\n",
              "      <th></th>\n",
              "      <th>forecast_date</th>\n",
              "      <th>target</th>\n",
              "      <th>target_end_date</th>\n",
              "      <th>location</th>\n",
              "      <th>type</th>\n",
              "      <th>quantile</th>\n",
              "      <th>value</th>\n",
              "    </tr>\n",
              "  </thead>\n",
              "  <tbody>\n",
              "    <tr>\n",
              "      <th>351</th>\n",
              "      <td>2021-05-10</td>\n",
              "      <td>1 wk ahead inc case</td>\n",
              "      <td>2021-05-15</td>\n",
              "      <td>42</td>\n",
              "      <td>point</td>\n",
              "      <td>NaN</td>\n",
              "      <td>17508.990812</td>\n",
              "    </tr>\n",
              "    <tr>\n",
              "      <th>353</th>\n",
              "      <td>2021-05-10</td>\n",
              "      <td>2 wk ahead inc case</td>\n",
              "      <td>2021-05-22</td>\n",
              "      <td>42</td>\n",
              "      <td>point</td>\n",
              "      <td>NaN</td>\n",
              "      <td>23681.682677</td>\n",
              "    </tr>\n",
              "    <tr>\n",
              "      <th>355</th>\n",
              "      <td>2021-05-10</td>\n",
              "      <td>3 wk ahead inc case</td>\n",
              "      <td>2021-05-29</td>\n",
              "      <td>42</td>\n",
              "      <td>point</td>\n",
              "      <td>NaN</td>\n",
              "      <td>28473.168047</td>\n",
              "    </tr>\n",
              "    <tr>\n",
              "      <th>357</th>\n",
              "      <td>2021-05-10</td>\n",
              "      <td>4 wk ahead inc case</td>\n",
              "      <td>2021-06-05</td>\n",
              "      <td>42</td>\n",
              "      <td>point</td>\n",
              "      <td>NaN</td>\n",
              "      <td>30744.602252</td>\n",
              "    </tr>\n",
              "    <tr>\n",
              "      <th>359</th>\n",
              "      <td>2021-05-10</td>\n",
              "      <td>5 wk ahead inc case</td>\n",
              "      <td>2021-06-12</td>\n",
              "      <td>42</td>\n",
              "      <td>point</td>\n",
              "      <td>NaN</td>\n",
              "      <td>32981.435683</td>\n",
              "    </tr>\n",
              "  </tbody>\n",
              "</table>\n",
              "</div>\n",
              "      <button class=\"colab-df-convert\" onclick=\"convertToInteractive('df-9c0fc231-35a8-4348-9c92-3173d7834308')\"\n",
              "              title=\"Convert this dataframe to an interactive table.\"\n",
              "              style=\"display:none;\">\n",
              "        \n",
              "  <svg xmlns=\"http://www.w3.org/2000/svg\" height=\"24px\"viewBox=\"0 0 24 24\"\n",
              "       width=\"24px\">\n",
              "    <path d=\"M0 0h24v24H0V0z\" fill=\"none\"/>\n",
              "    <path d=\"M18.56 5.44l.94 2.06.94-2.06 2.06-.94-2.06-.94-.94-2.06-.94 2.06-2.06.94zm-11 1L8.5 8.5l.94-2.06 2.06-.94-2.06-.94L8.5 2.5l-.94 2.06-2.06.94zm10 10l.94 2.06.94-2.06 2.06-.94-2.06-.94-.94-2.06-.94 2.06-2.06.94z\"/><path d=\"M17.41 7.96l-1.37-1.37c-.4-.4-.92-.59-1.43-.59-.52 0-1.04.2-1.43.59L10.3 9.45l-7.72 7.72c-.78.78-.78 2.05 0 2.83L4 21.41c.39.39.9.59 1.41.59.51 0 1.02-.2 1.41-.59l7.78-7.78 2.81-2.81c.8-.78.8-2.07 0-2.86zM5.41 20L4 18.59l7.72-7.72 1.47 1.35L5.41 20z\"/>\n",
              "  </svg>\n",
              "      </button>\n",
              "      \n",
              "  <style>\n",
              "    .colab-df-container {\n",
              "      display:flex;\n",
              "      flex-wrap:wrap;\n",
              "      gap: 12px;\n",
              "    }\n",
              "\n",
              "    .colab-df-convert {\n",
              "      background-color: #E8F0FE;\n",
              "      border: none;\n",
              "      border-radius: 50%;\n",
              "      cursor: pointer;\n",
              "      display: none;\n",
              "      fill: #1967D2;\n",
              "      height: 32px;\n",
              "      padding: 0 0 0 0;\n",
              "      width: 32px;\n",
              "    }\n",
              "\n",
              "    .colab-df-convert:hover {\n",
              "      background-color: #E2EBFA;\n",
              "      box-shadow: 0px 1px 2px rgba(60, 64, 67, 0.3), 0px 1px 3px 1px rgba(60, 64, 67, 0.15);\n",
              "      fill: #174EA6;\n",
              "    }\n",
              "\n",
              "    [theme=dark] .colab-df-convert {\n",
              "      background-color: #3B4455;\n",
              "      fill: #D2E3FC;\n",
              "    }\n",
              "\n",
              "    [theme=dark] .colab-df-convert:hover {\n",
              "      background-color: #434B5C;\n",
              "      box-shadow: 0px 1px 3px 1px rgba(0, 0, 0, 0.15);\n",
              "      filter: drop-shadow(0px 1px 2px rgba(0, 0, 0, 0.3));\n",
              "      fill: #FFFFFF;\n",
              "    }\n",
              "  </style>\n",
              "\n",
              "      <script>\n",
              "        const buttonEl =\n",
              "          document.querySelector('#df-9c0fc231-35a8-4348-9c92-3173d7834308 button.colab-df-convert');\n",
              "        buttonEl.style.display =\n",
              "          google.colab.kernel.accessAllowed ? 'block' : 'none';\n",
              "\n",
              "        async function convertToInteractive(key) {\n",
              "          const element = document.querySelector('#df-9c0fc231-35a8-4348-9c92-3173d7834308');\n",
              "          const dataTable =\n",
              "            await google.colab.kernel.invokeFunction('convertToInteractive',\n",
              "                                                     [key], {});\n",
              "          if (!dataTable) return;\n",
              "\n",
              "          const docLinkHtml = 'Like what you see? Visit the ' +\n",
              "            '<a target=\"_blank\" href=https://colab.research.google.com/notebooks/data_table.ipynb>data table notebook</a>'\n",
              "            + ' to learn more about interactive tables.';\n",
              "          element.innerHTML = '';\n",
              "          dataTable['output_type'] = 'display_data';\n",
              "          await google.colab.output.renderOutput(dataTable, element);\n",
              "          const docLink = document.createElement('div');\n",
              "          docLink.innerHTML = docLinkHtml;\n",
              "          element.appendChild(docLink);\n",
              "        }\n",
              "      </script>\n",
              "    </div>\n",
              "  </div>\n",
              "  "
            ]
          },
          "metadata": {},
          "execution_count": 29
        }
      ],
      "source": [
        "df2 = pd.concat(all_data)\n",
        "df2.head(5)"
      ]
    },
    {
      "cell_type": "code",
      "execution_count": 30,
      "id": "eae19ec4",
      "metadata": {
        "id": "eae19ec4"
      },
      "outputs": [],
      "source": [
        "#convert date to datetime object\n",
        "df1['Date'] = pd.to_datetime(df1['Date'])\n",
        "df2['forecast_date'] = pd.to_datetime(df2['forecast_date'])\n",
        "df2['target_end_date'] = pd.to_datetime(df2['target_end_date'])"
      ]
    },
    {
      "cell_type": "code",
      "execution_count": 31,
      "id": "8171aacd",
      "metadata": {
        "id": "8171aacd",
        "colab": {
          "base_uri": "https://localhost:8080/",
          "height": 424
        },
        "outputId": "f3832738-c0a3-4168-b002-b172d0d4fe46"
      },
      "outputs": [
        {
          "output_type": "execute_result",
          "data": {
            "text/plain": [
              "    forecast_date               target target_end_date location   type  \\\n",
              "351    2021-05-10  1 wk ahead inc case      2021-05-15       42  point   \n",
              "353    2021-05-10  2 wk ahead inc case      2021-05-22       42  point   \n",
              "526    2021-05-17  1 wk ahead inc case      2021-05-22       42  point   \n",
              "355    2021-05-10  3 wk ahead inc case      2021-05-29       42  point   \n",
              "529    2021-05-17  2 wk ahead inc case      2021-05-29       42  point   \n",
              "..            ...                  ...             ...      ...    ...   \n",
              "535    2022-03-07  4 wk ahead inc case      2022-04-02       42  point   \n",
              "532    2022-03-14  3 wk ahead inc case      2022-04-02       42  point   \n",
              "538    2022-03-07  5 wk ahead inc case      2022-04-09       42  point   \n",
              "535    2022-03-14  4 wk ahead inc case      2022-04-09       42  point   \n",
              "538    2022-03-14  5 wk ahead inc case      2022-04-16       42  point   \n",
              "\n",
              "     quantile         value  \n",
              "351       NaN  17508.990812  \n",
              "353       NaN  23681.682677  \n",
              "526       NaN  12943.000000  \n",
              "355       NaN  28473.168047  \n",
              "529       NaN  10053.915950  \n",
              "..        ...           ...  \n",
              "535       NaN   5652.144363  \n",
              "532       NaN    959.547599  \n",
              "538       NaN   5668.496479  \n",
              "535       NaN    963.272551  \n",
              "538       NaN    966.997503  \n",
              "\n",
              "[214 rows x 7 columns]"
            ],
            "text/html": [
              "\n",
              "  <div id=\"df-59998ba3-24e7-4528-9bad-3992cb88b6c5\">\n",
              "    <div class=\"colab-df-container\">\n",
              "      <div>\n",
              "<style scoped>\n",
              "    .dataframe tbody tr th:only-of-type {\n",
              "        vertical-align: middle;\n",
              "    }\n",
              "\n",
              "    .dataframe tbody tr th {\n",
              "        vertical-align: top;\n",
              "    }\n",
              "\n",
              "    .dataframe thead th {\n",
              "        text-align: right;\n",
              "    }\n",
              "</style>\n",
              "<table border=\"1\" class=\"dataframe\">\n",
              "  <thead>\n",
              "    <tr style=\"text-align: right;\">\n",
              "      <th></th>\n",
              "      <th>forecast_date</th>\n",
              "      <th>target</th>\n",
              "      <th>target_end_date</th>\n",
              "      <th>location</th>\n",
              "      <th>type</th>\n",
              "      <th>quantile</th>\n",
              "      <th>value</th>\n",
              "    </tr>\n",
              "  </thead>\n",
              "  <tbody>\n",
              "    <tr>\n",
              "      <th>351</th>\n",
              "      <td>2021-05-10</td>\n",
              "      <td>1 wk ahead inc case</td>\n",
              "      <td>2021-05-15</td>\n",
              "      <td>42</td>\n",
              "      <td>point</td>\n",
              "      <td>NaN</td>\n",
              "      <td>17508.990812</td>\n",
              "    </tr>\n",
              "    <tr>\n",
              "      <th>353</th>\n",
              "      <td>2021-05-10</td>\n",
              "      <td>2 wk ahead inc case</td>\n",
              "      <td>2021-05-22</td>\n",
              "      <td>42</td>\n",
              "      <td>point</td>\n",
              "      <td>NaN</td>\n",
              "      <td>23681.682677</td>\n",
              "    </tr>\n",
              "    <tr>\n",
              "      <th>526</th>\n",
              "      <td>2021-05-17</td>\n",
              "      <td>1 wk ahead inc case</td>\n",
              "      <td>2021-05-22</td>\n",
              "      <td>42</td>\n",
              "      <td>point</td>\n",
              "      <td>NaN</td>\n",
              "      <td>12943.000000</td>\n",
              "    </tr>\n",
              "    <tr>\n",
              "      <th>355</th>\n",
              "      <td>2021-05-10</td>\n",
              "      <td>3 wk ahead inc case</td>\n",
              "      <td>2021-05-29</td>\n",
              "      <td>42</td>\n",
              "      <td>point</td>\n",
              "      <td>NaN</td>\n",
              "      <td>28473.168047</td>\n",
              "    </tr>\n",
              "    <tr>\n",
              "      <th>529</th>\n",
              "      <td>2021-05-17</td>\n",
              "      <td>2 wk ahead inc case</td>\n",
              "      <td>2021-05-29</td>\n",
              "      <td>42</td>\n",
              "      <td>point</td>\n",
              "      <td>NaN</td>\n",
              "      <td>10053.915950</td>\n",
              "    </tr>\n",
              "    <tr>\n",
              "      <th>...</th>\n",
              "      <td>...</td>\n",
              "      <td>...</td>\n",
              "      <td>...</td>\n",
              "      <td>...</td>\n",
              "      <td>...</td>\n",
              "      <td>...</td>\n",
              "      <td>...</td>\n",
              "    </tr>\n",
              "    <tr>\n",
              "      <th>535</th>\n",
              "      <td>2022-03-07</td>\n",
              "      <td>4 wk ahead inc case</td>\n",
              "      <td>2022-04-02</td>\n",
              "      <td>42</td>\n",
              "      <td>point</td>\n",
              "      <td>NaN</td>\n",
              "      <td>5652.144363</td>\n",
              "    </tr>\n",
              "    <tr>\n",
              "      <th>532</th>\n",
              "      <td>2022-03-14</td>\n",
              "      <td>3 wk ahead inc case</td>\n",
              "      <td>2022-04-02</td>\n",
              "      <td>42</td>\n",
              "      <td>point</td>\n",
              "      <td>NaN</td>\n",
              "      <td>959.547599</td>\n",
              "    </tr>\n",
              "    <tr>\n",
              "      <th>538</th>\n",
              "      <td>2022-03-07</td>\n",
              "      <td>5 wk ahead inc case</td>\n",
              "      <td>2022-04-09</td>\n",
              "      <td>42</td>\n",
              "      <td>point</td>\n",
              "      <td>NaN</td>\n",
              "      <td>5668.496479</td>\n",
              "    </tr>\n",
              "    <tr>\n",
              "      <th>535</th>\n",
              "      <td>2022-03-14</td>\n",
              "      <td>4 wk ahead inc case</td>\n",
              "      <td>2022-04-09</td>\n",
              "      <td>42</td>\n",
              "      <td>point</td>\n",
              "      <td>NaN</td>\n",
              "      <td>963.272551</td>\n",
              "    </tr>\n",
              "    <tr>\n",
              "      <th>538</th>\n",
              "      <td>2022-03-14</td>\n",
              "      <td>5 wk ahead inc case</td>\n",
              "      <td>2022-04-16</td>\n",
              "      <td>42</td>\n",
              "      <td>point</td>\n",
              "      <td>NaN</td>\n",
              "      <td>966.997503</td>\n",
              "    </tr>\n",
              "  </tbody>\n",
              "</table>\n",
              "<p>214 rows × 7 columns</p>\n",
              "</div>\n",
              "      <button class=\"colab-df-convert\" onclick=\"convertToInteractive('df-59998ba3-24e7-4528-9bad-3992cb88b6c5')\"\n",
              "              title=\"Convert this dataframe to an interactive table.\"\n",
              "              style=\"display:none;\">\n",
              "        \n",
              "  <svg xmlns=\"http://www.w3.org/2000/svg\" height=\"24px\"viewBox=\"0 0 24 24\"\n",
              "       width=\"24px\">\n",
              "    <path d=\"M0 0h24v24H0V0z\" fill=\"none\"/>\n",
              "    <path d=\"M18.56 5.44l.94 2.06.94-2.06 2.06-.94-2.06-.94-.94-2.06-.94 2.06-2.06.94zm-11 1L8.5 8.5l.94-2.06 2.06-.94-2.06-.94L8.5 2.5l-.94 2.06-2.06.94zm10 10l.94 2.06.94-2.06 2.06-.94-2.06-.94-.94-2.06-.94 2.06-2.06.94z\"/><path d=\"M17.41 7.96l-1.37-1.37c-.4-.4-.92-.59-1.43-.59-.52 0-1.04.2-1.43.59L10.3 9.45l-7.72 7.72c-.78.78-.78 2.05 0 2.83L4 21.41c.39.39.9.59 1.41.59.51 0 1.02-.2 1.41-.59l7.78-7.78 2.81-2.81c.8-.78.8-2.07 0-2.86zM5.41 20L4 18.59l7.72-7.72 1.47 1.35L5.41 20z\"/>\n",
              "  </svg>\n",
              "      </button>\n",
              "      \n",
              "  <style>\n",
              "    .colab-df-container {\n",
              "      display:flex;\n",
              "      flex-wrap:wrap;\n",
              "      gap: 12px;\n",
              "    }\n",
              "\n",
              "    .colab-df-convert {\n",
              "      background-color: #E8F0FE;\n",
              "      border: none;\n",
              "      border-radius: 50%;\n",
              "      cursor: pointer;\n",
              "      display: none;\n",
              "      fill: #1967D2;\n",
              "      height: 32px;\n",
              "      padding: 0 0 0 0;\n",
              "      width: 32px;\n",
              "    }\n",
              "\n",
              "    .colab-df-convert:hover {\n",
              "      background-color: #E2EBFA;\n",
              "      box-shadow: 0px 1px 2px rgba(60, 64, 67, 0.3), 0px 1px 3px 1px rgba(60, 64, 67, 0.15);\n",
              "      fill: #174EA6;\n",
              "    }\n",
              "\n",
              "    [theme=dark] .colab-df-convert {\n",
              "      background-color: #3B4455;\n",
              "      fill: #D2E3FC;\n",
              "    }\n",
              "\n",
              "    [theme=dark] .colab-df-convert:hover {\n",
              "      background-color: #434B5C;\n",
              "      box-shadow: 0px 1px 3px 1px rgba(0, 0, 0, 0.15);\n",
              "      filter: drop-shadow(0px 1px 2px rgba(0, 0, 0, 0.3));\n",
              "      fill: #FFFFFF;\n",
              "    }\n",
              "  </style>\n",
              "\n",
              "      <script>\n",
              "        const buttonEl =\n",
              "          document.querySelector('#df-59998ba3-24e7-4528-9bad-3992cb88b6c5 button.colab-df-convert');\n",
              "        buttonEl.style.display =\n",
              "          google.colab.kernel.accessAllowed ? 'block' : 'none';\n",
              "\n",
              "        async function convertToInteractive(key) {\n",
              "          const element = document.querySelector('#df-59998ba3-24e7-4528-9bad-3992cb88b6c5');\n",
              "          const dataTable =\n",
              "            await google.colab.kernel.invokeFunction('convertToInteractive',\n",
              "                                                     [key], {});\n",
              "          if (!dataTable) return;\n",
              "\n",
              "          const docLinkHtml = 'Like what you see? Visit the ' +\n",
              "            '<a target=\"_blank\" href=https://colab.research.google.com/notebooks/data_table.ipynb>data table notebook</a>'\n",
              "            + ' to learn more about interactive tables.';\n",
              "          element.innerHTML = '';\n",
              "          dataTable['output_type'] = 'display_data';\n",
              "          await google.colab.output.renderOutput(dataTable, element);\n",
              "          const docLink = document.createElement('div');\n",
              "          docLink.innerHTML = docLinkHtml;\n",
              "          element.appendChild(docLink);\n",
              "        }\n",
              "      </script>\n",
              "    </div>\n",
              "  </div>\n",
              "  "
            ]
          },
          "metadata": {},
          "execution_count": 31
        }
      ],
      "source": [
        "#sort datasets by date\n",
        "df1.sort_values(by='Date')\n",
        "df2.sort_values(by='target_end_date')"
      ]
    },
    {
      "cell_type": "code",
      "execution_count": 32,
      "id": "62636568",
      "metadata": {
        "id": "62636568",
        "outputId": "dbabe842-0639-4141-e45a-55756b6e8ce8",
        "colab": {
          "base_uri": "https://localhost:8080/"
        }
      },
      "outputs": [
        {
          "output_type": "execute_result",
          "data": {
            "text/plain": [
              "(43, 7)"
            ]
          },
          "metadata": {},
          "execution_count": 32
        }
      ],
      "source": [
        "#filterinng out data for PA (FIPS code = 42)\n",
        "df2_2 = df2[df2['target'].str.contains('1')]\n",
        "df2_2.shape"
      ]
    },
    {
      "cell_type": "code",
      "execution_count": 33,
      "id": "e4c01c47",
      "metadata": {
        "id": "e4c01c47"
      },
      "outputs": [],
      "source": [
        "#finding weekly increase in cases in PA\n",
        "df_weekly=df2_2.groupby('target_end_date').agg('last').reset_index()\n",
        "df_weekly.rename(\n",
        "    columns={\"target_end_date\":\"Date\"},inplace=True)\n",
        "#df_weekly"
      ]
    },
    {
      "cell_type": "code",
      "execution_count": 34,
      "id": "c6e2730d",
      "metadata": {
        "id": "c6e2730d",
        "colab": {
          "base_uri": "https://localhost:8080/",
          "height": 206
        },
        "outputId": "757945b0-b585-4ba8-df78-111c656c1e56"
      },
      "outputs": [
        {
          "output_type": "execute_result",
          "data": {
            "text/plain": [
              "        Date forecast_date               target location   type  quantile  \\\n",
              "0 2021-05-15    2021-05-10  1 wk ahead inc case       42  point       NaN   \n",
              "1 2021-05-22    2021-05-17  1 wk ahead inc case       42  point       NaN   \n",
              "2 2021-05-29    2021-05-24  1 wk ahead inc case       42  point       NaN   \n",
              "3 2021-06-05    2021-05-31  1 wk ahead inc case       42  point       NaN   \n",
              "4 2021-06-12    2021-06-07  1 wk ahead inc case       42  point       NaN   \n",
              "\n",
              "          value      dayRate  \n",
              "0  17508.990812  2501.284402  \n",
              "1  12943.000000  1849.000000  \n",
              "2  10027.000000  1432.428571  \n",
              "3   6933.000000   990.428571  \n",
              "4   3923.000000   560.428571  "
            ],
            "text/html": [
              "\n",
              "  <div id=\"df-fba50f1e-3ee5-4a2a-8ebb-847350061120\">\n",
              "    <div class=\"colab-df-container\">\n",
              "      <div>\n",
              "<style scoped>\n",
              "    .dataframe tbody tr th:only-of-type {\n",
              "        vertical-align: middle;\n",
              "    }\n",
              "\n",
              "    .dataframe tbody tr th {\n",
              "        vertical-align: top;\n",
              "    }\n",
              "\n",
              "    .dataframe thead th {\n",
              "        text-align: right;\n",
              "    }\n",
              "</style>\n",
              "<table border=\"1\" class=\"dataframe\">\n",
              "  <thead>\n",
              "    <tr style=\"text-align: right;\">\n",
              "      <th></th>\n",
              "      <th>Date</th>\n",
              "      <th>forecast_date</th>\n",
              "      <th>target</th>\n",
              "      <th>location</th>\n",
              "      <th>type</th>\n",
              "      <th>quantile</th>\n",
              "      <th>value</th>\n",
              "      <th>dayRate</th>\n",
              "    </tr>\n",
              "  </thead>\n",
              "  <tbody>\n",
              "    <tr>\n",
              "      <th>0</th>\n",
              "      <td>2021-05-15</td>\n",
              "      <td>2021-05-10</td>\n",
              "      <td>1 wk ahead inc case</td>\n",
              "      <td>42</td>\n",
              "      <td>point</td>\n",
              "      <td>NaN</td>\n",
              "      <td>17508.990812</td>\n",
              "      <td>2501.284402</td>\n",
              "    </tr>\n",
              "    <tr>\n",
              "      <th>1</th>\n",
              "      <td>2021-05-22</td>\n",
              "      <td>2021-05-17</td>\n",
              "      <td>1 wk ahead inc case</td>\n",
              "      <td>42</td>\n",
              "      <td>point</td>\n",
              "      <td>NaN</td>\n",
              "      <td>12943.000000</td>\n",
              "      <td>1849.000000</td>\n",
              "    </tr>\n",
              "    <tr>\n",
              "      <th>2</th>\n",
              "      <td>2021-05-29</td>\n",
              "      <td>2021-05-24</td>\n",
              "      <td>1 wk ahead inc case</td>\n",
              "      <td>42</td>\n",
              "      <td>point</td>\n",
              "      <td>NaN</td>\n",
              "      <td>10027.000000</td>\n",
              "      <td>1432.428571</td>\n",
              "    </tr>\n",
              "    <tr>\n",
              "      <th>3</th>\n",
              "      <td>2021-06-05</td>\n",
              "      <td>2021-05-31</td>\n",
              "      <td>1 wk ahead inc case</td>\n",
              "      <td>42</td>\n",
              "      <td>point</td>\n",
              "      <td>NaN</td>\n",
              "      <td>6933.000000</td>\n",
              "      <td>990.428571</td>\n",
              "    </tr>\n",
              "    <tr>\n",
              "      <th>4</th>\n",
              "      <td>2021-06-12</td>\n",
              "      <td>2021-06-07</td>\n",
              "      <td>1 wk ahead inc case</td>\n",
              "      <td>42</td>\n",
              "      <td>point</td>\n",
              "      <td>NaN</td>\n",
              "      <td>3923.000000</td>\n",
              "      <td>560.428571</td>\n",
              "    </tr>\n",
              "  </tbody>\n",
              "</table>\n",
              "</div>\n",
              "      <button class=\"colab-df-convert\" onclick=\"convertToInteractive('df-fba50f1e-3ee5-4a2a-8ebb-847350061120')\"\n",
              "              title=\"Convert this dataframe to an interactive table.\"\n",
              "              style=\"display:none;\">\n",
              "        \n",
              "  <svg xmlns=\"http://www.w3.org/2000/svg\" height=\"24px\"viewBox=\"0 0 24 24\"\n",
              "       width=\"24px\">\n",
              "    <path d=\"M0 0h24v24H0V0z\" fill=\"none\"/>\n",
              "    <path d=\"M18.56 5.44l.94 2.06.94-2.06 2.06-.94-2.06-.94-.94-2.06-.94 2.06-2.06.94zm-11 1L8.5 8.5l.94-2.06 2.06-.94-2.06-.94L8.5 2.5l-.94 2.06-2.06.94zm10 10l.94 2.06.94-2.06 2.06-.94-2.06-.94-.94-2.06-.94 2.06-2.06.94z\"/><path d=\"M17.41 7.96l-1.37-1.37c-.4-.4-.92-.59-1.43-.59-.52 0-1.04.2-1.43.59L10.3 9.45l-7.72 7.72c-.78.78-.78 2.05 0 2.83L4 21.41c.39.39.9.59 1.41.59.51 0 1.02-.2 1.41-.59l7.78-7.78 2.81-2.81c.8-.78.8-2.07 0-2.86zM5.41 20L4 18.59l7.72-7.72 1.47 1.35L5.41 20z\"/>\n",
              "  </svg>\n",
              "      </button>\n",
              "      \n",
              "  <style>\n",
              "    .colab-df-container {\n",
              "      display:flex;\n",
              "      flex-wrap:wrap;\n",
              "      gap: 12px;\n",
              "    }\n",
              "\n",
              "    .colab-df-convert {\n",
              "      background-color: #E8F0FE;\n",
              "      border: none;\n",
              "      border-radius: 50%;\n",
              "      cursor: pointer;\n",
              "      display: none;\n",
              "      fill: #1967D2;\n",
              "      height: 32px;\n",
              "      padding: 0 0 0 0;\n",
              "      width: 32px;\n",
              "    }\n",
              "\n",
              "    .colab-df-convert:hover {\n",
              "      background-color: #E2EBFA;\n",
              "      box-shadow: 0px 1px 2px rgba(60, 64, 67, 0.3), 0px 1px 3px 1px rgba(60, 64, 67, 0.15);\n",
              "      fill: #174EA6;\n",
              "    }\n",
              "\n",
              "    [theme=dark] .colab-df-convert {\n",
              "      background-color: #3B4455;\n",
              "      fill: #D2E3FC;\n",
              "    }\n",
              "\n",
              "    [theme=dark] .colab-df-convert:hover {\n",
              "      background-color: #434B5C;\n",
              "      box-shadow: 0px 1px 3px 1px rgba(0, 0, 0, 0.15);\n",
              "      filter: drop-shadow(0px 1px 2px rgba(0, 0, 0, 0.3));\n",
              "      fill: #FFFFFF;\n",
              "    }\n",
              "  </style>\n",
              "\n",
              "      <script>\n",
              "        const buttonEl =\n",
              "          document.querySelector('#df-fba50f1e-3ee5-4a2a-8ebb-847350061120 button.colab-df-convert');\n",
              "        buttonEl.style.display =\n",
              "          google.colab.kernel.accessAllowed ? 'block' : 'none';\n",
              "\n",
              "        async function convertToInteractive(key) {\n",
              "          const element = document.querySelector('#df-fba50f1e-3ee5-4a2a-8ebb-847350061120');\n",
              "          const dataTable =\n",
              "            await google.colab.kernel.invokeFunction('convertToInteractive',\n",
              "                                                     [key], {});\n",
              "          if (!dataTable) return;\n",
              "\n",
              "          const docLinkHtml = 'Like what you see? Visit the ' +\n",
              "            '<a target=\"_blank\" href=https://colab.research.google.com/notebooks/data_table.ipynb>data table notebook</a>'\n",
              "            + ' to learn more about interactive tables.';\n",
              "          element.innerHTML = '';\n",
              "          dataTable['output_type'] = 'display_data';\n",
              "          await google.colab.output.renderOutput(dataTable, element);\n",
              "          const docLink = document.createElement('div');\n",
              "          docLink.innerHTML = docLinkHtml;\n",
              "          element.appendChild(docLink);\n",
              "        }\n",
              "      </script>\n",
              "    </div>\n",
              "  </div>\n",
              "  "
            ]
          },
          "metadata": {},
          "execution_count": 34
        }
      ],
      "source": [
        "#creating a column for daily additions\n",
        "df_weekly[\"dayRate\"] = df_weekly[\"value\"] / 7\n",
        "mask = (df_weekly['Date'] <= '2021-12-02')\n",
        "df_weekly = df_weekly.loc[mask]\n",
        "df_weekly.head(5)"
      ]
    },
    {
      "cell_type": "code",
      "source": [
        "df_weekly.tail(5)"
      ],
      "metadata": {
        "colab": {
          "base_uri": "https://localhost:8080/",
          "height": 206
        },
        "id": "K57WSz8IyEkx",
        "outputId": "029646cb-c15e-4690-c983-2158f0fd311a"
      },
      "id": "K57WSz8IyEkx",
      "execution_count": 35,
      "outputs": [
        {
          "output_type": "execute_result",
          "data": {
            "text/plain": [
              "         Date forecast_date               target location   type  quantile  \\\n",
              "22 2021-10-16    2021-10-11  1 wk ahead inc case       42  point       NaN   \n",
              "23 2021-10-23    2021-10-18  1 wk ahead inc case       42  point       NaN   \n",
              "24 2021-10-30    2021-10-25  1 wk ahead inc case       42  point       NaN   \n",
              "25 2021-11-06    2021-11-01  1 wk ahead inc case       42  point       NaN   \n",
              "26 2021-11-13    2021-11-08  1 wk ahead inc case       42  point       NaN   \n",
              "\n",
              "           value      dayRate  \n",
              "22  40081.720029  5725.960004  \n",
              "23  29002.466523  4143.209503  \n",
              "24  27065.530379  3866.504340  \n",
              "25  26381.552882  3768.793269  \n",
              "26  28831.921147  4118.845878  "
            ],
            "text/html": [
              "\n",
              "  <div id=\"df-b725b5f0-ca03-492f-914a-751e90ad495e\">\n",
              "    <div class=\"colab-df-container\">\n",
              "      <div>\n",
              "<style scoped>\n",
              "    .dataframe tbody tr th:only-of-type {\n",
              "        vertical-align: middle;\n",
              "    }\n",
              "\n",
              "    .dataframe tbody tr th {\n",
              "        vertical-align: top;\n",
              "    }\n",
              "\n",
              "    .dataframe thead th {\n",
              "        text-align: right;\n",
              "    }\n",
              "</style>\n",
              "<table border=\"1\" class=\"dataframe\">\n",
              "  <thead>\n",
              "    <tr style=\"text-align: right;\">\n",
              "      <th></th>\n",
              "      <th>Date</th>\n",
              "      <th>forecast_date</th>\n",
              "      <th>target</th>\n",
              "      <th>location</th>\n",
              "      <th>type</th>\n",
              "      <th>quantile</th>\n",
              "      <th>value</th>\n",
              "      <th>dayRate</th>\n",
              "    </tr>\n",
              "  </thead>\n",
              "  <tbody>\n",
              "    <tr>\n",
              "      <th>22</th>\n",
              "      <td>2021-10-16</td>\n",
              "      <td>2021-10-11</td>\n",
              "      <td>1 wk ahead inc case</td>\n",
              "      <td>42</td>\n",
              "      <td>point</td>\n",
              "      <td>NaN</td>\n",
              "      <td>40081.720029</td>\n",
              "      <td>5725.960004</td>\n",
              "    </tr>\n",
              "    <tr>\n",
              "      <th>23</th>\n",
              "      <td>2021-10-23</td>\n",
              "      <td>2021-10-18</td>\n",
              "      <td>1 wk ahead inc case</td>\n",
              "      <td>42</td>\n",
              "      <td>point</td>\n",
              "      <td>NaN</td>\n",
              "      <td>29002.466523</td>\n",
              "      <td>4143.209503</td>\n",
              "    </tr>\n",
              "    <tr>\n",
              "      <th>24</th>\n",
              "      <td>2021-10-30</td>\n",
              "      <td>2021-10-25</td>\n",
              "      <td>1 wk ahead inc case</td>\n",
              "      <td>42</td>\n",
              "      <td>point</td>\n",
              "      <td>NaN</td>\n",
              "      <td>27065.530379</td>\n",
              "      <td>3866.504340</td>\n",
              "    </tr>\n",
              "    <tr>\n",
              "      <th>25</th>\n",
              "      <td>2021-11-06</td>\n",
              "      <td>2021-11-01</td>\n",
              "      <td>1 wk ahead inc case</td>\n",
              "      <td>42</td>\n",
              "      <td>point</td>\n",
              "      <td>NaN</td>\n",
              "      <td>26381.552882</td>\n",
              "      <td>3768.793269</td>\n",
              "    </tr>\n",
              "    <tr>\n",
              "      <th>26</th>\n",
              "      <td>2021-11-13</td>\n",
              "      <td>2021-11-08</td>\n",
              "      <td>1 wk ahead inc case</td>\n",
              "      <td>42</td>\n",
              "      <td>point</td>\n",
              "      <td>NaN</td>\n",
              "      <td>28831.921147</td>\n",
              "      <td>4118.845878</td>\n",
              "    </tr>\n",
              "  </tbody>\n",
              "</table>\n",
              "</div>\n",
              "      <button class=\"colab-df-convert\" onclick=\"convertToInteractive('df-b725b5f0-ca03-492f-914a-751e90ad495e')\"\n",
              "              title=\"Convert this dataframe to an interactive table.\"\n",
              "              style=\"display:none;\">\n",
              "        \n",
              "  <svg xmlns=\"http://www.w3.org/2000/svg\" height=\"24px\"viewBox=\"0 0 24 24\"\n",
              "       width=\"24px\">\n",
              "    <path d=\"M0 0h24v24H0V0z\" fill=\"none\"/>\n",
              "    <path d=\"M18.56 5.44l.94 2.06.94-2.06 2.06-.94-2.06-.94-.94-2.06-.94 2.06-2.06.94zm-11 1L8.5 8.5l.94-2.06 2.06-.94-2.06-.94L8.5 2.5l-.94 2.06-2.06.94zm10 10l.94 2.06.94-2.06 2.06-.94-2.06-.94-.94-2.06-.94 2.06-2.06.94z\"/><path d=\"M17.41 7.96l-1.37-1.37c-.4-.4-.92-.59-1.43-.59-.52 0-1.04.2-1.43.59L10.3 9.45l-7.72 7.72c-.78.78-.78 2.05 0 2.83L4 21.41c.39.39.9.59 1.41.59.51 0 1.02-.2 1.41-.59l7.78-7.78 2.81-2.81c.8-.78.8-2.07 0-2.86zM5.41 20L4 18.59l7.72-7.72 1.47 1.35L5.41 20z\"/>\n",
              "  </svg>\n",
              "      </button>\n",
              "      \n",
              "  <style>\n",
              "    .colab-df-container {\n",
              "      display:flex;\n",
              "      flex-wrap:wrap;\n",
              "      gap: 12px;\n",
              "    }\n",
              "\n",
              "    .colab-df-convert {\n",
              "      background-color: #E8F0FE;\n",
              "      border: none;\n",
              "      border-radius: 50%;\n",
              "      cursor: pointer;\n",
              "      display: none;\n",
              "      fill: #1967D2;\n",
              "      height: 32px;\n",
              "      padding: 0 0 0 0;\n",
              "      width: 32px;\n",
              "    }\n",
              "\n",
              "    .colab-df-convert:hover {\n",
              "      background-color: #E2EBFA;\n",
              "      box-shadow: 0px 1px 2px rgba(60, 64, 67, 0.3), 0px 1px 3px 1px rgba(60, 64, 67, 0.15);\n",
              "      fill: #174EA6;\n",
              "    }\n",
              "\n",
              "    [theme=dark] .colab-df-convert {\n",
              "      background-color: #3B4455;\n",
              "      fill: #D2E3FC;\n",
              "    }\n",
              "\n",
              "    [theme=dark] .colab-df-convert:hover {\n",
              "      background-color: #434B5C;\n",
              "      box-shadow: 0px 1px 3px 1px rgba(0, 0, 0, 0.15);\n",
              "      filter: drop-shadow(0px 1px 2px rgba(0, 0, 0, 0.3));\n",
              "      fill: #FFFFFF;\n",
              "    }\n",
              "  </style>\n",
              "\n",
              "      <script>\n",
              "        const buttonEl =\n",
              "          document.querySelector('#df-b725b5f0-ca03-492f-914a-751e90ad495e button.colab-df-convert');\n",
              "        buttonEl.style.display =\n",
              "          google.colab.kernel.accessAllowed ? 'block' : 'none';\n",
              "\n",
              "        async function convertToInteractive(key) {\n",
              "          const element = document.querySelector('#df-b725b5f0-ca03-492f-914a-751e90ad495e');\n",
              "          const dataTable =\n",
              "            await google.colab.kernel.invokeFunction('convertToInteractive',\n",
              "                                                     [key], {});\n",
              "          if (!dataTable) return;\n",
              "\n",
              "          const docLinkHtml = 'Like what you see? Visit the ' +\n",
              "            '<a target=\"_blank\" href=https://colab.research.google.com/notebooks/data_table.ipynb>data table notebook</a>'\n",
              "            + ' to learn more about interactive tables.';\n",
              "          element.innerHTML = '';\n",
              "          dataTable['output_type'] = 'display_data';\n",
              "          await google.colab.output.renderOutput(dataTable, element);\n",
              "          const docLink = document.createElement('div');\n",
              "          docLink.innerHTML = docLinkHtml;\n",
              "          element.appendChild(docLink);\n",
              "        }\n",
              "      </script>\n",
              "    </div>\n",
              "  </div>\n",
              "  "
            ]
          },
          "metadata": {},
          "execution_count": 35
        }
      ]
    },
    {
      "cell_type": "code",
      "source": [
        "# creating a list of predictions from the model data\n",
        "predictions = []\n",
        "for i in df_weekly[\"dayRate\"]:\n",
        "    predictions.extend(repeat(i,7))\n",
        "del predictions[-6:]\n",
        "#preds = pd.DataFrame(predictions)\n",
        "#preds.drop(preds.tail(2).index,inplace=True) \n",
        "print(predictions)"
      ],
      "metadata": {
        "colab": {
          "base_uri": "https://localhost:8080/"
        },
        "id": "7M7bH5ao6y_t",
        "outputId": "2b724d22-eda8-4221-c596-e395251d1f04"
      },
      "id": "7M7bH5ao6y_t",
      "execution_count": 41,
      "outputs": [
        {
          "output_type": "stream",
          "name": "stdout",
          "text": [
            "[2501.2844016659405, 2501.2844016659405, 2501.2844016659405, 2501.2844016659405, 2501.2844016659405, 2501.2844016659405, 2501.2844016659405, 1849.0, 1849.0, 1849.0, 1849.0, 1849.0, 1849.0, 1849.0, 1432.4285714285713, 1432.4285714285713, 1432.4285714285713, 1432.4285714285713, 1432.4285714285713, 1432.4285714285713, 1432.4285714285713, 990.4285714285714, 990.4285714285714, 990.4285714285714, 990.4285714285714, 990.4285714285714, 990.4285714285714, 990.4285714285714, 560.4285714285714, 560.4285714285714, 560.4285714285714, 560.4285714285714, 560.4285714285714, 560.4285714285714, 560.4285714285714, 366.8442518480755, 366.8442518480755, 366.8442518480755, 366.8442518480755, 366.8442518480755, 366.8442518480755, 366.8442518480755, 234.0961136242035, 234.0961136242035, 234.0961136242035, 234.0961136242035, 234.0961136242035, 234.0961136242035, 234.0961136242035, 144.81568228105905, 144.81568228105905, 144.81568228105905, 144.81568228105905, 144.81568228105905, 144.81568228105905, 144.81568228105905, 179.36180124223603, 179.36180124223603, 179.36180124223603, 179.36180124223603, 179.36180124223603, 179.36180124223603, 179.36180124223603, 168.35137604202353, 168.35137604202353, 168.35137604202353, 168.35137604202353, 168.35137604202353, 168.35137604202353, 168.35137604202353, 348.75297123841216, 348.75297123841216, 348.75297123841216, 348.75297123841216, 348.75297123841216, 348.75297123841216, 348.75297123841216, 759.6022501550035, 759.6022501550035, 759.6022501550035, 759.6022501550035, 759.6022501550035, 759.6022501550035, 759.6022501550035, 839.9504918450803, 839.9504918450803, 839.9504918450803, 839.9504918450803, 839.9504918450803, 839.9504918450803, 839.9504918450803, 630.3885262857142, 630.3885262857142, 630.3885262857142, 630.3885262857142, 630.3885262857142, 630.3885262857142, 630.3885262857142, 1962.0110203632873, 1962.0110203632873, 1962.0110203632873, 1962.0110203632873, 1962.0110203632873, 1962.0110203632873, 1962.0110203632873, 2886.189415855092, 2886.189415855092, 2886.189415855092, 2886.189415855092, 2886.189415855092, 2886.189415855092, 2886.189415855092, 3432.4243014016356, 3432.4243014016356, 3432.4243014016356, 3432.4243014016356, 3432.4243014016356, 3432.4243014016356, 3432.4243014016356, 3735.1575336675346, 3735.1575336675346, 3735.1575336675346, 3735.1575336675346, 3735.1575336675346, 3735.1575336675346, 3735.1575336675346, 4107.6194225174795, 4107.6194225174795, 4107.6194225174795, 4107.6194225174795, 4107.6194225174795, 4107.6194225174795, 4107.6194225174795, 5089.28393557162, 5089.28393557162, 5089.28393557162, 5089.28393557162, 5089.28393557162, 5089.28393557162, 5089.28393557162, 4515.87397178771, 4515.87397178771, 4515.87397178771, 4515.87397178771, 4515.87397178771, 4515.87397178771, 4515.87397178771, 4334.957461806136, 4334.957461806136, 4334.957461806136, 4334.957461806136, 4334.957461806136, 4334.957461806136, 4334.957461806136, 5725.9600041212925, 5725.9600041212925, 5725.9600041212925, 5725.9600041212925, 5725.9600041212925, 5725.9600041212925, 5725.9600041212925, 4143.20950332191, 4143.20950332191, 4143.20950332191, 4143.20950332191, 4143.20950332191, 4143.20950332191, 4143.20950332191, 3866.504339905755, 3866.504339905755, 3866.504339905755, 3866.504339905755, 3866.504339905755, 3866.504339905755, 3866.504339905755, 3768.7932688049427, 3768.7932688049427, 3768.7932688049427, 3768.7932688049427, 3768.7932688049427, 3768.7932688049427, 3768.7932688049427, 4118.845878075355]\n"
          ]
        }
      ]
    },
    {
      "cell_type": "code",
      "source": [
        "len(predictions)"
      ],
      "metadata": {
        "colab": {
          "base_uri": "https://localhost:8080/"
        },
        "id": "bAUxPUYG5gaj",
        "outputId": "84c29ba2-ec01-41b6-a651-fe01f499c5e1"
      },
      "id": "bAUxPUYG5gaj",
      "execution_count": 42,
      "outputs": [
        {
          "output_type": "execute_result",
          "data": {
            "text/plain": [
              "183"
            ]
          },
          "metadata": {},
          "execution_count": 42
        }
      ]
    },
    {
      "cell_type": "code",
      "execution_count": 43,
      "id": "65a9fbb1",
      "metadata": {
        "id": "65a9fbb1",
        "outputId": "4ccfba4b-0ad7-45bb-c877-480e31f7a083",
        "colab": {
          "base_uri": "https://localhost:8080/",
          "height": 206
        }
      },
      "outputs": [
        {
          "output_type": "execute_result",
          "data": {
            "text/plain": [
              "        Date  New Cases  7-day Average New Cases  \\\n",
              "0 2021-05-15       2140                   3686.1   \n",
              "1 2021-05-16       1630                   3630.0   \n",
              "2 2021-05-17       3930                   3428.7   \n",
              "3 2021-05-18       2554                   3175.9   \n",
              "4 2021-05-19       2854                   2974.2   \n",
              "\n",
              "   Cumulative cases                            Population (2019)  \\\n",
              "0                                     2398022           25603978   \n",
              "1                                     2399652           25603978   \n",
              "2                                     2403582           25603978   \n",
              "3                                     2406136           25603978   \n",
              "4                                     2408990           25603978   \n",
              "\n",
              "   New Case Rate  7-Day Average New Case Rate  Cumulative Case Rate  \\\n",
              "0          580.5                       1090.7              637395.5   \n",
              "1          444.6                       1076.0              637840.2   \n",
              "2         1207.7                       1007.3              639047.1   \n",
              "3          716.0                        940.4              639763.1   \n",
              "4          922.1                        892.8              640685.2   \n",
              "\n",
              "   County FIPS Code    Longitude     Latitude  \n",
              "0           2860489 -5275.682283  2774.207671  \n",
              "1           2860489 -5275.682283  2774.207671  \n",
              "2           2860489 -5275.682283  2774.207671  \n",
              "3           2860489 -5275.682283  2774.207671  \n",
              "4           2860489 -5275.682283  2774.207671  "
            ],
            "text/html": [
              "\n",
              "  <div id=\"df-6b76c671-fa58-444d-b536-1bb0cc9d0024\">\n",
              "    <div class=\"colab-df-container\">\n",
              "      <div>\n",
              "<style scoped>\n",
              "    .dataframe tbody tr th:only-of-type {\n",
              "        vertical-align: middle;\n",
              "    }\n",
              "\n",
              "    .dataframe tbody tr th {\n",
              "        vertical-align: top;\n",
              "    }\n",
              "\n",
              "    .dataframe thead th {\n",
              "        text-align: right;\n",
              "    }\n",
              "</style>\n",
              "<table border=\"1\" class=\"dataframe\">\n",
              "  <thead>\n",
              "    <tr style=\"text-align: right;\">\n",
              "      <th></th>\n",
              "      <th>Date</th>\n",
              "      <th>New Cases</th>\n",
              "      <th>7-day Average New Cases</th>\n",
              "      <th>Cumulative cases</th>\n",
              "      <th>Population (2019)</th>\n",
              "      <th>New Case Rate</th>\n",
              "      <th>7-Day Average New Case Rate</th>\n",
              "      <th>Cumulative Case Rate</th>\n",
              "      <th>County FIPS Code</th>\n",
              "      <th>Longitude</th>\n",
              "      <th>Latitude</th>\n",
              "    </tr>\n",
              "  </thead>\n",
              "  <tbody>\n",
              "    <tr>\n",
              "      <th>0</th>\n",
              "      <td>2021-05-15</td>\n",
              "      <td>2140</td>\n",
              "      <td>3686.1</td>\n",
              "      <td>2398022</td>\n",
              "      <td>25603978</td>\n",
              "      <td>580.5</td>\n",
              "      <td>1090.7</td>\n",
              "      <td>637395.5</td>\n",
              "      <td>2860489</td>\n",
              "      <td>-5275.682283</td>\n",
              "      <td>2774.207671</td>\n",
              "    </tr>\n",
              "    <tr>\n",
              "      <th>1</th>\n",
              "      <td>2021-05-16</td>\n",
              "      <td>1630</td>\n",
              "      <td>3630.0</td>\n",
              "      <td>2399652</td>\n",
              "      <td>25603978</td>\n",
              "      <td>444.6</td>\n",
              "      <td>1076.0</td>\n",
              "      <td>637840.2</td>\n",
              "      <td>2860489</td>\n",
              "      <td>-5275.682283</td>\n",
              "      <td>2774.207671</td>\n",
              "    </tr>\n",
              "    <tr>\n",
              "      <th>2</th>\n",
              "      <td>2021-05-17</td>\n",
              "      <td>3930</td>\n",
              "      <td>3428.7</td>\n",
              "      <td>2403582</td>\n",
              "      <td>25603978</td>\n",
              "      <td>1207.7</td>\n",
              "      <td>1007.3</td>\n",
              "      <td>639047.1</td>\n",
              "      <td>2860489</td>\n",
              "      <td>-5275.682283</td>\n",
              "      <td>2774.207671</td>\n",
              "    </tr>\n",
              "    <tr>\n",
              "      <th>3</th>\n",
              "      <td>2021-05-18</td>\n",
              "      <td>2554</td>\n",
              "      <td>3175.9</td>\n",
              "      <td>2406136</td>\n",
              "      <td>25603978</td>\n",
              "      <td>716.0</td>\n",
              "      <td>940.4</td>\n",
              "      <td>639763.1</td>\n",
              "      <td>2860489</td>\n",
              "      <td>-5275.682283</td>\n",
              "      <td>2774.207671</td>\n",
              "    </tr>\n",
              "    <tr>\n",
              "      <th>4</th>\n",
              "      <td>2021-05-19</td>\n",
              "      <td>2854</td>\n",
              "      <td>2974.2</td>\n",
              "      <td>2408990</td>\n",
              "      <td>25603978</td>\n",
              "      <td>922.1</td>\n",
              "      <td>892.8</td>\n",
              "      <td>640685.2</td>\n",
              "      <td>2860489</td>\n",
              "      <td>-5275.682283</td>\n",
              "      <td>2774.207671</td>\n",
              "    </tr>\n",
              "  </tbody>\n",
              "</table>\n",
              "</div>\n",
              "      <button class=\"colab-df-convert\" onclick=\"convertToInteractive('df-6b76c671-fa58-444d-b536-1bb0cc9d0024')\"\n",
              "              title=\"Convert this dataframe to an interactive table.\"\n",
              "              style=\"display:none;\">\n",
              "        \n",
              "  <svg xmlns=\"http://www.w3.org/2000/svg\" height=\"24px\"viewBox=\"0 0 24 24\"\n",
              "       width=\"24px\">\n",
              "    <path d=\"M0 0h24v24H0V0z\" fill=\"none\"/>\n",
              "    <path d=\"M18.56 5.44l.94 2.06.94-2.06 2.06-.94-2.06-.94-.94-2.06-.94 2.06-2.06.94zm-11 1L8.5 8.5l.94-2.06 2.06-.94-2.06-.94L8.5 2.5l-.94 2.06-2.06.94zm10 10l.94 2.06.94-2.06 2.06-.94-2.06-.94-.94-2.06-.94 2.06-2.06.94z\"/><path d=\"M17.41 7.96l-1.37-1.37c-.4-.4-.92-.59-1.43-.59-.52 0-1.04.2-1.43.59L10.3 9.45l-7.72 7.72c-.78.78-.78 2.05 0 2.83L4 21.41c.39.39.9.59 1.41.59.51 0 1.02-.2 1.41-.59l7.78-7.78 2.81-2.81c.8-.78.8-2.07 0-2.86zM5.41 20L4 18.59l7.72-7.72 1.47 1.35L5.41 20z\"/>\n",
              "  </svg>\n",
              "      </button>\n",
              "      \n",
              "  <style>\n",
              "    .colab-df-container {\n",
              "      display:flex;\n",
              "      flex-wrap:wrap;\n",
              "      gap: 12px;\n",
              "    }\n",
              "\n",
              "    .colab-df-convert {\n",
              "      background-color: #E8F0FE;\n",
              "      border: none;\n",
              "      border-radius: 50%;\n",
              "      cursor: pointer;\n",
              "      display: none;\n",
              "      fill: #1967D2;\n",
              "      height: 32px;\n",
              "      padding: 0 0 0 0;\n",
              "      width: 32px;\n",
              "    }\n",
              "\n",
              "    .colab-df-convert:hover {\n",
              "      background-color: #E2EBFA;\n",
              "      box-shadow: 0px 1px 2px rgba(60, 64, 67, 0.3), 0px 1px 3px 1px rgba(60, 64, 67, 0.15);\n",
              "      fill: #174EA6;\n",
              "    }\n",
              "\n",
              "    [theme=dark] .colab-df-convert {\n",
              "      background-color: #3B4455;\n",
              "      fill: #D2E3FC;\n",
              "    }\n",
              "\n",
              "    [theme=dark] .colab-df-convert:hover {\n",
              "      background-color: #434B5C;\n",
              "      box-shadow: 0px 1px 3px 1px rgba(0, 0, 0, 0.15);\n",
              "      filter: drop-shadow(0px 1px 2px rgba(0, 0, 0, 0.3));\n",
              "      fill: #FFFFFF;\n",
              "    }\n",
              "  </style>\n",
              "\n",
              "      <script>\n",
              "        const buttonEl =\n",
              "          document.querySelector('#df-6b76c671-fa58-444d-b536-1bb0cc9d0024 button.colab-df-convert');\n",
              "        buttonEl.style.display =\n",
              "          google.colab.kernel.accessAllowed ? 'block' : 'none';\n",
              "\n",
              "        async function convertToInteractive(key) {\n",
              "          const element = document.querySelector('#df-6b76c671-fa58-444d-b536-1bb0cc9d0024');\n",
              "          const dataTable =\n",
              "            await google.colab.kernel.invokeFunction('convertToInteractive',\n",
              "                                                     [key], {});\n",
              "          if (!dataTable) return;\n",
              "\n",
              "          const docLinkHtml = 'Like what you see? Visit the ' +\n",
              "            '<a target=\"_blank\" href=https://colab.research.google.com/notebooks/data_table.ipynb>data table notebook</a>'\n",
              "            + ' to learn more about interactive tables.';\n",
              "          element.innerHTML = '';\n",
              "          dataTable['output_type'] = 'display_data';\n",
              "          await google.colab.output.renderOutput(dataTable, element);\n",
              "          const docLink = document.createElement('div');\n",
              "          docLink.innerHTML = docLinkHtml;\n",
              "          element.appendChild(docLink);\n",
              "        }\n",
              "      </script>\n",
              "    </div>\n",
              "  </div>\n",
              "  "
            ]
          },
          "metadata": {},
          "execution_count": 43
        }
      ],
      "source": [
        "#select all the dates to be merged with prediction list\n",
        "mask = (df1['Date'] >= '2021-05-15') & (df1['Date'] <= '2021-11-13')\n",
        "df1_copy = df1.loc[mask]\n",
        "df1_copy = df1_copy.groupby([\"Date\"]).sum().reset_index()\n",
        "df1_copy.head(5)"
      ]
    },
    {
      "cell_type": "code",
      "source": [
        "df1_copy.tail(5)"
      ],
      "metadata": {
        "colab": {
          "base_uri": "https://localhost:8080/",
          "height": 206
        },
        "id": "Ek0vcUpUzBEr",
        "outputId": "77fa1619-9dbb-427f-e16f-8efe0d67cce2"
      },
      "id": "Ek0vcUpUzBEr",
      "execution_count": 44,
      "outputs": [
        {
          "output_type": "execute_result",
          "data": {
            "text/plain": [
              "          Date  New Cases  7-day Average New Cases  \\\n",
              "178 2021-11-09      10598                   9029.8   \n",
              "179 2021-11-10      11298                   9194.2   \n",
              "180 2021-11-11      12918                   9506.6   \n",
              "181 2021-11-12      11282                   9720.6   \n",
              "182 2021-11-13       9280                   9929.8   \n",
              "\n",
              "     Cumulative cases                            Population (2019)  \\\n",
              "178                                     3248090           25603978   \n",
              "179                                     3259388           25603978   \n",
              "180                                     3272306           25603978   \n",
              "181                                     3283588           25603978   \n",
              "182                                     3292868           25603978   \n",
              "\n",
              "     New Case Rate  7-Day Average New Case Rate  Cumulative Case Rate  \\\n",
              "178         4027.7                       3252.5              915507.7   \n",
              "179         4219.0                       3301.2              919726.6   \n",
              "180         4988.6                       3433.6              924715.3   \n",
              "181         3921.0                       3478.2              928636.1   \n",
              "182         3500.8                       3622.3              932136.4   \n",
              "\n",
              "     County FIPS Code    Longitude     Latitude  \n",
              "178           2860489 -5275.682283  2774.207671  \n",
              "179           2860489 -5275.682283  2774.207671  \n",
              "180           2860489 -5275.682283  2774.207671  \n",
              "181           2860489 -5275.682283  2774.207671  \n",
              "182           2860489 -5275.682283  2774.207671  "
            ],
            "text/html": [
              "\n",
              "  <div id=\"df-f22930c1-3017-4ffd-b31f-4a712bf13de1\">\n",
              "    <div class=\"colab-df-container\">\n",
              "      <div>\n",
              "<style scoped>\n",
              "    .dataframe tbody tr th:only-of-type {\n",
              "        vertical-align: middle;\n",
              "    }\n",
              "\n",
              "    .dataframe tbody tr th {\n",
              "        vertical-align: top;\n",
              "    }\n",
              "\n",
              "    .dataframe thead th {\n",
              "        text-align: right;\n",
              "    }\n",
              "</style>\n",
              "<table border=\"1\" class=\"dataframe\">\n",
              "  <thead>\n",
              "    <tr style=\"text-align: right;\">\n",
              "      <th></th>\n",
              "      <th>Date</th>\n",
              "      <th>New Cases</th>\n",
              "      <th>7-day Average New Cases</th>\n",
              "      <th>Cumulative cases</th>\n",
              "      <th>Population (2019)</th>\n",
              "      <th>New Case Rate</th>\n",
              "      <th>7-Day Average New Case Rate</th>\n",
              "      <th>Cumulative Case Rate</th>\n",
              "      <th>County FIPS Code</th>\n",
              "      <th>Longitude</th>\n",
              "      <th>Latitude</th>\n",
              "    </tr>\n",
              "  </thead>\n",
              "  <tbody>\n",
              "    <tr>\n",
              "      <th>178</th>\n",
              "      <td>2021-11-09</td>\n",
              "      <td>10598</td>\n",
              "      <td>9029.8</td>\n",
              "      <td>3248090</td>\n",
              "      <td>25603978</td>\n",
              "      <td>4027.7</td>\n",
              "      <td>3252.5</td>\n",
              "      <td>915507.7</td>\n",
              "      <td>2860489</td>\n",
              "      <td>-5275.682283</td>\n",
              "      <td>2774.207671</td>\n",
              "    </tr>\n",
              "    <tr>\n",
              "      <th>179</th>\n",
              "      <td>2021-11-10</td>\n",
              "      <td>11298</td>\n",
              "      <td>9194.2</td>\n",
              "      <td>3259388</td>\n",
              "      <td>25603978</td>\n",
              "      <td>4219.0</td>\n",
              "      <td>3301.2</td>\n",
              "      <td>919726.6</td>\n",
              "      <td>2860489</td>\n",
              "      <td>-5275.682283</td>\n",
              "      <td>2774.207671</td>\n",
              "    </tr>\n",
              "    <tr>\n",
              "      <th>180</th>\n",
              "      <td>2021-11-11</td>\n",
              "      <td>12918</td>\n",
              "      <td>9506.6</td>\n",
              "      <td>3272306</td>\n",
              "      <td>25603978</td>\n",
              "      <td>4988.6</td>\n",
              "      <td>3433.6</td>\n",
              "      <td>924715.3</td>\n",
              "      <td>2860489</td>\n",
              "      <td>-5275.682283</td>\n",
              "      <td>2774.207671</td>\n",
              "    </tr>\n",
              "    <tr>\n",
              "      <th>181</th>\n",
              "      <td>2021-11-12</td>\n",
              "      <td>11282</td>\n",
              "      <td>9720.6</td>\n",
              "      <td>3283588</td>\n",
              "      <td>25603978</td>\n",
              "      <td>3921.0</td>\n",
              "      <td>3478.2</td>\n",
              "      <td>928636.1</td>\n",
              "      <td>2860489</td>\n",
              "      <td>-5275.682283</td>\n",
              "      <td>2774.207671</td>\n",
              "    </tr>\n",
              "    <tr>\n",
              "      <th>182</th>\n",
              "      <td>2021-11-13</td>\n",
              "      <td>9280</td>\n",
              "      <td>9929.8</td>\n",
              "      <td>3292868</td>\n",
              "      <td>25603978</td>\n",
              "      <td>3500.8</td>\n",
              "      <td>3622.3</td>\n",
              "      <td>932136.4</td>\n",
              "      <td>2860489</td>\n",
              "      <td>-5275.682283</td>\n",
              "      <td>2774.207671</td>\n",
              "    </tr>\n",
              "  </tbody>\n",
              "</table>\n",
              "</div>\n",
              "      <button class=\"colab-df-convert\" onclick=\"convertToInteractive('df-f22930c1-3017-4ffd-b31f-4a712bf13de1')\"\n",
              "              title=\"Convert this dataframe to an interactive table.\"\n",
              "              style=\"display:none;\">\n",
              "        \n",
              "  <svg xmlns=\"http://www.w3.org/2000/svg\" height=\"24px\"viewBox=\"0 0 24 24\"\n",
              "       width=\"24px\">\n",
              "    <path d=\"M0 0h24v24H0V0z\" fill=\"none\"/>\n",
              "    <path d=\"M18.56 5.44l.94 2.06.94-2.06 2.06-.94-2.06-.94-.94-2.06-.94 2.06-2.06.94zm-11 1L8.5 8.5l.94-2.06 2.06-.94-2.06-.94L8.5 2.5l-.94 2.06-2.06.94zm10 10l.94 2.06.94-2.06 2.06-.94-2.06-.94-.94-2.06-.94 2.06-2.06.94z\"/><path d=\"M17.41 7.96l-1.37-1.37c-.4-.4-.92-.59-1.43-.59-.52 0-1.04.2-1.43.59L10.3 9.45l-7.72 7.72c-.78.78-.78 2.05 0 2.83L4 21.41c.39.39.9.59 1.41.59.51 0 1.02-.2 1.41-.59l7.78-7.78 2.81-2.81c.8-.78.8-2.07 0-2.86zM5.41 20L4 18.59l7.72-7.72 1.47 1.35L5.41 20z\"/>\n",
              "  </svg>\n",
              "      </button>\n",
              "      \n",
              "  <style>\n",
              "    .colab-df-container {\n",
              "      display:flex;\n",
              "      flex-wrap:wrap;\n",
              "      gap: 12px;\n",
              "    }\n",
              "\n",
              "    .colab-df-convert {\n",
              "      background-color: #E8F0FE;\n",
              "      border: none;\n",
              "      border-radius: 50%;\n",
              "      cursor: pointer;\n",
              "      display: none;\n",
              "      fill: #1967D2;\n",
              "      height: 32px;\n",
              "      padding: 0 0 0 0;\n",
              "      width: 32px;\n",
              "    }\n",
              "\n",
              "    .colab-df-convert:hover {\n",
              "      background-color: #E2EBFA;\n",
              "      box-shadow: 0px 1px 2px rgba(60, 64, 67, 0.3), 0px 1px 3px 1px rgba(60, 64, 67, 0.15);\n",
              "      fill: #174EA6;\n",
              "    }\n",
              "\n",
              "    [theme=dark] .colab-df-convert {\n",
              "      background-color: #3B4455;\n",
              "      fill: #D2E3FC;\n",
              "    }\n",
              "\n",
              "    [theme=dark] .colab-df-convert:hover {\n",
              "      background-color: #434B5C;\n",
              "      box-shadow: 0px 1px 3px 1px rgba(0, 0, 0, 0.15);\n",
              "      filter: drop-shadow(0px 1px 2px rgba(0, 0, 0, 0.3));\n",
              "      fill: #FFFFFF;\n",
              "    }\n",
              "  </style>\n",
              "\n",
              "      <script>\n",
              "        const buttonEl =\n",
              "          document.querySelector('#df-f22930c1-3017-4ffd-b31f-4a712bf13de1 button.colab-df-convert');\n",
              "        buttonEl.style.display =\n",
              "          google.colab.kernel.accessAllowed ? 'block' : 'none';\n",
              "\n",
              "        async function convertToInteractive(key) {\n",
              "          const element = document.querySelector('#df-f22930c1-3017-4ffd-b31f-4a712bf13de1');\n",
              "          const dataTable =\n",
              "            await google.colab.kernel.invokeFunction('convertToInteractive',\n",
              "                                                     [key], {});\n",
              "          if (!dataTable) return;\n",
              "\n",
              "          const docLinkHtml = 'Like what you see? Visit the ' +\n",
              "            '<a target=\"_blank\" href=https://colab.research.google.com/notebooks/data_table.ipynb>data table notebook</a>'\n",
              "            + ' to learn more about interactive tables.';\n",
              "          element.innerHTML = '';\n",
              "          dataTable['output_type'] = 'display_data';\n",
              "          await google.colab.output.renderOutput(dataTable, element);\n",
              "          const docLink = document.createElement('div');\n",
              "          docLink.innerHTML = docLinkHtml;\n",
              "          element.appendChild(docLink);\n",
              "        }\n",
              "      </script>\n",
              "    </div>\n",
              "  </div>\n",
              "  "
            ]
          },
          "metadata": {},
          "execution_count": 44
        }
      ]
    },
    {
      "cell_type": "code",
      "source": [
        "len(df1_copy)"
      ],
      "metadata": {
        "colab": {
          "base_uri": "https://localhost:8080/"
        },
        "id": "E4GmTswG-Max",
        "outputId": "285ecea8-873f-4f55-d11e-a3bad9f9d1bb"
      },
      "id": "E4GmTswG-Max",
      "execution_count": 45,
      "outputs": [
        {
          "output_type": "execute_result",
          "data": {
            "text/plain": [
              "183"
            ]
          },
          "metadata": {},
          "execution_count": 45
        }
      ]
    },
    {
      "cell_type": "code",
      "source": [
        "# assigning predictions list to the actual dataframe\n",
        "df1_copy['Prediction'] = predictions"
      ],
      "metadata": {
        "id": "7HHOfOpl4JA2"
      },
      "id": "7HHOfOpl4JA2",
      "execution_count": 46,
      "outputs": []
    },
    {
      "cell_type": "code",
      "source": [
        "df1_copy.head(20)"
      ],
      "metadata": {
        "id": "a8HZNoDm5m-p"
      },
      "id": "a8HZNoDm5m-p",
      "execution_count": null,
      "outputs": []
    },
    {
      "cell_type": "code",
      "source": [
        "# renaming the dataframe for graphing\n",
        "merged_df_new = df1_copy"
      ],
      "metadata": {
        "id": "tB3yrsBFBVzZ"
      },
      "id": "tB3yrsBFBVzZ",
      "execution_count": 48,
      "outputs": []
    },
    {
      "cell_type": "code",
      "source": [
        "merged_df_new.shape"
      ],
      "metadata": {
        "colab": {
          "base_uri": "https://localhost:8080/"
        },
        "id": "D_rU8Xdc6NUr",
        "outputId": "74ea321e-ec58-473a-aaee-af1f337e18e8"
      },
      "id": "D_rU8Xdc6NUr",
      "execution_count": 49,
      "outputs": [
        {
          "output_type": "execute_result",
          "data": {
            "text/plain": [
              "(183, 12)"
            ]
          },
          "metadata": {},
          "execution_count": 49
        }
      ]
    },
    {
      "cell_type": "code",
      "execution_count": 50,
      "id": "d516c1b3",
      "metadata": {
        "id": "d516c1b3",
        "colab": {
          "base_uri": "https://localhost:8080/",
          "height": 295
        },
        "outputId": "f6b69eee-e5c9-4c16-d055-32691211fd7c"
      },
      "outputs": [
        {
          "output_type": "display_data",
          "data": {
            "text/plain": [
              "<Figure size 432x288 with 1 Axes>"
            ],
            "image/png": "[encoded data removed]"
          },
          "metadata": {
            "needs_background": "light"
          }
        }
      ],
      "source": [
        "#Create plot of Actual vs. Predicted Cases\n",
        "\n",
        "#Actual Cases Line\n",
        "plt.plot(merged_df_new['Date'], merged_df_new['New Cases'], color='g', label='Actual Cases')\n",
        "\n",
        "#Predicted Cases Line\n",
        "plt.plot(merged_df_new['Date'], merged_df_new['Prediction'], color='r', label='Predicted Cases')\n",
        "\n",
        "#Create XY Labels and Title\n",
        "plt.xlabel('Date (Year/Month/Day)') \n",
        "plt.ylabel('Number of Cases') \n",
        "plt.title(\"Predicted Daily Cases vs Actual Cases in PA\")\n",
        "\n",
        "#Display Plot\n",
        "plt.legend()\n",
        "plt.show()"
      ]
    },
    {
      "cell_type": "code",
      "execution_count": 51,
      "id": "4eee31c3",
      "metadata": {
        "id": "4eee31c3",
        "colab": {
          "base_uri": "https://localhost:8080/"
        },
        "outputId": "85efaec8-dd9e-46d4-b323-e0df3efdd5b8"
      },
      "outputs": [
        {
          "output_type": "stream",
          "name": "stdout",
          "text": [
            "163\n",
            "0.8907103825136612\n",
            "20\n",
            "0.10928961748633881\n",
            "183\n",
            "[0.1688244867597853, 0.5345303077705157, 0.3635408647160457, 0.020640406552098454, 0.12358640446182882, 0.3890365408729994, 0.0976607497597617, 0.03697916666666667, 0.45361635220125784, 0.25623491552695093, 0.17602495543672014, 0.09184675834970531, 0.1327392120075047, 0.09928656361474435, 0.3853274385189278, 0.7012215812690871, 0.40434173669467777, 0.08177655677655683, 0.12435523660013448, 0.13291248702870984, 0.07378453630327686, 0.25370705244122965, 1.0379188712522047, 0.2508104603414739, 0.1004761904761905, 0.16910354745925216, 0.06957729095958039, 0.3384169884169884, 0.38036593947924, 0.5481452249408051, 0.40506521079769486, 0.006332320162107367, 0.1610350727117194, 0.07824248120300749, 0.0945870535714286, 0.3791137287521635, 0.5677104779832286, 0.31813336087718314, 0.2603946535321059, 0.1919730135504945, 0.1428872620372068, 0.10087193174491302, 0.16394245134213037, 0.2585812560441048, 0.4205541741975161, 0.3903747041036367, 0.3935333843932552, 0.34610024127317457, 0.49764782484076503, 0.5140413346273186, 0.4113183647111421, 0.3169071590516082, 0.6485056255314101, 0.7204330457894613, 0.7056591823555711, 0.7366987594889836, 0.5625321920921073, 0.3453948859772408, 0.7473777447292451, 0.7232070968484012, 0.7919236644521624, 0.7966419487049479, 0.8002652547413853, 0.7553032324970589, 0.6592077408056204, 0.8608666313702286, 0.8523233543491022, 0.8568440679914766, 0.8708961840168531, 0.8743646447447586, 0.7088873361949816, 0.5991345158179171, 0.8379400691271319, 0.7901606671249025, 0.8394323336839723, 0.835338540491779, 0.8542002628601956, 0.6186735691992954, 0.5732571628342676, 0.7588564285222211, 0.7375251381634405, 0.7954759692635963, 0.7835891025199421, 0.7780238894929856, 0.6721504715671037, 0.6223244191344064, 0.8036581365486021, 0.7790766723184954, 0.8218934495663528, 0.7970153475483132, 0.8162033934693479, 0.8522988457624849, 0.7545216019136627, 0.879050551364982, 0.8589103566952295, 0.9204657423308461, 0.8742241567666174, 0.8877113419512445, 0.5526650660366421, 0.4621680316986603, 0.6822139584769538, 0.7346482255391821, 0.6979662838110703, 0.7527707887647067, 0.7458534947715949, 0.4430356202518155, 0.432522725942766, 0.5967882906042061, 0.6329871037824145, 0.6127999173792471, 0.6451697300399444, 0.6903894640790504, 0.4483406780132376, 0.3104812572515798, 0.259295575873622, 0.659143564905498, 0.6048325694909469, 0.6697051288104662, 0.6824769378906905, 0.506323350030725, 0.4035200361437984, 0.6052465088070668, 0.5370404643446289, 0.7030404250542587, 0.6744677066700772, 0.6484226719062939, 0.5463199224080539, 0.19490015238779312, 0.5785327906302606, 0.5539075344789879, 0.6339020122533441, 0.5972132356817533, 0.6176824811506442, 0.3938442192029991, 0.16950327422134145, 0.523296746387072, 0.47684170070193055, 0.4909698004029186, 0.5340336993616902, 0.36998218178118103, 0.6104990536667492, 0.43096346121626644, 0.5313538842063398, 0.5420006113805568, 0.6406847571779353, 0.5919882569761736, 0.58886799237184, 0.46666369810456004, 0.21268480533851505, 0.5340759391867868, 0.5464576834268533, 0.6193398786612104, 0.5854095771034682, 0.545601943206904, 0.2247549412237622, 0.023873166702814096, 0.2602118857724428, 0.35532988019350453, 0.3413894635241209, 0.3845700769431113, 0.41903814893249874, 0.3020199623783844, 0.17202048294925854, 0.4480136552995057, 0.5420855986602663, 0.5339471874778504, 0.5594205121946076, 0.5358268537618295, 0.36238384896013276, 0.233140749721191, 0.479609106338391, 0.5285900585338021, 0.6189885356813407, 0.639721921365472, 0.6046519079850966, 0.517933836172302, 0.37767614451701736, 0.5333341668146431, 0.6443863682954385, 0.6664194309784969, 0.7082525724721364, 0.665946350930248, 0.5561588493453281]\n",
            "[0.1688244867597853, 0.5345303077705157, -0.3635408647160457, -0.020640406552098454, -0.12358640446182882, -0.3890365408729994, -0.0976607497597617, -0.03697916666666667, 0.45361635220125784, -0.25623491552695093, -0.17602495543672014, -0.09184675834970531, -0.1327392120075047, 0.09928656361474435, 0.3853274385189278, 0.7012215812690871, 0.40434173669467777, -0.08177655677655683, 0.12435523660013448, -0.13291248702870984, 0.07378453630327686, 0.25370705244122965, 1.0379188712522047, -0.2508104603414739, 0.1004761904761905, -0.16910354745925216, 0.06957729095958039, 0.3384169884169884, 0.38036593947924, 0.5481452249408051, -0.40506521079769486, -0.006332320162107367, -0.1610350727117194, -0.07824248120300749, 0.0945870535714286, 0.3791137287521635, 0.5677104779832286, -0.31813336087718314, -0.2603946535321059, -0.1919730135504945, -0.1428872620372068, -0.10087193174491302, -0.16394245134213037, 0.2585812560441048, -0.4205541741975161, -0.3903747041036367, -0.3935333843932552, -0.34610024127317457, -0.49764782484076503, -0.5140413346273186, -0.4113183647111421, -0.3169071590516082, -0.6485056255314101, -0.7204330457894613, -0.7056591823555711, -0.7366987594889836, -0.5625321920921073, -0.3453948859772408, -0.7473777447292451, -0.7232070968484012, -0.7919236644521624, -0.7966419487049479, -0.8002652547413853, -0.7553032324970589, -0.6592077408056204, -0.8608666313702286, -0.8523233543491022, -0.8568440679914766, -0.8708961840168531, -0.8743646447447586, -0.7088873361949816, -0.5991345158179171, -0.8379400691271319, -0.7901606671249025, -0.8394323336839723, -0.835338540491779, -0.8542002628601956, -0.6186735691992954, -0.5732571628342676, -0.7588564285222211, -0.7375251381634405, -0.7954759692635963, -0.7835891025199421, -0.7780238894929856, -0.6721504715671037, -0.6223244191344064, -0.8036581365486021, -0.7790766723184954, -0.8218934495663528, -0.7970153475483132, -0.8162033934693479, -0.8522988457624849, -0.7545216019136627, -0.879050551364982, -0.8589103566952295, -0.9204657423308461, -0.8742241567666174, -0.8877113419512445, -0.5526650660366421, -0.4621680316986603, -0.6822139584769538, -0.7346482255391821, -0.6979662838110703, -0.7527707887647067, -0.7458534947715949, -0.4430356202518155, -0.432522725942766, -0.5967882906042061, -0.6329871037824145, -0.6127999173792471, -0.6451697300399444, -0.6903894640790504, -0.4483406780132376, -0.3104812572515798, -0.259295575873622, -0.659143564905498, -0.6048325694909469, -0.6697051288104662, -0.6824769378906905, -0.506323350030725, -0.4035200361437984, -0.6052465088070668, -0.5370404643446289, -0.7030404250542587, -0.6744677066700772, -0.6484226719062939, -0.5463199224080539, -0.19490015238779312, -0.5785327906302606, -0.5539075344789879, -0.6339020122533441, -0.5972132356817533, -0.6176824811506442, -0.3938442192029991, -0.16950327422134145, -0.523296746387072, -0.47684170070193055, -0.4909698004029186, -0.5340336993616902, -0.36998218178118103, -0.6104990536667492, -0.43096346121626644, -0.5313538842063398, -0.5420006113805568, -0.6406847571779353, -0.5919882569761736, -0.58886799237184, -0.46666369810456004, -0.21268480533851505, -0.5340759391867868, -0.5464576834268533, -0.6193398786612104, -0.5854095771034682, -0.545601943206904, -0.2247549412237622, -0.023873166702814096, -0.2602118857724428, -0.35532988019350453, -0.3413894635241209, -0.3845700769431113, -0.41903814893249874, -0.3020199623783844, -0.17202048294925854, -0.4480136552995057, -0.5420855986602663, -0.5339471874778504, -0.5594205121946076, -0.5358268537618295, -0.36238384896013276, -0.233140749721191, -0.479609106338391, -0.5285900585338021, -0.6189885356813407, -0.639721921365472, -0.6046519079850966, -0.517933836172302, -0.37767614451701736, -0.5333341668146431, -0.6443863682954385, -0.6664194309784969, -0.7082525724721364, -0.665946350930248, -0.5561588493453281]\n"
          ]
        }
      ],
      "source": [
        "#error calculations\n",
        "#confirmed = merged_df_new['Actual']\n",
        "#projected = merged_df_new['Prediction']\n",
        "error = []\n",
        "rawerror = []\n",
        "\n",
        "for index, row in merged_df_new.iterrows():\n",
        "  rawerror.append(-1*(row['New Cases'] - row[\"Prediction\"]) / row['New Cases'])\n",
        "  error.append((abs(row['New Cases'] - row[\"Prediction\"])) / row['New Cases'])\n",
        "\n",
        "underpredictCount = 0\n",
        "overpredictCount = 0\n",
        "for x in rawerror:\n",
        "  if x < 0:\n",
        "    underpredictCount += 1\n",
        "  elif x > 0:\n",
        "    overpredictCount += 1\n",
        "\n",
        "underpredictPerecentage = underpredictCount / len(rawerror)\n",
        "overpredictPercentage = 1 - underpredictPerecentage\n",
        "\n",
        "print(underpredictCount)\n",
        "print(underpredictPerecentage)\n",
        "print(overpredictCount)\n",
        "print(overpredictPercentage)\n",
        "print(len(error))\n",
        "\n",
        "print(error)\n",
        "print(rawerror)"
      ]
    },
    {
      "cell_type": "code",
      "execution_count": 52,
      "id": "a0526cb0",
      "metadata": {
        "id": "a0526cb0",
        "colab": {
          "base_uri": "https://localhost:8080/"
        },
        "outputId": "1ffab25f-d6e9-46a5-b087-1a5d7fc1c1bd"
      },
      "outputs": [
        {
          "output_type": "stream",
          "name": "stdout",
          "text": [
            "[0.8311755132402147, 0.4654696922294843, 0.6364591352839544, 0.9793595934479016, 0.8764135955381712, 0.6109634591270006, 0.9023392502402383, 0.9630208333333333, 0.5463836477987422, 0.743765084473049, 0.8239750445632799, 0.9081532416502947, 0.8672607879924953, 0.9007134363852557, 0.6146725614810722, 0.29877841873091293, 0.5956582633053222, 0.9182234432234432, 0.8756447633998655, 0.8670875129712902, 0.9262154636967231, 0.7462929475587703, -0.03791887125220472, 0.7491895396585261, 0.8995238095238095, 0.8308964525407478, 0.9304227090404196, 0.6615830115830116, 0.61963406052076, 0.4518547750591949, 0.5949347892023051, 0.9936676798378926, 0.8389649272882806, 0.9217575187969925, 0.9054129464285714, 0.6208862712478365, 0.4322895220167714, 0.6818666391228169, 0.7396053464678941, 0.8080269864495055, 0.8571127379627932, 0.899128068255087, 0.8360575486578696, 0.7414187439558952, 0.5794458258024839, 0.6096252958963633, 0.6064666156067449, 0.6538997587268254, 0.502352175159235, 0.4859586653726814, 0.588681635288858, 0.6830928409483918, 0.3514943744685899, 0.2795669542105387, 0.2943408176444289, 0.26330124051101644, 0.43746780790789275, 0.6546051140227592, 0.2526222552707549, 0.27679290315159877, 0.20807633554783755, 0.20335805129505213, 0.19973474525861468, 0.24469676750294111, 0.3407922591943796, 0.13913336862977144, 0.14767664565089778, 0.1431559320085234, 0.1291038159831469, 0.1256353552552414, 0.29111266380501843, 0.4008654841820829, 0.16205993087286807, 0.20983933287509748, 0.1605676663160277, 0.16466145950822098, 0.14579973713980443, 0.3813264308007046, 0.42674283716573236, 0.24114357147777887, 0.26247486183655955, 0.20452403073640368, 0.21641089748005793, 0.22197611050701438, 0.3278495284328963, 0.3776755808655936, 0.19634186345139792, 0.22092332768150458, 0.1781065504336472, 0.20298465245168684, 0.1837966065306521, 0.14770115423751506, 0.2454783980863373, 0.120949448635018, 0.14108964330477047, 0.0795342576691539, 0.12577584323338264, 0.11228865804875554, 0.4473349339633579, 0.5378319683013397, 0.31778604152304624, 0.2653517744608179, 0.3020337161889297, 0.2472292112352933, 0.2541465052284051, 0.5569643797481845, 0.567477274057234, 0.40321170939579387, 0.3670128962175855, 0.3872000826207529, 0.3548302699600556, 0.30961053592094956, 0.5516593219867624, 0.6895187427484202, 0.740704424126378, 0.34085643509450203, 0.3951674305090531, 0.3302948711895338, 0.3175230621093095, 0.49367664996927496, 0.5964799638562016, 0.39475349119293324, 0.46295953565537107, 0.2969595749457413, 0.32553229332992284, 0.3515773280937061, 0.45368007759194606, 0.8050998476122069, 0.42146720936973936, 0.4460924655210121, 0.3660979877466559, 0.40278676431824667, 0.38231751884935583, 0.6061557807970008, 0.8304967257786585, 0.476703253612928, 0.5231582992980695, 0.5090301995970814, 0.4659663006383098, 0.630017818218819, 0.38950094633325083, 0.5690365387837335, 0.4686461157936602, 0.4579993886194432, 0.35931524282206473, 0.40801174302382637, 0.41113200762816005, 0.53333630189544, 0.7873151946614849, 0.46592406081321325, 0.4535423165731467, 0.38066012133878957, 0.4145904228965318, 0.454398056793096, 0.7752450587762378, 0.9761268332971859, 0.7397881142275572, 0.6446701198064955, 0.6586105364758791, 0.6154299230568887, 0.5809618510675012, 0.6979800376216156, 0.8279795170507415, 0.5519863447004942, 0.4579144013397337, 0.4660528125221496, 0.44057948780539236, 0.4641731462381705, 0.6376161510398672, 0.766859250278809, 0.5203908936616091, 0.47140994146619786, 0.3810114643186593, 0.360278078634528, 0.3953480920149034, 0.48206616382769796, 0.6223238554829826, 0.4666658331853569, 0.3556136317045615, 0.3335805690215031, 0.29174742752786365, 0.334053649069752, 0.4438411506546719]\n"
          ]
        }
      ],
      "source": [
        "#accuracy calculations\n",
        "accuracy = []\n",
        "\n",
        "for i in error:\n",
        "  accuracy.append(1 - i)\n",
        "\n",
        "print(accuracy)"
      ]
    },
    {
      "cell_type": "code",
      "execution_count": null,
      "id": "a8012f5e",
      "metadata": {
        "id": "a8012f5e"
      },
      "outputs": [],
      "source": [
        "#Create Error and Accuracy Column and insert list data\n",
        "merged_df_new['Error'] = error\n",
        "merged_df_new['Accuracy'] = accuracy\n",
        "merged_df_new['RawError'] = rawerror\n",
        "\n",
        "print(merged_df_new)"
      ]
    },
    {
      "cell_type": "code",
      "execution_count": 54,
      "id": "6a1f3c40",
      "metadata": {
        "id": "6a1f3c40",
        "colab": {
          "base_uri": "https://localhost:8080/",
          "height": 313
        },
        "outputId": "ed97f3e1-ee6d-4932-d11f-5c9d3a9609b3"
      },
      "outputs": [
        {
          "output_type": "execute_result",
          "data": {
            "text/plain": [
              "<matplotlib.legend.Legend at 0x7fd768c52110>"
            ]
          },
          "metadata": {},
          "execution_count": 54
        },
        {
          "output_type": "display_data",
          "data": {
            "text/plain": [
              "<Figure size 432x288 with 1 Axes>"
            ],
            "image/png": "[encoded data removed]"
          },
          "metadata": {
            "needs_background": "light"
          }
        }
      ],
      "source": [
        "from IPython.core.pylabtools import figsize\n",
        "#Create plot of Error\n",
        "\n",
        "#Error Line\n",
        "plt.plot(merged_df_new['Date'], merged_df_new['Error'], color='g', label='Error')\n",
        "\n",
        "\n",
        "#Create XY Labels and Title\n",
        "plt.xlabel('Date (Year/Month/Day)') \n",
        "plt.ylabel('Percentage') \n",
        "plt.title(\"Predicted Daily COVID-19 Case Error in PA\")\n",
        "#Display Plot\n",
        "plt.legend()"
      ]
    },
    {
      "cell_type": "code",
      "execution_count": 55,
      "id": "0480ef44",
      "metadata": {
        "id": "0480ef44",
        "colab": {
          "base_uri": "https://localhost:8080/",
          "height": 295
        },
        "outputId": "f5b29131-f4b4-4af9-9166-2c675292f9da"
      },
      "outputs": [
        {
          "output_type": "display_data",
          "data": {
            "text/plain": [
              "<Figure size 432x288 with 1 Axes>"
            ],
            "image/png": "[encoded data removed]"
          },
          "metadata": {
            "needs_background": "light"
          }
        }
      ],
      "source": [
        "#Create plot of Raw Error\n",
        "\n",
        "#Raw Error Line\n",
        "plt.plot(merged_df_new['Date'], merged_df_new['RawError'], color='g', label='Raw Error')\n",
        "plt.axhline(y=0.0, color='r', linestyle='-')\n",
        "\n",
        "#Create XY Labels and Title\n",
        "plt.xlabel('Date (Year/Month/Day)') \n",
        "plt.ylabel('Percentage') \n",
        "plt.title(\"Predicted Daily COVID-19 Case Raw Error in PA\")\n",
        "#Display Plot\n",
        "plt.legend()\n",
        "plt.show()"
      ]
    },
    {
      "cell_type": "code",
      "execution_count": 56,
      "id": "cb557ed1",
      "metadata": {
        "id": "cb557ed1",
        "colab": {
          "base_uri": "https://localhost:8080/",
          "height": 295
        },
        "outputId": "fbad9a7a-668c-4848-dc1e-149be5986262"
      },
      "outputs": [
        {
          "output_type": "display_data",
          "data": {
            "text/plain": [
              "<Figure size 432x288 with 1 Axes>"
            ],
            "image/png": "[encoded data removed]"
          },
          "metadata": {
            "needs_background": "light"
          }
        }
      ],
      "source": [
        "#Create plot of Accuracy\n",
        "\n",
        "#Accuracy Line\n",
        "plt.plot(merged_df_new['Date'], merged_df_new['Accuracy'], color='r', label='Daily Accuracy')\n",
        "\n",
        "#Create XY Labels and Title\n",
        "plt.xlabel('Date (Year/Month/Day)') \n",
        "plt.ylabel('Percentage') \n",
        "plt.title(\"Predicted Daily COVID-19 Case Accuracy in PA\")\n",
        "\n",
        "#Display Plot\n",
        "plt.legend()\n",
        "plt.show()"
      ]
    },
    {
      "cell_type": "code",
      "execution_count": 62,
      "id": "4d6b0409",
      "metadata": {
        "id": "4d6b0409"
      },
      "outputs": [],
      "source": [
        "#Calculate Weekly Accuracy Averages\n",
        "weeklyAccuracy = 0\n",
        "averageWeeklyAccuracy = []\n",
        "length = len(accuracy) #   =245\n",
        "amountOfWeeks = int(length / 7) #   =35\n",
        "remainderDays = length % 7 #  \n",
        "\n",
        "i = 0\n",
        "while i < length:\n",
        "  weeklyAccuracy += accuracy[i]\n",
        "  if (i + 1) % 7 == 0 and amountOfWeeks > 0:\n",
        "    averageWeeklyAccuracy.append(weeklyAccuracy / 7)\n",
        "    amountOfWeeks -= 1\n",
        "    weeklyAccuracy = 0\n",
        "  if remainderDays > 0:\n",
        "    if (i + 1) % remainderDays == 0 and amountOfWeeks == 0:\n",
        "      averageWeeklyAccuracy.append(weeklyAccuracy / remainderDays)\n",
        "      weeklyAccuracy = 0\n",
        "  i += 1\n",
        "\n",
        "weeklyDateList = []\n",
        "i = 0\n",
        "weeklyDateList.append(merged_df_new['Date'][i])\n",
        "while i < length:\n",
        "  if (i + 1) % 7 == 0:\n",
        "    weeklyDateList.append(merged_df_new['Date'][i])\n",
        "  i += 1"
      ]
    },
    {
      "cell_type": "code",
      "source": [
        "len(weeklyDateList)"
      ],
      "metadata": {
        "colab": {
          "base_uri": "https://localhost:8080/"
        },
        "id": "WJ-5HSFnNqoZ",
        "outputId": "7efe0bc4-99b0-4a92-b0ed-55bba5fc180d"
      },
      "id": "WJ-5HSFnNqoZ",
      "execution_count": 63,
      "outputs": [
        {
          "output_type": "execute_result",
          "data": {
            "text/plain": [
              "27"
            ]
          },
          "metadata": {},
          "execution_count": 63
        }
      ]
    },
    {
      "cell_type": "code",
      "source": [
        "del averageWeeklyAccuracy[-1:]\n",
        "len(averageWeeklyAccuracy)"
      ],
      "metadata": {
        "colab": {
          "base_uri": "https://localhost:8080/"
        },
        "id": "P90LPnPNNFv2",
        "outputId": "7cbadbb0-7f21-4ba7-c698-dbf47b078063"
      },
      "id": "P90LPnPNNFv2",
      "execution_count": 65,
      "outputs": [
        {
          "output_type": "execute_result",
          "data": {
            "text/plain": [
              "27"
            ]
          },
          "metadata": {},
          "execution_count": 65
        }
      ]
    },
    {
      "cell_type": "code",
      "execution_count": 66,
      "id": "04c4449c",
      "metadata": {
        "id": "04c4449c"
      },
      "outputs": [],
      "source": [
        "#Create Dataframe for Weekly Accuracy\n",
        "i = 0\n",
        "data = []\n",
        "while i < len(averageWeeklyAccuracy):\n",
        "  data.append([weeklyDateList[i], averageWeeklyAccuracy[i]])\n",
        "  i += 1\n",
        "\n",
        "df = pd.DataFrame(data, columns = ['Week Of', 'Average Weekly Accuracy'])"
      ]
    },
    {
      "cell_type": "code",
      "execution_count": 67,
      "id": "6132cdfa",
      "metadata": {
        "id": "6132cdfa",
        "colab": {
          "base_uri": "https://localhost:8080/",
          "height": 295
        },
        "outputId": "9b610f7b-53d4-4cfe-c085-3fabc383e75f"
      },
      "outputs": [
        {
          "output_type": "display_data",
          "data": {
            "text/plain": [
              "<Figure size 432x288 with 1 Axes>"
            ],
            "image/png": "[encoded data removed]"
          },
          "metadata": {
            "needs_background": "light"
          }
        }
      ],
      "source": [
        "#Create plot of Weekly Accuracy\n",
        "\n",
        "#Accuracy Line\n",
        "plt.plot(df['Week Of'], df['Average Weekly Accuracy'], color='r', label='Weekly Accuracy')\n",
        "\n",
        "#Create XY Labels and Title\n",
        "plt.xlabel('Week Of (Year/Month/Day)') \n",
        "plt.ylabel('Average Weekly Accuracy Percentage') \n",
        "plt.title(\"Predicted Daily COVID-19 Case Weekly Accuracy in PA\")\n",
        "\n",
        "#Display Plot\n",
        "plt.legend()\n",
        "plt.show()"
      ]
    },
    {
      "cell_type": "code",
      "execution_count": 68,
      "id": "5917fad0",
      "metadata": {
        "id": "5917fad0"
      },
      "outputs": [],
      "source": [
        "#Create Running Weekly Average\n",
        "runningweeklyAccuracy = 0\n",
        "runningAverageWeeklyAccuracy = []\n",
        "length = len(accuracy)\n",
        "\n",
        "i = 1\n",
        "j = 8\n",
        "#Add first week average\n",
        "runningAverageWeeklyAccuracy.append(averageWeeklyAccuracy[0])\n",
        "\n",
        "while j < length:\n",
        "  temp_i = i\n",
        "  temp_j = j\n",
        "  while temp_i < temp_j:\n",
        "    runningweeklyAccuracy += accuracy[temp_i]\n",
        "    temp_i += 1\n",
        "  runningAverageWeeklyAccuracy.append(runningweeklyAccuracy / 7)\n",
        "  runningweeklyAccuracy = 0\n",
        "\n",
        "  i += 1\n",
        "  j += 1"
      ]
    },
    {
      "cell_type": "code",
      "execution_count": 69,
      "id": "5b231780",
      "metadata": {
        "id": "5b231780"
      },
      "outputs": [],
      "source": [
        "#Create Dataframe for Running Weekly Accuracy\n",
        "i = 0\n",
        "data = []\n",
        "while i < len(runningAverageWeeklyAccuracy):\n",
        "  data.append([merged_df_new['Date'][i], runningAverageWeeklyAccuracy[i]])\n",
        "  i += 1\n",
        "\n",
        "df = pd.DataFrame(data, columns = ['Date', 'Running Weekly Average Accuracy'])"
      ]
    },
    {
      "cell_type": "code",
      "execution_count": 70,
      "id": "85337528",
      "metadata": {
        "id": "85337528",
        "colab": {
          "base_uri": "https://localhost:8080/",
          "height": 295
        },
        "outputId": "f6df2862-1a7a-4bd8-e457-a85a1e5afb58"
      },
      "outputs": [
        {
          "output_type": "display_data",
          "data": {
            "text/plain": [
              "<Figure size 432x288 with 1 Axes>"
            ],
            "image/png": "[encoded data removed]"
          },
          "metadata": {
            "needs_background": "light"
          }
        }
      ],
      "source": [
        "#Create plot of Running Weekly Accuracy\n",
        "\n",
        "#Accuracy Line\n",
        "plt.plot(df['Date'], df['Running Weekly Average Accuracy'], color='r', label='Running Weekly Accuracy')\n",
        "\n",
        "#Create XY Labels and Title\n",
        "plt.xlabel('Date') \n",
        "plt.ylabel('Accuracy Percentage') \n",
        "plt.title(\"Predicted Daily COVID-19 Case Running Weekly Accuracy in PA\")\n",
        "\n",
        "#Display Plot\n",
        "plt.legend()\n",
        "plt.show()"
      ]
    },
    {
      "cell_type": "code",
      "execution_count": 71,
      "id": "b8764ff7",
      "metadata": {
        "id": "b8764ff7",
        "colab": {
          "base_uri": "https://localhost:8080/",
          "height": 295
        },
        "outputId": "ce2a7143-dee8-4d41-c54a-da4d758310e2"
      },
      "outputs": [
        {
          "output_type": "display_data",
          "data": {
            "text/plain": [
              "<Figure size 432x288 with 1 Axes>"
            ],
            "image/png": "[encoded data removed]"
          },
          "metadata": {
            "needs_background": "light"
          }
        }
      ],
      "source": [
        "#Plot with combined daily accuracy and running weekly accuracy\n",
        "\n",
        "#Daily Accuracy\n",
        "plt.plot(merged_df_new['Date'], merged_df_new['Accuracy'], color='r', label='Daily Accuracy')\n",
        "\n",
        "#Running Accuracy Line\n",
        "plt.plot(df['Date'], df['Running Weekly Average Accuracy'], color='b', label='Running Weekly Accuracy')\n",
        "\n",
        "#Create XY Labels and Title\n",
        "plt.xlabel('Date') \n",
        "plt.ylabel('Accuracy Percentage') \n",
        "plt.title(\"Predicted Daily COVID-19 Case Accuracy in PA\")\n",
        "\n",
        "#Display Plot\n",
        "plt.legend()\n",
        "plt.show()"
      ]
    },
    {
      "cell_type": "code",
      "execution_count": 72,
      "id": "4243a737",
      "metadata": {
        "id": "4243a737"
      },
      "outputs": [],
      "source": [
        "#merged_df_new.to_csv('DDS_everyday_predictions.csv')"
      ]
    },
    {
      "cell_type": "code",
      "execution_count": 73,
      "id": "b8d57b22",
      "metadata": {
        "id": "b8d57b22"
      },
      "outputs": [],
      "source": [
        "#Calculate Monthly Accuracy Averages\n",
        "#We are going to use an average of 30 days per month for these calculations\n",
        "\n",
        "monthlyAccuracy = 0\n",
        "averageMonthlyAccuracy = []\n",
        "amountOfMonths = int(length / 30)\n",
        "remainderDays = length % 30\n",
        "\n",
        "i = 0\n",
        "while i < length:\n",
        "  monthlyAccuracy += accuracy[i]\n",
        "  if (i + 1) % 30 == 0 and amountOfMonths > 0:\n",
        "    averageMonthlyAccuracy.append(monthlyAccuracy / 30)\n",
        "    amountOfMonths -= 1\n",
        "    monthlyAccuracy = 0\n",
        "  if (i + 1) % remainderDays == 0 and remainderDays > 0 and amountOfMonths == 0:\n",
        "    averageMonthlyAccuracy.append(monthlyAccuracy / remainderDays)\n",
        "    monthlyAccuracy = 0\n",
        "  i += 1\n",
        "\n",
        "weeklyDateListForMonths = []\n",
        "i = 0\n",
        "weeklyDateListForMonths.append(merged_df_new['Date'][i])\n",
        "while i < length:\n",
        "  if (i + 1) % 30 == 0:\n",
        "    weeklyDateListForMonths.append(merged_df_new['Date'][i])\n",
        "  i += 1\n"
      ]
    },
    {
      "cell_type": "code",
      "execution_count": 74,
      "id": "c9d81c9a",
      "metadata": {
        "id": "c9d81c9a",
        "colab": {
          "base_uri": "https://localhost:8080/"
        },
        "outputId": "2805d08f-fd51-4547-9528-d1169b9c62ae"
      },
      "outputs": [
        {
          "output_type": "execute_result",
          "data": {
            "text/plain": [
              "7"
            ]
          },
          "metadata": {},
          "execution_count": 74
        }
      ],
      "source": [
        "del averageMonthlyAccuracy[-1:]\n",
        "len(averageMonthlyAccuracy)"
      ]
    },
    {
      "cell_type": "code",
      "execution_count": 75,
      "id": "d2d88cd5",
      "metadata": {
        "id": "d2d88cd5"
      },
      "outputs": [],
      "source": [
        "#Create Dataframe for Monthly Accuracy\n",
        "i = 0\n",
        "data = []\n",
        "while i < len(averageMonthlyAccuracy):\n",
        "  data.append([weeklyDateListForMonths[i], averageMonthlyAccuracy[i]])\n",
        "  i += 1\n",
        "\n",
        "df = pd.DataFrame(data, columns = ['Month Of', 'Average Monthly Accuracy'])"
      ]
    },
    {
      "cell_type": "code",
      "execution_count": 76,
      "id": "bbf2b69a",
      "metadata": {
        "id": "bbf2b69a",
        "colab": {
          "base_uri": "https://localhost:8080/",
          "height": 295
        },
        "outputId": "de21fb24-1ee2-4597-ae2a-da97ad043cee"
      },
      "outputs": [
        {
          "output_type": "display_data",
          "data": {
            "text/plain": [
              "<Figure size 432x288 with 1 Axes>"
            ],
            "image/png": "[encoded data removed]"
          },
          "metadata": {
            "needs_background": "light"
          }
        }
      ],
      "source": [
        "#Create plot of Monthly Accuracy\n",
        "\n",
        "#Accuracy Line\n",
        "plt.plot(df['Month Of'], df['Average Monthly Accuracy'], color='r', label='Monthly Accuracy')\n",
        "\n",
        "#Create XY Labels and Title\n",
        "plt.xlabel('Month Of (Year/Month/Day)') \n",
        "plt.ylabel('Average Monthly Accuracy Percentage') \n",
        "plt.title(\"Predicted Daily COVID-19 Case Monthly Accuracy in PA\")\n",
        "\n",
        "#Display Plot\n",
        "plt.legend()\n",
        "plt.show()"
      ]
    },
    {
      "cell_type": "code",
      "source": [
        "#Calculate Running Monthly Accuracy\n",
        "\n",
        "runningmonthlyAccuracy = 0\n",
        "runningAveragemonthlyAccuracy = []\n",
        "length = len(accuracy)\n",
        "\n",
        "i = 1\n",
        "j = 31\n",
        "#Add first week average\n",
        "runningAveragemonthlyAccuracy.append(averageMonthlyAccuracy[0])\n",
        "\n",
        "while j < length:\n",
        "  temp_i = i\n",
        "  temp_j = j\n",
        "  while temp_i < temp_j:\n",
        "    runningmonthlyAccuracy += accuracy[temp_i]\n",
        "    temp_i += 1\n",
        "  runningAveragemonthlyAccuracy.append(runningmonthlyAccuracy / 30)\n",
        "  runningmonthlyAccuracy = 0\n",
        "\n",
        "  i += 1\n",
        "  j += 1"
      ],
      "metadata": {
        "id": "X02LeClcSWTa"
      },
      "id": "X02LeClcSWTa",
      "execution_count": 77,
      "outputs": []
    },
    {
      "cell_type": "code",
      "source": [
        "#Create Dataframe for Running Monthly Accuracy\n",
        "i = 0\n",
        "data = []\n",
        "while i < len(runningAveragemonthlyAccuracy):\n",
        "  data.append([merged_df_new['Date'][i], runningAveragemonthlyAccuracy[i]])\n",
        "  i += 1\n",
        "\n",
        "df = pd.DataFrame(data, columns = ['Date', 'Running Monthly Average Accuracy'])"
      ],
      "metadata": {
        "id": "0IAKKnIZSc7e"
      },
      "id": "0IAKKnIZSc7e",
      "execution_count": 78,
      "outputs": []
    },
    {
      "cell_type": "code",
      "source": [
        "#Create plot of Running Monthly Accuracy\n",
        "\n",
        "#Accuracy Line\n",
        "plt.plot(df['Date'], df['Running Monthly Average Accuracy'], color='r', label='Running Monthly Accuracy')\n",
        "\n",
        "#Create XY Labels and Title\n",
        "plt.xlabel('Date') \n",
        "plt.ylabel('Accuracy Percentage') \n",
        "plt.title(\"Predicted Daily COVID-19 Case Running Monthly Accuracy in PA\")\n",
        "\n",
        "#Display Plot\n",
        "plt.legend()\n",
        "plt.show()"
      ],
      "metadata": {
        "colab": {
          "base_uri": "https://localhost:8080/",
          "height": 295
        },
        "id": "qhK2tbJaSkPW",
        "outputId": "f7dcb070-2055-43fc-a5d0-07c9e5c5d5d9"
      },
      "id": "qhK2tbJaSkPW",
      "execution_count": 79,
      "outputs": [
        {
          "output_type": "display_data",
          "data": {
            "text/plain": [
              "<Figure size 432x288 with 1 Axes>"
            ],
            "image/png": "[encoded data removed]"
          },
          "metadata": {
            "needs_background": "light"
          }
        }
      ]
    },
    {
      "cell_type": "code",
      "source": [
        "print(averageYearlyAccuracy)"
      ],
      "metadata": {
        "colab": {
          "base_uri": "https://localhost:8080/"
        },
        "id": "0X5tj6YASxgP",
        "outputId": "d88704b7-b222-48b2-f96f-aca9938f7a96"
      },
      "id": "0X5tj6YASxgP",
      "execution_count": 81,
      "outputs": [
        {
          "output_type": "stream",
          "name": "stdout",
          "text": [
            "[0.48996659263686676]\n"
          ]
        }
      ]
    },
    {
      "cell_type": "code",
      "source": [
        "#Calculate Overall Accuracy\n",
        "overallAccuracy = merged_df_new['Accuracy'].mean()\n",
        "print(overallAccuracy)"
      ],
      "metadata": {
        "colab": {
          "base_uri": "https://localhost:8080/"
        },
        "id": "wvfzf5lyTIzD",
        "outputId": "419675f1-0990-4dc6-d6b0-46eff2d5d221"
      },
      "id": "wvfzf5lyTIzD",
      "execution_count": 82,
      "outputs": [
        {
          "output_type": "stream",
          "name": "stdout",
          "text": [
            "0.48996659263686676\n"
          ]
        }
      ]
    },
    {
      "cell_type": "code",
      "source": [
        "#cleans accuracy list of all nan values\n",
        "newlist = [x for x in accuracy if math.isnan(x) == False]\n",
        "print(newlist)"
      ],
      "metadata": {
        "colab": {
          "base_uri": "https://localhost:8080/"
        },
        "id": "ulVDSL0kTiLj",
        "outputId": "64bf01f6-50eb-4810-fda7-e47c4ee8d084"
      },
      "id": "ulVDSL0kTiLj",
      "execution_count": 83,
      "outputs": [
        {
          "output_type": "stream",
          "name": "stdout",
          "text": [
            "[0.8311755132402147, 0.4654696922294843, 0.6364591352839544, 0.9793595934479016, 0.8764135955381712, 0.6109634591270006, 0.9023392502402383, 0.9630208333333333, 0.5463836477987422, 0.743765084473049, 0.8239750445632799, 0.9081532416502947, 0.8672607879924953, 0.9007134363852557, 0.6146725614810722, 0.29877841873091293, 0.5956582633053222, 0.9182234432234432, 0.8756447633998655, 0.8670875129712902, 0.9262154636967231, 0.7462929475587703, -0.03791887125220472, 0.7491895396585261, 0.8995238095238095, 0.8308964525407478, 0.9304227090404196, 0.6615830115830116, 0.61963406052076, 0.4518547750591949, 0.5949347892023051, 0.9936676798378926, 0.8389649272882806, 0.9217575187969925, 0.9054129464285714, 0.6208862712478365, 0.4322895220167714, 0.6818666391228169, 0.7396053464678941, 0.8080269864495055, 0.8571127379627932, 0.899128068255087, 0.8360575486578696, 0.7414187439558952, 0.5794458258024839, 0.6096252958963633, 0.6064666156067449, 0.6538997587268254, 0.502352175159235, 0.4859586653726814, 0.588681635288858, 0.6830928409483918, 0.3514943744685899, 0.2795669542105387, 0.2943408176444289, 0.26330124051101644, 0.43746780790789275, 0.6546051140227592, 0.2526222552707549, 0.27679290315159877, 0.20807633554783755, 0.20335805129505213, 0.19973474525861468, 0.24469676750294111, 0.3407922591943796, 0.13913336862977144, 0.14767664565089778, 0.1431559320085234, 0.1291038159831469, 0.1256353552552414, 0.29111266380501843, 0.4008654841820829, 0.16205993087286807, 0.20983933287509748, 0.1605676663160277, 0.16466145950822098, 0.14579973713980443, 0.3813264308007046, 0.42674283716573236, 0.24114357147777887, 0.26247486183655955, 0.20452403073640368, 0.21641089748005793, 0.22197611050701438, 0.3278495284328963, 0.3776755808655936, 0.19634186345139792, 0.22092332768150458, 0.1781065504336472, 0.20298465245168684, 0.1837966065306521, 0.14770115423751506, 0.2454783980863373, 0.120949448635018, 0.14108964330477047, 0.0795342576691539, 0.12577584323338264, 0.11228865804875554, 0.4473349339633579, 0.5378319683013397, 0.31778604152304624, 0.2653517744608179, 0.3020337161889297, 0.2472292112352933, 0.2541465052284051, 0.5569643797481845, 0.567477274057234, 0.40321170939579387, 0.3670128962175855, 0.3872000826207529, 0.3548302699600556, 0.30961053592094956, 0.5516593219867624, 0.6895187427484202, 0.740704424126378, 0.34085643509450203, 0.3951674305090531, 0.3302948711895338, 0.3175230621093095, 0.49367664996927496, 0.5964799638562016, 0.39475349119293324, 0.46295953565537107, 0.2969595749457413, 0.32553229332992284, 0.3515773280937061, 0.45368007759194606, 0.8050998476122069, 0.42146720936973936, 0.4460924655210121, 0.3660979877466559, 0.40278676431824667, 0.38231751884935583, 0.6061557807970008, 0.8304967257786585, 0.476703253612928, 0.5231582992980695, 0.5090301995970814, 0.4659663006383098, 0.630017818218819, 0.38950094633325083, 0.5690365387837335, 0.4686461157936602, 0.4579993886194432, 0.35931524282206473, 0.40801174302382637, 0.41113200762816005, 0.53333630189544, 0.7873151946614849, 0.46592406081321325, 0.4535423165731467, 0.38066012133878957, 0.4145904228965318, 0.454398056793096, 0.7752450587762378, 0.9761268332971859, 0.7397881142275572, 0.6446701198064955, 0.6586105364758791, 0.6154299230568887, 0.5809618510675012, 0.6979800376216156, 0.8279795170507415, 0.5519863447004942, 0.4579144013397337, 0.4660528125221496, 0.44057948780539236, 0.4641731462381705, 0.6376161510398672, 0.766859250278809, 0.5203908936616091, 0.47140994146619786, 0.3810114643186593, 0.360278078634528, 0.3953480920149034, 0.48206616382769796, 0.6223238554829826, 0.4666658331853569, 0.3556136317045615, 0.3335805690215031, 0.29174742752786365, 0.334053649069752, 0.4438411506546719]\n"
          ]
        }
      ]
    },
    {
      "cell_type": "code",
      "source": [
        "#calculate variance and st deviation of accuracy\n",
        "var = sum((l-overallAccuracy)**2 for l in newlist) / len(newlist)\n",
        "st_dev = math.sqrt(var)\n",
        "print(var)\n",
        "print(st_dev)"
      ],
      "metadata": {
        "colab": {
          "base_uri": "https://localhost:8080/"
        },
        "id": "ZijPJi2lTkrT",
        "outputId": "e709c4d9-bdf2-458f-856e-ed044603848d"
      },
      "id": "ZijPJi2lTkrT",
      "execution_count": 84,
      "outputs": [
        {
          "output_type": "stream",
          "name": "stdout",
          "text": [
            "0.05629395624999978\n",
            "0.23726347432759173\n"
          ]
        }
      ]
    },
    {
      "cell_type": "code",
      "source": [
        "#calculate median of accuracy\n",
        "accMedian = statistics.median(newlist)\n",
        "print(accMedian)"
      ],
      "metadata": {
        "colab": {
          "base_uri": "https://localhost:8080/"
        },
        "id": "JkBubTMaTmm0",
        "outputId": "d7bd38a4-e968-421b-e2d2-bb3b4cdf80ec"
      },
      "id": "JkBubTMaTmm0",
      "execution_count": 85,
      "outputs": [
        {
          "output_type": "stream",
          "name": "stdout",
          "text": [
            "0.4579144013397337\n"
          ]
        }
      ]
    },
    {
      "cell_type": "code",
      "source": [
        "#Seperate Running Weekly Average plot into 3 plots for the 3 variants: Original, Delta, Omicron\n",
        "\n",
        "# Start Date - May 20th 2021\n",
        "# Delta: May 20th 2021 - December 1st 2021"
      ],
      "metadata": {
        "id": "QA5c4LGoTo2Y"
      },
      "id": "QA5c4LGoTo2Y",
      "execution_count": null,
      "outputs": []
    },
    {
      "cell_type": "code",
      "source": [
        "type(merged_df_new['Date'][1])"
      ],
      "metadata": {
        "colab": {
          "base_uri": "https://localhost:8080/"
        },
        "id": "PWR2ZpCgTr1O",
        "outputId": "1b4cd7a3-5360-4ba1-c461-a5b298ea8d67"
      },
      "id": "PWR2ZpCgTr1O",
      "execution_count": 86,
      "outputs": [
        {
          "output_type": "execute_result",
          "data": {
            "text/plain": [
              "pandas._libs.tslibs.timestamps.Timestamp"
            ]
          },
          "metadata": {},
          "execution_count": 86
        }
      ]
    },
    {
      "cell_type": "code",
      "source": [
        "merged_df_new.index[merged_df_new['Date']=='2021-05-20'].tolist()"
      ],
      "metadata": {
        "colab": {
          "base_uri": "https://localhost:8080/"
        },
        "id": "2g6bUui0kDv6",
        "outputId": "cf1f01aa-7729-415e-f10e-d67b59a9113b"
      },
      "id": "2g6bUui0kDv6",
      "execution_count": 87,
      "outputs": [
        {
          "output_type": "execute_result",
          "data": {
            "text/plain": [
              "[5]"
            ]
          },
          "metadata": {},
          "execution_count": 87
        }
      ]
    },
    {
      "cell_type": "code",
      "source": [
        "merged_df_new.index[merged_df_new['Date']=='2021-12-01'].tolist()"
      ],
      "metadata": {
        "colab": {
          "base_uri": "https://localhost:8080/"
        },
        "id": "i0f_1AAnkECz",
        "outputId": "fda84c7b-5422-4ee5-9201-589c2b0560bc"
      },
      "id": "i0f_1AAnkECz",
      "execution_count": 88,
      "outputs": [
        {
          "output_type": "execute_result",
          "data": {
            "text/plain": [
              "[]"
            ]
          },
          "metadata": {},
          "execution_count": 88
        }
      ]
    },
    {
      "cell_type": "code",
      "source": [
        "#print(merged_inner)\n",
        "standardVariantDF = merged_df_new[:5]\n",
        "deltaVariantDF = merged_df_new[5:]"
      ],
      "metadata": {
        "id": "_tncXpS9T0gn"
      },
      "id": "_tncXpS9T0gn",
      "execution_count": 89,
      "outputs": []
    },
    {
      "cell_type": "code",
      "source": [
        "#Create plot of Accuracy\n",
        "\n",
        "#Accuracy Line\n",
        "plt.plot(standardVariantDF['Date'], standardVariantDF['Accuracy'], color='r', label='Daily Accuracy')\n",
        "\n",
        "#Create XY Labels and Title\n",
        "plt.xlabel('Date (Year/Month/Day)') \n",
        "plt.ylabel('Percentage') \n",
        "plt.title(\"(Standard covid) Predicted Daily COVID-19 Case Accuracy in PA\")\n",
        "\n",
        "#Display Plot\n",
        "plt.legend()\n",
        "plt.show()"
      ],
      "metadata": {
        "colab": {
          "base_uri": "https://localhost:8080/",
          "height": 295
        },
        "id": "iGb97-d2T64q",
        "outputId": "9e8e5d9b-87bd-4b9b-e803-3de652c2548f"
      },
      "id": "iGb97-d2T64q",
      "execution_count": 90,
      "outputs": [
        {
          "output_type": "display_data",
          "data": {
            "text/plain": [
              "<Figure size 432x288 with 1 Axes>"
            ],
            "image/png": "[encoded data removed]"
          },
          "metadata": {
            "needs_background": "light"
          }
        }
      ]
    },
    {
      "cell_type": "code",
      "source": [
        "#Create plot of Accuracy\n",
        "\n",
        "#Accuracy Line\n",
        "plt.plot(deltaVariantDF['Date'], deltaVariantDF['Accuracy'], color='r', label='Daily Accuracy')\n",
        "\n",
        "#Create XY Labels and Title\n",
        "plt.xlabel('Date (Year/Month/Day)') \n",
        "plt.ylabel('Percentage') \n",
        "plt.title(\"(Delta covid) Predicted Daily COVID-19 Case Accuracy in PA\")\n",
        "\n",
        "#Display Plot\n",
        "plt.legend()\n",
        "plt.show()"
      ],
      "metadata": {
        "colab": {
          "base_uri": "https://localhost:8080/",
          "height": 295
        },
        "id": "6QjpiX7pT9O9",
        "outputId": "381f54d6-9067-423a-f696-95cb4bc90378"
      },
      "id": "6QjpiX7pT9O9",
      "execution_count": 91,
      "outputs": [
        {
          "output_type": "display_data",
          "data": {
            "text/plain": [
              "<Figure size 432x288 with 1 Axes>"
            ],
            "image/png": "[encoded data removed]"
          },
          "metadata": {
            "needs_background": "light"
          }
        }
      ]
    }
  ],
  "metadata": {
    "kernelspec": {
      "display_name": "Python 3 (ipykernel)",
      "language": "python",
      "name": "python3"
    },
    "language_info": {
      "codemirror_mode": {
        "name": "ipython",
        "version": 3
      },
      "file_extension": ".py",
      "mimetype": "text/x-python",
      "name": "python",
      "nbconvert_exporter": "python",
      "pygments_lexer": "ipython3",
      "version": "3.9.7"
    },
    "colab": {
      "name": "MIT-Cassandra-analysis.ipynb",
      "provenance": [],
      "collapsed_sections": []
    }
  },
  "nbformat": 4,
  "nbformat_minor": 5
}