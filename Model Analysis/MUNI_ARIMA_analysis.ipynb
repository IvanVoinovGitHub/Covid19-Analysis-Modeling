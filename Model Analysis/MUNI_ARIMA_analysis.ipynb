{
  "cells": [
    {
      "cell_type": "code",
      "execution_count": 1,
      "id": "19d98421",
      "metadata": {
        "id": "19d98421"
      },
      "outputs": [],
      "source": [
        "#import libraries\n",
        "import csv\n",
        "import pandas as pd\n",
        "import matplotlib.pyplot as plt\n",
        "import math\n",
        "import numpy as np\n",
        "import statistics\n",
        "import glob\n",
        "import requests\n",
        "from itertools import repeat"
      ]
    },
    {
      "cell_type": "code",
      "execution_count": 2,
      "id": "bb3a7895",
      "metadata": {
        "id": "bb3a7895"
      },
      "outputs": [],
      "source": [
        "#actual COVID-19 cases data for PA\n",
        "url2 = 'https://raw.githubusercontent.com/IvanVoinovGitHub/Covid19-Analysis-Modeling/main/Data/COVID-19_Aggregate_Cases_Current_Daily_County_Health.csv'\n",
        "df1 = pd.read_csv(url2)"
      ]
    },
    {
      "cell_type": "code",
      "execution_count": 3,
      "id": "16ac3fab",
      "metadata": {
        "id": "16ac3fab"
      },
      "outputs": [],
      "source": [
        "url = 'https://github.com/reichlab/covid19-forecast-hub/tree/master/data-processed/MUNI-ARIMA'\n",
        "download = requests.get(url).content\n",
        "\n",
        "csvStringList = []\n",
        "hrefStringList = []\n",
        "urlExtension = []\n",
        "rawUrls = []\n",
        "tempList = []\n",
        "urlExtensionwoutblob = []\n",
        "urlBeginning = 'https://raw.githubusercontent.com'\n",
        "\n",
        "urlStringList = str(requests.get(url).text).split(\" \")\n",
        "for i in urlStringList:\n",
        "  if \"csv\" in i:\n",
        "    csvStringList.append(i)\n",
        "\n",
        "for i in csvStringList:\n",
        "  if \"href\" in i and \"/reichlab/covid19-forecast-hub/blob/master/data-processed/\" in i:\n",
        "    hrefStringList.append(i)\n",
        "\n",
        "for i in hrefStringList:\n",
        "  tempList1 = i.split(\"\\\"\")\n",
        "  for x in tempList1:\n",
        "    if \"/reichlab/covid19-forecast-hub/blob/master/data-processed/\" in x:\n",
        "      urlExtension.append(x)\n",
        "\n",
        "for i in urlExtension:\n",
        "  newString = \"\"\n",
        "  tempList = []\n",
        "  temp = i.split(\"/\")\n",
        "  for x in temp:\n",
        "    if \"blob\" not in x:\n",
        "      tempList.append(x)\n",
        "  for j in range(1, len(tempList)):\n",
        "    newString += \"/\" + tempList[j]\n",
        "  urlExtensionwoutblob.append(newString)\n",
        "\n",
        "\n",
        "for i in urlExtensionwoutblob:\n",
        "  finalUrl = urlBeginning + i\n",
        "  rawUrls.append(finalUrl)"
      ]
    },
    {
      "cell_type": "code",
      "execution_count": 4,
      "id": "922310e5",
      "metadata": {
        "id": "922310e5"
      },
      "outputs": [],
      "source": [
        "#reading all the raw data, filtering PA cases data, and ensemble back into one dataframe\n",
        "all_data = []\n",
        "for url in rawUrls:\n",
        "    df3=pd.read_csv(url)\n",
        "    df2_case = df3[df3['target'].str.contains('case')]\n",
        "    df2_casesPA = df2_case[(df2_case[\"type\"]==\"point\") & (df2_case[\"location\"]==\"42\")]\n",
        "    all_data.append(df2_casesPA)"
      ]
    },
    {
      "cell_type": "code",
      "execution_count": 5,
      "id": "e6b3b86d",
      "metadata": {
        "id": "e6b3b86d",
        "outputId": "3ae05a16-4796-4ed1-f648-7fcb9b7cf028",
        "colab": {
          "base_uri": "https://localhost:8080/"
        }
      },
      "outputs": [
        {
          "output_type": "execute_result",
          "data": {
            "text/plain": [
              "43"
            ]
          },
          "metadata": {},
          "execution_count": 5
        }
      ],
      "source": [
        "len(all_data)"
      ]
    },
    {
      "cell_type": "code",
      "execution_count": 6,
      "id": "9ca79685",
      "metadata": {
        "id": "9ca79685",
        "colab": {
          "base_uri": "https://localhost:8080/",
          "height": 206
        },
        "outputId": "08f44d2b-57a2-480e-e44e-5447a3003d69"
      },
      "outputs": [
        {
          "output_type": "execute_result",
          "data": {
            "text/plain": [
              "     location   type  quantile    value target_end_date forecast_date  \\\n",
              "4864       42  point       NaN  12206.0      2021-05-15    2021-05-10   \n",
              "4896       42  point       NaN  10679.0      2021-05-22    2021-05-10   \n",
              "4928       42  point       NaN  10404.0      2021-05-29    2021-05-10   \n",
              "4960       42  point       NaN  10459.0      2021-06-05    2021-05-10   \n",
              "4864       42  point       NaN   9711.0      2021-05-22    2021-05-17   \n",
              "\n",
              "                   target  \n",
              "4864  1 wk ahead inc case  \n",
              "4896  2 wk ahead inc case  \n",
              "4928  3 wk ahead inc case  \n",
              "4960  4 wk ahead inc case  \n",
              "4864  1 wk ahead inc case  "
            ],
            "text/html": [
              "\n",
              "  <div id=\"df-62a150b7-6af7-4c57-8098-946349447533\">\n",
              "    <div class=\"colab-df-container\">\n",
              "      <div>\n",
              "<style scoped>\n",
              "    .dataframe tbody tr th:only-of-type {\n",
              "        vertical-align: middle;\n",
              "    }\n",
              "\n",
              "    .dataframe tbody tr th {\n",
              "        vertical-align: top;\n",
              "    }\n",
              "\n",
              "    .dataframe thead th {\n",
              "        text-align: right;\n",
              "    }\n",
              "</style>\n",
              "<table border=\"1\" class=\"dataframe\">\n",
              "  <thead>\n",
              "    <tr style=\"text-align: right;\">\n",
              "      <th></th>\n",
              "      <th>location</th>\n",
              "      <th>type</th>\n",
              "      <th>quantile</th>\n",
              "      <th>value</th>\n",
              "      <th>target_end_date</th>\n",
              "      <th>forecast_date</th>\n",
              "      <th>target</th>\n",
              "    </tr>\n",
              "  </thead>\n",
              "  <tbody>\n",
              "    <tr>\n",
              "      <th>4864</th>\n",
              "      <td>42</td>\n",
              "      <td>point</td>\n",
              "      <td>NaN</td>\n",
              "      <td>12206.0</td>\n",
              "      <td>2021-05-15</td>\n",
              "      <td>2021-05-10</td>\n",
              "      <td>1 wk ahead inc case</td>\n",
              "    </tr>\n",
              "    <tr>\n",
              "      <th>4896</th>\n",
              "      <td>42</td>\n",
              "      <td>point</td>\n",
              "      <td>NaN</td>\n",
              "      <td>10679.0</td>\n",
              "      <td>2021-05-22</td>\n",
              "      <td>2021-05-10</td>\n",
              "      <td>2 wk ahead inc case</td>\n",
              "    </tr>\n",
              "    <tr>\n",
              "      <th>4928</th>\n",
              "      <td>42</td>\n",
              "      <td>point</td>\n",
              "      <td>NaN</td>\n",
              "      <td>10404.0</td>\n",
              "      <td>2021-05-29</td>\n",
              "      <td>2021-05-10</td>\n",
              "      <td>3 wk ahead inc case</td>\n",
              "    </tr>\n",
              "    <tr>\n",
              "      <th>4960</th>\n",
              "      <td>42</td>\n",
              "      <td>point</td>\n",
              "      <td>NaN</td>\n",
              "      <td>10459.0</td>\n",
              "      <td>2021-06-05</td>\n",
              "      <td>2021-05-10</td>\n",
              "      <td>4 wk ahead inc case</td>\n",
              "    </tr>\n",
              "    <tr>\n",
              "      <th>4864</th>\n",
              "      <td>42</td>\n",
              "      <td>point</td>\n",
              "      <td>NaN</td>\n",
              "      <td>9711.0</td>\n",
              "      <td>2021-05-22</td>\n",
              "      <td>2021-05-17</td>\n",
              "      <td>1 wk ahead inc case</td>\n",
              "    </tr>\n",
              "  </tbody>\n",
              "</table>\n",
              "</div>\n",
              "      <button class=\"colab-df-convert\" onclick=\"convertToInteractive('df-62a150b7-6af7-4c57-8098-946349447533')\"\n",
              "              title=\"Convert this dataframe to an interactive table.\"\n",
              "              style=\"display:none;\">\n",
              "        \n",
              "  <svg xmlns=\"http://www.w3.org/2000/svg\" height=\"24px\"viewBox=\"0 0 24 24\"\n",
              "       width=\"24px\">\n",
              "    <path d=\"M0 0h24v24H0V0z\" fill=\"none\"/>\n",
              "    <path d=\"M18.56 5.44l.94 2.06.94-2.06 2.06-.94-2.06-.94-.94-2.06-.94 2.06-2.06.94zm-11 1L8.5 8.5l.94-2.06 2.06-.94-2.06-.94L8.5 2.5l-.94 2.06-2.06.94zm10 10l.94 2.06.94-2.06 2.06-.94-2.06-.94-.94-2.06-.94 2.06-2.06.94z\"/><path d=\"M17.41 7.96l-1.37-1.37c-.4-.4-.92-.59-1.43-.59-.52 0-1.04.2-1.43.59L10.3 9.45l-7.72 7.72c-.78.78-.78 2.05 0 2.83L4 21.41c.39.39.9.59 1.41.59.51 0 1.02-.2 1.41-.59l7.78-7.78 2.81-2.81c.8-.78.8-2.07 0-2.86zM5.41 20L4 18.59l7.72-7.72 1.47 1.35L5.41 20z\"/>\n",
              "  </svg>\n",
              "      </button>\n",
              "      \n",
              "  <style>\n",
              "    .colab-df-container {\n",
              "      display:flex;\n",
              "      flex-wrap:wrap;\n",
              "      gap: 12px;\n",
              "    }\n",
              "\n",
              "    .colab-df-convert {\n",
              "      background-color: #E8F0FE;\n",
              "      border: none;\n",
              "      border-radius: 50%;\n",
              "      cursor: pointer;\n",
              "      display: none;\n",
              "      fill: #1967D2;\n",
              "      height: 32px;\n",
              "      padding: 0 0 0 0;\n",
              "      width: 32px;\n",
              "    }\n",
              "\n",
              "    .colab-df-convert:hover {\n",
              "      background-color: #E2EBFA;\n",
              "      box-shadow: 0px 1px 2px rgba(60, 64, 67, 0.3), 0px 1px 3px 1px rgba(60, 64, 67, 0.15);\n",
              "      fill: #174EA6;\n",
              "    }\n",
              "\n",
              "    [theme=dark] .colab-df-convert {\n",
              "      background-color: #3B4455;\n",
              "      fill: #D2E3FC;\n",
              "    }\n",
              "\n",
              "    [theme=dark] .colab-df-convert:hover {\n",
              "      background-color: #434B5C;\n",
              "      box-shadow: 0px 1px 3px 1px rgba(0, 0, 0, 0.15);\n",
              "      filter: drop-shadow(0px 1px 2px rgba(0, 0, 0, 0.3));\n",
              "      fill: #FFFFFF;\n",
              "    }\n",
              "  </style>\n",
              "\n",
              "      <script>\n",
              "        const buttonEl =\n",
              "          document.querySelector('#df-62a150b7-6af7-4c57-8098-946349447533 button.colab-df-convert');\n",
              "        buttonEl.style.display =\n",
              "          google.colab.kernel.accessAllowed ? 'block' : 'none';\n",
              "\n",
              "        async function convertToInteractive(key) {\n",
              "          const element = document.querySelector('#df-62a150b7-6af7-4c57-8098-946349447533');\n",
              "          const dataTable =\n",
              "            await google.colab.kernel.invokeFunction('convertToInteractive',\n",
              "                                                     [key], {});\n",
              "          if (!dataTable) return;\n",
              "\n",
              "          const docLinkHtml = 'Like what you see? Visit the ' +\n",
              "            '<a target=\"_blank\" href=https://colab.research.google.com/notebooks/data_table.ipynb>data table notebook</a>'\n",
              "            + ' to learn more about interactive tables.';\n",
              "          element.innerHTML = '';\n",
              "          dataTable['output_type'] = 'display_data';\n",
              "          await google.colab.output.renderOutput(dataTable, element);\n",
              "          const docLink = document.createElement('div');\n",
              "          docLink.innerHTML = docLinkHtml;\n",
              "          element.appendChild(docLink);\n",
              "        }\n",
              "      </script>\n",
              "    </div>\n",
              "  </div>\n",
              "  "
            ]
          },
          "metadata": {},
          "execution_count": 6
        }
      ],
      "source": [
        "df2 = pd.concat(all_data)\n",
        "df2.head(5)"
      ]
    },
    {
      "cell_type": "code",
      "execution_count": 7,
      "id": "eae19ec4",
      "metadata": {
        "id": "eae19ec4"
      },
      "outputs": [],
      "source": [
        "#convert date to datetime object\n",
        "df1['Date'] = pd.to_datetime(df1['Date'])\n",
        "df2['forecast_date'] = pd.to_datetime(df2['forecast_date'])\n",
        "df2['target_end_date'] = pd.to_datetime(df2['target_end_date'])"
      ]
    },
    {
      "cell_type": "code",
      "execution_count": 8,
      "id": "8171aacd",
      "metadata": {
        "id": "8171aacd",
        "colab": {
          "base_uri": "https://localhost:8080/",
          "height": 424
        },
        "outputId": "70c1fa4d-6ff9-4513-8274-b10dbe4ed237"
      },
      "outputs": [
        {
          "output_type": "execute_result",
          "data": {
            "text/plain": [
              "      location   type  quantile    value target_end_date forecast_date  \\\n",
              "4864        42  point       NaN  12206.0      2021-05-15    2021-05-10   \n",
              "4896        42  point       NaN  10679.0      2021-05-22    2021-05-10   \n",
              "4864        42  point       NaN   9711.0      2021-05-22    2021-05-17   \n",
              "4928        42  point       NaN  10404.0      2021-05-29    2021-05-10   \n",
              "4896        42  point       NaN   8877.0      2021-05-29    2021-05-17   \n",
              "...        ...    ...       ...      ...             ...           ...   \n",
              "31984       42  point       NaN  29445.0      2022-03-19    2022-02-21   \n",
              "31360       42  point       NaN   8831.0      2022-03-19    2022-03-14   \n",
              "31656       42  point       NaN  10498.0      2022-03-26    2022-03-14   \n",
              "31928       42  point       NaN  10269.0      2022-04-02    2022-03-14   \n",
              "31984       42  point       NaN  11844.0      2022-04-09    2022-03-14   \n",
              "\n",
              "                    target  \n",
              "4864   1 wk ahead inc case  \n",
              "4896   2 wk ahead inc case  \n",
              "4864   1 wk ahead inc case  \n",
              "4928   3 wk ahead inc case  \n",
              "4896   2 wk ahead inc case  \n",
              "...                    ...  \n",
              "31984  4 wk ahead inc case  \n",
              "31360  1 wk ahead inc case  \n",
              "31656  2 wk ahead inc case  \n",
              "31928  3 wk ahead inc case  \n",
              "31984  4 wk ahead inc case  \n",
              "\n",
              "[160 rows x 7 columns]"
            ],
            "text/html": [
              "\n",
              "  <div id=\"df-930dead7-97a1-449d-bbe3-c94ef2d56b30\">\n",
              "    <div class=\"colab-df-container\">\n",
              "      <div>\n",
              "<style scoped>\n",
              "    .dataframe tbody tr th:only-of-type {\n",
              "        vertical-align: middle;\n",
              "    }\n",
              "\n",
              "    .dataframe tbody tr th {\n",
              "        vertical-align: top;\n",
              "    }\n",
              "\n",
              "    .dataframe thead th {\n",
              "        text-align: right;\n",
              "    }\n",
              "</style>\n",
              "<table border=\"1\" class=\"dataframe\">\n",
              "  <thead>\n",
              "    <tr style=\"text-align: right;\">\n",
              "      <th></th>\n",
              "      <th>location</th>\n",
              "      <th>type</th>\n",
              "      <th>quantile</th>\n",
              "      <th>value</th>\n",
              "      <th>target_end_date</th>\n",
              "      <th>forecast_date</th>\n",
              "      <th>target</th>\n",
              "    </tr>\n",
              "  </thead>\n",
              "  <tbody>\n",
              "    <tr>\n",
              "      <th>4864</th>\n",
              "      <td>42</td>\n",
              "      <td>point</td>\n",
              "      <td>NaN</td>\n",
              "      <td>12206.0</td>\n",
              "      <td>2021-05-15</td>\n",
              "      <td>2021-05-10</td>\n",
              "      <td>1 wk ahead inc case</td>\n",
              "    </tr>\n",
              "    <tr>\n",
              "      <th>4896</th>\n",
              "      <td>42</td>\n",
              "      <td>point</td>\n",
              "      <td>NaN</td>\n",
              "      <td>10679.0</td>\n",
              "      <td>2021-05-22</td>\n",
              "      <td>2021-05-10</td>\n",
              "      <td>2 wk ahead inc case</td>\n",
              "    </tr>\n",
              "    <tr>\n",
              "      <th>4864</th>\n",
              "      <td>42</td>\n",
              "      <td>point</td>\n",
              "      <td>NaN</td>\n",
              "      <td>9711.0</td>\n",
              "      <td>2021-05-22</td>\n",
              "      <td>2021-05-17</td>\n",
              "      <td>1 wk ahead inc case</td>\n",
              "    </tr>\n",
              "    <tr>\n",
              "      <th>4928</th>\n",
              "      <td>42</td>\n",
              "      <td>point</td>\n",
              "      <td>NaN</td>\n",
              "      <td>10404.0</td>\n",
              "      <td>2021-05-29</td>\n",
              "      <td>2021-05-10</td>\n",
              "      <td>3 wk ahead inc case</td>\n",
              "    </tr>\n",
              "    <tr>\n",
              "      <th>4896</th>\n",
              "      <td>42</td>\n",
              "      <td>point</td>\n",
              "      <td>NaN</td>\n",
              "      <td>8877.0</td>\n",
              "      <td>2021-05-29</td>\n",
              "      <td>2021-05-17</td>\n",
              "      <td>2 wk ahead inc case</td>\n",
              "    </tr>\n",
              "    <tr>\n",
              "      <th>...</th>\n",
              "      <td>...</td>\n",
              "      <td>...</td>\n",
              "      <td>...</td>\n",
              "      <td>...</td>\n",
              "      <td>...</td>\n",
              "      <td>...</td>\n",
              "      <td>...</td>\n",
              "    </tr>\n",
              "    <tr>\n",
              "      <th>31984</th>\n",
              "      <td>42</td>\n",
              "      <td>point</td>\n",
              "      <td>NaN</td>\n",
              "      <td>29445.0</td>\n",
              "      <td>2022-03-19</td>\n",
              "      <td>2022-02-21</td>\n",
              "      <td>4 wk ahead inc case</td>\n",
              "    </tr>\n",
              "    <tr>\n",
              "      <th>31360</th>\n",
              "      <td>42</td>\n",
              "      <td>point</td>\n",
              "      <td>NaN</td>\n",
              "      <td>8831.0</td>\n",
              "      <td>2022-03-19</td>\n",
              "      <td>2022-03-14</td>\n",
              "      <td>1 wk ahead inc case</td>\n",
              "    </tr>\n",
              "    <tr>\n",
              "      <th>31656</th>\n",
              "      <td>42</td>\n",
              "      <td>point</td>\n",
              "      <td>NaN</td>\n",
              "      <td>10498.0</td>\n",
              "      <td>2022-03-26</td>\n",
              "      <td>2022-03-14</td>\n",
              "      <td>2 wk ahead inc case</td>\n",
              "    </tr>\n",
              "    <tr>\n",
              "      <th>31928</th>\n",
              "      <td>42</td>\n",
              "      <td>point</td>\n",
              "      <td>NaN</td>\n",
              "      <td>10269.0</td>\n",
              "      <td>2022-04-02</td>\n",
              "      <td>2022-03-14</td>\n",
              "      <td>3 wk ahead inc case</td>\n",
              "    </tr>\n",
              "    <tr>\n",
              "      <th>31984</th>\n",
              "      <td>42</td>\n",
              "      <td>point</td>\n",
              "      <td>NaN</td>\n",
              "      <td>11844.0</td>\n",
              "      <td>2022-04-09</td>\n",
              "      <td>2022-03-14</td>\n",
              "      <td>4 wk ahead inc case</td>\n",
              "    </tr>\n",
              "  </tbody>\n",
              "</table>\n",
              "<p>160 rows × 7 columns</p>\n",
              "</div>\n",
              "      <button class=\"colab-df-convert\" onclick=\"convertToInteractive('df-930dead7-97a1-449d-bbe3-c94ef2d56b30')\"\n",
              "              title=\"Convert this dataframe to an interactive table.\"\n",
              "              style=\"display:none;\">\n",
              "        \n",
              "  <svg xmlns=\"http://www.w3.org/2000/svg\" height=\"24px\"viewBox=\"0 0 24 24\"\n",
              "       width=\"24px\">\n",
              "    <path d=\"M0 0h24v24H0V0z\" fill=\"none\"/>\n",
              "    <path d=\"M18.56 5.44l.94 2.06.94-2.06 2.06-.94-2.06-.94-.94-2.06-.94 2.06-2.06.94zm-11 1L8.5 8.5l.94-2.06 2.06-.94-2.06-.94L8.5 2.5l-.94 2.06-2.06.94zm10 10l.94 2.06.94-2.06 2.06-.94-2.06-.94-.94-2.06-.94 2.06-2.06.94z\"/><path d=\"M17.41 7.96l-1.37-1.37c-.4-.4-.92-.59-1.43-.59-.52 0-1.04.2-1.43.59L10.3 9.45l-7.72 7.72c-.78.78-.78 2.05 0 2.83L4 21.41c.39.39.9.59 1.41.59.51 0 1.02-.2 1.41-.59l7.78-7.78 2.81-2.81c.8-.78.8-2.07 0-2.86zM5.41 20L4 18.59l7.72-7.72 1.47 1.35L5.41 20z\"/>\n",
              "  </svg>\n",
              "      </button>\n",
              "      \n",
              "  <style>\n",
              "    .colab-df-container {\n",
              "      display:flex;\n",
              "      flex-wrap:wrap;\n",
              "      gap: 12px;\n",
              "    }\n",
              "\n",
              "    .colab-df-convert {\n",
              "      background-color: #E8F0FE;\n",
              "      border: none;\n",
              "      border-radius: 50%;\n",
              "      cursor: pointer;\n",
              "      display: none;\n",
              "      fill: #1967D2;\n",
              "      height: 32px;\n",
              "      padding: 0 0 0 0;\n",
              "      width: 32px;\n",
              "    }\n",
              "\n",
              "    .colab-df-convert:hover {\n",
              "      background-color: #E2EBFA;\n",
              "      box-shadow: 0px 1px 2px rgba(60, 64, 67, 0.3), 0px 1px 3px 1px rgba(60, 64, 67, 0.15);\n",
              "      fill: #174EA6;\n",
              "    }\n",
              "\n",
              "    [theme=dark] .colab-df-convert {\n",
              "      background-color: #3B4455;\n",
              "      fill: #D2E3FC;\n",
              "    }\n",
              "\n",
              "    [theme=dark] .colab-df-convert:hover {\n",
              "      background-color: #434B5C;\n",
              "      box-shadow: 0px 1px 3px 1px rgba(0, 0, 0, 0.15);\n",
              "      filter: drop-shadow(0px 1px 2px rgba(0, 0, 0, 0.3));\n",
              "      fill: #FFFFFF;\n",
              "    }\n",
              "  </style>\n",
              "\n",
              "      <script>\n",
              "        const buttonEl =\n",
              "          document.querySelector('#df-930dead7-97a1-449d-bbe3-c94ef2d56b30 button.colab-df-convert');\n",
              "        buttonEl.style.display =\n",
              "          google.colab.kernel.accessAllowed ? 'block' : 'none';\n",
              "\n",
              "        async function convertToInteractive(key) {\n",
              "          const element = document.querySelector('#df-930dead7-97a1-449d-bbe3-c94ef2d56b30');\n",
              "          const dataTable =\n",
              "            await google.colab.kernel.invokeFunction('convertToInteractive',\n",
              "                                                     [key], {});\n",
              "          if (!dataTable) return;\n",
              "\n",
              "          const docLinkHtml = 'Like what you see? Visit the ' +\n",
              "            '<a target=\"_blank\" href=https://colab.research.google.com/notebooks/data_table.ipynb>data table notebook</a>'\n",
              "            + ' to learn more about interactive tables.';\n",
              "          element.innerHTML = '';\n",
              "          dataTable['output_type'] = 'display_data';\n",
              "          await google.colab.output.renderOutput(dataTable, element);\n",
              "          const docLink = document.createElement('div');\n",
              "          docLink.innerHTML = docLinkHtml;\n",
              "          element.appendChild(docLink);\n",
              "        }\n",
              "      </script>\n",
              "    </div>\n",
              "  </div>\n",
              "  "
            ]
          },
          "metadata": {},
          "execution_count": 8
        }
      ],
      "source": [
        "#sort datasets by date\n",
        "df1.sort_values(by='Date')\n",
        "df2.sort_values(by='target_end_date')"
      ]
    },
    {
      "cell_type": "code",
      "execution_count": 9,
      "id": "62636568",
      "metadata": {
        "id": "62636568",
        "outputId": "9ca982c8-4bda-4d74-8dc3-428eab737f1a",
        "colab": {
          "base_uri": "https://localhost:8080/"
        }
      },
      "outputs": [
        {
          "output_type": "execute_result",
          "data": {
            "text/plain": [
              "(43, 7)"
            ]
          },
          "metadata": {},
          "execution_count": 9
        }
      ],
      "source": [
        "#filterinng out data for PA (FIPS code = 42)\n",
        "df2_2 = df2[df2['target'].str.contains('1')]\n",
        "df2_2.shape"
      ]
    },
    {
      "cell_type": "code",
      "execution_count": 10,
      "id": "e4c01c47",
      "metadata": {
        "id": "e4c01c47"
      },
      "outputs": [],
      "source": [
        "#finding weekly increase in cases in PA\n",
        "df_weekly=df2_2.groupby('target_end_date').agg('last').reset_index()\n",
        "df_weekly.rename(\n",
        "    columns={\"target_end_date\":\"Date\"},inplace=True)\n",
        "#df_weekly"
      ]
    },
    {
      "cell_type": "code",
      "execution_count": 11,
      "id": "c6e2730d",
      "metadata": {
        "id": "c6e2730d",
        "colab": {
          "base_uri": "https://localhost:8080/",
          "height": 206
        },
        "outputId": "390c82dc-b989-4637-ff48-81371ca25027"
      },
      "outputs": [
        {
          "output_type": "execute_result",
          "data": {
            "text/plain": [
              "        Date location   type  quantile    value forecast_date  \\\n",
              "0 2021-05-15       42  point       NaN  12206.0    2021-05-10   \n",
              "1 2021-05-22       42  point       NaN   9711.0    2021-05-17   \n",
              "2 2021-05-29       42  point       NaN   8446.0    2021-05-24   \n",
              "3 2021-06-05       42  point       NaN   4870.0    2021-05-31   \n",
              "4 2021-06-12       42  point       NaN   2863.0    2021-06-07   \n",
              "\n",
              "                target      dayRate  \n",
              "0  1 wk ahead inc case  1743.714286  \n",
              "1  1 wk ahead inc case  1387.285714  \n",
              "2  1 wk ahead inc case  1206.571429  \n",
              "3  1 wk ahead inc case   695.714286  \n",
              "4  1 wk ahead inc case   409.000000  "
            ],
            "text/html": [
              "\n",
              "  <div id=\"df-3576996c-6428-4d01-9ea9-7a0718007a31\">\n",
              "    <div class=\"colab-df-container\">\n",
              "      <div>\n",
              "<style scoped>\n",
              "    .dataframe tbody tr th:only-of-type {\n",
              "        vertical-align: middle;\n",
              "    }\n",
              "\n",
              "    .dataframe tbody tr th {\n",
              "        vertical-align: top;\n",
              "    }\n",
              "\n",
              "    .dataframe thead th {\n",
              "        text-align: right;\n",
              "    }\n",
              "</style>\n",
              "<table border=\"1\" class=\"dataframe\">\n",
              "  <thead>\n",
              "    <tr style=\"text-align: right;\">\n",
              "      <th></th>\n",
              "      <th>Date</th>\n",
              "      <th>location</th>\n",
              "      <th>type</th>\n",
              "      <th>quantile</th>\n",
              "      <th>value</th>\n",
              "      <th>forecast_date</th>\n",
              "      <th>target</th>\n",
              "      <th>dayRate</th>\n",
              "    </tr>\n",
              "  </thead>\n",
              "  <tbody>\n",
              "    <tr>\n",
              "      <th>0</th>\n",
              "      <td>2021-05-15</td>\n",
              "      <td>42</td>\n",
              "      <td>point</td>\n",
              "      <td>NaN</td>\n",
              "      <td>12206.0</td>\n",
              "      <td>2021-05-10</td>\n",
              "      <td>1 wk ahead inc case</td>\n",
              "      <td>1743.714286</td>\n",
              "    </tr>\n",
              "    <tr>\n",
              "      <th>1</th>\n",
              "      <td>2021-05-22</td>\n",
              "      <td>42</td>\n",
              "      <td>point</td>\n",
              "      <td>NaN</td>\n",
              "      <td>9711.0</td>\n",
              "      <td>2021-05-17</td>\n",
              "      <td>1 wk ahead inc case</td>\n",
              "      <td>1387.285714</td>\n",
              "    </tr>\n",
              "    <tr>\n",
              "      <th>2</th>\n",
              "      <td>2021-05-29</td>\n",
              "      <td>42</td>\n",
              "      <td>point</td>\n",
              "      <td>NaN</td>\n",
              "      <td>8446.0</td>\n",
              "      <td>2021-05-24</td>\n",
              "      <td>1 wk ahead inc case</td>\n",
              "      <td>1206.571429</td>\n",
              "    </tr>\n",
              "    <tr>\n",
              "      <th>3</th>\n",
              "      <td>2021-06-05</td>\n",
              "      <td>42</td>\n",
              "      <td>point</td>\n",
              "      <td>NaN</td>\n",
              "      <td>4870.0</td>\n",
              "      <td>2021-05-31</td>\n",
              "      <td>1 wk ahead inc case</td>\n",
              "      <td>695.714286</td>\n",
              "    </tr>\n",
              "    <tr>\n",
              "      <th>4</th>\n",
              "      <td>2021-06-12</td>\n",
              "      <td>42</td>\n",
              "      <td>point</td>\n",
              "      <td>NaN</td>\n",
              "      <td>2863.0</td>\n",
              "      <td>2021-06-07</td>\n",
              "      <td>1 wk ahead inc case</td>\n",
              "      <td>409.000000</td>\n",
              "    </tr>\n",
              "  </tbody>\n",
              "</table>\n",
              "</div>\n",
              "      <button class=\"colab-df-convert\" onclick=\"convertToInteractive('df-3576996c-6428-4d01-9ea9-7a0718007a31')\"\n",
              "              title=\"Convert this dataframe to an interactive table.\"\n",
              "              style=\"display:none;\">\n",
              "        \n",
              "  <svg xmlns=\"http://www.w3.org/2000/svg\" height=\"24px\"viewBox=\"0 0 24 24\"\n",
              "       width=\"24px\">\n",
              "    <path d=\"M0 0h24v24H0V0z\" fill=\"none\"/>\n",
              "    <path d=\"M18.56 5.44l.94 2.06.94-2.06 2.06-.94-2.06-.94-.94-2.06-.94 2.06-2.06.94zm-11 1L8.5 8.5l.94-2.06 2.06-.94-2.06-.94L8.5 2.5l-.94 2.06-2.06.94zm10 10l.94 2.06.94-2.06 2.06-.94-2.06-.94-.94-2.06-.94 2.06-2.06.94z\"/><path d=\"M17.41 7.96l-1.37-1.37c-.4-.4-.92-.59-1.43-.59-.52 0-1.04.2-1.43.59L10.3 9.45l-7.72 7.72c-.78.78-.78 2.05 0 2.83L4 21.41c.39.39.9.59 1.41.59.51 0 1.02-.2 1.41-.59l7.78-7.78 2.81-2.81c.8-.78.8-2.07 0-2.86zM5.41 20L4 18.59l7.72-7.72 1.47 1.35L5.41 20z\"/>\n",
              "  </svg>\n",
              "      </button>\n",
              "      \n",
              "  <style>\n",
              "    .colab-df-container {\n",
              "      display:flex;\n",
              "      flex-wrap:wrap;\n",
              "      gap: 12px;\n",
              "    }\n",
              "\n",
              "    .colab-df-convert {\n",
              "      background-color: #E8F0FE;\n",
              "      border: none;\n",
              "      border-radius: 50%;\n",
              "      cursor: pointer;\n",
              "      display: none;\n",
              "      fill: #1967D2;\n",
              "      height: 32px;\n",
              "      padding: 0 0 0 0;\n",
              "      width: 32px;\n",
              "    }\n",
              "\n",
              "    .colab-df-convert:hover {\n",
              "      background-color: #E2EBFA;\n",
              "      box-shadow: 0px 1px 2px rgba(60, 64, 67, 0.3), 0px 1px 3px 1px rgba(60, 64, 67, 0.15);\n",
              "      fill: #174EA6;\n",
              "    }\n",
              "\n",
              "    [theme=dark] .colab-df-convert {\n",
              "      background-color: #3B4455;\n",
              "      fill: #D2E3FC;\n",
              "    }\n",
              "\n",
              "    [theme=dark] .colab-df-convert:hover {\n",
              "      background-color: #434B5C;\n",
              "      box-shadow: 0px 1px 3px 1px rgba(0, 0, 0, 0.15);\n",
              "      filter: drop-shadow(0px 1px 2px rgba(0, 0, 0, 0.3));\n",
              "      fill: #FFFFFF;\n",
              "    }\n",
              "  </style>\n",
              "\n",
              "      <script>\n",
              "        const buttonEl =\n",
              "          document.querySelector('#df-3576996c-6428-4d01-9ea9-7a0718007a31 button.colab-df-convert');\n",
              "        buttonEl.style.display =\n",
              "          google.colab.kernel.accessAllowed ? 'block' : 'none';\n",
              "\n",
              "        async function convertToInteractive(key) {\n",
              "          const element = document.querySelector('#df-3576996c-6428-4d01-9ea9-7a0718007a31');\n",
              "          const dataTable =\n",
              "            await google.colab.kernel.invokeFunction('convertToInteractive',\n",
              "                                                     [key], {});\n",
              "          if (!dataTable) return;\n",
              "\n",
              "          const docLinkHtml = 'Like what you see? Visit the ' +\n",
              "            '<a target=\"_blank\" href=https://colab.research.google.com/notebooks/data_table.ipynb>data table notebook</a>'\n",
              "            + ' to learn more about interactive tables.';\n",
              "          element.innerHTML = '';\n",
              "          dataTable['output_type'] = 'display_data';\n",
              "          await google.colab.output.renderOutput(dataTable, element);\n",
              "          const docLink = document.createElement('div');\n",
              "          docLink.innerHTML = docLinkHtml;\n",
              "          element.appendChild(docLink);\n",
              "        }\n",
              "      </script>\n",
              "    </div>\n",
              "  </div>\n",
              "  "
            ]
          },
          "metadata": {},
          "execution_count": 11
        }
      ],
      "source": [
        "#creating a column for daily additions\n",
        "df_weekly[\"dayRate\"] = df_weekly[\"value\"] / 7\n",
        "mask = (df_weekly['Date'] <= '2022-03-02')\n",
        "df_weekly = df_weekly.loc[mask]\n",
        "df_weekly.head(5)"
      ]
    },
    {
      "cell_type": "code",
      "source": [
        "df_weekly.tail(5)"
      ],
      "metadata": {
        "colab": {
          "base_uri": "https://localhost:8080/",
          "height": 206
        },
        "id": "PRHPqhYO4a9o",
        "outputId": "bd5a4a5b-2420-4680-ddb8-a3a51dac42ce"
      },
      "id": "PRHPqhYO4a9o",
      "execution_count": 12,
      "outputs": [
        {
          "output_type": "execute_result",
          "data": {
            "text/plain": [
              "         Date location   type  quantile     value forecast_date  \\\n",
              "37 2022-01-29       42  point       NaN  103910.0    2022-01-24   \n",
              "38 2022-02-05       42  point       NaN   70811.0    2022-01-31   \n",
              "39 2022-02-12       42  point       NaN   29629.0    2022-02-07   \n",
              "40 2022-02-19       42  point       NaN   16858.0    2022-02-14   \n",
              "41 2022-02-26       42  point       NaN   22373.0    2022-02-21   \n",
              "\n",
              "                 target       dayRate  \n",
              "37  1 wk ahead inc case  14844.285714  \n",
              "38  1 wk ahead inc case  10115.857143  \n",
              "39  1 wk ahead inc case   4232.714286  \n",
              "40  1 wk ahead inc case   2408.285714  \n",
              "41  1 wk ahead inc case   3196.142857  "
            ],
            "text/html": [
              "\n",
              "  <div id=\"df-0861fb5c-68ab-42e4-b141-526595cad64e\">\n",
              "    <div class=\"colab-df-container\">\n",
              "      <div>\n",
              "<style scoped>\n",
              "    .dataframe tbody tr th:only-of-type {\n",
              "        vertical-align: middle;\n",
              "    }\n",
              "\n",
              "    .dataframe tbody tr th {\n",
              "        vertical-align: top;\n",
              "    }\n",
              "\n",
              "    .dataframe thead th {\n",
              "        text-align: right;\n",
              "    }\n",
              "</style>\n",
              "<table border=\"1\" class=\"dataframe\">\n",
              "  <thead>\n",
              "    <tr style=\"text-align: right;\">\n",
              "      <th></th>\n",
              "      <th>Date</th>\n",
              "      <th>location</th>\n",
              "      <th>type</th>\n",
              "      <th>quantile</th>\n",
              "      <th>value</th>\n",
              "      <th>forecast_date</th>\n",
              "      <th>target</th>\n",
              "      <th>dayRate</th>\n",
              "    </tr>\n",
              "  </thead>\n",
              "  <tbody>\n",
              "    <tr>\n",
              "      <th>37</th>\n",
              "      <td>2022-01-29</td>\n",
              "      <td>42</td>\n",
              "      <td>point</td>\n",
              "      <td>NaN</td>\n",
              "      <td>103910.0</td>\n",
              "      <td>2022-01-24</td>\n",
              "      <td>1 wk ahead inc case</td>\n",
              "      <td>14844.285714</td>\n",
              "    </tr>\n",
              "    <tr>\n",
              "      <th>38</th>\n",
              "      <td>2022-02-05</td>\n",
              "      <td>42</td>\n",
              "      <td>point</td>\n",
              "      <td>NaN</td>\n",
              "      <td>70811.0</td>\n",
              "      <td>2022-01-31</td>\n",
              "      <td>1 wk ahead inc case</td>\n",
              "      <td>10115.857143</td>\n",
              "    </tr>\n",
              "    <tr>\n",
              "      <th>39</th>\n",
              "      <td>2022-02-12</td>\n",
              "      <td>42</td>\n",
              "      <td>point</td>\n",
              "      <td>NaN</td>\n",
              "      <td>29629.0</td>\n",
              "      <td>2022-02-07</td>\n",
              "      <td>1 wk ahead inc case</td>\n",
              "      <td>4232.714286</td>\n",
              "    </tr>\n",
              "    <tr>\n",
              "      <th>40</th>\n",
              "      <td>2022-02-19</td>\n",
              "      <td>42</td>\n",
              "      <td>point</td>\n",
              "      <td>NaN</td>\n",
              "      <td>16858.0</td>\n",
              "      <td>2022-02-14</td>\n",
              "      <td>1 wk ahead inc case</td>\n",
              "      <td>2408.285714</td>\n",
              "    </tr>\n",
              "    <tr>\n",
              "      <th>41</th>\n",
              "      <td>2022-02-26</td>\n",
              "      <td>42</td>\n",
              "      <td>point</td>\n",
              "      <td>NaN</td>\n",
              "      <td>22373.0</td>\n",
              "      <td>2022-02-21</td>\n",
              "      <td>1 wk ahead inc case</td>\n",
              "      <td>3196.142857</td>\n",
              "    </tr>\n",
              "  </tbody>\n",
              "</table>\n",
              "</div>\n",
              "      <button class=\"colab-df-convert\" onclick=\"convertToInteractive('df-0861fb5c-68ab-42e4-b141-526595cad64e')\"\n",
              "              title=\"Convert this dataframe to an interactive table.\"\n",
              "              style=\"display:none;\">\n",
              "        \n",
              "  <svg xmlns=\"http://www.w3.org/2000/svg\" height=\"24px\"viewBox=\"0 0 24 24\"\n",
              "       width=\"24px\">\n",
              "    <path d=\"M0 0h24v24H0V0z\" fill=\"none\"/>\n",
              "    <path d=\"M18.56 5.44l.94 2.06.94-2.06 2.06-.94-2.06-.94-.94-2.06-.94 2.06-2.06.94zm-11 1L8.5 8.5l.94-2.06 2.06-.94-2.06-.94L8.5 2.5l-.94 2.06-2.06.94zm10 10l.94 2.06.94-2.06 2.06-.94-2.06-.94-.94-2.06-.94 2.06-2.06.94z\"/><path d=\"M17.41 7.96l-1.37-1.37c-.4-.4-.92-.59-1.43-.59-.52 0-1.04.2-1.43.59L10.3 9.45l-7.72 7.72c-.78.78-.78 2.05 0 2.83L4 21.41c.39.39.9.59 1.41.59.51 0 1.02-.2 1.41-.59l7.78-7.78 2.81-2.81c.8-.78.8-2.07 0-2.86zM5.41 20L4 18.59l7.72-7.72 1.47 1.35L5.41 20z\"/>\n",
              "  </svg>\n",
              "      </button>\n",
              "      \n",
              "  <style>\n",
              "    .colab-df-container {\n",
              "      display:flex;\n",
              "      flex-wrap:wrap;\n",
              "      gap: 12px;\n",
              "    }\n",
              "\n",
              "    .colab-df-convert {\n",
              "      background-color: #E8F0FE;\n",
              "      border: none;\n",
              "      border-radius: 50%;\n",
              "      cursor: pointer;\n",
              "      display: none;\n",
              "      fill: #1967D2;\n",
              "      height: 32px;\n",
              "      padding: 0 0 0 0;\n",
              "      width: 32px;\n",
              "    }\n",
              "\n",
              "    .colab-df-convert:hover {\n",
              "      background-color: #E2EBFA;\n",
              "      box-shadow: 0px 1px 2px rgba(60, 64, 67, 0.3), 0px 1px 3px 1px rgba(60, 64, 67, 0.15);\n",
              "      fill: #174EA6;\n",
              "    }\n",
              "\n",
              "    [theme=dark] .colab-df-convert {\n",
              "      background-color: #3B4455;\n",
              "      fill: #D2E3FC;\n",
              "    }\n",
              "\n",
              "    [theme=dark] .colab-df-convert:hover {\n",
              "      background-color: #434B5C;\n",
              "      box-shadow: 0px 1px 3px 1px rgba(0, 0, 0, 0.15);\n",
              "      filter: drop-shadow(0px 1px 2px rgba(0, 0, 0, 0.3));\n",
              "      fill: #FFFFFF;\n",
              "    }\n",
              "  </style>\n",
              "\n",
              "      <script>\n",
              "        const buttonEl =\n",
              "          document.querySelector('#df-0861fb5c-68ab-42e4-b141-526595cad64e button.colab-df-convert');\n",
              "        buttonEl.style.display =\n",
              "          google.colab.kernel.accessAllowed ? 'block' : 'none';\n",
              "\n",
              "        async function convertToInteractive(key) {\n",
              "          const element = document.querySelector('#df-0861fb5c-68ab-42e4-b141-526595cad64e');\n",
              "          const dataTable =\n",
              "            await google.colab.kernel.invokeFunction('convertToInteractive',\n",
              "                                                     [key], {});\n",
              "          if (!dataTable) return;\n",
              "\n",
              "          const docLinkHtml = 'Like what you see? Visit the ' +\n",
              "            '<a target=\"_blank\" href=https://colab.research.google.com/notebooks/data_table.ipynb>data table notebook</a>'\n",
              "            + ' to learn more about interactive tables.';\n",
              "          element.innerHTML = '';\n",
              "          dataTable['output_type'] = 'display_data';\n",
              "          await google.colab.output.renderOutput(dataTable, element);\n",
              "          const docLink = document.createElement('div');\n",
              "          docLink.innerHTML = docLinkHtml;\n",
              "          element.appendChild(docLink);\n",
              "        }\n",
              "      </script>\n",
              "    </div>\n",
              "  </div>\n",
              "  "
            ]
          },
          "metadata": {},
          "execution_count": 12
        }
      ]
    },
    {
      "cell_type": "code",
      "source": [
        "# creating a list of predictions from the model data\n",
        "predictions = []\n",
        "for i in df_weekly[\"dayRate\"]:\n",
        "    predictions.extend(repeat(i,7))\n",
        "del predictions[-2:]\n",
        "#preds = pd.DataFrame(predictions)\n",
        "#preds.drop(preds.tail(2).index,inplace=True) \n",
        "print(predictions)"
      ],
      "metadata": {
        "colab": {
          "base_uri": "https://localhost:8080/"
        },
        "id": "7M7bH5ao6y_t",
        "outputId": "a909c3f2-7dbc-40e7-d51c-e8678393da8e"
      },
      "id": "7M7bH5ao6y_t",
      "execution_count": 21,
      "outputs": [
        {
          "output_type": "stream",
          "name": "stdout",
          "text": [
            "[1743.7142857142858, 1743.7142857142858, 1743.7142857142858, 1743.7142857142858, 1743.7142857142858, 1743.7142857142858, 1743.7142857142858, 1387.2857142857142, 1387.2857142857142, 1387.2857142857142, 1387.2857142857142, 1387.2857142857142, 1387.2857142857142, 1387.2857142857142, 1206.5714285714287, 1206.5714285714287, 1206.5714285714287, 1206.5714285714287, 1206.5714285714287, 1206.5714285714287, 1206.5714285714287, 695.7142857142857, 695.7142857142857, 695.7142857142857, 695.7142857142857, 695.7142857142857, 695.7142857142857, 695.7142857142857, 409.0, 409.0, 409.0, 409.0, 409.0, 409.0, 409.0, 262.0, 262.0, 262.0, 262.0, 262.0, 262.0, 262.0, 164.28571428571428, 164.28571428571428, 164.28571428571428, 164.28571428571428, 164.28571428571428, 164.28571428571428, 164.28571428571428, 149.28571428571428, 149.28571428571428, 149.28571428571428, 149.28571428571428, 149.28571428571428, 149.28571428571428, 149.28571428571428, 166.28571428571428, 166.28571428571428, 166.28571428571428, 166.28571428571428, 166.28571428571428, 166.28571428571428, 166.28571428571428, 200.28571428571428, 200.28571428571428, 200.28571428571428, 200.28571428571428, 200.28571428571428, 200.28571428571428, 200.28571428571428, 343.42857142857144, 343.42857142857144, 343.42857142857144, 343.42857142857144, 343.42857142857144, 343.42857142857144, 343.42857142857144, 563.8571428571429, 563.8571428571429, 563.8571428571429, 563.8571428571429, 563.8571428571429, 563.8571428571429, 563.8571428571429, 1730.7142857142858, 1730.7142857142858, 1730.7142857142858, 1730.7142857142858, 1730.7142857142858, 1730.7142857142858, 1730.7142857142858, 1605.0, 1605.0, 1605.0, 1605.0, 1605.0, 1605.0, 1605.0, 2273.4285714285716, 2273.4285714285716, 2273.4285714285716, 2273.4285714285716, 2273.4285714285716, 2273.4285714285716, 2273.4285714285716, 2501.5714285714284, 2501.5714285714284, 2501.5714285714284, 2501.5714285714284, 2501.5714285714284, 2501.5714285714284, 2501.5714285714284, nan, nan, nan, nan, nan, nan, nan, nan, nan, nan, nan, nan, nan, nan, 4165.571428571428, 4165.571428571428, 4165.571428571428, 4165.571428571428, 4165.571428571428, 4165.571428571428, 4165.571428571428, 5007.571428571428, 5007.571428571428, 5007.571428571428, 5007.571428571428, 5007.571428571428, 5007.571428571428, 5007.571428571428, 4883.0, 4883.0, 4883.0, 4883.0, 4883.0, 4883.0, 4883.0, 4529.0, 4529.0, 4529.0, 4529.0, 4529.0, 4529.0, 4529.0, 5207.0, 5207.0, 5207.0, 5207.0, 5207.0, 5207.0, 5207.0, 4159.142857142857, 4159.142857142857, 4159.142857142857, 4159.142857142857, 4159.142857142857, 4159.142857142857, 4159.142857142857, 3833.285714285714, 3833.285714285714, 3833.285714285714, 3833.285714285714, 3833.285714285714, 3833.285714285714, 3833.285714285714, 3263.1428571428573, 3263.1428571428573, 3263.1428571428573, 3263.1428571428573, 3263.1428571428573, 3263.1428571428573, 3263.1428571428573, 3669.4285714285716, 3669.4285714285716, 3669.4285714285716, 3669.4285714285716, 3669.4285714285716, 3669.4285714285716, 3669.4285714285716, 7583.428571428572, 7583.428571428572, 7583.428571428572, 7583.428571428572, 7583.428571428572, 7583.428571428572, 7583.428571428572, 5944.428571428572, 5944.428571428572, 5944.428571428572, 5944.428571428572, 5944.428571428572, 5944.428571428572, 5944.428571428572, 5809.571428571428, 5809.571428571428, 5809.571428571428, 5809.571428571428, 5809.571428571428, 5809.571428571428, 5809.571428571428, 7928.142857142857, 7928.142857142857, 7928.142857142857, 7928.142857142857, 7928.142857142857, 7928.142857142857, 7928.142857142857, 8199.0, 8199.0, 8199.0, 8199.0, 8199.0, 8199.0, 8199.0, 7503.142857142857, 7503.142857142857, 7503.142857142857, 7503.142857142857, 7503.142857142857, 7503.142857142857, 7503.142857142857, 9141.57142857143, 9141.57142857143, 9141.57142857143, 9141.57142857143, 9141.57142857143, 9141.57142857143, 9141.57142857143, 18921.428571428572, 18921.428571428572, 18921.428571428572, 18921.428571428572, 18921.428571428572, 18921.428571428572, 18921.428571428572, 37402.71428571428, 37402.71428571428, 37402.71428571428, 37402.71428571428, 37402.71428571428, 37402.71428571428, 37402.71428571428, 27273.714285714286, 27273.714285714286, 27273.714285714286, 27273.714285714286, 27273.714285714286, 27273.714285714286, 27273.714285714286, 14844.285714285714, 14844.285714285714, 14844.285714285714, 14844.285714285714, 14844.285714285714, 14844.285714285714, 14844.285714285714, 10115.857142857143, 10115.857142857143, 10115.857142857143, 10115.857142857143, 10115.857142857143, 10115.857142857143, 10115.857142857143, 4232.714285714285, 4232.714285714285, 4232.714285714285, 4232.714285714285, 4232.714285714285, 4232.714285714285, 4232.714285714285, 2408.285714285714, 2408.285714285714, 2408.285714285714, 2408.285714285714, 2408.285714285714, 2408.285714285714, 2408.285714285714, 3196.1428571428573, 3196.1428571428573, 3196.1428571428573, 3196.1428571428573, 3196.1428571428573]\n"
          ]
        }
      ]
    },
    {
      "cell_type": "code",
      "source": [
        "len(predictions)"
      ],
      "metadata": {
        "colab": {
          "base_uri": "https://localhost:8080/"
        },
        "id": "bAUxPUYG5gaj",
        "outputId": "f9621992-5c8f-43f2-df2f-3db336f5aaab"
      },
      "id": "bAUxPUYG5gaj",
      "execution_count": 22,
      "outputs": [
        {
          "output_type": "execute_result",
          "data": {
            "text/plain": [
              "292"
            ]
          },
          "metadata": {},
          "execution_count": 22
        }
      ]
    },
    {
      "cell_type": "code",
      "execution_count": 23,
      "id": "65a9fbb1",
      "metadata": {
        "id": "65a9fbb1",
        "outputId": "e080d738-e296-4c7a-9ca2-ecbede53dfc0",
        "colab": {
          "base_uri": "https://localhost:8080/",
          "height": 206
        }
      },
      "outputs": [
        {
          "output_type": "execute_result",
          "data": {
            "text/plain": [
              "        Date  New Cases  7-day Average New Cases  \\\n",
              "0 2021-05-15       2140                   3686.1   \n",
              "1 2021-05-16       1630                   3630.0   \n",
              "2 2021-05-17       3930                   3428.7   \n",
              "3 2021-05-18       2554                   3175.9   \n",
              "4 2021-05-19       2854                   2974.2   \n",
              "\n",
              "   Cumulative cases                            Population (2019)  \\\n",
              "0                                     2398022           25603978   \n",
              "1                                     2399652           25603978   \n",
              "2                                     2403582           25603978   \n",
              "3                                     2406136           25603978   \n",
              "4                                     2408990           25603978   \n",
              "\n",
              "   New Case Rate  7-Day Average New Case Rate  Cumulative Case Rate  \\\n",
              "0          580.5                       1090.7              637395.5   \n",
              "1          444.6                       1076.0              637840.2   \n",
              "2         1207.7                       1007.3              639047.1   \n",
              "3          716.0                        940.4              639763.1   \n",
              "4          922.1                        892.8              640685.2   \n",
              "\n",
              "   County FIPS Code    Longitude     Latitude  \n",
              "0           2860489 -5275.682283  2774.207671  \n",
              "1           2860489 -5275.682283  2774.207671  \n",
              "2           2860489 -5275.682283  2774.207671  \n",
              "3           2860489 -5275.682283  2774.207671  \n",
              "4           2860489 -5275.682283  2774.207671  "
            ],
            "text/html": [
              "\n",
              "  <div id=\"df-3f3a4a80-3345-46d9-b017-7f9a96b34903\">\n",
              "    <div class=\"colab-df-container\">\n",
              "      <div>\n",
              "<style scoped>\n",
              "    .dataframe tbody tr th:only-of-type {\n",
              "        vertical-align: middle;\n",
              "    }\n",
              "\n",
              "    .dataframe tbody tr th {\n",
              "        vertical-align: top;\n",
              "    }\n",
              "\n",
              "    .dataframe thead th {\n",
              "        text-align: right;\n",
              "    }\n",
              "</style>\n",
              "<table border=\"1\" class=\"dataframe\">\n",
              "  <thead>\n",
              "    <tr style=\"text-align: right;\">\n",
              "      <th></th>\n",
              "      <th>Date</th>\n",
              "      <th>New Cases</th>\n",
              "      <th>7-day Average New Cases</th>\n",
              "      <th>Cumulative cases</th>\n",
              "      <th>Population (2019)</th>\n",
              "      <th>New Case Rate</th>\n",
              "      <th>7-Day Average New Case Rate</th>\n",
              "      <th>Cumulative Case Rate</th>\n",
              "      <th>County FIPS Code</th>\n",
              "      <th>Longitude</th>\n",
              "      <th>Latitude</th>\n",
              "    </tr>\n",
              "  </thead>\n",
              "  <tbody>\n",
              "    <tr>\n",
              "      <th>0</th>\n",
              "      <td>2021-05-15</td>\n",
              "      <td>2140</td>\n",
              "      <td>3686.1</td>\n",
              "      <td>2398022</td>\n",
              "      <td>25603978</td>\n",
              "      <td>580.5</td>\n",
              "      <td>1090.7</td>\n",
              "      <td>637395.5</td>\n",
              "      <td>2860489</td>\n",
              "      <td>-5275.682283</td>\n",
              "      <td>2774.207671</td>\n",
              "    </tr>\n",
              "    <tr>\n",
              "      <th>1</th>\n",
              "      <td>2021-05-16</td>\n",
              "      <td>1630</td>\n",
              "      <td>3630.0</td>\n",
              "      <td>2399652</td>\n",
              "      <td>25603978</td>\n",
              "      <td>444.6</td>\n",
              "      <td>1076.0</td>\n",
              "      <td>637840.2</td>\n",
              "      <td>2860489</td>\n",
              "      <td>-5275.682283</td>\n",
              "      <td>2774.207671</td>\n",
              "    </tr>\n",
              "    <tr>\n",
              "      <th>2</th>\n",
              "      <td>2021-05-17</td>\n",
              "      <td>3930</td>\n",
              "      <td>3428.7</td>\n",
              "      <td>2403582</td>\n",
              "      <td>25603978</td>\n",
              "      <td>1207.7</td>\n",
              "      <td>1007.3</td>\n",
              "      <td>639047.1</td>\n",
              "      <td>2860489</td>\n",
              "      <td>-5275.682283</td>\n",
              "      <td>2774.207671</td>\n",
              "    </tr>\n",
              "    <tr>\n",
              "      <th>3</th>\n",
              "      <td>2021-05-18</td>\n",
              "      <td>2554</td>\n",
              "      <td>3175.9</td>\n",
              "      <td>2406136</td>\n",
              "      <td>25603978</td>\n",
              "      <td>716.0</td>\n",
              "      <td>940.4</td>\n",
              "      <td>639763.1</td>\n",
              "      <td>2860489</td>\n",
              "      <td>-5275.682283</td>\n",
              "      <td>2774.207671</td>\n",
              "    </tr>\n",
              "    <tr>\n",
              "      <th>4</th>\n",
              "      <td>2021-05-19</td>\n",
              "      <td>2854</td>\n",
              "      <td>2974.2</td>\n",
              "      <td>2408990</td>\n",
              "      <td>25603978</td>\n",
              "      <td>922.1</td>\n",
              "      <td>892.8</td>\n",
              "      <td>640685.2</td>\n",
              "      <td>2860489</td>\n",
              "      <td>-5275.682283</td>\n",
              "      <td>2774.207671</td>\n",
              "    </tr>\n",
              "  </tbody>\n",
              "</table>\n",
              "</div>\n",
              "      <button class=\"colab-df-convert\" onclick=\"convertToInteractive('df-3f3a4a80-3345-46d9-b017-7f9a96b34903')\"\n",
              "              title=\"Convert this dataframe to an interactive table.\"\n",
              "              style=\"display:none;\">\n",
              "        \n",
              "  <svg xmlns=\"http://www.w3.org/2000/svg\" height=\"24px\"viewBox=\"0 0 24 24\"\n",
              "       width=\"24px\">\n",
              "    <path d=\"M0 0h24v24H0V0z\" fill=\"none\"/>\n",
              "    <path d=\"M18.56 5.44l.94 2.06.94-2.06 2.06-.94-2.06-.94-.94-2.06-.94 2.06-2.06.94zm-11 1L8.5 8.5l.94-2.06 2.06-.94-2.06-.94L8.5 2.5l-.94 2.06-2.06.94zm10 10l.94 2.06.94-2.06 2.06-.94-2.06-.94-.94-2.06-.94 2.06-2.06.94z\"/><path d=\"M17.41 7.96l-1.37-1.37c-.4-.4-.92-.59-1.43-.59-.52 0-1.04.2-1.43.59L10.3 9.45l-7.72 7.72c-.78.78-.78 2.05 0 2.83L4 21.41c.39.39.9.59 1.41.59.51 0 1.02-.2 1.41-.59l7.78-7.78 2.81-2.81c.8-.78.8-2.07 0-2.86zM5.41 20L4 18.59l7.72-7.72 1.47 1.35L5.41 20z\"/>\n",
              "  </svg>\n",
              "      </button>\n",
              "      \n",
              "  <style>\n",
              "    .colab-df-container {\n",
              "      display:flex;\n",
              "      flex-wrap:wrap;\n",
              "      gap: 12px;\n",
              "    }\n",
              "\n",
              "    .colab-df-convert {\n",
              "      background-color: #E8F0FE;\n",
              "      border: none;\n",
              "      border-radius: 50%;\n",
              "      cursor: pointer;\n",
              "      display: none;\n",
              "      fill: #1967D2;\n",
              "      height: 32px;\n",
              "      padding: 0 0 0 0;\n",
              "      width: 32px;\n",
              "    }\n",
              "\n",
              "    .colab-df-convert:hover {\n",
              "      background-color: #E2EBFA;\n",
              "      box-shadow: 0px 1px 2px rgba(60, 64, 67, 0.3), 0px 1px 3px 1px rgba(60, 64, 67, 0.15);\n",
              "      fill: #174EA6;\n",
              "    }\n",
              "\n",
              "    [theme=dark] .colab-df-convert {\n",
              "      background-color: #3B4455;\n",
              "      fill: #D2E3FC;\n",
              "    }\n",
              "\n",
              "    [theme=dark] .colab-df-convert:hover {\n",
              "      background-color: #434B5C;\n",
              "      box-shadow: 0px 1px 3px 1px rgba(0, 0, 0, 0.15);\n",
              "      filter: drop-shadow(0px 1px 2px rgba(0, 0, 0, 0.3));\n",
              "      fill: #FFFFFF;\n",
              "    }\n",
              "  </style>\n",
              "\n",
              "      <script>\n",
              "        const buttonEl =\n",
              "          document.querySelector('#df-3f3a4a80-3345-46d9-b017-7f9a96b34903 button.colab-df-convert');\n",
              "        buttonEl.style.display =\n",
              "          google.colab.kernel.accessAllowed ? 'block' : 'none';\n",
              "\n",
              "        async function convertToInteractive(key) {\n",
              "          const element = document.querySelector('#df-3f3a4a80-3345-46d9-b017-7f9a96b34903');\n",
              "          const dataTable =\n",
              "            await google.colab.kernel.invokeFunction('convertToInteractive',\n",
              "                                                     [key], {});\n",
              "          if (!dataTable) return;\n",
              "\n",
              "          const docLinkHtml = 'Like what you see? Visit the ' +\n",
              "            '<a target=\"_blank\" href=https://colab.research.google.com/notebooks/data_table.ipynb>data table notebook</a>'\n",
              "            + ' to learn more about interactive tables.';\n",
              "          element.innerHTML = '';\n",
              "          dataTable['output_type'] = 'display_data';\n",
              "          await google.colab.output.renderOutput(dataTable, element);\n",
              "          const docLink = document.createElement('div');\n",
              "          docLink.innerHTML = docLinkHtml;\n",
              "          element.appendChild(docLink);\n",
              "        }\n",
              "      </script>\n",
              "    </div>\n",
              "  </div>\n",
              "  "
            ]
          },
          "metadata": {},
          "execution_count": 23
        }
      ],
      "source": [
        "#select all the dates to be merged with prediction list\n",
        "mask = (df1['Date'] >= '2021-05-15') & (df1['Date'] <= '2022-03-02')\n",
        "df1_copy = df1.loc[mask]\n",
        "df1_copy = df1_copy.groupby([\"Date\"]).sum().reset_index()\n",
        "df1_copy.head(5)"
      ]
    },
    {
      "cell_type": "code",
      "source": [
        "len(df1_copy)"
      ],
      "metadata": {
        "colab": {
          "base_uri": "https://localhost:8080/"
        },
        "id": "E4GmTswG-Max",
        "outputId": "bd363a83-6f82-47b4-c9ea-c53dcbf9cd64"
      },
      "id": "E4GmTswG-Max",
      "execution_count": 24,
      "outputs": [
        {
          "output_type": "execute_result",
          "data": {
            "text/plain": [
              "292"
            ]
          },
          "metadata": {},
          "execution_count": 24
        }
      ]
    },
    {
      "cell_type": "code",
      "source": [
        "# assigning predictions list to the actual dataframe\n",
        "df1_copy['Prediction'] = predictions"
      ],
      "metadata": {
        "id": "7HHOfOpl4JA2"
      },
      "id": "7HHOfOpl4JA2",
      "execution_count": 25,
      "outputs": []
    },
    {
      "cell_type": "code",
      "source": [
        "df1_copy.head(20)"
      ],
      "metadata": {
        "id": "a8HZNoDm5m-p",
        "colab": {
          "base_uri": "https://localhost:8080/",
          "height": 677
        },
        "outputId": "11dd51bd-b3fb-4b66-fb31-22c8456551fd"
      },
      "id": "a8HZNoDm5m-p",
      "execution_count": 26,
      "outputs": [
        {
          "output_type": "execute_result",
          "data": {
            "text/plain": [
              "         Date  New Cases  7-day Average New Cases  \\\n",
              "0  2021-05-15       2140                   3686.1   \n",
              "1  2021-05-16       1630                   3630.0   \n",
              "2  2021-05-17       3930                   3428.7   \n",
              "3  2021-05-18       2554                   3175.9   \n",
              "4  2021-05-19       2854                   2974.2   \n",
              "5  2021-05-20       4094                   3025.7   \n",
              "6  2021-05-21       2772                   2853.8   \n",
              "7  2021-05-22       1920                   2822.0   \n",
              "8  2021-05-23       1272                   2770.6   \n",
              "9  2021-05-24       2486                   2564.4   \n",
              "10 2021-05-25       2244                   2520.3   \n",
              "11 2021-05-26       2036                   2403.2   \n",
              "12 2021-05-27       2132                   2123.1   \n",
              "13 2021-05-28       1682                   1967.5   \n",
              "14 2021-05-29       1034                   1841.1   \n",
              "15 2021-05-30        842                   1779.2   \n",
              "16 2021-05-31       1020                   1570.2   \n",
              "17 2021-06-01       1560                   1472.0   \n",
              "18 2021-06-02       1274                   1363.4   \n",
              "19 2021-06-03       1652                   1294.8   \n",
              "\n",
              "    Cumulative cases                            Population (2019)  \\\n",
              "0                                      2398022           25603978   \n",
              "1                                      2399652           25603978   \n",
              "2                                      2403582           25603978   \n",
              "3                                      2406136           25603978   \n",
              "4                                      2408990           25603978   \n",
              "5                                      2413084           25603978   \n",
              "6                                      2415856           25603978   \n",
              "7                                      2417776           25603978   \n",
              "8                                      2419048           25603978   \n",
              "9                                      2421534           25603978   \n",
              "10                                     2423778           25603978   \n",
              "11                                     2425814           25603978   \n",
              "12                                     2427946           25603978   \n",
              "13                                     2429628           25603978   \n",
              "14                                     2430662           25603978   \n",
              "15                                     2431504           25603978   \n",
              "16                                     2432524           25603978   \n",
              "17                                     2434084           25603978   \n",
              "18                                     2435358           25603978   \n",
              "19                                     2437010           25603978   \n",
              "\n",
              "    New Case Rate  7-Day Average New Case Rate  Cumulative Case Rate  \\\n",
              "0           580.5                       1090.7              637395.5   \n",
              "1           444.6                       1076.0              637840.2   \n",
              "2          1207.7                       1007.3              639047.1   \n",
              "3           716.0                        940.4              639763.1   \n",
              "4           922.1                        892.8              640685.2   \n",
              "5          1238.8                        909.6              641924.0   \n",
              "6           854.0                        851.9              642777.5   \n",
              "7           541.1                        846.4              643318.9   \n",
              "8           338.5                        830.9              643656.4   \n",
              "9           792.1                        771.7              644448.9   \n",
              "10          721.4                        772.7              645170.3   \n",
              "11          664.5                        736.1              645835.6   \n",
              "12          720.7                        662.0              646555.7   \n",
              "13          570.9                        621.1              647126.7   \n",
              "14          249.5                        579.7              647376.0   \n",
              "15          246.6                        566.3              647622.8   \n",
              "16          334.3                        501.2              647957.2   \n",
              "17          548.0                        476.4              648505.4   \n",
              "18          431.3                        442.7              648937.4   \n",
              "19          492.2                        410.4              649428.7   \n",
              "\n",
              "    County FIPS Code    Longitude     Latitude   Prediction  \n",
              "0            2860489 -5275.682283  2774.207671  1743.714286  \n",
              "1            2860489 -5275.682283  2774.207671  1743.714286  \n",
              "2            2860489 -5275.682283  2774.207671  1743.714286  \n",
              "3            2860489 -5275.682283  2774.207671  1743.714286  \n",
              "4            2860489 -5275.682283  2774.207671  1743.714286  \n",
              "5            2860489 -5275.682283  2774.207671  1743.714286  \n",
              "6            2860489 -5275.682283  2774.207671  1743.714286  \n",
              "7            2860489 -5275.682283  2774.207671  1387.285714  \n",
              "8            2860489 -5275.682283  2774.207671  1387.285714  \n",
              "9            2860489 -5275.682283  2774.207671  1387.285714  \n",
              "10           2860489 -5275.682283  2774.207671  1387.285714  \n",
              "11           2860489 -5275.682283  2774.207671  1387.285714  \n",
              "12           2860489 -5275.682283  2774.207671  1387.285714  \n",
              "13           2860489 -5275.682283  2774.207671  1387.285714  \n",
              "14           2860489 -5275.682283  2774.207671  1206.571429  \n",
              "15           2860489 -5275.682283  2774.207671  1206.571429  \n",
              "16           2860489 -5275.682283  2774.207671  1206.571429  \n",
              "17           2860489 -5275.682283  2774.207671  1206.571429  \n",
              "18           2860489 -5275.682283  2774.207671  1206.571429  \n",
              "19           2860489 -5275.682283  2774.207671  1206.571429  "
            ],
            "text/html": [
              "\n",
              "  <div id=\"df-f0759cb9-cc8a-471f-8f07-7aa4b51d0ca9\">\n",
              "    <div class=\"colab-df-container\">\n",
              "      <div>\n",
              "<style scoped>\n",
              "    .dataframe tbody tr th:only-of-type {\n",
              "        vertical-align: middle;\n",
              "    }\n",
              "\n",
              "    .dataframe tbody tr th {\n",
              "        vertical-align: top;\n",
              "    }\n",
              "\n",
              "    .dataframe thead th {\n",
              "        text-align: right;\n",
              "    }\n",
              "</style>\n",
              "<table border=\"1\" class=\"dataframe\">\n",
              "  <thead>\n",
              "    <tr style=\"text-align: right;\">\n",
              "      <th></th>\n",
              "      <th>Date</th>\n",
              "      <th>New Cases</th>\n",
              "      <th>7-day Average New Cases</th>\n",
              "      <th>Cumulative cases</th>\n",
              "      <th>Population (2019)</th>\n",
              "      <th>New Case Rate</th>\n",
              "      <th>7-Day Average New Case Rate</th>\n",
              "      <th>Cumulative Case Rate</th>\n",
              "      <th>County FIPS Code</th>\n",
              "      <th>Longitude</th>\n",
              "      <th>Latitude</th>\n",
              "      <th>Prediction</th>\n",
              "    </tr>\n",
              "  </thead>\n",
              "  <tbody>\n",
              "    <tr>\n",
              "      <th>0</th>\n",
              "      <td>2021-05-15</td>\n",
              "      <td>2140</td>\n",
              "      <td>3686.1</td>\n",
              "      <td>2398022</td>\n",
              "      <td>25603978</td>\n",
              "      <td>580.5</td>\n",
              "      <td>1090.7</td>\n",
              "      <td>637395.5</td>\n",
              "      <td>2860489</td>\n",
              "      <td>-5275.682283</td>\n",
              "      <td>2774.207671</td>\n",
              "      <td>1743.714286</td>\n",
              "    </tr>\n",
              "    <tr>\n",
              "      <th>1</th>\n",
              "      <td>2021-05-16</td>\n",
              "      <td>1630</td>\n",
              "      <td>3630.0</td>\n",
              "      <td>2399652</td>\n",
              "      <td>25603978</td>\n",
              "      <td>444.6</td>\n",
              "      <td>1076.0</td>\n",
              "      <td>637840.2</td>\n",
              "      <td>2860489</td>\n",
              "      <td>-5275.682283</td>\n",
              "      <td>2774.207671</td>\n",
              "      <td>1743.714286</td>\n",
              "    </tr>\n",
              "    <tr>\n",
              "      <th>2</th>\n",
              "      <td>2021-05-17</td>\n",
              "      <td>3930</td>\n",
              "      <td>3428.7</td>\n",
              "      <td>2403582</td>\n",
              "      <td>25603978</td>\n",
              "      <td>1207.7</td>\n",
              "      <td>1007.3</td>\n",
              "      <td>639047.1</td>\n",
              "      <td>2860489</td>\n",
              "      <td>-5275.682283</td>\n",
              "      <td>2774.207671</td>\n",
              "      <td>1743.714286</td>\n",
              "    </tr>\n",
              "    <tr>\n",
              "      <th>3</th>\n",
              "      <td>2021-05-18</td>\n",
              "      <td>2554</td>\n",
              "      <td>3175.9</td>\n",
              "      <td>2406136</td>\n",
              "      <td>25603978</td>\n",
              "      <td>716.0</td>\n",
              "      <td>940.4</td>\n",
              "      <td>639763.1</td>\n",
              "      <td>2860489</td>\n",
              "      <td>-5275.682283</td>\n",
              "      <td>2774.207671</td>\n",
              "      <td>1743.714286</td>\n",
              "    </tr>\n",
              "    <tr>\n",
              "      <th>4</th>\n",
              "      <td>2021-05-19</td>\n",
              "      <td>2854</td>\n",
              "      <td>2974.2</td>\n",
              "      <td>2408990</td>\n",
              "      <td>25603978</td>\n",
              "      <td>922.1</td>\n",
              "      <td>892.8</td>\n",
              "      <td>640685.2</td>\n",
              "      <td>2860489</td>\n",
              "      <td>-5275.682283</td>\n",
              "      <td>2774.207671</td>\n",
              "      <td>1743.714286</td>\n",
              "    </tr>\n",
              "    <tr>\n",
              "      <th>5</th>\n",
              "      <td>2021-05-20</td>\n",
              "      <td>4094</td>\n",
              "      <td>3025.7</td>\n",
              "      <td>2413084</td>\n",
              "      <td>25603978</td>\n",
              "      <td>1238.8</td>\n",
              "      <td>909.6</td>\n",
              "      <td>641924.0</td>\n",
              "      <td>2860489</td>\n",
              "      <td>-5275.682283</td>\n",
              "      <td>2774.207671</td>\n",
              "      <td>1743.714286</td>\n",
              "    </tr>\n",
              "    <tr>\n",
              "      <th>6</th>\n",
              "      <td>2021-05-21</td>\n",
              "      <td>2772</td>\n",
              "      <td>2853.8</td>\n",
              "      <td>2415856</td>\n",
              "      <td>25603978</td>\n",
              "      <td>854.0</td>\n",
              "      <td>851.9</td>\n",
              "      <td>642777.5</td>\n",
              "      <td>2860489</td>\n",
              "      <td>-5275.682283</td>\n",
              "      <td>2774.207671</td>\n",
              "      <td>1743.714286</td>\n",
              "    </tr>\n",
              "    <tr>\n",
              "      <th>7</th>\n",
              "      <td>2021-05-22</td>\n",
              "      <td>1920</td>\n",
              "      <td>2822.0</td>\n",
              "      <td>2417776</td>\n",
              "      <td>25603978</td>\n",
              "      <td>541.1</td>\n",
              "      <td>846.4</td>\n",
              "      <td>643318.9</td>\n",
              "      <td>2860489</td>\n",
              "      <td>-5275.682283</td>\n",
              "      <td>2774.207671</td>\n",
              "      <td>1387.285714</td>\n",
              "    </tr>\n",
              "    <tr>\n",
              "      <th>8</th>\n",
              "      <td>2021-05-23</td>\n",
              "      <td>1272</td>\n",
              "      <td>2770.6</td>\n",
              "      <td>2419048</td>\n",
              "      <td>25603978</td>\n",
              "      <td>338.5</td>\n",
              "      <td>830.9</td>\n",
              "      <td>643656.4</td>\n",
              "      <td>2860489</td>\n",
              "      <td>-5275.682283</td>\n",
              "      <td>2774.207671</td>\n",
              "      <td>1387.285714</td>\n",
              "    </tr>\n",
              "    <tr>\n",
              "      <th>9</th>\n",
              "      <td>2021-05-24</td>\n",
              "      <td>2486</td>\n",
              "      <td>2564.4</td>\n",
              "      <td>2421534</td>\n",
              "      <td>25603978</td>\n",
              "      <td>792.1</td>\n",
              "      <td>771.7</td>\n",
              "      <td>644448.9</td>\n",
              "      <td>2860489</td>\n",
              "      <td>-5275.682283</td>\n",
              "      <td>2774.207671</td>\n",
              "      <td>1387.285714</td>\n",
              "    </tr>\n",
              "    <tr>\n",
              "      <th>10</th>\n",
              "      <td>2021-05-25</td>\n",
              "      <td>2244</td>\n",
              "      <td>2520.3</td>\n",
              "      <td>2423778</td>\n",
              "      <td>25603978</td>\n",
              "      <td>721.4</td>\n",
              "      <td>772.7</td>\n",
              "      <td>645170.3</td>\n",
              "      <td>2860489</td>\n",
              "      <td>-5275.682283</td>\n",
              "      <td>2774.207671</td>\n",
              "      <td>1387.285714</td>\n",
              "    </tr>\n",
              "    <tr>\n",
              "      <th>11</th>\n",
              "      <td>2021-05-26</td>\n",
              "      <td>2036</td>\n",
              "      <td>2403.2</td>\n",
              "      <td>2425814</td>\n",
              "      <td>25603978</td>\n",
              "      <td>664.5</td>\n",
              "      <td>736.1</td>\n",
              "      <td>645835.6</td>\n",
              "      <td>2860489</td>\n",
              "      <td>-5275.682283</td>\n",
              "      <td>2774.207671</td>\n",
              "      <td>1387.285714</td>\n",
              "    </tr>\n",
              "    <tr>\n",
              "      <th>12</th>\n",
              "      <td>2021-05-27</td>\n",
              "      <td>2132</td>\n",
              "      <td>2123.1</td>\n",
              "      <td>2427946</td>\n",
              "      <td>25603978</td>\n",
              "      <td>720.7</td>\n",
              "      <td>662.0</td>\n",
              "      <td>646555.7</td>\n",
              "      <td>2860489</td>\n",
              "      <td>-5275.682283</td>\n",
              "      <td>2774.207671</td>\n",
              "      <td>1387.285714</td>\n",
              "    </tr>\n",
              "    <tr>\n",
              "      <th>13</th>\n",
              "      <td>2021-05-28</td>\n",
              "      <td>1682</td>\n",
              "      <td>1967.5</td>\n",
              "      <td>2429628</td>\n",
              "      <td>25603978</td>\n",
              "      <td>570.9</td>\n",
              "      <td>621.1</td>\n",
              "      <td>647126.7</td>\n",
              "      <td>2860489</td>\n",
              "      <td>-5275.682283</td>\n",
              "      <td>2774.207671</td>\n",
              "      <td>1387.285714</td>\n",
              "    </tr>\n",
              "    <tr>\n",
              "      <th>14</th>\n",
              "      <td>2021-05-29</td>\n",
              "      <td>1034</td>\n",
              "      <td>1841.1</td>\n",
              "      <td>2430662</td>\n",
              "      <td>25603978</td>\n",
              "      <td>249.5</td>\n",
              "      <td>579.7</td>\n",
              "      <td>647376.0</td>\n",
              "      <td>2860489</td>\n",
              "      <td>-5275.682283</td>\n",
              "      <td>2774.207671</td>\n",
              "      <td>1206.571429</td>\n",
              "    </tr>\n",
              "    <tr>\n",
              "      <th>15</th>\n",
              "      <td>2021-05-30</td>\n",
              "      <td>842</td>\n",
              "      <td>1779.2</td>\n",
              "      <td>2431504</td>\n",
              "      <td>25603978</td>\n",
              "      <td>246.6</td>\n",
              "      <td>566.3</td>\n",
              "      <td>647622.8</td>\n",
              "      <td>2860489</td>\n",
              "      <td>-5275.682283</td>\n",
              "      <td>2774.207671</td>\n",
              "      <td>1206.571429</td>\n",
              "    </tr>\n",
              "    <tr>\n",
              "      <th>16</th>\n",
              "      <td>2021-05-31</td>\n",
              "      <td>1020</td>\n",
              "      <td>1570.2</td>\n",
              "      <td>2432524</td>\n",
              "      <td>25603978</td>\n",
              "      <td>334.3</td>\n",
              "      <td>501.2</td>\n",
              "      <td>647957.2</td>\n",
              "      <td>2860489</td>\n",
              "      <td>-5275.682283</td>\n",
              "      <td>2774.207671</td>\n",
              "      <td>1206.571429</td>\n",
              "    </tr>\n",
              "    <tr>\n",
              "      <th>17</th>\n",
              "      <td>2021-06-01</td>\n",
              "      <td>1560</td>\n",
              "      <td>1472.0</td>\n",
              "      <td>2434084</td>\n",
              "      <td>25603978</td>\n",
              "      <td>548.0</td>\n",
              "      <td>476.4</td>\n",
              "      <td>648505.4</td>\n",
              "      <td>2860489</td>\n",
              "      <td>-5275.682283</td>\n",
              "      <td>2774.207671</td>\n",
              "      <td>1206.571429</td>\n",
              "    </tr>\n",
              "    <tr>\n",
              "      <th>18</th>\n",
              "      <td>2021-06-02</td>\n",
              "      <td>1274</td>\n",
              "      <td>1363.4</td>\n",
              "      <td>2435358</td>\n",
              "      <td>25603978</td>\n",
              "      <td>431.3</td>\n",
              "      <td>442.7</td>\n",
              "      <td>648937.4</td>\n",
              "      <td>2860489</td>\n",
              "      <td>-5275.682283</td>\n",
              "      <td>2774.207671</td>\n",
              "      <td>1206.571429</td>\n",
              "    </tr>\n",
              "    <tr>\n",
              "      <th>19</th>\n",
              "      <td>2021-06-03</td>\n",
              "      <td>1652</td>\n",
              "      <td>1294.8</td>\n",
              "      <td>2437010</td>\n",
              "      <td>25603978</td>\n",
              "      <td>492.2</td>\n",
              "      <td>410.4</td>\n",
              "      <td>649428.7</td>\n",
              "      <td>2860489</td>\n",
              "      <td>-5275.682283</td>\n",
              "      <td>2774.207671</td>\n",
              "      <td>1206.571429</td>\n",
              "    </tr>\n",
              "  </tbody>\n",
              "</table>\n",
              "</div>\n",
              "      <button class=\"colab-df-convert\" onclick=\"convertToInteractive('df-f0759cb9-cc8a-471f-8f07-7aa4b51d0ca9')\"\n",
              "              title=\"Convert this dataframe to an interactive table.\"\n",
              "              style=\"display:none;\">\n",
              "        \n",
              "  <svg xmlns=\"http://www.w3.org/2000/svg\" height=\"24px\"viewBox=\"0 0 24 24\"\n",
              "       width=\"24px\">\n",
              "    <path d=\"M0 0h24v24H0V0z\" fill=\"none\"/>\n",
              "    <path d=\"M18.56 5.44l.94 2.06.94-2.06 2.06-.94-2.06-.94-.94-2.06-.94 2.06-2.06.94zm-11 1L8.5 8.5l.94-2.06 2.06-.94-2.06-.94L8.5 2.5l-.94 2.06-2.06.94zm10 10l.94 2.06.94-2.06 2.06-.94-2.06-.94-.94-2.06-.94 2.06-2.06.94z\"/><path d=\"M17.41 7.96l-1.37-1.37c-.4-.4-.92-.59-1.43-.59-.52 0-1.04.2-1.43.59L10.3 9.45l-7.72 7.72c-.78.78-.78 2.05 0 2.83L4 21.41c.39.39.9.59 1.41.59.51 0 1.02-.2 1.41-.59l7.78-7.78 2.81-2.81c.8-.78.8-2.07 0-2.86zM5.41 20L4 18.59l7.72-7.72 1.47 1.35L5.41 20z\"/>\n",
              "  </svg>\n",
              "      </button>\n",
              "      \n",
              "  <style>\n",
              "    .colab-df-container {\n",
              "      display:flex;\n",
              "      flex-wrap:wrap;\n",
              "      gap: 12px;\n",
              "    }\n",
              "\n",
              "    .colab-df-convert {\n",
              "      background-color: #E8F0FE;\n",
              "      border: none;\n",
              "      border-radius: 50%;\n",
              "      cursor: pointer;\n",
              "      display: none;\n",
              "      fill: #1967D2;\n",
              "      height: 32px;\n",
              "      padding: 0 0 0 0;\n",
              "      width: 32px;\n",
              "    }\n",
              "\n",
              "    .colab-df-convert:hover {\n",
              "      background-color: #E2EBFA;\n",
              "      box-shadow: 0px 1px 2px rgba(60, 64, 67, 0.3), 0px 1px 3px 1px rgba(60, 64, 67, 0.15);\n",
              "      fill: #174EA6;\n",
              "    }\n",
              "\n",
              "    [theme=dark] .colab-df-convert {\n",
              "      background-color: #3B4455;\n",
              "      fill: #D2E3FC;\n",
              "    }\n",
              "\n",
              "    [theme=dark] .colab-df-convert:hover {\n",
              "      background-color: #434B5C;\n",
              "      box-shadow: 0px 1px 3px 1px rgba(0, 0, 0, 0.15);\n",
              "      filter: drop-shadow(0px 1px 2px rgba(0, 0, 0, 0.3));\n",
              "      fill: #FFFFFF;\n",
              "    }\n",
              "  </style>\n",
              "\n",
              "      <script>\n",
              "        const buttonEl =\n",
              "          document.querySelector('#df-f0759cb9-cc8a-471f-8f07-7aa4b51d0ca9 button.colab-df-convert');\n",
              "        buttonEl.style.display =\n",
              "          google.colab.kernel.accessAllowed ? 'block' : 'none';\n",
              "\n",
              "        async function convertToInteractive(key) {\n",
              "          const element = document.querySelector('#df-f0759cb9-cc8a-471f-8f07-7aa4b51d0ca9');\n",
              "          const dataTable =\n",
              "            await google.colab.kernel.invokeFunction('convertToInteractive',\n",
              "                                                     [key], {});\n",
              "          if (!dataTable) return;\n",
              "\n",
              "          const docLinkHtml = 'Like what you see? Visit the ' +\n",
              "            '<a target=\"_blank\" href=https://colab.research.google.com/notebooks/data_table.ipynb>data table notebook</a>'\n",
              "            + ' to learn more about interactive tables.';\n",
              "          element.innerHTML = '';\n",
              "          dataTable['output_type'] = 'display_data';\n",
              "          await google.colab.output.renderOutput(dataTable, element);\n",
              "          const docLink = document.createElement('div');\n",
              "          docLink.innerHTML = docLinkHtml;\n",
              "          element.appendChild(docLink);\n",
              "        }\n",
              "      </script>\n",
              "    </div>\n",
              "  </div>\n",
              "  "
            ]
          },
          "metadata": {},
          "execution_count": 26
        }
      ]
    },
    {
      "cell_type": "code",
      "source": [
        "# renaming the dataframe for graphing\n",
        "merged_df_new = df1_copy"
      ],
      "metadata": {
        "id": "tB3yrsBFBVzZ"
      },
      "id": "tB3yrsBFBVzZ",
      "execution_count": 27,
      "outputs": []
    },
    {
      "cell_type": "code",
      "source": [
        "merged_df_new.shape"
      ],
      "metadata": {
        "colab": {
          "base_uri": "https://localhost:8080/"
        },
        "id": "D_rU8Xdc6NUr",
        "outputId": "a662bc6d-bd5d-473c-ca2b-9a4d4a7accf9"
      },
      "id": "D_rU8Xdc6NUr",
      "execution_count": 28,
      "outputs": [
        {
          "output_type": "execute_result",
          "data": {
            "text/plain": [
              "(292, 12)"
            ]
          },
          "metadata": {},
          "execution_count": 28
        }
      ]
    },
    {
      "cell_type": "code",
      "execution_count": 29,
      "id": "d516c1b3",
      "metadata": {
        "id": "d516c1b3",
        "colab": {
          "base_uri": "https://localhost:8080/",
          "height": 295
        },
        "outputId": "2613eca2-c6ac-48bc-93d4-db468ccc09a3"
      },
      "outputs": [
        {
          "output_type": "display_data",
          "data": {
            "text/plain": [
              "<Figure size 432x288 with 1 Axes>"
            ],
            "image/png": "[encoded data removed]"
          },
          "metadata": {
            "needs_background": "light"
          }
        }
      ],
      "source": [
        "#Create plot of Actual vs. Predicted Cases\n",
        "\n",
        "#Actual Cases Line\n",
        "plt.plot(merged_df_new['Date'], merged_df_new['New Cases'], color='g', label='Actual Cases')\n",
        "\n",
        "#Predicted Cases Line\n",
        "plt.plot(merged_df_new['Date'], merged_df_new['Prediction'], color='r', label='Predicted Cases')\n",
        "\n",
        "#Create XY Labels and Title\n",
        "plt.xlabel('Date (Year/Month/Day)') \n",
        "plt.ylabel('Number of Cases') \n",
        "plt.title(\"Predicted Daily Cases vs Actual Cases in PA\")\n",
        "\n",
        "#Display Plot\n",
        "plt.legend()\n",
        "plt.show()"
      ]
    },
    {
      "cell_type": "code",
      "execution_count": 30,
      "id": "4eee31c3",
      "metadata": {
        "id": "4eee31c3",
        "colab": {
          "base_uri": "https://localhost:8080/"
        },
        "outputId": "112a7178-d95f-46f9-d17b-6f078686186b"
      },
      "outputs": [
        {
          "output_type": "stream",
          "name": "stdout",
          "text": [
            "238\n",
            "0.815068493150685\n",
            "40\n",
            "0.18493150684931503\n",
            "292\n",
            "[0.1851802403204272, 0.06976336546888698, 0.5563067975281716, 0.3172614386396688, 0.38902793072379616, 0.5740805359759927, 0.3709544423830138, 0.2774553571428572, 0.09063342318059293, 0.4419606941730836, 0.3817799847211612, 0.3186219477968005, 0.34930313588850176, 0.17521657890266693, 0.16689693285437976, 0.43298269426535474, 0.18291316526610654, 0.2265567765567765, 0.05292666517156305, 0.2696298858526461, 0.09552366673805947, 0.11934900542495486, 0.4315108759553203, 0.47374108493624384, 0.22698412698412704, 0.4163470757430489, 0.24868867633446473, 0.05984555984555991, 0.007389162561576354, 0.1298342541436464, 0.5658174097664543, 0.274822695035461, 0.38772455089820357, 0.32730263157894735, 0.201171875, 0.015037593984962405, 0.11965811965811966, 0.5130111524163569, 0.4717741935483871, 0.42290748898678415, 0.3878504672897196, 0.35784313725490197, 0.413265306122449, 0.1167434715821813, 0.5933521923620934, 0.5721726190476191, 0.5743893412287195, 0.5411013567438149, 0.6474555487431024, 0.49904122722914673, 0.3931475029036005, 0.29582210242587603, 0.6376560332871013, 0.7118036403750689, 0.6965737514518002, 0.7285714285714285, 0.594425087108014, 0.3931178310740355, 0.7657947686116701, 0.7433862433862434, 0.8070931388796819, 0.8114674441205054, 0.8148265987909641, 0.7088870431893688, 0.5945633314054367, 0.8344746162927982, 0.824310776942356, 0.8296890184645287, 0.8464066608238388, 0.8505330490405117, 0.7133317433818268, 0.6052545155993432, 0.8404142326075411, 0.7933642771187897, 0.8418837148118915, 0.8378524214218265, 0.856426182513139, 0.7169391853126793, 0.6832263242375601, 0.8209977324263038, 0.8051633922401026, 0.8481806292791753, 0.8393569393569393, 0.8352258495449612, 0.3244674919147987, 0.22180113052415207, 0.5954384558872637, 0.5447884572029759, 0.63301223797407, 0.581751018435407, 0.6212879024695217, 0.6239456419868791, 0.375, 0.6920567920184191, 0.6407788719785139, 0.7975018925056775, 0.6797685554668795, 0.714107588172426, 0.48166243241482637, 0.3768013784461153, 0.6317737979545559, 0.6925306232852892, 0.6500263898662914, 0.7135296658986175, 0.7055144337527757, 0.517257539835695, 0.5081456097972025, 0.6505208957011137, 0.6818958000290656, 0.664398788761547, 0.6924549509993326, 0.7316486345664633, nan, nan, nan, nan, nan, nan, nan, nan, nan, nan, nan, nan, nan, nan, 0.5399192148695131, 0.18354146833174667, 0.572586555656533, 0.5476138761325555, 0.6287369493251846, 0.5915305522091167, 0.6122885863206042, 0.40357653304294566, 0.18283756061171208, 0.5309505967992293, 0.48524142387218044, 0.49914268567999315, 0.541515159442279, 0.38009761963710964, 0.5788338795928929, 0.38470262096774194, 0.4932544624325446, 0.5047667342799189, 0.6114735837046468, 0.558818214672931, 0.5554442825928624, 0.4427903543307087, 0.1774427896839811, 0.5132201203783319, 0.5261560996024273, 0.6023006673691605, 0.5668515684774292, 0.5252620545073375, 0.2950176008665042, 0.11234231162632118, 0.3272609819121447, 0.4137581625759964, 0.40108120542903153, 0.4403482373172829, 0.47169237012987014, 0.299335772044667, 0.16883635948384154, 0.445890906322561, 0.5403246179108249, 0.5321549092077776, 0.5577261955398919, 0.5340418040395635, 0.36786185450433473, 0.23972913243044144, 0.4840799846183426, 0.5326401226181768, 0.6222619516864689, 0.6428172088813163, 0.6080484954718084, 0.582611555750466, 0.46117191923004336, 0.5959456590957334, 0.6920982395600248, 0.7111751763902587, 0.7473956605401102, 0.7107655684149214, 0.6045874384236453, 0.4312726950668674, 0.7157685072479805, 0.6766453497154942, 0.7564754067275967, 0.7341379096197238, 0.7201899823525566, 0.17337818057242516, 0.33976766747095843, 0.3506226604359846, 0.46086815218053667, 0.45599508095921293, 0.33314908798552834, 0.20442419519213476, 0.24524776899078574, 0.4378259342322138, 0.527244427276239, 0.5916166136693753, 0.6803726975250795, 0.727644617821471, 0.6518432370019578, 0.5093267374517375, 0.4424595557992871, 0.6188445460850658, 0.6070897180730808, 0.619543455889232, 0.7484598446236825, 0.7268654711532004, 0.5031869371385602, 0.2185942384050013, 0.5060347129506008, 0.44324839486356343, 0.48975782873324386, 0.5296545528510408, 0.5651523224471886, 0.3899553571428571, 0.1247865072587532, 0.5439425965068417, 0.6202760281585773, 0.6307422086110611, 0.7055168450542346, 0.6560533601812233, 0.5153634635613709, 0.3982079838672717, 0.7451378105590063, 0.7604513486641066, 0.8119513068385249, 0.838364005662584, 0.8482803644367927, 0.7668323361584597, 0.7397639652536032, 0.8125497984626922, 0.8238550343255727, 0.8501479996627856, 0.8437124490772853, 0.8632320253056339, 0.6623826177391233, 0.598867318816439, 0.6669348957678477, 0.6737009627607682, 0.6277507658581827, 0.6418431086233471, 0.6238733238295915, 0.4202747406039511, 0.519694225813192, 0.32774988589685067, 0.02759166270501553, 0.050579020440264105, 0.018867995233348655, 0.028564357213570635, 0.30284294858671473, 0.6302279907779011, 0.07520753314335277, 0.0701449535319111, 0.1853242641222807, 0.019806845861288, 0.04026677419003304, 0.12184746933840038, 0.7027168747746861, 0.21475333177460834, 0.002179699857258558, 0.08345976078749606, 0.1261026941500314, 0.34264523464957614, 0.5830762351889113, 1.1857945425361156, 0.21907172124091867, 0.1237344082267433, 0.10266591921268182, 0.25289288368307444, 0.06303669008587044, 0.08642563801701368, 0.11036576225453446, 0.24898610970293023, 0.13441425650014616, 0.4267721714904814, 0.2931338868212616, 0.4329160924820089, 0.17411326670585933, 0.28510443665192864, 0.23057964399817438, 0.39672201545949043, 0.38153936459021204, 0.2662139810220249, 0.494482427731798, 1.0000893974611123, 1.5775345622119816, 0.19975332475332483, 0.31528512639623757, 0.46612057667103546]\n",
            "[-0.1851802403204272, 0.06976336546888698, -0.5563067975281716, -0.3172614386396688, -0.38902793072379616, -0.5740805359759927, -0.3709544423830138, -0.2774553571428572, 0.09063342318059293, -0.4419606941730836, -0.3817799847211612, -0.3186219477968005, -0.34930313588850176, -0.17521657890266693, 0.16689693285437976, 0.43298269426535474, 0.18291316526610654, -0.2265567765567765, -0.05292666517156305, -0.2696298858526461, -0.09552366673805947, -0.11934900542495486, 0.4315108759553203, -0.47374108493624384, -0.22698412698412704, -0.4163470757430489, -0.24868867633446473, -0.05984555984555991, 0.007389162561576354, 0.1298342541436464, -0.5658174097664543, -0.274822695035461, -0.38772455089820357, -0.32730263157894735, -0.201171875, -0.015037593984962405, 0.11965811965811966, -0.5130111524163569, -0.4717741935483871, -0.42290748898678415, -0.3878504672897196, -0.35784313725490197, -0.413265306122449, -0.1167434715821813, -0.5933521923620934, -0.5721726190476191, -0.5743893412287195, -0.5411013567438149, -0.6474555487431024, -0.49904122722914673, -0.3931475029036005, -0.29582210242587603, -0.6376560332871013, -0.7118036403750689, -0.6965737514518002, -0.7285714285714285, -0.594425087108014, -0.3931178310740355, -0.7657947686116701, -0.7433862433862434, -0.8070931388796819, -0.8114674441205054, -0.8148265987909641, -0.7088870431893688, -0.5945633314054367, -0.8344746162927982, -0.824310776942356, -0.8296890184645287, -0.8464066608238388, -0.8505330490405117, -0.7133317433818268, -0.6052545155993432, -0.8404142326075411, -0.7933642771187897, -0.8418837148118915, -0.8378524214218265, -0.856426182513139, -0.7169391853126793, -0.6832263242375601, -0.8209977324263038, -0.8051633922401026, -0.8481806292791753, -0.8393569393569393, -0.8352258495449612, -0.3244674919147987, -0.22180113052415207, -0.5954384558872637, -0.5447884572029759, -0.63301223797407, -0.581751018435407, -0.6212879024695217, -0.6239456419868791, -0.375, -0.6920567920184191, -0.6407788719785139, -0.7975018925056775, -0.6797685554668795, -0.714107588172426, -0.48166243241482637, -0.3768013784461153, -0.6317737979545559, -0.6925306232852892, -0.6500263898662914, -0.7135296658986175, -0.7055144337527757, -0.517257539835695, -0.5081456097972025, -0.6505208957011137, -0.6818958000290656, -0.664398788761547, -0.6924549509993326, -0.7316486345664633, nan, nan, nan, nan, nan, nan, nan, nan, nan, nan, nan, nan, nan, nan, -0.5399192148695131, -0.18354146833174667, -0.572586555656533, -0.5476138761325555, -0.6287369493251846, -0.5915305522091167, -0.6122885863206042, -0.40357653304294566, -0.18283756061171208, -0.5309505967992293, -0.48524142387218044, -0.49914268567999315, -0.541515159442279, -0.38009761963710964, -0.5788338795928929, -0.38470262096774194, -0.4932544624325446, -0.5047667342799189, -0.6114735837046468, -0.558818214672931, -0.5554442825928624, -0.4427903543307087, -0.1774427896839811, -0.5132201203783319, -0.5261560996024273, -0.6023006673691605, -0.5668515684774292, -0.5252620545073375, -0.2950176008665042, -0.11234231162632118, -0.3272609819121447, -0.4137581625759964, -0.40108120542903153, -0.4403482373172829, -0.47169237012987014, -0.299335772044667, -0.16883635948384154, -0.445890906322561, -0.5403246179108249, -0.5321549092077776, -0.5577261955398919, -0.5340418040395635, -0.36786185450433473, -0.23972913243044144, -0.4840799846183426, -0.5326401226181768, -0.6222619516864689, -0.6428172088813163, -0.6080484954718084, -0.582611555750466, -0.46117191923004336, -0.5959456590957334, -0.6920982395600248, -0.7111751763902587, -0.7473956605401102, -0.7107655684149214, -0.6045874384236453, -0.4312726950668674, -0.7157685072479805, -0.6766453497154942, -0.7564754067275967, -0.7341379096197238, -0.7201899823525566, -0.17337818057242516, -0.33976766747095843, -0.3506226604359846, -0.46086815218053667, -0.45599508095921293, -0.33314908798552834, -0.20442419519213476, -0.24524776899078574, -0.4378259342322138, -0.527244427276239, -0.5916166136693753, -0.6803726975250795, -0.727644617821471, -0.6518432370019578, -0.5093267374517375, -0.4424595557992871, -0.6188445460850658, -0.6070897180730808, -0.619543455889232, -0.7484598446236825, -0.7268654711532004, -0.5031869371385602, -0.2185942384050013, -0.5060347129506008, -0.44324839486356343, -0.48975782873324386, -0.5296545528510408, -0.5651523224471886, -0.3899553571428571, -0.1247865072587532, -0.5439425965068417, -0.6202760281585773, -0.6307422086110611, -0.7055168450542346, -0.6560533601812233, -0.5153634635613709, -0.3982079838672717, -0.7451378105590063, -0.7604513486641066, -0.8119513068385249, -0.838364005662584, -0.8482803644367927, -0.7668323361584597, -0.7397639652536032, -0.8125497984626922, -0.8238550343255727, -0.8501479996627856, -0.8437124490772853, -0.8632320253056339, -0.6623826177391233, -0.598867318816439, -0.6669348957678477, -0.6737009627607682, -0.6277507658581827, -0.6418431086233471, -0.6238733238295915, -0.4202747406039511, 0.519694225813192, 0.32774988589685067, -0.02759166270501553, 0.050579020440264105, -0.018867995233348655, 0.028564357213570635, 0.30284294858671473, 0.6302279907779011, 0.07520753314335277, 0.0701449535319111, -0.1853242641222807, 0.019806845861288, 0.04026677419003304, 0.12184746933840038, 0.7027168747746861, 0.21475333177460834, 0.002179699857258558, -0.08345976078749606, 0.1261026941500314, 0.34264523464957614, 0.5830762351889113, 1.1857945425361156, 0.21907172124091867, 0.1237344082267433, 0.10266591921268182, 0.25289288368307444, 0.06303669008587044, 0.08642563801701368, 0.11036576225453446, -0.24898610970293023, -0.13441425650014616, -0.4267721714904814, -0.2931338868212616, -0.4329160924820089, -0.17411326670585933, 0.28510443665192864, -0.23057964399817438, -0.39672201545949043, -0.38153936459021204, -0.2662139810220249, -0.494482427731798, 1.0000893974611123, 1.5775345622119816, 0.19975332475332483, 0.31528512639623757, 0.46612057667103546]\n"
          ]
        }
      ],
      "source": [
        "#error calculations\n",
        "#confirmed = merged_df_new['Actual']\n",
        "#projected = merged_df_new['Prediction']\n",
        "error = []\n",
        "rawerror = []\n",
        "\n",
        "for index, row in merged_df_new.iterrows():\n",
        "  rawerror.append(-1*(row['New Cases'] - row[\"Prediction\"]) / row['New Cases'])\n",
        "  error.append((abs(row['New Cases'] - row[\"Prediction\"])) / row['New Cases'])\n",
        "\n",
        "underpredictCount = 0\n",
        "overpredictCount = 0\n",
        "for x in rawerror:\n",
        "  if x < 0:\n",
        "    underpredictCount += 1\n",
        "  elif x > 0:\n",
        "    overpredictCount += 1\n",
        "\n",
        "underpredictPerecentage = underpredictCount / len(rawerror)\n",
        "overpredictPercentage = 1 - underpredictPerecentage\n",
        "\n",
        "print(underpredictCount)\n",
        "print(underpredictPerecentage)\n",
        "print(overpredictCount)\n",
        "print(overpredictPercentage)\n",
        "print(len(error))\n",
        "\n",
        "print(error)\n",
        "print(rawerror)"
      ]
    },
    {
      "cell_type": "code",
      "execution_count": 31,
      "id": "a0526cb0",
      "metadata": {
        "id": "a0526cb0",
        "colab": {
          "base_uri": "https://localhost:8080/"
        },
        "outputId": "e92440ff-5558-4b5d-bc7d-ce5ca1a0598b"
      },
      "outputs": [
        {
          "output_type": "stream",
          "name": "stdout",
          "text": [
            "[0.8148197596795728, 0.930236634531113, 0.4436932024718284, 0.6827385613603312, 0.6109720692762038, 0.42591946402400727, 0.6290455576169862, 0.7225446428571428, 0.909366576819407, 0.5580393058269164, 0.6182200152788389, 0.6813780522031996, 0.6506968641114983, 0.824783421097333, 0.8331030671456202, 0.5670173057346453, 0.8170868347338934, 0.7734432234432235, 0.9470733348284369, 0.730370114147354, 0.9044763332619405, 0.8806509945750451, 0.5684891240446797, 0.5262589150637562, 0.7730158730158729, 0.583652924256951, 0.7513113236655353, 0.94015444015444, 0.9926108374384236, 0.8701657458563536, 0.43418259023354566, 0.725177304964539, 0.6122754491017964, 0.6726973684210527, 0.798828125, 0.9849624060150376, 0.8803418803418803, 0.48698884758364314, 0.5282258064516129, 0.5770925110132159, 0.6121495327102804, 0.642156862745098, 0.5867346938775511, 0.8832565284178187, 0.40664780763790664, 0.42782738095238093, 0.42561065877128046, 0.4588986432561851, 0.3525444512568976, 0.5009587727708533, 0.6068524970963995, 0.704177897574124, 0.3623439667128987, 0.28819635962493106, 0.3034262485481998, 0.27142857142857146, 0.405574912891986, 0.6068821689259645, 0.23420523138832994, 0.2566137566137566, 0.19290686112031807, 0.18853255587949458, 0.18517340120903591, 0.2911129568106312, 0.4054366685945633, 0.16552538370720182, 0.175689223057644, 0.1703109815354713, 0.15359333917616125, 0.14946695095948825, 0.2866682566181732, 0.3947454844006568, 0.1595857673924589, 0.20663572288121035, 0.1581162851881085, 0.16214757857817352, 0.14357381748686104, 0.2830608146873207, 0.31677367576243987, 0.1790022675736962, 0.19483660775989742, 0.15181937072082474, 0.16064306064306066, 0.16477415045503885, 0.6755325080852013, 0.7781988694758479, 0.40456154411273626, 0.45521154279702414, 0.36698776202593, 0.418248981564593, 0.3787120975304783, 0.3760543580131209, 0.625, 0.3079432079815809, 0.3592211280214861, 0.2024981074943225, 0.32023144453312047, 0.28589241182757397, 0.5183375675851736, 0.6231986215538847, 0.3682262020454441, 0.30746937671471075, 0.34997361013370865, 0.28647033410138245, 0.29448556624722433, 0.482742460164305, 0.49185439020279753, 0.3494791042988863, 0.3181041999709344, 0.335601211238453, 0.30754504900066737, 0.26835136543353666, nan, nan, nan, nan, nan, nan, nan, nan, nan, nan, nan, nan, nan, nan, 0.4600807851304869, 0.8164585316682533, 0.42741344434346695, 0.4523861238674445, 0.37126305067481535, 0.40846944779088334, 0.38771141367939577, 0.5964234669570543, 0.8171624393882879, 0.4690494032007707, 0.5147585761278195, 0.5008573143200068, 0.458484840557721, 0.6199023803628904, 0.4211661204071071, 0.615297379032258, 0.5067455375674554, 0.4952332657200811, 0.3885264162953532, 0.441181785327069, 0.4445557174071376, 0.5572096456692913, 0.8225572103160189, 0.48677987962166813, 0.47384390039757274, 0.39769933263083945, 0.43314843152257076, 0.47473794549266246, 0.7049823991334958, 0.8876576883736789, 0.6727390180878553, 0.5862418374240036, 0.5989187945709684, 0.5596517626827171, 0.5283076298701299, 0.700664227955333, 0.8311636405161584, 0.554109093677439, 0.45967538208917513, 0.46784509079222236, 0.4422738044601081, 0.4659581959604365, 0.6321381454956653, 0.7602708675695585, 0.5159200153816574, 0.46735987738182316, 0.3777380483135311, 0.3571827911186837, 0.3919515045281916, 0.41738844424953403, 0.5388280807699566, 0.4040543409042666, 0.3079017604399752, 0.28882482360974127, 0.2526043394598898, 0.28923443158507856, 0.39541256157635474, 0.5687273049331326, 0.28423149275201953, 0.32335465028450583, 0.24352459327240328, 0.2658620903802762, 0.2798100176474434, 0.8266218194275748, 0.6602323325290416, 0.6493773395640154, 0.5391318478194633, 0.5440049190407871, 0.6668509120144717, 0.7955758048078653, 0.7547522310092143, 0.5621740657677863, 0.472755572723761, 0.40838338633062465, 0.31962730247492055, 0.27235538217852895, 0.3481567629980422, 0.4906732625482625, 0.5575404442007129, 0.3811554539149342, 0.39291028192691924, 0.380456544110768, 0.25154015537631746, 0.27313452884679956, 0.4968130628614398, 0.7814057615949987, 0.49396528704939924, 0.5567516051364365, 0.5102421712667562, 0.4703454471489592, 0.4348476775528114, 0.6100446428571429, 0.8752134927412468, 0.45605740349315826, 0.3797239718414227, 0.3692577913889389, 0.2944831549457654, 0.3439466398187767, 0.48463653643862914, 0.6017920161327284, 0.2548621894409937, 0.23954865133589343, 0.1880486931614751, 0.16163599433741604, 0.15171963556320733, 0.2331676638415403, 0.2602360347463968, 0.18745020153730785, 0.17614496567442728, 0.14985200033721435, 0.15628755092271474, 0.13676797469436608, 0.3376173822608767, 0.40113268118356105, 0.3330651042321523, 0.3262990372392318, 0.3722492341418173, 0.35815689137665285, 0.3761266761704085, 0.5797252593960489, 0.480305774186808, 0.6722501141031494, 0.9724083372949844, 0.9494209795597359, 0.9811320047666513, 0.9714356427864294, 0.6971570514132852, 0.36977200922209885, 0.9247924668566472, 0.9298550464680889, 0.8146757358777192, 0.980193154138712, 0.959733225809967, 0.8781525306615996, 0.29728312522531386, 0.7852466682253917, 0.9978203001427415, 0.9165402392125039, 0.8738973058499686, 0.6573547653504239, 0.4169237648110887, -0.1857945425361156, 0.7809282787590813, 0.8762655917732567, 0.8973340807873181, 0.7471071163169256, 0.9369633099141296, 0.9135743619829864, 0.8896342377454656, 0.7510138902970698, 0.8655857434998538, 0.5732278285095186, 0.7068661131787384, 0.5670839075179911, 0.8258867332941406, 0.7148955633480714, 0.7694203560018256, 0.6032779845405096, 0.6184606354097879, 0.733786018977975, 0.5055175722682019, -8.939746111225055e-05, -0.5775345622119816, 0.8002466752466751, 0.6847148736037625, 0.5338794233289645]\n"
          ]
        }
      ],
      "source": [
        "#accuracy calculations\n",
        "accuracy = []\n",
        "\n",
        "for i in error:\n",
        "  accuracy.append(1 - i)\n",
        "\n",
        "print(accuracy)"
      ]
    },
    {
      "cell_type": "code",
      "execution_count": null,
      "id": "a8012f5e",
      "metadata": {
        "id": "a8012f5e"
      },
      "outputs": [],
      "source": [
        "#Create Error and Accuracy Column and insert list data\n",
        "merged_df_new['Error'] = error\n",
        "merged_df_new['Accuracy'] = accuracy\n",
        "merged_df_new['RawError'] = rawerror\n",
        "\n",
        "print(merged_df_new)"
      ]
    },
    {
      "cell_type": "code",
      "execution_count": 33,
      "id": "6a1f3c40",
      "metadata": {
        "id": "6a1f3c40",
        "colab": {
          "base_uri": "https://localhost:8080/",
          "height": 313
        },
        "outputId": "53d19a98-8f7c-4c1a-f1b7-f26b2476a31b"
      },
      "outputs": [
        {
          "output_type": "execute_result",
          "data": {
            "text/plain": [
              "<matplotlib.legend.Legend at 0x7fed21c17850>"
            ]
          },
          "metadata": {},
          "execution_count": 33
        },
        {
          "output_type": "display_data",
          "data": {
            "text/plain": [
              "<Figure size 432x288 with 1 Axes>"
            ],
            "image/png": "[encoded data removed]"
          },
          "metadata": {
            "needs_background": "light"
          }
        }
      ],
      "source": [
        "from IPython.core.pylabtools import figsize\n",
        "#Create plot of Error\n",
        "\n",
        "#Error Line\n",
        "plt.plot(merged_df_new['Date'], merged_df_new['Error'], color='g', label='Error')\n",
        "\n",
        "\n",
        "#Create XY Labels and Title\n",
        "plt.xlabel('Date (Year/Month/Day)') \n",
        "plt.ylabel('Percentage') \n",
        "plt.title(\"Predicted Daily COVID-19 Case Error in PA\")\n",
        "#Display Plot\n",
        "plt.legend()"
      ]
    },
    {
      "cell_type": "code",
      "execution_count": 34,
      "id": "0480ef44",
      "metadata": {
        "id": "0480ef44",
        "colab": {
          "base_uri": "https://localhost:8080/",
          "height": 295
        },
        "outputId": "2e347070-5483-4746-a5a2-d2dd0ad2be54"
      },
      "outputs": [
        {
          "output_type": "display_data",
          "data": {
            "text/plain": [
              "<Figure size 432x288 with 1 Axes>"
            ],
            "image/png": "[encoded data removed]"
          },
          "metadata": {
            "needs_background": "light"
          }
        }
      ],
      "source": [
        "#Create plot of Raw Error\n",
        "\n",
        "#Raw Error Line\n",
        "plt.plot(merged_df_new['Date'], merged_df_new['RawError'], color='g', label='Raw Error')\n",
        "plt.axhline(y=0.0, color='r', linestyle='-')\n",
        "\n",
        "#Create XY Labels and Title\n",
        "plt.xlabel('Date (Year/Month/Day)') \n",
        "plt.ylabel('Percentage') \n",
        "plt.title(\"Predicted Daily COVID-19 Case Raw Error in PA\")\n",
        "#Display Plot\n",
        "plt.legend()\n",
        "plt.show()"
      ]
    },
    {
      "cell_type": "code",
      "execution_count": 35,
      "id": "cb557ed1",
      "metadata": {
        "id": "cb557ed1",
        "colab": {
          "base_uri": "https://localhost:8080/",
          "height": 295
        },
        "outputId": "94767a9b-b4fa-4ccc-cfc7-222a719e3d11"
      },
      "outputs": [
        {
          "output_type": "display_data",
          "data": {
            "text/plain": [
              "<Figure size 432x288 with 1 Axes>"
            ],
            "image/png": "[encoded data removed]"
          },
          "metadata": {
            "needs_background": "light"
          }
        }
      ],
      "source": [
        "#Create plot of Accuracy\n",
        "\n",
        "#Accuracy Line\n",
        "plt.plot(merged_df_new['Date'], merged_df_new['Accuracy'], color='r', label='Daily Accuracy')\n",
        "\n",
        "#Create XY Labels and Title\n",
        "plt.xlabel('Date (Year/Month/Day)') \n",
        "plt.ylabel('Percentage') \n",
        "plt.title(\"Predicted Daily COVID-19 Case Accuracy in PA\")\n",
        "\n",
        "#Display Plot\n",
        "plt.legend()\n",
        "plt.show()"
      ]
    },
    {
      "cell_type": "code",
      "execution_count": 36,
      "id": "4d6b0409",
      "metadata": {
        "id": "4d6b0409"
      },
      "outputs": [],
      "source": [
        "#Calculate Weekly Accuracy Averages\n",
        "weeklyAccuracy = 0\n",
        "averageWeeklyAccuracy = []\n",
        "length = len(accuracy) #   =245\n",
        "amountOfWeeks = int(length / 7) #   =35\n",
        "remainderDays = length % 7 #  \n",
        "\n",
        "i = 0\n",
        "while i < length:\n",
        "  weeklyAccuracy += accuracy[i]\n",
        "  if (i + 1) % 7 == 0 and amountOfWeeks > 0:\n",
        "    averageWeeklyAccuracy.append(weeklyAccuracy / 7)\n",
        "    amountOfWeeks -= 1\n",
        "    weeklyAccuracy = 0\n",
        "  if remainderDays > 0:\n",
        "    if (i + 1) % remainderDays == 0 and amountOfWeeks == 0:\n",
        "      averageWeeklyAccuracy.append(weeklyAccuracy / remainderDays)\n",
        "      weeklyAccuracy = 0\n",
        "  i += 1\n",
        "\n",
        "weeklyDateList = []\n",
        "i = 0\n",
        "weeklyDateList.append(merged_df_new['Date'][i])\n",
        "while i < length:\n",
        "  if (i + 1) % 7 == 0:\n",
        "    weeklyDateList.append(merged_df_new['Date'][i])\n",
        "  i += 1"
      ]
    },
    {
      "cell_type": "code",
      "source": [
        "len(weeklyDateList)"
      ],
      "metadata": {
        "colab": {
          "base_uri": "https://localhost:8080/"
        },
        "id": "WJ-5HSFnNqoZ",
        "outputId": "f47b04c5-8e5e-4ff5-9631-bfbbe9168193"
      },
      "id": "WJ-5HSFnNqoZ",
      "execution_count": 37,
      "outputs": [
        {
          "output_type": "execute_result",
          "data": {
            "text/plain": [
              "42"
            ]
          },
          "metadata": {},
          "execution_count": 37
        }
      ]
    },
    {
      "cell_type": "code",
      "source": [
        "#del averageWeeklyAccuracy[-1:]\n",
        "len(averageWeeklyAccuracy)"
      ],
      "metadata": {
        "colab": {
          "base_uri": "https://localhost:8080/"
        },
        "id": "P90LPnPNNFv2",
        "outputId": "750ef4d3-c264-42d2-9013-df7e88278f57"
      },
      "id": "P90LPnPNNFv2",
      "execution_count": 38,
      "outputs": [
        {
          "output_type": "execute_result",
          "data": {
            "text/plain": [
              "42"
            ]
          },
          "metadata": {},
          "execution_count": 38
        }
      ]
    },
    {
      "cell_type": "code",
      "execution_count": 39,
      "id": "04c4449c",
      "metadata": {
        "id": "04c4449c"
      },
      "outputs": [],
      "source": [
        "#Create Dataframe for Weekly Accuracy\n",
        "i = 0\n",
        "data = []\n",
        "while i < len(averageWeeklyAccuracy):\n",
        "  data.append([weeklyDateList[i], averageWeeklyAccuracy[i]])\n",
        "  i += 1\n",
        "\n",
        "df = pd.DataFrame(data, columns = ['Week Of', 'Average Weekly Accuracy'])"
      ]
    },
    {
      "cell_type": "code",
      "execution_count": 40,
      "id": "6132cdfa",
      "metadata": {
        "id": "6132cdfa",
        "colab": {
          "base_uri": "https://localhost:8080/",
          "height": 295
        },
        "outputId": "41a8255b-0c76-4981-cf93-df92acdd3cfc"
      },
      "outputs": [
        {
          "output_type": "display_data",
          "data": {
            "text/plain": [
              "<Figure size 432x288 with 1 Axes>"
            ],
            "image/png": "[encoded data removed]"
          },
          "metadata": {
            "needs_background": "light"
          }
        }
      ],
      "source": [
        "#Create plot of Weekly Accuracy\n",
        "\n",
        "#Accuracy Line\n",
        "plt.plot(df['Week Of'], df['Average Weekly Accuracy'], color='r', label='Weekly Accuracy')\n",
        "\n",
        "#Create XY Labels and Title\n",
        "plt.xlabel('Week Of (Year/Month/Day)') \n",
        "plt.ylabel('Average Weekly Accuracy Percentage') \n",
        "plt.title(\"Predicted Daily COVID-19 Case Weekly Accuracy in PA\")\n",
        "\n",
        "#Display Plot\n",
        "plt.legend()\n",
        "plt.show()"
      ]
    },
    {
      "cell_type": "code",
      "execution_count": 41,
      "id": "5917fad0",
      "metadata": {
        "id": "5917fad0"
      },
      "outputs": [],
      "source": [
        "#Create Running Weekly Average\n",
        "runningweeklyAccuracy = 0\n",
        "runningAverageWeeklyAccuracy = []\n",
        "length = len(accuracy)\n",
        "\n",
        "i = 1\n",
        "j = 8\n",
        "#Add first week average\n",
        "runningAverageWeeklyAccuracy.append(averageWeeklyAccuracy[0])\n",
        "\n",
        "while j < length:\n",
        "  temp_i = i\n",
        "  temp_j = j\n",
        "  while temp_i < temp_j:\n",
        "    runningweeklyAccuracy += accuracy[temp_i]\n",
        "    temp_i += 1\n",
        "  runningAverageWeeklyAccuracy.append(runningweeklyAccuracy / 7)\n",
        "  runningweeklyAccuracy = 0\n",
        "\n",
        "  i += 1\n",
        "  j += 1"
      ]
    },
    {
      "cell_type": "code",
      "execution_count": 42,
      "id": "5b231780",
      "metadata": {
        "id": "5b231780"
      },
      "outputs": [],
      "source": [
        "#Create Dataframe for Running Weekly Accuracy\n",
        "i = 0\n",
        "data = []\n",
        "while i < len(runningAverageWeeklyAccuracy):\n",
        "  data.append([merged_df_new['Date'][i], runningAverageWeeklyAccuracy[i]])\n",
        "  i += 1\n",
        "\n",
        "df = pd.DataFrame(data, columns = ['Date', 'Running Weekly Average Accuracy'])"
      ]
    },
    {
      "cell_type": "code",
      "execution_count": 43,
      "id": "85337528",
      "metadata": {
        "id": "85337528",
        "colab": {
          "base_uri": "https://localhost:8080/",
          "height": 295
        },
        "outputId": "2fa7b517-e6dc-411e-954c-c74486fca9a9"
      },
      "outputs": [
        {
          "output_type": "display_data",
          "data": {
            "text/plain": [
              "<Figure size 432x288 with 1 Axes>"
            ],
            "image/png": "[encoded data removed]"
          },
          "metadata": {
            "needs_background": "light"
          }
        }
      ],
      "source": [
        "#Create plot of Running Weekly Accuracy\n",
        "\n",
        "#Accuracy Line\n",
        "plt.plot(df['Date'], df['Running Weekly Average Accuracy'], color='r', label='Running Weekly Accuracy')\n",
        "\n",
        "#Create XY Labels and Title\n",
        "plt.xlabel('Date') \n",
        "plt.ylabel('Accuracy Percentage') \n",
        "plt.title(\"Predicted Daily COVID-19 Case Running Weekly Accuracy in PA\")\n",
        "\n",
        "#Display Plot\n",
        "plt.legend()\n",
        "plt.show()"
      ]
    },
    {
      "cell_type": "code",
      "execution_count": 44,
      "id": "b8764ff7",
      "metadata": {
        "id": "b8764ff7",
        "colab": {
          "base_uri": "https://localhost:8080/",
          "height": 295
        },
        "outputId": "087fcb14-93e6-475c-c0f6-82e957dbf37a"
      },
      "outputs": [
        {
          "output_type": "display_data",
          "data": {
            "text/plain": [
              "<Figure size 432x288 with 1 Axes>"
            ],
            "image/png": "[encoded data removed]"
          },
          "metadata": {
            "needs_background": "light"
          }
        }
      ],
      "source": [
        "#Plot with combined daily accuracy and running weekly accuracy\n",
        "\n",
        "#Daily Accuracy\n",
        "plt.plot(merged_df_new['Date'], merged_df_new['Accuracy'], color='r', label='Daily Accuracy')\n",
        "\n",
        "#Running Accuracy Line\n",
        "plt.plot(df['Date'], df['Running Weekly Average Accuracy'], color='b', label='Running Weekly Accuracy')\n",
        "\n",
        "#Create XY Labels and Title\n",
        "plt.xlabel('Date') \n",
        "plt.ylabel('Accuracy Percentage') \n",
        "plt.title(\"Predicted Daily COVID-19 Case Accuracy in PA\")\n",
        "\n",
        "#Display Plot\n",
        "plt.legend()\n",
        "plt.show()"
      ]
    },
    {
      "cell_type": "code",
      "execution_count": null,
      "id": "4243a737",
      "metadata": {
        "id": "4243a737"
      },
      "outputs": [],
      "source": [
        "#merged_df_new.to_csv('DDS_everyday_predictions.csv')"
      ]
    },
    {
      "cell_type": "code",
      "execution_count": 45,
      "id": "b8d57b22",
      "metadata": {
        "id": "b8d57b22"
      },
      "outputs": [],
      "source": [
        "#Calculate Monthly Accuracy Averages\n",
        "#We are going to use an average of 30 days per month for these calculations\n",
        "\n",
        "monthlyAccuracy = 0\n",
        "averageMonthlyAccuracy = []\n",
        "amountOfMonths = int(length / 30)\n",
        "remainderDays = length % 30\n",
        "\n",
        "i = 0\n",
        "while i < length:\n",
        "  monthlyAccuracy += accuracy[i]\n",
        "  if (i + 1) % 30 == 0 and amountOfMonths > 0:\n",
        "    averageMonthlyAccuracy.append(monthlyAccuracy / 30)\n",
        "    amountOfMonths -= 1\n",
        "    monthlyAccuracy = 0\n",
        "  if (i + 1) % remainderDays == 0 and remainderDays > 0 and amountOfMonths == 0:\n",
        "    averageMonthlyAccuracy.append(monthlyAccuracy / remainderDays)\n",
        "    monthlyAccuracy = 0\n",
        "  i += 1\n",
        "\n",
        "weeklyDateListForMonths = []\n",
        "i = 0\n",
        "weeklyDateListForMonths.append(merged_df_new['Date'][i])\n",
        "while i < length:\n",
        "  if (i + 1) % 30 == 0:\n",
        "    weeklyDateListForMonths.append(merged_df_new['Date'][i])\n",
        "  i += 1\n"
      ]
    },
    {
      "cell_type": "code",
      "execution_count": 46,
      "id": "c9d81c9a",
      "metadata": {
        "id": "c9d81c9a",
        "colab": {
          "base_uri": "https://localhost:8080/"
        },
        "outputId": "9fbe566b-daa0-4ddd-c387-e016d5d463da"
      },
      "outputs": [
        {
          "output_type": "execute_result",
          "data": {
            "text/plain": [
              "9"
            ]
          },
          "metadata": {},
          "execution_count": 46
        }
      ],
      "source": [
        "del averageMonthlyAccuracy[-1:]\n",
        "len(averageMonthlyAccuracy)"
      ]
    },
    {
      "cell_type": "code",
      "execution_count": 47,
      "id": "d2d88cd5",
      "metadata": {
        "id": "d2d88cd5"
      },
      "outputs": [],
      "source": [
        "#Create Dataframe for Monthly Accuracy\n",
        "i = 0\n",
        "data = []\n",
        "while i < len(averageMonthlyAccuracy):\n",
        "  data.append([weeklyDateListForMonths[i], averageMonthlyAccuracy[i]])\n",
        "  i += 1\n",
        "\n",
        "df = pd.DataFrame(data, columns = ['Month Of', 'Average Monthly Accuracy'])"
      ]
    },
    {
      "cell_type": "code",
      "execution_count": 48,
      "id": "bbf2b69a",
      "metadata": {
        "id": "bbf2b69a",
        "colab": {
          "base_uri": "https://localhost:8080/",
          "height": 295
        },
        "outputId": "16b8b5eb-a133-4cec-98d8-303ae45f5cad"
      },
      "outputs": [
        {
          "output_type": "display_data",
          "data": {
            "text/plain": [
              "<Figure size 432x288 with 1 Axes>"
            ],
            "image/png": "[encoded data removed]"
          },
          "metadata": {
            "needs_background": "light"
          }
        }
      ],
      "source": [
        "#Create plot of Monthly Accuracy\n",
        "\n",
        "#Accuracy Line\n",
        "plt.plot(df['Month Of'], df['Average Monthly Accuracy'], color='r', label='Monthly Accuracy')\n",
        "\n",
        "#Create XY Labels and Title\n",
        "plt.xlabel('Month Of (Year/Month/Day)') \n",
        "plt.ylabel('Average Monthly Accuracy Percentage') \n",
        "plt.title(\"Predicted Daily COVID-19 Case Monthly Accuracy in PA\")\n",
        "\n",
        "#Display Plot\n",
        "plt.legend()\n",
        "plt.show()"
      ]
    },
    {
      "cell_type": "code",
      "source": [
        "#Calculate Running Monthly Accuracy\n",
        "\n",
        "runningmonthlyAccuracy = 0\n",
        "runningAveragemonthlyAccuracy = []\n",
        "length = len(accuracy)\n",
        "\n",
        "i = 1\n",
        "j = 31\n",
        "#Add first week average\n",
        "runningAveragemonthlyAccuracy.append(averageMonthlyAccuracy[0])\n",
        "\n",
        "while j < length:\n",
        "  temp_i = i\n",
        "  temp_j = j\n",
        "  while temp_i < temp_j:\n",
        "    runningmonthlyAccuracy += accuracy[temp_i]\n",
        "    temp_i += 1\n",
        "  runningAveragemonthlyAccuracy.append(runningmonthlyAccuracy / 30)\n",
        "  runningmonthlyAccuracy = 0\n",
        "\n",
        "  i += 1\n",
        "  j += 1"
      ],
      "metadata": {
        "id": "X02LeClcSWTa"
      },
      "id": "X02LeClcSWTa",
      "execution_count": 49,
      "outputs": []
    },
    {
      "cell_type": "code",
      "source": [
        "#Create Dataframe for Running Monthly Accuracy\n",
        "i = 0\n",
        "data = []\n",
        "while i < len(runningAveragemonthlyAccuracy):\n",
        "  data.append([merged_df_new['Date'][i], runningAveragemonthlyAccuracy[i]])\n",
        "  i += 1\n",
        "\n",
        "df = pd.DataFrame(data, columns = ['Date', 'Running Monthly Average Accuracy'])"
      ],
      "metadata": {
        "id": "0IAKKnIZSc7e"
      },
      "id": "0IAKKnIZSc7e",
      "execution_count": 50,
      "outputs": []
    },
    {
      "cell_type": "code",
      "source": [
        "#Create plot of Running Monthly Accuracy\n",
        "\n",
        "#Accuracy Line\n",
        "plt.plot(df['Date'], df['Running Monthly Average Accuracy'], color='r', label='Running Monthly Accuracy')\n",
        "\n",
        "#Create XY Labels and Title\n",
        "plt.xlabel('Date') \n",
        "plt.ylabel('Accuracy Percentage') \n",
        "plt.title(\"Predicted Daily COVID-19 Case Running Monthly Accuracy in PA\")\n",
        "\n",
        "#Display Plot\n",
        "plt.legend()\n",
        "plt.show()"
      ],
      "metadata": {
        "colab": {
          "base_uri": "https://localhost:8080/",
          "height": 295
        },
        "id": "qhK2tbJaSkPW",
        "outputId": "6bf000c9-aaee-4cd2-a196-a81fd528f679"
      },
      "id": "qhK2tbJaSkPW",
      "execution_count": 51,
      "outputs": [
        {
          "output_type": "display_data",
          "data": {
            "text/plain": [
              "<Figure size 432x288 with 1 Axes>"
            ],
            "image/png": "[encoded data removed]"
          },
          "metadata": {
            "needs_background": "light"
          }
        }
      ]
    },
    {
      "cell_type": "code",
      "source": [
        "#Calculate Yearly Accuracy Averages\n",
        "#We are going to use an average of 365 days per year for these calculations\n",
        "\n",
        "yearlyAccuracy = 0\n",
        "averageYearlyAccuracy = []\n",
        "amountOfYears = int(length / 365)\n",
        "remainderDays = length % 365\n",
        "\n",
        "i = 0\n",
        "while i < length:\n",
        "  yearlyAccuracy += accuracy[i]\n",
        "  if (i + 1) % 365 == 0 and amountOfYears > 0:\n",
        "    averageYearlyAccuracy.append(yearlyAccuracy / 365)\n",
        "    amountOfYears -= 1\n",
        "    yearlyAccuracy = 0\n",
        "  if (i + 1) % remainderDays == 0 and remainderDays > 0 and amountOfYears == 0:\n",
        "    averageYearlyAccuracy.append(yearlyAccuracy / remainderDays)\n",
        "    yearlyAccuracy = 0\n",
        "  i += 1\n",
        "\n",
        "weeklyDateListForYears = []\n",
        "i = 0\n",
        "weeklyDateListForYears.append(merged_df_new['Date'][i])\n",
        "while i < length:\n",
        "  if (i + 1) % 365 == 0:\n",
        "    weeklyDateListForYears.append(merged_df_new['Date'][i])\n",
        "  i += 1"
      ],
      "metadata": {
        "id": "wuFLInYkSl0D"
      },
      "id": "wuFLInYkSl0D",
      "execution_count": 52,
      "outputs": []
    },
    {
      "cell_type": "code",
      "source": [
        "print(averageYearlyAccuracy)"
      ],
      "metadata": {
        "colab": {
          "base_uri": "https://localhost:8080/"
        },
        "id": "0X5tj6YASxgP",
        "outputId": "16dd84ff-fa6e-454f-c794-f2ca3a95f0ce"
      },
      "id": "0X5tj6YASxgP",
      "execution_count": 53,
      "outputs": [
        {
          "output_type": "stream",
          "name": "stdout",
          "text": [
            "[nan]\n"
          ]
        }
      ]
    },
    {
      "cell_type": "code",
      "source": [
        "#Calculate Overall Accuracy\n",
        "overallAccuracy = merged_df_new['Accuracy'].mean()\n",
        "print(overallAccuracy)"
      ],
      "metadata": {
        "colab": {
          "base_uri": "https://localhost:8080/"
        },
        "id": "wvfzf5lyTIzD",
        "outputId": "4339f2b9-5de7-4a24-da2d-64db3d7c20ea"
      },
      "id": "wvfzf5lyTIzD",
      "execution_count": 56,
      "outputs": [
        {
          "output_type": "stream",
          "name": "stdout",
          "text": [
            "0.5090723142354445\n"
          ]
        }
      ]
    },
    {
      "cell_type": "code",
      "source": [
        "#Create new dataframe for year 2022\n",
        "data_2022 = merged_df_new[(merged_df_new['Date'] > '2022-01-01')]"
      ],
      "metadata": {
        "id": "hrBX4CVpTN0j"
      },
      "id": "hrBX4CVpTN0j",
      "execution_count": 57,
      "outputs": []
    },
    {
      "cell_type": "code",
      "source": [
        "#create error and accuracy lists for 2022\n",
        "error_2022=[]\n",
        "for index, row in data_2022.iterrows():\n",
        "  error_2022.append((abs(row['New Cases'] - row[\"Prediction\"])) / row['New Cases'])\n",
        "\n",
        "accuracy_2022 = []\n",
        "for i in error_2022:\n",
        "  accuracy_2022.append(1 - i)"
      ],
      "metadata": {
        "id": "91MO2kFaTSTJ"
      },
      "id": "91MO2kFaTSTJ",
      "execution_count": 58,
      "outputs": []
    },
    {
      "cell_type": "code",
      "source": [
        "#check head of 2022 data\n",
        "data_2022.head(5)"
      ],
      "metadata": {
        "colab": {
          "base_uri": "https://localhost:8080/",
          "height": 354
        },
        "id": "GAIV4vDLTdLo",
        "outputId": "890829f9-f392-46ee-c22e-328d8dac04f1"
      },
      "id": "GAIV4vDLTdLo",
      "execution_count": 59,
      "outputs": [
        {
          "output_type": "execute_result",
          "data": {
            "text/plain": [
              "          Date  New Cases  7-day Average New Cases  \\\n",
              "232 2022-01-02      35128                  38695.9   \n",
              "233 2022-01-03      48768                  41456.9   \n",
              "234 2022-01-04      51898                  44396.0   \n",
              "235 2022-01-05      61004                  47411.2   \n",
              "236 2022-01-06      58492                  49136.1   \n",
              "\n",
              "     Cumulative cases                            Population (2019)  \\\n",
              "232                                     4203914           25603978   \n",
              "233                                     4252682           25603978   \n",
              "234                                     4304580           25603978   \n",
              "235                                     4365584           25603978   \n",
              "236                                     4424076           25603978   \n",
              "\n",
              "     New Case Rate  7-Day Average New Case Rate  Cumulative Case Rate  \\\n",
              "232         6449.2                       7426.4             1172327.7   \n",
              "233         9816.9                       8055.2             1182144.5   \n",
              "234        10744.4                       8691.2             1192888.2   \n",
              "235        11662.5                       9215.5             1204551.4   \n",
              "236        12854.6                       9728.8             1217406.1   \n",
              "\n",
              "     County FIPS Code    Longitude     Latitude   Prediction     Error  \\\n",
              "232           2860489 -5275.682283  2774.207671  9141.571429  0.739764   \n",
              "233           2860489 -5275.682283  2774.207671  9141.571429  0.812550   \n",
              "234           2860489 -5275.682283  2774.207671  9141.571429  0.823855   \n",
              "235           2860489 -5275.682283  2774.207671  9141.571429  0.850148   \n",
              "236           2860489 -5275.682283  2774.207671  9141.571429  0.843712   \n",
              "\n",
              "     Accuracy  RawError  \n",
              "232  0.260236 -0.739764  \n",
              "233  0.187450 -0.812550  \n",
              "234  0.176145 -0.823855  \n",
              "235  0.149852 -0.850148  \n",
              "236  0.156288 -0.843712  "
            ],
            "text/html": [
              "\n",
              "  <div id=\"df-ef26f837-8d7c-4096-ae0f-ad38a1072970\">\n",
              "    <div class=\"colab-df-container\">\n",
              "      <div>\n",
              "<style scoped>\n",
              "    .dataframe tbody tr th:only-of-type {\n",
              "        vertical-align: middle;\n",
              "    }\n",
              "\n",
              "    .dataframe tbody tr th {\n",
              "        vertical-align: top;\n",
              "    }\n",
              "\n",
              "    .dataframe thead th {\n",
              "        text-align: right;\n",
              "    }\n",
              "</style>\n",
              "<table border=\"1\" class=\"dataframe\">\n",
              "  <thead>\n",
              "    <tr style=\"text-align: right;\">\n",
              "      <th></th>\n",
              "      <th>Date</th>\n",
              "      <th>New Cases</th>\n",
              "      <th>7-day Average New Cases</th>\n",
              "      <th>Cumulative cases</th>\n",
              "      <th>Population (2019)</th>\n",
              "      <th>New Case Rate</th>\n",
              "      <th>7-Day Average New Case Rate</th>\n",
              "      <th>Cumulative Case Rate</th>\n",
              "      <th>County FIPS Code</th>\n",
              "      <th>Longitude</th>\n",
              "      <th>Latitude</th>\n",
              "      <th>Prediction</th>\n",
              "      <th>Error</th>\n",
              "      <th>Accuracy</th>\n",
              "      <th>RawError</th>\n",
              "    </tr>\n",
              "  </thead>\n",
              "  <tbody>\n",
              "    <tr>\n",
              "      <th>232</th>\n",
              "      <td>2022-01-02</td>\n",
              "      <td>35128</td>\n",
              "      <td>38695.9</td>\n",
              "      <td>4203914</td>\n",
              "      <td>25603978</td>\n",
              "      <td>6449.2</td>\n",
              "      <td>7426.4</td>\n",
              "      <td>1172327.7</td>\n",
              "      <td>2860489</td>\n",
              "      <td>-5275.682283</td>\n",
              "      <td>2774.207671</td>\n",
              "      <td>9141.571429</td>\n",
              "      <td>0.739764</td>\n",
              "      <td>0.260236</td>\n",
              "      <td>-0.739764</td>\n",
              "    </tr>\n",
              "    <tr>\n",
              "      <th>233</th>\n",
              "      <td>2022-01-03</td>\n",
              "      <td>48768</td>\n",
              "      <td>41456.9</td>\n",
              "      <td>4252682</td>\n",
              "      <td>25603978</td>\n",
              "      <td>9816.9</td>\n",
              "      <td>8055.2</td>\n",
              "      <td>1182144.5</td>\n",
              "      <td>2860489</td>\n",
              "      <td>-5275.682283</td>\n",
              "      <td>2774.207671</td>\n",
              "      <td>9141.571429</td>\n",
              "      <td>0.812550</td>\n",
              "      <td>0.187450</td>\n",
              "      <td>-0.812550</td>\n",
              "    </tr>\n",
              "    <tr>\n",
              "      <th>234</th>\n",
              "      <td>2022-01-04</td>\n",
              "      <td>51898</td>\n",
              "      <td>44396.0</td>\n",
              "      <td>4304580</td>\n",
              "      <td>25603978</td>\n",
              "      <td>10744.4</td>\n",
              "      <td>8691.2</td>\n",
              "      <td>1192888.2</td>\n",
              "      <td>2860489</td>\n",
              "      <td>-5275.682283</td>\n",
              "      <td>2774.207671</td>\n",
              "      <td>9141.571429</td>\n",
              "      <td>0.823855</td>\n",
              "      <td>0.176145</td>\n",
              "      <td>-0.823855</td>\n",
              "    </tr>\n",
              "    <tr>\n",
              "      <th>235</th>\n",
              "      <td>2022-01-05</td>\n",
              "      <td>61004</td>\n",
              "      <td>47411.2</td>\n",
              "      <td>4365584</td>\n",
              "      <td>25603978</td>\n",
              "      <td>11662.5</td>\n",
              "      <td>9215.5</td>\n",
              "      <td>1204551.4</td>\n",
              "      <td>2860489</td>\n",
              "      <td>-5275.682283</td>\n",
              "      <td>2774.207671</td>\n",
              "      <td>9141.571429</td>\n",
              "      <td>0.850148</td>\n",
              "      <td>0.149852</td>\n",
              "      <td>-0.850148</td>\n",
              "    </tr>\n",
              "    <tr>\n",
              "      <th>236</th>\n",
              "      <td>2022-01-06</td>\n",
              "      <td>58492</td>\n",
              "      <td>49136.1</td>\n",
              "      <td>4424076</td>\n",
              "      <td>25603978</td>\n",
              "      <td>12854.6</td>\n",
              "      <td>9728.8</td>\n",
              "      <td>1217406.1</td>\n",
              "      <td>2860489</td>\n",
              "      <td>-5275.682283</td>\n",
              "      <td>2774.207671</td>\n",
              "      <td>9141.571429</td>\n",
              "      <td>0.843712</td>\n",
              "      <td>0.156288</td>\n",
              "      <td>-0.843712</td>\n",
              "    </tr>\n",
              "  </tbody>\n",
              "</table>\n",
              "</div>\n",
              "      <button class=\"colab-df-convert\" onclick=\"convertToInteractive('df-ef26f837-8d7c-4096-ae0f-ad38a1072970')\"\n",
              "              title=\"Convert this dataframe to an interactive table.\"\n",
              "              style=\"display:none;\">\n",
              "        \n",
              "  <svg xmlns=\"http://www.w3.org/2000/svg\" height=\"24px\"viewBox=\"0 0 24 24\"\n",
              "       width=\"24px\">\n",
              "    <path d=\"M0 0h24v24H0V0z\" fill=\"none\"/>\n",
              "    <path d=\"M18.56 5.44l.94 2.06.94-2.06 2.06-.94-2.06-.94-.94-2.06-.94 2.06-2.06.94zm-11 1L8.5 8.5l.94-2.06 2.06-.94-2.06-.94L8.5 2.5l-.94 2.06-2.06.94zm10 10l.94 2.06.94-2.06 2.06-.94-2.06-.94-.94-2.06-.94 2.06-2.06.94z\"/><path d=\"M17.41 7.96l-1.37-1.37c-.4-.4-.92-.59-1.43-.59-.52 0-1.04.2-1.43.59L10.3 9.45l-7.72 7.72c-.78.78-.78 2.05 0 2.83L4 21.41c.39.39.9.59 1.41.59.51 0 1.02-.2 1.41-.59l7.78-7.78 2.81-2.81c.8-.78.8-2.07 0-2.86zM5.41 20L4 18.59l7.72-7.72 1.47 1.35L5.41 20z\"/>\n",
              "  </svg>\n",
              "      </button>\n",
              "      \n",
              "  <style>\n",
              "    .colab-df-container {\n",
              "      display:flex;\n",
              "      flex-wrap:wrap;\n",
              "      gap: 12px;\n",
              "    }\n",
              "\n",
              "    .colab-df-convert {\n",
              "      background-color: #E8F0FE;\n",
              "      border: none;\n",
              "      border-radius: 50%;\n",
              "      cursor: pointer;\n",
              "      display: none;\n",
              "      fill: #1967D2;\n",
              "      height: 32px;\n",
              "      padding: 0 0 0 0;\n",
              "      width: 32px;\n",
              "    }\n",
              "\n",
              "    .colab-df-convert:hover {\n",
              "      background-color: #E2EBFA;\n",
              "      box-shadow: 0px 1px 2px rgba(60, 64, 67, 0.3), 0px 1px 3px 1px rgba(60, 64, 67, 0.15);\n",
              "      fill: #174EA6;\n",
              "    }\n",
              "\n",
              "    [theme=dark] .colab-df-convert {\n",
              "      background-color: #3B4455;\n",
              "      fill: #D2E3FC;\n",
              "    }\n",
              "\n",
              "    [theme=dark] .colab-df-convert:hover {\n",
              "      background-color: #434B5C;\n",
              "      box-shadow: 0px 1px 3px 1px rgba(0, 0, 0, 0.15);\n",
              "      filter: drop-shadow(0px 1px 2px rgba(0, 0, 0, 0.3));\n",
              "      fill: #FFFFFF;\n",
              "    }\n",
              "  </style>\n",
              "\n",
              "      <script>\n",
              "        const buttonEl =\n",
              "          document.querySelector('#df-ef26f837-8d7c-4096-ae0f-ad38a1072970 button.colab-df-convert');\n",
              "        buttonEl.style.display =\n",
              "          google.colab.kernel.accessAllowed ? 'block' : 'none';\n",
              "\n",
              "        async function convertToInteractive(key) {\n",
              "          const element = document.querySelector('#df-ef26f837-8d7c-4096-ae0f-ad38a1072970');\n",
              "          const dataTable =\n",
              "            await google.colab.kernel.invokeFunction('convertToInteractive',\n",
              "                                                     [key], {});\n",
              "          if (!dataTable) return;\n",
              "\n",
              "          const docLinkHtml = 'Like what you see? Visit the ' +\n",
              "            '<a target=\"_blank\" href=https://colab.research.google.com/notebooks/data_table.ipynb>data table notebook</a>'\n",
              "            + ' to learn more about interactive tables.';\n",
              "          element.innerHTML = '';\n",
              "          dataTable['output_type'] = 'display_data';\n",
              "          await google.colab.output.renderOutput(dataTable, element);\n",
              "          const docLink = document.createElement('div');\n",
              "          docLink.innerHTML = docLinkHtml;\n",
              "          element.appendChild(docLink);\n",
              "        }\n",
              "      </script>\n",
              "    </div>\n",
              "  </div>\n",
              "  "
            ]
          },
          "metadata": {},
          "execution_count": 59
        }
      ]
    },
    {
      "cell_type": "code",
      "source": [
        "#create plot for 2022 accuracy\n",
        "plt.xlabel('Date (Month/Day)') \n",
        "plt.ylabel('Prediction Accuracy') \n",
        "plt.title(\"Accuracy Estimation for 2022 PA\")\n",
        "\n",
        "plt.plot(data_2022['Date'].dt.strftime('%m-%d'), accuracy_2022, label='Accuracy 2022')\n",
        "plt.xticks(np.arange(0, len(data_2022['Date']), 7))"
      ],
      "metadata": {
        "colab": {
          "base_uri": "https://localhost:8080/",
          "height": 479
        },
        "id": "NSLRsyeoTg8v",
        "outputId": "d8922230-50c1-4b2d-9646-0c92dd565221"
      },
      "id": "NSLRsyeoTg8v",
      "execution_count": 60,
      "outputs": [
        {
          "output_type": "execute_result",
          "data": {
            "text/plain": [
              "([<matplotlib.axis.XTick at 0x7fed1f0ded50>,\n",
              "  <matplotlib.axis.XTick at 0x7fed1f0de290>,\n",
              "  <matplotlib.axis.XTick at 0x7fed1f110a10>,\n",
              "  <matplotlib.axis.XTick at 0x7fed21c3fa50>,\n",
              "  <matplotlib.axis.XTick at 0x7fed21c3f8d0>,\n",
              "  <matplotlib.axis.XTick at 0x7fed1f0a2510>,\n",
              "  <matplotlib.axis.XTick at 0x7fed1f0a2a90>,\n",
              "  <matplotlib.axis.XTick at 0x7fed1f0a2b90>,\n",
              "  <matplotlib.axis.XTick at 0x7fed1f0a9550>],\n",
              " <a list of 9 Text major ticklabel objects>)"
            ]
          },
          "metadata": {},
          "execution_count": 60
        },
        {
          "output_type": "display_data",
          "data": {
            "text/plain": [
              "<Figure size 432x288 with 1 Axes>"
            ],
            "image/png": "[encoded data removed]"
          },
          "metadata": {
            "needs_background": "light"
          }
        }
      ]
    },
    {
      "cell_type": "code",
      "source": [
        "#cleans accuracy list of all nan values\n",
        "newlist = [x for x in accuracy if math.isnan(x) == False]\n",
        "print(newlist)"
      ],
      "metadata": {
        "colab": {
          "base_uri": "https://localhost:8080/"
        },
        "id": "ulVDSL0kTiLj",
        "outputId": "5a01750f-26e8-4e71-a157-f3e055dd40c2"
      },
      "id": "ulVDSL0kTiLj",
      "execution_count": 61,
      "outputs": [
        {
          "output_type": "stream",
          "name": "stdout",
          "text": [
            "[0.8148197596795728, 0.930236634531113, 0.4436932024718284, 0.6827385613603312, 0.6109720692762038, 0.42591946402400727, 0.6290455576169862, 0.7225446428571428, 0.909366576819407, 0.5580393058269164, 0.6182200152788389, 0.6813780522031996, 0.6506968641114983, 0.824783421097333, 0.8331030671456202, 0.5670173057346453, 0.8170868347338934, 0.7734432234432235, 0.9470733348284369, 0.730370114147354, 0.9044763332619405, 0.8806509945750451, 0.5684891240446797, 0.5262589150637562, 0.7730158730158729, 0.583652924256951, 0.7513113236655353, 0.94015444015444, 0.9926108374384236, 0.8701657458563536, 0.43418259023354566, 0.725177304964539, 0.6122754491017964, 0.6726973684210527, 0.798828125, 0.9849624060150376, 0.8803418803418803, 0.48698884758364314, 0.5282258064516129, 0.5770925110132159, 0.6121495327102804, 0.642156862745098, 0.5867346938775511, 0.8832565284178187, 0.40664780763790664, 0.42782738095238093, 0.42561065877128046, 0.4588986432561851, 0.3525444512568976, 0.5009587727708533, 0.6068524970963995, 0.704177897574124, 0.3623439667128987, 0.28819635962493106, 0.3034262485481998, 0.27142857142857146, 0.405574912891986, 0.6068821689259645, 0.23420523138832994, 0.2566137566137566, 0.19290686112031807, 0.18853255587949458, 0.18517340120903591, 0.2911129568106312, 0.4054366685945633, 0.16552538370720182, 0.175689223057644, 0.1703109815354713, 0.15359333917616125, 0.14946695095948825, 0.2866682566181732, 0.3947454844006568, 0.1595857673924589, 0.20663572288121035, 0.1581162851881085, 0.16214757857817352, 0.14357381748686104, 0.2830608146873207, 0.31677367576243987, 0.1790022675736962, 0.19483660775989742, 0.15181937072082474, 0.16064306064306066, 0.16477415045503885, 0.6755325080852013, 0.7781988694758479, 0.40456154411273626, 0.45521154279702414, 0.36698776202593, 0.418248981564593, 0.3787120975304783, 0.3760543580131209, 0.625, 0.3079432079815809, 0.3592211280214861, 0.2024981074943225, 0.32023144453312047, 0.28589241182757397, 0.5183375675851736, 0.6231986215538847, 0.3682262020454441, 0.30746937671471075, 0.34997361013370865, 0.28647033410138245, 0.29448556624722433, 0.482742460164305, 0.49185439020279753, 0.3494791042988863, 0.3181041999709344, 0.335601211238453, 0.30754504900066737, 0.26835136543353666, 0.4600807851304869, 0.8164585316682533, 0.42741344434346695, 0.4523861238674445, 0.37126305067481535, 0.40846944779088334, 0.38771141367939577, 0.5964234669570543, 0.8171624393882879, 0.4690494032007707, 0.5147585761278195, 0.5008573143200068, 0.458484840557721, 0.6199023803628904, 0.4211661204071071, 0.615297379032258, 0.5067455375674554, 0.4952332657200811, 0.3885264162953532, 0.441181785327069, 0.4445557174071376, 0.5572096456692913, 0.8225572103160189, 0.48677987962166813, 0.47384390039757274, 0.39769933263083945, 0.43314843152257076, 0.47473794549266246, 0.7049823991334958, 0.8876576883736789, 0.6727390180878553, 0.5862418374240036, 0.5989187945709684, 0.5596517626827171, 0.5283076298701299, 0.700664227955333, 0.8311636405161584, 0.554109093677439, 0.45967538208917513, 0.46784509079222236, 0.4422738044601081, 0.4659581959604365, 0.6321381454956653, 0.7602708675695585, 0.5159200153816574, 0.46735987738182316, 0.3777380483135311, 0.3571827911186837, 0.3919515045281916, 0.41738844424953403, 0.5388280807699566, 0.4040543409042666, 0.3079017604399752, 0.28882482360974127, 0.2526043394598898, 0.28923443158507856, 0.39541256157635474, 0.5687273049331326, 0.28423149275201953, 0.32335465028450583, 0.24352459327240328, 0.2658620903802762, 0.2798100176474434, 0.8266218194275748, 0.6602323325290416, 0.6493773395640154, 0.5391318478194633, 0.5440049190407871, 0.6668509120144717, 0.7955758048078653, 0.7547522310092143, 0.5621740657677863, 0.472755572723761, 0.40838338633062465, 0.31962730247492055, 0.27235538217852895, 0.3481567629980422, 0.4906732625482625, 0.5575404442007129, 0.3811554539149342, 0.39291028192691924, 0.380456544110768, 0.25154015537631746, 0.27313452884679956, 0.4968130628614398, 0.7814057615949987, 0.49396528704939924, 0.5567516051364365, 0.5102421712667562, 0.4703454471489592, 0.4348476775528114, 0.6100446428571429, 0.8752134927412468, 0.45605740349315826, 0.3797239718414227, 0.3692577913889389, 0.2944831549457654, 0.3439466398187767, 0.48463653643862914, 0.6017920161327284, 0.2548621894409937, 0.23954865133589343, 0.1880486931614751, 0.16163599433741604, 0.15171963556320733, 0.2331676638415403, 0.2602360347463968, 0.18745020153730785, 0.17614496567442728, 0.14985200033721435, 0.15628755092271474, 0.13676797469436608, 0.3376173822608767, 0.40113268118356105, 0.3330651042321523, 0.3262990372392318, 0.3722492341418173, 0.35815689137665285, 0.3761266761704085, 0.5797252593960489, 0.480305774186808, 0.6722501141031494, 0.9724083372949844, 0.9494209795597359, 0.9811320047666513, 0.9714356427864294, 0.6971570514132852, 0.36977200922209885, 0.9247924668566472, 0.9298550464680889, 0.8146757358777192, 0.980193154138712, 0.959733225809967, 0.8781525306615996, 0.29728312522531386, 0.7852466682253917, 0.9978203001427415, 0.9165402392125039, 0.8738973058499686, 0.6573547653504239, 0.4169237648110887, -0.1857945425361156, 0.7809282787590813, 0.8762655917732567, 0.8973340807873181, 0.7471071163169256, 0.9369633099141296, 0.9135743619829864, 0.8896342377454656, 0.7510138902970698, 0.8655857434998538, 0.5732278285095186, 0.7068661131787384, 0.5670839075179911, 0.8258867332941406, 0.7148955633480714, 0.7694203560018256, 0.6032779845405096, 0.6184606354097879, 0.733786018977975, 0.5055175722682019, -8.939746111225055e-05, -0.5775345622119816, 0.8002466752466751, 0.6847148736037625, 0.5338794233289645]\n"
          ]
        }
      ]
    },
    {
      "cell_type": "code",
      "source": [
        "#calculate variance and st deviation of accuracy\n",
        "var = sum((l-overallAccuracy)**2 for l in newlist) / len(newlist)\n",
        "st_dev = math.sqrt(var)\n",
        "print(var)\n",
        "print(st_dev)"
      ],
      "metadata": {
        "colab": {
          "base_uri": "https://localhost:8080/"
        },
        "id": "ZijPJi2lTkrT",
        "outputId": "fadf4d70-425d-482d-b451-278dfde7b0aa"
      },
      "id": "ZijPJi2lTkrT",
      "execution_count": 62,
      "outputs": [
        {
          "output_type": "stream",
          "name": "stdout",
          "text": [
            "0.0588249401465849\n",
            "0.2425385333232328\n"
          ]
        }
      ]
    },
    {
      "cell_type": "code",
      "source": [
        "#calculate median of accuracy\n",
        "accMedian = statistics.median(newlist)\n",
        "print(accMedian)"
      ],
      "metadata": {
        "colab": {
          "base_uri": "https://localhost:8080/"
        },
        "id": "JkBubTMaTmm0",
        "outputId": "0f3af2ea-cb26-4c00-8825-e0431b509157"
      },
      "id": "JkBubTMaTmm0",
      "execution_count": 63,
      "outputs": [
        {
          "output_type": "stream",
          "name": "stdout",
          "text": [
            "0.4815241171755565\n"
          ]
        }
      ]
    },
    {
      "cell_type": "code",
      "source": [
        "#Seperate Running Weekly Average plot into 3 plots for the 3 variants: Original, Delta, Omicron\n",
        "\n",
        "# Start Date - May 20th 2021\n",
        "# Delta: May 20th 2021 - December 1st 2021\n",
        "# Omicron: December 1st 2021 - Present"
      ],
      "metadata": {
        "id": "QA5c4LGoTo2Y"
      },
      "id": "QA5c4LGoTo2Y",
      "execution_count": 64,
      "outputs": []
    },
    {
      "cell_type": "code",
      "source": [
        "type(merged_df_new['Date'][1])"
      ],
      "metadata": {
        "colab": {
          "base_uri": "https://localhost:8080/"
        },
        "id": "PWR2ZpCgTr1O",
        "outputId": "30fa514c-d64b-47f9-dfdc-11cb2df9e259"
      },
      "id": "PWR2ZpCgTr1O",
      "execution_count": 65,
      "outputs": [
        {
          "output_type": "execute_result",
          "data": {
            "text/plain": [
              "pandas._libs.tslibs.timestamps.Timestamp"
            ]
          },
          "metadata": {},
          "execution_count": 65
        }
      ]
    },
    {
      "cell_type": "code",
      "source": [
        "merged_df_new.index[merged_df_new['Date']=='2021-05-20'].tolist()"
      ],
      "metadata": {
        "colab": {
          "base_uri": "https://localhost:8080/"
        },
        "id": "2g6bUui0kDv6",
        "outputId": "2c52d161-da31-49cd-e265-eaaa73c959de"
      },
      "id": "2g6bUui0kDv6",
      "execution_count": 66,
      "outputs": [
        {
          "output_type": "execute_result",
          "data": {
            "text/plain": [
              "[5]"
            ]
          },
          "metadata": {},
          "execution_count": 66
        }
      ]
    },
    {
      "cell_type": "code",
      "source": [
        "merged_df_new.index[merged_df_new['Date']=='2021-12-01'].tolist()"
      ],
      "metadata": {
        "colab": {
          "base_uri": "https://localhost:8080/"
        },
        "id": "i0f_1AAnkECz",
        "outputId": "38bc790f-957c-4632-ed9b-7d8871e589c4"
      },
      "id": "i0f_1AAnkECz",
      "execution_count": 67,
      "outputs": [
        {
          "output_type": "execute_result",
          "data": {
            "text/plain": [
              "[200]"
            ]
          },
          "metadata": {},
          "execution_count": 67
        }
      ]
    },
    {
      "cell_type": "code",
      "source": [
        "#print(merged_inner)\n",
        "standardVariantDF = merged_df_new[:5]\n",
        "deltaVariantDF = merged_df_new[5:200]\n",
        "omicronVariantDF = merged_df_new[200:]"
      ],
      "metadata": {
        "id": "_tncXpS9T0gn"
      },
      "id": "_tncXpS9T0gn",
      "execution_count": 68,
      "outputs": []
    },
    {
      "cell_type": "code",
      "source": [
        "#Create plot of Accuracy\n",
        "\n",
        "#Accuracy Line\n",
        "plt.plot(standardVariantDF['Date'], standardVariantDF['Accuracy'], color='r', label='Daily Accuracy')\n",
        "\n",
        "#Create XY Labels and Title\n",
        "plt.xlabel('Date (Year/Month/Day)') \n",
        "plt.ylabel('Percentage') \n",
        "plt.title(\"(Standard covid) Predicted Daily COVID-19 Case Accuracy in PA\")\n",
        "\n",
        "#Display Plot\n",
        "plt.legend()\n",
        "plt.show()"
      ],
      "metadata": {
        "colab": {
          "base_uri": "https://localhost:8080/",
          "height": 295
        },
        "id": "iGb97-d2T64q",
        "outputId": "263adba0-687d-4440-9b93-95ddf5bfd825"
      },
      "id": "iGb97-d2T64q",
      "execution_count": 69,
      "outputs": [
        {
          "output_type": "display_data",
          "data": {
            "text/plain": [
              "<Figure size 432x288 with 1 Axes>"
            ],
            "image/png": "[encoded data removed]"
          },
          "metadata": {
            "needs_background": "light"
          }
        }
      ]
    },
    {
      "cell_type": "code",
      "source": [
        "#Create plot of Accuracy\n",
        "\n",
        "#Accuracy Line\n",
        "plt.plot(deltaVariantDF['Date'], deltaVariantDF['Accuracy'], color='r', label='Daily Accuracy')\n",
        "\n",
        "#Create XY Labels and Title\n",
        "plt.xlabel('Date (Year/Month/Day)') \n",
        "plt.ylabel('Percentage') \n",
        "plt.title(\"(Delta covid) Predicted Daily COVID-19 Case Accuracy in PA\")\n",
        "\n",
        "#Display Plot\n",
        "plt.legend()\n",
        "plt.show()"
      ],
      "metadata": {
        "colab": {
          "base_uri": "https://localhost:8080/",
          "height": 295
        },
        "id": "6QjpiX7pT9O9",
        "outputId": "27beaafc-bbf3-4f5b-b25a-8e2b3fe08e71"
      },
      "id": "6QjpiX7pT9O9",
      "execution_count": 70,
      "outputs": [
        {
          "output_type": "display_data",
          "data": {
            "text/plain": [
              "<Figure size 432x288 with 1 Axes>"
            ],
            "image/png": "[encoded data removed]"
          },
          "metadata": {
            "needs_background": "light"
          }
        }
      ]
    },
    {
      "cell_type": "code",
      "source": [
        "#Create plot of Accuracy\n",
        "\n",
        "#Accuracy Line\n",
        "plt.plot(omicronVariantDF['Date'], omicronVariantDF['Accuracy'], color='r', label='Daily Accuracy')\n",
        "\n",
        "#Create XY Labels and Title\n",
        "plt.xlabel('Date (Year/Month/Day)') \n",
        "plt.ylabel('Percentage') \n",
        "plt.title(\"(Omicron covid) Predicted Daily COVID-19 Case Accuracy in PA\")\n",
        "\n",
        "#Display Plot\n",
        "plt.legend()\n",
        "plt.show()"
      ],
      "metadata": {
        "colab": {
          "base_uri": "https://localhost:8080/",
          "height": 295
        },
        "id": "WBsTUa8JT_c6",
        "outputId": "5a3f4c61-1165-4c0d-9237-61f53a1f7eab"
      },
      "id": "WBsTUa8JT_c6",
      "execution_count": 71,
      "outputs": [
        {
          "output_type": "display_data",
          "data": {
            "text/plain": [
              "<Figure size 432x288 with 1 Axes>"
            ],
            "image/png": "[encoded data removed]"
          },
          "metadata": {
            "needs_background": "light"
          }
        }
      ]
    }
  ],
  "metadata": {
    "kernelspec": {
      "display_name": "Python 3 (ipykernel)",
      "language": "python",
      "name": "python3"
    },
    "language_info": {
      "codemirror_mode": {
        "name": "ipython",
        "version": 3
      },
      "file_extension": ".py",
      "mimetype": "text/x-python",
      "name": "python",
      "nbconvert_exporter": "python",
      "pygments_lexer": "ipython3",
      "version": "3.9.7"
    },
    "colab": {
      "name": "MUNI-ARIMA-analysis.ipynb",
      "provenance": [],
      "collapsed_sections": []
    }
  },
  "nbformat": 4,
  "nbformat_minor": 5
}