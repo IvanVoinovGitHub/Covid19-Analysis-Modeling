{
  "cells": [
    {
      "cell_type": "code",
      "execution_count": 1,
      "id": "19d98421",
      "metadata": {
        "id": "19d98421"
      },
      "outputs": [],
      "source": [
        "#import libraries\n",
        "import csv\n",
        "import pandas as pd\n",
        "import matplotlib.pyplot as plt\n",
        "import math\n",
        "import numpy as np\n",
        "import statistics\n",
        "import glob\n",
        "import requests\n",
        "from itertools import repeat"
      ]
    },
    {
      "cell_type": "code",
      "execution_count": 2,
      "id": "bb3a7895",
      "metadata": {
        "id": "bb3a7895"
      },
      "outputs": [],
      "source": [
        "#actual COVID-19 cases data for PA\n",
        "url2 = 'https://raw.githubusercontent.com/IvanVoinovGitHub/Covid19-Analysis-Modeling/main/Data/COVID-19_Aggregate_Cases_Current_Daily_County_Health.csv'\n",
        "df1 = pd.read_csv(url2)"
      ]
    },
    {
      "cell_type": "code",
      "execution_count": 3,
      "id": "16ac3fab",
      "metadata": {
        "id": "16ac3fab"
      },
      "outputs": [],
      "source": [
        "url = 'https://github.com/reichlab/covid19-forecast-hub/tree/master/data-processed/JHU_CSSE-DECOM'\n",
        "download = requests.get(url).content\n",
        "\n",
        "csvStringList = []\n",
        "hrefStringList = []\n",
        "urlExtension = []\n",
        "rawUrls = []\n",
        "tempList = []\n",
        "urlExtensionwoutblob = []\n",
        "urlBeginning = 'https://raw.githubusercontent.com'\n",
        "\n",
        "urlStringList = str(requests.get(url).text).split(\" \")\n",
        "for i in urlStringList:\n",
        "  if \"csv\" in i:\n",
        "    csvStringList.append(i)\n",
        "\n",
        "for i in csvStringList:\n",
        "  if \"href\" in i and \"/reichlab/covid19-forecast-hub/blob/master/data-processed/\" in i:\n",
        "    hrefStringList.append(i)\n",
        "\n",
        "for i in hrefStringList:\n",
        "  tempList1 = i.split(\"\\\"\")\n",
        "  for x in tempList1:\n",
        "    if \"/reichlab/covid19-forecast-hub/blob/master/data-processed/\" in x:\n",
        "      urlExtension.append(x)\n",
        "\n",
        "for i in urlExtension:\n",
        "  newString = \"\"\n",
        "  tempList = []\n",
        "  temp = i.split(\"/\")\n",
        "  for x in temp:\n",
        "    if \"blob\" not in x:\n",
        "      tempList.append(x)\n",
        "  for j in range(1, len(tempList)):\n",
        "    newString += \"/\" + tempList[j]\n",
        "  urlExtensionwoutblob.append(newString)\n",
        "\n",
        "\n",
        "for i in urlExtensionwoutblob:\n",
        "  finalUrl = urlBeginning + i\n",
        "  rawUrls.append(finalUrl)"
      ]
    },
    {
      "cell_type": "code",
      "execution_count": 4,
      "id": "922310e5",
      "metadata": {
        "id": "922310e5"
      },
      "outputs": [],
      "source": [
        "#reading all the raw data, filtering PA cases data, and ensemble back into one dataframe\n",
        "all_data = []\n",
        "for url in rawUrls:\n",
        "    df3=pd.read_csv(url)\n",
        "    df2_case = df3[df3['target'].str.contains('case')]\n",
        "    df2_casesPA = df2_case[(df2_case[\"type\"]==\"point\") & (df2_case[\"location\"]==\"42\")]\n",
        "    all_data.append(df2_casesPA)"
      ]
    },
    {
      "cell_type": "code",
      "execution_count": 23,
      "id": "e6b3b86d",
      "metadata": {
        "id": "e6b3b86d",
        "outputId": "4fe8abf5-0357-4671-a78b-a3b0f5f6ee3c",
        "colab": {
          "base_uri": "https://localhost:8080/"
        }
      },
      "outputs": [
        {
          "output_type": "execute_result",
          "data": {
            "text/plain": [
              "73"
            ]
          },
          "metadata": {},
          "execution_count": 23
        }
      ],
      "source": [
        "len(all_data)"
      ]
    },
    {
      "cell_type": "code",
      "execution_count": 24,
      "id": "9ca79685",
      "metadata": {
        "id": "9ca79685",
        "colab": {
          "base_uri": "https://localhost:8080/",
          "height": 206
        },
        "outputId": "45a618f8-de50-4b16-e396-c4f2f98e9dcd"
      },
      "outputs": [
        {
          "output_type": "execute_result",
          "data": {
            "text/plain": [
              "    forecast_date               target target_end_date location   type  \\\n",
              "262    2020-10-25  1 wk ahead inc case      2020-10-31       42  point   \n",
              "313    2020-10-25  2 wk ahead inc case      2020-11-07       42  point   \n",
              "364    2020-10-25  3 wk ahead inc case      2020-11-14       42  point   \n",
              "415    2020-10-25  4 wk ahead inc case      2020-11-21       42  point   \n",
              "227    2020-11-01  1 wk ahead inc case      2020-11-07       42  point   \n",
              "\n",
              "     quantile    value  \n",
              "262       NaN  12053.0  \n",
              "313       NaN  13233.0  \n",
              "364       NaN  14182.0  \n",
              "415       NaN  15612.0  \n",
              "227       NaN  15903.0  "
            ],
            "text/html": [
              "\n",
              "  <div id=\"df-c8ed923b-fd6d-445e-b5bc-d17b025a468d\">\n",
              "    <div class=\"colab-df-container\">\n",
              "      <div>\n",
              "<style scoped>\n",
              "    .dataframe tbody tr th:only-of-type {\n",
              "        vertical-align: middle;\n",
              "    }\n",
              "\n",
              "    .dataframe tbody tr th {\n",
              "        vertical-align: top;\n",
              "    }\n",
              "\n",
              "    .dataframe thead th {\n",
              "        text-align: right;\n",
              "    }\n",
              "</style>\n",
              "<table border=\"1\" class=\"dataframe\">\n",
              "  <thead>\n",
              "    <tr style=\"text-align: right;\">\n",
              "      <th></th>\n",
              "      <th>forecast_date</th>\n",
              "      <th>target</th>\n",
              "      <th>target_end_date</th>\n",
              "      <th>location</th>\n",
              "      <th>type</th>\n",
              "      <th>quantile</th>\n",
              "      <th>value</th>\n",
              "    </tr>\n",
              "  </thead>\n",
              "  <tbody>\n",
              "    <tr>\n",
              "      <th>262</th>\n",
              "      <td>2020-10-25</td>\n",
              "      <td>1 wk ahead inc case</td>\n",
              "      <td>2020-10-31</td>\n",
              "      <td>42</td>\n",
              "      <td>point</td>\n",
              "      <td>NaN</td>\n",
              "      <td>12053.0</td>\n",
              "    </tr>\n",
              "    <tr>\n",
              "      <th>313</th>\n",
              "      <td>2020-10-25</td>\n",
              "      <td>2 wk ahead inc case</td>\n",
              "      <td>2020-11-07</td>\n",
              "      <td>42</td>\n",
              "      <td>point</td>\n",
              "      <td>NaN</td>\n",
              "      <td>13233.0</td>\n",
              "    </tr>\n",
              "    <tr>\n",
              "      <th>364</th>\n",
              "      <td>2020-10-25</td>\n",
              "      <td>3 wk ahead inc case</td>\n",
              "      <td>2020-11-14</td>\n",
              "      <td>42</td>\n",
              "      <td>point</td>\n",
              "      <td>NaN</td>\n",
              "      <td>14182.0</td>\n",
              "    </tr>\n",
              "    <tr>\n",
              "      <th>415</th>\n",
              "      <td>2020-10-25</td>\n",
              "      <td>4 wk ahead inc case</td>\n",
              "      <td>2020-11-21</td>\n",
              "      <td>42</td>\n",
              "      <td>point</td>\n",
              "      <td>NaN</td>\n",
              "      <td>15612.0</td>\n",
              "    </tr>\n",
              "    <tr>\n",
              "      <th>227</th>\n",
              "      <td>2020-11-01</td>\n",
              "      <td>1 wk ahead inc case</td>\n",
              "      <td>2020-11-07</td>\n",
              "      <td>42</td>\n",
              "      <td>point</td>\n",
              "      <td>NaN</td>\n",
              "      <td>15903.0</td>\n",
              "    </tr>\n",
              "  </tbody>\n",
              "</table>\n",
              "</div>\n",
              "      <button class=\"colab-df-convert\" onclick=\"convertToInteractive('df-c8ed923b-fd6d-445e-b5bc-d17b025a468d')\"\n",
              "              title=\"Convert this dataframe to an interactive table.\"\n",
              "              style=\"display:none;\">\n",
              "        \n",
              "  <svg xmlns=\"http://www.w3.org/2000/svg\" height=\"24px\"viewBox=\"0 0 24 24\"\n",
              "       width=\"24px\">\n",
              "    <path d=\"M0 0h24v24H0V0z\" fill=\"none\"/>\n",
              "    <path d=\"M18.56 5.44l.94 2.06.94-2.06 2.06-.94-2.06-.94-.94-2.06-.94 2.06-2.06.94zm-11 1L8.5 8.5l.94-2.06 2.06-.94-2.06-.94L8.5 2.5l-.94 2.06-2.06.94zm10 10l.94 2.06.94-2.06 2.06-.94-2.06-.94-.94-2.06-.94 2.06-2.06.94z\"/><path d=\"M17.41 7.96l-1.37-1.37c-.4-.4-.92-.59-1.43-.59-.52 0-1.04.2-1.43.59L10.3 9.45l-7.72 7.72c-.78.78-.78 2.05 0 2.83L4 21.41c.39.39.9.59 1.41.59.51 0 1.02-.2 1.41-.59l7.78-7.78 2.81-2.81c.8-.78.8-2.07 0-2.86zM5.41 20L4 18.59l7.72-7.72 1.47 1.35L5.41 20z\"/>\n",
              "  </svg>\n",
              "      </button>\n",
              "      \n",
              "  <style>\n",
              "    .colab-df-container {\n",
              "      display:flex;\n",
              "      flex-wrap:wrap;\n",
              "      gap: 12px;\n",
              "    }\n",
              "\n",
              "    .colab-df-convert {\n",
              "      background-color: #E8F0FE;\n",
              "      border: none;\n",
              "      border-radius: 50%;\n",
              "      cursor: pointer;\n",
              "      display: none;\n",
              "      fill: #1967D2;\n",
              "      height: 32px;\n",
              "      padding: 0 0 0 0;\n",
              "      width: 32px;\n",
              "    }\n",
              "\n",
              "    .colab-df-convert:hover {\n",
              "      background-color: #E2EBFA;\n",
              "      box-shadow: 0px 1px 2px rgba(60, 64, 67, 0.3), 0px 1px 3px 1px rgba(60, 64, 67, 0.15);\n",
              "      fill: #174EA6;\n",
              "    }\n",
              "\n",
              "    [theme=dark] .colab-df-convert {\n",
              "      background-color: #3B4455;\n",
              "      fill: #D2E3FC;\n",
              "    }\n",
              "\n",
              "    [theme=dark] .colab-df-convert:hover {\n",
              "      background-color: #434B5C;\n",
              "      box-shadow: 0px 1px 3px 1px rgba(0, 0, 0, 0.15);\n",
              "      filter: drop-shadow(0px 1px 2px rgba(0, 0, 0, 0.3));\n",
              "      fill: #FFFFFF;\n",
              "    }\n",
              "  </style>\n",
              "\n",
              "      <script>\n",
              "        const buttonEl =\n",
              "          document.querySelector('#df-c8ed923b-fd6d-445e-b5bc-d17b025a468d button.colab-df-convert');\n",
              "        buttonEl.style.display =\n",
              "          google.colab.kernel.accessAllowed ? 'block' : 'none';\n",
              "\n",
              "        async function convertToInteractive(key) {\n",
              "          const element = document.querySelector('#df-c8ed923b-fd6d-445e-b5bc-d17b025a468d');\n",
              "          const dataTable =\n",
              "            await google.colab.kernel.invokeFunction('convertToInteractive',\n",
              "                                                     [key], {});\n",
              "          if (!dataTable) return;\n",
              "\n",
              "          const docLinkHtml = 'Like what you see? Visit the ' +\n",
              "            '<a target=\"_blank\" href=https://colab.research.google.com/notebooks/data_table.ipynb>data table notebook</a>'\n",
              "            + ' to learn more about interactive tables.';\n",
              "          element.innerHTML = '';\n",
              "          dataTable['output_type'] = 'display_data';\n",
              "          await google.colab.output.renderOutput(dataTable, element);\n",
              "          const docLink = document.createElement('div');\n",
              "          docLink.innerHTML = docLinkHtml;\n",
              "          element.appendChild(docLink);\n",
              "        }\n",
              "      </script>\n",
              "    </div>\n",
              "  </div>\n",
              "  "
            ]
          },
          "metadata": {},
          "execution_count": 24
        }
      ],
      "source": [
        "df2 = pd.concat(all_data)\n",
        "df2.head(5)"
      ]
    },
    {
      "cell_type": "code",
      "execution_count": 25,
      "id": "eae19ec4",
      "metadata": {
        "id": "eae19ec4"
      },
      "outputs": [],
      "source": [
        "#convert date to datetime object\n",
        "df1['Date'] = pd.to_datetime(df1['Date'])\n",
        "df2['forecast_date'] = pd.to_datetime(df2['forecast_date'])\n",
        "df2['target_end_date'] = pd.to_datetime(df2['target_end_date'])"
      ]
    },
    {
      "cell_type": "code",
      "execution_count": 26,
      "id": "8171aacd",
      "metadata": {
        "id": "8171aacd",
        "colab": {
          "base_uri": "https://localhost:8080/",
          "height": 424
        },
        "outputId": "d5d897c1-8a2f-42db-83c0-5737bb2e6ac4"
      },
      "outputs": [
        {
          "output_type": "execute_result",
          "data": {
            "text/plain": [
              "     forecast_date               target target_end_date location   type  \\\n",
              "262     2020-10-25  1 wk ahead inc case      2020-10-31       42  point   \n",
              "313     2020-10-25  2 wk ahead inc case      2020-11-07       42  point   \n",
              "227     2020-11-01  1 wk ahead inc case      2020-11-07       42  point   \n",
              "364     2020-10-25  3 wk ahead inc case      2020-11-14       42  point   \n",
              "275     2020-11-01  2 wk ahead inc case      2020-11-14       42  point   \n",
              "...            ...                  ...             ...      ...    ...   \n",
              "1762    2022-02-27  3 wk ahead inc case      2022-03-19       42  point   \n",
              "1601    2022-03-06  2 wk ahead inc case      2022-03-19       42  point   \n",
              "1602    2022-03-06  3 wk ahead inc case      2022-03-26       42  point   \n",
              "1763    2022-02-27  4 wk ahead inc case      2022-03-26       42  point   \n",
              "1603    2022-03-06  4 wk ahead inc case      2022-04-02       42  point   \n",
              "\n",
              "      quantile    value  \n",
              "262        NaN  12053.0  \n",
              "313        NaN  13233.0  \n",
              "227        NaN  15903.0  \n",
              "364        NaN  14182.0  \n",
              "275        NaN  17833.0  \n",
              "...        ...      ...  \n",
              "1762       NaN   5434.0  \n",
              "1601       NaN   3188.0  \n",
              "1602       NaN   2206.0  \n",
              "1763       NaN   3932.0  \n",
              "1603       NaN   1626.0  \n",
              "\n",
              "[258 rows x 7 columns]"
            ],
            "text/html": [
              "\n",
              "  <div id=\"df-f012c90b-28ee-41f5-8314-660fb811824f\">\n",
              "    <div class=\"colab-df-container\">\n",
              "      <div>\n",
              "<style scoped>\n",
              "    .dataframe tbody tr th:only-of-type {\n",
              "        vertical-align: middle;\n",
              "    }\n",
              "\n",
              "    .dataframe tbody tr th {\n",
              "        vertical-align: top;\n",
              "    }\n",
              "\n",
              "    .dataframe thead th {\n",
              "        text-align: right;\n",
              "    }\n",
              "</style>\n",
              "<table border=\"1\" class=\"dataframe\">\n",
              "  <thead>\n",
              "    <tr style=\"text-align: right;\">\n",
              "      <th></th>\n",
              "      <th>forecast_date</th>\n",
              "      <th>target</th>\n",
              "      <th>target_end_date</th>\n",
              "      <th>location</th>\n",
              "      <th>type</th>\n",
              "      <th>quantile</th>\n",
              "      <th>value</th>\n",
              "    </tr>\n",
              "  </thead>\n",
              "  <tbody>\n",
              "    <tr>\n",
              "      <th>262</th>\n",
              "      <td>2020-10-25</td>\n",
              "      <td>1 wk ahead inc case</td>\n",
              "      <td>2020-10-31</td>\n",
              "      <td>42</td>\n",
              "      <td>point</td>\n",
              "      <td>NaN</td>\n",
              "      <td>12053.0</td>\n",
              "    </tr>\n",
              "    <tr>\n",
              "      <th>313</th>\n",
              "      <td>2020-10-25</td>\n",
              "      <td>2 wk ahead inc case</td>\n",
              "      <td>2020-11-07</td>\n",
              "      <td>42</td>\n",
              "      <td>point</td>\n",
              "      <td>NaN</td>\n",
              "      <td>13233.0</td>\n",
              "    </tr>\n",
              "    <tr>\n",
              "      <th>227</th>\n",
              "      <td>2020-11-01</td>\n",
              "      <td>1 wk ahead inc case</td>\n",
              "      <td>2020-11-07</td>\n",
              "      <td>42</td>\n",
              "      <td>point</td>\n",
              "      <td>NaN</td>\n",
              "      <td>15903.0</td>\n",
              "    </tr>\n",
              "    <tr>\n",
              "      <th>364</th>\n",
              "      <td>2020-10-25</td>\n",
              "      <td>3 wk ahead inc case</td>\n",
              "      <td>2020-11-14</td>\n",
              "      <td>42</td>\n",
              "      <td>point</td>\n",
              "      <td>NaN</td>\n",
              "      <td>14182.0</td>\n",
              "    </tr>\n",
              "    <tr>\n",
              "      <th>275</th>\n",
              "      <td>2020-11-01</td>\n",
              "      <td>2 wk ahead inc case</td>\n",
              "      <td>2020-11-14</td>\n",
              "      <td>42</td>\n",
              "      <td>point</td>\n",
              "      <td>NaN</td>\n",
              "      <td>17833.0</td>\n",
              "    </tr>\n",
              "    <tr>\n",
              "      <th>...</th>\n",
              "      <td>...</td>\n",
              "      <td>...</td>\n",
              "      <td>...</td>\n",
              "      <td>...</td>\n",
              "      <td>...</td>\n",
              "      <td>...</td>\n",
              "      <td>...</td>\n",
              "    </tr>\n",
              "    <tr>\n",
              "      <th>1762</th>\n",
              "      <td>2022-02-27</td>\n",
              "      <td>3 wk ahead inc case</td>\n",
              "      <td>2022-03-19</td>\n",
              "      <td>42</td>\n",
              "      <td>point</td>\n",
              "      <td>NaN</td>\n",
              "      <td>5434.0</td>\n",
              "    </tr>\n",
              "    <tr>\n",
              "      <th>1601</th>\n",
              "      <td>2022-03-06</td>\n",
              "      <td>2 wk ahead inc case</td>\n",
              "      <td>2022-03-19</td>\n",
              "      <td>42</td>\n",
              "      <td>point</td>\n",
              "      <td>NaN</td>\n",
              "      <td>3188.0</td>\n",
              "    </tr>\n",
              "    <tr>\n",
              "      <th>1602</th>\n",
              "      <td>2022-03-06</td>\n",
              "      <td>3 wk ahead inc case</td>\n",
              "      <td>2022-03-26</td>\n",
              "      <td>42</td>\n",
              "      <td>point</td>\n",
              "      <td>NaN</td>\n",
              "      <td>2206.0</td>\n",
              "    </tr>\n",
              "    <tr>\n",
              "      <th>1763</th>\n",
              "      <td>2022-02-27</td>\n",
              "      <td>4 wk ahead inc case</td>\n",
              "      <td>2022-03-26</td>\n",
              "      <td>42</td>\n",
              "      <td>point</td>\n",
              "      <td>NaN</td>\n",
              "      <td>3932.0</td>\n",
              "    </tr>\n",
              "    <tr>\n",
              "      <th>1603</th>\n",
              "      <td>2022-03-06</td>\n",
              "      <td>4 wk ahead inc case</td>\n",
              "      <td>2022-04-02</td>\n",
              "      <td>42</td>\n",
              "      <td>point</td>\n",
              "      <td>NaN</td>\n",
              "      <td>1626.0</td>\n",
              "    </tr>\n",
              "  </tbody>\n",
              "</table>\n",
              "<p>258 rows × 7 columns</p>\n",
              "</div>\n",
              "      <button class=\"colab-df-convert\" onclick=\"convertToInteractive('df-f012c90b-28ee-41f5-8314-660fb811824f')\"\n",
              "              title=\"Convert this dataframe to an interactive table.\"\n",
              "              style=\"display:none;\">\n",
              "        \n",
              "  <svg xmlns=\"http://www.w3.org/2000/svg\" height=\"24px\"viewBox=\"0 0 24 24\"\n",
              "       width=\"24px\">\n",
              "    <path d=\"M0 0h24v24H0V0z\" fill=\"none\"/>\n",
              "    <path d=\"M18.56 5.44l.94 2.06.94-2.06 2.06-.94-2.06-.94-.94-2.06-.94 2.06-2.06.94zm-11 1L8.5 8.5l.94-2.06 2.06-.94-2.06-.94L8.5 2.5l-.94 2.06-2.06.94zm10 10l.94 2.06.94-2.06 2.06-.94-2.06-.94-.94-2.06-.94 2.06-2.06.94z\"/><path d=\"M17.41 7.96l-1.37-1.37c-.4-.4-.92-.59-1.43-.59-.52 0-1.04.2-1.43.59L10.3 9.45l-7.72 7.72c-.78.78-.78 2.05 0 2.83L4 21.41c.39.39.9.59 1.41.59.51 0 1.02-.2 1.41-.59l7.78-7.78 2.81-2.81c.8-.78.8-2.07 0-2.86zM5.41 20L4 18.59l7.72-7.72 1.47 1.35L5.41 20z\"/>\n",
              "  </svg>\n",
              "      </button>\n",
              "      \n",
              "  <style>\n",
              "    .colab-df-container {\n",
              "      display:flex;\n",
              "      flex-wrap:wrap;\n",
              "      gap: 12px;\n",
              "    }\n",
              "\n",
              "    .colab-df-convert {\n",
              "      background-color: #E8F0FE;\n",
              "      border: none;\n",
              "      border-radius: 50%;\n",
              "      cursor: pointer;\n",
              "      display: none;\n",
              "      fill: #1967D2;\n",
              "      height: 32px;\n",
              "      padding: 0 0 0 0;\n",
              "      width: 32px;\n",
              "    }\n",
              "\n",
              "    .colab-df-convert:hover {\n",
              "      background-color: #E2EBFA;\n",
              "      box-shadow: 0px 1px 2px rgba(60, 64, 67, 0.3), 0px 1px 3px 1px rgba(60, 64, 67, 0.15);\n",
              "      fill: #174EA6;\n",
              "    }\n",
              "\n",
              "    [theme=dark] .colab-df-convert {\n",
              "      background-color: #3B4455;\n",
              "      fill: #D2E3FC;\n",
              "    }\n",
              "\n",
              "    [theme=dark] .colab-df-convert:hover {\n",
              "      background-color: #434B5C;\n",
              "      box-shadow: 0px 1px 3px 1px rgba(0, 0, 0, 0.15);\n",
              "      filter: drop-shadow(0px 1px 2px rgba(0, 0, 0, 0.3));\n",
              "      fill: #FFFFFF;\n",
              "    }\n",
              "  </style>\n",
              "\n",
              "      <script>\n",
              "        const buttonEl =\n",
              "          document.querySelector('#df-f012c90b-28ee-41f5-8314-660fb811824f button.colab-df-convert');\n",
              "        buttonEl.style.display =\n",
              "          google.colab.kernel.accessAllowed ? 'block' : 'none';\n",
              "\n",
              "        async function convertToInteractive(key) {\n",
              "          const element = document.querySelector('#df-f012c90b-28ee-41f5-8314-660fb811824f');\n",
              "          const dataTable =\n",
              "            await google.colab.kernel.invokeFunction('convertToInteractive',\n",
              "                                                     [key], {});\n",
              "          if (!dataTable) return;\n",
              "\n",
              "          const docLinkHtml = 'Like what you see? Visit the ' +\n",
              "            '<a target=\"_blank\" href=https://colab.research.google.com/notebooks/data_table.ipynb>data table notebook</a>'\n",
              "            + ' to learn more about interactive tables.';\n",
              "          element.innerHTML = '';\n",
              "          dataTable['output_type'] = 'display_data';\n",
              "          await google.colab.output.renderOutput(dataTable, element);\n",
              "          const docLink = document.createElement('div');\n",
              "          docLink.innerHTML = docLinkHtml;\n",
              "          element.appendChild(docLink);\n",
              "        }\n",
              "      </script>\n",
              "    </div>\n",
              "  </div>\n",
              "  "
            ]
          },
          "metadata": {},
          "execution_count": 26
        }
      ],
      "source": [
        "#sort datasets by date\n",
        "df1.sort_values(by='Date')\n",
        "df2.sort_values(by='target_end_date')"
      ]
    },
    {
      "cell_type": "code",
      "execution_count": 27,
      "id": "62636568",
      "metadata": {
        "id": "62636568",
        "outputId": "32071d62-3e98-412c-f808-c6b97d15b2bd",
        "colab": {
          "base_uri": "https://localhost:8080/"
        }
      },
      "outputs": [
        {
          "output_type": "execute_result",
          "data": {
            "text/plain": [
              "(66, 7)"
            ]
          },
          "metadata": {},
          "execution_count": 27
        }
      ],
      "source": [
        "#filterinng out data for PA (FIPS code = 42)\n",
        "df2_2 = df2[df2['target'].str.contains('1')]\n",
        "df2_2.shape"
      ]
    },
    {
      "cell_type": "code",
      "execution_count": 28,
      "id": "e4c01c47",
      "metadata": {
        "id": "e4c01c47"
      },
      "outputs": [],
      "source": [
        "#finding weekly increase in cases in PA\n",
        "df_weekly=df2_2.groupby('target_end_date').agg('last').reset_index()\n",
        "df_weekly.rename(\n",
        "    columns={\"target_end_date\":\"Date\"},inplace=True)\n",
        "#df_weekly"
      ]
    },
    {
      "cell_type": "code",
      "execution_count": 29,
      "id": "c6e2730d",
      "metadata": {
        "id": "c6e2730d",
        "colab": {
          "base_uri": "https://localhost:8080/",
          "height": 206
        },
        "outputId": "3eb0e609-1e17-4ec8-9287-7963e67a58a7"
      },
      "outputs": [
        {
          "output_type": "execute_result",
          "data": {
            "text/plain": [
              "        Date forecast_date               target location   type  quantile  \\\n",
              "0 2020-10-31    2020-10-25  1 wk ahead inc case       42  point       NaN   \n",
              "1 2020-11-07    2020-11-01  1 wk ahead inc case       42  point       NaN   \n",
              "2 2020-11-14    2020-11-08  1 wk ahead inc case       42  point       NaN   \n",
              "3 2020-11-21    2020-11-15  1 wk ahead inc case       42  point       NaN   \n",
              "4 2020-11-28    2020-11-22  1 wk ahead inc case       42  point       NaN   \n",
              "\n",
              "     value      dayRate  \n",
              "0  12053.0  1721.857143  \n",
              "1  15903.0  2271.857143  \n",
              "2  21508.0  3072.571429  \n",
              "3  38796.0  5542.285714  \n",
              "4  53230.0  7604.285714  "
            ],
            "text/html": [
              "\n",
              "  <div id=\"df-1248b142-f0f1-429b-847f-215ceff47593\">\n",
              "    <div class=\"colab-df-container\">\n",
              "      <div>\n",
              "<style scoped>\n",
              "    .dataframe tbody tr th:only-of-type {\n",
              "        vertical-align: middle;\n",
              "    }\n",
              "\n",
              "    .dataframe tbody tr th {\n",
              "        vertical-align: top;\n",
              "    }\n",
              "\n",
              "    .dataframe thead th {\n",
              "        text-align: right;\n",
              "    }\n",
              "</style>\n",
              "<table border=\"1\" class=\"dataframe\">\n",
              "  <thead>\n",
              "    <tr style=\"text-align: right;\">\n",
              "      <th></th>\n",
              "      <th>Date</th>\n",
              "      <th>forecast_date</th>\n",
              "      <th>target</th>\n",
              "      <th>location</th>\n",
              "      <th>type</th>\n",
              "      <th>quantile</th>\n",
              "      <th>value</th>\n",
              "      <th>dayRate</th>\n",
              "    </tr>\n",
              "  </thead>\n",
              "  <tbody>\n",
              "    <tr>\n",
              "      <th>0</th>\n",
              "      <td>2020-10-31</td>\n",
              "      <td>2020-10-25</td>\n",
              "      <td>1 wk ahead inc case</td>\n",
              "      <td>42</td>\n",
              "      <td>point</td>\n",
              "      <td>NaN</td>\n",
              "      <td>12053.0</td>\n",
              "      <td>1721.857143</td>\n",
              "    </tr>\n",
              "    <tr>\n",
              "      <th>1</th>\n",
              "      <td>2020-11-07</td>\n",
              "      <td>2020-11-01</td>\n",
              "      <td>1 wk ahead inc case</td>\n",
              "      <td>42</td>\n",
              "      <td>point</td>\n",
              "      <td>NaN</td>\n",
              "      <td>15903.0</td>\n",
              "      <td>2271.857143</td>\n",
              "    </tr>\n",
              "    <tr>\n",
              "      <th>2</th>\n",
              "      <td>2020-11-14</td>\n",
              "      <td>2020-11-08</td>\n",
              "      <td>1 wk ahead inc case</td>\n",
              "      <td>42</td>\n",
              "      <td>point</td>\n",
              "      <td>NaN</td>\n",
              "      <td>21508.0</td>\n",
              "      <td>3072.571429</td>\n",
              "    </tr>\n",
              "    <tr>\n",
              "      <th>3</th>\n",
              "      <td>2020-11-21</td>\n",
              "      <td>2020-11-15</td>\n",
              "      <td>1 wk ahead inc case</td>\n",
              "      <td>42</td>\n",
              "      <td>point</td>\n",
              "      <td>NaN</td>\n",
              "      <td>38796.0</td>\n",
              "      <td>5542.285714</td>\n",
              "    </tr>\n",
              "    <tr>\n",
              "      <th>4</th>\n",
              "      <td>2020-11-28</td>\n",
              "      <td>2020-11-22</td>\n",
              "      <td>1 wk ahead inc case</td>\n",
              "      <td>42</td>\n",
              "      <td>point</td>\n",
              "      <td>NaN</td>\n",
              "      <td>53230.0</td>\n",
              "      <td>7604.285714</td>\n",
              "    </tr>\n",
              "  </tbody>\n",
              "</table>\n",
              "</div>\n",
              "      <button class=\"colab-df-convert\" onclick=\"convertToInteractive('df-1248b142-f0f1-429b-847f-215ceff47593')\"\n",
              "              title=\"Convert this dataframe to an interactive table.\"\n",
              "              style=\"display:none;\">\n",
              "        \n",
              "  <svg xmlns=\"http://www.w3.org/2000/svg\" height=\"24px\"viewBox=\"0 0 24 24\"\n",
              "       width=\"24px\">\n",
              "    <path d=\"M0 0h24v24H0V0z\" fill=\"none\"/>\n",
              "    <path d=\"M18.56 5.44l.94 2.06.94-2.06 2.06-.94-2.06-.94-.94-2.06-.94 2.06-2.06.94zm-11 1L8.5 8.5l.94-2.06 2.06-.94-2.06-.94L8.5 2.5l-.94 2.06-2.06.94zm10 10l.94 2.06.94-2.06 2.06-.94-2.06-.94-.94-2.06-.94 2.06-2.06.94z\"/><path d=\"M17.41 7.96l-1.37-1.37c-.4-.4-.92-.59-1.43-.59-.52 0-1.04.2-1.43.59L10.3 9.45l-7.72 7.72c-.78.78-.78 2.05 0 2.83L4 21.41c.39.39.9.59 1.41.59.51 0 1.02-.2 1.41-.59l7.78-7.78 2.81-2.81c.8-.78.8-2.07 0-2.86zM5.41 20L4 18.59l7.72-7.72 1.47 1.35L5.41 20z\"/>\n",
              "  </svg>\n",
              "      </button>\n",
              "      \n",
              "  <style>\n",
              "    .colab-df-container {\n",
              "      display:flex;\n",
              "      flex-wrap:wrap;\n",
              "      gap: 12px;\n",
              "    }\n",
              "\n",
              "    .colab-df-convert {\n",
              "      background-color: #E8F0FE;\n",
              "      border: none;\n",
              "      border-radius: 50%;\n",
              "      cursor: pointer;\n",
              "      display: none;\n",
              "      fill: #1967D2;\n",
              "      height: 32px;\n",
              "      padding: 0 0 0 0;\n",
              "      width: 32px;\n",
              "    }\n",
              "\n",
              "    .colab-df-convert:hover {\n",
              "      background-color: #E2EBFA;\n",
              "      box-shadow: 0px 1px 2px rgba(60, 64, 67, 0.3), 0px 1px 3px 1px rgba(60, 64, 67, 0.15);\n",
              "      fill: #174EA6;\n",
              "    }\n",
              "\n",
              "    [theme=dark] .colab-df-convert {\n",
              "      background-color: #3B4455;\n",
              "      fill: #D2E3FC;\n",
              "    }\n",
              "\n",
              "    [theme=dark] .colab-df-convert:hover {\n",
              "      background-color: #434B5C;\n",
              "      box-shadow: 0px 1px 3px 1px rgba(0, 0, 0, 0.15);\n",
              "      filter: drop-shadow(0px 1px 2px rgba(0, 0, 0, 0.3));\n",
              "      fill: #FFFFFF;\n",
              "    }\n",
              "  </style>\n",
              "\n",
              "      <script>\n",
              "        const buttonEl =\n",
              "          document.querySelector('#df-1248b142-f0f1-429b-847f-215ceff47593 button.colab-df-convert');\n",
              "        buttonEl.style.display =\n",
              "          google.colab.kernel.accessAllowed ? 'block' : 'none';\n",
              "\n",
              "        async function convertToInteractive(key) {\n",
              "          const element = document.querySelector('#df-1248b142-f0f1-429b-847f-215ceff47593');\n",
              "          const dataTable =\n",
              "            await google.colab.kernel.invokeFunction('convertToInteractive',\n",
              "                                                     [key], {});\n",
              "          if (!dataTable) return;\n",
              "\n",
              "          const docLinkHtml = 'Like what you see? Visit the ' +\n",
              "            '<a target=\"_blank\" href=https://colab.research.google.com/notebooks/data_table.ipynb>data table notebook</a>'\n",
              "            + ' to learn more about interactive tables.';\n",
              "          element.innerHTML = '';\n",
              "          dataTable['output_type'] = 'display_data';\n",
              "          await google.colab.output.renderOutput(dataTable, element);\n",
              "          const docLink = document.createElement('div');\n",
              "          docLink.innerHTML = docLinkHtml;\n",
              "          element.appendChild(docLink);\n",
              "        }\n",
              "      </script>\n",
              "    </div>\n",
              "  </div>\n",
              "  "
            ]
          },
          "metadata": {},
          "execution_count": 29
        }
      ],
      "source": [
        "#creating a column for daily additions\n",
        "df_weekly[\"dayRate\"] = df_weekly[\"value\"] / 7\n",
        "mask = (df_weekly['Date'] <= '2022-03-02')\n",
        "df_weekly = df_weekly.loc[mask]\n",
        "df_weekly.head(5)"
      ]
    },
    {
      "cell_type": "code",
      "source": [
        "df_weekly.tail(5)"
      ],
      "metadata": {
        "colab": {
          "base_uri": "https://localhost:8080/",
          "height": 206
        },
        "id": "ToqMMcvqr5il",
        "outputId": "da7014af-8bbd-4bc3-dc5d-c8a73a05e3e5"
      },
      "id": "ToqMMcvqr5il",
      "execution_count": 30,
      "outputs": [
        {
          "output_type": "execute_result",
          "data": {
            "text/plain": [
              "         Date forecast_date               target location   type  quantile  \\\n",
              "59 2022-01-29    2022-01-23  1 wk ahead inc case       42  point       NaN   \n",
              "60 2022-02-05    2022-01-30  1 wk ahead inc case       42  point       NaN   \n",
              "61 2022-02-12    2022-02-06  1 wk ahead inc case       42  point       NaN   \n",
              "62 2022-02-19    2022-02-13  1 wk ahead inc case       42  point       NaN   \n",
              "63 2022-02-26    2022-02-20  1 wk ahead inc case       42  point       NaN   \n",
              "\n",
              "       value       dayRate  \n",
              "59  102355.0  14622.142857  \n",
              "60   74285.0  10612.142857  \n",
              "61   42524.0   6074.857143  \n",
              "62   20251.0   2893.000000  \n",
              "63   15439.0   2205.571429  "
            ],
            "text/html": [
              "\n",
              "  <div id=\"df-a556ae3f-3540-46a1-8cf6-6604bf361d44\">\n",
              "    <div class=\"colab-df-container\">\n",
              "      <div>\n",
              "<style scoped>\n",
              "    .dataframe tbody tr th:only-of-type {\n",
              "        vertical-align: middle;\n",
              "    }\n",
              "\n",
              "    .dataframe tbody tr th {\n",
              "        vertical-align: top;\n",
              "    }\n",
              "\n",
              "    .dataframe thead th {\n",
              "        text-align: right;\n",
              "    }\n",
              "</style>\n",
              "<table border=\"1\" class=\"dataframe\">\n",
              "  <thead>\n",
              "    <tr style=\"text-align: right;\">\n",
              "      <th></th>\n",
              "      <th>Date</th>\n",
              "      <th>forecast_date</th>\n",
              "      <th>target</th>\n",
              "      <th>location</th>\n",
              "      <th>type</th>\n",
              "      <th>quantile</th>\n",
              "      <th>value</th>\n",
              "      <th>dayRate</th>\n",
              "    </tr>\n",
              "  </thead>\n",
              "  <tbody>\n",
              "    <tr>\n",
              "      <th>59</th>\n",
              "      <td>2022-01-29</td>\n",
              "      <td>2022-01-23</td>\n",
              "      <td>1 wk ahead inc case</td>\n",
              "      <td>42</td>\n",
              "      <td>point</td>\n",
              "      <td>NaN</td>\n",
              "      <td>102355.0</td>\n",
              "      <td>14622.142857</td>\n",
              "    </tr>\n",
              "    <tr>\n",
              "      <th>60</th>\n",
              "      <td>2022-02-05</td>\n",
              "      <td>2022-01-30</td>\n",
              "      <td>1 wk ahead inc case</td>\n",
              "      <td>42</td>\n",
              "      <td>point</td>\n",
              "      <td>NaN</td>\n",
              "      <td>74285.0</td>\n",
              "      <td>10612.142857</td>\n",
              "    </tr>\n",
              "    <tr>\n",
              "      <th>61</th>\n",
              "      <td>2022-02-12</td>\n",
              "      <td>2022-02-06</td>\n",
              "      <td>1 wk ahead inc case</td>\n",
              "      <td>42</td>\n",
              "      <td>point</td>\n",
              "      <td>NaN</td>\n",
              "      <td>42524.0</td>\n",
              "      <td>6074.857143</td>\n",
              "    </tr>\n",
              "    <tr>\n",
              "      <th>62</th>\n",
              "      <td>2022-02-19</td>\n",
              "      <td>2022-02-13</td>\n",
              "      <td>1 wk ahead inc case</td>\n",
              "      <td>42</td>\n",
              "      <td>point</td>\n",
              "      <td>NaN</td>\n",
              "      <td>20251.0</td>\n",
              "      <td>2893.000000</td>\n",
              "    </tr>\n",
              "    <tr>\n",
              "      <th>63</th>\n",
              "      <td>2022-02-26</td>\n",
              "      <td>2022-02-20</td>\n",
              "      <td>1 wk ahead inc case</td>\n",
              "      <td>42</td>\n",
              "      <td>point</td>\n",
              "      <td>NaN</td>\n",
              "      <td>15439.0</td>\n",
              "      <td>2205.571429</td>\n",
              "    </tr>\n",
              "  </tbody>\n",
              "</table>\n",
              "</div>\n",
              "      <button class=\"colab-df-convert\" onclick=\"convertToInteractive('df-a556ae3f-3540-46a1-8cf6-6604bf361d44')\"\n",
              "              title=\"Convert this dataframe to an interactive table.\"\n",
              "              style=\"display:none;\">\n",
              "        \n",
              "  <svg xmlns=\"http://www.w3.org/2000/svg\" height=\"24px\"viewBox=\"0 0 24 24\"\n",
              "       width=\"24px\">\n",
              "    <path d=\"M0 0h24v24H0V0z\" fill=\"none\"/>\n",
              "    <path d=\"M18.56 5.44l.94 2.06.94-2.06 2.06-.94-2.06-.94-.94-2.06-.94 2.06-2.06.94zm-11 1L8.5 8.5l.94-2.06 2.06-.94-2.06-.94L8.5 2.5l-.94 2.06-2.06.94zm10 10l.94 2.06.94-2.06 2.06-.94-2.06-.94-.94-2.06-.94 2.06-2.06.94z\"/><path d=\"M17.41 7.96l-1.37-1.37c-.4-.4-.92-.59-1.43-.59-.52 0-1.04.2-1.43.59L10.3 9.45l-7.72 7.72c-.78.78-.78 2.05 0 2.83L4 21.41c.39.39.9.59 1.41.59.51 0 1.02-.2 1.41-.59l7.78-7.78 2.81-2.81c.8-.78.8-2.07 0-2.86zM5.41 20L4 18.59l7.72-7.72 1.47 1.35L5.41 20z\"/>\n",
              "  </svg>\n",
              "      </button>\n",
              "      \n",
              "  <style>\n",
              "    .colab-df-container {\n",
              "      display:flex;\n",
              "      flex-wrap:wrap;\n",
              "      gap: 12px;\n",
              "    }\n",
              "\n",
              "    .colab-df-convert {\n",
              "      background-color: #E8F0FE;\n",
              "      border: none;\n",
              "      border-radius: 50%;\n",
              "      cursor: pointer;\n",
              "      display: none;\n",
              "      fill: #1967D2;\n",
              "      height: 32px;\n",
              "      padding: 0 0 0 0;\n",
              "      width: 32px;\n",
              "    }\n",
              "\n",
              "    .colab-df-convert:hover {\n",
              "      background-color: #E2EBFA;\n",
              "      box-shadow: 0px 1px 2px rgba(60, 64, 67, 0.3), 0px 1px 3px 1px rgba(60, 64, 67, 0.15);\n",
              "      fill: #174EA6;\n",
              "    }\n",
              "\n",
              "    [theme=dark] .colab-df-convert {\n",
              "      background-color: #3B4455;\n",
              "      fill: #D2E3FC;\n",
              "    }\n",
              "\n",
              "    [theme=dark] .colab-df-convert:hover {\n",
              "      background-color: #434B5C;\n",
              "      box-shadow: 0px 1px 3px 1px rgba(0, 0, 0, 0.15);\n",
              "      filter: drop-shadow(0px 1px 2px rgba(0, 0, 0, 0.3));\n",
              "      fill: #FFFFFF;\n",
              "    }\n",
              "  </style>\n",
              "\n",
              "      <script>\n",
              "        const buttonEl =\n",
              "          document.querySelector('#df-a556ae3f-3540-46a1-8cf6-6604bf361d44 button.colab-df-convert');\n",
              "        buttonEl.style.display =\n",
              "          google.colab.kernel.accessAllowed ? 'block' : 'none';\n",
              "\n",
              "        async function convertToInteractive(key) {\n",
              "          const element = document.querySelector('#df-a556ae3f-3540-46a1-8cf6-6604bf361d44');\n",
              "          const dataTable =\n",
              "            await google.colab.kernel.invokeFunction('convertToInteractive',\n",
              "                                                     [key], {});\n",
              "          if (!dataTable) return;\n",
              "\n",
              "          const docLinkHtml = 'Like what you see? Visit the ' +\n",
              "            '<a target=\"_blank\" href=https://colab.research.google.com/notebooks/data_table.ipynb>data table notebook</a>'\n",
              "            + ' to learn more about interactive tables.';\n",
              "          element.innerHTML = '';\n",
              "          dataTable['output_type'] = 'display_data';\n",
              "          await google.colab.output.renderOutput(dataTable, element);\n",
              "          const docLink = document.createElement('div');\n",
              "          docLink.innerHTML = docLinkHtml;\n",
              "          element.appendChild(docLink);\n",
              "        }\n",
              "      </script>\n",
              "    </div>\n",
              "  </div>\n",
              "  "
            ]
          },
          "metadata": {},
          "execution_count": 30
        }
      ]
    },
    {
      "cell_type": "code",
      "source": [
        "# creating a list of predictions from the model data\n",
        "predictions = []\n",
        "for i in df_weekly[\"dayRate\"]:\n",
        "    predictions.extend(repeat(i,7))\n",
        "#del predictions[-2:]\n",
        "#preds = pd.DataFrame(predictions)\n",
        "#preds.drop(preds.tail(2).index,inplace=True) \n",
        "print(predictions)"
      ],
      "metadata": {
        "colab": {
          "base_uri": "https://localhost:8080/"
        },
        "id": "7M7bH5ao6y_t",
        "outputId": "40f3e96d-a388-4035-e8ed-61926274b052"
      },
      "id": "7M7bH5ao6y_t",
      "execution_count": 31,
      "outputs": [
        {
          "output_type": "stream",
          "name": "stdout",
          "text": [
            "[1721.857142857143, 1721.857142857143, 1721.857142857143, 1721.857142857143, 1721.857142857143, 1721.857142857143, 1721.857142857143, 2271.8571428571427, 2271.8571428571427, 2271.8571428571427, 2271.8571428571427, 2271.8571428571427, 2271.8571428571427, 2271.8571428571427, 3072.5714285714284, 3072.5714285714284, 3072.5714285714284, 3072.5714285714284, 3072.5714285714284, 3072.5714285714284, 3072.5714285714284, 5542.285714285715, 5542.285714285715, 5542.285714285715, 5542.285714285715, 5542.285714285715, 5542.285714285715, 5542.285714285715, 7604.285714285715, 7604.285714285715, 7604.285714285715, 7604.285714285715, 7604.285714285715, 7604.285714285715, 7604.285714285715, 7482.714285714285, 7482.714285714285, 7482.714285714285, 7482.714285714285, 7482.714285714285, 7482.714285714285, 7482.714285714285, 7953.285714285715, 7953.285714285715, 7953.285714285715, 7953.285714285715, 7953.285714285715, 7953.285714285715, 7953.285714285715, 10669.857142857143, 10669.857142857143, 10669.857142857143, 10669.857142857143, 10669.857142857143, 10669.857142857143, 10669.857142857143, 10160.57142857143, 10160.57142857143, 10160.57142857143, 10160.57142857143, 10160.57142857143, 10160.57142857143, 10160.57142857143, 7594.857142857143, 7594.857142857143, 7594.857142857143, 7594.857142857143, 7594.857142857143, 7594.857142857143, 7594.857142857143, 4855.571428571428, 4855.571428571428, 4855.571428571428, 4855.571428571428, 4855.571428571428, 4855.571428571428, 4855.571428571428, 5931.428571428572, 5931.428571428572, 5931.428571428572, 5931.428571428572, 5931.428571428572, 5931.428571428572, 5931.428571428572, 3059.0, 3059.0, 3059.0, 3059.0, 3059.0, 3059.0, 3059.0, 3624.285714285714, 3624.285714285714, 3624.285714285714, 3624.285714285714, 3624.285714285714, 3624.285714285714, 3624.285714285714, 2641.0, 2641.0, 2641.0, 2641.0, 2641.0, 2641.0, 2641.0, 2384.8571428571427, 2384.8571428571427, 2384.8571428571427, 2384.8571428571427, 2384.8571428571427, 2384.8571428571427, 2384.8571428571427, 2629.714285714286, 2629.714285714286, 2629.714285714286, 2629.714285714286, 2629.714285714286, 2629.714285714286, 2629.714285714286, 2636.4285714285716, 2636.4285714285716, 2636.4285714285716, 2636.4285714285716, 2636.4285714285716, 2636.4285714285716, 2636.4285714285716, 3163.4285714285716, 3163.4285714285716, 3163.4285714285716, 3163.4285714285716, 3163.4285714285716, 3163.4285714285716, 3163.4285714285716, 4052.4285714285716, 4052.4285714285716, 4052.4285714285716, 4052.4285714285716, 4052.4285714285716, 4052.4285714285716, 4052.4285714285716, 4457.857142857143, 4457.857142857143, 4457.857142857143, 4457.857142857143, 4457.857142857143, 4457.857142857143, 4457.857142857143, 4669.785714285715, 4669.785714285715, 4669.785714285715, 4669.785714285715, 4669.785714285715, 4669.785714285715, 4669.785714285715, 5073.571428571428, 5073.571428571428, 5073.571428571428, 5073.571428571428, 5073.571428571428, 5073.571428571428, 5073.571428571428, 4080.1428571428573, 4080.1428571428573, 4080.1428571428573, 4080.1428571428573, 4080.1428571428573, 4080.1428571428573, 4080.1428571428573, 2676.0714285714284, 2676.0714285714284, 2676.0714285714284, 2676.0714285714284, 2676.0714285714284, 2676.0714285714284, 2676.0714285714284, 2535.0, 2535.0, 2535.0, 2535.0, 2535.0, 2535.0, 2535.0, 1702.0, 1702.0, 1702.0, 1702.0, 1702.0, 1702.0, 1702.0, 1370.857142857143, 1370.857142857143, 1370.857142857143, 1370.857142857143, 1370.857142857143, 1370.857142857143, 1370.857142857143, 888.7142857142857, 888.7142857142857, 888.7142857142857, 888.7142857142857, 888.7142857142857, 888.7142857142857, 888.7142857142857, 368.42857142857144, 368.42857142857144, 368.42857142857144, 368.42857142857144, 368.42857142857144, 368.42857142857144, 368.42857142857144, 372.57142857142856, 372.57142857142856, 372.57142857142856, 372.57142857142856, 372.57142857142856, 372.57142857142856, 372.57142857142856, 272.2857142857143, 272.2857142857143, 272.2857142857143, 272.2857142857143, 272.2857142857143, 272.2857142857143, 272.2857142857143, 157.14285714285714, 157.14285714285714, 157.14285714285714, 157.14285714285714, 157.14285714285714, 157.14285714285714, 157.14285714285714, 165.28571428571428, 165.28571428571428, 165.28571428571428, 165.28571428571428, 165.28571428571428, 165.28571428571428, 165.28571428571428, 161.42857142857142, 161.42857142857142, 161.42857142857142, 161.42857142857142, 161.42857142857142, 161.42857142857142, 161.42857142857142, 336.0, 336.0, 336.0, 336.0, 336.0, 336.0, 336.0, 619.7142857142857, 619.7142857142857, 619.7142857142857, 619.7142857142857, 619.7142857142857, 619.7142857142857, 619.7142857142857, 1012.1428571428571, 1012.1428571428571, 1012.1428571428571, 1012.1428571428571, 1012.1428571428571, 1012.1428571428571, 1012.1428571428571, 1866.142857142857, 1866.142857142857, 1866.142857142857, 1866.142857142857, 1866.142857142857, 1866.142857142857, 1866.142857142857, 2219.714285714286, 2219.714285714286, 2219.714285714286, 2219.714285714286, 2219.714285714286, 2219.714285714286, 2219.714285714286, 2604.4285714285716, 2604.4285714285716, 2604.4285714285716, 2604.4285714285716, 2604.4285714285716, 2604.4285714285716, 2604.4285714285716, 3245.714285714286, 3245.714285714286, 3245.714285714286, 3245.714285714286, 3245.714285714286, 3245.714285714286, 3245.714285714286, 3755.714285714286, 3755.714285714286, 3755.714285714286, 3755.714285714286, 3755.714285714286, 3755.714285714286, 3755.714285714286, 3864.0, 3864.0, 3864.0, 3864.0, 3864.0, 3864.0, 3864.0, 4277.714285714285, 4277.714285714285, 4277.714285714285, 4277.714285714285, 4277.714285714285, 4277.714285714285, 4277.714285714285, 4619.714285714285, 4619.714285714285, 4619.714285714285, 4619.714285714285, 4619.714285714285, 4619.714285714285, 4619.714285714285, 4302.142857142857, 4302.142857142857, 4302.142857142857, 4302.142857142857, 4302.142857142857, 4302.142857142857, 4302.142857142857, 3716.5714285714284, 3716.5714285714284, 3716.5714285714284, 3716.5714285714284, 3716.5714285714284, 3716.5714285714284, 3716.5714285714284, 3533.4285714285716, 3533.4285714285716, 3533.4285714285716, 3533.4285714285716, 3533.4285714285716, 3533.4285714285716, 3533.4285714285716, 3943.714285714286, 3943.714285714286, 3943.714285714286, 3943.714285714286, 3943.714285714286, 3943.714285714286, 3943.714285714286, 4975.428571428572, 4975.428571428572, 4975.428571428572, 4975.428571428572, 4975.428571428572, 4975.428571428572, 4975.428571428572, 6497.285714285715, 6497.285714285715, 6497.285714285715, 6497.285714285715, 6497.285714285715, 6497.285714285715, 6497.285714285715, 6592.0, 6592.0, 6592.0, 6592.0, 6592.0, 6592.0, 6592.0, 7366.571428571428, 7366.571428571428, 7366.571428571428, 7366.571428571428, 7366.571428571428, 7366.571428571428, 7366.571428571428, 8397.0, 8397.0, 8397.0, 8397.0, 8397.0, 8397.0, 8397.0, 8064.428571428572, 8064.428571428572, 8064.428571428572, 8064.428571428572, 8064.428571428572, 8064.428571428572, 8064.428571428572, 8880.857142857143, 8880.857142857143, 8880.857142857143, 8880.857142857143, 8880.857142857143, 8880.857142857143, 8880.857142857143, 18110.14285714286, 18110.14285714286, 18110.14285714286, 18110.14285714286, 18110.14285714286, 18110.14285714286, 18110.14285714286, 35461.71428571428, 35461.71428571428, 35461.71428571428, 35461.71428571428, 35461.71428571428, 35461.71428571428, 35461.71428571428, 14622.142857142857, 14622.142857142857, 14622.142857142857, 14622.142857142857, 14622.142857142857, 14622.142857142857, 14622.142857142857, 10612.142857142857, 10612.142857142857, 10612.142857142857, 10612.142857142857, 10612.142857142857, 10612.142857142857, 10612.142857142857, 6074.857142857143, 6074.857142857143, 6074.857142857143, 6074.857142857143, 6074.857142857143, 6074.857142857143, 6074.857142857143, 2893.0, 2893.0, 2893.0, 2893.0, 2893.0, 2893.0, 2893.0, 2205.5714285714284, 2205.5714285714284, 2205.5714285714284, 2205.5714285714284, 2205.5714285714284, 2205.5714285714284, 2205.5714285714284]\n"
          ]
        }
      ]
    },
    {
      "cell_type": "code",
      "source": [
        "len(predictions)"
      ],
      "metadata": {
        "colab": {
          "base_uri": "https://localhost:8080/"
        },
        "id": "bAUxPUYG5gaj",
        "outputId": "fca48724-23c8-4dad-fddd-50cc6f29fdd7"
      },
      "id": "bAUxPUYG5gaj",
      "execution_count": 32,
      "outputs": [
        {
          "output_type": "execute_result",
          "data": {
            "text/plain": [
              "448"
            ]
          },
          "metadata": {},
          "execution_count": 32
        }
      ]
    },
    {
      "cell_type": "code",
      "execution_count": 39,
      "id": "65a9fbb1",
      "metadata": {
        "id": "65a9fbb1",
        "outputId": "375c2d40-57be-474b-be07-9077ea1e8386",
        "colab": {
          "base_uri": "https://localhost:8080/",
          "height": 206
        }
      },
      "outputs": [
        {
          "output_type": "execute_result",
          "data": {
            "text/plain": [
              "        Date  New Cases  7-day Average New Cases  \\\n",
              "0 2020-10-31       4168                   4555.9   \n",
              "1 2020-11-01       3936                   4641.3   \n",
              "2 2020-11-02       5908                   4809.2   \n",
              "3 2020-11-03       5528                   4948.0   \n",
              "4 2020-11-04       5874                   5100.1   \n",
              "\n",
              "   Cumulative cases                            Population (2019)  \\\n",
              "0                                      431094           25603978   \n",
              "1                                      435030           25603978   \n",
              "2                                      440938           25603978   \n",
              "3                                      446466           25603978   \n",
              "4                                      452340           25603978   \n",
              "\n",
              "   New Case Rate  7-Day Average New Case Rate  Cumulative Case Rate  \\\n",
              "0         1171.7                       1213.2               83007.2   \n",
              "1         1242.5                       1288.5               84249.5   \n",
              "2         1546.0                       1314.8               85795.4   \n",
              "3         1591.3                       1377.5               87386.6   \n",
              "4         1720.1                       1447.0               89107.6   \n",
              "\n",
              "   County FIPS Code    Longitude     Latitude  \n",
              "0           2860489 -5275.682283  2774.207671  \n",
              "1           2860489 -5275.682283  2774.207671  \n",
              "2           2860489 -5275.682283  2774.207671  \n",
              "3           2860489 -5275.682283  2774.207671  \n",
              "4           2860489 -5275.682283  2774.207671  "
            ],
            "text/html": [
              "\n",
              "  <div id=\"df-149344ee-935e-4a2d-b787-cf8f59725a42\">\n",
              "    <div class=\"colab-df-container\">\n",
              "      <div>\n",
              "<style scoped>\n",
              "    .dataframe tbody tr th:only-of-type {\n",
              "        vertical-align: middle;\n",
              "    }\n",
              "\n",
              "    .dataframe tbody tr th {\n",
              "        vertical-align: top;\n",
              "    }\n",
              "\n",
              "    .dataframe thead th {\n",
              "        text-align: right;\n",
              "    }\n",
              "</style>\n",
              "<table border=\"1\" class=\"dataframe\">\n",
              "  <thead>\n",
              "    <tr style=\"text-align: right;\">\n",
              "      <th></th>\n",
              "      <th>Date</th>\n",
              "      <th>New Cases</th>\n",
              "      <th>7-day Average New Cases</th>\n",
              "      <th>Cumulative cases</th>\n",
              "      <th>Population (2019)</th>\n",
              "      <th>New Case Rate</th>\n",
              "      <th>7-Day Average New Case Rate</th>\n",
              "      <th>Cumulative Case Rate</th>\n",
              "      <th>County FIPS Code</th>\n",
              "      <th>Longitude</th>\n",
              "      <th>Latitude</th>\n",
              "    </tr>\n",
              "  </thead>\n",
              "  <tbody>\n",
              "    <tr>\n",
              "      <th>0</th>\n",
              "      <td>2020-10-31</td>\n",
              "      <td>4168</td>\n",
              "      <td>4555.9</td>\n",
              "      <td>431094</td>\n",
              "      <td>25603978</td>\n",
              "      <td>1171.7</td>\n",
              "      <td>1213.2</td>\n",
              "      <td>83007.2</td>\n",
              "      <td>2860489</td>\n",
              "      <td>-5275.682283</td>\n",
              "      <td>2774.207671</td>\n",
              "    </tr>\n",
              "    <tr>\n",
              "      <th>1</th>\n",
              "      <td>2020-11-01</td>\n",
              "      <td>3936</td>\n",
              "      <td>4641.3</td>\n",
              "      <td>435030</td>\n",
              "      <td>25603978</td>\n",
              "      <td>1242.5</td>\n",
              "      <td>1288.5</td>\n",
              "      <td>84249.5</td>\n",
              "      <td>2860489</td>\n",
              "      <td>-5275.682283</td>\n",
              "      <td>2774.207671</td>\n",
              "    </tr>\n",
              "    <tr>\n",
              "      <th>2</th>\n",
              "      <td>2020-11-02</td>\n",
              "      <td>5908</td>\n",
              "      <td>4809.2</td>\n",
              "      <td>440938</td>\n",
              "      <td>25603978</td>\n",
              "      <td>1546.0</td>\n",
              "      <td>1314.8</td>\n",
              "      <td>85795.4</td>\n",
              "      <td>2860489</td>\n",
              "      <td>-5275.682283</td>\n",
              "      <td>2774.207671</td>\n",
              "    </tr>\n",
              "    <tr>\n",
              "      <th>3</th>\n",
              "      <td>2020-11-03</td>\n",
              "      <td>5528</td>\n",
              "      <td>4948.0</td>\n",
              "      <td>446466</td>\n",
              "      <td>25603978</td>\n",
              "      <td>1591.3</td>\n",
              "      <td>1377.5</td>\n",
              "      <td>87386.6</td>\n",
              "      <td>2860489</td>\n",
              "      <td>-5275.682283</td>\n",
              "      <td>2774.207671</td>\n",
              "    </tr>\n",
              "    <tr>\n",
              "      <th>4</th>\n",
              "      <td>2020-11-04</td>\n",
              "      <td>5874</td>\n",
              "      <td>5100.1</td>\n",
              "      <td>452340</td>\n",
              "      <td>25603978</td>\n",
              "      <td>1720.1</td>\n",
              "      <td>1447.0</td>\n",
              "      <td>89107.6</td>\n",
              "      <td>2860489</td>\n",
              "      <td>-5275.682283</td>\n",
              "      <td>2774.207671</td>\n",
              "    </tr>\n",
              "  </tbody>\n",
              "</table>\n",
              "</div>\n",
              "      <button class=\"colab-df-convert\" onclick=\"convertToInteractive('df-149344ee-935e-4a2d-b787-cf8f59725a42')\"\n",
              "              title=\"Convert this dataframe to an interactive table.\"\n",
              "              style=\"display:none;\">\n",
              "        \n",
              "  <svg xmlns=\"http://www.w3.org/2000/svg\" height=\"24px\"viewBox=\"0 0 24 24\"\n",
              "       width=\"24px\">\n",
              "    <path d=\"M0 0h24v24H0V0z\" fill=\"none\"/>\n",
              "    <path d=\"M18.56 5.44l.94 2.06.94-2.06 2.06-.94-2.06-.94-.94-2.06-.94 2.06-2.06.94zm-11 1L8.5 8.5l.94-2.06 2.06-.94-2.06-.94L8.5 2.5l-.94 2.06-2.06.94zm10 10l.94 2.06.94-2.06 2.06-.94-2.06-.94-.94-2.06-.94 2.06-2.06.94z\"/><path d=\"M17.41 7.96l-1.37-1.37c-.4-.4-.92-.59-1.43-.59-.52 0-1.04.2-1.43.59L10.3 9.45l-7.72 7.72c-.78.78-.78 2.05 0 2.83L4 21.41c.39.39.9.59 1.41.59.51 0 1.02-.2 1.41-.59l7.78-7.78 2.81-2.81c.8-.78.8-2.07 0-2.86zM5.41 20L4 18.59l7.72-7.72 1.47 1.35L5.41 20z\"/>\n",
              "  </svg>\n",
              "      </button>\n",
              "      \n",
              "  <style>\n",
              "    .colab-df-container {\n",
              "      display:flex;\n",
              "      flex-wrap:wrap;\n",
              "      gap: 12px;\n",
              "    }\n",
              "\n",
              "    .colab-df-convert {\n",
              "      background-color: #E8F0FE;\n",
              "      border: none;\n",
              "      border-radius: 50%;\n",
              "      cursor: pointer;\n",
              "      display: none;\n",
              "      fill: #1967D2;\n",
              "      height: 32px;\n",
              "      padding: 0 0 0 0;\n",
              "      width: 32px;\n",
              "    }\n",
              "\n",
              "    .colab-df-convert:hover {\n",
              "      background-color: #E2EBFA;\n",
              "      box-shadow: 0px 1px 2px rgba(60, 64, 67, 0.3), 0px 1px 3px 1px rgba(60, 64, 67, 0.15);\n",
              "      fill: #174EA6;\n",
              "    }\n",
              "\n",
              "    [theme=dark] .colab-df-convert {\n",
              "      background-color: #3B4455;\n",
              "      fill: #D2E3FC;\n",
              "    }\n",
              "\n",
              "    [theme=dark] .colab-df-convert:hover {\n",
              "      background-color: #434B5C;\n",
              "      box-shadow: 0px 1px 3px 1px rgba(0, 0, 0, 0.15);\n",
              "      filter: drop-shadow(0px 1px 2px rgba(0, 0, 0, 0.3));\n",
              "      fill: #FFFFFF;\n",
              "    }\n",
              "  </style>\n",
              "\n",
              "      <script>\n",
              "        const buttonEl =\n",
              "          document.querySelector('#df-149344ee-935e-4a2d-b787-cf8f59725a42 button.colab-df-convert');\n",
              "        buttonEl.style.display =\n",
              "          google.colab.kernel.accessAllowed ? 'block' : 'none';\n",
              "\n",
              "        async function convertToInteractive(key) {\n",
              "          const element = document.querySelector('#df-149344ee-935e-4a2d-b787-cf8f59725a42');\n",
              "          const dataTable =\n",
              "            await google.colab.kernel.invokeFunction('convertToInteractive',\n",
              "                                                     [key], {});\n",
              "          if (!dataTable) return;\n",
              "\n",
              "          const docLinkHtml = 'Like what you see? Visit the ' +\n",
              "            '<a target=\"_blank\" href=https://colab.research.google.com/notebooks/data_table.ipynb>data table notebook</a>'\n",
              "            + ' to learn more about interactive tables.';\n",
              "          element.innerHTML = '';\n",
              "          dataTable['output_type'] = 'display_data';\n",
              "          await google.colab.output.renderOutput(dataTable, element);\n",
              "          const docLink = document.createElement('div');\n",
              "          docLink.innerHTML = docLinkHtml;\n",
              "          element.appendChild(docLink);\n",
              "        }\n",
              "      </script>\n",
              "    </div>\n",
              "  </div>\n",
              "  "
            ]
          },
          "metadata": {},
          "execution_count": 39
        }
      ],
      "source": [
        "#select all the dates to be merged with prediction list\n",
        "mask = (df1['Date'] >= '2020-10-31') & (df1['Date'] <= '2022-01-21')\n",
        "df1_copy = df1.loc[mask]\n",
        "df1_copy = df1_copy.groupby([\"Date\"]).sum().reset_index()\n",
        "df1_copy.head(5)"
      ]
    },
    {
      "cell_type": "code",
      "source": [
        "len(df1_copy)"
      ],
      "metadata": {
        "colab": {
          "base_uri": "https://localhost:8080/"
        },
        "id": "E4GmTswG-Max",
        "outputId": "81834490-c695-4574-c8ba-f6c3eb88dc90"
      },
      "id": "E4GmTswG-Max",
      "execution_count": 40,
      "outputs": [
        {
          "output_type": "execute_result",
          "data": {
            "text/plain": [
              "448"
            ]
          },
          "metadata": {},
          "execution_count": 40
        }
      ]
    },
    {
      "cell_type": "code",
      "source": [
        "# assigning predictions list to the actual dataframe\n",
        "df1_copy['Prediction'] = predictions"
      ],
      "metadata": {
        "id": "7HHOfOpl4JA2"
      },
      "id": "7HHOfOpl4JA2",
      "execution_count": 41,
      "outputs": []
    },
    {
      "cell_type": "code",
      "source": [
        "df1_copy.head(20)"
      ],
      "metadata": {
        "id": "a8HZNoDm5m-p"
      },
      "id": "a8HZNoDm5m-p",
      "execution_count": null,
      "outputs": []
    },
    {
      "cell_type": "code",
      "source": [
        "# renaming the dataframe for graphing\n",
        "merged_df_new = df1_copy"
      ],
      "metadata": {
        "id": "tB3yrsBFBVzZ"
      },
      "id": "tB3yrsBFBVzZ",
      "execution_count": 43,
      "outputs": []
    },
    {
      "cell_type": "code",
      "source": [
        "merged_df_new.shape"
      ],
      "metadata": {
        "colab": {
          "base_uri": "https://localhost:8080/"
        },
        "id": "D_rU8Xdc6NUr",
        "outputId": "c889683e-cb87-49e3-e327-d85b7e0e5b27"
      },
      "id": "D_rU8Xdc6NUr",
      "execution_count": 44,
      "outputs": [
        {
          "output_type": "execute_result",
          "data": {
            "text/plain": [
              "(448, 12)"
            ]
          },
          "metadata": {},
          "execution_count": 44
        }
      ]
    },
    {
      "cell_type": "code",
      "execution_count": 45,
      "id": "d516c1b3",
      "metadata": {
        "id": "d516c1b3",
        "colab": {
          "base_uri": "https://localhost:8080/",
          "height": 295
        },
        "outputId": "a13fb7be-00da-44c4-ee0d-4250382c19f2"
      },
      "outputs": [
        {
          "output_type": "display_data",
          "data": {
            "text/plain": [
              "<Figure size 432x288 with 1 Axes>"
            ],
            "image/png": "[encoded data removed]"
          },
          "metadata": {
            "needs_background": "light"
          }
        }
      ],
      "source": [
        "#Create plot of Actual vs. Predicted Cases\n",
        "\n",
        "#Actual Cases Line\n",
        "plt.plot(merged_df_new['Date'], merged_df_new['New Cases'], color='g', label='Actual Cases')\n",
        "\n",
        "#Predicted Cases Line\n",
        "plt.plot(merged_df_new['Date'], merged_df_new['Prediction'], color='r', label='Predicted Cases')\n",
        "\n",
        "#Create XY Labels and Title\n",
        "plt.xlabel('Date (Year/Month/Day)') \n",
        "plt.ylabel('Number of Cases') \n",
        "plt.title(\"Predicted Daily Cases vs Actual Cases in PA\")\n",
        "\n",
        "#Display Plot\n",
        "plt.legend()\n",
        "plt.show()"
      ]
    },
    {
      "cell_type": "code",
      "execution_count": null,
      "id": "4eee31c3",
      "metadata": {
        "id": "4eee31c3"
      },
      "outputs": [],
      "source": [
        "#error calculations\n",
        "#confirmed = merged_df_new['Actual']\n",
        "#projected = merged_df_new['Prediction']\n",
        "error = []\n",
        "rawerror = []\n",
        "\n",
        "for index, row in merged_df_new.iterrows():\n",
        "  rawerror.append(-1*(row['New Cases'] - row[\"Prediction\"]) / row['New Cases'])\n",
        "  error.append((abs(row['New Cases'] - row[\"Prediction\"])) / row['New Cases'])\n",
        "\n",
        "underpredictCount = 0\n",
        "overpredictCount = 0\n",
        "for x in rawerror:\n",
        "  if x < 0:\n",
        "    underpredictCount += 1\n",
        "  elif x > 0:\n",
        "    overpredictCount += 1\n",
        "\n",
        "underpredictPerecentage = underpredictCount / len(rawerror)\n",
        "overpredictPercentage = 1 - underpredictPerecentage\n",
        "\n",
        "print(underpredictCount)\n",
        "print(underpredictPerecentage)\n",
        "print(overpredictCount)\n",
        "print(overpredictPercentage)\n",
        "print(len(error))\n",
        "\n",
        "print(error)\n",
        "print(rawerror)"
      ]
    },
    {
      "cell_type": "code",
      "execution_count": 47,
      "id": "a0526cb0",
      "metadata": {
        "id": "a0526cb0",
        "colab": {
          "base_uri": "https://localhost:8080/"
        },
        "outputId": "59fbc9fa-4272-471e-842a-07df7e4e09ad"
      },
      "outputs": [
        {
          "output_type": "stream",
          "name": "stdout",
          "text": [
            "[0.4131135179599672, 0.43746370499419285, 0.29144501402456724, 0.3114792226586728, 0.2931319616712875, 0.24041568596162288, 0.21539368812323534, 0.3577727784026996, 0.34642530388184556, 0.25198060590695903, 0.23694797067763274, 0.20774114327515936, 0.19361318756239498, 0.20338918020207186, 0.28024183040600403, 0.3374968616620637, 0.25292817159791137, 0.24094819860189987, 0.22092115534738477, 0.21361036071825834, 0.2213030415277606, 0.4009176587301587, 0.5398680804876013, 0.4465983653735467, 0.38233207190160834, 0.3275195434514664, 0.3757481840193704, 0.3516678752719361, 0.6977689222137745, 0.8604079785342515, 0.6460735526156087, 0.42241338264002415, 0.3510426421514964, 0.3057122181509091, 0.30443933518639255, 0.45333298713887593, 0.5259886324837821, 0.3630270854703225, 0.45838730003150496, 0.3060915604071949, 0.29243060363116646, 0.33007120801562795, 0.40710921960921953, 0.49185440409930203, 0.39854107608166534, 0.3886856472625214, 0.4087831884398496, 0.42503664569718436, 0.3874737267020225, 0.8253292963224894, 0.6863409972248259, 0.6374630865609477, 0.539535656495608, 0.607622844126261, 0.7580176998335566, 0.7327192104695195, 0.9994660071386415, 0.6209865053513262, 0.5607379375591297, 0.5348232144737041, 0.6049399516891778, 0.5978213361126988, 0.643399913156752, 0.7826522199976446, 0.9541645355470747, 0.4347371003352687, 0.38245831115203666, 0.40108033073812543, 0.35926476550885256, 0.39221530380381864, 0.3318460517066312, 0.4636718323693113, 0.31923546538931147, 0.29639674206882116, 0.37156193974375784, 0.35924618441635303, 0.35164914749213694, 0.5126558834424003, 0.7455289808230985, 0.5267698553666582, 0.5237002093791782, 0.5095729013254786, 0.5499192074382135, 0.5042874146768043, 0.4000784724038713, 0.4037750791974657, 0.2994322631166797, 0.27346683354192736, 0.2186249285305889, 0.18156457739791076, 0.2782426778242678, 0.45772742034424274, 0.5401319991483926, 0.4827231905015602, 0.5765647016044726, 0.5386869373195176, 0.3583434560298313, 0.4378214199427052, 0.30175959780621575, 0.5588235294117647, 0.2947544642857143, 0.42803889789303085, 0.32396957801766435, 0.37760937946811557, 0.3421870951023581, 0.4827646038172354, 0.6322526889865172, 0.4943733712390428, 0.3395297754637163, 0.36178051317614424, 0.4263241227846162, 0.4203132081172264, 0.6844649364170448, 0.8748217850014257, 0.45246288467210694, 0.4750206440957886, 0.534712136176146, 0.38468611552286225, 0.3759957514604355, 0.725888923851479, 0.7624142774518715, 0.5097503038338305, 0.5042900863482348, 0.4032469518856794, 0.4922383441800918, 0.4591481315619247, 0.9821658393086964, 0.9038709038709039, 0.5132103457865951, 0.6002710761724045, 0.5579239103048628, 0.5045340624287993, 0.5499701967017683, 0.9457782072246171, 0.5690577078288942, 0.6367738170063751, 0.6136324305615644, 0.6351768920734437, 0.5675670268107242, 0.493356290653588, 0.9373122672113421, 0.6232683314215124, 0.6262794524946815, 0.4520236405249587, 0.5904446546830653, 0.4381617006936449, 0.5413963010513898, 0.7603037633158116, 0.79337168098636, 0.42452597402597403, 0.5170267619891181, 0.5929133715446565, 0.4683837225963605, 0.42498959904311195, 0.7783938982159295, 0.9444473992128497, 0.49770172930855683, 0.5509960282983741, 0.5555816281834678, 0.4810896480723903, 0.5289378053139521, 0.5551214771622935, 0.8050794903596799, 0.2841325109430959, 0.3409780091210811, 0.40598436389481163, 0.3589147481652759, 0.3936082246906094, 0.4479530345784112, 0.6134964302089474, 0.25786003358753407, 0.29465662063107556, 0.2929791360380368, 0.32413655869324476, 0.3285135561713023, 0.43646694214876036, 0.6692185850052799, 0.3258354755784062, 0.37566686425607587, 0.33302679978980554, 0.28387458006718924, 0.40847566870770224, 0.34356075898264027, 0.5095808383233533, 0.2564025308827961, 0.3031706448165301, 0.34481361426256074, 0.27629870129870127, 0.3271818531334102, 0.5236276328713303, 0.6786421499292787, 0.2565226689478187, 0.3170344918726048, 0.3216464436548905, 0.3669317834200062, 0.3446096387272859, 0.4152870493991989, 0.5452234881682734, 0.2261359505634315, 0.34796957154044084, 0.3113925317849635, 0.21707725591457883, 0.3206039991754278, 0.19188988095238102, 0.2896451033243487, 0.14820135616595798, 0.16418385536032598, 0.18095705865843392, 0.17280889841865454, 0.21904195685408534, 0.3603205305332965, 0.4424838819138106, 0.36526610644257707, 0.23882783882783876, 0.2924422516259251, 0.22552749913524728, 0.2792889269650889, 0.34466546112115726, 0.5602586713697825, 0.20596498811324826, 0.30253968253968244, 0.22842761265580047, 0.2940450478247454, 0.3679536679536679, 0.3870513722730471, 0.4340962904498816, 0.16681831968456173, 0.2786220871327254, 0.23524379811804952, 0.2584586466165413, 0.3069196428571428, 0.621374865735768, 0.7063492063492063, 0.30722251725969196, 0.33323732718894006, 0.3640654499685336, 0.38618157543391185, 0.4051120448179272, 0.5765306122448979, 0.8678955453149001, 0.39957567185289955, 0.42038690476190477, 0.41820873427091043, 0.4509177972865124, 0.34641324340895163, 0.87248322147651, 0.6341463414634146, 0.41509433962264153, 0.8155339805825242, 0.6486486486486487, 0.6829268292682926, 0.6109090909090908, 0.48850174216027886, -0.26173096976016663, 0.8728370221327967, 0.9563492063492063, 0.7189260855154126, 0.7026239067055393, 0.6901049952274896, 0.5288621262458473, -0.048872180451127845, 0.8364817001180638, 0.887844611528822, 0.8606656948493683, 0.7761831726555652, 0.7553304904051172, 0.44228476031481045, -0.144991789819376, 0.8671667551779076, 0.8771703627299295, 0.8591817942646671, 0.8810872791042763, 0.7801600573339704, 0.8856855995410212, 0.7529695024077045, 0.704671201814059, 0.7670056274064567, 0.5976613585660435, 0.6323972323972324, 0.6486599315354429, 0.9834392773502844, 0.8289439876670092, 0.6087958324984973, 0.6850154054257158, 0.5522537259178482, 0.6293930815438791, 0.5698968427633635, 0.7604766367652966, 0.7360925678682688, 0.6227387347878522, 0.7264356055761607, 0.4095021808874951, 0.647588644396306, 0.5781464705582982, 0.856296006774803, 0.9704730576441103, 0.608311351751585, 0.5079408014220024, 0.5781579873328642, 0.4732502880184333, 0.4864914877868246, 0.7456580470860672, 0.7597325992921746, 0.539815590947192, 0.49135300101729396, 0.518379393614167, 0.4750430292598967, 0.41450332546663804, 0.687514350002296, 0.8593238822246455, 0.9231148652814599, 0.4247978436657681, 0.492483799875004, 0.4116353238755086, 0.39571825029734364, 0.6105887239907858, 0.7377378290824473, 0.48823866896156054, 0.5725972094340959, 0.36728528269313765, 0.40262456734480434, 0.4348375645438898, 0.47516488371359145, 0.8432267458139664, 0.44142651930462307, 0.46721794712672204, 0.3834351922587217, 0.4218614294119295, 0.40042282735879164, 0.44265976995848366, 0.6064901156284968, 0.3481239629609806, 0.38204887218045114, 0.3717314891549739, 0.340283046014597, 0.46008559402963956, 0.3047635476477981, 0.44524049539170507, 0.36669038723833247, 0.3583598956824109, 0.28114485768846054, 0.31924725076152616, 0.32168869004265943, 0.485201068616423, 0.7162575891235535, 0.42387298857634204, 0.41260873464263303, 0.3463043805509559, 0.3771723685648706, 0.41338724168912855, 0.6736296468221732, 0.8481807997662072, 0.6428202288667405, 0.5601698459162994, 0.5722830194879884, 0.5347623142120133, 0.5048121521335807, 0.9054437812860993, 0.7015815918693615, 0.8656122720870922, 0.7180908172287483, 0.7308532861963684, 0.6909066050920581, 0.7279056368234051, 0.9129287598944591, 0.6925823086076954, 0.8872139973082099, 0.8037064130699829, 0.6495861253448956, 0.6142377935147223, 0.6740286298568507, 0.9422577933706099, 0.7835912436308737, 0.9121559470742234, 0.695090717925215, 0.652024378524644, 0.5702563422024639, 0.6529490718464305, 0.9048491379310345, 0.6985430874147551, 0.6504260263361735, 0.7399541769474798, 0.5572736925935757, 0.6083900883929865, 0.6403080677138935, 0.8790526020741848, 0.702109400263675, 0.690565899248893, 0.5733277812760254, 0.5785099405615906, 0.7091477815185167, 0.8460374078292668, 0.8724152942030037, 0.8398767867275527, 0.7062873503147084, 0.610116594040749, 0.4775167836787366, 0.40689348221649146, 0.5201392258906609, 0.47042712355212346, 0.26198245132986, 0.811826344499222, 0.7751830882495023, 0.814005051922537, 0.7841246474343115, 0.8514406608905905, -0.22219039263781704, -1.4951423502576664, -0.2094526034712949, -0.4902889245585873, -0.282257323060515, -0.10380364770492889, 0.054973986084122295, 0.9120429421768708, 0.4391393192631451, 0.813335346375729, 0.6772018737098395, 0.6585364284427516, 0.5251829199462272, 0.6133963779319933, 0.6854503847786368, 0.8511503735276593, 0.3604668090062111, 0.33880795789358453, 0.26596849266022193, 0.22861143595740752, 0.21458613776727575, 0.15494712908374086, 0.17293489930702421, 0.12456646044244468, 0.11705378131830024, 0.09958129209325861, 0.1038579146354569, 0.09088655210737795, 0.05162015559203481, 0.061331354674581284, 0.05092413307516286, 0.04988963233772503, 0.05691520755459378, 0.05476055271625968, 0.05750805072953524, 0.03418536576724984, 0.08961366116412428, 0.07829504538769716, 0.057341187306869434, 0.06195077323103837, 0.05785560643647836, 0.060652607759636656]\n"
          ]
        }
      ],
      "source": [
        "#accuracy calculations\n",
        "accuracy = []\n",
        "\n",
        "for i in error:\n",
        "  accuracy.append(1 - i)\n",
        "\n",
        "print(accuracy)"
      ]
    },
    {
      "cell_type": "code",
      "execution_count": null,
      "id": "a8012f5e",
      "metadata": {
        "id": "a8012f5e"
      },
      "outputs": [],
      "source": [
        "#Create Error and Accuracy Column and insert list data\n",
        "merged_df_new['Error'] = error\n",
        "merged_df_new['Accuracy'] = accuracy\n",
        "merged_df_new['RawError'] = rawerror\n",
        "\n",
        "print(merged_df_new)"
      ]
    },
    {
      "cell_type": "code",
      "execution_count": 49,
      "id": "6a1f3c40",
      "metadata": {
        "id": "6a1f3c40",
        "colab": {
          "base_uri": "https://localhost:8080/",
          "height": 313
        },
        "outputId": "7d2d2839-c0cb-4d0e-dcb2-89a5ad94f93c"
      },
      "outputs": [
        {
          "output_type": "execute_result",
          "data": {
            "text/plain": [
              "<matplotlib.legend.Legend at 0x7f55f3c24c10>"
            ]
          },
          "metadata": {},
          "execution_count": 49
        },
        {
          "output_type": "display_data",
          "data": {
            "text/plain": [
              "<Figure size 432x288 with 1 Axes>"
            ],
            "image/png": "[encoded data removed]"
          },
          "metadata": {
            "needs_background": "light"
          }
        }
      ],
      "source": [
        "from IPython.core.pylabtools import figsize\n",
        "#Create plot of Error\n",
        "\n",
        "#Error Line\n",
        "plt.plot(merged_df_new['Date'], merged_df_new['Error'], color='g', label='Error')\n",
        "\n",
        "\n",
        "#Create XY Labels and Title\n",
        "plt.xlabel('Date (Year/Month/Day)') \n",
        "plt.ylabel('Percentage') \n",
        "plt.title(\"Predicted Daily COVID-19 Case Error in PA\")\n",
        "#Display Plot\n",
        "plt.legend()"
      ]
    },
    {
      "cell_type": "code",
      "execution_count": 50,
      "id": "0480ef44",
      "metadata": {
        "id": "0480ef44",
        "colab": {
          "base_uri": "https://localhost:8080/",
          "height": 295
        },
        "outputId": "045f1eb6-ce83-4b7e-d1b7-5fbdf2620717"
      },
      "outputs": [
        {
          "output_type": "display_data",
          "data": {
            "text/plain": [
              "<Figure size 432x288 with 1 Axes>"
            ],
            "image/png": "[encoded data removed]"
          },
          "metadata": {
            "needs_background": "light"
          }
        }
      ],
      "source": [
        "#Create plot of Raw Error\n",
        "\n",
        "#Raw Error Line\n",
        "plt.plot(merged_df_new['Date'], merged_df_new['RawError'], color='g', label='Raw Error')\n",
        "plt.axhline(y=0.0, color='r', linestyle='-')\n",
        "\n",
        "#Create XY Labels and Title\n",
        "plt.xlabel('Date (Year/Month/Day)') \n",
        "plt.ylabel('Percentage') \n",
        "plt.title(\"Predicted Daily COVID-19 Case Raw Error in PA\")\n",
        "#Display Plot\n",
        "plt.legend()\n",
        "plt.show()"
      ]
    },
    {
      "cell_type": "code",
      "execution_count": 51,
      "id": "cb557ed1",
      "metadata": {
        "id": "cb557ed1",
        "colab": {
          "base_uri": "https://localhost:8080/",
          "height": 295
        },
        "outputId": "5e586a6d-839e-4819-a059-b6b982da54fe"
      },
      "outputs": [
        {
          "output_type": "display_data",
          "data": {
            "text/plain": [
              "<Figure size 432x288 with 1 Axes>"
            ],
            "image/png": "[encoded data removed]"
          },
          "metadata": {
            "needs_background": "light"
          }
        }
      ],
      "source": [
        "#Create plot of Accuracy\n",
        "\n",
        "#Accuracy Line\n",
        "plt.plot(merged_df_new['Date'], merged_df_new['Accuracy'], color='r', label='Daily Accuracy')\n",
        "\n",
        "#Create XY Labels and Title\n",
        "plt.xlabel('Date (Year/Month/Day)') \n",
        "plt.ylabel('Percentage') \n",
        "plt.title(\"Predicted Daily COVID-19 Case Accuracy in PA\")\n",
        "\n",
        "#Display Plot\n",
        "plt.legend()\n",
        "plt.show()"
      ]
    },
    {
      "cell_type": "code",
      "execution_count": 57,
      "id": "4d6b0409",
      "metadata": {
        "id": "4d6b0409"
      },
      "outputs": [],
      "source": [
        "#Calculate Weekly Accuracy Averages\n",
        "weeklyAccuracy = 0\n",
        "averageWeeklyAccuracy = []\n",
        "length = len(accuracy) #   =245\n",
        "amountOfWeeks = int(length / 7) #   =35\n",
        "remainderDays = length % 7 #  \n",
        "\n",
        "i = 0\n",
        "while i < length:\n",
        "  weeklyAccuracy += accuracy[i]\n",
        "  if (i + 1) % 7 == 0 and amountOfWeeks > 0:\n",
        "    averageWeeklyAccuracy.append(weeklyAccuracy / 7)\n",
        "    amountOfWeeks -= 1\n",
        "    weeklyAccuracy = 0\n",
        "  if remainderDays > 0:\n",
        "    if (i + 1) % remainderDays == 0 and amountOfWeeks == 0:\n",
        "      averageWeeklyAccuracy.append(weeklyAccuracy / remainderDays)\n",
        "      weeklyAccuracy = 0\n",
        "  i += 1\n",
        "\n",
        "weeklyDateList = []\n",
        "i = 0\n",
        "weeklyDateList.append(merged_df_new['Date'][i])\n",
        "while i < length:\n",
        "  if (i + 1) % 7 == 0:\n",
        "    weeklyDateList.append(merged_df_new['Date'][i])\n",
        "  i += 1"
      ]
    },
    {
      "cell_type": "code",
      "source": [
        "len(weeklyDateList)"
      ],
      "metadata": {
        "colab": {
          "base_uri": "https://localhost:8080/"
        },
        "id": "WJ-5HSFnNqoZ",
        "outputId": "e7c9728b-8465-4ff2-f07a-d45cb3feece6"
      },
      "id": "WJ-5HSFnNqoZ",
      "execution_count": 58,
      "outputs": [
        {
          "output_type": "execute_result",
          "data": {
            "text/plain": [
              "65"
            ]
          },
          "metadata": {},
          "execution_count": 58
        }
      ]
    },
    {
      "cell_type": "code",
      "source": [
        "del weeklyDateList[-1:]\n",
        "len(averageWeeklyAccuracy)"
      ],
      "metadata": {
        "colab": {
          "base_uri": "https://localhost:8080/"
        },
        "id": "P90LPnPNNFv2",
        "outputId": "1ec304ab-89c4-4ec1-a861-256e57a5e79c"
      },
      "id": "P90LPnPNNFv2",
      "execution_count": 59,
      "outputs": [
        {
          "output_type": "execute_result",
          "data": {
            "text/plain": [
              "64"
            ]
          },
          "metadata": {},
          "execution_count": 59
        }
      ]
    },
    {
      "cell_type": "code",
      "execution_count": 60,
      "id": "04c4449c",
      "metadata": {
        "id": "04c4449c"
      },
      "outputs": [],
      "source": [
        "#Create Dataframe for Weekly Accuracy\n",
        "i = 0\n",
        "data = []\n",
        "while i < len(averageWeeklyAccuracy):\n",
        "  data.append([weeklyDateList[i], averageWeeklyAccuracy[i]])\n",
        "  i += 1\n",
        "\n",
        "df = pd.DataFrame(data, columns = ['Week Of', 'Average Weekly Accuracy'])"
      ]
    },
    {
      "cell_type": "code",
      "execution_count": 61,
      "id": "6132cdfa",
      "metadata": {
        "id": "6132cdfa",
        "colab": {
          "base_uri": "https://localhost:8080/",
          "height": 295
        },
        "outputId": "b5db41af-5579-4d4b-a97c-7dc8d390611c"
      },
      "outputs": [
        {
          "output_type": "display_data",
          "data": {
            "text/plain": [
              "<Figure size 432x288 with 1 Axes>"
            ],
            "image/png": "[encoded data removed]"
          },
          "metadata": {
            "needs_background": "light"
          }
        }
      ],
      "source": [
        "#Create plot of Weekly Accuracy\n",
        "\n",
        "#Accuracy Line\n",
        "plt.plot(df['Week Of'], df['Average Weekly Accuracy'], color='r', label='Weekly Accuracy')\n",
        "\n",
        "#Create XY Labels and Title\n",
        "plt.xlabel('Week Of (Year/Month/Day)') \n",
        "plt.ylabel('Average Weekly Accuracy Percentage') \n",
        "plt.title(\"Predicted Daily COVID-19 Case Weekly Accuracy in PA\")\n",
        "\n",
        "#Display Plot\n",
        "plt.legend()\n",
        "plt.show()"
      ]
    },
    {
      "cell_type": "code",
      "execution_count": 62,
      "id": "5917fad0",
      "metadata": {
        "id": "5917fad0"
      },
      "outputs": [],
      "source": [
        "#Create Running Weekly Average\n",
        "runningweeklyAccuracy = 0\n",
        "runningAverageWeeklyAccuracy = []\n",
        "length = len(accuracy)\n",
        "\n",
        "i = 1\n",
        "j = 8\n",
        "#Add first week average\n",
        "runningAverageWeeklyAccuracy.append(averageWeeklyAccuracy[0])\n",
        "\n",
        "while j < length:\n",
        "  temp_i = i\n",
        "  temp_j = j\n",
        "  while temp_i < temp_j:\n",
        "    runningweeklyAccuracy += accuracy[temp_i]\n",
        "    temp_i += 1\n",
        "  runningAverageWeeklyAccuracy.append(runningweeklyAccuracy / 7)\n",
        "  runningweeklyAccuracy = 0\n",
        "\n",
        "  i += 1\n",
        "  j += 1"
      ]
    },
    {
      "cell_type": "code",
      "execution_count": 63,
      "id": "5b231780",
      "metadata": {
        "id": "5b231780"
      },
      "outputs": [],
      "source": [
        "#Create Dataframe for Running Weekly Accuracy\n",
        "i = 0\n",
        "data = []\n",
        "while i < len(runningAverageWeeklyAccuracy):\n",
        "  data.append([merged_df_new['Date'][i], runningAverageWeeklyAccuracy[i]])\n",
        "  i += 1\n",
        "\n",
        "df = pd.DataFrame(data, columns = ['Date', 'Running Weekly Average Accuracy'])"
      ]
    },
    {
      "cell_type": "code",
      "execution_count": 64,
      "id": "85337528",
      "metadata": {
        "id": "85337528",
        "colab": {
          "base_uri": "https://localhost:8080/",
          "height": 295
        },
        "outputId": "b521992a-5db8-46e6-a675-960cafc93110"
      },
      "outputs": [
        {
          "output_type": "display_data",
          "data": {
            "text/plain": [
              "<Figure size 432x288 with 1 Axes>"
            ],
            "image/png": "[encoded data removed]"
          },
          "metadata": {
            "needs_background": "light"
          }
        }
      ],
      "source": [
        "#Create plot of Running Weekly Accuracy\n",
        "\n",
        "#Accuracy Line\n",
        "plt.plot(df['Date'], df['Running Weekly Average Accuracy'], color='r', label='Running Weekly Accuracy')\n",
        "\n",
        "#Create XY Labels and Title\n",
        "plt.xlabel('Date') \n",
        "plt.ylabel('Accuracy Percentage') \n",
        "plt.title(\"Predicted Daily COVID-19 Case Running Weekly Accuracy in PA\")\n",
        "\n",
        "#Display Plot\n",
        "plt.legend()\n",
        "plt.show()"
      ]
    },
    {
      "cell_type": "code",
      "execution_count": 65,
      "id": "b8764ff7",
      "metadata": {
        "id": "b8764ff7",
        "colab": {
          "base_uri": "https://localhost:8080/",
          "height": 295
        },
        "outputId": "63cba1fd-12ee-4b3a-9666-0c32c1fdf5dd"
      },
      "outputs": [
        {
          "output_type": "display_data",
          "data": {
            "text/plain": [
              "<Figure size 432x288 with 1 Axes>"
            ],
            "image/png": "[encoded data removed]"
          },
          "metadata": {
            "needs_background": "light"
          }
        }
      ],
      "source": [
        "#Plot with combined daily accuracy and running weekly accuracy\n",
        "\n",
        "#Daily Accuracy\n",
        "plt.plot(merged_df_new['Date'], merged_df_new['Accuracy'], color='r', label='Daily Accuracy')\n",
        "\n",
        "#Running Accuracy Line\n",
        "plt.plot(df['Date'], df['Running Weekly Average Accuracy'], color='b', label='Running Weekly Accuracy')\n",
        "\n",
        "#Create XY Labels and Title\n",
        "plt.xlabel('Date') \n",
        "plt.ylabel('Accuracy Percentage') \n",
        "plt.title(\"Predicted Daily COVID-19 Case Accuracy in PA\")\n",
        "\n",
        "#Display Plot\n",
        "plt.legend()\n",
        "plt.show()"
      ]
    },
    {
      "cell_type": "code",
      "execution_count": 66,
      "id": "4243a737",
      "metadata": {
        "id": "4243a737"
      },
      "outputs": [],
      "source": [
        "#merged_df_new.to_csv('DDS_everyday_predictions.csv')"
      ]
    },
    {
      "cell_type": "code",
      "execution_count": 67,
      "id": "b8d57b22",
      "metadata": {
        "id": "b8d57b22"
      },
      "outputs": [],
      "source": [
        "#Calculate Monthly Accuracy Averages\n",
        "#We are going to use an average of 30 days per month for these calculations\n",
        "\n",
        "monthlyAccuracy = 0\n",
        "averageMonthlyAccuracy = []\n",
        "amountOfMonths = int(length / 30)\n",
        "remainderDays = length % 30\n",
        "\n",
        "i = 0\n",
        "while i < length:\n",
        "  monthlyAccuracy += accuracy[i]\n",
        "  if (i + 1) % 30 == 0 and amountOfMonths > 0:\n",
        "    averageMonthlyAccuracy.append(monthlyAccuracy / 30)\n",
        "    amountOfMonths -= 1\n",
        "    monthlyAccuracy = 0\n",
        "  if (i + 1) % remainderDays == 0 and remainderDays > 0 and amountOfMonths == 0:\n",
        "    averageMonthlyAccuracy.append(monthlyAccuracy / remainderDays)\n",
        "    monthlyAccuracy = 0\n",
        "  i += 1\n",
        "\n",
        "weeklyDateListForMonths = []\n",
        "i = 0\n",
        "weeklyDateListForMonths.append(merged_df_new['Date'][i])\n",
        "while i < length:\n",
        "  if (i + 1) % 30 == 0:\n",
        "    weeklyDateListForMonths.append(merged_df_new['Date'][i])\n",
        "  i += 1\n"
      ]
    },
    {
      "cell_type": "code",
      "execution_count": 68,
      "id": "c9d81c9a",
      "metadata": {
        "id": "c9d81c9a",
        "colab": {
          "base_uri": "https://localhost:8080/"
        },
        "outputId": "a2297b23-bf79-4be8-9065-280c67534c21"
      },
      "outputs": [
        {
          "output_type": "execute_result",
          "data": {
            "text/plain": [
              "15"
            ]
          },
          "metadata": {},
          "execution_count": 68
        }
      ],
      "source": [
        "del averageMonthlyAccuracy[-1:]\n",
        "len(averageMonthlyAccuracy)"
      ]
    },
    {
      "cell_type": "code",
      "execution_count": 69,
      "id": "d2d88cd5",
      "metadata": {
        "id": "d2d88cd5"
      },
      "outputs": [],
      "source": [
        "#Create Dataframe for Monthly Accuracy\n",
        "i = 0\n",
        "data = []\n",
        "while i < len(averageMonthlyAccuracy):\n",
        "  data.append([weeklyDateListForMonths[i], averageMonthlyAccuracy[i]])\n",
        "  i += 1\n",
        "\n",
        "df = pd.DataFrame(data, columns = ['Month Of', 'Average Monthly Accuracy'])"
      ]
    },
    {
      "cell_type": "code",
      "execution_count": 70,
      "id": "bbf2b69a",
      "metadata": {
        "id": "bbf2b69a",
        "colab": {
          "base_uri": "https://localhost:8080/",
          "height": 295
        },
        "outputId": "c47cbca9-8549-4642-8811-34fddddd878a"
      },
      "outputs": [
        {
          "output_type": "display_data",
          "data": {
            "text/plain": [
              "<Figure size 432x288 with 1 Axes>"
            ],
            "image/png": "[encoded data removed]"
          },
          "metadata": {
            "needs_background": "light"
          }
        }
      ],
      "source": [
        "#Create plot of Monthly Accuracy\n",
        "\n",
        "#Accuracy Line\n",
        "plt.plot(df['Month Of'], df['Average Monthly Accuracy'], color='r', label='Monthly Accuracy')\n",
        "\n",
        "#Create XY Labels and Title\n",
        "plt.xlabel('Month Of (Year/Month/Day)') \n",
        "plt.ylabel('Average Monthly Accuracy Percentage') \n",
        "plt.title(\"Predicted Daily COVID-19 Case Monthly Accuracy in PA\")\n",
        "\n",
        "#Display Plot\n",
        "plt.legend()\n",
        "plt.show()"
      ]
    },
    {
      "cell_type": "code",
      "source": [
        "#Calculate Running Monthly Accuracy\n",
        "\n",
        "runningmonthlyAccuracy = 0\n",
        "runningAveragemonthlyAccuracy = []\n",
        "length = len(accuracy)\n",
        "\n",
        "i = 1\n",
        "j = 31\n",
        "#Add first week average\n",
        "runningAveragemonthlyAccuracy.append(averageMonthlyAccuracy[0])\n",
        "\n",
        "while j < length:\n",
        "  temp_i = i\n",
        "  temp_j = j\n",
        "  while temp_i < temp_j:\n",
        "    runningmonthlyAccuracy += accuracy[temp_i]\n",
        "    temp_i += 1\n",
        "  runningAveragemonthlyAccuracy.append(runningmonthlyAccuracy / 30)\n",
        "  runningmonthlyAccuracy = 0\n",
        "\n",
        "  i += 1\n",
        "  j += 1"
      ],
      "metadata": {
        "id": "X02LeClcSWTa"
      },
      "id": "X02LeClcSWTa",
      "execution_count": 71,
      "outputs": []
    },
    {
      "cell_type": "code",
      "source": [
        "#Create Dataframe for Running Monthly Accuracy\n",
        "i = 0\n",
        "data = []\n",
        "while i < len(runningAveragemonthlyAccuracy):\n",
        "  data.append([merged_df_new['Date'][i], runningAveragemonthlyAccuracy[i]])\n",
        "  i += 1\n",
        "\n",
        "df = pd.DataFrame(data, columns = ['Date', 'Running Monthly Average Accuracy'])"
      ],
      "metadata": {
        "id": "0IAKKnIZSc7e"
      },
      "id": "0IAKKnIZSc7e",
      "execution_count": 72,
      "outputs": []
    },
    {
      "cell_type": "code",
      "source": [
        "#Create plot of Running Monthly Accuracy\n",
        "\n",
        "#Accuracy Line\n",
        "plt.plot(df['Date'], df['Running Monthly Average Accuracy'], color='r', label='Running Monthly Accuracy')\n",
        "\n",
        "#Create XY Labels and Title\n",
        "plt.xlabel('Date') \n",
        "plt.ylabel('Accuracy Percentage') \n",
        "plt.title(\"Predicted Daily COVID-19 Case Running Monthly Accuracy in PA\")\n",
        "\n",
        "#Display Plot\n",
        "plt.legend()\n",
        "plt.show()"
      ],
      "metadata": {
        "colab": {
          "base_uri": "https://localhost:8080/",
          "height": 295
        },
        "id": "qhK2tbJaSkPW",
        "outputId": "d96898f2-54f5-426e-c0af-f49ac9405e25"
      },
      "id": "qhK2tbJaSkPW",
      "execution_count": 73,
      "outputs": [
        {
          "output_type": "display_data",
          "data": {
            "text/plain": [
              "<Figure size 432x288 with 1 Axes>"
            ],
            "image/png": "[encoded data removed]"
          },
          "metadata": {
            "needs_background": "light"
          }
        }
      ]
    },
    {
      "cell_type": "code",
      "source": [
        "#Calculate Yearly Accuracy Averages\n",
        "#We are going to use an average of 365 days per year for these calculations\n",
        "\n",
        "yearlyAccuracy = 0\n",
        "averageYearlyAccuracy = []\n",
        "amountOfYears = int(length / 365)\n",
        "remainderDays = length % 365\n",
        "\n",
        "i = 0\n",
        "while i < length:\n",
        "  yearlyAccuracy += accuracy[i]\n",
        "  if (i + 1) % 365 == 0 and amountOfYears > 0:\n",
        "    averageYearlyAccuracy.append(yearlyAccuracy / 365)\n",
        "    amountOfYears -= 1\n",
        "    yearlyAccuracy = 0\n",
        "  if (i + 1) % remainderDays == 0 and remainderDays > 0 and amountOfYears == 0:\n",
        "    averageYearlyAccuracy.append(yearlyAccuracy / remainderDays)\n",
        "    yearlyAccuracy = 0\n",
        "  i += 1\n",
        "\n",
        "weeklyDateListForYears = []\n",
        "i = 0\n",
        "weeklyDateListForYears.append(merged_df_new['Date'][i])\n",
        "while i < length:\n",
        "  if (i + 1) % 365 == 0:\n",
        "    weeklyDateListForYears.append(merged_df_new['Date'][i])\n",
        "  i += 1"
      ],
      "metadata": {
        "id": "wuFLInYkSl0D"
      },
      "id": "wuFLInYkSl0D",
      "execution_count": 74,
      "outputs": []
    },
    {
      "cell_type": "code",
      "source": [
        "print(averageYearlyAccuracy)"
      ],
      "metadata": {
        "colab": {
          "base_uri": "https://localhost:8080/"
        },
        "id": "0X5tj6YASxgP",
        "outputId": "4a6f226d-e93e-4d49-9ec9-4eb66e44427f"
      },
      "id": "0X5tj6YASxgP",
      "execution_count": 75,
      "outputs": [
        {
          "output_type": "stream",
          "name": "stdout",
          "text": [
            "[0.49166943555407455, 0.326667852327256]\n"
          ]
        }
      ]
    },
    {
      "cell_type": "code",
      "source": [
        "#Create Dataframe for Yearly Accuracy\n",
        "i = 0\n",
        "data = []\n",
        "while i < len(averageYearlyAccuracy):\n",
        "  data.append([weeklyDateListForYears[i], averageYearlyAccuracy[i]])\n",
        "  i += 1\n",
        "\n",
        "df = pd.DataFrame(data, columns = ['Year Of', 'Average Yearly Accuracy'])"
      ],
      "metadata": {
        "id": "KMVJGUxoSyb5"
      },
      "id": "KMVJGUxoSyb5",
      "execution_count": 76,
      "outputs": []
    },
    {
      "cell_type": "code",
      "source": [
        "#Create plot of Yearly Accuracy\n",
        "\n",
        "#Accuracy Line\n",
        "plt.plot(df['Year Of'], df['Average Yearly Accuracy'], color='r', label='Yearly Accuracy')\n",
        "\n",
        "#Create XY Labels and Title\n",
        "plt.xlabel('Year Of (Year/Month/Day)') \n",
        "plt.ylabel('Average Yearly Accuracy Percentage') \n",
        "plt.title(\"Predicted Daily COVID-19 Case Yearly Accuracy in PA\")\n",
        "\n",
        "#Display Plot\n",
        "plt.legend()\n",
        "plt.show()"
      ],
      "metadata": {
        "colab": {
          "base_uri": "https://localhost:8080/",
          "height": 295
        },
        "id": "OVaiiME4S2Bl",
        "outputId": "302bf301-1b27-4b62-816a-a23fd03cf2c7"
      },
      "id": "OVaiiME4S2Bl",
      "execution_count": 77,
      "outputs": [
        {
          "output_type": "display_data",
          "data": {
            "text/plain": [
              "<Figure size 432x288 with 1 Axes>"
            ],
            "image/png": "[encoded data removed]"
          },
          "metadata": {
            "needs_background": "light"
          }
        }
      ]
    },
    {
      "cell_type": "code",
      "source": [
        "#Calculate Running Yearly Accuracy\n",
        "\n",
        "runningyearlyAccuracy = 0\n",
        "runningAverageyearlyAccuracy = []\n",
        "length = len(accuracy)\n",
        "\n",
        "i = 1\n",
        "j = 366\n",
        "#Add first week average\n",
        "runningAverageyearlyAccuracy.append(averageYearlyAccuracy[0])\n",
        "\n",
        "while j < length:\n",
        "  temp_i = i\n",
        "  temp_j = j\n",
        "  while temp_i < temp_j:\n",
        "    runningyearlyAccuracy += accuracy[temp_i]\n",
        "    temp_i += 1\n",
        "  runningAverageyearlyAccuracy.append(runningyearlyAccuracy / 365)\n",
        "  runningyearlyAccuracy = 0\n",
        "\n",
        "  i += 1\n",
        "  j += 1"
      ],
      "metadata": {
        "id": "7_8g8buyS4r6"
      },
      "id": "7_8g8buyS4r6",
      "execution_count": 78,
      "outputs": []
    },
    {
      "cell_type": "code",
      "source": [
        "#Create Dataframe for Running Yearly Accuracy\n",
        "i = 0\n",
        "data = []\n",
        "while i < len(runningAverageyearlyAccuracy):\n",
        "  data.append([merged_df_new['Date'][i], runningAverageyearlyAccuracy[i]])\n",
        "  i += 1\n",
        "\n",
        "df = pd.DataFrame(data, columns = ['Date', 'Running Yearly Average Accuracy'])"
      ],
      "metadata": {
        "id": "GMw16lzPS7I8"
      },
      "id": "GMw16lzPS7I8",
      "execution_count": 79,
      "outputs": []
    },
    {
      "cell_type": "code",
      "source": [
        "#Create plot of Running Yearly Accuracy\n",
        "\n",
        "#Accuracy Line\n",
        "plt.plot(df['Date'], df['Running Yearly Average Accuracy'], color='r', label='Running Yearly Accuracy')\n",
        "\n",
        "#Create XY Labels and Title\n",
        "plt.xlabel('Date') \n",
        "plt.ylabel('Accuracy Percentage') \n",
        "plt.title(\"Predicted Daily COVID-19 Case Running Yearly Accuracy in PA\")\n",
        "\n",
        "#Display Plot\n",
        "plt.legend()\n",
        "plt.show()"
      ],
      "metadata": {
        "colab": {
          "base_uri": "https://localhost:8080/",
          "height": 295
        },
        "id": "9Tg8c7xFTEo5",
        "outputId": "35d2549f-20c9-417b-fed9-5a3e4f8184a3"
      },
      "id": "9Tg8c7xFTEo5",
      "execution_count": 80,
      "outputs": [
        {
          "output_type": "display_data",
          "data": {
            "text/plain": [
              "<Figure size 432x288 with 1 Axes>"
            ],
            "image/png": "[encoded data removed]"
          },
          "metadata": {
            "needs_background": "light"
          }
        }
      ]
    },
    {
      "cell_type": "code",
      "source": [
        "#Calculate Overall Accuracy\n",
        "overallAccuracy = merged_df_new['Accuracy'].mean()\n",
        "print(overallAccuracy)"
      ],
      "metadata": {
        "colab": {
          "base_uri": "https://localhost:8080/"
        },
        "id": "wvfzf5lyTIzD",
        "outputId": "faac5330-298f-4141-d0d5-c4ccaa4d8c97"
      },
      "id": "wvfzf5lyTIzD",
      "execution_count": 81,
      "outputs": [
        {
          "output_type": "stream",
          "name": "stdout",
          "text": [
            "0.47877710183285177\n"
          ]
        }
      ]
    },
    {
      "cell_type": "code",
      "source": [
        "#Create new dataframe for year 2022\n",
        "data_2022 = merged_df_new[(merged_df_new['Date'] > '2022-01-01')]"
      ],
      "metadata": {
        "id": "hrBX4CVpTN0j"
      },
      "id": "hrBX4CVpTN0j",
      "execution_count": 82,
      "outputs": []
    },
    {
      "cell_type": "code",
      "source": [
        "#create error and accuracy lists for 2022\n",
        "error_2022=[]\n",
        "for index, row in data_2022.iterrows():\n",
        "  error_2022.append((abs(row['New Cases'] - row[\"Prediction\"])) / row['New Cases'])\n",
        "\n",
        "accuracy_2022 = []\n",
        "for i in error_2022:\n",
        "  accuracy_2022.append(1 - i)"
      ],
      "metadata": {
        "id": "91MO2kFaTSTJ"
      },
      "id": "91MO2kFaTSTJ",
      "execution_count": 83,
      "outputs": []
    },
    {
      "cell_type": "code",
      "source": [
        "#check head of 2022 data\n",
        "data_2022.head(5)"
      ],
      "metadata": {
        "colab": {
          "base_uri": "https://localhost:8080/",
          "height": 354
        },
        "id": "GAIV4vDLTdLo",
        "outputId": "2a5d317c-71d7-4444-d743-092cb2ca27c8"
      },
      "id": "GAIV4vDLTdLo",
      "execution_count": 84,
      "outputs": [
        {
          "output_type": "execute_result",
          "data": {
            "text/plain": [
              "          Date  New Cases  7-day Average New Cases  \\\n",
              "428 2022-01-02      35128                  38695.9   \n",
              "429 2022-01-03      48768                  41456.9   \n",
              "430 2022-01-04      51898                  44396.0   \n",
              "431 2022-01-05      61004                  47411.2   \n",
              "432 2022-01-06      58492                  49136.1   \n",
              "\n",
              "     Cumulative cases                            Population (2019)  \\\n",
              "428                                     4203914           25603978   \n",
              "429                                     4252682           25603978   \n",
              "430                                     4304580           25603978   \n",
              "431                                     4365584           25603978   \n",
              "432                                     4424076           25603978   \n",
              "\n",
              "     New Case Rate  7-Day Average New Case Rate  Cumulative Case Rate  \\\n",
              "428         6449.2                       7426.4             1172327.7   \n",
              "429         9816.9                       8055.2             1182144.5   \n",
              "430        10744.4                       8691.2             1192888.2   \n",
              "431        11662.5                       9215.5             1204551.4   \n",
              "432        12854.6                       9728.8             1217406.1   \n",
              "\n",
              "     County FIPS Code    Longitude     Latitude   Prediction     Error  \\\n",
              "428           2860489 -5275.682283  2774.207671  6074.857143  0.827065   \n",
              "429           2860489 -5275.682283  2774.207671  6074.857143  0.875434   \n",
              "430           2860489 -5275.682283  2774.207671  6074.857143  0.882946   \n",
              "431           2860489 -5275.682283  2774.207671  6074.857143  0.900419   \n",
              "432           2860489 -5275.682283  2774.207671  6074.857143  0.896142   \n",
              "\n",
              "     Accuracy  RawError  \n",
              "428  0.172935 -0.827065  \n",
              "429  0.124566 -0.875434  \n",
              "430  0.117054 -0.882946  \n",
              "431  0.099581 -0.900419  \n",
              "432  0.103858 -0.896142  "
            ],
            "text/html": [
              "\n",
              "  <div id=\"df-e814cf0a-66fa-4082-a8a0-5afe09988e02\">\n",
              "    <div class=\"colab-df-container\">\n",
              "      <div>\n",
              "<style scoped>\n",
              "    .dataframe tbody tr th:only-of-type {\n",
              "        vertical-align: middle;\n",
              "    }\n",
              "\n",
              "    .dataframe tbody tr th {\n",
              "        vertical-align: top;\n",
              "    }\n",
              "\n",
              "    .dataframe thead th {\n",
              "        text-align: right;\n",
              "    }\n",
              "</style>\n",
              "<table border=\"1\" class=\"dataframe\">\n",
              "  <thead>\n",
              "    <tr style=\"text-align: right;\">\n",
              "      <th></th>\n",
              "      <th>Date</th>\n",
              "      <th>New Cases</th>\n",
              "      <th>7-day Average New Cases</th>\n",
              "      <th>Cumulative cases</th>\n",
              "      <th>Population (2019)</th>\n",
              "      <th>New Case Rate</th>\n",
              "      <th>7-Day Average New Case Rate</th>\n",
              "      <th>Cumulative Case Rate</th>\n",
              "      <th>County FIPS Code</th>\n",
              "      <th>Longitude</th>\n",
              "      <th>Latitude</th>\n",
              "      <th>Prediction</th>\n",
              "      <th>Error</th>\n",
              "      <th>Accuracy</th>\n",
              "      <th>RawError</th>\n",
              "    </tr>\n",
              "  </thead>\n",
              "  <tbody>\n",
              "    <tr>\n",
              "      <th>428</th>\n",
              "      <td>2022-01-02</td>\n",
              "      <td>35128</td>\n",
              "      <td>38695.9</td>\n",
              "      <td>4203914</td>\n",
              "      <td>25603978</td>\n",
              "      <td>6449.2</td>\n",
              "      <td>7426.4</td>\n",
              "      <td>1172327.7</td>\n",
              "      <td>2860489</td>\n",
              "      <td>-5275.682283</td>\n",
              "      <td>2774.207671</td>\n",
              "      <td>6074.857143</td>\n",
              "      <td>0.827065</td>\n",
              "      <td>0.172935</td>\n",
              "      <td>-0.827065</td>\n",
              "    </tr>\n",
              "    <tr>\n",
              "      <th>429</th>\n",
              "      <td>2022-01-03</td>\n",
              "      <td>48768</td>\n",
              "      <td>41456.9</td>\n",
              "      <td>4252682</td>\n",
              "      <td>25603978</td>\n",
              "      <td>9816.9</td>\n",
              "      <td>8055.2</td>\n",
              "      <td>1182144.5</td>\n",
              "      <td>2860489</td>\n",
              "      <td>-5275.682283</td>\n",
              "      <td>2774.207671</td>\n",
              "      <td>6074.857143</td>\n",
              "      <td>0.875434</td>\n",
              "      <td>0.124566</td>\n",
              "      <td>-0.875434</td>\n",
              "    </tr>\n",
              "    <tr>\n",
              "      <th>430</th>\n",
              "      <td>2022-01-04</td>\n",
              "      <td>51898</td>\n",
              "      <td>44396.0</td>\n",
              "      <td>4304580</td>\n",
              "      <td>25603978</td>\n",
              "      <td>10744.4</td>\n",
              "      <td>8691.2</td>\n",
              "      <td>1192888.2</td>\n",
              "      <td>2860489</td>\n",
              "      <td>-5275.682283</td>\n",
              "      <td>2774.207671</td>\n",
              "      <td>6074.857143</td>\n",
              "      <td>0.882946</td>\n",
              "      <td>0.117054</td>\n",
              "      <td>-0.882946</td>\n",
              "    </tr>\n",
              "    <tr>\n",
              "      <th>431</th>\n",
              "      <td>2022-01-05</td>\n",
              "      <td>61004</td>\n",
              "      <td>47411.2</td>\n",
              "      <td>4365584</td>\n",
              "      <td>25603978</td>\n",
              "      <td>11662.5</td>\n",
              "      <td>9215.5</td>\n",
              "      <td>1204551.4</td>\n",
              "      <td>2860489</td>\n",
              "      <td>-5275.682283</td>\n",
              "      <td>2774.207671</td>\n",
              "      <td>6074.857143</td>\n",
              "      <td>0.900419</td>\n",
              "      <td>0.099581</td>\n",
              "      <td>-0.900419</td>\n",
              "    </tr>\n",
              "    <tr>\n",
              "      <th>432</th>\n",
              "      <td>2022-01-06</td>\n",
              "      <td>58492</td>\n",
              "      <td>49136.1</td>\n",
              "      <td>4424076</td>\n",
              "      <td>25603978</td>\n",
              "      <td>12854.6</td>\n",
              "      <td>9728.8</td>\n",
              "      <td>1217406.1</td>\n",
              "      <td>2860489</td>\n",
              "      <td>-5275.682283</td>\n",
              "      <td>2774.207671</td>\n",
              "      <td>6074.857143</td>\n",
              "      <td>0.896142</td>\n",
              "      <td>0.103858</td>\n",
              "      <td>-0.896142</td>\n",
              "    </tr>\n",
              "  </tbody>\n",
              "</table>\n",
              "</div>\n",
              "      <button class=\"colab-df-convert\" onclick=\"convertToInteractive('df-e814cf0a-66fa-4082-a8a0-5afe09988e02')\"\n",
              "              title=\"Convert this dataframe to an interactive table.\"\n",
              "              style=\"display:none;\">\n",
              "        \n",
              "  <svg xmlns=\"http://www.w3.org/2000/svg\" height=\"24px\"viewBox=\"0 0 24 24\"\n",
              "       width=\"24px\">\n",
              "    <path d=\"M0 0h24v24H0V0z\" fill=\"none\"/>\n",
              "    <path d=\"M18.56 5.44l.94 2.06.94-2.06 2.06-.94-2.06-.94-.94-2.06-.94 2.06-2.06.94zm-11 1L8.5 8.5l.94-2.06 2.06-.94-2.06-.94L8.5 2.5l-.94 2.06-2.06.94zm10 10l.94 2.06.94-2.06 2.06-.94-2.06-.94-.94-2.06-.94 2.06-2.06.94z\"/><path d=\"M17.41 7.96l-1.37-1.37c-.4-.4-.92-.59-1.43-.59-.52 0-1.04.2-1.43.59L10.3 9.45l-7.72 7.72c-.78.78-.78 2.05 0 2.83L4 21.41c.39.39.9.59 1.41.59.51 0 1.02-.2 1.41-.59l7.78-7.78 2.81-2.81c.8-.78.8-2.07 0-2.86zM5.41 20L4 18.59l7.72-7.72 1.47 1.35L5.41 20z\"/>\n",
              "  </svg>\n",
              "      </button>\n",
              "      \n",
              "  <style>\n",
              "    .colab-df-container {\n",
              "      display:flex;\n",
              "      flex-wrap:wrap;\n",
              "      gap: 12px;\n",
              "    }\n",
              "\n",
              "    .colab-df-convert {\n",
              "      background-color: #E8F0FE;\n",
              "      border: none;\n",
              "      border-radius: 50%;\n",
              "      cursor: pointer;\n",
              "      display: none;\n",
              "      fill: #1967D2;\n",
              "      height: 32px;\n",
              "      padding: 0 0 0 0;\n",
              "      width: 32px;\n",
              "    }\n",
              "\n",
              "    .colab-df-convert:hover {\n",
              "      background-color: #E2EBFA;\n",
              "      box-shadow: 0px 1px 2px rgba(60, 64, 67, 0.3), 0px 1px 3px 1px rgba(60, 64, 67, 0.15);\n",
              "      fill: #174EA6;\n",
              "    }\n",
              "\n",
              "    [theme=dark] .colab-df-convert {\n",
              "      background-color: #3B4455;\n",
              "      fill: #D2E3FC;\n",
              "    }\n",
              "\n",
              "    [theme=dark] .colab-df-convert:hover {\n",
              "      background-color: #434B5C;\n",
              "      box-shadow: 0px 1px 3px 1px rgba(0, 0, 0, 0.15);\n",
              "      filter: drop-shadow(0px 1px 2px rgba(0, 0, 0, 0.3));\n",
              "      fill: #FFFFFF;\n",
              "    }\n",
              "  </style>\n",
              "\n",
              "      <script>\n",
              "        const buttonEl =\n",
              "          document.querySelector('#df-e814cf0a-66fa-4082-a8a0-5afe09988e02 button.colab-df-convert');\n",
              "        buttonEl.style.display =\n",
              "          google.colab.kernel.accessAllowed ? 'block' : 'none';\n",
              "\n",
              "        async function convertToInteractive(key) {\n",
              "          const element = document.querySelector('#df-e814cf0a-66fa-4082-a8a0-5afe09988e02');\n",
              "          const dataTable =\n",
              "            await google.colab.kernel.invokeFunction('convertToInteractive',\n",
              "                                                     [key], {});\n",
              "          if (!dataTable) return;\n",
              "\n",
              "          const docLinkHtml = 'Like what you see? Visit the ' +\n",
              "            '<a target=\"_blank\" href=https://colab.research.google.com/notebooks/data_table.ipynb>data table notebook</a>'\n",
              "            + ' to learn more about interactive tables.';\n",
              "          element.innerHTML = '';\n",
              "          dataTable['output_type'] = 'display_data';\n",
              "          await google.colab.output.renderOutput(dataTable, element);\n",
              "          const docLink = document.createElement('div');\n",
              "          docLink.innerHTML = docLinkHtml;\n",
              "          element.appendChild(docLink);\n",
              "        }\n",
              "      </script>\n",
              "    </div>\n",
              "  </div>\n",
              "  "
            ]
          },
          "metadata": {},
          "execution_count": 84
        }
      ]
    },
    {
      "cell_type": "code",
      "source": [
        "#create plot for 2022 accuracy\n",
        "plt.xlabel('Date (Month/Day)') \n",
        "plt.ylabel('Prediction Accuracy') \n",
        "plt.title(\"Accuracy Estimation for 2022 PA\")\n",
        "\n",
        "plt.plot(data_2022['Date'].dt.strftime('%m-%d'), accuracy_2022, label='Accuracy 2022')\n",
        "plt.xticks(np.arange(0, len(data_2022['Date']), 7))"
      ],
      "metadata": {
        "colab": {
          "base_uri": "https://localhost:8080/",
          "height": 368
        },
        "id": "NSLRsyeoTg8v",
        "outputId": "ae54cb47-d6ae-40eb-d722-dcd094ceba7c"
      },
      "id": "NSLRsyeoTg8v",
      "execution_count": 85,
      "outputs": [
        {
          "output_type": "execute_result",
          "data": {
            "text/plain": [
              "([<matplotlib.axis.XTick at 0x7f55f0fb22d0>,\n",
              "  <matplotlib.axis.XTick at 0x7f55f0fb2390>,\n",
              "  <matplotlib.axis.XTick at 0x7f55f0fb8210>],\n",
              " <a list of 3 Text major ticklabel objects>)"
            ]
          },
          "metadata": {},
          "execution_count": 85
        },
        {
          "output_type": "display_data",
          "data": {
            "text/plain": [
              "<Figure size 432x288 with 1 Axes>"
            ],
            "image/png": "[encoded data removed]"
          },
          "metadata": {
            "needs_background": "light"
          }
        }
      ]
    },
    {
      "cell_type": "code",
      "source": [
        "#cleans accuracy list of all nan values\n",
        "newlist = [x for x in accuracy if math.isnan(x) == False]\n",
        "print(newlist)"
      ],
      "metadata": {
        "colab": {
          "base_uri": "https://localhost:8080/"
        },
        "id": "ulVDSL0kTiLj",
        "outputId": "a2e5656c-972a-4a84-88b7-656c0a3fcb08"
      },
      "id": "ulVDSL0kTiLj",
      "execution_count": 86,
      "outputs": [
        {
          "output_type": "stream",
          "name": "stdout",
          "text": [
            "[0.4131135179599672, 0.43746370499419285, 0.29144501402456724, 0.3114792226586728, 0.2931319616712875, 0.24041568596162288, 0.21539368812323534, 0.3577727784026996, 0.34642530388184556, 0.25198060590695903, 0.23694797067763274, 0.20774114327515936, 0.19361318756239498, 0.20338918020207186, 0.28024183040600403, 0.3374968616620637, 0.25292817159791137, 0.24094819860189987, 0.22092115534738477, 0.21361036071825834, 0.2213030415277606, 0.4009176587301587, 0.5398680804876013, 0.4465983653735467, 0.38233207190160834, 0.3275195434514664, 0.3757481840193704, 0.3516678752719361, 0.6977689222137745, 0.8604079785342515, 0.6460735526156087, 0.42241338264002415, 0.3510426421514964, 0.3057122181509091, 0.30443933518639255, 0.45333298713887593, 0.5259886324837821, 0.3630270854703225, 0.45838730003150496, 0.3060915604071949, 0.29243060363116646, 0.33007120801562795, 0.40710921960921953, 0.49185440409930203, 0.39854107608166534, 0.3886856472625214, 0.4087831884398496, 0.42503664569718436, 0.3874737267020225, 0.8253292963224894, 0.6863409972248259, 0.6374630865609477, 0.539535656495608, 0.607622844126261, 0.7580176998335566, 0.7327192104695195, 0.9994660071386415, 0.6209865053513262, 0.5607379375591297, 0.5348232144737041, 0.6049399516891778, 0.5978213361126988, 0.643399913156752, 0.7826522199976446, 0.9541645355470747, 0.4347371003352687, 0.38245831115203666, 0.40108033073812543, 0.35926476550885256, 0.39221530380381864, 0.3318460517066312, 0.4636718323693113, 0.31923546538931147, 0.29639674206882116, 0.37156193974375784, 0.35924618441635303, 0.35164914749213694, 0.5126558834424003, 0.7455289808230985, 0.5267698553666582, 0.5237002093791782, 0.5095729013254786, 0.5499192074382135, 0.5042874146768043, 0.4000784724038713, 0.4037750791974657, 0.2994322631166797, 0.27346683354192736, 0.2186249285305889, 0.18156457739791076, 0.2782426778242678, 0.45772742034424274, 0.5401319991483926, 0.4827231905015602, 0.5765647016044726, 0.5386869373195176, 0.3583434560298313, 0.4378214199427052, 0.30175959780621575, 0.5588235294117647, 0.2947544642857143, 0.42803889789303085, 0.32396957801766435, 0.37760937946811557, 0.3421870951023581, 0.4827646038172354, 0.6322526889865172, 0.4943733712390428, 0.3395297754637163, 0.36178051317614424, 0.4263241227846162, 0.4203132081172264, 0.6844649364170448, 0.8748217850014257, 0.45246288467210694, 0.4750206440957886, 0.534712136176146, 0.38468611552286225, 0.3759957514604355, 0.725888923851479, 0.7624142774518715, 0.5097503038338305, 0.5042900863482348, 0.4032469518856794, 0.4922383441800918, 0.4591481315619247, 0.9821658393086964, 0.9038709038709039, 0.5132103457865951, 0.6002710761724045, 0.5579239103048628, 0.5045340624287993, 0.5499701967017683, 0.9457782072246171, 0.5690577078288942, 0.6367738170063751, 0.6136324305615644, 0.6351768920734437, 0.5675670268107242, 0.493356290653588, 0.9373122672113421, 0.6232683314215124, 0.6262794524946815, 0.4520236405249587, 0.5904446546830653, 0.4381617006936449, 0.5413963010513898, 0.7603037633158116, 0.79337168098636, 0.42452597402597403, 0.5170267619891181, 0.5929133715446565, 0.4683837225963605, 0.42498959904311195, 0.7783938982159295, 0.9444473992128497, 0.49770172930855683, 0.5509960282983741, 0.5555816281834678, 0.4810896480723903, 0.5289378053139521, 0.5551214771622935, 0.8050794903596799, 0.2841325109430959, 0.3409780091210811, 0.40598436389481163, 0.3589147481652759, 0.3936082246906094, 0.4479530345784112, 0.6134964302089474, 0.25786003358753407, 0.29465662063107556, 0.2929791360380368, 0.32413655869324476, 0.3285135561713023, 0.43646694214876036, 0.6692185850052799, 0.3258354755784062, 0.37566686425607587, 0.33302679978980554, 0.28387458006718924, 0.40847566870770224, 0.34356075898264027, 0.5095808383233533, 0.2564025308827961, 0.3031706448165301, 0.34481361426256074, 0.27629870129870127, 0.3271818531334102, 0.5236276328713303, 0.6786421499292787, 0.2565226689478187, 0.3170344918726048, 0.3216464436548905, 0.3669317834200062, 0.3446096387272859, 0.4152870493991989, 0.5452234881682734, 0.2261359505634315, 0.34796957154044084, 0.3113925317849635, 0.21707725591457883, 0.3206039991754278, 0.19188988095238102, 0.2896451033243487, 0.14820135616595798, 0.16418385536032598, 0.18095705865843392, 0.17280889841865454, 0.21904195685408534, 0.3603205305332965, 0.4424838819138106, 0.36526610644257707, 0.23882783882783876, 0.2924422516259251, 0.22552749913524728, 0.2792889269650889, 0.34466546112115726, 0.5602586713697825, 0.20596498811324826, 0.30253968253968244, 0.22842761265580047, 0.2940450478247454, 0.3679536679536679, 0.3870513722730471, 0.4340962904498816, 0.16681831968456173, 0.2786220871327254, 0.23524379811804952, 0.2584586466165413, 0.3069196428571428, 0.621374865735768, 0.7063492063492063, 0.30722251725969196, 0.33323732718894006, 0.3640654499685336, 0.38618157543391185, 0.4051120448179272, 0.5765306122448979, 0.8678955453149001, 0.39957567185289955, 0.42038690476190477, 0.41820873427091043, 0.4509177972865124, 0.34641324340895163, 0.87248322147651, 0.6341463414634146, 0.41509433962264153, 0.8155339805825242, 0.6486486486486487, 0.6829268292682926, 0.6109090909090908, 0.48850174216027886, -0.26173096976016663, 0.8728370221327967, 0.9563492063492063, 0.7189260855154126, 0.7026239067055393, 0.6901049952274896, 0.5288621262458473, -0.048872180451127845, 0.8364817001180638, 0.887844611528822, 0.8606656948493683, 0.7761831726555652, 0.7553304904051172, 0.44228476031481045, -0.144991789819376, 0.8671667551779076, 0.8771703627299295, 0.8591817942646671, 0.8810872791042763, 0.7801600573339704, 0.8856855995410212, 0.7529695024077045, 0.704671201814059, 0.7670056274064567, 0.5976613585660435, 0.6323972323972324, 0.6486599315354429, 0.9834392773502844, 0.8289439876670092, 0.6087958324984973, 0.6850154054257158, 0.5522537259178482, 0.6293930815438791, 0.5698968427633635, 0.7604766367652966, 0.7360925678682688, 0.6227387347878522, 0.7264356055761607, 0.4095021808874951, 0.647588644396306, 0.5781464705582982, 0.856296006774803, 0.9704730576441103, 0.608311351751585, 0.5079408014220024, 0.5781579873328642, 0.4732502880184333, 0.4864914877868246, 0.7456580470860672, 0.7597325992921746, 0.539815590947192, 0.49135300101729396, 0.518379393614167, 0.4750430292598967, 0.41450332546663804, 0.687514350002296, 0.8593238822246455, 0.9231148652814599, 0.4247978436657681, 0.492483799875004, 0.4116353238755086, 0.39571825029734364, 0.6105887239907858, 0.7377378290824473, 0.48823866896156054, 0.5725972094340959, 0.36728528269313765, 0.40262456734480434, 0.4348375645438898, 0.47516488371359145, 0.8432267458139664, 0.44142651930462307, 0.46721794712672204, 0.3834351922587217, 0.4218614294119295, 0.40042282735879164, 0.44265976995848366, 0.6064901156284968, 0.3481239629609806, 0.38204887218045114, 0.3717314891549739, 0.340283046014597, 0.46008559402963956, 0.3047635476477981, 0.44524049539170507, 0.36669038723833247, 0.3583598956824109, 0.28114485768846054, 0.31924725076152616, 0.32168869004265943, 0.485201068616423, 0.7162575891235535, 0.42387298857634204, 0.41260873464263303, 0.3463043805509559, 0.3771723685648706, 0.41338724168912855, 0.6736296468221732, 0.8481807997662072, 0.6428202288667405, 0.5601698459162994, 0.5722830194879884, 0.5347623142120133, 0.5048121521335807, 0.9054437812860993, 0.7015815918693615, 0.8656122720870922, 0.7180908172287483, 0.7308532861963684, 0.6909066050920581, 0.7279056368234051, 0.9129287598944591, 0.6925823086076954, 0.8872139973082099, 0.8037064130699829, 0.6495861253448956, 0.6142377935147223, 0.6740286298568507, 0.9422577933706099, 0.7835912436308737, 0.9121559470742234, 0.695090717925215, 0.652024378524644, 0.5702563422024639, 0.6529490718464305, 0.9048491379310345, 0.6985430874147551, 0.6504260263361735, 0.7399541769474798, 0.5572736925935757, 0.6083900883929865, 0.6403080677138935, 0.8790526020741848, 0.702109400263675, 0.690565899248893, 0.5733277812760254, 0.5785099405615906, 0.7091477815185167, 0.8460374078292668, 0.8724152942030037, 0.8398767867275527, 0.7062873503147084, 0.610116594040749, 0.4775167836787366, 0.40689348221649146, 0.5201392258906609, 0.47042712355212346, 0.26198245132986, 0.811826344499222, 0.7751830882495023, 0.814005051922537, 0.7841246474343115, 0.8514406608905905, -0.22219039263781704, -1.4951423502576664, -0.2094526034712949, -0.4902889245585873, -0.282257323060515, -0.10380364770492889, 0.054973986084122295, 0.9120429421768708, 0.4391393192631451, 0.813335346375729, 0.6772018737098395, 0.6585364284427516, 0.5251829199462272, 0.6133963779319933, 0.6854503847786368, 0.8511503735276593, 0.3604668090062111, 0.33880795789358453, 0.26596849266022193, 0.22861143595740752, 0.21458613776727575, 0.15494712908374086, 0.17293489930702421, 0.12456646044244468, 0.11705378131830024, 0.09958129209325861, 0.1038579146354569, 0.09088655210737795, 0.05162015559203481, 0.061331354674581284, 0.05092413307516286, 0.04988963233772503, 0.05691520755459378, 0.05476055271625968, 0.05750805072953524, 0.03418536576724984, 0.08961366116412428, 0.07829504538769716, 0.057341187306869434, 0.06195077323103837, 0.05785560643647836, 0.060652607759636656]\n"
          ]
        }
      ]
    },
    {
      "cell_type": "code",
      "source": [
        "#calculate variance and st deviation of accuracy\n",
        "var = sum((l-overallAccuracy)**2 for l in newlist) / len(newlist)\n",
        "st_dev = math.sqrt(var)\n",
        "print(var)\n",
        "print(st_dev)"
      ],
      "metadata": {
        "colab": {
          "base_uri": "https://localhost:8080/"
        },
        "id": "ZijPJi2lTkrT",
        "outputId": "7bd48862-1513-4b82-cbf4-59659c4b3f05"
      },
      "id": "ZijPJi2lTkrT",
      "execution_count": 87,
      "outputs": [
        {
          "output_type": "stream",
          "name": "stdout",
          "text": [
            "0.06473293294075154\n",
            "0.2544266749787678\n"
          ]
        }
      ]
    },
    {
      "cell_type": "code",
      "source": [
        "#calculate median of accuracy\n",
        "accMedian = statistics.median(newlist)\n",
        "print(accMedian)"
      ],
      "metadata": {
        "colab": {
          "base_uri": "https://localhost:8080/"
        },
        "id": "JkBubTMaTmm0",
        "outputId": "7c787ac4-6b2b-46c0-ceda-2ec6617ad47c"
      },
      "id": "JkBubTMaTmm0",
      "execution_count": 88,
      "outputs": [
        {
          "output_type": "stream",
          "name": "stdout",
          "text": [
            "0.4596168627957821\n"
          ]
        }
      ]
    },
    {
      "cell_type": "code",
      "source": [
        "#Seperate Running Weekly Average plot into 3 plots for the 3 variants: Original, Delta, Omicron\n",
        "\n",
        "# Start Date - May 20th 2021\n",
        "# Delta: May 20th 2021 - December 1st 2021\n",
        "# Omicron: December 1st 2021 - Present"
      ],
      "metadata": {
        "id": "QA5c4LGoTo2Y"
      },
      "id": "QA5c4LGoTo2Y",
      "execution_count": 89,
      "outputs": []
    },
    {
      "cell_type": "code",
      "source": [
        "type(merged_df_new['Date'][1])"
      ],
      "metadata": {
        "colab": {
          "base_uri": "https://localhost:8080/"
        },
        "id": "PWR2ZpCgTr1O",
        "outputId": "dea48b34-f100-446a-89ac-579c0f5b80d0"
      },
      "id": "PWR2ZpCgTr1O",
      "execution_count": 90,
      "outputs": [
        {
          "output_type": "execute_result",
          "data": {
            "text/plain": [
              "pandas._libs.tslibs.timestamps.Timestamp"
            ]
          },
          "metadata": {},
          "execution_count": 90
        }
      ]
    },
    {
      "cell_type": "code",
      "source": [
        "merged_df_new.index[merged_df_new['Date']=='2021-05-20'].tolist()"
      ],
      "metadata": {
        "colab": {
          "base_uri": "https://localhost:8080/"
        },
        "id": "2g6bUui0kDv6",
        "outputId": "b58e36a2-5090-4e30-843a-c1e78404bf95"
      },
      "id": "2g6bUui0kDv6",
      "execution_count": 91,
      "outputs": [
        {
          "output_type": "execute_result",
          "data": {
            "text/plain": [
              "[201]"
            ]
          },
          "metadata": {},
          "execution_count": 91
        }
      ]
    },
    {
      "cell_type": "code",
      "source": [
        "merged_df_new.index[merged_df_new['Date']=='2021-12-01'].tolist()"
      ],
      "metadata": {
        "colab": {
          "base_uri": "https://localhost:8080/"
        },
        "id": "i0f_1AAnkECz",
        "outputId": "8022ddc3-6315-4024-e674-2380229f28da"
      },
      "id": "i0f_1AAnkECz",
      "execution_count": 92,
      "outputs": [
        {
          "output_type": "execute_result",
          "data": {
            "text/plain": [
              "[396]"
            ]
          },
          "metadata": {},
          "execution_count": 92
        }
      ]
    },
    {
      "cell_type": "code",
      "source": [
        "#print(merged_inner)\n",
        "standardVariantDF = merged_df_new[:201]\n",
        "deltaVariantDF = merged_df_new[201:396]\n",
        "omicronVariantDF = merged_df_new[396:]"
      ],
      "metadata": {
        "id": "_tncXpS9T0gn"
      },
      "id": "_tncXpS9T0gn",
      "execution_count": 93,
      "outputs": []
    },
    {
      "cell_type": "code",
      "source": [
        "#Create plot of Accuracy\n",
        "\n",
        "#Accuracy Line\n",
        "plt.plot(standardVariantDF['Date'], standardVariantDF['Accuracy'], color='r', label='Daily Accuracy')\n",
        "\n",
        "#Create XY Labels and Title\n",
        "plt.xlabel('Date (Year/Month/Day)') \n",
        "plt.ylabel('Percentage') \n",
        "plt.title(\"(Standard covid) Predicted Daily COVID-19 Case Accuracy in PA\")\n",
        "\n",
        "#Display Plot\n",
        "plt.legend()\n",
        "plt.show()"
      ],
      "metadata": {
        "colab": {
          "base_uri": "https://localhost:8080/",
          "height": 295
        },
        "id": "iGb97-d2T64q",
        "outputId": "f0948be8-0700-4baf-fc85-dfe61071a823"
      },
      "id": "iGb97-d2T64q",
      "execution_count": 94,
      "outputs": [
        {
          "output_type": "display_data",
          "data": {
            "text/plain": [
              "<Figure size 432x288 with 1 Axes>"
            ],
            "image/png": "[encoded data removed]"
          },
          "metadata": {
            "needs_background": "light"
          }
        }
      ]
    },
    {
      "cell_type": "code",
      "source": [
        "#Create plot of Accuracy\n",
        "\n",
        "#Accuracy Line\n",
        "plt.plot(deltaVariantDF['Date'], deltaVariantDF['Accuracy'], color='r', label='Daily Accuracy')\n",
        "\n",
        "#Create XY Labels and Title\n",
        "plt.xlabel('Date (Year/Month/Day)') \n",
        "plt.ylabel('Percentage') \n",
        "plt.title(\"(Delta covid) Predicted Daily COVID-19 Case Accuracy in PA\")\n",
        "\n",
        "#Display Plot\n",
        "plt.legend()\n",
        "plt.show()"
      ],
      "metadata": {
        "colab": {
          "base_uri": "https://localhost:8080/",
          "height": 295
        },
        "id": "6QjpiX7pT9O9",
        "outputId": "78a50dd2-9461-4745-d8db-2ba0bd92b708"
      },
      "id": "6QjpiX7pT9O9",
      "execution_count": 95,
      "outputs": [
        {
          "output_type": "display_data",
          "data": {
            "text/plain": [
              "<Figure size 432x288 with 1 Axes>"
            ],
            "image/png": "[encoded data removed]"
          },
          "metadata": {
            "needs_background": "light"
          }
        }
      ]
    },
    {
      "cell_type": "code",
      "source": [
        "#Create plot of Accuracy\n",
        "\n",
        "#Accuracy Line\n",
        "plt.plot(omicronVariantDF['Date'], omicronVariantDF['Accuracy'], color='r', label='Daily Accuracy')\n",
        "\n",
        "#Create XY Labels and Title\n",
        "plt.xlabel('Date (Year/Month/Day)') \n",
        "plt.ylabel('Percentage') \n",
        "plt.title(\"(Omicron covid) Predicted Daily COVID-19 Case Accuracy in PA\")\n",
        "\n",
        "#Display Plot\n",
        "plt.legend()\n",
        "plt.show()"
      ],
      "metadata": {
        "colab": {
          "base_uri": "https://localhost:8080/",
          "height": 295
        },
        "id": "WBsTUa8JT_c6",
        "outputId": "9d9f370e-04cf-4248-f6ef-dc2708f837ea"
      },
      "id": "WBsTUa8JT_c6",
      "execution_count": 96,
      "outputs": [
        {
          "output_type": "display_data",
          "data": {
            "text/plain": [
              "<Figure size 432x288 with 1 Axes>"
            ],
            "image/png": "[encoded data removed]"
          },
          "metadata": {
            "needs_background": "light"
          }
        }
      ]
    }
  ],
  "metadata": {
    "kernelspec": {
      "display_name": "Python 3 (ipykernel)",
      "language": "python",
      "name": "python3"
    },
    "language_info": {
      "codemirror_mode": {
        "name": "ipython",
        "version": 3
      },
      "file_extension": ".py",
      "mimetype": "text/x-python",
      "name": "python",
      "nbconvert_exporter": "python",
      "pygments_lexer": "ipython3",
      "version": "3.9.7"
    },
    "colab": {
      "name": "JHU_CSSE-DECOM-analysis.ipynb",
      "provenance": [],
      "collapsed_sections": []
    }
  },
  "nbformat": 4,
  "nbformat_minor": 5
}