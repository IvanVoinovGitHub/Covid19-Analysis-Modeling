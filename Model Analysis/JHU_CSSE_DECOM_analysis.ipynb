{
  "cells": [
    {
      "cell_type": "code",
      "execution_count": 1,
      "id": "19d98421",
      "metadata": {
        "id": "19d98421"
      },
      "outputs": [],
      "source": [
        "#import libraries\n",
        "import csv\n",
        "import pandas as pd\n",
        "import matplotlib.pyplot as plt\n",
        "import math\n",
        "import numpy as np\n",
        "import statistics\n",
        "import glob\n",
        "import requests\n",
        "from itertools import repeat"
      ]
    },
    {
      "cell_type": "code",
      "execution_count": 2,
      "id": "bb3a7895",
      "metadata": {
        "id": "bb3a7895"
      },
      "outputs": [],
      "source": [
        "#actual COVID-19 cases data for PA\n",
        "url2 = 'https://raw.githubusercontent.com/IvanVoinovGitHub/Covid19-Analysis-Modeling/main/Data/COVID-19_Aggregate_Cases_Current_Daily_County_Health.csv'\n",
        "df1 = pd.read_csv(url2)"
      ]
    },
    {
      "cell_type": "code",
      "execution_count": 3,
      "id": "16ac3fab",
      "metadata": {
        "id": "16ac3fab"
      },
      "outputs": [],
      "source": [
        "url = 'https://github.com/reichlab/covid19-forecast-hub/tree/master/data-processed/JHU_CSSE-DECOM'\n",
        "download = requests.get(url).content\n",
        "\n",
        "csvStringList = []\n",
        "hrefStringList = []\n",
        "urlExtension = []\n",
        "rawUrls = []\n",
        "tempList = []\n",
        "urlExtensionwoutblob = []\n",
        "urlBeginning = 'https://raw.githubusercontent.com'\n",
        "\n",
        "urlStringList = str(requests.get(url).text).split(\" \")\n",
        "for i in urlStringList:\n",
        "  if \"csv\" in i:\n",
        "    csvStringList.append(i)\n",
        "\n",
        "for i in csvStringList:\n",
        "  if \"href\" in i and \"/reichlab/covid19-forecast-hub/blob/master/data-processed/\" in i:\n",
        "    hrefStringList.append(i)\n",
        "\n",
        "for i in hrefStringList:\n",
        "  tempList1 = i.split(\"\\\"\")\n",
        "  for x in tempList1:\n",
        "    if \"/reichlab/covid19-forecast-hub/blob/master/data-processed/\" in x:\n",
        "      urlExtension.append(x)\n",
        "\n",
        "for i in urlExtension:\n",
        "  newString = \"\"\n",
        "  tempList = []\n",
        "  temp = i.split(\"/\")\n",
        "  for x in temp:\n",
        "    if \"blob\" not in x:\n",
        "      tempList.append(x)\n",
        "  for j in range(1, len(tempList)):\n",
        "    newString += \"/\" + tempList[j]\n",
        "  urlExtensionwoutblob.append(newString)\n",
        "\n",
        "\n",
        "for i in urlExtensionwoutblob:\n",
        "  finalUrl = urlBeginning + i\n",
        "  rawUrls.append(finalUrl)"
      ]
    },
    {
      "cell_type": "code",
      "execution_count": 4,
      "id": "922310e5",
      "metadata": {
        "id": "922310e5"
      },
      "outputs": [],
      "source": [
        "#reading all the raw data, filtering PA cases data, and ensemble back into one dataframe\n",
        "all_data = []\n",
        "for url in rawUrls:\n",
        "    df3=pd.read_csv(url)\n",
        "    df2_case = df3[df3['target'].str.contains('case')]\n",
        "    df2_casesPA = df2_case[(df2_case[\"type\"]==\"point\") & (df2_case[\"location\"]==\"42\")]\n",
        "    all_data.append(df2_casesPA)"
      ]
    },
    {
      "cell_type": "code",
      "execution_count": 5,
      "id": "e6b3b86d",
      "metadata": {
        "id": "e6b3b86d",
        "outputId": "a456df11-c48a-4a86-8827-a0d95c3733ab",
        "colab": {
          "base_uri": "https://localhost:8080/"
        }
      },
      "outputs": [
        {
          "output_type": "execute_result",
          "data": {
            "text/plain": [
              "73"
            ]
          },
          "metadata": {},
          "execution_count": 5
        }
      ],
      "source": [
        "len(all_data)"
      ]
    },
    {
      "cell_type": "code",
      "execution_count": 6,
      "id": "9ca79685",
      "metadata": {
        "id": "9ca79685",
        "colab": {
          "base_uri": "https://localhost:8080/",
          "height": 206
        },
        "outputId": "2f81ce86-bb4a-4396-8466-471e7ebf2eaa"
      },
      "outputs": [
        {
          "output_type": "execute_result",
          "data": {
            "text/plain": [
              "    forecast_date               target target_end_date location   type  \\\n",
              "262    2020-10-25  1 wk ahead inc case      2020-10-31       42  point   \n",
              "313    2020-10-25  2 wk ahead inc case      2020-11-07       42  point   \n",
              "364    2020-10-25  3 wk ahead inc case      2020-11-14       42  point   \n",
              "415    2020-10-25  4 wk ahead inc case      2020-11-21       42  point   \n",
              "227    2020-11-01  1 wk ahead inc case      2020-11-07       42  point   \n",
              "\n",
              "     quantile    value  \n",
              "262       NaN  12053.0  \n",
              "313       NaN  13233.0  \n",
              "364       NaN  14182.0  \n",
              "415       NaN  15612.0  \n",
              "227       NaN  15903.0  "
            ],
            "text/html": [
              "\n",
              "  <div id=\"df-7caa17b8-8fba-4fd9-89ed-41dbfcd03080\">\n",
              "    <div class=\"colab-df-container\">\n",
              "      <div>\n",
              "<style scoped>\n",
              "    .dataframe tbody tr th:only-of-type {\n",
              "        vertical-align: middle;\n",
              "    }\n",
              "\n",
              "    .dataframe tbody tr th {\n",
              "        vertical-align: top;\n",
              "    }\n",
              "\n",
              "    .dataframe thead th {\n",
              "        text-align: right;\n",
              "    }\n",
              "</style>\n",
              "<table border=\"1\" class=\"dataframe\">\n",
              "  <thead>\n",
              "    <tr style=\"text-align: right;\">\n",
              "      <th></th>\n",
              "      <th>forecast_date</th>\n",
              "      <th>target</th>\n",
              "      <th>target_end_date</th>\n",
              "      <th>location</th>\n",
              "      <th>type</th>\n",
              "      <th>quantile</th>\n",
              "      <th>value</th>\n",
              "    </tr>\n",
              "  </thead>\n",
              "  <tbody>\n",
              "    <tr>\n",
              "      <th>262</th>\n",
              "      <td>2020-10-25</td>\n",
              "      <td>1 wk ahead inc case</td>\n",
              "      <td>2020-10-31</td>\n",
              "      <td>42</td>\n",
              "      <td>point</td>\n",
              "      <td>NaN</td>\n",
              "      <td>12053.0</td>\n",
              "    </tr>\n",
              "    <tr>\n",
              "      <th>313</th>\n",
              "      <td>2020-10-25</td>\n",
              "      <td>2 wk ahead inc case</td>\n",
              "      <td>2020-11-07</td>\n",
              "      <td>42</td>\n",
              "      <td>point</td>\n",
              "      <td>NaN</td>\n",
              "      <td>13233.0</td>\n",
              "    </tr>\n",
              "    <tr>\n",
              "      <th>364</th>\n",
              "      <td>2020-10-25</td>\n",
              "      <td>3 wk ahead inc case</td>\n",
              "      <td>2020-11-14</td>\n",
              "      <td>42</td>\n",
              "      <td>point</td>\n",
              "      <td>NaN</td>\n",
              "      <td>14182.0</td>\n",
              "    </tr>\n",
              "    <tr>\n",
              "      <th>415</th>\n",
              "      <td>2020-10-25</td>\n",
              "      <td>4 wk ahead inc case</td>\n",
              "      <td>2020-11-21</td>\n",
              "      <td>42</td>\n",
              "      <td>point</td>\n",
              "      <td>NaN</td>\n",
              "      <td>15612.0</td>\n",
              "    </tr>\n",
              "    <tr>\n",
              "      <th>227</th>\n",
              "      <td>2020-11-01</td>\n",
              "      <td>1 wk ahead inc case</td>\n",
              "      <td>2020-11-07</td>\n",
              "      <td>42</td>\n",
              "      <td>point</td>\n",
              "      <td>NaN</td>\n",
              "      <td>15903.0</td>\n",
              "    </tr>\n",
              "  </tbody>\n",
              "</table>\n",
              "</div>\n",
              "      <button class=\"colab-df-convert\" onclick=\"convertToInteractive('df-7caa17b8-8fba-4fd9-89ed-41dbfcd03080')\"\n",
              "              title=\"Convert this dataframe to an interactive table.\"\n",
              "              style=\"display:none;\">\n",
              "        \n",
              "  <svg xmlns=\"http://www.w3.org/2000/svg\" height=\"24px\"viewBox=\"0 0 24 24\"\n",
              "       width=\"24px\">\n",
              "    <path d=\"M0 0h24v24H0V0z\" fill=\"none\"/>\n",
              "    <path d=\"M18.56 5.44l.94 2.06.94-2.06 2.06-.94-2.06-.94-.94-2.06-.94 2.06-2.06.94zm-11 1L8.5 8.5l.94-2.06 2.06-.94-2.06-.94L8.5 2.5l-.94 2.06-2.06.94zm10 10l.94 2.06.94-2.06 2.06-.94-2.06-.94-.94-2.06-.94 2.06-2.06.94z\"/><path d=\"M17.41 7.96l-1.37-1.37c-.4-.4-.92-.59-1.43-.59-.52 0-1.04.2-1.43.59L10.3 9.45l-7.72 7.72c-.78.78-.78 2.05 0 2.83L4 21.41c.39.39.9.59 1.41.59.51 0 1.02-.2 1.41-.59l7.78-7.78 2.81-2.81c.8-.78.8-2.07 0-2.86zM5.41 20L4 18.59l7.72-7.72 1.47 1.35L5.41 20z\"/>\n",
              "  </svg>\n",
              "      </button>\n",
              "      \n",
              "  <style>\n",
              "    .colab-df-container {\n",
              "      display:flex;\n",
              "      flex-wrap:wrap;\n",
              "      gap: 12px;\n",
              "    }\n",
              "\n",
              "    .colab-df-convert {\n",
              "      background-color: #E8F0FE;\n",
              "      border: none;\n",
              "      border-radius: 50%;\n",
              "      cursor: pointer;\n",
              "      display: none;\n",
              "      fill: #1967D2;\n",
              "      height: 32px;\n",
              "      padding: 0 0 0 0;\n",
              "      width: 32px;\n",
              "    }\n",
              "\n",
              "    .colab-df-convert:hover {\n",
              "      background-color: #E2EBFA;\n",
              "      box-shadow: 0px 1px 2px rgba(60, 64, 67, 0.3), 0px 1px 3px 1px rgba(60, 64, 67, 0.15);\n",
              "      fill: #174EA6;\n",
              "    }\n",
              "\n",
              "    [theme=dark] .colab-df-convert {\n",
              "      background-color: #3B4455;\n",
              "      fill: #D2E3FC;\n",
              "    }\n",
              "\n",
              "    [theme=dark] .colab-df-convert:hover {\n",
              "      background-color: #434B5C;\n",
              "      box-shadow: 0px 1px 3px 1px rgba(0, 0, 0, 0.15);\n",
              "      filter: drop-shadow(0px 1px 2px rgba(0, 0, 0, 0.3));\n",
              "      fill: #FFFFFF;\n",
              "    }\n",
              "  </style>\n",
              "\n",
              "      <script>\n",
              "        const buttonEl =\n",
              "          document.querySelector('#df-7caa17b8-8fba-4fd9-89ed-41dbfcd03080 button.colab-df-convert');\n",
              "        buttonEl.style.display =\n",
              "          google.colab.kernel.accessAllowed ? 'block' : 'none';\n",
              "\n",
              "        async function convertToInteractive(key) {\n",
              "          const element = document.querySelector('#df-7caa17b8-8fba-4fd9-89ed-41dbfcd03080');\n",
              "          const dataTable =\n",
              "            await google.colab.kernel.invokeFunction('convertToInteractive',\n",
              "                                                     [key], {});\n",
              "          if (!dataTable) return;\n",
              "\n",
              "          const docLinkHtml = 'Like what you see? Visit the ' +\n",
              "            '<a target=\"_blank\" href=https://colab.research.google.com/notebooks/data_table.ipynb>data table notebook</a>'\n",
              "            + ' to learn more about interactive tables.';\n",
              "          element.innerHTML = '';\n",
              "          dataTable['output_type'] = 'display_data';\n",
              "          await google.colab.output.renderOutput(dataTable, element);\n",
              "          const docLink = document.createElement('div');\n",
              "          docLink.innerHTML = docLinkHtml;\n",
              "          element.appendChild(docLink);\n",
              "        }\n",
              "      </script>\n",
              "    </div>\n",
              "  </div>\n",
              "  "
            ]
          },
          "metadata": {},
          "execution_count": 6
        }
      ],
      "source": [
        "df2 = pd.concat(all_data)\n",
        "df2.head(5)"
      ]
    },
    {
      "cell_type": "code",
      "execution_count": 7,
      "id": "eae19ec4",
      "metadata": {
        "id": "eae19ec4"
      },
      "outputs": [],
      "source": [
        "#convert date to datetime object\n",
        "df1['Date'] = pd.to_datetime(df1['Date'])\n",
        "df2['forecast_date'] = pd.to_datetime(df2['forecast_date'])\n",
        "df2['target_end_date'] = pd.to_datetime(df2['target_end_date'])"
      ]
    },
    {
      "cell_type": "code",
      "execution_count": 8,
      "id": "8171aacd",
      "metadata": {
        "id": "8171aacd",
        "colab": {
          "base_uri": "https://localhost:8080/",
          "height": 424
        },
        "outputId": "562874ff-b4d6-4daa-9764-fd88eef488d3"
      },
      "outputs": [
        {
          "output_type": "execute_result",
          "data": {
            "text/plain": [
              "     forecast_date               target target_end_date location   type  \\\n",
              "262     2020-10-25  1 wk ahead inc case      2020-10-31       42  point   \n",
              "313     2020-10-25  2 wk ahead inc case      2020-11-07       42  point   \n",
              "227     2020-11-01  1 wk ahead inc case      2020-11-07       42  point   \n",
              "364     2020-10-25  3 wk ahead inc case      2020-11-14       42  point   \n",
              "275     2020-11-01  2 wk ahead inc case      2020-11-14       42  point   \n",
              "...            ...                  ...             ...      ...    ...   \n",
              "1762    2022-02-27  3 wk ahead inc case      2022-03-19       42  point   \n",
              "1601    2022-03-06  2 wk ahead inc case      2022-03-19       42  point   \n",
              "1602    2022-03-06  3 wk ahead inc case      2022-03-26       42  point   \n",
              "1763    2022-02-27  4 wk ahead inc case      2022-03-26       42  point   \n",
              "1603    2022-03-06  4 wk ahead inc case      2022-04-02       42  point   \n",
              "\n",
              "      quantile    value  \n",
              "262        NaN  12053.0  \n",
              "313        NaN  13233.0  \n",
              "227        NaN  15903.0  \n",
              "364        NaN  14182.0  \n",
              "275        NaN  17833.0  \n",
              "...        ...      ...  \n",
              "1762       NaN   5434.0  \n",
              "1601       NaN   3188.0  \n",
              "1602       NaN   2206.0  \n",
              "1763       NaN   3932.0  \n",
              "1603       NaN   1626.0  \n",
              "\n",
              "[258 rows x 7 columns]"
            ],
            "text/html": [
              "\n",
              "  <div id=\"df-5ffe1729-f295-4577-968a-94d835f5249e\">\n",
              "    <div class=\"colab-df-container\">\n",
              "      <div>\n",
              "<style scoped>\n",
              "    .dataframe tbody tr th:only-of-type {\n",
              "        vertical-align: middle;\n",
              "    }\n",
              "\n",
              "    .dataframe tbody tr th {\n",
              "        vertical-align: top;\n",
              "    }\n",
              "\n",
              "    .dataframe thead th {\n",
              "        text-align: right;\n",
              "    }\n",
              "</style>\n",
              "<table border=\"1\" class=\"dataframe\">\n",
              "  <thead>\n",
              "    <tr style=\"text-align: right;\">\n",
              "      <th></th>\n",
              "      <th>forecast_date</th>\n",
              "      <th>target</th>\n",
              "      <th>target_end_date</th>\n",
              "      <th>location</th>\n",
              "      <th>type</th>\n",
              "      <th>quantile</th>\n",
              "      <th>value</th>\n",
              "    </tr>\n",
              "  </thead>\n",
              "  <tbody>\n",
              "    <tr>\n",
              "      <th>262</th>\n",
              "      <td>2020-10-25</td>\n",
              "      <td>1 wk ahead inc case</td>\n",
              "      <td>2020-10-31</td>\n",
              "      <td>42</td>\n",
              "      <td>point</td>\n",
              "      <td>NaN</td>\n",
              "      <td>12053.0</td>\n",
              "    </tr>\n",
              "    <tr>\n",
              "      <th>313</th>\n",
              "      <td>2020-10-25</td>\n",
              "      <td>2 wk ahead inc case</td>\n",
              "      <td>2020-11-07</td>\n",
              "      <td>42</td>\n",
              "      <td>point</td>\n",
              "      <td>NaN</td>\n",
              "      <td>13233.0</td>\n",
              "    </tr>\n",
              "    <tr>\n",
              "      <th>227</th>\n",
              "      <td>2020-11-01</td>\n",
              "      <td>1 wk ahead inc case</td>\n",
              "      <td>2020-11-07</td>\n",
              "      <td>42</td>\n",
              "      <td>point</td>\n",
              "      <td>NaN</td>\n",
              "      <td>15903.0</td>\n",
              "    </tr>\n",
              "    <tr>\n",
              "      <th>364</th>\n",
              "      <td>2020-10-25</td>\n",
              "      <td>3 wk ahead inc case</td>\n",
              "      <td>2020-11-14</td>\n",
              "      <td>42</td>\n",
              "      <td>point</td>\n",
              "      <td>NaN</td>\n",
              "      <td>14182.0</td>\n",
              "    </tr>\n",
              "    <tr>\n",
              "      <th>275</th>\n",
              "      <td>2020-11-01</td>\n",
              "      <td>2 wk ahead inc case</td>\n",
              "      <td>2020-11-14</td>\n",
              "      <td>42</td>\n",
              "      <td>point</td>\n",
              "      <td>NaN</td>\n",
              "      <td>17833.0</td>\n",
              "    </tr>\n",
              "    <tr>\n",
              "      <th>...</th>\n",
              "      <td>...</td>\n",
              "      <td>...</td>\n",
              "      <td>...</td>\n",
              "      <td>...</td>\n",
              "      <td>...</td>\n",
              "      <td>...</td>\n",
              "      <td>...</td>\n",
              "    </tr>\n",
              "    <tr>\n",
              "      <th>1762</th>\n",
              "      <td>2022-02-27</td>\n",
              "      <td>3 wk ahead inc case</td>\n",
              "      <td>2022-03-19</td>\n",
              "      <td>42</td>\n",
              "      <td>point</td>\n",
              "      <td>NaN</td>\n",
              "      <td>5434.0</td>\n",
              "    </tr>\n",
              "    <tr>\n",
              "      <th>1601</th>\n",
              "      <td>2022-03-06</td>\n",
              "      <td>2 wk ahead inc case</td>\n",
              "      <td>2022-03-19</td>\n",
              "      <td>42</td>\n",
              "      <td>point</td>\n",
              "      <td>NaN</td>\n",
              "      <td>3188.0</td>\n",
              "    </tr>\n",
              "    <tr>\n",
              "      <th>1602</th>\n",
              "      <td>2022-03-06</td>\n",
              "      <td>3 wk ahead inc case</td>\n",
              "      <td>2022-03-26</td>\n",
              "      <td>42</td>\n",
              "      <td>point</td>\n",
              "      <td>NaN</td>\n",
              "      <td>2206.0</td>\n",
              "    </tr>\n",
              "    <tr>\n",
              "      <th>1763</th>\n",
              "      <td>2022-02-27</td>\n",
              "      <td>4 wk ahead inc case</td>\n",
              "      <td>2022-03-26</td>\n",
              "      <td>42</td>\n",
              "      <td>point</td>\n",
              "      <td>NaN</td>\n",
              "      <td>3932.0</td>\n",
              "    </tr>\n",
              "    <tr>\n",
              "      <th>1603</th>\n",
              "      <td>2022-03-06</td>\n",
              "      <td>4 wk ahead inc case</td>\n",
              "      <td>2022-04-02</td>\n",
              "      <td>42</td>\n",
              "      <td>point</td>\n",
              "      <td>NaN</td>\n",
              "      <td>1626.0</td>\n",
              "    </tr>\n",
              "  </tbody>\n",
              "</table>\n",
              "<p>258 rows × 7 columns</p>\n",
              "</div>\n",
              "      <button class=\"colab-df-convert\" onclick=\"convertToInteractive('df-5ffe1729-f295-4577-968a-94d835f5249e')\"\n",
              "              title=\"Convert this dataframe to an interactive table.\"\n",
              "              style=\"display:none;\">\n",
              "        \n",
              "  <svg xmlns=\"http://www.w3.org/2000/svg\" height=\"24px\"viewBox=\"0 0 24 24\"\n",
              "       width=\"24px\">\n",
              "    <path d=\"M0 0h24v24H0V0z\" fill=\"none\"/>\n",
              "    <path d=\"M18.56 5.44l.94 2.06.94-2.06 2.06-.94-2.06-.94-.94-2.06-.94 2.06-2.06.94zm-11 1L8.5 8.5l.94-2.06 2.06-.94-2.06-.94L8.5 2.5l-.94 2.06-2.06.94zm10 10l.94 2.06.94-2.06 2.06-.94-2.06-.94-.94-2.06-.94 2.06-2.06.94z\"/><path d=\"M17.41 7.96l-1.37-1.37c-.4-.4-.92-.59-1.43-.59-.52 0-1.04.2-1.43.59L10.3 9.45l-7.72 7.72c-.78.78-.78 2.05 0 2.83L4 21.41c.39.39.9.59 1.41.59.51 0 1.02-.2 1.41-.59l7.78-7.78 2.81-2.81c.8-.78.8-2.07 0-2.86zM5.41 20L4 18.59l7.72-7.72 1.47 1.35L5.41 20z\"/>\n",
              "  </svg>\n",
              "      </button>\n",
              "      \n",
              "  <style>\n",
              "    .colab-df-container {\n",
              "      display:flex;\n",
              "      flex-wrap:wrap;\n",
              "      gap: 12px;\n",
              "    }\n",
              "\n",
              "    .colab-df-convert {\n",
              "      background-color: #E8F0FE;\n",
              "      border: none;\n",
              "      border-radius: 50%;\n",
              "      cursor: pointer;\n",
              "      display: none;\n",
              "      fill: #1967D2;\n",
              "      height: 32px;\n",
              "      padding: 0 0 0 0;\n",
              "      width: 32px;\n",
              "    }\n",
              "\n",
              "    .colab-df-convert:hover {\n",
              "      background-color: #E2EBFA;\n",
              "      box-shadow: 0px 1px 2px rgba(60, 64, 67, 0.3), 0px 1px 3px 1px rgba(60, 64, 67, 0.15);\n",
              "      fill: #174EA6;\n",
              "    }\n",
              "\n",
              "    [theme=dark] .colab-df-convert {\n",
              "      background-color: #3B4455;\n",
              "      fill: #D2E3FC;\n",
              "    }\n",
              "\n",
              "    [theme=dark] .colab-df-convert:hover {\n",
              "      background-color: #434B5C;\n",
              "      box-shadow: 0px 1px 3px 1px rgba(0, 0, 0, 0.15);\n",
              "      filter: drop-shadow(0px 1px 2px rgba(0, 0, 0, 0.3));\n",
              "      fill: #FFFFFF;\n",
              "    }\n",
              "  </style>\n",
              "\n",
              "      <script>\n",
              "        const buttonEl =\n",
              "          document.querySelector('#df-5ffe1729-f295-4577-968a-94d835f5249e button.colab-df-convert');\n",
              "        buttonEl.style.display =\n",
              "          google.colab.kernel.accessAllowed ? 'block' : 'none';\n",
              "\n",
              "        async function convertToInteractive(key) {\n",
              "          const element = document.querySelector('#df-5ffe1729-f295-4577-968a-94d835f5249e');\n",
              "          const dataTable =\n",
              "            await google.colab.kernel.invokeFunction('convertToInteractive',\n",
              "                                                     [key], {});\n",
              "          if (!dataTable) return;\n",
              "\n",
              "          const docLinkHtml = 'Like what you see? Visit the ' +\n",
              "            '<a target=\"_blank\" href=https://colab.research.google.com/notebooks/data_table.ipynb>data table notebook</a>'\n",
              "            + ' to learn more about interactive tables.';\n",
              "          element.innerHTML = '';\n",
              "          dataTable['output_type'] = 'display_data';\n",
              "          await google.colab.output.renderOutput(dataTable, element);\n",
              "          const docLink = document.createElement('div');\n",
              "          docLink.innerHTML = docLinkHtml;\n",
              "          element.appendChild(docLink);\n",
              "        }\n",
              "      </script>\n",
              "    </div>\n",
              "  </div>\n",
              "  "
            ]
          },
          "metadata": {},
          "execution_count": 8
        }
      ],
      "source": [
        "#sort datasets by date\n",
        "df1.sort_values(by='Date')\n",
        "df2.sort_values(by='target_end_date')"
      ]
    },
    {
      "cell_type": "code",
      "execution_count": 9,
      "id": "62636568",
      "metadata": {
        "id": "62636568",
        "outputId": "b182185e-f555-45bf-acd3-7fca3a96517f",
        "colab": {
          "base_uri": "https://localhost:8080/"
        }
      },
      "outputs": [
        {
          "output_type": "execute_result",
          "data": {
            "text/plain": [
              "(66, 7)"
            ]
          },
          "metadata": {},
          "execution_count": 9
        }
      ],
      "source": [
        "#filterinng out data for PA (FIPS code = 42)\n",
        "df2_2 = df2[df2['target'].str.contains('1')]\n",
        "df2_2.shape"
      ]
    },
    {
      "cell_type": "code",
      "execution_count": 10,
      "id": "e4c01c47",
      "metadata": {
        "id": "e4c01c47"
      },
      "outputs": [],
      "source": [
        "#finding weekly increase in cases in PA\n",
        "df_weekly=df2_2.groupby('target_end_date').agg('last').reset_index()\n",
        "df_weekly.rename(\n",
        "    columns={\"target_end_date\":\"Date\"},inplace=True)\n",
        "#df_weekly"
      ]
    },
    {
      "cell_type": "code",
      "execution_count": 36,
      "id": "c6e2730d",
      "metadata": {
        "id": "c6e2730d",
        "colab": {
          "base_uri": "https://localhost:8080/",
          "height": 206
        },
        "outputId": "37c402ac-da63-40c8-c432-ddf10dd5c1fe"
      },
      "outputs": [
        {
          "output_type": "execute_result",
          "data": {
            "text/plain": [
              "        Date forecast_date               target location   type  quantile  \\\n",
              "0 2020-10-31    2020-10-25  1 wk ahead inc case       42  point       NaN   \n",
              "1 2020-11-07    2020-11-01  1 wk ahead inc case       42  point       NaN   \n",
              "2 2020-11-14    2020-11-08  1 wk ahead inc case       42  point       NaN   \n",
              "3 2020-11-21    2020-11-15  1 wk ahead inc case       42  point       NaN   \n",
              "4 2020-11-28    2020-11-22  1 wk ahead inc case       42  point       NaN   \n",
              "\n",
              "     value      dayRate  \n",
              "0  12053.0  1721.857143  \n",
              "1  15903.0  2271.857143  \n",
              "2  21508.0  3072.571429  \n",
              "3  38796.0  5542.285714  \n",
              "4  53230.0  7604.285714  "
            ],
            "text/html": [
              "\n",
              "  <div id=\"df-f8c1ab68-480b-42e3-a0a7-883fcd1802fb\">\n",
              "    <div class=\"colab-df-container\">\n",
              "      <div>\n",
              "<style scoped>\n",
              "    .dataframe tbody tr th:only-of-type {\n",
              "        vertical-align: middle;\n",
              "    }\n",
              "\n",
              "    .dataframe tbody tr th {\n",
              "        vertical-align: top;\n",
              "    }\n",
              "\n",
              "    .dataframe thead th {\n",
              "        text-align: right;\n",
              "    }\n",
              "</style>\n",
              "<table border=\"1\" class=\"dataframe\">\n",
              "  <thead>\n",
              "    <tr style=\"text-align: right;\">\n",
              "      <th></th>\n",
              "      <th>Date</th>\n",
              "      <th>forecast_date</th>\n",
              "      <th>target</th>\n",
              "      <th>location</th>\n",
              "      <th>type</th>\n",
              "      <th>quantile</th>\n",
              "      <th>value</th>\n",
              "      <th>dayRate</th>\n",
              "    </tr>\n",
              "  </thead>\n",
              "  <tbody>\n",
              "    <tr>\n",
              "      <th>0</th>\n",
              "      <td>2020-10-31</td>\n",
              "      <td>2020-10-25</td>\n",
              "      <td>1 wk ahead inc case</td>\n",
              "      <td>42</td>\n",
              "      <td>point</td>\n",
              "      <td>NaN</td>\n",
              "      <td>12053.0</td>\n",
              "      <td>1721.857143</td>\n",
              "    </tr>\n",
              "    <tr>\n",
              "      <th>1</th>\n",
              "      <td>2020-11-07</td>\n",
              "      <td>2020-11-01</td>\n",
              "      <td>1 wk ahead inc case</td>\n",
              "      <td>42</td>\n",
              "      <td>point</td>\n",
              "      <td>NaN</td>\n",
              "      <td>15903.0</td>\n",
              "      <td>2271.857143</td>\n",
              "    </tr>\n",
              "    <tr>\n",
              "      <th>2</th>\n",
              "      <td>2020-11-14</td>\n",
              "      <td>2020-11-08</td>\n",
              "      <td>1 wk ahead inc case</td>\n",
              "      <td>42</td>\n",
              "      <td>point</td>\n",
              "      <td>NaN</td>\n",
              "      <td>21508.0</td>\n",
              "      <td>3072.571429</td>\n",
              "    </tr>\n",
              "    <tr>\n",
              "      <th>3</th>\n",
              "      <td>2020-11-21</td>\n",
              "      <td>2020-11-15</td>\n",
              "      <td>1 wk ahead inc case</td>\n",
              "      <td>42</td>\n",
              "      <td>point</td>\n",
              "      <td>NaN</td>\n",
              "      <td>38796.0</td>\n",
              "      <td>5542.285714</td>\n",
              "    </tr>\n",
              "    <tr>\n",
              "      <th>4</th>\n",
              "      <td>2020-11-28</td>\n",
              "      <td>2020-11-22</td>\n",
              "      <td>1 wk ahead inc case</td>\n",
              "      <td>42</td>\n",
              "      <td>point</td>\n",
              "      <td>NaN</td>\n",
              "      <td>53230.0</td>\n",
              "      <td>7604.285714</td>\n",
              "    </tr>\n",
              "  </tbody>\n",
              "</table>\n",
              "</div>\n",
              "      <button class=\"colab-df-convert\" onclick=\"convertToInteractive('df-f8c1ab68-480b-42e3-a0a7-883fcd1802fb')\"\n",
              "              title=\"Convert this dataframe to an interactive table.\"\n",
              "              style=\"display:none;\">\n",
              "        \n",
              "  <svg xmlns=\"http://www.w3.org/2000/svg\" height=\"24px\"viewBox=\"0 0 24 24\"\n",
              "       width=\"24px\">\n",
              "    <path d=\"M0 0h24v24H0V0z\" fill=\"none\"/>\n",
              "    <path d=\"M18.56 5.44l.94 2.06.94-2.06 2.06-.94-2.06-.94-.94-2.06-.94 2.06-2.06.94zm-11 1L8.5 8.5l.94-2.06 2.06-.94-2.06-.94L8.5 2.5l-.94 2.06-2.06.94zm10 10l.94 2.06.94-2.06 2.06-.94-2.06-.94-.94-2.06-.94 2.06-2.06.94z\"/><path d=\"M17.41 7.96l-1.37-1.37c-.4-.4-.92-.59-1.43-.59-.52 0-1.04.2-1.43.59L10.3 9.45l-7.72 7.72c-.78.78-.78 2.05 0 2.83L4 21.41c.39.39.9.59 1.41.59.51 0 1.02-.2 1.41-.59l7.78-7.78 2.81-2.81c.8-.78.8-2.07 0-2.86zM5.41 20L4 18.59l7.72-7.72 1.47 1.35L5.41 20z\"/>\n",
              "  </svg>\n",
              "      </button>\n",
              "      \n",
              "  <style>\n",
              "    .colab-df-container {\n",
              "      display:flex;\n",
              "      flex-wrap:wrap;\n",
              "      gap: 12px;\n",
              "    }\n",
              "\n",
              "    .colab-df-convert {\n",
              "      background-color: #E8F0FE;\n",
              "      border: none;\n",
              "      border-radius: 50%;\n",
              "      cursor: pointer;\n",
              "      display: none;\n",
              "      fill: #1967D2;\n",
              "      height: 32px;\n",
              "      padding: 0 0 0 0;\n",
              "      width: 32px;\n",
              "    }\n",
              "\n",
              "    .colab-df-convert:hover {\n",
              "      background-color: #E2EBFA;\n",
              "      box-shadow: 0px 1px 2px rgba(60, 64, 67, 0.3), 0px 1px 3px 1px rgba(60, 64, 67, 0.15);\n",
              "      fill: #174EA6;\n",
              "    }\n",
              "\n",
              "    [theme=dark] .colab-df-convert {\n",
              "      background-color: #3B4455;\n",
              "      fill: #D2E3FC;\n",
              "    }\n",
              "\n",
              "    [theme=dark] .colab-df-convert:hover {\n",
              "      background-color: #434B5C;\n",
              "      box-shadow: 0px 1px 3px 1px rgba(0, 0, 0, 0.15);\n",
              "      filter: drop-shadow(0px 1px 2px rgba(0, 0, 0, 0.3));\n",
              "      fill: #FFFFFF;\n",
              "    }\n",
              "  </style>\n",
              "\n",
              "      <script>\n",
              "        const buttonEl =\n",
              "          document.querySelector('#df-f8c1ab68-480b-42e3-a0a7-883fcd1802fb button.colab-df-convert');\n",
              "        buttonEl.style.display =\n",
              "          google.colab.kernel.accessAllowed ? 'block' : 'none';\n",
              "\n",
              "        async function convertToInteractive(key) {\n",
              "          const element = document.querySelector('#df-f8c1ab68-480b-42e3-a0a7-883fcd1802fb');\n",
              "          const dataTable =\n",
              "            await google.colab.kernel.invokeFunction('convertToInteractive',\n",
              "                                                     [key], {});\n",
              "          if (!dataTable) return;\n",
              "\n",
              "          const docLinkHtml = 'Like what you see? Visit the ' +\n",
              "            '<a target=\"_blank\" href=https://colab.research.google.com/notebooks/data_table.ipynb>data table notebook</a>'\n",
              "            + ' to learn more about interactive tables.';\n",
              "          element.innerHTML = '';\n",
              "          dataTable['output_type'] = 'display_data';\n",
              "          await google.colab.output.renderOutput(dataTable, element);\n",
              "          const docLink = document.createElement('div');\n",
              "          docLink.innerHTML = docLinkHtml;\n",
              "          element.appendChild(docLink);\n",
              "        }\n",
              "      </script>\n",
              "    </div>\n",
              "  </div>\n",
              "  "
            ]
          },
          "metadata": {},
          "execution_count": 36
        }
      ],
      "source": [
        "#creating a column for daily additions\n",
        "df_weekly[\"dayRate\"] = df_weekly[\"value\"] / 7\n",
        "mask = (df_weekly['Date'] <= '2021-12-01')\n",
        "df_weekly = df_weekly.loc[mask]\n",
        "df_weekly.head(5)"
      ]
    },
    {
      "cell_type": "code",
      "source": [
        "df_weekly.tail(5)"
      ],
      "metadata": {
        "colab": {
          "base_uri": "https://localhost:8080/",
          "height": 206
        },
        "id": "ToqMMcvqr5il",
        "outputId": "5cf18517-dc9f-44d9-c3b8-a04929a0f693"
      },
      "id": "ToqMMcvqr5il",
      "execution_count": 37,
      "outputs": [
        {
          "output_type": "execute_result",
          "data": {
            "text/plain": [
              "         Date forecast_date               target location   type  quantile  \\\n",
              "47 2021-10-30    2021-10-24  1 wk ahead inc case       42  point       NaN   \n",
              "48 2021-11-06    2021-10-31  1 wk ahead inc case       42  point       NaN   \n",
              "49 2021-11-13    2021-11-07  1 wk ahead inc case       42  point       NaN   \n",
              "50 2021-11-20    2021-11-14  1 wk ahead inc case       42  point       NaN   \n",
              "51 2021-11-27    2021-11-21  1 wk ahead inc case       42  point       NaN   \n",
              "\n",
              "      value      dayRate  \n",
              "47  26016.0  3716.571429  \n",
              "48  24734.0  3533.428571  \n",
              "49  27606.0  3943.714286  \n",
              "50  34828.0  4975.428571  \n",
              "51  45481.0  6497.285714  "
            ],
            "text/html": [
              "\n",
              "  <div id=\"df-d0721729-f356-4e24-bf23-aaa999af5cf7\">\n",
              "    <div class=\"colab-df-container\">\n",
              "      <div>\n",
              "<style scoped>\n",
              "    .dataframe tbody tr th:only-of-type {\n",
              "        vertical-align: middle;\n",
              "    }\n",
              "\n",
              "    .dataframe tbody tr th {\n",
              "        vertical-align: top;\n",
              "    }\n",
              "\n",
              "    .dataframe thead th {\n",
              "        text-align: right;\n",
              "    }\n",
              "</style>\n",
              "<table border=\"1\" class=\"dataframe\">\n",
              "  <thead>\n",
              "    <tr style=\"text-align: right;\">\n",
              "      <th></th>\n",
              "      <th>Date</th>\n",
              "      <th>forecast_date</th>\n",
              "      <th>target</th>\n",
              "      <th>location</th>\n",
              "      <th>type</th>\n",
              "      <th>quantile</th>\n",
              "      <th>value</th>\n",
              "      <th>dayRate</th>\n",
              "    </tr>\n",
              "  </thead>\n",
              "  <tbody>\n",
              "    <tr>\n",
              "      <th>47</th>\n",
              "      <td>2021-10-30</td>\n",
              "      <td>2021-10-24</td>\n",
              "      <td>1 wk ahead inc case</td>\n",
              "      <td>42</td>\n",
              "      <td>point</td>\n",
              "      <td>NaN</td>\n",
              "      <td>26016.0</td>\n",
              "      <td>3716.571429</td>\n",
              "    </tr>\n",
              "    <tr>\n",
              "      <th>48</th>\n",
              "      <td>2021-11-06</td>\n",
              "      <td>2021-10-31</td>\n",
              "      <td>1 wk ahead inc case</td>\n",
              "      <td>42</td>\n",
              "      <td>point</td>\n",
              "      <td>NaN</td>\n",
              "      <td>24734.0</td>\n",
              "      <td>3533.428571</td>\n",
              "    </tr>\n",
              "    <tr>\n",
              "      <th>49</th>\n",
              "      <td>2021-11-13</td>\n",
              "      <td>2021-11-07</td>\n",
              "      <td>1 wk ahead inc case</td>\n",
              "      <td>42</td>\n",
              "      <td>point</td>\n",
              "      <td>NaN</td>\n",
              "      <td>27606.0</td>\n",
              "      <td>3943.714286</td>\n",
              "    </tr>\n",
              "    <tr>\n",
              "      <th>50</th>\n",
              "      <td>2021-11-20</td>\n",
              "      <td>2021-11-14</td>\n",
              "      <td>1 wk ahead inc case</td>\n",
              "      <td>42</td>\n",
              "      <td>point</td>\n",
              "      <td>NaN</td>\n",
              "      <td>34828.0</td>\n",
              "      <td>4975.428571</td>\n",
              "    </tr>\n",
              "    <tr>\n",
              "      <th>51</th>\n",
              "      <td>2021-11-27</td>\n",
              "      <td>2021-11-21</td>\n",
              "      <td>1 wk ahead inc case</td>\n",
              "      <td>42</td>\n",
              "      <td>point</td>\n",
              "      <td>NaN</td>\n",
              "      <td>45481.0</td>\n",
              "      <td>6497.285714</td>\n",
              "    </tr>\n",
              "  </tbody>\n",
              "</table>\n",
              "</div>\n",
              "      <button class=\"colab-df-convert\" onclick=\"convertToInteractive('df-d0721729-f356-4e24-bf23-aaa999af5cf7')\"\n",
              "              title=\"Convert this dataframe to an interactive table.\"\n",
              "              style=\"display:none;\">\n",
              "        \n",
              "  <svg xmlns=\"http://www.w3.org/2000/svg\" height=\"24px\"viewBox=\"0 0 24 24\"\n",
              "       width=\"24px\">\n",
              "    <path d=\"M0 0h24v24H0V0z\" fill=\"none\"/>\n",
              "    <path d=\"M18.56 5.44l.94 2.06.94-2.06 2.06-.94-2.06-.94-.94-2.06-.94 2.06-2.06.94zm-11 1L8.5 8.5l.94-2.06 2.06-.94-2.06-.94L8.5 2.5l-.94 2.06-2.06.94zm10 10l.94 2.06.94-2.06 2.06-.94-2.06-.94-.94-2.06-.94 2.06-2.06.94z\"/><path d=\"M17.41 7.96l-1.37-1.37c-.4-.4-.92-.59-1.43-.59-.52 0-1.04.2-1.43.59L10.3 9.45l-7.72 7.72c-.78.78-.78 2.05 0 2.83L4 21.41c.39.39.9.59 1.41.59.51 0 1.02-.2 1.41-.59l7.78-7.78 2.81-2.81c.8-.78.8-2.07 0-2.86zM5.41 20L4 18.59l7.72-7.72 1.47 1.35L5.41 20z\"/>\n",
              "  </svg>\n",
              "      </button>\n",
              "      \n",
              "  <style>\n",
              "    .colab-df-container {\n",
              "      display:flex;\n",
              "      flex-wrap:wrap;\n",
              "      gap: 12px;\n",
              "    }\n",
              "\n",
              "    .colab-df-convert {\n",
              "      background-color: #E8F0FE;\n",
              "      border: none;\n",
              "      border-radius: 50%;\n",
              "      cursor: pointer;\n",
              "      display: none;\n",
              "      fill: #1967D2;\n",
              "      height: 32px;\n",
              "      padding: 0 0 0 0;\n",
              "      width: 32px;\n",
              "    }\n",
              "\n",
              "    .colab-df-convert:hover {\n",
              "      background-color: #E2EBFA;\n",
              "      box-shadow: 0px 1px 2px rgba(60, 64, 67, 0.3), 0px 1px 3px 1px rgba(60, 64, 67, 0.15);\n",
              "      fill: #174EA6;\n",
              "    }\n",
              "\n",
              "    [theme=dark] .colab-df-convert {\n",
              "      background-color: #3B4455;\n",
              "      fill: #D2E3FC;\n",
              "    }\n",
              "\n",
              "    [theme=dark] .colab-df-convert:hover {\n",
              "      background-color: #434B5C;\n",
              "      box-shadow: 0px 1px 3px 1px rgba(0, 0, 0, 0.15);\n",
              "      filter: drop-shadow(0px 1px 2px rgba(0, 0, 0, 0.3));\n",
              "      fill: #FFFFFF;\n",
              "    }\n",
              "  </style>\n",
              "\n",
              "      <script>\n",
              "        const buttonEl =\n",
              "          document.querySelector('#df-d0721729-f356-4e24-bf23-aaa999af5cf7 button.colab-df-convert');\n",
              "        buttonEl.style.display =\n",
              "          google.colab.kernel.accessAllowed ? 'block' : 'none';\n",
              "\n",
              "        async function convertToInteractive(key) {\n",
              "          const element = document.querySelector('#df-d0721729-f356-4e24-bf23-aaa999af5cf7');\n",
              "          const dataTable =\n",
              "            await google.colab.kernel.invokeFunction('convertToInteractive',\n",
              "                                                     [key], {});\n",
              "          if (!dataTable) return;\n",
              "\n",
              "          const docLinkHtml = 'Like what you see? Visit the ' +\n",
              "            '<a target=\"_blank\" href=https://colab.research.google.com/notebooks/data_table.ipynb>data table notebook</a>'\n",
              "            + ' to learn more about interactive tables.';\n",
              "          element.innerHTML = '';\n",
              "          dataTable['output_type'] = 'display_data';\n",
              "          await google.colab.output.renderOutput(dataTable, element);\n",
              "          const docLink = document.createElement('div');\n",
              "          docLink.innerHTML = docLinkHtml;\n",
              "          element.appendChild(docLink);\n",
              "        }\n",
              "      </script>\n",
              "    </div>\n",
              "  </div>\n",
              "  "
            ]
          },
          "metadata": {},
          "execution_count": 37
        }
      ]
    },
    {
      "cell_type": "code",
      "source": [
        "# creating a list of predictions from the model data\n",
        "predictions = []\n",
        "for i in df_weekly[\"dayRate\"]:\n",
        "    predictions.extend(repeat(i,7))\n",
        "#del predictions[-2:]\n",
        "#preds = pd.DataFrame(predictions)\n",
        "#preds.drop(preds.tail(2).index,inplace=True) \n",
        "print(predictions)"
      ],
      "metadata": {
        "colab": {
          "base_uri": "https://localhost:8080/"
        },
        "id": "7M7bH5ao6y_t",
        "outputId": "f479ba2b-7509-4d3c-ea93-3af51dd177e2"
      },
      "id": "7M7bH5ao6y_t",
      "execution_count": 31,
      "outputs": [
        {
          "output_type": "stream",
          "name": "stdout",
          "text": [
            "[1721.857142857143, 1721.857142857143, 1721.857142857143, 1721.857142857143, 1721.857142857143, 1721.857142857143, 1721.857142857143, 2271.8571428571427, 2271.8571428571427, 2271.8571428571427, 2271.8571428571427, 2271.8571428571427, 2271.8571428571427, 2271.8571428571427, 3072.5714285714284, 3072.5714285714284, 3072.5714285714284, 3072.5714285714284, 3072.5714285714284, 3072.5714285714284, 3072.5714285714284, 5542.285714285715, 5542.285714285715, 5542.285714285715, 5542.285714285715, 5542.285714285715, 5542.285714285715, 5542.285714285715, 7604.285714285715, 7604.285714285715, 7604.285714285715, 7604.285714285715, 7604.285714285715, 7604.285714285715, 7604.285714285715, 7482.714285714285, 7482.714285714285, 7482.714285714285, 7482.714285714285, 7482.714285714285, 7482.714285714285, 7482.714285714285, 7953.285714285715, 7953.285714285715, 7953.285714285715, 7953.285714285715, 7953.285714285715, 7953.285714285715, 7953.285714285715, 10669.857142857143, 10669.857142857143, 10669.857142857143, 10669.857142857143, 10669.857142857143, 10669.857142857143, 10669.857142857143, 10160.57142857143, 10160.57142857143, 10160.57142857143, 10160.57142857143, 10160.57142857143, 10160.57142857143, 10160.57142857143, 7594.857142857143, 7594.857142857143, 7594.857142857143, 7594.857142857143, 7594.857142857143, 7594.857142857143, 7594.857142857143, 4855.571428571428, 4855.571428571428, 4855.571428571428, 4855.571428571428, 4855.571428571428, 4855.571428571428, 4855.571428571428, 5931.428571428572, 5931.428571428572, 5931.428571428572, 5931.428571428572, 5931.428571428572, 5931.428571428572, 5931.428571428572, 3059.0, 3059.0, 3059.0, 3059.0, 3059.0, 3059.0, 3059.0, 3624.285714285714, 3624.285714285714, 3624.285714285714, 3624.285714285714, 3624.285714285714, 3624.285714285714, 3624.285714285714, 2641.0, 2641.0, 2641.0, 2641.0, 2641.0, 2641.0, 2641.0, 2384.8571428571427, 2384.8571428571427, 2384.8571428571427, 2384.8571428571427, 2384.8571428571427, 2384.8571428571427, 2384.8571428571427, 2629.714285714286, 2629.714285714286, 2629.714285714286, 2629.714285714286, 2629.714285714286, 2629.714285714286, 2629.714285714286, 2636.4285714285716, 2636.4285714285716, 2636.4285714285716, 2636.4285714285716, 2636.4285714285716, 2636.4285714285716, 2636.4285714285716, 3163.4285714285716, 3163.4285714285716, 3163.4285714285716, 3163.4285714285716, 3163.4285714285716, 3163.4285714285716, 3163.4285714285716, 4052.4285714285716, 4052.4285714285716, 4052.4285714285716, 4052.4285714285716, 4052.4285714285716, 4052.4285714285716, 4052.4285714285716, 4457.857142857143, 4457.857142857143, 4457.857142857143, 4457.857142857143, 4457.857142857143, 4457.857142857143, 4457.857142857143, 4669.785714285715, 4669.785714285715, 4669.785714285715, 4669.785714285715, 4669.785714285715, 4669.785714285715, 4669.785714285715, 5073.571428571428, 5073.571428571428, 5073.571428571428, 5073.571428571428, 5073.571428571428, 5073.571428571428, 5073.571428571428, 4080.1428571428573, 4080.1428571428573, 4080.1428571428573, 4080.1428571428573, 4080.1428571428573, 4080.1428571428573, 4080.1428571428573, 2676.0714285714284, 2676.0714285714284, 2676.0714285714284, 2676.0714285714284, 2676.0714285714284, 2676.0714285714284, 2676.0714285714284, 2535.0, 2535.0, 2535.0, 2535.0, 2535.0, 2535.0, 2535.0, 1702.0, 1702.0, 1702.0, 1702.0, 1702.0, 1702.0, 1702.0, 1370.857142857143, 1370.857142857143, 1370.857142857143, 1370.857142857143, 1370.857142857143, 1370.857142857143, 1370.857142857143, 888.7142857142857, 888.7142857142857, 888.7142857142857, 888.7142857142857, 888.7142857142857, 888.7142857142857, 888.7142857142857, 368.42857142857144, 368.42857142857144, 368.42857142857144, 368.42857142857144, 368.42857142857144, 368.42857142857144, 368.42857142857144, 372.57142857142856, 372.57142857142856, 372.57142857142856, 372.57142857142856, 372.57142857142856, 372.57142857142856, 372.57142857142856, 272.2857142857143, 272.2857142857143, 272.2857142857143, 272.2857142857143, 272.2857142857143, 272.2857142857143, 272.2857142857143, 157.14285714285714, 157.14285714285714, 157.14285714285714, 157.14285714285714, 157.14285714285714, 157.14285714285714, 157.14285714285714, 165.28571428571428, 165.28571428571428, 165.28571428571428, 165.28571428571428, 165.28571428571428, 165.28571428571428, 165.28571428571428, 161.42857142857142, 161.42857142857142, 161.42857142857142, 161.42857142857142, 161.42857142857142, 161.42857142857142, 161.42857142857142, 336.0, 336.0, 336.0, 336.0, 336.0, 336.0, 336.0, 619.7142857142857, 619.7142857142857, 619.7142857142857, 619.7142857142857, 619.7142857142857, 619.7142857142857, 619.7142857142857, 1012.1428571428571, 1012.1428571428571, 1012.1428571428571, 1012.1428571428571, 1012.1428571428571, 1012.1428571428571, 1012.1428571428571, 1866.142857142857, 1866.142857142857, 1866.142857142857, 1866.142857142857, 1866.142857142857, 1866.142857142857, 1866.142857142857, 2219.714285714286, 2219.714285714286, 2219.714285714286, 2219.714285714286, 2219.714285714286, 2219.714285714286, 2219.714285714286, 2604.4285714285716, 2604.4285714285716, 2604.4285714285716, 2604.4285714285716, 2604.4285714285716, 2604.4285714285716, 2604.4285714285716, 3245.714285714286, 3245.714285714286, 3245.714285714286, 3245.714285714286, 3245.714285714286, 3245.714285714286, 3245.714285714286, 3755.714285714286, 3755.714285714286, 3755.714285714286, 3755.714285714286, 3755.714285714286, 3755.714285714286, 3755.714285714286, 3864.0, 3864.0, 3864.0, 3864.0, 3864.0, 3864.0, 3864.0, 4277.714285714285, 4277.714285714285, 4277.714285714285, 4277.714285714285, 4277.714285714285, 4277.714285714285, 4277.714285714285, 4619.714285714285, 4619.714285714285, 4619.714285714285, 4619.714285714285, 4619.714285714285, 4619.714285714285, 4619.714285714285, 4302.142857142857, 4302.142857142857, 4302.142857142857, 4302.142857142857, 4302.142857142857, 4302.142857142857, 4302.142857142857, 3716.5714285714284, 3716.5714285714284, 3716.5714285714284, 3716.5714285714284, 3716.5714285714284, 3716.5714285714284, 3716.5714285714284, 3533.4285714285716, 3533.4285714285716, 3533.4285714285716, 3533.4285714285716, 3533.4285714285716, 3533.4285714285716, 3533.4285714285716, 3943.714285714286, 3943.714285714286, 3943.714285714286, 3943.714285714286, 3943.714285714286, 3943.714285714286, 3943.714285714286, 4975.428571428572, 4975.428571428572, 4975.428571428572, 4975.428571428572, 4975.428571428572, 4975.428571428572, 4975.428571428572, 6497.285714285715, 6497.285714285715, 6497.285714285715, 6497.285714285715, 6497.285714285715, 6497.285714285715, 6497.285714285715, 6592.0, 6592.0, 6592.0, 6592.0, 6592.0, 6592.0, 6592.0, 7366.571428571428, 7366.571428571428, 7366.571428571428, 7366.571428571428, 7366.571428571428, 7366.571428571428, 7366.571428571428, 8397.0, 8397.0, 8397.0, 8397.0, 8397.0, 8397.0, 8397.0, 8064.428571428572, 8064.428571428572, 8064.428571428572, 8064.428571428572, 8064.428571428572, 8064.428571428572, 8064.428571428572, 8880.857142857143, 8880.857142857143, 8880.857142857143, 8880.857142857143, 8880.857142857143, 8880.857142857143, 8880.857142857143]\n"
          ]
        }
      ]
    },
    {
      "cell_type": "code",
      "source": [
        "len(predictions)"
      ],
      "metadata": {
        "colab": {
          "base_uri": "https://localhost:8080/"
        },
        "id": "bAUxPUYG5gaj",
        "outputId": "11d39511-7ad8-480b-d063-077fbf67e331"
      },
      "id": "bAUxPUYG5gaj",
      "execution_count": 38,
      "outputs": [
        {
          "output_type": "execute_result",
          "data": {
            "text/plain": [
              "399"
            ]
          },
          "metadata": {},
          "execution_count": 38
        }
      ]
    },
    {
      "cell_type": "code",
      "execution_count": 42,
      "id": "65a9fbb1",
      "metadata": {
        "id": "65a9fbb1",
        "outputId": "35cec439-5e67-4d58-804e-acfd74579d79",
        "colab": {
          "base_uri": "https://localhost:8080/",
          "height": 206
        }
      },
      "outputs": [
        {
          "output_type": "execute_result",
          "data": {
            "text/plain": [
              "        Date  New Cases  7-day Average New Cases  \\\n",
              "0 2020-10-31       4168                   4555.9   \n",
              "1 2020-11-01       3936                   4641.3   \n",
              "2 2020-11-02       5908                   4809.2   \n",
              "3 2020-11-03       5528                   4948.0   \n",
              "4 2020-11-04       5874                   5100.1   \n",
              "\n",
              "   Cumulative cases                            Population (2019)  \\\n",
              "0                                      431094           25603978   \n",
              "1                                      435030           25603978   \n",
              "2                                      440938           25603978   \n",
              "3                                      446466           25603978   \n",
              "4                                      452340           25603978   \n",
              "\n",
              "   New Case Rate  7-Day Average New Case Rate  Cumulative Case Rate  \\\n",
              "0         1171.7                       1213.2               83007.2   \n",
              "1         1242.5                       1288.5               84249.5   \n",
              "2         1546.0                       1314.8               85795.4   \n",
              "3         1591.3                       1377.5               87386.6   \n",
              "4         1720.1                       1447.0               89107.6   \n",
              "\n",
              "   County FIPS Code    Longitude     Latitude  \n",
              "0           2860489 -5275.682283  2774.207671  \n",
              "1           2860489 -5275.682283  2774.207671  \n",
              "2           2860489 -5275.682283  2774.207671  \n",
              "3           2860489 -5275.682283  2774.207671  \n",
              "4           2860489 -5275.682283  2774.207671  "
            ],
            "text/html": [
              "\n",
              "  <div id=\"df-fcdaa5c8-6c1f-42fe-a8d6-699cbd9153db\">\n",
              "    <div class=\"colab-df-container\">\n",
              "      <div>\n",
              "<style scoped>\n",
              "    .dataframe tbody tr th:only-of-type {\n",
              "        vertical-align: middle;\n",
              "    }\n",
              "\n",
              "    .dataframe tbody tr th {\n",
              "        vertical-align: top;\n",
              "    }\n",
              "\n",
              "    .dataframe thead th {\n",
              "        text-align: right;\n",
              "    }\n",
              "</style>\n",
              "<table border=\"1\" class=\"dataframe\">\n",
              "  <thead>\n",
              "    <tr style=\"text-align: right;\">\n",
              "      <th></th>\n",
              "      <th>Date</th>\n",
              "      <th>New Cases</th>\n",
              "      <th>7-day Average New Cases</th>\n",
              "      <th>Cumulative cases</th>\n",
              "      <th>Population (2019)</th>\n",
              "      <th>New Case Rate</th>\n",
              "      <th>7-Day Average New Case Rate</th>\n",
              "      <th>Cumulative Case Rate</th>\n",
              "      <th>County FIPS Code</th>\n",
              "      <th>Longitude</th>\n",
              "      <th>Latitude</th>\n",
              "    </tr>\n",
              "  </thead>\n",
              "  <tbody>\n",
              "    <tr>\n",
              "      <th>0</th>\n",
              "      <td>2020-10-31</td>\n",
              "      <td>4168</td>\n",
              "      <td>4555.9</td>\n",
              "      <td>431094</td>\n",
              "      <td>25603978</td>\n",
              "      <td>1171.7</td>\n",
              "      <td>1213.2</td>\n",
              "      <td>83007.2</td>\n",
              "      <td>2860489</td>\n",
              "      <td>-5275.682283</td>\n",
              "      <td>2774.207671</td>\n",
              "    </tr>\n",
              "    <tr>\n",
              "      <th>1</th>\n",
              "      <td>2020-11-01</td>\n",
              "      <td>3936</td>\n",
              "      <td>4641.3</td>\n",
              "      <td>435030</td>\n",
              "      <td>25603978</td>\n",
              "      <td>1242.5</td>\n",
              "      <td>1288.5</td>\n",
              "      <td>84249.5</td>\n",
              "      <td>2860489</td>\n",
              "      <td>-5275.682283</td>\n",
              "      <td>2774.207671</td>\n",
              "    </tr>\n",
              "    <tr>\n",
              "      <th>2</th>\n",
              "      <td>2020-11-02</td>\n",
              "      <td>5908</td>\n",
              "      <td>4809.2</td>\n",
              "      <td>440938</td>\n",
              "      <td>25603978</td>\n",
              "      <td>1546.0</td>\n",
              "      <td>1314.8</td>\n",
              "      <td>85795.4</td>\n",
              "      <td>2860489</td>\n",
              "      <td>-5275.682283</td>\n",
              "      <td>2774.207671</td>\n",
              "    </tr>\n",
              "    <tr>\n",
              "      <th>3</th>\n",
              "      <td>2020-11-03</td>\n",
              "      <td>5528</td>\n",
              "      <td>4948.0</td>\n",
              "      <td>446466</td>\n",
              "      <td>25603978</td>\n",
              "      <td>1591.3</td>\n",
              "      <td>1377.5</td>\n",
              "      <td>87386.6</td>\n",
              "      <td>2860489</td>\n",
              "      <td>-5275.682283</td>\n",
              "      <td>2774.207671</td>\n",
              "    </tr>\n",
              "    <tr>\n",
              "      <th>4</th>\n",
              "      <td>2020-11-04</td>\n",
              "      <td>5874</td>\n",
              "      <td>5100.1</td>\n",
              "      <td>452340</td>\n",
              "      <td>25603978</td>\n",
              "      <td>1720.1</td>\n",
              "      <td>1447.0</td>\n",
              "      <td>89107.6</td>\n",
              "      <td>2860489</td>\n",
              "      <td>-5275.682283</td>\n",
              "      <td>2774.207671</td>\n",
              "    </tr>\n",
              "  </tbody>\n",
              "</table>\n",
              "</div>\n",
              "      <button class=\"colab-df-convert\" onclick=\"convertToInteractive('df-fcdaa5c8-6c1f-42fe-a8d6-699cbd9153db')\"\n",
              "              title=\"Convert this dataframe to an interactive table.\"\n",
              "              style=\"display:none;\">\n",
              "        \n",
              "  <svg xmlns=\"http://www.w3.org/2000/svg\" height=\"24px\"viewBox=\"0 0 24 24\"\n",
              "       width=\"24px\">\n",
              "    <path d=\"M0 0h24v24H0V0z\" fill=\"none\"/>\n",
              "    <path d=\"M18.56 5.44l.94 2.06.94-2.06 2.06-.94-2.06-.94-.94-2.06-.94 2.06-2.06.94zm-11 1L8.5 8.5l.94-2.06 2.06-.94-2.06-.94L8.5 2.5l-.94 2.06-2.06.94zm10 10l.94 2.06.94-2.06 2.06-.94-2.06-.94-.94-2.06-.94 2.06-2.06.94z\"/><path d=\"M17.41 7.96l-1.37-1.37c-.4-.4-.92-.59-1.43-.59-.52 0-1.04.2-1.43.59L10.3 9.45l-7.72 7.72c-.78.78-.78 2.05 0 2.83L4 21.41c.39.39.9.59 1.41.59.51 0 1.02-.2 1.41-.59l7.78-7.78 2.81-2.81c.8-.78.8-2.07 0-2.86zM5.41 20L4 18.59l7.72-7.72 1.47 1.35L5.41 20z\"/>\n",
              "  </svg>\n",
              "      </button>\n",
              "      \n",
              "  <style>\n",
              "    .colab-df-container {\n",
              "      display:flex;\n",
              "      flex-wrap:wrap;\n",
              "      gap: 12px;\n",
              "    }\n",
              "\n",
              "    .colab-df-convert {\n",
              "      background-color: #E8F0FE;\n",
              "      border: none;\n",
              "      border-radius: 50%;\n",
              "      cursor: pointer;\n",
              "      display: none;\n",
              "      fill: #1967D2;\n",
              "      height: 32px;\n",
              "      padding: 0 0 0 0;\n",
              "      width: 32px;\n",
              "    }\n",
              "\n",
              "    .colab-df-convert:hover {\n",
              "      background-color: #E2EBFA;\n",
              "      box-shadow: 0px 1px 2px rgba(60, 64, 67, 0.3), 0px 1px 3px 1px rgba(60, 64, 67, 0.15);\n",
              "      fill: #174EA6;\n",
              "    }\n",
              "\n",
              "    [theme=dark] .colab-df-convert {\n",
              "      background-color: #3B4455;\n",
              "      fill: #D2E3FC;\n",
              "    }\n",
              "\n",
              "    [theme=dark] .colab-df-convert:hover {\n",
              "      background-color: #434B5C;\n",
              "      box-shadow: 0px 1px 3px 1px rgba(0, 0, 0, 0.15);\n",
              "      filter: drop-shadow(0px 1px 2px rgba(0, 0, 0, 0.3));\n",
              "      fill: #FFFFFF;\n",
              "    }\n",
              "  </style>\n",
              "\n",
              "      <script>\n",
              "        const buttonEl =\n",
              "          document.querySelector('#df-fcdaa5c8-6c1f-42fe-a8d6-699cbd9153db button.colab-df-convert');\n",
              "        buttonEl.style.display =\n",
              "          google.colab.kernel.accessAllowed ? 'block' : 'none';\n",
              "\n",
              "        async function convertToInteractive(key) {\n",
              "          const element = document.querySelector('#df-fcdaa5c8-6c1f-42fe-a8d6-699cbd9153db');\n",
              "          const dataTable =\n",
              "            await google.colab.kernel.invokeFunction('convertToInteractive',\n",
              "                                                     [key], {});\n",
              "          if (!dataTable) return;\n",
              "\n",
              "          const docLinkHtml = 'Like what you see? Visit the ' +\n",
              "            '<a target=\"_blank\" href=https://colab.research.google.com/notebooks/data_table.ipynb>data table notebook</a>'\n",
              "            + ' to learn more about interactive tables.';\n",
              "          element.innerHTML = '';\n",
              "          dataTable['output_type'] = 'display_data';\n",
              "          await google.colab.output.renderOutput(dataTable, element);\n",
              "          const docLink = document.createElement('div');\n",
              "          docLink.innerHTML = docLinkHtml;\n",
              "          element.appendChild(docLink);\n",
              "        }\n",
              "      </script>\n",
              "    </div>\n",
              "  </div>\n",
              "  "
            ]
          },
          "metadata": {},
          "execution_count": 42
        }
      ],
      "source": [
        "#select all the dates to be merged with prediction list\n",
        "mask = (df1['Date'] >= '2020-10-31') & (df1['Date'] <= '2021-12-03')\n",
        "df1_copy = df1.loc[mask]\n",
        "df1_copy = df1_copy.groupby([\"Date\"]).sum().reset_index()\n",
        "df1_copy.head(5)"
      ]
    },
    {
      "cell_type": "code",
      "source": [
        "df1_copy.tail(5)"
      ],
      "metadata": {
        "colab": {
          "base_uri": "https://localhost:8080/",
          "height": 206
        },
        "id": "VO9-NkqEiLQr",
        "outputId": "c8010670-2a39-48d5-f866-6364860c1308"
      },
      "id": "VO9-NkqEiLQr",
      "execution_count": 43,
      "outputs": [
        {
          "output_type": "execute_result",
          "data": {
            "text/plain": [
              "          Date  New Cases  7-day Average New Cases  \\\n",
              "394 2021-11-29      12574                  11419.1   \n",
              "395 2021-11-30      14556                  11488.9   \n",
              "396 2021-12-01      18598                  12154.4   \n",
              "397 2021-12-02      21826                  13648.1   \n",
              "398 2021-12-03      17074                  14725.1   \n",
              "\n",
              "     Cumulative cases                            Population (2019)  \\\n",
              "394                                     3477834           25603978   \n",
              "395                                     3492390           25603978   \n",
              "396                                     3510988           25603978   \n",
              "397                                     3532814           25603978   \n",
              "398                                     3549888           25603978   \n",
              "\n",
              "     New Case Rate  7-Day Average New Case Rate  Cumulative Case Rate  \\\n",
              "394         4359.1                       3784.8              995228.6   \n",
              "395         5049.8                       3785.6             1000278.8   \n",
              "396         6128.1                       3968.4             1006406.6   \n",
              "397         6874.2                       4440.6             1013280.8   \n",
              "398         5585.3                       4783.9             1018866.1   \n",
              "\n",
              "     County FIPS Code    Longitude     Latitude  \n",
              "394           2860489 -5275.682283  2774.207671  \n",
              "395           2860489 -5275.682283  2774.207671  \n",
              "396           2860489 -5275.682283  2774.207671  \n",
              "397           2860489 -5275.682283  2774.207671  \n",
              "398           2860489 -5275.682283  2774.207671  "
            ],
            "text/html": [
              "\n",
              "  <div id=\"df-643e927a-07f7-4e63-aa1c-017feac5ee5a\">\n",
              "    <div class=\"colab-df-container\">\n",
              "      <div>\n",
              "<style scoped>\n",
              "    .dataframe tbody tr th:only-of-type {\n",
              "        vertical-align: middle;\n",
              "    }\n",
              "\n",
              "    .dataframe tbody tr th {\n",
              "        vertical-align: top;\n",
              "    }\n",
              "\n",
              "    .dataframe thead th {\n",
              "        text-align: right;\n",
              "    }\n",
              "</style>\n",
              "<table border=\"1\" class=\"dataframe\">\n",
              "  <thead>\n",
              "    <tr style=\"text-align: right;\">\n",
              "      <th></th>\n",
              "      <th>Date</th>\n",
              "      <th>New Cases</th>\n",
              "      <th>7-day Average New Cases</th>\n",
              "      <th>Cumulative cases</th>\n",
              "      <th>Population (2019)</th>\n",
              "      <th>New Case Rate</th>\n",
              "      <th>7-Day Average New Case Rate</th>\n",
              "      <th>Cumulative Case Rate</th>\n",
              "      <th>County FIPS Code</th>\n",
              "      <th>Longitude</th>\n",
              "      <th>Latitude</th>\n",
              "    </tr>\n",
              "  </thead>\n",
              "  <tbody>\n",
              "    <tr>\n",
              "      <th>394</th>\n",
              "      <td>2021-11-29</td>\n",
              "      <td>12574</td>\n",
              "      <td>11419.1</td>\n",
              "      <td>3477834</td>\n",
              "      <td>25603978</td>\n",
              "      <td>4359.1</td>\n",
              "      <td>3784.8</td>\n",
              "      <td>995228.6</td>\n",
              "      <td>2860489</td>\n",
              "      <td>-5275.682283</td>\n",
              "      <td>2774.207671</td>\n",
              "    </tr>\n",
              "    <tr>\n",
              "      <th>395</th>\n",
              "      <td>2021-11-30</td>\n",
              "      <td>14556</td>\n",
              "      <td>11488.9</td>\n",
              "      <td>3492390</td>\n",
              "      <td>25603978</td>\n",
              "      <td>5049.8</td>\n",
              "      <td>3785.6</td>\n",
              "      <td>1000278.8</td>\n",
              "      <td>2860489</td>\n",
              "      <td>-5275.682283</td>\n",
              "      <td>2774.207671</td>\n",
              "    </tr>\n",
              "    <tr>\n",
              "      <th>396</th>\n",
              "      <td>2021-12-01</td>\n",
              "      <td>18598</td>\n",
              "      <td>12154.4</td>\n",
              "      <td>3510988</td>\n",
              "      <td>25603978</td>\n",
              "      <td>6128.1</td>\n",
              "      <td>3968.4</td>\n",
              "      <td>1006406.6</td>\n",
              "      <td>2860489</td>\n",
              "      <td>-5275.682283</td>\n",
              "      <td>2774.207671</td>\n",
              "    </tr>\n",
              "    <tr>\n",
              "      <th>397</th>\n",
              "      <td>2021-12-02</td>\n",
              "      <td>21826</td>\n",
              "      <td>13648.1</td>\n",
              "      <td>3532814</td>\n",
              "      <td>25603978</td>\n",
              "      <td>6874.2</td>\n",
              "      <td>4440.6</td>\n",
              "      <td>1013280.8</td>\n",
              "      <td>2860489</td>\n",
              "      <td>-5275.682283</td>\n",
              "      <td>2774.207671</td>\n",
              "    </tr>\n",
              "    <tr>\n",
              "      <th>398</th>\n",
              "      <td>2021-12-03</td>\n",
              "      <td>17074</td>\n",
              "      <td>14725.1</td>\n",
              "      <td>3549888</td>\n",
              "      <td>25603978</td>\n",
              "      <td>5585.3</td>\n",
              "      <td>4783.9</td>\n",
              "      <td>1018866.1</td>\n",
              "      <td>2860489</td>\n",
              "      <td>-5275.682283</td>\n",
              "      <td>2774.207671</td>\n",
              "    </tr>\n",
              "  </tbody>\n",
              "</table>\n",
              "</div>\n",
              "      <button class=\"colab-df-convert\" onclick=\"convertToInteractive('df-643e927a-07f7-4e63-aa1c-017feac5ee5a')\"\n",
              "              title=\"Convert this dataframe to an interactive table.\"\n",
              "              style=\"display:none;\">\n",
              "        \n",
              "  <svg xmlns=\"http://www.w3.org/2000/svg\" height=\"24px\"viewBox=\"0 0 24 24\"\n",
              "       width=\"24px\">\n",
              "    <path d=\"M0 0h24v24H0V0z\" fill=\"none\"/>\n",
              "    <path d=\"M18.56 5.44l.94 2.06.94-2.06 2.06-.94-2.06-.94-.94-2.06-.94 2.06-2.06.94zm-11 1L8.5 8.5l.94-2.06 2.06-.94-2.06-.94L8.5 2.5l-.94 2.06-2.06.94zm10 10l.94 2.06.94-2.06 2.06-.94-2.06-.94-.94-2.06-.94 2.06-2.06.94z\"/><path d=\"M17.41 7.96l-1.37-1.37c-.4-.4-.92-.59-1.43-.59-.52 0-1.04.2-1.43.59L10.3 9.45l-7.72 7.72c-.78.78-.78 2.05 0 2.83L4 21.41c.39.39.9.59 1.41.59.51 0 1.02-.2 1.41-.59l7.78-7.78 2.81-2.81c.8-.78.8-2.07 0-2.86zM5.41 20L4 18.59l7.72-7.72 1.47 1.35L5.41 20z\"/>\n",
              "  </svg>\n",
              "      </button>\n",
              "      \n",
              "  <style>\n",
              "    .colab-df-container {\n",
              "      display:flex;\n",
              "      flex-wrap:wrap;\n",
              "      gap: 12px;\n",
              "    }\n",
              "\n",
              "    .colab-df-convert {\n",
              "      background-color: #E8F0FE;\n",
              "      border: none;\n",
              "      border-radius: 50%;\n",
              "      cursor: pointer;\n",
              "      display: none;\n",
              "      fill: #1967D2;\n",
              "      height: 32px;\n",
              "      padding: 0 0 0 0;\n",
              "      width: 32px;\n",
              "    }\n",
              "\n",
              "    .colab-df-convert:hover {\n",
              "      background-color: #E2EBFA;\n",
              "      box-shadow: 0px 1px 2px rgba(60, 64, 67, 0.3), 0px 1px 3px 1px rgba(60, 64, 67, 0.15);\n",
              "      fill: #174EA6;\n",
              "    }\n",
              "\n",
              "    [theme=dark] .colab-df-convert {\n",
              "      background-color: #3B4455;\n",
              "      fill: #D2E3FC;\n",
              "    }\n",
              "\n",
              "    [theme=dark] .colab-df-convert:hover {\n",
              "      background-color: #434B5C;\n",
              "      box-shadow: 0px 1px 3px 1px rgba(0, 0, 0, 0.15);\n",
              "      filter: drop-shadow(0px 1px 2px rgba(0, 0, 0, 0.3));\n",
              "      fill: #FFFFFF;\n",
              "    }\n",
              "  </style>\n",
              "\n",
              "      <script>\n",
              "        const buttonEl =\n",
              "          document.querySelector('#df-643e927a-07f7-4e63-aa1c-017feac5ee5a button.colab-df-convert');\n",
              "        buttonEl.style.display =\n",
              "          google.colab.kernel.accessAllowed ? 'block' : 'none';\n",
              "\n",
              "        async function convertToInteractive(key) {\n",
              "          const element = document.querySelector('#df-643e927a-07f7-4e63-aa1c-017feac5ee5a');\n",
              "          const dataTable =\n",
              "            await google.colab.kernel.invokeFunction('convertToInteractive',\n",
              "                                                     [key], {});\n",
              "          if (!dataTable) return;\n",
              "\n",
              "          const docLinkHtml = 'Like what you see? Visit the ' +\n",
              "            '<a target=\"_blank\" href=https://colab.research.google.com/notebooks/data_table.ipynb>data table notebook</a>'\n",
              "            + ' to learn more about interactive tables.';\n",
              "          element.innerHTML = '';\n",
              "          dataTable['output_type'] = 'display_data';\n",
              "          await google.colab.output.renderOutput(dataTable, element);\n",
              "          const docLink = document.createElement('div');\n",
              "          docLink.innerHTML = docLinkHtml;\n",
              "          element.appendChild(docLink);\n",
              "        }\n",
              "      </script>\n",
              "    </div>\n",
              "  </div>\n",
              "  "
            ]
          },
          "metadata": {},
          "execution_count": 43
        }
      ]
    },
    {
      "cell_type": "code",
      "source": [
        "len(df1_copy)"
      ],
      "metadata": {
        "colab": {
          "base_uri": "https://localhost:8080/"
        },
        "id": "E4GmTswG-Max",
        "outputId": "6f6e6b9e-3e2f-4af9-d7b3-97f3df332c03"
      },
      "id": "E4GmTswG-Max",
      "execution_count": 44,
      "outputs": [
        {
          "output_type": "execute_result",
          "data": {
            "text/plain": [
              "399"
            ]
          },
          "metadata": {},
          "execution_count": 44
        }
      ]
    },
    {
      "cell_type": "code",
      "source": [
        "# assigning predictions list to the actual dataframe\n",
        "df1_copy['Prediction'] = predictions"
      ],
      "metadata": {
        "id": "7HHOfOpl4JA2"
      },
      "id": "7HHOfOpl4JA2",
      "execution_count": 45,
      "outputs": []
    },
    {
      "cell_type": "code",
      "source": [
        "df1_copy.head(20)"
      ],
      "metadata": {
        "id": "a8HZNoDm5m-p"
      },
      "id": "a8HZNoDm5m-p",
      "execution_count": null,
      "outputs": []
    },
    {
      "cell_type": "code",
      "source": [
        "# renaming the dataframe for graphing\n",
        "merged_df_new = df1_copy"
      ],
      "metadata": {
        "id": "tB3yrsBFBVzZ"
      },
      "id": "tB3yrsBFBVzZ",
      "execution_count": 47,
      "outputs": []
    },
    {
      "cell_type": "code",
      "source": [
        "merged_df_new.shape"
      ],
      "metadata": {
        "colab": {
          "base_uri": "https://localhost:8080/"
        },
        "id": "D_rU8Xdc6NUr",
        "outputId": "d73eaf18-4a68-42c5-f0c1-5031ebf74fec"
      },
      "id": "D_rU8Xdc6NUr",
      "execution_count": 48,
      "outputs": [
        {
          "output_type": "execute_result",
          "data": {
            "text/plain": [
              "(399, 12)"
            ]
          },
          "metadata": {},
          "execution_count": 48
        }
      ]
    },
    {
      "cell_type": "code",
      "execution_count": 49,
      "id": "d516c1b3",
      "metadata": {
        "id": "d516c1b3",
        "colab": {
          "base_uri": "https://localhost:8080/",
          "height": 295
        },
        "outputId": "0048e6d9-6c07-4548-8113-18f0e31d6fad"
      },
      "outputs": [
        {
          "output_type": "display_data",
          "data": {
            "text/plain": [
              "<Figure size 432x288 with 1 Axes>"
            ],
            "image/png": "[encoded data removed]"
          },
          "metadata": {
            "needs_background": "light"
          }
        }
      ],
      "source": [
        "#Create plot of Actual vs. Predicted Cases\n",
        "\n",
        "#Actual Cases Line\n",
        "plt.plot(merged_df_new['Date'], merged_df_new['New Cases'], color='g', label='Actual Cases')\n",
        "\n",
        "#Predicted Cases Line\n",
        "plt.plot(merged_df_new['Date'], merged_df_new['Prediction'], color='r', label='Predicted Cases')\n",
        "\n",
        "#Create XY Labels and Title\n",
        "plt.xlabel('Date (Year/Month/Day)') \n",
        "plt.ylabel('Number of Cases') \n",
        "plt.title(\"Predicted Daily Cases vs Actual Cases in PA\")\n",
        "\n",
        "#Display Plot\n",
        "plt.legend()\n",
        "plt.show()"
      ]
    },
    {
      "cell_type": "code",
      "execution_count": 50,
      "id": "4eee31c3",
      "metadata": {
        "id": "4eee31c3",
        "colab": {
          "base_uri": "https://localhost:8080/"
        },
        "outputId": "6d6d92b5-61a0-495a-88dd-7eacd10667e8"
      },
      "outputs": [
        {
          "output_type": "stream",
          "name": "stdout",
          "text": [
            "369\n",
            "0.924812030075188\n",
            "30\n",
            "0.07518796992481203\n",
            "399\n",
            "[0.5868864820400328, 0.5625362950058072, 0.7085549859754328, 0.6885207773413272, 0.7068680383287125, 0.7595843140383771, 0.7846063118767647, 0.6422272215973004, 0.6535746961181544, 0.748019394093041, 0.7630520293223673, 0.7922588567248406, 0.806386812437605, 0.7966108197979281, 0.719758169593996, 0.6625031383379363, 0.7470718284020886, 0.7590518013981001, 0.7790788446526152, 0.7863896392817417, 0.7786969584722394, 0.5990823412698413, 0.46013191951239873, 0.5534016346264533, 0.6176679280983917, 0.6724804565485336, 0.6242518159806296, 0.6483321247280639, 0.3022310777862255, 0.1395920214657485, 0.3539264473843913, 0.5775866173599759, 0.6489573578485036, 0.6942877818490909, 0.6955606648136075, 0.5466670128611241, 0.4740113675162178, 0.6369729145296775, 0.541612699968495, 0.6939084395928051, 0.7075693963688335, 0.669928791984372, 0.5928907803907805, 0.508145595900698, 0.6014589239183347, 0.6113143527374786, 0.5912168115601504, 0.5749633543028156, 0.6125262732979775, 0.17467070367751059, 0.3136590027751741, 0.36253691343905226, 0.460464343504392, 0.392377155873739, 0.24198230016644337, 0.2672807895304805, 0.0005339928613585135, 0.3790134946486739, 0.43926206244087035, 0.46517678552629593, 0.39506004831082225, 0.40217866388730117, 0.3566000868432479, 0.2173477800023554, 0.045835464452925245, 0.5652628996647313, 0.6175416888479633, 0.5989196692618746, 0.6407352344911474, 0.6077846961961814, 0.6681539482933688, 0.5363281676306887, 0.6807645346106885, 0.7036032579311788, 0.6284380602562422, 0.640753815583647, 0.6483508525078631, 0.4873441165575997, 0.2544710191769015, 0.4732301446333418, 0.47629979062082184, 0.49042709867452133, 0.45008079256178646, 0.49571258532319573, 0.5999215275961287, 0.5962249208025343, 0.7005677368833203, 0.7265331664580726, 0.7813750714694111, 0.8184354226020892, 0.7217573221757322, 0.5422725796557573, 0.4598680008516074, 0.5172768094984398, 0.42343529839552746, 0.46131306268048244, 0.6416565439701687, 0.5621785800572948, 0.6982404021937842, 0.4411764705882353, 0.7052455357142857, 0.5719611021069692, 0.6760304219823356, 0.6223906205318844, 0.6578129048976419, 0.5172353961827646, 0.36774731101348285, 0.5056266287609572, 0.6604702245362837, 0.6382194868238558, 0.5736758772153838, 0.5796867918827736, 0.3155350635829553, 0.12517821499857426, 0.5475371153278931, 0.5249793559042114, 0.46528786382385406, 0.6153138844771378, 0.6240042485395645, 0.27411107614852104, 0.23758572254812851, 0.4902496961661695, 0.4957099136517652, 0.5967530481143206, 0.5077616558199082, 0.5408518684380753, 0.01783416069130359, 0.09612909612909618, 0.486789654213405, 0.3997289238275955, 0.4420760896951373, 0.4954659375712007, 0.45002980329823167, 0.05422179277538282, 0.4309422921711058, 0.36322618299362486, 0.3863675694384356, 0.3648231079265562, 0.4324329731892757, 0.506643709346412, 0.06268773278865789, 0.37673166857848767, 0.37372054750531847, 0.5479763594750413, 0.40955534531693466, 0.5618382993063551, 0.45860369894861025, 0.23969623668418844, 0.20662831901364004, 0.575474025974026, 0.4829732380108819, 0.4070866284553435, 0.5316162774036395, 0.575010400956888, 0.2216061017840705, 0.055552600787150325, 0.5022982706914432, 0.4490039717016259, 0.44441837181653215, 0.5189103519276097, 0.47106219468604793, 0.44487852283770646, 0.19492050964032018, 0.7158674890569041, 0.6590219908789189, 0.5940156361051884, 0.6410852518347241, 0.6063917753093906, 0.5520469654215888, 0.3865035697910526, 0.7421399664124659, 0.7053433793689244, 0.7070208639619632, 0.6758634413067552, 0.6714864438286977, 0.5635330578512396, 0.3307814149947202, 0.6741645244215938, 0.6243331357439241, 0.6669732002101945, 0.7161254199328108, 0.5915243312922978, 0.6564392410173597, 0.49041916167664673, 0.7435974691172039, 0.6968293551834699, 0.6551863857374393, 0.7237012987012987, 0.6728181468665898, 0.47637236712866965, 0.3213578500707213, 0.7434773310521813, 0.6829655081273952, 0.6783535563451095, 0.6330682165799938, 0.6553903612727141, 0.5847129506008011, 0.45477651183172657, 0.7738640494365685, 0.6520304284595592, 0.6886074682150365, 0.7829227440854212, 0.6793960008245722, 0.808110119047619, 0.7103548966756513, 0.851798643834042, 0.835816144639674, 0.8190429413415661, 0.8271911015813455, 0.7809580431459147, 0.6396794694667035, 0.5575161180861894, 0.6347338935574229, 0.7611721611721612, 0.7075577483740749, 0.7744725008647527, 0.7207110730349111, 0.6553345388788427, 0.43974132863021753, 0.7940350118867517, 0.6974603174603176, 0.7715723873441995, 0.7059549521752546, 0.6320463320463321, 0.6129486277269529, 0.5659037095501184, 0.8331816803154383, 0.7213779128672746, 0.7647562018819505, 0.7415413533834587, 0.6930803571428572, 0.37862513426423205, 0.29365079365079366, 0.692777482740308, 0.6667626728110599, 0.6359345500314664, 0.6138184245660881, 0.5948879551820728, 0.42346938775510207, 0.1321044546850999, 0.6004243281471005, 0.5796130952380952, 0.5817912657290896, 0.5490822027134876, 0.6535867565910484, 0.12751677852348994, 0.36585365853658536, 0.5849056603773585, 0.18446601941747573, 0.35135135135135137, 0.3170731707317073, 0.3890909090909091, 0.5114982578397211, 1.2617309697601666, 0.1271629778672033, 0.043650793650793725, 0.2810739144845874, 0.2973760932944607, 0.3098950047725104, 0.4711378737541528, 1.0488721804511278, 0.16351829988193628, 0.11215538847117798, 0.13933430515063172, 0.22381682734443473, 0.24466950959488276, 0.5577152396851895, 1.144991789819376, 0.1328332448220924, 0.12282963727007046, 0.14081820573533282, 0.11891272089572374, 0.21983994266602963, 0.11431440045897881, 0.2470304975922954, 0.29532879818594104, 0.23299437259354328, 0.4023386414339564, 0.3676027676027676, 0.35134006846455706, 0.016560722649715674, 0.1710560123329908, 0.39120416750150266, 0.3149845945742842, 0.4477462740821519, 0.3706069184561209, 0.43010315723663645, 0.2395233632347034, 0.26390743213173123, 0.37726126521214776, 0.27356439442383934, 0.5904978191125049, 0.35241135560369397, 0.42185352944170185, 0.14370399322519703, 0.029526942355889742, 0.391688648248415, 0.49205919857799757, 0.42184201266713584, 0.5267497119815667, 0.5135085122131754, 0.25434195291393286, 0.2402674007078254, 0.46018440905280805, 0.508646998982706, 0.4816206063858331, 0.5249569707401033, 0.585496674533362, 0.31248564999770406, 0.1406761177753545, 0.07688513471854007, 0.5752021563342319, 0.507516200124996, 0.5883646761244914, 0.6042817497026564, 0.3894112760092142, 0.26226217091755266, 0.5117613310384395, 0.42740279056590413, 0.6327147173068624, 0.5973754326551957, 0.5651624354561102, 0.5248351162864086, 0.15677325418603355, 0.5585734806953769, 0.532782052873278, 0.6165648077412783, 0.5781385705880705, 0.5995771726412084, 0.5573402300415163, 0.3935098843715032, 0.6518760370390194, 0.6179511278195489, 0.6282685108450261, 0.659716953985403, 0.5399144059703604, 0.6952364523522019, 0.5547595046082949, 0.6333096127616675, 0.6416401043175891, 0.7188551423115395, 0.6807527492384738, 0.6783113099573406, 0.514798931383577, 0.28374241087644647, 0.576127011423658, 0.587391265357367, 0.6536956194490441, 0.6228276314351294, 0.5866127583108715, 0.32637035317782676, 0.15181920023379278, 0.3571797711332595, 0.4398301540837006, 0.42771698051201157, 0.46523768578798674, 0.4951878478664193, 0.09455621871390071, 0.2984184081306384, 0.1343877279129077, 0.2819091827712517, 0.26914671380363164, 0.30909339490794185, 0.2720943631765948, 0.0870712401055409, 0.3074176913923046, 0.11278600269179004, 0.19629358693001706, 0.35041387465510443, 0.38576220648527765, 0.3259713701431493, 0.05774220662939007, 0.21640875636912624, 0.08784405292577657, 0.304909282074785, 0.34797562147535593, 0.4297436577975361, 0.3470509281535695, 0.09515086206896552, 0.3014569125852449, 0.3495739736638265, 0.2600458230525203, 0.4427263074064242, 0.3916099116070135, 0.35969193228610646, 0.12094739792581517, 0.297890599736325, 0.30943410075110706, 0.4266722187239747, 0.4214900594384095, 0.29085221848148335, 0.15396259217073316, 0.12758470579699632, 0.16012321327244722, 0.29371264968529165, 0.389883405959251, 0.5224832163212634, 0.5931065177835085, 0.47986077410933914]\n",
            "[-0.5868864820400328, -0.5625362950058072, -0.7085549859754328, -0.6885207773413272, -0.7068680383287125, -0.7595843140383771, -0.7846063118767647, -0.6422272215973004, -0.6535746961181544, -0.748019394093041, -0.7630520293223673, -0.7922588567248406, -0.806386812437605, -0.7966108197979281, -0.719758169593996, -0.6625031383379363, -0.7470718284020886, -0.7590518013981001, -0.7790788446526152, -0.7863896392817417, -0.7786969584722394, -0.5990823412698413, -0.46013191951239873, -0.5534016346264533, -0.6176679280983917, -0.6724804565485336, -0.6242518159806296, -0.6483321247280639, -0.3022310777862255, -0.1395920214657485, -0.3539264473843913, -0.5775866173599759, -0.6489573578485036, -0.6942877818490909, -0.6955606648136075, -0.5466670128611241, -0.4740113675162178, -0.6369729145296775, -0.541612699968495, -0.6939084395928051, -0.7075693963688335, -0.669928791984372, -0.5928907803907805, -0.508145595900698, -0.6014589239183347, -0.6113143527374786, -0.5912168115601504, -0.5749633543028156, -0.6125262732979775, -0.17467070367751059, -0.3136590027751741, -0.36253691343905226, -0.460464343504392, -0.392377155873739, -0.24198230016644337, -0.2672807895304805, -0.0005339928613585135, 0.3790134946486739, -0.43926206244087035, -0.46517678552629593, -0.39506004831082225, -0.40217866388730117, -0.3566000868432479, -0.2173477800023554, 0.045835464452925245, -0.5652628996647313, -0.6175416888479633, -0.5989196692618746, -0.6407352344911474, -0.6077846961961814, -0.6681539482933688, -0.5363281676306887, -0.6807645346106885, -0.7036032579311788, -0.6284380602562422, -0.640753815583647, -0.6483508525078631, -0.4873441165575997, -0.2544710191769015, -0.4732301446333418, -0.47629979062082184, -0.49042709867452133, -0.45008079256178646, -0.49571258532319573, -0.5999215275961287, -0.5962249208025343, -0.7005677368833203, -0.7265331664580726, -0.7813750714694111, -0.8184354226020892, -0.7217573221757322, -0.5422725796557573, -0.4598680008516074, -0.5172768094984398, -0.42343529839552746, -0.46131306268048244, -0.6416565439701687, -0.5621785800572948, -0.6982404021937842, -0.4411764705882353, -0.7052455357142857, -0.5719611021069692, -0.6760304219823356, -0.6223906205318844, -0.6578129048976419, -0.5172353961827646, -0.36774731101348285, -0.5056266287609572, -0.6604702245362837, -0.6382194868238558, -0.5736758772153838, -0.5796867918827736, -0.3155350635829553, -0.12517821499857426, -0.5475371153278931, -0.5249793559042114, -0.46528786382385406, -0.6153138844771378, -0.6240042485395645, -0.27411107614852104, -0.23758572254812851, -0.4902496961661695, -0.4957099136517652, -0.5967530481143206, -0.5077616558199082, -0.5408518684380753, 0.01783416069130359, 0.09612909612909618, -0.486789654213405, -0.3997289238275955, -0.4420760896951373, -0.4954659375712007, -0.45002980329823167, 0.05422179277538282, 0.4309422921711058, -0.36322618299362486, -0.3863675694384356, -0.3648231079265562, -0.4324329731892757, -0.506643709346412, -0.06268773278865789, 0.37673166857848767, -0.37372054750531847, -0.5479763594750413, -0.40955534531693466, -0.5618382993063551, -0.45860369894861025, -0.23969623668418844, -0.20662831901364004, -0.575474025974026, -0.4829732380108819, -0.4070866284553435, -0.5316162774036395, -0.575010400956888, -0.2216061017840705, -0.055552600787150325, -0.5022982706914432, -0.4490039717016259, -0.44441837181653215, -0.5189103519276097, -0.47106219468604793, -0.44487852283770646, -0.19492050964032018, -0.7158674890569041, -0.6590219908789189, -0.5940156361051884, -0.6410852518347241, -0.6063917753093906, -0.5520469654215888, -0.3865035697910526, -0.7421399664124659, -0.7053433793689244, -0.7070208639619632, -0.6758634413067552, -0.6714864438286977, -0.5635330578512396, -0.3307814149947202, -0.6741645244215938, -0.6243331357439241, -0.6669732002101945, -0.7161254199328108, -0.5915243312922978, -0.6564392410173597, -0.49041916167664673, -0.7435974691172039, -0.6968293551834699, -0.6551863857374393, -0.7237012987012987, -0.6728181468665898, -0.47637236712866965, -0.3213578500707213, -0.7434773310521813, -0.6829655081273952, -0.6783535563451095, -0.6330682165799938, -0.6553903612727141, -0.5847129506008011, -0.45477651183172657, -0.7738640494365685, -0.6520304284595592, -0.6886074682150365, -0.7829227440854212, -0.6793960008245722, -0.808110119047619, -0.7103548966756513, -0.851798643834042, -0.835816144639674, -0.8190429413415661, -0.8271911015813455, -0.7809580431459147, -0.6396794694667035, -0.5575161180861894, -0.6347338935574229, -0.7611721611721612, -0.7075577483740749, -0.7744725008647527, -0.7207110730349111, -0.6553345388788427, -0.43974132863021753, -0.7940350118867517, -0.6974603174603176, -0.7715723873441995, -0.7059549521752546, -0.6320463320463321, -0.6129486277269529, -0.5659037095501184, -0.8331816803154383, -0.7213779128672746, -0.7647562018819505, -0.7415413533834587, -0.6930803571428572, -0.37862513426423205, -0.29365079365079366, -0.692777482740308, -0.6667626728110599, -0.6359345500314664, -0.6138184245660881, -0.5948879551820728, -0.42346938775510207, -0.1321044546850999, -0.6004243281471005, -0.5796130952380952, -0.5817912657290896, -0.5490822027134876, -0.6535867565910484, 0.12751677852348994, 0.36585365853658536, 0.5849056603773585, -0.18446601941747573, -0.35135135135135137, -0.3170731707317073, -0.3890909090909091, 0.5114982578397211, 1.2617309697601666, -0.1271629778672033, -0.043650793650793725, -0.2810739144845874, -0.2973760932944607, -0.3098950047725104, 0.4711378737541528, 1.0488721804511278, -0.16351829988193628, -0.11215538847117798, -0.13933430515063172, -0.22381682734443473, -0.24466950959488276, 0.5577152396851895, 1.144991789819376, -0.1328332448220924, 0.12282963727007046, -0.14081820573533282, -0.11891272089572374, -0.21983994266602963, 0.11431440045897881, 0.2470304975922954, -0.29532879818594104, -0.23299437259354328, -0.4023386414339564, -0.3676027676027676, -0.35134006846455706, 0.016560722649715674, 0.1710560123329908, -0.39120416750150266, -0.3149845945742842, -0.4477462740821519, -0.3706069184561209, -0.43010315723663645, -0.2395233632347034, 0.26390743213173123, -0.37726126521214776, -0.27356439442383934, -0.5904978191125049, -0.35241135560369397, -0.42185352944170185, -0.14370399322519703, 0.029526942355889742, -0.391688648248415, -0.49205919857799757, -0.42184201266713584, -0.5267497119815667, -0.5135085122131754, -0.25434195291393286, -0.2402674007078254, -0.46018440905280805, -0.508646998982706, -0.4816206063858331, -0.5249569707401033, -0.585496674533362, -0.31248564999770406, -0.1406761177753545, -0.07688513471854007, -0.5752021563342319, -0.507516200124996, -0.5883646761244914, -0.6042817497026564, -0.3894112760092142, -0.26226217091755266, -0.5117613310384395, -0.42740279056590413, -0.6327147173068624, -0.5973754326551957, -0.5651624354561102, -0.5248351162864086, -0.15677325418603355, -0.5585734806953769, -0.532782052873278, -0.6165648077412783, -0.5781385705880705, -0.5995771726412084, -0.5573402300415163, -0.3935098843715032, -0.6518760370390194, -0.6179511278195489, -0.6282685108450261, -0.659716953985403, -0.5399144059703604, -0.6952364523522019, -0.5547595046082949, -0.6333096127616675, -0.6416401043175891, -0.7188551423115395, -0.6807527492384738, -0.6783113099573406, -0.514798931383577, -0.28374241087644647, -0.576127011423658, -0.587391265357367, -0.6536956194490441, -0.6228276314351294, -0.5866127583108715, -0.32637035317782676, -0.15181920023379278, -0.3571797711332595, -0.4398301540837006, -0.42771698051201157, -0.46523768578798674, -0.4951878478664193, 0.09455621871390071, 0.2984184081306384, -0.1343877279129077, -0.2819091827712517, -0.26914671380363164, -0.30909339490794185, -0.2720943631765948, 0.0870712401055409, 0.3074176913923046, -0.11278600269179004, -0.19629358693001706, -0.35041387465510443, -0.38576220648527765, -0.3259713701431493, -0.05774220662939007, 0.21640875636912624, -0.08784405292577657, -0.304909282074785, -0.34797562147535593, -0.4297436577975361, -0.3470509281535695, -0.09515086206896552, 0.3014569125852449, -0.3495739736638265, -0.2600458230525203, -0.4427263074064242, -0.3916099116070135, -0.35969193228610646, -0.12094739792581517, -0.297890599736325, -0.30943410075110706, -0.4266722187239747, -0.4214900594384095, -0.29085221848148335, -0.15396259217073316, 0.12758470579699632, -0.16012321327244722, -0.29371264968529165, -0.389883405959251, -0.5224832163212634, -0.5931065177835085, -0.47986077410933914]\n"
          ]
        }
      ],
      "source": [
        "#error calculations\n",
        "#confirmed = merged_df_new['Actual']\n",
        "#projected = merged_df_new['Prediction']\n",
        "error = []\n",
        "rawerror = []\n",
        "\n",
        "for index, row in merged_df_new.iterrows():\n",
        "  rawerror.append(-1*(row['New Cases'] - row[\"Prediction\"]) / row['New Cases'])\n",
        "  error.append((abs(row['New Cases'] - row[\"Prediction\"])) / row['New Cases'])\n",
        "\n",
        "underpredictCount = 0\n",
        "overpredictCount = 0\n",
        "for x in rawerror:\n",
        "  if x < 0:\n",
        "    underpredictCount += 1\n",
        "  elif x > 0:\n",
        "    overpredictCount += 1\n",
        "\n",
        "underpredictPerecentage = underpredictCount / len(rawerror)\n",
        "overpredictPercentage = 1 - underpredictPerecentage\n",
        "\n",
        "print(underpredictCount)\n",
        "print(underpredictPerecentage)\n",
        "print(overpredictCount)\n",
        "print(overpredictPercentage)\n",
        "print(len(error))\n",
        "\n",
        "print(error)\n",
        "print(rawerror)"
      ]
    },
    {
      "cell_type": "code",
      "execution_count": 51,
      "id": "a0526cb0",
      "metadata": {
        "id": "a0526cb0",
        "colab": {
          "base_uri": "https://localhost:8080/"
        },
        "outputId": "9ef7380b-bde5-4ccf-a41d-eb0abcf7657a"
      },
      "outputs": [
        {
          "output_type": "stream",
          "name": "stdout",
          "text": [
            "[0.4131135179599672, 0.43746370499419285, 0.29144501402456724, 0.3114792226586728, 0.2931319616712875, 0.24041568596162288, 0.21539368812323534, 0.3577727784026996, 0.34642530388184556, 0.25198060590695903, 0.23694797067763274, 0.20774114327515936, 0.19361318756239498, 0.20338918020207186, 0.28024183040600403, 0.3374968616620637, 0.25292817159791137, 0.24094819860189987, 0.22092115534738477, 0.21361036071825834, 0.2213030415277606, 0.4009176587301587, 0.5398680804876013, 0.4465983653735467, 0.38233207190160834, 0.3275195434514664, 0.3757481840193704, 0.3516678752719361, 0.6977689222137745, 0.8604079785342515, 0.6460735526156087, 0.42241338264002415, 0.3510426421514964, 0.3057122181509091, 0.30443933518639255, 0.45333298713887593, 0.5259886324837821, 0.3630270854703225, 0.45838730003150496, 0.3060915604071949, 0.29243060363116646, 0.33007120801562795, 0.40710921960921953, 0.49185440409930203, 0.39854107608166534, 0.3886856472625214, 0.4087831884398496, 0.42503664569718436, 0.3874737267020225, 0.8253292963224894, 0.6863409972248259, 0.6374630865609477, 0.539535656495608, 0.607622844126261, 0.7580176998335566, 0.7327192104695195, 0.9994660071386415, 0.6209865053513262, 0.5607379375591297, 0.5348232144737041, 0.6049399516891778, 0.5978213361126988, 0.643399913156752, 0.7826522199976446, 0.9541645355470747, 0.4347371003352687, 0.38245831115203666, 0.40108033073812543, 0.35926476550885256, 0.39221530380381864, 0.3318460517066312, 0.4636718323693113, 0.31923546538931147, 0.29639674206882116, 0.37156193974375784, 0.35924618441635303, 0.35164914749213694, 0.5126558834424003, 0.7455289808230985, 0.5267698553666582, 0.5237002093791782, 0.5095729013254786, 0.5499192074382135, 0.5042874146768043, 0.4000784724038713, 0.4037750791974657, 0.2994322631166797, 0.27346683354192736, 0.2186249285305889, 0.18156457739791076, 0.2782426778242678, 0.45772742034424274, 0.5401319991483926, 0.4827231905015602, 0.5765647016044726, 0.5386869373195176, 0.3583434560298313, 0.4378214199427052, 0.30175959780621575, 0.5588235294117647, 0.2947544642857143, 0.42803889789303085, 0.32396957801766435, 0.37760937946811557, 0.3421870951023581, 0.4827646038172354, 0.6322526889865172, 0.4943733712390428, 0.3395297754637163, 0.36178051317614424, 0.4263241227846162, 0.4203132081172264, 0.6844649364170448, 0.8748217850014257, 0.45246288467210694, 0.4750206440957886, 0.534712136176146, 0.38468611552286225, 0.3759957514604355, 0.725888923851479, 0.7624142774518715, 0.5097503038338305, 0.5042900863482348, 0.4032469518856794, 0.4922383441800918, 0.4591481315619247, 0.9821658393086964, 0.9038709038709039, 0.5132103457865951, 0.6002710761724045, 0.5579239103048628, 0.5045340624287993, 0.5499701967017683, 0.9457782072246171, 0.5690577078288942, 0.6367738170063751, 0.6136324305615644, 0.6351768920734437, 0.5675670268107242, 0.493356290653588, 0.9373122672113421, 0.6232683314215124, 0.6262794524946815, 0.4520236405249587, 0.5904446546830653, 0.4381617006936449, 0.5413963010513898, 0.7603037633158116, 0.79337168098636, 0.42452597402597403, 0.5170267619891181, 0.5929133715446565, 0.4683837225963605, 0.42498959904311195, 0.7783938982159295, 0.9444473992128497, 0.49770172930855683, 0.5509960282983741, 0.5555816281834678, 0.4810896480723903, 0.5289378053139521, 0.5551214771622935, 0.8050794903596799, 0.2841325109430959, 0.3409780091210811, 0.40598436389481163, 0.3589147481652759, 0.3936082246906094, 0.4479530345784112, 0.6134964302089474, 0.25786003358753407, 0.29465662063107556, 0.2929791360380368, 0.32413655869324476, 0.3285135561713023, 0.43646694214876036, 0.6692185850052799, 0.3258354755784062, 0.37566686425607587, 0.33302679978980554, 0.28387458006718924, 0.40847566870770224, 0.34356075898264027, 0.5095808383233533, 0.2564025308827961, 0.3031706448165301, 0.34481361426256074, 0.27629870129870127, 0.3271818531334102, 0.5236276328713303, 0.6786421499292787, 0.2565226689478187, 0.3170344918726048, 0.3216464436548905, 0.3669317834200062, 0.3446096387272859, 0.4152870493991989, 0.5452234881682734, 0.2261359505634315, 0.34796957154044084, 0.3113925317849635, 0.21707725591457883, 0.3206039991754278, 0.19188988095238102, 0.2896451033243487, 0.14820135616595798, 0.16418385536032598, 0.18095705865843392, 0.17280889841865454, 0.21904195685408534, 0.3603205305332965, 0.4424838819138106, 0.36526610644257707, 0.23882783882783876, 0.2924422516259251, 0.22552749913524728, 0.2792889269650889, 0.34466546112115726, 0.5602586713697825, 0.20596498811324826, 0.30253968253968244, 0.22842761265580047, 0.2940450478247454, 0.3679536679536679, 0.3870513722730471, 0.4340962904498816, 0.16681831968456173, 0.2786220871327254, 0.23524379811804952, 0.2584586466165413, 0.3069196428571428, 0.621374865735768, 0.7063492063492063, 0.30722251725969196, 0.33323732718894006, 0.3640654499685336, 0.38618157543391185, 0.4051120448179272, 0.5765306122448979, 0.8678955453149001, 0.39957567185289955, 0.42038690476190477, 0.41820873427091043, 0.4509177972865124, 0.34641324340895163, 0.87248322147651, 0.6341463414634146, 0.41509433962264153, 0.8155339805825242, 0.6486486486486487, 0.6829268292682926, 0.6109090909090908, 0.48850174216027886, -0.26173096976016663, 0.8728370221327967, 0.9563492063492063, 0.7189260855154126, 0.7026239067055393, 0.6901049952274896, 0.5288621262458473, -0.048872180451127845, 0.8364817001180638, 0.887844611528822, 0.8606656948493683, 0.7761831726555652, 0.7553304904051172, 0.44228476031481045, -0.144991789819376, 0.8671667551779076, 0.8771703627299295, 0.8591817942646671, 0.8810872791042763, 0.7801600573339704, 0.8856855995410212, 0.7529695024077045, 0.704671201814059, 0.7670056274064567, 0.5976613585660435, 0.6323972323972324, 0.6486599315354429, 0.9834392773502844, 0.8289439876670092, 0.6087958324984973, 0.6850154054257158, 0.5522537259178482, 0.6293930815438791, 0.5698968427633635, 0.7604766367652966, 0.7360925678682688, 0.6227387347878522, 0.7264356055761607, 0.4095021808874951, 0.647588644396306, 0.5781464705582982, 0.856296006774803, 0.9704730576441103, 0.608311351751585, 0.5079408014220024, 0.5781579873328642, 0.4732502880184333, 0.4864914877868246, 0.7456580470860672, 0.7597325992921746, 0.539815590947192, 0.49135300101729396, 0.518379393614167, 0.4750430292598967, 0.41450332546663804, 0.687514350002296, 0.8593238822246455, 0.9231148652814599, 0.4247978436657681, 0.492483799875004, 0.4116353238755086, 0.39571825029734364, 0.6105887239907858, 0.7377378290824473, 0.48823866896156054, 0.5725972094340959, 0.36728528269313765, 0.40262456734480434, 0.4348375645438898, 0.47516488371359145, 0.8432267458139664, 0.44142651930462307, 0.46721794712672204, 0.3834351922587217, 0.4218614294119295, 0.40042282735879164, 0.44265976995848366, 0.6064901156284968, 0.3481239629609806, 0.38204887218045114, 0.3717314891549739, 0.340283046014597, 0.46008559402963956, 0.3047635476477981, 0.44524049539170507, 0.36669038723833247, 0.3583598956824109, 0.28114485768846054, 0.31924725076152616, 0.32168869004265943, 0.485201068616423, 0.7162575891235535, 0.42387298857634204, 0.41260873464263303, 0.3463043805509559, 0.3771723685648706, 0.41338724168912855, 0.6736296468221732, 0.8481807997662072, 0.6428202288667405, 0.5601698459162994, 0.5722830194879884, 0.5347623142120133, 0.5048121521335807, 0.9054437812860993, 0.7015815918693615, 0.8656122720870922, 0.7180908172287483, 0.7308532861963684, 0.6909066050920581, 0.7279056368234051, 0.9129287598944591, 0.6925823086076954, 0.8872139973082099, 0.8037064130699829, 0.6495861253448956, 0.6142377935147223, 0.6740286298568507, 0.9422577933706099, 0.7835912436308737, 0.9121559470742234, 0.695090717925215, 0.652024378524644, 0.5702563422024639, 0.6529490718464305, 0.9048491379310345, 0.6985430874147551, 0.6504260263361735, 0.7399541769474798, 0.5572736925935757, 0.6083900883929865, 0.6403080677138935, 0.8790526020741848, 0.702109400263675, 0.690565899248893, 0.5733277812760254, 0.5785099405615906, 0.7091477815185167, 0.8460374078292668, 0.8724152942030037, 0.8398767867275527, 0.7062873503147084, 0.610116594040749, 0.4775167836787366, 0.40689348221649146, 0.5201392258906609]\n"
          ]
        }
      ],
      "source": [
        "#accuracy calculations\n",
        "accuracy = []\n",
        "\n",
        "for i in error:\n",
        "  accuracy.append(1 - i)\n",
        "\n",
        "print(accuracy)"
      ]
    },
    {
      "cell_type": "code",
      "execution_count": null,
      "id": "a8012f5e",
      "metadata": {
        "id": "a8012f5e"
      },
      "outputs": [],
      "source": [
        "#Create Error and Accuracy Column and insert list data\n",
        "merged_df_new['Error'] = error\n",
        "merged_df_new['Accuracy'] = accuracy\n",
        "merged_df_new['RawError'] = rawerror\n",
        "\n",
        "print(merged_df_new)"
      ]
    },
    {
      "cell_type": "code",
      "execution_count": 53,
      "id": "6a1f3c40",
      "metadata": {
        "id": "6a1f3c40",
        "colab": {
          "base_uri": "https://localhost:8080/",
          "height": 313
        },
        "outputId": "795fa889-4456-4c3b-e618-d52c99bb7592"
      },
      "outputs": [
        {
          "output_type": "execute_result",
          "data": {
            "text/plain": [
              "<matplotlib.legend.Legend at 0x7f18093d5050>"
            ]
          },
          "metadata": {},
          "execution_count": 53
        },
        {
          "output_type": "display_data",
          "data": {
            "text/plain": [
              "<Figure size 432x288 with 1 Axes>"
            ],
            "image/png": "[encoded data removed]"
          },
          "metadata": {
            "needs_background": "light"
          }
        }
      ],
      "source": [
        "from IPython.core.pylabtools import figsize\n",
        "#Create plot of Error\n",
        "\n",
        "#Error Line\n",
        "plt.plot(merged_df_new['Date'], merged_df_new['Error'], color='g', label='Error')\n",
        "\n",
        "\n",
        "#Create XY Labels and Title\n",
        "plt.xlabel('Date (Year/Month/Day)') \n",
        "plt.ylabel('Percentage') \n",
        "plt.title(\"Predicted Daily COVID-19 Case Error in PA\")\n",
        "#Display Plot\n",
        "plt.legend()"
      ]
    },
    {
      "cell_type": "code",
      "execution_count": 54,
      "id": "0480ef44",
      "metadata": {
        "id": "0480ef44",
        "colab": {
          "base_uri": "https://localhost:8080/",
          "height": 295
        },
        "outputId": "00e82915-5385-467f-8156-fbf14f7c4dc6"
      },
      "outputs": [
        {
          "output_type": "display_data",
          "data": {
            "text/plain": [
              "<Figure size 432x288 with 1 Axes>"
            ],
            "image/png": "[encoded data removed]"
          },
          "metadata": {
            "needs_background": "light"
          }
        }
      ],
      "source": [
        "#Create plot of Raw Error\n",
        "\n",
        "#Raw Error Line\n",
        "plt.plot(merged_df_new['Date'], merged_df_new['RawError'], color='g', label='Raw Error')\n",
        "plt.axhline(y=0.0, color='r', linestyle='-')\n",
        "\n",
        "#Create XY Labels and Title\n",
        "plt.xlabel('Date (Year/Month/Day)') \n",
        "plt.ylabel('Percentage') \n",
        "plt.title(\"Predicted Daily COVID-19 Case Raw Error in PA\")\n",
        "#Display Plot\n",
        "plt.legend()\n",
        "plt.show()"
      ]
    },
    {
      "cell_type": "code",
      "execution_count": 55,
      "id": "cb557ed1",
      "metadata": {
        "id": "cb557ed1",
        "colab": {
          "base_uri": "https://localhost:8080/",
          "height": 295
        },
        "outputId": "77656183-7e9a-4393-a853-5bf049673100"
      },
      "outputs": [
        {
          "output_type": "display_data",
          "data": {
            "text/plain": [
              "<Figure size 432x288 with 1 Axes>"
            ],
            "image/png": "[encoded data removed]"
          },
          "metadata": {
            "needs_background": "light"
          }
        }
      ],
      "source": [
        "#Create plot of Accuracy\n",
        "\n",
        "#Accuracy Line\n",
        "plt.plot(merged_df_new['Date'], merged_df_new['Accuracy'], color='r', label='Daily Accuracy')\n",
        "\n",
        "#Create XY Labels and Title\n",
        "plt.xlabel('Date (Year/Month/Day)') \n",
        "plt.ylabel('Percentage') \n",
        "plt.title(\"Predicted Daily COVID-19 Case Accuracy in PA\")\n",
        "\n",
        "#Display Plot\n",
        "plt.legend()\n",
        "plt.show()"
      ]
    },
    {
      "cell_type": "code",
      "execution_count": 56,
      "id": "4d6b0409",
      "metadata": {
        "id": "4d6b0409"
      },
      "outputs": [],
      "source": [
        "#Calculate Weekly Accuracy Averages\n",
        "weeklyAccuracy = 0\n",
        "averageWeeklyAccuracy = []\n",
        "length = len(accuracy) #   =245\n",
        "amountOfWeeks = int(length / 7) #   =35\n",
        "remainderDays = length % 7 #  \n",
        "\n",
        "i = 0\n",
        "while i < length:\n",
        "  weeklyAccuracy += accuracy[i]\n",
        "  if (i + 1) % 7 == 0 and amountOfWeeks > 0:\n",
        "    averageWeeklyAccuracy.append(weeklyAccuracy / 7)\n",
        "    amountOfWeeks -= 1\n",
        "    weeklyAccuracy = 0\n",
        "  if remainderDays > 0:\n",
        "    if (i + 1) % remainderDays == 0 and amountOfWeeks == 0:\n",
        "      averageWeeklyAccuracy.append(weeklyAccuracy / remainderDays)\n",
        "      weeklyAccuracy = 0\n",
        "  i += 1\n",
        "\n",
        "weeklyDateList = []\n",
        "i = 0\n",
        "weeklyDateList.append(merged_df_new['Date'][i])\n",
        "while i < length:\n",
        "  if (i + 1) % 7 == 0:\n",
        "    weeklyDateList.append(merged_df_new['Date'][i])\n",
        "  i += 1"
      ]
    },
    {
      "cell_type": "code",
      "source": [
        "len(weeklyDateList)"
      ],
      "metadata": {
        "colab": {
          "base_uri": "https://localhost:8080/"
        },
        "id": "WJ-5HSFnNqoZ",
        "outputId": "c7604180-63a3-46e2-8e72-f42bccf3a779"
      },
      "id": "WJ-5HSFnNqoZ",
      "execution_count": 57,
      "outputs": [
        {
          "output_type": "execute_result",
          "data": {
            "text/plain": [
              "58"
            ]
          },
          "metadata": {},
          "execution_count": 57
        }
      ]
    },
    {
      "cell_type": "code",
      "source": [
        "del weeklyDateList[-1:]\n",
        "len(averageWeeklyAccuracy)"
      ],
      "metadata": {
        "colab": {
          "base_uri": "https://localhost:8080/"
        },
        "id": "P90LPnPNNFv2",
        "outputId": "dc513bbd-eda9-4e2c-cb45-27aae38677ed"
      },
      "id": "P90LPnPNNFv2",
      "execution_count": 58,
      "outputs": [
        {
          "output_type": "execute_result",
          "data": {
            "text/plain": [
              "57"
            ]
          },
          "metadata": {},
          "execution_count": 58
        }
      ]
    },
    {
      "cell_type": "code",
      "execution_count": 59,
      "id": "04c4449c",
      "metadata": {
        "id": "04c4449c"
      },
      "outputs": [],
      "source": [
        "#Create Dataframe for Weekly Accuracy\n",
        "i = 0\n",
        "data = []\n",
        "while i < len(averageWeeklyAccuracy):\n",
        "  data.append([weeklyDateList[i], averageWeeklyAccuracy[i]])\n",
        "  i += 1\n",
        "\n",
        "df = pd.DataFrame(data, columns = ['Week Of', 'Average Weekly Accuracy'])"
      ]
    },
    {
      "cell_type": "code",
      "execution_count": 60,
      "id": "6132cdfa",
      "metadata": {
        "id": "6132cdfa",
        "colab": {
          "base_uri": "https://localhost:8080/",
          "height": 295
        },
        "outputId": "f4e50fb1-59f2-4bc8-acd6-58e76b2d7654"
      },
      "outputs": [
        {
          "output_type": "display_data",
          "data": {
            "text/plain": [
              "<Figure size 432x288 with 1 Axes>"
            ],
            "image/png": "[encoded data removed]"
          },
          "metadata": {
            "needs_background": "light"
          }
        }
      ],
      "source": [
        "#Create plot of Weekly Accuracy\n",
        "\n",
        "#Accuracy Line\n",
        "plt.plot(df['Week Of'], df['Average Weekly Accuracy'], color='r', label='Weekly Accuracy')\n",
        "\n",
        "#Create XY Labels and Title\n",
        "plt.xlabel('Week Of (Year/Month/Day)') \n",
        "plt.ylabel('Average Weekly Accuracy Percentage') \n",
        "plt.title(\"Predicted Daily COVID-19 Case Weekly Accuracy in PA\")\n",
        "\n",
        "#Display Plot\n",
        "plt.legend()\n",
        "plt.show()"
      ]
    },
    {
      "cell_type": "code",
      "execution_count": 61,
      "id": "5917fad0",
      "metadata": {
        "id": "5917fad0"
      },
      "outputs": [],
      "source": [
        "#Create Running Weekly Average\n",
        "runningweeklyAccuracy = 0\n",
        "runningAverageWeeklyAccuracy = []\n",
        "length = len(accuracy)\n",
        "\n",
        "i = 1\n",
        "j = 8\n",
        "#Add first week average\n",
        "runningAverageWeeklyAccuracy.append(averageWeeklyAccuracy[0])\n",
        "\n",
        "while j < length:\n",
        "  temp_i = i\n",
        "  temp_j = j\n",
        "  while temp_i < temp_j:\n",
        "    runningweeklyAccuracy += accuracy[temp_i]\n",
        "    temp_i += 1\n",
        "  runningAverageWeeklyAccuracy.append(runningweeklyAccuracy / 7)\n",
        "  runningweeklyAccuracy = 0\n",
        "\n",
        "  i += 1\n",
        "  j += 1"
      ]
    },
    {
      "cell_type": "code",
      "execution_count": 62,
      "id": "5b231780",
      "metadata": {
        "id": "5b231780"
      },
      "outputs": [],
      "source": [
        "#Create Dataframe for Running Weekly Accuracy\n",
        "i = 0\n",
        "data = []\n",
        "while i < len(runningAverageWeeklyAccuracy):\n",
        "  data.append([merged_df_new['Date'][i], runningAverageWeeklyAccuracy[i]])\n",
        "  i += 1\n",
        "\n",
        "df = pd.DataFrame(data, columns = ['Date', 'Running Weekly Average Accuracy'])"
      ]
    },
    {
      "cell_type": "code",
      "execution_count": 63,
      "id": "85337528",
      "metadata": {
        "id": "85337528",
        "colab": {
          "base_uri": "https://localhost:8080/",
          "height": 295
        },
        "outputId": "79067cb2-07e6-4078-fb21-39be2b725f92"
      },
      "outputs": [
        {
          "output_type": "display_data",
          "data": {
            "text/plain": [
              "<Figure size 432x288 with 1 Axes>"
            ],
            "image/png": "[encoded data removed]"
          },
          "metadata": {
            "needs_background": "light"
          }
        }
      ],
      "source": [
        "#Create plot of Running Weekly Accuracy\n",
        "\n",
        "#Accuracy Line\n",
        "plt.plot(df['Date'], df['Running Weekly Average Accuracy'], color='r', label='Running Weekly Accuracy')\n",
        "\n",
        "#Create XY Labels and Title\n",
        "plt.xlabel('Date') \n",
        "plt.ylabel('Accuracy Percentage') \n",
        "plt.title(\"Predicted Daily COVID-19 Case Running Weekly Accuracy in PA\")\n",
        "\n",
        "#Display Plot\n",
        "plt.legend()\n",
        "plt.show()"
      ]
    },
    {
      "cell_type": "code",
      "execution_count": 64,
      "id": "b8764ff7",
      "metadata": {
        "id": "b8764ff7",
        "colab": {
          "base_uri": "https://localhost:8080/",
          "height": 295
        },
        "outputId": "66b6faf5-bd5e-43c6-8070-1a3141ec19fd"
      },
      "outputs": [
        {
          "output_type": "display_data",
          "data": {
            "text/plain": [
              "<Figure size 432x288 with 1 Axes>"
            ],
            "image/png": "[encoded data removed]"
          },
          "metadata": {
            "needs_background": "light"
          }
        }
      ],
      "source": [
        "#Plot with combined daily accuracy and running weekly accuracy\n",
        "\n",
        "#Daily Accuracy\n",
        "plt.plot(merged_df_new['Date'], merged_df_new['Accuracy'], color='r', label='Daily Accuracy')\n",
        "\n",
        "#Running Accuracy Line\n",
        "plt.plot(df['Date'], df['Running Weekly Average Accuracy'], color='b', label='Running Weekly Accuracy')\n",
        "\n",
        "#Create XY Labels and Title\n",
        "plt.xlabel('Date') \n",
        "plt.ylabel('Accuracy Percentage') \n",
        "plt.title(\"Predicted Daily COVID-19 Case Accuracy in PA\")\n",
        "\n",
        "#Display Plot\n",
        "plt.legend()\n",
        "plt.show()"
      ]
    },
    {
      "cell_type": "code",
      "execution_count": 65,
      "id": "4243a737",
      "metadata": {
        "id": "4243a737"
      },
      "outputs": [],
      "source": [
        "#merged_df_new.to_csv('DDS_everyday_predictions.csv')"
      ]
    },
    {
      "cell_type": "code",
      "execution_count": 68,
      "id": "b8d57b22",
      "metadata": {
        "id": "b8d57b22"
      },
      "outputs": [],
      "source": [
        "#Calculate Monthly Accuracy Averages\n",
        "#We are going to use an average of 30 days per month for these calculations\n",
        "\n",
        "monthlyAccuracy = 0\n",
        "averageMonthlyAccuracy = []\n",
        "amountOfMonths = int(length / 30)\n",
        "remainderDays = length % 30\n",
        "\n",
        "i = 0\n",
        "while i < length:\n",
        "  monthlyAccuracy += accuracy[i]\n",
        "  if (i + 1) % 30 == 0 and amountOfMonths > 0:\n",
        "    averageMonthlyAccuracy.append(monthlyAccuracy / 30)\n",
        "    amountOfMonths -= 1\n",
        "    monthlyAccuracy = 0\n",
        "  if (i + 1) % remainderDays == 0 and remainderDays > 0 and amountOfMonths == 0:\n",
        "    averageMonthlyAccuracy.append(monthlyAccuracy / remainderDays)\n",
        "    monthlyAccuracy = 0\n",
        "  i += 1\n",
        "\n",
        "weeklyDateListForMonths = []\n",
        "i = 0\n",
        "weeklyDateListForMonths.append(merged_df_new['Date'][i])\n",
        "while i < length:\n",
        "  if (i + 1) % 30 == 0:\n",
        "    weeklyDateListForMonths.append(merged_df_new['Date'][i])\n",
        "  i += 1\n"
      ]
    },
    {
      "cell_type": "code",
      "execution_count": 69,
      "id": "c9d81c9a",
      "metadata": {
        "id": "c9d81c9a",
        "colab": {
          "base_uri": "https://localhost:8080/"
        },
        "outputId": "065562fc-35d7-49e8-86fb-21c0706c7527"
      },
      "outputs": [
        {
          "output_type": "execute_result",
          "data": {
            "text/plain": [
              "14"
            ]
          },
          "metadata": {},
          "execution_count": 69
        }
      ],
      "source": [
        "#del averageMonthlyAccuracy[-1:]\n",
        "len(averageMonthlyAccuracy)"
      ]
    },
    {
      "cell_type": "code",
      "execution_count": 70,
      "id": "d2d88cd5",
      "metadata": {
        "id": "d2d88cd5"
      },
      "outputs": [],
      "source": [
        "#Create Dataframe for Monthly Accuracy\n",
        "i = 0\n",
        "data = []\n",
        "while i < len(averageMonthlyAccuracy):\n",
        "  data.append([weeklyDateListForMonths[i], averageMonthlyAccuracy[i]])\n",
        "  i += 1\n",
        "\n",
        "df = pd.DataFrame(data, columns = ['Month Of', 'Average Monthly Accuracy'])"
      ]
    },
    {
      "cell_type": "code",
      "execution_count": 71,
      "id": "bbf2b69a",
      "metadata": {
        "id": "bbf2b69a",
        "colab": {
          "base_uri": "https://localhost:8080/",
          "height": 295
        },
        "outputId": "22016661-b669-47df-f04b-c8ccf6ca3047"
      },
      "outputs": [
        {
          "output_type": "display_data",
          "data": {
            "text/plain": [
              "<Figure size 432x288 with 1 Axes>"
            ],
            "image/png": "[encoded data removed]"
          },
          "metadata": {
            "needs_background": "light"
          }
        }
      ],
      "source": [
        "#Create plot of Monthly Accuracy\n",
        "\n",
        "#Accuracy Line\n",
        "plt.plot(df['Month Of'], df['Average Monthly Accuracy'], color='r', label='Monthly Accuracy')\n",
        "\n",
        "#Create XY Labels and Title\n",
        "plt.xlabel('Month Of (Year/Month/Day)') \n",
        "plt.ylabel('Average Monthly Accuracy Percentage') \n",
        "plt.title(\"Predicted Daily COVID-19 Case Monthly Accuracy in PA\")\n",
        "\n",
        "#Display Plot\n",
        "plt.legend()\n",
        "plt.show()"
      ]
    },
    {
      "cell_type": "code",
      "source": [
        "#Calculate Running Monthly Accuracy\n",
        "\n",
        "runningmonthlyAccuracy = 0\n",
        "runningAveragemonthlyAccuracy = []\n",
        "length = len(accuracy)\n",
        "\n",
        "i = 1\n",
        "j = 31\n",
        "#Add first week average\n",
        "runningAveragemonthlyAccuracy.append(averageMonthlyAccuracy[0])\n",
        "\n",
        "while j < length:\n",
        "  temp_i = i\n",
        "  temp_j = j\n",
        "  while temp_i < temp_j:\n",
        "    runningmonthlyAccuracy += accuracy[temp_i]\n",
        "    temp_i += 1\n",
        "  runningAveragemonthlyAccuracy.append(runningmonthlyAccuracy / 30)\n",
        "  runningmonthlyAccuracy = 0\n",
        "\n",
        "  i += 1\n",
        "  j += 1"
      ],
      "metadata": {
        "id": "X02LeClcSWTa"
      },
      "id": "X02LeClcSWTa",
      "execution_count": 72,
      "outputs": []
    },
    {
      "cell_type": "code",
      "source": [
        "#Create Dataframe for Running Monthly Accuracy\n",
        "i = 0\n",
        "data = []\n",
        "while i < len(runningAveragemonthlyAccuracy):\n",
        "  data.append([merged_df_new['Date'][i], runningAveragemonthlyAccuracy[i]])\n",
        "  i += 1\n",
        "\n",
        "df = pd.DataFrame(data, columns = ['Date', 'Running Monthly Average Accuracy'])"
      ],
      "metadata": {
        "id": "0IAKKnIZSc7e"
      },
      "id": "0IAKKnIZSc7e",
      "execution_count": 73,
      "outputs": []
    },
    {
      "cell_type": "code",
      "source": [
        "#Create plot of Running Monthly Accuracy\n",
        "\n",
        "#Accuracy Line\n",
        "plt.plot(df['Date'], df['Running Monthly Average Accuracy'], color='r', label='Running Monthly Accuracy')\n",
        "\n",
        "#Create XY Labels and Title\n",
        "plt.xlabel('Date') \n",
        "plt.ylabel('Accuracy Percentage') \n",
        "plt.title(\"Predicted Daily COVID-19 Case Running Monthly Accuracy in PA\")\n",
        "\n",
        "#Display Plot\n",
        "plt.legend()\n",
        "plt.show()"
      ],
      "metadata": {
        "colab": {
          "base_uri": "https://localhost:8080/",
          "height": 295
        },
        "id": "qhK2tbJaSkPW",
        "outputId": "5a3534cc-cdd9-4b6f-ad07-e5608a6a16bf"
      },
      "id": "qhK2tbJaSkPW",
      "execution_count": 74,
      "outputs": [
        {
          "output_type": "display_data",
          "data": {
            "text/plain": [
              "<Figure size 432x288 with 1 Axes>"
            ],
            "image/png": "[encoded data removed]"
          },
          "metadata": {
            "needs_background": "light"
          }
        }
      ]
    },
    {
      "cell_type": "code",
      "source": [
        "#Calculate Yearly Accuracy Averages\n",
        "#We are going to use an average of 365 days per year for these calculations\n",
        "\n",
        "yearlyAccuracy = 0\n",
        "averageYearlyAccuracy = []\n",
        "amountOfYears = int(length / 365)\n",
        "remainderDays = length % 365\n",
        "\n",
        "i = 0\n",
        "while i < length:\n",
        "  yearlyAccuracy += accuracy[i]\n",
        "  if (i + 1) % 365 == 0 and amountOfYears > 0:\n",
        "    averageYearlyAccuracy.append(yearlyAccuracy / 365)\n",
        "    amountOfYears -= 1\n",
        "    yearlyAccuracy = 0\n",
        "  if (i + 1) % remainderDays == 0 and remainderDays > 0 and amountOfYears == 0:\n",
        "    averageYearlyAccuracy.append(yearlyAccuracy / remainderDays)\n",
        "    yearlyAccuracy = 0\n",
        "  i += 1\n",
        "\n",
        "weeklyDateListForYears = []\n",
        "i = 0\n",
        "weeklyDateListForYears.append(merged_df_new['Date'][i])\n",
        "while i < length:\n",
        "  if (i + 1) % 365 == 0:\n",
        "    weeklyDateListForYears.append(merged_df_new['Date'][i])\n",
        "  i += 1"
      ],
      "metadata": {
        "id": "wuFLInYkSl0D"
      },
      "id": "wuFLInYkSl0D",
      "execution_count": 75,
      "outputs": []
    },
    {
      "cell_type": "code",
      "source": [
        "print(averageYearlyAccuracy)"
      ],
      "metadata": {
        "colab": {
          "base_uri": "https://localhost:8080/"
        },
        "id": "0X5tj6YASxgP",
        "outputId": "cb03c9e1-4cf5-4662-a93d-e8217a926f20"
      },
      "id": "0X5tj6YASxgP",
      "execution_count": 76,
      "outputs": [
        {
          "output_type": "stream",
          "name": "stdout",
          "text": [
            "[0.49166943555407455, 0.20468706622876662]\n"
          ]
        }
      ]
    },
    {
      "cell_type": "code",
      "source": [
        "#Create Dataframe for Yearly Accuracy\n",
        "i = 0\n",
        "data = []\n",
        "while i < len(averageYearlyAccuracy):\n",
        "  data.append([weeklyDateListForYears[i], averageYearlyAccuracy[i]])\n",
        "  i += 1\n",
        "\n",
        "df = pd.DataFrame(data, columns = ['Year Of', 'Average Yearly Accuracy'])"
      ],
      "metadata": {
        "id": "KMVJGUxoSyb5"
      },
      "id": "KMVJGUxoSyb5",
      "execution_count": 77,
      "outputs": []
    },
    {
      "cell_type": "code",
      "source": [
        "#Create plot of Yearly Accuracy\n",
        "\n",
        "#Accuracy Line\n",
        "plt.plot(df['Year Of'], df['Average Yearly Accuracy'], color='r', label='Yearly Accuracy')\n",
        "\n",
        "#Create XY Labels and Title\n",
        "plt.xlabel('Year Of (Year/Month/Day)') \n",
        "plt.ylabel('Average Yearly Accuracy Percentage') \n",
        "plt.title(\"Predicted Daily COVID-19 Case Yearly Accuracy in PA\")\n",
        "\n",
        "#Display Plot\n",
        "plt.legend()\n",
        "plt.show()"
      ],
      "metadata": {
        "colab": {
          "base_uri": "https://localhost:8080/",
          "height": 295
        },
        "id": "OVaiiME4S2Bl",
        "outputId": "4cbc6c10-43aa-41fe-a8ee-0d46ff2d1831"
      },
      "id": "OVaiiME4S2Bl",
      "execution_count": 78,
      "outputs": [
        {
          "output_type": "display_data",
          "data": {
            "text/plain": [
              "<Figure size 432x288 with 1 Axes>"
            ],
            "image/png": "[encoded data removed]"
          },
          "metadata": {
            "needs_background": "light"
          }
        }
      ]
    },
    {
      "cell_type": "code",
      "source": [
        "#Calculate Running Yearly Accuracy\n",
        "\n",
        "runningyearlyAccuracy = 0\n",
        "runningAverageyearlyAccuracy = []\n",
        "length = len(accuracy)\n",
        "\n",
        "i = 1\n",
        "j = 366\n",
        "#Add first week average\n",
        "runningAverageyearlyAccuracy.append(averageYearlyAccuracy[0])\n",
        "\n",
        "while j < length:\n",
        "  temp_i = i\n",
        "  temp_j = j\n",
        "  while temp_i < temp_j:\n",
        "    runningyearlyAccuracy += accuracy[temp_i]\n",
        "    temp_i += 1\n",
        "  runningAverageyearlyAccuracy.append(runningyearlyAccuracy / 365)\n",
        "  runningyearlyAccuracy = 0\n",
        "\n",
        "  i += 1\n",
        "  j += 1"
      ],
      "metadata": {
        "id": "7_8g8buyS4r6"
      },
      "id": "7_8g8buyS4r6",
      "execution_count": 79,
      "outputs": []
    },
    {
      "cell_type": "code",
      "source": [
        "#Create Dataframe for Running Yearly Accuracy\n",
        "i = 0\n",
        "data = []\n",
        "while i < len(runningAverageyearlyAccuracy):\n",
        "  data.append([merged_df_new['Date'][i], runningAverageyearlyAccuracy[i]])\n",
        "  i += 1\n",
        "\n",
        "df = pd.DataFrame(data, columns = ['Date', 'Running Yearly Average Accuracy'])"
      ],
      "metadata": {
        "id": "GMw16lzPS7I8"
      },
      "id": "GMw16lzPS7I8",
      "execution_count": 80,
      "outputs": []
    },
    {
      "cell_type": "code",
      "source": [
        "#Create plot of Running Yearly Accuracy\n",
        "\n",
        "#Accuracy Line\n",
        "plt.plot(df['Date'], df['Running Yearly Average Accuracy'], color='r', label='Running Yearly Accuracy')\n",
        "\n",
        "#Create XY Labels and Title\n",
        "plt.xlabel('Date') \n",
        "plt.ylabel('Accuracy Percentage') \n",
        "plt.title(\"Predicted Daily COVID-19 Case Running Yearly Accuracy in PA\")\n",
        "\n",
        "#Display Plot\n",
        "plt.legend()\n",
        "plt.show()"
      ],
      "metadata": {
        "colab": {
          "base_uri": "https://localhost:8080/",
          "height": 295
        },
        "id": "9Tg8c7xFTEo5",
        "outputId": "858e7ff0-3689-401e-d1df-f98ed5e04cc8"
      },
      "id": "9Tg8c7xFTEo5",
      "execution_count": 81,
      "outputs": [
        {
          "output_type": "display_data",
          "data": {
            "text/plain": [
              "<Figure size 432x288 with 1 Axes>"
            ],
            "image/png": "[encoded data removed]"
          },
          "metadata": {
            "needs_background": "light"
          }
        }
      ]
    },
    {
      "cell_type": "code",
      "source": [
        "#Calculate Overall Accuracy\n",
        "overallAccuracy = merged_df_new['Accuracy'].mean()\n",
        "print(overallAccuracy)"
      ],
      "metadata": {
        "colab": {
          "base_uri": "https://localhost:8080/"
        },
        "id": "wvfzf5lyTIzD",
        "outputId": "025cb6d1-06cf-498a-dab7-3b3be4ca0fbb"
      },
      "id": "wvfzf5lyTIzD",
      "execution_count": 82,
      "outputs": [
        {
          "output_type": "stream",
          "name": "stdout",
          "text": [
            "0.5092751011195187\n"
          ]
        }
      ]
    },
    {
      "cell_type": "code",
      "source": [
        "#cleans accuracy list of all nan values\n",
        "newlist = [x for x in accuracy if math.isnan(x) == False]\n",
        "print(newlist)"
      ],
      "metadata": {
        "colab": {
          "base_uri": "https://localhost:8080/"
        },
        "id": "KBrFkfHKjOwJ",
        "outputId": "2655c72a-2915-453b-c1c8-d300baaf6d08"
      },
      "id": "KBrFkfHKjOwJ",
      "execution_count": 84,
      "outputs": [
        {
          "output_type": "stream",
          "name": "stdout",
          "text": [
            "[0.4131135179599672, 0.43746370499419285, 0.29144501402456724, 0.3114792226586728, 0.2931319616712875, 0.24041568596162288, 0.21539368812323534, 0.3577727784026996, 0.34642530388184556, 0.25198060590695903, 0.23694797067763274, 0.20774114327515936, 0.19361318756239498, 0.20338918020207186, 0.28024183040600403, 0.3374968616620637, 0.25292817159791137, 0.24094819860189987, 0.22092115534738477, 0.21361036071825834, 0.2213030415277606, 0.4009176587301587, 0.5398680804876013, 0.4465983653735467, 0.38233207190160834, 0.3275195434514664, 0.3757481840193704, 0.3516678752719361, 0.6977689222137745, 0.8604079785342515, 0.6460735526156087, 0.42241338264002415, 0.3510426421514964, 0.3057122181509091, 0.30443933518639255, 0.45333298713887593, 0.5259886324837821, 0.3630270854703225, 0.45838730003150496, 0.3060915604071949, 0.29243060363116646, 0.33007120801562795, 0.40710921960921953, 0.49185440409930203, 0.39854107608166534, 0.3886856472625214, 0.4087831884398496, 0.42503664569718436, 0.3874737267020225, 0.8253292963224894, 0.6863409972248259, 0.6374630865609477, 0.539535656495608, 0.607622844126261, 0.7580176998335566, 0.7327192104695195, 0.9994660071386415, 0.6209865053513262, 0.5607379375591297, 0.5348232144737041, 0.6049399516891778, 0.5978213361126988, 0.643399913156752, 0.7826522199976446, 0.9541645355470747, 0.4347371003352687, 0.38245831115203666, 0.40108033073812543, 0.35926476550885256, 0.39221530380381864, 0.3318460517066312, 0.4636718323693113, 0.31923546538931147, 0.29639674206882116, 0.37156193974375784, 0.35924618441635303, 0.35164914749213694, 0.5126558834424003, 0.7455289808230985, 0.5267698553666582, 0.5237002093791782, 0.5095729013254786, 0.5499192074382135, 0.5042874146768043, 0.4000784724038713, 0.4037750791974657, 0.2994322631166797, 0.27346683354192736, 0.2186249285305889, 0.18156457739791076, 0.2782426778242678, 0.45772742034424274, 0.5401319991483926, 0.4827231905015602, 0.5765647016044726, 0.5386869373195176, 0.3583434560298313, 0.4378214199427052, 0.30175959780621575, 0.5588235294117647, 0.2947544642857143, 0.42803889789303085, 0.32396957801766435, 0.37760937946811557, 0.3421870951023581, 0.4827646038172354, 0.6322526889865172, 0.4943733712390428, 0.3395297754637163, 0.36178051317614424, 0.4263241227846162, 0.4203132081172264, 0.6844649364170448, 0.8748217850014257, 0.45246288467210694, 0.4750206440957886, 0.534712136176146, 0.38468611552286225, 0.3759957514604355, 0.725888923851479, 0.7624142774518715, 0.5097503038338305, 0.5042900863482348, 0.4032469518856794, 0.4922383441800918, 0.4591481315619247, 0.9821658393086964, 0.9038709038709039, 0.5132103457865951, 0.6002710761724045, 0.5579239103048628, 0.5045340624287993, 0.5499701967017683, 0.9457782072246171, 0.5690577078288942, 0.6367738170063751, 0.6136324305615644, 0.6351768920734437, 0.5675670268107242, 0.493356290653588, 0.9373122672113421, 0.6232683314215124, 0.6262794524946815, 0.4520236405249587, 0.5904446546830653, 0.4381617006936449, 0.5413963010513898, 0.7603037633158116, 0.79337168098636, 0.42452597402597403, 0.5170267619891181, 0.5929133715446565, 0.4683837225963605, 0.42498959904311195, 0.7783938982159295, 0.9444473992128497, 0.49770172930855683, 0.5509960282983741, 0.5555816281834678, 0.4810896480723903, 0.5289378053139521, 0.5551214771622935, 0.8050794903596799, 0.2841325109430959, 0.3409780091210811, 0.40598436389481163, 0.3589147481652759, 0.3936082246906094, 0.4479530345784112, 0.6134964302089474, 0.25786003358753407, 0.29465662063107556, 0.2929791360380368, 0.32413655869324476, 0.3285135561713023, 0.43646694214876036, 0.6692185850052799, 0.3258354755784062, 0.37566686425607587, 0.33302679978980554, 0.28387458006718924, 0.40847566870770224, 0.34356075898264027, 0.5095808383233533, 0.2564025308827961, 0.3031706448165301, 0.34481361426256074, 0.27629870129870127, 0.3271818531334102, 0.5236276328713303, 0.6786421499292787, 0.2565226689478187, 0.3170344918726048, 0.3216464436548905, 0.3669317834200062, 0.3446096387272859, 0.4152870493991989, 0.5452234881682734, 0.2261359505634315, 0.34796957154044084, 0.3113925317849635, 0.21707725591457883, 0.3206039991754278, 0.19188988095238102, 0.2896451033243487, 0.14820135616595798, 0.16418385536032598, 0.18095705865843392, 0.17280889841865454, 0.21904195685408534, 0.3603205305332965, 0.4424838819138106, 0.36526610644257707, 0.23882783882783876, 0.2924422516259251, 0.22552749913524728, 0.2792889269650889, 0.34466546112115726, 0.5602586713697825, 0.20596498811324826, 0.30253968253968244, 0.22842761265580047, 0.2940450478247454, 0.3679536679536679, 0.3870513722730471, 0.4340962904498816, 0.16681831968456173, 0.2786220871327254, 0.23524379811804952, 0.2584586466165413, 0.3069196428571428, 0.621374865735768, 0.7063492063492063, 0.30722251725969196, 0.33323732718894006, 0.3640654499685336, 0.38618157543391185, 0.4051120448179272, 0.5765306122448979, 0.8678955453149001, 0.39957567185289955, 0.42038690476190477, 0.41820873427091043, 0.4509177972865124, 0.34641324340895163, 0.87248322147651, 0.6341463414634146, 0.41509433962264153, 0.8155339805825242, 0.6486486486486487, 0.6829268292682926, 0.6109090909090908, 0.48850174216027886, -0.26173096976016663, 0.8728370221327967, 0.9563492063492063, 0.7189260855154126, 0.7026239067055393, 0.6901049952274896, 0.5288621262458473, -0.048872180451127845, 0.8364817001180638, 0.887844611528822, 0.8606656948493683, 0.7761831726555652, 0.7553304904051172, 0.44228476031481045, -0.144991789819376, 0.8671667551779076, 0.8771703627299295, 0.8591817942646671, 0.8810872791042763, 0.7801600573339704, 0.8856855995410212, 0.7529695024077045, 0.704671201814059, 0.7670056274064567, 0.5976613585660435, 0.6323972323972324, 0.6486599315354429, 0.9834392773502844, 0.8289439876670092, 0.6087958324984973, 0.6850154054257158, 0.5522537259178482, 0.6293930815438791, 0.5698968427633635, 0.7604766367652966, 0.7360925678682688, 0.6227387347878522, 0.7264356055761607, 0.4095021808874951, 0.647588644396306, 0.5781464705582982, 0.856296006774803, 0.9704730576441103, 0.608311351751585, 0.5079408014220024, 0.5781579873328642, 0.4732502880184333, 0.4864914877868246, 0.7456580470860672, 0.7597325992921746, 0.539815590947192, 0.49135300101729396, 0.518379393614167, 0.4750430292598967, 0.41450332546663804, 0.687514350002296, 0.8593238822246455, 0.9231148652814599, 0.4247978436657681, 0.492483799875004, 0.4116353238755086, 0.39571825029734364, 0.6105887239907858, 0.7377378290824473, 0.48823866896156054, 0.5725972094340959, 0.36728528269313765, 0.40262456734480434, 0.4348375645438898, 0.47516488371359145, 0.8432267458139664, 0.44142651930462307, 0.46721794712672204, 0.3834351922587217, 0.4218614294119295, 0.40042282735879164, 0.44265976995848366, 0.6064901156284968, 0.3481239629609806, 0.38204887218045114, 0.3717314891549739, 0.340283046014597, 0.46008559402963956, 0.3047635476477981, 0.44524049539170507, 0.36669038723833247, 0.3583598956824109, 0.28114485768846054, 0.31924725076152616, 0.32168869004265943, 0.485201068616423, 0.7162575891235535, 0.42387298857634204, 0.41260873464263303, 0.3463043805509559, 0.3771723685648706, 0.41338724168912855, 0.6736296468221732, 0.8481807997662072, 0.6428202288667405, 0.5601698459162994, 0.5722830194879884, 0.5347623142120133, 0.5048121521335807, 0.9054437812860993, 0.7015815918693615, 0.8656122720870922, 0.7180908172287483, 0.7308532861963684, 0.6909066050920581, 0.7279056368234051, 0.9129287598944591, 0.6925823086076954, 0.8872139973082099, 0.8037064130699829, 0.6495861253448956, 0.6142377935147223, 0.6740286298568507, 0.9422577933706099, 0.7835912436308737, 0.9121559470742234, 0.695090717925215, 0.652024378524644, 0.5702563422024639, 0.6529490718464305, 0.9048491379310345, 0.6985430874147551, 0.6504260263361735, 0.7399541769474798, 0.5572736925935757, 0.6083900883929865, 0.6403080677138935, 0.8790526020741848, 0.702109400263675, 0.690565899248893, 0.5733277812760254, 0.5785099405615906, 0.7091477815185167, 0.8460374078292668, 0.8724152942030037, 0.8398767867275527, 0.7062873503147084, 0.610116594040749, 0.4775167836787366, 0.40689348221649146, 0.5201392258906609]\n"
          ]
        }
      ]
    },
    {
      "cell_type": "code",
      "source": [
        "#calculate variance and st deviation of accuracy\n",
        "var = sum((l-overallAccuracy)**2 for l in newlist) / len(newlist)\n",
        "st_dev = math.sqrt(var)\n",
        "print(var)\n",
        "print(st_dev)"
      ],
      "metadata": {
        "colab": {
          "base_uri": "https://localhost:8080/"
        },
        "id": "ZijPJi2lTkrT",
        "outputId": "ea90ea11-8579-486c-888b-8c124515e4a4"
      },
      "id": "ZijPJi2lTkrT",
      "execution_count": 85,
      "outputs": [
        {
          "output_type": "stream",
          "name": "stdout",
          "text": [
            "0.04258923171011372\n",
            "0.20637158648930748\n"
          ]
        }
      ]
    },
    {
      "cell_type": "code",
      "source": [
        "#calculate median of accuracy\n",
        "accMedian = statistics.median(newlist)\n",
        "print(accMedian)"
      ],
      "metadata": {
        "colab": {
          "base_uri": "https://localhost:8080/"
        },
        "id": "JkBubTMaTmm0",
        "outputId": "bc185688-3639-40c4-8585-de0c137d419d"
      },
      "id": "JkBubTMaTmm0",
      "execution_count": 86,
      "outputs": [
        {
          "output_type": "stream",
          "name": "stdout",
          "text": [
            "0.4827231905015602\n"
          ]
        }
      ]
    },
    {
      "cell_type": "code",
      "source": [
        "#Seperate Running Weekly Average plot into 3 plots for the 3 variants: Original, Delta, Omicron\n",
        "\n",
        "# Start Date - May 20th 2021\n",
        "# Delta: May 20th 2021 - December 1st 2021"
      ],
      "metadata": {
        "id": "QA5c4LGoTo2Y"
      },
      "id": "QA5c4LGoTo2Y",
      "execution_count": 87,
      "outputs": []
    },
    {
      "cell_type": "code",
      "source": [
        "type(merged_df_new['Date'][1])"
      ],
      "metadata": {
        "colab": {
          "base_uri": "https://localhost:8080/"
        },
        "id": "PWR2ZpCgTr1O",
        "outputId": "9bd738c9-d27d-4f1e-ac5e-b57725a6c1a7"
      },
      "id": "PWR2ZpCgTr1O",
      "execution_count": 88,
      "outputs": [
        {
          "output_type": "execute_result",
          "data": {
            "text/plain": [
              "pandas._libs.tslibs.timestamps.Timestamp"
            ]
          },
          "metadata": {},
          "execution_count": 88
        }
      ]
    },
    {
      "cell_type": "code",
      "source": [
        "merged_df_new.index[merged_df_new['Date']=='2021-05-20'].tolist()"
      ],
      "metadata": {
        "colab": {
          "base_uri": "https://localhost:8080/"
        },
        "id": "2g6bUui0kDv6",
        "outputId": "406bd0a1-0eb9-491a-c44f-c8233655e7bc"
      },
      "id": "2g6bUui0kDv6",
      "execution_count": 89,
      "outputs": [
        {
          "output_type": "execute_result",
          "data": {
            "text/plain": [
              "[201]"
            ]
          },
          "metadata": {},
          "execution_count": 89
        }
      ]
    },
    {
      "cell_type": "code",
      "source": [
        "#print(merged_inner)\n",
        "standardVariantDF = merged_df_new[:201]\n",
        "deltaVariantDF = merged_df_new[201:]"
      ],
      "metadata": {
        "id": "_tncXpS9T0gn"
      },
      "id": "_tncXpS9T0gn",
      "execution_count": 90,
      "outputs": []
    },
    {
      "cell_type": "code",
      "source": [
        "#Create plot of Accuracy\n",
        "\n",
        "#Accuracy Line\n",
        "plt.plot(standardVariantDF['Date'], standardVariantDF['Accuracy'], color='r', label='Daily Accuracy')\n",
        "\n",
        "#Create XY Labels and Title\n",
        "plt.xlabel('Date (Year/Month/Day)') \n",
        "plt.ylabel('Percentage') \n",
        "plt.title(\"(Standard covid) Predicted Daily COVID-19 Case Accuracy in PA\")\n",
        "\n",
        "#Display Plot\n",
        "plt.legend()\n",
        "plt.show()"
      ],
      "metadata": {
        "colab": {
          "base_uri": "https://localhost:8080/",
          "height": 295
        },
        "id": "iGb97-d2T64q",
        "outputId": "87c4301b-c58e-4242-ffda-5c2a70a5e823"
      },
      "id": "iGb97-d2T64q",
      "execution_count": 91,
      "outputs": [
        {
          "output_type": "display_data",
          "data": {
            "text/plain": [
              "<Figure size 432x288 with 1 Axes>"
            ],
            "image/png": "[encoded data removed]"
          },
          "metadata": {
            "needs_background": "light"
          }
        }
      ]
    },
    {
      "cell_type": "code",
      "source": [
        "#Create plot of Accuracy\n",
        "\n",
        "#Accuracy Line\n",
        "plt.plot(deltaVariantDF['Date'], deltaVariantDF['Accuracy'], color='r', label='Daily Accuracy')\n",
        "\n",
        "#Create XY Labels and Title\n",
        "plt.xlabel('Date (Year/Month/Day)') \n",
        "plt.ylabel('Percentage') \n",
        "plt.title(\"(Delta covid) Predicted Daily COVID-19 Case Accuracy in PA\")\n",
        "\n",
        "#Display Plot\n",
        "plt.legend()\n",
        "plt.show()"
      ],
      "metadata": {
        "colab": {
          "base_uri": "https://localhost:8080/",
          "height": 295
        },
        "id": "6QjpiX7pT9O9",
        "outputId": "ce845804-3136-4d4b-d3fa-6d164b0951e7"
      },
      "id": "6QjpiX7pT9O9",
      "execution_count": 92,
      "outputs": [
        {
          "output_type": "display_data",
          "data": {
            "text/plain": [
              "<Figure size 432x288 with 1 Axes>"
            ],
            "image/png": "[encoded data removed]"
          },
          "metadata": {
            "needs_background": "light"
          }
        }
      ]
    }
  ],
  "metadata": {
    "kernelspec": {
      "display_name": "Python 3 (ipykernel)",
      "language": "python",
      "name": "python3"
    },
    "language_info": {
      "codemirror_mode": {
        "name": "ipython",
        "version": 3
      },
      "file_extension": ".py",
      "mimetype": "text/x-python",
      "name": "python",
      "nbconvert_exporter": "python",
      "pygments_lexer": "ipython3",
      "version": "3.9.7"
    },
    "colab": {
      "name": "JHU_CSSE-DECOM-analysis.ipynb",
      "provenance": [],
      "collapsed_sections": []
    }
  },
  "nbformat": 4,
  "nbformat_minor": 5
}