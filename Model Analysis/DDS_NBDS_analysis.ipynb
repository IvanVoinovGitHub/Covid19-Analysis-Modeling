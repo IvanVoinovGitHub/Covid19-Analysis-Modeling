{
  "cells": [
    {
      "cell_type": "code",
      "execution_count": 2,
      "id": "19d98421",
      "metadata": {
        "id": "19d98421"
      },
      "outputs": [],
      "source": [
        "#import libraries\n",
        "import csv\n",
        "import pandas as pd\n",
        "import matplotlib.pyplot as plt\n",
        "import math\n",
        "import numpy as np\n",
        "import statistics\n",
        "import glob\n",
        "import requests\n",
        "from itertools import repeat"
      ]
    },
    {
      "cell_type": "code",
      "execution_count": 3,
      "id": "bb3a7895",
      "metadata": {
        "id": "bb3a7895"
      },
      "outputs": [],
      "source": [
        "#actual COVID-19 cases data for PA\n",
        "url2 = 'https://raw.githubusercontent.com/IvanVoinovGitHub/Covid19-Analysis-Modeling/main/Data/COVID-19_Aggregate_Cases_Current_Daily_County_Health.csv'\n",
        "df1 = pd.read_csv(url2)"
      ]
    },
    {
      "cell_type": "code",
      "source": [
        "url = 'https://github.com/reichlab/covid19-forecast-hub/tree/master/data-processed/DDS-NBDS'\n",
        "download = requests.get(url).content\n",
        "\n",
        "csvStringList = []\n",
        "hrefStringList = []\n",
        "urlExtension = []\n",
        "rawUrls = []\n",
        "tempList = []\n",
        "urlExtensionwoutblob = []\n",
        "urlBeginning = 'https://raw.githubusercontent.com'\n",
        "\n",
        "urlStringList = str(requests.get(url).text).split(\" \")\n",
        "for i in urlStringList:\n",
        "  if \"csv\" in i:\n",
        "    csvStringList.append(i)\n",
        "\n",
        "for i in csvStringList:\n",
        "  if \"href\" in i and \"/reichlab/covid19-forecast-hub/blob/master/data-processed/\" in i:\n",
        "    hrefStringList.append(i)\n",
        "\n",
        "for i in hrefStringList:\n",
        "  tempList1 = i.split(\"\\\"\")\n",
        "  for x in tempList1:\n",
        "    if \"/reichlab/covid19-forecast-hub/blob/master/data-processed/\" in x:\n",
        "      urlExtension.append(x)\n",
        "\n",
        "for i in urlExtension:\n",
        "  newString = \"\"\n",
        "  tempList = []\n",
        "  temp = i.split(\"/\")\n",
        "  for x in temp:\n",
        "    if \"blob\" not in x:\n",
        "      tempList.append(x)\n",
        "  for j in range(1, len(tempList)):\n",
        "    newString += \"/\" + tempList[j]\n",
        "  urlExtensionwoutblob.append(newString)\n",
        "\n",
        "\n",
        "for i in urlExtensionwoutblob:\n",
        "  finalUrl = urlBeginning + i\n",
        "  rawUrls.append(finalUrl)"
      ],
      "metadata": {
        "id": "e6DAnRmPG2su"
      },
      "id": "e6DAnRmPG2su",
      "execution_count": 4,
      "outputs": []
    },
    {
      "cell_type": "code",
      "execution_count": 5,
      "id": "922310e5",
      "metadata": {
        "id": "922310e5"
      },
      "outputs": [],
      "source": [
        "#reading all the raw data, filtering PA cases data, and ensemble back into one dataframe\n",
        "all_data = []\n",
        "for url in rawUrls:\n",
        "    df3=pd.read_csv(url)\n",
        "    df2_case = df3[df3['target'].str.contains('case')]\n",
        "    df2_casesPA = df2_case[(df2_case[\"type\"]==\"point\") & (df2_case[\"location\"]==\"42\")]\n",
        "    all_data.append(df2_casesPA)"
      ]
    },
    {
      "cell_type": "code",
      "source": [
        "len(all_data)"
      ],
      "metadata": {
        "colab": {
          "base_uri": "https://localhost:8080/"
        },
        "id": "EJhiatXOHTk6",
        "outputId": "9007455d-cc5a-491b-dbe2-af4461a17b38"
      },
      "id": "EJhiatXOHTk6",
      "execution_count": 6,
      "outputs": [
        {
          "output_type": "execute_result",
          "data": {
            "text/plain": [
              "85"
            ]
          },
          "metadata": {},
          "execution_count": 6
        }
      ]
    },
    {
      "cell_type": "code",
      "source": [
        "#collapsing all the data in one dataframe\n",
        "df2 = pd.concat(all_data)\n",
        "df2.head(5)"
      ],
      "metadata": {
        "colab": {
          "base_uri": "https://localhost:8080/",
          "height": 206
        },
        "id": "JSLzadVFHX4i",
        "outputId": "d06639c6-cb44-45cb-a21c-28489fa003aa"
      },
      "id": "JSLzadVFHX4i",
      "execution_count": 7,
      "outputs": [
        {
          "output_type": "execute_result",
          "data": {
            "text/plain": [
              "      forecast_date location               target   type  quantile  \\\n",
              "2534     2020-07-27       42  1 wk ahead inc case  point       NaN   \n",
              "5446     2020-07-27       42  2 wk ahead inc case  point       NaN   \n",
              "8358     2020-07-27       42  3 wk ahead inc case  point       NaN   \n",
              "11270    2020-07-27       42  4 wk ahead inc case  point       NaN   \n",
              "2534     2020-08-03       42  1 wk ahead inc case  point       NaN   \n",
              "\n",
              "      target_end_date        value  \n",
              "2534       2020-08-01  5054.403600  \n",
              "5446       2020-08-08  4941.833200  \n",
              "8358       2020-08-15  3905.944000  \n",
              "11270      2020-08-22  3008.857800  \n",
              "2534       2020-08-08  5611.584782  "
            ],
            "text/html": [
              "\n",
              "  <div id=\"df-074d4032-7178-4bcf-9618-1193c3c910ef\">\n",
              "    <div class=\"colab-df-container\">\n",
              "      <div>\n",
              "<style scoped>\n",
              "    .dataframe tbody tr th:only-of-type {\n",
              "        vertical-align: middle;\n",
              "    }\n",
              "\n",
              "    .dataframe tbody tr th {\n",
              "        vertical-align: top;\n",
              "    }\n",
              "\n",
              "    .dataframe thead th {\n",
              "        text-align: right;\n",
              "    }\n",
              "</style>\n",
              "<table border=\"1\" class=\"dataframe\">\n",
              "  <thead>\n",
              "    <tr style=\"text-align: right;\">\n",
              "      <th></th>\n",
              "      <th>forecast_date</th>\n",
              "      <th>location</th>\n",
              "      <th>target</th>\n",
              "      <th>type</th>\n",
              "      <th>quantile</th>\n",
              "      <th>target_end_date</th>\n",
              "      <th>value</th>\n",
              "    </tr>\n",
              "  </thead>\n",
              "  <tbody>\n",
              "    <tr>\n",
              "      <th>2534</th>\n",
              "      <td>2020-07-27</td>\n",
              "      <td>42</td>\n",
              "      <td>1 wk ahead inc case</td>\n",
              "      <td>point</td>\n",
              "      <td>NaN</td>\n",
              "      <td>2020-08-01</td>\n",
              "      <td>5054.403600</td>\n",
              "    </tr>\n",
              "    <tr>\n",
              "      <th>5446</th>\n",
              "      <td>2020-07-27</td>\n",
              "      <td>42</td>\n",
              "      <td>2 wk ahead inc case</td>\n",
              "      <td>point</td>\n",
              "      <td>NaN</td>\n",
              "      <td>2020-08-08</td>\n",
              "      <td>4941.833200</td>\n",
              "    </tr>\n",
              "    <tr>\n",
              "      <th>8358</th>\n",
              "      <td>2020-07-27</td>\n",
              "      <td>42</td>\n",
              "      <td>3 wk ahead inc case</td>\n",
              "      <td>point</td>\n",
              "      <td>NaN</td>\n",
              "      <td>2020-08-15</td>\n",
              "      <td>3905.944000</td>\n",
              "    </tr>\n",
              "    <tr>\n",
              "      <th>11270</th>\n",
              "      <td>2020-07-27</td>\n",
              "      <td>42</td>\n",
              "      <td>4 wk ahead inc case</td>\n",
              "      <td>point</td>\n",
              "      <td>NaN</td>\n",
              "      <td>2020-08-22</td>\n",
              "      <td>3008.857800</td>\n",
              "    </tr>\n",
              "    <tr>\n",
              "      <th>2534</th>\n",
              "      <td>2020-08-03</td>\n",
              "      <td>42</td>\n",
              "      <td>1 wk ahead inc case</td>\n",
              "      <td>point</td>\n",
              "      <td>NaN</td>\n",
              "      <td>2020-08-08</td>\n",
              "      <td>5611.584782</td>\n",
              "    </tr>\n",
              "  </tbody>\n",
              "</table>\n",
              "</div>\n",
              "      <button class=\"colab-df-convert\" onclick=\"convertToInteractive('df-074d4032-7178-4bcf-9618-1193c3c910ef')\"\n",
              "              title=\"Convert this dataframe to an interactive table.\"\n",
              "              style=\"display:none;\">\n",
              "        \n",
              "  <svg xmlns=\"http://www.w3.org/2000/svg\" height=\"24px\"viewBox=\"0 0 24 24\"\n",
              "       width=\"24px\">\n",
              "    <path d=\"M0 0h24v24H0V0z\" fill=\"none\"/>\n",
              "    <path d=\"M18.56 5.44l.94 2.06.94-2.06 2.06-.94-2.06-.94-.94-2.06-.94 2.06-2.06.94zm-11 1L8.5 8.5l.94-2.06 2.06-.94-2.06-.94L8.5 2.5l-.94 2.06-2.06.94zm10 10l.94 2.06.94-2.06 2.06-.94-2.06-.94-.94-2.06-.94 2.06-2.06.94z\"/><path d=\"M17.41 7.96l-1.37-1.37c-.4-.4-.92-.59-1.43-.59-.52 0-1.04.2-1.43.59L10.3 9.45l-7.72 7.72c-.78.78-.78 2.05 0 2.83L4 21.41c.39.39.9.59 1.41.59.51 0 1.02-.2 1.41-.59l7.78-7.78 2.81-2.81c.8-.78.8-2.07 0-2.86zM5.41 20L4 18.59l7.72-7.72 1.47 1.35L5.41 20z\"/>\n",
              "  </svg>\n",
              "      </button>\n",
              "      \n",
              "  <style>\n",
              "    .colab-df-container {\n",
              "      display:flex;\n",
              "      flex-wrap:wrap;\n",
              "      gap: 12px;\n",
              "    }\n",
              "\n",
              "    .colab-df-convert {\n",
              "      background-color: #E8F0FE;\n",
              "      border: none;\n",
              "      border-radius: 50%;\n",
              "      cursor: pointer;\n",
              "      display: none;\n",
              "      fill: #1967D2;\n",
              "      height: 32px;\n",
              "      padding: 0 0 0 0;\n",
              "      width: 32px;\n",
              "    }\n",
              "\n",
              "    .colab-df-convert:hover {\n",
              "      background-color: #E2EBFA;\n",
              "      box-shadow: 0px 1px 2px rgba(60, 64, 67, 0.3), 0px 1px 3px 1px rgba(60, 64, 67, 0.15);\n",
              "      fill: #174EA6;\n",
              "    }\n",
              "\n",
              "    [theme=dark] .colab-df-convert {\n",
              "      background-color: #3B4455;\n",
              "      fill: #D2E3FC;\n",
              "    }\n",
              "\n",
              "    [theme=dark] .colab-df-convert:hover {\n",
              "      background-color: #434B5C;\n",
              "      box-shadow: 0px 1px 3px 1px rgba(0, 0, 0, 0.15);\n",
              "      filter: drop-shadow(0px 1px 2px rgba(0, 0, 0, 0.3));\n",
              "      fill: #FFFFFF;\n",
              "    }\n",
              "  </style>\n",
              "\n",
              "      <script>\n",
              "        const buttonEl =\n",
              "          document.querySelector('#df-074d4032-7178-4bcf-9618-1193c3c910ef button.colab-df-convert');\n",
              "        buttonEl.style.display =\n",
              "          google.colab.kernel.accessAllowed ? 'block' : 'none';\n",
              "\n",
              "        async function convertToInteractive(key) {\n",
              "          const element = document.querySelector('#df-074d4032-7178-4bcf-9618-1193c3c910ef');\n",
              "          const dataTable =\n",
              "            await google.colab.kernel.invokeFunction('convertToInteractive',\n",
              "                                                     [key], {});\n",
              "          if (!dataTable) return;\n",
              "\n",
              "          const docLinkHtml = 'Like what you see? Visit the ' +\n",
              "            '<a target=\"_blank\" href=https://colab.research.google.com/notebooks/data_table.ipynb>data table notebook</a>'\n",
              "            + ' to learn more about interactive tables.';\n",
              "          element.innerHTML = '';\n",
              "          dataTable['output_type'] = 'display_data';\n",
              "          await google.colab.output.renderOutput(dataTable, element);\n",
              "          const docLink = document.createElement('div');\n",
              "          docLink.innerHTML = docLinkHtml;\n",
              "          element.appendChild(docLink);\n",
              "        }\n",
              "      </script>\n",
              "    </div>\n",
              "  </div>\n",
              "  "
            ]
          },
          "metadata": {},
          "execution_count": 7
        }
      ]
    },
    {
      "cell_type": "code",
      "execution_count": 8,
      "id": "eae19ec4",
      "metadata": {
        "id": "eae19ec4"
      },
      "outputs": [],
      "source": [
        "#convert date to datetime object\n",
        "df1['Date'] = pd.to_datetime(df1['Date'])\n",
        "df2['forecast_date'] = pd.to_datetime(df2['forecast_date'])\n",
        "df2['target_end_date'] = pd.to_datetime(df2['target_end_date'])"
      ]
    },
    {
      "cell_type": "code",
      "execution_count": null,
      "id": "8171aacd",
      "metadata": {
        "id": "8171aacd"
      },
      "outputs": [],
      "source": [
        "#sort datasets by date\n",
        "df1.sort_values(by='Date')\n",
        "df2.sort_values(by='target_end_date')"
      ]
    },
    {
      "cell_type": "code",
      "execution_count": 11,
      "id": "62636568",
      "metadata": {
        "id": "62636568",
        "colab": {
          "base_uri": "https://localhost:8080/"
        },
        "outputId": "01533a19-4bbc-4ba7-ada8-dacedbcb856b"
      },
      "outputs": [
        {
          "output_type": "execute_result",
          "data": {
            "text/plain": [
              "(42, 7)"
            ]
          },
          "metadata": {},
          "execution_count": 11
        }
      ],
      "source": [
        "#filterinng out data for PA (FIPS code = 42)\n",
        "df2_2 = df2[df2['target'].str.contains('1')]\n",
        "df2_2.shape"
      ]
    },
    {
      "cell_type": "code",
      "execution_count": 13,
      "id": "e4c01c47",
      "metadata": {
        "id": "e4c01c47",
        "colab": {
          "base_uri": "https://localhost:8080/",
          "height": 175
        },
        "outputId": "6c5290e5-85df-4706-9c8d-3c030ceef6a3"
      },
      "outputs": [
        {
          "output_type": "execute_result",
          "data": {
            "text/plain": [
              "        Date forecast_date location               target   type  quantile  \\\n",
              "0 2020-08-01    2020-07-27       42  1 wk ahead inc case  point       NaN   \n",
              "1 2020-08-08    2020-08-03       42  1 wk ahead inc case  point       NaN   \n",
              "2 2020-08-15    2020-08-10       42  1 wk ahead inc case  point       NaN   \n",
              "3 2020-08-22    2020-08-17       42  1 wk ahead inc case  point       NaN   \n",
              "\n",
              "         value  \n",
              "0  5054.403600  \n",
              "1  5611.584782  \n",
              "2  5169.395000  \n",
              "3  4972.474800  "
            ],
            "text/html": [
              "\n",
              "  <div id=\"df-eab8e5de-1157-459c-90ee-3b1917469bde\">\n",
              "    <div class=\"colab-df-container\">\n",
              "      <div>\n",
              "<style scoped>\n",
              "    .dataframe tbody tr th:only-of-type {\n",
              "        vertical-align: middle;\n",
              "    }\n",
              "\n",
              "    .dataframe tbody tr th {\n",
              "        vertical-align: top;\n",
              "    }\n",
              "\n",
              "    .dataframe thead th {\n",
              "        text-align: right;\n",
              "    }\n",
              "</style>\n",
              "<table border=\"1\" class=\"dataframe\">\n",
              "  <thead>\n",
              "    <tr style=\"text-align: right;\">\n",
              "      <th></th>\n",
              "      <th>Date</th>\n",
              "      <th>forecast_date</th>\n",
              "      <th>location</th>\n",
              "      <th>target</th>\n",
              "      <th>type</th>\n",
              "      <th>quantile</th>\n",
              "      <th>value</th>\n",
              "    </tr>\n",
              "  </thead>\n",
              "  <tbody>\n",
              "    <tr>\n",
              "      <th>0</th>\n",
              "      <td>2020-08-01</td>\n",
              "      <td>2020-07-27</td>\n",
              "      <td>42</td>\n",
              "      <td>1 wk ahead inc case</td>\n",
              "      <td>point</td>\n",
              "      <td>NaN</td>\n",
              "      <td>5054.403600</td>\n",
              "    </tr>\n",
              "    <tr>\n",
              "      <th>1</th>\n",
              "      <td>2020-08-08</td>\n",
              "      <td>2020-08-03</td>\n",
              "      <td>42</td>\n",
              "      <td>1 wk ahead inc case</td>\n",
              "      <td>point</td>\n",
              "      <td>NaN</td>\n",
              "      <td>5611.584782</td>\n",
              "    </tr>\n",
              "    <tr>\n",
              "      <th>2</th>\n",
              "      <td>2020-08-15</td>\n",
              "      <td>2020-08-10</td>\n",
              "      <td>42</td>\n",
              "      <td>1 wk ahead inc case</td>\n",
              "      <td>point</td>\n",
              "      <td>NaN</td>\n",
              "      <td>5169.395000</td>\n",
              "    </tr>\n",
              "    <tr>\n",
              "      <th>3</th>\n",
              "      <td>2020-08-22</td>\n",
              "      <td>2020-08-17</td>\n",
              "      <td>42</td>\n",
              "      <td>1 wk ahead inc case</td>\n",
              "      <td>point</td>\n",
              "      <td>NaN</td>\n",
              "      <td>4972.474800</td>\n",
              "    </tr>\n",
              "  </tbody>\n",
              "</table>\n",
              "</div>\n",
              "      <button class=\"colab-df-convert\" onclick=\"convertToInteractive('df-eab8e5de-1157-459c-90ee-3b1917469bde')\"\n",
              "              title=\"Convert this dataframe to an interactive table.\"\n",
              "              style=\"display:none;\">\n",
              "        \n",
              "  <svg xmlns=\"http://www.w3.org/2000/svg\" height=\"24px\"viewBox=\"0 0 24 24\"\n",
              "       width=\"24px\">\n",
              "    <path d=\"M0 0h24v24H0V0z\" fill=\"none\"/>\n",
              "    <path d=\"M18.56 5.44l.94 2.06.94-2.06 2.06-.94-2.06-.94-.94-2.06-.94 2.06-2.06.94zm-11 1L8.5 8.5l.94-2.06 2.06-.94-2.06-.94L8.5 2.5l-.94 2.06-2.06.94zm10 10l.94 2.06.94-2.06 2.06-.94-2.06-.94-.94-2.06-.94 2.06-2.06.94z\"/><path d=\"M17.41 7.96l-1.37-1.37c-.4-.4-.92-.59-1.43-.59-.52 0-1.04.2-1.43.59L10.3 9.45l-7.72 7.72c-.78.78-.78 2.05 0 2.83L4 21.41c.39.39.9.59 1.41.59.51 0 1.02-.2 1.41-.59l7.78-7.78 2.81-2.81c.8-.78.8-2.07 0-2.86zM5.41 20L4 18.59l7.72-7.72 1.47 1.35L5.41 20z\"/>\n",
              "  </svg>\n",
              "      </button>\n",
              "      \n",
              "  <style>\n",
              "    .colab-df-container {\n",
              "      display:flex;\n",
              "      flex-wrap:wrap;\n",
              "      gap: 12px;\n",
              "    }\n",
              "\n",
              "    .colab-df-convert {\n",
              "      background-color: #E8F0FE;\n",
              "      border: none;\n",
              "      border-radius: 50%;\n",
              "      cursor: pointer;\n",
              "      display: none;\n",
              "      fill: #1967D2;\n",
              "      height: 32px;\n",
              "      padding: 0 0 0 0;\n",
              "      width: 32px;\n",
              "    }\n",
              "\n",
              "    .colab-df-convert:hover {\n",
              "      background-color: #E2EBFA;\n",
              "      box-shadow: 0px 1px 2px rgba(60, 64, 67, 0.3), 0px 1px 3px 1px rgba(60, 64, 67, 0.15);\n",
              "      fill: #174EA6;\n",
              "    }\n",
              "\n",
              "    [theme=dark] .colab-df-convert {\n",
              "      background-color: #3B4455;\n",
              "      fill: #D2E3FC;\n",
              "    }\n",
              "\n",
              "    [theme=dark] .colab-df-convert:hover {\n",
              "      background-color: #434B5C;\n",
              "      box-shadow: 0px 1px 3px 1px rgba(0, 0, 0, 0.15);\n",
              "      filter: drop-shadow(0px 1px 2px rgba(0, 0, 0, 0.3));\n",
              "      fill: #FFFFFF;\n",
              "    }\n",
              "  </style>\n",
              "\n",
              "      <script>\n",
              "        const buttonEl =\n",
              "          document.querySelector('#df-eab8e5de-1157-459c-90ee-3b1917469bde button.colab-df-convert');\n",
              "        buttonEl.style.display =\n",
              "          google.colab.kernel.accessAllowed ? 'block' : 'none';\n",
              "\n",
              "        async function convertToInteractive(key) {\n",
              "          const element = document.querySelector('#df-eab8e5de-1157-459c-90ee-3b1917469bde');\n",
              "          const dataTable =\n",
              "            await google.colab.kernel.invokeFunction('convertToInteractive',\n",
              "                                                     [key], {});\n",
              "          if (!dataTable) return;\n",
              "\n",
              "          const docLinkHtml = 'Like what you see? Visit the ' +\n",
              "            '<a target=\"_blank\" href=https://colab.research.google.com/notebooks/data_table.ipynb>data table notebook</a>'\n",
              "            + ' to learn more about interactive tables.';\n",
              "          element.innerHTML = '';\n",
              "          dataTable['output_type'] = 'display_data';\n",
              "          await google.colab.output.renderOutput(dataTable, element);\n",
              "          const docLink = document.createElement('div');\n",
              "          docLink.innerHTML = docLinkHtml;\n",
              "          element.appendChild(docLink);\n",
              "        }\n",
              "      </script>\n",
              "    </div>\n",
              "  </div>\n",
              "  "
            ]
          },
          "metadata": {},
          "execution_count": 13
        }
      ],
      "source": [
        "#finding weekly increase in cases in PA\n",
        "df_weekly=df2_2.groupby('target_end_date').agg('last').reset_index()\n",
        "df_weekly.rename(\n",
        "    columns={\"target_end_date\":\"Date\"},inplace=True)\n",
        "df_weekly.head(4)"
      ]
    },
    {
      "cell_type": "code",
      "execution_count": 16,
      "id": "c6e2730d",
      "metadata": {
        "id": "c6e2730d",
        "colab": {
          "base_uri": "https://localhost:8080/",
          "height": 206
        },
        "outputId": "5dab2b44-57a1-4fe4-9178-f64cd54d23a2"
      },
      "outputs": [
        {
          "output_type": "execute_result",
          "data": {
            "text/plain": [
              "        Date forecast_date location               target   type  quantile  \\\n",
              "0 2020-08-01    2020-07-27       42  1 wk ahead inc case  point       NaN   \n",
              "1 2020-08-08    2020-08-03       42  1 wk ahead inc case  point       NaN   \n",
              "2 2020-08-15    2020-08-10       42  1 wk ahead inc case  point       NaN   \n",
              "3 2020-08-22    2020-08-17       42  1 wk ahead inc case  point       NaN   \n",
              "4 2020-08-29    2020-08-24       42  1 wk ahead inc case  point       NaN   \n",
              "\n",
              "         value     dayRate  \n",
              "0  5054.403600  722.057657  \n",
              "1  5611.584782  801.654969  \n",
              "2  5169.395000  738.485000  \n",
              "3  4972.474800  710.353543  \n",
              "4  4562.377800  651.768257  "
            ],
            "text/html": [
              "\n",
              "  <div id=\"df-c8465e02-922e-4433-88e4-cf1da70f114d\">\n",
              "    <div class=\"colab-df-container\">\n",
              "      <div>\n",
              "<style scoped>\n",
              "    .dataframe tbody tr th:only-of-type {\n",
              "        vertical-align: middle;\n",
              "    }\n",
              "\n",
              "    .dataframe tbody tr th {\n",
              "        vertical-align: top;\n",
              "    }\n",
              "\n",
              "    .dataframe thead th {\n",
              "        text-align: right;\n",
              "    }\n",
              "</style>\n",
              "<table border=\"1\" class=\"dataframe\">\n",
              "  <thead>\n",
              "    <tr style=\"text-align: right;\">\n",
              "      <th></th>\n",
              "      <th>Date</th>\n",
              "      <th>forecast_date</th>\n",
              "      <th>location</th>\n",
              "      <th>target</th>\n",
              "      <th>type</th>\n",
              "      <th>quantile</th>\n",
              "      <th>value</th>\n",
              "      <th>dayRate</th>\n",
              "    </tr>\n",
              "  </thead>\n",
              "  <tbody>\n",
              "    <tr>\n",
              "      <th>0</th>\n",
              "      <td>2020-08-01</td>\n",
              "      <td>2020-07-27</td>\n",
              "      <td>42</td>\n",
              "      <td>1 wk ahead inc case</td>\n",
              "      <td>point</td>\n",
              "      <td>NaN</td>\n",
              "      <td>5054.403600</td>\n",
              "      <td>722.057657</td>\n",
              "    </tr>\n",
              "    <tr>\n",
              "      <th>1</th>\n",
              "      <td>2020-08-08</td>\n",
              "      <td>2020-08-03</td>\n",
              "      <td>42</td>\n",
              "      <td>1 wk ahead inc case</td>\n",
              "      <td>point</td>\n",
              "      <td>NaN</td>\n",
              "      <td>5611.584782</td>\n",
              "      <td>801.654969</td>\n",
              "    </tr>\n",
              "    <tr>\n",
              "      <th>2</th>\n",
              "      <td>2020-08-15</td>\n",
              "      <td>2020-08-10</td>\n",
              "      <td>42</td>\n",
              "      <td>1 wk ahead inc case</td>\n",
              "      <td>point</td>\n",
              "      <td>NaN</td>\n",
              "      <td>5169.395000</td>\n",
              "      <td>738.485000</td>\n",
              "    </tr>\n",
              "    <tr>\n",
              "      <th>3</th>\n",
              "      <td>2020-08-22</td>\n",
              "      <td>2020-08-17</td>\n",
              "      <td>42</td>\n",
              "      <td>1 wk ahead inc case</td>\n",
              "      <td>point</td>\n",
              "      <td>NaN</td>\n",
              "      <td>4972.474800</td>\n",
              "      <td>710.353543</td>\n",
              "    </tr>\n",
              "    <tr>\n",
              "      <th>4</th>\n",
              "      <td>2020-08-29</td>\n",
              "      <td>2020-08-24</td>\n",
              "      <td>42</td>\n",
              "      <td>1 wk ahead inc case</td>\n",
              "      <td>point</td>\n",
              "      <td>NaN</td>\n",
              "      <td>4562.377800</td>\n",
              "      <td>651.768257</td>\n",
              "    </tr>\n",
              "  </tbody>\n",
              "</table>\n",
              "</div>\n",
              "      <button class=\"colab-df-convert\" onclick=\"convertToInteractive('df-c8465e02-922e-4433-88e4-cf1da70f114d')\"\n",
              "              title=\"Convert this dataframe to an interactive table.\"\n",
              "              style=\"display:none;\">\n",
              "        \n",
              "  <svg xmlns=\"http://www.w3.org/2000/svg\" height=\"24px\"viewBox=\"0 0 24 24\"\n",
              "       width=\"24px\">\n",
              "    <path d=\"M0 0h24v24H0V0z\" fill=\"none\"/>\n",
              "    <path d=\"M18.56 5.44l.94 2.06.94-2.06 2.06-.94-2.06-.94-.94-2.06-.94 2.06-2.06.94zm-11 1L8.5 8.5l.94-2.06 2.06-.94-2.06-.94L8.5 2.5l-.94 2.06-2.06.94zm10 10l.94 2.06.94-2.06 2.06-.94-2.06-.94-.94-2.06-.94 2.06-2.06.94z\"/><path d=\"M17.41 7.96l-1.37-1.37c-.4-.4-.92-.59-1.43-.59-.52 0-1.04.2-1.43.59L10.3 9.45l-7.72 7.72c-.78.78-.78 2.05 0 2.83L4 21.41c.39.39.9.59 1.41.59.51 0 1.02-.2 1.41-.59l7.78-7.78 2.81-2.81c.8-.78.8-2.07 0-2.86zM5.41 20L4 18.59l7.72-7.72 1.47 1.35L5.41 20z\"/>\n",
              "  </svg>\n",
              "      </button>\n",
              "      \n",
              "  <style>\n",
              "    .colab-df-container {\n",
              "      display:flex;\n",
              "      flex-wrap:wrap;\n",
              "      gap: 12px;\n",
              "    }\n",
              "\n",
              "    .colab-df-convert {\n",
              "      background-color: #E8F0FE;\n",
              "      border: none;\n",
              "      border-radius: 50%;\n",
              "      cursor: pointer;\n",
              "      display: none;\n",
              "      fill: #1967D2;\n",
              "      height: 32px;\n",
              "      padding: 0 0 0 0;\n",
              "      width: 32px;\n",
              "    }\n",
              "\n",
              "    .colab-df-convert:hover {\n",
              "      background-color: #E2EBFA;\n",
              "      box-shadow: 0px 1px 2px rgba(60, 64, 67, 0.3), 0px 1px 3px 1px rgba(60, 64, 67, 0.15);\n",
              "      fill: #174EA6;\n",
              "    }\n",
              "\n",
              "    [theme=dark] .colab-df-convert {\n",
              "      background-color: #3B4455;\n",
              "      fill: #D2E3FC;\n",
              "    }\n",
              "\n",
              "    [theme=dark] .colab-df-convert:hover {\n",
              "      background-color: #434B5C;\n",
              "      box-shadow: 0px 1px 3px 1px rgba(0, 0, 0, 0.15);\n",
              "      filter: drop-shadow(0px 1px 2px rgba(0, 0, 0, 0.3));\n",
              "      fill: #FFFFFF;\n",
              "    }\n",
              "  </style>\n",
              "\n",
              "      <script>\n",
              "        const buttonEl =\n",
              "          document.querySelector('#df-c8465e02-922e-4433-88e4-cf1da70f114d button.colab-df-convert');\n",
              "        buttonEl.style.display =\n",
              "          google.colab.kernel.accessAllowed ? 'block' : 'none';\n",
              "\n",
              "        async function convertToInteractive(key) {\n",
              "          const element = document.querySelector('#df-c8465e02-922e-4433-88e4-cf1da70f114d');\n",
              "          const dataTable =\n",
              "            await google.colab.kernel.invokeFunction('convertToInteractive',\n",
              "                                                     [key], {});\n",
              "          if (!dataTable) return;\n",
              "\n",
              "          const docLinkHtml = 'Like what you see? Visit the ' +\n",
              "            '<a target=\"_blank\" href=https://colab.research.google.com/notebooks/data_table.ipynb>data table notebook</a>'\n",
              "            + ' to learn more about interactive tables.';\n",
              "          element.innerHTML = '';\n",
              "          dataTable['output_type'] = 'display_data';\n",
              "          await google.colab.output.renderOutput(dataTable, element);\n",
              "          const docLink = document.createElement('div');\n",
              "          docLink.innerHTML = docLinkHtml;\n",
              "          element.appendChild(docLink);\n",
              "        }\n",
              "      </script>\n",
              "    </div>\n",
              "  </div>\n",
              "  "
            ]
          },
          "metadata": {},
          "execution_count": 16
        }
      ],
      "source": [
        "#creating a column for daily additions\n",
        "df_weekly[\"dayRate\"] = df_weekly[\"value\"] / 7\n",
        "##mask = (df_weekly['Date'] <= '2022-03-02')\n",
        "#df_weekly = df_weekly.loc[mask]\n",
        "df_weekly.head(5)"
      ]
    },
    {
      "cell_type": "code",
      "source": [
        "df_weekly.tail(3)"
      ],
      "metadata": {
        "colab": {
          "base_uri": "https://localhost:8080/",
          "height": 143
        },
        "id": "7q_6nzsFIbww",
        "outputId": "4eebc7d9-f705-442e-bf3d-f2c4c08b3472"
      },
      "id": "7q_6nzsFIbww",
      "execution_count": 17,
      "outputs": [
        {
          "output_type": "execute_result",
          "data": {
            "text/plain": [
              "         Date forecast_date location               target   type  quantile  \\\n",
              "32 2021-03-20    2021-03-15       42  1 wk ahead inc case  point       NaN   \n",
              "33 2021-03-27    2021-03-22       42  1 wk ahead inc case  point       NaN   \n",
              "34 2021-04-03    2021-03-29       42  1 wk ahead inc case  point       NaN   \n",
              "\n",
              "         value      dayRate  \n",
              "32  17039.5236  2434.217657  \n",
              "33  16079.2540  2297.036286  \n",
              "34  37470.6032  5352.943314  "
            ],
            "text/html": [
              "\n",
              "  <div id=\"df-8acce99b-dbe7-4cad-bde2-7c12a08a5776\">\n",
              "    <div class=\"colab-df-container\">\n",
              "      <div>\n",
              "<style scoped>\n",
              "    .dataframe tbody tr th:only-of-type {\n",
              "        vertical-align: middle;\n",
              "    }\n",
              "\n",
              "    .dataframe tbody tr th {\n",
              "        vertical-align: top;\n",
              "    }\n",
              "\n",
              "    .dataframe thead th {\n",
              "        text-align: right;\n",
              "    }\n",
              "</style>\n",
              "<table border=\"1\" class=\"dataframe\">\n",
              "  <thead>\n",
              "    <tr style=\"text-align: right;\">\n",
              "      <th></th>\n",
              "      <th>Date</th>\n",
              "      <th>forecast_date</th>\n",
              "      <th>location</th>\n",
              "      <th>target</th>\n",
              "      <th>type</th>\n",
              "      <th>quantile</th>\n",
              "      <th>value</th>\n",
              "      <th>dayRate</th>\n",
              "    </tr>\n",
              "  </thead>\n",
              "  <tbody>\n",
              "    <tr>\n",
              "      <th>32</th>\n",
              "      <td>2021-03-20</td>\n",
              "      <td>2021-03-15</td>\n",
              "      <td>42</td>\n",
              "      <td>1 wk ahead inc case</td>\n",
              "      <td>point</td>\n",
              "      <td>NaN</td>\n",
              "      <td>17039.5236</td>\n",
              "      <td>2434.217657</td>\n",
              "    </tr>\n",
              "    <tr>\n",
              "      <th>33</th>\n",
              "      <td>2021-03-27</td>\n",
              "      <td>2021-03-22</td>\n",
              "      <td>42</td>\n",
              "      <td>1 wk ahead inc case</td>\n",
              "      <td>point</td>\n",
              "      <td>NaN</td>\n",
              "      <td>16079.2540</td>\n",
              "      <td>2297.036286</td>\n",
              "    </tr>\n",
              "    <tr>\n",
              "      <th>34</th>\n",
              "      <td>2021-04-03</td>\n",
              "      <td>2021-03-29</td>\n",
              "      <td>42</td>\n",
              "      <td>1 wk ahead inc case</td>\n",
              "      <td>point</td>\n",
              "      <td>NaN</td>\n",
              "      <td>37470.6032</td>\n",
              "      <td>5352.943314</td>\n",
              "    </tr>\n",
              "  </tbody>\n",
              "</table>\n",
              "</div>\n",
              "      <button class=\"colab-df-convert\" onclick=\"convertToInteractive('df-8acce99b-dbe7-4cad-bde2-7c12a08a5776')\"\n",
              "              title=\"Convert this dataframe to an interactive table.\"\n",
              "              style=\"display:none;\">\n",
              "        \n",
              "  <svg xmlns=\"http://www.w3.org/2000/svg\" height=\"24px\"viewBox=\"0 0 24 24\"\n",
              "       width=\"24px\">\n",
              "    <path d=\"M0 0h24v24H0V0z\" fill=\"none\"/>\n",
              "    <path d=\"M18.56 5.44l.94 2.06.94-2.06 2.06-.94-2.06-.94-.94-2.06-.94 2.06-2.06.94zm-11 1L8.5 8.5l.94-2.06 2.06-.94-2.06-.94L8.5 2.5l-.94 2.06-2.06.94zm10 10l.94 2.06.94-2.06 2.06-.94-2.06-.94-.94-2.06-.94 2.06-2.06.94z\"/><path d=\"M17.41 7.96l-1.37-1.37c-.4-.4-.92-.59-1.43-.59-.52 0-1.04.2-1.43.59L10.3 9.45l-7.72 7.72c-.78.78-.78 2.05 0 2.83L4 21.41c.39.39.9.59 1.41.59.51 0 1.02-.2 1.41-.59l7.78-7.78 2.81-2.81c.8-.78.8-2.07 0-2.86zM5.41 20L4 18.59l7.72-7.72 1.47 1.35L5.41 20z\"/>\n",
              "  </svg>\n",
              "      </button>\n",
              "      \n",
              "  <style>\n",
              "    .colab-df-container {\n",
              "      display:flex;\n",
              "      flex-wrap:wrap;\n",
              "      gap: 12px;\n",
              "    }\n",
              "\n",
              "    .colab-df-convert {\n",
              "      background-color: #E8F0FE;\n",
              "      border: none;\n",
              "      border-radius: 50%;\n",
              "      cursor: pointer;\n",
              "      display: none;\n",
              "      fill: #1967D2;\n",
              "      height: 32px;\n",
              "      padding: 0 0 0 0;\n",
              "      width: 32px;\n",
              "    }\n",
              "\n",
              "    .colab-df-convert:hover {\n",
              "      background-color: #E2EBFA;\n",
              "      box-shadow: 0px 1px 2px rgba(60, 64, 67, 0.3), 0px 1px 3px 1px rgba(60, 64, 67, 0.15);\n",
              "      fill: #174EA6;\n",
              "    }\n",
              "\n",
              "    [theme=dark] .colab-df-convert {\n",
              "      background-color: #3B4455;\n",
              "      fill: #D2E3FC;\n",
              "    }\n",
              "\n",
              "    [theme=dark] .colab-df-convert:hover {\n",
              "      background-color: #434B5C;\n",
              "      box-shadow: 0px 1px 3px 1px rgba(0, 0, 0, 0.15);\n",
              "      filter: drop-shadow(0px 1px 2px rgba(0, 0, 0, 0.3));\n",
              "      fill: #FFFFFF;\n",
              "    }\n",
              "  </style>\n",
              "\n",
              "      <script>\n",
              "        const buttonEl =\n",
              "          document.querySelector('#df-8acce99b-dbe7-4cad-bde2-7c12a08a5776 button.colab-df-convert');\n",
              "        buttonEl.style.display =\n",
              "          google.colab.kernel.accessAllowed ? 'block' : 'none';\n",
              "\n",
              "        async function convertToInteractive(key) {\n",
              "          const element = document.querySelector('#df-8acce99b-dbe7-4cad-bde2-7c12a08a5776');\n",
              "          const dataTable =\n",
              "            await google.colab.kernel.invokeFunction('convertToInteractive',\n",
              "                                                     [key], {});\n",
              "          if (!dataTable) return;\n",
              "\n",
              "          const docLinkHtml = 'Like what you see? Visit the ' +\n",
              "            '<a target=\"_blank\" href=https://colab.research.google.com/notebooks/data_table.ipynb>data table notebook</a>'\n",
              "            + ' to learn more about interactive tables.';\n",
              "          element.innerHTML = '';\n",
              "          dataTable['output_type'] = 'display_data';\n",
              "          await google.colab.output.renderOutput(dataTable, element);\n",
              "          const docLink = document.createElement('div');\n",
              "          docLink.innerHTML = docLinkHtml;\n",
              "          element.appendChild(docLink);\n",
              "        }\n",
              "      </script>\n",
              "    </div>\n",
              "  </div>\n",
              "  "
            ]
          },
          "metadata": {},
          "execution_count": 17
        }
      ]
    },
    {
      "cell_type": "code",
      "execution_count": 18,
      "id": "8ebe961f",
      "metadata": {
        "id": "8ebe961f",
        "colab": {
          "base_uri": "https://localhost:8080/"
        },
        "outputId": "c82b7590-f102-4dd2-efcf-d98ec965579d"
      },
      "outputs": [
        {
          "output_type": "stream",
          "name": "stdout",
          "text": [
            "[722.0576571428571, 722.0576571428571, 722.0576571428571, 722.0576571428571, 722.0576571428571, 722.0576571428571, 722.0576571428571, 801.6549689258931, 801.6549689258931, 801.6549689258931, 801.6549689258931, 801.6549689258931, 801.6549689258931, 801.6549689258931, 738.485, 738.485, 738.485, 738.485, 738.485, 738.485, 738.485, 710.3535428571429, 710.3535428571429, 710.3535428571429, 710.3535428571429, 710.3535428571429, 710.3535428571429, 710.3535428571429, 651.7682571428571, 651.7682571428571, 651.7682571428571, 651.7682571428571, 651.7682571428571, 651.7682571428571, 651.7682571428571, 573.2262285714286, 573.2262285714286, 573.2262285714286, 573.2262285714286, 573.2262285714286, 573.2262285714286, 573.2262285714286, 693.9323428571428, 693.9323428571428, 693.9323428571428, 693.9323428571428, 693.9323428571428, 693.9323428571428, 693.9323428571428, 536.5944285714286, 536.5944285714286, 536.5944285714286, 536.5944285714286, 536.5944285714286, 536.5944285714286, 536.5944285714286, 762.7042, 762.7042, 762.7042, 762.7042, 762.7042, 762.7042, 762.7042, 886.723257142857, 886.723257142857, 886.723257142857, 886.723257142857, 886.723257142857, 886.723257142857, 886.723257142857, 1086.4972857142857, 1086.4972857142857, 1086.4972857142857, 1086.4972857142857, 1086.4972857142857, 1086.4972857142857, 1086.4972857142857, 1196.8087714285716, 1196.8087714285716, 1196.8087714285716, 1196.8087714285716, 1196.8087714285716, 1196.8087714285716, 1196.8087714285716, 1613.5889142857143, 1613.5889142857143, 1613.5889142857143, 1613.5889142857143, 1613.5889142857143, 1613.5889142857143, 1613.5889142857143, 2120.4354857142857, 2120.4354857142857, 2120.4354857142857, 2120.4354857142857, 2120.4354857142857, 2120.4354857142857, 2120.4354857142857, 2713.8142285714284, 2713.8142285714284, 2713.8142285714284, 2713.8142285714284, 2713.8142285714284, 2713.8142285714284, 2713.8142285714284, 3478.2436000000002, 3478.2436000000002, 3478.2436000000002, 3478.2436000000002, 3478.2436000000002, 3478.2436000000002, 3478.2436000000002, 5831.146028571428, 5831.146028571428, 5831.146028571428, 5831.146028571428, 5831.146028571428, 5831.146028571428, 5831.146028571428, 6927.318542857143, 6927.318542857143, 6927.318542857143, 6927.318542857143, 6927.318542857143, 6927.318542857143, 6927.318542857143, 6935.162342857143, 6935.162342857143, 6935.162342857143, 6935.162342857143, 6935.162342857143, 6935.162342857143, 6935.162342857143, 8275.425457142857, 8275.425457142857, 8275.425457142857, 8275.425457142857, 8275.425457142857, 8275.425457142857, 8275.425457142857, 9722.680942857143, 9722.680942857143, 9722.680942857143, 9722.680942857143, 9722.680942857143, 9722.680942857143, 9722.680942857143, 8318.144485714287, 8318.144485714287, 8318.144485714287, 8318.144485714287, 8318.144485714287, 8318.144485714287, 8318.144485714287, 8522.973, 8522.973, 8522.973, 8522.973, 8522.973, 8522.973, 8522.973, 7325.650228571429, 7325.650228571429, 7325.650228571429, 7325.650228571429, 7325.650228571429, 7325.650228571429, 7325.650228571429, 10543.821057142855, 10543.821057142855, 10543.821057142855, 10543.821057142855, 10543.821057142855, 10543.821057142855, 10543.821057142855, 7793.078, 7793.078, 7793.078, 7793.078, 7793.078, 7793.078, 7793.078, 5434.7973142857145, 5434.7973142857145, 5434.7973142857145, 5434.7973142857145, 5434.7973142857145, 5434.7973142857145, 5434.7973142857145, 4455.221, 4455.221, 4455.221, 4455.221, 4455.221, 4455.221, 4455.221, 4252.9128, 4252.9128, 4252.9128, 4252.9128, 4252.9128, 4252.9128, 4252.9128, 2371.32, 2371.32, 2371.32, 2371.32, 2371.32, 2371.32, 2371.32, 2118.5485714285714, 2118.5485714285714, 2118.5485714285714, 2118.5485714285714, 2118.5485714285714, 2118.5485714285714, 2118.5485714285714, 1875.7349428571429, 1875.7349428571429, 1875.7349428571429, 1875.7349428571429, 1875.7349428571429, 1875.7349428571429, 1875.7349428571429, 2434.217657142857, 2434.217657142857, 2434.217657142857, 2434.217657142857, 2434.217657142857, 2434.217657142857, 2434.217657142857, 2297.036285714286, 2297.036285714286, 2297.036285714286, 2297.036285714286, 2297.036285714286, 2297.036285714286, 2297.036285714286, 5352.943314285714, 5352.943314285714, 5352.943314285714, 5352.943314285714, 5352.943314285714, 5352.943314285714, 5352.943314285714]\n"
          ]
        }
      ],
      "source": [
        "# creating a list of predictions from the model data\n",
        "predictions = []\n",
        "for i in df_weekly[\"dayRate\"]:\n",
        "    predictions.extend(repeat(i,7))\n",
        "#del predictions[-2:]\n",
        "#preds = pd.DataFrame(predictions)\n",
        "#preds.drop(preds.tail(2).index,inplace=True) \n",
        "print(predictions)"
      ]
    },
    {
      "cell_type": "code",
      "source": [
        "len(predictions)"
      ],
      "metadata": {
        "colab": {
          "base_uri": "https://localhost:8080/"
        },
        "id": "eJNzeE02ILNR",
        "outputId": "ad3dfe06-087e-4fcd-fc14-3e764d8254f2"
      },
      "id": "eJNzeE02ILNR",
      "execution_count": 19,
      "outputs": [
        {
          "output_type": "execute_result",
          "data": {
            "text/plain": [
              "245"
            ]
          },
          "metadata": {},
          "execution_count": 19
        }
      ]
    },
    {
      "cell_type": "code",
      "execution_count": 23,
      "id": "65a9fbb1",
      "metadata": {
        "id": "65a9fbb1",
        "colab": {
          "base_uri": "https://localhost:8080/",
          "height": 206
        },
        "outputId": "f8dfd97b-246d-4c56-9ba4-9dbd31b424fb"
      },
      "outputs": [
        {
          "output_type": "execute_result",
          "data": {
            "text/plain": [
              "        Date  New Cases  7-day Average New Cases  \\\n",
              "0 2020-08-01       1320                   1747.1   \n",
              "1 2020-08-02       1154                   1692.6   \n",
              "2 2020-08-03       1674                   1620.5   \n",
              "3 2020-08-04       1446                   1602.6   \n",
              "4 2020-08-05       1620                   1573.1   \n",
              "\n",
              "   Cumulative cases                            Population (2019)  \\\n",
              "0                                      235406           25603978   \n",
              "1                                      236560           25603978   \n",
              "2                                      238234           25603978   \n",
              "3                                      239680           25603978   \n",
              "4                                      241300           25603978   \n",
              "\n",
              "   New Case Rate  7-Day Average New Case Rate  Cumulative Case Rate  \\\n",
              "0          251.2                        312.9               35115.1   \n",
              "1          218.5                        315.3               35333.3   \n",
              "2          337.4                        301.8               35670.5   \n",
              "3          311.3                        305.1               35982.1   \n",
              "4          349.2                        311.3               36331.3   \n",
              "\n",
              "   County FIPS Code    Longitude     Latitude  \n",
              "0           2860489 -5275.682283  2774.207671  \n",
              "1           2860489 -5275.682283  2774.207671  \n",
              "2           2860489 -5275.682283  2774.207671  \n",
              "3           2860489 -5275.682283  2774.207671  \n",
              "4           2860489 -5275.682283  2774.207671  "
            ],
            "text/html": [
              "\n",
              "  <div id=\"df-c8245ad2-bde2-4f6c-b56a-69e5a3f2ac2e\">\n",
              "    <div class=\"colab-df-container\">\n",
              "      <div>\n",
              "<style scoped>\n",
              "    .dataframe tbody tr th:only-of-type {\n",
              "        vertical-align: middle;\n",
              "    }\n",
              "\n",
              "    .dataframe tbody tr th {\n",
              "        vertical-align: top;\n",
              "    }\n",
              "\n",
              "    .dataframe thead th {\n",
              "        text-align: right;\n",
              "    }\n",
              "</style>\n",
              "<table border=\"1\" class=\"dataframe\">\n",
              "  <thead>\n",
              "    <tr style=\"text-align: right;\">\n",
              "      <th></th>\n",
              "      <th>Date</th>\n",
              "      <th>New Cases</th>\n",
              "      <th>7-day Average New Cases</th>\n",
              "      <th>Cumulative cases</th>\n",
              "      <th>Population (2019)</th>\n",
              "      <th>New Case Rate</th>\n",
              "      <th>7-Day Average New Case Rate</th>\n",
              "      <th>Cumulative Case Rate</th>\n",
              "      <th>County FIPS Code</th>\n",
              "      <th>Longitude</th>\n",
              "      <th>Latitude</th>\n",
              "    </tr>\n",
              "  </thead>\n",
              "  <tbody>\n",
              "    <tr>\n",
              "      <th>0</th>\n",
              "      <td>2020-08-01</td>\n",
              "      <td>1320</td>\n",
              "      <td>1747.1</td>\n",
              "      <td>235406</td>\n",
              "      <td>25603978</td>\n",
              "      <td>251.2</td>\n",
              "      <td>312.9</td>\n",
              "      <td>35115.1</td>\n",
              "      <td>2860489</td>\n",
              "      <td>-5275.682283</td>\n",
              "      <td>2774.207671</td>\n",
              "    </tr>\n",
              "    <tr>\n",
              "      <th>1</th>\n",
              "      <td>2020-08-02</td>\n",
              "      <td>1154</td>\n",
              "      <td>1692.6</td>\n",
              "      <td>236560</td>\n",
              "      <td>25603978</td>\n",
              "      <td>218.5</td>\n",
              "      <td>315.3</td>\n",
              "      <td>35333.3</td>\n",
              "      <td>2860489</td>\n",
              "      <td>-5275.682283</td>\n",
              "      <td>2774.207671</td>\n",
              "    </tr>\n",
              "    <tr>\n",
              "      <th>2</th>\n",
              "      <td>2020-08-03</td>\n",
              "      <td>1674</td>\n",
              "      <td>1620.5</td>\n",
              "      <td>238234</td>\n",
              "      <td>25603978</td>\n",
              "      <td>337.4</td>\n",
              "      <td>301.8</td>\n",
              "      <td>35670.5</td>\n",
              "      <td>2860489</td>\n",
              "      <td>-5275.682283</td>\n",
              "      <td>2774.207671</td>\n",
              "    </tr>\n",
              "    <tr>\n",
              "      <th>3</th>\n",
              "      <td>2020-08-04</td>\n",
              "      <td>1446</td>\n",
              "      <td>1602.6</td>\n",
              "      <td>239680</td>\n",
              "      <td>25603978</td>\n",
              "      <td>311.3</td>\n",
              "      <td>305.1</td>\n",
              "      <td>35982.1</td>\n",
              "      <td>2860489</td>\n",
              "      <td>-5275.682283</td>\n",
              "      <td>2774.207671</td>\n",
              "    </tr>\n",
              "    <tr>\n",
              "      <th>4</th>\n",
              "      <td>2020-08-05</td>\n",
              "      <td>1620</td>\n",
              "      <td>1573.1</td>\n",
              "      <td>241300</td>\n",
              "      <td>25603978</td>\n",
              "      <td>349.2</td>\n",
              "      <td>311.3</td>\n",
              "      <td>36331.3</td>\n",
              "      <td>2860489</td>\n",
              "      <td>-5275.682283</td>\n",
              "      <td>2774.207671</td>\n",
              "    </tr>\n",
              "  </tbody>\n",
              "</table>\n",
              "</div>\n",
              "      <button class=\"colab-df-convert\" onclick=\"convertToInteractive('df-c8245ad2-bde2-4f6c-b56a-69e5a3f2ac2e')\"\n",
              "              title=\"Convert this dataframe to an interactive table.\"\n",
              "              style=\"display:none;\">\n",
              "        \n",
              "  <svg xmlns=\"http://www.w3.org/2000/svg\" height=\"24px\"viewBox=\"0 0 24 24\"\n",
              "       width=\"24px\">\n",
              "    <path d=\"M0 0h24v24H0V0z\" fill=\"none\"/>\n",
              "    <path d=\"M18.56 5.44l.94 2.06.94-2.06 2.06-.94-2.06-.94-.94-2.06-.94 2.06-2.06.94zm-11 1L8.5 8.5l.94-2.06 2.06-.94-2.06-.94L8.5 2.5l-.94 2.06-2.06.94zm10 10l.94 2.06.94-2.06 2.06-.94-2.06-.94-.94-2.06-.94 2.06-2.06.94z\"/><path d=\"M17.41 7.96l-1.37-1.37c-.4-.4-.92-.59-1.43-.59-.52 0-1.04.2-1.43.59L10.3 9.45l-7.72 7.72c-.78.78-.78 2.05 0 2.83L4 21.41c.39.39.9.59 1.41.59.51 0 1.02-.2 1.41-.59l7.78-7.78 2.81-2.81c.8-.78.8-2.07 0-2.86zM5.41 20L4 18.59l7.72-7.72 1.47 1.35L5.41 20z\"/>\n",
              "  </svg>\n",
              "      </button>\n",
              "      \n",
              "  <style>\n",
              "    .colab-df-container {\n",
              "      display:flex;\n",
              "      flex-wrap:wrap;\n",
              "      gap: 12px;\n",
              "    }\n",
              "\n",
              "    .colab-df-convert {\n",
              "      background-color: #E8F0FE;\n",
              "      border: none;\n",
              "      border-radius: 50%;\n",
              "      cursor: pointer;\n",
              "      display: none;\n",
              "      fill: #1967D2;\n",
              "      height: 32px;\n",
              "      padding: 0 0 0 0;\n",
              "      width: 32px;\n",
              "    }\n",
              "\n",
              "    .colab-df-convert:hover {\n",
              "      background-color: #E2EBFA;\n",
              "      box-shadow: 0px 1px 2px rgba(60, 64, 67, 0.3), 0px 1px 3px 1px rgba(60, 64, 67, 0.15);\n",
              "      fill: #174EA6;\n",
              "    }\n",
              "\n",
              "    [theme=dark] .colab-df-convert {\n",
              "      background-color: #3B4455;\n",
              "      fill: #D2E3FC;\n",
              "    }\n",
              "\n",
              "    [theme=dark] .colab-df-convert:hover {\n",
              "      background-color: #434B5C;\n",
              "      box-shadow: 0px 1px 3px 1px rgba(0, 0, 0, 0.15);\n",
              "      filter: drop-shadow(0px 1px 2px rgba(0, 0, 0, 0.3));\n",
              "      fill: #FFFFFF;\n",
              "    }\n",
              "  </style>\n",
              "\n",
              "      <script>\n",
              "        const buttonEl =\n",
              "          document.querySelector('#df-c8245ad2-bde2-4f6c-b56a-69e5a3f2ac2e button.colab-df-convert');\n",
              "        buttonEl.style.display =\n",
              "          google.colab.kernel.accessAllowed ? 'block' : 'none';\n",
              "\n",
              "        async function convertToInteractive(key) {\n",
              "          const element = document.querySelector('#df-c8245ad2-bde2-4f6c-b56a-69e5a3f2ac2e');\n",
              "          const dataTable =\n",
              "            await google.colab.kernel.invokeFunction('convertToInteractive',\n",
              "                                                     [key], {});\n",
              "          if (!dataTable) return;\n",
              "\n",
              "          const docLinkHtml = 'Like what you see? Visit the ' +\n",
              "            '<a target=\"_blank\" href=https://colab.research.google.com/notebooks/data_table.ipynb>data table notebook</a>'\n",
              "            + ' to learn more about interactive tables.';\n",
              "          element.innerHTML = '';\n",
              "          dataTable['output_type'] = 'display_data';\n",
              "          await google.colab.output.renderOutput(dataTable, element);\n",
              "          const docLink = document.createElement('div');\n",
              "          docLink.innerHTML = docLinkHtml;\n",
              "          element.appendChild(docLink);\n",
              "        }\n",
              "      </script>\n",
              "    </div>\n",
              "  </div>\n",
              "  "
            ]
          },
          "metadata": {},
          "execution_count": 23
        }
      ],
      "source": [
        "#select all the dates to be merged with prediction list\n",
        "mask = (df1['Date'] >= '2020-08-01') & (df1['Date'] <= '2021-04-02')\n",
        "df1_copy = df1.loc[mask]\n",
        "df1_copy = df1_copy.groupby([\"Date\"]).sum().reset_index()\n",
        "df1_copy.head(5)"
      ]
    },
    {
      "cell_type": "code",
      "source": [
        "df1_copy.tail(3)"
      ],
      "metadata": {
        "colab": {
          "base_uri": "https://localhost:8080/",
          "height": 143
        },
        "id": "nU0KggITIse0",
        "outputId": "b7af5f3e-5698-4e47-9942-3df7115a531f"
      },
      "id": "nU0KggITIse0",
      "execution_count": 24,
      "outputs": [
        {
          "output_type": "execute_result",
          "data": {
            "text/plain": [
              "          Date  New Cases  7-day Average New Cases  \\\n",
              "242 2021-03-31       7876                   8335.0   \n",
              "243 2021-04-01       9970                   8305.7   \n",
              "244 2021-04-02      10988                   8698.9   \n",
              "\n",
              "     Cumulative cases                            Population (2019)  \\\n",
              "242                                     2078504           25603978   \n",
              "243                                     2088474           25603978   \n",
              "244                                     2099462           25603978   \n",
              "\n",
              "     New Case Rate  7-Day Average New Case Rate  Cumulative Case Rate  \\\n",
              "242         1901.0                       1906.7              558111.0   \n",
              "243         2427.6                       1924.4              560538.5   \n",
              "244         2570.1                       2020.2              563108.5   \n",
              "\n",
              "     County FIPS Code    Longitude     Latitude  \n",
              "242           2860489 -5275.682283  2774.207671  \n",
              "243           2860489 -5275.682283  2774.207671  \n",
              "244           2860489 -5275.682283  2774.207671  "
            ],
            "text/html": [
              "\n",
              "  <div id=\"df-cd6f06cb-bcd0-4271-993c-ce74d7728fea\">\n",
              "    <div class=\"colab-df-container\">\n",
              "      <div>\n",
              "<style scoped>\n",
              "    .dataframe tbody tr th:only-of-type {\n",
              "        vertical-align: middle;\n",
              "    }\n",
              "\n",
              "    .dataframe tbody tr th {\n",
              "        vertical-align: top;\n",
              "    }\n",
              "\n",
              "    .dataframe thead th {\n",
              "        text-align: right;\n",
              "    }\n",
              "</style>\n",
              "<table border=\"1\" class=\"dataframe\">\n",
              "  <thead>\n",
              "    <tr style=\"text-align: right;\">\n",
              "      <th></th>\n",
              "      <th>Date</th>\n",
              "      <th>New Cases</th>\n",
              "      <th>7-day Average New Cases</th>\n",
              "      <th>Cumulative cases</th>\n",
              "      <th>Population (2019)</th>\n",
              "      <th>New Case Rate</th>\n",
              "      <th>7-Day Average New Case Rate</th>\n",
              "      <th>Cumulative Case Rate</th>\n",
              "      <th>County FIPS Code</th>\n",
              "      <th>Longitude</th>\n",
              "      <th>Latitude</th>\n",
              "    </tr>\n",
              "  </thead>\n",
              "  <tbody>\n",
              "    <tr>\n",
              "      <th>242</th>\n",
              "      <td>2021-03-31</td>\n",
              "      <td>7876</td>\n",
              "      <td>8335.0</td>\n",
              "      <td>2078504</td>\n",
              "      <td>25603978</td>\n",
              "      <td>1901.0</td>\n",
              "      <td>1906.7</td>\n",
              "      <td>558111.0</td>\n",
              "      <td>2860489</td>\n",
              "      <td>-5275.682283</td>\n",
              "      <td>2774.207671</td>\n",
              "    </tr>\n",
              "    <tr>\n",
              "      <th>243</th>\n",
              "      <td>2021-04-01</td>\n",
              "      <td>9970</td>\n",
              "      <td>8305.7</td>\n",
              "      <td>2088474</td>\n",
              "      <td>25603978</td>\n",
              "      <td>2427.6</td>\n",
              "      <td>1924.4</td>\n",
              "      <td>560538.5</td>\n",
              "      <td>2860489</td>\n",
              "      <td>-5275.682283</td>\n",
              "      <td>2774.207671</td>\n",
              "    </tr>\n",
              "    <tr>\n",
              "      <th>244</th>\n",
              "      <td>2021-04-02</td>\n",
              "      <td>10988</td>\n",
              "      <td>8698.9</td>\n",
              "      <td>2099462</td>\n",
              "      <td>25603978</td>\n",
              "      <td>2570.1</td>\n",
              "      <td>2020.2</td>\n",
              "      <td>563108.5</td>\n",
              "      <td>2860489</td>\n",
              "      <td>-5275.682283</td>\n",
              "      <td>2774.207671</td>\n",
              "    </tr>\n",
              "  </tbody>\n",
              "</table>\n",
              "</div>\n",
              "      <button class=\"colab-df-convert\" onclick=\"convertToInteractive('df-cd6f06cb-bcd0-4271-993c-ce74d7728fea')\"\n",
              "              title=\"Convert this dataframe to an interactive table.\"\n",
              "              style=\"display:none;\">\n",
              "        \n",
              "  <svg xmlns=\"http://www.w3.org/2000/svg\" height=\"24px\"viewBox=\"0 0 24 24\"\n",
              "       width=\"24px\">\n",
              "    <path d=\"M0 0h24v24H0V0z\" fill=\"none\"/>\n",
              "    <path d=\"M18.56 5.44l.94 2.06.94-2.06 2.06-.94-2.06-.94-.94-2.06-.94 2.06-2.06.94zm-11 1L8.5 8.5l.94-2.06 2.06-.94-2.06-.94L8.5 2.5l-.94 2.06-2.06.94zm10 10l.94 2.06.94-2.06 2.06-.94-2.06-.94-.94-2.06-.94 2.06-2.06.94z\"/><path d=\"M17.41 7.96l-1.37-1.37c-.4-.4-.92-.59-1.43-.59-.52 0-1.04.2-1.43.59L10.3 9.45l-7.72 7.72c-.78.78-.78 2.05 0 2.83L4 21.41c.39.39.9.59 1.41.59.51 0 1.02-.2 1.41-.59l7.78-7.78 2.81-2.81c.8-.78.8-2.07 0-2.86zM5.41 20L4 18.59l7.72-7.72 1.47 1.35L5.41 20z\"/>\n",
              "  </svg>\n",
              "      </button>\n",
              "      \n",
              "  <style>\n",
              "    .colab-df-container {\n",
              "      display:flex;\n",
              "      flex-wrap:wrap;\n",
              "      gap: 12px;\n",
              "    }\n",
              "\n",
              "    .colab-df-convert {\n",
              "      background-color: #E8F0FE;\n",
              "      border: none;\n",
              "      border-radius: 50%;\n",
              "      cursor: pointer;\n",
              "      display: none;\n",
              "      fill: #1967D2;\n",
              "      height: 32px;\n",
              "      padding: 0 0 0 0;\n",
              "      width: 32px;\n",
              "    }\n",
              "\n",
              "    .colab-df-convert:hover {\n",
              "      background-color: #E2EBFA;\n",
              "      box-shadow: 0px 1px 2px rgba(60, 64, 67, 0.3), 0px 1px 3px 1px rgba(60, 64, 67, 0.15);\n",
              "      fill: #174EA6;\n",
              "    }\n",
              "\n",
              "    [theme=dark] .colab-df-convert {\n",
              "      background-color: #3B4455;\n",
              "      fill: #D2E3FC;\n",
              "    }\n",
              "\n",
              "    [theme=dark] .colab-df-convert:hover {\n",
              "      background-color: #434B5C;\n",
              "      box-shadow: 0px 1px 3px 1px rgba(0, 0, 0, 0.15);\n",
              "      filter: drop-shadow(0px 1px 2px rgba(0, 0, 0, 0.3));\n",
              "      fill: #FFFFFF;\n",
              "    }\n",
              "  </style>\n",
              "\n",
              "      <script>\n",
              "        const buttonEl =\n",
              "          document.querySelector('#df-cd6f06cb-bcd0-4271-993c-ce74d7728fea button.colab-df-convert');\n",
              "        buttonEl.style.display =\n",
              "          google.colab.kernel.accessAllowed ? 'block' : 'none';\n",
              "\n",
              "        async function convertToInteractive(key) {\n",
              "          const element = document.querySelector('#df-cd6f06cb-bcd0-4271-993c-ce74d7728fea');\n",
              "          const dataTable =\n",
              "            await google.colab.kernel.invokeFunction('convertToInteractive',\n",
              "                                                     [key], {});\n",
              "          if (!dataTable) return;\n",
              "\n",
              "          const docLinkHtml = 'Like what you see? Visit the ' +\n",
              "            '<a target=\"_blank\" href=https://colab.research.google.com/notebooks/data_table.ipynb>data table notebook</a>'\n",
              "            + ' to learn more about interactive tables.';\n",
              "          element.innerHTML = '';\n",
              "          dataTable['output_type'] = 'display_data';\n",
              "          await google.colab.output.renderOutput(dataTable, element);\n",
              "          const docLink = document.createElement('div');\n",
              "          docLink.innerHTML = docLinkHtml;\n",
              "          element.appendChild(docLink);\n",
              "        }\n",
              "      </script>\n",
              "    </div>\n",
              "  </div>\n",
              "  "
            ]
          },
          "metadata": {},
          "execution_count": 24
        }
      ]
    },
    {
      "cell_type": "code",
      "execution_count": 25,
      "id": "0942c3ad",
      "metadata": {
        "id": "0942c3ad"
      },
      "outputs": [],
      "source": [
        "#assigning predictions to the actual data\n",
        "df1_copy['Prediction'] = predictions"
      ]
    },
    {
      "cell_type": "code",
      "execution_count": null,
      "id": "d28a26ee",
      "metadata": {
        "scrolled": true,
        "id": "d28a26ee"
      },
      "outputs": [],
      "source": [
        "df1_copy.head(20)"
      ]
    },
    {
      "cell_type": "code",
      "execution_count": 27,
      "id": "11c69655",
      "metadata": {
        "id": "11c69655"
      },
      "outputs": [],
      "source": [
        "#renaming data for the graphs \n",
        "merged_df_new = df1_copy"
      ]
    },
    {
      "cell_type": "code",
      "execution_count": 29,
      "id": "d516c1b3",
      "metadata": {
        "colab": {
          "base_uri": "https://localhost:8080/",
          "height": 295
        },
        "id": "d516c1b3",
        "outputId": "265b97e7-f46c-46f2-9c2b-e5b4973f3b43"
      },
      "outputs": [
        {
          "output_type": "display_data",
          "data": {
            "text/plain": [
              "<Figure size 432x288 with 1 Axes>"
            ],
            "image/png": "[encoded data removed]"
          },
          "metadata": {
            "needs_background": "light"
          }
        }
      ],
      "source": [
        "#Create plot of Actual vs. Predicted Cases\n",
        "\n",
        "#Actual Cases Line\n",
        "plt.plot(merged_df_new['Date'], merged_df_new['New Cases'], color='g', label='Actual Cases')\n",
        "\n",
        "#Predicted Cases Line\n",
        "plt.plot(merged_df_new['Date'], merged_df_new['Prediction'], color='r', label='Predicted Cases')\n",
        "\n",
        "#Create XY Labels and Title\n",
        "plt.xlabel('Date (Year/Month/Day)') \n",
        "plt.ylabel('Number of Cases') \n",
        "plt.title(\"Predicted Daily Cases vs Actual Cases in PA\")\n",
        "\n",
        "#Display Plot\n",
        "plt.legend()\n",
        "plt.show()"
      ]
    },
    {
      "cell_type": "code",
      "execution_count": null,
      "id": "4eee31c3",
      "metadata": {
        "colab": {
          "base_uri": "https://localhost:8080/"
        },
        "id": "4eee31c3",
        "outputId": "3128f635-0a06-4384-9b2b-c26fa43db8f0"
      },
      "outputs": [
        {
          "output_type": "stream",
          "name": "stdout",
          "text": [
            "241\n",
            "0.9836734693877551\n",
            "4\n",
            "0.01632653061224487\n",
            "245\n",
            "[0.305324983599746, 0.5211141165317246, 0.445605139055399, 0.5051512537494487, 0.47672652158884266, 0.5111859945573822, 0.4847975778111227, 0.4034854604200323, 0.5486033007334963, 0.5837175873731679, 0.64151213592233, 0.5625088862559242, 0.5640584415584415, 0.46017178362573097, 0.19461049562682212, 0.4552503505696757, 0.41869595510872104, 0.5422979749631811, 0.5187306620209059, 0.5560290357142857, 0.40803871428571425, 0.23140535714285718, 0.45137352092352095, 0.3584958098987627, 0.49000918846411806, 0.6170574282356891, 0.6083123454670329, 0.5277041614906832, 0.45510814774579034, 0.6555130837912088, 0.682247101678809, 0.7355967580390089, 0.6867616237314598, 0.7036058797459004, 0.5624227262813523, 0.41978901098901106, 0.29045772713993584, 0.6523385055825938, 0.41784199424736346, 0.6611658482142857, 0.6382000297929391, 0.46784329535495184, 0.6122872625928985, 0.754081380123085, 0.6492846872082166, 0.7160876039304611, 0.6699911263398348, 0.705167896389325, 0.6048641910372397, 0.33562351916376304, 0.5544952102803739, 0.5172758227848101, 0.587281277056277, 0.6227971315529178, 0.5868341278439869, 0.5809317582417581, 0.3421934294192455, 0.684888679053711, 0.4978917003721081, 0.5720447600661887, 0.6127846038677479, 0.6314533428333927, 0.5471280607033416, 0.31147193554227776, 0.438212365194268, 0.6028884189640769, 0.5798541045188377, 0.6185051665329053, 0.6877881362889984, 0.5360814322313041, 0.45550101390874814, 0.5442464693722119, 0.5354003216503992, 0.6195776314594496, 0.6375503417842, 0.6845522479102342, 0.532861525593844, 0.3456654848800833, 0.476107495361781, 0.46746240452616683, 0.6102442236024844, 0.6287186115311287, 0.6266568916506907, 0.5389745959183673, 0.364377852004111, 0.5520837588267246, 0.5345839583594632, 0.5593442465265408, 0.5781067477687454, 0.596722045318698, 0.49125828077872224, 0.31051467770034846, 0.540654328271593, 0.5090784680587142, 0.5379955348022764, 0.6210815095543942, 0.6605186103863612, 0.5726276805399325, 0.4696182372674596, 0.614214330079858, 0.6372294952023363, 0.6819455376737381, 0.7035756263848645, 0.6886084512085945, 0.6827577891280555, 0.35949626223951797, 0.5199912719318877, 0.5427269425524288, 0.5807343954147665, 0.594608868981408, 0.5800096493394247, 0.5781867745535715, 0.32521736383624167, 0.44179544376654767, 0.5221220652002523, 0.5906323990747463, 0.5303512852300242, 0.5604493310369832, 0.36434955561964183, 0.21530183945947692, 0.4107763514989683, 0.6147560080625961, 0.6798466280649458, 0.721188295293996, 0.7223491735584456, 0.5798399162209412, 0.41828866461810366, 0.5985141928418951, 0.49305161375013123, 0.6614814097544441, 0.6765895944527569, 0.6349613825697902, 0.5764012358137358, 0.39872103012633625, 0.512794099876872, 0.5248421003393049, 0.5002733890390038, 0.48040396842362426, 0.5263236410963099, 0.2479361894448373, 0.46493345647019896, 0.5030383268183602, 0.5793818524618585, 0.5263015668727627, 0.40905481061990007, 0.42877733239154736, 0.1817681993198616, 0.15675529315960912, 0.5296372516556291, 0.5513752500263186, 0.49255935937127887, 0.4985306542715933, 0.4602980623100304, 0.12170517312448476, 0.008764834559546774, 0.5806725684847494, 0.6310982864049034, 0.6131363419639085, 0.6534697148263279, 0.6216871396110603, 0.49934047098336326, 0.006858389719524002, 0.3067836254343948, 0.3563776671259397, 0.1931572499890683, 0.21990078002790356, 0.23639766388015243, 0.08869308062723809, 0.020477878330819453, 0.3078971580817051, 0.31193024898463706, 0.3304915807560137, 0.27748210643426663, 0.33743598027546334, 0.019235940360973112, 0.28262971036355405, 0.4680112260879293, 0.5141429184439733, 0.6115782365433308, 0.677421811830145, 0.5056578757244211, 0.3136148883195612, 0.3360326378539494, 0.40660348961108156, 0.2912470569519568, 0.3378090071343639, 0.559499604508602, 0.4617998308770235, 0.4909482404021938, 0.10010308929327125, 0.5253445535714286, 0.31071105348460293, 0.478298233562316, 0.391919816985988, 0.448961803576056, 0.1390864777327935, 0.3713361611876988, 0.5084328358208955, 0.6623974943052392, 0.6402730582524272, 0.5760958169467286, 0.5820726119139936, 0.3827902134305049, 0.21113772455089816, 0.5919958706125258, 0.5716546242774566, 0.5178283855225702, 0.6531129315389117, 0.6609493851873034, 0.34710352422907487, 0.3873485912583657, 0.5903811733510109, 0.5947688271942289, 0.6759638159332255, 0.6044532166862264, 0.6310434393193014, 0.31835631549917265, 0.35005719235719235, 0.6956951747473811, 0.6440730658715099, 0.669182549760645, 0.7008397220323536, 0.6738986538843632, 0.5120356548238442, 0.14045986682808714, 0.6175019394810093, 0.6314025352600156, 0.6184611822660099, 0.6590731572629052, 0.7036501513096107, 0.48817963474708637, 0.29060028236124585, 0.6772918957973748, 0.7670821044702609, 0.6957567833491012, 0.77422485888399, 0.7210303272146846, 0.6260116760478206, 0.09056348720935878, 0.5133687896103896, 0.4073357712261167, 0.3203474715228905, 0.46309495343172374, 0.512837339435228, 0.17874450532591069]\n",
            "[-0.305324983599746, -0.5211141165317246, -0.445605139055399, -0.5051512537494487, -0.47672652158884266, -0.5111859945573822, -0.4847975778111227, -0.4034854604200323, -0.5486033007334963, -0.5837175873731679, -0.64151213592233, -0.5625088862559242, -0.5640584415584415, -0.46017178362573097, -0.19461049562682212, -0.4552503505696757, -0.41869595510872104, -0.5422979749631811, -0.5187306620209059, -0.5560290357142857, -0.40803871428571425, -0.23140535714285718, -0.45137352092352095, -0.3584958098987627, -0.49000918846411806, -0.6170574282356891, -0.6083123454670329, -0.5277041614906832, -0.45510814774579034, -0.6555130837912088, -0.682247101678809, -0.7355967580390089, -0.6867616237314598, -0.7036058797459004, -0.5624227262813523, -0.41978901098901106, -0.29045772713993584, -0.6523385055825938, -0.41784199424736346, -0.6611658482142857, -0.6382000297929391, -0.46784329535495184, -0.6122872625928985, -0.754081380123085, -0.6492846872082166, -0.7160876039304611, -0.6699911263398348, -0.705167896389325, -0.6048641910372397, -0.33562351916376304, -0.5544952102803739, -0.5172758227848101, -0.587281277056277, -0.6227971315529178, -0.5868341278439869, -0.5809317582417581, -0.3421934294192455, -0.684888679053711, -0.4978917003721081, -0.5720447600661887, -0.6127846038677479, -0.6314533428333927, -0.5471280607033416, -0.31147193554227776, -0.438212365194268, -0.6028884189640769, -0.5798541045188377, -0.6185051665329053, -0.6877881362889984, -0.5360814322313041, -0.45550101390874814, -0.5442464693722119, -0.5354003216503992, -0.6195776314594496, -0.6375503417842, -0.6845522479102342, -0.532861525593844, -0.3456654848800833, -0.476107495361781, -0.46746240452616683, -0.6102442236024844, -0.6287186115311287, -0.6266568916506907, -0.5389745959183673, -0.364377852004111, -0.5520837588267246, -0.5345839583594632, -0.5593442465265408, -0.5781067477687454, -0.596722045318698, -0.49125828077872224, -0.31051467770034846, -0.540654328271593, -0.5090784680587142, -0.5379955348022764, -0.6210815095543942, -0.6605186103863612, -0.5726276805399325, -0.4696182372674596, -0.614214330079858, -0.6372294952023363, -0.6819455376737381, -0.7035756263848645, -0.6886084512085945, -0.6827577891280555, -0.35949626223951797, -0.5199912719318877, -0.5427269425524288, -0.5807343954147665, -0.594608868981408, -0.5800096493394247, -0.5781867745535715, -0.32521736383624167, -0.44179544376654767, -0.5221220652002523, -0.5906323990747463, -0.5303512852300242, -0.5604493310369832, -0.36434955561964183, -0.21530183945947692, -0.4107763514989683, -0.6147560080625961, -0.6798466280649458, -0.721188295293996, -0.7223491735584456, -0.5798399162209412, -0.41828866461810366, -0.5985141928418951, -0.49305161375013123, -0.6614814097544441, -0.6765895944527569, -0.6349613825697902, -0.5764012358137358, -0.39872103012633625, -0.512794099876872, -0.5248421003393049, -0.5002733890390038, -0.48040396842362426, -0.5263236410963099, -0.2479361894448373, -0.46493345647019896, -0.5030383268183602, -0.5793818524618585, -0.5263015668727627, -0.40905481061990007, -0.42877733239154736, -0.1817681993198616, 0.15675529315960912, -0.5296372516556291, -0.5513752500263186, -0.49255935937127887, -0.4985306542715933, -0.4602980623100304, -0.12170517312448476, 0.008764834559546774, -0.5806725684847494, -0.6310982864049034, -0.6131363419639085, -0.6534697148263279, -0.6216871396110603, -0.49934047098336326, 0.006858389719524002, -0.3067836254343948, -0.3563776671259397, -0.1931572499890683, -0.21990078002790356, -0.23639766388015243, -0.08869308062723809, -0.020477878330819453, -0.3078971580817051, -0.31193024898463706, -0.3304915807560137, -0.27748210643426663, -0.33743598027546334, 0.019235940360973112, -0.28262971036355405, -0.4680112260879293, -0.5141429184439733, -0.6115782365433308, -0.677421811830145, -0.5056578757244211, -0.3136148883195612, -0.3360326378539494, -0.40660348961108156, -0.2912470569519568, -0.3378090071343639, -0.559499604508602, -0.4617998308770235, -0.4909482404021938, -0.10010308929327125, -0.5253445535714286, -0.31071105348460293, -0.478298233562316, -0.391919816985988, -0.448961803576056, -0.1390864777327935, -0.3713361611876988, -0.5084328358208955, -0.6623974943052392, -0.6402730582524272, -0.5760958169467286, -0.5820726119139936, -0.3827902134305049, -0.21113772455089816, -0.5919958706125258, -0.5716546242774566, -0.5178283855225702, -0.6531129315389117, -0.6609493851873034, -0.34710352422907487, -0.3873485912583657, -0.5903811733510109, -0.5947688271942289, -0.6759638159332255, -0.6044532166862264, -0.6310434393193014, -0.31835631549917265, -0.35005719235719235, -0.6956951747473811, -0.6440730658715099, -0.669182549760645, -0.7008397220323536, -0.6738986538843632, -0.5120356548238442, -0.14045986682808714, -0.6175019394810093, -0.6314025352600156, -0.6184611822660099, -0.6590731572629052, -0.7036501513096107, -0.48817963474708637, -0.29060028236124585, -0.6772918957973748, -0.7670821044702609, -0.6957567833491012, -0.77422485888399, -0.7210303272146846, -0.6260116760478206, -0.09056348720935878, -0.5133687896103896, -0.4073357712261167, -0.3203474715228905, -0.46309495343172374, -0.512837339435228, -0.17874450532591069]\n"
          ]
        }
      ],
      "source": [
        "#error calculations\n",
        "#confirmed = merged_df_new['Actual']\n",
        "#projected = merged_df_new['Prediction']\n",
        "error = []\n",
        "rawerror = []\n",
        "\n",
        "for index, row in merged_df_new.iterrows():\n",
        "  rawerror.append(-1*(row['Actual'] - row[\"Prediction\"]) / row['Actual'])\n",
        "  error.append((abs(row['Actual'] - row[\"Prediction\"])) / row['Actual'])\n",
        "\n",
        "underpredictCount = 0\n",
        "overpredictCount = 0\n",
        "for x in rawerror:\n",
        "  if x < 0:\n",
        "    underpredictCount += 1\n",
        "  elif x > 0:\n",
        "    overpredictCount += 1\n",
        "\n",
        "underpredictPerecentage = underpredictCount / len(rawerror)\n",
        "overpredictPercentage = 1 - underpredictPerecentage\n",
        "\n",
        "print(underpredictCount)\n",
        "print(underpredictPerecentage)\n",
        "print(overpredictCount)\n",
        "print(overpredictPercentage)\n",
        "print(len(error))\n",
        "\n",
        "print(error)\n",
        "print(rawerror)"
      ]
    },
    {
      "cell_type": "code",
      "execution_count": null,
      "id": "a0526cb0",
      "metadata": {
        "colab": {
          "base_uri": "https://localhost:8080/"
        },
        "id": "a0526cb0",
        "outputId": "70a1a90e-6394-4d92-971a-5b341e3af628"
      },
      "outputs": [
        {
          "output_type": "stream",
          "name": "stdout",
          "text": [
            "[0.694675016400254, 0.47888588346827543, 0.554394860944601, 0.4948487462505513, 0.5232734784111573, 0.48881400544261777, 0.5152024221888774, 0.5965145395799677, 0.4513966992665037, 0.4162824126268321, 0.35848786407766997, 0.4374911137440758, 0.43594155844155846, 0.539828216374269, 0.8053895043731779, 0.5447496494303243, 0.581304044891279, 0.4577020250368189, 0.4812693379790941, 0.44397096428571425, 0.5919612857142857, 0.7685946428571429, 0.548626479076479, 0.6415041901012373, 0.509990811535882, 0.3829425717643109, 0.39168765453296706, 0.4722958385093168, 0.5448918522542097, 0.34448691620879124, 0.317752898321191, 0.2644032419609911, 0.31323837626854023, 0.2963941202540996, 0.43757727371864774, 0.580210989010989, 0.7095422728600642, 0.34766149441740624, 0.5821580057526365, 0.3388341517857143, 0.3617999702070609, 0.5321567046450482, 0.38771273740710155, 0.245918619876915, 0.35071531279178336, 0.2839123960695389, 0.3300088736601652, 0.294832103610675, 0.39513580896276035, 0.6643764808362369, 0.44550478971962615, 0.4827241772151899, 0.412718722943723, 0.3772028684470822, 0.4131658721560131, 0.41906824175824187, 0.6578065705807545, 0.315111320946289, 0.5021082996278918, 0.42795523993381135, 0.3872153961322521, 0.3685466571666073, 0.45287193929665837, 0.6885280644577223, 0.561787634805732, 0.39711158103592314, 0.4201458954811623, 0.3814948334670947, 0.3122118637110016, 0.4639185677686959, 0.5444989860912519, 0.4557535306277881, 0.4645996783496008, 0.38042236854055045, 0.3624496582158, 0.31544775208976583, 0.46713847440615597, 0.6543345151199167, 0.523892504638219, 0.5325375954738332, 0.3897557763975156, 0.37128138846887127, 0.3733431083493093, 0.46102540408163273, 0.635622147995889, 0.44791624117327544, 0.46541604164053685, 0.4406557534734592, 0.4218932522312546, 0.403277954681302, 0.5087417192212778, 0.6894853222996515, 0.459345671728407, 0.49092153194128585, 0.46200446519772365, 0.37891849044560577, 0.33948138961363883, 0.4273723194600675, 0.5303817627325405, 0.38578566992014196, 0.3627705047976637, 0.3180544623262619, 0.2964243736151355, 0.3113915487914055, 0.3172422108719445, 0.6405037377604821, 0.48000872806811234, 0.4572730574475712, 0.41926560458523354, 0.40539113101859203, 0.41999035066057533, 0.4218132254464285, 0.6747826361637583, 0.5582045562334523, 0.4778779347997477, 0.4093676009252537, 0.46964871476997583, 0.43955066896301676, 0.6356504443803581, 0.7846981605405231, 0.5892236485010317, 0.3852439919374039, 0.3201533719350542, 0.278811704706004, 0.27765082644155437, 0.4201600837790588, 0.5817113353818963, 0.4014858071581049, 0.5069483862498687, 0.33851859024555586, 0.3234104055472431, 0.3650386174302098, 0.4235987641862642, 0.6012789698736638, 0.48720590012312803, 0.4751578996606951, 0.49972661096099624, 0.5195960315763757, 0.4736763589036901, 0.7520638105551627, 0.535066543529801, 0.49696167318163975, 0.42061814753814153, 0.47369843312723725, 0.5909451893800999, 0.5712226676084526, 0.8182318006801383, 0.8432447068403909, 0.47036274834437086, 0.4486247499736814, 0.5074406406287211, 0.5014693457284067, 0.5397019376899697, 0.8782948268755153, 0.9912351654404532, 0.41932743151525065, 0.3689017135950966, 0.38686365803609146, 0.3465302851736721, 0.37831286038893974, 0.5006595290166367, 0.993141610280476, 0.6932163745656053, 0.6436223328740602, 0.8068427500109316, 0.7800992199720964, 0.7636023361198476, 0.9113069193727619, 0.9795221216691805, 0.6921028419182949, 0.6880697510153629, 0.6695084192439863, 0.7225178935657334, 0.6625640197245366, 0.9807640596390269, 0.717370289636446, 0.5319887739120708, 0.4858570815560267, 0.38842176345666923, 0.32257818816985495, 0.4943421242755789, 0.6863851116804388, 0.6639673621460507, 0.5933965103889185, 0.7087529430480433, 0.6621909928656361, 0.44050039549139797, 0.5382001691229765, 0.5090517595978061, 0.8998969107067287, 0.4746554464285714, 0.6892889465153971, 0.521701766437684, 0.608080183014012, 0.551038196423944, 0.8609135222672065, 0.6286638388123011, 0.4915671641791045, 0.3376025056947608, 0.3597269417475728, 0.4239041830532714, 0.4179273880860064, 0.6172097865694951, 0.7888622754491018, 0.4080041293874742, 0.4283453757225434, 0.48217161447742984, 0.3468870684610883, 0.3390506148126966, 0.6528964757709251, 0.6126514087416344, 0.4096188266489891, 0.40523117280577114, 0.3240361840667745, 0.3955467833137736, 0.3689565606806986, 0.6816436845008274, 0.6499428076428077, 0.3043048252526189, 0.3559269341284901, 0.33081745023935505, 0.29916027796764644, 0.3261013461156368, 0.48796434517615583, 0.8595401331719128, 0.3824980605189907, 0.36859746473998445, 0.3815388177339901, 0.34092684273709484, 0.2963498486903893, 0.5118203652529136, 0.7093997176387541, 0.3227081042026252, 0.23291789552973907, 0.3042432166508988, 0.22577514111601005, 0.27896967278531537, 0.3739883239521794, 0.9094365127906412, 0.48663121038961044, 0.5926642287738833, 0.6796525284771096, 0.5369050465682763, 0.487162660564772, 0.8212554946740893]\n"
          ]
        }
      ],
      "source": [
        "#accuracy calculations\n",
        "accuracy = []\n",
        "\n",
        "for i in error:\n",
        "  accuracy.append(1 - i)\n",
        "\n",
        "print(accuracy)"
      ]
    },
    {
      "cell_type": "code",
      "execution_count": null,
      "id": "a8012f5e",
      "metadata": {
        "colab": {
          "base_uri": "https://localhost:8080/"
        },
        "id": "a8012f5e",
        "outputId": "58b5a1c0-d8da-4914-9941-36527494b56d"
      },
      "outputs": [
        {
          "output_type": "stream",
          "name": "stdout",
          "text": [
            "     Unnamed: 0        Date  Actual forecast_date  location  \\\n",
            "0             0  2020-08-02    1154    2020-08-03        42   \n",
            "1             1  2020-08-03    1674    2020-08-03        42   \n",
            "2             2  2020-08-04    1446    2020-08-03        42   \n",
            "3             3  2020-08-05    1620    2020-08-03        42   \n",
            "4             4  2020-08-06    1532    2020-08-03        42   \n",
            "..          ...         ...     ...           ...       ...   \n",
            "240         240  2021-03-30    9032    2021-03-29        42   \n",
            "241         241  2021-03-31    7876    2021-03-29        42   \n",
            "242         242  2021-04-01    9970    2021-03-29        42   \n",
            "243         243  2021-04-02   10988    2021-03-29        42   \n",
            "244         244  2021-04-03    6518    2021-03-29        42   \n",
            "\n",
            "                  target   type  quantile         value   Prediction  \\\n",
            "0    1 wk ahead inc case  point       NaN   5611.584782   801.654969   \n",
            "1    1 wk ahead inc case  point       NaN   5611.584782   801.654969   \n",
            "2    1 wk ahead inc case  point       NaN   5611.584782   801.654969   \n",
            "3    1 wk ahead inc case  point       NaN   5611.584782   801.654969   \n",
            "4    1 wk ahead inc case  point       NaN   5611.584782   801.654969   \n",
            "..                   ...    ...       ...           ...          ...   \n",
            "240  1 wk ahead inc case  point       NaN  37470.603200  5352.943314   \n",
            "241  1 wk ahead inc case  point       NaN  37470.603200  5352.943314   \n",
            "242  1 wk ahead inc case  point       NaN  37470.603200  5352.943314   \n",
            "243  1 wk ahead inc case  point       NaN  37470.603200  5352.943314   \n",
            "244  1 wk ahead inc case  point       NaN  37470.603200  5352.943314   \n",
            "\n",
            "     New Cases_y     Error  Accuracy  RawError  \n",
            "0            NaN  0.305325  0.694675 -0.305325  \n",
            "1            NaN  0.521114  0.478886 -0.521114  \n",
            "2            NaN  0.445605  0.554395 -0.445605  \n",
            "3            NaN  0.505151  0.494849 -0.505151  \n",
            "4            NaN  0.476727  0.523273 -0.476727  \n",
            "..           ...       ...       ...       ...  \n",
            "240          NaN  0.407336  0.592664 -0.407336  \n",
            "241          NaN  0.320347  0.679653 -0.320347  \n",
            "242          NaN  0.463095  0.536905 -0.463095  \n",
            "243          NaN  0.512837  0.487163 -0.512837  \n",
            "244       6518.0  0.178745  0.821255 -0.178745  \n",
            "\n",
            "[245 rows x 14 columns]\n"
          ]
        }
      ],
      "source": [
        "#Create Error and Accuracy Column and insert list data\n",
        "merged_df_new['Error'] = error\n",
        "merged_df_new['Accuracy'] = accuracy\n",
        "merged_df_new['RawError'] = rawerror\n",
        "\n",
        "print(merged_df_new)"
      ]
    },
    {
      "cell_type": "code",
      "execution_count": null,
      "id": "6a1f3c40",
      "metadata": {
        "colab": {
          "base_uri": "https://localhost:8080/",
          "height": 312
        },
        "id": "6a1f3c40",
        "outputId": "79ff0c77-e20c-44e3-f888-527b2ca879de"
      },
      "outputs": [
        {
          "output_type": "execute_result",
          "data": {
            "text/plain": [
              "<matplotlib.legend.Legend at 0x7ff356e98490>"
            ]
          },
          "metadata": {},
          "execution_count": 14
        },
        {
          "output_type": "display_data",
          "data": {
            "text/plain": [
              "<Figure size 432x288 with 1 Axes>"
            ],
            "image/png": "[encoded data removed]"
          },
          "metadata": {
            "needs_background": "light"
          }
        }
      ],
      "source": [
        "from IPython.core.pylabtools import figsize\n",
        "#Create plot of Error\n",
        "\n",
        "#Error Line\n",
        "plt.plot(merged_df_new['Date'], merged_df_new['Error'], color='g', label='Error')\n",
        "\n",
        "\n",
        "#Create XY Labels and Title\n",
        "plt.xlabel('Date (Year/Month/Day)') \n",
        "plt.ylabel('Percentage') \n",
        "plt.title(\"Predicted Daily COVID-19 Case Error in PA\")\n",
        "#Display Plot\n",
        "plt.legend()"
      ]
    },
    {
      "cell_type": "code",
      "execution_count": null,
      "id": "0480ef44",
      "metadata": {
        "colab": {
          "base_uri": "https://localhost:8080/",
          "height": 295
        },
        "id": "0480ef44",
        "outputId": "f755938f-0fcc-41fd-a617-f0570ea7d0b4"
      },
      "outputs": [
        {
          "output_type": "display_data",
          "data": {
            "text/plain": [
              "<Figure size 432x288 with 1 Axes>"
            ],
            "image/png": "[encoded data removed]"
          },
          "metadata": {
            "needs_background": "light"
          }
        }
      ],
      "source": [
        "#Create plot of Raw Error\n",
        "\n",
        "#Raw Error Line\n",
        "plt.plot(merged_df_new['Date'], merged_df_new['RawError'], color='g', label='Raw Error')\n",
        "plt.axhline(y=0.0, color='r', linestyle='-')\n",
        "\n",
        "#Create XY Labels and Title\n",
        "plt.xlabel('Date (Year/Month/Day)') \n",
        "plt.ylabel('Percentage') \n",
        "plt.title(\"Predicted Daily COVID-19 Case Raw Error in PA\")\n",
        "#Display Plot\n",
        "plt.legend()\n",
        "plt.show()"
      ]
    },
    {
      "cell_type": "code",
      "execution_count": null,
      "id": "cb557ed1",
      "metadata": {
        "colab": {
          "base_uri": "https://localhost:8080/",
          "height": 295
        },
        "id": "cb557ed1",
        "outputId": "2d8bb521-1b17-4b6e-f065-caae3ba8682d"
      },
      "outputs": [
        {
          "output_type": "display_data",
          "data": {
            "text/plain": [
              "<Figure size 432x288 with 1 Axes>"
            ],
            "image/png": "[encoded data removed]"
          },
          "metadata": {
            "needs_background": "light"
          }
        }
      ],
      "source": [
        "#Create plot of Accuracy\n",
        "\n",
        "#Accuracy Line\n",
        "plt.plot(merged_df_new['Date'], merged_df_new['Accuracy'], color='r', label='Daily Accuracy')\n",
        "\n",
        "#Create XY Labels and Title\n",
        "plt.xlabel('Date (Year/Month/Day)') \n",
        "plt.ylabel('Percentage') \n",
        "plt.title(\"Predicted Daily COVID-19 Case Accuracy in PA\")\n",
        "\n",
        "#Display Plot\n",
        "plt.legend()\n",
        "plt.show()"
      ]
    },
    {
      "cell_type": "code",
      "source": [
        "length = len(accuracy)\n",
        "amountOfWeeks = int(length / 7)\n",
        "remainderDays = length % 7\n",
        "print(remainderDays)"
      ],
      "metadata": {
        "colab": {
          "base_uri": "https://localhost:8080/"
        },
        "id": "x8yA8NVk88o9",
        "outputId": "e60e0423-4468-4e5e-e49f-c7ac3a65330f"
      },
      "id": "x8yA8NVk88o9",
      "execution_count": null,
      "outputs": [
        {
          "output_type": "stream",
          "name": "stdout",
          "text": [
            "0\n"
          ]
        }
      ]
    },
    {
      "cell_type": "code",
      "execution_count": null,
      "id": "4d6b0409",
      "metadata": {
        "id": "4d6b0409"
      },
      "outputs": [],
      "source": [
        "#Calculate Weekly Accuracy Averages\n",
        "weeklyAccuracy = 0\n",
        "averageWeeklyAccuracy = []\n",
        "length = len(accuracy) #   =245\n",
        "amountOfWeeks = int(length / 7) #   =35\n",
        "remainderDays = length % 7 #  =0   changed from 7 to 6 so its not 0\n",
        "\n",
        "i = 0\n",
        "while i < length:\n",
        "  weeklyAccuracy += accuracy[i]\n",
        "  if (i + 1) % 7 == 0 and amountOfWeeks > 0:\n",
        "    averageWeeklyAccuracy.append(weeklyAccuracy / 7)\n",
        "    amountOfWeeks -= 1\n",
        "    weeklyAccuracy = 0\n",
        "  if remainderDays > 0:\n",
        "    if (i + 1) % remainderDays == 0 and amountOfWeeks == 0:\n",
        "      averageWeeklyAccuracy.append(weeklyAccuracy / remainderDays)\n",
        "      weeklyAccuracy = 0\n",
        "  i += 1\n",
        "\n",
        "weeklyDateList = []\n",
        "i = 0\n",
        "weeklyDateList.append(merged_df_new['Date'][i])\n",
        "while i < length:\n",
        "  if (i + 1) % 7 == 0:\n",
        "    weeklyDateList.append(merged_df_new['Date'][i])\n",
        "  i += 1"
      ]
    },
    {
      "cell_type": "code",
      "execution_count": null,
      "id": "04c4449c",
      "metadata": {
        "id": "04c4449c"
      },
      "outputs": [],
      "source": [
        "#Create Dataframe for Weekly Accuracy\n",
        "i = 0\n",
        "data = []\n",
        "while i < len(averageWeeklyAccuracy):\n",
        "  data.append([weeklyDateList[i], averageWeeklyAccuracy[i]])\n",
        "  i += 1\n",
        "\n",
        "df = pd.DataFrame(data, columns = ['Week Of', 'Average Weekly Accuracy'])"
      ]
    },
    {
      "cell_type": "code",
      "source": [
        "#Create plot of Weekly Accuracy\n",
        "\n",
        "#Accuracy Line\n",
        "plt.plot(df['Week Of'], df['Average Weekly Accuracy'], color='r', label='Weekly Accuracy')\n",
        "\n",
        "#Create XY Labels and Title\n",
        "plt.xlabel('Week Of (Year/Month/Day)') \n",
        "plt.ylabel('Average Weekly Accuracy Percentage') \n",
        "plt.title(\"Predicted Daily COVID-19 Case Weekly Accuracy in PA\")\n",
        "\n",
        "#Display Plot\n",
        "plt.legend()\n",
        "plt.show()"
      ],
      "metadata": {
        "colab": {
          "base_uri": "https://localhost:8080/",
          "height": 295
        },
        "id": "rzQUvpP09xgx",
        "outputId": "0492545d-8a7e-4aa0-a217-2d0bba067c2c"
      },
      "id": "rzQUvpP09xgx",
      "execution_count": null,
      "outputs": [
        {
          "output_type": "display_data",
          "data": {
            "text/plain": [
              "<Figure size 432x288 with 1 Axes>"
            ],
            "image/png": "[encoded data removed]"
          },
          "metadata": {
            "needs_background": "light"
          }
        }
      ]
    },
    {
      "cell_type": "code",
      "source": [
        "#Create Running Weekly Average\n",
        "runningweeklyAccuracy = 0\n",
        "runningAverageWeeklyAccuracy = []\n",
        "length = len(accuracy)\n",
        "\n",
        "i = 1\n",
        "j = 8\n",
        "#Add first week average\n",
        "runningAverageWeeklyAccuracy.append(averageWeeklyAccuracy[0])\n",
        "\n",
        "while j < length:\n",
        "  temp_i = i\n",
        "  temp_j = j\n",
        "  while temp_i < temp_j:\n",
        "    runningweeklyAccuracy += accuracy[temp_i]\n",
        "    temp_i += 1\n",
        "  runningAverageWeeklyAccuracy.append(runningweeklyAccuracy / 7)\n",
        "  runningweeklyAccuracy = 0\n",
        "\n",
        "  i += 1\n",
        "  j += 1"
      ],
      "metadata": {
        "id": "rLQJUWfV_xeL"
      },
      "id": "rLQJUWfV_xeL",
      "execution_count": null,
      "outputs": []
    },
    {
      "cell_type": "code",
      "source": [
        "#Create Dataframe for Running Weekly Accuracy\n",
        "i = 0\n",
        "data = []\n",
        "while i < len(runningAverageWeeklyAccuracy):\n",
        "  data.append([merged_df_new['Date'][i], runningAverageWeeklyAccuracy[i]])\n",
        "  i += 1\n",
        "\n",
        "df = pd.DataFrame(data, columns = ['Date', 'Running Weekly Average Accuracy'])"
      ],
      "metadata": {
        "id": "oTSGoUiE_1OT"
      },
      "id": "oTSGoUiE_1OT",
      "execution_count": null,
      "outputs": []
    },
    {
      "cell_type": "code",
      "source": [
        "#Create plot of Running Weekly Accuracy\n",
        "\n",
        "#Accuracy Line\n",
        "plt.plot(df['Date'], df['Running Weekly Average Accuracy'], color='r', label='Running Weekly Accuracy')\n",
        "\n",
        "#Create XY Labels and Title\n",
        "plt.xlabel('Date') \n",
        "plt.ylabel('Accuracy Percentage') \n",
        "plt.title(\"Predicted Daily COVID-19 Case Running Weekly Accuracy in PA\")\n",
        "\n",
        "#Display Plot\n",
        "plt.legend()\n",
        "plt.show()"
      ],
      "metadata": {
        "colab": {
          "base_uri": "https://localhost:8080/",
          "height": 295
        },
        "id": "PaZ6kFJx_9kL",
        "outputId": "598ff42a-4563-41ff-d7f3-a732b808a539"
      },
      "id": "PaZ6kFJx_9kL",
      "execution_count": null,
      "outputs": [
        {
          "output_type": "display_data",
          "data": {
            "text/plain": [
              "<Figure size 432x288 with 1 Axes>"
            ],
            "image/png": "[encoded data removed]"
          },
          "metadata": {
            "needs_background": "light"
          }
        }
      ]
    },
    {
      "cell_type": "code",
      "execution_count": null,
      "id": "4243a737",
      "metadata": {
        "id": "4243a737"
      },
      "outputs": [],
      "source": [
        "merged_df_new.to_csv('DDS_everyday_predictions.csv')"
      ]
    },
    {
      "cell_type": "code",
      "execution_count": null,
      "id": "38d536de",
      "metadata": {
        "id": "38d536de"
      },
      "outputs": [],
      "source": [
        ""
      ]
    },
    {
      "cell_type": "code",
      "execution_count": null,
      "id": "b68e0bcf",
      "metadata": {
        "id": "b68e0bcf"
      },
      "outputs": [],
      "source": [
        "merged_df_new.dtypes"
      ]
    },
    {
      "cell_type": "code",
      "execution_count": null,
      "id": "d6469533",
      "metadata": {
        "id": "d6469533"
      },
      "outputs": [],
      "source": [
        ""
      ]
    }
  ],
  "metadata": {
    "kernelspec": {
      "display_name": "Python 3 (ipykernel)",
      "language": "python",
      "name": "python3"
    },
    "language_info": {
      "codemirror_mode": {
        "name": "ipython",
        "version": 3
      },
      "file_extension": ".py",
      "mimetype": "text/x-python",
      "name": "python",
      "nbconvert_exporter": "python",
      "pygments_lexer": "ipython3",
      "version": "3.9.7"
    },
    "colab": {
      "name": "DDS_COVIDforecast (1).ipynb",
      "provenance": [],
      "collapsed_sections": []
    }
  },
  "nbformat": 4,
  "nbformat_minor": 5
}