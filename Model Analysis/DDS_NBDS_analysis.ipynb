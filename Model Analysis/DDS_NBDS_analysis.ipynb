{
  "cells": [
    {
      "cell_type": "code",
      "execution_count": 2,
      "id": "19d98421",
      "metadata": {
        "id": "19d98421"
      },
      "outputs": [],
      "source": [
        "#import libraries\n",
        "import csv\n",
        "import pandas as pd\n",
        "import matplotlib.pyplot as plt\n",
        "import math\n",
        "import numpy as np\n",
        "import statistics\n",
        "import glob\n",
        "import requests\n",
        "from itertools import repeat"
      ]
    },
    {
      "cell_type": "code",
      "execution_count": 3,
      "id": "bb3a7895",
      "metadata": {
        "id": "bb3a7895"
      },
      "outputs": [],
      "source": [
        "#actual COVID-19 cases data for PA\n",
        "url2 = 'https://raw.githubusercontent.com/IvanVoinovGitHub/Covid19-Analysis-Modeling/main/Data/COVID-19_Aggregate_Cases_Current_Daily_County_Health.csv'\n",
        "df1 = pd.read_csv(url2)"
      ]
    },
    {
      "cell_type": "code",
      "source": [
        "url = 'https://github.com/reichlab/covid19-forecast-hub/tree/master/data-processed/DDS-NBDS'\n",
        "download = requests.get(url).content\n",
        "\n",
        "csvStringList = []\n",
        "hrefStringList = []\n",
        "urlExtension = []\n",
        "rawUrls = []\n",
        "tempList = []\n",
        "urlExtensionwoutblob = []\n",
        "urlBeginning = 'https://raw.githubusercontent.com'\n",
        "\n",
        "urlStringList = str(requests.get(url).text).split(\" \")\n",
        "for i in urlStringList:\n",
        "  if \"csv\" in i:\n",
        "    csvStringList.append(i)\n",
        "\n",
        "for i in csvStringList:\n",
        "  if \"href\" in i and \"/reichlab/covid19-forecast-hub/blob/master/data-processed/\" in i:\n",
        "    hrefStringList.append(i)\n",
        "\n",
        "for i in hrefStringList:\n",
        "  tempList1 = i.split(\"\\\"\")\n",
        "  for x in tempList1:\n",
        "    if \"/reichlab/covid19-forecast-hub/blob/master/data-processed/\" in x:\n",
        "      urlExtension.append(x)\n",
        "\n",
        "for i in urlExtension:\n",
        "  newString = \"\"\n",
        "  tempList = []\n",
        "  temp = i.split(\"/\")\n",
        "  for x in temp:\n",
        "    if \"blob\" not in x:\n",
        "      tempList.append(x)\n",
        "  for j in range(1, len(tempList)):\n",
        "    newString += \"/\" + tempList[j]\n",
        "  urlExtensionwoutblob.append(newString)\n",
        "\n",
        "\n",
        "for i in urlExtensionwoutblob:\n",
        "  finalUrl = urlBeginning + i\n",
        "  rawUrls.append(finalUrl)"
      ],
      "metadata": {
        "id": "e6DAnRmPG2su"
      },
      "id": "e6DAnRmPG2su",
      "execution_count": 4,
      "outputs": []
    },
    {
      "cell_type": "code",
      "execution_count": 5,
      "id": "922310e5",
      "metadata": {
        "id": "922310e5"
      },
      "outputs": [],
      "source": [
        "#reading all the raw data, filtering PA cases data, and ensemble back into one dataframe\n",
        "all_data = []\n",
        "for url in rawUrls:\n",
        "    df3=pd.read_csv(url)\n",
        "    df2_case = df3[df3['target'].str.contains('case')]\n",
        "    df2_casesPA = df2_case[(df2_case[\"type\"]==\"point\") & (df2_case[\"location\"]==\"42\")]\n",
        "    all_data.append(df2_casesPA)"
      ]
    },
    {
      "cell_type": "code",
      "source": [
        "len(all_data)"
      ],
      "metadata": {
        "colab": {
          "base_uri": "https://localhost:8080/"
        },
        "id": "EJhiatXOHTk6",
        "outputId": "9007455d-cc5a-491b-dbe2-af4461a17b38"
      },
      "id": "EJhiatXOHTk6",
      "execution_count": 6,
      "outputs": [
        {
          "output_type": "execute_result",
          "data": {
            "text/plain": [
              "85"
            ]
          },
          "metadata": {},
          "execution_count": 6
        }
      ]
    },
    {
      "cell_type": "code",
      "source": [
        "#collapsing all the data in one dataframe\n",
        "df2 = pd.concat(all_data)\n",
        "df2.head(5)"
      ],
      "metadata": {
        "colab": {
          "base_uri": "https://localhost:8080/",
          "height": 206
        },
        "id": "JSLzadVFHX4i",
        "outputId": "d06639c6-cb44-45cb-a21c-28489fa003aa"
      },
      "id": "JSLzadVFHX4i",
      "execution_count": 7,
      "outputs": [
        {
          "output_type": "execute_result",
          "data": {
            "text/plain": [
              "      forecast_date location               target   type  quantile  \\\n",
              "2534     2020-07-27       42  1 wk ahead inc case  point       NaN   \n",
              "5446     2020-07-27       42  2 wk ahead inc case  point       NaN   \n",
              "8358     2020-07-27       42  3 wk ahead inc case  point       NaN   \n",
              "11270    2020-07-27       42  4 wk ahead inc case  point       NaN   \n",
              "2534     2020-08-03       42  1 wk ahead inc case  point       NaN   \n",
              "\n",
              "      target_end_date        value  \n",
              "2534       2020-08-01  5054.403600  \n",
              "5446       2020-08-08  4941.833200  \n",
              "8358       2020-08-15  3905.944000  \n",
              "11270      2020-08-22  3008.857800  \n",
              "2534       2020-08-08  5611.584782  "
            ],
            "text/html": [
              "\n",
              "  <div id=\"df-074d4032-7178-4bcf-9618-1193c3c910ef\">\n",
              "    <div class=\"colab-df-container\">\n",
              "      <div>\n",
              "<style scoped>\n",
              "    .dataframe tbody tr th:only-of-type {\n",
              "        vertical-align: middle;\n",
              "    }\n",
              "\n",
              "    .dataframe tbody tr th {\n",
              "        vertical-align: top;\n",
              "    }\n",
              "\n",
              "    .dataframe thead th {\n",
              "        text-align: right;\n",
              "    }\n",
              "</style>\n",
              "<table border=\"1\" class=\"dataframe\">\n",
              "  <thead>\n",
              "    <tr style=\"text-align: right;\">\n",
              "      <th></th>\n",
              "      <th>forecast_date</th>\n",
              "      <th>location</th>\n",
              "      <th>target</th>\n",
              "      <th>type</th>\n",
              "      <th>quantile</th>\n",
              "      <th>target_end_date</th>\n",
              "      <th>value</th>\n",
              "    </tr>\n",
              "  </thead>\n",
              "  <tbody>\n",
              "    <tr>\n",
              "      <th>2534</th>\n",
              "      <td>2020-07-27</td>\n",
              "      <td>42</td>\n",
              "      <td>1 wk ahead inc case</td>\n",
              "      <td>point</td>\n",
              "      <td>NaN</td>\n",
              "      <td>2020-08-01</td>\n",
              "      <td>5054.403600</td>\n",
              "    </tr>\n",
              "    <tr>\n",
              "      <th>5446</th>\n",
              "      <td>2020-07-27</td>\n",
              "      <td>42</td>\n",
              "      <td>2 wk ahead inc case</td>\n",
              "      <td>point</td>\n",
              "      <td>NaN</td>\n",
              "      <td>2020-08-08</td>\n",
              "      <td>4941.833200</td>\n",
              "    </tr>\n",
              "    <tr>\n",
              "      <th>8358</th>\n",
              "      <td>2020-07-27</td>\n",
              "      <td>42</td>\n",
              "      <td>3 wk ahead inc case</td>\n",
              "      <td>point</td>\n",
              "      <td>NaN</td>\n",
              "      <td>2020-08-15</td>\n",
              "      <td>3905.944000</td>\n",
              "    </tr>\n",
              "    <tr>\n",
              "      <th>11270</th>\n",
              "      <td>2020-07-27</td>\n",
              "      <td>42</td>\n",
              "      <td>4 wk ahead inc case</td>\n",
              "      <td>point</td>\n",
              "      <td>NaN</td>\n",
              "      <td>2020-08-22</td>\n",
              "      <td>3008.857800</td>\n",
              "    </tr>\n",
              "    <tr>\n",
              "      <th>2534</th>\n",
              "      <td>2020-08-03</td>\n",
              "      <td>42</td>\n",
              "      <td>1 wk ahead inc case</td>\n",
              "      <td>point</td>\n",
              "      <td>NaN</td>\n",
              "      <td>2020-08-08</td>\n",
              "      <td>5611.584782</td>\n",
              "    </tr>\n",
              "  </tbody>\n",
              "</table>\n",
              "</div>\n",
              "      <button class=\"colab-df-convert\" onclick=\"convertToInteractive('df-074d4032-7178-4bcf-9618-1193c3c910ef')\"\n",
              "              title=\"Convert this dataframe to an interactive table.\"\n",
              "              style=\"display:none;\">\n",
              "        \n",
              "  <svg xmlns=\"http://www.w3.org/2000/svg\" height=\"24px\"viewBox=\"0 0 24 24\"\n",
              "       width=\"24px\">\n",
              "    <path d=\"M0 0h24v24H0V0z\" fill=\"none\"/>\n",
              "    <path d=\"M18.56 5.44l.94 2.06.94-2.06 2.06-.94-2.06-.94-.94-2.06-.94 2.06-2.06.94zm-11 1L8.5 8.5l.94-2.06 2.06-.94-2.06-.94L8.5 2.5l-.94 2.06-2.06.94zm10 10l.94 2.06.94-2.06 2.06-.94-2.06-.94-.94-2.06-.94 2.06-2.06.94z\"/><path d=\"M17.41 7.96l-1.37-1.37c-.4-.4-.92-.59-1.43-.59-.52 0-1.04.2-1.43.59L10.3 9.45l-7.72 7.72c-.78.78-.78 2.05 0 2.83L4 21.41c.39.39.9.59 1.41.59.51 0 1.02-.2 1.41-.59l7.78-7.78 2.81-2.81c.8-.78.8-2.07 0-2.86zM5.41 20L4 18.59l7.72-7.72 1.47 1.35L5.41 20z\"/>\n",
              "  </svg>\n",
              "      </button>\n",
              "      \n",
              "  <style>\n",
              "    .colab-df-container {\n",
              "      display:flex;\n",
              "      flex-wrap:wrap;\n",
              "      gap: 12px;\n",
              "    }\n",
              "\n",
              "    .colab-df-convert {\n",
              "      background-color: #E8F0FE;\n",
              "      border: none;\n",
              "      border-radius: 50%;\n",
              "      cursor: pointer;\n",
              "      display: none;\n",
              "      fill: #1967D2;\n",
              "      height: 32px;\n",
              "      padding: 0 0 0 0;\n",
              "      width: 32px;\n",
              "    }\n",
              "\n",
              "    .colab-df-convert:hover {\n",
              "      background-color: #E2EBFA;\n",
              "      box-shadow: 0px 1px 2px rgba(60, 64, 67, 0.3), 0px 1px 3px 1px rgba(60, 64, 67, 0.15);\n",
              "      fill: #174EA6;\n",
              "    }\n",
              "\n",
              "    [theme=dark] .colab-df-convert {\n",
              "      background-color: #3B4455;\n",
              "      fill: #D2E3FC;\n",
              "    }\n",
              "\n",
              "    [theme=dark] .colab-df-convert:hover {\n",
              "      background-color: #434B5C;\n",
              "      box-shadow: 0px 1px 3px 1px rgba(0, 0, 0, 0.15);\n",
              "      filter: drop-shadow(0px 1px 2px rgba(0, 0, 0, 0.3));\n",
              "      fill: #FFFFFF;\n",
              "    }\n",
              "  </style>\n",
              "\n",
              "      <script>\n",
              "        const buttonEl =\n",
              "          document.querySelector('#df-074d4032-7178-4bcf-9618-1193c3c910ef button.colab-df-convert');\n",
              "        buttonEl.style.display =\n",
              "          google.colab.kernel.accessAllowed ? 'block' : 'none';\n",
              "\n",
              "        async function convertToInteractive(key) {\n",
              "          const element = document.querySelector('#df-074d4032-7178-4bcf-9618-1193c3c910ef');\n",
              "          const dataTable =\n",
              "            await google.colab.kernel.invokeFunction('convertToInteractive',\n",
              "                                                     [key], {});\n",
              "          if (!dataTable) return;\n",
              "\n",
              "          const docLinkHtml = 'Like what you see? Visit the ' +\n",
              "            '<a target=\"_blank\" href=https://colab.research.google.com/notebooks/data_table.ipynb>data table notebook</a>'\n",
              "            + ' to learn more about interactive tables.';\n",
              "          element.innerHTML = '';\n",
              "          dataTable['output_type'] = 'display_data';\n",
              "          await google.colab.output.renderOutput(dataTable, element);\n",
              "          const docLink = document.createElement('div');\n",
              "          docLink.innerHTML = docLinkHtml;\n",
              "          element.appendChild(docLink);\n",
              "        }\n",
              "      </script>\n",
              "    </div>\n",
              "  </div>\n",
              "  "
            ]
          },
          "metadata": {},
          "execution_count": 7
        }
      ]
    },
    {
      "cell_type": "code",
      "execution_count": 8,
      "id": "eae19ec4",
      "metadata": {
        "id": "eae19ec4"
      },
      "outputs": [],
      "source": [
        "#convert date to datetime object\n",
        "df1['Date'] = pd.to_datetime(df1['Date'])\n",
        "df2['forecast_date'] = pd.to_datetime(df2['forecast_date'])\n",
        "df2['target_end_date'] = pd.to_datetime(df2['target_end_date'])"
      ]
    },
    {
      "cell_type": "code",
      "execution_count": null,
      "id": "8171aacd",
      "metadata": {
        "id": "8171aacd"
      },
      "outputs": [],
      "source": [
        "#sort datasets by date\n",
        "df1.sort_values(by='Date')\n",
        "df2.sort_values(by='target_end_date')"
      ]
    },
    {
      "cell_type": "code",
      "execution_count": 11,
      "id": "62636568",
      "metadata": {
        "id": "62636568",
        "colab": {
          "base_uri": "https://localhost:8080/"
        },
        "outputId": "01533a19-4bbc-4ba7-ada8-dacedbcb856b"
      },
      "outputs": [
        {
          "output_type": "execute_result",
          "data": {
            "text/plain": [
              "(42, 7)"
            ]
          },
          "metadata": {},
          "execution_count": 11
        }
      ],
      "source": [
        "#filterinng out data for PA (FIPS code = 42)\n",
        "df2_2 = df2[df2['target'].str.contains('1')]\n",
        "df2_2.shape"
      ]
    },
    {
      "cell_type": "code",
      "execution_count": 13,
      "id": "e4c01c47",
      "metadata": {
        "id": "e4c01c47",
        "colab": {
          "base_uri": "https://localhost:8080/",
          "height": 175
        },
        "outputId": "6c5290e5-85df-4706-9c8d-3c030ceef6a3"
      },
      "outputs": [
        {
          "output_type": "execute_result",
          "data": {
            "text/plain": [
              "        Date forecast_date location               target   type  quantile  \\\n",
              "0 2020-08-01    2020-07-27       42  1 wk ahead inc case  point       NaN   \n",
              "1 2020-08-08    2020-08-03       42  1 wk ahead inc case  point       NaN   \n",
              "2 2020-08-15    2020-08-10       42  1 wk ahead inc case  point       NaN   \n",
              "3 2020-08-22    2020-08-17       42  1 wk ahead inc case  point       NaN   \n",
              "\n",
              "         value  \n",
              "0  5054.403600  \n",
              "1  5611.584782  \n",
              "2  5169.395000  \n",
              "3  4972.474800  "
            ],
            "text/html": [
              "\n",
              "  <div id=\"df-eab8e5de-1157-459c-90ee-3b1917469bde\">\n",
              "    <div class=\"colab-df-container\">\n",
              "      <div>\n",
              "<style scoped>\n",
              "    .dataframe tbody tr th:only-of-type {\n",
              "        vertical-align: middle;\n",
              "    }\n",
              "\n",
              "    .dataframe tbody tr th {\n",
              "        vertical-align: top;\n",
              "    }\n",
              "\n",
              "    .dataframe thead th {\n",
              "        text-align: right;\n",
              "    }\n",
              "</style>\n",
              "<table border=\"1\" class=\"dataframe\">\n",
              "  <thead>\n",
              "    <tr style=\"text-align: right;\">\n",
              "      <th></th>\n",
              "      <th>Date</th>\n",
              "      <th>forecast_date</th>\n",
              "      <th>location</th>\n",
              "      <th>target</th>\n",
              "      <th>type</th>\n",
              "      <th>quantile</th>\n",
              "      <th>value</th>\n",
              "    </tr>\n",
              "  </thead>\n",
              "  <tbody>\n",
              "    <tr>\n",
              "      <th>0</th>\n",
              "      <td>2020-08-01</td>\n",
              "      <td>2020-07-27</td>\n",
              "      <td>42</td>\n",
              "      <td>1 wk ahead inc case</td>\n",
              "      <td>point</td>\n",
              "      <td>NaN</td>\n",
              "      <td>5054.403600</td>\n",
              "    </tr>\n",
              "    <tr>\n",
              "      <th>1</th>\n",
              "      <td>2020-08-08</td>\n",
              "      <td>2020-08-03</td>\n",
              "      <td>42</td>\n",
              "      <td>1 wk ahead inc case</td>\n",
              "      <td>point</td>\n",
              "      <td>NaN</td>\n",
              "      <td>5611.584782</td>\n",
              "    </tr>\n",
              "    <tr>\n",
              "      <th>2</th>\n",
              "      <td>2020-08-15</td>\n",
              "      <td>2020-08-10</td>\n",
              "      <td>42</td>\n",
              "      <td>1 wk ahead inc case</td>\n",
              "      <td>point</td>\n",
              "      <td>NaN</td>\n",
              "      <td>5169.395000</td>\n",
              "    </tr>\n",
              "    <tr>\n",
              "      <th>3</th>\n",
              "      <td>2020-08-22</td>\n",
              "      <td>2020-08-17</td>\n",
              "      <td>42</td>\n",
              "      <td>1 wk ahead inc case</td>\n",
              "      <td>point</td>\n",
              "      <td>NaN</td>\n",
              "      <td>4972.474800</td>\n",
              "    </tr>\n",
              "  </tbody>\n",
              "</table>\n",
              "</div>\n",
              "      <button class=\"colab-df-convert\" onclick=\"convertToInteractive('df-eab8e5de-1157-459c-90ee-3b1917469bde')\"\n",
              "              title=\"Convert this dataframe to an interactive table.\"\n",
              "              style=\"display:none;\">\n",
              "        \n",
              "  <svg xmlns=\"http://www.w3.org/2000/svg\" height=\"24px\"viewBox=\"0 0 24 24\"\n",
              "       width=\"24px\">\n",
              "    <path d=\"M0 0h24v24H0V0z\" fill=\"none\"/>\n",
              "    <path d=\"M18.56 5.44l.94 2.06.94-2.06 2.06-.94-2.06-.94-.94-2.06-.94 2.06-2.06.94zm-11 1L8.5 8.5l.94-2.06 2.06-.94-2.06-.94L8.5 2.5l-.94 2.06-2.06.94zm10 10l.94 2.06.94-2.06 2.06-.94-2.06-.94-.94-2.06-.94 2.06-2.06.94z\"/><path d=\"M17.41 7.96l-1.37-1.37c-.4-.4-.92-.59-1.43-.59-.52 0-1.04.2-1.43.59L10.3 9.45l-7.72 7.72c-.78.78-.78 2.05 0 2.83L4 21.41c.39.39.9.59 1.41.59.51 0 1.02-.2 1.41-.59l7.78-7.78 2.81-2.81c.8-.78.8-2.07 0-2.86zM5.41 20L4 18.59l7.72-7.72 1.47 1.35L5.41 20z\"/>\n",
              "  </svg>\n",
              "      </button>\n",
              "      \n",
              "  <style>\n",
              "    .colab-df-container {\n",
              "      display:flex;\n",
              "      flex-wrap:wrap;\n",
              "      gap: 12px;\n",
              "    }\n",
              "\n",
              "    .colab-df-convert {\n",
              "      background-color: #E8F0FE;\n",
              "      border: none;\n",
              "      border-radius: 50%;\n",
              "      cursor: pointer;\n",
              "      display: none;\n",
              "      fill: #1967D2;\n",
              "      height: 32px;\n",
              "      padding: 0 0 0 0;\n",
              "      width: 32px;\n",
              "    }\n",
              "\n",
              "    .colab-df-convert:hover {\n",
              "      background-color: #E2EBFA;\n",
              "      box-shadow: 0px 1px 2px rgba(60, 64, 67, 0.3), 0px 1px 3px 1px rgba(60, 64, 67, 0.15);\n",
              "      fill: #174EA6;\n",
              "    }\n",
              "\n",
              "    [theme=dark] .colab-df-convert {\n",
              "      background-color: #3B4455;\n",
              "      fill: #D2E3FC;\n",
              "    }\n",
              "\n",
              "    [theme=dark] .colab-df-convert:hover {\n",
              "      background-color: #434B5C;\n",
              "      box-shadow: 0px 1px 3px 1px rgba(0, 0, 0, 0.15);\n",
              "      filter: drop-shadow(0px 1px 2px rgba(0, 0, 0, 0.3));\n",
              "      fill: #FFFFFF;\n",
              "    }\n",
              "  </style>\n",
              "\n",
              "      <script>\n",
              "        const buttonEl =\n",
              "          document.querySelector('#df-eab8e5de-1157-459c-90ee-3b1917469bde button.colab-df-convert');\n",
              "        buttonEl.style.display =\n",
              "          google.colab.kernel.accessAllowed ? 'block' : 'none';\n",
              "\n",
              "        async function convertToInteractive(key) {\n",
              "          const element = document.querySelector('#df-eab8e5de-1157-459c-90ee-3b1917469bde');\n",
              "          const dataTable =\n",
              "            await google.colab.kernel.invokeFunction('convertToInteractive',\n",
              "                                                     [key], {});\n",
              "          if (!dataTable) return;\n",
              "\n",
              "          const docLinkHtml = 'Like what you see? Visit the ' +\n",
              "            '<a target=\"_blank\" href=https://colab.research.google.com/notebooks/data_table.ipynb>data table notebook</a>'\n",
              "            + ' to learn more about interactive tables.';\n",
              "          element.innerHTML = '';\n",
              "          dataTable['output_type'] = 'display_data';\n",
              "          await google.colab.output.renderOutput(dataTable, element);\n",
              "          const docLink = document.createElement('div');\n",
              "          docLink.innerHTML = docLinkHtml;\n",
              "          element.appendChild(docLink);\n",
              "        }\n",
              "      </script>\n",
              "    </div>\n",
              "  </div>\n",
              "  "
            ]
          },
          "metadata": {},
          "execution_count": 13
        }
      ],
      "source": [
        "#finding weekly increase in cases in PA\n",
        "df_weekly=df2_2.groupby('target_end_date').agg('last').reset_index()\n",
        "df_weekly.rename(\n",
        "    columns={\"target_end_date\":\"Date\"},inplace=True)\n",
        "df_weekly.head(4)"
      ]
    },
    {
      "cell_type": "code",
      "execution_count": 16,
      "id": "c6e2730d",
      "metadata": {
        "id": "c6e2730d",
        "colab": {
          "base_uri": "https://localhost:8080/",
          "height": 206
        },
        "outputId": "5dab2b44-57a1-4fe4-9178-f64cd54d23a2"
      },
      "outputs": [
        {
          "output_type": "execute_result",
          "data": {
            "text/plain": [
              "        Date forecast_date location               target   type  quantile  \\\n",
              "0 2020-08-01    2020-07-27       42  1 wk ahead inc case  point       NaN   \n",
              "1 2020-08-08    2020-08-03       42  1 wk ahead inc case  point       NaN   \n",
              "2 2020-08-15    2020-08-10       42  1 wk ahead inc case  point       NaN   \n",
              "3 2020-08-22    2020-08-17       42  1 wk ahead inc case  point       NaN   \n",
              "4 2020-08-29    2020-08-24       42  1 wk ahead inc case  point       NaN   \n",
              "\n",
              "         value     dayRate  \n",
              "0  5054.403600  722.057657  \n",
              "1  5611.584782  801.654969  \n",
              "2  5169.395000  738.485000  \n",
              "3  4972.474800  710.353543  \n",
              "4  4562.377800  651.768257  "
            ],
            "text/html": [
              "\n",
              "  <div id=\"df-c8465e02-922e-4433-88e4-cf1da70f114d\">\n",
              "    <div class=\"colab-df-container\">\n",
              "      <div>\n",
              "<style scoped>\n",
              "    .dataframe tbody tr th:only-of-type {\n",
              "        vertical-align: middle;\n",
              "    }\n",
              "\n",
              "    .dataframe tbody tr th {\n",
              "        vertical-align: top;\n",
              "    }\n",
              "\n",
              "    .dataframe thead th {\n",
              "        text-align: right;\n",
              "    }\n",
              "</style>\n",
              "<table border=\"1\" class=\"dataframe\">\n",
              "  <thead>\n",
              "    <tr style=\"text-align: right;\">\n",
              "      <th></th>\n",
              "      <th>Date</th>\n",
              "      <th>forecast_date</th>\n",
              "      <th>location</th>\n",
              "      <th>target</th>\n",
              "      <th>type</th>\n",
              "      <th>quantile</th>\n",
              "      <th>value</th>\n",
              "      <th>dayRate</th>\n",
              "    </tr>\n",
              "  </thead>\n",
              "  <tbody>\n",
              "    <tr>\n",
              "      <th>0</th>\n",
              "      <td>2020-08-01</td>\n",
              "      <td>2020-07-27</td>\n",
              "      <td>42</td>\n",
              "      <td>1 wk ahead inc case</td>\n",
              "      <td>point</td>\n",
              "      <td>NaN</td>\n",
              "      <td>5054.403600</td>\n",
              "      <td>722.057657</td>\n",
              "    </tr>\n",
              "    <tr>\n",
              "      <th>1</th>\n",
              "      <td>2020-08-08</td>\n",
              "      <td>2020-08-03</td>\n",
              "      <td>42</td>\n",
              "      <td>1 wk ahead inc case</td>\n",
              "      <td>point</td>\n",
              "      <td>NaN</td>\n",
              "      <td>5611.584782</td>\n",
              "      <td>801.654969</td>\n",
              "    </tr>\n",
              "    <tr>\n",
              "      <th>2</th>\n",
              "      <td>2020-08-15</td>\n",
              "      <td>2020-08-10</td>\n",
              "      <td>42</td>\n",
              "      <td>1 wk ahead inc case</td>\n",
              "      <td>point</td>\n",
              "      <td>NaN</td>\n",
              "      <td>5169.395000</td>\n",
              "      <td>738.485000</td>\n",
              "    </tr>\n",
              "    <tr>\n",
              "      <th>3</th>\n",
              "      <td>2020-08-22</td>\n",
              "      <td>2020-08-17</td>\n",
              "      <td>42</td>\n",
              "      <td>1 wk ahead inc case</td>\n",
              "      <td>point</td>\n",
              "      <td>NaN</td>\n",
              "      <td>4972.474800</td>\n",
              "      <td>710.353543</td>\n",
              "    </tr>\n",
              "    <tr>\n",
              "      <th>4</th>\n",
              "      <td>2020-08-29</td>\n",
              "      <td>2020-08-24</td>\n",
              "      <td>42</td>\n",
              "      <td>1 wk ahead inc case</td>\n",
              "      <td>point</td>\n",
              "      <td>NaN</td>\n",
              "      <td>4562.377800</td>\n",
              "      <td>651.768257</td>\n",
              "    </tr>\n",
              "  </tbody>\n",
              "</table>\n",
              "</div>\n",
              "      <button class=\"colab-df-convert\" onclick=\"convertToInteractive('df-c8465e02-922e-4433-88e4-cf1da70f114d')\"\n",
              "              title=\"Convert this dataframe to an interactive table.\"\n",
              "              style=\"display:none;\">\n",
              "        \n",
              "  <svg xmlns=\"http://www.w3.org/2000/svg\" height=\"24px\"viewBox=\"0 0 24 24\"\n",
              "       width=\"24px\">\n",
              "    <path d=\"M0 0h24v24H0V0z\" fill=\"none\"/>\n",
              "    <path d=\"M18.56 5.44l.94 2.06.94-2.06 2.06-.94-2.06-.94-.94-2.06-.94 2.06-2.06.94zm-11 1L8.5 8.5l.94-2.06 2.06-.94-2.06-.94L8.5 2.5l-.94 2.06-2.06.94zm10 10l.94 2.06.94-2.06 2.06-.94-2.06-.94-.94-2.06-.94 2.06-2.06.94z\"/><path d=\"M17.41 7.96l-1.37-1.37c-.4-.4-.92-.59-1.43-.59-.52 0-1.04.2-1.43.59L10.3 9.45l-7.72 7.72c-.78.78-.78 2.05 0 2.83L4 21.41c.39.39.9.59 1.41.59.51 0 1.02-.2 1.41-.59l7.78-7.78 2.81-2.81c.8-.78.8-2.07 0-2.86zM5.41 20L4 18.59l7.72-7.72 1.47 1.35L5.41 20z\"/>\n",
              "  </svg>\n",
              "      </button>\n",
              "      \n",
              "  <style>\n",
              "    .colab-df-container {\n",
              "      display:flex;\n",
              "      flex-wrap:wrap;\n",
              "      gap: 12px;\n",
              "    }\n",
              "\n",
              "    .colab-df-convert {\n",
              "      background-color: #E8F0FE;\n",
              "      border: none;\n",
              "      border-radius: 50%;\n",
              "      cursor: pointer;\n",
              "      display: none;\n",
              "      fill: #1967D2;\n",
              "      height: 32px;\n",
              "      padding: 0 0 0 0;\n",
              "      width: 32px;\n",
              "    }\n",
              "\n",
              "    .colab-df-convert:hover {\n",
              "      background-color: #E2EBFA;\n",
              "      box-shadow: 0px 1px 2px rgba(60, 64, 67, 0.3), 0px 1px 3px 1px rgba(60, 64, 67, 0.15);\n",
              "      fill: #174EA6;\n",
              "    }\n",
              "\n",
              "    [theme=dark] .colab-df-convert {\n",
              "      background-color: #3B4455;\n",
              "      fill: #D2E3FC;\n",
              "    }\n",
              "\n",
              "    [theme=dark] .colab-df-convert:hover {\n",
              "      background-color: #434B5C;\n",
              "      box-shadow: 0px 1px 3px 1px rgba(0, 0, 0, 0.15);\n",
              "      filter: drop-shadow(0px 1px 2px rgba(0, 0, 0, 0.3));\n",
              "      fill: #FFFFFF;\n",
              "    }\n",
              "  </style>\n",
              "\n",
              "      <script>\n",
              "        const buttonEl =\n",
              "          document.querySelector('#df-c8465e02-922e-4433-88e4-cf1da70f114d button.colab-df-convert');\n",
              "        buttonEl.style.display =\n",
              "          google.colab.kernel.accessAllowed ? 'block' : 'none';\n",
              "\n",
              "        async function convertToInteractive(key) {\n",
              "          const element = document.querySelector('#df-c8465e02-922e-4433-88e4-cf1da70f114d');\n",
              "          const dataTable =\n",
              "            await google.colab.kernel.invokeFunction('convertToInteractive',\n",
              "                                                     [key], {});\n",
              "          if (!dataTable) return;\n",
              "\n",
              "          const docLinkHtml = 'Like what you see? Visit the ' +\n",
              "            '<a target=\"_blank\" href=https://colab.research.google.com/notebooks/data_table.ipynb>data table notebook</a>'\n",
              "            + ' to learn more about interactive tables.';\n",
              "          element.innerHTML = '';\n",
              "          dataTable['output_type'] = 'display_data';\n",
              "          await google.colab.output.renderOutput(dataTable, element);\n",
              "          const docLink = document.createElement('div');\n",
              "          docLink.innerHTML = docLinkHtml;\n",
              "          element.appendChild(docLink);\n",
              "        }\n",
              "      </script>\n",
              "    </div>\n",
              "  </div>\n",
              "  "
            ]
          },
          "metadata": {},
          "execution_count": 16
        }
      ],
      "source": [
        "#creating a column for daily additions\n",
        "df_weekly[\"dayRate\"] = df_weekly[\"value\"] / 7\n",
        "##mask = (df_weekly['Date'] <= '2022-03-02')\n",
        "#df_weekly = df_weekly.loc[mask]\n",
        "df_weekly.head(5)"
      ]
    },
    {
      "cell_type": "code",
      "source": [
        "df_weekly.tail(3)"
      ],
      "metadata": {
        "colab": {
          "base_uri": "https://localhost:8080/",
          "height": 143
        },
        "id": "7q_6nzsFIbww",
        "outputId": "4eebc7d9-f705-442e-bf3d-f2c4c08b3472"
      },
      "id": "7q_6nzsFIbww",
      "execution_count": 17,
      "outputs": [
        {
          "output_type": "execute_result",
          "data": {
            "text/plain": [
              "         Date forecast_date location               target   type  quantile  \\\n",
              "32 2021-03-20    2021-03-15       42  1 wk ahead inc case  point       NaN   \n",
              "33 2021-03-27    2021-03-22       42  1 wk ahead inc case  point       NaN   \n",
              "34 2021-04-03    2021-03-29       42  1 wk ahead inc case  point       NaN   \n",
              "\n",
              "         value      dayRate  \n",
              "32  17039.5236  2434.217657  \n",
              "33  16079.2540  2297.036286  \n",
              "34  37470.6032  5352.943314  "
            ],
            "text/html": [
              "\n",
              "  <div id=\"df-8acce99b-dbe7-4cad-bde2-7c12a08a5776\">\n",
              "    <div class=\"colab-df-container\">\n",
              "      <div>\n",
              "<style scoped>\n",
              "    .dataframe tbody tr th:only-of-type {\n",
              "        vertical-align: middle;\n",
              "    }\n",
              "\n",
              "    .dataframe tbody tr th {\n",
              "        vertical-align: top;\n",
              "    }\n",
              "\n",
              "    .dataframe thead th {\n",
              "        text-align: right;\n",
              "    }\n",
              "</style>\n",
              "<table border=\"1\" class=\"dataframe\">\n",
              "  <thead>\n",
              "    <tr style=\"text-align: right;\">\n",
              "      <th></th>\n",
              "      <th>Date</th>\n",
              "      <th>forecast_date</th>\n",
              "      <th>location</th>\n",
              "      <th>target</th>\n",
              "      <th>type</th>\n",
              "      <th>quantile</th>\n",
              "      <th>value</th>\n",
              "      <th>dayRate</th>\n",
              "    </tr>\n",
              "  </thead>\n",
              "  <tbody>\n",
              "    <tr>\n",
              "      <th>32</th>\n",
              "      <td>2021-03-20</td>\n",
              "      <td>2021-03-15</td>\n",
              "      <td>42</td>\n",
              "      <td>1 wk ahead inc case</td>\n",
              "      <td>point</td>\n",
              "      <td>NaN</td>\n",
              "      <td>17039.5236</td>\n",
              "      <td>2434.217657</td>\n",
              "    </tr>\n",
              "    <tr>\n",
              "      <th>33</th>\n",
              "      <td>2021-03-27</td>\n",
              "      <td>2021-03-22</td>\n",
              "      <td>42</td>\n",
              "      <td>1 wk ahead inc case</td>\n",
              "      <td>point</td>\n",
              "      <td>NaN</td>\n",
              "      <td>16079.2540</td>\n",
              "      <td>2297.036286</td>\n",
              "    </tr>\n",
              "    <tr>\n",
              "      <th>34</th>\n",
              "      <td>2021-04-03</td>\n",
              "      <td>2021-03-29</td>\n",
              "      <td>42</td>\n",
              "      <td>1 wk ahead inc case</td>\n",
              "      <td>point</td>\n",
              "      <td>NaN</td>\n",
              "      <td>37470.6032</td>\n",
              "      <td>5352.943314</td>\n",
              "    </tr>\n",
              "  </tbody>\n",
              "</table>\n",
              "</div>\n",
              "      <button class=\"colab-df-convert\" onclick=\"convertToInteractive('df-8acce99b-dbe7-4cad-bde2-7c12a08a5776')\"\n",
              "              title=\"Convert this dataframe to an interactive table.\"\n",
              "              style=\"display:none;\">\n",
              "        \n",
              "  <svg xmlns=\"http://www.w3.org/2000/svg\" height=\"24px\"viewBox=\"0 0 24 24\"\n",
              "       width=\"24px\">\n",
              "    <path d=\"M0 0h24v24H0V0z\" fill=\"none\"/>\n",
              "    <path d=\"M18.56 5.44l.94 2.06.94-2.06 2.06-.94-2.06-.94-.94-2.06-.94 2.06-2.06.94zm-11 1L8.5 8.5l.94-2.06 2.06-.94-2.06-.94L8.5 2.5l-.94 2.06-2.06.94zm10 10l.94 2.06.94-2.06 2.06-.94-2.06-.94-.94-2.06-.94 2.06-2.06.94z\"/><path d=\"M17.41 7.96l-1.37-1.37c-.4-.4-.92-.59-1.43-.59-.52 0-1.04.2-1.43.59L10.3 9.45l-7.72 7.72c-.78.78-.78 2.05 0 2.83L4 21.41c.39.39.9.59 1.41.59.51 0 1.02-.2 1.41-.59l7.78-7.78 2.81-2.81c.8-.78.8-2.07 0-2.86zM5.41 20L4 18.59l7.72-7.72 1.47 1.35L5.41 20z\"/>\n",
              "  </svg>\n",
              "      </button>\n",
              "      \n",
              "  <style>\n",
              "    .colab-df-container {\n",
              "      display:flex;\n",
              "      flex-wrap:wrap;\n",
              "      gap: 12px;\n",
              "    }\n",
              "\n",
              "    .colab-df-convert {\n",
              "      background-color: #E8F0FE;\n",
              "      border: none;\n",
              "      border-radius: 50%;\n",
              "      cursor: pointer;\n",
              "      display: none;\n",
              "      fill: #1967D2;\n",
              "      height: 32px;\n",
              "      padding: 0 0 0 0;\n",
              "      width: 32px;\n",
              "    }\n",
              "\n",
              "    .colab-df-convert:hover {\n",
              "      background-color: #E2EBFA;\n",
              "      box-shadow: 0px 1px 2px rgba(60, 64, 67, 0.3), 0px 1px 3px 1px rgba(60, 64, 67, 0.15);\n",
              "      fill: #174EA6;\n",
              "    }\n",
              "\n",
              "    [theme=dark] .colab-df-convert {\n",
              "      background-color: #3B4455;\n",
              "      fill: #D2E3FC;\n",
              "    }\n",
              "\n",
              "    [theme=dark] .colab-df-convert:hover {\n",
              "      background-color: #434B5C;\n",
              "      box-shadow: 0px 1px 3px 1px rgba(0, 0, 0, 0.15);\n",
              "      filter: drop-shadow(0px 1px 2px rgba(0, 0, 0, 0.3));\n",
              "      fill: #FFFFFF;\n",
              "    }\n",
              "  </style>\n",
              "\n",
              "      <script>\n",
              "        const buttonEl =\n",
              "          document.querySelector('#df-8acce99b-dbe7-4cad-bde2-7c12a08a5776 button.colab-df-convert');\n",
              "        buttonEl.style.display =\n",
              "          google.colab.kernel.accessAllowed ? 'block' : 'none';\n",
              "\n",
              "        async function convertToInteractive(key) {\n",
              "          const element = document.querySelector('#df-8acce99b-dbe7-4cad-bde2-7c12a08a5776');\n",
              "          const dataTable =\n",
              "            await google.colab.kernel.invokeFunction('convertToInteractive',\n",
              "                                                     [key], {});\n",
              "          if (!dataTable) return;\n",
              "\n",
              "          const docLinkHtml = 'Like what you see? Visit the ' +\n",
              "            '<a target=\"_blank\" href=https://colab.research.google.com/notebooks/data_table.ipynb>data table notebook</a>'\n",
              "            + ' to learn more about interactive tables.';\n",
              "          element.innerHTML = '';\n",
              "          dataTable['output_type'] = 'display_data';\n",
              "          await google.colab.output.renderOutput(dataTable, element);\n",
              "          const docLink = document.createElement('div');\n",
              "          docLink.innerHTML = docLinkHtml;\n",
              "          element.appendChild(docLink);\n",
              "        }\n",
              "      </script>\n",
              "    </div>\n",
              "  </div>\n",
              "  "
            ]
          },
          "metadata": {},
          "execution_count": 17
        }
      ]
    },
    {
      "cell_type": "code",
      "execution_count": 18,
      "id": "8ebe961f",
      "metadata": {
        "id": "8ebe961f",
        "colab": {
          "base_uri": "https://localhost:8080/"
        },
        "outputId": "c82b7590-f102-4dd2-efcf-d98ec965579d"
      },
      "outputs": [
        {
          "output_type": "stream",
          "name": "stdout",
          "text": [
            "[722.0576571428571, 722.0576571428571, 722.0576571428571, 722.0576571428571, 722.0576571428571, 722.0576571428571, 722.0576571428571, 801.6549689258931, 801.6549689258931, 801.6549689258931, 801.6549689258931, 801.6549689258931, 801.6549689258931, 801.6549689258931, 738.485, 738.485, 738.485, 738.485, 738.485, 738.485, 738.485, 710.3535428571429, 710.3535428571429, 710.3535428571429, 710.3535428571429, 710.3535428571429, 710.3535428571429, 710.3535428571429, 651.7682571428571, 651.7682571428571, 651.7682571428571, 651.7682571428571, 651.7682571428571, 651.7682571428571, 651.7682571428571, 573.2262285714286, 573.2262285714286, 573.2262285714286, 573.2262285714286, 573.2262285714286, 573.2262285714286, 573.2262285714286, 693.9323428571428, 693.9323428571428, 693.9323428571428, 693.9323428571428, 693.9323428571428, 693.9323428571428, 693.9323428571428, 536.5944285714286, 536.5944285714286, 536.5944285714286, 536.5944285714286, 536.5944285714286, 536.5944285714286, 536.5944285714286, 762.7042, 762.7042, 762.7042, 762.7042, 762.7042, 762.7042, 762.7042, 886.723257142857, 886.723257142857, 886.723257142857, 886.723257142857, 886.723257142857, 886.723257142857, 886.723257142857, 1086.4972857142857, 1086.4972857142857, 1086.4972857142857, 1086.4972857142857, 1086.4972857142857, 1086.4972857142857, 1086.4972857142857, 1196.8087714285716, 1196.8087714285716, 1196.8087714285716, 1196.8087714285716, 1196.8087714285716, 1196.8087714285716, 1196.8087714285716, 1613.5889142857143, 1613.5889142857143, 1613.5889142857143, 1613.5889142857143, 1613.5889142857143, 1613.5889142857143, 1613.5889142857143, 2120.4354857142857, 2120.4354857142857, 2120.4354857142857, 2120.4354857142857, 2120.4354857142857, 2120.4354857142857, 2120.4354857142857, 2713.8142285714284, 2713.8142285714284, 2713.8142285714284, 2713.8142285714284, 2713.8142285714284, 2713.8142285714284, 2713.8142285714284, 3478.2436000000002, 3478.2436000000002, 3478.2436000000002, 3478.2436000000002, 3478.2436000000002, 3478.2436000000002, 3478.2436000000002, 5831.146028571428, 5831.146028571428, 5831.146028571428, 5831.146028571428, 5831.146028571428, 5831.146028571428, 5831.146028571428, 6927.318542857143, 6927.318542857143, 6927.318542857143, 6927.318542857143, 6927.318542857143, 6927.318542857143, 6927.318542857143, 6935.162342857143, 6935.162342857143, 6935.162342857143, 6935.162342857143, 6935.162342857143, 6935.162342857143, 6935.162342857143, 8275.425457142857, 8275.425457142857, 8275.425457142857, 8275.425457142857, 8275.425457142857, 8275.425457142857, 8275.425457142857, 9722.680942857143, 9722.680942857143, 9722.680942857143, 9722.680942857143, 9722.680942857143, 9722.680942857143, 9722.680942857143, 8318.144485714287, 8318.144485714287, 8318.144485714287, 8318.144485714287, 8318.144485714287, 8318.144485714287, 8318.144485714287, 8522.973, 8522.973, 8522.973, 8522.973, 8522.973, 8522.973, 8522.973, 7325.650228571429, 7325.650228571429, 7325.650228571429, 7325.650228571429, 7325.650228571429, 7325.650228571429, 7325.650228571429, 10543.821057142855, 10543.821057142855, 10543.821057142855, 10543.821057142855, 10543.821057142855, 10543.821057142855, 10543.821057142855, 7793.078, 7793.078, 7793.078, 7793.078, 7793.078, 7793.078, 7793.078, 5434.7973142857145, 5434.7973142857145, 5434.7973142857145, 5434.7973142857145, 5434.7973142857145, 5434.7973142857145, 5434.7973142857145, 4455.221, 4455.221, 4455.221, 4455.221, 4455.221, 4455.221, 4455.221, 4252.9128, 4252.9128, 4252.9128, 4252.9128, 4252.9128, 4252.9128, 4252.9128, 2371.32, 2371.32, 2371.32, 2371.32, 2371.32, 2371.32, 2371.32, 2118.5485714285714, 2118.5485714285714, 2118.5485714285714, 2118.5485714285714, 2118.5485714285714, 2118.5485714285714, 2118.5485714285714, 1875.7349428571429, 1875.7349428571429, 1875.7349428571429, 1875.7349428571429, 1875.7349428571429, 1875.7349428571429, 1875.7349428571429, 2434.217657142857, 2434.217657142857, 2434.217657142857, 2434.217657142857, 2434.217657142857, 2434.217657142857, 2434.217657142857, 2297.036285714286, 2297.036285714286, 2297.036285714286, 2297.036285714286, 2297.036285714286, 2297.036285714286, 2297.036285714286, 5352.943314285714, 5352.943314285714, 5352.943314285714, 5352.943314285714, 5352.943314285714, 5352.943314285714, 5352.943314285714]\n"
          ]
        }
      ],
      "source": [
        "# creating a list of predictions from the model data\n",
        "predictions = []\n",
        "for i in df_weekly[\"dayRate\"]:\n",
        "    predictions.extend(repeat(i,7))\n",
        "#del predictions[-2:]\n",
        "#preds = pd.DataFrame(predictions)\n",
        "#preds.drop(preds.tail(2).index,inplace=True) \n",
        "print(predictions)"
      ]
    },
    {
      "cell_type": "code",
      "source": [
        "len(predictions)"
      ],
      "metadata": {
        "colab": {
          "base_uri": "https://localhost:8080/"
        },
        "id": "eJNzeE02ILNR",
        "outputId": "ad3dfe06-087e-4fcd-fc14-3e764d8254f2"
      },
      "id": "eJNzeE02ILNR",
      "execution_count": 19,
      "outputs": [
        {
          "output_type": "execute_result",
          "data": {
            "text/plain": [
              "245"
            ]
          },
          "metadata": {},
          "execution_count": 19
        }
      ]
    },
    {
      "cell_type": "code",
      "execution_count": 23,
      "id": "65a9fbb1",
      "metadata": {
        "id": "65a9fbb1",
        "colab": {
          "base_uri": "https://localhost:8080/",
          "height": 206
        },
        "outputId": "f8dfd97b-246d-4c56-9ba4-9dbd31b424fb"
      },
      "outputs": [
        {
          "output_type": "execute_result",
          "data": {
            "text/plain": [
              "        Date  New Cases  7-day Average New Cases  \\\n",
              "0 2020-08-01       1320                   1747.1   \n",
              "1 2020-08-02       1154                   1692.6   \n",
              "2 2020-08-03       1674                   1620.5   \n",
              "3 2020-08-04       1446                   1602.6   \n",
              "4 2020-08-05       1620                   1573.1   \n",
              "\n",
              "   Cumulative cases                            Population (2019)  \\\n",
              "0                                      235406           25603978   \n",
              "1                                      236560           25603978   \n",
              "2                                      238234           25603978   \n",
              "3                                      239680           25603978   \n",
              "4                                      241300           25603978   \n",
              "\n",
              "   New Case Rate  7-Day Average New Case Rate  Cumulative Case Rate  \\\n",
              "0          251.2                        312.9               35115.1   \n",
              "1          218.5                        315.3               35333.3   \n",
              "2          337.4                        301.8               35670.5   \n",
              "3          311.3                        305.1               35982.1   \n",
              "4          349.2                        311.3               36331.3   \n",
              "\n",
              "   County FIPS Code    Longitude     Latitude  \n",
              "0           2860489 -5275.682283  2774.207671  \n",
              "1           2860489 -5275.682283  2774.207671  \n",
              "2           2860489 -5275.682283  2774.207671  \n",
              "3           2860489 -5275.682283  2774.207671  \n",
              "4           2860489 -5275.682283  2774.207671  "
            ],
            "text/html": [
              "\n",
              "  <div id=\"df-c8245ad2-bde2-4f6c-b56a-69e5a3f2ac2e\">\n",
              "    <div class=\"colab-df-container\">\n",
              "      <div>\n",
              "<style scoped>\n",
              "    .dataframe tbody tr th:only-of-type {\n",
              "        vertical-align: middle;\n",
              "    }\n",
              "\n",
              "    .dataframe tbody tr th {\n",
              "        vertical-align: top;\n",
              "    }\n",
              "\n",
              "    .dataframe thead th {\n",
              "        text-align: right;\n",
              "    }\n",
              "</style>\n",
              "<table border=\"1\" class=\"dataframe\">\n",
              "  <thead>\n",
              "    <tr style=\"text-align: right;\">\n",
              "      <th></th>\n",
              "      <th>Date</th>\n",
              "      <th>New Cases</th>\n",
              "      <th>7-day Average New Cases</th>\n",
              "      <th>Cumulative cases</th>\n",
              "      <th>Population (2019)</th>\n",
              "      <th>New Case Rate</th>\n",
              "      <th>7-Day Average New Case Rate</th>\n",
              "      <th>Cumulative Case Rate</th>\n",
              "      <th>County FIPS Code</th>\n",
              "      <th>Longitude</th>\n",
              "      <th>Latitude</th>\n",
              "    </tr>\n",
              "  </thead>\n",
              "  <tbody>\n",
              "    <tr>\n",
              "      <th>0</th>\n",
              "      <td>2020-08-01</td>\n",
              "      <td>1320</td>\n",
              "      <td>1747.1</td>\n",
              "      <td>235406</td>\n",
              "      <td>25603978</td>\n",
              "      <td>251.2</td>\n",
              "      <td>312.9</td>\n",
              "      <td>35115.1</td>\n",
              "      <td>2860489</td>\n",
              "      <td>-5275.682283</td>\n",
              "      <td>2774.207671</td>\n",
              "    </tr>\n",
              "    <tr>\n",
              "      <th>1</th>\n",
              "      <td>2020-08-02</td>\n",
              "      <td>1154</td>\n",
              "      <td>1692.6</td>\n",
              "      <td>236560</td>\n",
              "      <td>25603978</td>\n",
              "      <td>218.5</td>\n",
              "      <td>315.3</td>\n",
              "      <td>35333.3</td>\n",
              "      <td>2860489</td>\n",
              "      <td>-5275.682283</td>\n",
              "      <td>2774.207671</td>\n",
              "    </tr>\n",
              "    <tr>\n",
              "      <th>2</th>\n",
              "      <td>2020-08-03</td>\n",
              "      <td>1674</td>\n",
              "      <td>1620.5</td>\n",
              "      <td>238234</td>\n",
              "      <td>25603978</td>\n",
              "      <td>337.4</td>\n",
              "      <td>301.8</td>\n",
              "      <td>35670.5</td>\n",
              "      <td>2860489</td>\n",
              "      <td>-5275.682283</td>\n",
              "      <td>2774.207671</td>\n",
              "    </tr>\n",
              "    <tr>\n",
              "      <th>3</th>\n",
              "      <td>2020-08-04</td>\n",
              "      <td>1446</td>\n",
              "      <td>1602.6</td>\n",
              "      <td>239680</td>\n",
              "      <td>25603978</td>\n",
              "      <td>311.3</td>\n",
              "      <td>305.1</td>\n",
              "      <td>35982.1</td>\n",
              "      <td>2860489</td>\n",
              "      <td>-5275.682283</td>\n",
              "      <td>2774.207671</td>\n",
              "    </tr>\n",
              "    <tr>\n",
              "      <th>4</th>\n",
              "      <td>2020-08-05</td>\n",
              "      <td>1620</td>\n",
              "      <td>1573.1</td>\n",
              "      <td>241300</td>\n",
              "      <td>25603978</td>\n",
              "      <td>349.2</td>\n",
              "      <td>311.3</td>\n",
              "      <td>36331.3</td>\n",
              "      <td>2860489</td>\n",
              "      <td>-5275.682283</td>\n",
              "      <td>2774.207671</td>\n",
              "    </tr>\n",
              "  </tbody>\n",
              "</table>\n",
              "</div>\n",
              "      <button class=\"colab-df-convert\" onclick=\"convertToInteractive('df-c8245ad2-bde2-4f6c-b56a-69e5a3f2ac2e')\"\n",
              "              title=\"Convert this dataframe to an interactive table.\"\n",
              "              style=\"display:none;\">\n",
              "        \n",
              "  <svg xmlns=\"http://www.w3.org/2000/svg\" height=\"24px\"viewBox=\"0 0 24 24\"\n",
              "       width=\"24px\">\n",
              "    <path d=\"M0 0h24v24H0V0z\" fill=\"none\"/>\n",
              "    <path d=\"M18.56 5.44l.94 2.06.94-2.06 2.06-.94-2.06-.94-.94-2.06-.94 2.06-2.06.94zm-11 1L8.5 8.5l.94-2.06 2.06-.94-2.06-.94L8.5 2.5l-.94 2.06-2.06.94zm10 10l.94 2.06.94-2.06 2.06-.94-2.06-.94-.94-2.06-.94 2.06-2.06.94z\"/><path d=\"M17.41 7.96l-1.37-1.37c-.4-.4-.92-.59-1.43-.59-.52 0-1.04.2-1.43.59L10.3 9.45l-7.72 7.72c-.78.78-.78 2.05 0 2.83L4 21.41c.39.39.9.59 1.41.59.51 0 1.02-.2 1.41-.59l7.78-7.78 2.81-2.81c.8-.78.8-2.07 0-2.86zM5.41 20L4 18.59l7.72-7.72 1.47 1.35L5.41 20z\"/>\n",
              "  </svg>\n",
              "      </button>\n",
              "      \n",
              "  <style>\n",
              "    .colab-df-container {\n",
              "      display:flex;\n",
              "      flex-wrap:wrap;\n",
              "      gap: 12px;\n",
              "    }\n",
              "\n",
              "    .colab-df-convert {\n",
              "      background-color: #E8F0FE;\n",
              "      border: none;\n",
              "      border-radius: 50%;\n",
              "      cursor: pointer;\n",
              "      display: none;\n",
              "      fill: #1967D2;\n",
              "      height: 32px;\n",
              "      padding: 0 0 0 0;\n",
              "      width: 32px;\n",
              "    }\n",
              "\n",
              "    .colab-df-convert:hover {\n",
              "      background-color: #E2EBFA;\n",
              "      box-shadow: 0px 1px 2px rgba(60, 64, 67, 0.3), 0px 1px 3px 1px rgba(60, 64, 67, 0.15);\n",
              "      fill: #174EA6;\n",
              "    }\n",
              "\n",
              "    [theme=dark] .colab-df-convert {\n",
              "      background-color: #3B4455;\n",
              "      fill: #D2E3FC;\n",
              "    }\n",
              "\n",
              "    [theme=dark] .colab-df-convert:hover {\n",
              "      background-color: #434B5C;\n",
              "      box-shadow: 0px 1px 3px 1px rgba(0, 0, 0, 0.15);\n",
              "      filter: drop-shadow(0px 1px 2px rgba(0, 0, 0, 0.3));\n",
              "      fill: #FFFFFF;\n",
              "    }\n",
              "  </style>\n",
              "\n",
              "      <script>\n",
              "        const buttonEl =\n",
              "          document.querySelector('#df-c8245ad2-bde2-4f6c-b56a-69e5a3f2ac2e button.colab-df-convert');\n",
              "        buttonEl.style.display =\n",
              "          google.colab.kernel.accessAllowed ? 'block' : 'none';\n",
              "\n",
              "        async function convertToInteractive(key) {\n",
              "          const element = document.querySelector('#df-c8245ad2-bde2-4f6c-b56a-69e5a3f2ac2e');\n",
              "          const dataTable =\n",
              "            await google.colab.kernel.invokeFunction('convertToInteractive',\n",
              "                                                     [key], {});\n",
              "          if (!dataTable) return;\n",
              "\n",
              "          const docLinkHtml = 'Like what you see? Visit the ' +\n",
              "            '<a target=\"_blank\" href=https://colab.research.google.com/notebooks/data_table.ipynb>data table notebook</a>'\n",
              "            + ' to learn more about interactive tables.';\n",
              "          element.innerHTML = '';\n",
              "          dataTable['output_type'] = 'display_data';\n",
              "          await google.colab.output.renderOutput(dataTable, element);\n",
              "          const docLink = document.createElement('div');\n",
              "          docLink.innerHTML = docLinkHtml;\n",
              "          element.appendChild(docLink);\n",
              "        }\n",
              "      </script>\n",
              "    </div>\n",
              "  </div>\n",
              "  "
            ]
          },
          "metadata": {},
          "execution_count": 23
        }
      ],
      "source": [
        "#select all the dates to be merged with prediction list\n",
        "mask = (df1['Date'] >= '2020-08-01') & (df1['Date'] <= '2021-04-02')\n",
        "df1_copy = df1.loc[mask]\n",
        "df1_copy = df1_copy.groupby([\"Date\"]).sum().reset_index()\n",
        "df1_copy.head(5)"
      ]
    },
    {
      "cell_type": "code",
      "source": [
        "df1_copy.tail(3)"
      ],
      "metadata": {
        "colab": {
          "base_uri": "https://localhost:8080/",
          "height": 143
        },
        "id": "nU0KggITIse0",
        "outputId": "b7af5f3e-5698-4e47-9942-3df7115a531f"
      },
      "id": "nU0KggITIse0",
      "execution_count": 24,
      "outputs": [
        {
          "output_type": "execute_result",
          "data": {
            "text/plain": [
              "          Date  New Cases  7-day Average New Cases  \\\n",
              "242 2021-03-31       7876                   8335.0   \n",
              "243 2021-04-01       9970                   8305.7   \n",
              "244 2021-04-02      10988                   8698.9   \n",
              "\n",
              "     Cumulative cases                            Population (2019)  \\\n",
              "242                                     2078504           25603978   \n",
              "243                                     2088474           25603978   \n",
              "244                                     2099462           25603978   \n",
              "\n",
              "     New Case Rate  7-Day Average New Case Rate  Cumulative Case Rate  \\\n",
              "242         1901.0                       1906.7              558111.0   \n",
              "243         2427.6                       1924.4              560538.5   \n",
              "244         2570.1                       2020.2              563108.5   \n",
              "\n",
              "     County FIPS Code    Longitude     Latitude  \n",
              "242           2860489 -5275.682283  2774.207671  \n",
              "243           2860489 -5275.682283  2774.207671  \n",
              "244           2860489 -5275.682283  2774.207671  "
            ],
            "text/html": [
              "\n",
              "  <div id=\"df-cd6f06cb-bcd0-4271-993c-ce74d7728fea\">\n",
              "    <div class=\"colab-df-container\">\n",
              "      <div>\n",
              "<style scoped>\n",
              "    .dataframe tbody tr th:only-of-type {\n",
              "        vertical-align: middle;\n",
              "    }\n",
              "\n",
              "    .dataframe tbody tr th {\n",
              "        vertical-align: top;\n",
              "    }\n",
              "\n",
              "    .dataframe thead th {\n",
              "        text-align: right;\n",
              "    }\n",
              "</style>\n",
              "<table border=\"1\" class=\"dataframe\">\n",
              "  <thead>\n",
              "    <tr style=\"text-align: right;\">\n",
              "      <th></th>\n",
              "      <th>Date</th>\n",
              "      <th>New Cases</th>\n",
              "      <th>7-day Average New Cases</th>\n",
              "      <th>Cumulative cases</th>\n",
              "      <th>Population (2019)</th>\n",
              "      <th>New Case Rate</th>\n",
              "      <th>7-Day Average New Case Rate</th>\n",
              "      <th>Cumulative Case Rate</th>\n",
              "      <th>County FIPS Code</th>\n",
              "      <th>Longitude</th>\n",
              "      <th>Latitude</th>\n",
              "    </tr>\n",
              "  </thead>\n",
              "  <tbody>\n",
              "    <tr>\n",
              "      <th>242</th>\n",
              "      <td>2021-03-31</td>\n",
              "      <td>7876</td>\n",
              "      <td>8335.0</td>\n",
              "      <td>2078504</td>\n",
              "      <td>25603978</td>\n",
              "      <td>1901.0</td>\n",
              "      <td>1906.7</td>\n",
              "      <td>558111.0</td>\n",
              "      <td>2860489</td>\n",
              "      <td>-5275.682283</td>\n",
              "      <td>2774.207671</td>\n",
              "    </tr>\n",
              "    <tr>\n",
              "      <th>243</th>\n",
              "      <td>2021-04-01</td>\n",
              "      <td>9970</td>\n",
              "      <td>8305.7</td>\n",
              "      <td>2088474</td>\n",
              "      <td>25603978</td>\n",
              "      <td>2427.6</td>\n",
              "      <td>1924.4</td>\n",
              "      <td>560538.5</td>\n",
              "      <td>2860489</td>\n",
              "      <td>-5275.682283</td>\n",
              "      <td>2774.207671</td>\n",
              "    </tr>\n",
              "    <tr>\n",
              "      <th>244</th>\n",
              "      <td>2021-04-02</td>\n",
              "      <td>10988</td>\n",
              "      <td>8698.9</td>\n",
              "      <td>2099462</td>\n",
              "      <td>25603978</td>\n",
              "      <td>2570.1</td>\n",
              "      <td>2020.2</td>\n",
              "      <td>563108.5</td>\n",
              "      <td>2860489</td>\n",
              "      <td>-5275.682283</td>\n",
              "      <td>2774.207671</td>\n",
              "    </tr>\n",
              "  </tbody>\n",
              "</table>\n",
              "</div>\n",
              "      <button class=\"colab-df-convert\" onclick=\"convertToInteractive('df-cd6f06cb-bcd0-4271-993c-ce74d7728fea')\"\n",
              "              title=\"Convert this dataframe to an interactive table.\"\n",
              "              style=\"display:none;\">\n",
              "        \n",
              "  <svg xmlns=\"http://www.w3.org/2000/svg\" height=\"24px\"viewBox=\"0 0 24 24\"\n",
              "       width=\"24px\">\n",
              "    <path d=\"M0 0h24v24H0V0z\" fill=\"none\"/>\n",
              "    <path d=\"M18.56 5.44l.94 2.06.94-2.06 2.06-.94-2.06-.94-.94-2.06-.94 2.06-2.06.94zm-11 1L8.5 8.5l.94-2.06 2.06-.94-2.06-.94L8.5 2.5l-.94 2.06-2.06.94zm10 10l.94 2.06.94-2.06 2.06-.94-2.06-.94-.94-2.06-.94 2.06-2.06.94z\"/><path d=\"M17.41 7.96l-1.37-1.37c-.4-.4-.92-.59-1.43-.59-.52 0-1.04.2-1.43.59L10.3 9.45l-7.72 7.72c-.78.78-.78 2.05 0 2.83L4 21.41c.39.39.9.59 1.41.59.51 0 1.02-.2 1.41-.59l7.78-7.78 2.81-2.81c.8-.78.8-2.07 0-2.86zM5.41 20L4 18.59l7.72-7.72 1.47 1.35L5.41 20z\"/>\n",
              "  </svg>\n",
              "      </button>\n",
              "      \n",
              "  <style>\n",
              "    .colab-df-container {\n",
              "      display:flex;\n",
              "      flex-wrap:wrap;\n",
              "      gap: 12px;\n",
              "    }\n",
              "\n",
              "    .colab-df-convert {\n",
              "      background-color: #E8F0FE;\n",
              "      border: none;\n",
              "      border-radius: 50%;\n",
              "      cursor: pointer;\n",
              "      display: none;\n",
              "      fill: #1967D2;\n",
              "      height: 32px;\n",
              "      padding: 0 0 0 0;\n",
              "      width: 32px;\n",
              "    }\n",
              "\n",
              "    .colab-df-convert:hover {\n",
              "      background-color: #E2EBFA;\n",
              "      box-shadow: 0px 1px 2px rgba(60, 64, 67, 0.3), 0px 1px 3px 1px rgba(60, 64, 67, 0.15);\n",
              "      fill: #174EA6;\n",
              "    }\n",
              "\n",
              "    [theme=dark] .colab-df-convert {\n",
              "      background-color: #3B4455;\n",
              "      fill: #D2E3FC;\n",
              "    }\n",
              "\n",
              "    [theme=dark] .colab-df-convert:hover {\n",
              "      background-color: #434B5C;\n",
              "      box-shadow: 0px 1px 3px 1px rgba(0, 0, 0, 0.15);\n",
              "      filter: drop-shadow(0px 1px 2px rgba(0, 0, 0, 0.3));\n",
              "      fill: #FFFFFF;\n",
              "    }\n",
              "  </style>\n",
              "\n",
              "      <script>\n",
              "        const buttonEl =\n",
              "          document.querySelector('#df-cd6f06cb-bcd0-4271-993c-ce74d7728fea button.colab-df-convert');\n",
              "        buttonEl.style.display =\n",
              "          google.colab.kernel.accessAllowed ? 'block' : 'none';\n",
              "\n",
              "        async function convertToInteractive(key) {\n",
              "          const element = document.querySelector('#df-cd6f06cb-bcd0-4271-993c-ce74d7728fea');\n",
              "          const dataTable =\n",
              "            await google.colab.kernel.invokeFunction('convertToInteractive',\n",
              "                                                     [key], {});\n",
              "          if (!dataTable) return;\n",
              "\n",
              "          const docLinkHtml = 'Like what you see? Visit the ' +\n",
              "            '<a target=\"_blank\" href=https://colab.research.google.com/notebooks/data_table.ipynb>data table notebook</a>'\n",
              "            + ' to learn more about interactive tables.';\n",
              "          element.innerHTML = '';\n",
              "          dataTable['output_type'] = 'display_data';\n",
              "          await google.colab.output.renderOutput(dataTable, element);\n",
              "          const docLink = document.createElement('div');\n",
              "          docLink.innerHTML = docLinkHtml;\n",
              "          element.appendChild(docLink);\n",
              "        }\n",
              "      </script>\n",
              "    </div>\n",
              "  </div>\n",
              "  "
            ]
          },
          "metadata": {},
          "execution_count": 24
        }
      ]
    },
    {
      "cell_type": "code",
      "execution_count": 25,
      "id": "0942c3ad",
      "metadata": {
        "id": "0942c3ad"
      },
      "outputs": [],
      "source": [
        "#assigning predictions to the actual data\n",
        "df1_copy['Prediction'] = predictions"
      ]
    },
    {
      "cell_type": "code",
      "execution_count": null,
      "id": "d28a26ee",
      "metadata": {
        "scrolled": true,
        "id": "d28a26ee"
      },
      "outputs": [],
      "source": [
        "df1_copy.head(20)"
      ]
    },
    {
      "cell_type": "code",
      "execution_count": 27,
      "id": "11c69655",
      "metadata": {
        "id": "11c69655"
      },
      "outputs": [],
      "source": [
        "#renaming data for the graphs \n",
        "merged_df_new = df1_copy"
      ]
    },
    {
      "cell_type": "code",
      "execution_count": 29,
      "id": "d516c1b3",
      "metadata": {
        "colab": {
          "base_uri": "https://localhost:8080/",
          "height": 295
        },
        "id": "d516c1b3",
        "outputId": "265b97e7-f46c-46f2-9c2b-e5b4973f3b43"
      },
      "outputs": [
        {
          "output_type": "display_data",
          "data": {
            "text/plain": [
              "<Figure size 432x288 with 1 Axes>"
            ],
            "image/png": "[encoded data removed]"
          },
          "metadata": {
            "needs_background": "light"
          }
        }
      ],
      "source": [
        "#Create plot of Actual vs. Predicted Cases\n",
        "\n",
        "#Actual Cases Line\n",
        "plt.plot(merged_df_new['Date'], merged_df_new['New Cases'], color='g', label='Actual Cases')\n",
        "\n",
        "#Predicted Cases Line\n",
        "plt.plot(merged_df_new['Date'], merged_df_new['Prediction'], color='r', label='Predicted Cases')\n",
        "\n",
        "#Create XY Labels and Title\n",
        "plt.xlabel('Date (Year/Month/Day)') \n",
        "plt.ylabel('Number of Cases') \n",
        "plt.title(\"Predicted Daily Cases vs Actual Cases in PA\")\n",
        "\n",
        "#Display Plot\n",
        "plt.legend()\n",
        "plt.show()"
      ]
    },
    {
      "cell_type": "code",
      "execution_count": 31,
      "id": "4eee31c3",
      "metadata": {
        "colab": {
          "base_uri": "https://localhost:8080/"
        },
        "id": "4eee31c3",
        "outputId": "286cc221-09a1-4a5b-d992-0b2878e7bbf2"
      },
      "outputs": [
        {
          "output_type": "stream",
          "name": "stdout",
          "text": [
            "239\n",
            "0.9755102040816327\n",
            "6\n",
            "0.024489795918367308\n",
            "245\n",
            "[0.4529866233766234, 0.3743001237930181, 0.5686632872503841, 0.5006516893894487, 0.5542853968253968, 0.5286829914211115, 0.5597209407665505, 0.4847975778111227, 0.3524596373781155, 0.5099908502897964, 0.5481088112029915, 0.6108471024631587, 0.5250859188827648, 0.5267680230661789, 0.46017178362573097, 0.16271541950113377, 0.4336771472392638, 0.3956751227495908, 0.5241720360824742, 0.49967140921409214, 0.538446875, 0.40803871428571425, 0.16231893530997302, 0.40205930735930734, 0.3008331271091113, 0.44416780684104623, 0.5826359912707738, 0.573104842032967, 0.5277041614906832, 0.3804484247691472, 0.6083123454670329, 0.6387093918276845, 0.6993688850817079, 0.6438424824355972, 0.6629946964101049, 0.5624227262813523, 0.5207138557095079, 0.4138791118901548, 0.7128125107357571, 0.5191055129434324, 0.7201043805803571, 0.7011333531952927, 0.46784329535495184, 0.4986037985136252, 0.681974178342281, 0.5464494491129785, 0.6328400302343159, 0.5732273414162714, 0.6187184929356357, 0.6048641910372397, 0.5325832503733201, 0.6865686748998665, 0.6603832730560578, 0.7096350494743352, 0.7346219443266921, 0.7093204612289119, 0.5809317582417581, 0.43419569732937685, 0.7289608386638237, 0.5681176670441676, 0.6318995173745173, 0.6669413973799126, 0.682999085619285, 0.5471280607033416, 0.4380714466775304, 0.541508140050229, 0.6759052422723475, 0.6571062424041543, 0.6886505417335473, 0.7451944663382595, 0.5360814322313041, 0.5056882230599247, 0.5862538896746817, 0.5782231033717835, 0.6546416765053129, 0.6709578177727784, 0.7136274945402515, 0.532861525593844, 0.5146760862009037, 0.6114257235621521, 0.6050136067892503, 0.7109157556935818, 0.7246183222667806, 0.7230891320156012, 0.5389745959183674, 0.5163102774922919, 0.6591489407930473, 0.6458321083657345, 0.6646739579622373, 0.6789516684668296, 0.6931173612997881, 0.49125828077872224, 0.4612714721254355, 0.641090811490473, 0.6164190510647095, 0.6390133664088721, 0.7039324929189771, 0.7347466242539047, 0.5726276805399325, 0.586182642791792, 0.699000196476106, 0.7169572143751117, 0.7518458093844708, 0.7687221553970148, 0.7570443841923521, 0.6827577891280555, 0.6179433655536029, 0.7136776753375041, 0.7272393663739022, 0.7499105838366408, 0.7581866240266963, 0.7494782771535581, 0.5781867745535715, 0.4319943474993738, 0.5301252192931968, 0.5977410300378431, 0.6554103516977055, 0.6046680658595642, 0.6300034245830313, 0.36434955561964183, 0.21618934794555972, 0.411442774608569, 0.6151917263161236, 0.6802087275940751, 0.72150363661425, 0.7226632019033892, 0.5798399162209412, 0.5125008897190255, 0.6635376313381941, 0.5751554555956173, 0.7163068664461612, 0.7289681748140869, 0.6940819434116832, 0.5764012358137358, 0.4882235338810849, 0.5853164232740601, 0.5955710362064873, 0.5746594645794173, 0.557747677578941, 0.5968320443757743, 0.2479361894448373, 0.3745863281321791, 0.41912528719935815, 0.5083595801548775, 0.4463165750081354, 0.3092724536191288, 0.3323251653030392, 0.1817681993198616, 0.12895554909260137, 0.5409412535477767, 0.5621568330500955, 0.5047544364304426, 0.5105822260699996, 0.47326845961788966, 0.12170517312448476, 0.17363990636188378, 0.5121366342301088, 0.570804058817605, 0.5499063688212927, 0.5968319299905392, 0.5598547304275976, 0.49934047098336326, 0.30045356870020734, 0.5183661914154222, 0.5528232066553883, 0.43942070488434126, 0.45800161078932905, 0.46946333802350604, 0.08869308062723809, 0.32526659843424527, 0.06360381375285476, 0.0690604752655081, 0.09417344869906741, 0.022453082037562085, 0.10356903101999189, 0.019235940360973112, 0.028653379091869116, 0.23716934220830066, 0.3033186125514035, 0.44303330474556885, 0.5374478869895536, 0.2911517191195197, 0.3136148883195612, 0.19004510964445387, 0.27613248344622876, 0.13541245397936455, 0.19221205197893662, 0.4626461029972598, 0.34346492941704343, 0.4909482404021938, 0.05729559881506569, 0.5027655133928572, 0.2779220421393842, 0.4534812315996075, 0.36299385187303407, 0.42274928738015033, 0.1390864777327935, 0.12749544008483565, 0.11838457711442785, 0.3945169703872437, 0.3548372572815534, 0.23973671791204862, 0.2504559746210786, 0.3827902134305049, 0.21113772455089816, 0.5919958706125258, 0.5716546242774566, 0.5178283855225702, 0.6531129315389117, 0.6609493851873034, 0.41669918187539334, 0.3873485912583657, 0.5903811733510109, 0.5947688271942289, 0.6759638159332255, 0.6044532166862264, 0.6310434393193014, 0.3964816786173929, 0.35005719235719235, 0.6956951747473811, 0.6440730658715099, 0.669182549760645, 0.7008397220323536, 0.6738986538843632, 0.3667487884643972, 0.14045986682808714, 0.6175019394810093, 0.6314025352600156, 0.6184611822660099, 0.6590731572629052, 0.7036501513096107, 0.5170234891265169, 0.29060028236124585, 0.6772918957973748, 0.7670821044702609, 0.6957567833491012, 0.77422485888399, 0.7210303272146846, 0.12846901428106247, 0.09056348720935878, 0.5133687896103896, 0.4073357712261167, 0.3203474715228905, 0.46309495343172374, 0.512837339435228]\n",
            "[-0.4529866233766234, -0.3743001237930181, -0.5686632872503841, -0.5006516893894487, -0.5542853968253968, -0.5286829914211115, -0.5597209407665505, -0.4847975778111227, -0.3524596373781155, -0.5099908502897964, -0.5481088112029915, -0.6108471024631587, -0.5250859188827648, -0.5267680230661789, -0.46017178362573097, -0.16271541950113377, -0.4336771472392638, -0.3956751227495908, -0.5241720360824742, -0.49967140921409214, -0.538446875, -0.40803871428571425, -0.16231893530997302, -0.40205930735930734, -0.3008331271091113, -0.44416780684104623, -0.5826359912707738, -0.573104842032967, -0.5277041614906832, -0.3804484247691472, -0.6083123454670329, -0.6387093918276845, -0.6993688850817079, -0.6438424824355972, -0.6629946964101049, -0.5624227262813523, -0.5207138557095079, -0.4138791118901548, -0.7128125107357571, -0.5191055129434324, -0.7201043805803571, -0.7011333531952927, -0.46784329535495184, -0.4986037985136252, -0.681974178342281, -0.5464494491129785, -0.6328400302343159, -0.5732273414162714, -0.6187184929356357, -0.6048641910372397, -0.5325832503733201, -0.6865686748998665, -0.6603832730560578, -0.7096350494743352, -0.7346219443266921, -0.7093204612289119, -0.5809317582417581, -0.43419569732937685, -0.7289608386638237, -0.5681176670441676, -0.6318995173745173, -0.6669413973799126, -0.682999085619285, -0.5471280607033416, -0.4380714466775304, -0.541508140050229, -0.6759052422723475, -0.6571062424041543, -0.6886505417335473, -0.7451944663382595, -0.5360814322313041, -0.5056882230599247, -0.5862538896746817, -0.5782231033717835, -0.6546416765053129, -0.6709578177727784, -0.7136274945402515, -0.532861525593844, -0.5146760862009037, -0.6114257235621521, -0.6050136067892503, -0.7109157556935818, -0.7246183222667806, -0.7230891320156012, -0.5389745959183674, -0.5163102774922919, -0.6591489407930473, -0.6458321083657345, -0.6646739579622373, -0.6789516684668296, -0.6931173612997881, -0.49125828077872224, -0.4612714721254355, -0.641090811490473, -0.6164190510647095, -0.6390133664088721, -0.7039324929189771, -0.7347466242539047, -0.5726276805399325, -0.586182642791792, -0.699000196476106, -0.7169572143751117, -0.7518458093844708, -0.7687221553970148, -0.7570443841923521, -0.6827577891280555, -0.6179433655536029, -0.7136776753375041, -0.7272393663739022, -0.7499105838366408, -0.7581866240266963, -0.7494782771535581, -0.5781867745535715, -0.4319943474993738, -0.5301252192931968, -0.5977410300378431, -0.6554103516977055, -0.6046680658595642, -0.6300034245830313, -0.36434955561964183, -0.21618934794555972, -0.411442774608569, -0.6151917263161236, -0.6802087275940751, -0.72150363661425, -0.7226632019033892, -0.5798399162209412, -0.5125008897190255, -0.6635376313381941, -0.5751554555956173, -0.7163068664461612, -0.7289681748140869, -0.6940819434116832, -0.5764012358137358, -0.4882235338810849, -0.5853164232740601, -0.5955710362064873, -0.5746594645794173, -0.557747677578941, -0.5968320443757743, -0.2479361894448373, -0.3745863281321791, -0.41912528719935815, -0.5083595801548775, -0.4463165750081354, -0.3092724536191288, -0.3323251653030392, -0.1817681993198616, 0.12895554909260137, -0.5409412535477767, -0.5621568330500955, -0.5047544364304426, -0.5105822260699996, -0.47326845961788966, -0.12170517312448476, 0.17363990636188378, -0.5121366342301088, -0.570804058817605, -0.5499063688212927, -0.5968319299905392, -0.5598547304275976, -0.49934047098336326, -0.30045356870020734, -0.5183661914154222, -0.5528232066553883, -0.43942070488434126, -0.45800161078932905, -0.46946333802350604, -0.08869308062723809, 0.32526659843424527, -0.06360381375285476, -0.0690604752655081, -0.09417344869906741, -0.022453082037562085, -0.10356903101999189, 0.019235940360973112, 0.028653379091869116, -0.23716934220830066, -0.3033186125514035, -0.44303330474556885, -0.5374478869895536, -0.2911517191195197, -0.3136148883195612, -0.19004510964445387, -0.27613248344622876, -0.13541245397936455, -0.19221205197893662, -0.4626461029972598, -0.34346492941704343, -0.4909482404021938, -0.05729559881506569, -0.5027655133928572, -0.2779220421393842, -0.4534812315996075, -0.36299385187303407, -0.42274928738015033, -0.1390864777327935, 0.12749544008483565, -0.11838457711442785, -0.3945169703872437, -0.3548372572815534, -0.23973671791204862, -0.2504559746210786, -0.3827902134305049, -0.21113772455089816, -0.5919958706125258, -0.5716546242774566, -0.5178283855225702, -0.6531129315389117, -0.6609493851873034, -0.41669918187539334, -0.3873485912583657, -0.5903811733510109, -0.5947688271942289, -0.6759638159332255, -0.6044532166862264, -0.6310434393193014, -0.3964816786173929, -0.35005719235719235, -0.6956951747473811, -0.6440730658715099, -0.669182549760645, -0.7008397220323536, -0.6738986538843632, -0.3667487884643972, -0.14045986682808714, -0.6175019394810093, -0.6314025352600156, -0.6184611822660099, -0.6590731572629052, -0.7036501513096107, -0.5170234891265169, -0.29060028236124585, -0.6772918957973748, -0.7670821044702609, -0.6957567833491012, -0.77422485888399, -0.7210303272146846, -0.12846901428106247, -0.09056348720935878, -0.5133687896103896, -0.4073357712261167, -0.3203474715228905, -0.46309495343172374, -0.512837339435228]\n"
          ]
        }
      ],
      "source": [
        "#error calculations\n",
        "#confirmed = merged_df_new['Actual']\n",
        "#projected = merged_df_new['Prediction']\n",
        "error = []\n",
        "rawerror = []\n",
        "\n",
        "for index, row in merged_df_new.iterrows():\n",
        "  rawerror.append(-1*(row['New Cases'] - row[\"Prediction\"]) / row['New Cases'])\n",
        "  error.append((abs(row['New Cases'] - row[\"Prediction\"])) / row['New Cases'])\n",
        "\n",
        "underpredictCount = 0\n",
        "overpredictCount = 0\n",
        "for x in rawerror:\n",
        "  if x < 0:\n",
        "    underpredictCount += 1\n",
        "  elif x > 0:\n",
        "    overpredictCount += 1\n",
        "\n",
        "underpredictPerecentage = underpredictCount / len(rawerror)\n",
        "overpredictPercentage = 1 - underpredictPerecentage\n",
        "\n",
        "print(underpredictCount)\n",
        "print(underpredictPerecentage)\n",
        "print(overpredictCount)\n",
        "print(overpredictPercentage)\n",
        "print(len(error))\n",
        "\n",
        "print(error)\n",
        "print(rawerror)"
      ]
    },
    {
      "cell_type": "code",
      "execution_count": 32,
      "id": "a0526cb0",
      "metadata": {
        "colab": {
          "base_uri": "https://localhost:8080/"
        },
        "id": "a0526cb0",
        "outputId": "cef84767-40a6-4931-eb14-a7da8b4fe08e"
      },
      "outputs": [
        {
          "output_type": "stream",
          "name": "stdout",
          "text": [
            "[0.5470133766233767, 0.6256998762069819, 0.43133671274961594, 0.4993483106105513, 0.4457146031746032, 0.4713170085788885, 0.44027905923344945, 0.5152024221888774, 0.6475403626218845, 0.4900091497102036, 0.4518911887970085, 0.38915289753684135, 0.4749140811172352, 0.47323197693382113, 0.539828216374269, 0.8372845804988662, 0.5663228527607362, 0.6043248772504092, 0.4758279639175258, 0.5003285907859079, 0.461553125, 0.5919612857142857, 0.837681064690027, 0.5979406926406927, 0.6991668728908886, 0.5558321931589538, 0.4173640087292262, 0.42689515796703303, 0.4722958385093168, 0.6195515752308528, 0.39168765453296706, 0.3612906081723155, 0.3006311149182921, 0.35615751756440284, 0.3370053035898951, 0.43757727371864774, 0.4792861442904921, 0.5861208881098452, 0.28718748926424287, 0.48089448705656757, 0.2798956194196429, 0.2988666468047073, 0.5321567046450482, 0.5013962014863749, 0.318025821657719, 0.45355055088702145, 0.3671599697656841, 0.4267726585837286, 0.38128150706436426, 0.39513580896276035, 0.4674167496266799, 0.3134313251001335, 0.3396167269439422, 0.2903649505256648, 0.26537805567330786, 0.2906795387710881, 0.41906824175824187, 0.5658043026706232, 0.27103916133617634, 0.43188233295583245, 0.3681004826254827, 0.33305860262008735, 0.317000914380715, 0.45287193929665837, 0.5619285533224696, 0.45849185994977104, 0.3240947577276525, 0.3428937575958457, 0.31134945826645266, 0.2548055336617405, 0.4639185677686959, 0.49431177694007533, 0.4137461103253183, 0.4217768966282165, 0.3453583234946871, 0.3290421822272216, 0.28637250545974846, 0.46713847440615597, 0.48532391379909634, 0.3885742764378479, 0.3949863932107497, 0.2890842443064182, 0.2753816777332194, 0.2769108679843988, 0.4610254040816326, 0.48368972250770814, 0.3408510592069527, 0.35416789163426554, 0.33532604203776273, 0.32104833153317036, 0.30688263870021193, 0.5087417192212778, 0.5387285278745645, 0.358909188509527, 0.3835809489352905, 0.3609866335911279, 0.2960675070810229, 0.2652533757460953, 0.4273723194600675, 0.413817357208208, 0.300999803523894, 0.28304278562488827, 0.24815419061552924, 0.23127784460298517, 0.2429556158076479, 0.3172422108719445, 0.38205663444639715, 0.28632232466249585, 0.2727606336260978, 0.2500894161633592, 0.24181337597330366, 0.2505217228464419, 0.4218132254464285, 0.5680056525006262, 0.4698747807068032, 0.40225896996215693, 0.34458964830229455, 0.39533193414043577, 0.36999657541696873, 0.6356504443803581, 0.7838106520544403, 0.5885572253914311, 0.3848082736838764, 0.31979127240592486, 0.27849636338575, 0.2773367980966108, 0.4201600837790588, 0.4874991102809745, 0.3364623686618059, 0.4248445444043827, 0.28369313355383885, 0.27103182518591307, 0.30591805658831683, 0.4235987641862642, 0.511776466118915, 0.4146835767259399, 0.4044289637935127, 0.4253405354205827, 0.44225232242105905, 0.4031679556242257, 0.7520638105551627, 0.6254136718678209, 0.5808747128006418, 0.4916404198451225, 0.5536834249918646, 0.6907275463808712, 0.6676748346969608, 0.8182318006801383, 0.8710444509073987, 0.45905874645222333, 0.43784316694990455, 0.4952455635695574, 0.4894177739300004, 0.5267315403821103, 0.8782948268755153, 0.8263600936381162, 0.4878633657698912, 0.429195941182395, 0.45009363117870727, 0.40316807000946076, 0.4401452695724024, 0.5006595290166367, 0.6995464312997927, 0.4816338085845778, 0.4471767933446117, 0.5605792951156587, 0.541998389210671, 0.530536661976494, 0.9113069193727619, 0.6747334015657547, 0.9363961862471453, 0.9309395247344919, 0.9058265513009326, 0.9775469179624379, 0.8964309689800081, 0.9807640596390269, 0.9713466209081308, 0.7628306577916993, 0.6966813874485964, 0.5569666952544312, 0.4625521130104464, 0.7088482808804804, 0.6863851116804388, 0.8099548903555461, 0.7238675165537712, 0.8645875460206355, 0.8077879480210634, 0.5373538970027403, 0.6565350705829566, 0.5090517595978061, 0.9427044011849343, 0.49723448660714276, 0.7220779578606158, 0.5465187684003925, 0.637006148126966, 0.5772507126198496, 0.8609135222672065, 0.8725045599151644, 0.8816154228855722, 0.6054830296127562, 0.6451627427184465, 0.7602632820879514, 0.7495440253789214, 0.6172097865694951, 0.7888622754491018, 0.4080041293874742, 0.4283453757225434, 0.48217161447742984, 0.3468870684610883, 0.3390506148126966, 0.5833008181246067, 0.6126514087416344, 0.4096188266489891, 0.40523117280577114, 0.3240361840667745, 0.3955467833137736, 0.3689565606806986, 0.6035183213826071, 0.6499428076428077, 0.3043048252526189, 0.3559269341284901, 0.33081745023935505, 0.29916027796764644, 0.3261013461156368, 0.6332512115356028, 0.8595401331719128, 0.3824980605189907, 0.36859746473998445, 0.3815388177339901, 0.34092684273709484, 0.2963498486903893, 0.48297651087348314, 0.7093997176387541, 0.3227081042026252, 0.23291789552973907, 0.3042432166508988, 0.22577514111601005, 0.27896967278531537, 0.8715309857189375, 0.9094365127906412, 0.48663121038961044, 0.5926642287738833, 0.6796525284771096, 0.5369050465682763, 0.487162660564772]\n"
          ]
        }
      ],
      "source": [
        "#accuracy calculations\n",
        "accuracy = []\n",
        "\n",
        "for i in error:\n",
        "  accuracy.append(1 - i)\n",
        "\n",
        "print(accuracy)"
      ]
    },
    {
      "cell_type": "code",
      "execution_count": null,
      "id": "a8012f5e",
      "metadata": {
        "id": "a8012f5e"
      },
      "outputs": [],
      "source": [
        "#Create Error and Accuracy Column and insert list data\n",
        "merged_df_new['Error'] = error\n",
        "merged_df_new['Accuracy'] = accuracy\n",
        "merged_df_new['RawError'] = rawerror\n",
        "\n",
        "print(merged_df_new)"
      ]
    },
    {
      "cell_type": "code",
      "execution_count": 34,
      "id": "6a1f3c40",
      "metadata": {
        "colab": {
          "base_uri": "https://localhost:8080/",
          "height": 313
        },
        "id": "6a1f3c40",
        "outputId": "625d8b74-ff8d-4d8d-c8a3-1dcae9bdd1a6"
      },
      "outputs": [
        {
          "output_type": "execute_result",
          "data": {
            "text/plain": [
              "<matplotlib.legend.Legend at 0x7f58284a86d0>"
            ]
          },
          "metadata": {},
          "execution_count": 34
        },
        {
          "output_type": "display_data",
          "data": {
            "text/plain": [
              "<Figure size 432x288 with 1 Axes>"
            ],
            "image/png": "[encoded data removed]"
          },
          "metadata": {
            "needs_background": "light"
          }
        }
      ],
      "source": [
        "from IPython.core.pylabtools import figsize\n",
        "#Create plot of Error\n",
        "\n",
        "#Error Line\n",
        "plt.plot(merged_df_new['Date'], merged_df_new['Error'], color='g', label='Error')\n",
        "\n",
        "\n",
        "#Create XY Labels and Title\n",
        "plt.xlabel('Date (Year/Month/Day)') \n",
        "plt.ylabel('Percentage') \n",
        "plt.title(\"Predicted Daily COVID-19 Case Error in PA\")\n",
        "#Display Plot\n",
        "plt.legend()"
      ]
    },
    {
      "cell_type": "code",
      "execution_count": 35,
      "id": "0480ef44",
      "metadata": {
        "colab": {
          "base_uri": "https://localhost:8080/",
          "height": 295
        },
        "id": "0480ef44",
        "outputId": "4c2de2dc-4af1-42eb-8991-2008fe170a3b"
      },
      "outputs": [
        {
          "output_type": "display_data",
          "data": {
            "text/plain": [
              "<Figure size 432x288 with 1 Axes>"
            ],
            "image/png": "[encoded data removed]"
          },
          "metadata": {
            "needs_background": "light"
          }
        }
      ],
      "source": [
        "#Create plot of Raw Error\n",
        "\n",
        "#Raw Error Line\n",
        "plt.plot(merged_df_new['Date'], merged_df_new['RawError'], color='g', label='Raw Error')\n",
        "plt.axhline(y=0.0, color='r', linestyle='-')\n",
        "\n",
        "#Create XY Labels and Title\n",
        "plt.xlabel('Date (Year/Month/Day)') \n",
        "plt.ylabel('Percentage') \n",
        "plt.title(\"Predicted Daily COVID-19 Case Raw Error in PA\")\n",
        "#Display Plot\n",
        "plt.legend()\n",
        "plt.show()"
      ]
    },
    {
      "cell_type": "code",
      "execution_count": 36,
      "id": "cb557ed1",
      "metadata": {
        "colab": {
          "base_uri": "https://localhost:8080/",
          "height": 295
        },
        "id": "cb557ed1",
        "outputId": "c69f0904-9daa-492d-9345-21d8c2eb27b4"
      },
      "outputs": [
        {
          "output_type": "display_data",
          "data": {
            "text/plain": [
              "<Figure size 432x288 with 1 Axes>"
            ],
            "image/png": "[encoded data removed]"
          },
          "metadata": {
            "needs_background": "light"
          }
        }
      ],
      "source": [
        "#Create plot of Accuracy\n",
        "\n",
        "#Accuracy Line\n",
        "plt.plot(merged_df_new['Date'], merged_df_new['Accuracy'], color='r', label='Daily Accuracy')\n",
        "\n",
        "#Create XY Labels and Title\n",
        "plt.xlabel('Date (Year/Month/Day)') \n",
        "plt.ylabel('Percentage') \n",
        "plt.title(\"Predicted Daily COVID-19 Case Accuracy in PA\")\n",
        "\n",
        "#Display Plot\n",
        "plt.legend()\n",
        "plt.show()"
      ]
    },
    {
      "cell_type": "code",
      "source": [
        "length = len(accuracy)\n",
        "amountOfWeeks = int(length / 7)\n",
        "remainderDays = length % 7\n",
        "print(remainderDays)"
      ],
      "metadata": {
        "colab": {
          "base_uri": "https://localhost:8080/"
        },
        "id": "x8yA8NVk88o9",
        "outputId": "b7ff0316-1d5c-4023-ab7a-b228490d95bd"
      },
      "id": "x8yA8NVk88o9",
      "execution_count": 37,
      "outputs": [
        {
          "output_type": "stream",
          "name": "stdout",
          "text": [
            "0\n"
          ]
        }
      ]
    },
    {
      "cell_type": "code",
      "execution_count": 38,
      "id": "4d6b0409",
      "metadata": {
        "id": "4d6b0409"
      },
      "outputs": [],
      "source": [
        "#Calculate Weekly Accuracy Averages\n",
        "weeklyAccuracy = 0\n",
        "averageWeeklyAccuracy = []\n",
        "length = len(accuracy) #   =245\n",
        "amountOfWeeks = int(length / 7) #   =35\n",
        "remainderDays = length % 7 #  =0   changed from 7 to 6 so its not 0\n",
        "\n",
        "i = 0\n",
        "while i < length:\n",
        "  weeklyAccuracy += accuracy[i]\n",
        "  if (i + 1) % 7 == 0 and amountOfWeeks > 0:\n",
        "    averageWeeklyAccuracy.append(weeklyAccuracy / 7)\n",
        "    amountOfWeeks -= 1\n",
        "    weeklyAccuracy = 0\n",
        "  if remainderDays > 0:\n",
        "    if (i + 1) % remainderDays == 0 and amountOfWeeks == 0:\n",
        "      averageWeeklyAccuracy.append(weeklyAccuracy / remainderDays)\n",
        "      weeklyAccuracy = 0\n",
        "  i += 1\n",
        "\n",
        "weeklyDateList = []\n",
        "i = 0\n",
        "weeklyDateList.append(merged_df_new['Date'][i])\n",
        "while i < length:\n",
        "  if (i + 1) % 7 == 0:\n",
        "    weeklyDateList.append(merged_df_new['Date'][i])\n",
        "  i += 1"
      ]
    },
    {
      "cell_type": "code",
      "execution_count": 39,
      "id": "04c4449c",
      "metadata": {
        "id": "04c4449c"
      },
      "outputs": [],
      "source": [
        "#Create Dataframe for Weekly Accuracy\n",
        "i = 0\n",
        "data = []\n",
        "while i < len(averageWeeklyAccuracy):\n",
        "  data.append([weeklyDateList[i], averageWeeklyAccuracy[i]])\n",
        "  i += 1\n",
        "\n",
        "df = pd.DataFrame(data, columns = ['Week Of', 'Average Weekly Accuracy'])"
      ]
    },
    {
      "cell_type": "code",
      "source": [
        "#Create plot of Weekly Accuracy\n",
        "\n",
        "#Accuracy Line\n",
        "plt.plot(df['Week Of'], df['Average Weekly Accuracy'], color='r', label='Weekly Accuracy')\n",
        "\n",
        "#Create XY Labels and Title\n",
        "plt.xlabel('Week Of (Year/Month/Day)') \n",
        "plt.ylabel('Average Weekly Accuracy Percentage') \n",
        "plt.title(\"Predicted Daily COVID-19 Case Weekly Accuracy in PA\")\n",
        "\n",
        "#Display Plot\n",
        "plt.legend()\n",
        "plt.show()"
      ],
      "metadata": {
        "colab": {
          "base_uri": "https://localhost:8080/",
          "height": 295
        },
        "id": "rzQUvpP09xgx",
        "outputId": "3b62d2d3-7a89-42c5-e411-7c4d7d563317"
      },
      "id": "rzQUvpP09xgx",
      "execution_count": 40,
      "outputs": [
        {
          "output_type": "display_data",
          "data": {
            "text/plain": [
              "<Figure size 432x288 with 1 Axes>"
            ],
            "image/png": "[encoded data removed]"
          },
          "metadata": {
            "needs_background": "light"
          }
        }
      ]
    },
    {
      "cell_type": "code",
      "source": [
        "#Create Running Weekly Average\n",
        "runningweeklyAccuracy = 0\n",
        "runningAverageWeeklyAccuracy = []\n",
        "length = len(accuracy)\n",
        "\n",
        "i = 1\n",
        "j = 8\n",
        "#Add first week average\n",
        "runningAverageWeeklyAccuracy.append(averageWeeklyAccuracy[0])\n",
        "\n",
        "while j < length:\n",
        "  temp_i = i\n",
        "  temp_j = j\n",
        "  while temp_i < temp_j:\n",
        "    runningweeklyAccuracy += accuracy[temp_i]\n",
        "    temp_i += 1\n",
        "  runningAverageWeeklyAccuracy.append(runningweeklyAccuracy / 7)\n",
        "  runningweeklyAccuracy = 0\n",
        "\n",
        "  i += 1\n",
        "  j += 1"
      ],
      "metadata": {
        "id": "rLQJUWfV_xeL"
      },
      "id": "rLQJUWfV_xeL",
      "execution_count": 41,
      "outputs": []
    },
    {
      "cell_type": "code",
      "source": [
        "#Create Dataframe for Running Weekly Accuracy\n",
        "i = 0\n",
        "data = []\n",
        "while i < len(runningAverageWeeklyAccuracy):\n",
        "  data.append([merged_df_new['Date'][i], runningAverageWeeklyAccuracy[i]])\n",
        "  i += 1\n",
        "\n",
        "df = pd.DataFrame(data, columns = ['Date', 'Running Weekly Average Accuracy'])"
      ],
      "metadata": {
        "id": "oTSGoUiE_1OT"
      },
      "id": "oTSGoUiE_1OT",
      "execution_count": 42,
      "outputs": []
    },
    {
      "cell_type": "code",
      "source": [
        "#Create plot of Running Weekly Accuracy\n",
        "\n",
        "#Accuracy Line\n",
        "plt.plot(df['Date'], df['Running Weekly Average Accuracy'], color='r', label='Running Weekly Accuracy')\n",
        "\n",
        "#Create XY Labels and Title\n",
        "plt.xlabel('Date') \n",
        "plt.ylabel('Accuracy Percentage') \n",
        "plt.title(\"Predicted Daily COVID-19 Case Running Weekly Accuracy in PA\")\n",
        "\n",
        "#Display Plot\n",
        "plt.legend()\n",
        "plt.show()"
      ],
      "metadata": {
        "colab": {
          "base_uri": "https://localhost:8080/",
          "height": 295
        },
        "id": "PaZ6kFJx_9kL",
        "outputId": "8b88357f-f95d-49fc-c415-45e80e11b9a9"
      },
      "id": "PaZ6kFJx_9kL",
      "execution_count": 43,
      "outputs": [
        {
          "output_type": "display_data",
          "data": {
            "text/plain": [
              "<Figure size 432x288 with 1 Axes>"
            ],
            "image/png": "[encoded data removed]"
          },
          "metadata": {
            "needs_background": "light"
          }
        }
      ]
    },
    {
      "cell_type": "code",
      "source": [
        "#Plot with combined daily accuracy and running weekly accuracy\n",
        "\n",
        "#Daily Accuracy\n",
        "plt.plot(merged_df_new['Date'], merged_df_new['Accuracy'], color='r', label='Daily Accuracy')\n",
        "\n",
        "#Running Accuracy Line\n",
        "plt.plot(df['Date'], df['Running Weekly Average Accuracy'], color='b', label='Running Weekly Accuracy')\n",
        "\n",
        "#Create XY Labels and Title\n",
        "plt.xlabel('Date') \n",
        "plt.ylabel('Accuracy Percentage') \n",
        "plt.title(\"Predicted Daily COVID-19 Case Accuracy in PA\")\n",
        "\n",
        "#Display Plot\n",
        "plt.legend()\n",
        "plt.show()"
      ],
      "metadata": {
        "colab": {
          "base_uri": "https://localhost:8080/",
          "height": 295
        },
        "id": "uXYnoBMWVBMQ",
        "outputId": "e96cb5d3-d283-4fec-8cb0-0161e50d87fa"
      },
      "id": "uXYnoBMWVBMQ",
      "execution_count": 45,
      "outputs": [
        {
          "output_type": "display_data",
          "data": {
            "text/plain": [
              "<Figure size 432x288 with 1 Axes>"
            ],
            "image/png": "[encoded data removed]"
          },
          "metadata": {
            "needs_background": "light"
          }
        }
      ]
    },
    {
      "cell_type": "code",
      "source": [
        "#Calculate Monthly Accuracy Averages\n",
        "#We are going to use an average of 30 days per month for these calculations\n",
        "\n",
        "monthlyAccuracy = 0\n",
        "averageMonthlyAccuracy = []\n",
        "amountOfMonths = int(length / 30)\n",
        "remainderDays = length % 30\n",
        "\n",
        "i = 0\n",
        "while i < length:\n",
        "  monthlyAccuracy += accuracy[i]\n",
        "  if (i + 1) % 30 == 0 and amountOfMonths > 0:\n",
        "    averageMonthlyAccuracy.append(monthlyAccuracy / 30)\n",
        "    amountOfMonths -= 1\n",
        "    monthlyAccuracy = 0\n",
        "  if (i + 1) % remainderDays == 0 and remainderDays > 0 and amountOfMonths == 0:\n",
        "    averageMonthlyAccuracy.append(monthlyAccuracy / remainderDays)\n",
        "    monthlyAccuracy = 0\n",
        "  i += 1\n",
        "\n",
        "weeklyDateListForMonths = []\n",
        "i = 0\n",
        "weeklyDateListForMonths.append(merged_df_new['Date'][i])\n",
        "while i < length:\n",
        "  if (i + 1) % 30 == 0:\n",
        "    weeklyDateListForMonths.append(merged_df_new['Date'][i])\n",
        "  i += 1\n"
      ],
      "metadata": {
        "id": "5VnJkeXBWTYV"
      },
      "id": "5VnJkeXBWTYV",
      "execution_count": 46,
      "outputs": []
    },
    {
      "cell_type": "code",
      "source": [
        "del averageMonthlyAccuracy[-1:]\n",
        "len(averageMonthlyAccuracy)"
      ],
      "metadata": {
        "colab": {
          "base_uri": "https://localhost:8080/"
        },
        "id": "zHzWU5nrWlsy",
        "outputId": "77764d93-836a-47b0-94f1-ebc3909138b7"
      },
      "id": "zHzWU5nrWlsy",
      "execution_count": 48,
      "outputs": [
        {
          "output_type": "execute_result",
          "data": {
            "text/plain": [
              "9"
            ]
          },
          "metadata": {},
          "execution_count": 48
        }
      ]
    },
    {
      "cell_type": "code",
      "source": [
        "#Create Dataframe for Monthly Accuracy\n",
        "i = 0\n",
        "data = []\n",
        "while i < len(averageMonthlyAccuracy):\n",
        "  data.append([weeklyDateListForMonths[i], averageMonthlyAccuracy[i]])\n",
        "  i += 1\n",
        "\n",
        "df = pd.DataFrame(data, columns = ['Month Of', 'Average Monthly Accuracy'])"
      ],
      "metadata": {
        "id": "PPTKjl1oWeWF"
      },
      "id": "PPTKjl1oWeWF",
      "execution_count": 49,
      "outputs": []
    },
    {
      "cell_type": "code",
      "source": [
        "#Create plot of Monthly Accuracy\n",
        "\n",
        "#Accuracy Line\n",
        "plt.plot(df['Month Of'], df['Average Monthly Accuracy'], color='r', label='Monthly Accuracy')\n",
        "\n",
        "#Create XY Labels and Title\n",
        "plt.xlabel('Month Of (Year/Month/Day)') \n",
        "plt.ylabel('Average Monthly Accuracy Percentage') \n",
        "plt.title(\"Predicted Daily COVID-19 Case Monthly Accuracy in PA\")\n",
        "\n",
        "#Display Plot\n",
        "plt.legend()\n",
        "plt.show()"
      ],
      "metadata": {
        "colab": {
          "base_uri": "https://localhost:8080/",
          "height": 295
        },
        "id": "SNropD-9WnVO",
        "outputId": "d5ae25e7-9c20-491c-fd15-a3b9fa24d046"
      },
      "id": "SNropD-9WnVO",
      "execution_count": 50,
      "outputs": [
        {
          "output_type": "display_data",
          "data": {
            "text/plain": [
              "<Figure size 432x288 with 1 Axes>"
            ],
            "image/png": "[encoded data removed]"
          },
          "metadata": {
            "needs_background": "light"
          }
        }
      ]
    },
    {
      "cell_type": "code",
      "source": [
        "#Calculate Running Monthly Accuracy\n",
        "\n",
        "runningmonthlyAccuracy = 0\n",
        "runningAveragemonthlyAccuracy = []\n",
        "length = len(accuracy)\n",
        "\n",
        "i = 1\n",
        "j = 31\n",
        "#Add first week average\n",
        "runningAveragemonthlyAccuracy.append(averageMonthlyAccuracy[0])\n",
        "\n",
        "while j < length:\n",
        "  temp_i = i\n",
        "  temp_j = j\n",
        "  while temp_i < temp_j:\n",
        "    runningmonthlyAccuracy += accuracy[temp_i]\n",
        "    temp_i += 1\n",
        "  runningAveragemonthlyAccuracy.append(runningmonthlyAccuracy / 30)\n",
        "  runningmonthlyAccuracy = 0\n",
        "\n",
        "  i += 1\n",
        "  j += 1"
      ],
      "metadata": {
        "id": "ft4BfQX7WrjL"
      },
      "id": "ft4BfQX7WrjL",
      "execution_count": 51,
      "outputs": []
    },
    {
      "cell_type": "code",
      "source": [
        "#Create Dataframe for Running Monthly Accuracy\n",
        "i = 0\n",
        "data = []\n",
        "while i < len(runningAveragemonthlyAccuracy):\n",
        "  data.append([merged_df_new['Date'][i], runningAveragemonthlyAccuracy[i]])\n",
        "  i += 1\n",
        "\n",
        "df = pd.DataFrame(data, columns = ['Date', 'Running Monthly Average Accuracy'])"
      ],
      "metadata": {
        "id": "5qPXMT5AWt3T"
      },
      "id": "5qPXMT5AWt3T",
      "execution_count": 52,
      "outputs": []
    },
    {
      "cell_type": "code",
      "source": [
        "#Create plot of Running Monthly Accuracy\n",
        "\n",
        "#Accuracy Line\n",
        "plt.plot(df['Date'], df['Running Monthly Average Accuracy'], color='r', label='Running Monthly Accuracy')\n",
        "\n",
        "#Create XY Labels and Title\n",
        "plt.xlabel('Date') \n",
        "plt.ylabel('Accuracy Percentage') \n",
        "plt.title(\"Predicted Daily COVID-19 Case Running Monthly Accuracy in PA\")\n",
        "\n",
        "#Display Plot\n",
        "plt.legend()\n",
        "plt.show()"
      ],
      "metadata": {
        "colab": {
          "base_uri": "https://localhost:8080/",
          "height": 295
        },
        "id": "1sMWLoovWwPy",
        "outputId": "00c97e28-17c3-4b02-ef9b-4d4cb64ccdeb"
      },
      "id": "1sMWLoovWwPy",
      "execution_count": 53,
      "outputs": [
        {
          "output_type": "display_data",
          "data": {
            "text/plain": [
              "<Figure size 432x288 with 1 Axes>"
            ],
            "image/png": "[encoded data removed]"
          },
          "metadata": {
            "needs_background": "light"
          }
        }
      ]
    },
    {
      "cell_type": "code",
      "source": [
        "#Calculate Yearly Accuracy Averages\n",
        "#We are going to use an average of 365 days per year for these calculations\n",
        "\n",
        "yearlyAccuracy = 0\n",
        "averageYearlyAccuracy = []\n",
        "amountOfYears = int(length / 365)\n",
        "remainderDays = length % 365\n",
        "\n",
        "i = 0\n",
        "while i < length:\n",
        "  yearlyAccuracy += accuracy[i]\n",
        "  if (i + 1) % 365 == 0 and amountOfYears > 0:\n",
        "    averageYearlyAccuracy.append(yearlyAccuracy / 365)\n",
        "    amountOfYears -= 1\n",
        "    yearlyAccuracy = 0\n",
        "  if (i + 1) % remainderDays == 0 and remainderDays > 0 and amountOfYears == 0:\n",
        "    averageYearlyAccuracy.append(yearlyAccuracy / remainderDays)\n",
        "    yearlyAccuracy = 0\n",
        "  i += 1\n",
        "\n",
        "weeklyDateListForYears = []\n",
        "i = 0\n",
        "weeklyDateListForYears.append(merged_df_new['Date'][i])\n",
        "while i < length:\n",
        "  if (i + 1) % 365 == 0:\n",
        "    weeklyDateListForYears.append(merged_df_new['Date'][i])\n",
        "  i += 1"
      ],
      "metadata": {
        "id": "bKmXZ_AhWyY-"
      },
      "id": "bKmXZ_AhWyY-",
      "execution_count": 54,
      "outputs": []
    },
    {
      "cell_type": "code",
      "source": [
        "print(averageYearlyAccuracy)"
      ],
      "metadata": {
        "colab": {
          "base_uri": "https://localhost:8080/"
        },
        "id": "C-k3cLz6W04a",
        "outputId": "46c65be2-6089-4279-9d0c-cb1462e7b65c"
      },
      "id": "C-k3cLz6W04a",
      "execution_count": 55,
      "outputs": [
        {
          "output_type": "stream",
          "name": "stdout",
          "text": [
            "[0.4906781842673529]\n"
          ]
        }
      ]
    }
  ],
  "metadata": {
    "kernelspec": {
      "display_name": "Python 3 (ipykernel)",
      "language": "python",
      "name": "python3"
    },
    "language_info": {
      "codemirror_mode": {
        "name": "ipython",
        "version": 3
      },
      "file_extension": ".py",
      "mimetype": "text/x-python",
      "name": "python",
      "nbconvert_exporter": "python",
      "pygments_lexer": "ipython3",
      "version": "3.9.7"
    },
    "colab": {
      "name": "DDS_COVIDforecast (1).ipynb",
      "provenance": [],
      "collapsed_sections": []
    }
  },
  "nbformat": 4,
  "nbformat_minor": 5
}