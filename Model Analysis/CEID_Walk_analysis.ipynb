{
  "cells": [
    {
      "cell_type": "code",
      "execution_count": 1,
      "id": "19d98421",
      "metadata": {
        "id": "19d98421"
      },
      "outputs": [],
      "source": [
        "#import libraries\n",
        "import csv\n",
        "import pandas as pd\n",
        "import matplotlib.pyplot as plt\n",
        "import math\n",
        "import numpy as np\n",
        "import statistics\n",
        "import glob\n",
        "import requests\n",
        "from itertools import repeat"
      ]
    },
    {
      "cell_type": "code",
      "execution_count": 2,
      "id": "bb3a7895",
      "metadata": {
        "id": "bb3a7895"
      },
      "outputs": [],
      "source": [
        "#actual COVID-19 cases data for PA\n",
        "url2 = 'https://raw.githubusercontent.com/IvanVoinovGitHub/Covid19-Analysis-Modeling/main/Data/COVID-19_Aggregate_Cases_Current_Daily_County_Health.csv'\n",
        "df1 = pd.read_csv(url2)"
      ]
    },
    {
      "cell_type": "code",
      "execution_count": 3,
      "id": "16ac3fab",
      "metadata": {
        "id": "16ac3fab"
      },
      "outputs": [],
      "source": [
        "url = 'https://github.com/reichlab/covid19-forecast-hub/tree/master/data-processed/CEID-Walk'\n",
        "download = requests.get(url).content\n",
        "\n",
        "csvStringList = []\n",
        "hrefStringList = []\n",
        "urlExtension = []\n",
        "rawUrls = []\n",
        "tempList = []\n",
        "urlExtensionwoutblob = []\n",
        "urlBeginning = 'https://raw.githubusercontent.com'\n",
        "\n",
        "urlStringList = str(requests.get(url).text).split(\" \")\n",
        "for i in urlStringList:\n",
        "  if \"csv\" in i:\n",
        "    csvStringList.append(i)\n",
        "\n",
        "for i in csvStringList:\n",
        "  if \"href\" in i and \"/reichlab/covid19-forecast-hub/blob/master/data-processed/\" in i:\n",
        "    hrefStringList.append(i)\n",
        "\n",
        "for i in hrefStringList:\n",
        "  tempList1 = i.split(\"\\\"\")\n",
        "  for x in tempList1:\n",
        "    if \"/reichlab/covid19-forecast-hub/blob/master/data-processed/\" in x:\n",
        "      urlExtension.append(x)\n",
        "\n",
        "for i in urlExtension:\n",
        "  newString = \"\"\n",
        "  tempList = []\n",
        "  temp = i.split(\"/\")\n",
        "  for x in temp:\n",
        "    if \"blob\" not in x:\n",
        "      tempList.append(x)\n",
        "  for j in range(1, len(tempList)):\n",
        "    newString += \"/\" + tempList[j]\n",
        "  urlExtensionwoutblob.append(newString)\n",
        "\n",
        "\n",
        "for i in urlExtensionwoutblob:\n",
        "  finalUrl = urlBeginning + i\n",
        "  rawUrls.append(finalUrl)"
      ]
    },
    {
      "cell_type": "code",
      "execution_count": 4,
      "id": "922310e5",
      "metadata": {
        "id": "922310e5"
      },
      "outputs": [],
      "source": [
        "#reading all the raw data, filtering PA cases data, and ensemble back into one dataframe\n",
        "all_data = []\n",
        "for url in rawUrls:\n",
        "    df3=pd.read_csv(url)\n",
        "    df2_case = df3[df3['target'].str.contains('case')]\n",
        "    df2_casesPA = df2_case[(df2_case[\"type\"]==\"point\") & (df2_case[\"location\"]==\"42\")]\n",
        "    all_data.append(df2_casesPA)"
      ]
    },
    {
      "cell_type": "code",
      "execution_count": 5,
      "id": "e6b3b86d",
      "metadata": {
        "id": "e6b3b86d",
        "outputId": "d89a070f-8924-4934-c9ad-056723d459ef",
        "colab": {
          "base_uri": "https://localhost:8080/"
        }
      },
      "outputs": [
        {
          "output_type": "execute_result",
          "data": {
            "text/plain": [
              "62"
            ]
          },
          "metadata": {},
          "execution_count": 5
        }
      ],
      "source": [
        "len(all_data)"
      ]
    },
    {
      "cell_type": "code",
      "execution_count": 6,
      "id": "9ca79685",
      "metadata": {
        "id": "9ca79685",
        "colab": {
          "base_uri": "https://localhost:8080/",
          "height": 206
        },
        "outputId": "6ebed91f-3d77-40cc-c3b2-0b835202c4ee"
      },
      "outputs": [
        {
          "output_type": "execute_result",
          "data": {
            "text/plain": [
              "      forecast_date               target target_end_date location   type  \\\n",
              "80343    2020-08-09  1 wk ahead inc case      2020-08-15       42  point   \n",
              "80399    2020-08-09  2 wk ahead inc case      2020-08-22       42  point   \n",
              "80455    2020-08-09  3 wk ahead inc case      2020-08-29       42  point   \n",
              "80511    2020-08-09  4 wk ahead inc case      2020-09-05       42  point   \n",
              "80343    2020-08-16  1 wk ahead inc case      2020-08-22       42  point   \n",
              "\n",
              "       quantile     value  \n",
              "80343       NaN  5313.296  \n",
              "80399       NaN  5205.409  \n",
              "80455       NaN  5151.188  \n",
              "80511       NaN  5060.017  \n",
              "80343       NaN  5944.525  "
            ],
            "text/html": [
              "\n",
              "  <div id=\"df-c95a24b2-11e1-47ec-a318-a923cff9eed3\">\n",
              "    <div class=\"colab-df-container\">\n",
              "      <div>\n",
              "<style scoped>\n",
              "    .dataframe tbody tr th:only-of-type {\n",
              "        vertical-align: middle;\n",
              "    }\n",
              "\n",
              "    .dataframe tbody tr th {\n",
              "        vertical-align: top;\n",
              "    }\n",
              "\n",
              "    .dataframe thead th {\n",
              "        text-align: right;\n",
              "    }\n",
              "</style>\n",
              "<table border=\"1\" class=\"dataframe\">\n",
              "  <thead>\n",
              "    <tr style=\"text-align: right;\">\n",
              "      <th></th>\n",
              "      <th>forecast_date</th>\n",
              "      <th>target</th>\n",
              "      <th>target_end_date</th>\n",
              "      <th>location</th>\n",
              "      <th>type</th>\n",
              "      <th>quantile</th>\n",
              "      <th>value</th>\n",
              "    </tr>\n",
              "  </thead>\n",
              "  <tbody>\n",
              "    <tr>\n",
              "      <th>80343</th>\n",
              "      <td>2020-08-09</td>\n",
              "      <td>1 wk ahead inc case</td>\n",
              "      <td>2020-08-15</td>\n",
              "      <td>42</td>\n",
              "      <td>point</td>\n",
              "      <td>NaN</td>\n",
              "      <td>5313.296</td>\n",
              "    </tr>\n",
              "    <tr>\n",
              "      <th>80399</th>\n",
              "      <td>2020-08-09</td>\n",
              "      <td>2 wk ahead inc case</td>\n",
              "      <td>2020-08-22</td>\n",
              "      <td>42</td>\n",
              "      <td>point</td>\n",
              "      <td>NaN</td>\n",
              "      <td>5205.409</td>\n",
              "    </tr>\n",
              "    <tr>\n",
              "      <th>80455</th>\n",
              "      <td>2020-08-09</td>\n",
              "      <td>3 wk ahead inc case</td>\n",
              "      <td>2020-08-29</td>\n",
              "      <td>42</td>\n",
              "      <td>point</td>\n",
              "      <td>NaN</td>\n",
              "      <td>5151.188</td>\n",
              "    </tr>\n",
              "    <tr>\n",
              "      <th>80511</th>\n",
              "      <td>2020-08-09</td>\n",
              "      <td>4 wk ahead inc case</td>\n",
              "      <td>2020-09-05</td>\n",
              "      <td>42</td>\n",
              "      <td>point</td>\n",
              "      <td>NaN</td>\n",
              "      <td>5060.017</td>\n",
              "    </tr>\n",
              "    <tr>\n",
              "      <th>80343</th>\n",
              "      <td>2020-08-16</td>\n",
              "      <td>1 wk ahead inc case</td>\n",
              "      <td>2020-08-22</td>\n",
              "      <td>42</td>\n",
              "      <td>point</td>\n",
              "      <td>NaN</td>\n",
              "      <td>5944.525</td>\n",
              "    </tr>\n",
              "  </tbody>\n",
              "</table>\n",
              "</div>\n",
              "      <button class=\"colab-df-convert\" onclick=\"convertToInteractive('df-c95a24b2-11e1-47ec-a318-a923cff9eed3')\"\n",
              "              title=\"Convert this dataframe to an interactive table.\"\n",
              "              style=\"display:none;\">\n",
              "        \n",
              "  <svg xmlns=\"http://www.w3.org/2000/svg\" height=\"24px\"viewBox=\"0 0 24 24\"\n",
              "       width=\"24px\">\n",
              "    <path d=\"M0 0h24v24H0V0z\" fill=\"none\"/>\n",
              "    <path d=\"M18.56 5.44l.94 2.06.94-2.06 2.06-.94-2.06-.94-.94-2.06-.94 2.06-2.06.94zm-11 1L8.5 8.5l.94-2.06 2.06-.94-2.06-.94L8.5 2.5l-.94 2.06-2.06.94zm10 10l.94 2.06.94-2.06 2.06-.94-2.06-.94-.94-2.06-.94 2.06-2.06.94z\"/><path d=\"M17.41 7.96l-1.37-1.37c-.4-.4-.92-.59-1.43-.59-.52 0-1.04.2-1.43.59L10.3 9.45l-7.72 7.72c-.78.78-.78 2.05 0 2.83L4 21.41c.39.39.9.59 1.41.59.51 0 1.02-.2 1.41-.59l7.78-7.78 2.81-2.81c.8-.78.8-2.07 0-2.86zM5.41 20L4 18.59l7.72-7.72 1.47 1.35L5.41 20z\"/>\n",
              "  </svg>\n",
              "      </button>\n",
              "      \n",
              "  <style>\n",
              "    .colab-df-container {\n",
              "      display:flex;\n",
              "      flex-wrap:wrap;\n",
              "      gap: 12px;\n",
              "    }\n",
              "\n",
              "    .colab-df-convert {\n",
              "      background-color: #E8F0FE;\n",
              "      border: none;\n",
              "      border-radius: 50%;\n",
              "      cursor: pointer;\n",
              "      display: none;\n",
              "      fill: #1967D2;\n",
              "      height: 32px;\n",
              "      padding: 0 0 0 0;\n",
              "      width: 32px;\n",
              "    }\n",
              "\n",
              "    .colab-df-convert:hover {\n",
              "      background-color: #E2EBFA;\n",
              "      box-shadow: 0px 1px 2px rgba(60, 64, 67, 0.3), 0px 1px 3px 1px rgba(60, 64, 67, 0.15);\n",
              "      fill: #174EA6;\n",
              "    }\n",
              "\n",
              "    [theme=dark] .colab-df-convert {\n",
              "      background-color: #3B4455;\n",
              "      fill: #D2E3FC;\n",
              "    }\n",
              "\n",
              "    [theme=dark] .colab-df-convert:hover {\n",
              "      background-color: #434B5C;\n",
              "      box-shadow: 0px 1px 3px 1px rgba(0, 0, 0, 0.15);\n",
              "      filter: drop-shadow(0px 1px 2px rgba(0, 0, 0, 0.3));\n",
              "      fill: #FFFFFF;\n",
              "    }\n",
              "  </style>\n",
              "\n",
              "      <script>\n",
              "        const buttonEl =\n",
              "          document.querySelector('#df-c95a24b2-11e1-47ec-a318-a923cff9eed3 button.colab-df-convert');\n",
              "        buttonEl.style.display =\n",
              "          google.colab.kernel.accessAllowed ? 'block' : 'none';\n",
              "\n",
              "        async function convertToInteractive(key) {\n",
              "          const element = document.querySelector('#df-c95a24b2-11e1-47ec-a318-a923cff9eed3');\n",
              "          const dataTable =\n",
              "            await google.colab.kernel.invokeFunction('convertToInteractive',\n",
              "                                                     [key], {});\n",
              "          if (!dataTable) return;\n",
              "\n",
              "          const docLinkHtml = 'Like what you see? Visit the ' +\n",
              "            '<a target=\"_blank\" href=https://colab.research.google.com/notebooks/data_table.ipynb>data table notebook</a>'\n",
              "            + ' to learn more about interactive tables.';\n",
              "          element.innerHTML = '';\n",
              "          dataTable['output_type'] = 'display_data';\n",
              "          await google.colab.output.renderOutput(dataTable, element);\n",
              "          const docLink = document.createElement('div');\n",
              "          docLink.innerHTML = docLinkHtml;\n",
              "          element.appendChild(docLink);\n",
              "        }\n",
              "      </script>\n",
              "    </div>\n",
              "  </div>\n",
              "  "
            ]
          },
          "metadata": {},
          "execution_count": 6
        }
      ],
      "source": [
        "df2 = pd.concat(all_data)\n",
        "df2.head(5)"
      ]
    },
    {
      "cell_type": "code",
      "execution_count": 7,
      "id": "eae19ec4",
      "metadata": {
        "id": "eae19ec4"
      },
      "outputs": [],
      "source": [
        "#convert date to datetime object\n",
        "df1['Date'] = pd.to_datetime(df1['Date'])\n",
        "df2['forecast_date'] = pd.to_datetime(df2['forecast_date'])\n",
        "df2['target_end_date'] = pd.to_datetime(df2['target_end_date'])"
      ]
    },
    {
      "cell_type": "code",
      "execution_count": 8,
      "id": "8171aacd",
      "metadata": {
        "id": "8171aacd",
        "colab": {
          "base_uri": "https://localhost:8080/",
          "height": 424
        },
        "outputId": "db9a8567-f3aa-4c3a-8aeb-08656c4b34a2"
      },
      "outputs": [
        {
          "output_type": "execute_result",
          "data": {
            "text/plain": [
              "      forecast_date               target target_end_date location   type  \\\n",
              "80343    2020-08-09  1 wk ahead inc case      2020-08-15       42  point   \n",
              "80399    2020-08-09  2 wk ahead inc case      2020-08-22       42  point   \n",
              "80343    2020-08-16  1 wk ahead inc case      2020-08-22       42  point   \n",
              "80455    2020-08-09  3 wk ahead inc case      2020-08-29       42  point   \n",
              "80399    2020-08-16  2 wk ahead inc case      2020-08-29       42  point   \n",
              "...             ...                  ...             ...      ...    ...   \n",
              "80519    2021-10-04  3 wk ahead inc case      2021-10-23       42  point   \n",
              "80463    2021-10-11  2 wk ahead inc case      2021-10-23       42  point   \n",
              "80519    2021-10-11  3 wk ahead inc case      2021-10-30       42  point   \n",
              "80575    2021-10-04  4 wk ahead inc case      2021-10-30       42  point   \n",
              "80575    2021-10-11  4 wk ahead inc case      2021-11-06       42  point   \n",
              "\n",
              "       quantile      value  \n",
              "80343       NaN   5313.296  \n",
              "80399       NaN   5205.409  \n",
              "80343       NaN   5944.525  \n",
              "80455       NaN   5151.188  \n",
              "80399       NaN   5715.993  \n",
              "...         ...        ...  \n",
              "80519       NaN  30879.450  \n",
              "80463       NaN  38290.176  \n",
              "80519       NaN  37026.073  \n",
              "80575       NaN  30960.651  \n",
              "80575       NaN  37690.588  \n",
              "\n",
              "[245 rows x 7 columns]"
            ],
            "text/html": [
              "\n",
              "  <div id=\"df-1ce7c925-dfba-43db-b3ef-94e696777a2d\">\n",
              "    <div class=\"colab-df-container\">\n",
              "      <div>\n",
              "<style scoped>\n",
              "    .dataframe tbody tr th:only-of-type {\n",
              "        vertical-align: middle;\n",
              "    }\n",
              "\n",
              "    .dataframe tbody tr th {\n",
              "        vertical-align: top;\n",
              "    }\n",
              "\n",
              "    .dataframe thead th {\n",
              "        text-align: right;\n",
              "    }\n",
              "</style>\n",
              "<table border=\"1\" class=\"dataframe\">\n",
              "  <thead>\n",
              "    <tr style=\"text-align: right;\">\n",
              "      <th></th>\n",
              "      <th>forecast_date</th>\n",
              "      <th>target</th>\n",
              "      <th>target_end_date</th>\n",
              "      <th>location</th>\n",
              "      <th>type</th>\n",
              "      <th>quantile</th>\n",
              "      <th>value</th>\n",
              "    </tr>\n",
              "  </thead>\n",
              "  <tbody>\n",
              "    <tr>\n",
              "      <th>80343</th>\n",
              "      <td>2020-08-09</td>\n",
              "      <td>1 wk ahead inc case</td>\n",
              "      <td>2020-08-15</td>\n",
              "      <td>42</td>\n",
              "      <td>point</td>\n",
              "      <td>NaN</td>\n",
              "      <td>5313.296</td>\n",
              "    </tr>\n",
              "    <tr>\n",
              "      <th>80399</th>\n",
              "      <td>2020-08-09</td>\n",
              "      <td>2 wk ahead inc case</td>\n",
              "      <td>2020-08-22</td>\n",
              "      <td>42</td>\n",
              "      <td>point</td>\n",
              "      <td>NaN</td>\n",
              "      <td>5205.409</td>\n",
              "    </tr>\n",
              "    <tr>\n",
              "      <th>80343</th>\n",
              "      <td>2020-08-16</td>\n",
              "      <td>1 wk ahead inc case</td>\n",
              "      <td>2020-08-22</td>\n",
              "      <td>42</td>\n",
              "      <td>point</td>\n",
              "      <td>NaN</td>\n",
              "      <td>5944.525</td>\n",
              "    </tr>\n",
              "    <tr>\n",
              "      <th>80455</th>\n",
              "      <td>2020-08-09</td>\n",
              "      <td>3 wk ahead inc case</td>\n",
              "      <td>2020-08-29</td>\n",
              "      <td>42</td>\n",
              "      <td>point</td>\n",
              "      <td>NaN</td>\n",
              "      <td>5151.188</td>\n",
              "    </tr>\n",
              "    <tr>\n",
              "      <th>80399</th>\n",
              "      <td>2020-08-16</td>\n",
              "      <td>2 wk ahead inc case</td>\n",
              "      <td>2020-08-29</td>\n",
              "      <td>42</td>\n",
              "      <td>point</td>\n",
              "      <td>NaN</td>\n",
              "      <td>5715.993</td>\n",
              "    </tr>\n",
              "    <tr>\n",
              "      <th>...</th>\n",
              "      <td>...</td>\n",
              "      <td>...</td>\n",
              "      <td>...</td>\n",
              "      <td>...</td>\n",
              "      <td>...</td>\n",
              "      <td>...</td>\n",
              "      <td>...</td>\n",
              "    </tr>\n",
              "    <tr>\n",
              "      <th>80519</th>\n",
              "      <td>2021-10-04</td>\n",
              "      <td>3 wk ahead inc case</td>\n",
              "      <td>2021-10-23</td>\n",
              "      <td>42</td>\n",
              "      <td>point</td>\n",
              "      <td>NaN</td>\n",
              "      <td>30879.450</td>\n",
              "    </tr>\n",
              "    <tr>\n",
              "      <th>80463</th>\n",
              "      <td>2021-10-11</td>\n",
              "      <td>2 wk ahead inc case</td>\n",
              "      <td>2021-10-23</td>\n",
              "      <td>42</td>\n",
              "      <td>point</td>\n",
              "      <td>NaN</td>\n",
              "      <td>38290.176</td>\n",
              "    </tr>\n",
              "    <tr>\n",
              "      <th>80519</th>\n",
              "      <td>2021-10-11</td>\n",
              "      <td>3 wk ahead inc case</td>\n",
              "      <td>2021-10-30</td>\n",
              "      <td>42</td>\n",
              "      <td>point</td>\n",
              "      <td>NaN</td>\n",
              "      <td>37026.073</td>\n",
              "    </tr>\n",
              "    <tr>\n",
              "      <th>80575</th>\n",
              "      <td>2021-10-04</td>\n",
              "      <td>4 wk ahead inc case</td>\n",
              "      <td>2021-10-30</td>\n",
              "      <td>42</td>\n",
              "      <td>point</td>\n",
              "      <td>NaN</td>\n",
              "      <td>30960.651</td>\n",
              "    </tr>\n",
              "    <tr>\n",
              "      <th>80575</th>\n",
              "      <td>2021-10-11</td>\n",
              "      <td>4 wk ahead inc case</td>\n",
              "      <td>2021-11-06</td>\n",
              "      <td>42</td>\n",
              "      <td>point</td>\n",
              "      <td>NaN</td>\n",
              "      <td>37690.588</td>\n",
              "    </tr>\n",
              "  </tbody>\n",
              "</table>\n",
              "<p>245 rows × 7 columns</p>\n",
              "</div>\n",
              "      <button class=\"colab-df-convert\" onclick=\"convertToInteractive('df-1ce7c925-dfba-43db-b3ef-94e696777a2d')\"\n",
              "              title=\"Convert this dataframe to an interactive table.\"\n",
              "              style=\"display:none;\">\n",
              "        \n",
              "  <svg xmlns=\"http://www.w3.org/2000/svg\" height=\"24px\"viewBox=\"0 0 24 24\"\n",
              "       width=\"24px\">\n",
              "    <path d=\"M0 0h24v24H0V0z\" fill=\"none\"/>\n",
              "    <path d=\"M18.56 5.44l.94 2.06.94-2.06 2.06-.94-2.06-.94-.94-2.06-.94 2.06-2.06.94zm-11 1L8.5 8.5l.94-2.06 2.06-.94-2.06-.94L8.5 2.5l-.94 2.06-2.06.94zm10 10l.94 2.06.94-2.06 2.06-.94-2.06-.94-.94-2.06-.94 2.06-2.06.94z\"/><path d=\"M17.41 7.96l-1.37-1.37c-.4-.4-.92-.59-1.43-.59-.52 0-1.04.2-1.43.59L10.3 9.45l-7.72 7.72c-.78.78-.78 2.05 0 2.83L4 21.41c.39.39.9.59 1.41.59.51 0 1.02-.2 1.41-.59l7.78-7.78 2.81-2.81c.8-.78.8-2.07 0-2.86zM5.41 20L4 18.59l7.72-7.72 1.47 1.35L5.41 20z\"/>\n",
              "  </svg>\n",
              "      </button>\n",
              "      \n",
              "  <style>\n",
              "    .colab-df-container {\n",
              "      display:flex;\n",
              "      flex-wrap:wrap;\n",
              "      gap: 12px;\n",
              "    }\n",
              "\n",
              "    .colab-df-convert {\n",
              "      background-color: #E8F0FE;\n",
              "      border: none;\n",
              "      border-radius: 50%;\n",
              "      cursor: pointer;\n",
              "      display: none;\n",
              "      fill: #1967D2;\n",
              "      height: 32px;\n",
              "      padding: 0 0 0 0;\n",
              "      width: 32px;\n",
              "    }\n",
              "\n",
              "    .colab-df-convert:hover {\n",
              "      background-color: #E2EBFA;\n",
              "      box-shadow: 0px 1px 2px rgba(60, 64, 67, 0.3), 0px 1px 3px 1px rgba(60, 64, 67, 0.15);\n",
              "      fill: #174EA6;\n",
              "    }\n",
              "\n",
              "    [theme=dark] .colab-df-convert {\n",
              "      background-color: #3B4455;\n",
              "      fill: #D2E3FC;\n",
              "    }\n",
              "\n",
              "    [theme=dark] .colab-df-convert:hover {\n",
              "      background-color: #434B5C;\n",
              "      box-shadow: 0px 1px 3px 1px rgba(0, 0, 0, 0.15);\n",
              "      filter: drop-shadow(0px 1px 2px rgba(0, 0, 0, 0.3));\n",
              "      fill: #FFFFFF;\n",
              "    }\n",
              "  </style>\n",
              "\n",
              "      <script>\n",
              "        const buttonEl =\n",
              "          document.querySelector('#df-1ce7c925-dfba-43db-b3ef-94e696777a2d button.colab-df-convert');\n",
              "        buttonEl.style.display =\n",
              "          google.colab.kernel.accessAllowed ? 'block' : 'none';\n",
              "\n",
              "        async function convertToInteractive(key) {\n",
              "          const element = document.querySelector('#df-1ce7c925-dfba-43db-b3ef-94e696777a2d');\n",
              "          const dataTable =\n",
              "            await google.colab.kernel.invokeFunction('convertToInteractive',\n",
              "                                                     [key], {});\n",
              "          if (!dataTable) return;\n",
              "\n",
              "          const docLinkHtml = 'Like what you see? Visit the ' +\n",
              "            '<a target=\"_blank\" href=https://colab.research.google.com/notebooks/data_table.ipynb>data table notebook</a>'\n",
              "            + ' to learn more about interactive tables.';\n",
              "          element.innerHTML = '';\n",
              "          dataTable['output_type'] = 'display_data';\n",
              "          await google.colab.output.renderOutput(dataTable, element);\n",
              "          const docLink = document.createElement('div');\n",
              "          docLink.innerHTML = docLinkHtml;\n",
              "          element.appendChild(docLink);\n",
              "        }\n",
              "      </script>\n",
              "    </div>\n",
              "  </div>\n",
              "  "
            ]
          },
          "metadata": {},
          "execution_count": 8
        }
      ],
      "source": [
        "#sort datasets by date\n",
        "df1.sort_values(by='Date')\n",
        "df2.sort_values(by='target_end_date')"
      ]
    },
    {
      "cell_type": "code",
      "execution_count": 9,
      "id": "62636568",
      "metadata": {
        "id": "62636568",
        "outputId": "30f4640d-f4da-412f-db6d-8ed550a738e3",
        "colab": {
          "base_uri": "https://localhost:8080/"
        }
      },
      "outputs": [
        {
          "output_type": "execute_result",
          "data": {
            "text/plain": [
              "(62, 7)"
            ]
          },
          "metadata": {},
          "execution_count": 9
        }
      ],
      "source": [
        "#filterinng out data for PA (FIPS code = 42)\n",
        "df2_2 = df2[df2['target'].str.contains('1')]\n",
        "df2_2.shape"
      ]
    },
    {
      "cell_type": "code",
      "execution_count": 10,
      "id": "e4c01c47",
      "metadata": {
        "id": "e4c01c47"
      },
      "outputs": [],
      "source": [
        "#finding weekly increase in cases in PA\n",
        "df_weekly=df2_2.groupby('target_end_date').agg('last').reset_index()\n",
        "df_weekly.rename(\n",
        "    columns={\"target_end_date\":\"Date\"},inplace=True)\n",
        "#df_weekly"
      ]
    },
    {
      "cell_type": "code",
      "execution_count": 11,
      "id": "c6e2730d",
      "metadata": {
        "id": "c6e2730d",
        "colab": {
          "base_uri": "https://localhost:8080/",
          "height": 206
        },
        "outputId": "59952b17-96a9-4df4-99e6-c8848872e81b"
      },
      "outputs": [
        {
          "output_type": "execute_result",
          "data": {
            "text/plain": [
              "        Date forecast_date               target location   type  quantile  \\\n",
              "0 2020-08-15    2020-08-09  1 wk ahead inc case       42  point       NaN   \n",
              "1 2020-08-22    2020-08-16  1 wk ahead inc case       42  point       NaN   \n",
              "2 2020-08-29    2020-08-23  1 wk ahead inc case       42  point       NaN   \n",
              "3 2020-09-05    2020-08-30  1 wk ahead inc case       42  point       NaN   \n",
              "4 2020-09-12    2020-09-06  1 wk ahead inc case       42  point       NaN   \n",
              "\n",
              "      value     dayRate  \n",
              "0  5313.296  759.042286  \n",
              "1  5944.525  849.217857  \n",
              "2  4516.915  645.273571  \n",
              "3  4206.087  600.869571  \n",
              "4  5427.506  775.358000  "
            ],
            "text/html": [
              "\n",
              "  <div id=\"df-b247227d-a242-4863-8a80-573e0afe543c\">\n",
              "    <div class=\"colab-df-container\">\n",
              "      <div>\n",
              "<style scoped>\n",
              "    .dataframe tbody tr th:only-of-type {\n",
              "        vertical-align: middle;\n",
              "    }\n",
              "\n",
              "    .dataframe tbody tr th {\n",
              "        vertical-align: top;\n",
              "    }\n",
              "\n",
              "    .dataframe thead th {\n",
              "        text-align: right;\n",
              "    }\n",
              "</style>\n",
              "<table border=\"1\" class=\"dataframe\">\n",
              "  <thead>\n",
              "    <tr style=\"text-align: right;\">\n",
              "      <th></th>\n",
              "      <th>Date</th>\n",
              "      <th>forecast_date</th>\n",
              "      <th>target</th>\n",
              "      <th>location</th>\n",
              "      <th>type</th>\n",
              "      <th>quantile</th>\n",
              "      <th>value</th>\n",
              "      <th>dayRate</th>\n",
              "    </tr>\n",
              "  </thead>\n",
              "  <tbody>\n",
              "    <tr>\n",
              "      <th>0</th>\n",
              "      <td>2020-08-15</td>\n",
              "      <td>2020-08-09</td>\n",
              "      <td>1 wk ahead inc case</td>\n",
              "      <td>42</td>\n",
              "      <td>point</td>\n",
              "      <td>NaN</td>\n",
              "      <td>5313.296</td>\n",
              "      <td>759.042286</td>\n",
              "    </tr>\n",
              "    <tr>\n",
              "      <th>1</th>\n",
              "      <td>2020-08-22</td>\n",
              "      <td>2020-08-16</td>\n",
              "      <td>1 wk ahead inc case</td>\n",
              "      <td>42</td>\n",
              "      <td>point</td>\n",
              "      <td>NaN</td>\n",
              "      <td>5944.525</td>\n",
              "      <td>849.217857</td>\n",
              "    </tr>\n",
              "    <tr>\n",
              "      <th>2</th>\n",
              "      <td>2020-08-29</td>\n",
              "      <td>2020-08-23</td>\n",
              "      <td>1 wk ahead inc case</td>\n",
              "      <td>42</td>\n",
              "      <td>point</td>\n",
              "      <td>NaN</td>\n",
              "      <td>4516.915</td>\n",
              "      <td>645.273571</td>\n",
              "    </tr>\n",
              "    <tr>\n",
              "      <th>3</th>\n",
              "      <td>2020-09-05</td>\n",
              "      <td>2020-08-30</td>\n",
              "      <td>1 wk ahead inc case</td>\n",
              "      <td>42</td>\n",
              "      <td>point</td>\n",
              "      <td>NaN</td>\n",
              "      <td>4206.087</td>\n",
              "      <td>600.869571</td>\n",
              "    </tr>\n",
              "    <tr>\n",
              "      <th>4</th>\n",
              "      <td>2020-09-12</td>\n",
              "      <td>2020-09-06</td>\n",
              "      <td>1 wk ahead inc case</td>\n",
              "      <td>42</td>\n",
              "      <td>point</td>\n",
              "      <td>NaN</td>\n",
              "      <td>5427.506</td>\n",
              "      <td>775.358000</td>\n",
              "    </tr>\n",
              "  </tbody>\n",
              "</table>\n",
              "</div>\n",
              "      <button class=\"colab-df-convert\" onclick=\"convertToInteractive('df-b247227d-a242-4863-8a80-573e0afe543c')\"\n",
              "              title=\"Convert this dataframe to an interactive table.\"\n",
              "              style=\"display:none;\">\n",
              "        \n",
              "  <svg xmlns=\"http://www.w3.org/2000/svg\" height=\"24px\"viewBox=\"0 0 24 24\"\n",
              "       width=\"24px\">\n",
              "    <path d=\"M0 0h24v24H0V0z\" fill=\"none\"/>\n",
              "    <path d=\"M18.56 5.44l.94 2.06.94-2.06 2.06-.94-2.06-.94-.94-2.06-.94 2.06-2.06.94zm-11 1L8.5 8.5l.94-2.06 2.06-.94-2.06-.94L8.5 2.5l-.94 2.06-2.06.94zm10 10l.94 2.06.94-2.06 2.06-.94-2.06-.94-.94-2.06-.94 2.06-2.06.94z\"/><path d=\"M17.41 7.96l-1.37-1.37c-.4-.4-.92-.59-1.43-.59-.52 0-1.04.2-1.43.59L10.3 9.45l-7.72 7.72c-.78.78-.78 2.05 0 2.83L4 21.41c.39.39.9.59 1.41.59.51 0 1.02-.2 1.41-.59l7.78-7.78 2.81-2.81c.8-.78.8-2.07 0-2.86zM5.41 20L4 18.59l7.72-7.72 1.47 1.35L5.41 20z\"/>\n",
              "  </svg>\n",
              "      </button>\n",
              "      \n",
              "  <style>\n",
              "    .colab-df-container {\n",
              "      display:flex;\n",
              "      flex-wrap:wrap;\n",
              "      gap: 12px;\n",
              "    }\n",
              "\n",
              "    .colab-df-convert {\n",
              "      background-color: #E8F0FE;\n",
              "      border: none;\n",
              "      border-radius: 50%;\n",
              "      cursor: pointer;\n",
              "      display: none;\n",
              "      fill: #1967D2;\n",
              "      height: 32px;\n",
              "      padding: 0 0 0 0;\n",
              "      width: 32px;\n",
              "    }\n",
              "\n",
              "    .colab-df-convert:hover {\n",
              "      background-color: #E2EBFA;\n",
              "      box-shadow: 0px 1px 2px rgba(60, 64, 67, 0.3), 0px 1px 3px 1px rgba(60, 64, 67, 0.15);\n",
              "      fill: #174EA6;\n",
              "    }\n",
              "\n",
              "    [theme=dark] .colab-df-convert {\n",
              "      background-color: #3B4455;\n",
              "      fill: #D2E3FC;\n",
              "    }\n",
              "\n",
              "    [theme=dark] .colab-df-convert:hover {\n",
              "      background-color: #434B5C;\n",
              "      box-shadow: 0px 1px 3px 1px rgba(0, 0, 0, 0.15);\n",
              "      filter: drop-shadow(0px 1px 2px rgba(0, 0, 0, 0.3));\n",
              "      fill: #FFFFFF;\n",
              "    }\n",
              "  </style>\n",
              "\n",
              "      <script>\n",
              "        const buttonEl =\n",
              "          document.querySelector('#df-b247227d-a242-4863-8a80-573e0afe543c button.colab-df-convert');\n",
              "        buttonEl.style.display =\n",
              "          google.colab.kernel.accessAllowed ? 'block' : 'none';\n",
              "\n",
              "        async function convertToInteractive(key) {\n",
              "          const element = document.querySelector('#df-b247227d-a242-4863-8a80-573e0afe543c');\n",
              "          const dataTable =\n",
              "            await google.colab.kernel.invokeFunction('convertToInteractive',\n",
              "                                                     [key], {});\n",
              "          if (!dataTable) return;\n",
              "\n",
              "          const docLinkHtml = 'Like what you see? Visit the ' +\n",
              "            '<a target=\"_blank\" href=https://colab.research.google.com/notebooks/data_table.ipynb>data table notebook</a>'\n",
              "            + ' to learn more about interactive tables.';\n",
              "          element.innerHTML = '';\n",
              "          dataTable['output_type'] = 'display_data';\n",
              "          await google.colab.output.renderOutput(dataTable, element);\n",
              "          const docLink = document.createElement('div');\n",
              "          docLink.innerHTML = docLinkHtml;\n",
              "          element.appendChild(docLink);\n",
              "        }\n",
              "      </script>\n",
              "    </div>\n",
              "  </div>\n",
              "  "
            ]
          },
          "metadata": {},
          "execution_count": 11
        }
      ],
      "source": [
        "#creating a column for daily additions\n",
        "df_weekly[\"dayRate\"] = df_weekly[\"value\"] / 7\n",
        "mask = (df_weekly['Date'] <= '2022-03-02')\n",
        "df_weekly = df_weekly.loc[mask]\n",
        "df_weekly.head(5)"
      ]
    },
    {
      "cell_type": "code",
      "source": [
        "df_weekly.tail(5)"
      ],
      "metadata": {
        "colab": {
          "base_uri": "https://localhost:8080/",
          "height": 206
        },
        "id": "P7u8AGHodIVG",
        "outputId": "90e23c16-8cca-452c-9b3c-2c5e06ef3530"
      },
      "id": "P7u8AGHodIVG",
      "execution_count": 18,
      "outputs": [
        {
          "output_type": "execute_result",
          "data": {
            "text/plain": [
              "         Date forecast_date               target location   type  quantile  \\\n",
              "57 2021-09-18    2021-09-13  1 wk ahead inc case       42  point       NaN   \n",
              "58 2021-09-25    2021-09-20  1 wk ahead inc case       42  point       NaN   \n",
              "59 2021-10-02    2021-09-27  1 wk ahead inc case       42  point       NaN   \n",
              "60 2021-10-09    2021-10-04  1 wk ahead inc case       42  point       NaN   \n",
              "61 2021-10-16    2021-10-11  1 wk ahead inc case       42  point       NaN   \n",
              "\n",
              "        value      dayRate  \n",
              "57  27247.454  3892.493429  \n",
              "58  32283.476  4611.925143  \n",
              "59  31922.570  4560.367143  \n",
              "60  31202.024  4457.432000  \n",
              "61  37074.479  5296.354143  "
            ],
            "text/html": [
              "\n",
              "  <div id=\"df-0a25e2aa-199b-40ee-b03a-b7daf344c00b\">\n",
              "    <div class=\"colab-df-container\">\n",
              "      <div>\n",
              "<style scoped>\n",
              "    .dataframe tbody tr th:only-of-type {\n",
              "        vertical-align: middle;\n",
              "    }\n",
              "\n",
              "    .dataframe tbody tr th {\n",
              "        vertical-align: top;\n",
              "    }\n",
              "\n",
              "    .dataframe thead th {\n",
              "        text-align: right;\n",
              "    }\n",
              "</style>\n",
              "<table border=\"1\" class=\"dataframe\">\n",
              "  <thead>\n",
              "    <tr style=\"text-align: right;\">\n",
              "      <th></th>\n",
              "      <th>Date</th>\n",
              "      <th>forecast_date</th>\n",
              "      <th>target</th>\n",
              "      <th>location</th>\n",
              "      <th>type</th>\n",
              "      <th>quantile</th>\n",
              "      <th>value</th>\n",
              "      <th>dayRate</th>\n",
              "    </tr>\n",
              "  </thead>\n",
              "  <tbody>\n",
              "    <tr>\n",
              "      <th>57</th>\n",
              "      <td>2021-09-18</td>\n",
              "      <td>2021-09-13</td>\n",
              "      <td>1 wk ahead inc case</td>\n",
              "      <td>42</td>\n",
              "      <td>point</td>\n",
              "      <td>NaN</td>\n",
              "      <td>27247.454</td>\n",
              "      <td>3892.493429</td>\n",
              "    </tr>\n",
              "    <tr>\n",
              "      <th>58</th>\n",
              "      <td>2021-09-25</td>\n",
              "      <td>2021-09-20</td>\n",
              "      <td>1 wk ahead inc case</td>\n",
              "      <td>42</td>\n",
              "      <td>point</td>\n",
              "      <td>NaN</td>\n",
              "      <td>32283.476</td>\n",
              "      <td>4611.925143</td>\n",
              "    </tr>\n",
              "    <tr>\n",
              "      <th>59</th>\n",
              "      <td>2021-10-02</td>\n",
              "      <td>2021-09-27</td>\n",
              "      <td>1 wk ahead inc case</td>\n",
              "      <td>42</td>\n",
              "      <td>point</td>\n",
              "      <td>NaN</td>\n",
              "      <td>31922.570</td>\n",
              "      <td>4560.367143</td>\n",
              "    </tr>\n",
              "    <tr>\n",
              "      <th>60</th>\n",
              "      <td>2021-10-09</td>\n",
              "      <td>2021-10-04</td>\n",
              "      <td>1 wk ahead inc case</td>\n",
              "      <td>42</td>\n",
              "      <td>point</td>\n",
              "      <td>NaN</td>\n",
              "      <td>31202.024</td>\n",
              "      <td>4457.432000</td>\n",
              "    </tr>\n",
              "    <tr>\n",
              "      <th>61</th>\n",
              "      <td>2021-10-16</td>\n",
              "      <td>2021-10-11</td>\n",
              "      <td>1 wk ahead inc case</td>\n",
              "      <td>42</td>\n",
              "      <td>point</td>\n",
              "      <td>NaN</td>\n",
              "      <td>37074.479</td>\n",
              "      <td>5296.354143</td>\n",
              "    </tr>\n",
              "  </tbody>\n",
              "</table>\n",
              "</div>\n",
              "      <button class=\"colab-df-convert\" onclick=\"convertToInteractive('df-0a25e2aa-199b-40ee-b03a-b7daf344c00b')\"\n",
              "              title=\"Convert this dataframe to an interactive table.\"\n",
              "              style=\"display:none;\">\n",
              "        \n",
              "  <svg xmlns=\"http://www.w3.org/2000/svg\" height=\"24px\"viewBox=\"0 0 24 24\"\n",
              "       width=\"24px\">\n",
              "    <path d=\"M0 0h24v24H0V0z\" fill=\"none\"/>\n",
              "    <path d=\"M18.56 5.44l.94 2.06.94-2.06 2.06-.94-2.06-.94-.94-2.06-.94 2.06-2.06.94zm-11 1L8.5 8.5l.94-2.06 2.06-.94-2.06-.94L8.5 2.5l-.94 2.06-2.06.94zm10 10l.94 2.06.94-2.06 2.06-.94-2.06-.94-.94-2.06-.94 2.06-2.06.94z\"/><path d=\"M17.41 7.96l-1.37-1.37c-.4-.4-.92-.59-1.43-.59-.52 0-1.04.2-1.43.59L10.3 9.45l-7.72 7.72c-.78.78-.78 2.05 0 2.83L4 21.41c.39.39.9.59 1.41.59.51 0 1.02-.2 1.41-.59l7.78-7.78 2.81-2.81c.8-.78.8-2.07 0-2.86zM5.41 20L4 18.59l7.72-7.72 1.47 1.35L5.41 20z\"/>\n",
              "  </svg>\n",
              "      </button>\n",
              "      \n",
              "  <style>\n",
              "    .colab-df-container {\n",
              "      display:flex;\n",
              "      flex-wrap:wrap;\n",
              "      gap: 12px;\n",
              "    }\n",
              "\n",
              "    .colab-df-convert {\n",
              "      background-color: #E8F0FE;\n",
              "      border: none;\n",
              "      border-radius: 50%;\n",
              "      cursor: pointer;\n",
              "      display: none;\n",
              "      fill: #1967D2;\n",
              "      height: 32px;\n",
              "      padding: 0 0 0 0;\n",
              "      width: 32px;\n",
              "    }\n",
              "\n",
              "    .colab-df-convert:hover {\n",
              "      background-color: #E2EBFA;\n",
              "      box-shadow: 0px 1px 2px rgba(60, 64, 67, 0.3), 0px 1px 3px 1px rgba(60, 64, 67, 0.15);\n",
              "      fill: #174EA6;\n",
              "    }\n",
              "\n",
              "    [theme=dark] .colab-df-convert {\n",
              "      background-color: #3B4455;\n",
              "      fill: #D2E3FC;\n",
              "    }\n",
              "\n",
              "    [theme=dark] .colab-df-convert:hover {\n",
              "      background-color: #434B5C;\n",
              "      box-shadow: 0px 1px 3px 1px rgba(0, 0, 0, 0.15);\n",
              "      filter: drop-shadow(0px 1px 2px rgba(0, 0, 0, 0.3));\n",
              "      fill: #FFFFFF;\n",
              "    }\n",
              "  </style>\n",
              "\n",
              "      <script>\n",
              "        const buttonEl =\n",
              "          document.querySelector('#df-0a25e2aa-199b-40ee-b03a-b7daf344c00b button.colab-df-convert');\n",
              "        buttonEl.style.display =\n",
              "          google.colab.kernel.accessAllowed ? 'block' : 'none';\n",
              "\n",
              "        async function convertToInteractive(key) {\n",
              "          const element = document.querySelector('#df-0a25e2aa-199b-40ee-b03a-b7daf344c00b');\n",
              "          const dataTable =\n",
              "            await google.colab.kernel.invokeFunction('convertToInteractive',\n",
              "                                                     [key], {});\n",
              "          if (!dataTable) return;\n",
              "\n",
              "          const docLinkHtml = 'Like what you see? Visit the ' +\n",
              "            '<a target=\"_blank\" href=https://colab.research.google.com/notebooks/data_table.ipynb>data table notebook</a>'\n",
              "            + ' to learn more about interactive tables.';\n",
              "          element.innerHTML = '';\n",
              "          dataTable['output_type'] = 'display_data';\n",
              "          await google.colab.output.renderOutput(dataTable, element);\n",
              "          const docLink = document.createElement('div');\n",
              "          docLink.innerHTML = docLinkHtml;\n",
              "          element.appendChild(docLink);\n",
              "        }\n",
              "      </script>\n",
              "    </div>\n",
              "  </div>\n",
              "  "
            ]
          },
          "metadata": {},
          "execution_count": 18
        }
      ]
    },
    {
      "cell_type": "code",
      "source": [
        "# creating a list of predictions from the model data\n",
        "predictions = []\n",
        "for i in df_weekly[\"dayRate\"]:\n",
        "    predictions.extend(repeat(i,7))\n",
        "del predictions[-2:]\n",
        "#preds = pd.DataFrame(predictions)\n",
        "#preds.drop(preds.tail(2).index,inplace=True) \n",
        "print(predictions)"
      ],
      "metadata": {
        "colab": {
          "base_uri": "https://localhost:8080/"
        },
        "id": "7M7bH5ao6y_t",
        "outputId": "4f3cfe39-379f-4ab1-8380-6910cf1a330c"
      },
      "id": "7M7bH5ao6y_t",
      "execution_count": 12,
      "outputs": [
        {
          "output_type": "stream",
          "name": "stdout",
          "text": [
            "[759.0422857142858, 759.0422857142858, 759.0422857142858, 759.0422857142858, 759.0422857142858, 759.0422857142858, 759.0422857142858, 849.217857142857, 849.217857142857, 849.217857142857, 849.217857142857, 849.217857142857, 849.217857142857, 849.217857142857, 645.2735714285715, 645.2735714285715, 645.2735714285715, 645.2735714285715, 645.2735714285715, 645.2735714285715, 645.2735714285715, 600.8695714285715, 600.8695714285715, 600.8695714285715, 600.8695714285715, 600.8695714285715, 600.8695714285715, 600.8695714285715, 775.3580000000001, 775.3580000000001, 775.3580000000001, 775.3580000000001, 775.3580000000001, 775.3580000000001, 775.3580000000001, 769.2301428571428, 769.2301428571428, 769.2301428571428, 769.2301428571428, 769.2301428571428, 769.2301428571428, 769.2301428571428, 803.6828571428571, 803.6828571428571, 803.6828571428571, 803.6828571428571, 803.6828571428571, 803.6828571428571, 803.6828571428571, 824.626, 824.626, 824.626, 824.626, 824.626, 824.626, 824.626, 892.5211428571429, 892.5211428571429, 892.5211428571429, 892.5211428571429, 892.5211428571429, 892.5211428571429, 892.5211428571429, 1360.878142857143, 1360.878142857143, 1360.878142857143, 1360.878142857143, 1360.878142857143, 1360.878142857143, 1360.878142857143, 1415.6965714285714, 1415.6965714285714, 1415.6965714285714, 1415.6965714285714, 1415.6965714285714, 1415.6965714285714, 1415.6965714285714, 1675.8205714285716, 1675.8205714285716, 1675.8205714285716, 1675.8205714285716, 1675.8205714285716, 1675.8205714285716, 1675.8205714285716, 2203.4624285714285, 2203.4624285714285, 2203.4624285714285, 2203.4624285714285, 2203.4624285714285, 2203.4624285714285, 2203.4624285714285, 2798.5355714285715, 2798.5355714285715, 2798.5355714285715, 2798.5355714285715, 2798.5355714285715, 2798.5355714285715, 2798.5355714285715, 4603.553, 4603.553, 4603.553, 4603.553, 4603.553, 4603.553, 4603.553, 6177.724, 6177.724, 6177.724, 6177.724, 6177.724, 6177.724, 6177.724, 7057.012857142857, 7057.012857142857, 7057.012857142857, 7057.012857142857, 7057.012857142857, 7057.012857142857, 7057.012857142857, 8509.582142857142, 8509.582142857142, 8509.582142857142, 8509.582142857142, 8509.582142857142, 8509.582142857142, 8509.582142857142, 9962.866857142857, 9962.866857142857, 9962.866857142857, 9962.866857142857, 9962.866857142857, 9962.866857142857, 9962.866857142857, 9801.472, 9801.472, 9801.472, 9801.472, 9801.472, 9801.472, 9801.472, 7907.918285714286, 7907.918285714286, 7907.918285714286, 7907.918285714286, 7907.918285714286, 7907.918285714286, 7907.918285714286, 7334.035285714286, 7334.035285714286, 7334.035285714286, 7334.035285714286, 7334.035285714286, 7334.035285714286, 7334.035285714286, 8183.623857142857, 8183.623857142857, 8183.623857142857, 8183.623857142857, 8183.623857142857, 8183.623857142857, 8183.623857142857, 6976.192571428571, 6976.192571428571, 6976.192571428571, 6976.192571428571, 6976.192571428571, 6976.192571428571, 6976.192571428571, 5315.6882857142855, 5315.6882857142855, 5315.6882857142855, 5315.6882857142855, 5315.6882857142855, 5315.6882857142855, 5315.6882857142855, 5463.817, 5463.817, 5463.817, 5463.817, 5463.817, 5463.817, 5463.817, 3633.9072857142855, 3633.9072857142855, 3633.9072857142855, 3633.9072857142855, 3633.9072857142855, 3633.9072857142855, 3633.9072857142855, 3701.440857142857, 3701.440857142857, 3701.440857142857, 3701.440857142857, 3701.440857142857, 3701.440857142857, 3701.440857142857, 2678.7904285714285, 2678.7904285714285, 2678.7904285714285, 2678.7904285714285, 2678.7904285714285, 2678.7904285714285, 2678.7904285714285, 2633.2064285714287, 2633.2064285714287, 2633.2064285714287, 2633.2064285714287, 2633.2064285714287, 2633.2064285714287, 2633.2064285714287, 2535.212285714286, 2535.212285714286, 2535.212285714286, 2535.212285714286, 2535.212285714286, 2535.212285714286, 2535.212285714286, 2289.8124285714284, 2289.8124285714284, 2289.8124285714284, 2289.8124285714284, 2289.8124285714284, 2289.8124285714284, 2289.8124285714284, 2909.095285714286, 2909.095285714286, 2909.095285714286, 2909.095285714286, 2909.095285714286, 2909.095285714286, 2909.095285714286, 3916.8938571428575, 3916.8938571428575, 3916.8938571428575, 3916.8938571428575, 3916.8938571428575, 3916.8938571428575, 3916.8938571428575, 3723.1588571428574, 3723.1588571428574, 3723.1588571428574, 3723.1588571428574, 3723.1588571428574, 3723.1588571428574, 3723.1588571428574, 4300.863142857143, 4300.863142857143, 4300.863142857143, 4300.863142857143, 4300.863142857143, 4300.863142857143, 4300.863142857143, 4901.114857142857, 4901.114857142857, 4901.114857142857, 4901.114857142857, 4901.114857142857, 4901.114857142857, 4901.114857142857, 3842.1342857142854, 3842.1342857142854, 3842.1342857142854, 3842.1342857142854, 3842.1342857142854, 3842.1342857142854, 3842.1342857142854, 3254.905714285714, 3254.905714285714, 3254.905714285714, 3254.905714285714, 3254.905714285714, 3254.905714285714, 3254.905714285714, 2323.0584285714285, 2323.0584285714285, 2323.0584285714285, 2323.0584285714285, 2323.0584285714285, 2323.0584285714285, 2323.0584285714285, 1846.1812857142857, 1846.1812857142857, 1846.1812857142857, 1846.1812857142857, 1846.1812857142857, 1846.1812857142857, 1846.1812857142857, 1408.5157142857145, 1408.5157142857145, 1408.5157142857145, 1408.5157142857145, 1408.5157142857145, 1408.5157142857145, 1408.5157142857145, 1020.5092857142856, 1020.5092857142856, 1020.5092857142856, 1020.5092857142856, 1020.5092857142856, 1020.5092857142856, 1020.5092857142856, 555.5608571428571, 555.5608571428571, 555.5608571428571, 555.5608571428571, 555.5608571428571, 555.5608571428571, 555.5608571428571, 428.152, 428.152, 428.152, 428.152, 428.152, 428.152, 428.152, 252.59914285714285, 252.59914285714285, 252.59914285714285, 252.59914285714285, 252.59914285714285, 252.59914285714285, 252.59914285714285, 193.78128571428573, 193.78128571428573, 193.78128571428573, 193.78128571428573, 193.78128571428573, 193.78128571428573, 193.78128571428573, 178.82814285714286, 178.82814285714286, 178.82814285714286, 178.82814285714286, 178.82814285714286, 178.82814285714286, 178.82814285714286, 165.57985714285715, 165.57985714285715, 165.57985714285715, 165.57985714285715, 165.57985714285715, 165.57985714285715, 165.57985714285715, 281.7732857142857, 281.7732857142857, 281.7732857142857, 281.7732857142857, 281.7732857142857, 281.7732857142857, 281.7732857142857, 505.5772857142857, 505.5772857142857, 505.5772857142857, 505.5772857142857, 505.5772857142857, 505.5772857142857, 505.5772857142857, 709.7478571428571, 709.7478571428571, 709.7478571428571, 709.7478571428571, 709.7478571428571, 709.7478571428571, 709.7478571428571, 1504.6794285714284, 1504.6794285714284, 1504.6794285714284, 1504.6794285714284, 1504.6794285714284, 1504.6794285714284, 1504.6794285714284, 1826.923, 1826.923, 1826.923, 1826.923, 1826.923, 1826.923, 1826.923, 1789.555142857143, 1789.555142857143, 1789.555142857143, 1789.555142857143, 1789.555142857143, 1789.555142857143, 1789.555142857143, 2474.925142857143, 2474.925142857143, 2474.925142857143, 2474.925142857143, 2474.925142857143, 2474.925142857143, 2474.925142857143, 3029.478714285714, 3029.478714285714, 3029.478714285714, 3029.478714285714, 3029.478714285714, 3029.478714285714, 3029.478714285714, 3892.493428571429, 3892.493428571429, 3892.493428571429, 3892.493428571429, 3892.493428571429, 3892.493428571429, 3892.493428571429, 4611.925142857142, 4611.925142857142, 4611.925142857142, 4611.925142857142, 4611.925142857142, 4611.925142857142, 4611.925142857142, 4560.367142857142, 4560.367142857142, 4560.367142857142, 4560.367142857142, 4560.367142857142, 4560.367142857142, 4560.367142857142, 4457.432, 4457.432, 4457.432, 4457.432, 4457.432, 4457.432, 4457.432, 5296.3541428571425, 5296.3541428571425, 5296.3541428571425, 5296.3541428571425, 5296.3541428571425]\n"
          ]
        }
      ]
    },
    {
      "cell_type": "code",
      "source": [
        "len(predictions)"
      ],
      "metadata": {
        "colab": {
          "base_uri": "https://localhost:8080/"
        },
        "id": "bAUxPUYG5gaj",
        "outputId": "2eba04cd-ba3f-4784-e1bd-57774990356a"
      },
      "id": "bAUxPUYG5gaj",
      "execution_count": 13,
      "outputs": [
        {
          "output_type": "execute_result",
          "data": {
            "text/plain": [
              "432"
            ]
          },
          "metadata": {},
          "execution_count": 13
        }
      ]
    },
    {
      "cell_type": "code",
      "execution_count": 23,
      "id": "65a9fbb1",
      "metadata": {
        "id": "65a9fbb1",
        "outputId": "4ee92c77-b4d7-4ab7-a0b5-ccaf9fb853a2",
        "colab": {
          "base_uri": "https://localhost:8080/",
          "height": 206
        }
      },
      "outputs": [
        {
          "output_type": "execute_result",
          "data": {
            "text/plain": [
              "        Date  New Cases  7-day Average New Cases  \\\n",
              "0 2020-08-15       1368                   1636.5   \n",
              "1 2020-08-16        882                   1585.8   \n",
              "2 2020-08-17       1304                   1538.1   \n",
              "3 2020-08-18       1222                   1459.9   \n",
              "4 2020-08-19       1552                   1387.3   \n",
              "\n",
              "   Cumulative cases                            Population (2019)  \\\n",
              "0                                      257486           25603978   \n",
              "1                                      258368           25603978   \n",
              "2                                      259672           25603978   \n",
              "3                                      260894           25603978   \n",
              "4                                      262446           25603978   \n",
              "\n",
              "   New Case Rate  7-Day Average New Case Rate  Cumulative Case Rate  \\\n",
              "0          293.4                        346.3               39782.8   \n",
              "1          176.7                        334.2               39959.8   \n",
              "2          321.5                        327.1               40280.8   \n",
              "3          267.5                        308.6               40548.3   \n",
              "4          361.6                        304.5               40910.7   \n",
              "\n",
              "   County FIPS Code    Longitude     Latitude  \n",
              "0           2860489 -5275.682283  2774.207671  \n",
              "1           2860489 -5275.682283  2774.207671  \n",
              "2           2860489 -5275.682283  2774.207671  \n",
              "3           2860489 -5275.682283  2774.207671  \n",
              "4           2860489 -5275.682283  2774.207671  "
            ],
            "text/html": [
              "\n",
              "  <div id=\"df-51b24be4-cd25-4f0e-93f2-4ad66402b4e0\">\n",
              "    <div class=\"colab-df-container\">\n",
              "      <div>\n",
              "<style scoped>\n",
              "    .dataframe tbody tr th:only-of-type {\n",
              "        vertical-align: middle;\n",
              "    }\n",
              "\n",
              "    .dataframe tbody tr th {\n",
              "        vertical-align: top;\n",
              "    }\n",
              "\n",
              "    .dataframe thead th {\n",
              "        text-align: right;\n",
              "    }\n",
              "</style>\n",
              "<table border=\"1\" class=\"dataframe\">\n",
              "  <thead>\n",
              "    <tr style=\"text-align: right;\">\n",
              "      <th></th>\n",
              "      <th>Date</th>\n",
              "      <th>New Cases</th>\n",
              "      <th>7-day Average New Cases</th>\n",
              "      <th>Cumulative cases</th>\n",
              "      <th>Population (2019)</th>\n",
              "      <th>New Case Rate</th>\n",
              "      <th>7-Day Average New Case Rate</th>\n",
              "      <th>Cumulative Case Rate</th>\n",
              "      <th>County FIPS Code</th>\n",
              "      <th>Longitude</th>\n",
              "      <th>Latitude</th>\n",
              "    </tr>\n",
              "  </thead>\n",
              "  <tbody>\n",
              "    <tr>\n",
              "      <th>0</th>\n",
              "      <td>2020-08-15</td>\n",
              "      <td>1368</td>\n",
              "      <td>1636.5</td>\n",
              "      <td>257486</td>\n",
              "      <td>25603978</td>\n",
              "      <td>293.4</td>\n",
              "      <td>346.3</td>\n",
              "      <td>39782.8</td>\n",
              "      <td>2860489</td>\n",
              "      <td>-5275.682283</td>\n",
              "      <td>2774.207671</td>\n",
              "    </tr>\n",
              "    <tr>\n",
              "      <th>1</th>\n",
              "      <td>2020-08-16</td>\n",
              "      <td>882</td>\n",
              "      <td>1585.8</td>\n",
              "      <td>258368</td>\n",
              "      <td>25603978</td>\n",
              "      <td>176.7</td>\n",
              "      <td>334.2</td>\n",
              "      <td>39959.8</td>\n",
              "      <td>2860489</td>\n",
              "      <td>-5275.682283</td>\n",
              "      <td>2774.207671</td>\n",
              "    </tr>\n",
              "    <tr>\n",
              "      <th>2</th>\n",
              "      <td>2020-08-17</td>\n",
              "      <td>1304</td>\n",
              "      <td>1538.1</td>\n",
              "      <td>259672</td>\n",
              "      <td>25603978</td>\n",
              "      <td>321.5</td>\n",
              "      <td>327.1</td>\n",
              "      <td>40280.8</td>\n",
              "      <td>2860489</td>\n",
              "      <td>-5275.682283</td>\n",
              "      <td>2774.207671</td>\n",
              "    </tr>\n",
              "    <tr>\n",
              "      <th>3</th>\n",
              "      <td>2020-08-18</td>\n",
              "      <td>1222</td>\n",
              "      <td>1459.9</td>\n",
              "      <td>260894</td>\n",
              "      <td>25603978</td>\n",
              "      <td>267.5</td>\n",
              "      <td>308.6</td>\n",
              "      <td>40548.3</td>\n",
              "      <td>2860489</td>\n",
              "      <td>-5275.682283</td>\n",
              "      <td>2774.207671</td>\n",
              "    </tr>\n",
              "    <tr>\n",
              "      <th>4</th>\n",
              "      <td>2020-08-19</td>\n",
              "      <td>1552</td>\n",
              "      <td>1387.3</td>\n",
              "      <td>262446</td>\n",
              "      <td>25603978</td>\n",
              "      <td>361.6</td>\n",
              "      <td>304.5</td>\n",
              "      <td>40910.7</td>\n",
              "      <td>2860489</td>\n",
              "      <td>-5275.682283</td>\n",
              "      <td>2774.207671</td>\n",
              "    </tr>\n",
              "  </tbody>\n",
              "</table>\n",
              "</div>\n",
              "      <button class=\"colab-df-convert\" onclick=\"convertToInteractive('df-51b24be4-cd25-4f0e-93f2-4ad66402b4e0')\"\n",
              "              title=\"Convert this dataframe to an interactive table.\"\n",
              "              style=\"display:none;\">\n",
              "        \n",
              "  <svg xmlns=\"http://www.w3.org/2000/svg\" height=\"24px\"viewBox=\"0 0 24 24\"\n",
              "       width=\"24px\">\n",
              "    <path d=\"M0 0h24v24H0V0z\" fill=\"none\"/>\n",
              "    <path d=\"M18.56 5.44l.94 2.06.94-2.06 2.06-.94-2.06-.94-.94-2.06-.94 2.06-2.06.94zm-11 1L8.5 8.5l.94-2.06 2.06-.94-2.06-.94L8.5 2.5l-.94 2.06-2.06.94zm10 10l.94 2.06.94-2.06 2.06-.94-2.06-.94-.94-2.06-.94 2.06-2.06.94z\"/><path d=\"M17.41 7.96l-1.37-1.37c-.4-.4-.92-.59-1.43-.59-.52 0-1.04.2-1.43.59L10.3 9.45l-7.72 7.72c-.78.78-.78 2.05 0 2.83L4 21.41c.39.39.9.59 1.41.59.51 0 1.02-.2 1.41-.59l7.78-7.78 2.81-2.81c.8-.78.8-2.07 0-2.86zM5.41 20L4 18.59l7.72-7.72 1.47 1.35L5.41 20z\"/>\n",
              "  </svg>\n",
              "      </button>\n",
              "      \n",
              "  <style>\n",
              "    .colab-df-container {\n",
              "      display:flex;\n",
              "      flex-wrap:wrap;\n",
              "      gap: 12px;\n",
              "    }\n",
              "\n",
              "    .colab-df-convert {\n",
              "      background-color: #E8F0FE;\n",
              "      border: none;\n",
              "      border-radius: 50%;\n",
              "      cursor: pointer;\n",
              "      display: none;\n",
              "      fill: #1967D2;\n",
              "      height: 32px;\n",
              "      padding: 0 0 0 0;\n",
              "      width: 32px;\n",
              "    }\n",
              "\n",
              "    .colab-df-convert:hover {\n",
              "      background-color: #E2EBFA;\n",
              "      box-shadow: 0px 1px 2px rgba(60, 64, 67, 0.3), 0px 1px 3px 1px rgba(60, 64, 67, 0.15);\n",
              "      fill: #174EA6;\n",
              "    }\n",
              "\n",
              "    [theme=dark] .colab-df-convert {\n",
              "      background-color: #3B4455;\n",
              "      fill: #D2E3FC;\n",
              "    }\n",
              "\n",
              "    [theme=dark] .colab-df-convert:hover {\n",
              "      background-color: #434B5C;\n",
              "      box-shadow: 0px 1px 3px 1px rgba(0, 0, 0, 0.15);\n",
              "      filter: drop-shadow(0px 1px 2px rgba(0, 0, 0, 0.3));\n",
              "      fill: #FFFFFF;\n",
              "    }\n",
              "  </style>\n",
              "\n",
              "      <script>\n",
              "        const buttonEl =\n",
              "          document.querySelector('#df-51b24be4-cd25-4f0e-93f2-4ad66402b4e0 button.colab-df-convert');\n",
              "        buttonEl.style.display =\n",
              "          google.colab.kernel.accessAllowed ? 'block' : 'none';\n",
              "\n",
              "        async function convertToInteractive(key) {\n",
              "          const element = document.querySelector('#df-51b24be4-cd25-4f0e-93f2-4ad66402b4e0');\n",
              "          const dataTable =\n",
              "            await google.colab.kernel.invokeFunction('convertToInteractive',\n",
              "                                                     [key], {});\n",
              "          if (!dataTable) return;\n",
              "\n",
              "          const docLinkHtml = 'Like what you see? Visit the ' +\n",
              "            '<a target=\"_blank\" href=https://colab.research.google.com/notebooks/data_table.ipynb>data table notebook</a>'\n",
              "            + ' to learn more about interactive tables.';\n",
              "          element.innerHTML = '';\n",
              "          dataTable['output_type'] = 'display_data';\n",
              "          await google.colab.output.renderOutput(dataTable, element);\n",
              "          const docLink = document.createElement('div');\n",
              "          docLink.innerHTML = docLinkHtml;\n",
              "          element.appendChild(docLink);\n",
              "        }\n",
              "      </script>\n",
              "    </div>\n",
              "  </div>\n",
              "  "
            ]
          },
          "metadata": {},
          "execution_count": 23
        }
      ],
      "source": [
        "#select all the dates to be merged with prediction list\n",
        "mask = (df1['Date'] >= '2020-08-15') & (df1['Date'] <= '2021-10-20')\n",
        "df1_copy = df1.loc[mask]\n",
        "df1_copy = df1_copy.groupby([\"Date\"]).sum().reset_index()\n",
        "df1_copy.head(5)"
      ]
    },
    {
      "cell_type": "code",
      "source": [
        "len(df1_copy)"
      ],
      "metadata": {
        "colab": {
          "base_uri": "https://localhost:8080/"
        },
        "id": "E4GmTswG-Max",
        "outputId": "127f24ec-7639-403b-957d-fba6d25ca376"
      },
      "id": "E4GmTswG-Max",
      "execution_count": 24,
      "outputs": [
        {
          "output_type": "execute_result",
          "data": {
            "text/plain": [
              "432"
            ]
          },
          "metadata": {},
          "execution_count": 24
        }
      ]
    },
    {
      "cell_type": "code",
      "source": [
        "# assigning predictions list to the actual dataframe\n",
        "df1_copy['Prediction'] = predictions"
      ],
      "metadata": {
        "id": "7HHOfOpl4JA2"
      },
      "id": "7HHOfOpl4JA2",
      "execution_count": 25,
      "outputs": []
    },
    {
      "cell_type": "code",
      "source": [
        "df1_copy.head(20)"
      ],
      "metadata": {
        "id": "a8HZNoDm5m-p"
      },
      "id": "a8HZNoDm5m-p",
      "execution_count": null,
      "outputs": []
    },
    {
      "cell_type": "code",
      "source": [
        "# renaming the dataframe for graphing\n",
        "merged_df_new = df1_copy"
      ],
      "metadata": {
        "id": "tB3yrsBFBVzZ"
      },
      "id": "tB3yrsBFBVzZ",
      "execution_count": 27,
      "outputs": []
    },
    {
      "cell_type": "code",
      "source": [
        "merged_df_new.shape"
      ],
      "metadata": {
        "colab": {
          "base_uri": "https://localhost:8080/"
        },
        "id": "D_rU8Xdc6NUr",
        "outputId": "8badc066-9b48-41a9-e724-c75575014a5a"
      },
      "id": "D_rU8Xdc6NUr",
      "execution_count": 28,
      "outputs": [
        {
          "output_type": "execute_result",
          "data": {
            "text/plain": [
              "(432, 12)"
            ]
          },
          "metadata": {},
          "execution_count": 28
        }
      ]
    },
    {
      "cell_type": "code",
      "execution_count": 29,
      "id": "d516c1b3",
      "metadata": {
        "id": "d516c1b3",
        "colab": {
          "base_uri": "https://localhost:8080/",
          "height": 295
        },
        "outputId": "b2c8df5f-3ea6-437d-e5aa-3ce9b1901c70"
      },
      "outputs": [
        {
          "output_type": "display_data",
          "data": {
            "text/plain": [
              "<Figure size 432x288 with 1 Axes>"
            ],
            "image/png": "[encoded data removed]"
          },
          "metadata": {
            "needs_background": "light"
          }
        }
      ],
      "source": [
        "#Create plot of Actual vs. Predicted Cases\n",
        "\n",
        "#Actual Cases Line\n",
        "plt.plot(merged_df_new['Date'], merged_df_new['New Cases'], color='g', label='Actual Cases')\n",
        "\n",
        "#Predicted Cases Line\n",
        "plt.plot(merged_df_new['Date'], merged_df_new['Prediction'], color='r', label='Predicted Cases')\n",
        "\n",
        "#Create XY Labels and Title\n",
        "plt.xlabel('Date (Year/Month/Day)') \n",
        "plt.ylabel('Number of Cases') \n",
        "plt.title(\"Predicted Daily Cases vs Actual Cases in PA\")\n",
        "\n",
        "#Display Plot\n",
        "plt.legend()\n",
        "plt.show()"
      ]
    },
    {
      "cell_type": "code",
      "execution_count": 30,
      "id": "4eee31c3",
      "metadata": {
        "id": "4eee31c3",
        "colab": {
          "base_uri": "https://localhost:8080/"
        },
        "outputId": "13e8aa61-4f6f-405e-d282-c307f28e717b"
      },
      "outputs": [
        {
          "output_type": "stream",
          "name": "stdout",
          "text": [
            "400\n",
            "0.9259259259259259\n",
            "32\n",
            "0.07407407407407407\n",
            "432\n",
            "[0.44514452798663323, 0.13940783932620662, 0.4179123575810692, 0.37885246668225386, 0.5109263622974963, 0.48574370886566004, 0.5255985714285714, 0.29231845238095244, 0.0014361522911050025, 0.285170153920154, 0.1641556524184478, 0.335510283925777, 0.501047087460131, 0.48965273008241766, 0.5324104554865424, 0.38662208039109175, 0.6122154017857142, 0.6423095502058918, 0.7023645888244597, 0.6473914910226386, 0.6663528586201802, 0.5413209378407852, 0.49760069278547536, 0.38561393514460995, 0.698963140566848, 0.49591478906999037, 0.7066066545758929, 0.6867207656785342, 0.4054003067484662, 0.43977023121387276, 0.6446571952337304, 0.4932300653594771, 0.5897576719576718, 0.5231500615006149, 0.5739791208791207, 0.43355659583421, 0.329938899950224, 0.5506833277703606, 0.51314547920434, 0.5837499226963514, 0.6195696622862795, 0.5832989475313419, 0.5584160125588697, 0.4037961000423909, 0.714398416082851, 0.5449134444264683, 0.6121221731936018, 0.6490467872738616, 0.665967224795155, 0.5788426966292135, 0.4774233206590621, 0.5736163391933816, 0.6986016081871345, 0.6811191028615623, 0.7104543539325843, 0.7630385057471264, 0.6189064291814078, 0.5939394254517093, 0.6601214231313242, 0.6535244010647737, 0.7162997002997002, 0.7297028640650688, 0.7647545748926877, 0.46882195829151324, 0.4481434943807206, 0.5581564471243042, 0.5508652993870815, 0.6712854727398205, 0.6868665110775097, 0.6851276855952931, 0.5955152653061224, 0.5756305241521069, 0.7009512945862756, 0.6892676533299886, 0.7057987174919843, 0.7183253936672161, 0.7307537901429114, 0.5979317247052371, 0.5742325783972125, 0.716347228938969, 0.6968486665288401, 0.7147053845031374, 0.7660122072844776, 0.7903652024732836, 0.6529980427446569, 0.6640038992724262, 0.7556053206997084, 0.7701853954347696, 0.7985129454488452, 0.8122155762253768, 0.8027338918020207, 0.7447523192786782, 0.692603737760482, 0.7696299332047603, 0.780541438877935, 0.7987823143925387, 0.8054410754012394, 0.7984344877968472, 0.6669883535879629, 0.5515728618741477, 0.629044883158743, 0.6824259795805739, 0.7279545561990308, 0.6878947118644068, 0.7078963832487309, 0.4331323178564874, 0.30100429961529757, 0.47512965165675447, 0.6568312409732252, 0.7148128519988921, 0.7516393020824957, 0.7526733925854752, 0.5724577210018867, 0.5039355506015144, 0.6576260014970474, 0.5676909545979627, 0.7113223898738911, 0.7242061569039058, 0.6887069758648938, 0.5644153284778285, 0.4737426009364786, 0.5735827749620594, 0.584127546532248, 0.5626242730850565, 0.5452339598729616, 0.5854242354644285, 0.22935745226308346, 0.35913631434820165, 0.4047755492207637, 0.49621425681923254, 0.4326385616661243, 0.29220894734705477, 0.31583114564325937, 0.03585756443045448, 0.3302757871878393, 0.45907991169977924, 0.48407874513106647, 0.416440104786854, 0.42330713108966816, 0.37933941236068897, 0.18508673890001176, 0.08894495809891022, 0.5473429716248263, 0.6017767002863186, 0.5823870782787133, 0.6259262873361265, 0.5916175229439018, 0.4987674080293681, 0.29965285659718427, 0.5178149056072132, 0.5523113609013377, 0.43877905680178403, 0.45738123071069203, 0.46885607722231415, 0.2926859241881714, 0.02861033900739777, 0.27321280131946213, 0.27744800837516714, 0.2969395311732941, 0.2412735159333528, 0.30423194549031995, 0.08760233175142941, 0.07917204706592255, 0.3171307193198345, 0.37634609588516266, 0.501415625255248, 0.585933489350156, 0.36545455962992807, 0.3286577057698553, 0.2077960826059187, 0.29199676535504987, 0.1543607563292578, 0.20991553422795994, 0.47442275205514284, 0.3578535533082525, 0.37570646709323585, 0.15611870503597122, 0.3901989955357143, 0.11445429497568882, 0.3297574828263003, 0.21878510151558478, 0.292068281938326, 0.2643912377096588, 0.03660994546280871, 0.24670246979388774, 0.4826441791409047, 0.44873979282246884, 0.3503919760968385, 0.35955105997280834, 0.03658488882278576, 0.23135091721319265, 0.36313818700226136, 0.3313871284062758, 0.24736867483878464, 0.4585370308451057, 0.4707691082152049, 0.26244756922592827, 0.2253353300834504, 0.4820590818694067, 0.4876070335555799, 0.5902737184809684, 0.4998524218499947, 0.5334743245260487, 0.1527649843721272, 0.08759306009306006, 0.5728088208028181, 0.5003403361344537, 0.5355896951373141, 0.5800308726361357, 0.5422102871051063, 0.3404754719785937, 0.10479792171105727, 0.6016322618299362, 0.6161095872631306, 0.602631303179579, 0.6449282513005202, 0.6913547253817524, 0.5185423825543675, 0.2928312450366188, 0.6783067675510778, 0.7678145986035867, 0.6967135856196783, 0.7749348900558848, 0.7219076477323988, 0.5263602595711029, 0.5057602300859181, 0.7355367922077922, 0.6779123908642288, 0.6306379779438439, 0.7082151167789081, 0.7352479718134068, 0.3990650725463551, 0.27086860440378674, 0.615764777600269, 0.5746205628645898, 0.5710803923409048, 0.6285896209801957, 0.5916499314905278, 0.49344777453838673, 0.26535934152666585, 0.7407270990847592, 0.6888551849287265, 0.6295364321250888, 0.672487785261888, 0.6408297455968689, 0.2800697785642545, 0.014015785681535206, 0.5855788068166176, 0.5264409664328183, 0.5291369451656291, 0.4790621193244739, 0.4720276033811511, 0.15614413616686354, 0.2938529189923064, 0.3700366507528462, 0.2736937081886697, 0.35613309811575716, 0.4511629499280116, 0.21026186639657482, 0.22443797220139577, 0.15033960650128306, 0.42119097834976116, 0.3156155529543489, 0.22160974762676552, 0.37627690166975886, 0.26141209424946454, 0.243279493615628, 0.6113394625176802, 0.39092333190761336, 0.24724659706620858, 0.23629617215257764, 0.1287725604160294, 0.18177332471450122, 0.08554132176234977, 0.4251892199824715, 0.4088909850963286, 0.09042348137375547, 0.18603418760636703, 0.4325699979063438, 0.161955833848691, 0.038447247023809555, 0.4514003818508535, 0.2573687507183083, 0.17728106697224347, 0.09323119562166717, 0.13406131064057897, 0.0976107525055206, 0.362200884222161, 0.6728215134034614, 0.38089775910364165, 0.09710531135531124, 0.10558533303431276, 0.14738758215150455, 0.05585885628614278, 0.29178390596745013, 1.0998133450911227, 0.22805651610114552, 0.13389920634920624, 0.1438680488974114, 0.10206186362233868, 0.3790666023166022, 0.36837649542575646, 0.534698500394633, 0.41023263572945107, 0.01496301925025334, 0.16832207014542347, 0.08624859022556396, 0.0850797991071428, 0.6095939849624059, 0.8297094017094017, 0.20417843866171007, 0.1367903225806452, 0.05693392070484585, 0.000355140186915857, 0.04939215686274506, 0.09786020408163268, 0.35805990783410135, 0.3747545968882603, 0.34218973214285714, 0.3455980754996299, 0.29441580207502, 0.45794175352544453, 0.3497272291466922, 0.21227119628339133, 0.08593733153638806, 0.5296570735090153, 0.6259048538334252, 0.6061355981416957, 0.6476703896103896, 0.5638337979094077, 0.34734254431699685, 0.7481293762575453, 0.724030643738977, 0.7925427577063308, 0.79724700356333, 0.8008595291123131, 0.7593316029900332, 0.6648181029496819, 0.8631571428571427, 0.8547545112781955, 0.8592008017492712, 0.8730215819456616, 0.8764329424307036, 0.764796923443835, 0.6761226600985222, 0.8690644583112055, 0.8304613202681794, 0.8702701262825572, 0.866962565762849, 0.8822018036311515, 0.746196141709696, 0.7159678170144463, 0.8394992743764172, 0.8253015598775792, 0.8638725671205477, 0.8559608872608873, 0.852256783835685, 0.7229711720753875, 0.680868769270298, 0.8340935350297202, 0.8133224994363868, 0.8495021507330667, 0.8284804598494786, 0.8446941231634886, 0.6474509305127861, 0.4140656430796618, 0.7113047911413222, 0.6632319989768513, 0.8101590425723658, 0.6997846311709041, 0.7319773016438496, 0.5834648882808938, 0.4991987390350877, 0.70409410430839, 0.7529181769001894, 0.7187618534482759, 0.76979296875, 0.7633519430051814, 0.6546593703479076, 0.6481409471378012, 0.7499922963317766, 0.7724370367679115, 0.7599201579209628, 0.7799907618813445, 0.8080288411438379, 0.6022299673967948, 0.5028274120415542, 0.4659203403415747, 0.7542278904809193, 0.7150673333114043, 0.7618432310568569, 0.7710522532047047, 0.5995930856085495, 0.5162122781402565, 0.6798268110034121, 0.6245068524683052, 0.7591446403016606, 0.7359701312283673, 0.714845753549914, 0.5700802486667298, 0.2370651845214761, 0.6006060508340417, 0.5772704790865086, 0.6530754519989814, 0.6183081556607738, 0.6377053770875438, 0.4506997209555571, 0.24740124953375614, 0.5680100090991811, 0.5259123002819549, 0.5387152287600377, 0.5777398697255867, 0.4290758674353624, 0.6066614505039553, 0.4253569628456222, 0.5267364940995078, 0.5374881193856853, 0.6371445621533146, 0.5879682740461563, 0.5848172666736032, 0.4515954724409449, 0.1904409734834726, 0.5209122957867585, 0.5336438585478134, 0.608585177379698, 0.5736962509563887, 0.5327639412997904, 0.282919829020154, 0.09710976084944724, 0.3157165190107051, 0.4036980248978673, 0.39080352624141446]\n",
            "[-0.44514452798663323, -0.13940783932620662, -0.4179123575810692, -0.37885246668225386, -0.5109263622974963, -0.48574370886566004, -0.5255985714285714, -0.29231845238095244, 0.0014361522911050025, -0.285170153920154, -0.1641556524184478, -0.335510283925777, -0.501047087460131, -0.48965273008241766, -0.5324104554865424, -0.38662208039109175, -0.6122154017857142, -0.6423095502058918, -0.7023645888244597, -0.6473914910226386, -0.6663528586201802, -0.5413209378407852, -0.49760069278547536, -0.38561393514460995, -0.698963140566848, -0.49591478906999037, -0.7066066545758929, -0.6867207656785342, -0.4054003067484662, -0.43977023121387276, -0.6446571952337304, -0.4932300653594771, -0.5897576719576718, -0.5231500615006149, -0.5739791208791207, -0.43355659583421, -0.329938899950224, -0.5506833277703606, -0.51314547920434, -0.5837499226963514, -0.6195696622862795, -0.5832989475313419, -0.5584160125588697, -0.4037961000423909, -0.714398416082851, -0.5449134444264683, -0.6121221731936018, -0.6490467872738616, -0.665967224795155, -0.5788426966292135, -0.4774233206590621, -0.5736163391933816, -0.6986016081871345, -0.6811191028615623, -0.7104543539325843, -0.7630385057471264, -0.6189064291814078, -0.5939394254517093, -0.6601214231313242, -0.6535244010647737, -0.7162997002997002, -0.7297028640650688, -0.7647545748926877, -0.46882195829151324, -0.4481434943807206, -0.5581564471243042, -0.5508652993870815, -0.6712854727398205, -0.6868665110775097, -0.6851276855952931, -0.5955152653061224, -0.5756305241521069, -0.7009512945862756, -0.6892676533299886, -0.7057987174919843, -0.7183253936672161, -0.7307537901429114, -0.5979317247052371, -0.5742325783972125, -0.716347228938969, -0.6968486665288401, -0.7147053845031374, -0.7660122072844776, -0.7903652024732836, -0.6529980427446569, -0.6640038992724262, -0.7556053206997084, -0.7701853954347696, -0.7985129454488452, -0.8122155762253768, -0.8027338918020207, -0.7447523192786782, -0.692603737760482, -0.7696299332047603, -0.780541438877935, -0.7987823143925387, -0.8054410754012394, -0.7984344877968472, -0.6669883535879629, -0.5515728618741477, -0.629044883158743, -0.6824259795805739, -0.7279545561990308, -0.6878947118644068, -0.7078963832487309, -0.4331323178564874, -0.30100429961529757, -0.47512965165675447, -0.6568312409732252, -0.7148128519988921, -0.7516393020824957, -0.7526733925854752, -0.5724577210018867, -0.5039355506015144, -0.6576260014970474, -0.5676909545979627, -0.7113223898738911, -0.7242061569039058, -0.6887069758648938, -0.5644153284778285, -0.4737426009364786, -0.5735827749620594, -0.584127546532248, -0.5626242730850565, -0.5452339598729616, -0.5854242354644285, -0.22935745226308346, -0.35913631434820165, -0.4047755492207637, -0.49621425681923254, -0.4326385616661243, -0.29220894734705477, -0.31583114564325937, -0.03585756443045448, 0.3302757871878393, -0.45907991169977924, -0.48407874513106647, -0.416440104786854, -0.42330713108966816, -0.37933941236068897, -0.18508673890001176, 0.08894495809891022, -0.5473429716248263, -0.6017767002863186, -0.5823870782787133, -0.6259262873361265, -0.5916175229439018, -0.4987674080293681, -0.29965285659718427, -0.5178149056072132, -0.5523113609013377, -0.43877905680178403, -0.45738123071069203, -0.46885607722231415, -0.2926859241881714, 0.02861033900739777, -0.27321280131946213, -0.27744800837516714, -0.2969395311732941, -0.2412735159333528, -0.30423194549031995, -0.08760233175142941, -0.07917204706592255, -0.3171307193198345, -0.37634609588516266, -0.501415625255248, -0.585933489350156, -0.36545455962992807, -0.3286577057698553, -0.2077960826059187, -0.29199676535504987, -0.1543607563292578, -0.20991553422795994, -0.47442275205514284, -0.3578535533082525, -0.37570646709323585, 0.15611870503597122, -0.3901989955357143, -0.11445429497568882, -0.3297574828263003, -0.21878510151558478, -0.292068281938326, -0.2643912377096588, -0.03660994546280871, -0.24670246979388774, -0.4826441791409047, -0.44873979282246884, -0.3503919760968385, -0.35955105997280834, -0.03658488882278576, 0.23135091721319265, -0.36313818700226136, -0.3313871284062758, -0.24736867483878464, -0.4585370308451057, -0.4707691082152049, -0.26244756922592827, -0.2253353300834504, -0.4820590818694067, -0.4876070335555799, -0.5902737184809684, -0.4998524218499947, -0.5334743245260487, -0.1527649843721272, -0.08759306009306006, -0.5728088208028181, -0.5003403361344537, -0.5355896951373141, -0.5800308726361357, -0.5422102871051063, -0.3404754719785937, -0.10479792171105727, -0.6016322618299362, -0.6161095872631306, -0.602631303179579, -0.6449282513005202, -0.6913547253817524, -0.5185423825543675, -0.2928312450366188, -0.6783067675510778, -0.7678145986035867, -0.6967135856196783, -0.7749348900558848, -0.7219076477323988, -0.5263602595711029, -0.5057602300859181, -0.7355367922077922, -0.6779123908642288, -0.6306379779438439, -0.7082151167789081, -0.7352479718134068, -0.3990650725463551, -0.27086860440378674, -0.615764777600269, -0.5746205628645898, -0.5710803923409048, -0.6285896209801957, -0.5916499314905278, -0.49344777453838673, -0.26535934152666585, -0.7407270990847592, -0.6888551849287265, -0.6295364321250888, -0.672487785261888, -0.6408297455968689, -0.2800697785642545, -0.014015785681535206, -0.5855788068166176, -0.5264409664328183, -0.5291369451656291, -0.4790621193244739, -0.4720276033811511, -0.15614413616686354, 0.2938529189923064, -0.3700366507528462, -0.2736937081886697, -0.35613309811575716, -0.4511629499280116, -0.21026186639657482, -0.22443797220139577, 0.15033960650128306, -0.42119097834976116, -0.3156155529543489, -0.22160974762676552, -0.37627690166975886, -0.26141209424946454, 0.243279493615628, 0.6113394625176802, -0.39092333190761336, -0.24724659706620858, -0.23629617215257764, -0.1287725604160294, -0.18177332471450122, 0.08554132176234977, 0.4251892199824715, -0.4088909850963286, -0.09042348137375547, -0.18603418760636703, -0.4325699979063438, -0.161955833848691, -0.038447247023809555, 0.4514003818508535, -0.2573687507183083, -0.17728106697224347, -0.09323119562166717, -0.13406131064057897, 0.0976107525055206, 0.362200884222161, 0.6728215134034614, 0.38089775910364165, -0.09710531135531124, 0.10558533303431276, -0.14738758215150455, 0.05585885628614278, 0.29178390596745013, 1.0998133450911227, -0.22805651610114552, 0.13389920634920624, -0.1438680488974114, 0.10206186362233868, 0.3790666023166022, 0.36837649542575646, 0.534698500394633, -0.41023263572945107, -0.01496301925025334, -0.16832207014542347, -0.08624859022556396, 0.0850797991071428, 0.6095939849624059, 0.8297094017094017, -0.20417843866171007, -0.1367903225806452, -0.05693392070484585, 0.000355140186915857, 0.04939215686274506, -0.09786020408163268, 0.35805990783410135, -0.3747545968882603, -0.34218973214285714, -0.3455980754996299, -0.29441580207502, -0.45794175352544453, -0.3497272291466922, -0.21227119628339133, -0.08593733153638806, -0.5296570735090153, -0.6259048538334252, -0.6061355981416957, -0.6476703896103896, -0.5638337979094077, -0.34734254431699685, -0.7481293762575453, -0.724030643738977, -0.7925427577063308, -0.79724700356333, -0.8008595291123131, -0.7593316029900332, -0.6648181029496819, -0.8631571428571427, -0.8547545112781955, -0.8592008017492712, -0.8730215819456616, -0.8764329424307036, -0.764796923443835, -0.6761226600985222, -0.8690644583112055, -0.8304613202681794, -0.8702701262825572, -0.866962565762849, -0.8822018036311515, -0.746196141709696, -0.7159678170144463, -0.8394992743764172, -0.8253015598775792, -0.8638725671205477, -0.8559608872608873, -0.852256783835685, -0.7229711720753875, -0.680868769270298, -0.8340935350297202, -0.8133224994363868, -0.8495021507330667, -0.8284804598494786, -0.8446941231634886, -0.6474509305127861, -0.4140656430796618, -0.7113047911413222, -0.6632319989768513, -0.8101590425723658, -0.6997846311709041, -0.7319773016438496, -0.5834648882808938, -0.4991987390350877, -0.70409410430839, -0.7529181769001894, -0.7187618534482759, -0.76979296875, -0.7633519430051814, -0.6546593703479076, -0.6481409471378012, -0.7499922963317766, -0.7724370367679115, -0.7599201579209628, -0.7799907618813445, -0.8080288411438379, -0.6022299673967948, -0.5028274120415542, -0.4659203403415747, -0.7542278904809193, -0.7150673333114043, -0.7618432310568569, -0.7710522532047047, -0.5995930856085495, -0.5162122781402565, -0.6798268110034121, -0.6245068524683052, -0.7591446403016606, -0.7359701312283673, -0.714845753549914, -0.5700802486667298, -0.2370651845214761, -0.6006060508340417, -0.5772704790865086, -0.6530754519989814, -0.6183081556607738, -0.6377053770875438, -0.4506997209555571, -0.24740124953375614, -0.5680100090991811, -0.5259123002819549, -0.5387152287600377, -0.5777398697255867, -0.4290758674353624, -0.6066614505039553, -0.4253569628456222, -0.5267364940995078, -0.5374881193856853, -0.6371445621533146, -0.5879682740461563, -0.5848172666736032, -0.4515954724409449, -0.1904409734834726, -0.5209122957867585, -0.5336438585478134, -0.608585177379698, -0.5736962509563887, -0.5327639412997904, -0.282919829020154, -0.09710976084944724, -0.3157165190107051, -0.4036980248978673, -0.39080352624141446]\n"
          ]
        }
      ],
      "source": [
        "#error calculations\n",
        "#confirmed = merged_df_new['Actual']\n",
        "#projected = merged_df_new['Prediction']\n",
        "error = []\n",
        "rawerror = []\n",
        "\n",
        "for index, row in merged_df_new.iterrows():\n",
        "  rawerror.append(-1*(row['New Cases'] - row[\"Prediction\"]) / row['New Cases'])\n",
        "  error.append((abs(row['New Cases'] - row[\"Prediction\"])) / row['New Cases'])\n",
        "\n",
        "underpredictCount = 0\n",
        "overpredictCount = 0\n",
        "for x in rawerror:\n",
        "  if x < 0:\n",
        "    underpredictCount += 1\n",
        "  elif x > 0:\n",
        "    overpredictCount += 1\n",
        "\n",
        "underpredictPerecentage = underpredictCount / len(rawerror)\n",
        "overpredictPercentage = 1 - underpredictPerecentage\n",
        "\n",
        "print(underpredictCount)\n",
        "print(underpredictPerecentage)\n",
        "print(overpredictCount)\n",
        "print(overpredictPercentage)\n",
        "print(len(error))\n",
        "\n",
        "print(error)\n",
        "print(rawerror)"
      ]
    },
    {
      "cell_type": "code",
      "execution_count": 31,
      "id": "a0526cb0",
      "metadata": {
        "id": "a0526cb0",
        "colab": {
          "base_uri": "https://localhost:8080/"
        },
        "outputId": "dbccc5cb-9e47-4ccc-f8d9-60fd34f99e61"
      },
      "outputs": [
        {
          "output_type": "stream",
          "name": "stdout",
          "text": [
            "[0.5548554720133667, 0.8605921606737934, 0.5820876424189307, 0.6211475333177461, 0.48907363770250367, 0.51425629113434, 0.47440142857142864, 0.7076815476190476, 0.998563847708895, 0.714829846079846, 0.8358443475815522, 0.664489716074223, 0.49895291253986895, 0.5103472699175824, 0.4675895445134576, 0.6133779196089082, 0.3877845982142858, 0.35769044979410825, 0.29763541117554027, 0.3526085089773614, 0.33364714137981977, 0.45867906215921483, 0.5023993072145246, 0.61438606485539, 0.30103685943315195, 0.5040852109300096, 0.2933933454241071, 0.31327923432146576, 0.5945996932515338, 0.5602297687861273, 0.35534280476626956, 0.5067699346405229, 0.4102423280423282, 0.47684993849938506, 0.42602087912087927, 0.56644340416579, 0.670061100049776, 0.44931667222963945, 0.48685452079566005, 0.4162500773036486, 0.3804303377137205, 0.4167010524686581, 0.44158398744113025, 0.5962038999576091, 0.28560158391714896, 0.4550865555735317, 0.38787782680639815, 0.35095321272613844, 0.334032775204845, 0.4211573033707865, 0.5225766793409379, 0.4263836608066184, 0.30139839181286554, 0.3188808971384377, 0.28954564606741573, 0.2369614942528736, 0.3810935708185922, 0.4060605745482907, 0.33987857686867584, 0.3464755989352263, 0.28370029970029975, 0.2702971359349312, 0.23524542510731228, 0.5311780417084868, 0.5518565056192795, 0.44184355287569577, 0.4491347006129185, 0.32871452726017947, 0.31313348892249027, 0.31487231440470687, 0.4044847346938776, 0.4243694758478931, 0.2990487054137244, 0.3107323466700114, 0.2942012825080157, 0.28167460633278385, 0.2692462098570886, 0.40206827529476286, 0.42576742160278747, 0.28365277106103104, 0.30315133347115986, 0.28529461549686264, 0.2339877927155224, 0.20963479752671643, 0.3470019572553431, 0.3359961007275738, 0.24439467930029157, 0.2298146045652304, 0.2014870545511548, 0.18778442377462323, 0.1972661081979793, 0.25524768072132176, 0.307396262239518, 0.23037006679523975, 0.21945856112206497, 0.20121768560746134, 0.19455892459876056, 0.20156551220315277, 0.33301164641203707, 0.44842713812585233, 0.37095511684125704, 0.31757402041942606, 0.2720454438009692, 0.31210528813559324, 0.29210361675126906, 0.5668676821435126, 0.6989957003847025, 0.5248703483432455, 0.3431687590267748, 0.2851871480011079, 0.24836069791750426, 0.24732660741452483, 0.42754227899811326, 0.4960644493984856, 0.3423739985029526, 0.4323090454020373, 0.28867761012610893, 0.2757938430960942, 0.3112930241351062, 0.4355846715221715, 0.5262573990635214, 0.42641722503794055, 0.41587245346775203, 0.43737572691494353, 0.45476604012703836, 0.41457576453557154, 0.7706425477369165, 0.6408636856517984, 0.5952244507792364, 0.5037857431807675, 0.5673614383338756, 0.7077910526529452, 0.6841688543567406, 0.9641424355695455, 0.6697242128121608, 0.5409200883002208, 0.5159212548689336, 0.583559895213146, 0.5766928689103319, 0.620660587639311, 0.8149132610999883, 0.9110550419010898, 0.45265702837517374, 0.3982232997136814, 0.4176129217212867, 0.37407371266387346, 0.4083824770560982, 0.501232591970632, 0.7003471434028157, 0.4821850943927868, 0.4476886390986623, 0.561220943198216, 0.542618769289308, 0.5311439227776859, 0.7073140758118286, 0.9713896609926023, 0.7267871986805379, 0.7225519916248329, 0.7030604688267059, 0.7587264840666472, 0.69576805450968, 0.9123976682485706, 0.9208279529340775, 0.6828692806801655, 0.6236539041148373, 0.49858437474475203, 0.414066510649844, 0.6345454403700719, 0.6713422942301447, 0.7922039173940814, 0.7080032346449501, 0.8456392436707422, 0.7900844657720401, 0.5255772479448572, 0.6421464466917475, 0.6242935329067641, 0.8438812949640287, 0.6098010044642856, 0.8855457050243112, 0.6702425171736996, 0.7812148984844152, 0.707931718061674, 0.7356087622903412, 0.9633900545371913, 0.7532975302061122, 0.5173558208590954, 0.5512602071775312, 0.6496080239031615, 0.6404489400271917, 0.9634151111772142, 0.7686490827868073, 0.6368618129977386, 0.6686128715937242, 0.7526313251612153, 0.5414629691548942, 0.5292308917847951, 0.7375524307740717, 0.7746646699165496, 0.5179409181305933, 0.5123929664444201, 0.40972628151903157, 0.5001475781500053, 0.4665256754739513, 0.8472350156278727, 0.9124069399069399, 0.42719117919718186, 0.4996596638655463, 0.46441030486268586, 0.41996912736386427, 0.4577897128948937, 0.6595245280214064, 0.8952020782889427, 0.39836773817006377, 0.3838904127368694, 0.397368696820421, 0.3550717486994798, 0.30864527461824764, 0.48145761744563254, 0.7071687549633812, 0.32169323244892223, 0.2321854013964133, 0.30328641438032167, 0.22506510994411522, 0.2780923522676012, 0.4736397404288971, 0.4942397699140819, 0.2644632077922078, 0.32208760913577117, 0.3693620220561561, 0.29178488322109186, 0.26475202818659316, 0.6009349274536449, 0.7291313955962133, 0.38423522239973096, 0.42537943713541015, 0.4289196076590952, 0.37141037901980434, 0.4083500685094722, 0.5065522254616133, 0.7346406584733342, 0.2592729009152408, 0.31114481507127345, 0.3704635678749112, 0.327512214738112, 0.3591702544031311, 0.7199302214357455, 0.9859842143184648, 0.41442119318338244, 0.47355903356718165, 0.47086305483437085, 0.520937880675526, 0.527972396618849, 0.8438558638331365, 0.7061470810076935, 0.6299633492471538, 0.7263062918113303, 0.6438669018842429, 0.5488370500719884, 0.7897381336034252, 0.7755620277986042, 0.8496603934987169, 0.5788090216502388, 0.684384447045651, 0.7783902523732344, 0.6237230983302411, 0.7385879057505355, 0.756720506384372, 0.38866053748231977, 0.6090766680923867, 0.7527534029337914, 0.7637038278474224, 0.8712274395839705, 0.8182266752854988, 0.9144586782376503, 0.5748107800175285, 0.5911090149036714, 0.9095765186262446, 0.813965812393633, 0.5674300020936562, 0.838044166151309, 0.9615527529761905, 0.5485996181491465, 0.7426312492816918, 0.8227189330277566, 0.9067688043783328, 0.865938689359421, 0.9023892474944794, 0.637799115777839, 0.3271784865965386, 0.6191022408963583, 0.9028946886446888, 0.8944146669656873, 0.8526124178484955, 0.9441411437138573, 0.7082160940325499, -0.09981334509112272, 0.7719434838988545, 0.8661007936507937, 0.8561319511025887, 0.8979381363776613, 0.6209333976833977, 0.6316235045742435, 0.46530149960536704, 0.589767364270549, 0.9850369807497467, 0.8316779298545766, 0.913751409774436, 0.9149202008928572, 0.3904060150375941, 0.17029059829059834, 0.79582156133829, 0.8632096774193548, 0.9430660792951542, 0.9996448598130842, 0.9506078431372549, 0.9021397959183673, 0.6419400921658986, 0.6252454031117397, 0.6578102678571429, 0.65440192450037, 0.70558419792498, 0.5420582464745555, 0.6502727708533078, 0.7877288037166087, 0.914062668463612, 0.47034292649098475, 0.3740951461665748, 0.3938644018583043, 0.3523296103896104, 0.4361662020905923, 0.6526574556830032, 0.2518706237424547, 0.27596935626102304, 0.20745724229366924, 0.20275299643667, 0.19914047088768694, 0.24066839700996678, 0.3351818970503181, 0.13684285714285727, 0.14524548872180454, 0.14079919825072884, 0.1269784180543384, 0.12356705756929642, 0.235203076556165, 0.3238773399014778, 0.1309355416887945, 0.16953867973182057, 0.12972987371744282, 0.13303743423715098, 0.11779819636884847, 0.25380385829030405, 0.28403218298555366, 0.16050072562358275, 0.17469844012242075, 0.13612743287945228, 0.14403911273911274, 0.14774321616431496, 0.2770288279246125, 0.31913123072970195, 0.16590646497027983, 0.1866775005636132, 0.15049784926693333, 0.1715195401505214, 0.15530587683651143, 0.3525490694872139, 0.5859343569203381, 0.28869520885867783, 0.33676800102314874, 0.18984095742763418, 0.30021536882909594, 0.26802269835615045, 0.4165351117191062, 0.5008012609649123, 0.29590589569160997, 0.24708182309981064, 0.2812381465517241, 0.23020703124999997, 0.2366480569948186, 0.34534062965209245, 0.35185905286219876, 0.25000770366822345, 0.22756296323208847, 0.2400798420790372, 0.22000923811865547, 0.19197115885616212, 0.3977700326032052, 0.49717258795844577, 0.5340796596584253, 0.24577210951908068, 0.28493266668859574, 0.23815676894314308, 0.22894774679529528, 0.4004069143914505, 0.4837877218597435, 0.32017318899658787, 0.3754931475316948, 0.24085535969833938, 0.2640298687716327, 0.285154246450086, 0.4299197513332702, 0.7629348154785239, 0.3993939491659583, 0.42272952091349136, 0.3469245480010186, 0.3816918443392262, 0.3622946229124562, 0.5493002790444429, 0.7525987504662439, 0.4319899909008189, 0.4740876997180451, 0.46128477123996225, 0.42226013027441334, 0.5709241325646376, 0.39333854949604474, 0.5746430371543778, 0.47326350590049215, 0.4625118806143147, 0.3628554378466854, 0.41203172595384374, 0.41518273332639677, 0.5484045275590551, 0.8095590265165273, 0.47908770421324154, 0.4663561414521866, 0.391414822620302, 0.42630374904361135, 0.46723605870020957, 0.717080170979846, 0.9028902391505528, 0.6842834809892949, 0.5963019751021327, 0.6091964737585855]\n"
          ]
        }
      ],
      "source": [
        "#accuracy calculations\n",
        "accuracy = []\n",
        "\n",
        "for i in error:\n",
        "  accuracy.append(1 - i)\n",
        "\n",
        "print(accuracy)"
      ]
    },
    {
      "cell_type": "code",
      "execution_count": null,
      "id": "a8012f5e",
      "metadata": {
        "id": "a8012f5e"
      },
      "outputs": [],
      "source": [
        "#Create Error and Accuracy Column and insert list data\n",
        "merged_df_new['Error'] = error\n",
        "merged_df_new['Accuracy'] = accuracy\n",
        "merged_df_new['RawError'] = rawerror\n",
        "\n",
        "print(merged_df_new)"
      ]
    },
    {
      "cell_type": "code",
      "execution_count": 33,
      "id": "6a1f3c40",
      "metadata": {
        "id": "6a1f3c40",
        "colab": {
          "base_uri": "https://localhost:8080/",
          "height": 313
        },
        "outputId": "29a89912-7764-4873-a0ff-86af21ae277c"
      },
      "outputs": [
        {
          "output_type": "execute_result",
          "data": {
            "text/plain": [
              "<matplotlib.legend.Legend at 0x7f19b9abd210>"
            ]
          },
          "metadata": {},
          "execution_count": 33
        },
        {
          "output_type": "display_data",
          "data": {
            "text/plain": [
              "<Figure size 432x288 with 1 Axes>"
            ],
            "image/png": "[encoded data removed]"
          },
          "metadata": {
            "needs_background": "light"
          }
        }
      ],
      "source": [
        "from IPython.core.pylabtools import figsize\n",
        "#Create plot of Error\n",
        "\n",
        "#Error Line\n",
        "plt.plot(merged_df_new['Date'], merged_df_new['Error'], color='g', label='Error')\n",
        "\n",
        "\n",
        "#Create XY Labels and Title\n",
        "plt.xlabel('Date (Year/Month/Day)') \n",
        "plt.ylabel('Percentage') \n",
        "plt.title(\"Predicted Daily COVID-19 Case Error in PA\")\n",
        "#Display Plot\n",
        "plt.legend()"
      ]
    },
    {
      "cell_type": "code",
      "execution_count": 34,
      "id": "0480ef44",
      "metadata": {
        "id": "0480ef44",
        "colab": {
          "base_uri": "https://localhost:8080/",
          "height": 295
        },
        "outputId": "1e50d46d-3e2c-4083-af1c-12cc47b88461"
      },
      "outputs": [
        {
          "output_type": "display_data",
          "data": {
            "text/plain": [
              "<Figure size 432x288 with 1 Axes>"
            ],
            "image/png": "[encoded data removed]"
          },
          "metadata": {
            "needs_background": "light"
          }
        }
      ],
      "source": [
        "#Create plot of Raw Error\n",
        "\n",
        "#Raw Error Line\n",
        "plt.plot(merged_df_new['Date'], merged_df_new['RawError'], color='g', label='Raw Error')\n",
        "plt.axhline(y=0.0, color='r', linestyle='-')\n",
        "\n",
        "#Create XY Labels and Title\n",
        "plt.xlabel('Date (Year/Month/Day)') \n",
        "plt.ylabel('Percentage') \n",
        "plt.title(\"Predicted Daily COVID-19 Case Raw Error in PA\")\n",
        "#Display Plot\n",
        "plt.legend()\n",
        "plt.show()"
      ]
    },
    {
      "cell_type": "code",
      "execution_count": 35,
      "id": "cb557ed1",
      "metadata": {
        "id": "cb557ed1",
        "colab": {
          "base_uri": "https://localhost:8080/",
          "height": 295
        },
        "outputId": "fe50d855-46ea-47bc-8c4d-36fd79ced485"
      },
      "outputs": [
        {
          "output_type": "display_data",
          "data": {
            "text/plain": [
              "<Figure size 432x288 with 1 Axes>"
            ],
            "image/png": "[encoded data removed]"
          },
          "metadata": {
            "needs_background": "light"
          }
        }
      ],
      "source": [
        "#Create plot of Accuracy\n",
        "\n",
        "#Accuracy Line\n",
        "plt.plot(merged_df_new['Date'], merged_df_new['Accuracy'], color='r', label='Daily Accuracy')\n",
        "\n",
        "#Create XY Labels and Title\n",
        "plt.xlabel('Date (Year/Month/Day)') \n",
        "plt.ylabel('Percentage') \n",
        "plt.title(\"Predicted Daily COVID-19 Case Accuracy in PA\")\n",
        "\n",
        "#Display Plot\n",
        "plt.legend()\n",
        "plt.show()"
      ]
    },
    {
      "cell_type": "code",
      "execution_count": 36,
      "id": "4d6b0409",
      "metadata": {
        "id": "4d6b0409"
      },
      "outputs": [],
      "source": [
        "#Calculate Weekly Accuracy Averages\n",
        "weeklyAccuracy = 0\n",
        "averageWeeklyAccuracy = []\n",
        "length = len(accuracy) #   =245\n",
        "amountOfWeeks = int(length / 7) #   =35\n",
        "remainderDays = length % 7 #  \n",
        "\n",
        "i = 0\n",
        "while i < length:\n",
        "  weeklyAccuracy += accuracy[i]\n",
        "  if (i + 1) % 7 == 0 and amountOfWeeks > 0:\n",
        "    averageWeeklyAccuracy.append(weeklyAccuracy / 7)\n",
        "    amountOfWeeks -= 1\n",
        "    weeklyAccuracy = 0\n",
        "  if remainderDays > 0:\n",
        "    if (i + 1) % remainderDays == 0 and amountOfWeeks == 0:\n",
        "      averageWeeklyAccuracy.append(weeklyAccuracy / remainderDays)\n",
        "      weeklyAccuracy = 0\n",
        "  i += 1\n",
        "\n",
        "weeklyDateList = []\n",
        "i = 0\n",
        "weeklyDateList.append(merged_df_new['Date'][i])\n",
        "while i < length:\n",
        "  if (i + 1) % 7 == 0:\n",
        "    weeklyDateList.append(merged_df_new['Date'][i])\n",
        "  i += 1"
      ]
    },
    {
      "cell_type": "code",
      "source": [
        "len(weeklyDateList)"
      ],
      "metadata": {
        "colab": {
          "base_uri": "https://localhost:8080/"
        },
        "id": "WJ-5HSFnNqoZ",
        "outputId": "44dfc761-b276-4906-c518-a2cd4ce698a5"
      },
      "id": "WJ-5HSFnNqoZ",
      "execution_count": 37,
      "outputs": [
        {
          "output_type": "execute_result",
          "data": {
            "text/plain": [
              "62"
            ]
          },
          "metadata": {},
          "execution_count": 37
        }
      ]
    },
    {
      "cell_type": "code",
      "source": [
        "#del averageWeeklyAccuracy[-1:]\n",
        "#len(averageWeeklyAccuracy)"
      ],
      "metadata": {
        "id": "P90LPnPNNFv2"
      },
      "id": "P90LPnPNNFv2",
      "execution_count": null,
      "outputs": []
    },
    {
      "cell_type": "code",
      "execution_count": 38,
      "id": "04c4449c",
      "metadata": {
        "id": "04c4449c"
      },
      "outputs": [],
      "source": [
        "#Create Dataframe for Weekly Accuracy\n",
        "i = 0\n",
        "data = []\n",
        "while i < len(averageWeeklyAccuracy):\n",
        "  data.append([weeklyDateList[i], averageWeeklyAccuracy[i]])\n",
        "  i += 1\n",
        "\n",
        "df = pd.DataFrame(data, columns = ['Week Of', 'Average Weekly Accuracy'])"
      ]
    },
    {
      "cell_type": "code",
      "execution_count": 39,
      "id": "6132cdfa",
      "metadata": {
        "id": "6132cdfa",
        "colab": {
          "base_uri": "https://localhost:8080/",
          "height": 295
        },
        "outputId": "6ef8353a-4f22-4e29-f97b-ab4cd7cc27d2"
      },
      "outputs": [
        {
          "output_type": "display_data",
          "data": {
            "text/plain": [
              "<Figure size 432x288 with 1 Axes>"
            ],
            "image/png": "[encoded data removed]"
          },
          "metadata": {
            "needs_background": "light"
          }
        }
      ],
      "source": [
        "#Create plot of Weekly Accuracy\n",
        "\n",
        "#Accuracy Line\n",
        "plt.plot(df['Week Of'], df['Average Weekly Accuracy'], color='r', label='Weekly Accuracy')\n",
        "\n",
        "#Create XY Labels and Title\n",
        "plt.xlabel('Week Of (Year/Month/Day)') \n",
        "plt.ylabel('Average Weekly Accuracy Percentage') \n",
        "plt.title(\"Predicted Daily COVID-19 Case Weekly Accuracy in PA\")\n",
        "\n",
        "#Display Plot\n",
        "plt.legend()\n",
        "plt.show()"
      ]
    },
    {
      "cell_type": "code",
      "execution_count": 40,
      "id": "5917fad0",
      "metadata": {
        "id": "5917fad0"
      },
      "outputs": [],
      "source": [
        "#Create Running Weekly Average\n",
        "runningweeklyAccuracy = 0\n",
        "runningAverageWeeklyAccuracy = []\n",
        "length = len(accuracy)\n",
        "\n",
        "i = 1\n",
        "j = 8\n",
        "#Add first week average\n",
        "runningAverageWeeklyAccuracy.append(averageWeeklyAccuracy[0])\n",
        "\n",
        "while j < length:\n",
        "  temp_i = i\n",
        "  temp_j = j\n",
        "  while temp_i < temp_j:\n",
        "    runningweeklyAccuracy += accuracy[temp_i]\n",
        "    temp_i += 1\n",
        "  runningAverageWeeklyAccuracy.append(runningweeklyAccuracy / 7)\n",
        "  runningweeklyAccuracy = 0\n",
        "\n",
        "  i += 1\n",
        "  j += 1"
      ]
    },
    {
      "cell_type": "code",
      "execution_count": 41,
      "id": "5b231780",
      "metadata": {
        "id": "5b231780"
      },
      "outputs": [],
      "source": [
        "#Create Dataframe for Running Weekly Accuracy\n",
        "i = 0\n",
        "data = []\n",
        "while i < len(runningAverageWeeklyAccuracy):\n",
        "  data.append([merged_df_new['Date'][i], runningAverageWeeklyAccuracy[i]])\n",
        "  i += 1\n",
        "\n",
        "df = pd.DataFrame(data, columns = ['Date', 'Running Weekly Average Accuracy'])"
      ]
    },
    {
      "cell_type": "code",
      "execution_count": 42,
      "id": "85337528",
      "metadata": {
        "id": "85337528",
        "colab": {
          "base_uri": "https://localhost:8080/",
          "height": 295
        },
        "outputId": "02956f7c-7e07-4249-a79b-f893a92cc8c5"
      },
      "outputs": [
        {
          "output_type": "display_data",
          "data": {
            "text/plain": [
              "<Figure size 432x288 with 1 Axes>"
            ],
            "image/png": "[encoded data removed]"
          },
          "metadata": {
            "needs_background": "light"
          }
        }
      ],
      "source": [
        "#Create plot of Running Weekly Accuracy\n",
        "\n",
        "#Accuracy Line\n",
        "plt.plot(df['Date'], df['Running Weekly Average Accuracy'], color='r', label='Running Weekly Accuracy')\n",
        "\n",
        "#Create XY Labels and Title\n",
        "plt.xlabel('Date') \n",
        "plt.ylabel('Accuracy Percentage') \n",
        "plt.title(\"Predicted Daily COVID-19 Case Running Weekly Accuracy in PA\")\n",
        "\n",
        "#Display Plot\n",
        "plt.legend()\n",
        "plt.show()"
      ]
    },
    {
      "cell_type": "code",
      "execution_count": 43,
      "id": "b8764ff7",
      "metadata": {
        "id": "b8764ff7",
        "colab": {
          "base_uri": "https://localhost:8080/",
          "height": 295
        },
        "outputId": "a21e1921-d2e9-41e9-aa96-81f8ea0431b3"
      },
      "outputs": [
        {
          "output_type": "display_data",
          "data": {
            "text/plain": [
              "<Figure size 432x288 with 1 Axes>"
            ],
            "image/png": "[encoded data removed]"
          },
          "metadata": {
            "needs_background": "light"
          }
        }
      ],
      "source": [
        "#Plot with combined daily accuracy and running weekly accuracy\n",
        "\n",
        "#Daily Accuracy\n",
        "plt.plot(merged_df_new['Date'], merged_df_new['Accuracy'], color='r', label='Daily Accuracy')\n",
        "\n",
        "#Running Accuracy Line\n",
        "plt.plot(df['Date'], df['Running Weekly Average Accuracy'], color='b', label='Running Weekly Accuracy')\n",
        "\n",
        "#Create XY Labels and Title\n",
        "plt.xlabel('Date') \n",
        "plt.ylabel('Accuracy Percentage') \n",
        "plt.title(\"Predicted Daily COVID-19 Case Accuracy in PA\")\n",
        "\n",
        "#Display Plot\n",
        "plt.legend()\n",
        "plt.show()"
      ]
    },
    {
      "cell_type": "code",
      "execution_count": null,
      "id": "4243a737",
      "metadata": {
        "id": "4243a737"
      },
      "outputs": [],
      "source": [
        "#merged_df_new.to_csv('DDS_everyday_predictions.csv')"
      ]
    },
    {
      "cell_type": "code",
      "execution_count": 44,
      "id": "b8d57b22",
      "metadata": {
        "id": "b8d57b22"
      },
      "outputs": [],
      "source": [
        "#Calculate Monthly Accuracy Averages\n",
        "#We are going to use an average of 30 days per month for these calculations\n",
        "\n",
        "monthlyAccuracy = 0\n",
        "averageMonthlyAccuracy = []\n",
        "amountOfMonths = int(length / 30)\n",
        "remainderDays = length % 30\n",
        "\n",
        "i = 0\n",
        "while i < length:\n",
        "  monthlyAccuracy += accuracy[i]\n",
        "  if (i + 1) % 30 == 0 and amountOfMonths > 0:\n",
        "    averageMonthlyAccuracy.append(monthlyAccuracy / 30)\n",
        "    amountOfMonths -= 1\n",
        "    monthlyAccuracy = 0\n",
        "  if (i + 1) % remainderDays == 0 and remainderDays > 0 and amountOfMonths == 0:\n",
        "    averageMonthlyAccuracy.append(monthlyAccuracy / remainderDays)\n",
        "    monthlyAccuracy = 0\n",
        "  i += 1\n",
        "\n",
        "weeklyDateListForMonths = []\n",
        "i = 0\n",
        "weeklyDateListForMonths.append(merged_df_new['Date'][i])\n",
        "while i < length:\n",
        "  if (i + 1) % 30 == 0:\n",
        "    weeklyDateListForMonths.append(merged_df_new['Date'][i])\n",
        "  i += 1\n"
      ]
    },
    {
      "cell_type": "code",
      "execution_count": 46,
      "id": "c9d81c9a",
      "metadata": {
        "id": "c9d81c9a",
        "colab": {
          "base_uri": "https://localhost:8080/"
        },
        "outputId": "04751d40-4824-4178-c01b-34027031669e"
      },
      "outputs": [
        {
          "output_type": "execute_result",
          "data": {
            "text/plain": [
              "15"
            ]
          },
          "metadata": {},
          "execution_count": 46
        }
      ],
      "source": [
        "del averageMonthlyAccuracy[-1:]\n",
        "len(averageMonthlyAccuracy)"
      ]
    },
    {
      "cell_type": "code",
      "execution_count": 47,
      "id": "d2d88cd5",
      "metadata": {
        "id": "d2d88cd5"
      },
      "outputs": [],
      "source": [
        "#Create Dataframe for Monthly Accuracy\n",
        "i = 0\n",
        "data = []\n",
        "while i < len(averageMonthlyAccuracy):\n",
        "  data.append([weeklyDateListForMonths[i], averageMonthlyAccuracy[i]])\n",
        "  i += 1\n",
        "\n",
        "df = pd.DataFrame(data, columns = ['Month Of', 'Average Monthly Accuracy'])"
      ]
    },
    {
      "cell_type": "code",
      "execution_count": 48,
      "id": "bbf2b69a",
      "metadata": {
        "id": "bbf2b69a",
        "colab": {
          "base_uri": "https://localhost:8080/",
          "height": 295
        },
        "outputId": "5a46af90-9ee3-4a25-9836-5b6c3a023e3a"
      },
      "outputs": [
        {
          "output_type": "display_data",
          "data": {
            "text/plain": [
              "<Figure size 432x288 with 1 Axes>"
            ],
            "image/png": "[encoded data removed]"
          },
          "metadata": {
            "needs_background": "light"
          }
        }
      ],
      "source": [
        "#Create plot of Monthly Accuracy\n",
        "\n",
        "#Accuracy Line\n",
        "plt.plot(df['Month Of'], df['Average Monthly Accuracy'], color='r', label='Monthly Accuracy')\n",
        "\n",
        "#Create XY Labels and Title\n",
        "plt.xlabel('Month Of (Year/Month/Day)') \n",
        "plt.ylabel('Average Monthly Accuracy Percentage') \n",
        "plt.title(\"Predicted Daily COVID-19 Case Monthly Accuracy in PA\")\n",
        "\n",
        "#Display Plot\n",
        "plt.legend()\n",
        "plt.show()"
      ]
    },
    {
      "cell_type": "code",
      "source": [
        "#Calculate Running Monthly Accuracy\n",
        "\n",
        "runningmonthlyAccuracy = 0\n",
        "runningAveragemonthlyAccuracy = []\n",
        "length = len(accuracy)\n",
        "\n",
        "i = 1\n",
        "j = 31\n",
        "#Add first week average\n",
        "runningAveragemonthlyAccuracy.append(averageMonthlyAccuracy[0])\n",
        "\n",
        "while j < length:\n",
        "  temp_i = i\n",
        "  temp_j = j\n",
        "  while temp_i < temp_j:\n",
        "    runningmonthlyAccuracy += accuracy[temp_i]\n",
        "    temp_i += 1\n",
        "  runningAveragemonthlyAccuracy.append(runningmonthlyAccuracy / 30)\n",
        "  runningmonthlyAccuracy = 0\n",
        "\n",
        "  i += 1\n",
        "  j += 1"
      ],
      "metadata": {
        "id": "X02LeClcSWTa"
      },
      "id": "X02LeClcSWTa",
      "execution_count": 49,
      "outputs": []
    },
    {
      "cell_type": "code",
      "source": [
        "#Create Dataframe for Running Monthly Accuracy\n",
        "i = 0\n",
        "data = []\n",
        "while i < len(runningAveragemonthlyAccuracy):\n",
        "  data.append([merged_df_new['Date'][i], runningAveragemonthlyAccuracy[i]])\n",
        "  i += 1\n",
        "\n",
        "df = pd.DataFrame(data, columns = ['Date', 'Running Monthly Average Accuracy'])"
      ],
      "metadata": {
        "id": "0IAKKnIZSc7e"
      },
      "id": "0IAKKnIZSc7e",
      "execution_count": 50,
      "outputs": []
    },
    {
      "cell_type": "code",
      "source": [
        "#Create plot of Running Monthly Accuracy\n",
        "\n",
        "#Accuracy Line\n",
        "plt.plot(df['Date'], df['Running Monthly Average Accuracy'], color='r', label='Running Monthly Accuracy')\n",
        "\n",
        "#Create XY Labels and Title\n",
        "plt.xlabel('Date') \n",
        "plt.ylabel('Accuracy Percentage') \n",
        "plt.title(\"Predicted Daily COVID-19 Case Running Monthly Accuracy in PA\")\n",
        "\n",
        "#Display Plot\n",
        "plt.legend()\n",
        "plt.show()"
      ],
      "metadata": {
        "colab": {
          "base_uri": "https://localhost:8080/",
          "height": 295
        },
        "id": "qhK2tbJaSkPW",
        "outputId": "7b63fa26-cefb-4b9d-cbee-4be6c5988465"
      },
      "id": "qhK2tbJaSkPW",
      "execution_count": 51,
      "outputs": [
        {
          "output_type": "display_data",
          "data": {
            "text/plain": [
              "<Figure size 432x288 with 1 Axes>"
            ],
            "image/png": "[encoded data removed]"
          },
          "metadata": {
            "needs_background": "light"
          }
        }
      ]
    },
    {
      "cell_type": "code",
      "source": [
        "#Calculate Yearly Accuracy Averages\n",
        "#We are going to use an average of 365 days per year for these calculations\n",
        "\n",
        "yearlyAccuracy = 0\n",
        "averageYearlyAccuracy = []\n",
        "amountOfYears = int(length / 365)\n",
        "remainderDays = length % 365\n",
        "\n",
        "i = 0\n",
        "while i < length:\n",
        "  yearlyAccuracy += accuracy[i]\n",
        "  if (i + 1) % 365 == 0 and amountOfYears > 0:\n",
        "    averageYearlyAccuracy.append(yearlyAccuracy / 365)\n",
        "    amountOfYears -= 1\n",
        "    yearlyAccuracy = 0\n",
        "  if (i + 1) % remainderDays == 0 and remainderDays > 0 and amountOfYears == 0:\n",
        "    averageYearlyAccuracy.append(yearlyAccuracy / remainderDays)\n",
        "    yearlyAccuracy = 0\n",
        "  i += 1\n",
        "\n",
        "weeklyDateListForYears = []\n",
        "i = 0\n",
        "weeklyDateListForYears.append(merged_df_new['Date'][i])\n",
        "while i < length:\n",
        "  if (i + 1) % 365 == 0:\n",
        "    weeklyDateListForYears.append(merged_df_new['Date'][i])\n",
        "  i += 1"
      ],
      "metadata": {
        "id": "wuFLInYkSl0D"
      },
      "id": "wuFLInYkSl0D",
      "execution_count": 52,
      "outputs": []
    },
    {
      "cell_type": "code",
      "source": [
        "print(averageYearlyAccuracy)"
      ],
      "metadata": {
        "colab": {
          "base_uri": "https://localhost:8080/"
        },
        "id": "0X5tj6YASxgP",
        "outputId": "044229bd-eb23-4530-a162-1971fc0d9946"
      },
      "id": "0X5tj6YASxgP",
      "execution_count": 53,
      "outputs": [
        {
          "output_type": "stream",
          "name": "stdout",
          "text": [
            "[0.5104436926583998, 0.18498067226864118]\n"
          ]
        }
      ]
    },
    {
      "cell_type": "code",
      "source": [
        "#Create Dataframe for Yearly Accuracy\n",
        "i = 0\n",
        "data = []\n",
        "while i < len(averageYearlyAccuracy):\n",
        "  data.append([weeklyDateListForYears[i], averageYearlyAccuracy[i]])\n",
        "  i += 1\n",
        "\n",
        "df = pd.DataFrame(data, columns = ['Year Of', 'Average Yearly Accuracy'])"
      ],
      "metadata": {
        "id": "KMVJGUxoSyb5"
      },
      "id": "KMVJGUxoSyb5",
      "execution_count": 54,
      "outputs": []
    },
    {
      "cell_type": "code",
      "source": [
        "#Create plot of Yearly Accuracy\n",
        "\n",
        "#Accuracy Line\n",
        "plt.plot(df['Year Of'], df['Average Yearly Accuracy'], color='r', label='Yearly Accuracy')\n",
        "\n",
        "#Create XY Labels and Title\n",
        "plt.xlabel('Year Of (Year/Month/Day)') \n",
        "plt.ylabel('Average Yearly Accuracy Percentage') \n",
        "plt.title(\"Predicted Daily COVID-19 Case Yearly Accuracy in PA\")\n",
        "\n",
        "#Display Plot\n",
        "plt.legend()\n",
        "plt.show()"
      ],
      "metadata": {
        "colab": {
          "base_uri": "https://localhost:8080/",
          "height": 295
        },
        "id": "OVaiiME4S2Bl",
        "outputId": "514c7921-3412-443a-9f5e-8dfce91af9e9"
      },
      "id": "OVaiiME4S2Bl",
      "execution_count": 55,
      "outputs": [
        {
          "output_type": "display_data",
          "data": {
            "text/plain": [
              "<Figure size 432x288 with 1 Axes>"
            ],
            "image/png": "[encoded data removed]"
          },
          "metadata": {
            "needs_background": "light"
          }
        }
      ]
    },
    {
      "cell_type": "code",
      "source": [
        "#Calculate Running Yearly Accuracy\n",
        "\n",
        "runningyearlyAccuracy = 0\n",
        "runningAverageyearlyAccuracy = []\n",
        "length = len(accuracy)\n",
        "\n",
        "i = 1\n",
        "j = 366\n",
        "#Add first week average\n",
        "runningAverageyearlyAccuracy.append(averageYearlyAccuracy[0])\n",
        "\n",
        "while j < length:\n",
        "  temp_i = i\n",
        "  temp_j = j\n",
        "  while temp_i < temp_j:\n",
        "    runningyearlyAccuracy += accuracy[temp_i]\n",
        "    temp_i += 1\n",
        "  runningAverageyearlyAccuracy.append(runningyearlyAccuracy / 365)\n",
        "  runningyearlyAccuracy = 0\n",
        "\n",
        "  i += 1\n",
        "  j += 1"
      ],
      "metadata": {
        "id": "7_8g8buyS4r6"
      },
      "id": "7_8g8buyS4r6",
      "execution_count": 56,
      "outputs": []
    },
    {
      "cell_type": "code",
      "source": [
        "#Create Dataframe for Running Yearly Accuracy\n",
        "i = 0\n",
        "data = []\n",
        "while i < len(runningAverageyearlyAccuracy):\n",
        "  data.append([merged_df_new['Date'][i], runningAverageyearlyAccuracy[i]])\n",
        "  i += 1\n",
        "\n",
        "df = pd.DataFrame(data, columns = ['Date', 'Running Yearly Average Accuracy'])"
      ],
      "metadata": {
        "id": "GMw16lzPS7I8"
      },
      "id": "GMw16lzPS7I8",
      "execution_count": 57,
      "outputs": []
    },
    {
      "cell_type": "code",
      "source": [
        "#Create plot of Running Yearly Accuracy\n",
        "\n",
        "#Accuracy Line\n",
        "plt.plot(df['Date'], df['Running Yearly Average Accuracy'], color='r', label='Running Yearly Accuracy')\n",
        "\n",
        "#Create XY Labels and Title\n",
        "plt.xlabel('Date') \n",
        "plt.ylabel('Accuracy Percentage') \n",
        "plt.title(\"Predicted Daily COVID-19 Case Running Yearly Accuracy in PA\")\n",
        "\n",
        "#Display Plot\n",
        "plt.legend()\n",
        "plt.show()"
      ],
      "metadata": {
        "colab": {
          "base_uri": "https://localhost:8080/",
          "height": 295
        },
        "id": "9Tg8c7xFTEo5",
        "outputId": "bf382664-bcd9-4bce-da35-acf528157bf0"
      },
      "id": "9Tg8c7xFTEo5",
      "execution_count": 58,
      "outputs": [
        {
          "output_type": "display_data",
          "data": {
            "text/plain": [
              "<Figure size 432x288 with 1 Axes>"
            ],
            "image/png": "[encoded data removed]"
          },
          "metadata": {
            "needs_background": "light"
          }
        }
      ]
    },
    {
      "cell_type": "code",
      "source": [
        "#Calculate Overall Accuracy\n",
        "overallAccuracy = merged_df_new['Accuracy'].mean()\n",
        "print(overallAccuracy)"
      ],
      "metadata": {
        "colab": {
          "base_uri": "https://localhost:8080/"
        },
        "id": "wvfzf5lyTIzD",
        "outputId": "f52fbaef-4fda-4949-b802-744e209c82f6"
      },
      "id": "wvfzf5lyTIzD",
      "execution_count": 59,
      "outputs": [
        {
          "output_type": "stream",
          "name": "stdout",
          "text": [
            "0.4955409268358044\n"
          ]
        }
      ]
    }
  ],
  "metadata": {
    "kernelspec": {
      "display_name": "Python 3 (ipykernel)",
      "language": "python",
      "name": "python3"
    },
    "language_info": {
      "codemirror_mode": {
        "name": "ipython",
        "version": 3
      },
      "file_extension": ".py",
      "mimetype": "text/x-python",
      "name": "python",
      "nbconvert_exporter": "python",
      "pygments_lexer": "ipython3",
      "version": "3.9.7"
    },
    "colab": {
      "name": "CEID-Walk-analysis.ipynb",
      "provenance": [],
      "collapsed_sections": []
    }
  },
  "nbformat": 4,
  "nbformat_minor": 5
}