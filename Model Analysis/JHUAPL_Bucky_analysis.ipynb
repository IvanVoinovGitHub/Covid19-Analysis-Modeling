{
  "cells": [
    {
      "cell_type": "code",
      "execution_count": 2,
      "id": "19d98421",
      "metadata": {
        "id": "19d98421"
      },
      "outputs": [],
      "source": [
        "#import libraries\n",
        "import csv\n",
        "import pandas as pd\n",
        "import matplotlib.pyplot as plt\n",
        "import math\n",
        "import numpy as np\n",
        "import statistics\n",
        "import glob\n",
        "import requests\n",
        "from itertools import repeat"
      ]
    },
    {
      "cell_type": "code",
      "execution_count": 3,
      "id": "bb3a7895",
      "metadata": {
        "id": "bb3a7895"
      },
      "outputs": [],
      "source": [
        "#actual COVID-19 cases data for PA\n",
        "url2 = 'https://raw.githubusercontent.com/IvanVoinovGitHub/Covid19-Analysis-Modeling/main/Data/COVID-19_Aggregate_Cases_Current_Daily_County_Health.csv'\n",
        "df1 = pd.read_csv(url2)"
      ]
    },
    {
      "cell_type": "code",
      "execution_count": 4,
      "id": "16ac3fab",
      "metadata": {
        "id": "16ac3fab"
      },
      "outputs": [],
      "source": [
        "url = 'https://github.com/reichlab/covid19-forecast-hub/tree/master/data-processed/JHUAPL-Bucky'\n",
        "download = requests.get(url).content\n",
        "\n",
        "csvStringList = []\n",
        "hrefStringList = []\n",
        "urlExtension = []\n",
        "rawUrls = []\n",
        "tempList = []\n",
        "urlExtensionwoutblob = []\n",
        "urlBeginning = 'https://raw.githubusercontent.com'\n",
        "\n",
        "urlStringList = str(requests.get(url).text).split(\" \")\n",
        "for i in urlStringList:\n",
        "  if \"csv\" in i:\n",
        "    csvStringList.append(i)\n",
        "\n",
        "for i in csvStringList:\n",
        "  if \"href\" in i and \"/reichlab/covid19-forecast-hub/blob/master/data-processed/\" in i:\n",
        "    hrefStringList.append(i)\n",
        "\n",
        "for i in hrefStringList:\n",
        "  tempList1 = i.split(\"\\\"\")\n",
        "  for x in tempList1:\n",
        "    if \"/reichlab/covid19-forecast-hub/blob/master/data-processed/\" in x:\n",
        "      urlExtension.append(x)\n",
        "\n",
        "for i in urlExtension:\n",
        "  newString = \"\"\n",
        "  tempList = []\n",
        "  temp = i.split(\"/\")\n",
        "  for x in temp:\n",
        "    if \"blob\" not in x:\n",
        "      tempList.append(x)\n",
        "  for j in range(1, len(tempList)):\n",
        "    newString += \"/\" + tempList[j]\n",
        "  urlExtensionwoutblob.append(newString)\n",
        "\n",
        "\n",
        "for i in urlExtensionwoutblob:\n",
        "  finalUrl = urlBeginning + i\n",
        "  rawUrls.append(finalUrl)"
      ]
    },
    {
      "cell_type": "code",
      "execution_count": 5,
      "id": "922310e5",
      "metadata": {
        "id": "922310e5",
        "colab": {
          "base_uri": "https://localhost:8080/"
        },
        "outputId": "9ff2d854-ebc0-405d-ab77-4c09aaac1104"
      },
      "outputs": [
        {
          "output_type": "stream",
          "name": "stderr",
          "text": [
            "/usr/local/lib/python3.7/dist-packages/IPython/core/interactiveshell.py:2882: DtypeWarning: Columns (3) have mixed types.Specify dtype option on import or set low_memory=False.\n",
            "  exec(code_obj, self.user_global_ns, self.user_ns)\n"
          ]
        }
      ],
      "source": [
        "#reading all the raw data, filtering PA cases data, and ensemble back into one dataframe\n",
        "all_data = []\n",
        "for url in rawUrls:\n",
        "    df3=pd.read_csv(url)\n",
        "    df2_case = df3[df3['target'].str.contains('case')]\n",
        "    df2_casesPA = df2_case[(df2_case[\"type\"]==\"point\") & (df2_case[\"location\"]==\"42\")]\n",
        "    all_data.append(df2_casesPA)"
      ]
    },
    {
      "cell_type": "code",
      "execution_count": 6,
      "id": "e6b3b86d",
      "metadata": {
        "id": "e6b3b86d",
        "outputId": "61068c25-ca07-496e-d6f1-889e8877e2b2",
        "colab": {
          "base_uri": "https://localhost:8080/"
        }
      },
      "outputs": [
        {
          "output_type": "execute_result",
          "data": {
            "text/plain": [
              "81"
            ]
          },
          "metadata": {},
          "execution_count": 6
        }
      ],
      "source": [
        "len(all_data)"
      ]
    },
    {
      "cell_type": "code",
      "execution_count": 7,
      "id": "9ca79685",
      "metadata": {
        "id": "9ca79685",
        "colab": {
          "base_uri": "https://localhost:8080/",
          "height": 206
        },
        "outputId": "d294b51f-eb34-422f-8bb1-ccd185baab63"
      },
      "outputs": [
        {
          "output_type": "execute_result",
          "data": {
            "text/plain": [
              "     location  quantile               target      value   type forecast_date  \\\n",
              "339        42       NaN  1 wk ahead inc case  3332.7885  point    2020-08-31   \n",
              "3475       42       NaN  2 wk ahead inc case  3101.7830  point    2020-08-31   \n",
              "6611       42       NaN  3 wk ahead inc case  2958.3330  point    2020-08-31   \n",
              "9747       42       NaN  4 wk ahead inc case  2798.6660  point    2020-08-31   \n",
              "339        42       NaN  1 wk ahead inc case  6235.7680  point    2020-09-07   \n",
              "\n",
              "     target_end_date  \n",
              "339       2020-09-05  \n",
              "3475      2020-09-12  \n",
              "6611      2020-09-19  \n",
              "9747      2020-09-26  \n",
              "339       2020-09-12  "
            ],
            "text/html": [
              "\n",
              "  <div id=\"df-40650725-4ff1-4c0e-96d2-eee11b2f269f\">\n",
              "    <div class=\"colab-df-container\">\n",
              "      <div>\n",
              "<style scoped>\n",
              "    .dataframe tbody tr th:only-of-type {\n",
              "        vertical-align: middle;\n",
              "    }\n",
              "\n",
              "    .dataframe tbody tr th {\n",
              "        vertical-align: top;\n",
              "    }\n",
              "\n",
              "    .dataframe thead th {\n",
              "        text-align: right;\n",
              "    }\n",
              "</style>\n",
              "<table border=\"1\" class=\"dataframe\">\n",
              "  <thead>\n",
              "    <tr style=\"text-align: right;\">\n",
              "      <th></th>\n",
              "      <th>location</th>\n",
              "      <th>quantile</th>\n",
              "      <th>target</th>\n",
              "      <th>value</th>\n",
              "      <th>type</th>\n",
              "      <th>forecast_date</th>\n",
              "      <th>target_end_date</th>\n",
              "    </tr>\n",
              "  </thead>\n",
              "  <tbody>\n",
              "    <tr>\n",
              "      <th>339</th>\n",
              "      <td>42</td>\n",
              "      <td>NaN</td>\n",
              "      <td>1 wk ahead inc case</td>\n",
              "      <td>3332.7885</td>\n",
              "      <td>point</td>\n",
              "      <td>2020-08-31</td>\n",
              "      <td>2020-09-05</td>\n",
              "    </tr>\n",
              "    <tr>\n",
              "      <th>3475</th>\n",
              "      <td>42</td>\n",
              "      <td>NaN</td>\n",
              "      <td>2 wk ahead inc case</td>\n",
              "      <td>3101.7830</td>\n",
              "      <td>point</td>\n",
              "      <td>2020-08-31</td>\n",
              "      <td>2020-09-12</td>\n",
              "    </tr>\n",
              "    <tr>\n",
              "      <th>6611</th>\n",
              "      <td>42</td>\n",
              "      <td>NaN</td>\n",
              "      <td>3 wk ahead inc case</td>\n",
              "      <td>2958.3330</td>\n",
              "      <td>point</td>\n",
              "      <td>2020-08-31</td>\n",
              "      <td>2020-09-19</td>\n",
              "    </tr>\n",
              "    <tr>\n",
              "      <th>9747</th>\n",
              "      <td>42</td>\n",
              "      <td>NaN</td>\n",
              "      <td>4 wk ahead inc case</td>\n",
              "      <td>2798.6660</td>\n",
              "      <td>point</td>\n",
              "      <td>2020-08-31</td>\n",
              "      <td>2020-09-26</td>\n",
              "    </tr>\n",
              "    <tr>\n",
              "      <th>339</th>\n",
              "      <td>42</td>\n",
              "      <td>NaN</td>\n",
              "      <td>1 wk ahead inc case</td>\n",
              "      <td>6235.7680</td>\n",
              "      <td>point</td>\n",
              "      <td>2020-09-07</td>\n",
              "      <td>2020-09-12</td>\n",
              "    </tr>\n",
              "  </tbody>\n",
              "</table>\n",
              "</div>\n",
              "      <button class=\"colab-df-convert\" onclick=\"convertToInteractive('df-40650725-4ff1-4c0e-96d2-eee11b2f269f')\"\n",
              "              title=\"Convert this dataframe to an interactive table.\"\n",
              "              style=\"display:none;\">\n",
              "        \n",
              "  <svg xmlns=\"http://www.w3.org/2000/svg\" height=\"24px\"viewBox=\"0 0 24 24\"\n",
              "       width=\"24px\">\n",
              "    <path d=\"M0 0h24v24H0V0z\" fill=\"none\"/>\n",
              "    <path d=\"M18.56 5.44l.94 2.06.94-2.06 2.06-.94-2.06-.94-.94-2.06-.94 2.06-2.06.94zm-11 1L8.5 8.5l.94-2.06 2.06-.94-2.06-.94L8.5 2.5l-.94 2.06-2.06.94zm10 10l.94 2.06.94-2.06 2.06-.94-2.06-.94-.94-2.06-.94 2.06-2.06.94z\"/><path d=\"M17.41 7.96l-1.37-1.37c-.4-.4-.92-.59-1.43-.59-.52 0-1.04.2-1.43.59L10.3 9.45l-7.72 7.72c-.78.78-.78 2.05 0 2.83L4 21.41c.39.39.9.59 1.41.59.51 0 1.02-.2 1.41-.59l7.78-7.78 2.81-2.81c.8-.78.8-2.07 0-2.86zM5.41 20L4 18.59l7.72-7.72 1.47 1.35L5.41 20z\"/>\n",
              "  </svg>\n",
              "      </button>\n",
              "      \n",
              "  <style>\n",
              "    .colab-df-container {\n",
              "      display:flex;\n",
              "      flex-wrap:wrap;\n",
              "      gap: 12px;\n",
              "    }\n",
              "\n",
              "    .colab-df-convert {\n",
              "      background-color: #E8F0FE;\n",
              "      border: none;\n",
              "      border-radius: 50%;\n",
              "      cursor: pointer;\n",
              "      display: none;\n",
              "      fill: #1967D2;\n",
              "      height: 32px;\n",
              "      padding: 0 0 0 0;\n",
              "      width: 32px;\n",
              "    }\n",
              "\n",
              "    .colab-df-convert:hover {\n",
              "      background-color: #E2EBFA;\n",
              "      box-shadow: 0px 1px 2px rgba(60, 64, 67, 0.3), 0px 1px 3px 1px rgba(60, 64, 67, 0.15);\n",
              "      fill: #174EA6;\n",
              "    }\n",
              "\n",
              "    [theme=dark] .colab-df-convert {\n",
              "      background-color: #3B4455;\n",
              "      fill: #D2E3FC;\n",
              "    }\n",
              "\n",
              "    [theme=dark] .colab-df-convert:hover {\n",
              "      background-color: #434B5C;\n",
              "      box-shadow: 0px 1px 3px 1px rgba(0, 0, 0, 0.15);\n",
              "      filter: drop-shadow(0px 1px 2px rgba(0, 0, 0, 0.3));\n",
              "      fill: #FFFFFF;\n",
              "    }\n",
              "  </style>\n",
              "\n",
              "      <script>\n",
              "        const buttonEl =\n",
              "          document.querySelector('#df-40650725-4ff1-4c0e-96d2-eee11b2f269f button.colab-df-convert');\n",
              "        buttonEl.style.display =\n",
              "          google.colab.kernel.accessAllowed ? 'block' : 'none';\n",
              "\n",
              "        async function convertToInteractive(key) {\n",
              "          const element = document.querySelector('#df-40650725-4ff1-4c0e-96d2-eee11b2f269f');\n",
              "          const dataTable =\n",
              "            await google.colab.kernel.invokeFunction('convertToInteractive',\n",
              "                                                     [key], {});\n",
              "          if (!dataTable) return;\n",
              "\n",
              "          const docLinkHtml = 'Like what you see? Visit the ' +\n",
              "            '<a target=\"_blank\" href=https://colab.research.google.com/notebooks/data_table.ipynb>data table notebook</a>'\n",
              "            + ' to learn more about interactive tables.';\n",
              "          element.innerHTML = '';\n",
              "          dataTable['output_type'] = 'display_data';\n",
              "          await google.colab.output.renderOutput(dataTable, element);\n",
              "          const docLink = document.createElement('div');\n",
              "          docLink.innerHTML = docLinkHtml;\n",
              "          element.appendChild(docLink);\n",
              "        }\n",
              "      </script>\n",
              "    </div>\n",
              "  </div>\n",
              "  "
            ]
          },
          "metadata": {},
          "execution_count": 7
        }
      ],
      "source": [
        "df2 = pd.concat(all_data)\n",
        "df2.head(5)"
      ]
    },
    {
      "cell_type": "code",
      "execution_count": 8,
      "id": "eae19ec4",
      "metadata": {
        "id": "eae19ec4"
      },
      "outputs": [],
      "source": [
        "#convert date to datetime object\n",
        "df1['Date'] = pd.to_datetime(df1['Date'])\n",
        "df2['forecast_date'] = pd.to_datetime(df2['forecast_date'])\n",
        "df2['target_end_date'] = pd.to_datetime(df2['target_end_date'])"
      ]
    },
    {
      "cell_type": "code",
      "execution_count": 9,
      "id": "8171aacd",
      "metadata": {
        "id": "8171aacd",
        "colab": {
          "base_uri": "https://localhost:8080/",
          "height": 424
        },
        "outputId": "f679ac12-5127-4bfa-dc11-aa3aa67be4f7"
      },
      "outputs": [
        {
          "output_type": "execute_result",
          "data": {
            "text/plain": [
              "      location  quantile               target        value   type  \\\n",
              "339         42       NaN  1 wk ahead inc case  3332.788500  point   \n",
              "3475        42       NaN  2 wk ahead inc case  3101.783000  point   \n",
              "339         42       NaN  1 wk ahead inc case  6235.768000  point   \n",
              "6611        42       NaN  3 wk ahead inc case  2958.333000  point   \n",
              "3475        42       NaN  2 wk ahead inc case  6100.513000  point   \n",
              "...        ...       ...                  ...          ...    ...   \n",
              "13051       42       NaN  5 wk ahead inc case  5727.034220  point   \n",
              "16067       42       NaN  6 wk ahead inc case  3277.999171  point   \n",
              "19179       42       NaN  7 wk ahead inc case  2851.823910  point   \n",
              "16187       42       NaN  6 wk ahead inc case  5828.447788  point   \n",
              "19323       42       NaN  7 wk ahead inc case  5889.614130  point   \n",
              "\n",
              "      forecast_date target_end_date  \n",
              "339      2020-08-31      2020-09-05  \n",
              "3475     2020-08-31      2020-09-12  \n",
              "339      2020-09-07      2020-09-12  \n",
              "6611     2020-08-31      2020-09-19  \n",
              "3475     2020-09-07      2020-09-19  \n",
              "...             ...             ...  \n",
              "13051    2022-03-14      2022-04-16  \n",
              "16067    2022-03-07      2022-04-16  \n",
              "19179    2022-03-07      2022-04-23  \n",
              "16187    2022-03-14      2022-04-23  \n",
              "19323    2022-03-14      2022-04-30  \n",
              "\n",
              "[621 rows x 7 columns]"
            ],
            "text/html": [
              "\n",
              "  <div id=\"df-c73eccf8-368d-4fef-a38d-685283e2df9f\">\n",
              "    <div class=\"colab-df-container\">\n",
              "      <div>\n",
              "<style scoped>\n",
              "    .dataframe tbody tr th:only-of-type {\n",
              "        vertical-align: middle;\n",
              "    }\n",
              "\n",
              "    .dataframe tbody tr th {\n",
              "        vertical-align: top;\n",
              "    }\n",
              "\n",
              "    .dataframe thead th {\n",
              "        text-align: right;\n",
              "    }\n",
              "</style>\n",
              "<table border=\"1\" class=\"dataframe\">\n",
              "  <thead>\n",
              "    <tr style=\"text-align: right;\">\n",
              "      <th></th>\n",
              "      <th>location</th>\n",
              "      <th>quantile</th>\n",
              "      <th>target</th>\n",
              "      <th>value</th>\n",
              "      <th>type</th>\n",
              "      <th>forecast_date</th>\n",
              "      <th>target_end_date</th>\n",
              "    </tr>\n",
              "  </thead>\n",
              "  <tbody>\n",
              "    <tr>\n",
              "      <th>339</th>\n",
              "      <td>42</td>\n",
              "      <td>NaN</td>\n",
              "      <td>1 wk ahead inc case</td>\n",
              "      <td>3332.788500</td>\n",
              "      <td>point</td>\n",
              "      <td>2020-08-31</td>\n",
              "      <td>2020-09-05</td>\n",
              "    </tr>\n",
              "    <tr>\n",
              "      <th>3475</th>\n",
              "      <td>42</td>\n",
              "      <td>NaN</td>\n",
              "      <td>2 wk ahead inc case</td>\n",
              "      <td>3101.783000</td>\n",
              "      <td>point</td>\n",
              "      <td>2020-08-31</td>\n",
              "      <td>2020-09-12</td>\n",
              "    </tr>\n",
              "    <tr>\n",
              "      <th>339</th>\n",
              "      <td>42</td>\n",
              "      <td>NaN</td>\n",
              "      <td>1 wk ahead inc case</td>\n",
              "      <td>6235.768000</td>\n",
              "      <td>point</td>\n",
              "      <td>2020-09-07</td>\n",
              "      <td>2020-09-12</td>\n",
              "    </tr>\n",
              "    <tr>\n",
              "      <th>6611</th>\n",
              "      <td>42</td>\n",
              "      <td>NaN</td>\n",
              "      <td>3 wk ahead inc case</td>\n",
              "      <td>2958.333000</td>\n",
              "      <td>point</td>\n",
              "      <td>2020-08-31</td>\n",
              "      <td>2020-09-19</td>\n",
              "    </tr>\n",
              "    <tr>\n",
              "      <th>3475</th>\n",
              "      <td>42</td>\n",
              "      <td>NaN</td>\n",
              "      <td>2 wk ahead inc case</td>\n",
              "      <td>6100.513000</td>\n",
              "      <td>point</td>\n",
              "      <td>2020-09-07</td>\n",
              "      <td>2020-09-19</td>\n",
              "    </tr>\n",
              "    <tr>\n",
              "      <th>...</th>\n",
              "      <td>...</td>\n",
              "      <td>...</td>\n",
              "      <td>...</td>\n",
              "      <td>...</td>\n",
              "      <td>...</td>\n",
              "      <td>...</td>\n",
              "      <td>...</td>\n",
              "    </tr>\n",
              "    <tr>\n",
              "      <th>13051</th>\n",
              "      <td>42</td>\n",
              "      <td>NaN</td>\n",
              "      <td>5 wk ahead inc case</td>\n",
              "      <td>5727.034220</td>\n",
              "      <td>point</td>\n",
              "      <td>2022-03-14</td>\n",
              "      <td>2022-04-16</td>\n",
              "    </tr>\n",
              "    <tr>\n",
              "      <th>16067</th>\n",
              "      <td>42</td>\n",
              "      <td>NaN</td>\n",
              "      <td>6 wk ahead inc case</td>\n",
              "      <td>3277.999171</td>\n",
              "      <td>point</td>\n",
              "      <td>2022-03-07</td>\n",
              "      <td>2022-04-16</td>\n",
              "    </tr>\n",
              "    <tr>\n",
              "      <th>19179</th>\n",
              "      <td>42</td>\n",
              "      <td>NaN</td>\n",
              "      <td>7 wk ahead inc case</td>\n",
              "      <td>2851.823910</td>\n",
              "      <td>point</td>\n",
              "      <td>2022-03-07</td>\n",
              "      <td>2022-04-23</td>\n",
              "    </tr>\n",
              "    <tr>\n",
              "      <th>16187</th>\n",
              "      <td>42</td>\n",
              "      <td>NaN</td>\n",
              "      <td>6 wk ahead inc case</td>\n",
              "      <td>5828.447788</td>\n",
              "      <td>point</td>\n",
              "      <td>2022-03-14</td>\n",
              "      <td>2022-04-23</td>\n",
              "    </tr>\n",
              "    <tr>\n",
              "      <th>19323</th>\n",
              "      <td>42</td>\n",
              "      <td>NaN</td>\n",
              "      <td>7 wk ahead inc case</td>\n",
              "      <td>5889.614130</td>\n",
              "      <td>point</td>\n",
              "      <td>2022-03-14</td>\n",
              "      <td>2022-04-30</td>\n",
              "    </tr>\n",
              "  </tbody>\n",
              "</table>\n",
              "<p>621 rows × 7 columns</p>\n",
              "</div>\n",
              "      <button class=\"colab-df-convert\" onclick=\"convertToInteractive('df-c73eccf8-368d-4fef-a38d-685283e2df9f')\"\n",
              "              title=\"Convert this dataframe to an interactive table.\"\n",
              "              style=\"display:none;\">\n",
              "        \n",
              "  <svg xmlns=\"http://www.w3.org/2000/svg\" height=\"24px\"viewBox=\"0 0 24 24\"\n",
              "       width=\"24px\">\n",
              "    <path d=\"M0 0h24v24H0V0z\" fill=\"none\"/>\n",
              "    <path d=\"M18.56 5.44l.94 2.06.94-2.06 2.06-.94-2.06-.94-.94-2.06-.94 2.06-2.06.94zm-11 1L8.5 8.5l.94-2.06 2.06-.94-2.06-.94L8.5 2.5l-.94 2.06-2.06.94zm10 10l.94 2.06.94-2.06 2.06-.94-2.06-.94-.94-2.06-.94 2.06-2.06.94z\"/><path d=\"M17.41 7.96l-1.37-1.37c-.4-.4-.92-.59-1.43-.59-.52 0-1.04.2-1.43.59L10.3 9.45l-7.72 7.72c-.78.78-.78 2.05 0 2.83L4 21.41c.39.39.9.59 1.41.59.51 0 1.02-.2 1.41-.59l7.78-7.78 2.81-2.81c.8-.78.8-2.07 0-2.86zM5.41 20L4 18.59l7.72-7.72 1.47 1.35L5.41 20z\"/>\n",
              "  </svg>\n",
              "      </button>\n",
              "      \n",
              "  <style>\n",
              "    .colab-df-container {\n",
              "      display:flex;\n",
              "      flex-wrap:wrap;\n",
              "      gap: 12px;\n",
              "    }\n",
              "\n",
              "    .colab-df-convert {\n",
              "      background-color: #E8F0FE;\n",
              "      border: none;\n",
              "      border-radius: 50%;\n",
              "      cursor: pointer;\n",
              "      display: none;\n",
              "      fill: #1967D2;\n",
              "      height: 32px;\n",
              "      padding: 0 0 0 0;\n",
              "      width: 32px;\n",
              "    }\n",
              "\n",
              "    .colab-df-convert:hover {\n",
              "      background-color: #E2EBFA;\n",
              "      box-shadow: 0px 1px 2px rgba(60, 64, 67, 0.3), 0px 1px 3px 1px rgba(60, 64, 67, 0.15);\n",
              "      fill: #174EA6;\n",
              "    }\n",
              "\n",
              "    [theme=dark] .colab-df-convert {\n",
              "      background-color: #3B4455;\n",
              "      fill: #D2E3FC;\n",
              "    }\n",
              "\n",
              "    [theme=dark] .colab-df-convert:hover {\n",
              "      background-color: #434B5C;\n",
              "      box-shadow: 0px 1px 3px 1px rgba(0, 0, 0, 0.15);\n",
              "      filter: drop-shadow(0px 1px 2px rgba(0, 0, 0, 0.3));\n",
              "      fill: #FFFFFF;\n",
              "    }\n",
              "  </style>\n",
              "\n",
              "      <script>\n",
              "        const buttonEl =\n",
              "          document.querySelector('#df-c73eccf8-368d-4fef-a38d-685283e2df9f button.colab-df-convert');\n",
              "        buttonEl.style.display =\n",
              "          google.colab.kernel.accessAllowed ? 'block' : 'none';\n",
              "\n",
              "        async function convertToInteractive(key) {\n",
              "          const element = document.querySelector('#df-c73eccf8-368d-4fef-a38d-685283e2df9f');\n",
              "          const dataTable =\n",
              "            await google.colab.kernel.invokeFunction('convertToInteractive',\n",
              "                                                     [key], {});\n",
              "          if (!dataTable) return;\n",
              "\n",
              "          const docLinkHtml = 'Like what you see? Visit the ' +\n",
              "            '<a target=\"_blank\" href=https://colab.research.google.com/notebooks/data_table.ipynb>data table notebook</a>'\n",
              "            + ' to learn more about interactive tables.';\n",
              "          element.innerHTML = '';\n",
              "          dataTable['output_type'] = 'display_data';\n",
              "          await google.colab.output.renderOutput(dataTable, element);\n",
              "          const docLink = document.createElement('div');\n",
              "          docLink.innerHTML = docLinkHtml;\n",
              "          element.appendChild(docLink);\n",
              "        }\n",
              "      </script>\n",
              "    </div>\n",
              "  </div>\n",
              "  "
            ]
          },
          "metadata": {},
          "execution_count": 9
        }
      ],
      "source": [
        "#sort datasets by date\n",
        "df1.sort_values(by='Date')\n",
        "df2.sort_values(by='target_end_date')"
      ]
    },
    {
      "cell_type": "code",
      "execution_count": 10,
      "id": "62636568",
      "metadata": {
        "id": "62636568",
        "outputId": "dc4091fa-34b3-4fd0-9eee-9d80465c0128",
        "colab": {
          "base_uri": "https://localhost:8080/"
        }
      },
      "outputs": [
        {
          "output_type": "execute_result",
          "data": {
            "text/plain": [
              "(81, 7)"
            ]
          },
          "metadata": {},
          "execution_count": 10
        }
      ],
      "source": [
        "#filterinng out data for PA (FIPS code = 42)\n",
        "df2_2 = df2[df2['target'].str.contains('1')]\n",
        "df2_2.shape"
      ]
    },
    {
      "cell_type": "code",
      "execution_count": 11,
      "id": "e4c01c47",
      "metadata": {
        "id": "e4c01c47"
      },
      "outputs": [],
      "source": [
        "#finding weekly increase in cases in PA\n",
        "df_weekly=df2_2.groupby('target_end_date').agg('last').reset_index()\n",
        "df_weekly.rename(\n",
        "    columns={\"target_end_date\":\"Date\"},inplace=True)\n",
        "#df_weekly"
      ]
    },
    {
      "cell_type": "code",
      "execution_count": 12,
      "id": "c6e2730d",
      "metadata": {
        "id": "c6e2730d",
        "colab": {
          "base_uri": "https://localhost:8080/",
          "height": 206
        },
        "outputId": "68371e15-0051-47ee-c41b-e7a76f7c69e5"
      },
      "outputs": [
        {
          "output_type": "execute_result",
          "data": {
            "text/plain": [
              "        Date location  quantile               target      value   type  \\\n",
              "0 2020-09-05       42       NaN  1 wk ahead inc case  3332.7885  point   \n",
              "1 2020-09-12       42       NaN  1 wk ahead inc case  6235.7680  point   \n",
              "2 2020-09-19       42       NaN  1 wk ahead inc case  5325.1360  point   \n",
              "3 2020-09-26       42       NaN  1 wk ahead inc case  5984.2095  point   \n",
              "4 2020-10-03       42       NaN  1 wk ahead inc case  5496.9085  point   \n",
              "\n",
              "  forecast_date     dayRate  \n",
              "0    2020-08-31  476.112643  \n",
              "1    2020-09-07  890.824000  \n",
              "2    2020-09-14  760.733714  \n",
              "3    2020-09-21  854.887071  \n",
              "4    2020-09-28  785.272643  "
            ],
            "text/html": [
              "\n",
              "  <div id=\"df-fdb85b59-d23c-40af-89d4-8cb1ac1a1149\">\n",
              "    <div class=\"colab-df-container\">\n",
              "      <div>\n",
              "<style scoped>\n",
              "    .dataframe tbody tr th:only-of-type {\n",
              "        vertical-align: middle;\n",
              "    }\n",
              "\n",
              "    .dataframe tbody tr th {\n",
              "        vertical-align: top;\n",
              "    }\n",
              "\n",
              "    .dataframe thead th {\n",
              "        text-align: right;\n",
              "    }\n",
              "</style>\n",
              "<table border=\"1\" class=\"dataframe\">\n",
              "  <thead>\n",
              "    <tr style=\"text-align: right;\">\n",
              "      <th></th>\n",
              "      <th>Date</th>\n",
              "      <th>location</th>\n",
              "      <th>quantile</th>\n",
              "      <th>target</th>\n",
              "      <th>value</th>\n",
              "      <th>type</th>\n",
              "      <th>forecast_date</th>\n",
              "      <th>dayRate</th>\n",
              "    </tr>\n",
              "  </thead>\n",
              "  <tbody>\n",
              "    <tr>\n",
              "      <th>0</th>\n",
              "      <td>2020-09-05</td>\n",
              "      <td>42</td>\n",
              "      <td>NaN</td>\n",
              "      <td>1 wk ahead inc case</td>\n",
              "      <td>3332.7885</td>\n",
              "      <td>point</td>\n",
              "      <td>2020-08-31</td>\n",
              "      <td>476.112643</td>\n",
              "    </tr>\n",
              "    <tr>\n",
              "      <th>1</th>\n",
              "      <td>2020-09-12</td>\n",
              "      <td>42</td>\n",
              "      <td>NaN</td>\n",
              "      <td>1 wk ahead inc case</td>\n",
              "      <td>6235.7680</td>\n",
              "      <td>point</td>\n",
              "      <td>2020-09-07</td>\n",
              "      <td>890.824000</td>\n",
              "    </tr>\n",
              "    <tr>\n",
              "      <th>2</th>\n",
              "      <td>2020-09-19</td>\n",
              "      <td>42</td>\n",
              "      <td>NaN</td>\n",
              "      <td>1 wk ahead inc case</td>\n",
              "      <td>5325.1360</td>\n",
              "      <td>point</td>\n",
              "      <td>2020-09-14</td>\n",
              "      <td>760.733714</td>\n",
              "    </tr>\n",
              "    <tr>\n",
              "      <th>3</th>\n",
              "      <td>2020-09-26</td>\n",
              "      <td>42</td>\n",
              "      <td>NaN</td>\n",
              "      <td>1 wk ahead inc case</td>\n",
              "      <td>5984.2095</td>\n",
              "      <td>point</td>\n",
              "      <td>2020-09-21</td>\n",
              "      <td>854.887071</td>\n",
              "    </tr>\n",
              "    <tr>\n",
              "      <th>4</th>\n",
              "      <td>2020-10-03</td>\n",
              "      <td>42</td>\n",
              "      <td>NaN</td>\n",
              "      <td>1 wk ahead inc case</td>\n",
              "      <td>5496.9085</td>\n",
              "      <td>point</td>\n",
              "      <td>2020-09-28</td>\n",
              "      <td>785.272643</td>\n",
              "    </tr>\n",
              "  </tbody>\n",
              "</table>\n",
              "</div>\n",
              "      <button class=\"colab-df-convert\" onclick=\"convertToInteractive('df-fdb85b59-d23c-40af-89d4-8cb1ac1a1149')\"\n",
              "              title=\"Convert this dataframe to an interactive table.\"\n",
              "              style=\"display:none;\">\n",
              "        \n",
              "  <svg xmlns=\"http://www.w3.org/2000/svg\" height=\"24px\"viewBox=\"0 0 24 24\"\n",
              "       width=\"24px\">\n",
              "    <path d=\"M0 0h24v24H0V0z\" fill=\"none\"/>\n",
              "    <path d=\"M18.56 5.44l.94 2.06.94-2.06 2.06-.94-2.06-.94-.94-2.06-.94 2.06-2.06.94zm-11 1L8.5 8.5l.94-2.06 2.06-.94-2.06-.94L8.5 2.5l-.94 2.06-2.06.94zm10 10l.94 2.06.94-2.06 2.06-.94-2.06-.94-.94-2.06-.94 2.06-2.06.94z\"/><path d=\"M17.41 7.96l-1.37-1.37c-.4-.4-.92-.59-1.43-.59-.52 0-1.04.2-1.43.59L10.3 9.45l-7.72 7.72c-.78.78-.78 2.05 0 2.83L4 21.41c.39.39.9.59 1.41.59.51 0 1.02-.2 1.41-.59l7.78-7.78 2.81-2.81c.8-.78.8-2.07 0-2.86zM5.41 20L4 18.59l7.72-7.72 1.47 1.35L5.41 20z\"/>\n",
              "  </svg>\n",
              "      </button>\n",
              "      \n",
              "  <style>\n",
              "    .colab-df-container {\n",
              "      display:flex;\n",
              "      flex-wrap:wrap;\n",
              "      gap: 12px;\n",
              "    }\n",
              "\n",
              "    .colab-df-convert {\n",
              "      background-color: #E8F0FE;\n",
              "      border: none;\n",
              "      border-radius: 50%;\n",
              "      cursor: pointer;\n",
              "      display: none;\n",
              "      fill: #1967D2;\n",
              "      height: 32px;\n",
              "      padding: 0 0 0 0;\n",
              "      width: 32px;\n",
              "    }\n",
              "\n",
              "    .colab-df-convert:hover {\n",
              "      background-color: #E2EBFA;\n",
              "      box-shadow: 0px 1px 2px rgba(60, 64, 67, 0.3), 0px 1px 3px 1px rgba(60, 64, 67, 0.15);\n",
              "      fill: #174EA6;\n",
              "    }\n",
              "\n",
              "    [theme=dark] .colab-df-convert {\n",
              "      background-color: #3B4455;\n",
              "      fill: #D2E3FC;\n",
              "    }\n",
              "\n",
              "    [theme=dark] .colab-df-convert:hover {\n",
              "      background-color: #434B5C;\n",
              "      box-shadow: 0px 1px 3px 1px rgba(0, 0, 0, 0.15);\n",
              "      filter: drop-shadow(0px 1px 2px rgba(0, 0, 0, 0.3));\n",
              "      fill: #FFFFFF;\n",
              "    }\n",
              "  </style>\n",
              "\n",
              "      <script>\n",
              "        const buttonEl =\n",
              "          document.querySelector('#df-fdb85b59-d23c-40af-89d4-8cb1ac1a1149 button.colab-df-convert');\n",
              "        buttonEl.style.display =\n",
              "          google.colab.kernel.accessAllowed ? 'block' : 'none';\n",
              "\n",
              "        async function convertToInteractive(key) {\n",
              "          const element = document.querySelector('#df-fdb85b59-d23c-40af-89d4-8cb1ac1a1149');\n",
              "          const dataTable =\n",
              "            await google.colab.kernel.invokeFunction('convertToInteractive',\n",
              "                                                     [key], {});\n",
              "          if (!dataTable) return;\n",
              "\n",
              "          const docLinkHtml = 'Like what you see? Visit the ' +\n",
              "            '<a target=\"_blank\" href=https://colab.research.google.com/notebooks/data_table.ipynb>data table notebook</a>'\n",
              "            + ' to learn more about interactive tables.';\n",
              "          element.innerHTML = '';\n",
              "          dataTable['output_type'] = 'display_data';\n",
              "          await google.colab.output.renderOutput(dataTable, element);\n",
              "          const docLink = document.createElement('div');\n",
              "          docLink.innerHTML = docLinkHtml;\n",
              "          element.appendChild(docLink);\n",
              "        }\n",
              "      </script>\n",
              "    </div>\n",
              "  </div>\n",
              "  "
            ]
          },
          "metadata": {},
          "execution_count": 12
        }
      ],
      "source": [
        "#creating a column for daily additions\n",
        "df_weekly[\"dayRate\"] = df_weekly[\"value\"] / 7\n",
        "mask = (df_weekly['Date'] <= '2022-02-15')\n",
        "df_weekly = df_weekly.loc[mask]\n",
        "df_weekly.head(5)"
      ]
    },
    {
      "cell_type": "code",
      "source": [
        "df_weekly.tail(5)"
      ],
      "metadata": {
        "colab": {
          "base_uri": "https://localhost:8080/",
          "height": 206
        },
        "id": "IWOjMO4aou2N",
        "outputId": "8c2b18b2-9ed5-46c7-af87-eb680ed608bc"
      },
      "id": "IWOjMO4aou2N",
      "execution_count": 13,
      "outputs": [
        {
          "output_type": "execute_result",
          "data": {
            "text/plain": [
              "         Date location  quantile               target          value   type  \\\n",
              "71 2022-01-15       42       NaN  1 wk ahead inc case  264612.961459  point   \n",
              "72 2022-01-22       42       NaN  1 wk ahead inc case  226668.810903  point   \n",
              "73 2022-01-29       42       NaN  1 wk ahead inc case  107562.276229  point   \n",
              "74 2022-02-05       42       NaN  1 wk ahead inc case   57656.694938  point   \n",
              "75 2022-02-12       42       NaN  1 wk ahead inc case   31924.375256  point   \n",
              "\n",
              "   forecast_date       dayRate  \n",
              "71    2022-01-10  37801.851637  \n",
              "72    2022-01-17  32381.258700  \n",
              "73    2022-01-24  15366.039461  \n",
              "74    2022-01-31   8236.670705  \n",
              "75    2022-02-07   4560.625037  "
            ],
            "text/html": [
              "\n",
              "  <div id=\"df-55678b8f-e11d-42d0-8338-eaa8958317f3\">\n",
              "    <div class=\"colab-df-container\">\n",
              "      <div>\n",
              "<style scoped>\n",
              "    .dataframe tbody tr th:only-of-type {\n",
              "        vertical-align: middle;\n",
              "    }\n",
              "\n",
              "    .dataframe tbody tr th {\n",
              "        vertical-align: top;\n",
              "    }\n",
              "\n",
              "    .dataframe thead th {\n",
              "        text-align: right;\n",
              "    }\n",
              "</style>\n",
              "<table border=\"1\" class=\"dataframe\">\n",
              "  <thead>\n",
              "    <tr style=\"text-align: right;\">\n",
              "      <th></th>\n",
              "      <th>Date</th>\n",
              "      <th>location</th>\n",
              "      <th>quantile</th>\n",
              "      <th>target</th>\n",
              "      <th>value</th>\n",
              "      <th>type</th>\n",
              "      <th>forecast_date</th>\n",
              "      <th>dayRate</th>\n",
              "    </tr>\n",
              "  </thead>\n",
              "  <tbody>\n",
              "    <tr>\n",
              "      <th>71</th>\n",
              "      <td>2022-01-15</td>\n",
              "      <td>42</td>\n",
              "      <td>NaN</td>\n",
              "      <td>1 wk ahead inc case</td>\n",
              "      <td>264612.961459</td>\n",
              "      <td>point</td>\n",
              "      <td>2022-01-10</td>\n",
              "      <td>37801.851637</td>\n",
              "    </tr>\n",
              "    <tr>\n",
              "      <th>72</th>\n",
              "      <td>2022-01-22</td>\n",
              "      <td>42</td>\n",
              "      <td>NaN</td>\n",
              "      <td>1 wk ahead inc case</td>\n",
              "      <td>226668.810903</td>\n",
              "      <td>point</td>\n",
              "      <td>2022-01-17</td>\n",
              "      <td>32381.258700</td>\n",
              "    </tr>\n",
              "    <tr>\n",
              "      <th>73</th>\n",
              "      <td>2022-01-29</td>\n",
              "      <td>42</td>\n",
              "      <td>NaN</td>\n",
              "      <td>1 wk ahead inc case</td>\n",
              "      <td>107562.276229</td>\n",
              "      <td>point</td>\n",
              "      <td>2022-01-24</td>\n",
              "      <td>15366.039461</td>\n",
              "    </tr>\n",
              "    <tr>\n",
              "      <th>74</th>\n",
              "      <td>2022-02-05</td>\n",
              "      <td>42</td>\n",
              "      <td>NaN</td>\n",
              "      <td>1 wk ahead inc case</td>\n",
              "      <td>57656.694938</td>\n",
              "      <td>point</td>\n",
              "      <td>2022-01-31</td>\n",
              "      <td>8236.670705</td>\n",
              "    </tr>\n",
              "    <tr>\n",
              "      <th>75</th>\n",
              "      <td>2022-02-12</td>\n",
              "      <td>42</td>\n",
              "      <td>NaN</td>\n",
              "      <td>1 wk ahead inc case</td>\n",
              "      <td>31924.375256</td>\n",
              "      <td>point</td>\n",
              "      <td>2022-02-07</td>\n",
              "      <td>4560.625037</td>\n",
              "    </tr>\n",
              "  </tbody>\n",
              "</table>\n",
              "</div>\n",
              "      <button class=\"colab-df-convert\" onclick=\"convertToInteractive('df-55678b8f-e11d-42d0-8338-eaa8958317f3')\"\n",
              "              title=\"Convert this dataframe to an interactive table.\"\n",
              "              style=\"display:none;\">\n",
              "        \n",
              "  <svg xmlns=\"http://www.w3.org/2000/svg\" height=\"24px\"viewBox=\"0 0 24 24\"\n",
              "       width=\"24px\">\n",
              "    <path d=\"M0 0h24v24H0V0z\" fill=\"none\"/>\n",
              "    <path d=\"M18.56 5.44l.94 2.06.94-2.06 2.06-.94-2.06-.94-.94-2.06-.94 2.06-2.06.94zm-11 1L8.5 8.5l.94-2.06 2.06-.94-2.06-.94L8.5 2.5l-.94 2.06-2.06.94zm10 10l.94 2.06.94-2.06 2.06-.94-2.06-.94-.94-2.06-.94 2.06-2.06.94z\"/><path d=\"M17.41 7.96l-1.37-1.37c-.4-.4-.92-.59-1.43-.59-.52 0-1.04.2-1.43.59L10.3 9.45l-7.72 7.72c-.78.78-.78 2.05 0 2.83L4 21.41c.39.39.9.59 1.41.59.51 0 1.02-.2 1.41-.59l7.78-7.78 2.81-2.81c.8-.78.8-2.07 0-2.86zM5.41 20L4 18.59l7.72-7.72 1.47 1.35L5.41 20z\"/>\n",
              "  </svg>\n",
              "      </button>\n",
              "      \n",
              "  <style>\n",
              "    .colab-df-container {\n",
              "      display:flex;\n",
              "      flex-wrap:wrap;\n",
              "      gap: 12px;\n",
              "    }\n",
              "\n",
              "    .colab-df-convert {\n",
              "      background-color: #E8F0FE;\n",
              "      border: none;\n",
              "      border-radius: 50%;\n",
              "      cursor: pointer;\n",
              "      display: none;\n",
              "      fill: #1967D2;\n",
              "      height: 32px;\n",
              "      padding: 0 0 0 0;\n",
              "      width: 32px;\n",
              "    }\n",
              "\n",
              "    .colab-df-convert:hover {\n",
              "      background-color: #E2EBFA;\n",
              "      box-shadow: 0px 1px 2px rgba(60, 64, 67, 0.3), 0px 1px 3px 1px rgba(60, 64, 67, 0.15);\n",
              "      fill: #174EA6;\n",
              "    }\n",
              "\n",
              "    [theme=dark] .colab-df-convert {\n",
              "      background-color: #3B4455;\n",
              "      fill: #D2E3FC;\n",
              "    }\n",
              "\n",
              "    [theme=dark] .colab-df-convert:hover {\n",
              "      background-color: #434B5C;\n",
              "      box-shadow: 0px 1px 3px 1px rgba(0, 0, 0, 0.15);\n",
              "      filter: drop-shadow(0px 1px 2px rgba(0, 0, 0, 0.3));\n",
              "      fill: #FFFFFF;\n",
              "    }\n",
              "  </style>\n",
              "\n",
              "      <script>\n",
              "        const buttonEl =\n",
              "          document.querySelector('#df-55678b8f-e11d-42d0-8338-eaa8958317f3 button.colab-df-convert');\n",
              "        buttonEl.style.display =\n",
              "          google.colab.kernel.accessAllowed ? 'block' : 'none';\n",
              "\n",
              "        async function convertToInteractive(key) {\n",
              "          const element = document.querySelector('#df-55678b8f-e11d-42d0-8338-eaa8958317f3');\n",
              "          const dataTable =\n",
              "            await google.colab.kernel.invokeFunction('convertToInteractive',\n",
              "                                                     [key], {});\n",
              "          if (!dataTable) return;\n",
              "\n",
              "          const docLinkHtml = 'Like what you see? Visit the ' +\n",
              "            '<a target=\"_blank\" href=https://colab.research.google.com/notebooks/data_table.ipynb>data table notebook</a>'\n",
              "            + ' to learn more about interactive tables.';\n",
              "          element.innerHTML = '';\n",
              "          dataTable['output_type'] = 'display_data';\n",
              "          await google.colab.output.renderOutput(dataTable, element);\n",
              "          const docLink = document.createElement('div');\n",
              "          docLink.innerHTML = docLinkHtml;\n",
              "          element.appendChild(docLink);\n",
              "        }\n",
              "      </script>\n",
              "    </div>\n",
              "  </div>\n",
              "  "
            ]
          },
          "metadata": {},
          "execution_count": 13
        }
      ]
    },
    {
      "cell_type": "code",
      "source": [
        "# creating a list of predictions from the model data\n",
        "predictions = []\n",
        "for i in df_weekly[\"dayRate\"]:\n",
        "    predictions.extend(repeat(i,7))\n",
        "#del predictions[-2:]\n",
        "#preds = pd.DataFrame(predictions)\n",
        "#preds.drop(preds.tail(2).index,inplace=True) \n",
        "print(predictions)"
      ],
      "metadata": {
        "colab": {
          "base_uri": "https://localhost:8080/"
        },
        "id": "7M7bH5ao6y_t",
        "outputId": "3807574c-90e7-4d2b-dc8a-ec3de0e55153"
      },
      "id": "7M7bH5ao6y_t",
      "execution_count": 15,
      "outputs": [
        {
          "output_type": "stream",
          "name": "stdout",
          "text": [
            "[476.112642857143, 476.112642857143, 476.112642857143, 476.112642857143, 476.112642857143, 476.112642857143, 476.112642857143, 890.8240000000003, 890.8240000000003, 890.8240000000003, 890.8240000000003, 890.8240000000003, 890.8240000000003, 890.8240000000003, 760.7337142857143, 760.7337142857143, 760.7337142857143, 760.7337142857143, 760.7337142857143, 760.7337142857143, 760.7337142857143, 854.8870714285713, 854.8870714285713, 854.8870714285713, 854.8870714285713, 854.8870714285713, 854.8870714285713, 854.8870714285713, 785.2726428571431, 785.2726428571431, 785.2726428571431, 785.2726428571431, 785.2726428571431, 785.2726428571431, 785.2726428571431, 1026.604, 1026.604, 1026.604, 1026.604, 1026.604, 1026.604, 1026.604, 1179.6379550315648, 1179.6379550315648, 1179.6379550315648, 1179.6379550315648, 1179.6379550315648, 1179.6379550315648, 1179.6379550315648, 1353.462999146083, 1353.462999146083, 1353.462999146083, 1353.462999146083, 1353.462999146083, 1353.462999146083, 1353.462999146083, 1472.3167074381342, 1472.3167074381342, 1472.3167074381342, 1472.3167074381342, 1472.3167074381342, 1472.3167074381342, 1472.3167074381342, 2169.9022771199234, 2169.9022771199234, 2169.9022771199234, 2169.9022771199234, 2169.9022771199234, 2169.9022771199234, 2169.9022771199234, 2684.980816066738, 2684.980816066738, 2684.980816066738, 2684.980816066738, 2684.980816066738, 2684.980816066738, 2684.980816066738, 6590.054412964457, 6590.054412964457, 6590.054412964457, 6590.054412964457, 6590.054412964457, 6590.054412964457, 6590.054412964457, 9574.868018997682, 9574.868018997682, 9574.868018997682, 9574.868018997682, 9574.868018997682, 9574.868018997682, 9574.868018997682, 8035.193048876192, 8035.193048876192, 8035.193048876192, 8035.193048876192, 8035.193048876192, 8035.193048876192, 8035.193048876192, 10469.91919544904, 10469.91919544904, 10469.91919544904, 10469.91919544904, 10469.91919544904, 10469.91919544904, 10469.91919544904, 12929.698246810873, 12929.698246810873, 12929.698246810873, 12929.698246810873, 12929.698246810873, 12929.698246810873, 12929.698246810873, 11882.36908128156, 11882.36908128156, 11882.36908128156, 11882.36908128156, 11882.36908128156, 11882.36908128156, 11882.36908128156, 7754.317326784692, 7754.317326784692, 7754.317326784692, 7754.317326784692, 7754.317326784692, 7754.317326784692, 7754.317326784692, 7025.158707230459, 7025.158707230459, 7025.158707230459, 7025.158707230459, 7025.158707230459, 7025.158707230459, 7025.158707230459, 6813.38777119235, 6813.38777119235, 6813.38777119235, 6813.38777119235, 6813.38777119235, 6813.38777119235, 6813.38777119235, 7144.299264686544, 7144.299264686544, 7144.299264686544, 7144.299264686544, 7144.299264686544, 7144.299264686544, 7144.299264686544, 4356.336185037373, 4356.336185037373, 4356.336185037373, 4356.336185037373, 4356.336185037373, 4356.336185037373, 4356.336185037373, 3830.44277925411, 3830.44277925411, 3830.44277925411, 3830.44277925411, 3830.44277925411, 3830.44277925411, 3830.44277925411, 4620.3192120652375, 4620.3192120652375, 4620.3192120652375, 4620.3192120652375, 4620.3192120652375, 4620.3192120652375, 4620.3192120652375, 2491.6565277585855, 2491.6565277585855, 2491.6565277585855, 2491.6565277585855, 2491.6565277585855, 2491.6565277585855, 2491.6565277585855, 2252.931257668741, 2252.931257668741, 2252.931257668741, 2252.931257668741, 2252.931257668741, 2252.931257668741, 2252.931257668741, 2404.680388218713, 2404.680388218713, 2404.680388218713, 2404.680388218713, 2404.680388218713, 2404.680388218713, 2404.680388218713, 1635.2540811601637, 1635.2540811601637, 1635.2540811601637, 1635.2540811601637, 1635.2540811601637, 1635.2540811601637, 1635.2540811601637, 2063.5959311631573, 2063.5959311631573, 2063.5959311631573, 2063.5959311631573, 2063.5959311631573, 2063.5959311631573, 2063.5959311631573, 2724.089471428572, 2724.089471428572, 2724.089471428572, 2724.089471428572, 2724.089471428572, 2724.089471428572, 2724.089471428572, 3667.254957142857, 3667.254957142857, 3667.254957142857, 3667.254957142857, 3667.254957142857, 3667.254957142857, 3667.254957142857, 4862.752214285714, 4862.752214285714, 4862.752214285714, 4862.752214285714, 4862.752214285714, 4862.752214285714, 4862.752214285714, 6198.5403857142865, 6198.5403857142865, 6198.5403857142865, 6198.5403857142865, 6198.5403857142865, 6198.5403857142865, 6198.5403857142865, 4758.622314285714, 4758.622314285714, 4758.622314285714, 4758.622314285714, 4758.622314285714, 4758.622314285714, 4758.622314285714, 3833.5792285714283, 3833.5792285714283, 3833.5792285714283, 3833.5792285714283, 3833.5792285714283, 3833.5792285714283, 3833.5792285714283, 3026.731957142857, 3026.731957142857, 3026.731957142857, 3026.731957142857, 3026.731957142857, 3026.731957142857, 3026.731957142857, 2298.283085714286, 2298.283085714286, 2298.283085714286, 2298.283085714286, 2298.283085714286, 2298.283085714286, 2298.283085714286, 1669.4364285714285, 1669.4364285714285, 1669.4364285714285, 1669.4364285714285, 1669.4364285714285, 1669.4364285714285, 1669.4364285714285, 1047.8526, 1047.8526, 1047.8526, 1047.8526, 1047.8526, 1047.8526, 1047.8526, 994.9085142857144, 994.9085142857144, 994.9085142857144, 994.9085142857144, 994.9085142857144, 994.9085142857144, 994.9085142857144, 553.7595557142857, 553.7595557142857, 553.7595557142857, 553.7595557142857, 553.7595557142857, 553.7595557142857, 553.7595557142857, 417.8945728571429, 417.8945728571429, 417.8945728571429, 417.8945728571429, 417.8945728571429, 417.8945728571429, 417.8945728571429, 221.6917485714285, 221.6917485714285, 221.6917485714285, 221.6917485714285, 221.6917485714285, 221.6917485714285, 221.6917485714285, 105.02579928571429, 105.02579928571429, 105.02579928571429, 105.02579928571429, 105.02579928571429, 105.02579928571429, 105.02579928571429, 149.2404742857143, 149.2404742857143, 149.2404742857143, 149.2404742857143, 149.2404742857143, 149.2404742857143, 149.2404742857143, 84.31067485714287, 84.31067485714287, 84.31067485714287, 84.31067485714287, 84.31067485714287, 84.31067485714287, 84.31067485714287, 149.8205957142857, 149.8205957142857, 149.8205957142857, 149.8205957142857, 149.8205957142857, 149.8205957142857, 149.8205957142857, 968.694022857143, 968.694022857143, 968.694022857143, 968.694022857143, 968.694022857143, 968.694022857143, 968.694022857143, 1159.2060999999999, 1159.2060999999999, 1159.2060999999999, 1159.2060999999999, 1159.2060999999999, 1159.2060999999999, 1159.2060999999999, 2823.5040571428576, 2823.5040571428576, 2823.5040571428576, 2823.5040571428576, 2823.5040571428576, 2823.5040571428576, 2823.5040571428576, 2576.444314285714, 2576.444314285714, 2576.444314285714, 2576.444314285714, 2576.444314285714, 2576.444314285714, 2576.444314285714, 3620.9271428571433, 3620.9271428571433, 3620.9271428571433, 3620.9271428571433, 3620.9271428571433, 3620.9271428571433, 3620.9271428571433, 3932.552800000001, 3932.552800000001, 3932.552800000001, 3932.552800000001, 3932.552800000001, 3932.552800000001, 3932.552800000001, 3355.5558857142855, 3355.5558857142855, 3355.5558857142855, 3355.5558857142855, 3355.5558857142855, 3355.5558857142855, 3355.5558857142855, 3444.3483, 3444.3483, 3444.3483, 3444.3483, 3444.3483, 3444.3483, 3444.3483, 4888.610125425721, 4888.610125425721, 4888.610125425721, 4888.610125425721, 4888.610125425721, 4888.610125425721, 4888.610125425721, 5138.379165110196, 5138.379165110196, 5138.379165110196, 5138.379165110196, 5138.379165110196, 5138.379165110196, 5138.379165110196, 4576.481675306916, 4576.481675306916, 4576.481675306916, 4576.481675306916, 4576.481675306916, 4576.481675306916, 4576.481675306916, 5426.206481884308, 5426.206481884308, 5426.206481884308, 5426.206481884308, 5426.206481884308, 5426.206481884308, 5426.206481884308, 4641.281132230025, 4641.281132230025, 4641.281132230025, 4641.281132230025, 4641.281132230025, 4641.281132230025, 4641.281132230025, 3805.3552255038767, 3805.3552255038767, 3805.3552255038767, 3805.3552255038767, 3805.3552255038767, 3805.3552255038767, 3805.3552255038767, 3814.4642682806634, 3814.4642682806634, 3814.4642682806634, 3814.4642682806634, 3814.4642682806634, 3814.4642682806634, 3814.4642682806634, 3868.516208223832, 3868.516208223832, 3868.516208223832, 3868.516208223832, 3868.516208223832, 3868.516208223832, 3868.516208223832, 5383.848699796631, 5383.848699796631, 5383.848699796631, 5383.848699796631, 5383.848699796631, 5383.848699796631, 5383.848699796631, 6222.560296998555, 6222.560296998555, 6222.560296998555, 6222.560296998555, 6222.560296998555, 6222.560296998555, 6222.560296998555, 7450.307376778076, 7450.307376778076, 7450.307376778076, 7450.307376778076, 7450.307376778076, 7450.307376778076, 7450.307376778076, 6410.259788049698, 6410.259788049698, 6410.259788049698, 6410.259788049698, 6410.259788049698, 6410.259788049698, 6410.259788049698, 7743.571870702651, 7743.571870702651, 7743.571870702651, 7743.571870702651, 7743.571870702651, 7743.571870702651, 7743.571870702651, 9025.582284956967, 9025.582284956967, 9025.582284956967, 9025.582284956967, 9025.582284956967, 9025.582284956967, 9025.582284956967, 9309.599908318614, 9309.599908318614, 9309.599908318614, 9309.599908318614, 9309.599908318614, 9309.599908318614, 9309.599908318614, 18191.719365395482, 18191.719365395482, 18191.719365395482, 18191.719365395482, 18191.719365395482, 18191.719365395482, 18191.719365395482, 37801.85163696364, 37801.85163696364, 37801.85163696364, 37801.85163696364, 37801.85163696364, 37801.85163696364, 37801.85163696364, 32381.25870042946, 32381.25870042946, 32381.25870042946, 32381.25870042946, 32381.25870042946, 32381.25870042946, 32381.25870042946, 15366.03946134645, 15366.03946134645, 15366.03946134645, 15366.03946134645, 15366.03946134645, 15366.03946134645, 15366.03946134645, 8236.670705446766, 8236.670705446766, 8236.670705446766, 8236.670705446766, 8236.670705446766, 8236.670705446766, 8236.670705446766, 4560.625036548928, 4560.625036548928, 4560.625036548928, 4560.625036548928, 4560.625036548928, 4560.625036548928, 4560.625036548928]\n"
          ]
        }
      ]
    },
    {
      "cell_type": "code",
      "source": [
        "len(predictions)"
      ],
      "metadata": {
        "colab": {
          "base_uri": "https://localhost:8080/"
        },
        "id": "bAUxPUYG5gaj",
        "outputId": "d324bb12-c9d8-4182-bf06-d02747b74068"
      },
      "id": "bAUxPUYG5gaj",
      "execution_count": 16,
      "outputs": [
        {
          "output_type": "execute_result",
          "data": {
            "text/plain": [
              "532"
            ]
          },
          "metadata": {},
          "execution_count": 16
        }
      ]
    },
    {
      "cell_type": "code",
      "execution_count": 20,
      "id": "65a9fbb1",
      "metadata": {
        "id": "65a9fbb1",
        "outputId": "a3382adf-32fc-44d3-aa42-391926d94920",
        "colab": {
          "base_uri": "https://localhost:8080/",
          "height": 206
        }
      },
      "outputs": [
        {
          "output_type": "execute_result",
          "data": {
            "text/plain": [
              "        Date  New Cases  7-day Average New Cases  \\\n",
              "0 2020-09-05       1310                   1680.1   \n",
              "1 2020-09-06       1196                   1701.0   \n",
              "2 2020-09-07        978                   1603.0   \n",
              "3 2020-09-08       1996                   1630.4   \n",
              "4 2020-09-09       1192                   1491.0   \n",
              "\n",
              "   Cumulative cases                            Population (2019)  \\\n",
              "0                                      287560           25603978   \n",
              "1                                      288756           25603978   \n",
              "2                                      289734           25603978   \n",
              "3                                      291730           25603978   \n",
              "4                                      292922           25603978   \n",
              "\n",
              "   New Case Rate  7-Day Average New Case Rate  Cumulative Case Rate  \\\n",
              "0          270.1                        357.0               46391.7   \n",
              "1          271.4                        366.6               46663.1   \n",
              "2          180.0                        350.9               46842.2   \n",
              "3          504.9                        359.9               47347.2   \n",
              "4          252.0                        329.4               47599.1   \n",
              "\n",
              "   County FIPS Code    Longitude     Latitude  \n",
              "0           2860489 -5275.682283  2774.207671  \n",
              "1           2860489 -5275.682283  2774.207671  \n",
              "2           2860489 -5275.682283  2774.207671  \n",
              "3           2860489 -5275.682283  2774.207671  \n",
              "4           2860489 -5275.682283  2774.207671  "
            ],
            "text/html": [
              "\n",
              "  <div id=\"df-3333afb2-8334-4961-9df1-0b841962d73a\">\n",
              "    <div class=\"colab-df-container\">\n",
              "      <div>\n",
              "<style scoped>\n",
              "    .dataframe tbody tr th:only-of-type {\n",
              "        vertical-align: middle;\n",
              "    }\n",
              "\n",
              "    .dataframe tbody tr th {\n",
              "        vertical-align: top;\n",
              "    }\n",
              "\n",
              "    .dataframe thead th {\n",
              "        text-align: right;\n",
              "    }\n",
              "</style>\n",
              "<table border=\"1\" class=\"dataframe\">\n",
              "  <thead>\n",
              "    <tr style=\"text-align: right;\">\n",
              "      <th></th>\n",
              "      <th>Date</th>\n",
              "      <th>New Cases</th>\n",
              "      <th>7-day Average New Cases</th>\n",
              "      <th>Cumulative cases</th>\n",
              "      <th>Population (2019)</th>\n",
              "      <th>New Case Rate</th>\n",
              "      <th>7-Day Average New Case Rate</th>\n",
              "      <th>Cumulative Case Rate</th>\n",
              "      <th>County FIPS Code</th>\n",
              "      <th>Longitude</th>\n",
              "      <th>Latitude</th>\n",
              "    </tr>\n",
              "  </thead>\n",
              "  <tbody>\n",
              "    <tr>\n",
              "      <th>0</th>\n",
              "      <td>2020-09-05</td>\n",
              "      <td>1310</td>\n",
              "      <td>1680.1</td>\n",
              "      <td>287560</td>\n",
              "      <td>25603978</td>\n",
              "      <td>270.1</td>\n",
              "      <td>357.0</td>\n",
              "      <td>46391.7</td>\n",
              "      <td>2860489</td>\n",
              "      <td>-5275.682283</td>\n",
              "      <td>2774.207671</td>\n",
              "    </tr>\n",
              "    <tr>\n",
              "      <th>1</th>\n",
              "      <td>2020-09-06</td>\n",
              "      <td>1196</td>\n",
              "      <td>1701.0</td>\n",
              "      <td>288756</td>\n",
              "      <td>25603978</td>\n",
              "      <td>271.4</td>\n",
              "      <td>366.6</td>\n",
              "      <td>46663.1</td>\n",
              "      <td>2860489</td>\n",
              "      <td>-5275.682283</td>\n",
              "      <td>2774.207671</td>\n",
              "    </tr>\n",
              "    <tr>\n",
              "      <th>2</th>\n",
              "      <td>2020-09-07</td>\n",
              "      <td>978</td>\n",
              "      <td>1603.0</td>\n",
              "      <td>289734</td>\n",
              "      <td>25603978</td>\n",
              "      <td>180.0</td>\n",
              "      <td>350.9</td>\n",
              "      <td>46842.2</td>\n",
              "      <td>2860489</td>\n",
              "      <td>-5275.682283</td>\n",
              "      <td>2774.207671</td>\n",
              "    </tr>\n",
              "    <tr>\n",
              "      <th>3</th>\n",
              "      <td>2020-09-08</td>\n",
              "      <td>1996</td>\n",
              "      <td>1630.4</td>\n",
              "      <td>291730</td>\n",
              "      <td>25603978</td>\n",
              "      <td>504.9</td>\n",
              "      <td>359.9</td>\n",
              "      <td>47347.2</td>\n",
              "      <td>2860489</td>\n",
              "      <td>-5275.682283</td>\n",
              "      <td>2774.207671</td>\n",
              "    </tr>\n",
              "    <tr>\n",
              "      <th>4</th>\n",
              "      <td>2020-09-09</td>\n",
              "      <td>1192</td>\n",
              "      <td>1491.0</td>\n",
              "      <td>292922</td>\n",
              "      <td>25603978</td>\n",
              "      <td>252.0</td>\n",
              "      <td>329.4</td>\n",
              "      <td>47599.1</td>\n",
              "      <td>2860489</td>\n",
              "      <td>-5275.682283</td>\n",
              "      <td>2774.207671</td>\n",
              "    </tr>\n",
              "  </tbody>\n",
              "</table>\n",
              "</div>\n",
              "      <button class=\"colab-df-convert\" onclick=\"convertToInteractive('df-3333afb2-8334-4961-9df1-0b841962d73a')\"\n",
              "              title=\"Convert this dataframe to an interactive table.\"\n",
              "              style=\"display:none;\">\n",
              "        \n",
              "  <svg xmlns=\"http://www.w3.org/2000/svg\" height=\"24px\"viewBox=\"0 0 24 24\"\n",
              "       width=\"24px\">\n",
              "    <path d=\"M0 0h24v24H0V0z\" fill=\"none\"/>\n",
              "    <path d=\"M18.56 5.44l.94 2.06.94-2.06 2.06-.94-2.06-.94-.94-2.06-.94 2.06-2.06.94zm-11 1L8.5 8.5l.94-2.06 2.06-.94-2.06-.94L8.5 2.5l-.94 2.06-2.06.94zm10 10l.94 2.06.94-2.06 2.06-.94-2.06-.94-.94-2.06-.94 2.06-2.06.94z\"/><path d=\"M17.41 7.96l-1.37-1.37c-.4-.4-.92-.59-1.43-.59-.52 0-1.04.2-1.43.59L10.3 9.45l-7.72 7.72c-.78.78-.78 2.05 0 2.83L4 21.41c.39.39.9.59 1.41.59.51 0 1.02-.2 1.41-.59l7.78-7.78 2.81-2.81c.8-.78.8-2.07 0-2.86zM5.41 20L4 18.59l7.72-7.72 1.47 1.35L5.41 20z\"/>\n",
              "  </svg>\n",
              "      </button>\n",
              "      \n",
              "  <style>\n",
              "    .colab-df-container {\n",
              "      display:flex;\n",
              "      flex-wrap:wrap;\n",
              "      gap: 12px;\n",
              "    }\n",
              "\n",
              "    .colab-df-convert {\n",
              "      background-color: #E8F0FE;\n",
              "      border: none;\n",
              "      border-radius: 50%;\n",
              "      cursor: pointer;\n",
              "      display: none;\n",
              "      fill: #1967D2;\n",
              "      height: 32px;\n",
              "      padding: 0 0 0 0;\n",
              "      width: 32px;\n",
              "    }\n",
              "\n",
              "    .colab-df-convert:hover {\n",
              "      background-color: #E2EBFA;\n",
              "      box-shadow: 0px 1px 2px rgba(60, 64, 67, 0.3), 0px 1px 3px 1px rgba(60, 64, 67, 0.15);\n",
              "      fill: #174EA6;\n",
              "    }\n",
              "\n",
              "    [theme=dark] .colab-df-convert {\n",
              "      background-color: #3B4455;\n",
              "      fill: #D2E3FC;\n",
              "    }\n",
              "\n",
              "    [theme=dark] .colab-df-convert:hover {\n",
              "      background-color: #434B5C;\n",
              "      box-shadow: 0px 1px 3px 1px rgba(0, 0, 0, 0.15);\n",
              "      filter: drop-shadow(0px 1px 2px rgba(0, 0, 0, 0.3));\n",
              "      fill: #FFFFFF;\n",
              "    }\n",
              "  </style>\n",
              "\n",
              "      <script>\n",
              "        const buttonEl =\n",
              "          document.querySelector('#df-3333afb2-8334-4961-9df1-0b841962d73a button.colab-df-convert');\n",
              "        buttonEl.style.display =\n",
              "          google.colab.kernel.accessAllowed ? 'block' : 'none';\n",
              "\n",
              "        async function convertToInteractive(key) {\n",
              "          const element = document.querySelector('#df-3333afb2-8334-4961-9df1-0b841962d73a');\n",
              "          const dataTable =\n",
              "            await google.colab.kernel.invokeFunction('convertToInteractive',\n",
              "                                                     [key], {});\n",
              "          if (!dataTable) return;\n",
              "\n",
              "          const docLinkHtml = 'Like what you see? Visit the ' +\n",
              "            '<a target=\"_blank\" href=https://colab.research.google.com/notebooks/data_table.ipynb>data table notebook</a>'\n",
              "            + ' to learn more about interactive tables.';\n",
              "          element.innerHTML = '';\n",
              "          dataTable['output_type'] = 'display_data';\n",
              "          await google.colab.output.renderOutput(dataTable, element);\n",
              "          const docLink = document.createElement('div');\n",
              "          docLink.innerHTML = docLinkHtml;\n",
              "          element.appendChild(docLink);\n",
              "        }\n",
              "      </script>\n",
              "    </div>\n",
              "  </div>\n",
              "  "
            ]
          },
          "metadata": {},
          "execution_count": 20
        }
      ],
      "source": [
        "#select all the dates to be merged with prediction list\n",
        "mask = (df1['Date'] >= '2020-09-05') & (df1['Date'] <= '2022-02-18')\n",
        "df1_copy = df1.loc[mask]\n",
        "df1_copy = df1_copy.groupby([\"Date\"]).sum().reset_index()\n",
        "df1_copy.head(5)"
      ]
    },
    {
      "cell_type": "code",
      "source": [
        "df1_copy.tail(5)"
      ],
      "metadata": {
        "colab": {
          "base_uri": "https://localhost:8080/",
          "height": 206
        },
        "id": "Tc8cnhbxfKyN",
        "outputId": "0aec7b3d-0ae1-4f2d-e7bd-371a5c69dab3"
      },
      "id": "Tc8cnhbxfKyN",
      "execution_count": 21,
      "outputs": [
        {
          "output_type": "execute_result",
          "data": {
            "text/plain": [
              "          Date  New Cases  7-day Average New Cases  \\\n",
              "527 2022-02-14       5636                   7016.0   \n",
              "528 2022-02-15       4890                   6428.4   \n",
              "529 2022-02-16       7384                   6172.4   \n",
              "530 2022-02-17       5988                   5874.2   \n",
              "531 2022-02-18       7464                   5581.8   \n",
              "\n",
              "     Cumulative cases                            Population (2019)  \\\n",
              "527                                     5461544           25603978   \n",
              "528                                     5466434           25603978   \n",
              "529                                     5473818           25603978   \n",
              "530                                     5479806           25603978   \n",
              "531                                     5487270           25603978   \n",
              "\n",
              "     New Case Rate  7-Day Average New Case Rate  Cumulative Case Rate  \\\n",
              "527         1863.7                       2352.3             1499856.1   \n",
              "528         1790.6                       2126.4             1501646.4   \n",
              "529         2262.0                       2015.2             1503908.7   \n",
              "530         1984.3                       1922.5             1505893.0   \n",
              "531         2514.5                       1838.3             1508407.1   \n",
              "\n",
              "     County FIPS Code    Longitude     Latitude  \n",
              "527           2860489 -5275.682283  2774.207671  \n",
              "528           2860489 -5275.682283  2774.207671  \n",
              "529           2860489 -5275.682283  2774.207671  \n",
              "530           2860489 -5275.682283  2774.207671  \n",
              "531           2860489 -5275.682283  2774.207671  "
            ],
            "text/html": [
              "\n",
              "  <div id=\"df-d739883f-5597-4825-8f45-98c067076d62\">\n",
              "    <div class=\"colab-df-container\">\n",
              "      <div>\n",
              "<style scoped>\n",
              "    .dataframe tbody tr th:only-of-type {\n",
              "        vertical-align: middle;\n",
              "    }\n",
              "\n",
              "    .dataframe tbody tr th {\n",
              "        vertical-align: top;\n",
              "    }\n",
              "\n",
              "    .dataframe thead th {\n",
              "        text-align: right;\n",
              "    }\n",
              "</style>\n",
              "<table border=\"1\" class=\"dataframe\">\n",
              "  <thead>\n",
              "    <tr style=\"text-align: right;\">\n",
              "      <th></th>\n",
              "      <th>Date</th>\n",
              "      <th>New Cases</th>\n",
              "      <th>7-day Average New Cases</th>\n",
              "      <th>Cumulative cases</th>\n",
              "      <th>Population (2019)</th>\n",
              "      <th>New Case Rate</th>\n",
              "      <th>7-Day Average New Case Rate</th>\n",
              "      <th>Cumulative Case Rate</th>\n",
              "      <th>County FIPS Code</th>\n",
              "      <th>Longitude</th>\n",
              "      <th>Latitude</th>\n",
              "    </tr>\n",
              "  </thead>\n",
              "  <tbody>\n",
              "    <tr>\n",
              "      <th>527</th>\n",
              "      <td>2022-02-14</td>\n",
              "      <td>5636</td>\n",
              "      <td>7016.0</td>\n",
              "      <td>5461544</td>\n",
              "      <td>25603978</td>\n",
              "      <td>1863.7</td>\n",
              "      <td>2352.3</td>\n",
              "      <td>1499856.1</td>\n",
              "      <td>2860489</td>\n",
              "      <td>-5275.682283</td>\n",
              "      <td>2774.207671</td>\n",
              "    </tr>\n",
              "    <tr>\n",
              "      <th>528</th>\n",
              "      <td>2022-02-15</td>\n",
              "      <td>4890</td>\n",
              "      <td>6428.4</td>\n",
              "      <td>5466434</td>\n",
              "      <td>25603978</td>\n",
              "      <td>1790.6</td>\n",
              "      <td>2126.4</td>\n",
              "      <td>1501646.4</td>\n",
              "      <td>2860489</td>\n",
              "      <td>-5275.682283</td>\n",
              "      <td>2774.207671</td>\n",
              "    </tr>\n",
              "    <tr>\n",
              "      <th>529</th>\n",
              "      <td>2022-02-16</td>\n",
              "      <td>7384</td>\n",
              "      <td>6172.4</td>\n",
              "      <td>5473818</td>\n",
              "      <td>25603978</td>\n",
              "      <td>2262.0</td>\n",
              "      <td>2015.2</td>\n",
              "      <td>1503908.7</td>\n",
              "      <td>2860489</td>\n",
              "      <td>-5275.682283</td>\n",
              "      <td>2774.207671</td>\n",
              "    </tr>\n",
              "    <tr>\n",
              "      <th>530</th>\n",
              "      <td>2022-02-17</td>\n",
              "      <td>5988</td>\n",
              "      <td>5874.2</td>\n",
              "      <td>5479806</td>\n",
              "      <td>25603978</td>\n",
              "      <td>1984.3</td>\n",
              "      <td>1922.5</td>\n",
              "      <td>1505893.0</td>\n",
              "      <td>2860489</td>\n",
              "      <td>-5275.682283</td>\n",
              "      <td>2774.207671</td>\n",
              "    </tr>\n",
              "    <tr>\n",
              "      <th>531</th>\n",
              "      <td>2022-02-18</td>\n",
              "      <td>7464</td>\n",
              "      <td>5581.8</td>\n",
              "      <td>5487270</td>\n",
              "      <td>25603978</td>\n",
              "      <td>2514.5</td>\n",
              "      <td>1838.3</td>\n",
              "      <td>1508407.1</td>\n",
              "      <td>2860489</td>\n",
              "      <td>-5275.682283</td>\n",
              "      <td>2774.207671</td>\n",
              "    </tr>\n",
              "  </tbody>\n",
              "</table>\n",
              "</div>\n",
              "      <button class=\"colab-df-convert\" onclick=\"convertToInteractive('df-d739883f-5597-4825-8f45-98c067076d62')\"\n",
              "              title=\"Convert this dataframe to an interactive table.\"\n",
              "              style=\"display:none;\">\n",
              "        \n",
              "  <svg xmlns=\"http://www.w3.org/2000/svg\" height=\"24px\"viewBox=\"0 0 24 24\"\n",
              "       width=\"24px\">\n",
              "    <path d=\"M0 0h24v24H0V0z\" fill=\"none\"/>\n",
              "    <path d=\"M18.56 5.44l.94 2.06.94-2.06 2.06-.94-2.06-.94-.94-2.06-.94 2.06-2.06.94zm-11 1L8.5 8.5l.94-2.06 2.06-.94-2.06-.94L8.5 2.5l-.94 2.06-2.06.94zm10 10l.94 2.06.94-2.06 2.06-.94-2.06-.94-.94-2.06-.94 2.06-2.06.94z\"/><path d=\"M17.41 7.96l-1.37-1.37c-.4-.4-.92-.59-1.43-.59-.52 0-1.04.2-1.43.59L10.3 9.45l-7.72 7.72c-.78.78-.78 2.05 0 2.83L4 21.41c.39.39.9.59 1.41.59.51 0 1.02-.2 1.41-.59l7.78-7.78 2.81-2.81c.8-.78.8-2.07 0-2.86zM5.41 20L4 18.59l7.72-7.72 1.47 1.35L5.41 20z\"/>\n",
              "  </svg>\n",
              "      </button>\n",
              "      \n",
              "  <style>\n",
              "    .colab-df-container {\n",
              "      display:flex;\n",
              "      flex-wrap:wrap;\n",
              "      gap: 12px;\n",
              "    }\n",
              "\n",
              "    .colab-df-convert {\n",
              "      background-color: #E8F0FE;\n",
              "      border: none;\n",
              "      border-radius: 50%;\n",
              "      cursor: pointer;\n",
              "      display: none;\n",
              "      fill: #1967D2;\n",
              "      height: 32px;\n",
              "      padding: 0 0 0 0;\n",
              "      width: 32px;\n",
              "    }\n",
              "\n",
              "    .colab-df-convert:hover {\n",
              "      background-color: #E2EBFA;\n",
              "      box-shadow: 0px 1px 2px rgba(60, 64, 67, 0.3), 0px 1px 3px 1px rgba(60, 64, 67, 0.15);\n",
              "      fill: #174EA6;\n",
              "    }\n",
              "\n",
              "    [theme=dark] .colab-df-convert {\n",
              "      background-color: #3B4455;\n",
              "      fill: #D2E3FC;\n",
              "    }\n",
              "\n",
              "    [theme=dark] .colab-df-convert:hover {\n",
              "      background-color: #434B5C;\n",
              "      box-shadow: 0px 1px 3px 1px rgba(0, 0, 0, 0.15);\n",
              "      filter: drop-shadow(0px 1px 2px rgba(0, 0, 0, 0.3));\n",
              "      fill: #FFFFFF;\n",
              "    }\n",
              "  </style>\n",
              "\n",
              "      <script>\n",
              "        const buttonEl =\n",
              "          document.querySelector('#df-d739883f-5597-4825-8f45-98c067076d62 button.colab-df-convert');\n",
              "        buttonEl.style.display =\n",
              "          google.colab.kernel.accessAllowed ? 'block' : 'none';\n",
              "\n",
              "        async function convertToInteractive(key) {\n",
              "          const element = document.querySelector('#df-d739883f-5597-4825-8f45-98c067076d62');\n",
              "          const dataTable =\n",
              "            await google.colab.kernel.invokeFunction('convertToInteractive',\n",
              "                                                     [key], {});\n",
              "          if (!dataTable) return;\n",
              "\n",
              "          const docLinkHtml = 'Like what you see? Visit the ' +\n",
              "            '<a target=\"_blank\" href=https://colab.research.google.com/notebooks/data_table.ipynb>data table notebook</a>'\n",
              "            + ' to learn more about interactive tables.';\n",
              "          element.innerHTML = '';\n",
              "          dataTable['output_type'] = 'display_data';\n",
              "          await google.colab.output.renderOutput(dataTable, element);\n",
              "          const docLink = document.createElement('div');\n",
              "          docLink.innerHTML = docLinkHtml;\n",
              "          element.appendChild(docLink);\n",
              "        }\n",
              "      </script>\n",
              "    </div>\n",
              "  </div>\n",
              "  "
            ]
          },
          "metadata": {},
          "execution_count": 21
        }
      ]
    },
    {
      "cell_type": "code",
      "source": [
        "len(df1_copy)"
      ],
      "metadata": {
        "colab": {
          "base_uri": "https://localhost:8080/"
        },
        "id": "E4GmTswG-Max",
        "outputId": "d60baa2f-010d-42da-b1bb-85708a55e210"
      },
      "id": "E4GmTswG-Max",
      "execution_count": 22,
      "outputs": [
        {
          "output_type": "execute_result",
          "data": {
            "text/plain": [
              "532"
            ]
          },
          "metadata": {},
          "execution_count": 22
        }
      ]
    },
    {
      "cell_type": "code",
      "source": [
        "# assigning predictions list to the actual dataframe\n",
        "df1_copy['Prediction'] = predictions"
      ],
      "metadata": {
        "id": "7HHOfOpl4JA2"
      },
      "id": "7HHOfOpl4JA2",
      "execution_count": 23,
      "outputs": []
    },
    {
      "cell_type": "code",
      "source": [
        "df1_copy.head(20)"
      ],
      "metadata": {
        "id": "a8HZNoDm5m-p"
      },
      "id": "a8HZNoDm5m-p",
      "execution_count": null,
      "outputs": []
    },
    {
      "cell_type": "code",
      "source": [
        "# renaming the dataframe for graphing\n",
        "merged_df_new = df1_copy"
      ],
      "metadata": {
        "id": "tB3yrsBFBVzZ"
      },
      "id": "tB3yrsBFBVzZ",
      "execution_count": 25,
      "outputs": []
    },
    {
      "cell_type": "code",
      "source": [
        "merged_df_new.shape"
      ],
      "metadata": {
        "colab": {
          "base_uri": "https://localhost:8080/"
        },
        "id": "D_rU8Xdc6NUr",
        "outputId": "1d29f1ee-197f-4d24-c224-872c76af730e"
      },
      "id": "D_rU8Xdc6NUr",
      "execution_count": 26,
      "outputs": [
        {
          "output_type": "execute_result",
          "data": {
            "text/plain": [
              "(532, 12)"
            ]
          },
          "metadata": {},
          "execution_count": 26
        }
      ]
    },
    {
      "cell_type": "code",
      "execution_count": 27,
      "id": "d516c1b3",
      "metadata": {
        "id": "d516c1b3",
        "colab": {
          "base_uri": "https://localhost:8080/",
          "height": 295
        },
        "outputId": "eab14fcf-e9c3-41cc-a0bc-0c08d20e2207"
      },
      "outputs": [
        {
          "output_type": "display_data",
          "data": {
            "text/plain": [
              "<Figure size 432x288 with 1 Axes>"
            ],
            "image/png": "[encoded data removed]"
          },
          "metadata": {
            "needs_background": "light"
          }
        }
      ],
      "source": [
        "#Create plot of Actual vs. Predicted Cases\n",
        "\n",
        "#Actual Cases Line\n",
        "plt.plot(merged_df_new['Date'], merged_df_new['New Cases'], color='g', label='Actual Cases')\n",
        "\n",
        "#Predicted Cases Line\n",
        "plt.plot(merged_df_new['Date'], merged_df_new['Prediction'], color='r', label='Predicted Cases')\n",
        "\n",
        "#Create XY Labels and Title\n",
        "plt.xlabel('Date (Year/Month/Day)') \n",
        "plt.ylabel('Number of Cases') \n",
        "plt.title(\"Predicted Daily Cases vs Actual Cases in PA\")\n",
        "\n",
        "#Display Plot\n",
        "plt.legend()\n",
        "plt.show()"
      ]
    },
    {
      "cell_type": "code",
      "execution_count": 28,
      "id": "4eee31c3",
      "metadata": {
        "id": "4eee31c3",
        "colab": {
          "base_uri": "https://localhost:8080/"
        },
        "outputId": "53718131-10d3-4ac0-a402-72dc125a4dc6"
      },
      "outputs": [
        {
          "output_type": "stream",
          "name": "stdout",
          "text": [
            "480\n",
            "0.9022556390977443\n",
            "52\n",
            "0.09774436090225569\n",
            "532\n",
            "[0.6365552344601962, 0.6019125059722885, 0.5131772567922873, 0.7614666117950186, 0.60057664189837, 0.7675231236049107, 0.7517660881870997, 0.3168527607361961, 0.35634104046242754, 0.5917396883593032, 0.41776209150326776, 0.5286645502645501, 0.4521377613776136, 0.5105362637362636, 0.4398131706290764, 0.3373399701343952, 0.5556461949265687, 0.518522965641953, 0.5883475572047, 0.6237716546559277, 0.5879015632255069, 0.5302818288854004, 0.36581077787197974, 0.6962021778860799, 0.5159189856010356, 0.5874097145615004, 0.626686868371803, 0.6446853402208764, 0.5989414490004376, 0.5023620767698713, 0.5939645073127491, 0.7129851451545529, 0.6963369517180421, 0.7242722461878008, 0.7743469417077175, 0.5616549957301452, 0.5329372156505914, 0.609061690784463, 0.601473602484472, 0.6736795931341385, 0.6890963052695336, 0.7294138112809699, 0.539563639722262, 0.5216391098817661, 0.6170006639507907, 0.610680542893873, 0.7150632958860954, 0.7285692694359032, 0.7270620187340201, 0.613296285958262, 0.5942856717188001, 0.7140973808309922, 0.7029273487387878, 0.7187317125631582, 0.7307077200266449, 0.7425897681350165, 0.6467570279658986, 0.6259357958744577, 0.7507927035480476, 0.7336619559627109, 0.7493502370721596, 0.7944265976768872, 0.8158222782789424, 0.6582831059653664, 0.6691213362122715, 0.7593276090150928, 0.773685619824789, 0.8015817230139061, 0.8150756539014894, 0.8057383816365332, 0.7551093746746864, 0.7050767996411755, 0.7789775423059978, 0.7894462973598857, 0.8069470221407292, 0.8133355939886862, 0.8066133091280079, 0.5232888879510665, 0.35806989938004513, 0.46897224714226776, 0.5453880785758515, 0.6105629114191906, 0.5532166499685114, 0.581849339278905, 0.12141053229971718, 0.08337497386260265, 0.18650229235363788, 0.4681219853906409, 0.5579878118826663, 0.6150652078878475, 0.6166679470334822, 0.5131956228719138, 0.43517552025332545, 0.6101691709258591, 0.5077681298164548, 0.6713084738249123, 0.6859780737503441, 0.6455583127976977, 0.46407047525342754, 0.35250963540822267, 0.4753498098091281, 0.4883237613405806, 0.4618668176681209, 0.44047032944372383, 0.48991916615760306, 0.00013136191296972934, 0.168294207718328, 0.22752430118228745, 0.34619244302129487, 0.263684610090497, 0.08143661219019091, 0.11209323947185328, 0.1688342594217549, 0.6126993867103094, 0.3442401169270662, 0.374546316386906, 0.29254768508683254, 0.30087261230397977, 0.24757034692999239, 0.20091536203785115, 0.06779362803424571, 0.5561352417410022, 0.6095116664928647, 0.5904986625060893, 0.6331921794330798, 0.5995498178689995, 0.519877070309564, 0.329148328186549, 0.5381223729631519, 0.5711659927218619, 0.4624151586141369, 0.48023389262870236, 0.4912254702179563, 0.4111160094042913, 0.14361641890493343, 0.39490339509837036, 0.3984294745547987, 0.41465740797316586, 0.3683119069912526, 0.42072880707427734, 0.06561610454008054, 0.05698267361582047, 0.300675483096462, 0.3613177843119485, 0.4894011388874683, 0.5759556466828974, 0.350163792551706, 0.4498186177017715, 0.3507695700391396, 0.41977408297317886, 0.3069780170160081, 0.3525065123309493, 0.5692766279377721, 0.4737453267652364, 0.5623351486227023, 0.18949581480023062, 0.5724952255296752, 0.37918269379998215, 0.5301223283545007, 0.45232445249440806, 0.503700080428335, 0.06471271010825153, 0.224899048797783, 0.04222238555861578, 0.34220967937567803, 0.2991020612765113, 0.17405806005269261, 0.18570334648127643, 0.3514688891830855, 0.17110561285476197, 0.5712910310119433, 0.549917534725689, 0.49335979508772154, 0.635509577566035, 0.6437437049244231, 0.37969954359340824, 0.3484872013682067, 0.5643984420594081, 0.5690644113104932, 0.6554097189249403, 0.5793630960289878, 0.6076399760242527, 0.22629331138394054, 0.16677741225962828, 0.6098831297503711, 0.5437039111539445, 0.5758941114252711, 0.6164784069826614, 0.5819401272220597, 0.5745957124973559, 0.4225797736016371, 0.7430461846071396, 0.7523843002483095, 0.7436905828902565, 0.770972817764683, 0.8009186655514775, 0.5661068269211191, 0.3626942769724653, 0.7100876747452715, 0.7907527954610467, 0.7266760356075288, 0.7971696548886222, 0.7493811111047902, 0.5564816881425314, 0.5371917309839327, 0.7523555025974026, 0.6983957626850563, 0.6541277969237467, 0.7267713669580169, 0.752085049924593, 0.4373649958357077, 0.31733898787363046, 0.6402535847417248, 0.6017316510487775, 0.5984171093798886, 0.6522610509062339, 0.6176756716906946, 0.33840105928085523, 0.04049877381891984, 0.6613682302029447, 0.5936192366466895, 0.5161440582800284, 0.5722420641902081, 0.530894056117527, 0.03758627146204996, 0.421031725289841, 0.4027230308619882, 0.3174916994368766, 0.3213772295035815, 0.2492078021179401, 0.23906943460418775, 0.18067797619047618, 0.2562360914165033, 0.3883518876239442, 0.29480997120840036, 0.3748525598678778, 0.4671195616701328, 0.233222314810552, 0.2261648710998328, 0.1477782121471342, 0.4224797787629665, 0.31713943203216455, 0.2233429439685113, 0.3776657096474954, 0.2630566650189488, 0.15612374222416234, 0.49838215700141436, 0.4336205170017109, 0.30001573609092114, 0.28983295233626066, 0.18984690654634448, 0.23913223802341452, 0.07396405874499336, 0.4099896231375986, 0.4151951435841512, 0.10012408546817314, 0.19471510661727898, 0.43862162048991554, 0.17089354772211912, 0.13050186011904769, 0.3124500224618148, 0.3284648316285485, 0.2560443722943723, 0.1800410468706147, 0.21696227552934877, 0.007469424154917687, 0.013397098646034757, 0.2444805225653206, 0.027306470588235234, 0.32829961538461544, 0.17750973312401888, 0.36570665859564166, 0.21450329835082463, 0.25937786618444864, 1.0471368606701943, 0.24742169872487563, 0.10545390476190493, 0.16534520613614562, 0.07441524220919485, 0.34447096525096543, 0.3639397923997186, 0.5297225295974745, 0.4121448453139217, 0.01815681610942245, 0.17101862917023092, 0.08921125704887214, 0.08156163225446433, 0.5710322287862516, 0.7858742429792432, 0.22324428836962282, 0.1574706192396312, 0.07952737256135921, 0.02361081108144178, 0.0242514040616248, 0.2082437551020411, 0.1918911213517661, 0.45125804809052356, 0.4226777380952383, 0.42566904515173964, 0.38074930566640086, 0.5242666339668917, 0.6475644319271332, 0.573065856562137, 0.5045952863881402, 0.745083011442441, 0.7972474917264203, 0.7865329282810685, 0.8090440012987012, 0.6359988432055749, 0.4553267361835245, 0.7898021488933601, 0.7696906261022928, 0.8268671992045078, 0.8307931130547457, 0.8338079350938593, 0.8774554144518272, 0.8293306176980914, 0.9303217563164108, 0.9260432676691729, 0.928307249271137, 0.9353445744960561, 0.9370815859275053, 0.8749410720248033, 0.8277924187192118, 0.9303807640732873, 0.9098552372356885, 0.9310218251775849, 0.9292631748280049, 0.937365971691352, 0.5137078198508318, 0.4557898747993579, 0.6924780879818594, 0.6652750439332609, 0.7391776998230633, 0.7240187969067968, 0.7169216765467145, 0.5475386026541764, 0.47877423561151083, 0.7290308321645629, 0.6951062335612835, 0.7541971798134012, 0.719863194780087, 0.746344398249453, 0.33844797161601275, 0.09949534935469534, 0.45826859993421765, 0.36806086456068543, 0.6437668360909844, 0.43665122562991665, 0.4970601964476563, 0.4125753957396913, 0.2937378524436091, 0.5826944745245037, 0.6515493218439661, 0.6033798777269529, 0.6753472386232718, 0.6662636898593635, 0.3012491040414621, 0.2880599404527835, 0.4941426176505807, 0.5395565688126726, 0.5142303269577216, 0.5548405282939337, 0.611571857663898, 0.36796001285760194, 0.21001349939734817, 0.15136970220112195, 0.6094783714001984, 0.5472538798065851, 0.6215788298691299, 0.63621158186864, 0.5564953891469355, 0.46413990965916874, 0.6453650511821722, 0.5840907429704653, 0.7332202348772232, 0.7075513434099454, 0.6841532487091222, 0.6195771703114645, 0.32490233241865935, 0.6465885183665093, 0.6259395851433537, 0.6930170855614973, 0.6622525691312022, 0.6794165766939687, 0.41774533999217234, 0.2022503059031134, 0.5420934689560022, 0.49747017625146783, 0.5110411956965673, 0.55240705681874, 0.3948241983875067, 0.5568070411324655, 0.35252278665446124, 0.4667518508602952, 0.47886621043507144, 0.5911537901726451, 0.5357445640485909, 0.5321941765194651, 0.43694861278212155, 0.16881916540012418, 0.5081167588879066, 0.521188357887956, 0.5981312192389431, 0.5623104748176246, 0.5202849396952918, 0.2653389545241933, 0.07497332392016566, 0.2989397310226992, 0.3890783064755339, 0.37586766944049826, 0.41678778139678546, 0.44945145273089404, 0.21811301680761036, 0.07248578492605418, 0.3816571899507028, 0.48703789431586814, 0.47792113248256185, 0.5064567064834087, 0.48002676089737567, 0.3724678058206008, 0.24526869783739058, 0.487839135194633, 0.5360454492192298, 0.6250142663082502, 0.6454197516302761, 0.6109043736703602, 0.5120920608492372, 0.37013469810424976, 0.5276790158146777, 0.6400769703452855, 0.6623770341404971, 0.704717118108015, 0.6618982212124922, 0.583134029286225, 0.40041596276754, 0.7003473115241029, 0.659101497336638, 0.7432627947820659, 0.7197133597867098, 0.7050086771218674, 0.4131405385004762, 0.5312686139825326, 0.5389751070562913, 0.6172438006685176, 0.6137841678768556, 0.5265697590752171, 0.43518163031927914, 0.20993393892857354, 0.41152257452255014, 0.5051248372038687, 0.572508910621149, 0.6654177708894206, 0.714901480023891, 0.6355534557222352, 0.37075106615050035, 0.28499929205584684, 0.5111988336978037, 0.4961242136630545, 0.51209512922213, 0.6774200131287635, 0.6497269686517124, 0.5983043120660673, 0.36819832564067634, 0.6006068667881809, 0.5498413070189819, 0.5874462744207943, 0.6197045688152766, 0.6484061107914821, 0.4238413786679575, 0.17340180714104922, 0.569275121220233, 0.6413684757918373, 0.6512532935190664, 0.7218744389518479, 0.6751584918742072, 0.4170273682368579, 0.27610023380197574, 0.693424514777277, 0.7118452753669317, 0.7737949302015797, 0.8055669477605134, 0.8174954041137832, 0.7625465513360553, 0.7349806448326516, 0.809104332588611, 0.8206173665975833, 0.8473936150364137, 0.8408397745278223, 0.8607181342262326, 0.6754029090465441, 0.6143370921052473, 0.6797796274353902, 0.6862847595123908, 0.642106642427789, 0.6556555107818384, 0.6383787348349008, 0.4140882910666226, 0.5359114105706014, 0.3419187659554008, 0.01721475569458086, 0.06179011395325099, 0.008397994938260276, 0.039540524611254034, 0.5468261536461956, 0.9355205439587243, 0.27656148783526996, 0.270550839693536, 0.03276006032530443, 0.21078592209203778, 0.23507737815353796, 0.16127867755036657, 0.7625647466559361, 0.25745003775339204, 0.03740477054728939, 0.051244785048996634, 0.16568346695087624, 0.38983714375420137, 0.28899385061764726, 0.7797473434413928, 0.007390852561247761, 0.08501769546247877, 0.10217236696677937, 0.02014747404592099, 0.13443981657768325, 0.17059164182467343, 0.1963864209204952, 0.19080464220210652, 0.06735684324152807, 0.38236388995816256, 0.23837257238661863, 0.3889837839564673]\n",
            "[-0.6365552344601962, -0.6019125059722885, -0.5131772567922873, -0.7614666117950186, -0.60057664189837, -0.7675231236049107, -0.7517660881870997, -0.3168527607361961, -0.35634104046242754, -0.5917396883593032, -0.41776209150326776, -0.5286645502645501, -0.4521377613776136, -0.5105362637362636, -0.4398131706290764, -0.3373399701343952, -0.5556461949265687, -0.518522965641953, -0.5883475572047, -0.6237716546559277, -0.5879015632255069, -0.5302818288854004, -0.36581077787197974, -0.6962021778860799, -0.5159189856010356, -0.5874097145615004, -0.626686868371803, -0.6446853402208764, -0.5989414490004376, -0.5023620767698713, -0.5939645073127491, -0.7129851451545529, -0.6963369517180421, -0.7242722461878008, -0.7743469417077175, -0.5616549957301452, -0.5329372156505914, -0.609061690784463, -0.601473602484472, -0.6736795931341385, -0.6890963052695336, -0.7294138112809699, -0.539563639722262, -0.5216391098817661, -0.6170006639507907, -0.610680542893873, -0.7150632958860954, -0.7285692694359032, -0.7270620187340201, -0.613296285958262, -0.5942856717188001, -0.7140973808309922, -0.7029273487387878, -0.7187317125631582, -0.7307077200266449, -0.7425897681350165, -0.6467570279658986, -0.6259357958744577, -0.7507927035480476, -0.7336619559627109, -0.7493502370721596, -0.7944265976768872, -0.8158222782789424, -0.6582831059653664, -0.6691213362122715, -0.7593276090150928, -0.773685619824789, -0.8015817230139061, -0.8150756539014894, -0.8057383816365332, -0.7551093746746864, -0.7050767996411755, -0.7789775423059978, -0.7894462973598857, -0.8069470221407292, -0.8133355939886862, -0.8066133091280079, -0.5232888879510665, -0.35806989938004513, -0.46897224714226776, -0.5453880785758515, -0.6105629114191906, -0.5532166499685114, -0.581849339278905, -0.12141053229971718, 0.08337497386260265, -0.18650229235363788, -0.4681219853906409, -0.5579878118826663, -0.6150652078878475, -0.6166679470334822, -0.5131956228719138, -0.43517552025332545, -0.6101691709258591, -0.5077681298164548, -0.6713084738249123, -0.6859780737503441, -0.6455583127976977, -0.46407047525342754, -0.35250963540822267, -0.4753498098091281, -0.4883237613405806, -0.4618668176681209, -0.44047032944372383, -0.48991916615760306, 0.00013136191296972934, -0.168294207718328, -0.22752430118228745, -0.34619244302129487, -0.263684610090497, -0.08143661219019091, -0.11209323947185328, 0.1688342594217549, 0.6126993867103094, -0.3442401169270662, -0.374546316386906, -0.29254768508683254, -0.30087261230397977, -0.24757034692999239, -0.20091536203785115, 0.06779362803424571, -0.5561352417410022, -0.6095116664928647, -0.5904986625060893, -0.6331921794330798, -0.5995498178689995, -0.519877070309564, -0.329148328186549, -0.5381223729631519, -0.5711659927218619, -0.4624151586141369, -0.48023389262870236, -0.4912254702179563, -0.4111160094042913, -0.14361641890493343, -0.39490339509837036, -0.3984294745547987, -0.41465740797316586, -0.3683119069912526, -0.42072880707427734, -0.06561610454008054, -0.05698267361582047, -0.300675483096462, -0.3613177843119485, -0.4894011388874683, -0.5759556466828974, -0.350163792551706, -0.4498186177017715, -0.3507695700391396, -0.41977408297317886, -0.3069780170160081, -0.3525065123309493, -0.5692766279377721, -0.4737453267652364, -0.5623351486227023, -0.18949581480023062, -0.5724952255296752, -0.37918269379998215, -0.5301223283545007, -0.45232445249440806, -0.503700080428335, -0.06471271010825153, 0.224899048797783, -0.04222238555861578, -0.34220967937567803, -0.2991020612765113, -0.17405806005269261, -0.18570334648127643, -0.3514688891830855, -0.17110561285476197, -0.5712910310119433, -0.549917534725689, -0.49335979508772154, -0.635509577566035, -0.6437437049244231, -0.37969954359340824, -0.3484872013682067, -0.5643984420594081, -0.5690644113104932, -0.6554097189249403, -0.5793630960289878, -0.6076399760242527, -0.22629331138394054, -0.16677741225962828, -0.6098831297503711, -0.5437039111539445, -0.5758941114252711, -0.6164784069826614, -0.5819401272220597, -0.5745957124973559, -0.4225797736016371, -0.7430461846071396, -0.7523843002483095, -0.7436905828902565, -0.770972817764683, -0.8009186655514775, -0.5661068269211191, -0.3626942769724653, -0.7100876747452715, -0.7907527954610467, -0.7266760356075288, -0.7971696548886222, -0.7493811111047902, -0.5564816881425314, -0.5371917309839327, -0.7523555025974026, -0.6983957626850563, -0.6541277969237467, -0.7267713669580169, -0.752085049924593, -0.4373649958357077, -0.31733898787363046, -0.6402535847417248, -0.6017316510487775, -0.5984171093798886, -0.6522610509062339, -0.6176756716906946, -0.33840105928085523, -0.04049877381891984, -0.6613682302029447, -0.5936192366466895, -0.5161440582800284, -0.5722420641902081, -0.530894056117527, 0.03758627146204996, 0.421031725289841, -0.4027230308619882, -0.3174916994368766, -0.3213772295035815, -0.2492078021179401, -0.23906943460418775, -0.18067797619047618, 0.2562360914165033, -0.3883518876239442, -0.29480997120840036, -0.3748525598678778, -0.4671195616701328, -0.233222314810552, -0.2261648710998328, 0.1477782121471342, -0.4224797787629665, -0.31713943203216455, -0.2233429439685113, -0.3776657096474954, -0.2630566650189488, 0.15612374222416234, 0.49838215700141436, -0.4336205170017109, -0.30001573609092114, -0.28983295233626066, -0.18984690654634448, -0.23913223802341452, 0.07396405874499336, 0.4099896231375986, -0.4151951435841512, -0.10012408546817314, -0.19471510661727898, -0.43862162048991554, -0.17089354772211912, -0.13050186011904769, 0.3124500224618148, -0.3284648316285485, -0.2560443722943723, -0.1800410468706147, -0.21696227552934877, -0.007469424154917687, 0.013397098646034757, 0.2444805225653206, 0.027306470588235234, -0.32829961538461544, -0.17750973312401888, -0.36570665859564166, -0.21450329835082463, 0.25937786618444864, 1.0471368606701943, -0.24742169872487563, 0.10545390476190493, -0.16534520613614562, 0.07441524220919485, 0.34447096525096543, 0.3639397923997186, 0.5297225295974745, -0.4121448453139217, -0.01815681610942245, -0.17101862917023092, -0.08921125704887214, 0.08156163225446433, 0.5710322287862516, 0.7858742429792432, -0.22324428836962282, -0.1574706192396312, -0.07952737256135921, -0.02361081108144178, 0.0242514040616248, -0.2082437551020411, 0.1918911213517661, -0.45125804809052356, -0.4226777380952383, -0.42566904515173964, -0.38074930566640086, -0.5242666339668917, -0.6475644319271332, -0.573065856562137, -0.5045952863881402, -0.745083011442441, -0.7972474917264203, -0.7865329282810685, -0.8090440012987012, -0.6359988432055749, -0.4553267361835245, -0.7898021488933601, -0.7696906261022928, -0.8268671992045078, -0.8307931130547457, -0.8338079350938593, -0.8774554144518272, -0.8293306176980914, -0.9303217563164108, -0.9260432676691729, -0.928307249271137, -0.9353445744960561, -0.9370815859275053, -0.8749410720248033, -0.8277924187192118, -0.9303807640732873, -0.9098552372356885, -0.9310218251775849, -0.9292631748280049, -0.937365971691352, -0.5137078198508318, -0.4557898747993579, -0.6924780879818594, -0.6652750439332609, -0.7391776998230633, -0.7240187969067968, -0.7169216765467145, -0.5475386026541764, -0.47877423561151083, -0.7290308321645629, -0.6951062335612835, -0.7541971798134012, -0.719863194780087, -0.746344398249453, -0.33844797161601275, 0.09949534935469534, -0.45826859993421765, -0.36806086456068543, -0.6437668360909844, -0.43665122562991665, -0.4970601964476563, -0.4125753957396913, -0.2937378524436091, -0.5826944745245037, -0.6515493218439661, -0.6033798777269529, -0.6753472386232718, -0.6662636898593635, -0.3012491040414621, -0.2880599404527835, -0.4941426176505807, -0.5395565688126726, -0.5142303269577216, -0.5548405282939337, -0.611571857663898, -0.36796001285760194, -0.21001349939734817, -0.15136970220112195, -0.6094783714001984, -0.5472538798065851, -0.6215788298691299, -0.63621158186864, -0.5564953891469355, -0.46413990965916874, -0.6453650511821722, -0.5840907429704653, -0.7332202348772232, -0.7075513434099454, -0.6841532487091222, -0.6195771703114645, -0.32490233241865935, -0.6465885183665093, -0.6259395851433537, -0.6930170855614973, -0.6622525691312022, -0.6794165766939687, -0.41774533999217234, -0.2022503059031134, -0.5420934689560022, -0.49747017625146783, -0.5110411956965673, -0.55240705681874, -0.3948241983875067, -0.5568070411324655, -0.35252278665446124, -0.4667518508602952, -0.47886621043507144, -0.5911537901726451, -0.5357445640485909, -0.5321941765194651, -0.43694861278212155, -0.16881916540012418, -0.5081167588879066, -0.521188357887956, -0.5981312192389431, -0.5623104748176246, -0.5202849396952918, -0.2653389545241933, -0.07497332392016566, -0.2989397310226992, -0.3890783064755339, -0.37586766944049826, -0.41678778139678546, -0.44945145273089404, -0.21811301680761036, -0.07248578492605418, -0.3816571899507028, -0.48703789431586814, -0.47792113248256185, -0.5064567064834087, -0.48002676089737567, -0.3724678058206008, -0.24526869783739058, -0.487839135194633, -0.5360454492192298, -0.6250142663082502, -0.6454197516302761, -0.6109043736703602, -0.5120920608492372, -0.37013469810424976, -0.5276790158146777, -0.6400769703452855, -0.6623770341404971, -0.704717118108015, -0.6618982212124922, -0.583134029286225, -0.40041596276754, -0.7003473115241029, -0.659101497336638, -0.7432627947820659, -0.7197133597867098, -0.7050086771218674, -0.4131405385004762, -0.5312686139825326, -0.5389751070562913, -0.6172438006685176, -0.6137841678768556, -0.5265697590752171, -0.43518163031927914, -0.20993393892857354, -0.41152257452255014, -0.5051248372038687, -0.572508910621149, -0.6654177708894206, -0.714901480023891, -0.6355534557222352, -0.37075106615050035, -0.28499929205584684, -0.5111988336978037, -0.4961242136630545, -0.51209512922213, -0.6774200131287635, -0.6497269686517124, -0.5983043120660673, -0.36819832564067634, -0.6006068667881809, -0.5498413070189819, -0.5874462744207943, -0.6197045688152766, -0.6484061107914821, -0.4238413786679575, -0.17340180714104922, -0.569275121220233, -0.6413684757918373, -0.6512532935190664, -0.7218744389518479, -0.6751584918742072, -0.4170273682368579, -0.27610023380197574, -0.693424514777277, -0.7118452753669317, -0.7737949302015797, -0.8055669477605134, -0.8174954041137832, -0.7625465513360553, -0.7349806448326516, -0.809104332588611, -0.8206173665975833, -0.8473936150364137, -0.8408397745278223, -0.8607181342262326, -0.6754029090465441, -0.6143370921052473, -0.6797796274353902, -0.6862847595123908, -0.642106642427789, -0.6556555107818384, -0.6383787348349008, -0.4140882910666226, 0.5359114105706014, 0.3419187659554008, -0.01721475569458086, 0.06179011395325099, -0.008397994938260276, 0.039540524611254034, 0.5468261536461956, 0.9355205439587243, 0.27656148783526996, 0.270550839693536, -0.03276006032530443, 0.21078592209203778, 0.23507737815353796, 0.16127867755036657, 0.7625647466559361, 0.25745003775339204, 0.03740477054728939, -0.051244785048996634, 0.16568346695087624, 0.38983714375420137, 0.28899385061764726, 0.7797473434413928, -0.007390852561247761, -0.08501769546247877, -0.10217236696677937, 0.02014747404592099, -0.13443981657768325, 0.17059164182467343, 0.1963864209204952, -0.19080464220210652, -0.06735684324152807, -0.38236388995816256, -0.23837257238661863, -0.3889837839564673]\n"
          ]
        }
      ],
      "source": [
        "#error calculations\n",
        "#confirmed = merged_df_new['Actual']\n",
        "#projected = merged_df_new['Prediction']\n",
        "error = []\n",
        "rawerror = []\n",
        "\n",
        "for index, row in merged_df_new.iterrows():\n",
        "  rawerror.append(-1*(row['New Cases'] - row[\"Prediction\"]) / row['New Cases'])\n",
        "  error.append((abs(row['New Cases'] - row[\"Prediction\"])) / row['New Cases'])\n",
        "\n",
        "underpredictCount = 0\n",
        "overpredictCount = 0\n",
        "for x in rawerror:\n",
        "  if x < 0:\n",
        "    underpredictCount += 1\n",
        "  elif x > 0:\n",
        "    overpredictCount += 1\n",
        "\n",
        "underpredictPerecentage = underpredictCount / len(rawerror)\n",
        "overpredictPercentage = 1 - underpredictPerecentage\n",
        "\n",
        "print(underpredictCount)\n",
        "print(underpredictPerecentage)\n",
        "print(overpredictCount)\n",
        "print(overpredictPercentage)\n",
        "print(len(error))\n",
        "\n",
        "print(error)\n",
        "print(rawerror)"
      ]
    },
    {
      "cell_type": "code",
      "execution_count": 29,
      "id": "a0526cb0",
      "metadata": {
        "id": "a0526cb0",
        "colab": {
          "base_uri": "https://localhost:8080/"
        },
        "outputId": "625ca7ec-ad9b-4fb5-8242-87ce193d06e2"
      },
      "outputs": [
        {
          "output_type": "stream",
          "name": "stdout",
          "text": [
            "[0.36344476553980376, 0.3980874940277115, 0.4868227432077127, 0.23853338820498138, 0.39942335810163, 0.2324768763950893, 0.24823391181290033, 0.6831472392638038, 0.6436589595375725, 0.40826031164069676, 0.5822379084967322, 0.47133544973544994, 0.5478622386223864, 0.4894637362637364, 0.5601868293709236, 0.6626600298656048, 0.44435380507343125, 0.481477034358047, 0.4116524427953, 0.37622834534407235, 0.4120984367744931, 0.46971817111459957, 0.6341892221280203, 0.30379782211392015, 0.48408101439896445, 0.4125902854384996, 0.373313131628197, 0.3553146597791236, 0.40105855099956245, 0.4976379232301287, 0.4060354926872509, 0.2870148548454471, 0.3036630482819579, 0.27572775381219916, 0.22565305829228255, 0.4383450042698548, 0.4670627843494086, 0.39093830921553696, 0.398526397515528, 0.3263204068658615, 0.3109036947304664, 0.27058618871903006, 0.46043636027773804, 0.4783608901182339, 0.3829993360492093, 0.38931945710612703, 0.2849367041139046, 0.27143073056409683, 0.2729379812659799, 0.386703714041738, 0.4057143282811999, 0.28590261916900783, 0.2970726512612122, 0.28126828743684185, 0.26929227997335514, 0.25741023186498346, 0.3532429720341014, 0.3740642041255423, 0.2492072964519524, 0.2663380440372891, 0.25064976292784036, 0.20557340232311283, 0.18417772172105762, 0.34171689403463357, 0.33087866378772846, 0.24067239098490723, 0.226314380175211, 0.19841827698609393, 0.1849243460985106, 0.19426161836346678, 0.24489062532531358, 0.29492320035882447, 0.2210224576940022, 0.2105537026401143, 0.19305297785927078, 0.18666440601131384, 0.19338669087199212, 0.47671111204893346, 0.6419301006199549, 0.5310277528577323, 0.4546119214241485, 0.3894370885808094, 0.4467833500314886, 0.41815066072109497, 0.8785894677002828, 0.9166250261373974, 0.8134977076463621, 0.5318780146093591, 0.44201218811733367, 0.38493479211215254, 0.38333205296651784, 0.4868043771280862, 0.5648244797466746, 0.3898308290741409, 0.4922318701835452, 0.3286915261750877, 0.31402192624965586, 0.3544416872023023, 0.5359295247465725, 0.6474903645917773, 0.5246501901908719, 0.5116762386594194, 0.5381331823318791, 0.5595296705562762, 0.510080833842397, 0.9998686380870303, 0.831705792281672, 0.7724756988177126, 0.6538075569787052, 0.736315389909503, 0.9185633878098091, 0.8879067605281468, 0.8311657405782451, 0.38730061328969057, 0.6557598830729339, 0.625453683613094, 0.7074523149131675, 0.6991273876960202, 0.7524296530700076, 0.7990846379621488, 0.9322063719657543, 0.44386475825899785, 0.3904883335071353, 0.4095013374939107, 0.3668078205669202, 0.4004501821310005, 0.480122929690436, 0.670851671813451, 0.4618776270368481, 0.42883400727813814, 0.537584841385863, 0.5197661073712976, 0.5087745297820436, 0.5888839905957086, 0.8563835810950666, 0.6050966049016296, 0.6015705254452013, 0.5853425920268341, 0.6316880930087474, 0.5792711929257226, 0.9343838954599195, 0.9430173263841796, 0.699324516903538, 0.6386822156880515, 0.5105988611125317, 0.42404435331710255, 0.649836207448294, 0.5501813822982284, 0.6492304299608604, 0.5802259170268211, 0.6930219829839919, 0.6474934876690507, 0.4307233720622279, 0.5262546732347636, 0.4376648513772977, 0.8105041851997694, 0.42750477447032476, 0.6208173062000178, 0.4698776716454993, 0.5476755475055919, 0.49629991957166497, 0.9352872898917485, 0.775100951202217, 0.9577776144413842, 0.657790320624322, 0.7008979387234887, 0.8259419399473074, 0.8142966535187236, 0.6485311108169145, 0.828894387145238, 0.42870896898805666, 0.45008246527431095, 0.5066402049122785, 0.364490422433965, 0.3562562950755769, 0.6203004564065917, 0.6515127986317932, 0.43560155794059185, 0.43093558868950677, 0.34459028107505973, 0.42063690397101217, 0.3923600239757473, 0.7737066886160595, 0.8332225877403717, 0.39011687024962893, 0.45629608884605555, 0.42410588857472886, 0.38352159301733857, 0.4180598727779403, 0.42540428750264414, 0.5774202263983629, 0.25695381539286044, 0.2476156997516905, 0.25630941710974353, 0.22902718223531704, 0.1990813344485225, 0.43389317307888087, 0.6373057230275347, 0.28991232525472854, 0.2092472045389533, 0.2733239643924712, 0.20283034511137776, 0.2506188888952098, 0.4435183118574686, 0.4628082690160673, 0.24764449740259742, 0.3016042373149437, 0.3458722030762533, 0.2732286330419831, 0.24791495007540698, 0.5626350041642922, 0.6826610121263695, 0.3597464152582752, 0.39826834895122254, 0.40158289062011143, 0.3477389490937661, 0.3823243283093054, 0.6615989407191447, 0.9595012261810801, 0.33863176979705534, 0.4063807633533105, 0.4838559417199716, 0.42775793580979193, 0.46910594388247295, 0.96241372853795, 0.578968274710159, 0.5972769691380118, 0.6825083005631234, 0.6786227704964185, 0.7507921978820599, 0.7609305653958123, 0.8193220238095238, 0.7437639085834967, 0.6116481123760558, 0.7051900287915996, 0.6251474401321222, 0.5328804383298672, 0.766777685189448, 0.7738351289001673, 0.8522217878528657, 0.5775202212370335, 0.6828605679678355, 0.7766570560314887, 0.6223342903525046, 0.7369433349810512, 0.8438762577758376, 0.5016178429985856, 0.5663794829982891, 0.6999842639090789, 0.7101670476637394, 0.8101530934536555, 0.7608677619765855, 0.9260359412550067, 0.5900103768624014, 0.5848048564158488, 0.8998759145318269, 0.805284893382721, 0.5613783795100844, 0.8291064522778808, 0.8694981398809523, 0.6875499775381853, 0.6715351683714514, 0.7439556277056276, 0.8199589531293853, 0.7830377244706512, 0.9925305758450823, 0.9866029013539652, 0.7555194774346794, 0.9726935294117648, 0.6717003846153846, 0.8224902668759811, 0.6342933414043583, 0.7854967016491754, 0.7406221338155514, -0.04713686067019429, 0.7525783012751244, 0.894546095238095, 0.8346547938638544, 0.9255847577908052, 0.6555290347490346, 0.6360602076002815, 0.47027747040252554, 0.5878551546860783, 0.9818431838905776, 0.8289813708297691, 0.9107887429511279, 0.9184383677455357, 0.4289677712137484, 0.21412575702075676, 0.7767557116303772, 0.8425293807603688, 0.9204726274386408, 0.9763891889185582, 0.9757485959383752, 0.7917562448979589, 0.8081088786482339, 0.5487419519094765, 0.5773222619047618, 0.5743309548482604, 0.6192506943335991, 0.47573336603310834, 0.3524355680728668, 0.42693414343786296, 0.4954047136118598, 0.25491698855755895, 0.2027525082735797, 0.21346707171893153, 0.19095599870129876, 0.36400115679442513, 0.5446732638164755, 0.2101978511066399, 0.23030937389770723, 0.1731328007954922, 0.16920688694525432, 0.1661920649061407, 0.12254458554817282, 0.17066938230190865, 0.06967824368358921, 0.07395673233082711, 0.07169275072886305, 0.06465542550394388, 0.06291841407249466, 0.1250589279751967, 0.17220758128078817, 0.06961923592671271, 0.09014476276431149, 0.06897817482241508, 0.07073682517199509, 0.06263402830864795, 0.4862921801491682, 0.5442101252006422, 0.3075219120181406, 0.33472495606673913, 0.26082230017693675, 0.2759812030932032, 0.28307832345328554, 0.4524613973458236, 0.5212257643884892, 0.2709691678354371, 0.30489376643871646, 0.24580282018659882, 0.280136805219913, 0.253655601750547, 0.6615520283839873, 0.9005046506453047, 0.5417314000657824, 0.6319391354393146, 0.3562331639090156, 0.5633487743700833, 0.5029398035523437, 0.5874246042603086, 0.7062621475563908, 0.41730552547549626, 0.3484506781560339, 0.3966201222730471, 0.32465276137672816, 0.33373631014063654, 0.6987508959585379, 0.7119400595472165, 0.5058573823494192, 0.46044343118732745, 0.48576967304227836, 0.4451594717060663, 0.388428142336102, 0.6320399871423981, 0.7899865006026519, 0.848630297798878, 0.39052162859980155, 0.45274612019341487, 0.37842117013087007, 0.36378841813136, 0.4435046108530645, 0.5358600903408313, 0.35463494881782776, 0.41590925702953474, 0.2667797651227768, 0.2924486565900546, 0.3158467512908778, 0.38042282968853547, 0.6750976675813407, 0.3534114816334907, 0.3740604148566463, 0.3069829144385027, 0.33774743086879777, 0.3205834233060313, 0.5822546600078277, 0.7977496940968866, 0.4579065310439978, 0.5025298237485322, 0.48895880430343275, 0.44759294318126, 0.6051758016124933, 0.4431929588675345, 0.6474772133455388, 0.5332481491397048, 0.5211337895649286, 0.40884620982735487, 0.46425543595140906, 0.4678058234805349, 0.5630513872178784, 0.8311808345998758, 0.49188324111209336, 0.47881164211204397, 0.4018687807610569, 0.43768952518237536, 0.47971506030470823, 0.7346610454758067, 0.9250266760798344, 0.7010602689773008, 0.6109216935244661, 0.6241323305595017, 0.5832122186032145, 0.550548547269106, 0.7818869831923896, 0.9275142150739458, 0.6183428100492971, 0.5129621056841318, 0.5220788675174381, 0.4935432935165913, 0.5199732391026244, 0.6275321941793992, 0.7547313021626094, 0.512160864805367, 0.4639545507807702, 0.3749857336917498, 0.3545802483697239, 0.3890956263296398, 0.4879079391507628, 0.6298653018957503, 0.4723209841853223, 0.35992302965471445, 0.3376229658595029, 0.29528288189198504, 0.3381017787875078, 0.41686597071377496, 0.59958403723246, 0.2996526884758971, 0.34089850266336197, 0.2567372052179341, 0.2802866402132902, 0.29499132287813257, 0.5868594614995237, 0.46873138601746744, 0.46102489294370874, 0.3827561993314824, 0.38621583212314436, 0.4734302409247829, 0.5648183696807209, 0.7900660610714265, 0.5884774254774499, 0.4948751627961313, 0.42749108937885105, 0.33458222911057944, 0.285098519976109, 0.3644465442777648, 0.6292489338494996, 0.7150007079441532, 0.4888011663021963, 0.5038757863369455, 0.48790487077787004, 0.32257998687123646, 0.3502730313482876, 0.40169568793393273, 0.6318016743593237, 0.39939313321181913, 0.45015869298101807, 0.41255372557920567, 0.3802954311847234, 0.35159388920851786, 0.5761586213320424, 0.8265981928589508, 0.43072487877976695, 0.3586315242081627, 0.34874670648093364, 0.2781255610481521, 0.3248415081257928, 0.5829726317631421, 0.7238997661980242, 0.30657548522272304, 0.28815472463306835, 0.22620506979842026, 0.1944330522394866, 0.1825045958862168, 0.2374534486639447, 0.2650193551673484, 0.19089566741138897, 0.17938263340241667, 0.15260638496358625, 0.15916022547217767, 0.13928186577376744, 0.3245970909534559, 0.38566290789475266, 0.3202203725646098, 0.31371524048760924, 0.35789335757221097, 0.34434448921816163, 0.3616212651650992, 0.5859117089333774, 0.46408858942939857, 0.6580812340445992, 0.9827852443054191, 0.938209886046749, 0.9916020050617397, 0.960459475388746, 0.4531738463538044, 0.0644794560412757, 0.72343851216473, 0.729449160306464, 0.9672399396746956, 0.7892140779079622, 0.764922621846462, 0.8387213224496335, 0.2374352533440639, 0.742549962246608, 0.9625952294527106, 0.9487552149510033, 0.8343165330491238, 0.6101628562457986, 0.7110061493823527, 0.22025265655860715, 0.9926091474387523, 0.9149823045375213, 0.8978276330332207, 0.979852525954079, 0.8655601834223168, 0.8294083581753265, 0.8036135790795048, 0.8091953577978934, 0.9326431567584719, 0.6176361100418375, 0.7616274276133814, 0.6110162160435326]\n"
          ]
        }
      ],
      "source": [
        "#accuracy calculations\n",
        "accuracy = []\n",
        "\n",
        "for i in error:\n",
        "  accuracy.append(1 - i)\n",
        "\n",
        "print(accuracy)"
      ]
    },
    {
      "cell_type": "code",
      "execution_count": null,
      "id": "a8012f5e",
      "metadata": {
        "id": "a8012f5e"
      },
      "outputs": [],
      "source": [
        "#Create Error and Accuracy Column and insert list data\n",
        "merged_df_new['Error'] = error\n",
        "merged_df_new['Accuracy'] = accuracy\n",
        "merged_df_new['RawError'] = rawerror\n",
        "\n",
        "print(merged_df_new)"
      ]
    },
    {
      "cell_type": "code",
      "execution_count": 31,
      "id": "6a1f3c40",
      "metadata": {
        "id": "6a1f3c40",
        "colab": {
          "base_uri": "https://localhost:8080/",
          "height": 313
        },
        "outputId": "59ae2c1a-45d6-4188-bf66-7c7a488c21fa"
      },
      "outputs": [
        {
          "output_type": "execute_result",
          "data": {
            "text/plain": [
              "<matplotlib.legend.Legend at 0x7f394ba0b990>"
            ]
          },
          "metadata": {},
          "execution_count": 31
        },
        {
          "output_type": "display_data",
          "data": {
            "text/plain": [
              "<Figure size 432x288 with 1 Axes>"
            ],
            "image/png": "[encoded data removed]"
          },
          "metadata": {
            "needs_background": "light"
          }
        }
      ],
      "source": [
        "from IPython.core.pylabtools import figsize\n",
        "#Create plot of Error\n",
        "\n",
        "#Error Line\n",
        "plt.plot(merged_df_new['Date'], merged_df_new['Error'], color='g', label='Error')\n",
        "\n",
        "\n",
        "#Create XY Labels and Title\n",
        "plt.xlabel('Date (Year/Month/Day)') \n",
        "plt.ylabel('Percentage') \n",
        "plt.title(\"Predicted Daily COVID-19 Case Error in PA\")\n",
        "#Display Plot\n",
        "plt.legend()"
      ]
    },
    {
      "cell_type": "code",
      "execution_count": 32,
      "id": "0480ef44",
      "metadata": {
        "id": "0480ef44",
        "colab": {
          "base_uri": "https://localhost:8080/",
          "height": 295
        },
        "outputId": "6d986b8d-0404-419f-ca80-c3a0e5ba6111"
      },
      "outputs": [
        {
          "output_type": "display_data",
          "data": {
            "text/plain": [
              "<Figure size 432x288 with 1 Axes>"
            ],
            "image/png": "[encoded data removed]"
          },
          "metadata": {
            "needs_background": "light"
          }
        }
      ],
      "source": [
        "#Create plot of Raw Error\n",
        "\n",
        "#Raw Error Line\n",
        "plt.plot(merged_df_new['Date'], merged_df_new['RawError'], color='g', label='Raw Error')\n",
        "plt.axhline(y=0.0, color='r', linestyle='-')\n",
        "\n",
        "#Create XY Labels and Title\n",
        "plt.xlabel('Date (Year/Month/Day)') \n",
        "plt.ylabel('Percentage') \n",
        "plt.title(\"Predicted Daily COVID-19 Case Raw Error in PA\")\n",
        "#Display Plot\n",
        "plt.legend()\n",
        "plt.show()"
      ]
    },
    {
      "cell_type": "code",
      "execution_count": 33,
      "id": "cb557ed1",
      "metadata": {
        "id": "cb557ed1",
        "colab": {
          "base_uri": "https://localhost:8080/",
          "height": 295
        },
        "outputId": "d9be1a2c-1bee-4446-8ccc-3d111f42107a"
      },
      "outputs": [
        {
          "output_type": "display_data",
          "data": {
            "text/plain": [
              "<Figure size 432x288 with 1 Axes>"
            ],
            "image/png": "[encoded data removed]"
          },
          "metadata": {
            "needs_background": "light"
          }
        }
      ],
      "source": [
        "#Create plot of Accuracy\n",
        "\n",
        "#Accuracy Line\n",
        "plt.plot(merged_df_new['Date'], merged_df_new['Accuracy'], color='r', label='Daily Accuracy')\n",
        "\n",
        "#Create XY Labels and Title\n",
        "plt.xlabel('Date (Year/Month/Day)') \n",
        "plt.ylabel('Percentage') \n",
        "plt.title(\"Predicted Daily COVID-19 Case Accuracy in PA\")\n",
        "\n",
        "#Display Plot\n",
        "plt.legend()\n",
        "plt.show()"
      ]
    },
    {
      "cell_type": "code",
      "execution_count": 39,
      "id": "4d6b0409",
      "metadata": {
        "id": "4d6b0409"
      },
      "outputs": [],
      "source": [
        "#Calculate Weekly Accuracy Averages\n",
        "weeklyAccuracy = 0\n",
        "averageWeeklyAccuracy = []\n",
        "length = len(accuracy) #   =245\n",
        "amountOfWeeks = int(length / 7) #   =35\n",
        "remainderDays = length % 7 #  \n",
        "\n",
        "i = 0\n",
        "while i < length:\n",
        "  weeklyAccuracy += accuracy[i]\n",
        "  if (i + 1) % 7 == 0 and amountOfWeeks > 0:\n",
        "    averageWeeklyAccuracy.append(weeklyAccuracy / 7)\n",
        "    amountOfWeeks -= 1\n",
        "    weeklyAccuracy = 0\n",
        "  if remainderDays > 0:\n",
        "    if (i + 1) % remainderDays == 0 and amountOfWeeks == 0:\n",
        "      averageWeeklyAccuracy.append(weeklyAccuracy / remainderDays)\n",
        "      weeklyAccuracy = 0\n",
        "  i += 1\n",
        "\n",
        "weeklyDateList = []\n",
        "i = 0\n",
        "weeklyDateList.append(merged_df_new['Date'][i])\n",
        "while i < length:\n",
        "  if (i + 1) % 7 == 0:\n",
        "    weeklyDateList.append(merged_df_new['Date'][i])\n",
        "  i += 1"
      ]
    },
    {
      "cell_type": "code",
      "source": [
        "len(weeklyDateList)"
      ],
      "metadata": {
        "colab": {
          "base_uri": "https://localhost:8080/"
        },
        "id": "WJ-5HSFnNqoZ",
        "outputId": "1c2c2669-c460-4445-f374-94abbbf49439"
      },
      "id": "WJ-5HSFnNqoZ",
      "execution_count": 40,
      "outputs": [
        {
          "output_type": "execute_result",
          "data": {
            "text/plain": [
              "77"
            ]
          },
          "metadata": {},
          "execution_count": 40
        }
      ]
    },
    {
      "cell_type": "code",
      "source": [
        "#del averageWeeklyAccuracy[-1:]\n",
        "len(averageWeeklyAccuracy)"
      ],
      "metadata": {
        "colab": {
          "base_uri": "https://localhost:8080/"
        },
        "id": "P90LPnPNNFv2",
        "outputId": "f64cb630-7b43-4acc-fdf7-c28baed698bd"
      },
      "id": "P90LPnPNNFv2",
      "execution_count": 41,
      "outputs": [
        {
          "output_type": "execute_result",
          "data": {
            "text/plain": [
              "76"
            ]
          },
          "metadata": {},
          "execution_count": 41
        }
      ]
    },
    {
      "cell_type": "code",
      "execution_count": 42,
      "id": "04c4449c",
      "metadata": {
        "id": "04c4449c"
      },
      "outputs": [],
      "source": [
        "#Create Dataframe for Weekly Accuracy\n",
        "i = 0\n",
        "data = []\n",
        "while i < len(averageWeeklyAccuracy):\n",
        "  data.append([weeklyDateList[i], averageWeeklyAccuracy[i]])\n",
        "  i += 1\n",
        "\n",
        "df = pd.DataFrame(data, columns = ['Week Of', 'Average Weekly Accuracy'])"
      ]
    },
    {
      "cell_type": "code",
      "execution_count": 43,
      "id": "6132cdfa",
      "metadata": {
        "id": "6132cdfa",
        "colab": {
          "base_uri": "https://localhost:8080/",
          "height": 295
        },
        "outputId": "783704e0-98b7-4ae2-8b00-bcc6fe146220"
      },
      "outputs": [
        {
          "output_type": "display_data",
          "data": {
            "text/plain": [
              "<Figure size 432x288 with 1 Axes>"
            ],
            "image/png": "[encoded data removed]"
          },
          "metadata": {
            "needs_background": "light"
          }
        }
      ],
      "source": [
        "#Create plot of Weekly Accuracy\n",
        "\n",
        "#Accuracy Line\n",
        "plt.plot(df['Week Of'], df['Average Weekly Accuracy'], color='r', label='Weekly Accuracy')\n",
        "\n",
        "#Create XY Labels and Title\n",
        "plt.xlabel('Week Of (Year/Month/Day)') \n",
        "plt.ylabel('Average Weekly Accuracy Percentage') \n",
        "plt.title(\"Predicted Daily COVID-19 Case Weekly Accuracy in PA\")\n",
        "\n",
        "#Display Plot\n",
        "plt.legend()\n",
        "plt.show()"
      ]
    },
    {
      "cell_type": "code",
      "execution_count": 44,
      "id": "5917fad0",
      "metadata": {
        "id": "5917fad0"
      },
      "outputs": [],
      "source": [
        "#Create Running Weekly Average\n",
        "runningweeklyAccuracy = 0\n",
        "runningAverageWeeklyAccuracy = []\n",
        "length = len(accuracy)\n",
        "\n",
        "i = 1\n",
        "j = 8\n",
        "#Add first week average\n",
        "runningAverageWeeklyAccuracy.append(averageWeeklyAccuracy[0])\n",
        "\n",
        "while j < length:\n",
        "  temp_i = i\n",
        "  temp_j = j\n",
        "  while temp_i < temp_j:\n",
        "    runningweeklyAccuracy += accuracy[temp_i]\n",
        "    temp_i += 1\n",
        "  runningAverageWeeklyAccuracy.append(runningweeklyAccuracy / 7)\n",
        "  runningweeklyAccuracy = 0\n",
        "\n",
        "  i += 1\n",
        "  j += 1"
      ]
    },
    {
      "cell_type": "code",
      "execution_count": 45,
      "id": "5b231780",
      "metadata": {
        "id": "5b231780"
      },
      "outputs": [],
      "source": [
        "#Create Dataframe for Running Weekly Accuracy\n",
        "i = 0\n",
        "data = []\n",
        "while i < len(runningAverageWeeklyAccuracy):\n",
        "  data.append([merged_df_new['Date'][i], runningAverageWeeklyAccuracy[i]])\n",
        "  i += 1\n",
        "\n",
        "df = pd.DataFrame(data, columns = ['Date', 'Running Weekly Average Accuracy'])"
      ]
    },
    {
      "cell_type": "code",
      "execution_count": 46,
      "id": "85337528",
      "metadata": {
        "id": "85337528",
        "colab": {
          "base_uri": "https://localhost:8080/",
          "height": 295
        },
        "outputId": "2c1b28a2-4bb2-41cc-bb84-6e7420c4245f"
      },
      "outputs": [
        {
          "output_type": "display_data",
          "data": {
            "text/plain": [
              "<Figure size 432x288 with 1 Axes>"
            ],
            "image/png": "[encoded data removed]"
          },
          "metadata": {
            "needs_background": "light"
          }
        }
      ],
      "source": [
        "#Create plot of Running Weekly Accuracy\n",
        "\n",
        "#Accuracy Line\n",
        "plt.plot(df['Date'], df['Running Weekly Average Accuracy'], color='r', label='Running Weekly Accuracy')\n",
        "\n",
        "#Create XY Labels and Title\n",
        "plt.xlabel('Date') \n",
        "plt.ylabel('Accuracy Percentage') \n",
        "plt.title(\"Predicted Daily COVID-19 Case Running Weekly Accuracy in PA\")\n",
        "\n",
        "#Display Plot\n",
        "plt.legend()\n",
        "plt.show()"
      ]
    },
    {
      "cell_type": "code",
      "execution_count": 47,
      "id": "b8764ff7",
      "metadata": {
        "id": "b8764ff7",
        "colab": {
          "base_uri": "https://localhost:8080/",
          "height": 295
        },
        "outputId": "8fdbb5c0-9e47-4368-e485-a29dd1a94381"
      },
      "outputs": [
        {
          "output_type": "display_data",
          "data": {
            "text/plain": [
              "<Figure size 432x288 with 1 Axes>"
            ],
            "image/png": "[encoded data removed]"
          },
          "metadata": {
            "needs_background": "light"
          }
        }
      ],
      "source": [
        "#Plot with combined daily accuracy and running weekly accuracy\n",
        "\n",
        "#Daily Accuracy\n",
        "plt.plot(merged_df_new['Date'], merged_df_new['Accuracy'], color='r', label='Daily Accuracy')\n",
        "\n",
        "#Running Accuracy Line\n",
        "plt.plot(df['Date'], df['Running Weekly Average Accuracy'], color='b', label='Running Weekly Accuracy')\n",
        "\n",
        "#Create XY Labels and Title\n",
        "plt.xlabel('Date') \n",
        "plt.ylabel('Accuracy Percentage') \n",
        "plt.title(\"Predicted Daily COVID-19 Case Accuracy in PA\")\n",
        "\n",
        "#Display Plot\n",
        "plt.legend()\n",
        "plt.show()"
      ]
    },
    {
      "cell_type": "code",
      "execution_count": null,
      "id": "4243a737",
      "metadata": {
        "id": "4243a737"
      },
      "outputs": [],
      "source": [
        "#merged_df_new.to_csv('DDS_everyday_predictions.csv')"
      ]
    },
    {
      "cell_type": "code",
      "execution_count": 50,
      "id": "b8d57b22",
      "metadata": {
        "id": "b8d57b22"
      },
      "outputs": [],
      "source": [
        "#Calculate Monthly Accuracy Averages\n",
        "#We are going to use an average of 30 days per month for these calculations\n",
        "\n",
        "monthlyAccuracy = 0\n",
        "averageMonthlyAccuracy = []\n",
        "amountOfMonths = int(length / 30)\n",
        "remainderDays = length % 30\n",
        "\n",
        "i = 0\n",
        "while i < length:\n",
        "  monthlyAccuracy += accuracy[i]\n",
        "  if (i + 1) % 30 == 0 and amountOfMonths > 0:\n",
        "    averageMonthlyAccuracy.append(monthlyAccuracy / 30)\n",
        "    amountOfMonths -= 1\n",
        "    monthlyAccuracy = 0\n",
        "  if (i + 1) % remainderDays == 0 and remainderDays > 0 and amountOfMonths == 0:\n",
        "    averageMonthlyAccuracy.append(monthlyAccuracy / remainderDays)\n",
        "    monthlyAccuracy = 0\n",
        "  i += 1\n",
        "\n",
        "weeklyDateListForMonths = []\n",
        "i = 0\n",
        "weeklyDateListForMonths.append(merged_df_new['Date'][i])\n",
        "while i < length:\n",
        "  if (i + 1) % 30 == 0:\n",
        "    weeklyDateListForMonths.append(merged_df_new['Date'][i])\n",
        "  i += 1\n"
      ]
    },
    {
      "cell_type": "code",
      "execution_count": 51,
      "id": "c9d81c9a",
      "metadata": {
        "id": "c9d81c9a",
        "colab": {
          "base_uri": "https://localhost:8080/"
        },
        "outputId": "aba80c8b-c418-4896-fb0f-83cdb7ddd016"
      },
      "outputs": [
        {
          "output_type": "execute_result",
          "data": {
            "text/plain": [
              "18"
            ]
          },
          "metadata": {},
          "execution_count": 51
        }
      ],
      "source": [
        "#del averageMonthlyAccuracy[-1:]\n",
        "len(averageMonthlyAccuracy)"
      ]
    },
    {
      "cell_type": "code",
      "execution_count": 52,
      "id": "d2d88cd5",
      "metadata": {
        "id": "d2d88cd5"
      },
      "outputs": [],
      "source": [
        "#Create Dataframe for Monthly Accuracy\n",
        "i = 0\n",
        "data = []\n",
        "while i < len(averageMonthlyAccuracy):\n",
        "  data.append([weeklyDateListForMonths[i], averageMonthlyAccuracy[i]])\n",
        "  i += 1\n",
        "\n",
        "df = pd.DataFrame(data, columns = ['Month Of', 'Average Monthly Accuracy'])"
      ]
    },
    {
      "cell_type": "code",
      "execution_count": 53,
      "id": "bbf2b69a",
      "metadata": {
        "id": "bbf2b69a",
        "colab": {
          "base_uri": "https://localhost:8080/",
          "height": 295
        },
        "outputId": "12311e95-b4bd-4b76-f3c5-e1c280c71f29"
      },
      "outputs": [
        {
          "output_type": "display_data",
          "data": {
            "text/plain": [
              "<Figure size 432x288 with 1 Axes>"
            ],
            "image/png": "[encoded data removed]"
          },
          "metadata": {
            "needs_background": "light"
          }
        }
      ],
      "source": [
        "#Create plot of Monthly Accuracy\n",
        "\n",
        "#Accuracy Line\n",
        "plt.plot(df['Month Of'], df['Average Monthly Accuracy'], color='r', label='Monthly Accuracy')\n",
        "\n",
        "#Create XY Labels and Title\n",
        "plt.xlabel('Month Of (Year/Month/Day)') \n",
        "plt.ylabel('Average Monthly Accuracy Percentage') \n",
        "plt.title(\"Predicted Daily COVID-19 Case Monthly Accuracy in PA\")\n",
        "\n",
        "#Display Plot\n",
        "plt.legend()\n",
        "plt.show()"
      ]
    },
    {
      "cell_type": "code",
      "source": [
        "#Calculate Running Monthly Accuracy\n",
        "\n",
        "runningmonthlyAccuracy = 0\n",
        "runningAveragemonthlyAccuracy = []\n",
        "length = len(accuracy)\n",
        "\n",
        "i = 1\n",
        "j = 31\n",
        "#Add first week average\n",
        "runningAveragemonthlyAccuracy.append(averageMonthlyAccuracy[0])\n",
        "\n",
        "while j < length:\n",
        "  temp_i = i\n",
        "  temp_j = j\n",
        "  while temp_i < temp_j:\n",
        "    runningmonthlyAccuracy += accuracy[temp_i]\n",
        "    temp_i += 1\n",
        "  runningAveragemonthlyAccuracy.append(runningmonthlyAccuracy / 30)\n",
        "  runningmonthlyAccuracy = 0\n",
        "\n",
        "  i += 1\n",
        "  j += 1"
      ],
      "metadata": {
        "id": "X02LeClcSWTa"
      },
      "id": "X02LeClcSWTa",
      "execution_count": 54,
      "outputs": []
    },
    {
      "cell_type": "code",
      "source": [
        "#Create Dataframe for Running Monthly Accuracy\n",
        "i = 0\n",
        "data = []\n",
        "while i < len(runningAveragemonthlyAccuracy):\n",
        "  data.append([merged_df_new['Date'][i], runningAveragemonthlyAccuracy[i]])\n",
        "  i += 1\n",
        "\n",
        "df = pd.DataFrame(data, columns = ['Date', 'Running Monthly Average Accuracy'])"
      ],
      "metadata": {
        "id": "0IAKKnIZSc7e"
      },
      "id": "0IAKKnIZSc7e",
      "execution_count": 55,
      "outputs": []
    },
    {
      "cell_type": "code",
      "source": [
        "#Create plot of Running Monthly Accuracy\n",
        "\n",
        "#Accuracy Line\n",
        "plt.plot(df['Date'], df['Running Monthly Average Accuracy'], color='r', label='Running Monthly Accuracy')\n",
        "\n",
        "#Create XY Labels and Title\n",
        "plt.xlabel('Date') \n",
        "plt.ylabel('Accuracy Percentage') \n",
        "plt.title(\"Predicted Daily COVID-19 Case Running Monthly Accuracy in PA\")\n",
        "\n",
        "#Display Plot\n",
        "plt.legend()\n",
        "plt.show()"
      ],
      "metadata": {
        "colab": {
          "base_uri": "https://localhost:8080/",
          "height": 295
        },
        "id": "qhK2tbJaSkPW",
        "outputId": "b7a09f06-f373-42d7-b6f6-5666c97d3bc6"
      },
      "id": "qhK2tbJaSkPW",
      "execution_count": 56,
      "outputs": [
        {
          "output_type": "display_data",
          "data": {
            "text/plain": [
              "<Figure size 432x288 with 1 Axes>"
            ],
            "image/png": "[encoded data removed]"
          },
          "metadata": {
            "needs_background": "light"
          }
        }
      ]
    },
    {
      "cell_type": "code",
      "source": [
        "#Calculate Yearly Accuracy Averages\n",
        "#We are going to use an average of 365 days per year for these calculations\n",
        "\n",
        "yearlyAccuracy = 0\n",
        "averageYearlyAccuracy = []\n",
        "amountOfYears = int(length / 365)\n",
        "remainderDays = length % 365\n",
        "\n",
        "i = 0\n",
        "while i < length:\n",
        "  yearlyAccuracy += accuracy[i]\n",
        "  if (i + 1) % 365 == 0 and amountOfYears > 0:\n",
        "    averageYearlyAccuracy.append(yearlyAccuracy / 365)\n",
        "    amountOfYears -= 1\n",
        "    yearlyAccuracy = 0\n",
        "  if (i + 1) % remainderDays == 0 and remainderDays > 0 and amountOfYears == 0:\n",
        "    averageYearlyAccuracy.append(yearlyAccuracy / remainderDays)\n",
        "    yearlyAccuracy = 0\n",
        "  i += 1\n",
        "\n",
        "weeklyDateListForYears = []\n",
        "i = 0\n",
        "weeklyDateListForYears.append(merged_df_new['Date'][i])\n",
        "while i < length:\n",
        "  if (i + 1) % 365 == 0:\n",
        "    weeklyDateListForYears.append(merged_df_new['Date'][i])\n",
        "  i += 1"
      ],
      "metadata": {
        "id": "wuFLInYkSl0D"
      },
      "id": "wuFLInYkSl0D",
      "execution_count": 57,
      "outputs": []
    },
    {
      "cell_type": "code",
      "source": [
        "print(averageYearlyAccuracy)"
      ],
      "metadata": {
        "colab": {
          "base_uri": "https://localhost:8080/"
        },
        "id": "0X5tj6YASxgP",
        "outputId": "b22f4c56-d790-4ff4-bbcd-d051cdb3672e"
      },
      "id": "0X5tj6YASxgP",
      "execution_count": 58,
      "outputs": [
        {
          "output_type": "stream",
          "name": "stdout",
          "text": [
            "[0.5047497367044826, 0.37633534301555777]\n"
          ]
        }
      ]
    },
    {
      "cell_type": "code",
      "source": [
        "#Create Dataframe for Yearly Accuracy\n",
        "i = 0\n",
        "data = []\n",
        "while i < len(averageYearlyAccuracy):\n",
        "  data.append([weeklyDateListForYears[i], averageYearlyAccuracy[i]])\n",
        "  i += 1\n",
        "\n",
        "df = pd.DataFrame(data, columns = ['Year Of', 'Average Yearly Accuracy'])"
      ],
      "metadata": {
        "id": "KMVJGUxoSyb5"
      },
      "id": "KMVJGUxoSyb5",
      "execution_count": 59,
      "outputs": []
    },
    {
      "cell_type": "code",
      "source": [
        "#Create plot of Yearly Accuracy\n",
        "\n",
        "#Accuracy Line\n",
        "plt.plot(df['Year Of'], df['Average Yearly Accuracy'], color='r', label='Yearly Accuracy')\n",
        "\n",
        "#Create XY Labels and Title\n",
        "plt.xlabel('Year Of (Year/Month/Day)') \n",
        "plt.ylabel('Average Yearly Accuracy Percentage') \n",
        "plt.title(\"Predicted Daily COVID-19 Case Yearly Accuracy in PA\")\n",
        "\n",
        "#Display Plot\n",
        "plt.legend()\n",
        "plt.show()"
      ],
      "metadata": {
        "colab": {
          "base_uri": "https://localhost:8080/",
          "height": 295
        },
        "id": "OVaiiME4S2Bl",
        "outputId": "e4adcd92-31af-485b-c440-f09a62a1e650"
      },
      "id": "OVaiiME4S2Bl",
      "execution_count": 60,
      "outputs": [
        {
          "output_type": "display_data",
          "data": {
            "text/plain": [
              "<Figure size 432x288 with 1 Axes>"
            ],
            "image/png": "[encoded data removed]"
          },
          "metadata": {
            "needs_background": "light"
          }
        }
      ]
    },
    {
      "cell_type": "code",
      "source": [
        "#Calculate Running Yearly Accuracy\n",
        "\n",
        "runningyearlyAccuracy = 0\n",
        "runningAverageyearlyAccuracy = []\n",
        "length = len(accuracy)\n",
        "\n",
        "i = 1\n",
        "j = 366\n",
        "#Add first week average\n",
        "runningAverageyearlyAccuracy.append(averageYearlyAccuracy[0])\n",
        "\n",
        "while j < length:\n",
        "  temp_i = i\n",
        "  temp_j = j\n",
        "  while temp_i < temp_j:\n",
        "    runningyearlyAccuracy += accuracy[temp_i]\n",
        "    temp_i += 1\n",
        "  runningAverageyearlyAccuracy.append(runningyearlyAccuracy / 365)\n",
        "  runningyearlyAccuracy = 0\n",
        "\n",
        "  i += 1\n",
        "  j += 1"
      ],
      "metadata": {
        "id": "7_8g8buyS4r6"
      },
      "id": "7_8g8buyS4r6",
      "execution_count": 61,
      "outputs": []
    },
    {
      "cell_type": "code",
      "source": [
        "#Create Dataframe for Running Yearly Accuracy\n",
        "i = 0\n",
        "data = []\n",
        "while i < len(runningAverageyearlyAccuracy):\n",
        "  data.append([merged_df_new['Date'][i], runningAverageyearlyAccuracy[i]])\n",
        "  i += 1\n",
        "\n",
        "df = pd.DataFrame(data, columns = ['Date', 'Running Yearly Average Accuracy'])"
      ],
      "metadata": {
        "id": "GMw16lzPS7I8"
      },
      "id": "GMw16lzPS7I8",
      "execution_count": 62,
      "outputs": []
    },
    {
      "cell_type": "code",
      "source": [
        "#Create plot of Running Yearly Accuracy\n",
        "\n",
        "#Accuracy Line\n",
        "plt.plot(df['Date'], df['Running Yearly Average Accuracy'], color='r', label='Running Yearly Accuracy')\n",
        "\n",
        "#Create XY Labels and Title\n",
        "plt.xlabel('Date') \n",
        "plt.ylabel('Accuracy Percentage') \n",
        "plt.title(\"Predicted Daily COVID-19 Case Running Yearly Accuracy in PA\")\n",
        "\n",
        "#Display Plot\n",
        "plt.legend()\n",
        "plt.show()"
      ],
      "metadata": {
        "colab": {
          "base_uri": "https://localhost:8080/",
          "height": 295
        },
        "id": "9Tg8c7xFTEo5",
        "outputId": "fd84eb4e-8d1b-4db2-ccb6-379a9fb7dd87"
      },
      "id": "9Tg8c7xFTEo5",
      "execution_count": 63,
      "outputs": [
        {
          "output_type": "display_data",
          "data": {
            "text/plain": [
              "<Figure size 432x288 with 1 Axes>"
            ],
            "image/png": "[encoded data removed]"
          },
          "metadata": {
            "needs_background": "light"
          }
        }
      ]
    },
    {
      "cell_type": "code",
      "source": [
        "#Calculate Overall Accuracy\n",
        "overallAccuracy = merged_df_new['Accuracy'].mean()\n",
        "print(overallAccuracy)"
      ],
      "metadata": {
        "colab": {
          "base_uri": "https://localhost:8080/"
        },
        "id": "wvfzf5lyTIzD",
        "outputId": "61956df7-2dac-46af-9331-64cd7648dfec"
      },
      "id": "wvfzf5lyTIzD",
      "execution_count": 64,
      "outputs": [
        {
          "output_type": "stream",
          "name": "stdout",
          "text": [
            "0.5086195720659824\n"
          ]
        }
      ]
    },
    {
      "cell_type": "code",
      "source": [
        "#Create new dataframe for year 2022\n",
        "data_2022 = merged_df_new[(merged_df_new['Date'] > '2022-01-01')]"
      ],
      "metadata": {
        "id": "hrBX4CVpTN0j"
      },
      "id": "hrBX4CVpTN0j",
      "execution_count": 65,
      "outputs": []
    },
    {
      "cell_type": "code",
      "source": [
        "#create error and accuracy lists for 2022\n",
        "error_2022=[]\n",
        "for index, row in data_2022.iterrows():\n",
        "  error_2022.append((abs(row['New Cases'] - row[\"Prediction\"])) / row['New Cases'])\n",
        "\n",
        "accuracy_2022 = []\n",
        "for i in error_2022:\n",
        "  accuracy_2022.append(1 - i)"
      ],
      "metadata": {
        "id": "91MO2kFaTSTJ"
      },
      "id": "91MO2kFaTSTJ",
      "execution_count": 66,
      "outputs": []
    },
    {
      "cell_type": "code",
      "source": [
        "#check head of 2022 data\n",
        "data_2022.head(5)"
      ],
      "metadata": {
        "colab": {
          "base_uri": "https://localhost:8080/",
          "height": 354
        },
        "id": "GAIV4vDLTdLo",
        "outputId": "21922368-3c00-4326-cca6-fa779fb995b0"
      },
      "id": "GAIV4vDLTdLo",
      "execution_count": 67,
      "outputs": [
        {
          "output_type": "execute_result",
          "data": {
            "text/plain": [
              "          Date  New Cases  7-day Average New Cases  \\\n",
              "484 2022-01-02      35128                  38695.9   \n",
              "485 2022-01-03      48768                  41456.9   \n",
              "486 2022-01-04      51898                  44396.0   \n",
              "487 2022-01-05      61004                  47411.2   \n",
              "488 2022-01-06      58492                  49136.1   \n",
              "\n",
              "     Cumulative cases                            Population (2019)  \\\n",
              "484                                     4203914           25603978   \n",
              "485                                     4252682           25603978   \n",
              "486                                     4304580           25603978   \n",
              "487                                     4365584           25603978   \n",
              "488                                     4424076           25603978   \n",
              "\n",
              "     New Case Rate  7-Day Average New Case Rate  Cumulative Case Rate  \\\n",
              "484         6449.2                       7426.4             1172327.7   \n",
              "485         9816.9                       8055.2             1182144.5   \n",
              "486        10744.4                       8691.2             1192888.2   \n",
              "487        11662.5                       9215.5             1204551.4   \n",
              "488        12854.6                       9728.8             1217406.1   \n",
              "\n",
              "     County FIPS Code    Longitude     Latitude   Prediction     Error  \\\n",
              "484           2860489 -5275.682283  2774.207671  9309.599908  0.734981   \n",
              "485           2860489 -5275.682283  2774.207671  9309.599908  0.809104   \n",
              "486           2860489 -5275.682283  2774.207671  9309.599908  0.820617   \n",
              "487           2860489 -5275.682283  2774.207671  9309.599908  0.847394   \n",
              "488           2860489 -5275.682283  2774.207671  9309.599908  0.840840   \n",
              "\n",
              "     Accuracy  RawError  \n",
              "484  0.265019 -0.734981  \n",
              "485  0.190896 -0.809104  \n",
              "486  0.179383 -0.820617  \n",
              "487  0.152606 -0.847394  \n",
              "488  0.159160 -0.840840  "
            ],
            "text/html": [
              "\n",
              "  <div id=\"df-3cae13a8-8963-453c-b34b-0499674522b7\">\n",
              "    <div class=\"colab-df-container\">\n",
              "      <div>\n",
              "<style scoped>\n",
              "    .dataframe tbody tr th:only-of-type {\n",
              "        vertical-align: middle;\n",
              "    }\n",
              "\n",
              "    .dataframe tbody tr th {\n",
              "        vertical-align: top;\n",
              "    }\n",
              "\n",
              "    .dataframe thead th {\n",
              "        text-align: right;\n",
              "    }\n",
              "</style>\n",
              "<table border=\"1\" class=\"dataframe\">\n",
              "  <thead>\n",
              "    <tr style=\"text-align: right;\">\n",
              "      <th></th>\n",
              "      <th>Date</th>\n",
              "      <th>New Cases</th>\n",
              "      <th>7-day Average New Cases</th>\n",
              "      <th>Cumulative cases</th>\n",
              "      <th>Population (2019)</th>\n",
              "      <th>New Case Rate</th>\n",
              "      <th>7-Day Average New Case Rate</th>\n",
              "      <th>Cumulative Case Rate</th>\n",
              "      <th>County FIPS Code</th>\n",
              "      <th>Longitude</th>\n",
              "      <th>Latitude</th>\n",
              "      <th>Prediction</th>\n",
              "      <th>Error</th>\n",
              "      <th>Accuracy</th>\n",
              "      <th>RawError</th>\n",
              "    </tr>\n",
              "  </thead>\n",
              "  <tbody>\n",
              "    <tr>\n",
              "      <th>484</th>\n",
              "      <td>2022-01-02</td>\n",
              "      <td>35128</td>\n",
              "      <td>38695.9</td>\n",
              "      <td>4203914</td>\n",
              "      <td>25603978</td>\n",
              "      <td>6449.2</td>\n",
              "      <td>7426.4</td>\n",
              "      <td>1172327.7</td>\n",
              "      <td>2860489</td>\n",
              "      <td>-5275.682283</td>\n",
              "      <td>2774.207671</td>\n",
              "      <td>9309.599908</td>\n",
              "      <td>0.734981</td>\n",
              "      <td>0.265019</td>\n",
              "      <td>-0.734981</td>\n",
              "    </tr>\n",
              "    <tr>\n",
              "      <th>485</th>\n",
              "      <td>2022-01-03</td>\n",
              "      <td>48768</td>\n",
              "      <td>41456.9</td>\n",
              "      <td>4252682</td>\n",
              "      <td>25603978</td>\n",
              "      <td>9816.9</td>\n",
              "      <td>8055.2</td>\n",
              "      <td>1182144.5</td>\n",
              "      <td>2860489</td>\n",
              "      <td>-5275.682283</td>\n",
              "      <td>2774.207671</td>\n",
              "      <td>9309.599908</td>\n",
              "      <td>0.809104</td>\n",
              "      <td>0.190896</td>\n",
              "      <td>-0.809104</td>\n",
              "    </tr>\n",
              "    <tr>\n",
              "      <th>486</th>\n",
              "      <td>2022-01-04</td>\n",
              "      <td>51898</td>\n",
              "      <td>44396.0</td>\n",
              "      <td>4304580</td>\n",
              "      <td>25603978</td>\n",
              "      <td>10744.4</td>\n",
              "      <td>8691.2</td>\n",
              "      <td>1192888.2</td>\n",
              "      <td>2860489</td>\n",
              "      <td>-5275.682283</td>\n",
              "      <td>2774.207671</td>\n",
              "      <td>9309.599908</td>\n",
              "      <td>0.820617</td>\n",
              "      <td>0.179383</td>\n",
              "      <td>-0.820617</td>\n",
              "    </tr>\n",
              "    <tr>\n",
              "      <th>487</th>\n",
              "      <td>2022-01-05</td>\n",
              "      <td>61004</td>\n",
              "      <td>47411.2</td>\n",
              "      <td>4365584</td>\n",
              "      <td>25603978</td>\n",
              "      <td>11662.5</td>\n",
              "      <td>9215.5</td>\n",
              "      <td>1204551.4</td>\n",
              "      <td>2860489</td>\n",
              "      <td>-5275.682283</td>\n",
              "      <td>2774.207671</td>\n",
              "      <td>9309.599908</td>\n",
              "      <td>0.847394</td>\n",
              "      <td>0.152606</td>\n",
              "      <td>-0.847394</td>\n",
              "    </tr>\n",
              "    <tr>\n",
              "      <th>488</th>\n",
              "      <td>2022-01-06</td>\n",
              "      <td>58492</td>\n",
              "      <td>49136.1</td>\n",
              "      <td>4424076</td>\n",
              "      <td>25603978</td>\n",
              "      <td>12854.6</td>\n",
              "      <td>9728.8</td>\n",
              "      <td>1217406.1</td>\n",
              "      <td>2860489</td>\n",
              "      <td>-5275.682283</td>\n",
              "      <td>2774.207671</td>\n",
              "      <td>9309.599908</td>\n",
              "      <td>0.840840</td>\n",
              "      <td>0.159160</td>\n",
              "      <td>-0.840840</td>\n",
              "    </tr>\n",
              "  </tbody>\n",
              "</table>\n",
              "</div>\n",
              "      <button class=\"colab-df-convert\" onclick=\"convertToInteractive('df-3cae13a8-8963-453c-b34b-0499674522b7')\"\n",
              "              title=\"Convert this dataframe to an interactive table.\"\n",
              "              style=\"display:none;\">\n",
              "        \n",
              "  <svg xmlns=\"http://www.w3.org/2000/svg\" height=\"24px\"viewBox=\"0 0 24 24\"\n",
              "       width=\"24px\">\n",
              "    <path d=\"M0 0h24v24H0V0z\" fill=\"none\"/>\n",
              "    <path d=\"M18.56 5.44l.94 2.06.94-2.06 2.06-.94-2.06-.94-.94-2.06-.94 2.06-2.06.94zm-11 1L8.5 8.5l.94-2.06 2.06-.94-2.06-.94L8.5 2.5l-.94 2.06-2.06.94zm10 10l.94 2.06.94-2.06 2.06-.94-2.06-.94-.94-2.06-.94 2.06-2.06.94z\"/><path d=\"M17.41 7.96l-1.37-1.37c-.4-.4-.92-.59-1.43-.59-.52 0-1.04.2-1.43.59L10.3 9.45l-7.72 7.72c-.78.78-.78 2.05 0 2.83L4 21.41c.39.39.9.59 1.41.59.51 0 1.02-.2 1.41-.59l7.78-7.78 2.81-2.81c.8-.78.8-2.07 0-2.86zM5.41 20L4 18.59l7.72-7.72 1.47 1.35L5.41 20z\"/>\n",
              "  </svg>\n",
              "      </button>\n",
              "      \n",
              "  <style>\n",
              "    .colab-df-container {\n",
              "      display:flex;\n",
              "      flex-wrap:wrap;\n",
              "      gap: 12px;\n",
              "    }\n",
              "\n",
              "    .colab-df-convert {\n",
              "      background-color: #E8F0FE;\n",
              "      border: none;\n",
              "      border-radius: 50%;\n",
              "      cursor: pointer;\n",
              "      display: none;\n",
              "      fill: #1967D2;\n",
              "      height: 32px;\n",
              "      padding: 0 0 0 0;\n",
              "      width: 32px;\n",
              "    }\n",
              "\n",
              "    .colab-df-convert:hover {\n",
              "      background-color: #E2EBFA;\n",
              "      box-shadow: 0px 1px 2px rgba(60, 64, 67, 0.3), 0px 1px 3px 1px rgba(60, 64, 67, 0.15);\n",
              "      fill: #174EA6;\n",
              "    }\n",
              "\n",
              "    [theme=dark] .colab-df-convert {\n",
              "      background-color: #3B4455;\n",
              "      fill: #D2E3FC;\n",
              "    }\n",
              "\n",
              "    [theme=dark] .colab-df-convert:hover {\n",
              "      background-color: #434B5C;\n",
              "      box-shadow: 0px 1px 3px 1px rgba(0, 0, 0, 0.15);\n",
              "      filter: drop-shadow(0px 1px 2px rgba(0, 0, 0, 0.3));\n",
              "      fill: #FFFFFF;\n",
              "    }\n",
              "  </style>\n",
              "\n",
              "      <script>\n",
              "        const buttonEl =\n",
              "          document.querySelector('#df-3cae13a8-8963-453c-b34b-0499674522b7 button.colab-df-convert');\n",
              "        buttonEl.style.display =\n",
              "          google.colab.kernel.accessAllowed ? 'block' : 'none';\n",
              "\n",
              "        async function convertToInteractive(key) {\n",
              "          const element = document.querySelector('#df-3cae13a8-8963-453c-b34b-0499674522b7');\n",
              "          const dataTable =\n",
              "            await google.colab.kernel.invokeFunction('convertToInteractive',\n",
              "                                                     [key], {});\n",
              "          if (!dataTable) return;\n",
              "\n",
              "          const docLinkHtml = 'Like what you see? Visit the ' +\n",
              "            '<a target=\"_blank\" href=https://colab.research.google.com/notebooks/data_table.ipynb>data table notebook</a>'\n",
              "            + ' to learn more about interactive tables.';\n",
              "          element.innerHTML = '';\n",
              "          dataTable['output_type'] = 'display_data';\n",
              "          await google.colab.output.renderOutput(dataTable, element);\n",
              "          const docLink = document.createElement('div');\n",
              "          docLink.innerHTML = docLinkHtml;\n",
              "          element.appendChild(docLink);\n",
              "        }\n",
              "      </script>\n",
              "    </div>\n",
              "  </div>\n",
              "  "
            ]
          },
          "metadata": {},
          "execution_count": 67
        }
      ]
    },
    {
      "cell_type": "code",
      "source": [
        "#create plot for 2022 accuracy\n",
        "plt.xlabel('Date (Month/Day)') \n",
        "plt.ylabel('Prediction Accuracy') \n",
        "plt.title(\"Accuracy Estimation for 2022 PA\")\n",
        "\n",
        "plt.plot(data_2022['Date'].dt.strftime('%m-%d'), accuracy_2022, label='Accuracy 2022')\n",
        "plt.xticks(np.arange(0, len(data_2022['Date']), 7))"
      ],
      "metadata": {
        "colab": {
          "base_uri": "https://localhost:8080/",
          "height": 442
        },
        "id": "NSLRsyeoTg8v",
        "outputId": "4da3084c-938b-45b8-f6e3-7d77e709ac5c"
      },
      "id": "NSLRsyeoTg8v",
      "execution_count": 68,
      "outputs": [
        {
          "output_type": "execute_result",
          "data": {
            "text/plain": [
              "([<matplotlib.axis.XTick at 0x7f394bef70d0>,\n",
              "  <matplotlib.axis.XTick at 0x7f394bef7e10>,\n",
              "  <matplotlib.axis.XTick at 0x7f394bf58dd0>,\n",
              "  <matplotlib.axis.XTick at 0x7f394bf56990>,\n",
              "  <matplotlib.axis.XTick at 0x7f394bbbd410>,\n",
              "  <matplotlib.axis.XTick at 0x7f394bbbdd50>,\n",
              "  <matplotlib.axis.XTick at 0x7f394bc51f50>],\n",
              " <a list of 7 Text major ticklabel objects>)"
            ]
          },
          "metadata": {},
          "execution_count": 68
        },
        {
          "output_type": "display_data",
          "data": {
            "text/plain": [
              "<Figure size 432x288 with 1 Axes>"
            ],
            "image/png": "[encoded data removed]"
          },
          "metadata": {
            "needs_background": "light"
          }
        }
      ]
    },
    {
      "cell_type": "code",
      "source": [
        "#cleans accuracy list of all nan values\n",
        "newlist = [x for x in accuracy if math.isnan(x) == False]\n",
        "print(newlist)"
      ],
      "metadata": {
        "colab": {
          "base_uri": "https://localhost:8080/"
        },
        "id": "ulVDSL0kTiLj",
        "outputId": "ba96bb3d-2ef9-4213-b468-f3401464edae"
      },
      "id": "ulVDSL0kTiLj",
      "execution_count": 69,
      "outputs": [
        {
          "output_type": "stream",
          "name": "stdout",
          "text": [
            "[0.36344476553980376, 0.3980874940277115, 0.4868227432077127, 0.23853338820498138, 0.39942335810163, 0.2324768763950893, 0.24823391181290033, 0.6831472392638038, 0.6436589595375725, 0.40826031164069676, 0.5822379084967322, 0.47133544973544994, 0.5478622386223864, 0.4894637362637364, 0.5601868293709236, 0.6626600298656048, 0.44435380507343125, 0.481477034358047, 0.4116524427953, 0.37622834534407235, 0.4120984367744931, 0.46971817111459957, 0.6341892221280203, 0.30379782211392015, 0.48408101439896445, 0.4125902854384996, 0.373313131628197, 0.3553146597791236, 0.40105855099956245, 0.4976379232301287, 0.4060354926872509, 0.2870148548454471, 0.3036630482819579, 0.27572775381219916, 0.22565305829228255, 0.4383450042698548, 0.4670627843494086, 0.39093830921553696, 0.398526397515528, 0.3263204068658615, 0.3109036947304664, 0.27058618871903006, 0.46043636027773804, 0.4783608901182339, 0.3829993360492093, 0.38931945710612703, 0.2849367041139046, 0.27143073056409683, 0.2729379812659799, 0.386703714041738, 0.4057143282811999, 0.28590261916900783, 0.2970726512612122, 0.28126828743684185, 0.26929227997335514, 0.25741023186498346, 0.3532429720341014, 0.3740642041255423, 0.2492072964519524, 0.2663380440372891, 0.25064976292784036, 0.20557340232311283, 0.18417772172105762, 0.34171689403463357, 0.33087866378772846, 0.24067239098490723, 0.226314380175211, 0.19841827698609393, 0.1849243460985106, 0.19426161836346678, 0.24489062532531358, 0.29492320035882447, 0.2210224576940022, 0.2105537026401143, 0.19305297785927078, 0.18666440601131384, 0.19338669087199212, 0.47671111204893346, 0.6419301006199549, 0.5310277528577323, 0.4546119214241485, 0.3894370885808094, 0.4467833500314886, 0.41815066072109497, 0.8785894677002828, 0.9166250261373974, 0.8134977076463621, 0.5318780146093591, 0.44201218811733367, 0.38493479211215254, 0.38333205296651784, 0.4868043771280862, 0.5648244797466746, 0.3898308290741409, 0.4922318701835452, 0.3286915261750877, 0.31402192624965586, 0.3544416872023023, 0.5359295247465725, 0.6474903645917773, 0.5246501901908719, 0.5116762386594194, 0.5381331823318791, 0.5595296705562762, 0.510080833842397, 0.9998686380870303, 0.831705792281672, 0.7724756988177126, 0.6538075569787052, 0.736315389909503, 0.9185633878098091, 0.8879067605281468, 0.8311657405782451, 0.38730061328969057, 0.6557598830729339, 0.625453683613094, 0.7074523149131675, 0.6991273876960202, 0.7524296530700076, 0.7990846379621488, 0.9322063719657543, 0.44386475825899785, 0.3904883335071353, 0.4095013374939107, 0.3668078205669202, 0.4004501821310005, 0.480122929690436, 0.670851671813451, 0.4618776270368481, 0.42883400727813814, 0.537584841385863, 0.5197661073712976, 0.5087745297820436, 0.5888839905957086, 0.8563835810950666, 0.6050966049016296, 0.6015705254452013, 0.5853425920268341, 0.6316880930087474, 0.5792711929257226, 0.9343838954599195, 0.9430173263841796, 0.699324516903538, 0.6386822156880515, 0.5105988611125317, 0.42404435331710255, 0.649836207448294, 0.5501813822982284, 0.6492304299608604, 0.5802259170268211, 0.6930219829839919, 0.6474934876690507, 0.4307233720622279, 0.5262546732347636, 0.4376648513772977, 0.8105041851997694, 0.42750477447032476, 0.6208173062000178, 0.4698776716454993, 0.5476755475055919, 0.49629991957166497, 0.9352872898917485, 0.775100951202217, 0.9577776144413842, 0.657790320624322, 0.7008979387234887, 0.8259419399473074, 0.8142966535187236, 0.6485311108169145, 0.828894387145238, 0.42870896898805666, 0.45008246527431095, 0.5066402049122785, 0.364490422433965, 0.3562562950755769, 0.6203004564065917, 0.6515127986317932, 0.43560155794059185, 0.43093558868950677, 0.34459028107505973, 0.42063690397101217, 0.3923600239757473, 0.7737066886160595, 0.8332225877403717, 0.39011687024962893, 0.45629608884605555, 0.42410588857472886, 0.38352159301733857, 0.4180598727779403, 0.42540428750264414, 0.5774202263983629, 0.25695381539286044, 0.2476156997516905, 0.25630941710974353, 0.22902718223531704, 0.1990813344485225, 0.43389317307888087, 0.6373057230275347, 0.28991232525472854, 0.2092472045389533, 0.2733239643924712, 0.20283034511137776, 0.2506188888952098, 0.4435183118574686, 0.4628082690160673, 0.24764449740259742, 0.3016042373149437, 0.3458722030762533, 0.2732286330419831, 0.24791495007540698, 0.5626350041642922, 0.6826610121263695, 0.3597464152582752, 0.39826834895122254, 0.40158289062011143, 0.3477389490937661, 0.3823243283093054, 0.6615989407191447, 0.9595012261810801, 0.33863176979705534, 0.4063807633533105, 0.4838559417199716, 0.42775793580979193, 0.46910594388247295, 0.96241372853795, 0.578968274710159, 0.5972769691380118, 0.6825083005631234, 0.6786227704964185, 0.7507921978820599, 0.7609305653958123, 0.8193220238095238, 0.7437639085834967, 0.6116481123760558, 0.7051900287915996, 0.6251474401321222, 0.5328804383298672, 0.766777685189448, 0.7738351289001673, 0.8522217878528657, 0.5775202212370335, 0.6828605679678355, 0.7766570560314887, 0.6223342903525046, 0.7369433349810512, 0.8438762577758376, 0.5016178429985856, 0.5663794829982891, 0.6999842639090789, 0.7101670476637394, 0.8101530934536555, 0.7608677619765855, 0.9260359412550067, 0.5900103768624014, 0.5848048564158488, 0.8998759145318269, 0.805284893382721, 0.5613783795100844, 0.8291064522778808, 0.8694981398809523, 0.6875499775381853, 0.6715351683714514, 0.7439556277056276, 0.8199589531293853, 0.7830377244706512, 0.9925305758450823, 0.9866029013539652, 0.7555194774346794, 0.9726935294117648, 0.6717003846153846, 0.8224902668759811, 0.6342933414043583, 0.7854967016491754, 0.7406221338155514, -0.04713686067019429, 0.7525783012751244, 0.894546095238095, 0.8346547938638544, 0.9255847577908052, 0.6555290347490346, 0.6360602076002815, 0.47027747040252554, 0.5878551546860783, 0.9818431838905776, 0.8289813708297691, 0.9107887429511279, 0.9184383677455357, 0.4289677712137484, 0.21412575702075676, 0.7767557116303772, 0.8425293807603688, 0.9204726274386408, 0.9763891889185582, 0.9757485959383752, 0.7917562448979589, 0.8081088786482339, 0.5487419519094765, 0.5773222619047618, 0.5743309548482604, 0.6192506943335991, 0.47573336603310834, 0.3524355680728668, 0.42693414343786296, 0.4954047136118598, 0.25491698855755895, 0.2027525082735797, 0.21346707171893153, 0.19095599870129876, 0.36400115679442513, 0.5446732638164755, 0.2101978511066399, 0.23030937389770723, 0.1731328007954922, 0.16920688694525432, 0.1661920649061407, 0.12254458554817282, 0.17066938230190865, 0.06967824368358921, 0.07395673233082711, 0.07169275072886305, 0.06465542550394388, 0.06291841407249466, 0.1250589279751967, 0.17220758128078817, 0.06961923592671271, 0.09014476276431149, 0.06897817482241508, 0.07073682517199509, 0.06263402830864795, 0.4862921801491682, 0.5442101252006422, 0.3075219120181406, 0.33472495606673913, 0.26082230017693675, 0.2759812030932032, 0.28307832345328554, 0.4524613973458236, 0.5212257643884892, 0.2709691678354371, 0.30489376643871646, 0.24580282018659882, 0.280136805219913, 0.253655601750547, 0.6615520283839873, 0.9005046506453047, 0.5417314000657824, 0.6319391354393146, 0.3562331639090156, 0.5633487743700833, 0.5029398035523437, 0.5874246042603086, 0.7062621475563908, 0.41730552547549626, 0.3484506781560339, 0.3966201222730471, 0.32465276137672816, 0.33373631014063654, 0.6987508959585379, 0.7119400595472165, 0.5058573823494192, 0.46044343118732745, 0.48576967304227836, 0.4451594717060663, 0.388428142336102, 0.6320399871423981, 0.7899865006026519, 0.848630297798878, 0.39052162859980155, 0.45274612019341487, 0.37842117013087007, 0.36378841813136, 0.4435046108530645, 0.5358600903408313, 0.35463494881782776, 0.41590925702953474, 0.2667797651227768, 0.2924486565900546, 0.3158467512908778, 0.38042282968853547, 0.6750976675813407, 0.3534114816334907, 0.3740604148566463, 0.3069829144385027, 0.33774743086879777, 0.3205834233060313, 0.5822546600078277, 0.7977496940968866, 0.4579065310439978, 0.5025298237485322, 0.48895880430343275, 0.44759294318126, 0.6051758016124933, 0.4431929588675345, 0.6474772133455388, 0.5332481491397048, 0.5211337895649286, 0.40884620982735487, 0.46425543595140906, 0.4678058234805349, 0.5630513872178784, 0.8311808345998758, 0.49188324111209336, 0.47881164211204397, 0.4018687807610569, 0.43768952518237536, 0.47971506030470823, 0.7346610454758067, 0.9250266760798344, 0.7010602689773008, 0.6109216935244661, 0.6241323305595017, 0.5832122186032145, 0.550548547269106, 0.7818869831923896, 0.9275142150739458, 0.6183428100492971, 0.5129621056841318, 0.5220788675174381, 0.4935432935165913, 0.5199732391026244, 0.6275321941793992, 0.7547313021626094, 0.512160864805367, 0.4639545507807702, 0.3749857336917498, 0.3545802483697239, 0.3890956263296398, 0.4879079391507628, 0.6298653018957503, 0.4723209841853223, 0.35992302965471445, 0.3376229658595029, 0.29528288189198504, 0.3381017787875078, 0.41686597071377496, 0.59958403723246, 0.2996526884758971, 0.34089850266336197, 0.2567372052179341, 0.2802866402132902, 0.29499132287813257, 0.5868594614995237, 0.46873138601746744, 0.46102489294370874, 0.3827561993314824, 0.38621583212314436, 0.4734302409247829, 0.5648183696807209, 0.7900660610714265, 0.5884774254774499, 0.4948751627961313, 0.42749108937885105, 0.33458222911057944, 0.285098519976109, 0.3644465442777648, 0.6292489338494996, 0.7150007079441532, 0.4888011663021963, 0.5038757863369455, 0.48790487077787004, 0.32257998687123646, 0.3502730313482876, 0.40169568793393273, 0.6318016743593237, 0.39939313321181913, 0.45015869298101807, 0.41255372557920567, 0.3802954311847234, 0.35159388920851786, 0.5761586213320424, 0.8265981928589508, 0.43072487877976695, 0.3586315242081627, 0.34874670648093364, 0.2781255610481521, 0.3248415081257928, 0.5829726317631421, 0.7238997661980242, 0.30657548522272304, 0.28815472463306835, 0.22620506979842026, 0.1944330522394866, 0.1825045958862168, 0.2374534486639447, 0.2650193551673484, 0.19089566741138897, 0.17938263340241667, 0.15260638496358625, 0.15916022547217767, 0.13928186577376744, 0.3245970909534559, 0.38566290789475266, 0.3202203725646098, 0.31371524048760924, 0.35789335757221097, 0.34434448921816163, 0.3616212651650992, 0.5859117089333774, 0.46408858942939857, 0.6580812340445992, 0.9827852443054191, 0.938209886046749, 0.9916020050617397, 0.960459475388746, 0.4531738463538044, 0.0644794560412757, 0.72343851216473, 0.729449160306464, 0.9672399396746956, 0.7892140779079622, 0.764922621846462, 0.8387213224496335, 0.2374352533440639, 0.742549962246608, 0.9625952294527106, 0.9487552149510033, 0.8343165330491238, 0.6101628562457986, 0.7110061493823527, 0.22025265655860715, 0.9926091474387523, 0.9149823045375213, 0.8978276330332207, 0.979852525954079, 0.8655601834223168, 0.8294083581753265, 0.8036135790795048, 0.8091953577978934, 0.9326431567584719, 0.6176361100418375, 0.7616274276133814, 0.6110162160435326]\n"
          ]
        }
      ]
    },
    {
      "cell_type": "code",
      "source": [
        "#calculate variance and st deviation of accuracy\n",
        "var = sum((l-overallAccuracy)**2 for l in newlist) / len(newlist)\n",
        "st_dev = math.sqrt(var)\n",
        "print(var)\n",
        "print(st_dev)"
      ],
      "metadata": {
        "colab": {
          "base_uri": "https://localhost:8080/"
        },
        "id": "ZijPJi2lTkrT",
        "outputId": "eb0eda83-5633-4d3d-b1b5-f6bc2d7cf00e"
      },
      "id": "ZijPJi2lTkrT",
      "execution_count": 70,
      "outputs": [
        {
          "output_type": "stream",
          "name": "stdout",
          "text": [
            "0.05001635037565467\n",
            "0.2236433553129953\n"
          ]
        }
      ]
    },
    {
      "cell_type": "code",
      "source": [
        "#calculate median of accuracy\n",
        "accMedian = statistics.median(newlist)\n",
        "print(accMedian)"
      ],
      "metadata": {
        "colab": {
          "base_uri": "https://localhost:8080/"
        },
        "id": "JkBubTMaTmm0",
        "outputId": "03371f2f-6061-4d26-a818-1c0c6e3cc4c7"
      },
      "id": "JkBubTMaTmm0",
      "execution_count": 71,
      "outputs": [
        {
          "output_type": "stream",
          "name": "stdout",
          "text": [
            "0.4762222390410209\n"
          ]
        }
      ]
    },
    {
      "cell_type": "code",
      "source": [
        "#Seperate Running Weekly Average plot into 3 plots for the 3 variants: Original, Delta, Omicron\n",
        "\n",
        "# Start Date - May 20th 2021\n",
        "# Delta: May 20th 2021 - December 1st 2021\n",
        "# Omicron: December 1st 2021 - Present"
      ],
      "metadata": {
        "id": "QA5c4LGoTo2Y"
      },
      "id": "QA5c4LGoTo2Y",
      "execution_count": 72,
      "outputs": []
    },
    {
      "cell_type": "code",
      "source": [
        "type(merged_df_new['Date'][1])"
      ],
      "metadata": {
        "colab": {
          "base_uri": "https://localhost:8080/"
        },
        "id": "PWR2ZpCgTr1O",
        "outputId": "db9593ac-43f2-4fc0-c02b-f560376c1d72"
      },
      "id": "PWR2ZpCgTr1O",
      "execution_count": 73,
      "outputs": [
        {
          "output_type": "execute_result",
          "data": {
            "text/plain": [
              "pandas._libs.tslibs.timestamps.Timestamp"
            ]
          },
          "metadata": {},
          "execution_count": 73
        }
      ]
    },
    {
      "cell_type": "code",
      "source": [
        "merged_df_new.index[merged_df_new['Date']=='2021-05-20'].tolist()"
      ],
      "metadata": {
        "colab": {
          "base_uri": "https://localhost:8080/"
        },
        "id": "2g6bUui0kDv6",
        "outputId": "38b601ff-bb11-48f6-f208-fa3e7ef6b508"
      },
      "id": "2g6bUui0kDv6",
      "execution_count": 74,
      "outputs": [
        {
          "output_type": "execute_result",
          "data": {
            "text/plain": [
              "[257]"
            ]
          },
          "metadata": {},
          "execution_count": 74
        }
      ]
    },
    {
      "cell_type": "code",
      "source": [
        "merged_df_new.index[merged_df_new['Date']=='2021-12-01'].tolist()"
      ],
      "metadata": {
        "colab": {
          "base_uri": "https://localhost:8080/"
        },
        "id": "i0f_1AAnkECz",
        "outputId": "e2b3edb4-7229-4599-f1f9-909c8ba09ea2"
      },
      "id": "i0f_1AAnkECz",
      "execution_count": 75,
      "outputs": [
        {
          "output_type": "execute_result",
          "data": {
            "text/plain": [
              "[452]"
            ]
          },
          "metadata": {},
          "execution_count": 75
        }
      ]
    },
    {
      "cell_type": "code",
      "source": [
        "#print(merged_inner)\n",
        "standardVariantDF = merged_df_new[:257]\n",
        "deltaVariantDF = merged_df_new[257:452]\n",
        "omicronVariantDF = merged_df_new[452:]"
      ],
      "metadata": {
        "id": "_tncXpS9T0gn"
      },
      "id": "_tncXpS9T0gn",
      "execution_count": 76,
      "outputs": []
    },
    {
      "cell_type": "code",
      "source": [
        "#Create plot of Accuracy\n",
        "\n",
        "#Accuracy Line\n",
        "plt.plot(standardVariantDF['Date'], standardVariantDF['Accuracy'], color='r', label='Daily Accuracy')\n",
        "\n",
        "#Create XY Labels and Title\n",
        "plt.xlabel('Date (Year/Month/Day)') \n",
        "plt.ylabel('Percentage') \n",
        "plt.title(\"(Standard covid) Predicted Daily COVID-19 Case Accuracy in PA\")\n",
        "\n",
        "#Display Plot\n",
        "plt.legend()\n",
        "plt.show()"
      ],
      "metadata": {
        "colab": {
          "base_uri": "https://localhost:8080/",
          "height": 295
        },
        "id": "iGb97-d2T64q",
        "outputId": "b388cd27-f2ca-48ea-b4a3-5db90a37829d"
      },
      "id": "iGb97-d2T64q",
      "execution_count": 77,
      "outputs": [
        {
          "output_type": "display_data",
          "data": {
            "text/plain": [
              "<Figure size 432x288 with 1 Axes>"
            ],
            "image/png": "[encoded data removed]"
          },
          "metadata": {
            "needs_background": "light"
          }
        }
      ]
    },
    {
      "cell_type": "code",
      "source": [
        "#Create plot of Accuracy\n",
        "\n",
        "#Accuracy Line\n",
        "plt.plot(deltaVariantDF['Date'], deltaVariantDF['Accuracy'], color='r', label='Daily Accuracy')\n",
        "\n",
        "#Create XY Labels and Title\n",
        "plt.xlabel('Date (Year/Month/Day)') \n",
        "plt.ylabel('Percentage') \n",
        "plt.title(\"(Delta covid) Predicted Daily COVID-19 Case Accuracy in PA\")\n",
        "\n",
        "#Display Plot\n",
        "plt.legend()\n",
        "plt.show()"
      ],
      "metadata": {
        "colab": {
          "base_uri": "https://localhost:8080/",
          "height": 295
        },
        "id": "6QjpiX7pT9O9",
        "outputId": "0ca794fc-eb61-440d-894f-a575502bd6f9"
      },
      "id": "6QjpiX7pT9O9",
      "execution_count": 78,
      "outputs": [
        {
          "output_type": "display_data",
          "data": {
            "text/plain": [
              "<Figure size 432x288 with 1 Axes>"
            ],
            "image/png": "[encoded data removed]"
          },
          "metadata": {
            "needs_background": "light"
          }
        }
      ]
    },
    {
      "cell_type": "code",
      "source": [
        "#Create plot of Accuracy\n",
        "\n",
        "#Accuracy Line\n",
        "plt.plot(omicronVariantDF['Date'], omicronVariantDF['Accuracy'], color='r', label='Daily Accuracy')\n",
        "\n",
        "#Create XY Labels and Title\n",
        "plt.xlabel('Date (Year/Month/Day)') \n",
        "plt.ylabel('Percentage') \n",
        "plt.title(\"(Omicron covid) Predicted Daily COVID-19 Case Accuracy in PA\")\n",
        "\n",
        "#Display Plot\n",
        "plt.legend()\n",
        "plt.show()"
      ],
      "metadata": {
        "colab": {
          "base_uri": "https://localhost:8080/",
          "height": 295
        },
        "id": "WBsTUa8JT_c6",
        "outputId": "9a99eeb8-d5b9-428d-d390-5ccc26bb016d"
      },
      "id": "WBsTUa8JT_c6",
      "execution_count": 79,
      "outputs": [
        {
          "output_type": "display_data",
          "data": {
            "text/plain": [
              "<Figure size 432x288 with 1 Axes>"
            ],
            "image/png": "[encoded data removed]"
          },
          "metadata": {
            "needs_background": "light"
          }
        }
      ]
    }
  ],
  "metadata": {
    "kernelspec": {
      "display_name": "Python 3 (ipykernel)",
      "language": "python",
      "name": "python3"
    },
    "language_info": {
      "codemirror_mode": {
        "name": "ipython",
        "version": 3
      },
      "file_extension": ".py",
      "mimetype": "text/x-python",
      "name": "python",
      "nbconvert_exporter": "python",
      "pygments_lexer": "ipython3",
      "version": "3.9.7"
    },
    "colab": {
      "name": "JHUAPL-Bucky-analysis.ipynb",
      "provenance": [],
      "collapsed_sections": []
    }
  },
  "nbformat": 4,
  "nbformat_minor": 5
}