{
  "cells": [
    {
      "cell_type": "code",
      "execution_count": 1,
      "id": "19d98421",
      "metadata": {
        "id": "19d98421"
      },
      "outputs": [],
      "source": [
        "#import libraries\n",
        "import csv\n",
        "import pandas as pd\n",
        "import matplotlib.pyplot as plt\n",
        "import math\n",
        "import numpy as np\n",
        "import statistics\n",
        "import glob\n",
        "import requests\n",
        "from itertools import repeat"
      ]
    },
    {
      "cell_type": "code",
      "execution_count": 2,
      "id": "bb3a7895",
      "metadata": {
        "id": "bb3a7895"
      },
      "outputs": [],
      "source": [
        "#actual COVID-19 cases data for PA\n",
        "url2 = 'https://raw.githubusercontent.com/IvanVoinovGitHub/Covid19-Analysis-Modeling/main/Data/COVID-19_Aggregate_Cases_Current_Daily_County_Health.csv'\n",
        "df1 = pd.read_csv(url2)"
      ]
    },
    {
      "cell_type": "code",
      "execution_count": 3,
      "id": "16ac3fab",
      "metadata": {
        "id": "16ac3fab"
      },
      "outputs": [],
      "source": [
        "url = 'https://github.com/reichlab/covid19-forecast-hub/tree/master/data-processed/SDSC_ISG-TrendModel'\n",
        "download = requests.get(url).content\n",
        "\n",
        "csvStringList = []\n",
        "hrefStringList = []\n",
        "urlExtension = []\n",
        "rawUrls = []\n",
        "tempList = []\n",
        "urlExtensionwoutblob = []\n",
        "urlBeginning = 'https://raw.githubusercontent.com'\n",
        "\n",
        "urlStringList = str(requests.get(url).text).split(\" \")\n",
        "for i in urlStringList:\n",
        "  if \"csv\" in i:\n",
        "    csvStringList.append(i)\n",
        "\n",
        "for i in csvStringList:\n",
        "  if \"href\" in i and \"/reichlab/covid19-forecast-hub/blob/master/data-processed/\" in i:\n",
        "    hrefStringList.append(i)\n",
        "\n",
        "for i in hrefStringList:\n",
        "  tempList1 = i.split(\"\\\"\")\n",
        "  for x in tempList1:\n",
        "    if \"/reichlab/covid19-forecast-hub/blob/master/data-processed/\" in x:\n",
        "      urlExtension.append(x)\n",
        "\n",
        "for i in urlExtension:\n",
        "  newString = \"\"\n",
        "  tempList = []\n",
        "  temp = i.split(\"/\")\n",
        "  for x in temp:\n",
        "    if \"blob\" not in x:\n",
        "      tempList.append(x)\n",
        "  for j in range(1, len(tempList)):\n",
        "    newString += \"/\" + tempList[j]\n",
        "  urlExtensionwoutblob.append(newString)\n",
        "\n",
        "\n",
        "for i in urlExtensionwoutblob:\n",
        "  finalUrl = urlBeginning + i\n",
        "  rawUrls.append(finalUrl)"
      ]
    },
    {
      "cell_type": "code",
      "execution_count": 4,
      "id": "922310e5",
      "metadata": {
        "id": "922310e5"
      },
      "outputs": [],
      "source": [
        "#reading all the raw data, filtering PA cases data, and ensemble back into one dataframe\n",
        "all_data = []\n",
        "for url in rawUrls:\n",
        "    df3=pd.read_csv(url)\n",
        "    df2_case = df3[df3['target'].str.contains('case')]\n",
        "    df2_casesPA = df2_case[(df2_case[\"type\"]==\"point\") & (df2_case[\"location\"]==\"42\")]\n",
        "    all_data.append(df2_casesPA)"
      ]
    },
    {
      "cell_type": "code",
      "execution_count": 5,
      "id": "e6b3b86d",
      "metadata": {
        "id": "e6b3b86d",
        "outputId": "03909054-f5db-4868-cfa9-b43fad0c3cab",
        "colab": {
          "base_uri": "https://localhost:8080/"
        }
      },
      "outputs": [
        {
          "output_type": "execute_result",
          "data": {
            "text/plain": [
              "27"
            ]
          },
          "metadata": {},
          "execution_count": 5
        }
      ],
      "source": [
        "len(all_data)"
      ]
    },
    {
      "cell_type": "code",
      "execution_count": 6,
      "id": "9ca79685",
      "metadata": {
        "id": "9ca79685",
        "colab": {
          "base_uri": "https://localhost:8080/",
          "height": 206
        },
        "outputId": "7f6e2885-db29-4374-d7ab-8e8b9b263aa8"
      },
      "outputs": [
        {
          "output_type": "execute_result",
          "data": {
            "text/plain": [
              "   location               target   type  quantile forecast_date  \\\n",
              "39       42  1 wk ahead inc case  point       NaN    2021-09-05   \n",
              "39       42  1 wk ahead inc case  point       NaN    2021-09-12   \n",
              "39       42  1 wk ahead inc case  point       NaN    2021-09-19   \n",
              "39       42  1 wk ahead inc case  point       NaN    2021-09-26   \n",
              "39       42  1 wk ahead inc case  point       NaN    2021-10-03   \n",
              "\n",
              "   target_end_date         value  \n",
              "39      2021-09-11  29294.125052  \n",
              "39      2021-09-18  31375.838768  \n",
              "39      2021-09-25  33252.407737  \n",
              "39      2021-10-02  29362.570733  \n",
              "39      2021-10-09  31476.545852  "
            ],
            "text/html": [
              "\n",
              "  <div id=\"df-2408ba53-41f3-420e-a84c-6263e637309c\">\n",
              "    <div class=\"colab-df-container\">\n",
              "      <div>\n",
              "<style scoped>\n",
              "    .dataframe tbody tr th:only-of-type {\n",
              "        vertical-align: middle;\n",
              "    }\n",
              "\n",
              "    .dataframe tbody tr th {\n",
              "        vertical-align: top;\n",
              "    }\n",
              "\n",
              "    .dataframe thead th {\n",
              "        text-align: right;\n",
              "    }\n",
              "</style>\n",
              "<table border=\"1\" class=\"dataframe\">\n",
              "  <thead>\n",
              "    <tr style=\"text-align: right;\">\n",
              "      <th></th>\n",
              "      <th>location</th>\n",
              "      <th>target</th>\n",
              "      <th>type</th>\n",
              "      <th>quantile</th>\n",
              "      <th>forecast_date</th>\n",
              "      <th>target_end_date</th>\n",
              "      <th>value</th>\n",
              "    </tr>\n",
              "  </thead>\n",
              "  <tbody>\n",
              "    <tr>\n",
              "      <th>39</th>\n",
              "      <td>42</td>\n",
              "      <td>1 wk ahead inc case</td>\n",
              "      <td>point</td>\n",
              "      <td>NaN</td>\n",
              "      <td>2021-09-05</td>\n",
              "      <td>2021-09-11</td>\n",
              "      <td>29294.125052</td>\n",
              "    </tr>\n",
              "    <tr>\n",
              "      <th>39</th>\n",
              "      <td>42</td>\n",
              "      <td>1 wk ahead inc case</td>\n",
              "      <td>point</td>\n",
              "      <td>NaN</td>\n",
              "      <td>2021-09-12</td>\n",
              "      <td>2021-09-18</td>\n",
              "      <td>31375.838768</td>\n",
              "    </tr>\n",
              "    <tr>\n",
              "      <th>39</th>\n",
              "      <td>42</td>\n",
              "      <td>1 wk ahead inc case</td>\n",
              "      <td>point</td>\n",
              "      <td>NaN</td>\n",
              "      <td>2021-09-19</td>\n",
              "      <td>2021-09-25</td>\n",
              "      <td>33252.407737</td>\n",
              "    </tr>\n",
              "    <tr>\n",
              "      <th>39</th>\n",
              "      <td>42</td>\n",
              "      <td>1 wk ahead inc case</td>\n",
              "      <td>point</td>\n",
              "      <td>NaN</td>\n",
              "      <td>2021-09-26</td>\n",
              "      <td>2021-10-02</td>\n",
              "      <td>29362.570733</td>\n",
              "    </tr>\n",
              "    <tr>\n",
              "      <th>39</th>\n",
              "      <td>42</td>\n",
              "      <td>1 wk ahead inc case</td>\n",
              "      <td>point</td>\n",
              "      <td>NaN</td>\n",
              "      <td>2021-10-03</td>\n",
              "      <td>2021-10-09</td>\n",
              "      <td>31476.545852</td>\n",
              "    </tr>\n",
              "  </tbody>\n",
              "</table>\n",
              "</div>\n",
              "      <button class=\"colab-df-convert\" onclick=\"convertToInteractive('df-2408ba53-41f3-420e-a84c-6263e637309c')\"\n",
              "              title=\"Convert this dataframe to an interactive table.\"\n",
              "              style=\"display:none;\">\n",
              "        \n",
              "  <svg xmlns=\"http://www.w3.org/2000/svg\" height=\"24px\"viewBox=\"0 0 24 24\"\n",
              "       width=\"24px\">\n",
              "    <path d=\"M0 0h24v24H0V0z\" fill=\"none\"/>\n",
              "    <path d=\"M18.56 5.44l.94 2.06.94-2.06 2.06-.94-2.06-.94-.94-2.06-.94 2.06-2.06.94zm-11 1L8.5 8.5l.94-2.06 2.06-.94-2.06-.94L8.5 2.5l-.94 2.06-2.06.94zm10 10l.94 2.06.94-2.06 2.06-.94-2.06-.94-.94-2.06-.94 2.06-2.06.94z\"/><path d=\"M17.41 7.96l-1.37-1.37c-.4-.4-.92-.59-1.43-.59-.52 0-1.04.2-1.43.59L10.3 9.45l-7.72 7.72c-.78.78-.78 2.05 0 2.83L4 21.41c.39.39.9.59 1.41.59.51 0 1.02-.2 1.41-.59l7.78-7.78 2.81-2.81c.8-.78.8-2.07 0-2.86zM5.41 20L4 18.59l7.72-7.72 1.47 1.35L5.41 20z\"/>\n",
              "  </svg>\n",
              "      </button>\n",
              "      \n",
              "  <style>\n",
              "    .colab-df-container {\n",
              "      display:flex;\n",
              "      flex-wrap:wrap;\n",
              "      gap: 12px;\n",
              "    }\n",
              "\n",
              "    .colab-df-convert {\n",
              "      background-color: #E8F0FE;\n",
              "      border: none;\n",
              "      border-radius: 50%;\n",
              "      cursor: pointer;\n",
              "      display: none;\n",
              "      fill: #1967D2;\n",
              "      height: 32px;\n",
              "      padding: 0 0 0 0;\n",
              "      width: 32px;\n",
              "    }\n",
              "\n",
              "    .colab-df-convert:hover {\n",
              "      background-color: #E2EBFA;\n",
              "      box-shadow: 0px 1px 2px rgba(60, 64, 67, 0.3), 0px 1px 3px 1px rgba(60, 64, 67, 0.15);\n",
              "      fill: #174EA6;\n",
              "    }\n",
              "\n",
              "    [theme=dark] .colab-df-convert {\n",
              "      background-color: #3B4455;\n",
              "      fill: #D2E3FC;\n",
              "    }\n",
              "\n",
              "    [theme=dark] .colab-df-convert:hover {\n",
              "      background-color: #434B5C;\n",
              "      box-shadow: 0px 1px 3px 1px rgba(0, 0, 0, 0.15);\n",
              "      filter: drop-shadow(0px 1px 2px rgba(0, 0, 0, 0.3));\n",
              "      fill: #FFFFFF;\n",
              "    }\n",
              "  </style>\n",
              "\n",
              "      <script>\n",
              "        const buttonEl =\n",
              "          document.querySelector('#df-2408ba53-41f3-420e-a84c-6263e637309c button.colab-df-convert');\n",
              "        buttonEl.style.display =\n",
              "          google.colab.kernel.accessAllowed ? 'block' : 'none';\n",
              "\n",
              "        async function convertToInteractive(key) {\n",
              "          const element = document.querySelector('#df-2408ba53-41f3-420e-a84c-6263e637309c');\n",
              "          const dataTable =\n",
              "            await google.colab.kernel.invokeFunction('convertToInteractive',\n",
              "                                                     [key], {});\n",
              "          if (!dataTable) return;\n",
              "\n",
              "          const docLinkHtml = 'Like what you see? Visit the ' +\n",
              "            '<a target=\"_blank\" href=https://colab.research.google.com/notebooks/data_table.ipynb>data table notebook</a>'\n",
              "            + ' to learn more about interactive tables.';\n",
              "          element.innerHTML = '';\n",
              "          dataTable['output_type'] = 'display_data';\n",
              "          await google.colab.output.renderOutput(dataTable, element);\n",
              "          const docLink = document.createElement('div');\n",
              "          docLink.innerHTML = docLinkHtml;\n",
              "          element.appendChild(docLink);\n",
              "        }\n",
              "      </script>\n",
              "    </div>\n",
              "  </div>\n",
              "  "
            ]
          },
          "metadata": {},
          "execution_count": 6
        }
      ],
      "source": [
        "df2 = pd.concat(all_data)\n",
        "df2.head(5)"
      ]
    },
    {
      "cell_type": "code",
      "execution_count": 7,
      "id": "eae19ec4",
      "metadata": {
        "id": "eae19ec4"
      },
      "outputs": [],
      "source": [
        "#convert date to datetime object\n",
        "df1['Date'] = pd.to_datetime(df1['Date'])\n",
        "df2['forecast_date'] = pd.to_datetime(df2['forecast_date'])\n",
        "df2['target_end_date'] = pd.to_datetime(df2['target_end_date'])"
      ]
    },
    {
      "cell_type": "code",
      "execution_count": null,
      "id": "8171aacd",
      "metadata": {
        "id": "8171aacd"
      },
      "outputs": [],
      "source": [
        "#sort datasets by date\n",
        "df1.sort_values(by='Date')\n",
        "df2.sort_values(by='target_end_date')"
      ]
    },
    {
      "cell_type": "code",
      "execution_count": 9,
      "id": "62636568",
      "metadata": {
        "id": "62636568",
        "outputId": "f6bb6ad5-5e5d-4d15-8039-fd744519deb5",
        "colab": {
          "base_uri": "https://localhost:8080/"
        }
      },
      "outputs": [
        {
          "output_type": "execute_result",
          "data": {
            "text/plain": [
              "(27, 7)"
            ]
          },
          "metadata": {},
          "execution_count": 9
        }
      ],
      "source": [
        "#filterinng out data for PA (FIPS code = 42)\n",
        "df2_2 = df2[df2['target'].str.contains('1')]\n",
        "df2_2.shape"
      ]
    },
    {
      "cell_type": "code",
      "execution_count": 10,
      "id": "e4c01c47",
      "metadata": {
        "id": "e4c01c47"
      },
      "outputs": [],
      "source": [
        "#finding weekly increase in cases in PA\n",
        "df_weekly=df2_2.groupby('target_end_date').agg('last').reset_index()\n",
        "df_weekly.rename(\n",
        "    columns={\"target_end_date\":\"Date\"},inplace=True)\n",
        "#df_weekly"
      ]
    },
    {
      "cell_type": "code",
      "execution_count": 11,
      "id": "c6e2730d",
      "metadata": {
        "id": "c6e2730d",
        "colab": {
          "base_uri": "https://localhost:8080/",
          "height": 206
        },
        "outputId": "d6dcba77-7fee-40ab-e294-842d06d83e89"
      },
      "outputs": [
        {
          "output_type": "execute_result",
          "data": {
            "text/plain": [
              "        Date location               target   type  quantile forecast_date  \\\n",
              "0 2021-09-11       42  1 wk ahead inc case  point       NaN    2021-09-05   \n",
              "1 2021-09-18       42  1 wk ahead inc case  point       NaN    2021-09-12   \n",
              "2 2021-09-25       42  1 wk ahead inc case  point       NaN    2021-09-19   \n",
              "3 2021-10-02       42  1 wk ahead inc case  point       NaN    2021-09-26   \n",
              "4 2021-10-09       42  1 wk ahead inc case  point       NaN    2021-10-03   \n",
              "\n",
              "          value      dayRate  \n",
              "0  29294.125052  4184.875007  \n",
              "1  31375.838768  4482.262681  \n",
              "2  33252.407737  4750.343962  \n",
              "3  29362.570733  4194.652962  \n",
              "4  31476.545852  4496.649407  "
            ],
            "text/html": [
              "\n",
              "  <div id=\"df-906efcb0-6616-4478-9050-1fd8daef3008\">\n",
              "    <div class=\"colab-df-container\">\n",
              "      <div>\n",
              "<style scoped>\n",
              "    .dataframe tbody tr th:only-of-type {\n",
              "        vertical-align: middle;\n",
              "    }\n",
              "\n",
              "    .dataframe tbody tr th {\n",
              "        vertical-align: top;\n",
              "    }\n",
              "\n",
              "    .dataframe thead th {\n",
              "        text-align: right;\n",
              "    }\n",
              "</style>\n",
              "<table border=\"1\" class=\"dataframe\">\n",
              "  <thead>\n",
              "    <tr style=\"text-align: right;\">\n",
              "      <th></th>\n",
              "      <th>Date</th>\n",
              "      <th>location</th>\n",
              "      <th>target</th>\n",
              "      <th>type</th>\n",
              "      <th>quantile</th>\n",
              "      <th>forecast_date</th>\n",
              "      <th>value</th>\n",
              "      <th>dayRate</th>\n",
              "    </tr>\n",
              "  </thead>\n",
              "  <tbody>\n",
              "    <tr>\n",
              "      <th>0</th>\n",
              "      <td>2021-09-11</td>\n",
              "      <td>42</td>\n",
              "      <td>1 wk ahead inc case</td>\n",
              "      <td>point</td>\n",
              "      <td>NaN</td>\n",
              "      <td>2021-09-05</td>\n",
              "      <td>29294.125052</td>\n",
              "      <td>4184.875007</td>\n",
              "    </tr>\n",
              "    <tr>\n",
              "      <th>1</th>\n",
              "      <td>2021-09-18</td>\n",
              "      <td>42</td>\n",
              "      <td>1 wk ahead inc case</td>\n",
              "      <td>point</td>\n",
              "      <td>NaN</td>\n",
              "      <td>2021-09-12</td>\n",
              "      <td>31375.838768</td>\n",
              "      <td>4482.262681</td>\n",
              "    </tr>\n",
              "    <tr>\n",
              "      <th>2</th>\n",
              "      <td>2021-09-25</td>\n",
              "      <td>42</td>\n",
              "      <td>1 wk ahead inc case</td>\n",
              "      <td>point</td>\n",
              "      <td>NaN</td>\n",
              "      <td>2021-09-19</td>\n",
              "      <td>33252.407737</td>\n",
              "      <td>4750.343962</td>\n",
              "    </tr>\n",
              "    <tr>\n",
              "      <th>3</th>\n",
              "      <td>2021-10-02</td>\n",
              "      <td>42</td>\n",
              "      <td>1 wk ahead inc case</td>\n",
              "      <td>point</td>\n",
              "      <td>NaN</td>\n",
              "      <td>2021-09-26</td>\n",
              "      <td>29362.570733</td>\n",
              "      <td>4194.652962</td>\n",
              "    </tr>\n",
              "    <tr>\n",
              "      <th>4</th>\n",
              "      <td>2021-10-09</td>\n",
              "      <td>42</td>\n",
              "      <td>1 wk ahead inc case</td>\n",
              "      <td>point</td>\n",
              "      <td>NaN</td>\n",
              "      <td>2021-10-03</td>\n",
              "      <td>31476.545852</td>\n",
              "      <td>4496.649407</td>\n",
              "    </tr>\n",
              "  </tbody>\n",
              "</table>\n",
              "</div>\n",
              "      <button class=\"colab-df-convert\" onclick=\"convertToInteractive('df-906efcb0-6616-4478-9050-1fd8daef3008')\"\n",
              "              title=\"Convert this dataframe to an interactive table.\"\n",
              "              style=\"display:none;\">\n",
              "        \n",
              "  <svg xmlns=\"http://www.w3.org/2000/svg\" height=\"24px\"viewBox=\"0 0 24 24\"\n",
              "       width=\"24px\">\n",
              "    <path d=\"M0 0h24v24H0V0z\" fill=\"none\"/>\n",
              "    <path d=\"M18.56 5.44l.94 2.06.94-2.06 2.06-.94-2.06-.94-.94-2.06-.94 2.06-2.06.94zm-11 1L8.5 8.5l.94-2.06 2.06-.94-2.06-.94L8.5 2.5l-.94 2.06-2.06.94zm10 10l.94 2.06.94-2.06 2.06-.94-2.06-.94-.94-2.06-.94 2.06-2.06.94z\"/><path d=\"M17.41 7.96l-1.37-1.37c-.4-.4-.92-.59-1.43-.59-.52 0-1.04.2-1.43.59L10.3 9.45l-7.72 7.72c-.78.78-.78 2.05 0 2.83L4 21.41c.39.39.9.59 1.41.59.51 0 1.02-.2 1.41-.59l7.78-7.78 2.81-2.81c.8-.78.8-2.07 0-2.86zM5.41 20L4 18.59l7.72-7.72 1.47 1.35L5.41 20z\"/>\n",
              "  </svg>\n",
              "      </button>\n",
              "      \n",
              "  <style>\n",
              "    .colab-df-container {\n",
              "      display:flex;\n",
              "      flex-wrap:wrap;\n",
              "      gap: 12px;\n",
              "    }\n",
              "\n",
              "    .colab-df-convert {\n",
              "      background-color: #E8F0FE;\n",
              "      border: none;\n",
              "      border-radius: 50%;\n",
              "      cursor: pointer;\n",
              "      display: none;\n",
              "      fill: #1967D2;\n",
              "      height: 32px;\n",
              "      padding: 0 0 0 0;\n",
              "      width: 32px;\n",
              "    }\n",
              "\n",
              "    .colab-df-convert:hover {\n",
              "      background-color: #E2EBFA;\n",
              "      box-shadow: 0px 1px 2px rgba(60, 64, 67, 0.3), 0px 1px 3px 1px rgba(60, 64, 67, 0.15);\n",
              "      fill: #174EA6;\n",
              "    }\n",
              "\n",
              "    [theme=dark] .colab-df-convert {\n",
              "      background-color: #3B4455;\n",
              "      fill: #D2E3FC;\n",
              "    }\n",
              "\n",
              "    [theme=dark] .colab-df-convert:hover {\n",
              "      background-color: #434B5C;\n",
              "      box-shadow: 0px 1px 3px 1px rgba(0, 0, 0, 0.15);\n",
              "      filter: drop-shadow(0px 1px 2px rgba(0, 0, 0, 0.3));\n",
              "      fill: #FFFFFF;\n",
              "    }\n",
              "  </style>\n",
              "\n",
              "      <script>\n",
              "        const buttonEl =\n",
              "          document.querySelector('#df-906efcb0-6616-4478-9050-1fd8daef3008 button.colab-df-convert');\n",
              "        buttonEl.style.display =\n",
              "          google.colab.kernel.accessAllowed ? 'block' : 'none';\n",
              "\n",
              "        async function convertToInteractive(key) {\n",
              "          const element = document.querySelector('#df-906efcb0-6616-4478-9050-1fd8daef3008');\n",
              "          const dataTable =\n",
              "            await google.colab.kernel.invokeFunction('convertToInteractive',\n",
              "                                                     [key], {});\n",
              "          if (!dataTable) return;\n",
              "\n",
              "          const docLinkHtml = 'Like what you see? Visit the ' +\n",
              "            '<a target=\"_blank\" href=https://colab.research.google.com/notebooks/data_table.ipynb>data table notebook</a>'\n",
              "            + ' to learn more about interactive tables.';\n",
              "          element.innerHTML = '';\n",
              "          dataTable['output_type'] = 'display_data';\n",
              "          await google.colab.output.renderOutput(dataTable, element);\n",
              "          const docLink = document.createElement('div');\n",
              "          docLink.innerHTML = docLinkHtml;\n",
              "          element.appendChild(docLink);\n",
              "        }\n",
              "      </script>\n",
              "    </div>\n",
              "  </div>\n",
              "  "
            ]
          },
          "metadata": {},
          "execution_count": 11
        }
      ],
      "source": [
        "#creating a column for daily additions\n",
        "df_weekly[\"dayRate\"] = df_weekly[\"value\"] / 7\n",
        "mask = (df_weekly['Date'] <= '2022-03-02')\n",
        "df_weekly = df_weekly.loc[mask]\n",
        "df_weekly.head(5)"
      ]
    },
    {
      "cell_type": "code",
      "source": [
        "df_weekly.tail(5)"
      ],
      "metadata": {
        "colab": {
          "base_uri": "https://localhost:8080/",
          "height": 206
        },
        "id": "ZTtG3FYH9iPm",
        "outputId": "41870f30-eb1c-47e8-d2ad-5a5afb00917f"
      },
      "id": "ZTtG3FYH9iPm",
      "execution_count": 15,
      "outputs": [
        {
          "output_type": "execute_result",
          "data": {
            "text/plain": [
              "         Date location               target   type  quantile forecast_date  \\\n",
              "19 2022-01-29       42  1 wk ahead inc case  point       NaN    2022-01-23   \n",
              "20 2022-02-05       42  1 wk ahead inc case  point       NaN    2022-01-30   \n",
              "21 2022-02-12       42  1 wk ahead inc case  point       NaN    2022-02-06   \n",
              "22 2022-02-19       42  1 wk ahead inc case  point       NaN    2022-02-13   \n",
              "23 2022-02-26       42  1 wk ahead inc case  point       NaN    2022-02-20   \n",
              "\n",
              "           value       dayRate  \n",
              "19  93360.858284  13337.265469  \n",
              "20  69926.638733   9989.519819  \n",
              "21  28262.299745   4037.471392  \n",
              "22  20295.801382   2899.400197  \n",
              "23  15093.077460   2156.153923  "
            ],
            "text/html": [
              "\n",
              "  <div id=\"df-e5674798-ede5-4847-b43b-5839402dfb04\">\n",
              "    <div class=\"colab-df-container\">\n",
              "      <div>\n",
              "<style scoped>\n",
              "    .dataframe tbody tr th:only-of-type {\n",
              "        vertical-align: middle;\n",
              "    }\n",
              "\n",
              "    .dataframe tbody tr th {\n",
              "        vertical-align: top;\n",
              "    }\n",
              "\n",
              "    .dataframe thead th {\n",
              "        text-align: right;\n",
              "    }\n",
              "</style>\n",
              "<table border=\"1\" class=\"dataframe\">\n",
              "  <thead>\n",
              "    <tr style=\"text-align: right;\">\n",
              "      <th></th>\n",
              "      <th>Date</th>\n",
              "      <th>location</th>\n",
              "      <th>target</th>\n",
              "      <th>type</th>\n",
              "      <th>quantile</th>\n",
              "      <th>forecast_date</th>\n",
              "      <th>value</th>\n",
              "      <th>dayRate</th>\n",
              "    </tr>\n",
              "  </thead>\n",
              "  <tbody>\n",
              "    <tr>\n",
              "      <th>19</th>\n",
              "      <td>2022-01-29</td>\n",
              "      <td>42</td>\n",
              "      <td>1 wk ahead inc case</td>\n",
              "      <td>point</td>\n",
              "      <td>NaN</td>\n",
              "      <td>2022-01-23</td>\n",
              "      <td>93360.858284</td>\n",
              "      <td>13337.265469</td>\n",
              "    </tr>\n",
              "    <tr>\n",
              "      <th>20</th>\n",
              "      <td>2022-02-05</td>\n",
              "      <td>42</td>\n",
              "      <td>1 wk ahead inc case</td>\n",
              "      <td>point</td>\n",
              "      <td>NaN</td>\n",
              "      <td>2022-01-30</td>\n",
              "      <td>69926.638733</td>\n",
              "      <td>9989.519819</td>\n",
              "    </tr>\n",
              "    <tr>\n",
              "      <th>21</th>\n",
              "      <td>2022-02-12</td>\n",
              "      <td>42</td>\n",
              "      <td>1 wk ahead inc case</td>\n",
              "      <td>point</td>\n",
              "      <td>NaN</td>\n",
              "      <td>2022-02-06</td>\n",
              "      <td>28262.299745</td>\n",
              "      <td>4037.471392</td>\n",
              "    </tr>\n",
              "    <tr>\n",
              "      <th>22</th>\n",
              "      <td>2022-02-19</td>\n",
              "      <td>42</td>\n",
              "      <td>1 wk ahead inc case</td>\n",
              "      <td>point</td>\n",
              "      <td>NaN</td>\n",
              "      <td>2022-02-13</td>\n",
              "      <td>20295.801382</td>\n",
              "      <td>2899.400197</td>\n",
              "    </tr>\n",
              "    <tr>\n",
              "      <th>23</th>\n",
              "      <td>2022-02-26</td>\n",
              "      <td>42</td>\n",
              "      <td>1 wk ahead inc case</td>\n",
              "      <td>point</td>\n",
              "      <td>NaN</td>\n",
              "      <td>2022-02-20</td>\n",
              "      <td>15093.077460</td>\n",
              "      <td>2156.153923</td>\n",
              "    </tr>\n",
              "  </tbody>\n",
              "</table>\n",
              "</div>\n",
              "      <button class=\"colab-df-convert\" onclick=\"convertToInteractive('df-e5674798-ede5-4847-b43b-5839402dfb04')\"\n",
              "              title=\"Convert this dataframe to an interactive table.\"\n",
              "              style=\"display:none;\">\n",
              "        \n",
              "  <svg xmlns=\"http://www.w3.org/2000/svg\" height=\"24px\"viewBox=\"0 0 24 24\"\n",
              "       width=\"24px\">\n",
              "    <path d=\"M0 0h24v24H0V0z\" fill=\"none\"/>\n",
              "    <path d=\"M18.56 5.44l.94 2.06.94-2.06 2.06-.94-2.06-.94-.94-2.06-.94 2.06-2.06.94zm-11 1L8.5 8.5l.94-2.06 2.06-.94-2.06-.94L8.5 2.5l-.94 2.06-2.06.94zm10 10l.94 2.06.94-2.06 2.06-.94-2.06-.94-.94-2.06-.94 2.06-2.06.94z\"/><path d=\"M17.41 7.96l-1.37-1.37c-.4-.4-.92-.59-1.43-.59-.52 0-1.04.2-1.43.59L10.3 9.45l-7.72 7.72c-.78.78-.78 2.05 0 2.83L4 21.41c.39.39.9.59 1.41.59.51 0 1.02-.2 1.41-.59l7.78-7.78 2.81-2.81c.8-.78.8-2.07 0-2.86zM5.41 20L4 18.59l7.72-7.72 1.47 1.35L5.41 20z\"/>\n",
              "  </svg>\n",
              "      </button>\n",
              "      \n",
              "  <style>\n",
              "    .colab-df-container {\n",
              "      display:flex;\n",
              "      flex-wrap:wrap;\n",
              "      gap: 12px;\n",
              "    }\n",
              "\n",
              "    .colab-df-convert {\n",
              "      background-color: #E8F0FE;\n",
              "      border: none;\n",
              "      border-radius: 50%;\n",
              "      cursor: pointer;\n",
              "      display: none;\n",
              "      fill: #1967D2;\n",
              "      height: 32px;\n",
              "      padding: 0 0 0 0;\n",
              "      width: 32px;\n",
              "    }\n",
              "\n",
              "    .colab-df-convert:hover {\n",
              "      background-color: #E2EBFA;\n",
              "      box-shadow: 0px 1px 2px rgba(60, 64, 67, 0.3), 0px 1px 3px 1px rgba(60, 64, 67, 0.15);\n",
              "      fill: #174EA6;\n",
              "    }\n",
              "\n",
              "    [theme=dark] .colab-df-convert {\n",
              "      background-color: #3B4455;\n",
              "      fill: #D2E3FC;\n",
              "    }\n",
              "\n",
              "    [theme=dark] .colab-df-convert:hover {\n",
              "      background-color: #434B5C;\n",
              "      box-shadow: 0px 1px 3px 1px rgba(0, 0, 0, 0.15);\n",
              "      filter: drop-shadow(0px 1px 2px rgba(0, 0, 0, 0.3));\n",
              "      fill: #FFFFFF;\n",
              "    }\n",
              "  </style>\n",
              "\n",
              "      <script>\n",
              "        const buttonEl =\n",
              "          document.querySelector('#df-e5674798-ede5-4847-b43b-5839402dfb04 button.colab-df-convert');\n",
              "        buttonEl.style.display =\n",
              "          google.colab.kernel.accessAllowed ? 'block' : 'none';\n",
              "\n",
              "        async function convertToInteractive(key) {\n",
              "          const element = document.querySelector('#df-e5674798-ede5-4847-b43b-5839402dfb04');\n",
              "          const dataTable =\n",
              "            await google.colab.kernel.invokeFunction('convertToInteractive',\n",
              "                                                     [key], {});\n",
              "          if (!dataTable) return;\n",
              "\n",
              "          const docLinkHtml = 'Like what you see? Visit the ' +\n",
              "            '<a target=\"_blank\" href=https://colab.research.google.com/notebooks/data_table.ipynb>data table notebook</a>'\n",
              "            + ' to learn more about interactive tables.';\n",
              "          element.innerHTML = '';\n",
              "          dataTable['output_type'] = 'display_data';\n",
              "          await google.colab.output.renderOutput(dataTable, element);\n",
              "          const docLink = document.createElement('div');\n",
              "          docLink.innerHTML = docLinkHtml;\n",
              "          element.appendChild(docLink);\n",
              "        }\n",
              "      </script>\n",
              "    </div>\n",
              "  </div>\n",
              "  "
            ]
          },
          "metadata": {},
          "execution_count": 15
        }
      ]
    },
    {
      "cell_type": "code",
      "source": [
        "# creating a list of predictions from the model data\n",
        "predictions = []\n",
        "for i in df_weekly[\"dayRate\"]:\n",
        "    predictions.extend(repeat(i,7))\n",
        "#del predictions[-2:]\n",
        "#preds = pd.DataFrame(predictions)\n",
        "#preds.drop(preds.tail(2).index,inplace=True) \n",
        "print(predictions)"
      ],
      "metadata": {
        "colab": {
          "base_uri": "https://localhost:8080/"
        },
        "id": "7M7bH5ao6y_t",
        "outputId": "c2b3ee5f-f65f-4c99-8491-d382a855656c"
      },
      "id": "7M7bH5ao6y_t",
      "execution_count": 13,
      "outputs": [
        {
          "output_type": "stream",
          "name": "stdout",
          "text": [
            "[4184.875007369557, 4184.875007369557, 4184.875007369557, 4184.875007369557, 4184.875007369557, 4184.875007369557, 4184.875007369557, 4482.262681178643, 4482.262681178643, 4482.262681178643, 4482.262681178643, 4482.262681178643, 4482.262681178643, 4482.262681178643, 4750.3439624089715, 4750.3439624089715, 4750.3439624089715, 4750.3439624089715, 4750.3439624089715, 4750.3439624089715, 4750.3439624089715, 4194.652961806257, 4194.652961806257, 4194.652961806257, 4194.652961806257, 4194.652961806257, 4194.652961806257, 4194.652961806257, 4496.6494073964, 4496.6494073964, 4496.6494073964, 4496.6494073964, 4496.6494073964, 4496.6494073964, 4496.6494073964, 5485.850407455943, 5485.850407455943, 5485.850407455943, 5485.850407455943, 5485.850407455943, 5485.850407455943, 5485.850407455943, 4195.7880382457, 4195.7880382457, 4195.7880382457, 4195.7880382457, 4195.7880382457, 4195.7880382457, 4195.7880382457, 3326.6147073783, 3326.6147073783, 3326.6147073783, 3326.6147073783, 3326.6147073783, 3326.6147073783, 3326.6147073783, 3388.928222140157, 3388.928222140157, 3388.928222140157, 3388.928222140157, 3388.928222140157, 3388.928222140157, 3388.928222140157, 3520.774279579914, 3520.774279579914, 3520.774279579914, 3520.774279579914, 3520.774279579914, 3520.774279579914, 3520.774279579914, 5801.157459348114, 5801.157459348114, 5801.157459348114, 5801.157459348114, 5801.157459348114, 5801.157459348114, 5801.157459348114, 6338.054754977486, 6338.054754977486, 6338.054754977486, 6338.054754977486, 6338.054754977486, 6338.054754977486, 6338.054754977486, 5584.9017987369, 5584.9017987369, 5584.9017987369, 5584.9017987369, 5584.9017987369, 5584.9017987369, 5584.9017987369, 9296.9598582247, 9296.9598582247, 9296.9598582247, 9296.9598582247, 9296.9598582247, 9296.9598582247, 9296.9598582247, 5966.966974084372, 5966.966974084372, 5966.966974084372, 5966.966974084372, 5966.966974084372, 5966.966974084372, 5966.966974084372, 10462.336652457143, 10462.336652457143, 10462.336652457143, 10462.336652457143, 10462.336652457143, 10462.336652457143, 10462.336652457143, 22137.92361171614, 22137.92361171614, 22137.92361171614, 22137.92361171614, 22137.92361171614, 22137.92361171614, 22137.92361171614, 32742.347066353857, 32742.347066353857, 32742.347066353857, 32742.347066353857, 32742.347066353857, 32742.347066353857, 32742.347066353857, 29535.05855399457, 29535.05855399457, 29535.05855399457, 29535.05855399457, 29535.05855399457, 29535.05855399457, 29535.05855399457, 13337.265469136113, 13337.265469136113, 13337.265469136113, 13337.265469136113, 13337.265469136113, 13337.265469136113, 13337.265469136113, 9989.51981898077, 9989.51981898077, 9989.51981898077, 9989.51981898077, 9989.51981898077, 9989.51981898077, 9989.51981898077, 4037.4713921327416, 4037.4713921327416, 4037.4713921327416, 4037.4713921327416, 4037.4713921327416, 4037.4713921327416, 4037.4713921327416, 2899.400197463377, 2899.400197463377, 2899.400197463377, 2899.400197463377, 2899.400197463377, 2899.400197463377, 2899.400197463377, 2156.1539228945703, 2156.1539228945703, 2156.1539228945703, 2156.1539228945703, 2156.1539228945703, 2156.1539228945703, 2156.1539228945703]\n"
          ]
        }
      ]
    },
    {
      "cell_type": "code",
      "source": [
        "len(predictions)"
      ],
      "metadata": {
        "colab": {
          "base_uri": "https://localhost:8080/"
        },
        "id": "bAUxPUYG5gaj",
        "outputId": "131d1d4f-adcf-46f6-858d-16fca994c265"
      },
      "id": "bAUxPUYG5gaj",
      "execution_count": 14,
      "outputs": [
        {
          "output_type": "execute_result",
          "data": {
            "text/plain": [
              "168"
            ]
          },
          "metadata": {},
          "execution_count": 14
        }
      ]
    },
    {
      "cell_type": "code",
      "execution_count": 18,
      "id": "65a9fbb1",
      "metadata": {
        "id": "65a9fbb1",
        "outputId": "121e5e78-39ee-4b46-95a6-e56d34be1ed3",
        "colab": {
          "base_uri": "https://localhost:8080/",
          "height": 206
        }
      },
      "outputs": [
        {
          "output_type": "execute_result",
          "data": {
            "text/plain": [
              "        Date  New Cases  7-day Average New Cases  \\\n",
              "0 2021-09-11       7566                   8162.2   \n",
              "1 2021-09-12       6262                   8345.7   \n",
              "2 2021-09-13       9462                   9035.4   \n",
              "3 2021-09-14       8068                   8749.7   \n",
              "4 2021-09-15      12578                   9305.2   \n",
              "\n",
              "   Cumulative cases                            Population (2019)  \\\n",
              "0                                     2720510           25603978   \n",
              "1                                     2726772           25603978   \n",
              "2                                     2736234           25603978   \n",
              "3                                     2744302           25603978   \n",
              "4                                     2756880           25603978   \n",
              "\n",
              "   New Case Rate  7-Day Average New Case Rate  Cumulative Case Rate  \\\n",
              "0         2497.7                       2692.8              727156.8   \n",
              "1         1799.2                       2748.8              728956.2   \n",
              "2         3517.9                       3068.4              732474.0   \n",
              "3         2668.9                       2966.2              735143.3   \n",
              "4         4785.6                       3233.0              739928.2   \n",
              "\n",
              "   County FIPS Code    Longitude     Latitude  \n",
              "0           2860489 -5275.682283  2774.207671  \n",
              "1           2860489 -5275.682283  2774.207671  \n",
              "2           2860489 -5275.682283  2774.207671  \n",
              "3           2860489 -5275.682283  2774.207671  \n",
              "4           2860489 -5275.682283  2774.207671  "
            ],
            "text/html": [
              "\n",
              "  <div id=\"df-ce8a6af0-78a9-4880-b0dc-fe4d970f57c5\">\n",
              "    <div class=\"colab-df-container\">\n",
              "      <div>\n",
              "<style scoped>\n",
              "    .dataframe tbody tr th:only-of-type {\n",
              "        vertical-align: middle;\n",
              "    }\n",
              "\n",
              "    .dataframe tbody tr th {\n",
              "        vertical-align: top;\n",
              "    }\n",
              "\n",
              "    .dataframe thead th {\n",
              "        text-align: right;\n",
              "    }\n",
              "</style>\n",
              "<table border=\"1\" class=\"dataframe\">\n",
              "  <thead>\n",
              "    <tr style=\"text-align: right;\">\n",
              "      <th></th>\n",
              "      <th>Date</th>\n",
              "      <th>New Cases</th>\n",
              "      <th>7-day Average New Cases</th>\n",
              "      <th>Cumulative cases</th>\n",
              "      <th>Population (2019)</th>\n",
              "      <th>New Case Rate</th>\n",
              "      <th>7-Day Average New Case Rate</th>\n",
              "      <th>Cumulative Case Rate</th>\n",
              "      <th>County FIPS Code</th>\n",
              "      <th>Longitude</th>\n",
              "      <th>Latitude</th>\n",
              "    </tr>\n",
              "  </thead>\n",
              "  <tbody>\n",
              "    <tr>\n",
              "      <th>0</th>\n",
              "      <td>2021-09-11</td>\n",
              "      <td>7566</td>\n",
              "      <td>8162.2</td>\n",
              "      <td>2720510</td>\n",
              "      <td>25603978</td>\n",
              "      <td>2497.7</td>\n",
              "      <td>2692.8</td>\n",
              "      <td>727156.8</td>\n",
              "      <td>2860489</td>\n",
              "      <td>-5275.682283</td>\n",
              "      <td>2774.207671</td>\n",
              "    </tr>\n",
              "    <tr>\n",
              "      <th>1</th>\n",
              "      <td>2021-09-12</td>\n",
              "      <td>6262</td>\n",
              "      <td>8345.7</td>\n",
              "      <td>2726772</td>\n",
              "      <td>25603978</td>\n",
              "      <td>1799.2</td>\n",
              "      <td>2748.8</td>\n",
              "      <td>728956.2</td>\n",
              "      <td>2860489</td>\n",
              "      <td>-5275.682283</td>\n",
              "      <td>2774.207671</td>\n",
              "    </tr>\n",
              "    <tr>\n",
              "      <th>2</th>\n",
              "      <td>2021-09-13</td>\n",
              "      <td>9462</td>\n",
              "      <td>9035.4</td>\n",
              "      <td>2736234</td>\n",
              "      <td>25603978</td>\n",
              "      <td>3517.9</td>\n",
              "      <td>3068.4</td>\n",
              "      <td>732474.0</td>\n",
              "      <td>2860489</td>\n",
              "      <td>-5275.682283</td>\n",
              "      <td>2774.207671</td>\n",
              "    </tr>\n",
              "    <tr>\n",
              "      <th>3</th>\n",
              "      <td>2021-09-14</td>\n",
              "      <td>8068</td>\n",
              "      <td>8749.7</td>\n",
              "      <td>2744302</td>\n",
              "      <td>25603978</td>\n",
              "      <td>2668.9</td>\n",
              "      <td>2966.2</td>\n",
              "      <td>735143.3</td>\n",
              "      <td>2860489</td>\n",
              "      <td>-5275.682283</td>\n",
              "      <td>2774.207671</td>\n",
              "    </tr>\n",
              "    <tr>\n",
              "      <th>4</th>\n",
              "      <td>2021-09-15</td>\n",
              "      <td>12578</td>\n",
              "      <td>9305.2</td>\n",
              "      <td>2756880</td>\n",
              "      <td>25603978</td>\n",
              "      <td>4785.6</td>\n",
              "      <td>3233.0</td>\n",
              "      <td>739928.2</td>\n",
              "      <td>2860489</td>\n",
              "      <td>-5275.682283</td>\n",
              "      <td>2774.207671</td>\n",
              "    </tr>\n",
              "  </tbody>\n",
              "</table>\n",
              "</div>\n",
              "      <button class=\"colab-df-convert\" onclick=\"convertToInteractive('df-ce8a6af0-78a9-4880-b0dc-fe4d970f57c5')\"\n",
              "              title=\"Convert this dataframe to an interactive table.\"\n",
              "              style=\"display:none;\">\n",
              "        \n",
              "  <svg xmlns=\"http://www.w3.org/2000/svg\" height=\"24px\"viewBox=\"0 0 24 24\"\n",
              "       width=\"24px\">\n",
              "    <path d=\"M0 0h24v24H0V0z\" fill=\"none\"/>\n",
              "    <path d=\"M18.56 5.44l.94 2.06.94-2.06 2.06-.94-2.06-.94-.94-2.06-.94 2.06-2.06.94zm-11 1L8.5 8.5l.94-2.06 2.06-.94-2.06-.94L8.5 2.5l-.94 2.06-2.06.94zm10 10l.94 2.06.94-2.06 2.06-.94-2.06-.94-.94-2.06-.94 2.06-2.06.94z\"/><path d=\"M17.41 7.96l-1.37-1.37c-.4-.4-.92-.59-1.43-.59-.52 0-1.04.2-1.43.59L10.3 9.45l-7.72 7.72c-.78.78-.78 2.05 0 2.83L4 21.41c.39.39.9.59 1.41.59.51 0 1.02-.2 1.41-.59l7.78-7.78 2.81-2.81c.8-.78.8-2.07 0-2.86zM5.41 20L4 18.59l7.72-7.72 1.47 1.35L5.41 20z\"/>\n",
              "  </svg>\n",
              "      </button>\n",
              "      \n",
              "  <style>\n",
              "    .colab-df-container {\n",
              "      display:flex;\n",
              "      flex-wrap:wrap;\n",
              "      gap: 12px;\n",
              "    }\n",
              "\n",
              "    .colab-df-convert {\n",
              "      background-color: #E8F0FE;\n",
              "      border: none;\n",
              "      border-radius: 50%;\n",
              "      cursor: pointer;\n",
              "      display: none;\n",
              "      fill: #1967D2;\n",
              "      height: 32px;\n",
              "      padding: 0 0 0 0;\n",
              "      width: 32px;\n",
              "    }\n",
              "\n",
              "    .colab-df-convert:hover {\n",
              "      background-color: #E2EBFA;\n",
              "      box-shadow: 0px 1px 2px rgba(60, 64, 67, 0.3), 0px 1px 3px 1px rgba(60, 64, 67, 0.15);\n",
              "      fill: #174EA6;\n",
              "    }\n",
              "\n",
              "    [theme=dark] .colab-df-convert {\n",
              "      background-color: #3B4455;\n",
              "      fill: #D2E3FC;\n",
              "    }\n",
              "\n",
              "    [theme=dark] .colab-df-convert:hover {\n",
              "      background-color: #434B5C;\n",
              "      box-shadow: 0px 1px 3px 1px rgba(0, 0, 0, 0.15);\n",
              "      filter: drop-shadow(0px 1px 2px rgba(0, 0, 0, 0.3));\n",
              "      fill: #FFFFFF;\n",
              "    }\n",
              "  </style>\n",
              "\n",
              "      <script>\n",
              "        const buttonEl =\n",
              "          document.querySelector('#df-ce8a6af0-78a9-4880-b0dc-fe4d970f57c5 button.colab-df-convert');\n",
              "        buttonEl.style.display =\n",
              "          google.colab.kernel.accessAllowed ? 'block' : 'none';\n",
              "\n",
              "        async function convertToInteractive(key) {\n",
              "          const element = document.querySelector('#df-ce8a6af0-78a9-4880-b0dc-fe4d970f57c5');\n",
              "          const dataTable =\n",
              "            await google.colab.kernel.invokeFunction('convertToInteractive',\n",
              "                                                     [key], {});\n",
              "          if (!dataTable) return;\n",
              "\n",
              "          const docLinkHtml = 'Like what you see? Visit the ' +\n",
              "            '<a target=\"_blank\" href=https://colab.research.google.com/notebooks/data_table.ipynb>data table notebook</a>'\n",
              "            + ' to learn more about interactive tables.';\n",
              "          element.innerHTML = '';\n",
              "          dataTable['output_type'] = 'display_data';\n",
              "          await google.colab.output.renderOutput(dataTable, element);\n",
              "          const docLink = document.createElement('div');\n",
              "          docLink.innerHTML = docLinkHtml;\n",
              "          element.appendChild(docLink);\n",
              "        }\n",
              "      </script>\n",
              "    </div>\n",
              "  </div>\n",
              "  "
            ]
          },
          "metadata": {},
          "execution_count": 18
        }
      ],
      "source": [
        "#select all the dates to be merged with prediction list\n",
        "mask = (df1['Date'] >= '2021-09-11') & (df1['Date'] <= '2022-02-25')\n",
        "df1_copy = df1.loc[mask]\n",
        "df1_copy = df1_copy.groupby([\"Date\"]).sum().reset_index()\n",
        "df1_copy.head(5)"
      ]
    },
    {
      "cell_type": "code",
      "source": [
        "len(df1_copy)"
      ],
      "metadata": {
        "colab": {
          "base_uri": "https://localhost:8080/"
        },
        "id": "E4GmTswG-Max",
        "outputId": "dccca834-f855-4695-a364-06f5b615ab5d"
      },
      "id": "E4GmTswG-Max",
      "execution_count": 19,
      "outputs": [
        {
          "output_type": "execute_result",
          "data": {
            "text/plain": [
              "168"
            ]
          },
          "metadata": {},
          "execution_count": 19
        }
      ]
    },
    {
      "cell_type": "code",
      "source": [
        "# assigning predictions list to the actual dataframe\n",
        "df1_copy['Prediction'] = predictions"
      ],
      "metadata": {
        "id": "7HHOfOpl4JA2"
      },
      "id": "7HHOfOpl4JA2",
      "execution_count": 20,
      "outputs": []
    },
    {
      "cell_type": "code",
      "source": [
        "df1_copy.head(20)"
      ],
      "metadata": {
        "id": "a8HZNoDm5m-p"
      },
      "id": "a8HZNoDm5m-p",
      "execution_count": null,
      "outputs": []
    },
    {
      "cell_type": "code",
      "source": [
        "# renaming the dataframe for graphing\n",
        "merged_df_new = df1_copy"
      ],
      "metadata": {
        "id": "tB3yrsBFBVzZ"
      },
      "id": "tB3yrsBFBVzZ",
      "execution_count": 22,
      "outputs": []
    },
    {
      "cell_type": "code",
      "source": [
        "merged_df_new.shape"
      ],
      "metadata": {
        "colab": {
          "base_uri": "https://localhost:8080/"
        },
        "id": "D_rU8Xdc6NUr",
        "outputId": "367a7818-b001-48a5-abf6-0aec0a01f809"
      },
      "id": "D_rU8Xdc6NUr",
      "execution_count": 23,
      "outputs": [
        {
          "output_type": "execute_result",
          "data": {
            "text/plain": [
              "(168, 12)"
            ]
          },
          "metadata": {},
          "execution_count": 23
        }
      ]
    },
    {
      "cell_type": "code",
      "execution_count": 24,
      "id": "d516c1b3",
      "metadata": {
        "id": "d516c1b3",
        "colab": {
          "base_uri": "https://localhost:8080/",
          "height": 295
        },
        "outputId": "ab5a9d96-9de9-49ac-b805-28c1308f9bd6"
      },
      "outputs": [
        {
          "output_type": "display_data",
          "data": {
            "text/plain": [
              "<Figure size 432x288 with 1 Axes>"
            ],
            "image/png": "[encoded data removed]"
          },
          "metadata": {
            "needs_background": "light"
          }
        }
      ],
      "source": [
        "#Create plot of Actual vs. Predicted Cases\n",
        "\n",
        "#Actual Cases Line\n",
        "plt.plot(merged_df_new['Date'], merged_df_new['New Cases'], color='g', label='Actual Cases')\n",
        "\n",
        "#Predicted Cases Line\n",
        "plt.plot(merged_df_new['Date'], merged_df_new['Prediction'], color='r', label='Predicted Cases')\n",
        "\n",
        "#Create XY Labels and Title\n",
        "plt.xlabel('Date (Year/Month/Day)') \n",
        "plt.ylabel('Number of Cases') \n",
        "plt.title(\"Predicted Daily Cases vs Actual Cases in PA\")\n",
        "\n",
        "#Display Plot\n",
        "plt.legend()\n",
        "plt.show()"
      ]
    },
    {
      "cell_type": "code",
      "execution_count": 25,
      "id": "4eee31c3",
      "metadata": {
        "id": "4eee31c3",
        "colab": {
          "base_uri": "https://localhost:8080/"
        },
        "outputId": "8e820901-1a91-4cb0-96ee-9708a363ce1f"
      },
      "outputs": [
        {
          "output_type": "stream",
          "name": "stdout",
          "text": [
            "164\n",
            "0.9761904761904762\n",
            "4\n",
            "0.023809523809523836\n",
            "168\n",
            "[0.4468840857296382, 0.3317031288135488, 0.5577177121782332, 0.481299577668622, 0.667286133934683, 0.6352732257826776, 0.6060923374087389, 0.5049411662051422, 0.12146948624487591, 0.5400920704721277, 0.5132208208971935, 0.6005113474885345, 0.5604763011199605, 0.5828124831367607, 0.4342134394462873, 0.22481332206119917, 0.5550445895083391, 0.5116833920221041, 0.5248705778746778, 0.5650664747840165, 0.41194058400483147, 0.6382048506290964, 0.47143989896594546, 0.5646893979030452, 0.5745788071190409, 0.6662433989651292, 0.6210107551674867, 0.6181124397481558, 0.4467704961372539, 0.18331830595779142, 0.5166971832119088, 0.5295407608917765, 0.6051414289255005, 0.5699455425213849, 0.5286531019500629, 0.2572636870490193, 0.06480559027344984, 0.29123379748631223, 0.38236316061067965, 0.36900731453232766, 0.4103772133000921, 0.4433999180746811, 0.2931623924788242, 0.16151318180541574, 0.44100878787027714, 0.5362745315820403, 0.5280328415921598, 0.5538294302163229, 0.5299363613885616, 0.451415780445531, 0.3402192171006942, 0.5522725831253971, 0.5944142029531456, 0.6721901155520005, 0.6900284469457417, 0.6598553468938344, 0.5665223558275573, 0.4404015485237522, 0.5803704529296487, 0.6802294562992869, 0.7000417576438168, 0.7376584438659114, 0.6996163603846697, 0.6206062198728541, 0.45431272790143923, 0.7272831696684808, 0.6897449524515409, 0.7663409689686811, 0.7449083988132218, 0.7315255238996559, 0.36765233711051737, 0.49493666556258803, 0.5032404984288308, 0.5875758951124618, 0.5838481019119001, 0.48987359661026086, 0.3914018611678437, 0.19526983811865342, 0.40060007991512336, 0.49593965683334773, 0.5645744191414204, 0.6592077236811762, 0.7096098801897972, 0.6287891088803159, 0.5283022129445186, 0.4640209406202591, 0.6335847133750885, 0.6222844718830718, 0.6342565947127111, 0.7581874870654269, 0.7374282182070099, 0.4174107119799035, 0.08368225327964716, 0.4207501645965919, 0.3471236054617486, 0.40166302881807825, 0.44844803878591005, 0.49007460189640745, 0.5560292429996747, 0.3630479318868091, 0.6680961745419751, 0.7236491768208424, 0.7312661243882016, 0.7856846859390715, 0.7496867617214376, 0.3242257684758337, 0.16086488190109538, 0.6446217169681677, 0.6659748211334799, 0.737786048810598, 0.7746157550095402, 0.7884430652230933, 0.43534347774024024, 0.36979265509803744, 0.5460563563870542, 0.5734339741085178, 0.6371070157413261, 0.6215221977071028, 0.6687922858809674, 0.41577426546367396, 0.3058650187332233, 0.42365169747660875, 0.43535995263927263, 0.355846014826798, 0.38023193135805683, 0.3491363442461365, 0.542219868036911, 0.2000267574351768, 0.04845788264091485, 0.2321376207884107, 0.1704101299366729, 0.225248975552317, 0.18779401182503103, 0.36288977409304896, 0.20279345671631124, 0.4742069908879558, 0.4766826701272811, 0.6016110439949784, 0.5012987784498911, 0.4912935590382137, 0.24504838127412557, 0.14584994482458943, 0.18252701972334118, 0.3255792722805313, 0.3832106804778482, 0.24218481118337348, 0.09646166615586373, 0.36815784160676973, 0.12759909418047935, 0.5134404203262543, 0.5514917360439078, 0.559900654879797, 0.4999416160350828, 0.5757175922517085, 0.2558007706716178, 0.23940183697183184, 0.48555709768215455, 0.4070756242406182, 0.6073401682741905, 0.5157982302165369, 0.6115487409614981, 0.26057821574260276, 0.15056239215291906, 0.3111329319825654, 0.4598812818400375, 0.44628815539430655, 0.3430365865647257, 0.5474068171925754]\n",
            "[-0.4468840857296382, -0.3317031288135488, -0.5577177121782332, -0.481299577668622, -0.667286133934683, -0.6352732257826776, -0.6060923374087389, -0.5049411662051422, -0.12146948624487591, -0.5400920704721277, -0.5132208208971935, -0.6005113474885345, -0.5604763011199605, -0.5828124831367607, -0.4342134394462873, -0.22481332206119917, -0.5550445895083391, -0.5116833920221041, -0.5248705778746778, -0.5650664747840165, -0.41194058400483147, -0.6382048506290964, -0.47143989896594546, -0.5646893979030452, -0.5745788071190409, -0.6662433989651292, -0.6210107551674867, -0.6181124397481558, -0.4467704961372539, -0.18331830595779142, -0.5166971832119088, -0.5295407608917765, -0.6051414289255005, -0.5699455425213849, -0.5286531019500629, -0.2572636870490193, -0.06480559027344984, -0.29123379748631223, -0.38236316061067965, -0.36900731453232766, -0.4103772133000921, -0.4433999180746811, -0.2931623924788242, -0.16151318180541574, -0.44100878787027714, -0.5362745315820403, -0.5280328415921598, -0.5538294302163229, -0.5299363613885616, -0.451415780445531, -0.3402192171006942, -0.5522725831253971, -0.5944142029531456, -0.6721901155520005, -0.6900284469457417, -0.6598553468938344, -0.5665223558275573, -0.4404015485237522, -0.5803704529296487, -0.6802294562992869, -0.7000417576438168, -0.7376584438659114, -0.6996163603846697, -0.6206062198728541, -0.45431272790143923, -0.7272831696684808, -0.6897449524515409, -0.7663409689686811, -0.7449083988132218, -0.7315255238996559, -0.36765233711051737, -0.49493666556258803, -0.5032404984288308, -0.5875758951124618, -0.5838481019119001, -0.48987359661026086, -0.3914018611678437, -0.19526983811865342, -0.40060007991512336, -0.49593965683334773, -0.5645744191414204, -0.6592077236811762, -0.7096098801897972, -0.6287891088803159, -0.5283022129445186, -0.4640209406202591, -0.6335847133750885, -0.6222844718830718, -0.6342565947127111, -0.7581874870654269, -0.7374282182070099, -0.4174107119799035, -0.08368225327964716, -0.4207501645965919, -0.3471236054617486, -0.40166302881807825, -0.44844803878591005, -0.49007460189640745, -0.5560292429996747, -0.3630479318868091, -0.6680961745419751, -0.7236491768208424, -0.7312661243882016, -0.7856846859390715, -0.7496867617214376, -0.3242257684758337, -0.16086488190109538, -0.6446217169681677, -0.6659748211334799, -0.737786048810598, -0.7746157550095402, -0.7884430652230933, -0.43534347774024024, -0.36979265509803744, -0.5460563563870542, -0.5734339741085178, -0.6371070157413261, -0.6215221977071028, -0.6687922858809674, -0.41577426546367396, -0.3058650187332233, -0.42365169747660875, -0.43535995263927263, -0.355846014826798, -0.38023193135805683, -0.3491363442461365, -0.542219868036911, 0.2000267574351768, 0.04845788264091485, -0.2321376207884107, -0.1704101299366729, -0.225248975552317, -0.18779401182503103, -0.36288977409304896, -0.20279345671631124, -0.4742069908879558, -0.4766826701272811, -0.6016110439949784, -0.5012987784498911, -0.4912935590382137, -0.24504838127412557, 0.14584994482458943, -0.18252701972334118, -0.3255792722805313, -0.3832106804778482, -0.24218481118337348, -0.09646166615586373, -0.36815784160676973, -0.12759909418047935, -0.5134404203262543, -0.5514917360439078, -0.559900654879797, -0.4999416160350828, -0.5757175922517085, -0.2558007706716178, -0.23940183697183184, -0.48555709768215455, -0.4070756242406182, -0.6073401682741905, -0.5157982302165369, -0.6115487409614981, -0.26057821574260276, 0.15056239215291906, -0.3111329319825654, -0.4598812818400375, -0.44628815539430655, -0.3430365865647257, -0.5474068171925754]\n"
          ]
        }
      ],
      "source": [
        "#error calculations\n",
        "#confirmed = merged_df_new['Actual']\n",
        "#projected = merged_df_new['Prediction']\n",
        "error = []\n",
        "rawerror = []\n",
        "\n",
        "for index, row in merged_df_new.iterrows():\n",
        "  rawerror.append(-1*(row['New Cases'] - row[\"Prediction\"]) / row['New Cases'])\n",
        "  error.append((abs(row['New Cases'] - row[\"Prediction\"])) / row['New Cases'])\n",
        "\n",
        "underpredictCount = 0\n",
        "overpredictCount = 0\n",
        "for x in rawerror:\n",
        "  if x < 0:\n",
        "    underpredictCount += 1\n",
        "  elif x > 0:\n",
        "    overpredictCount += 1\n",
        "\n",
        "underpredictPerecentage = underpredictCount / len(rawerror)\n",
        "overpredictPercentage = 1 - underpredictPerecentage\n",
        "\n",
        "print(underpredictCount)\n",
        "print(underpredictPerecentage)\n",
        "print(overpredictCount)\n",
        "print(overpredictPercentage)\n",
        "print(len(error))\n",
        "\n",
        "print(error)\n",
        "print(rawerror)"
      ]
    },
    {
      "cell_type": "code",
      "execution_count": 26,
      "id": "a0526cb0",
      "metadata": {
        "id": "a0526cb0",
        "colab": {
          "base_uri": "https://localhost:8080/"
        },
        "outputId": "8f8814e2-2382-4985-e646-2d33b7d01ab6"
      },
      "outputs": [
        {
          "output_type": "stream",
          "name": "stdout",
          "text": [
            "[0.5531159142703618, 0.6682968711864512, 0.4422822878217668, 0.518700422331378, 0.33271386606531705, 0.36472677421732236, 0.3939076625912611, 0.4950588337948578, 0.878530513755124, 0.4599079295278723, 0.48677917910280655, 0.3994886525114655, 0.4395236988800395, 0.4171875168632393, 0.5657865605537127, 0.7751866779388008, 0.4449554104916609, 0.4883166079778959, 0.47512942212532217, 0.4349335252159835, 0.5880594159951685, 0.3617951493709036, 0.5285601010340546, 0.4353106020969548, 0.42542119288095914, 0.3337566010348708, 0.3789892448325133, 0.3818875602518442, 0.5532295038627462, 0.8166816940422086, 0.48330281678809117, 0.4704592391082235, 0.3948585710744995, 0.43005445747861515, 0.4713468980499371, 0.7427363129509807, 0.9351944097265501, 0.7087662025136878, 0.6176368393893203, 0.6309926854676724, 0.589622786699908, 0.556600081925319, 0.7068376075211757, 0.8384868181945843, 0.5589912121297229, 0.4637254684179597, 0.4719671584078402, 0.4461705697836771, 0.4700636386114384, 0.548584219554469, 0.6597807828993059, 0.44772741687460293, 0.4055857970468544, 0.3278098844479995, 0.3099715530542583, 0.3401446531061656, 0.4334776441724427, 0.5595984514762478, 0.41962954707035127, 0.3197705437007131, 0.2999582423561832, 0.2623415561340886, 0.3003836396153303, 0.37939378012714586, 0.5456872720985608, 0.27271683033151917, 0.3102550475484591, 0.2336590310313189, 0.2550916011867782, 0.26847447610034414, 0.6323476628894826, 0.505063334437412, 0.4967595015711692, 0.4124241048875382, 0.41615189808809994, 0.5101264033897391, 0.6085981388321563, 0.8047301618813466, 0.5993999200848766, 0.5040603431666523, 0.43542558085857963, 0.3407922763188238, 0.2903901198102028, 0.3712108911196841, 0.4716977870554814, 0.5359790593797409, 0.3664152866249115, 0.3777155281169282, 0.3657434052872889, 0.24181251293457307, 0.2625717817929901, 0.5825892880200965, 0.9163177467203528, 0.5792498354034081, 0.6528763945382514, 0.5983369711819218, 0.55155196121409, 0.5099253981035925, 0.4439707570003253, 0.6369520681131908, 0.3319038254580249, 0.2763508231791576, 0.2687338756117984, 0.21431531406092852, 0.25031323827856244, 0.6757742315241664, 0.8391351180989046, 0.3553782830318323, 0.33402517886652006, 0.26221395118940205, 0.22538424499045984, 0.21155693477690674, 0.5646565222597597, 0.6302073449019625, 0.4539436436129458, 0.4265660258914822, 0.3628929842586739, 0.3784778022928972, 0.3312077141190326, 0.584225734536326, 0.6941349812667768, 0.5763483025233913, 0.5646400473607274, 0.644153985173202, 0.6197680686419431, 0.6508636557538635, 0.457780131963089, 0.7999732425648232, 0.9515421173590851, 0.7678623792115893, 0.8295898700633271, 0.774751024447683, 0.812205988174969, 0.637110225906951, 0.7972065432836888, 0.5257930091120442, 0.523317329872719, 0.39838895600502156, 0.4987012215501089, 0.5087064409617863, 0.7549516187258745, 0.8541500551754105, 0.8174729802766588, 0.6744207277194687, 0.6167893195221519, 0.7578151888166265, 0.9035383338441363, 0.6318421583932303, 0.8724009058195207, 0.48655957967374575, 0.4485082639560922, 0.440099345120203, 0.5000583839649172, 0.4242824077482915, 0.7441992293283821, 0.7605981630281682, 0.5144429023178454, 0.5929243757593818, 0.39265983172580954, 0.4842017697834631, 0.38845125903850186, 0.7394217842573972, 0.8494376078470809, 0.6888670680174346, 0.5401187181599625, 0.5537118446056934, 0.6569634134352743, 0.45259318280742455]\n"
          ]
        }
      ],
      "source": [
        "#accuracy calculations\n",
        "accuracy = []\n",
        "\n",
        "for i in error:\n",
        "  accuracy.append(1 - i)\n",
        "\n",
        "print(accuracy)"
      ]
    },
    {
      "cell_type": "code",
      "execution_count": null,
      "id": "a8012f5e",
      "metadata": {
        "id": "a8012f5e"
      },
      "outputs": [],
      "source": [
        "#Create Error and Accuracy Column and insert list data\n",
        "merged_df_new['Error'] = error\n",
        "merged_df_new['Accuracy'] = accuracy\n",
        "merged_df_new['RawError'] = rawerror\n",
        "\n",
        "print(merged_df_new)"
      ]
    },
    {
      "cell_type": "code",
      "execution_count": 28,
      "id": "6a1f3c40",
      "metadata": {
        "id": "6a1f3c40",
        "colab": {
          "base_uri": "https://localhost:8080/",
          "height": 313
        },
        "outputId": "43bbde12-55f4-4d87-f0ac-8e9b20b9ec68"
      },
      "outputs": [
        {
          "output_type": "execute_result",
          "data": {
            "text/plain": [
              "<matplotlib.legend.Legend at 0x7f0d46f50950>"
            ]
          },
          "metadata": {},
          "execution_count": 28
        },
        {
          "output_type": "display_data",
          "data": {
            "text/plain": [
              "<Figure size 432x288 with 1 Axes>"
            ],
            "image/png": "[encoded data removed]"
          },
          "metadata": {
            "needs_background": "light"
          }
        }
      ],
      "source": [
        "from IPython.core.pylabtools import figsize\n",
        "#Create plot of Error\n",
        "\n",
        "#Error Line\n",
        "plt.plot(merged_df_new['Date'], merged_df_new['Error'], color='g', label='Error')\n",
        "\n",
        "\n",
        "#Create XY Labels and Title\n",
        "plt.xlabel('Date (Year/Month/Day)') \n",
        "plt.ylabel('Percentage') \n",
        "plt.title(\"Predicted Daily COVID-19 Case Error in PA\")\n",
        "#Display Plot\n",
        "plt.legend()"
      ]
    },
    {
      "cell_type": "code",
      "execution_count": 29,
      "id": "0480ef44",
      "metadata": {
        "id": "0480ef44",
        "colab": {
          "base_uri": "https://localhost:8080/",
          "height": 295
        },
        "outputId": "8d844b7f-082e-461c-9127-00baea50e6f2"
      },
      "outputs": [
        {
          "output_type": "display_data",
          "data": {
            "text/plain": [
              "<Figure size 432x288 with 1 Axes>"
            ],
            "image/png": "[encoded data removed]"
          },
          "metadata": {
            "needs_background": "light"
          }
        }
      ],
      "source": [
        "#Create plot of Raw Error\n",
        "\n",
        "#Raw Error Line\n",
        "plt.plot(merged_df_new['Date'], merged_df_new['RawError'], color='g', label='Raw Error')\n",
        "plt.axhline(y=0.0, color='r', linestyle='-')\n",
        "\n",
        "#Create XY Labels and Title\n",
        "plt.xlabel('Date (Year/Month/Day)') \n",
        "plt.ylabel('Percentage') \n",
        "plt.title(\"Predicted Daily COVID-19 Case Raw Error in PA\")\n",
        "#Display Plot\n",
        "plt.legend()\n",
        "plt.show()"
      ]
    },
    {
      "cell_type": "code",
      "execution_count": 30,
      "id": "cb557ed1",
      "metadata": {
        "id": "cb557ed1",
        "colab": {
          "base_uri": "https://localhost:8080/",
          "height": 295
        },
        "outputId": "a1bdc759-d7c4-4e2b-f2e9-d8095f9c5262"
      },
      "outputs": [
        {
          "output_type": "display_data",
          "data": {
            "text/plain": [
              "<Figure size 432x288 with 1 Axes>"
            ],
            "image/png": "[encoded data removed]"
          },
          "metadata": {
            "needs_background": "light"
          }
        }
      ],
      "source": [
        "#Create plot of Accuracy\n",
        "\n",
        "#Accuracy Line\n",
        "plt.plot(merged_df_new['Date'], merged_df_new['Accuracy'], color='r', label='Daily Accuracy')\n",
        "\n",
        "#Create XY Labels and Title\n",
        "plt.xlabel('Date (Year/Month/Day)') \n",
        "plt.ylabel('Percentage') \n",
        "plt.title(\"Predicted Daily COVID-19 Case Accuracy in PA\")\n",
        "\n",
        "#Display Plot\n",
        "plt.legend()\n",
        "plt.show()"
      ]
    },
    {
      "cell_type": "code",
      "execution_count": 31,
      "id": "4d6b0409",
      "metadata": {
        "id": "4d6b0409"
      },
      "outputs": [],
      "source": [
        "#Calculate Weekly Accuracy Averages\n",
        "weeklyAccuracy = 0\n",
        "averageWeeklyAccuracy = []\n",
        "length = len(accuracy) #   =245\n",
        "amountOfWeeks = int(length / 7) #   =35\n",
        "remainderDays = length % 7 #  \n",
        "\n",
        "i = 0\n",
        "while i < length:\n",
        "  weeklyAccuracy += accuracy[i]\n",
        "  if (i + 1) % 7 == 0 and amountOfWeeks > 0:\n",
        "    averageWeeklyAccuracy.append(weeklyAccuracy / 7)\n",
        "    amountOfWeeks -= 1\n",
        "    weeklyAccuracy = 0\n",
        "  if remainderDays > 0:\n",
        "    if (i + 1) % remainderDays == 0 and amountOfWeeks == 0:\n",
        "      averageWeeklyAccuracy.append(weeklyAccuracy / remainderDays)\n",
        "      weeklyAccuracy = 0\n",
        "  i += 1\n",
        "\n",
        "weeklyDateList = []\n",
        "i = 0\n",
        "weeklyDateList.append(merged_df_new['Date'][i])\n",
        "while i < length:\n",
        "  if (i + 1) % 7 == 0:\n",
        "    weeklyDateList.append(merged_df_new['Date'][i])\n",
        "  i += 1"
      ]
    },
    {
      "cell_type": "code",
      "source": [
        "len(weeklyDateList)"
      ],
      "metadata": {
        "colab": {
          "base_uri": "https://localhost:8080/"
        },
        "id": "WJ-5HSFnNqoZ",
        "outputId": "9ef8a69e-eb0a-4be7-a7f2-e345657205aa"
      },
      "id": "WJ-5HSFnNqoZ",
      "execution_count": 32,
      "outputs": [
        {
          "output_type": "execute_result",
          "data": {
            "text/plain": [
              "25"
            ]
          },
          "metadata": {},
          "execution_count": 32
        }
      ]
    },
    {
      "cell_type": "code",
      "source": [
        "del weeklyDateList[-1:]\n",
        "len(averageWeeklyAccuracy)"
      ],
      "metadata": {
        "colab": {
          "base_uri": "https://localhost:8080/"
        },
        "id": "P90LPnPNNFv2",
        "outputId": "6d87f7b0-e590-4d2b-b7a2-b64aad960bd7"
      },
      "id": "P90LPnPNNFv2",
      "execution_count": 34,
      "outputs": [
        {
          "output_type": "execute_result",
          "data": {
            "text/plain": [
              "24"
            ]
          },
          "metadata": {},
          "execution_count": 34
        }
      ]
    },
    {
      "cell_type": "code",
      "execution_count": 35,
      "id": "04c4449c",
      "metadata": {
        "id": "04c4449c"
      },
      "outputs": [],
      "source": [
        "#Create Dataframe for Weekly Accuracy\n",
        "i = 0\n",
        "data = []\n",
        "while i < len(averageWeeklyAccuracy):\n",
        "  data.append([weeklyDateList[i], averageWeeklyAccuracy[i]])\n",
        "  i += 1\n",
        "\n",
        "df = pd.DataFrame(data, columns = ['Week Of', 'Average Weekly Accuracy'])"
      ]
    },
    {
      "cell_type": "code",
      "execution_count": 36,
      "id": "6132cdfa",
      "metadata": {
        "id": "6132cdfa",
        "colab": {
          "base_uri": "https://localhost:8080/",
          "height": 295
        },
        "outputId": "a4eda525-4dfc-4c9d-cb83-27d27446c569"
      },
      "outputs": [
        {
          "output_type": "display_data",
          "data": {
            "text/plain": [
              "<Figure size 432x288 with 1 Axes>"
            ],
            "image/png": "[encoded data removed]"
          },
          "metadata": {
            "needs_background": "light"
          }
        }
      ],
      "source": [
        "#Create plot of Weekly Accuracy\n",
        "\n",
        "#Accuracy Line\n",
        "plt.plot(df['Week Of'], df['Average Weekly Accuracy'], color='r', label='Weekly Accuracy')\n",
        "\n",
        "#Create XY Labels and Title\n",
        "plt.xlabel('Week Of (Year/Month/Day)') \n",
        "plt.ylabel('Average Weekly Accuracy Percentage') \n",
        "plt.title(\"Predicted Daily COVID-19 Case Weekly Accuracy in PA\")\n",
        "\n",
        "#Display Plot\n",
        "plt.legend()\n",
        "plt.show()"
      ]
    },
    {
      "cell_type": "code",
      "execution_count": 37,
      "id": "5917fad0",
      "metadata": {
        "id": "5917fad0"
      },
      "outputs": [],
      "source": [
        "#Create Running Weekly Average\n",
        "runningweeklyAccuracy = 0\n",
        "runningAverageWeeklyAccuracy = []\n",
        "length = len(accuracy)\n",
        "\n",
        "i = 1\n",
        "j = 8\n",
        "#Add first week average\n",
        "runningAverageWeeklyAccuracy.append(averageWeeklyAccuracy[0])\n",
        "\n",
        "while j < length:\n",
        "  temp_i = i\n",
        "  temp_j = j\n",
        "  while temp_i < temp_j:\n",
        "    runningweeklyAccuracy += accuracy[temp_i]\n",
        "    temp_i += 1\n",
        "  runningAverageWeeklyAccuracy.append(runningweeklyAccuracy / 7)\n",
        "  runningweeklyAccuracy = 0\n",
        "\n",
        "  i += 1\n",
        "  j += 1"
      ]
    },
    {
      "cell_type": "code",
      "execution_count": 38,
      "id": "5b231780",
      "metadata": {
        "id": "5b231780"
      },
      "outputs": [],
      "source": [
        "#Create Dataframe for Running Weekly Accuracy\n",
        "i = 0\n",
        "data = []\n",
        "while i < len(runningAverageWeeklyAccuracy):\n",
        "  data.append([merged_df_new['Date'][i], runningAverageWeeklyAccuracy[i]])\n",
        "  i += 1\n",
        "\n",
        "df = pd.DataFrame(data, columns = ['Date', 'Running Weekly Average Accuracy'])"
      ]
    },
    {
      "cell_type": "code",
      "execution_count": 39,
      "id": "85337528",
      "metadata": {
        "id": "85337528",
        "colab": {
          "base_uri": "https://localhost:8080/",
          "height": 295
        },
        "outputId": "2ff0160e-ff19-4e7c-fc94-735a26246bfc"
      },
      "outputs": [
        {
          "output_type": "display_data",
          "data": {
            "text/plain": [
              "<Figure size 432x288 with 1 Axes>"
            ],
            "image/png": "[encoded data removed]"
          },
          "metadata": {
            "needs_background": "light"
          }
        }
      ],
      "source": [
        "#Create plot of Running Weekly Accuracy\n",
        "\n",
        "#Accuracy Line\n",
        "plt.plot(df['Date'], df['Running Weekly Average Accuracy'], color='r', label='Running Weekly Accuracy')\n",
        "\n",
        "#Create XY Labels and Title\n",
        "plt.xlabel('Date') \n",
        "plt.ylabel('Accuracy Percentage') \n",
        "plt.title(\"Predicted Daily COVID-19 Case Running Weekly Accuracy in PA\")\n",
        "\n",
        "#Display Plot\n",
        "plt.legend()\n",
        "plt.show()"
      ]
    },
    {
      "cell_type": "code",
      "execution_count": 40,
      "id": "b8764ff7",
      "metadata": {
        "id": "b8764ff7",
        "colab": {
          "base_uri": "https://localhost:8080/",
          "height": 295
        },
        "outputId": "9ade7cb8-b750-4736-9347-8e3ffd678f05"
      },
      "outputs": [
        {
          "output_type": "display_data",
          "data": {
            "text/plain": [
              "<Figure size 432x288 with 1 Axes>"
            ],
            "image/png": "[encoded data removed]"
          },
          "metadata": {
            "needs_background": "light"
          }
        }
      ],
      "source": [
        "#Plot with combined daily accuracy and running weekly accuracy\n",
        "\n",
        "#Daily Accuracy\n",
        "plt.plot(merged_df_new['Date'], merged_df_new['Accuracy'], color='r', label='Daily Accuracy')\n",
        "\n",
        "#Running Accuracy Line\n",
        "plt.plot(df['Date'], df['Running Weekly Average Accuracy'], color='b', label='Running Weekly Accuracy')\n",
        "\n",
        "#Create XY Labels and Title\n",
        "plt.xlabel('Date') \n",
        "plt.ylabel('Accuracy Percentage') \n",
        "plt.title(\"Predicted Daily COVID-19 Case Accuracy in PA\")\n",
        "\n",
        "#Display Plot\n",
        "plt.legend()\n",
        "plt.show()"
      ]
    },
    {
      "cell_type": "code",
      "execution_count": null,
      "id": "4243a737",
      "metadata": {
        "id": "4243a737"
      },
      "outputs": [],
      "source": [
        "#merged_df_new.to_csv('DDS_everyday_predictions.csv')"
      ]
    },
    {
      "cell_type": "code",
      "execution_count": 41,
      "id": "b8d57b22",
      "metadata": {
        "id": "b8d57b22"
      },
      "outputs": [],
      "source": [
        "#Calculate Monthly Accuracy Averages\n",
        "#We are going to use an average of 30 days per month for these calculations\n",
        "\n",
        "monthlyAccuracy = 0\n",
        "averageMonthlyAccuracy = []\n",
        "amountOfMonths = int(length / 30)\n",
        "remainderDays = length % 30\n",
        "\n",
        "i = 0\n",
        "while i < length:\n",
        "  monthlyAccuracy += accuracy[i]\n",
        "  if (i + 1) % 30 == 0 and amountOfMonths > 0:\n",
        "    averageMonthlyAccuracy.append(monthlyAccuracy / 30)\n",
        "    amountOfMonths -= 1\n",
        "    monthlyAccuracy = 0\n",
        "  if (i + 1) % remainderDays == 0 and remainderDays > 0 and amountOfMonths == 0:\n",
        "    averageMonthlyAccuracy.append(monthlyAccuracy / remainderDays)\n",
        "    monthlyAccuracy = 0\n",
        "  i += 1\n",
        "\n",
        "weeklyDateListForMonths = []\n",
        "i = 0\n",
        "weeklyDateListForMonths.append(merged_df_new['Date'][i])\n",
        "while i < length:\n",
        "  if (i + 1) % 30 == 0:\n",
        "    weeklyDateListForMonths.append(merged_df_new['Date'][i])\n",
        "  i += 1\n"
      ]
    },
    {
      "cell_type": "code",
      "execution_count": 42,
      "id": "c9d81c9a",
      "metadata": {
        "id": "c9d81c9a",
        "colab": {
          "base_uri": "https://localhost:8080/"
        },
        "outputId": "ff2ddf34-6c2b-4b3e-81e6-eba3212450d1"
      },
      "outputs": [
        {
          "output_type": "execute_result",
          "data": {
            "text/plain": [
              "6"
            ]
          },
          "metadata": {},
          "execution_count": 42
        }
      ],
      "source": [
        "#del averageMonthlyAccuracy[-1:]\n",
        "len(averageMonthlyAccuracy)"
      ]
    },
    {
      "cell_type": "code",
      "execution_count": 43,
      "id": "d2d88cd5",
      "metadata": {
        "id": "d2d88cd5"
      },
      "outputs": [],
      "source": [
        "#Create Dataframe for Monthly Accuracy\n",
        "i = 0\n",
        "data = []\n",
        "while i < len(averageMonthlyAccuracy):\n",
        "  data.append([weeklyDateListForMonths[i], averageMonthlyAccuracy[i]])\n",
        "  i += 1\n",
        "\n",
        "df = pd.DataFrame(data, columns = ['Month Of', 'Average Monthly Accuracy'])"
      ]
    },
    {
      "cell_type": "code",
      "execution_count": 44,
      "id": "bbf2b69a",
      "metadata": {
        "id": "bbf2b69a",
        "colab": {
          "base_uri": "https://localhost:8080/",
          "height": 295
        },
        "outputId": "8c6d7479-a30a-4f8c-ae62-955503ad90fc"
      },
      "outputs": [
        {
          "output_type": "display_data",
          "data": {
            "text/plain": [
              "<Figure size 432x288 with 1 Axes>"
            ],
            "image/png": "[encoded data removed]"
          },
          "metadata": {
            "needs_background": "light"
          }
        }
      ],
      "source": [
        "#Create plot of Monthly Accuracy\n",
        "\n",
        "#Accuracy Line\n",
        "plt.plot(df['Month Of'], df['Average Monthly Accuracy'], color='r', label='Monthly Accuracy')\n",
        "\n",
        "#Create XY Labels and Title\n",
        "plt.xlabel('Month Of (Year/Month/Day)') \n",
        "plt.ylabel('Average Monthly Accuracy Percentage') \n",
        "plt.title(\"Predicted Daily COVID-19 Case Monthly Accuracy in PA\")\n",
        "\n",
        "#Display Plot\n",
        "plt.legend()\n",
        "plt.show()"
      ]
    },
    {
      "cell_type": "code",
      "source": [
        "#Calculate Running Monthly Accuracy\n",
        "\n",
        "runningmonthlyAccuracy = 0\n",
        "runningAveragemonthlyAccuracy = []\n",
        "length = len(accuracy)\n",
        "\n",
        "i = 1\n",
        "j = 31\n",
        "#Add first week average\n",
        "runningAveragemonthlyAccuracy.append(averageMonthlyAccuracy[0])\n",
        "\n",
        "while j < length:\n",
        "  temp_i = i\n",
        "  temp_j = j\n",
        "  while temp_i < temp_j:\n",
        "    runningmonthlyAccuracy += accuracy[temp_i]\n",
        "    temp_i += 1\n",
        "  runningAveragemonthlyAccuracy.append(runningmonthlyAccuracy / 30)\n",
        "  runningmonthlyAccuracy = 0\n",
        "\n",
        "  i += 1\n",
        "  j += 1"
      ],
      "metadata": {
        "id": "X02LeClcSWTa"
      },
      "id": "X02LeClcSWTa",
      "execution_count": 45,
      "outputs": []
    },
    {
      "cell_type": "code",
      "source": [
        "#Create Dataframe for Running Monthly Accuracy\n",
        "i = 0\n",
        "data = []\n",
        "while i < len(runningAveragemonthlyAccuracy):\n",
        "  data.append([merged_df_new['Date'][i], runningAveragemonthlyAccuracy[i]])\n",
        "  i += 1\n",
        "\n",
        "df = pd.DataFrame(data, columns = ['Date', 'Running Monthly Average Accuracy'])"
      ],
      "metadata": {
        "id": "0IAKKnIZSc7e"
      },
      "id": "0IAKKnIZSc7e",
      "execution_count": 46,
      "outputs": []
    },
    {
      "cell_type": "code",
      "source": [
        "#Create plot of Running Monthly Accuracy\n",
        "\n",
        "#Accuracy Line\n",
        "plt.plot(df['Date'], df['Running Monthly Average Accuracy'], color='r', label='Running Monthly Accuracy')\n",
        "\n",
        "#Create XY Labels and Title\n",
        "plt.xlabel('Date') \n",
        "plt.ylabel('Accuracy Percentage') \n",
        "plt.title(\"Predicted Daily COVID-19 Case Running Monthly Accuracy in PA\")\n",
        "\n",
        "#Display Plot\n",
        "plt.legend()\n",
        "plt.show()"
      ],
      "metadata": {
        "colab": {
          "base_uri": "https://localhost:8080/",
          "height": 295
        },
        "id": "qhK2tbJaSkPW",
        "outputId": "27d6a8df-cab2-42b8-cfe4-112aecfd496a"
      },
      "id": "qhK2tbJaSkPW",
      "execution_count": 47,
      "outputs": [
        {
          "output_type": "display_data",
          "data": {
            "text/plain": [
              "<Figure size 432x288 with 1 Axes>"
            ],
            "image/png": "[encoded data removed]"
          },
          "metadata": {
            "needs_background": "light"
          }
        }
      ]
    },
    {
      "cell_type": "code",
      "source": [
        "#Calculate Yearly Accuracy Averages\n",
        "#We are going to use an average of 365 days per year for these calculations\n",
        "\n",
        "yearlyAccuracy = 0\n",
        "averageYearlyAccuracy = []\n",
        "amountOfYears = int(length / 365)\n",
        "remainderDays = length % 365\n",
        "\n",
        "i = 0\n",
        "while i < length:\n",
        "  yearlyAccuracy += accuracy[i]\n",
        "  if (i + 1) % 365 == 0 and amountOfYears > 0:\n",
        "    averageYearlyAccuracy.append(yearlyAccuracy / 365)\n",
        "    amountOfYears -= 1\n",
        "    yearlyAccuracy = 0\n",
        "  if (i + 1) % remainderDays == 0 and remainderDays > 0 and amountOfYears == 0:\n",
        "    averageYearlyAccuracy.append(yearlyAccuracy / remainderDays)\n",
        "    yearlyAccuracy = 0\n",
        "  i += 1\n",
        "\n",
        "weeklyDateListForYears = []\n",
        "i = 0\n",
        "weeklyDateListForYears.append(merged_df_new['Date'][i])\n",
        "while i < length:\n",
        "  if (i + 1) % 365 == 0:\n",
        "    weeklyDateListForYears.append(merged_df_new['Date'][i])\n",
        "  i += 1"
      ],
      "metadata": {
        "id": "wuFLInYkSl0D"
      },
      "id": "wuFLInYkSl0D",
      "execution_count": 48,
      "outputs": []
    },
    {
      "cell_type": "code",
      "source": [
        "print(averageYearlyAccuracy)"
      ],
      "metadata": {
        "colab": {
          "base_uri": "https://localhost:8080/"
        },
        "id": "0X5tj6YASxgP",
        "outputId": "83d02ae1-e311-4815-9c64-5d0bababcf00"
      },
      "id": "0X5tj6YASxgP",
      "execution_count": 49,
      "outputs": [
        {
          "output_type": "stream",
          "name": "stdout",
          "text": [
            "[0.5196359642060998]\n"
          ]
        }
      ]
    },
    {
      "cell_type": "code",
      "source": [
        "#Calculate Overall Accuracy\n",
        "overallAccuracy = merged_df_new['Accuracy'].mean()\n",
        "print(overallAccuracy)"
      ],
      "metadata": {
        "colab": {
          "base_uri": "https://localhost:8080/"
        },
        "id": "wvfzf5lyTIzD",
        "outputId": "6c9a7094-3633-4aed-9211-67fe739616ba"
      },
      "id": "wvfzf5lyTIzD",
      "execution_count": 52,
      "outputs": [
        {
          "output_type": "stream",
          "name": "stdout",
          "text": [
            "0.5196359642060998\n"
          ]
        }
      ]
    },
    {
      "cell_type": "code",
      "source": [
        "#Create new dataframe for year 2022\n",
        "data_2022 = merged_df_new[(merged_df_new['Date'] > '2022-01-01')]"
      ],
      "metadata": {
        "id": "hrBX4CVpTN0j"
      },
      "id": "hrBX4CVpTN0j",
      "execution_count": 53,
      "outputs": []
    },
    {
      "cell_type": "code",
      "source": [
        "#create error and accuracy lists for 2022\n",
        "error_2022=[]\n",
        "for index, row in data_2022.iterrows():\n",
        "  error_2022.append((abs(row['New Cases'] - row[\"Prediction\"])) / row['New Cases'])\n",
        "\n",
        "accuracy_2022 = []\n",
        "for i in error_2022:\n",
        "  accuracy_2022.append(1 - i)"
      ],
      "metadata": {
        "id": "91MO2kFaTSTJ"
      },
      "id": "91MO2kFaTSTJ",
      "execution_count": 54,
      "outputs": []
    },
    {
      "cell_type": "code",
      "source": [
        "#check head of 2022 data\n",
        "data_2022.head(5)"
      ],
      "metadata": {
        "colab": {
          "base_uri": "https://localhost:8080/",
          "height": 354
        },
        "id": "GAIV4vDLTdLo",
        "outputId": "8de05397-dd37-4416-ae9f-cbae28646db3"
      },
      "id": "GAIV4vDLTdLo",
      "execution_count": 55,
      "outputs": [
        {
          "output_type": "execute_result",
          "data": {
            "text/plain": [
              "          Date  New Cases  7-day Average New Cases  \\\n",
              "113 2022-01-02      35128                  38695.9   \n",
              "114 2022-01-03      48768                  41456.9   \n",
              "115 2022-01-04      51898                  44396.0   \n",
              "116 2022-01-05      61004                  47411.2   \n",
              "117 2022-01-06      58492                  49136.1   \n",
              "\n",
              "     Cumulative cases                            Population (2019)  \\\n",
              "113                                     4203914           25603978   \n",
              "114                                     4252682           25603978   \n",
              "115                                     4304580           25603978   \n",
              "116                                     4365584           25603978   \n",
              "117                                     4424076           25603978   \n",
              "\n",
              "     New Case Rate  7-Day Average New Case Rate  Cumulative Case Rate  \\\n",
              "113         6449.2                       7426.4             1172327.7   \n",
              "114         9816.9                       8055.2             1182144.5   \n",
              "115        10744.4                       8691.2             1192888.2   \n",
              "116        11662.5                       9215.5             1204551.4   \n",
              "117        12854.6                       9728.8             1217406.1   \n",
              "\n",
              "     County FIPS Code    Longitude     Latitude    Prediction     Error  \\\n",
              "113           2860489 -5275.682283  2774.207671  22137.923612  0.369793   \n",
              "114           2860489 -5275.682283  2774.207671  22137.923612  0.546056   \n",
              "115           2860489 -5275.682283  2774.207671  22137.923612  0.573434   \n",
              "116           2860489 -5275.682283  2774.207671  22137.923612  0.637107   \n",
              "117           2860489 -5275.682283  2774.207671  22137.923612  0.621522   \n",
              "\n",
              "     Accuracy  RawError  \n",
              "113  0.630207 -0.369793  \n",
              "114  0.453944 -0.546056  \n",
              "115  0.426566 -0.573434  \n",
              "116  0.362893 -0.637107  \n",
              "117  0.378478 -0.621522  "
            ],
            "text/html": [
              "\n",
              "  <div id=\"df-c0a66028-ee91-40f4-a2e6-f155f01b9213\">\n",
              "    <div class=\"colab-df-container\">\n",
              "      <div>\n",
              "<style scoped>\n",
              "    .dataframe tbody tr th:only-of-type {\n",
              "        vertical-align: middle;\n",
              "    }\n",
              "\n",
              "    .dataframe tbody tr th {\n",
              "        vertical-align: top;\n",
              "    }\n",
              "\n",
              "    .dataframe thead th {\n",
              "        text-align: right;\n",
              "    }\n",
              "</style>\n",
              "<table border=\"1\" class=\"dataframe\">\n",
              "  <thead>\n",
              "    <tr style=\"text-align: right;\">\n",
              "      <th></th>\n",
              "      <th>Date</th>\n",
              "      <th>New Cases</th>\n",
              "      <th>7-day Average New Cases</th>\n",
              "      <th>Cumulative cases</th>\n",
              "      <th>Population (2019)</th>\n",
              "      <th>New Case Rate</th>\n",
              "      <th>7-Day Average New Case Rate</th>\n",
              "      <th>Cumulative Case Rate</th>\n",
              "      <th>County FIPS Code</th>\n",
              "      <th>Longitude</th>\n",
              "      <th>Latitude</th>\n",
              "      <th>Prediction</th>\n",
              "      <th>Error</th>\n",
              "      <th>Accuracy</th>\n",
              "      <th>RawError</th>\n",
              "    </tr>\n",
              "  </thead>\n",
              "  <tbody>\n",
              "    <tr>\n",
              "      <th>113</th>\n",
              "      <td>2022-01-02</td>\n",
              "      <td>35128</td>\n",
              "      <td>38695.9</td>\n",
              "      <td>4203914</td>\n",
              "      <td>25603978</td>\n",
              "      <td>6449.2</td>\n",
              "      <td>7426.4</td>\n",
              "      <td>1172327.7</td>\n",
              "      <td>2860489</td>\n",
              "      <td>-5275.682283</td>\n",
              "      <td>2774.207671</td>\n",
              "      <td>22137.923612</td>\n",
              "      <td>0.369793</td>\n",
              "      <td>0.630207</td>\n",
              "      <td>-0.369793</td>\n",
              "    </tr>\n",
              "    <tr>\n",
              "      <th>114</th>\n",
              "      <td>2022-01-03</td>\n",
              "      <td>48768</td>\n",
              "      <td>41456.9</td>\n",
              "      <td>4252682</td>\n",
              "      <td>25603978</td>\n",
              "      <td>9816.9</td>\n",
              "      <td>8055.2</td>\n",
              "      <td>1182144.5</td>\n",
              "      <td>2860489</td>\n",
              "      <td>-5275.682283</td>\n",
              "      <td>2774.207671</td>\n",
              "      <td>22137.923612</td>\n",
              "      <td>0.546056</td>\n",
              "      <td>0.453944</td>\n",
              "      <td>-0.546056</td>\n",
              "    </tr>\n",
              "    <tr>\n",
              "      <th>115</th>\n",
              "      <td>2022-01-04</td>\n",
              "      <td>51898</td>\n",
              "      <td>44396.0</td>\n",
              "      <td>4304580</td>\n",
              "      <td>25603978</td>\n",
              "      <td>10744.4</td>\n",
              "      <td>8691.2</td>\n",
              "      <td>1192888.2</td>\n",
              "      <td>2860489</td>\n",
              "      <td>-5275.682283</td>\n",
              "      <td>2774.207671</td>\n",
              "      <td>22137.923612</td>\n",
              "      <td>0.573434</td>\n",
              "      <td>0.426566</td>\n",
              "      <td>-0.573434</td>\n",
              "    </tr>\n",
              "    <tr>\n",
              "      <th>116</th>\n",
              "      <td>2022-01-05</td>\n",
              "      <td>61004</td>\n",
              "      <td>47411.2</td>\n",
              "      <td>4365584</td>\n",
              "      <td>25603978</td>\n",
              "      <td>11662.5</td>\n",
              "      <td>9215.5</td>\n",
              "      <td>1204551.4</td>\n",
              "      <td>2860489</td>\n",
              "      <td>-5275.682283</td>\n",
              "      <td>2774.207671</td>\n",
              "      <td>22137.923612</td>\n",
              "      <td>0.637107</td>\n",
              "      <td>0.362893</td>\n",
              "      <td>-0.637107</td>\n",
              "    </tr>\n",
              "    <tr>\n",
              "      <th>117</th>\n",
              "      <td>2022-01-06</td>\n",
              "      <td>58492</td>\n",
              "      <td>49136.1</td>\n",
              "      <td>4424076</td>\n",
              "      <td>25603978</td>\n",
              "      <td>12854.6</td>\n",
              "      <td>9728.8</td>\n",
              "      <td>1217406.1</td>\n",
              "      <td>2860489</td>\n",
              "      <td>-5275.682283</td>\n",
              "      <td>2774.207671</td>\n",
              "      <td>22137.923612</td>\n",
              "      <td>0.621522</td>\n",
              "      <td>0.378478</td>\n",
              "      <td>-0.621522</td>\n",
              "    </tr>\n",
              "  </tbody>\n",
              "</table>\n",
              "</div>\n",
              "      <button class=\"colab-df-convert\" onclick=\"convertToInteractive('df-c0a66028-ee91-40f4-a2e6-f155f01b9213')\"\n",
              "              title=\"Convert this dataframe to an interactive table.\"\n",
              "              style=\"display:none;\">\n",
              "        \n",
              "  <svg xmlns=\"http://www.w3.org/2000/svg\" height=\"24px\"viewBox=\"0 0 24 24\"\n",
              "       width=\"24px\">\n",
              "    <path d=\"M0 0h24v24H0V0z\" fill=\"none\"/>\n",
              "    <path d=\"M18.56 5.44l.94 2.06.94-2.06 2.06-.94-2.06-.94-.94-2.06-.94 2.06-2.06.94zm-11 1L8.5 8.5l.94-2.06 2.06-.94-2.06-.94L8.5 2.5l-.94 2.06-2.06.94zm10 10l.94 2.06.94-2.06 2.06-.94-2.06-.94-.94-2.06-.94 2.06-2.06.94z\"/><path d=\"M17.41 7.96l-1.37-1.37c-.4-.4-.92-.59-1.43-.59-.52 0-1.04.2-1.43.59L10.3 9.45l-7.72 7.72c-.78.78-.78 2.05 0 2.83L4 21.41c.39.39.9.59 1.41.59.51 0 1.02-.2 1.41-.59l7.78-7.78 2.81-2.81c.8-.78.8-2.07 0-2.86zM5.41 20L4 18.59l7.72-7.72 1.47 1.35L5.41 20z\"/>\n",
              "  </svg>\n",
              "      </button>\n",
              "      \n",
              "  <style>\n",
              "    .colab-df-container {\n",
              "      display:flex;\n",
              "      flex-wrap:wrap;\n",
              "      gap: 12px;\n",
              "    }\n",
              "\n",
              "    .colab-df-convert {\n",
              "      background-color: #E8F0FE;\n",
              "      border: none;\n",
              "      border-radius: 50%;\n",
              "      cursor: pointer;\n",
              "      display: none;\n",
              "      fill: #1967D2;\n",
              "      height: 32px;\n",
              "      padding: 0 0 0 0;\n",
              "      width: 32px;\n",
              "    }\n",
              "\n",
              "    .colab-df-convert:hover {\n",
              "      background-color: #E2EBFA;\n",
              "      box-shadow: 0px 1px 2px rgba(60, 64, 67, 0.3), 0px 1px 3px 1px rgba(60, 64, 67, 0.15);\n",
              "      fill: #174EA6;\n",
              "    }\n",
              "\n",
              "    [theme=dark] .colab-df-convert {\n",
              "      background-color: #3B4455;\n",
              "      fill: #D2E3FC;\n",
              "    }\n",
              "\n",
              "    [theme=dark] .colab-df-convert:hover {\n",
              "      background-color: #434B5C;\n",
              "      box-shadow: 0px 1px 3px 1px rgba(0, 0, 0, 0.15);\n",
              "      filter: drop-shadow(0px 1px 2px rgba(0, 0, 0, 0.3));\n",
              "      fill: #FFFFFF;\n",
              "    }\n",
              "  </style>\n",
              "\n",
              "      <script>\n",
              "        const buttonEl =\n",
              "          document.querySelector('#df-c0a66028-ee91-40f4-a2e6-f155f01b9213 button.colab-df-convert');\n",
              "        buttonEl.style.display =\n",
              "          google.colab.kernel.accessAllowed ? 'block' : 'none';\n",
              "\n",
              "        async function convertToInteractive(key) {\n",
              "          const element = document.querySelector('#df-c0a66028-ee91-40f4-a2e6-f155f01b9213');\n",
              "          const dataTable =\n",
              "            await google.colab.kernel.invokeFunction('convertToInteractive',\n",
              "                                                     [key], {});\n",
              "          if (!dataTable) return;\n",
              "\n",
              "          const docLinkHtml = 'Like what you see? Visit the ' +\n",
              "            '<a target=\"_blank\" href=https://colab.research.google.com/notebooks/data_table.ipynb>data table notebook</a>'\n",
              "            + ' to learn more about interactive tables.';\n",
              "          element.innerHTML = '';\n",
              "          dataTable['output_type'] = 'display_data';\n",
              "          await google.colab.output.renderOutput(dataTable, element);\n",
              "          const docLink = document.createElement('div');\n",
              "          docLink.innerHTML = docLinkHtml;\n",
              "          element.appendChild(docLink);\n",
              "        }\n",
              "      </script>\n",
              "    </div>\n",
              "  </div>\n",
              "  "
            ]
          },
          "metadata": {},
          "execution_count": 55
        }
      ]
    },
    {
      "cell_type": "code",
      "source": [
        "#create plot for 2022 accuracy\n",
        "plt.xlabel('Date (Month/Day)') \n",
        "plt.ylabel('Prediction Accuracy') \n",
        "plt.title(\"Accuracy Estimation for 2022 PA\")\n",
        "\n",
        "plt.plot(data_2022['Date'].dt.strftime('%m-%d'), accuracy_2022, label='Accuracy 2022')\n",
        "plt.xticks(np.arange(0, len(data_2022['Date']), 7))"
      ],
      "metadata": {
        "colab": {
          "base_uri": "https://localhost:8080/",
          "height": 460
        },
        "id": "NSLRsyeoTg8v",
        "outputId": "b2e8def4-79f0-4f76-f373-a06c4c8375be"
      },
      "id": "NSLRsyeoTg8v",
      "execution_count": 56,
      "outputs": [
        {
          "output_type": "execute_result",
          "data": {
            "text/plain": [
              "([<matplotlib.axis.XTick at 0x7f0d4700bf50>,\n",
              "  <matplotlib.axis.XTick at 0x7f0d43f23750>,\n",
              "  <matplotlib.axis.XTick at 0x7f0d43fb5a50>,\n",
              "  <matplotlib.axis.XTick at 0x7f0d43f59bd0>,\n",
              "  <matplotlib.axis.XTick at 0x7f0d43ee1090>,\n",
              "  <matplotlib.axis.XTick at 0x7f0d43ee16d0>,\n",
              "  <matplotlib.axis.XTick at 0x7f0d43ee1c50>,\n",
              "  <matplotlib.axis.XTick at 0x7f0d43eea210>],\n",
              " <a list of 8 Text major ticklabel objects>)"
            ]
          },
          "metadata": {},
          "execution_count": 56
        },
        {
          "output_type": "display_data",
          "data": {
            "text/plain": [
              "<Figure size 432x288 with 1 Axes>"
            ],
            "image/png": "[encoded data removed]"
          },
          "metadata": {
            "needs_background": "light"
          }
        }
      ]
    },
    {
      "cell_type": "code",
      "source": [
        "#cleans accuracy list of all nan values\n",
        "newlist = [x for x in accuracy if math.isnan(x) == False]\n",
        "print(newlist)"
      ],
      "metadata": {
        "colab": {
          "base_uri": "https://localhost:8080/"
        },
        "id": "ulVDSL0kTiLj",
        "outputId": "a1e02a49-6551-4ad2-ac76-7068e3063b7f"
      },
      "id": "ulVDSL0kTiLj",
      "execution_count": 57,
      "outputs": [
        {
          "output_type": "stream",
          "name": "stdout",
          "text": [
            "[0.5531159142703618, 0.6682968711864512, 0.4422822878217668, 0.518700422331378, 0.33271386606531705, 0.36472677421732236, 0.3939076625912611, 0.4950588337948578, 0.878530513755124, 0.4599079295278723, 0.48677917910280655, 0.3994886525114655, 0.4395236988800395, 0.4171875168632393, 0.5657865605537127, 0.7751866779388008, 0.4449554104916609, 0.4883166079778959, 0.47512942212532217, 0.4349335252159835, 0.5880594159951685, 0.3617951493709036, 0.5285601010340546, 0.4353106020969548, 0.42542119288095914, 0.3337566010348708, 0.3789892448325133, 0.3818875602518442, 0.5532295038627462, 0.8166816940422086, 0.48330281678809117, 0.4704592391082235, 0.3948585710744995, 0.43005445747861515, 0.4713468980499371, 0.7427363129509807, 0.9351944097265501, 0.7087662025136878, 0.6176368393893203, 0.6309926854676724, 0.589622786699908, 0.556600081925319, 0.7068376075211757, 0.8384868181945843, 0.5589912121297229, 0.4637254684179597, 0.4719671584078402, 0.4461705697836771, 0.4700636386114384, 0.548584219554469, 0.6597807828993059, 0.44772741687460293, 0.4055857970468544, 0.3278098844479995, 0.3099715530542583, 0.3401446531061656, 0.4334776441724427, 0.5595984514762478, 0.41962954707035127, 0.3197705437007131, 0.2999582423561832, 0.2623415561340886, 0.3003836396153303, 0.37939378012714586, 0.5456872720985608, 0.27271683033151917, 0.3102550475484591, 0.2336590310313189, 0.2550916011867782, 0.26847447610034414, 0.6323476628894826, 0.505063334437412, 0.4967595015711692, 0.4124241048875382, 0.41615189808809994, 0.5101264033897391, 0.6085981388321563, 0.8047301618813466, 0.5993999200848766, 0.5040603431666523, 0.43542558085857963, 0.3407922763188238, 0.2903901198102028, 0.3712108911196841, 0.4716977870554814, 0.5359790593797409, 0.3664152866249115, 0.3777155281169282, 0.3657434052872889, 0.24181251293457307, 0.2625717817929901, 0.5825892880200965, 0.9163177467203528, 0.5792498354034081, 0.6528763945382514, 0.5983369711819218, 0.55155196121409, 0.5099253981035925, 0.4439707570003253, 0.6369520681131908, 0.3319038254580249, 0.2763508231791576, 0.2687338756117984, 0.21431531406092852, 0.25031323827856244, 0.6757742315241664, 0.8391351180989046, 0.3553782830318323, 0.33402517886652006, 0.26221395118940205, 0.22538424499045984, 0.21155693477690674, 0.5646565222597597, 0.6302073449019625, 0.4539436436129458, 0.4265660258914822, 0.3628929842586739, 0.3784778022928972, 0.3312077141190326, 0.584225734536326, 0.6941349812667768, 0.5763483025233913, 0.5646400473607274, 0.644153985173202, 0.6197680686419431, 0.6508636557538635, 0.457780131963089, 0.7999732425648232, 0.9515421173590851, 0.7678623792115893, 0.8295898700633271, 0.774751024447683, 0.812205988174969, 0.637110225906951, 0.7972065432836888, 0.5257930091120442, 0.523317329872719, 0.39838895600502156, 0.4987012215501089, 0.5087064409617863, 0.7549516187258745, 0.8541500551754105, 0.8174729802766588, 0.6744207277194687, 0.6167893195221519, 0.7578151888166265, 0.9035383338441363, 0.6318421583932303, 0.8724009058195207, 0.48655957967374575, 0.4485082639560922, 0.440099345120203, 0.5000583839649172, 0.4242824077482915, 0.7441992293283821, 0.7605981630281682, 0.5144429023178454, 0.5929243757593818, 0.39265983172580954, 0.4842017697834631, 0.38845125903850186, 0.7394217842573972, 0.8494376078470809, 0.6888670680174346, 0.5401187181599625, 0.5537118446056934, 0.6569634134352743, 0.45259318280742455]\n"
          ]
        }
      ]
    },
    {
      "cell_type": "code",
      "source": [
        "#calculate variance and st deviation of accuracy\n",
        "var = sum((l-overallAccuracy)**2 for l in newlist) / len(newlist)\n",
        "st_dev = math.sqrt(var)\n",
        "print(var)\n",
        "print(st_dev)"
      ],
      "metadata": {
        "colab": {
          "base_uri": "https://localhost:8080/"
        },
        "id": "ZijPJi2lTkrT",
        "outputId": "89be6b93-e8e0-41ab-a276-8f2baec063e5"
      },
      "id": "ZijPJi2lTkrT",
      "execution_count": 58,
      "outputs": [
        {
          "output_type": "stream",
          "name": "stdout",
          "text": [
            "0.0300780824053222\n",
            "0.1734303387684006\n"
          ]
        }
      ]
    },
    {
      "cell_type": "code",
      "source": [
        "#calculate median of accuracy\n",
        "accMedian = statistics.median(newlist)\n",
        "print(accMedian)"
      ],
      "metadata": {
        "colab": {
          "base_uri": "https://localhost:8080/"
        },
        "id": "JkBubTMaTmm0",
        "outputId": "831d5162-e134-4648-e0be-c362e7ff8f41"
      },
      "id": "JkBubTMaTmm0",
      "execution_count": 59,
      "outputs": [
        {
          "output_type": "stream",
          "name": "stdout",
          "text": [
            "0.4959091676830135\n"
          ]
        }
      ]
    },
    {
      "cell_type": "code",
      "source": [
        "#Seperate Running Weekly Average plot into 3 plots for the 3 variants: Original, Delta, Omicron\n",
        "\n",
        "# Start Date - May 20th 2021\n",
        "# Delta: May 20th 2021 - December 1st 2021\n",
        "# Omicron: December 1st 2021 - Present"
      ],
      "metadata": {
        "id": "QA5c4LGoTo2Y"
      },
      "id": "QA5c4LGoTo2Y",
      "execution_count": 60,
      "outputs": []
    },
    {
      "cell_type": "code",
      "source": [
        "type(merged_df_new['Date'][1])"
      ],
      "metadata": {
        "colab": {
          "base_uri": "https://localhost:8080/"
        },
        "id": "PWR2ZpCgTr1O",
        "outputId": "bc10bf44-7994-4de4-bd8f-3d9787c921f4"
      },
      "id": "PWR2ZpCgTr1O",
      "execution_count": 61,
      "outputs": [
        {
          "output_type": "execute_result",
          "data": {
            "text/plain": [
              "pandas._libs.tslibs.timestamps.Timestamp"
            ]
          },
          "metadata": {},
          "execution_count": 61
        }
      ]
    },
    {
      "cell_type": "code",
      "source": [
        "merged_df_new.index[merged_df_new['Date']=='2021-09-11'].tolist()"
      ],
      "metadata": {
        "colab": {
          "base_uri": "https://localhost:8080/"
        },
        "id": "2g6bUui0kDv6",
        "outputId": "678837c8-ee21-4999-ff7c-a390d4c94aa8"
      },
      "id": "2g6bUui0kDv6",
      "execution_count": 71,
      "outputs": [
        {
          "output_type": "execute_result",
          "data": {
            "text/plain": [
              "[0]"
            ]
          },
          "metadata": {},
          "execution_count": 71
        }
      ]
    },
    {
      "cell_type": "code",
      "source": [
        "merged_df_new.index[merged_df_new['Date']=='2021-12-01'].tolist()"
      ],
      "metadata": {
        "colab": {
          "base_uri": "https://localhost:8080/"
        },
        "id": "i0f_1AAnkECz",
        "outputId": "606879c6-6917-4ce9-9421-53f9dd6c5bc1"
      },
      "id": "i0f_1AAnkECz",
      "execution_count": 72,
      "outputs": [
        {
          "output_type": "execute_result",
          "data": {
            "text/plain": [
              "[81]"
            ]
          },
          "metadata": {},
          "execution_count": 72
        }
      ]
    },
    {
      "cell_type": "code",
      "source": [
        "#print(merged_inner)\n",
        "deltaVariantDF = merged_df_new[0:81]\n",
        "omicronVariantDF = merged_df_new[81:]"
      ],
      "metadata": {
        "id": "_tncXpS9T0gn"
      },
      "id": "_tncXpS9T0gn",
      "execution_count": 74,
      "outputs": []
    },
    {
      "cell_type": "code",
      "source": [
        "#Create plot of Accuracy\n",
        "\n",
        "#Accuracy Line\n",
        "plt.plot(deltaVariantDF['Date'], deltaVariantDF['Accuracy'], color='r', label='Daily Accuracy')\n",
        "\n",
        "#Create XY Labels and Title\n",
        "plt.xlabel('Date (Year/Month/Day)') \n",
        "plt.ylabel('Percentage') \n",
        "plt.title(\"(Delta covid) Predicted Daily COVID-19 Case Accuracy in PA\")\n",
        "\n",
        "#Display Plot\n",
        "plt.legend()\n",
        "plt.show()"
      ],
      "metadata": {
        "colab": {
          "base_uri": "https://localhost:8080/",
          "height": 295
        },
        "id": "6QjpiX7pT9O9",
        "outputId": "56260619-8ea2-4920-dabf-959cb459252f"
      },
      "id": "6QjpiX7pT9O9",
      "execution_count": 75,
      "outputs": [
        {
          "output_type": "display_data",
          "data": {
            "text/plain": [
              "<Figure size 432x288 with 1 Axes>"
            ],
            "image/png": "[encoded data removed]"
          },
          "metadata": {
            "needs_background": "light"
          }
        }
      ]
    },
    {
      "cell_type": "code",
      "source": [
        "#Create plot of Accuracy\n",
        "\n",
        "#Accuracy Line\n",
        "plt.plot(omicronVariantDF['Date'], omicronVariantDF['Accuracy'], color='r', label='Daily Accuracy')\n",
        "\n",
        "#Create XY Labels and Title\n",
        "plt.xlabel('Date (Year/Month/Day)') \n",
        "plt.ylabel('Percentage') \n",
        "plt.title(\"(Omicron covid) Predicted Daily COVID-19 Case Accuracy in PA\")\n",
        "\n",
        "#Display Plot\n",
        "plt.legend()\n",
        "plt.show()"
      ],
      "metadata": {
        "colab": {
          "base_uri": "https://localhost:8080/",
          "height": 295
        },
        "id": "WBsTUa8JT_c6",
        "outputId": "beea3f72-96a5-41a5-e34f-bd69374f9172"
      },
      "id": "WBsTUa8JT_c6",
      "execution_count": 76,
      "outputs": [
        {
          "output_type": "display_data",
          "data": {
            "text/plain": [
              "<Figure size 432x288 with 1 Axes>"
            ],
            "image/png": "[encoded data removed]"
          },
          "metadata": {
            "needs_background": "light"
          }
        }
      ]
    }
  ],
  "metadata": {
    "kernelspec": {
      "display_name": "Python 3 (ipykernel)",
      "language": "python",
      "name": "python3"
    },
    "language_info": {
      "codemirror_mode": {
        "name": "ipython",
        "version": 3
      },
      "file_extension": ".py",
      "mimetype": "text/x-python",
      "name": "python",
      "nbconvert_exporter": "python",
      "pygments_lexer": "ipython3",
      "version": "3.9.7"
    },
    "colab": {
      "name": "SDSC_ISG-TrendModel-analysis.ipynb",
      "provenance": [],
      "collapsed_sections": []
    }
  },
  "nbformat": 4,
  "nbformat_minor": 5
}